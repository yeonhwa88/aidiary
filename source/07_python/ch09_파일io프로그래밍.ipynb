{
 "cells": [
  {
   "cell_type": "markdown",
   "id": "8f633752",
   "metadata": {},
   "source": [
    "<font color='red' size=\"6\"><b> ch09. 파일 i/o 프로그래밍</b></font>"
   ]
  },
  {
   "cell_type": "markdown",
   "id": "4ab5d898",
   "metadata": {},
   "source": [
    "# 1절. 파일에 데이터 저장하고 불러오기"
   ]
  },
  {
   "cell_type": "code",
   "execution_count": 7,
   "id": "59d43e36",
   "metadata": {},
   "outputs": [
    {
     "name": "stdout",
     "output_type": "stream",
     "text": [
      "True\n"
     ]
    }
   ],
   "source": [
    "# w 또는 wt : 기존의 파일이 있는 경우 덮어쓰기로 쓰기 모드 , 파일이 없는 경우 생성하여 쓰기\n",
    "# a 또는 at : 기존의 파일이 있는 경우 append (끝에 추가), 파일이 없는 경우 생성하여 쓰기\n",
    "#      쓰기 모드는 폴더가 없는 경우 예외발생\n",
    "# r 또는 rt : 기족의 파일을 읽는 경우, 파일이 없는 경우 예외 발생\n",
    "f = open('data/ch09_sample.txt', 'w')\n",
    "print(f.writable())"
   ]
  },
  {
   "cell_type": "code",
   "execution_count": 8,
   "id": "314f7de0",
   "metadata": {},
   "outputs": [],
   "source": [
    "f.write('Hello\\nWorld\\nHello\\nPython\\n') # 한글을 write하면 CP949로 저장 (win)\n",
    "f.close()"
   ]
  },
  {
   "cell_type": "code",
   "execution_count": 13,
   "id": "cfcee2b9",
   "metadata": {},
   "outputs": [
    {
     "name": "stdout",
     "output_type": "stream",
     "text": [
      "쓰기 가능한지 여부 : True\n"
     ]
    }
   ],
   "source": [
    "# with구문으로 파일을 열어 close하는 코드가 불필요\n",
    "with open('data/ch09_sample.txt','wt') as f:\n",
    "    print('쓰기 가능한지 여부 :',f.writable())\n",
    "    f.write('Python is easy\\n Python is smart\\n')"
   ]
  },
  {
   "cell_type": "code",
   "execution_count": 14,
   "id": "ffd7bf19",
   "metadata": {},
   "outputs": [
    {
     "name": "stdout",
     "output_type": "stream",
     "text": [
      "프린트 함수로 파일 쓰기가 가능합니다 - 콘솔출력\n"
     ]
    }
   ],
   "source": [
    "with open('data/ch09_sample.txt', 'at') as f:\n",
    "    print('프린트 함수로 파일 쓰기가 가능합니다 - 콘솔출력')\n",
    "    print('프린트 함수로 파일 쓰기가 가능합니다 - 파일출력', file=f)"
   ]
  },
  {
   "cell_type": "markdown",
   "id": "67b7713f",
   "metadata": {},
   "source": [
    "- euc-kr : 한글완성형 (믜x)\n",
    "- cp949 : 확장된 한글완성형 (믜o) - 엑셀에서\n",
    "- utf-8 : 한글조합형 (초중종성 따로 조합해서 저장) - 주피터노트북에서"
   ]
  },
  {
   "cell_type": "code",
   "execution_count": 19,
   "id": "967732ec",
   "metadata": {},
   "outputs": [],
   "source": [
    "with open('data/ch09_sample.txt','w',encoding='utf-8') as f:\n",
    "    f.write('= 여러 줄의 text를 쓰기 =\\n')\n",
    "    f.write('1방법 : Hello\\nWorld\\n')\n",
    "    textlist = ['홍길동, 30, 서울\\n', '김길동, 20, 안양\\n']\n",
    "    f.write('2방법 : \\n')\n",
    "    for line in textlist:\n",
    "        f.write(line)\n",
    "    f.write('3방법 : \\n')\n",
    "    f.writelines(textlist)"
   ]
  },
  {
   "cell_type": "code",
   "execution_count": 25,
   "id": "dc27a794",
   "metadata": {},
   "outputs": [
    {
     "name": "stdout",
     "output_type": "stream",
     "text": [
      "= 여러 줄의 text를 쓰기 =\n",
      "1방법 : Hello\n",
      "World\n",
      "2방법 : \n",
      "홍길동, 30, 서울\n",
      "김길동, 20, 안양\n",
      "3방법 : \n",
      "홍길동, 30, 서울\n",
      "김길동, 20, 안양\n"
     ]
    }
   ],
   "source": [
    "# 파일을 한줄 읽고 출력, 한줄 읽고 출력, ...\n",
    "with open('data/ch09_sample.txt','r', encoding='utf-8') as f:\n",
    "    line = f.readline() # 한줄 읽기\n",
    "    while line != '':\n",
    "        print(line, end='') # 파일에 \\n이 포함되어서 출력시 개행은 제거\n",
    "        line = f.readline()"
   ]
  },
  {
   "cell_type": "code",
   "execution_count": 27,
   "id": "96430623",
   "metadata": {},
   "outputs": [
    {
     "name": "stdout",
     "output_type": "stream",
     "text": [
      "['= 여러 줄의 text를 쓰기 =\\n', '1방법 : Hello\\n', 'World\\n', '2방법 : \\n', '홍길동, 30, 서울\\n', '김길동, 20, 안양\\n', '3방법 : \\n', '홍길동, 30, 서울\\n', '김길동, 20, 안양\\n']\n"
     ]
    }
   ],
   "source": [
    "# 파일을 한꺼번에 여러줄 읽어 list로 return\n",
    "with open('data/ch09_sample.txt','rt', encoding='utf-8') as f:\n",
    "    lines = f.readlines() # list로 return\n",
    "    print(lines)"
   ]
  },
  {
   "cell_type": "code",
   "execution_count": 28,
   "id": "9dd7744f",
   "metadata": {},
   "outputs": [
    {
     "name": "stdout",
     "output_type": "stream",
     "text": [
      "= 여러 줄의 text를 쓰기 =\n",
      "1방법 : Hello\n",
      "World\n",
      "2방법 : \n",
      "홍길동, 30, 서울\n",
      "김길동, 20, 안양\n",
      "3방법 : \n",
      "홍길동, 30, 서울\n",
      "김길동, 20, 안양\n"
     ]
    }
   ],
   "source": [
    "for line in lines:\n",
    "    print(line, end='')"
   ]
  },
  {
   "cell_type": "markdown",
   "id": "a60732be",
   "metadata": {},
   "source": [
    "# 2절. 피클을 이용한 객체 저장 및 불러오기\n",
    "## 2.1 형식이 있는 텍스트 데이터 불러오기"
   ]
  },
  {
   "cell_type": "code",
   "execution_count": 34,
   "id": "93953ec5",
   "metadata": {},
   "outputs": [
    {
     "name": "stdout",
     "output_type": "stream",
     "text": [
      "이름:홍길동, 나이:20, 메일:kildong@hong.com, 주소:서울시 관악구\n",
      "이름:홍길숙, 나이:25, 메일:kilsuk1@hong.com, 주소:서울시 영등포구\n",
      "이름:신길동, 나이:20, 메일:shinkil@hong.com, 주소:서울시 동작구\n"
     ]
    }
   ],
   "source": [
    "with open('data/ch09_member.txt', 'r', encoding='utf-8') as f:\n",
    "    lines = f.readlines()\n",
    "#     print(lines)\n",
    "for line in lines:\n",
    "#     print(line)\n",
    "    data = line.strip().split(',')\n",
    "    name = data[0]\n",
    "    age = int(data[1].strip()) # strip : 앞뒤 white space 제거\n",
    "    email = data[2].strip()\n",
    "    address = data[3].strip()\n",
    "    print('이름:{}, 나이:{}, 메일:{}, 주소:{}'.format(name, age, email, address))"
   ]
  },
  {
   "cell_type": "code",
   "execution_count": 41,
   "id": "a4e47822",
   "metadata": {},
   "outputs": [],
   "source": [
    "class Member:\n",
    "    def __init__(self, name, age, email, address):\n",
    "        self.name = name\n",
    "        self.age = age\n",
    "        self.email = email\n",
    "        self.address = address\n",
    "    def __str__(self):\n",
    "        return '이름:{}, 나이:{}, 메일:{}, 주소:{}'.format(self.name, self.age, self.email, self.address)\n",
    "    def as_dict(self): # 객체를 딕셔너리로 바꿔 return\n",
    "        return {'name' : self.name,\n",
    "                'age' : self.age,\n",
    "                'email' : self.email,\n",
    "                'address' : self.address}"
   ]
  },
  {
   "cell_type": "code",
   "execution_count": 42,
   "id": "3b3a5f8c",
   "metadata": {},
   "outputs": [
    {
     "name": "stdout",
     "output_type": "stream",
     "text": [
      "이름:홍길동, 나이:22, 메일:hong@hong.com, 주소:서울\n",
      "{'name': '홍길동', 'age': 22, 'email': 'hong@hong.com', 'address': '서울'}\n"
     ]
    }
   ],
   "source": [
    "user = Member('홍길동', 22, 'hong@hong.com', '서울')\n",
    "print(user) # __str__ test\n",
    "print(user.as_dict()) # as_dict test"
   ]
  },
  {
   "cell_type": "code",
   "execution_count": 43,
   "id": "24deee23",
   "metadata": {},
   "outputs": [],
   "source": [
    "# 파일의 내용을 member list나 딕셔너리로 list로 읽기\n",
    "user_list = [] # member list\n",
    "user_dict = [] # 딕셔너리 list\n",
    "with open('data/ch09_member.txt','rt', encoding='utf-8') as f:\n",
    "    lines = f.readlines()\n",
    "    for line in lines:\n",
    "        data = line.strip().split(',')\n",
    "        name = data[0]\n",
    "        age = data[1].strip()\n",
    "        email = data[2].strip()\n",
    "        address = data[3].strip()\n",
    "        user = Member(name, age, email, address)\n",
    "        user_list.append(user)\n",
    "        user_dict.append(user.as_dict())"
   ]
  },
  {
   "cell_type": "code",
   "execution_count": 44,
   "id": "8137e379",
   "metadata": {},
   "outputs": [
    {
     "name": "stdout",
     "output_type": "stream",
     "text": [
      "이름:홍길동, 나이:20, 메일:kildong@hong.com, 주소:서울시 관악구\n",
      "이름:홍길숙, 나이:25, 메일:kilsuk1@hong.com, 주소:서울시 영등포구\n",
      "이름:신길동, 나이:20, 메일:shinkil@hong.com, 주소:서울시 동작구\n"
     ]
    }
   ],
   "source": [
    "# user_list(객체 list)\n",
    "for user in user_list:\n",
    "    print(user)"
   ]
  },
  {
   "cell_type": "code",
   "execution_count": 45,
   "id": "aa0d3ece",
   "metadata": {},
   "outputs": [
    {
     "data": {
      "text/plain": [
       "[{'name': '홍길동',\n",
       "  'age': '20',\n",
       "  'email': 'kildong@hong.com',\n",
       "  'address': '서울시 관악구'},\n",
       " {'name': '홍길숙',\n",
       "  'age': '25',\n",
       "  'email': 'kilsuk1@hong.com',\n",
       "  'address': '서울시 영등포구'},\n",
       " {'name': '신길동',\n",
       "  'age': '20',\n",
       "  'email': 'shinkil@hong.com',\n",
       "  'address': '서울시 동작구'}]"
      ]
     },
     "execution_count": 45,
     "metadata": {},
     "output_type": "execute_result"
    }
   ],
   "source": [
    "# user_dict(딕셔너리 list)\n",
    "user_dict"
   ]
  },
  {
   "cell_type": "markdown",
   "id": "d982fea7",
   "metadata": {},
   "source": [
    "## 2.2 피클링"
   ]
  },
  {
   "cell_type": "code",
   "execution_count": 58,
   "id": "6b9d392f",
   "metadata": {},
   "outputs": [
    {
     "name": "stdout",
     "output_type": "stream",
     "text": [
      "True\n",
      "True\n"
     ]
    }
   ],
   "source": [
    "class Member:\n",
    "    def __init__(self, name, age, email, address):\n",
    "        self.name = name\n",
    "        self.age = age\n",
    "        self.email = email\n",
    "        self.address = address\n",
    "    def __str__(self):\n",
    "        return '이름:{}, 나이:{}, 메일:{}, 주소:{}'.format(self.name, self.age, self.email, self.address)\n",
    "    def __eq__(self, other):\n",
    "        '''\n",
    "        user1.__eq__(user2) 호출시 user1의 속성변수들과 user2의 속성변수들이 모두 같은지 여부 return\n",
    "        '''\n",
    "        if isinstance(other, Member): # other가 Member의 타입인지 확인\n",
    "            return self.name == other.name \\\n",
    "                and self.age == other.age \\\n",
    "              and self.email == other.email \\\n",
    "            and self.address == other.address \n",
    "        else :\n",
    "            return False\n",
    "    def as_dict(self): # 객체를 딕셔너리로 바꿔 return\n",
    "        return {'name' : self.name,\n",
    "                'age' : self.age,\n",
    "                'email' : self.email,\n",
    "                'address' : self.address}\n",
    "user1 = Member('홍길동', 20, 'h@h.com', '서울')\n",
    "user2 = Member('홍길동', 20, 'h@h.com', '서울')\n",
    "print(user1.__eq__(user2))\n",
    "print(user1 == user2)"
   ]
  },
  {
   "cell_type": "code",
   "execution_count": 59,
   "id": "a9b22571",
   "metadata": {},
   "outputs": [],
   "source": [
    "user1 = Member('홍길동', 20, 'h@h.com', '서울')\n",
    "user2 = Member('김길동', 25, 'k@h.com', '인천')\n",
    "user3 = Member('신길동', 30, 's@h.com', '포천')\n",
    "user_list = [user1, user2, user3]"
   ]
  },
  {
   "cell_type": "code",
   "execution_count": 60,
   "id": "5a55e67e",
   "metadata": {},
   "outputs": [
    {
     "name": "stdout",
     "output_type": "stream",
     "text": [
      "이름:홍길동, 나이:20, 메일:h@h.com, 주소:서울\n",
      "이름:김길동, 나이:25, 메일:k@h.com, 주소:인천\n",
      "이름:신길동, 나이:30, 메일:s@h.com, 주소:포천\n"
     ]
    }
   ],
   "source": [
    "for user in user_list:\n",
    "    print(user)"
   ]
  },
  {
   "cell_type": "code",
   "execution_count": 62,
   "id": "f47b01d7",
   "metadata": {},
   "outputs": [],
   "source": [
    "# 피클링을 이용한 객체를 파일에 저장하기\n",
    "import pickle\n",
    "with open('data/ch09_member.data', 'wb') as f: # 쓰기는 wb\n",
    "    pickle.dump(user_list, f)"
   ]
  },
  {
   "cell_type": "code",
   "execution_count": 63,
   "id": "849a8066",
   "metadata": {},
   "outputs": [],
   "source": [
    "del user1, user2, user3"
   ]
  },
  {
   "cell_type": "code",
   "execution_count": 65,
   "id": "bf30f07b",
   "metadata": {},
   "outputs": [],
   "source": [
    "# 피클링을 이용한 파일에서 객체 데이터 읽기\n",
    "with open('data/ch09_member.data', 'rb') as f: # 읽기는 rb\n",
    "    load_user_list = pickle.load(f)"
   ]
  },
  {
   "cell_type": "code",
   "execution_count": 66,
   "id": "84a4779c",
   "metadata": {},
   "outputs": [
    {
     "name": "stdout",
     "output_type": "stream",
     "text": [
      "이름:홍길동, 나이:20, 메일:h@h.com, 주소:서울\n",
      "이름:김길동, 나이:25, 메일:k@h.com, 주소:인천\n",
      "이름:신길동, 나이:30, 메일:s@h.com, 주소:포천\n"
     ]
    }
   ],
   "source": [
    "for user in load_user_list:\n",
    "    print(user)"
   ]
  },
  {
   "cell_type": "code",
   "execution_count": 68,
   "id": "8a749351",
   "metadata": {},
   "outputs": [
    {
     "data": {
      "text/plain": [
       "[True, True, True]"
      ]
     },
     "execution_count": 68,
     "metadata": {},
     "output_type": "execute_result"
    }
   ],
   "source": [
    "# user_list와 load_user_list가 모두 같은지 여부\n",
    "result = []\n",
    "for idx in range(len(user_list)):\n",
    "    result.append(user_list[idx]==load_user_list[idx])\n",
    "result"
   ]
  },
  {
   "cell_type": "code",
   "execution_count": 69,
   "id": "18c38141",
   "metadata": {},
   "outputs": [
    {
     "data": {
      "text/plain": [
       "True"
      ]
     },
     "execution_count": 69,
     "metadata": {},
     "output_type": "execute_result"
    }
   ],
   "source": [
    "all(result) # 모든요소들이  True 인지 여부"
   ]
  },
  {
   "cell_type": "markdown",
   "id": "a1bc89ad",
   "metadata": {},
   "source": [
    "# 3절. csv 형식 파일 읽기/쓰기\n",
    "- csv 파일의 자료를 리스트 리스트 데이터로 읽기 3.1/ 3.2 방법\n",
    "- csv 파일을 딕셔너리 데이터로 읽기 3.3/ 3.4 방법\n",
    "## 3.1 reader"
   ]
  },
  {
   "cell_type": "code",
   "execution_count": 74,
   "id": "b05224a8",
   "metadata": {},
   "outputs": [
    {
     "name": "stdout",
     "output_type": "stream",
     "text": [
      "[\"'홍길동'\", '20', \"'kildong@hong.com'\", \"'서울시 관악구'\"]\n",
      "[\"'김길동'\", '40', \"'kimdong@hong.com'\", \"'서울시 영등포구'\"]\n",
      "[\"'신길동'\", '30', \"'sindong@hong.com'\", \"'서울시 동작구'\"]\n"
     ]
    }
   ],
   "source": [
    "# utf-8로 인코딩된 csv파일 읽기\n",
    "import csv\n",
    "with open('data/ch09_member1.csv', 'r', encoding = 'UTF-8') as f:\n",
    "    reader = csv.reader(f)\n",
    "    # print(list(reader)) \n",
    "    for row in reader :\n",
    "        print(row)"
   ]
  },
  {
   "cell_type": "code",
   "execution_count": 79,
   "id": "4ca095d6",
   "metadata": {},
   "outputs": [
    {
     "name": "stdout",
     "output_type": "stream",
     "text": [
      "홍길동 - 20 - kildong@hong.com - 서울시 관악구\n",
      "김길동 - 40 - kimdong@hong.com - 서울시 영등포구 - 팀장\n",
      "신길동 - 30 - sindong@hong.com - 서울시 동작구\n"
     ]
    }
   ],
   "source": [
    "# CP949로 인코딩된 csv 파일 read\n",
    "with open('data/ch09_member1-cp.csv') as f:\n",
    "    reader = csv.reader(f)\n",
    "    result = list(reader)\n",
    "#print(result)\n",
    "for row in result:\n",
    "    print(' - '.join(row))"
   ]
  },
  {
   "cell_type": "code",
   "execution_count": 88,
   "id": "4fa5acd4",
   "metadata": {},
   "outputs": [
    {
     "name": "stdout",
     "output_type": "stream",
     "text": [
      "['홍길동', 20.0, 'kildong@hong.com', '서울시 관악구']\n",
      "['김길동', 40.0, 'kimdong@hong.com', '서울시 영등포구']\n",
      "['신길동', 30.0, 'sindong@hong.com', '서울시 동작구']\n"
     ]
    }
   ],
   "source": [
    "# ''(따옴표)가 없는 데이터는 numeric(숫자 (정수나 실수))으로 \n",
    "with open('data/ch09_member1.csv', encoding='utf-8') as f:\n",
    "    reader = csv.reader(f, quotechar=\"'\", quoting=csv.QUOTE_NONNUMERIC)\n",
    "    for row in reader:\n",
    "        print(row)"
   ]
  },
  {
   "cell_type": "code",
   "execution_count": 89,
   "id": "549374e6",
   "metadata": {},
   "outputs": [
    {
     "name": "stdout",
     "output_type": "stream",
     "text": [
      "파일에서 읽어온 딕셔너리 리스트\n",
      "[{'name': '홍길동', 'age': 20.0, 'email': 'kildong@hong.com', 'address': '서울시 관악구'}, {'name': '김길동', 'age': 40.0, 'email': 'kimdong@hong.com', 'address': '서울시 영등포구'}, {'name': '신길동', 'age': 30.0, 'email': 'sindong@hong.com', 'address': '서울시 동작구'}]\n"
     ]
    }
   ],
   "source": [
    "# csv 파일의 내용을 딕셔너리 리스트로 가져오기\n",
    "user_dict= []\n",
    "with open('data/ch09_member1.csv', encoding='utf-8') as f:\n",
    "    reader = csv.reader(f, quotechar=\"'\", quoting=csv.QUOTE_NONNUMERIC)\n",
    "    for row in reader:\n",
    "        user_dict.append({'name' : row[0],\n",
    "                          'age' : row[1],\n",
    "                         'email' : row[2],\n",
    "                         'address' : row[3]})\n",
    "print('파일에서 읽어온 딕셔너리 리스트')\n",
    "print(user_dict)"
   ]
  },
  {
   "cell_type": "markdown",
   "id": "5a6f026d",
   "metadata": {},
   "source": [
    "## 3.2 writer"
   ]
  },
  {
   "cell_type": "code",
   "execution_count": 90,
   "id": "22b416e2",
   "metadata": {},
   "outputs": [],
   "source": [
    "user_list=[['홍길동',20,'hong@hong.com', '서울'],\n",
    "           ['신길동',30,'shin@hong.com', '인천'],]"
   ]
  },
  {
   "cell_type": "code",
   "execution_count": 92,
   "id": "f916d05a",
   "metadata": {},
   "outputs": [],
   "source": [
    "# newline='' 옵션을 빼면 개행 2번\n",
    "try:\n",
    "    with open('data/ch09_member2-writer-cp.csv', 'w', newline='') as f:\n",
    "        writer = csv.writer(f)\n",
    "        for user in user_list:\n",
    "            writer.writerow(user)\n",
    "except FileNotFoundError as e:\n",
    "    print(e)"
   ]
  },
  {
   "cell_type": "code",
   "execution_count": 96,
   "id": "8f1dbb0e",
   "metadata": {},
   "outputs": [],
   "source": [
    "with open('data/ch09_member2-writer.csv', 'w', encoding='utf-8', newline='') as f:\n",
    "    writer = csv.writer(f, quoting=csv.QUOTE_NONNUMERIC)\n",
    "    writer.writerows(user_list)"
   ]
  },
  {
   "cell_type": "markdown",
   "id": "7c17e7e9",
   "metadata": {},
   "source": [
    "## 3.3 DictReader\n",
    "- csv파일의 자료를 딕셔너리 데이터 읽기"
   ]
  },
  {
   "cell_type": "code",
   "execution_count": 100,
   "id": "af8a791c",
   "metadata": {},
   "outputs": [
    {
     "name": "stdout",
     "output_type": "stream",
     "text": [
      "홍길동 20 h@h.com 서울시 관악구\n",
      "신길동 25 s@h.com 서울시 영등포구 팀장\n",
      "김길동 30 k@h.com 서울시 동작구\n"
     ]
    }
   ],
   "source": [
    "# header가 있는 csv파일을 딕셔너리로 읽기(ch09_member3.csv)(header있는파일)\n",
    "with open('data/ch09_member3.csv','r',encoding='utf-8') as f: # encoding = cp949 기본\n",
    "    dict_reader = csv.DictReader(f)\n",
    "#     print(list(dict_reader))\n",
    "    for row in dict_reader:\n",
    "        if row['job'] is None:\n",
    "            print(row['name'], row['age'], row['email'], row['address'])\n",
    "        else :\n",
    "            print(row['name'], row['age'], row['email'], row['address'], row['job'])"
   ]
  },
  {
   "cell_type": "code",
   "execution_count": 101,
   "id": "9f47e39f",
   "metadata": {},
   "outputs": [
    {
     "data": {
      "text/html": [
       "<div>\n",
       "<style scoped>\n",
       "    .dataframe tbody tr th:only-of-type {\n",
       "        vertical-align: middle;\n",
       "    }\n",
       "\n",
       "    .dataframe tbody tr th {\n",
       "        vertical-align: top;\n",
       "    }\n",
       "\n",
       "    .dataframe thead th {\n",
       "        text-align: right;\n",
       "    }\n",
       "</style>\n",
       "<table border=\"1\" class=\"dataframe\">\n",
       "  <thead>\n",
       "    <tr style=\"text-align: right;\">\n",
       "      <th></th>\n",
       "      <th>name</th>\n",
       "      <th>age</th>\n",
       "      <th>email</th>\n",
       "      <th>address</th>\n",
       "      <th>job</th>\n",
       "    </tr>\n",
       "  </thead>\n",
       "  <tbody>\n",
       "    <tr>\n",
       "      <th>0</th>\n",
       "      <td>홍길동</td>\n",
       "      <td>20</td>\n",
       "      <td>h@h.com</td>\n",
       "      <td>서울시 관악구</td>\n",
       "      <td>NaN</td>\n",
       "    </tr>\n",
       "    <tr>\n",
       "      <th>1</th>\n",
       "      <td>신길동</td>\n",
       "      <td>25</td>\n",
       "      <td>s@h.com</td>\n",
       "      <td>서울시 영등포구</td>\n",
       "      <td>팀장</td>\n",
       "    </tr>\n",
       "    <tr>\n",
       "      <th>2</th>\n",
       "      <td>김길동</td>\n",
       "      <td>30</td>\n",
       "      <td>k@h.com</td>\n",
       "      <td>서울시 동작구</td>\n",
       "      <td>NaN</td>\n",
       "    </tr>\n",
       "  </tbody>\n",
       "</table>\n",
       "</div>"
      ],
      "text/plain": [
       "  name  age    email   address  job\n",
       "0  홍길동   20  h@h.com   서울시 관악구  NaN\n",
       "1  신길동   25  s@h.com  서울시 영등포구   팀장\n",
       "2  김길동   30  k@h.com   서울시 동작구  NaN"
      ]
     },
     "execution_count": 101,
     "metadata": {},
     "output_type": "execute_result"
    }
   ],
   "source": [
    "# cf. csv파일을 데이터프레임으로 \n",
    "import pandas as pd\n",
    "member = pd.read_csv('data/ch09_member3.csv', encoding='utf-8') # encoding = 'utf-8'이 기본\n",
    "member"
   ]
  },
  {
   "cell_type": "code",
   "execution_count": 102,
   "id": "d3ecd7eb",
   "metadata": {},
   "outputs": [
    {
     "data": {
      "text/plain": [
       "pandas.core.frame.DataFrame"
      ]
     },
     "execution_count": 102,
     "metadata": {},
     "output_type": "execute_result"
    }
   ],
   "source": [
    "type(member)"
   ]
  },
  {
   "cell_type": "code",
   "execution_count": 106,
   "id": "75bd51a5",
   "metadata": {},
   "outputs": [
    {
     "name": "stdout",
     "output_type": "stream",
     "text": [
      "홍길동 20 kildong@hong.com 서울시 관악구\n",
      "김길동 40 kimdong@hong.com 서울시 영등포구\n",
      "신길동 30 sindong@hong.com 서울시 동작구\n"
     ]
    }
   ],
   "source": [
    "# header가 없는 csv파일을 딕셔너리로 읽기(ch09_member1-cp.csv)\n",
    "with open('data/ch09_member1-cp.csv', encoding='cp949') as f:\n",
    "    dict_reader = csv.DictReader(f, fieldnames=['Name','Age','Email','Address']) # header에 Job없으면 무시되고 가져오지않음 \n",
    "    for row in dict_reader:\n",
    "#         print(row)\n",
    "        print(row['Name'],row['Age'],row['Email'],row['Address'])"
   ]
  },
  {
   "cell_type": "code",
   "execution_count": 109,
   "id": "6fa83270",
   "metadata": {},
   "outputs": [
    {
     "name": "stdout",
     "output_type": "stream",
     "text": [
      "{'Name': '홍길동', 'Age': '20', 'Email': 'kildong@hong.com', 'Address': '서울시 관악구', 'Job': ''}\n",
      "{'Name': '김길동', 'Age': '40', 'Email': 'kimdong@hong.com', 'Address': '서울시 영등포구', 'Job': '팀장'}\n",
      "{'Name': '신길동', 'Age': '30', 'Email': 'sindong@hong.com', 'Address': '서울시 동작구', 'Job': ''}\n"
     ]
    }
   ],
   "source": [
    "# header가 없는 csv파일을 딕셔너리로 읽기(ch09_member1-cp.csv)\n",
    "with open('data/ch09_member1-cp.csv', encoding='cp949') as f:\n",
    "    dict_reader = csv.DictReader(f, fieldnames=['Name','Age','Email','Address','Job'])\n",
    "    for row in dict_reader:\n",
    "        print(row)\n",
    "#         print(row['Name'], row['Age'], row['Email'], row['Address'], row['Job'])"
   ]
  },
  {
   "cell_type": "code",
   "execution_count": 112,
   "id": "e6be22ec",
   "metadata": {},
   "outputs": [
    {
     "name": "stdout",
     "output_type": "stream",
     "text": [
      "홍길동 20 kildong@hong.com 서울시 관악구\n",
      "김길동 40 kimdong@hong.com 서울시 영등포구 팀장\n",
      "신길동 30 sindong@hong.com 서울시 동작구\n"
     ]
    }
   ],
   "source": [
    "# header가 없는 csv파일을 딕셔너리로 읽기(ch09_member1-cp.csv)\n",
    "with open('data/ch09_member1-cp.csv', encoding='cp949') as f:\n",
    "    dict_reader = csv.DictReader(f, fieldnames=['Name','Age','Email','Address'], restkey='Job')\n",
    "    for row in dict_reader:\n",
    "#         print(row)\n",
    "        if row['Job'][0] =='':\n",
    "            print(row['Name'], row['Age'], row['Email'], row['Address'])\n",
    "        else :\n",
    "            print(row['Name'], row['Age'], row['Email'], row['Address'], row['Job'][0])"
   ]
  },
  {
   "cell_type": "code",
   "execution_count": 116,
   "id": "36126ab1",
   "metadata": {},
   "outputs": [
    {
     "data": {
      "text/plain": [
       "[{'Name': '홍길동',\n",
       "  'Age': '20',\n",
       "  'Email': 'kildong@hong.com',\n",
       "  'Address': '서울시 관악구',\n",
       "  'Job': ''},\n",
       " {'Name': '김길동',\n",
       "  'Age': '40',\n",
       "  'Email': 'kimdong@hong.com',\n",
       "  'Address': '서울시 영등포구',\n",
       "  'Job': '팀장'},\n",
       " {'Name': '신길동',\n",
       "  'Age': '30',\n",
       "  'Email': 'sindong@hong.com',\n",
       "  'Address': '서울시 동작구',\n",
       "  'Job': ''}]"
      ]
     },
     "execution_count": 116,
     "metadata": {},
     "output_type": "execute_result"
    }
   ],
   "source": [
    "# ch09_member1-cp.csv의 내용을 딕셔너리 list로 받아 보세요 \n",
    "userlist = [] # 딕셔너리 list\n",
    "# 파일의 내용을 userlist에 담기\n",
    "with open('data/ch09_member1-cp.csv') as f:\n",
    "    dict_reader = csv.DictReader(f, fieldnames=['Name','Age','Email','Address','Job'])\n",
    "    for row in dict_reader:\n",
    "        userlist.append(row)\n",
    "userlist"
   ]
  },
  {
   "cell_type": "markdown",
   "id": "547e74fc",
   "metadata": {},
   "source": [
    "## 3.4 DictWriter\n",
    "- 딕셔너리 리스트를 csv파일로 쓰기"
   ]
  },
  {
   "cell_type": "code",
   "execution_count": 120,
   "id": "6a787e95",
   "metadata": {},
   "outputs": [
    {
     "name": "stdout",
     "output_type": "stream",
     "text": [
      "['Name', 'Age', 'Email', 'Address']\n"
     ]
    }
   ],
   "source": [
    "user1 = {'Name': '홍길동',\n",
    "         'Age': 20,\n",
    "         'Email': 'h@hong.com',\n",
    "         'Address': '서울'}\n",
    "user2 = {'Name': '신길동',\n",
    "         'Age': 25,\n",
    "         'Email': 's@hong.com',\n",
    "         'Address': '부산'}\n",
    "user3 = {'Name': '김길동',\n",
    "         'Age': 35,\n",
    "         'Email': 'k@hong.com',\n",
    "         'Address': '인천'}\n",
    "user_list = [user1, user2, user3]\n",
    "fieldnames = list(user1.keys())\n",
    "print(fieldnames)"
   ]
  },
  {
   "cell_type": "markdown",
   "id": "0790896c",
   "metadata": {},
   "source": [
    "```\n",
    "csv 파일내용 \n",
    "name,age,email,address\n",
    "홍길동,20,h@hong.com,서울\n",
    "```"
   ]
  },
  {
   "cell_type": "code",
   "execution_count": 129,
   "id": "0c48321c",
   "metadata": {},
   "outputs": [],
   "source": [
    "with open('data/ch09_member4.csv','a',encoding='utf-8', newline='') as f:\n",
    "    dict_writer = csv.DictWriter(f, fieldnames=fieldnames) # fieldnames=fieldnames dict_writer.writeheader() header사용시에\n",
    "#     dict_writer.writeheader() # header 한줄 쓰기\n",
    "#     for user in user_list:\n",
    "#         dict_writer.writerow(user)\n",
    "    dict_writer.writerows(user_list)"
   ]
  },
  {
   "cell_type": "markdown",
   "id": "854350d6",
   "metadata": {},
   "source": [
    "# 4절. JSON 파일에 저장하고 불러오기(dump, load)\n",
    "## 4.1 JSON jump(파일에 저장)"
   ]
  },
  {
   "cell_type": "code",
   "execution_count": null,
   "id": "ede0990c",
   "metadata": {},
   "outputs": [],
   "source": []
  }
 ],
 "metadata": {
  "kernelspec": {
   "display_name": "Python 3 (ipykernel)",
   "language": "python",
   "name": "python3"
  },
  "language_info": {
   "codemirror_mode": {
    "name": "ipython",
    "version": 3
   },
   "file_extension": ".py",
   "mimetype": "text/x-python",
   "name": "python",
   "nbconvert_exporter": "python",
   "pygments_lexer": "ipython3",
   "version": "3.10.9"
  },
  "toc": {
   "base_numbering": 1,
   "nav_menu": {},
   "number_sections": true,
   "sideBar": true,
   "skip_h1_title": false,
   "title_cell": "Table of Contents",
   "title_sidebar": "Contents",
   "toc_cell": false,
   "toc_position": {
    "height": "calc(100% - 180px)",
    "left": "10px",
    "top": "150px",
    "width": "322px"
   },
   "toc_section_display": true,
   "toc_window_display": true
  }
 },
 "nbformat": 4,
 "nbformat_minor": 5
}
