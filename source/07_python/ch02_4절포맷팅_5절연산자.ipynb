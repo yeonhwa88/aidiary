{
 "cells": [
  {
   "cell_type": "markdown",
   "id": "65ad8743",
   "metadata": {},
   "source": [
    "   <b><font size=\"6\" color=\"red\">ch02. 자료형과 연산자</font></b>"
   ]
  },
  {
   "cell_type": "markdown",
   "id": "cf560442",
   "metadata": {},
   "source": [
    "# 4절. 포맷팅\n",
    "    - 포맷팅이란, 출력할 문자, 숫자, 날짜 데이터에 형식을 지정하는 것\n",
    "    - 변수와 텍스트를 결합해서 보기 좋은 형식의 새로운 텍스트를 만들 수도 있음"
   ]
  },
  {
   "cell_type": "markdown",
   "id": "37d8e779",
   "metadata": {},
   "source": [
    "## 4.1 문자열에 형식 지정"
   ]
  },
  {
   "cell_type": "code",
   "execution_count": 3,
   "id": "7918707a",
   "metadata": {},
   "outputs": [
    {
     "name": "stdout",
     "output_type": "stream",
     "text": [
      "홍길동님의 나이는 30살입니다\n"
     ]
    }
   ],
   "source": [
    "name = '홍길동'\n",
    "age = 30\n",
    "print(name, '님의 나이는 ', age, '살입니다', sep='')"
   ]
  },
  {
   "cell_type": "code",
   "execution_count": 8,
   "id": "70ee3721",
   "metadata": {},
   "outputs": [
    {
     "name": "stdout",
     "output_type": "stream",
     "text": [
      "홍길동님의 나이는 30살입니다\n",
      "홍길동님의 나이는 30살입니다\n"
     ]
    }
   ],
   "source": [
    "# %s 문자, %d 10진수정수, %f 실수\n",
    "print('%s님의 나이는 %d살입니다'%(name, age))\n",
    "print(f'{name}님의 나이는 {age}살입니다')"
   ]
  },
  {
   "cell_type": "code",
   "execution_count": 12,
   "id": "0daaf330",
   "metadata": {},
   "outputs": [
    {
     "name": "stdout",
     "output_type": "stream",
     "text": [
      "홍길동님의 나이는 30살입니다\n",
      "홍길동님의 나이는 30살입니다\n",
      "30살 홍길동님 반갑습니다. 홍길동님 어서오세요\n"
     ]
    }
   ],
   "source": [
    "print(\"{}님의 나이는 {}살입니다\".format(name, age))\n",
    "print(\"{0}님의 나이는 {1}살입니다\".format(name, age))\n",
    "print(\"{1}살 {0}님 반갑습니다. {0}님 어서오세요\".format(name, age))"
   ]
  },
  {
   "cell_type": "markdown",
   "id": "ef9a0c7a",
   "metadata": {},
   "source": [
    "## 4.2 format() 문법"
   ]
  },
  {
   "cell_type": "code",
   "execution_count": 1,
   "id": "dccbddfc",
   "metadata": {},
   "outputs": [],
   "source": [
    "# \"{[인덱스]:[공백대체문자][정렬방법][자릿수][타입]}\".format(변수명)\n",
    "\n",
    "    # 인덱스 : format 함수안의 매개변수의 순서\n",
    "    # 정렬방법 : < : 왼쪽정렬, > : 오른쪽정렬, ^ : 가운데정렬\n",
    "    # 정수자릿수 : 출력할 자릿수를 지정. 변수내용 보다 작은 자릿수가 지정되면 자릿수 지정 무시\n",
    "    # 실수자릿수 : 전체출력자리수.변수정에출력할자리수\n",
    "    # 타입 : d(10진수), o(8진수), b(2진수), x(16진수), f(실수), s(문자)"
   ]
  },
  {
   "cell_type": "code",
   "execution_count": 5,
   "id": "4838dc21",
   "metadata": {},
   "outputs": [
    {
     "name": "stdout",
     "output_type": "stream",
     "text": [
      "이름은?홍길동\n",
      "나이는?30\n",
      "30살 홍길동님 안녕하세요\n",
      "*30**살 ___홍길동____님 안녕하세요\n"
     ]
    }
   ],
   "source": [
    "name = input('이름은?')\n",
    "age = int(input('나이는?'))\n",
    "print('{}살 {}님 안녕하세요'.format(age, name))\n",
    "#공백대체문자를 쓸 경우 정렬방식을 기입\n",
    "print('{0:*^5d}살 {1:_^10}님 안녕하세요'.format(age, name))"
   ]
  },
  {
   "cell_type": "code",
   "execution_count": 2,
   "id": "4d11334e",
   "metadata": {},
   "outputs": [
    {
     "name": "stdout",
     "output_type": "stream",
     "text": [
      "[12345], [     12345], [12345]\n",
      "[Hello], [Hello     ], [Hello]\n"
     ]
    }
   ],
   "source": [
    "a = 12345 # 숫자의 경우 기본값이 오른쪽 정렬\n",
    "s = 'Hello' # 문자의 경우 기본값이 왼쪽 정렬\n",
    "# 변수보다 작은 자리수를 지정하면 자릿수가 무시되고 출력 (정수 자릿수)\n",
    "print(\"[{}], [{:10}], [{:3}]\".format(a,a,a))\n",
    "print(\"[{0}], [{0:10}], [{0:3}]\".format(s)) #인덱스를 전부 썻기때문에 변수 하나만 작성해도 가능"
   ]
  },
  {
   "cell_type": "code",
   "execution_count": 3,
   "id": "19a19d35",
   "metadata": {},
   "outputs": [
    {
     "name": "stdout",
     "output_type": "stream",
     "text": [
      "[10  ], [ 20 ], [ 3  ]\n"
     ]
    }
   ],
   "source": [
    "# 정렬방법 : < ^ >\n",
    "a, b, c = 10, 20, 3\n",
    "print(\"[{:<4}], [{:^4}], [{:^4}]\".format(a, b, c))"
   ]
  },
  {
   "cell_type": "code",
   "execution_count": 4,
   "id": "f3af6d66",
   "metadata": {},
   "outputs": [
    {
     "name": "stdout",
     "output_type": "stream",
     "text": [
      "[$$$$$$$$10], [     10.00], [     123.6], [He        ]\n"
     ]
    }
   ],
   "source": [
    "# 실수자릿수\n",
    "a = 10\n",
    "f = 123.56\n",
    "s = 'Hello'\n",
    "print('[{0:$>10}], [{0:10.2f}], [{1:10.1f}], [{2:10.2}]'.format(a, f, s)) # .2f 소숫점 2자리 생성\n",
    "                                                # 2번 매개변수를 10자리 출력 변수의 2자리만 출력\""
   ]
  },
  {
   "cell_type": "code",
   "execution_count": 5,
   "id": "cf382d9b",
   "metadata": {},
   "outputs": [
    {
     "name": "stdout",
     "output_type": "stream",
     "text": [
      "[$$$$$$$$10]\n"
     ]
    }
   ],
   "source": [
    "# 공백대체문자를 쓸 경우 반드시 정렬방식을 표현\n",
    "print (\"[{:$>10}]\".format(a))\n",
    "# print(\"{{:$10}}\".format(a)) 에러남"
   ]
  },
  {
   "cell_type": "code",
   "execution_count": 18,
   "id": "d9b9b960",
   "metadata": {},
   "outputs": [
    {
     "name": "stdout",
     "output_type": "stream",
     "text": [
      "[      -123], [      +123], [+      123]\n",
      "[      -123], [       123], [+      123]\n",
      "[      -123], [      +123], [-      123], [+      123]\n",
      "[-000000123], [+000000123], [0000000123]\n",
      "[-★★★★★★123], [+☆☆☆☆☆☆123], [○○○123○○○○]\n"
     ]
    }
   ],
   "source": [
    "# 자리수앞에 +를 붙이면 양수의 경우도 부호를 붙여줌\n",
    "# 자리수앞에 =을 붙이면 부호가 자릿수 맨 앞에 표시(음수의 경우)\n",
    "# 자리수앞에 =+을 붙이면 부호가 자릿수 맨 앞에 표시(음수의 경우)\n",
    "# 자리수앞에 0을 채우면 빈자리에 0을 채움\n",
    "# 공백대체문자를 슬 경우 자리수 앞의 0을 무시\n",
    "a, b = 123, -123\n",
    "print(\"[{:+10}], [{:+10}], [{:=+10}]\".format(b, a, a))\n",
    "print(\"[{:+10}], [{:=10}], [{:=+10}]\".format(b, a, a))\n",
    "print(\"[{:+10}], [{:+10}], [{:=+10}], [{:=+10}]\".format(b, a, b, a))\n",
    "print(\"[{:=+010}], [{:=+010}], [{:010}]\".format(b, a, a))\n",
    "print(\"[{:★=+010}], [{:☆=+010}], [{:○^010}]\".format(b, a, a)) #대체문자사용시 정렬방법은 사용해야하지만 =들어가면 안적어도 가능"
   ]
  },
  {
   "cell_type": "code",
   "execution_count": 3,
   "id": "b3190eeb",
   "metadata": {},
   "outputs": [
    {
     "name": "stdout",
     "output_type": "stream",
     "text": [
      "a = [       2.8]\n",
      "s = [He        ]\n"
     ]
    }
   ],
   "source": [
    "# 전체자리수. 표현될자리수\n",
    "a = 2.758\n",
    "s = 'Hello'\n",
    "print(\"a = [{:10.2}]\".format(a)) # 반올림 10.2는 2자리만 표현\n",
    "print(\"s = [{:10.2}]\".format(s))"
   ]
  },
  {
   "cell_type": "code",
   "execution_count": 5,
   "id": "204226ba",
   "metadata": {},
   "outputs": [
    {
     "name": "stdout",
     "output_type": "stream",
     "text": [
      "a = [      2.76]\n"
     ]
    }
   ],
   "source": [
    "# 전체자리수. 표현될자리수f\n",
    "print(\"a = [{:10.2f}]\".format(a)) # 소숫점이 10.2f는 2자리 표현 "
   ]
  },
  {
   "cell_type": "code",
   "execution_count": 6,
   "id": "6a91d6de",
   "metadata": {},
   "outputs": [
    {
     "name": "stdout",
     "output_type": "stream",
     "text": [
      "10진수 : [   15]\n",
      "16진수 : [    f]\n",
      "8진수 : [   17]\n",
      "2진수 : [ 1111]\n"
     ]
    }
   ],
   "source": [
    "# 10진수, 8진수, 16진수, 2진수 출력\n",
    "a = 15\n",
    "print(\"10진수 : [{:5d}]\".format(a))\n",
    "print(\"16진수 : [{:5x}]\".format(a))\n",
    "print(\"8진수 : [{:5o}]\".format(a))\n",
    "print(\"2진수 : [{:5b}]\".format(a))"
   ]
  },
  {
   "cell_type": "code",
   "execution_count": 4,
   "id": "26d25928",
   "metadata": {},
   "outputs": [
    {
     "name": "stdout",
     "output_type": "stream",
     "text": [
      "[     +2.79]\n"
     ]
    }
   ],
   "source": [
    "a = 2.785\n",
    "print(\"[{:+10.3}]\".format(a))"
   ]
  },
  {
   "cell_type": "code",
   "execution_count": 11,
   "id": "a505ee04",
   "metadata": {},
   "outputs": [
    {
     "name": "stdout",
     "output_type": "stream",
     "text": [
      "[    +2.785]\n",
      "[    +2.785]\n"
     ]
    }
   ],
   "source": [
    "sign = '+'\n",
    "width = 10\n",
    "precision = 4\n",
    "print(\"[{:{sign}{width}.{precision}}]\".format(a, sign=sign, width=width, precision=precision))\n",
    "print(\"[{:{}{}.{}}]\".format(a, sign, width, percision))"
   ]
  },
  {
   "cell_type": "markdown",
   "id": "de355777",
   "metadata": {},
   "source": [
    "## 4.3 날짜출력"
   ]
  },
  {
   "cell_type": "code",
   "execution_count": 2,
   "id": "4c508784",
   "metadata": {},
   "outputs": [
    {
     "data": {
      "text/plain": [
       "datetime.datetime(2024, 11, 5, 14, 42)"
      ]
     },
     "execution_count": 2,
     "metadata": {},
     "output_type": "execute_result"
    }
   ],
   "source": [
    "# format 이용\n",
    "# from 모듈 import 함수나 변수\n",
    "# from 패키지(폴더) import 모듈(파이썬 파일)\n",
    "# datetime 모듈(파이썬 파일 : datetime.py)안에 datetime이라는 함수 가져오기\n",
    "from datetime import datetime\n",
    "thatday = datetime(2024, 11, 5) # 24년 11월 4일 0시 0분 0초\n",
    "thatday = datetime(2024, 11, 5, 14, 42) # 24년 11월 5일 오후 2시 42분 0초\n",
    "thatday"
   ]
  },
  {
   "cell_type": "code",
   "execution_count": 3,
   "id": "f539440a",
   "metadata": {},
   "outputs": [
    {
     "name": "stdout",
     "output_type": "stream",
     "text": [
      "2024년11월05일 14시 42분 00초\n",
      "2024년11월05일 PM 02시 42분 00초\n"
     ]
    }
   ],
   "source": [
    "print(\"{:%Y년%m월%d일 %H시 %M분 %S초}\".format(thatday))\n",
    "print(\"{:%Y년%m월%d일 %p %I시 %M분 %S초}\".format(thatday))"
   ]
  },
  {
   "cell_type": "code",
   "execution_count": 5,
   "id": "c3735d4e",
   "metadata": {},
   "outputs": [
    {
     "data": {
      "text/plain": [
       "'2024년11월05일 PM 02시 50분'"
      ]
     },
     "execution_count": 5,
     "metadata": {},
     "output_type": "execute_result"
    }
   ],
   "source": [
    "# 날짜를 문자열로 전환하는 함수\n",
    "from time import strftime\n",
    "thatdayStr = strftime(\"%Y년%m월%d일 %p %I시 %M분\".format(thatday))\n",
    "thatdayStr"
   ]
  },
  {
   "cell_type": "code",
   "execution_count": 6,
   "id": "5ce9273a",
   "metadata": {},
   "outputs": [
    {
     "data": {
      "text/plain": [
       "time.struct_time(tm_year=2024, tm_mon=11, tm_mday=5, tm_hour=14, tm_min=51, tm_sec=26, tm_wday=1, tm_yday=310, tm_isdst=0)"
      ]
     },
     "execution_count": 6,
     "metadata": {},
     "output_type": "execute_result"
    }
   ],
   "source": [
    "# 현재 날짜와 시간 실행한 시점\n",
    "from time import localtime\n",
    "now = localtime()\n",
    "now"
   ]
  },
  {
   "cell_type": "code",
   "execution_count": 8,
   "id": "00fef4c7",
   "metadata": {},
   "outputs": [
    {
     "data": {
      "text/plain": [
       "'2024년 11월 05일 PM 02시 53분 19초'"
      ]
     },
     "execution_count": 8,
     "metadata": {},
     "output_type": "execute_result"
    }
   ],
   "source": [
    "strftime(\"%Y년 %m월 %d일 %p %I시 %M분 %S초\".format(now)) # y는 년도 2자리 Y 년도 4자리 p 오전오후 "
   ]
  },
  {
   "cell_type": "code",
   "execution_count": 10,
   "id": "43d4b4fd",
   "metadata": {},
   "outputs": [
    {
     "ename": "TypeError",
     "evalue": "unsupported format string passed to time.struct_time.__format__",
     "output_type": "error",
     "traceback": [
      "\u001b[1;31m---------------------------------------------------------------------------\u001b[0m",
      "\u001b[1;31mTypeError\u001b[0m                                 Traceback (most recent call last)",
      "Cell \u001b[1;32mIn[10], line 1\u001b[0m\n\u001b[1;32m----> 1\u001b[0m \u001b[38;5;28mprint\u001b[39m(\u001b[38;5;124;43m\"\u001b[39;49m\u001b[38;5;124;43m{\u001b[39;49m\u001b[38;5;124;43m:\u001b[39;49m\u001b[38;5;124;43m%\u001b[39;49m\u001b[38;5;124;43mY년 \u001b[39;49m\u001b[38;5;124;43m%\u001b[39;49m\u001b[38;5;124;43mm월 \u001b[39;49m\u001b[38;5;132;43;01m%d\u001b[39;49;00m\u001b[38;5;124;43m일 \u001b[39;49m\u001b[38;5;124;43m%\u001b[39;49m\u001b[38;5;124;43mp \u001b[39;49m\u001b[38;5;124;43m%\u001b[39;49m\u001b[38;5;124;43mI시 \u001b[39;49m\u001b[38;5;124;43m%\u001b[39;49m\u001b[38;5;124;43mM분 \u001b[39;49m\u001b[38;5;124;43m%\u001b[39;49m\u001b[38;5;124;43mS초}\u001b[39;49m\u001b[38;5;124;43m\"\u001b[39;49m\u001b[38;5;241;43m.\u001b[39;49m\u001b[43mformat\u001b[49m\u001b[43m(\u001b[49m\u001b[43mnow\u001b[49m\u001b[43m)\u001b[49m)\n",
      "\u001b[1;31mTypeError\u001b[0m: unsupported format string passed to time.struct_time.__format__"
     ]
    }
   ],
   "source": [
    "print(\"{:%Y년 %m월 %d일 %p %I시 %M분 %S초}\".format(now))"
   ]
  },
  {
   "cell_type": "markdown",
   "id": "33d73118",
   "metadata": {},
   "source": [
    "# 5절. 연산자"
   ]
  },
  {
   "cell_type": "markdown",
   "id": "62e89367",
   "metadata": {},
   "source": [
    "## 5.1 산술연산자 : +, -, *, /, //(몫연산자), %(나머지), **(제곱) "
   ]
  },
  {
   "cell_type": "code",
   "execution_count": 1,
   "id": "1d42561e",
   "metadata": {},
   "outputs": [
    {
     "name": "stdout",
     "output_type": "stream",
     "text": [
      "100000\n"
     ]
    }
   ],
   "source": [
    "print(10**5) # 10의 5승"
   ]
  },
  {
   "cell_type": "markdown",
   "id": "43c6075b",
   "metadata": {},
   "source": [
    "## 5.2 할당연산자 : =, +=, -=, *=, /=, //=, %="
   ]
  },
  {
   "cell_type": "code",
   "execution_count": 5,
   "id": "b2927a7e",
   "metadata": {},
   "outputs": [
    {
     "name": "stdout",
     "output_type": "stream",
     "text": [
      "3\n"
     ]
    }
   ],
   "source": [
    "a = 10\n",
    "a //= 3# a = a//3\n",
    "print(a)"
   ]
  },
  {
   "cell_type": "markdown",
   "id": "fcbdf410",
   "metadata": {},
   "source": [
    "## 5.3 논리연산자 : &, and, |, or, not"
   ]
  },
  {
   "cell_type": "code",
   "execution_count": 10,
   "id": "5be6d7c8",
   "metadata": {},
   "outputs": [
    {
     "name": "stdout",
     "output_type": "stream",
     "text": [
      "True\n",
      "0\n"
     ]
    }
   ],
   "source": [
    "# & : 논리연산자, 비트연산자\n",
    "print ( (10>3) & (10>5) ) # 논리연산 True & True\n",
    "print( 12 & 1 ) # 비트연산 # 1100 (12)\n",
    "                          # 0001 (1)\n",
    "                          # 0000 (0)  & 좌우에 숫자가 있으면 비트연산 "
   ]
  },
  {
   "cell_type": "code",
   "execution_count": 23,
   "id": "89966653",
   "metadata": {},
   "outputs": [
    {
     "name": "stdout",
     "output_type": "stream",
     "text": [
      "abc\n",
      "0\n",
      "None\n"
     ]
    }
   ],
   "source": [
    "# and : 논리연산자 \n",
    "#     : 거짓으로 판별되는 첫번째 항의 결과 반환\n",
    "#     : 모든항이 참이면 마지막 항의 결과 반환\n",
    "print( True and True and 'abc') # True\n",
    "print( 0 and False)\n",
    "print( True and None ) # 처음으로 나온 거짓으로 판별된 None 반환"
   ]
  },
  {
   "cell_type": "code",
   "execution_count": 21,
   "id": "b138af2b",
   "metadata": {},
   "outputs": [
    {
     "name": "stdout",
     "output_type": "stream",
     "text": [
      "True\n",
      "False\n"
     ]
    }
   ],
   "source": [
    "print( (10>5) and (10>7) )\n",
    "print( (10<5) and (10>7) )"
   ]
  },
  {
   "cell_type": "code",
   "execution_count": 29,
   "id": "05a35615",
   "metadata": {},
   "outputs": [
    {
     "name": "stdout",
     "output_type": "stream",
     "text": [
      "논리연산(연산자 앞뒤에 논리형일 때): True\n",
      "비트연산(연산자 앞이나 뒤에 숫자일 때): 3\n"
     ]
    }
   ],
   "source": [
    "# | : 논리연산, 비트연산\n",
    "result = False | True\n",
    "print('논리연산(연산자 앞뒤에 논리형일 때):',result)\n",
    "result = False | 3 # 0000 | 0011\n",
    "print(\"비트연산(연산자 앞이나 뒤에 숫자일 때):\", result)"
   ]
  },
  {
   "cell_type": "code",
   "execution_count": 34,
   "id": "dfc8117f",
   "metadata": {},
   "outputs": [
    {
     "name": "stdout",
     "output_type": "stream",
     "text": [
      "1\n",
      "Hong\n"
     ]
    }
   ],
   "source": [
    "# or : 논리연산자 \n",
    "#    : 참으로 판별되는 첫번째 항의 결과 반환\n",
    "#    : 모든항이 거짓이면 마지막 항의 결과 반환\n",
    "print( False or 0 or \"\" or None or [] or {} or ())\n",
    "print( 'Hong' or 0 or False )"
   ]
  },
  {
   "cell_type": "markdown",
   "id": "d19deb20",
   "metadata": {},
   "source": [
    "## 5.4 비교연산자 : >, >=, <, <=, ==, !="
   ]
  },
  {
   "cell_type": "code",
   "execution_count": 43,
   "id": "4cb65924",
   "metadata": {
    "scrolled": true
   },
   "outputs": [
    {
     "name": "stdout",
     "output_type": "stream",
     "text": [
      "True\n",
      "True\n",
      "True\n"
     ]
    }
   ],
   "source": [
    "# 비교연산자는 이항, 삼항, ... 다항 연산자\n",
    "x = 5\n",
    "print( (4 < x) & (x < 10) ) # 자바스타일\n",
    "print( 4 < x < 10)\n",
    "print( 1 < 2 < 4 < x < 10)"
   ]
  },
  {
   "cell_type": "code",
   "execution_count": 46,
   "id": "a9f7db91",
   "metadata": {},
   "outputs": [
    {
     "name": "stdout",
     "output_type": "stream",
     "text": [
      "True\n",
      "False\n",
      "False\n",
      "False\n"
     ]
    }
   ],
   "source": [
    "# 비교연산자의 우선순위가 논리연산의 우선순위보다 낮다\n",
    "print( (10>5) & (10>7) )\n",
    "print(  10>5  &  10>7 ) # 괄호가 없으면 우선순위가 높은 논리연산부터 실행\n",
    "print(  10>(5  &  10)>7 )\n",
    "print(  10 > 0 > 7 )\n",
    "# 0101 (5)\n",
    "# 1010 (10)\n",
    "# 0000 (0)"
   ]
  },
  {
   "cell_type": "code",
   "execution_count": 50,
   "id": "a2a09285",
   "metadata": {},
   "outputs": [
    {
     "ename": "TypeError",
     "evalue": "unsupported operand type(s) for &: 'str' and 'int'",
     "output_type": "error",
     "traceback": [
      "\u001b[1;31m---------------------------------------------------------------------------\u001b[0m",
      "\u001b[1;31mTypeError\u001b[0m                                 Traceback (most recent call last)",
      "Cell \u001b[1;32mIn[50], line 3\u001b[0m\n\u001b[0;32m      1\u001b[0m address \u001b[38;5;241m=\u001b[39m \u001b[38;5;124m'\u001b[39m\u001b[38;5;124m서울\u001b[39m\u001b[38;5;124m'\u001b[39m \n\u001b[0;32m      2\u001b[0m age \u001b[38;5;241m=\u001b[39m \u001b[38;5;241m29\u001b[39m\n\u001b[1;32m----> 3\u001b[0m \u001b[38;5;28mprint\u001b[39m(address\u001b[38;5;241m=\u001b[39m\u001b[38;5;124;43m'\u001b[39;49m\u001b[38;5;124;43m서울\u001b[39;49m\u001b[38;5;124;43m'\u001b[39;49m\u001b[43m \u001b[49m\u001b[38;5;241;43m&\u001b[39;49m\u001b[43m  \u001b[49m\u001b[43mage\u001b[49m \u001b[38;5;241m>\u001b[39m\u001b[38;5;241m=\u001b[39m\u001b[38;5;241m30\u001b[39m)\n",
      "\u001b[1;31mTypeError\u001b[0m: unsupported operand type(s) for &: 'str' and 'int'"
     ]
    }
   ],
   "source": [
    "address = '서울' \n",
    "age = 29\n",
    "print(address=='서울' &  age >=30) # 우선순위를 보고 괄호를 반드시 해야 함"
   ]
  },
  {
   "cell_type": "code",
   "execution_count": 49,
   "id": "794129c4",
   "metadata": {},
   "outputs": [
    {
     "data": {
      "text/plain": [
       "True"
      ]
     },
     "execution_count": 49,
     "metadata": {},
     "output_type": "execute_result"
    }
   ],
   "source": [
    "# 문자는 ASCII 코드 순으로 비교 : 특수문자 < 숫자문자 < 대문자 < 소문자 (abc순)\n",
    "'scott' < 'tiger'"
   ]
  },
  {
   "cell_type": "code",
   "execution_count": 48,
   "id": "a168f855",
   "metadata": {},
   "outputs": [
    {
     "data": {
      "text/plain": [
       "True"
      ]
     },
     "execution_count": 48,
     "metadata": {},
     "output_type": "execute_result"
    }
   ],
   "source": [
    "'감우성' < '홍길동' # 한글은 가나다순"
   ]
  },
  {
   "cell_type": "markdown",
   "id": "5b4d7b08",
   "metadata": {},
   "source": [
    "## 5.5 비트연산 "
   ]
  },
  {
   "cell_type": "code",
   "execution_count": 51,
   "id": "1a814480",
   "metadata": {},
   "outputs": [],
   "source": [
    "a = '''\n",
    "x     y     x&y     x|y     x^y(XOR)다르면 1 같으면 0  ~X\n",
    "0     0      0       0       0                         1\n",
    "0     1      0       1       1                         1\n",
    "1     0      0       1       1                         0\n",
    "1     1      1       1       0                         0\n",
    "'''"
   ]
  },
  {
   "cell_type": "code",
   "execution_count": 61,
   "id": "2d0c680e",
   "metadata": {},
   "outputs": [
    {
     "name": "stdout",
     "output_type": "stream",
     "text": [
      "   a = 15 : 1111\n",
      "   b =  2 : 0010\n",
      " a&b =  2 : 0010\n",
      " a|b = 15 : 1111\n",
      " a^b = 13 : 1101\n"
     ]
    }
   ],
   "source": [
    "a = 15\n",
    "b = 2\n",
    "print(\"   a = {0:2} : {0:04b}\".format(a))\n",
    "print(\"   b = {0:2} : {0:04b}\".format(b))\n",
    "print(\" a&b = {0:2} : {0:04b}\".format(a&b))\n",
    "print(\" a|b = {0:2} : {0:04b}\".format(a|b))\n",
    "print(\" a^b = {0:2} : {0:04b}\".format(a^b))"
   ]
  },
  {
   "cell_type": "markdown",
   "id": "63675700",
   "metadata": {},
   "source": [
    "## 5.6 isinstance"
   ]
  },
  {
   "cell_type": "code",
   "execution_count": 63,
   "id": "5d83fe15",
   "metadata": {},
   "outputs": [
    {
     "data": {
      "text/plain": [
       "False"
      ]
     },
     "execution_count": 63,
     "metadata": {},
     "output_type": "execute_result"
    }
   ],
   "source": [
    "a = 15\n",
    "isinstance(a, float)"
   ]
  },
  {
   "cell_type": "markdown",
   "id": "0d4dc63d",
   "metadata": {},
   "source": [
    "- 포멧팅 : \"{[인덱스]:[공백대체문자][정렬방법][자릿수][타입]}\".format(변수명)\n",
    "- 연산자 \n",
    "    * 산술연산 : + - * / // % **\n",
    "    * 할당연산자 : = += -= *= /= //= %=\n",
    "    * 논리연산자 : & and | or not\n",
    "    * 비트연산 : ^(XOR) &(and) |(or) ~(not)\n",
    "    * 논리연산자가 비교연산자보다 우선순위가 높다)"
   ]
  }
 ],
 "metadata": {
  "kernelspec": {
   "display_name": "Python 3 (ipykernel)",
   "language": "python",
   "name": "python3"
  },
  "language_info": {
   "codemirror_mode": {
    "name": "ipython",
    "version": 3
   },
   "file_extension": ".py",
   "mimetype": "text/x-python",
   "name": "python",
   "nbconvert_exporter": "python",
   "pygments_lexer": "ipython3",
   "version": "3.10.9"
  },
  "toc": {
   "base_numbering": 1,
   "nav_menu": {},
   "number_sections": true,
   "sideBar": true,
   "skip_h1_title": false,
   "title_cell": "Table of Contents",
   "title_sidebar": "Contents",
   "toc_cell": false,
   "toc_position": {
    "height": "calc(100% - 180px)",
    "left": "10px",
    "top": "150px",
    "width": "239px"
   },
   "toc_section_display": true,
   "toc_window_display": true
  }
 },
 "nbformat": 4,
 "nbformat_minor": 5
}
