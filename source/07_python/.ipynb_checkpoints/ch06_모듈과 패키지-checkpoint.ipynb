{
 "cells": [
  {
   "cell_type": "markdown",
   "id": "9e51954b",
   "metadata": {},
   "source": [
    "<b> <font size='6' color='red'> ch06. 모듈과 패키지</font></b>\n",
    "# 1절. 파이썬 표준 모듈 사용\n",
    "- 모듈: 함수, 변수, 클래스 등을 담고 있는 파이썬 코드 파일 (*.py)\n",
    "- 파이썬 표준 모듈 200여개는 파이썬 인터프리터와 함께 install됨\n",
    "- anaconda는 1500개 이상의 패키지 install(정확한 갯수는 버전마다 상이)"
   ]
  },
  {
   "cell_type": "code",
   "execution_count": 1,
   "id": "31a06013",
   "metadata": {},
   "outputs": [
    {
     "data": {
      "text/plain": [
       "'Tue Nov 12 16:37:33 2024'"
      ]
     },
     "execution_count": 1,
     "metadata": {},
     "output_type": "execute_result"
    }
   ],
   "source": [
    "# 1. import 모듈명 : 모듈안의 함수, 클래스, 변수를 모듈명.함수명(), .... 사용\n",
    "import time # time모듈안의 함수, 변수, 클래스가 모두 메모리에 로드\n",
    "time.ctime()"
   ]
  },
  {
   "cell_type": "code",
   "execution_count": 2,
   "id": "6177bacd",
   "metadata": {},
   "outputs": [
    {
     "data": {
      "text/plain": [
       "1731397053.9493628"
      ]
     },
     "execution_count": 2,
     "metadata": {},
     "output_type": "execute_result"
    }
   ],
   "source": [
    "time.time() # 1970.1.1부터의 밀리세컨"
   ]
  },
  {
   "cell_type": "code",
   "execution_count": 3,
   "id": "b09fd68c",
   "metadata": {},
   "outputs": [],
   "source": [
    "del time # time 모듈을 메모리에서 unload"
   ]
  },
  {
   "cell_type": "code",
   "execution_count": 4,
   "id": "906cdea9",
   "metadata": {},
   "outputs": [
    {
     "data": {
      "text/plain": [
       "'Tue Nov 12 16:37:33 2024'"
      ]
     },
     "execution_count": 4,
     "metadata": {},
     "output_type": "execute_result"
    }
   ],
   "source": [
    "# 2. from 모듈명(A) import 함수|클래스|변수(B) : A모듈안의 B만 load\n",
    "#    from 패키지(A) import 모듈(B) : A패키지안에 B모듈을 로드\n",
    "#    from 패키지(A).모듈명(B) import 함수|클래스|변수(C) : A안의 B안의 C함수|클래스|변수만 로드\n",
    "from time import ctime, time # from다음엔 ,불가능 \n",
    "ctime()"
   ]
  },
  {
   "cell_type": "code",
   "execution_count": 5,
   "id": "63dec558",
   "metadata": {},
   "outputs": [
    {
     "data": {
      "text/plain": [
       "1731397053.9753797"
      ]
     },
     "execution_count": 5,
     "metadata": {},
     "output_type": "execute_result"
    }
   ],
   "source": [
    "time()"
   ]
  },
  {
   "cell_type": "code",
   "execution_count": 6,
   "id": "95758cfa",
   "metadata": {},
   "outputs": [],
   "source": [
    "del ctime\n",
    "del time"
   ]
  },
  {
   "cell_type": "code",
   "execution_count": 7,
   "id": "295e2ba0",
   "metadata": {},
   "outputs": [
    {
     "data": {
      "text/plain": [
       "'Tue Nov 12 16:37:33 2024'"
      ]
     },
     "execution_count": 7,
     "metadata": {},
     "output_type": "execute_result"
    }
   ],
   "source": [
    "# 3. import 모듈명 as 별칭 : 모듈을 메모리에서 로드하고 별칭으로 사용 별칭으로 import했을땐 삭제할때도 별칭\n",
    "import time as t\n",
    "t.ctime()"
   ]
  },
  {
   "cell_type": "code",
   "execution_count": 8,
   "id": "e5473492",
   "metadata": {},
   "outputs": [
    {
     "data": {
      "text/plain": [
       "1731397054.005837"
      ]
     },
     "execution_count": 8,
     "metadata": {},
     "output_type": "execute_result"
    }
   ],
   "source": [
    "t.time()"
   ]
  },
  {
   "cell_type": "code",
   "execution_count": 9,
   "id": "f5ecdae0",
   "metadata": {},
   "outputs": [],
   "source": [
    "del t"
   ]
  },
  {
   "cell_type": "code",
   "execution_count": 10,
   "id": "40a8d75e",
   "metadata": {},
   "outputs": [
    {
     "data": {
      "text/plain": [
       "'Tue Nov 12 16:37:34 2024'"
      ]
     },
     "execution_count": 10,
     "metadata": {},
     "output_type": "execute_result"
    }
   ],
   "source": [
    "# 4. from 모듈명 import 함수명 as 별칭\n",
    "#    from 패키지명 import 모듈명 as 별칭\n",
    "#    from 패키지명.모듈명 import 함수명 as 별칭\n",
    "from time import ctime as ct\n",
    "ct()"
   ]
  },
  {
   "cell_type": "markdown",
   "id": "dba33296",
   "metadata": {},
   "source": [
    "```\n",
    "import A - A 모듈을 로드\n",
    "import A as B - A모듈을 B이름으로 가져옴\n",
    "from A import B - A 모듈 안의 B함수(클래스|변수)\n",
    "from A import B as C - A모듈안의 B함수를 C이름으로 가져옴\n",
    "\n",
    "from A import B - A패키지안의 B모듈을 가져옴\n",
    "from A.B import C - A패키지안의 B모듈안의 C함수를 가져옴\n",
    "from A import B as C - A패키지안의 B모듈을 C이름으로 가져옴\n",
    "from A.B import C as D - A패키지안의 B모듈안의 C함수를 D이름으로 가져옴\n",
    "```\n",
    "\n"
   ]
  },
  {
   "cell_type": "code",
   "execution_count": 11,
   "id": "be3aa55b",
   "metadata": {},
   "outputs": [
    {
     "data": {
      "text/plain": [
       "['_STRUCT_TM_ITEMS',\n",
       " '__doc__',\n",
       " '__loader__',\n",
       " '__name__',\n",
       " '__package__',\n",
       " '__spec__',\n",
       " 'altzone',\n",
       " 'asctime',\n",
       " 'ctime',\n",
       " 'daylight',\n",
       " 'get_clock_info',\n",
       " 'gmtime',\n",
       " 'localtime',\n",
       " 'mktime',\n",
       " 'monotonic',\n",
       " 'monotonic_ns',\n",
       " 'perf_counter',\n",
       " 'perf_counter_ns',\n",
       " 'process_time',\n",
       " 'process_time_ns',\n",
       " 'sleep',\n",
       " 'strftime',\n",
       " 'strptime',\n",
       " 'struct_time',\n",
       " 'thread_time',\n",
       " 'thread_time_ns',\n",
       " 'time',\n",
       " 'time_ns',\n",
       " 'timezone',\n",
       " 'tzname']"
      ]
     },
     "execution_count": 11,
     "metadata": {},
     "output_type": "execute_result"
    }
   ],
   "source": [
    "import time\n",
    "dir(time) # time 내의 변수, 함수, 클래스 등이 list로출력"
   ]
  },
  {
   "cell_type": "markdown",
   "id": "7ae10328",
   "metadata": {},
   "source": [
    "# 2절. 사용자 정의 모듈\n",
    "- 함수나 클래스등을 파이썬 파일에 저장해서 모듈을 만들고 재사용할 수 있음\n",
    "- 모듈을 가져오는 순서 (1.) 표준모듈 (2.)sys.path 변수에 저장된 경로"
   ]
  },
  {
   "cell_type": "code",
   "execution_count": 12,
   "id": "4be74db6",
   "metadata": {},
   "outputs": [
    {
     "data": {
      "text/plain": [
       "['D:\\\\ai\\\\source\\\\07_python',\n",
       " 'C:\\\\Users\\\\201-23\\\\anaconda3\\\\python310.zip',\n",
       " 'C:\\\\Users\\\\201-23\\\\anaconda3\\\\DLLs',\n",
       " 'C:\\\\Users\\\\201-23\\\\anaconda3\\\\lib',\n",
       " 'C:\\\\Users\\\\201-23\\\\anaconda3',\n",
       " '',\n",
       " 'C:\\\\Users\\\\201-23\\\\anaconda3\\\\lib\\\\site-packages',\n",
       " 'C:\\\\Users\\\\201-23\\\\anaconda3\\\\lib\\\\site-packages\\\\win32',\n",
       " 'C:\\\\Users\\\\201-23\\\\anaconda3\\\\lib\\\\site-packages\\\\win32\\\\lib',\n",
       " 'C:\\\\Users\\\\201-23\\\\anaconda3\\\\lib\\\\site-packages\\\\Pythonwin']"
      ]
     },
     "execution_count": 12,
     "metadata": {},
     "output_type": "execute_result"
    }
   ],
   "source": [
    "import sys\n",
    "#dir(sys)\n",
    "sys.path"
   ]
  },
  {
   "cell_type": "code",
   "execution_count": 1,
   "id": "71bdfc4a",
   "metadata": {},
   "outputs": [
    {
     "data": {
      "text/plain": [
       "['D:\\\\ai\\\\source\\\\07_python',\n",
       " 'C:\\\\Users\\\\201-23\\\\anaconda3\\\\python310.zip',\n",
       " 'C:\\\\Users\\\\201-23\\\\anaconda3\\\\DLLs',\n",
       " 'C:\\\\Users\\\\201-23\\\\anaconda3\\\\lib',\n",
       " 'C:\\\\Users\\\\201-23\\\\anaconda3',\n",
       " '',\n",
       " 'C:\\\\Users\\\\201-23\\\\anaconda3\\\\lib\\\\site-packages',\n",
       " 'C:\\\\Users\\\\201-23\\\\anaconda3\\\\lib\\\\site-packages\\\\win32',\n",
       " 'C:\\\\Users\\\\201-23\\\\anaconda3\\\\lib\\\\site-packages\\\\win32\\\\lib',\n",
       " 'C:\\\\Users\\\\201-23\\\\anaconda3\\\\lib\\\\site-packages\\\\Pythonwin',\n",
       " 'D:\\\\ai\\\\source\\\\pylib']"
      ]
     },
     "execution_count": 1,
     "metadata": {},
     "output_type": "execute_result"
    }
   ],
   "source": [
    "# 사용자 정의 모듈을 저장할 폴더 :\n",
    "#'D:/ai/source/pylib'\n",
    "# r'D:\\ai\\source\\pylib' == 'D:\\\\ai\\\\source\\\\pylib'(x사용잘안함)\n",
    "import sys\n",
    "sys.path.append(r'D:\\ai\\source\\pylib')\n",
    "sys.path"
   ]
  },
  {
   "cell_type": "code",
   "execution_count": 14,
   "id": "a133f710",
   "metadata": {},
   "outputs": [],
   "source": [
    "# 1. import 모듈명\n",
    "import fibonacci"
   ]
  },
  {
   "cell_type": "code",
   "execution_count": 15,
   "id": "2e734a5f",
   "metadata": {},
   "outputs": [
    {
     "name": "stdout",
     "output_type": "stream",
     "text": [
      "0 1 1 2 3 5 8 13 21 34 55 89 \n"
     ]
    }
   ],
   "source": [
    "fibonacci.fibo_print(100)"
   ]
  },
  {
   "cell_type": "code",
   "execution_count": 16,
   "id": "a302af2c",
   "metadata": {},
   "outputs": [
    {
     "data": {
      "text/plain": [
       "[0, 1, 1, 2, 3, 5, 8, 13, 21, 34, 55, 89]"
      ]
     },
     "execution_count": 16,
     "metadata": {},
     "output_type": "execute_result"
    }
   ],
   "source": [
    "fibonacci.fibo_return(100)"
   ]
  },
  {
   "cell_type": "code",
   "execution_count": 17,
   "id": "78896fc9",
   "metadata": {},
   "outputs": [
    {
     "name": "stdout",
     "output_type": "stream",
     "text": [
      "1.print test 0 1 1 2 3 5 8 13 21 34 55 89 144 \n",
      "2. return된 list test : [0, 1, 1, 2, 3, 5, 8, 13, 21, 34, 55, 89, 144]\n"
     ]
    }
   ],
   "source": [
    "! python d:/ai/source/pylib/fibonacci.py 200"
   ]
  },
  {
   "cell_type": "code",
   "execution_count": 18,
   "id": "9eaf8988",
   "metadata": {},
   "outputs": [],
   "source": [
    "del fibonacci"
   ]
  },
  {
   "cell_type": "code",
   "execution_count": 19,
   "id": "711254a6",
   "metadata": {},
   "outputs": [
    {
     "name": "stdout",
     "output_type": "stream",
     "text": [
      "0 1 1 2 3 5 8 13 21 34 55 89 \n"
     ]
    },
    {
     "data": {
      "text/plain": [
       "[0, 1, 1, 2, 3, 5, 8, 13, 21, 34, 55, 89, 144]"
      ]
     },
     "execution_count": 19,
     "metadata": {},
     "output_type": "execute_result"
    }
   ],
   "source": [
    "# 2. from A import B\n",
    "from fibonacci import fibo_print, fibo_return\n",
    "fibo_print(100)\n",
    "fibo_return(200)"
   ]
  },
  {
   "cell_type": "code",
   "execution_count": 20,
   "id": "7f7e150c",
   "metadata": {},
   "outputs": [],
   "source": [
    "del fibo_print\n",
    "del fibo_return"
   ]
  },
  {
   "cell_type": "code",
   "execution_count": 21,
   "id": "ec6cbf83",
   "metadata": {},
   "outputs": [
    {
     "name": "stdout",
     "output_type": "stream",
     "text": [
      "0 1 1 2 3 5 8 13 21 34 55 89 \n"
     ]
    },
    {
     "data": {
      "text/plain": [
       "[0, 1, 1, 2, 3, 5, 8, 13, 21, 34, 55, 89, 144]"
      ]
     },
     "execution_count": 21,
     "metadata": {},
     "output_type": "execute_result"
    }
   ],
   "source": [
    "# 3. import 모듈명 as 별칭명\n",
    "import fibonacci as f\n",
    "f.fibo_print(100)\n",
    "f.fibo_return(200)"
   ]
  },
  {
   "cell_type": "code",
   "execution_count": 22,
   "id": "66cb0408",
   "metadata": {},
   "outputs": [],
   "source": [
    "del f # import된 모듈을 unload"
   ]
  },
  {
   "cell_type": "code",
   "execution_count": 23,
   "id": "fd098739",
   "metadata": {},
   "outputs": [
    {
     "name": "stdout",
     "output_type": "stream",
     "text": [
      "0 1 1 2 3 5 8 13 21 34 55 89 \n"
     ]
    }
   ],
   "source": [
    "# 4. from 모듈명 import 함수명 as 별칭\n",
    "from fibonacci import fibo_print as fibo_p\n",
    "fibo_p(100)"
   ]
  },
  {
   "cell_type": "code",
   "execution_count": 24,
   "id": "ac7a568b",
   "metadata": {},
   "outputs": [],
   "source": [
    "import info"
   ]
  },
  {
   "cell_type": "code",
   "execution_count": 25,
   "id": "8345bc18",
   "metadata": {},
   "outputs": [
    {
     "name": "stdout",
     "output_type": "stream",
     "text": [
      "3.141592\n"
     ]
    }
   ],
   "source": [
    "print(info.PI)"
   ]
  },
  {
   "cell_type": "code",
   "execution_count": 26,
   "id": "795e40fa",
   "metadata": {},
   "outputs": [],
   "source": [
    "obj = info.Cal(10, 5)"
   ]
  },
  {
   "cell_type": "code",
   "execution_count": 27,
   "id": "c3c9f75e",
   "metadata": {},
   "outputs": [
    {
     "name": "stdout",
     "output_type": "stream",
     "text": [
      "True\n",
      "add test : 15\n",
      "sub test : 5\n"
     ]
    }
   ],
   "source": [
    "print(isinstance(obj, info.Cal))\n",
    "print('add test :', obj.add())\n",
    "print('sub test :', obj.sub())"
   ]
  },
  {
   "cell_type": "code",
   "execution_count": 28,
   "id": "1443b0d7",
   "metadata": {},
   "outputs": [],
   "source": [
    "del info"
   ]
  },
  {
   "cell_type": "code",
   "execution_count": 29,
   "id": "9c81426e",
   "metadata": {},
   "outputs": [],
   "source": [
    "import info as i"
   ]
  },
  {
   "cell_type": "code",
   "execution_count": 30,
   "id": "a8f6e3da",
   "metadata": {},
   "outputs": [],
   "source": [
    "obj = i.Cal(10,5)"
   ]
  },
  {
   "cell_type": "code",
   "execution_count": 31,
   "id": "98495d0b",
   "metadata": {},
   "outputs": [],
   "source": [
    "del i"
   ]
  },
  {
   "cell_type": "code",
   "execution_count": 32,
   "id": "ab54c4aa",
   "metadata": {},
   "outputs": [],
   "source": [
    "from info import Cal"
   ]
  },
  {
   "cell_type": "code",
   "execution_count": 33,
   "id": "5b7b5cc1",
   "metadata": {},
   "outputs": [
    {
     "name": "stdout",
     "output_type": "stream",
     "text": [
      "obj.num1 : 10\n",
      "obj.num2 : 5\n",
      "add test : 15\n",
      "sub test : 5\n"
     ]
    }
   ],
   "source": [
    "obj = Cal(10, 5)\n",
    "print('obj.num1 :', obj.num1)\n",
    "print('obj.num2 :', obj.num2)\n",
    "print('add test :', obj.add())\n",
    "print('sub test :', obj.sub())"
   ]
  },
  {
   "cell_type": "code",
   "execution_count": 34,
   "id": "eda3843d",
   "metadata": {},
   "outputs": [
    {
     "name": "stdout",
     "output_type": "stream",
     "text": [
      "obj.num1 : 10\n",
      "obj.num2 : 5\n",
      "add test : 15\n",
      "sub test : 5\n"
     ]
    }
   ],
   "source": [
    "from info import Cal as Calculate\n",
    "obj = Calculate(10, 5)\n",
    "print('obj.num1 :', obj.num1)\n",
    "print('obj.num2 :', obj.num2)\n",
    "print('add test :', obj.add())\n",
    "print('sub test :', obj.sub())"
   ]
  },
  {
   "cell_type": "markdown",
   "id": "48f8f7fe",
   "metadata": {},
   "source": [
    "# 3절. 패키지\n",
    "- 모듈들이 들어있는 폴더"
   ]
  },
  {
   "cell_type": "code",
   "execution_count": 35,
   "id": "fcf3d8e3",
   "metadata": {},
   "outputs": [
    {
     "name": "stdout",
     "output_type": "stream",
     "text": [
      "sample_pac 패키지를 로드했는지 확인하는 print입니다\n"
     ]
    }
   ],
   "source": [
    "# 상위 패키지를 import 한다고 하위 패키지가 import 되지 않습니다\n",
    "import sample_pac"
   ]
  },
  {
   "cell_type": "code",
   "execution_count": 36,
   "id": "b04d78a0",
   "metadata": {},
   "outputs": [
    {
     "name": "stdout",
     "output_type": "stream",
     "text": [
      "sample_pac 패키지 안의 ab 패키지가 로드되었습니다\n"
     ]
    }
   ],
   "source": [
    "import sample_pac.ab"
   ]
  },
  {
   "cell_type": "code",
   "execution_count": 37,
   "id": "6d9f22a7",
   "metadata": {},
   "outputs": [
    {
     "name": "stdout",
     "output_type": "stream",
     "text": [
      "sample_pac 패키지 안의 cd 패키지 로드\n"
     ]
    }
   ],
   "source": [
    "from sample_pac import cd"
   ]
  },
  {
   "cell_type": "code",
   "execution_count": 38,
   "id": "d58592da",
   "metadata": {},
   "outputs": [
    {
     "name": "stdout",
     "output_type": "stream",
     "text": [
      "D:\\ai\\source\\pylib\\sample_pac\\__init__.py\n"
     ]
    }
   ],
   "source": [
    "print(sample_pac.__file__)"
   ]
  },
  {
   "cell_type": "code",
   "execution_count": 39,
   "id": "3cb1ac56",
   "metadata": {},
   "outputs": [
    {
     "name": "stdout",
     "output_type": "stream",
     "text": [
      "['D:\\\\ai\\\\source\\\\pylib\\\\sample_pac']\n"
     ]
    }
   ],
   "source": [
    "print(sample_pac.__path__)"
   ]
  },
  {
   "cell_type": "code",
   "execution_count": 40,
   "id": "2f127a95",
   "metadata": {},
   "outputs": [],
   "source": [
    "del sample_pac.ab\n",
    "del cd"
   ]
  },
  {
   "cell_type": "code",
   "execution_count": 2,
   "id": "d4c08c69",
   "metadata": {},
   "outputs": [
    {
     "name": "stdout",
     "output_type": "stream",
     "text": [
      "sample_pac 패키지를 로드했는지 확인하는 print입니다\n",
      "sample_pac 패키지 안의 ab 패키지가 로드되었습니다\n"
     ]
    }
   ],
   "source": [
    "from sample_pac.ab import * # __init__.py 안의 __all__속성인 a.py만 로드"
   ]
  },
  {
   "cell_type": "code",
   "execution_count": 3,
   "id": "c3ec6345",
   "metadata": {},
   "outputs": [
    {
     "name": "stdout",
     "output_type": "stream",
     "text": [
      "sample_pac/ab/a모듈의 Hello\n"
     ]
    }
   ],
   "source": [
    "a.hello()"
   ]
  },
  {
   "cell_type": "code",
   "execution_count": null,
   "id": "298f28b0",
   "metadata": {},
   "outputs": [],
   "source": [
    "b.world()"
   ]
  },
  {
   "cell_type": "code",
   "execution_count": 5,
   "id": "fcdd7b99",
   "metadata": {},
   "outputs": [
    {
     "name": "stdout",
     "output_type": "stream",
     "text": [
      "sample_pac/ab/b모듈안의 world\n"
     ]
    }
   ],
   "source": [
    "from sample_pac.ab import b\n",
    "b.world()"
   ]
  },
  {
   "cell_type": "code",
   "execution_count": 6,
   "id": "f6985dec",
   "metadata": {},
   "outputs": [
    {
     "name": "stdout",
     "output_type": "stream",
     "text": [
      "sample_pac/ab/b모듈안의 world\n"
     ]
    }
   ],
   "source": [
    "from sample_pac.ab.b import world\n",
    "world()"
   ]
  },
  {
   "cell_type": "code",
   "execution_count": 7,
   "id": "dda9f76d",
   "metadata": {},
   "outputs": [],
   "source": [
    "del a"
   ]
  },
  {
   "cell_type": "code",
   "execution_count": 2,
   "id": "07d872e6",
   "metadata": {},
   "outputs": [
    {
     "name": "stdout",
     "output_type": "stream",
     "text": [
      "sample_pac 패키지를 로드했는지 확인하는 print입니다\n",
      "sample_pac 패키지 안의 cd 패키지 로드\n",
      "sample_pac 패키지 안의 ab 패키지가 로드되었습니다\n"
     ]
    }
   ],
   "source": [
    "import sample_pac.cd.c as c\n",
    "# from sample_pac.cd import c\n",
    "# cd패키지 ab패키지 일부를 참조"
   ]
  },
  {
   "cell_type": "code",
   "execution_count": 3,
   "id": "15e70973",
   "metadata": {},
   "outputs": [
    {
     "name": "stdout",
     "output_type": "stream",
     "text": [
      "sample_pac/cd안의 c모듈안의 nice\n",
      "sample_pac/ab/a모듈의 Hello\n"
     ]
    }
   ],
   "source": [
    "c.nice()"
   ]
  },
  {
   "cell_type": "code",
   "execution_count": 5,
   "id": "de94ab02",
   "metadata": {},
   "outputs": [
    {
     "name": "stdout",
     "output_type": "stream",
     "text": [
      "sample_pac/ab/a모듈의 Hello\n"
     ]
    }
   ],
   "source": [
    "c.a.hello()"
   ]
  },
  {
   "cell_type": "markdown",
   "id": "0c78d4dc",
   "metadata": {},
   "source": [
    "# 4절. 패키지 설치 및 \n",
    "- 패키지 설치 : pip install 패키지명[==버전] / conda install 패키지명[==버전]\n",
    "- 패키지 확인 : pip show 패키지명            / conda list 패키지명\n",
    "- 패키지 삭제 : pip uninstall 패키지명       / conda remove 패키지명"
   ]
  },
  {
   "cell_type": "code",
   "execution_count": 14,
   "id": "0006c5a3",
   "metadata": {},
   "outputs": [],
   "source": [
    "import objgraph # 메모리 사용량 출력하는 함수"
   ]
  },
  {
   "cell_type": "code",
   "execution_count": 7,
   "id": "b14bbc20",
   "metadata": {},
   "outputs": [
    {
     "name": "stdout",
     "output_type": "stream",
     "text": [
      "dict                       34022\n",
      "list                       19655\n",
      "function                   18958\n",
      "Token                      16777\n",
      "tuple                      12414\n",
      "ReferenceType              5497\n",
      "DFAPlan                    5418\n",
      "Name                       3934\n",
      "builtin_function_or_method 3276\n",
      "NFAArc                     2738\n"
     ]
    }
   ],
   "source": [
    "objgraph.show_most_common_types() # 메모리 사용량 출력"
   ]
  },
  {
   "cell_type": "code",
   "execution_count": 12,
   "id": "636b2937",
   "metadata": {},
   "outputs": [],
   "source": [
    "l = [2]\n",
    "for i in range(1000000):\n",
    "    l.append('aaaa')\n",
    "    l.append('bbbb')"
   ]
  },
  {
   "cell_type": "code",
   "execution_count": 13,
   "id": "a512520d",
   "metadata": {},
   "outputs": [
    {
     "name": "stdout",
     "output_type": "stream",
     "text": [
      "dict                       34022\n",
      "list                       19661\n",
      "function                   18958\n",
      "Token                      16777\n",
      "tuple                      12414\n",
      "ReferenceType              5503\n",
      "DFAPlan                    5418\n",
      "Name                       3934\n",
      "builtin_function_or_method 3274\n",
      "NFAArc                     2738\n"
     ]
    }
   ],
   "source": [
    "objgraph.show_most_common_types() # 메모리 사용량 출력"
   ]
  },
  {
   "cell_type": "code",
   "execution_count": 11,
   "id": "5fc25c6a",
   "metadata": {},
   "outputs": [
    {
     "data": {
      "text/plain": [
       "['D:\\\\ai\\\\source\\\\07_python',\n",
       " 'C:\\\\Users\\\\201-23\\\\anaconda3\\\\python310.zip',\n",
       " 'C:\\\\Users\\\\201-23\\\\anaconda3\\\\DLLs',\n",
       " 'C:\\\\Users\\\\201-23\\\\anaconda3\\\\lib',\n",
       " 'C:\\\\Users\\\\201-23\\\\anaconda3',\n",
       " '',\n",
       " 'C:\\\\Users\\\\201-23\\\\anaconda3\\\\lib\\\\site-packages',\n",
       " 'C:\\\\Users\\\\201-23\\\\anaconda3\\\\lib\\\\site-packages\\\\win32',\n",
       " 'C:\\\\Users\\\\201-23\\\\anaconda3\\\\lib\\\\site-packages\\\\win32\\\\lib',\n",
       " 'C:\\\\Users\\\\201-23\\\\anaconda3\\\\lib\\\\site-packages\\\\Pythonwin',\n",
       " 'D:\\\\ai\\\\source\\\\pylib']"
      ]
     },
     "execution_count": 11,
     "metadata": {},
     "output_type": "execute_result"
    }
   ],
   "source": [
    "import sys\n",
    "sys.path"
   ]
  },
  {
   "cell_type": "markdown",
   "id": "f23dd29a",
   "metadata": {},
   "source": [
    "# 5절 연습문제"
   ]
  },
  {
   "cell_type": "code",
   "execution_count": 15,
   "id": "ed2e3c53",
   "metadata": {},
   "outputs": [],
   "source": [
    "#1. 3\n",
    "#2. 4\n",
    "#3. __init__.py\n",
    "#4. __all__\n",
    "#5. 1"
   ]
  }
 ],
 "metadata": {
  "kernelspec": {
   "display_name": "Python 3 (ipykernel)",
   "language": "python",
   "name": "python3"
  },
  "language_info": {
   "codemirror_mode": {
    "name": "ipython",
    "version": 3
   },
   "file_extension": ".py",
   "mimetype": "text/x-python",
   "name": "python",
   "nbconvert_exporter": "python",
   "pygments_lexer": "ipython3",
   "version": "3.10.9"
  },
  "toc": {
   "base_numbering": 1,
   "nav_menu": {},
   "number_sections": true,
   "sideBar": true,
   "skip_h1_title": false,
   "title_cell": "Table of Contents",
   "title_sidebar": "Contents",
   "toc_cell": false,
   "toc_position": {},
   "toc_section_display": true,
   "toc_window_display": true
  }
 },
 "nbformat": 4,
 "nbformat_minor": 5
}
