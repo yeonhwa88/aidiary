{
 "cells": [
  {
   "cell_type": "markdown",
   "id": "e09fed6e",
   "metadata": {},
   "source": [
    "<font size='6' color='red'><b> ch10.데이터베이스연동 </b></font>"
   ]
  },
  {
   "cell_type": "markdown",
   "id": "a4207f84",
   "metadata": {},
   "source": [
    "# 1절. SQLite 데이터 베이스 연결\n",
    "- SQLite 데이터 베이스는 별도의 DBMS없이 SQL을 이용하여 DB 엑세스 할 수 있도록 만든 간단한 디스크 기반의 DB 제공\n",
    "- C 라이브러리\n",
    "- SQLite는 프로토타입을 만들 때 사용\n",
    "- 프로젝트 단계 : 분석 → 설계 → 구현 → 테스트 → 고객에게 배포 → 유지보수 \n",
    "-               프로토타입(SQLite)      시제품         완제품(Oracle, Mysql, Maria .....)\n",
    "- [DB browser for SQLite](https://sqlitebrowser.org/dl/)\n",
    "## 1.1 SQLite broswer 설치 및 sqlite3 패키지 load"
   ]
  },
  {
   "cell_type": "code",
<<<<<<< HEAD
   "execution_count": 3,
=======
   "execution_count": 1,
>>>>>>> 69b5815e1e3dfb8b4120e1612372787970063d90
   "id": "f761ee0c",
   "metadata": {},
   "outputs": [
    {
     "data": {
      "text/plain": [
       "'3.40.1'"
      ]
     },
<<<<<<< HEAD
     "execution_count": 3,
=======
     "execution_count": 1,
>>>>>>> 69b5815e1e3dfb8b4120e1612372787970063d90
     "metadata": {},
     "output_type": "execute_result"
    }
   ],
   "source": [
    "import sqlite3\n",
    "sqlite3.sqlite_version # sqlite3 패키지의 버전 확인"
   ]
  },
  {
   "cell_type": "code",
<<<<<<< HEAD
   "execution_count": 4,
   "id": "54ed4f54",
   "metadata": {},
   "outputs": [
    {
     "data": {
      "text/plain": [
       "'1.5.3'"
      ]
     },
     "execution_count": 4,
     "metadata": {},
     "output_type": "execute_result"
    }
   ],
=======
   "execution_count": null,
   "id": "54ed4f54",
   "metadata": {},
   "outputs": [],
>>>>>>> 69b5815e1e3dfb8b4120e1612372787970063d90
   "source": [
    "import pandas as pd\n",
    "pd.__version__ # 버전확인"
   ]
  },
  {
   "cell_type": "code",
<<<<<<< HEAD
   "execution_count": 5,
   "id": "da340158",
   "metadata": {},
   "outputs": [
    {
     "data": {
      "text/plain": [
       "'1.23.5'"
      ]
     },
     "execution_count": 5,
     "metadata": {},
     "output_type": "execute_result"
    }
   ],
=======
   "execution_count": null,
   "id": "da340158",
   "metadata": {},
   "outputs": [],
>>>>>>> 69b5815e1e3dfb8b4120e1612372787970063d90
   "source": [
    "import numpy as np\n",
    "np.__version__"
   ]
  },
  {
   "cell_type": "markdown",
   "id": "cc715b39",
   "metadata": {},
   "source": [
    "## 1.2 데이터베이스 연결\n",
    "- SQLite로 DB 연결시, DB파일이 있으면 연결, DB파일이 없으면 빈 DB 파일 생성"
   ]
  },
  {
   "cell_type": "code",
<<<<<<< HEAD
   "execution_count": 6,
=======
   "execution_count": 2,
>>>>>>> 69b5815e1e3dfb8b4120e1612372787970063d90
   "id": "e02899e3",
   "metadata": {},
   "outputs": [
    {
     "data": {
      "text/plain": [
<<<<<<< HEAD
       "<sqlite3.Connection at 0x2487fd44f40>"
      ]
     },
     "execution_count": 6,
=======
       "<sqlite3.Connection at 0x2a40609bd40>"
      ]
     },
     "execution_count": 2,
>>>>>>> 69b5815e1e3dfb8b4120e1612372787970063d90
     "metadata": {},
     "output_type": "execute_result"
    }
   ],
   "source": [
    "# DB 연결\n",
    "conn = sqlite3.connect('data/ch10_example.db') # 빈파일 자동생성 / 폴더가없으면 예외\n",
    "conn"
   ]
  },
  {
   "cell_type": "code",
<<<<<<< HEAD
   "execution_count": 7,
=======
   "execution_count": 4,
>>>>>>> 69b5815e1e3dfb8b4120e1612372787970063d90
   "id": "793f9368",
   "metadata": {},
   "outputs": [
    {
     "data": {
      "text/plain": [
<<<<<<< HEAD
       "<sqlite3.Cursor at 0x2487fd3fc40>"
      ]
     },
     "execution_count": 7,
=======
       "<sqlite3.Cursor at 0x2a406207840>"
      ]
     },
     "execution_count": 4,
>>>>>>> 69b5815e1e3dfb8b4120e1612372787970063d90
     "metadata": {},
     "output_type": "execute_result"
    }
   ],
   "source": [
    "# 커서 객체 생성 커서는 SQL문을 실행시키고, 결과데이터를 조회(select(결과 N행), 그외:(결과 정수))하는데 사용하는 객체\n",
    "cursor = conn.cursor() # SQL문을 보내고 출력\n",
    "cursor"
   ]
  },
  {
   "cell_type": "code",
<<<<<<< HEAD
   "execution_count": 13,
=======
   "execution_count": 5,
>>>>>>> 69b5815e1e3dfb8b4120e1612372787970063d90
   "id": "ff972960",
   "metadata": {},
   "outputs": [
    {
<<<<<<< HEAD
     "data": {
      "text/plain": [
       "<sqlite3.Cursor at 0x2487fd3fc40>"
      ]
     },
     "execution_count": 13,
     "metadata": {},
     "output_type": "execute_result"
    }
   ],
   "source": [
    "cursor.execute('''\n",
    "    CREATE TABLE MEMBER (\n",
    "        NAME TEXT,\n",
    "        AGE  INT,\n",
    "        EMAIL TEXT\n",
    "    )\n",
    "''')"
   ]
  },
  {
   "cell_type": "code",
   "execution_count": 12,
   "id": "b7675ad4",
   "metadata": {},
   "outputs": [
    {
     "data": {
      "text/plain": [
       "<sqlite3.Cursor at 0x2487fd3fc40>"
      ]
     },
     "execution_count": 12,
     "metadata": {},
     "output_type": "execute_result"
    }
   ],
   "source": [
    "cursor.execute('DROP TABLE MEMBER')"
   ]
  },
  {
   "cell_type": "code",
   "execution_count": 14,
   "id": "899d234d",
   "metadata": {},
   "outputs": [
    {
=======
>>>>>>> 69b5815e1e3dfb8b4120e1612372787970063d90
     "ename": "OperationalError",
     "evalue": "table MEMBER already exists",
     "output_type": "error",
     "traceback": [
      "\u001b[1;31m---------------------------------------------------------------------------\u001b[0m",
      "\u001b[1;31mOperationalError\u001b[0m                          Traceback (most recent call last)",
<<<<<<< HEAD
      "Cell \u001b[1;32mIn[14], line 1\u001b[0m\n\u001b[1;32m----> 1\u001b[0m \u001b[43mcursor\u001b[49m\u001b[38;5;241;43m.\u001b[39;49m\u001b[43mexecute\u001b[49m\u001b[43m(\u001b[49m\u001b[38;5;124;43m'''\u001b[39;49m\n\u001b[0;32m      2\u001b[0m \u001b[38;5;124;43m        CREATE TABLE MEMBER(\u001b[39;49m\n\u001b[0;32m      3\u001b[0m \u001b[38;5;124;43m            NAME TEXT, \u001b[39;49m\n\u001b[0;32m      4\u001b[0m \u001b[38;5;124;43m            AGE INT,\u001b[39;49m\n\u001b[0;32m      5\u001b[0m \u001b[38;5;124;43m            EMAIL TEXT\u001b[39;49m\n\u001b[0;32m      6\u001b[0m \u001b[38;5;124;43m        )\u001b[39;49m\n\u001b[0;32m      7\u001b[0m \u001b[38;5;124;43m'''\u001b[39;49m\u001b[43m)\u001b[49m\n",
=======
      "Cell \u001b[1;32mIn[5], line 1\u001b[0m\n\u001b[1;32m----> 1\u001b[0m \u001b[43mcursor\u001b[49m\u001b[38;5;241;43m.\u001b[39;49m\u001b[43mexecute\u001b[49m\u001b[43m(\u001b[49m\u001b[38;5;124;43m'''\u001b[39;49m\n\u001b[0;32m      2\u001b[0m \u001b[38;5;124;43m        CREATE TABLE MEMBER(\u001b[39;49m\n\u001b[0;32m      3\u001b[0m \u001b[38;5;124;43m            NAME TEXT, \u001b[39;49m\n\u001b[0;32m      4\u001b[0m \u001b[38;5;124;43m            AGE INT,\u001b[39;49m\n\u001b[0;32m      5\u001b[0m \u001b[38;5;124;43m            EMAIL TEXT\u001b[39;49m\n\u001b[0;32m      6\u001b[0m \u001b[38;5;124;43m        )\u001b[39;49m\n\u001b[0;32m      7\u001b[0m \u001b[38;5;124;43m'''\u001b[39;49m\u001b[43m)\u001b[49m\n",
>>>>>>> 69b5815e1e3dfb8b4120e1612372787970063d90
      "\u001b[1;31mOperationalError\u001b[0m: table MEMBER already exists"
     ]
    }
   ],
   "source": [
    "cursor.execute('''\n",
    "        CREATE TABLE MEMBER(\n",
    "            NAME TEXT, \n",
    "            AGE INT,\n",
    "            EMAIL TEXT\n",
    "        )\n",
    "''')"
   ]
  },
  {
   "cell_type": "code",
<<<<<<< HEAD
   "execution_count": 15,
=======
   "execution_count": 6,
   "id": "b7675ad4",
   "metadata": {},
   "outputs": [
    {
     "ename": "AttributeError",
     "evalue": "'builtin_function_or_method' object has no attribute 'execute'",
     "output_type": "error",
     "traceback": [
      "\u001b[1;31m---------------------------------------------------------------------------\u001b[0m",
      "\u001b[1;31mAttributeError\u001b[0m                            Traceback (most recent call last)",
      "Cell \u001b[1;32mIn[6], line 1\u001b[0m\n\u001b[1;32m----> 1\u001b[0m \u001b[43mcursor\u001b[49m\u001b[38;5;241;43m.\u001b[39;49m\u001b[43mexecute\u001b[49m(\u001b[38;5;124m'\u001b[39m\u001b[38;5;124mDROP TABLE MEMBER\u001b[39m\u001b[38;5;124m'\u001b[39m)\n",
      "\u001b[1;31mAttributeError\u001b[0m: 'builtin_function_or_method' object has no attribute 'execute'"
     ]
    }
   ],
   "source": [
    "cursor.execute('DROP TABLE MEMBER')"
   ]
  },
  {
   "cell_type": "code",
   "execution_count": null,
   "id": "899d234d",
   "metadata": {},
   "outputs": [],
   "source": [
    "cursor.execute('''\n",
    "        CREATE TABLE MEMBER(\n",
    "            NAME TEXT, \n",
    "            AGE INT,\n",
    "            EMAIL TEXT\n",
    "        )\n",
    "''')"
   ]
  },
  {
   "cell_type": "code",
   "execution_count": 6,
>>>>>>> 69b5815e1e3dfb8b4120e1612372787970063d90
   "id": "99bfa155",
   "metadata": {},
   "outputs": [
    {
     "name": "stdout",
     "output_type": "stream",
     "text": [
      "수행 결과 행수 : 1\n",
      "수행 결과 행수 : 1\n",
      "수행 결과 행수 : 1\n"
     ]
    }
   ],
   "source": [
    "cursor.execute(\"INSERT INTO MEMBER VALUES ('홍길동', 20, 'h@h.com')\")\n",
    "print('수행 결과 행수 :', cursor.rowcount)\n",
    "sql = \"INSERT INTO MEMBER VALUES('신길동', 25, 's@s.com')\"\n",
    "cursor.execute(sql)\n",
    "print('수행 결과 행수 :', cursor.rowcount)\n",
    "cursor.execute(\"INSERT INTO MEMBER VALUES ('신림동', 30, 'l@l.com')\")\n",
    "print('수행 결과 행수 :', cursor.rowcount)"
   ]
  },
  {
   "cell_type": "code",
<<<<<<< HEAD
   "execution_count": 16,
=======
   "execution_count": 7,
>>>>>>> 69b5815e1e3dfb8b4120e1612372787970063d90
   "id": "d74bdf7a",
   "metadata": {},
   "outputs": [],
   "source": [
    "conn.commit() # 반대 : conn.rollback() DML문에서만 commit"
   ]
  },
  {
   "cell_type": "code",
<<<<<<< HEAD
   "execution_count": 17,
=======
   "execution_count": 8,
>>>>>>> 69b5815e1e3dfb8b4120e1612372787970063d90
   "id": "957dfcb0",
   "metadata": {},
   "outputs": [
    {
     "data": {
      "text/plain": [
<<<<<<< HEAD
       "<sqlite3.Cursor at 0x2487fd3fc40>"
      ]
     },
     "execution_count": 17,
=======
       "<sqlite3.Cursor at 0x2a406207840>"
      ]
     },
     "execution_count": 8,
>>>>>>> 69b5815e1e3dfb8b4120e1612372787970063d90
     "metadata": {},
     "output_type": "execute_result"
    }
   ],
   "source": [
    "# SQL 전송 결과는 cursor가 가리킴\n",
    "cursor.execute('SELECT * FROM MEMBER ORDER BY NAME')"
   ]
  },
  {
   "cell_type": "code",
   "execution_count": null,
   "id": "21269eb5",
   "metadata": {},
   "outputs": [],
   "source": [
    "# insert, update, delete문 실행결과 : cursor.rowcount\n",
    "# select문 실행 결과 결과를 받는 함수들 \n",
    "     ## fetchone() : 결과를 한행씩 받을 때 (튜플)\n",
    "     ## fetchall() : 결과를 모두 받을 때 (튜플 list)\n",
    "     ## fetchmany(n) : 결과를 n행 받을 때 (튜플 list)\n",
    "print(cursor.fetchall())"
   ]
  },
  {
   "cell_type": "code",
   "execution_count": null,
   "id": "b0691d76",
   "metadata": {},
   "outputs": [],
   "source": [
    "print(cursor.fetchall()) # 한번 소요된 cursor객체는 다시 fetch할수 없음"
   ]
  },
  {
   "cell_type": "code",
<<<<<<< HEAD
   "execution_count": 18,
=======
   "execution_count": 4,
>>>>>>> 69b5815e1e3dfb8b4120e1612372787970063d90
   "id": "259ff11b",
   "metadata": {},
   "outputs": [
    {
<<<<<<< HEAD
     "data": {
      "text/plain": [
       "[('홍길동', 20, 'h@h.com'), ('신길동', 25, 's@s.com'), ('신림동', 30, 'l@l.com')]"
      ]
     },
     "execution_count": 18,
     "metadata": {},
     "output_type": "execute_result"
=======
     "ename": "AttributeError",
     "evalue": "'builtin_function_or_method' object has no attribute 'execute'",
     "output_type": "error",
     "traceback": [
      "\u001b[1;31m---------------------------------------------------------------------------\u001b[0m",
      "\u001b[1;31mAttributeError\u001b[0m                            Traceback (most recent call last)",
      "Cell \u001b[1;32mIn[4], line 1\u001b[0m\n\u001b[1;32m----> 1\u001b[0m \u001b[43mcursor\u001b[49m\u001b[38;5;241;43m.\u001b[39;49m\u001b[43mexecute\u001b[49m(\u001b[38;5;124m'\u001b[39m\u001b[38;5;124mSELECT NAME, AGE, EMAIL FROM MEMBER ORDER BY AGE\u001b[39m\u001b[38;5;124m'\u001b[39m)\n\u001b[0;32m      2\u001b[0m members \u001b[38;5;241m=\u001b[39m cursor\u001b[38;5;241m.\u001b[39mfetchall()\n\u001b[0;32m      3\u001b[0m members\n",
      "\u001b[1;31mAttributeError\u001b[0m: 'builtin_function_or_method' object has no attribute 'execute'"
     ]
>>>>>>> 69b5815e1e3dfb8b4120e1612372787970063d90
    }
   ],
   "source": [
    "cursor.execute('SELECT NAME, AGE, EMAIL FROM MEMBER ORDER BY AGE')\n",
    "members = cursor.fetchall()\n",
    "members # 튜플 list"
   ]
  },
  {
   "cell_type": "code",
   "execution_count": null,
   "id": "1a13d6be",
   "metadata": {},
   "outputs": [],
   "source": [
    "for member in members:\n",
    "    print(member)"
   ]
  },
  {
   "cell_type": "code",
   "execution_count": null,
   "id": "cfd5e6ac",
   "metadata": {},
   "outputs": [],
   "source": [
    "# 한줄씩 읽기\n",
    "cursor.execute('SELECT NAME, AGE, EMAIL FROM MEMBER ORDER BY AGE')\n",
    "member_list = []\n",
    "while True:\n",
    "    member = cursor.fetchone() # SQL문 수행 결과 한줄 가져오기\n",
    "    if member is None:\n",
    "        break # 전부가져오면 None 되어 break\n",
    "    member_list.append({'name':member[0], 'age':member[1], 'email':member[2]})\n",
    "member_list"
   ]
  },
  {
   "cell_type": "code",
   "execution_count": null,
   "id": "3935cec5",
   "metadata": {},
   "outputs": [],
   "source": [
    "# 최상위 n줄 가져오기\n",
    "cursor.execute('SELECT NAME, AGE, EMAIL FROM MEMBER ORDER BY AGE')\n",
    "for member in cursor.fetchmany(10): # 오버된 수량을 가져오려해도 에러 나지않고 있는 행만 출력\n",
    "    print(member)"
   ]
  },
  {
   "cell_type": "code",
<<<<<<< HEAD
   "execution_count": 20,
=======
   "execution_count": 22,
>>>>>>> 69b5815e1e3dfb8b4120e1612372787970063d90
   "id": "23e454c5",
   "metadata": {},
   "outputs": [],
   "source": [
    "class Member:\n",
    "    'Member 테이블의 내용을 받을 객체 타입'\n",
    "    def __init__(self, name, age, email):\n",
    "        self.name = name\n",
    "        self.age = age\n",
    "        self.email = email\n",
    "    def as_dic(self): # insert문 전송시 필요\n",
    "        return {'name':self.name, 'age':self.age, 'email':self.email}\n",
    "    def __str__(self):\n",
    "        return \"{}\\t{}\\t{}\".format(self.name, self.age, self.email)\n",
    "def to_member(*row): # 튜플 데이터를 매개변수로 받아 Member형 객체로 return\n",
    "    return Member(row[0], row[1], row[2])"
   ]
  },
  {
   "cell_type": "code",
<<<<<<< HEAD
   "execution_count": 21,
   "id": "dd0abc35",
   "metadata": {},
   "outputs": [
    {
     "name": "stdout",
     "output_type": "stream",
     "text": [
      "홍길동\t20\th@h.com\n",
      "{'name': '홍길동', 'age': 20, 'email': 'h@h.com'}\n"
     ]
    }
   ],
=======
   "execution_count": null,
   "id": "dd0abc35",
   "metadata": {},
   "outputs": [],
>>>>>>> 69b5815e1e3dfb8b4120e1612372787970063d90
   "source": [
    "dbreadmember = ('홍길동', 20, 'h@h.com')\n",
    "m = to_member(*dbreadmember) # 튜플 언패킹\n",
    "print(m)\n",
    "print(m.as_dic())"
   ]
  },
  {
   "cell_type": "code",
   "execution_count": null,
   "id": "86bb4873",
   "metadata": {},
   "outputs": [],
   "source": [
    "# DB 검색 결과를 객체 list로 \n",
    "cursor.execute('SELECT * FROM MEMBER')\n",
    "member_list = [] # SQL문 수행 결과를 담을 객체 list\n",
    "members = cursor.fetchall() # 튜플 리스트\n",
    "for member in members:\n",
    "    member_list.append(to_member(*member))"
   ]
  },
  {
   "cell_type": "code",
   "execution_count": null,
   "id": "cd87f045",
   "metadata": {},
   "outputs": [],
   "source": [
    "type(members[0]), type(member_list[0])"
   ]
  },
  {
   "cell_type": "code",
   "execution_count": null,
   "id": "9541c731",
   "metadata": {},
   "outputs": [],
   "source": [
    "for member in member_list:\n",
    "    print(member)"
   ]
  },
  {
   "cell_type": "markdown",
   "id": "faa6f27c",
   "metadata": {},
   "source": [
    "## 1.3 SQL구문에 파라미터 사용하기\n",
<<<<<<< HEAD
    "- qmark(DB에 따라 불가한 경우가 있음) 자바의 pstmt랑 비슷함\n",
=======
    "- qmark(DB에 따라 불가한 경우가 있음) 자바의 pstmt랑 비슷함ㄴ\n",
>>>>>>> 69b5815e1e3dfb8b4120e1612372787970063d90
    "- named(추천)"
   ]
  },
  {
   "cell_type": "code",
   "execution_count": null,
   "id": "85e72cf8",
   "metadata": {},
   "outputs": [],
   "source": [
    "conn = sqlite3.connect('data/ch10_example.db')\n",
    "cursor = conn.cursor()\n",
    "cursor.execute(\"SELECT * FROM MEMBER WHERE NAME IN ('홍길동','신길동')\")\n",
    "cursor.fetchall()"
   ]
  },
  {
   "cell_type": "code",
   "execution_count": null,
   "id": "7ca00693",
   "metadata": {},
   "outputs": [],
   "source": [
    "# 파라미터 사용하기 : qmark 방법 이용\n",
    "name1 = input('검색할이름1 :')\n",
    "name2 = input('검색할이름2 :')\n",
    "cursor.execute(\"SELECT * FROM MEMBER WHERE NAME IN (?,?)\",(name1, name2))\n",
    "cursor.fetchall()"
   ]
  },
  {
   "cell_type": "code",
   "execution_count": null,
   "id": "ffbcca1a",
   "metadata": {},
   "outputs": [],
   "source": [
    "# 파라미터 사용하기 : qmark 방법 이용\n",
    "name1 = input('검색할이름1 :')\n",
    "name2 = input('검색할이름2 :')\n",
    "names = [name1, name2]\n",
    "cursor.execute(\"SELECT * FROM MEMBER WHERE NAME IN (?,?)\",names)\n",
    "cursor.fetchall()"
   ]
  },
  {
   "cell_type": "code",
   "execution_count": null,
   "id": "fa97b871",
   "metadata": {},
   "outputs": [],
   "source": [
    "# 파라미터 사용하기 : named 방법 이용\n",
    "name = input('검색할 이름은 > ')\n",
    "cursor.execute(\"SELECT * FROM MEMBER WHERE NAME=:name\", {\"name\":name})\n",
    "members = cursor.fetchall()\n",
    "if len(members):\n",
    "    print(members)\n",
    "else:\n",
    "    print('해당 이름의 데이터가 없습니다', members)"
   ]
  },
  {
   "cell_type": "code",
   "execution_count": 9,
   "id": "4796faef",
   "metadata": {},
   "outputs": [
    {
     "name": "stdout",
     "output_type": "stream",
     "text": [
      "검색할이름1 :d\n",
      "검색할이름2 :d\n"
     ]
    },
    {
     "data": {
      "text/plain": [
       "[]"
      ]
     },
     "execution_count": 9,
     "metadata": {},
     "output_type": "execute_result"
    }
   ],
   "source": [
    "# 파라미터 사용하기 : named 방법 이용\n",
    "name1 = input('검색할이름1 :')\n",
    "name2 = input('검색할이름2 :')\n",
    "names = {'name1':name1, 'name2':name2}\n",
    "# cursor.execute(\"SELECT * FROM MEMBER WHERE NAME IN (:name1, :name2), {'name1':name1, 'name2':name2})\n",
    "cursor.execute(\"SELECT * FROM MEMBER WHERE NAME IN (:name1, :name2)\", names)\n",
    "cursor.fetchall()"
   ]
  },
  {
   "cell_type": "code",
   "execution_count": 10,
   "id": "bf4912aa",
   "metadata": {},
   "outputs": [],
   "source": [
    "cursor.close() # cursor.close()는 생략가능\n",
    "conn.close() # conn은 꼭 close() cursors는 자동으로 닫아줌"
   ]
  },
  {
   "cell_type": "code",
   "execution_count": 11,
   "id": "5ba64f32",
   "metadata": {},
   "outputs": [],
   "source": [
    "import sqlite3\n",
    "conn = sqlite3.connect('data/ch10_example.db')\n",
    "cursor = conn.cursor()"
   ]
  },
  {
   "cell_type": "code",
   "execution_count": null,
   "id": "3d35ff65",
   "metadata": {},
   "outputs": [],
   "source": [
    "# MEMBER 테이블에 입력(사용자로부터 이름, 나이, 메일을 입력받아 insert)"
   ]
  },
  {
   "cell_type": "code",
   "execution_count": 16,
   "id": "8203976a",
   "metadata": {},
   "outputs": [
    {
     "name": "stdout",
     "output_type": "stream",
     "text": [
      "입력할 이름 :임세현\n",
      "입력할 나이 :26\n",
      "입력할 메일 :im@im.com\n",
      "저장완료\n"
     ]
    }
   ],
   "source": [
    "try :\n",
    "    name = input('입력할 이름 :')\n",
    "    age = int(input('입력할 나이 :'))\n",
    "except ValueError :\n",
    "    print('유효하지 않은 나이 입니다 18세로 초기화합니다')\n",
    "    age = 18\n",
    "finally :\n",
    "    email = input('입력할 메일 :')\n",
    "inputdata = {'name':name, 'age':age, 'email':email} # class생성을 안했을시 named방식\n",
    "# inputdata2 = (name, age, email) # qmark 방식\n",
    "cursor.execute('INSERT INTO MEMBER VALUES (:name, :age, :email)', inputdata)\n",
    "conn.commit()\n",
    "if cursor.rowcount == 1:\n",
    "    print('저장완료')"
   ]
  },
  {
   "cell_type": "code",
   "execution_count": 17,
   "id": "85c106d3",
   "metadata": {},
   "outputs": [
    {
     "data": {
      "text/plain": [
       "[('홍길동', 20, 'h@h.com'),\n",
       " ('신길동', 25, 's@s.com'),\n",
       " ('신림동', 30, 'l@l.com'),\n",
       " ('홍길동', 20, 'h@h.com'),\n",
       " ('신길동', 25, 's@s.com'),\n",
       " ('신림동', 30, 'l@l.com'),\n",
       " ('홍길뚱', 18, 'g@h,com'),\n",
       " ('임세현', 26, 'im@im.com')]"
      ]
     },
     "execution_count": 17,
     "metadata": {},
     "output_type": "execute_result"
    }
   ],
   "source": [
    "cursor.execute('SELECT * FROM MEMBER')\n",
    "cursor.fetchall()"
   ]
  },
  {
   "cell_type": "code",
   "execution_count": 24,
   "id": "4146d9b8",
   "metadata": {},
   "outputs": [
    {
     "name": "stdout",
     "output_type": "stream",
     "text": [
      "입력할 이름 :d\n",
      "입력할 나이 :d\n",
      "유효하지 않은 나이 입니다 18세로 초기화합니다\n",
      "입력할 메일 :d\n",
      "{'name': 'd', 'age': 18, 'email': 'd'}\n",
      "입력성공\n"
     ]
    }
   ],
   "source": [
    "try :\n",
    "    name = input('입력할 이름 :')\n",
    "    age = int(input('입력할 나이 :'))\n",
    "except ValueError :\n",
    "    print('유효하지 않은 나이 입니다 18세로 초기화합니다')\n",
    "    age = 18\n",
    "finally :\n",
    "    email = input('입력할 메일 :')\n",
    "    \n",
    "newMember = Member(name, age, email)\n",
    "print(newMember.as_dic())\n",
    "cursor.execute('INSERT INTO MEMBER VALUES (:name, :age, :email)', newMember.as_dic())\n",
    "conn.commit()\n",
    "if cursor.rowcount == 1:\n",
    "    print('입력성공')"
   ]
  },
  {
   "cell_type": "code",
   "execution_count": 41,
   "id": "f36d744e",
   "metadata": {},
   "outputs": [
    {
     "name": "stdout",
     "output_type": "stream",
     "text": [
      "입력할 이름 :가\n",
      "입력할 나이 :1\n",
      "입력할 메일 :2\n",
      "입력할 이름 :나\n",
      "입력할 나이 :2\n",
      "입력할 메일 :2\n",
      "입력할 이름 :0\n",
      "입력된 데이터는:2명입니다\n",
      "{'name': '나', 'age': 2, 'email': '2'}\n"
     ]
    }
   ],
   "source": [
    "# member 테이블에 데이터를 n번 입력하고 \n",
    "# 이름에 0을 입력할 때까지 이름, 나이, 메일을 받아 insert \n",
    "# 이름에 0을 입력하면 이때까지 입력한 데이터들을 출력하고 몇명을 입력했는지도 출력\n",
    "member_list = [] # 입력한 member들이 저장될 list변수(딕셔너리 리스트)\n",
    "while True :\n",
    "    try :\n",
    "        name = input('입력할 이름 :')\n",
    "        if name == '0' :\n",
    "            break\n",
    "        age = int(input('입력할 나이 :'))\n",
    "        email = input('입력할 메일 :')\n",
    "    except ValueError:\n",
    "        print('유효하지 않은 나이 18살로 초기화합니다')\n",
    "        age = 18\n",
    "        email = input('입력할 메일 :')\n",
    "    members = {'name':name, 'age':age, 'email':email}\n",
    "    member_list.append(members)\n",
    "    cursor.execute('INSERT INTO MEMBER VALUES (:name, :age, :email)', members)\n",
    "conn.commit()\n",
    "print('입력된 데이터는:', len(member_list), '명입니다', sep='')\n",
    "for member in member_list:\n",
    "    print(\"{}\\t{}\\t{}\".format(member['name'],member['age'],member['email'] ))"
   ]
  },
  {
   "cell_type": "code",
   "execution_count": 47,
   "id": "058053ac",
   "metadata": {},
   "outputs": [
    {
     "name": "stdout",
     "output_type": "stream",
     "text": [
      "입력할 이름 : (종료는 0)진쪽이\n",
      "입력할 나이 :30\n",
      "입력할 메일 :2@2\n",
      "입력할 이름 : (종료는 0)0\n",
      "입력된 데이터는 1명입니다\n",
      "이름\t나이\t메일\n",
      "진쪽이\t30\t2@2\n"
     ]
    }
   ],
   "source": [
    "member_list = [] # 입력한 member들이 저장될 list변수(객체 리스트)\n",
    "while True :\n",
    "    try :\n",
    "        name = input('입력할 이름 : (종료는 0)')\n",
    "        if name == '0' :\n",
    "            break\n",
    "        age = int(input('입력할 나이 :'))\n",
    "        email = input('입력할 메일 :')\n",
    "    except ValueError:\n",
    "        print('유효하지 않은 나이 18살로 초기화합니다')\n",
    "        age = 18\n",
    "        email = input('입력할 메일 :')\n",
    "    members = Member(name, age, email)\n",
    "    member_list.append(members)\n",
    "    cursor.execute('INSERT INTO MEMBER VALUES (:name, :age, :email)', members.as_dic())\n",
    "conn.commit()\n",
    "print('입력된 데이터는 {}명입니다'.format(len(member_list)))\n",
    "print('이름\\t나이\\t메일')\n",
    "for member in member_list:\n",
    "    print(member)"
   ]
  },
  {
   "cell_type": "code",
   "execution_count": 48,
   "id": "a6dd57f0",
   "metadata": {},
   "outputs": [
    {
     "data": {
      "text/plain": [
       "[('홍길동', 20, 'h@h.com'),\n",
       " ('신길동', 25, 's@s.com'),\n",
       " ('신림동', 30, 'l@l.com'),\n",
       " ('홍길동', 20, 'h@h.com'),\n",
       " ('신길동', 25, 's@s.com'),\n",
       " ('신림동', 30, 'l@l.com'),\n",
       " ('홍길뚱', 18, 'g@h,com'),\n",
       " ('임세현', 26, 'im@im.com'),\n",
       " ('d', 18, 'd'),\n",
       " ('금쪽이', 30, 'g@G.com'),\n",
       " ('금쪽이', 30, 'gi2gidm'),\n",
       " ('금쪽이', 18, '라ㅑ@랴ㅏ'),\n",
       " ('금쪽이', 30, 'ㅇ@ㅇ.채ㅡ'),\n",
       " ('그쪽이', 18, 'ㅇㄹㅇ'),\n",
       " ('금쪽이', 30, '아링@아러'),\n",
       " ('금쪽이', 18, 'ㅇ'),\n",
       " ('금쪽이', 30, 'ㅇ'),\n",
       " ('금쪽이', 30, 'ㅇ'),\n",
       " ('가', 1, '2'),\n",
       " ('나', 2, '2'),\n",
       " ('금쪽이', 30, 'ㅎ@ㅎ'),\n",
       " ('금쪽이', 30, 'ㅇ@ㅇ'),\n",
       " ('금쪽이', 30, '30@0'),\n",
       " ('진쪽이', 30, '2@2')]"
      ]
     },
     "execution_count": 48,
     "metadata": {},
     "output_type": "execute_result"
    }
   ],
   "source": [
    "# 입력확인은 DB browser 나 python으로\n",
    "cursor.execute('SELECT * FROM MEMBER')\n",
    "cursor.fetchall()"
   ]
  },
  {
   "cell_type": "code",
   "execution_count": 49,
   "id": "dde91590",
   "metadata": {},
   "outputs": [],
   "source": [
    "cursor.close()\n",
    "conn.close()"
   ]
  },
  {
   "cell_type": "markdown",
   "id": "813d00a4",
   "metadata": {},
   "source": [
    "# 2절. 오라클 데이터 베이스 연결\n",
    "- [cx_Oracle](https://cx-oracle.readthedocs.io/en/latest/) 사용"
   ]
  },
  {
   "cell_type": "code",
   "execution_count": 50,
   "id": "2ef3b8d9",
   "metadata": {},
   "outputs": [],
   "source": [
    "import cx_Oracle # anaconda prompt 에서 pip install cx_Oracle"
   ]
  },
  {
   "cell_type": "code",
   "execution_count": 51,
   "id": "a67557b6",
   "metadata": {},
   "outputs": [
    {
     "name": "stdout",
     "output_type": "stream",
     "text": [
      "(DESCRIPTION=(ADDRESS=(PROTOCOL=TCP)(HOST=localhost)(PORT=1521))(CONNECT_DATA=(SID=xe)))\n"
     ]
    },
    {
     "data": {
      "text/plain": [
       "<cx_Oracle.Connection to scott@(DESCRIPTION=(ADDRESS=(PROTOCOL=TCP)(HOST=localhost)(PORT=1521))(CONNECT_DATA=(SID=xe)))>"
      ]
     },
     "execution_count": 51,
     "metadata": {},
     "output_type": "execute_result"
    }
   ],
   "source": [
    "# conn 얻어오는 방법1\n",
    "oracle_dsn = cx_Oracle.makedsn(host='localhost', port=1521, sid='xe')\n",
    "print(oracle_dsn)\n",
    "conn = cx_Oracle.connect(\"scott\", \"tiger\", dsn=oracle_dsn)\n",
    "conn\n",
    "# 여기서 예외가 날 경우 VC_redist.x64.exe 인스톨 다운받기"
   ]
  },
  {
   "cell_type": "code",
   "execution_count": 52,
   "id": "c43f6e85",
   "metadata": {},
   "outputs": [],
   "source": [
    "conn.close()"
   ]
  },
  {
   "cell_type": "code",
   "execution_count": 55,
   "id": "65cb6b64",
   "metadata": {},
   "outputs": [
    {
     "data": {
      "text/plain": [
       "<cx_Oracle.Connection to scott@localhost:1521/xe>"
      ]
     },
     "execution_count": 55,
     "metadata": {},
     "output_type": "execute_result"
    }
   ],
   "source": [
    "# conn 얻어오는 방법2\n",
    "conn = cx_Oracle.connect(\"scott\",\"tiger\",\"localhost:1521/xe\")\n",
    "conn"
   ]
  },
  {
   "cell_type": "code",
   "execution_count": 57,
   "id": "15b2e6cd",
   "metadata": {},
   "outputs": [],
   "source": [
    "# cursor 객체 생성\n",
    "cursor = conn.cursor()\n",
    "sql = \"SELECT * FROM EMP\"\n",
    "cursor.execute(sql)\n",
    "emp = cursor.fetchall()"
   ]
  },
  {
   "cell_type": "code",
   "execution_count": 58,
   "id": "74f86e2a",
   "metadata": {},
   "outputs": [
    {
     "name": "stdout",
     "output_type": "stream",
     "text": [
      "(7369, 'SMITH', 'CLERK', 7902, datetime.datetime(1980, 12, 17, 0, 0), 800.0, None, 20)\n",
      "(7499, 'ALLEN', 'SALESMAN', 7698, datetime.datetime(1981, 2, 20, 0, 0), 1600.0, 300.0, 30)\n",
      "(7521, 'WARD', 'SALESMAN', 7698, datetime.datetime(1981, 2, 22, 0, 0), 1250.0, 500.0, 30)\n",
      "(7566, 'JONES', 'MANAGER', 7839, datetime.datetime(1981, 4, 2, 0, 0), 2975.0, None, 20)\n",
      "(7654, 'MARTIN', 'SALESMAN', 7698, datetime.datetime(1981, 9, 28, 0, 0), 1250.0, 1400.0, 30)\n",
      "(7698, 'BLAKE', 'MANAGER', 7839, datetime.datetime(1981, 5, 1, 0, 0), 2850.0, None, 30)\n",
      "(7782, 'CLARK', 'MANAGER', 7839, datetime.datetime(1981, 6, 9, 0, 0), 2450.0, None, 10)\n",
      "(7788, 'SCOTT', 'ANALYST', 7566, datetime.datetime(1982, 12, 9, 0, 0), 3000.0, None, 20)\n",
      "(7839, 'KING', 'PRESIDENT', None, datetime.datetime(1981, 11, 17, 0, 0), 5000.0, None, 10)\n",
      "(7844, 'TURNER', 'SALESMAN', 7698, datetime.datetime(1981, 9, 8, 0, 0), 1500.0, 0.0, 30)\n",
      "(7876, 'ADAMS', 'CLERK', 7788, datetime.datetime(1983, 1, 12, 0, 0), 1100.0, None, 20)\n",
      "(7900, 'JAMES', 'CLERK', 7698, datetime.datetime(1981, 12, 3, 0, 0), 950.0, None, 30)\n",
      "(7902, 'FORD', 'ANALYST', 7566, datetime.datetime(1981, 12, 3, 0, 0), 3000.0, None, 20)\n",
      "(7934, 'MILLER', 'CLERK', 7782, datetime.datetime(1982, 1, 23, 0, 0), 1300.0, None, 10)\n"
     ]
    }
   ],
   "source": [
    "for e in emp: # 튜플 리스트라 field가 많은 경우 가독성 다소 떨어짐\n",
    "    print(e)"
   ]
  },
  {
   "cell_type": "code",
   "execution_count": 62,
   "id": "7846e82f",
   "metadata": {
    "scrolled": true
   },
   "outputs": [
    {
     "data": {
      "text/html": [
       "<div>\n",
       "<style scoped>\n",
       "    .dataframe tbody tr th:only-of-type {\n",
       "        vertical-align: middle;\n",
       "    }\n",
       "\n",
       "    .dataframe tbody tr th {\n",
       "        vertical-align: top;\n",
       "    }\n",
       "\n",
       "    .dataframe thead th {\n",
       "        text-align: right;\n",
       "    }\n",
       "</style>\n",
       "<table border=\"1\" class=\"dataframe\">\n",
       "  <thead>\n",
       "    <tr style=\"text-align: right;\">\n",
       "      <th></th>\n",
       "      <th>0</th>\n",
       "      <th>1</th>\n",
       "      <th>2</th>\n",
       "      <th>3</th>\n",
       "      <th>4</th>\n",
       "      <th>5</th>\n",
       "      <th>6</th>\n",
       "      <th>7</th>\n",
       "    </tr>\n",
       "  </thead>\n",
       "  <tbody>\n",
       "    <tr>\n",
       "      <th>0</th>\n",
       "      <td>7369</td>\n",
       "      <td>SMITH</td>\n",
       "      <td>CLERK</td>\n",
       "      <td>7902.0</td>\n",
       "      <td>1980-12-17</td>\n",
       "      <td>800.0</td>\n",
       "      <td>NaN</td>\n",
       "      <td>20</td>\n",
       "    </tr>\n",
       "    <tr>\n",
       "      <th>1</th>\n",
       "      <td>7499</td>\n",
       "      <td>ALLEN</td>\n",
       "      <td>SALESMAN</td>\n",
       "      <td>7698.0</td>\n",
       "      <td>1981-02-20</td>\n",
       "      <td>1600.0</td>\n",
       "      <td>300.0</td>\n",
       "      <td>30</td>\n",
       "    </tr>\n",
       "    <tr>\n",
       "      <th>2</th>\n",
       "      <td>7521</td>\n",
       "      <td>WARD</td>\n",
       "      <td>SALESMAN</td>\n",
       "      <td>7698.0</td>\n",
       "      <td>1981-02-22</td>\n",
       "      <td>1250.0</td>\n",
       "      <td>500.0</td>\n",
       "      <td>30</td>\n",
       "    </tr>\n",
       "    <tr>\n",
       "      <th>3</th>\n",
       "      <td>7566</td>\n",
       "      <td>JONES</td>\n",
       "      <td>MANAGER</td>\n",
       "      <td>7839.0</td>\n",
       "      <td>1981-04-02</td>\n",
       "      <td>2975.0</td>\n",
       "      <td>NaN</td>\n",
       "      <td>20</td>\n",
       "    </tr>\n",
       "    <tr>\n",
       "      <th>4</th>\n",
       "      <td>7654</td>\n",
       "      <td>MARTIN</td>\n",
       "      <td>SALESMAN</td>\n",
       "      <td>7698.0</td>\n",
       "      <td>1981-09-28</td>\n",
       "      <td>1250.0</td>\n",
       "      <td>1400.0</td>\n",
       "      <td>30</td>\n",
       "    </tr>\n",
       "  </tbody>\n",
       "</table>\n",
       "</div>"
      ],
      "text/plain": [
       "      0       1         2       3          4       5       6   7\n",
       "0  7369   SMITH     CLERK  7902.0 1980-12-17   800.0     NaN  20\n",
       "1  7499   ALLEN  SALESMAN  7698.0 1981-02-20  1600.0   300.0  30\n",
       "2  7521    WARD  SALESMAN  7698.0 1981-02-22  1250.0   500.0  30\n",
       "3  7566   JONES   MANAGER  7839.0 1981-04-02  2975.0     NaN  20\n",
       "4  7654  MARTIN  SALESMAN  7698.0 1981-09-28  1250.0  1400.0  30"
      ]
     },
     "execution_count": 62,
     "metadata": {},
     "output_type": "execute_result"
    }
   ],
   "source": [
    "import pandas as pd\n",
    "emp_df = pd.DataFrame(emp)\n",
    "emp_df.head()"
   ]
  },
  {
   "cell_type": "code",
   "execution_count": 63,
   "id": "7ad27664",
   "metadata": {},
   "outputs": [
    {
     "data": {
      "text/plain": [
       "[('EMPNO', <cx_Oracle.DbType DB_TYPE_NUMBER>, 5, None, 4, 0, 0),\n",
       " ('ENAME', <cx_Oracle.DbType DB_TYPE_VARCHAR>, 10, 10, None, None, 1),\n",
       " ('JOB', <cx_Oracle.DbType DB_TYPE_VARCHAR>, 9, 9, None, None, 1),\n",
       " ('MGR', <cx_Oracle.DbType DB_TYPE_NUMBER>, 5, None, 4, 0, 1),\n",
       " ('HIREDATE', <cx_Oracle.DbType DB_TYPE_DATE>, 23, None, None, None, 1),\n",
       " ('SAL', <cx_Oracle.DbType DB_TYPE_NUMBER>, 11, None, 7, 2, 1),\n",
       " ('COMM', <cx_Oracle.DbType DB_TYPE_NUMBER>, 11, None, 7, 2, 1),\n",
       " ('DEPTNO', <cx_Oracle.DbType DB_TYPE_NUMBER>, 3, None, 2, 0, 1)]"
      ]
     },
     "execution_count": 63,
     "metadata": {},
     "output_type": "execute_result"
    }
   ],
   "source": [
    "# select문 수행한 필드 정보\n",
    "cursor.description"
   ]
  },
  {
   "cell_type": "code",
   "execution_count": 69,
   "id": "53bd0480",
   "metadata": {},
   "outputs": [
    {
     "data": {
      "text/plain": [
       "['empno', 'ename', 'job', 'mgr', 'hiredate', 'sal', 'comm', 'deptno']"
      ]
     },
     "execution_count": 69,
     "metadata": {},
     "output_type": "execute_result"
    }
   ],
   "source": [
    "result = []\n",
    "for description in cursor.description:\n",
    "    result.append(description[0].lower())\n",
    "result"
   ]
  },
  {
   "cell_type": "code",
   "execution_count": 70,
   "id": "4a93d955",
   "metadata": {},
   "outputs": [
    {
     "name": "stdout",
     "output_type": "stream",
     "text": [
      "['EMPNO', 'ENAME', 'JOB', 'MGR', 'HIREDATE', 'SAL', 'COMM', 'DEPTNO']\n"
     ]
    }
   ],
   "source": [
    "print([row[0] for row in cursor.description]) # 리스트컴프리헨션"
   ]
  },
  {
   "cell_type": "code",
   "execution_count": 72,
   "id": "1f3b3cf9",
   "metadata": {},
   "outputs": [
    {
     "data": {
      "text/plain": [
       "RangeIndex(start=0, stop=8, step=1)"
      ]
     },
     "execution_count": 72,
     "metadata": {},
     "output_type": "execute_result"
    }
   ],
   "source": [
    "emp_df.columns"
   ]
  },
  {
   "cell_type": "code",
   "execution_count": 74,
   "id": "cfbd3058",
   "metadata": {},
   "outputs": [
    {
     "data": {
      "text/html": [
       "<div>\n",
       "<style scoped>\n",
       "    .dataframe tbody tr th:only-of-type {\n",
       "        vertical-align: middle;\n",
       "    }\n",
       "\n",
       "    .dataframe tbody tr th {\n",
       "        vertical-align: top;\n",
       "    }\n",
       "\n",
       "    .dataframe thead th {\n",
       "        text-align: right;\n",
       "    }\n",
       "</style>\n",
       "<table border=\"1\" class=\"dataframe\">\n",
       "  <thead>\n",
       "    <tr style=\"text-align: right;\">\n",
       "      <th></th>\n",
       "      <th>EMPNO</th>\n",
       "      <th>ENAME</th>\n",
       "      <th>JOB</th>\n",
       "      <th>MGR</th>\n",
       "      <th>HIREDATE</th>\n",
       "      <th>SAL</th>\n",
       "      <th>COMM</th>\n",
       "      <th>DEPTNO</th>\n",
       "    </tr>\n",
       "  </thead>\n",
       "  <tbody>\n",
       "    <tr>\n",
       "      <th>13</th>\n",
       "      <td>7934</td>\n",
       "      <td>MILLER</td>\n",
       "      <td>CLERK</td>\n",
       "      <td>7782.0</td>\n",
       "      <td>1982-01-23</td>\n",
       "      <td>1300.0</td>\n",
       "      <td>NaN</td>\n",
       "      <td>10</td>\n",
       "    </tr>\n",
       "  </tbody>\n",
       "</table>\n",
       "</div>"
      ],
      "text/plain": [
       "    EMPNO   ENAME    JOB     MGR   HIREDATE     SAL  COMM  DEPTNO\n",
       "13   7934  MILLER  CLERK  7782.0 1982-01-23  1300.0   NaN      10"
      ]
     },
     "execution_count": 74,
     "metadata": {},
     "output_type": "execute_result"
    }
   ],
   "source": [
    "emp_df.columns = [row[0] for row in cursor.description]\n",
    "emp_df.sample() # 임의의 한줄 출력"
   ]
  },
  {
   "cell_type": "code",
   "execution_count": 79,
   "id": "6e161576",
   "metadata": {},
   "outputs": [
    {
     "name": "stdout",
     "output_type": "stream",
     "text": [
      "검색할 이름 :scott\n",
      "(7788, 'SCOTT', 'ANALYST', 7566, datetime.datetime(1982, 12, 9, 0, 0), 3000.0, None, 20)\n"
     ]
    }
   ],
   "source": [
    "# 검색할 이름을 사용자에게 받아 해당 내용을 출력\n",
    "name = input('검색할 이름 :')\n",
    "sql = \"SELECT * FROM EMP WHERE ENAME=UPPER(:name)\"\n",
    "cursor.execute(sql, {'name':name})\n",
    "emp = cursor.fetchall()\n",
    "if len(emp):\n",
    "    for e in emp :\n",
    "        print(e)\n",
    "else :\n",
    "    print('입력하신 이름의 데이터가 없습니다')"
   ]
  },
  {
   "cell_type": "code",
   "execution_count": 80,
   "id": "3bcd9582",
   "metadata": {},
   "outputs": [
    {
     "name": "stdout",
     "output_type": "stream",
     "text": [
      "['EMPNO', 'ENAME', 'JOB', 'MGR', 'HIREDATE', 'SAL', 'COMM', 'DEPTNO']\n",
      "(7788, 'SCOTT', 'ANALYST', 7566, datetime.datetime(1982, 12, 9, 0, 0), 3000.0, None, 20)\n"
     ]
    }
   ],
   "source": [
    "fieldnames= [description[0] for description in cursor.description]\n",
    "print(fieldnames)\n",
    "print(e)"
   ]
  },
  {
   "cell_type": "code",
   "execution_count": 84,
   "id": "2c86e803",
   "metadata": {},
   "outputs": [
    {
     "name": "stdout",
     "output_type": "stream",
     "text": [
      "EMPNO:7788\n",
      "ENAME:SCOTT\n",
      "JOB:ANALYST\n",
      "MGR:7566\n",
      "HIREDATE:1982-12-09 00:00:00\n",
      "SAL:3000.0\n",
      "COMM:\n",
      "DEPTNO:20\n"
     ]
    }
   ],
   "source": [
    "for idx in range(len(e)):\n",
    "    print(\"{}:{}\".format(fieldnames[idx], e[idx] if e[idx] is not None else ''))"
   ]
  },
  {
   "cell_type": "code",
   "execution_count": 88,
   "id": "bcf38d29",
   "metadata": {},
   "outputs": [
    {
     "data": {
      "text/plain": [
       "[('EMPNO', 7788),\n",
       " ('ENAME', 'SCOTT'),\n",
       " ('JOB', 'ANALYST'),\n",
       " ('MGR', 7566),\n",
       " ('HIREDATE', datetime.datetime(1982, 12, 9, 0, 0)),\n",
       " ('SAL', 3000.0),\n",
       " ('COMM', None),\n",
       " ('DEPTNO', 20)]"
      ]
     },
     "execution_count": 88,
     "metadata": {},
     "output_type": "execute_result"
    }
   ],
   "source": [
    "list(zip(fieldnames, e))"
   ]
  },
  {
   "cell_type": "code",
   "execution_count": 91,
   "id": "190fd244",
   "metadata": {},
   "outputs": [
    {
     "name": "stdout",
     "output_type": "stream",
     "text": [
      "EMPNO:7788\n",
      "ENAME:SCOTT\n",
      "JOB:ANALYST\n",
      "MGR:7566\n",
      "HIREDATE:1982-12-09 00:00:00\n",
      "SAL:3000.0\n",
      "COMM:-\n",
      "DEPTNO:20\n"
     ]
    }
   ],
   "source": [
    "for fieldname, data in zip(fieldnames, e):\n",
    "    print('{}:{}'.format(fieldname, data if data is not None else '-'))"
   ]
  },
  {
   "cell_type": "code",
   "execution_count": 92,
   "id": "349558c9",
   "metadata": {},
   "outputs": [],
   "source": [
    "cursor.close()\n",
    "conn.close()"
   ]
  },
  {
   "cell_type": "markdown",
   "id": "240d7564",
   "metadata": {},
   "source": [
    "# 3절. 연습문제"
   ]
  },
  {
   "cell_type": "code",
   "execution_count": 213,
   "id": "c8e996aa",
   "metadata": {},
   "outputs": [
    {
     "data": {
      "text/plain": [
       "<sqlite3.Connection at 0x2a4107e4040>"
      ]
     },
     "execution_count": 213,
     "metadata": {},
     "output_type": "execute_result"
    }
   ],
   "source": [
    "conn = sqlite3.connect('data/ch10_data.db')\n",
    "conn"
   ]
  },
  {
   "cell_type": "code",
   "execution_count": 214,
   "id": "4310d91c",
   "metadata": {},
   "outputs": [
    {
     "data": {
      "text/plain": [
       "<sqlite3.Cursor at 0x2a410805440>"
      ]
     },
     "execution_count": 214,
     "metadata": {},
     "output_type": "execute_result"
    }
   ],
   "source": [
    "cursor = conn.cursor()\n",
    "cursor"
   ]
  },
  {
   "cell_type": "code",
   "execution_count": 208,
   "id": "e1fef181",
   "metadata": {},
   "outputs": [],
   "source": [
    "class Member :\n",
    "    def __init__(self, name, phone, email, age, grage, etc):\n",
    "        self.name = name\n",
    "        self.phone = phone\n",
    "        self.email = email\n",
    "        self.age = age\n",
    "        self.grade = grage\n",
    "        self.etc = etc\n",
    "    def as_dic(self):\n",
    "        return {'name':self.name,'phone':self.phone,'email':self.email,'age':self.age,'grade':self.grade,'etc':self.etc}\n",
    "    def __str__(self):\n",
    "        return '{},\\t{},\\t{},\\t{},\\t{},\\t{}'.format(self.name, self.phone, self.email, self.age, self.grade, self.etc)\n",
    "def to_member(*row) : # 튜플 데이터를 매개변수로 받아 Member형 객체로 반환\n",
    "    return Member(row[0], row[1], row[2], row[3], row[4], row[5])"
   ]
  },
  {
   "cell_type": "code",
   "execution_count": 209,
   "id": "ff4bf3d2",
   "metadata": {},
   "outputs": [
    {
     "name": "stdout",
     "output_type": "stream",
     "text": [
      "홍길동,\t010-9999-9999,\th@h.com,\t30,\t5,\t기타\n"
     ]
    }
   ],
   "source": [
    "test = Member('홍길동','010-9999-9999','h@h.com',30,5,'기타')\n",
    "print(test)"
   ]
  },
  {
   "cell_type": "code",
   "execution_count": 224,
   "id": "54cd0e23",
   "metadata": {},
   "outputs": [],
   "source": [
    "# 1. 입력 insert\n",
    "def insert_member():\n",
    "    cursor = conn.cursor()\n",
    "    name = input('입력할 이름 :')\n",
    "    phone = input('입력할 전화번호 :')\n",
    "    email = input('입력할 이메일 :')\n",
    "    try :\n",
    "        age = int(input('입력할 나이 :'))\n",
    "        if 0>age:\n",
    "            age = 0\n",
    "    except ValueError:\n",
    "        print('입력한 나이가 잘못되었습니다 18살로 초기화합니다')\n",
    "        age = 18\n",
    "    try:\n",
    "        grade = int(input('입력할 등급은 : '))\n",
    "        if 1 < grade :\n",
    "            grade = 1\n",
    "        if 5 < grade :\n",
    "            grade = 5\n",
    "    except ValueError:\n",
    "        print('유효하지 않은 등급입니다 1로 초기화합니다')\n",
    "        grade = 1\n",
    "    etc = input('입력할 메모 :')\n",
    "    newMember = Member(name, phone, email, age, grade, etc)\n",
    "    cursor.execute('INSERT INTO MEMBER VALUES (:name, :phone, :email, :age, :grade, :etc)', newMember.as_dic())\n",
    "    conn.commit()\n",
    "    cursor.close()\n",
    "    return newMember"
   ]
  },
  {
   "cell_type": "code",
   "execution_count": 225,
   "id": "11060ffc",
   "metadata": {},
   "outputs": [
    {
     "name": "stdout",
     "output_type": "stream",
     "text": [
      "입력할 이름 :홍\n",
      "입력할 전화번호 :111\n",
      "입력할 이메일 :11\n",
      "입력할 나이 :11\n",
      "입력할 등급은 : 1\n",
      "입력할 메모 :11\n"
     ]
    },
    {
     "ename": "OperationalError",
     "evalue": "database is locked",
     "output_type": "error",
     "traceback": [
      "\u001b[1;31m---------------------------------------------------------------------------\u001b[0m",
      "\u001b[1;31mOperationalError\u001b[0m                          Traceback (most recent call last)",
      "Cell \u001b[1;32mIn[225], line 1\u001b[0m\n\u001b[1;32m----> 1\u001b[0m member \u001b[38;5;241m=\u001b[39m \u001b[43minsert_member\u001b[49m\u001b[43m(\u001b[49m\u001b[43m)\u001b[49m\n\u001b[0;32m      2\u001b[0m \u001b[38;5;28mprint\u001b[39m(\u001b[38;5;124m'\u001b[39m\u001b[38;5;124m입력한 정보로 만든 Member 객체 :\u001b[39m\u001b[38;5;124m'\u001b[39m,member)\n\u001b[0;32m      3\u001b[0m member_list\u001b[38;5;241m.\u001b[39mappend(member)\n",
      "Cell \u001b[1;32mIn[224], line 26\u001b[0m, in \u001b[0;36minsert_member\u001b[1;34m()\u001b[0m\n\u001b[0;32m     24\u001b[0m newMember \u001b[38;5;241m=\u001b[39m Member(name, phone, email, age, grade, etc)\n\u001b[0;32m     25\u001b[0m cursor\u001b[38;5;241m.\u001b[39mexecute(\u001b[38;5;124m'\u001b[39m\u001b[38;5;124mINSERT INTO MEMBER VALUES (:name, :phone, :email, :age, :grade, :etc)\u001b[39m\u001b[38;5;124m'\u001b[39m, newMember\u001b[38;5;241m.\u001b[39mas_dic())\n\u001b[1;32m---> 26\u001b[0m \u001b[43mconn\u001b[49m\u001b[38;5;241;43m.\u001b[39;49m\u001b[43mcommit\u001b[49m\u001b[43m(\u001b[49m\u001b[43m)\u001b[49m\n\u001b[0;32m     27\u001b[0m cursor\u001b[38;5;241m.\u001b[39mclose()\n\u001b[0;32m     28\u001b[0m \u001b[38;5;28;01mreturn\u001b[39;00m newMember\n",
      "\u001b[1;31mOperationalError\u001b[0m: database is locked"
     ]
    }
   ],
   "source": [
    "member = insert_member()\n",
    "print('입력한 정보로 만든 Member 객체 :',member)\n",
    "member_list.append(member)"
   ]
  },
  {
   "cell_type": "code",
   "execution_count": 222,
   "id": "bd28e4b4",
   "metadata": {},
   "outputs": [],
   "source": [
    "# 2. 전체 출력\n",
    "def select_all():\n",
    "    cursor = conn.cursor()\n",
    "    cursor.execute('SELECT * FROM MEMBER')\n",
    "    c1 = cursor.fetchall()\n",
    "    if len(c1):\n",
    "        print('데이터가 없으')\n",
    "    for c in c1:\n",
    "        member = to_member(*c)\n",
    "        print(member)\n",
    "    cursor.close()"
   ]
  },
  {
   "cell_type": "code",
   "execution_count": 223,
   "id": "df7daca7",
   "metadata": {},
   "outputs": [
    {
     "name": "stdout",
     "output_type": "stream",
     "text": [
      "[]\n"
     ]
    }
   ],
   "source": [
    "select_all()"
   ]
  },
  {
   "cell_type": "code",
   "execution_count": 190,
   "id": "fd289ad0",
   "metadata": {},
   "outputs": [],
   "source": [
    "# 3. 이름 검색\n",
    "def select_name():\n",
    "    cursor = conn.cursor()\n",
    "    name = input('검색할 이름은 :')\n",
    "    cursor.execute('SELECT * FROM MEMBER WHERE NAME =:name', {'name':name})\n",
    "    c = cursor.fetchall()\n",
    "    for c1 in c :\n",
    "        member = to_member(*c1)\n",
    "        print(member)\n",
    "    cursor.close()"
   ]
  },
  {
   "cell_type": "code",
   "execution_count": 191,
   "id": "b3f1fc58",
   "metadata": {},
   "outputs": [
    {
     "name": "stdout",
     "output_type": "stream",
     "text": [
      "검색할 이름은 :d\n"
     ]
    }
   ],
   "source": [
    "select_name()"
   ]
  },
  {
   "cell_type": "code",
   "execution_count": 174,
   "id": "de286ccd",
   "metadata": {},
   "outputs": [],
   "source": [
    "# 4. 메일 삭제\n",
    "def delete_email():\n",
    "    cursor = conn.cursor()\n",
    "    email = input('삭제할 이메일 :')\n",
    "    cursor.execute('SELECT * FROM MEMBER WHERE EMAIL =:email', {'email':email})\n",
    "    name = cursor.fetchall()\n",
    "    cursor.execute('DELETE FROM MEMBER WHERE EMAIL =:email', {'email':email})\n",
    "    conn.commit()\n",
    "    if cursor.rowcount >= 1:\n",
    "                   print('{} 삭제성공'.format(name))\n",
    "    else :\n",
    "        print(\"삭제할 이메일이 없습니다\")\n",
    "    cursor.close()"
   ]
  },
  {
   "cell_type": "code",
   "execution_count": 175,
   "id": "e99343be",
   "metadata": {},
   "outputs": [
    {
     "name": "stdout",
     "output_type": "stream",
     "text": [
      "삭제할 이메일 :ㅇ\n",
      "삭제할 이메일이 없습니다\n"
     ]
    }
   ],
   "source": [
    "delete_email()"
   ]
  },
  {
   "cell_type": "code",
   "execution_count": 186,
   "id": "0cc8fb60",
   "metadata": {},
   "outputs": [],
   "source": [
    "# 5. CSV 내보내기\n",
    "def save_csv():\n",
    "    cursor = conn.cursor()\n",
    "    save_member_list = []\n",
    "    cursor.execute('SELECT * FROM MEMBER')\n",
    "    member_list = cursor.fetchall()\n",
    "    print(member_list)\n",
    "    for member in member_list:\n",
    "        save_member = to_member(*member)\n",
    "        save_member_list.append(save_member.as_dic())\n",
    "    print(save_member_list)\n",
    "    fieldnames = list(save_member_list[0].keys())\n",
    "    filename = input('저장할 CSV 파일 이름은 ?')\n",
    "    try :\n",
    "        with open('data/{}.csv'.format(filename), 'w', newline='', encoding='UTF-8') as f:\n",
    "            dict_writer = csv.DictWriter(f, fieldnames=fieldnames)\n",
    "            dict_writer.writeheader()\n",
    "            dict_writer.writerows(save_member_list)\n",
    "    except Exception as e:\n",
    "        print('데이터 내보내기 예외 :', e)"
   ]
  },
  {
   "cell_type": "code",
   "execution_count": 187,
   "id": "8afcdc3c",
   "metadata": {},
   "outputs": [
    {
     "name": "stdout",
     "output_type": "stream",
     "text": [
      "[]\n",
      "[]\n"
     ]
    },
    {
     "ename": "IndexError",
     "evalue": "list index out of range",
     "output_type": "error",
     "traceback": [
      "\u001b[1;31m---------------------------------------------------------------------------\u001b[0m",
      "\u001b[1;31mIndexError\u001b[0m                                Traceback (most recent call last)",
      "Cell \u001b[1;32mIn[187], line 1\u001b[0m\n\u001b[1;32m----> 1\u001b[0m \u001b[43msave_csv\u001b[49m\u001b[43m(\u001b[49m\u001b[43m)\u001b[49m\n",
      "Cell \u001b[1;32mIn[186], line 12\u001b[0m, in \u001b[0;36msave_csv\u001b[1;34m()\u001b[0m\n\u001b[0;32m     10\u001b[0m     save_member_list\u001b[38;5;241m.\u001b[39mappend(save_member\u001b[38;5;241m.\u001b[39mas_dic())\n\u001b[0;32m     11\u001b[0m \u001b[38;5;28mprint\u001b[39m(save_member_list)\n\u001b[1;32m---> 12\u001b[0m fieldnames \u001b[38;5;241m=\u001b[39m \u001b[38;5;28mlist\u001b[39m(\u001b[43msave_member_list\u001b[49m\u001b[43m[\u001b[49m\u001b[38;5;241;43m0\u001b[39;49m\u001b[43m]\u001b[49m\u001b[38;5;241m.\u001b[39mkeys())\n\u001b[0;32m     13\u001b[0m filename \u001b[38;5;241m=\u001b[39m \u001b[38;5;28minput\u001b[39m(\u001b[38;5;124m'\u001b[39m\u001b[38;5;124m저장할 CSV 파일 이름은 ?\u001b[39m\u001b[38;5;124m'\u001b[39m)\n\u001b[0;32m     14\u001b[0m \u001b[38;5;28;01mtry\u001b[39;00m :\n",
      "\u001b[1;31mIndexError\u001b[0m: list index out of range"
     ]
    }
   ],
   "source": [
    "save_csv()"
   ]
  },
  {
   "cell_type": "code",
   "execution_count": 212,
   "id": "67223205",
   "metadata": {},
   "outputs": [],
   "source": [
    "conn.close()"
   ]
  },
  {
   "cell_type": "code",
   "execution_count": null,
   "id": "3e2a0d9b",
   "metadata": {},
   "outputs": [],
   "source": []
  }
 ],
 "metadata": {
  "kernelspec": {
   "display_name": "Python 3 (ipykernel)",
   "language": "python",
   "name": "python3"
  },
  "language_info": {
   "codemirror_mode": {
    "name": "ipython",
    "version": 3
   },
   "file_extension": ".py",
   "mimetype": "text/x-python",
   "name": "python",
   "nbconvert_exporter": "python",
   "pygments_lexer": "ipython3",
   "version": "3.10.9"
  },
  "toc": {
   "base_numbering": 1,
   "nav_menu": {},
   "number_sections": true,
   "sideBar": true,
   "skip_h1_title": false,
   "title_cell": "Table of Contents",
   "title_sidebar": "Contents",
   "toc_cell": false,
   "toc_position": {
    "height": "calc(100% - 180px)",
    "left": "10px",
    "top": "150px",
    "width": "178px"
   },
   "toc_section_display": true,
   "toc_window_display": true
  }
 },
 "nbformat": 4,
 "nbformat_minor": 5
}
