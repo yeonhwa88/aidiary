{
 "cells": [
  {
   "cell_type": "markdown",
   "id": "1ce7a6b7",
   "metadata": {},
   "source": [
    "<b><font color='red' size=6> ch05. 함수 </font></b>\n",
    "- 반복해서 사용할 코드를 묶어 놓고 그것에 이름을 붙인 것.\n",
    "- 오버로딩 불가\n",
    "- 함수의 정의\n",
    "```\n",
    "def 함수명([매개변수1, 매개변수2, ...]):\n",
    "    명령어1\n",
    "    명령어2\n",
    "    return 리턴 할 값\n",
    "```"
   ]
  },
  {
   "cell_type": "markdown",
   "id": "34668899",
   "metadata": {},
   "source": [
    "# 1절. 함수의 정의 및 사용"
   ]
  },
  {
   "cell_type": "markdown",
   "id": "4e2fc3c7",
   "metadata": {},
   "source": [
    "## 1.1 함수정의하기"
   ]
  },
  {
   "cell_type": "code",
   "execution_count": null,
   "id": "876a8db4",
   "metadata": {},
   "outputs": [],
   "source": [
    "def my_hello(x, msg): # 함수정의 x반복할 숫자 , msg내용\n",
    "    for i in range(x): # x번 반복\n",
    "        print(i, msg)"
   ]
  },
  {
   "cell_type": "code",
   "execution_count": null,
   "id": "90e40b05",
   "metadata": {},
   "outputs": [],
   "source": [
    "my_hello(5, 'hello python')"
   ]
  },
  {
   "cell_type": "code",
   "execution_count": null,
   "id": "8380faa5",
   "metadata": {},
   "outputs": [],
   "source": [
    "type(my_hello)"
   ]
  },
  {
   "cell_type": "code",
   "execution_count": null,
   "id": "7eb78876",
   "metadata": {},
   "outputs": [],
   "source": [
    "my_hello = 10\n",
    "type(my_hello)"
   ]
  },
  {
   "cell_type": "code",
   "execution_count": null,
   "id": "a76599cb",
   "metadata": {},
   "outputs": [],
   "source": [
    "my_hello(5, 'hello python') # 오류"
   ]
  },
  {
   "cell_type": "code",
   "execution_count": null,
   "id": "e0f11e24",
   "metadata": {},
   "outputs": [],
   "source": [
    "del my_hello\n",
    "# 변수를 삭제해도 함수는 사용불가(파이썬 내장함수만 사용 가능)"
   ]
  },
  {
   "cell_type": "code",
   "execution_count": null,
   "id": "a8df1789",
   "metadata": {},
   "outputs": [],
   "source": [
    "def my_hello(x, msg): # 함수정의 x반복할 숫자 , msg내용\n",
    "    for i in range(x): # x번 반복\n",
    "        print(i, msg)"
   ]
  },
  {
   "cell_type": "code",
   "execution_count": null,
   "id": "d615ac18",
   "metadata": {},
   "outputs": [],
   "source": [
    "def my_hello():\n",
    "    print('Hello, python')\n",
    "    print('Hello, World')"
   ]
  },
  {
   "cell_type": "code",
   "execution_count": null,
   "id": "a356e153",
   "metadata": {},
   "outputs": [],
   "source": [
    "my_hello() "
   ]
  },
  {
   "cell_type": "code",
   "execution_count": null,
   "id": "4c6c3b72",
   "metadata": {},
   "outputs": [],
   "source": [
    "my_hello # 내가 실행하고 있는 파일 main 파일"
   ]
  },
  {
   "cell_type": "code",
   "execution_count": null,
   "id": "1d3a662f",
   "metadata": {},
   "outputs": [],
   "source": [
    "__name__"
   ]
  },
  {
   "cell_type": "code",
   "execution_count": null,
   "id": "2352d7b5",
   "metadata": {},
   "outputs": [],
   "source": [
    "if __name__ == \"__main__\":\n",
    "    my_hello()"
   ]
  },
  {
   "cell_type": "code",
   "execution_count": null,
   "id": "0db24e60",
   "metadata": {},
   "outputs": [],
   "source": [
    "import a # a.py(모듈 파일) 가 해석되서 메모리에 로드"
   ]
  },
  {
   "cell_type": "code",
   "execution_count": null,
   "id": "fd7ff85f",
   "metadata": {},
   "outputs": [],
   "source": [
    "a.test()"
   ]
  },
  {
   "cell_type": "code",
   "execution_count": null,
   "id": "5f62cd0c",
   "metadata": {},
   "outputs": [],
   "source": [
    "from a import test # a 모듈파일안에 test 로드"
   ]
  },
  {
   "cell_type": "code",
   "execution_count": null,
   "id": "3662b831",
   "metadata": {},
   "outputs": [],
   "source": [
    "test()"
   ]
  },
  {
   "cell_type": "markdown",
   "id": "7317e154",
   "metadata": {},
   "source": [
    "## 1.2 docstring"
   ]
  },
  {
   "cell_type": "code",
   "execution_count": null,
   "id": "0223d9e1",
   "metadata": {},
   "outputs": [],
   "source": [
    "def my_funtion():\n",
    "    '''\n",
    "    함수의 첫 라인에 독스트링을 포함할 수 있습니다.\n",
    "    독스트링은 함수의 설명서를 달아주는 역할.\n",
    "    주석보다 많이 기능을 포함(Shift + Tab으로 독스트링을 볼수 있음)\n",
    "    '''\n",
    "    pass # 아무것도 안함"
   ]
  },
  {
   "cell_type": "code",
   "execution_count": null,
   "id": "e2e29286",
   "metadata": {},
   "outputs": [],
   "source": [
    "print(my_funtion.__doc__)"
   ]
  },
  {
   "cell_type": "code",
   "execution_count": null,
   "id": "e87cab14",
   "metadata": {},
   "outputs": [],
   "source": [
    "def fibonacci(n):\n",
    "    '''\n",
    "    매개변수로 들어온 n값 미만의 피보나치 수열(각항이 이전 두항의 합)을 출력합니다\n",
    "    ex. n=10 : 0, 1, 1, 2, 3, 5, 8\n",
    "    '''\n",
    "    a, b = 0, 1\n",
    "    while a < n :\n",
    "        print(a, end=\" \") # end는 키워드인수 \n",
    "        a, b = b, a+b\n",
    "    print()"
   ]
  },
  {
   "cell_type": "code",
   "execution_count": null,
   "id": "0dd20f47",
   "metadata": {},
   "outputs": [],
   "source": [
    "fibonacci(10)"
   ]
  },
  {
   "cell_type": "markdown",
   "id": "1cf3cdb0",
   "metadata": {},
   "source": [
    "## 1.3 지역변수(local var)와 전역변수(global var)\n",
    "- 함수안에서 선언한 변수는 지역변수(실행되고 나면 사라짐)\n",
    "- 전역변수는 함수안에서도 사용가능"
   ]
  },
  {
   "cell_type": "code",
   "execution_count": null,
   "id": "a5ff55d5",
   "metadata": {},
   "outputs": [],
   "source": [
    "global_var = 100 # 전역변수\n",
    "def func1():\n",
    "    print('함수 안',global_var)\n",
    "func1()\n",
    "print('함수 밖',global_var)"
   ]
  },
  {
   "cell_type": "code",
   "execution_count": null,
   "id": "92e81d18",
   "metadata": {},
   "outputs": [],
   "source": [
    "def func2():\n",
    "    local_var = 200 # 지역변수\n",
    "    print('함수 안', local_var)\n",
    "func2()\n",
    "print('함수 밖', local_var) # 오류"
   ]
  },
  {
   "cell_type": "code",
   "execution_count": null,
   "id": "c3c01f2d",
   "metadata": {},
   "outputs": [],
   "source": [
    "g_var = 100 # 전역변수(변수 선언과 할당)\n",
    "def func3():\n",
    "    g_var = 200 # 지역변수(변수 선언과 할당)\n",
    "    print('지역변수 g_Var=', g_var)\n",
    "func3()\n",
    "print('전역변수 g_var=', g_var)"
   ]
  },
  {
   "cell_type": "code",
   "execution_count": null,
   "id": "57c09e10",
   "metadata": {},
   "outputs": [],
   "source": [
    "# 렉시컬 특성\n",
    "g_var = 100 # 전역변수\n",
    "def func3():\n",
    "    print('함수 안 g_var :',g_var)\n",
    "    g_var = 200 # 지역변수\n",
    "func3() # 에러"
   ]
  },
  {
   "cell_type": "code",
   "execution_count": null,
   "id": "cd74b2dc",
   "metadata": {},
   "outputs": [],
   "source": [
    "# 렉시컬 특성\n",
    "g_var = 100 # 전역변수\n",
    "def func3():\n",
    "    global g_var # func3 함수내에서는 g_var는 전역변수를 쓴다\n",
    "    print('함수 안 g_var :',g_var)\n",
    "    g_var = 200 \n",
    "func3() \n",
    "print('함수 밖 g_var :', g_var)"
   ]
  },
  {
   "cell_type": "markdown",
   "id": "32ad71be",
   "metadata": {},
   "source": [
    "## 1.4 값에 의한 호출\n",
    "- 함수에 인수로 전달되는 변수가 스칼라변수(문자, 숫자, 논리형)일 때"
   ]
  },
  {
   "cell_type": "code",
   "execution_count": null,
   "id": "facc5129",
   "metadata": {},
   "outputs": [],
   "source": [
    "foo = 'a' # 전역변수\n",
    "id(foo)"
   ]
  },
  {
   "cell_type": "code",
   "execution_count": null,
   "id": "7d6a4f0c",
   "metadata": {},
   "outputs": [],
   "source": [
    "def func1(f): # 매개변수는 지역변수\n",
    "    print('Before :', f, '의주소는', id(f))\n",
    "    f = f*3 # aaa\n",
    "    print('After :', f, '의 주소는', id(f))\n",
    "func1(foo)"
   ]
  },
  {
   "cell_type": "code",
   "execution_count": null,
   "id": "f43cf928",
   "metadata": {},
   "outputs": [],
   "source": [
    "print('foo = ', foo, '의주소는', id(foo))"
   ]
  },
  {
   "cell_type": "markdown",
   "id": "b817f919",
   "metadata": {},
   "source": [
    "## 1.5 참조에 의한 호출\n",
    "- 함수에 인수로 전달되는 변수가 리스트, 튜플, 셋, 딕셔너리, 객체일 경우"
   ]
  },
  {
   "cell_type": "code",
   "execution_count": null,
   "id": "ac68b748",
   "metadata": {},
   "outputs": [],
   "source": [
    "L = [1 ,2 ,3 ,4 ,5]\n",
    "id(L)"
   ]
  },
  {
   "cell_type": "code",
   "execution_count": null,
   "id": "81147dba",
   "metadata": {},
   "outputs": [],
   "source": [
    "def func2(f): #매개변수는 지역변수\n",
    "    print('Before :', f, '의 주소', id(f))\n",
    "    f.append(6)\n",
    "    print('After :', f, '의 주소', id(f))\n",
    "func2(L)"
   ]
  },
  {
   "cell_type": "code",
   "execution_count": null,
   "id": "99d496ef",
   "metadata": {},
   "outputs": [],
   "source": [
    "print('L :', L, '의주소는', id(L))"
   ]
  },
  {
   "cell_type": "markdown",
   "id": "aca3f6bf",
   "metadata": {},
   "source": [
    "## 1.6 함수의 이름 변경\n",
    "- Python : 함수형언어, 객체지향언어"
   ]
  },
  {
   "cell_type": "code",
   "execution_count": null,
   "id": "bc79caa6",
   "metadata": {},
   "outputs": [],
   "source": [
    "fibonacci(20)"
   ]
  },
  {
   "cell_type": "code",
   "execution_count": null,
   "id": "632d9131",
   "metadata": {},
   "outputs": [],
   "source": [
    "fibo = fibonacci # fibonacci 함수이름을 fibo로도 사용가능"
   ]
  },
  {
   "cell_type": "code",
   "execution_count": null,
   "id": "2c7ce756",
   "metadata": {},
   "outputs": [],
   "source": [
    "fibo(20)"
   ]
  },
  {
   "cell_type": "markdown",
   "id": "7358350a",
   "metadata": {},
   "source": [
    "# 2절. 함수의 실행결과 반환하는 return"
   ]
  },
  {
   "cell_type": "code",
   "execution_count": null,
   "id": "efc9e556",
   "metadata": {},
   "outputs": [],
   "source": [
    "def fibonacci_print(n):\n",
    "    '''\n",
    "    매개변수로 들어온 n값 미만의 피보나치 수열(각항이 이전 두항의 합)을 출력합니다\n",
    "    ex. n=10 : 0, 1, 1, 2, 3, 5, 8\n",
    "    '''\n",
    "    a, b = 0, 1\n",
    "    while a < n :\n",
    "        print(a, end=\" \") # end는 키워드인수 \n",
    "        a, b = b, a+b\n",
    "    print()\n",
    "def fibonacci(n):\n",
    "    '''\n",
    "    매개변수로 들어온 n값 미만의 피보나치 수열을 리스트로 return\n",
    "    '''\n",
    "    result = []\n",
    "    a, b = 0, 1\n",
    "    while a<n :\n",
    "        result.append(a)\n",
    "        a, b = b, a+b\n",
    "    return result"
   ]
  },
  {
   "cell_type": "code",
   "execution_count": null,
   "id": "00e75e9e",
   "metadata": {},
   "outputs": [],
   "source": [
    "x = fibonacci_print(10)\n",
    "print(x) # return이 없는 함수를 할당받으면 None(결측치)\n",
    "print(type(x))"
   ]
  },
  {
   "cell_type": "code",
   "execution_count": null,
   "id": "c90145bb",
   "metadata": {},
   "outputs": [],
   "source": [
    "x = fibonacci(10)\n",
    "print(x)"
   ]
  },
  {
   "cell_type": "markdown",
   "id": "baec50f0",
   "metadata": {},
   "source": [
    "## 여러개 값 return"
   ]
  },
  {
   "cell_type": "code",
   "execution_count": null,
   "id": "6c88bac7",
   "metadata": {},
   "outputs": [],
   "source": [
    "def swap(a, b):\n",
    "    '''\n",
    "    매개변수의 순서를 바꿔서 return\n",
    "    '''\n",
    "    return b, a #튜플로 리턴"
   ]
  },
  {
   "cell_type": "code",
   "execution_count": null,
   "id": "15d2b0a7",
   "metadata": {},
   "outputs": [],
   "source": [
    "x, y = 5, 10\n",
    "print('함수 실행 전 x, y = ', x, y)\n",
    "x, y = swap(x, y)\n",
    "print('함수 실행 후 x, y =', x, y)"
   ]
  },
  {
   "cell_type": "code",
   "execution_count": null,
   "id": "fcda3b91",
   "metadata": {},
   "outputs": [],
   "source": [
    "a = swap(10, 20)\n",
    "print(type(a))\n",
    "print(a)"
   ]
  },
  {
   "cell_type": "markdown",
   "id": "4e865148",
   "metadata": {},
   "source": [
    "# 3절. 함수의 매개변수 ★\n",
    "## 3.1 기본값을 갖는 매개변수"
   ]
  },
  {
   "cell_type": "code",
   "execution_count": null,
   "id": "02c5750c",
   "metadata": {},
   "outputs": [],
   "source": [
    "def make_url(ip, port=80): # 순서인수가 > 기본값을 갖는 매개변수\n",
    "    return \"http://{}:{}\".format(ip, port)"
   ]
  },
  {
   "cell_type": "code",
   "execution_count": null,
   "id": "7d4820ff",
   "metadata": {},
   "outputs": [],
   "source": [
    "print(make_url('localhost',8090)) # 8090은 안넣어도됨 안넣으면 기본값으로 한다\n",
    "print(make_url('localhost'))\n",
    "print(make_url(port=9090, ip='www.naver.com'))"
   ]
  },
  {
   "cell_type": "markdown",
   "id": "7994f318",
   "metadata": {},
   "source": [
    "## 3.2 기본 변수 갖는 매개변수\n",
    "- 기본변수가 스칼라 변수(문자, 숫자, 논리형) 일 때\n",
    "- 기본변수가 리스트, 셋, 딕셔너리 또는 객체일 때"
   ]
  },
  {
   "cell_type": "code",
   "execution_count": null,
   "id": "cf2381e6",
   "metadata": {},
   "outputs": [],
   "source": [
    "i = 5\n",
    "# 기본변수가 스칼라변수일 때 : arg의 기본값은 함수가 정의되는 시점으로 셋팅\n",
    "def func2(arg=i):\n",
    "    print('arg=', arg)"
   ]
  },
  {
   "cell_type": "code",
   "execution_count": null,
   "id": "13483d10",
   "metadata": {},
   "outputs": [],
   "source": [
    "i = 10\n",
    "func2()"
   ]
  },
  {
   "cell_type": "code",
   "execution_count": null,
   "id": "f338bd30",
   "metadata": {},
   "outputs": [],
   "source": [
    "# 기본변수가 리스트, 셋, 딕셔너리, 객체일 때 : 실행되는 시점\n",
    "list_ = [] \n",
    "def func3(a, L=list_): # 기본값을 변수로 두면 전부 공유\n",
    "    L.append(a)\n",
    "    return L\n",
    "print(func3(10))\n",
    "print('list_ :',list_)"
   ]
  },
  {
   "cell_type": "code",
   "execution_count": null,
   "id": "2ffe0daf",
   "metadata": {},
   "outputs": [],
   "source": [
    "print(func3(20))\n",
    "print('list_ : ',list_)"
   ]
  },
  {
   "cell_type": "code",
   "execution_count": null,
   "id": "e9fed78d",
   "metadata": {},
   "outputs": [],
   "source": [
    "print(func3(30))\n",
    "print('list_:', list_)"
   ]
  },
  {
   "cell_type": "code",
   "execution_count": null,
   "id": "379d6ff4",
   "metadata": {},
   "outputs": [],
   "source": [
    "def func3(a, L=[]): # 기본값이 변수로 두지않으면 공유 하지 않음 \n",
    "    L.append(a)\n",
    "    return L\n",
    "print(func3(10))\n",
    "print(func3(10, [1, 2, 3]))"
   ]
  },
  {
   "cell_type": "markdown",
   "id": "8d332b05",
   "metadata": {},
   "source": [
    "## 3.3 순서인수, 키워드인수\n",
    "- 순서인수 : 함수에 정의된 순서대로 전달방식  호출할때 방식\n",
    "- 키워드인수 : 인수의 이름을 명시적으로 전달방식 호출할때 방식\n",
    "- 함수정의(선언)시 순서인수와 키워드인수가 같이 올 때는 : 순서는 (순서인수 > 키워드인수) \n",
    "```\n",
    "    def function명(변수명1, 변수명2, .... 변수명n = 기본값):\n",
    "```"
   ]
  },
  {
   "cell_type": "code",
   "execution_count": null,
   "id": "12e75b35",
   "metadata": {},
   "outputs": [],
   "source": [
    "def func4(a, L=None):\n",
    "    if L is None : # None을 비교할땐 is None\n",
    "        L = []\n",
    "    L.append(a)\n",
    "    return L"
   ]
  },
  {
   "cell_type": "code",
   "execution_count": null,
   "id": "89ddf409",
   "metadata": {},
   "outputs": [],
   "source": [
    "lst = []\n",
    "print(func4(10, lst))\n",
    "print(func4(L=lst, a= 10)) # 호출할때는 순서가 바뀌어도 상관없음\n",
    "print(func4(20))\n",
    "print(func4(20, None))"
   ]
  },
  {
   "cell_type": "markdown",
   "id": "132b80d2",
   "metadata": {},
   "source": [
    "## 3.4 튜플 매개변수를 이용한 가변인수 설정"
   ]
  },
  {
   "cell_type": "code",
   "execution_count": null,
   "id": "2851f02d",
   "metadata": {},
   "outputs": [],
   "source": [
    "def add(a, b):\n",
    "    return a+b\n",
    "def add(a, b, c): # 재 함수 선언시 매개변수 2개는 덮어씌워져서 매개변수 3개만 가능\n",
    "    return a+b+c"
   ]
  },
  {
   "cell_type": "code",
   "execution_count": null,
   "id": "12c57b97",
   "metadata": {},
   "outputs": [],
   "source": [
    "add(1,2) # 에러"
   ]
  },
  {
   "cell_type": "code",
   "execution_count": null,
   "id": "e65356db",
   "metadata": {},
   "outputs": [],
   "source": [
    "# 가변인자 함수 add\n",
    "# args 앞의 * : args가 튜플로 전달 (매개변수명은 아무거나상관없음)\n",
    "def add(*args):\n",
    "    '전달받은 매개변수들의 합을 return, 매개변수가 없는 경우 -1을 return'\n",
    "    # print(args)\n",
    "    sum = 0 # 누적변수\n",
    "    if len(args) == 0:\n",
    "        return -1\n",
    "    for num in args:\n",
    "        sum += num\n",
    "    return sum"
   ]
  },
  {
   "cell_type": "code",
   "execution_count": null,
   "id": "36d11f11",
   "metadata": {},
   "outputs": [],
   "source": [
    "print(add(1))\n",
    "print(add(1,2,3,4))\n",
    "print(add(1,2,3,4,5,6,7,8))\n",
    "print(add())"
   ]
  },
  {
   "cell_type": "code",
   "execution_count": null,
   "id": "215a51ee",
   "metadata": {},
   "outputs": [],
   "source": [
    "subject = ('Java', 'Oracle', 'Web', 'Python')\n",
    "'-'.join(subject)"
   ]
  },
  {
   "cell_type": "code",
   "execution_count": null,
   "id": "b5281253",
   "metadata": {},
   "outputs": [],
   "source": [
    "def concat(*subject, sep):\n",
    "    return sep.join(subject)"
   ]
  },
  {
   "cell_type": "code",
   "execution_count": null,
   "id": "b3574748",
   "metadata": {},
   "outputs": [],
   "source": [
    "concat('Java', 'Oracle', 'Web', 'Python', ' ~ ')"
   ]
  },
  {
   "cell_type": "code",
   "execution_count": null,
   "id": "8c9f637f",
   "metadata": {},
   "outputs": [],
   "source": [
    "# 해결책 1 : 파라미터이름을 지정해서 호출\n",
    "concat('Java', 'Oracle', 'Web', 'Python', sep=' ~ ')"
   ]
  },
  {
   "cell_type": "code",
   "execution_count": null,
   "id": "804757ca",
   "metadata": {},
   "outputs": [],
   "source": [
    "# 해결책 2 : 기본값을 갖는 키워드인수 사용\n",
    "def concat(*subject, sep=' '): # 튜플인수 > 키워드인수\n",
    "    return sep.join(subject)"
   ]
  },
  {
   "cell_type": "code",
   "execution_count": null,
   "id": "e9f94caa",
   "metadata": {},
   "outputs": [],
   "source": [
    "concat('Java', 'Oracle', 'Web', 'Python')"
   ]
  },
  {
   "cell_type": "code",
   "execution_count": null,
   "id": "f238ac41",
   "metadata": {},
   "outputs": [],
   "source": [
    "# 해결책 3 : sep을 순서인수로 앞으로 선언\n",
    "def concat(sep, *subject):\n",
    "    return sep.join(subject)"
   ]
  },
  {
   "cell_type": "code",
   "execution_count": null,
   "id": "fa12dbcc",
   "metadata": {},
   "outputs": [],
   "source": [
    "concat('~', 'Java', 'Oracle', 'Web', 'Python')"
   ]
  },
  {
   "cell_type": "markdown",
   "id": "0c0290aa",
   "metadata": {},
   "source": [
    "## 3.5 딕셔너리 매개변수\n",
    "- 딕셔너리인수 : 여러개의 키워드인수를 딕셔너리 형태로 받아서 가변 키워드 인수로 처리"
   ]
  },
  {
   "cell_type": "code",
   "execution_count": null,
   "id": "19c836a0",
   "metadata": {},
   "outputs": [],
   "source": [
    "def func5(**args): # * 하나면 튜플 ** 딕셔너리\n",
    "    print(args)\n",
    "    print(type(args))\n",
    "    for key, value in args.items():\n",
    "        print('{}:{}'.format(key, value))"
   ]
  },
  {
   "cell_type": "code",
   "execution_count": null,
   "id": "25d210e6",
   "metadata": {},
   "outputs": [],
   "source": [
    "func5(name = '홍길동', age = 33)"
   ]
  },
  {
   "cell_type": "code",
   "execution_count": null,
   "id": "c47a7d21",
   "metadata": {},
   "outputs": [],
   "source": [
    "func5(name='김길동', address='서울', tel = '010-9999-9999')"
   ]
  },
  {
   "cell_type": "markdown",
   "id": "6d161421",
   "metadata": {},
   "source": [
    "## 3.6 함수 정의시 매개변수의 순서\n",
    "순서인수 > 튜플인수(*) > 키워드인수(기본값을갖는) > 딕셔너리인수(**)"
   ]
  },
  {
   "cell_type": "code",
   "execution_count": null,
   "id": "56e5f6d5",
   "metadata": {},
   "outputs": [],
   "source": [
    "# 순서인수 > 튜플인수 > 딕셔너리인수\n",
    "def func6(a, b, *c , **d) :\n",
    "    print('순서인수 a= ',a)\n",
    "    print('순서인수 b= ',b)\n",
    "    print('튜플인수 c= ',c)\n",
    "    print('딕셔너리인수 d= ',d)"
   ]
  },
  {
   "cell_type": "code",
   "execution_count": null,
   "id": "4859e7a1",
   "metadata": {},
   "outputs": [],
   "source": [
    "func6(10,20, 1,2,3,4,5,7, name='kim', age=30)"
   ]
  },
  {
   "cell_type": "code",
   "execution_count": null,
   "id": "9f749cf7",
   "metadata": {},
   "outputs": [],
   "source": [
    "# 순서인수 > 튜플인수 > 키워드인수 > 딕셔너리인수\n",
    "def func7(a, b, c, *d, e=10, **f) :\n",
    "    print('순서인수 a= ',a)\n",
    "    print('순서인수 b= ',b)\n",
    "    print('순서인수 c= ',c)\n",
    "    print('튜플인수 d= ',d) # 안넣으면 빈 튜플\n",
    "    print('키워드인수 e= ',e)\n",
    "    print('딕셔너리인수 f= ',f)# 안넣으면 빈 딕셔너리"
   ]
  },
  {
   "cell_type": "code",
   "execution_count": null,
   "id": "61c9f2dd",
   "metadata": {},
   "outputs": [],
   "source": [
    "func7(10,20,30)"
   ]
  },
  {
   "cell_type": "code",
   "execution_count": null,
   "id": "771d7cec",
   "metadata": {},
   "outputs": [],
   "source": [
    "func7(10,20,30, e=100)"
   ]
  },
  {
   "cell_type": "code",
   "execution_count": null,
   "id": "c1bde23e",
   "metadata": {},
   "outputs": [],
   "source": [
    "func7(10,20,30, 1,2,3,4,5, e=100, shape='rect', width=20, height=30)"
   ]
  },
  {
   "cell_type": "markdown",
   "id": "b26b4ee2",
   "metadata": {},
   "source": [
    "## 3.7 인수의 언패킹\n",
    "### 튜플인수 언패킹"
   ]
  },
  {
   "cell_type": "code",
   "execution_count": null,
   "id": "0293f3ce",
   "metadata": {},
   "outputs": [],
   "source": [
    "def add(*args): # ((1, 2, 3, 4, 5, 6, 7, 8),)\n",
    "    sum = 0\n",
    "    for num in args:\n",
    "        sum += num\n",
    "    return sum"
   ]
  },
  {
   "cell_type": "code",
   "execution_count": null,
   "id": "79966381",
   "metadata": {},
   "outputs": [],
   "source": [
    "add(1, 2, 3, 4, 5)"
   ]
  },
  {
   "cell_type": "code",
   "execution_count": null,
   "id": "2fa38e78",
   "metadata": {},
   "outputs": [],
   "source": [
    "numbers = (1, 2, 3, 4, 5)\n",
    "add(*numbers) # 튜플 언패킹 "
   ]
  },
  {
   "cell_type": "code",
   "execution_count": null,
   "id": "004136c7",
   "metadata": {},
   "outputs": [],
   "source": [
    "num_lst = [1, 2, 3]\n",
    "add(*num_lst) # 리스트도 가능"
   ]
  },
  {
   "cell_type": "markdown",
   "id": "34dc96d4",
   "metadata": {},
   "source": [
    "### 딕셔너리 인수 언패킹"
   ]
  },
  {
   "cell_type": "code",
   "execution_count": null,
   "id": "e9a2bea7",
   "metadata": {},
   "outputs": [],
   "source": [
    "def func8(**data):\n",
    "    for item in data.items():\n",
    "        print(item)\n",
    "func8(shape='rect', height=30, width=40)"
   ]
  },
  {
   "cell_type": "code",
   "execution_count": null,
   "id": "3d7bee8d",
   "metadata": {},
   "outputs": [],
   "source": [
    "info = {'shape':'triangle', 'height':40, 'width':30}\n",
    "info"
   ]
  },
  {
   "cell_type": "code",
   "execution_count": null,
   "id": "0d5bd077",
   "metadata": {},
   "outputs": [],
   "source": [
    "func8(**info) # 딕셔너리 언패킹"
   ]
  },
  {
   "cell_type": "markdown",
   "id": "3578c441",
   "metadata": {},
   "source": [
    "# 4절. 람다식\n",
    "- return 한줄짜리 작은 익명함수\n",
    "## 4.1 람다식 연습"
   ]
  },
  {
   "cell_type": "code",
   "execution_count": null,
   "id": "7183103c",
   "metadata": {},
   "outputs": [],
   "source": [
    "def add(a, b):\n",
    "    return a+b\n",
    "add(3, 5)"
   ]
  },
  {
   "cell_type": "code",
   "execution_count": null,
   "id": "993c73c7",
   "metadata": {},
   "outputs": [],
   "source": [
    "# 람다식은 function 이름이없다\n",
    "add2 = lambda a, b : a+b # 한줄로 작성 매개변수는 : 앞에 리턴식을 : 뒤에 \n",
    "add2(10, 20)"
   ]
  },
  {
   "cell_type": "code",
   "execution_count": null,
   "id": "489ef45a",
   "metadata": {},
   "outputs": [],
   "source": [
    "print(type(add), type(add2))"
   ]
  },
  {
   "cell_type": "code",
   "execution_count": null,
   "id": "a5118823",
   "metadata": {},
   "outputs": [],
   "source": [
    "(lambda a, b : a+b) (3, 5) # 호출할때도 한줄로"
   ]
  },
  {
   "cell_type": "code",
   "execution_count": null,
   "id": "cdac0efb",
   "metadata": {},
   "outputs": [],
   "source": [
    "# a와 b의 차이를 return\n",
    "def diff(a, b):\n",
    "    if a>=b:\n",
    "        return a-b\n",
    "    else :\n",
    "        return b-a"
   ]
  },
  {
   "cell_type": "code",
   "execution_count": null,
   "id": "afc82124",
   "metadata": {},
   "outputs": [],
   "source": [
    "diff2 = lambda a, b : a-b if a>=b else b-a"
   ]
  },
  {
   "cell_type": "code",
   "execution_count": null,
   "id": "8ed8891c",
   "metadata": {},
   "outputs": [],
   "source": [
    "print(diff(3, 5), diff(5, 3), diff2(3, 5), diff2(5, 3))\n",
    "print(type(diff), type(diff2))"
   ]
  },
  {
   "cell_type": "code",
   "execution_count": null,
   "id": "49c60d9a",
   "metadata": {},
   "outputs": [],
   "source": [
    "# 매개변수로 잔액을 받아 잔액이 음수면 'negative'라고 출력, 양수면 잔액출력\n",
    "def get_balance(balance):\n",
    "    if balance >=0 : \n",
    "        return balance\n",
    "    else :\n",
    "        return 'negative'"
   ]
  },
  {
   "cell_type": "code",
   "execution_count": null,
   "id": "d6b803c8",
   "metadata": {},
   "outputs": [],
   "source": [
    "get_balance = lambda balance : balance if balance>=0 else 'negative'"
   ]
  },
  {
   "cell_type": "code",
   "execution_count": null,
   "id": "3365b022",
   "metadata": {},
   "outputs": [],
   "source": [
    "print(get_balance(-100))"
   ]
  },
  {
   "cell_type": "code",
   "execution_count": null,
   "id": "3e1af4a9",
   "metadata": {},
   "outputs": [],
   "source": [
    "balance = -500\n",
    "if balance>=0:\n",
    "    result = balance\n",
    "else:\n",
    "    result = 'negative'\n",
    "result"
   ]
  },
  {
   "cell_type": "code",
   "execution_count": null,
   "id": "42fa13dc",
   "metadata": {},
   "outputs": [],
   "source": [
    "balance = -500\n",
    "balance if balance>=0 else 'nagative'\n",
    "# 자바 3항연산자로 가정했을때\n",
    "#result = balance>=0 ? balance : 'nagative'"
   ]
  },
  {
   "cell_type": "code",
   "execution_count": null,
   "id": "1798768b",
   "metadata": {},
   "outputs": [],
   "source": [
    "# 아래의 함수도 람다식으로 바꿀 수 있음 vector데이터(리스트 튜플 배열)\n",
    "v = (1,2,3)\n",
    "def safe_index(vector, item) : \n",
    "    if item in vector :\n",
    "        return vector.index\n",
    "    else :\n",
    "        return -1\n",
    "safe_index(v, 1), safe_index(v, 4)"
   ]
  },
  {
   "cell_type": "code",
   "execution_count": null,
   "id": "21ee927a",
   "metadata": {},
   "outputs": [],
   "source": [
    "def safe_index(vector, item) : \n",
    "    return vector.index(item) if item in vector else -1 "
   ]
  },
  {
   "cell_type": "code",
   "execution_count": null,
   "id": "9925b103",
   "metadata": {},
   "outputs": [],
   "source": [
    "safe_index = lambda vector, item : vector.index(item) if item in vector else -1\n",
    "safe_index([1, 2, 3, 4], 1), safe_index((1, 2, 3), 5)"
   ]
  },
  {
   "cell_type": "code",
   "execution_count": null,
   "id": "b899b3b0",
   "metadata": {},
   "outputs": [],
   "source": [
    "# 매개변수로 들어온 값이 짝수면 '짝수', 홀수면 '홀수' return"
   ]
  },
  {
   "cell_type": "code",
   "execution_count": null,
   "id": "e2f6b88c",
   "metadata": {},
   "outputs": [],
   "source": [
    "even_odd_chk = lambda num : '짝수' if num%2==0 else '홀수'\n",
    "even_odd_chk(11),even_odd_chk(-10)"
   ]
  },
  {
   "cell_type": "code",
   "execution_count": null,
   "id": "06594937",
   "metadata": {},
   "outputs": [],
   "source": [
    "def levelChk(score):\n",
    "    if score >= 80:\n",
    "        return 'A'\n",
    "    elif score >= 60:\n",
    "        return 'B'\n",
    "    else :\n",
    "        return '재시험'\n",
    "levelChk(-65), levelChk(85)"
   ]
  },
  {
   "cell_type": "code",
   "execution_count": null,
   "id": "82a168a5",
   "metadata": {},
   "outputs": [],
   "source": [
    "levelChk = lambda score : 'A' if score >= 80 else ('B' if score >= 60 else '재시험')\n",
    "'x' if score<0 | score>100'x' if score<0 | score>100"
   ]
  },
  {
   "cell_type": "code",
   "execution_count": null,
   "id": "62558658",
   "metadata": {},
   "outputs": [],
   "source": [
    "levelChk = lambda score : 'A' if score >= 90 else ('B' if score >=80 \\\n",
    "                                                   else('C' if score >= 70 else('D' if score>= 60 \\\n",
    "                                                                                     else('재시험'))))\n",
    "levelChk(-65), levelChk(65)"
   ]
  },
  {
   "cell_type": "code",
   "execution_count": null,
   "id": "7e1ebe91",
   "metadata": {},
   "outputs": [],
   "source": [
    "def score_grade(score):\n",
    "    if 90<= score <= 100 :\n",
    "        return 'A'\n",
    "    elif 80>= score >90:\n",
    "        return 'B'\n",
    "    elif 70>= score >80:\n",
    "        return 'C'\n",
    "    elif 60>= score >70:\n",
    "        return 'D'\n",
    "    elif 0>= score >60:\n",
    "        return 'F'\n",
    "    else :\n",
    "        return '유효하지 않은 점수'"
   ]
  },
  {
   "cell_type": "code",
   "execution_count": null,
   "id": "aa246559",
   "metadata": {},
   "outputs": [],
   "source": [
    "score_grade = lambda score : 'A'  if 90<= score <=100 else\\\n",
    "                             'B' if 80<= score <90 else\\\n",
    "                             'C' if 70<= score <80 else\\\n",
    "                             'D' if 60<= score <70 else\\\n",
    "                             'F' if 0< score <60 else '유효하지 않은 점수'\n",
    "score_grade(-65), score_grade(105), score_grade(95), score_grade(85), score_grade(75), score_grade(65), score_grade(55)"
   ]
  },
  {
   "cell_type": "code",
   "execution_count": null,
   "id": "143bc12d",
   "metadata": {},
   "outputs": [],
   "source": [
    "add = lambda a, b : a+b\n",
    "sub = lambda a, b : a-b\n",
    "mul = lambda a, b : a*b\n",
    "div = lambda a, b : a/b if b!=0 else '두번째 인자가 0으로는 못 나눠요'\n",
    "add(3, 0), div(3, 0)\n",
    "\n",
    "operations = [add, sub, mul, div]\n",
    "# 매개변수로 함수 list가 옴\n",
    "def act_operations(a, b, operations=operations):\n",
    "    result = [] \n",
    "    for op in operations:\n",
    "        result.append(op(a, b))\n",
    "    return result\n",
    "# def pow(a, b):\n",
    "#     return a**b\n",
    "operations.append(lambda a, b : a**b)\n",
    "print(act_operations(10, 2, [lambda a, b : a**b, lambda a, b : a*10+b]))"
   ]
  },
  {
   "cell_type": "code",
   "execution_count": null,
   "id": "a157a229",
   "metadata": {},
   "outputs": [],
   "source": [
    "#리스트컴프리헨션\n",
    "lst = [1, 2, 3]\n",
    "print([l**2 for l in lst ])\n",
    "print([l for l in lst if l%2==0])"
   ]
  },
  {
   "cell_type": "code",
   "execution_count": null,
   "id": "62e815fb",
   "metadata": {},
   "outputs": [],
   "source": [
    "# act_operations의 함수를 리스트컴프리헨션을 이용하여 람다식으로 구현\n",
    "operations = [add, sub, mul, div]\n",
    "def act_operations(a, b, operations=operations):\n",
    "      return [op(a, b) for op in operation] "
   ]
  },
  {
   "cell_type": "code",
   "execution_count": null,
   "id": "cae7f9a6",
   "metadata": {},
   "outputs": [],
   "source": [
    "# 람다식과 리스트컴프리헨션으로 변경\n",
    "act_operations = lambda a, b, operations=operations : [op(a, b) for op in operations] \n",
    "# [op(a, b) for op in operations] 리스트컴프리헨션\n",
    "print(act_operations(5, 2, [lambda a, b : a+b, lambda a,b : a**b]))\n",
    "operations.append(lambda a,b : a**b)\n",
    "print(act_operations(5, 2))"
   ]
  },
  {
   "cell_type": "markdown",
   "id": "a0f46ab1",
   "metadata": {},
   "source": [
    "## 4.2 함수의 매개변수(인수)에 람다식 사용"
   ]
  },
  {
   "cell_type": "code",
   "execution_count": null,
   "id": "e76ce1de",
   "metadata": {},
   "outputs": [],
   "source": [
    "map_template = lambda func, L=[] : [func(l) for l in L]"
   ]
  },
  {
   "cell_type": "code",
   "execution_count": null,
   "id": "da7c8a1a",
   "metadata": {},
   "outputs": [],
   "source": [
    "# map 함수 만들어서 사용해보기\n",
    "def map_template(func, L=[]):\n",
    "    result = []\n",
    "    for item in L:\n",
    "        result.append(func(item))\n",
    "    return result"
   ]
  },
  {
   "cell_type": "code",
   "execution_count": null,
   "id": "4798e907",
   "metadata": {},
   "outputs": [],
   "source": [
    "list_data = [1, 2, 3, 4, 5, 6, 7, 8]\n",
    "# def x_2(x):\n",
    "#     return x*2\n",
    "# map_template(x_2, list_data)\n",
    "map_template(lambda x : x*2, list_data)"
   ]
  },
  {
   "cell_type": "code",
   "execution_count": null,
   "id": "e9864138",
   "metadata": {},
   "outputs": [],
   "source": [
    "# 리스트 컴프리헨션\n",
    "[x*2 for x in list_data]"
   ]
  },
  {
   "cell_type": "code",
   "execution_count": null,
   "id": "51b7d4c8",
   "metadata": {},
   "outputs": [],
   "source": [
    "# map map객체를 리턴 위에서 만든 map_template 이랑 같은용도\n",
    "# map 함수는 매개변수로 lambda식을 사용\n",
    "list(map(lambda x : x*2, list_data))"
   ]
  },
  {
   "cell_type": "code",
   "execution_count": null,
   "id": "acd517e4",
   "metadata": {},
   "outputs": [],
   "source": [
    "for x in map (lambda x : x*2, list_data):\n",
    "    print(x, end=' ')"
   ]
  },
  {
   "cell_type": "code",
   "execution_count": null,
   "id": "a58b46e2",
   "metadata": {},
   "outputs": [],
   "source": [
    "# filter는 만족하는 조건만 \n",
    "def filter_template(func, L=[]):\n",
    "    result = []\n",
    "    for item in L :\n",
    "        if func(item):\n",
    "            result.append(item)\n",
    "    return result"
   ]
  },
  {
   "cell_type": "code",
   "execution_count": null,
   "id": "46b5a4b7",
   "metadata": {},
   "outputs": [],
   "source": [
    "def evenChk(value):\n",
    "    return value%2==0\n",
    "#     if value%2==0 :\n",
    "#         return True\n",
    "#     else :\n",
    "#         return False\n",
    "list_data = [1, 2, 3, 4, 5, 6, 7, 8]\n",
    "# print(filter_template(evenChk, list_data))\n",
    "filter_template(lambda x : x%2==0, L=list_data) # 딕셔너리거나 , 키워드인수 앞이 튜플이면 키워드인수로 함"
   ]
  },
  {
   "cell_type": "code",
   "execution_count": null,
   "id": "50d77b16",
   "metadata": {},
   "outputs": [],
   "source": [
    "# filter 함수이용\n",
    "for item in filter(lambda x : x%2==0, list_data):\n",
    "    print(item, end= ' ')"
   ]
  },
  {
   "cell_type": "code",
   "execution_count": null,
   "id": "e4fc9921",
   "metadata": {},
   "outputs": [],
   "source": [
    "# 리스트컴프리헨션\n",
    "[x for x in list_data if x%2==0]"
   ]
  },
  {
   "cell_type": "code",
   "execution_count": null,
   "id": "ae7ffb6c",
   "metadata": {},
   "outputs": [],
   "source": [
    "# quiz : 다음 리스트에서 소숫점이하가 0인 수만 추출하시오 \n",
    "# filter함수, 람다식이용 / filter_template / 리스트컴프리헨션 \n",
    "L = [1, 1.2, 1.5, 2, 3.0, 10.5, 100]\n",
    "# [1, 2, 3.0, 100]\n",
    "x = 2\n",
    "# print(x.is_integer()) is_integer() float만 가능한함수\n",
    "print(x%1.0==0)\n",
    "print(x==round(x))\n",
    "print(x==x//1)"
   ]
  },
  {
   "cell_type": "code",
   "execution_count": null,
   "id": "c9c3355d",
   "metadata": {},
   "outputs": [],
   "source": [
    "# 1. filter함수 사용\n",
    "print(list(filter(lambda x : x==x//1, L)))\n",
    "print(list(filter(lambda x : x==round(x), L)))\n",
    "print(list(filter(lambda x : x%1.0==0, L)))\n",
    "# 2. filter_template 사용 \n",
    "print(list(filter_template(lambda x : x==x//1, L)))\n",
    "print(list(filter_template(lambda x : x==round(x), L)))\n",
    "print(list(filter_template(lambda x : x%1.0==0, L)))\n",
    "# 3. 리스트컴프리헨션 사용\n",
    "print([x for x in L if x==round(x)])\n",
    "print([x for x in L if x==x//1])\n",
    "print([x for x in L if x%1.0==0])"
   ]
  },
  {
   "cell_type": "markdown",
   "id": "753e8715",
   "metadata": {},
   "source": [
    "**람다식은 함수가 실행할 문장이 한문장의 return문일 경우만 사용 가능**<br>\n",
    "**람다식이 가장 많이 사용되는 곳은 함수의 인수로 전달될 때 나 함수를 return할때**"
   ]
  },
  {
   "cell_type": "code",
   "execution_count": null,
   "id": "daa041ad",
   "metadata": {},
   "outputs": [],
   "source": [
    "# 예제2 : 베스트셀러 list(딕셔너리 리스트)를 가격순으로 sort\n",
    "p = [10, 3, 6, 1]\n",
    "p.sort(reverse=True) # 내림차순 정렬\n",
    "p"
   ]
  },
  {
   "cell_type": "code",
   "execution_count": null,
   "id": "2e948377",
   "metadata": {},
   "outputs": [],
   "source": [
    "pairs = [(2, 'two'),(1, 'one'),(4, 'four'),(3, 'three')]\n",
    "pairs.sort() # 1번째로 sort\n",
    "pairs"
   ]
  },
  {
   "cell_type": "code",
   "execution_count": null,
   "id": "fb4c79a4",
   "metadata": {},
   "outputs": [],
   "source": [
    "pairs.sort(key=lambda pair : pair[1], reverse=True)\n",
    "pairs"
   ]
  },
  {
   "cell_type": "code",
   "execution_count": null,
   "id": "b40048c7",
   "metadata": {},
   "outputs": [],
   "source": [
    "students =[{'name':'홍','score':99},\n",
    "           {'name':'김','score':90},\n",
    "           {'name':'이','score':80},\n",
    "           {'name':'박','score':99}]"
   ]
  },
  {
   "cell_type": "code",
   "execution_count": null,
   "id": "5d2ffe97",
   "metadata": {},
   "outputs": [],
   "source": [
    "# students를 이름 ㄱㄴㄷ순 정렬\n",
    "students.sort(key=lambda student : student['name'] )\n",
    "students"
   ]
  },
  {
   "cell_type": "code",
   "execution_count": null,
   "id": "e3fd62ab",
   "metadata": {},
   "outputs": [],
   "source": [
    "# students를 score순 오름차순\n",
    "students.sort(key=lambda student : student['score'])\n",
    "students"
   ]
  },
  {
   "cell_type": "code",
   "execution_count": null,
   "id": "80111079",
   "metadata": {},
   "outputs": [],
   "source": [
    "# students를 score순 내림차순\n",
    "students.sort(key=lambda student : student.get('score'), reverse=True)\n",
    "students"
   ]
  },
  {
   "cell_type": "code",
   "execution_count": null,
   "id": "52dd9d72",
   "metadata": {},
   "outputs": [],
   "source": [
    "books = [{'no':1, 'title':'소년이 온다', 'writer':'한강', 'price':'13,500'},\n",
    "         {'no':3, 'title':'트럼프2.0시대', 'writer':'박종훈', 'price':'18,000'},\n",
    "         {'no':2, 'title':'트렌드코리아2025', 'writer':'김난도', 'price':'9,100'},\n",
    "         {'no':4, 'title':'가격잘못', 'writer':'홍길동', 'price':'ㅁ'},\n",
    "         {'no':5, 'title':'가격없음', 'writer':'신길동', 'price':'None예정'},]"
   ]
  },
  {
   "cell_type": "code",
   "execution_count": null,
   "id": "68f98509",
   "metadata": {},
   "outputs": [],
   "source": [
    "books.sort(key=lambda book : book['no'])\n",
    "books"
   ]
  },
  {
   "cell_type": "code",
   "execution_count": null,
   "id": "158c287d",
   "metadata": {},
   "outputs": [],
   "source": [
    "books.sort(key=lambda book : book['title'])\n",
    "books"
   ]
  },
  {
   "cell_type": "code",
   "execution_count": null,
   "id": "577de560",
   "metadata": {},
   "outputs": [],
   "source": [
    "books.sort(key=lambda book : book['writer'])\n",
    "books"
   ]
  },
  {
   "cell_type": "code",
   "execution_count": null,
   "id": "7683d565",
   "metadata": {},
   "outputs": [],
   "source": [
    "books.sort(key=lambda book : book['price'], reverse=True)\n",
    "books"
   ]
  },
  {
   "cell_type": "code",
   "execution_count": null,
   "id": "1b03d105",
   "metadata": {},
   "outputs": [],
   "source": [
    "books = [{'no':1, 'title':'소년이 온다', 'writer':'한강', 'price':'13,500'},\n",
    "         {'no':3, 'title':'트럼프2.0시대', 'writer':'박종훈', 'price':'18,000'},\n",
    "         {'no':2, 'title':'트렌드코리아2025', 'writer':'김난도', 'price':'9,100'},\n",
    "         {'no':4, 'title':'가격잘못', 'writer':'홍길동', 'price':'ㅁ'}, # 결측치 0변경\n",
    "         {'no':6, 'title':'가격숫자', 'writer':'신길동', 'price':9200},\n",
    "         {'no':5, 'title':'가격없음', 'writer':'이길동'}] # 결측치 0변경"
   ]
  },
  {
   "cell_type": "code",
   "execution_count": null,
   "id": "f2dabb3a",
   "metadata": {},
   "outputs": [],
   "source": [
    "books.sort(key=lambda book : book.get('price')) # 오류 스트링 int None\n",
    "books"
   ]
  },
  {
   "cell_type": "code",
   "execution_count": null,
   "id": "a6b7f4b5",
   "metadata": {},
   "outputs": [],
   "source": [
    "# & : 논리연산, 비트연산, 집합연산 모두 가능하므로, 좌항이 False여도, 우항이 숫자면 비트연산으로 수행해야 하므로 우항으로 수행\n",
    "# and : 논리연산의 역할 (좌항이 False면 우항을 수행 안 함)\n",
    "# isdigit() : 문자열이 '숫자'로만 이루어져있는지 확인하는 함수\n",
    "# isinstance(확인하고자 하는 데이터 값, 확인하고자 하는 데이터 타입)\n",
    "def parse_int(price):\n",
    "   # print(type(price))\n",
    "    if isinstance(price, str) and price.replace(',', '').isdigit(): \n",
    "        return int(price.replace(',',''))\n",
    "    elif isinstance(price, int) :\n",
    "        return price\n",
    "    else :\n",
    "        return 0"
   ]
  },
  {
   "cell_type": "code",
   "execution_count": null,
   "id": "76862c4d",
   "metadata": {},
   "outputs": [],
   "source": [
    "print(parse_int('ㅁ')) # 0\n",
    "print(parse_int(None)) # 0\n",
    "print(parse_int(9200)) # 9200\n",
    "print(parse_int('13,500')) # 13500"
   ]
  },
  {
   "cell_type": "code",
   "execution_count": null,
   "id": "79f9064f",
   "metadata": {},
   "outputs": [],
   "source": [
    "testFunc = lambda book : int(book.get('price').replace(',',''))\\\n",
    "                            if isinstance(book.get('price'), str) and book.get('price').replace(',','').isdigit()\\\n",
    "                            else book.get('price') if isinstance(book.get('price'),int) else 0\n",
    "\n",
    "[testFunc(book) for book in books]"
   ]
  },
  {
   "cell_type": "code",
   "execution_count": null,
   "id": "82c1af41",
   "metadata": {},
   "outputs": [],
   "source": [
    "copybooks = books.copy()\n",
    "copybooks.sort(key=lambda book : int(book.get('price').replace(',','')\\\n",
    "                                    if isinstance(book.get('price'), str) and book.get('price').replace(',','').isdigit()\\\n",
    "                                    else book.get('price') if isinstance(book.get('price'),int) else 0), reverse=True)\n",
    "copybooks"
   ]
  },
  {
   "cell_type": "code",
   "execution_count": null,
   "id": "2b817cf9",
   "metadata": {},
   "outputs": [],
   "source": [
    "# map(func, books) price 변경\n",
    "'''\n",
    "{'no': 3, 'title': '트럼프2.0시대', 'writer': '박종훈', 'price': '18,000'}를 매개변수로 받아 \n",
    "{'no': 3, 'title': '트럼프2.0시대', 'writer': '박종훈', 'price': 18000}로 return\n",
    "'''"
   ]
  },
  {
   "cell_type": "code",
   "execution_count": null,
   "id": "aed0b648",
   "metadata": {},
   "outputs": [],
   "source": [
    "def price_parse_int(book):\n",
    "    # book.get('price')를 정수 가격으로 변경 (방법1)\n",
    "    if isinstance(book.get('price'), str) and book.get('price').replace(',','').isdigit():\n",
    "        book['price'] = int(book.get('price').replace(',',''))\n",
    "    elif isinstance(book.get('price'), int):\n",
    "        pass\n",
    "    else:\n",
    "        book['price'] = 0\n",
    "    return book"
   ]
  },
  {
   "cell_type": "code",
   "execution_count": null,
   "id": "fc8b9e5a",
   "metadata": {
    "code_folding": []
   },
   "outputs": [],
   "source": [
    "# (방법 2)\n",
    "def price_parse_int(book):\n",
    "    return {'no':book.get('no'), \n",
    "            'title':book.get('title'), \n",
    "            'writer':book.get('writer'), \\\n",
    "            'price':int(book.get('price').replace(',',''))\\\n",
    "               if isinstance(book.get('price'),str) and book.get('price').replace(',','').isdigit() \\\n",
    "                else (book.get('price') if isinstance(book.get('price'), int) else 0)}"
   ]
  },
  {
   "cell_type": "code",
   "execution_count": null,
   "id": "9e943731",
   "metadata": {},
   "outputs": [],
   "source": [
    "price_parse_int = lambda book : {'no':book.get('no'), \n",
    "            'title':book.get('title'), \n",
    "            'writer':book.get('writer'), \\\n",
    "            'price':int(book.get('price').replace(',',''))\\\n",
    "               if isinstance(book.get('price'),str) and book.get('price').replace(',','').isdigit() \\\n",
    "                else (book.get('price') if isinstance(book.get('price'), int) else 0)}"
   ]
  },
  {
   "cell_type": "code",
   "execution_count": null,
   "id": "b55d9afc",
   "metadata": {},
   "outputs": [],
   "source": [
    "booktemp = {'no': 3, 'title': '트럼프2.0시대', 'writer': '박종훈', 'price': '18,000'}\n",
    "returnbook = price_parse_int(booktemp)\n",
    "returnbook"
   ]
  },
  {
   "cell_type": "code",
   "execution_count": null,
   "id": "45f7ffcb",
   "metadata": {},
   "outputs": [],
   "source": [
    "booktemp"
   ]
  },
  {
   "cell_type": "code",
   "execution_count": null,
   "id": "7dc74a0d",
   "metadata": {},
   "outputs": [],
   "source": [
    "newBooks = list(map(lambda book : {'no':book.get('no'), \n",
    "            'title':book.get('title'), \n",
    "            'writer':book.get('writer'), \\\n",
    "            'price':int(book.get('price').replace(',',''))\\\n",
    "               if isinstance(book.get('price'),str) and book.get('price').replace(',','').isdigit() \\\n",
    "                else (book.get('price') if isinstance(book.get('price'), int) else 0)}, \n",
    "                    books\n",
    "                 ))"
   ]
  },
  {
   "cell_type": "code",
   "execution_count": null,
   "id": "35a619b7",
   "metadata": {},
   "outputs": [],
   "source": [
    "newBooks"
   ]
  },
  {
   "cell_type": "code",
   "execution_count": null,
   "id": "5ead39d8",
   "metadata": {},
   "outputs": [],
   "source": [
    "# 예제 3.\n",
    "'''\n",
    "members1 = [{'name':'홍길동', 'birth':'2000-01-01'},\n",
    "           {'name':'신길동', 'birth':'1995-12-18'},]를 \n",
    "members1 = [{'name':'홍길동', 'birth':'2000-01-01', 'year': 2000, 'month':1, 'day': 1},\n",
    "           {'name':'신길동', 'birth':'1995-12-18', 'year': 1995, 'month':12, 'day': 18},]\n",
    "'''"
   ]
  },
  {
   "cell_type": "code",
   "execution_count": 27,
   "id": "fec286f2",
   "metadata": {},
   "outputs": [],
   "source": [
    "members1 = [{'name':'홍길동', 'birth':'2000-01-01'}, {'name':'신길동', 'birth':'1995-12-18'},]\n",
    "def split_date(date) :\n",
    "    split_data = date.split('-')\n",
    "    return {'year':split_data[0], 'month':split_data[1], 'day':split_data[2]}"
   ]
  },
  {
   "cell_type": "code",
   "execution_count": 28,
   "id": "0934416f",
   "metadata": {},
   "outputs": [
    {
     "data": {
      "text/plain": [
       "{'year': '2000', 'month': '01', 'day': '01'}"
      ]
     },
     "execution_count": 28,
     "metadata": {},
     "output_type": "execute_result"
    }
   ],
   "source": [
    "split_date('2000-01-01')"
   ]
  },
  {
   "cell_type": "code",
   "execution_count": 29,
   "id": "0dfdb755",
   "metadata": {},
   "outputs": [],
   "source": [
    "def split_birth(member) : # 'name', 'birth'\n",
    "    return {'name':member.get('name'),\n",
    "           'year':int(member.get('birth').split('-')[0]),\n",
    "           'month':int(member.get('birth').split('-')[1]),\n",
    "           'day':int(member.get('birth').split('-')[2])}"
   ]
  },
  {
   "cell_type": "code",
   "execution_count": 30,
   "id": "07ccd088",
   "metadata": {},
   "outputs": [
    {
     "data": {
      "text/plain": [
       "{'name': '홍길동', 'year': 2000, 'month': 1, 'day': 1}"
      ]
     },
     "execution_count": 30,
     "metadata": {},
     "output_type": "execute_result"
    }
   ],
   "source": [
    "split_birth({'name':'홍길동', 'birth':'2000-01-01'})"
   ]
  },
  {
   "cell_type": "code",
   "execution_count": 31,
   "id": "0702ae04",
   "metadata": {},
   "outputs": [],
   "source": [
    "split_birth = lambda member : { 'name':member['name'],\n",
    "                               'year':int(member['birth'].split('-')[0]),\n",
    "                              'month':int(member['birth'].split('-')[1]),\n",
    "                              'day':int(member['birth'].split('-')[2])}"
   ]
  },
  {
   "cell_type": "code",
   "execution_count": 32,
   "id": "80ef2264",
   "metadata": {},
   "outputs": [
    {
     "data": {
      "text/plain": [
       "{'name': '홍길동', 'year': 2000, 'month': 1, 'day': 1}"
      ]
     },
     "execution_count": 32,
     "metadata": {},
     "output_type": "execute_result"
    }
   ],
   "source": [
    "split_birth({'name':'홍길동', 'birth':'2000-01-01'})"
   ]
  },
  {
   "cell_type": "code",
   "execution_count": 40,
   "id": "769f52ec",
   "metadata": {},
   "outputs": [
    {
     "data": {
      "text/plain": [
       "[{'name': '홍길동', 'year': 2000, 'month': 1, 'day': 1},\n",
       " {'name': '신길동', 'year': 1995, 'month': 12, 'day': 18}]"
      ]
     },
     "execution_count": 40,
     "metadata": {},
     "output_type": "execute_result"
    }
   ],
   "source": [
    "members2 = list(map(lambda member : {'name':member['name'],\n",
    "                                    'year':int(member['birth'].split('-')[0]),\n",
    "                                    'month':int(member['birth'].split('-')[1]),\n",
    "                                    'day':int(member['birth'].split('-')[2]),},\n",
    "                  members1\n",
    "                  ))\n",
    "members2"
   ]
  },
  {
   "cell_type": "code",
   "execution_count": 41,
   "id": "469295e1",
   "metadata": {},
   "outputs": [],
   "source": [
    "def join_date(date): # {'year': 1995, 'month': 12, 'day': 18} > \"1955-12-18\"\n",
    "    return '{year}-{month:02}-{day:02}'.format(**date) ## 딕셔너리데이터 언패킹"
   ]
  },
  {
   "cell_type": "code",
   "execution_count": 42,
   "id": "2ae37a38",
   "metadata": {},
   "outputs": [
    {
     "data": {
      "text/plain": [
       "'1995-01-01'"
      ]
     },
     "execution_count": 42,
     "metadata": {},
     "output_type": "execute_result"
    }
   ],
   "source": [
    "join_date({'year': 1995, 'month': 1, 'day': 1})"
   ]
  },
  {
   "cell_type": "code",
   "execution_count": 43,
   "id": "1ac1a819",
   "metadata": {},
   "outputs": [],
   "source": [
    "def join_birth(member) :\n",
    "    name = member['name']\n",
    "    del member['name']\n",
    "#     print(member)\n",
    "    join_date = '{year}-{month:02}-{day:02}'.format(**member)\n",
    "    return{'name':name,\n",
    "           'birth':join_date}"
   ]
  },
  {
   "cell_type": "code",
   "execution_count": 44,
   "id": "7fe706ec",
   "metadata": {},
   "outputs": [
    {
     "data": {
      "text/plain": [
       "{'name': 'kim', 'birth': '1955-01-02'}"
      ]
     },
     "execution_count": 44,
     "metadata": {},
     "output_type": "execute_result"
    }
   ],
   "source": [
    "join_birth({'name':'kim','year':1955, 'month':1, 'day':2})"
   ]
  },
  {
   "cell_type": "code",
   "execution_count": 46,
   "id": "d8be8754",
   "metadata": {},
   "outputs": [
    {
     "data": {
      "text/plain": [
       "[{'name': '홍길동', 'birth': '2000-01-01'},\n",
       " {'name': '신길동', 'birth': '1995-12-18'}]"
      ]
     },
     "execution_count": 46,
     "metadata": {},
     "output_type": "execute_result"
    }
   ],
   "source": [
    "members1 = list(map(join_birth, members2))\n",
    "members1"
   ]
  },
  {
   "cell_type": "markdown",
   "id": "7b048cf9",
   "metadata": {},
   "source": [
    "## 4.3 return문에 람다식 사용"
   ]
  },
  {
   "cell_type": "code",
   "execution_count": 61,
   "id": "ad23695a",
   "metadata": {},
   "outputs": [],
   "source": [
    "# 매개변수에 함수 사용\n",
    "def apply(data, func=None):\n",
    "    #if func == None:\n",
    "    if func is None:\n",
    "        return data\n",
    "    else:\n",
    "        return func(data)"
   ]
  },
  {
   "cell_type": "code",
   "execution_count": 60,
   "id": "14bdc6ec",
   "metadata": {},
   "outputs": [
    {
     "name": "stdout",
     "output_type": "stream",
     "text": [
      "2\n",
      "8\n"
     ]
    }
   ],
   "source": [
    "print(apply(2))\n",
    "print(apply(2, lambda x: x**3))"
   ]
  },
  {
   "cell_type": "code",
   "execution_count": 71,
   "id": "1be898fa",
   "metadata": {},
   "outputs": [],
   "source": [
    "# 함수를 return\n",
    "'''\n",
    "make_box([2,3]) => 2차원 2행 3열짜리 list를 만드는 함수를 return\n",
    "    fun = make_box([2,3])\n",
    "    fun(5) => [[5,5,5],\n",
    "               [5,5,5]]\n",
    "make_box((2,)) => 1차원 2열짜리 list 만드는 함수를 return\n",
    "    fun = make_box([2])\n",
    "    fun(7) => [7,7]\n",
    "'''\n",
    "def make_box(shape) : # [x] , [x,y]\n",
    "    def box(init_value): \n",
    "        if len(shape)==1:\n",
    "            return [init_value]*shape[0] # 1차원 list\n",
    "        elif len(shape)==2:\n",
    "            return [[init_value]*shape[1]]*shape[0]\n",
    "    return box"
   ]
  },
  {
   "cell_type": "code",
   "execution_count": 78,
   "id": "e8db8e06",
   "metadata": {},
   "outputs": [],
   "source": [
    "# 람다식 return\n",
    "def make_box(shape):\n",
    "    if len(shape)==1:\n",
    "        return lambda init_value : [init_value]*shape[0]\n",
    "    elif len(shape)==2:\n",
    "        return lambda init_value : [[init_value]*shape[1]]*shape[0]"
   ]
  },
  {
   "cell_type": "code",
   "execution_count": 79,
   "id": "292d5a6f",
   "metadata": {},
   "outputs": [
    {
     "data": {
      "text/plain": [
       "[5, 5, 5]"
      ]
     },
     "execution_count": 79,
     "metadata": {},
     "output_type": "execute_result"
    }
   ],
   "source": [
    "line_fun = make_box( (3,))\n",
    "line_fun(5)"
   ]
  },
  {
   "cell_type": "code",
   "execution_count": 80,
   "id": "de6c1feb",
   "metadata": {},
   "outputs": [
    {
     "data": {
      "text/plain": [
       "[[5, 5, 5], [5, 5, 5], [5, 5, 5], [5, 5, 5]]"
      ]
     },
     "execution_count": 80,
     "metadata": {},
     "output_type": "execute_result"
    }
   ],
   "source": [
    "box2d_fun = make_box( (4,3))\n",
    "box2d_fun(5)"
   ]
  },
  {
   "cell_type": "markdown",
   "id": "87c943ac",
   "metadata": {},
   "source": [
    "# 5절. 파이썬 내장함수\n",
    "- import하지 않고 바로 사용 가능한 함수\n",
    "- 키워드처럼 간주되므로, 식별자로 사용하는 것을 피한다"
   ]
  },
  {
   "cell_type": "code",
   "execution_count": 84,
   "id": "698c817e",
   "metadata": {},
   "outputs": [
    {
     "data": {
      "text/plain": [
       "6"
      ]
     },
     "execution_count": 84,
     "metadata": {},
     "output_type": "execute_result"
    }
   ],
   "source": [
    "int('6')"
   ]
  },
  {
   "cell_type": "code",
   "execution_count": 85,
   "id": "feb4818f",
   "metadata": {
    "collapsed": true
   },
   "outputs": [
    {
     "data": {
      "text/plain": [
       "{'__name__': '__main__',\n",
       " '__doc__': '\\nmake_box([2,3]) => 2차원 2행 3열짜리 list를 만드는 함수를 return\\n    fun = make_box([2,3])\\n    fun(5) => [[5,5,5],\\n               [5,5,5]]\\nmake_box((2,)) => 1차원 2열짜리 list 만드는 함수를 return\\n    fun = make_box([2])\\n    fun(7) => [7,7]\\n',\n",
       " '__package__': None,\n",
       " '__loader__': None,\n",
       " '__spec__': None,\n",
       " '__builtin__': <module 'builtins' (built-in)>,\n",
       " '__builtins__': <module 'builtins' (built-in)>,\n",
       " '_ih': ['',\n",
       "  \"members = [{'name':'홍길동', 'birth':'2000-01-01'}, {'name':'신길동', 'birth':'1995-12-18'},]\\ndef split_date(date) :\\n    split_data = date.split('-')\\n    return {'year':split_data[0], 'month':split_data[1],'day':split_data[2]}\",\n",
       "  \"split_date('2000-01-01')\",\n",
       "  \"def split_birth(member) : # 'name', 'birth'\\n    return {'name':member.get('name'),\\n           'year':int(member.get('birth').split('-')[0]),\\n           'month':int(member.get('birth').split('-')[1]),\\n           'day':int(member.get('birth').split('-')[2])}\",\n",
       "  \"split_birth({'name':'홍길동', 'birth':'2000-01-01'})\",\n",
       "  \"split_birth = lambda member : { 'name':member['name'],\\n                               'year':int(member['birth'].split('-')[0]),\\n                              'month':int(member['birth'].split('-')[1]),\\n                              'day':int(member['birth'].split('-')[2])}\",\n",
       "  \"split_birth({'name':'홍길동', 'birth':'2000-01-01'})\",\n",
       "  \"members = list(map(lambda member : {'name':member['name'],\\n                                    'year':int(member['birth'].split('-')[0]),\\n                                    'month':int(member['birth'].split('-')[1]),\\n                                    'day':int(member['birth'].split('-')[2]),},\\n                  members\\n                  ))\\nmembers\",\n",
       "  'def join_date(date): # {\\'year\\': 1995, \\'month\\': 12, \\'day\\': 18} > \"1955-12-18\"\\n    return \\'{}-{:2}-{:2}\\'.format(date[\\'year\\'], date[\\'month\\'], date[\\'day\\'])',\n",
       "  \"join_date({'year': 1995, 'month': 12, 'day': 18})\",\n",
       "  \"join_date({'year': 1995, 'month': 1, 'day': 1})\",\n",
       "  'def join_date(date): # {\\'year\\': 1995, \\'month\\': 12, \\'day\\': 18} > \"1955-12-18\"\\n    return \\'{}-{:02}-{:02}\\'.format(date[\\'year\\'], date[\\'month\\'], date[\\'day\\'])',\n",
       "  'def join_date(date): # {\\'year\\': 1995, \\'month\\': 12, \\'day\\': 18} > \"1955-12-18\"\\n    return \\'{year}-{month:02}-{day:02}\\'.format(date[\\'year\\'], date[\\'month\\'], date[\\'day\\'])',\n",
       "  \"join_date({'year': 1995, 'month': 1, 'day': 1})\",\n",
       "  'def join_date(date): # {\\'year\\': 1995, \\'month\\': 12, \\'day\\': 18} > \"1955-12-18\"\\n    return \\'{year}-{month:02}-{day:02}\\'.format( year=date[\\'year\\'], month=date[\\'month\\'], day=date[\\'day\\'])',\n",
       "  \"join_date({'year': 1995, 'month': 1, 'day': 1})\",\n",
       "  'def join_date(date): # {\\'year\\': 1995, \\'month\\': 12, \\'day\\': 18} > \"1955-12-18\"\\n    return \\'{year}-{month:02}-{day:02}\\'.format(**date)',\n",
       "  \"join_date({'year': 1995, 'month': 1, 'day': 1})\",\n",
       "  \"def join_birth(member) :\\n    name = member['name']\\n    del member['name']\\n    print(member)\",\n",
       "  \"join_birth({'name':'kim','year':1955, 'month':1, 'day':2})\",\n",
       "  \"def join_birth(member) :\\n    name = member['name']\\n    del member['name']\\n    print(member)\\n    join_date = '{year}-{month:02}-{day:02}'.format(**member)\",\n",
       "  \"join_birth({'name':'kim','year':1955, 'month':1, 'day':2})\",\n",
       "  \"join_birth({'name':'kim','year':1955, 'month':1, 'day':2})\",\n",
       "  \"def join_birth(member) :\\n    name = member['name']\\n    del member['name']\\n#     print(member)\\n    join_date = '{year}-{month:02}-{day:02}'.format(**member)\\n    return{'name':name,\\n          'birth':join_date}\",\n",
       "  \"def join_birth(member) :\\n    name = member['name']\\n    del member['name']\\n#     print(member)\\n    join_date = '{year}-{month:02}-{day:02}'.format(**member)\\n    return{'name':name,\\n           'birth':join_date}\",\n",
       "  \"join_birth({'name':'kim','year':1955, 'month':1, 'day':2})\",\n",
       "  'members = list(map(join_birth, members))\\nmembers',\n",
       "  \"members1 = [{'name':'홍길동', 'birth':'2000-01-01'}, {'name':'신길동', 'birth':'1995-12-18'},]\\ndef split_date(date) :\\n    split_data = date.split('-')\\n    return {'year':split_data[0], 'month':split_data[1], 'day':split_data[2]}\",\n",
       "  \"split_date('2000-01-01')\",\n",
       "  \"def split_birth(member) : # 'name', 'birth'\\n    return {'name':member.get('name'),\\n           'year':int(member.get('birth').split('-')[0]),\\n           'month':int(member.get('birth').split('-')[1]),\\n           'day':int(member.get('birth').split('-')[2])}\",\n",
       "  \"split_birth({'name':'홍길동', 'birth':'2000-01-01'})\",\n",
       "  \"split_birth = lambda member : { 'name':member['name'],\\n                               'year':int(member['birth'].split('-')[0]),\\n                              'month':int(member['birth'].split('-')[1]),\\n                              'day':int(member['birth'].split('-')[2])}\",\n",
       "  \"split_birth({'name':'홍길동', 'birth':'2000-01-01'})\",\n",
       "  \"members2 = list(map(lambda member : {'name':member['name'],\\n                                    'year':int(member['birth'].split('-')[0]),\\n                                    'month':int(member['birth'].split('-')[1]),\\n                                    'day':int(member['birth'].split('-')[2]),},\\n                  members\\n                  ))\\nmembers\",\n",
       "  'def join_date(date): # {\\'year\\': 1995, \\'month\\': 12, \\'day\\': 18} > \"1955-12-18\"\\n    return \\'{year}-{month:02}-{day:02}\\'.format(**date) ## 딕셔너리데이터 언패킹',\n",
       "  \"join_date({'year': 1995, 'month': 1, 'day': 1})\",\n",
       "  \"def join_birth(member) :\\n    name = member['name']\\n    del member['name']\\n#     print(member)\\n    join_date = '{year}-{month:02}-{day:02}'.format(**member)\\n    return{'name':name,\\n           'birth':join_date}\",\n",
       "  \"join_birth({'name':'kim','year':1955, 'month':1, 'day':2})\",\n",
       "  'members = list(map(join_birth, members))\\nmembers',\n",
       "  'members1 = list(map(join_birth, members))\\nmembers1',\n",
       "  \"members2 = list(map(lambda member : {'name':member['name'],\\n                                    'year':int(member['birth'].split('-')[0]),\\n                                    'month':int(member['birth'].split('-')[1]),\\n                                    'day':int(member['birth'].split('-')[2]),},\\n                  members1\\n                  ))\\nmembers2\",\n",
       "  'def join_date(date): # {\\'year\\': 1995, \\'month\\': 12, \\'day\\': 18} > \"1955-12-18\"\\n    return \\'{year}-{month:02}-{day:02}\\'.format(**date) ## 딕셔너리데이터 언패킹',\n",
       "  \"join_date({'year': 1995, 'month': 1, 'day': 1})\",\n",
       "  \"def join_birth(member) :\\n    name = member['name']\\n    del member['name']\\n#     print(member)\\n    join_date = '{year}-{month:02}-{day:02}'.format(**member)\\n    return{'name':name,\\n           'birth':join_date}\",\n",
       "  \"join_birth({'name':'kim','year':1955, 'month':1, 'day':2})\",\n",
       "  'members1 = list(map(join_birth, members))\\nmembers1',\n",
       "  'members1 = list(map(join_birth, members2))\\nmembers1',\n",
       "  \"def apply(data, func=None):\\n    if func is None:\\n        print(func)\\n    else:\\n        print('func가 None아님')\",\n",
       "  \"def apply(data, func=None):\\n    if func is None:\\n        print('func가 None')\\n    else:\\n        print('func가 None아님')\",\n",
       "  'apply(1)',\n",
       "  \"def apply(data, func=None):\\n    if func == None:\\n    if func is None:\\n        print('func가 None')\\n    else:\\n        print('func가 None아님')\",\n",
       "  \"def apply(data, func=None):\\n    #if func == None:\\n    if func is None:\\n        print('func가 None')\\n    else:\\n        print('func가 None아님')\",\n",
       "  'apply(1)',\n",
       "  \"def apply(data, func=None):\\n    #if func == None:\\n    if func is None:\\n        return data\\n    else:\\n        print('func가 None아님')\",\n",
       "  'apply(1)',\n",
       "  'def apply(data, func=None):\\n    #if func == None:\\n    if func is None:\\n        return data\\n    else:\\n        return func(data)',\n",
       "  'apply(1)',\n",
       "  'def apply(data, func=None):\\n    #if func == None:\\n    if func is None:\\n        return data\\n    else:\\n        return func(data)',\n",
       "  'apply(1)',\n",
       "  'apply(1,2)',\n",
       "  'print(apply(2))\\nprint(apply(2, lambda x:x**3))',\n",
       "  'def apply(data, func=None):\\n    #if func == None:\\n    if func is None:\\n        return data\\n    else:\\n        return func(data)',\n",
       "  \"# 함수를 return\\n'''\\nmake_box([2,3]) => 2차원 2행 3열짜리 list를 만드는 함수를 return\\n    fun = make_box([2,3])\\n    fun(5) => [[5,5,5],\\n               [5,5,5]]\\nmake_box((2,)) => 1차원 2열짜리 list 만드는 함수를 return\\n    fun = make_box([2])\\n    fun(7) => [7,7]\\n'''\\ndef make_box(shape) : # [x] , [x,y]\\n    def box(init_value): \\n        if len(shape)==1:\\n            return [init_value]*shape[0] # 1차원 list\\n        elif len(shape)==2:\\n            return [[init_value]*shape[1]]*shape[0]\\n        return box\",\n",
       "  'line_fun = make_box( (3,) )',\n",
       "  'line_fun = make_box( (3,) )\\nline_fun',\n",
       "  'line_fun = make_box( (3,) )\\nline_fun',\n",
       "  \"# 함수를 return\\n'''\\nmake_box([2,3]) => 2차원 2행 3열짜리 list를 만드는 함수를 return\\n    fun = make_box([2,3])\\n    fun(5) => [[5,5,5],\\n               [5,5,5]]\\nmake_box((2,)) => 1차원 2열짜리 list 만드는 함수를 return\\n    fun = make_box([2])\\n    fun(7) => [7,7]\\n'''\\ndef make_box(shape) : # [x] , [x,y]\\n    def box(init_value): \\n        if len(shape)==1:\\n            return [init_value]*shape[0] # 1차원 list\\n        elif len(shape)==2:\\n            return [[init_value]*shape[1]]*shape[0]\\n        return box\",\n",
       "  'line_fun = make_box( (3,) )\\nline_fun',\n",
       "  'line_fun = make_box( (3,))\\nline_fun',\n",
       "  \"# 함수를 return\\n'''\\nmake_box([2,3]) => 2차원 2행 3열짜리 list를 만드는 함수를 return\\n    fun = make_box([2,3])\\n    fun(5) => [[5,5,5],\\n               [5,5,5]]\\nmake_box((2,)) => 1차원 2열짜리 list 만드는 함수를 return\\n    fun = make_box([2])\\n    fun(7) => [7,7]\\n'''\\ndef make_box(shape) : # [x] , [x,y]\\n    def box(init_value): \\n        if len(shape)==1:\\n            return [init_value]*shape[0] # 1차원 list\\n        elif len(shape)==2:\\n            return [[init_value]*shape[1]]*shape[0]\\n        return box\",\n",
       "  'line_fun = make_box( (3,))\\nline_fun',\n",
       "  \"# 함수를 return\\n'''\\nmake_box([2,3]) => 2차원 2행 3열짜리 list를 만드는 함수를 return\\n    fun = make_box([2,3])\\n    fun(5) => [[5,5,5],\\n               [5,5,5]]\\nmake_box((2,)) => 1차원 2열짜리 list 만드는 함수를 return\\n    fun = make_box([2])\\n    fun(7) => [7,7]\\n'''\\ndef make_box(shape) : # [x] , [x,y]\\n    def box(init_value): \\n        if len(shape)==1:\\n            return [init_value]*shape[0] # 1차원 list\\n        elif len(shape)==2:\\n            return [[init_value]*shape[1]]*shape[0]\\n    return box\",\n",
       "  'line_fun = make_box( (3,))\\nline_fun',\n",
       "  'line_fun = make_box( (3,))\\nline_fun(5)',\n",
       "  'line_fun = make_box( (3,))\\nline_fun(5, 2)',\n",
       "  'line_fun = make_box( (3,))\\nline_fun(5)',\n",
       "  'box2d_fun = make_box( (4,3))',\n",
       "  'box2d_fun = make_box( (4,3))\\nbox2d_fun(5)',\n",
       "  '# 람다식 return\\ndef make_box(shape):\\n    if len(shape)==1:\\n        return lambda init_value : [init_value]*shape[0]\\n    elif len(shape)==2:\\n        return lambda init_value : [[init_value]*shape[1]]*shape[0]',\n",
       "  'line_fun = make_box( (3,))\\nline_fun(5)',\n",
       "  'box2d_fun = make_box( (4,3))\\nbox2d_fun(5)',\n",
       "  \"int('6')\",\n",
       "  \"int('6.3')\",\n",
       "  \"float(int('6.3'))\",\n",
       "  \"int('6')\",\n",
       "  'globals() # 전역변수 리스트'],\n",
       " '_oh': {2: {'year': '2000', 'month': '01', 'day': '01'},\n",
       "  4: {'name': '홍길동', 'year': 2000, 'month': 1, 'day': 1},\n",
       "  6: {'name': '홍길동', 'year': 2000, 'month': 1, 'day': 1},\n",
       "  7: [{'year': 2000, 'month': 1, 'day': 1},\n",
       "   {'year': 1995, 'month': 12, 'day': 18}],\n",
       "  9: '1995-12-18',\n",
       "  10: '1995- 1- 1',\n",
       "  15: '1995-01-01',\n",
       "  17: '1995-01-01',\n",
       "  25: {'name': 'kim', 'birth': '1955-01-02'},\n",
       "  26: [{'birth': '2000-01-01'}, {'name': '신길동', 'birth': '1995-12-18'}],\n",
       "  28: {'year': '2000', 'month': '01', 'day': '01'},\n",
       "  30: {'name': '홍길동', 'year': 2000, 'month': 1, 'day': 1},\n",
       "  32: {'name': '홍길동', 'year': 2000, 'month': 1, 'day': 1},\n",
       "  33: [{'birth': '2000-01-01'}, {'name': '신길동', 'birth': '1995-12-18'}],\n",
       "  35: '1995-01-01',\n",
       "  37: {'name': 'kim', 'birth': '1955-01-02'},\n",
       "  40: [{'year': 2000, 'month': 1, 'day': 1},\n",
       "   {'year': 1995, 'month': 12, 'day': 18}],\n",
       "  42: '1995-01-01',\n",
       "  44: {'name': 'kim', 'birth': '1955-01-02'},\n",
       "  46: [{'name': '홍길동', 'birth': '2000-01-01'},\n",
       "   {'name': '신길동', 'birth': '1995-12-18'}],\n",
       "  54: 1,\n",
       "  56: 1,\n",
       "  58: 1,\n",
       "  72: <function __main__.make_box.<locals>.box(init_value)>,\n",
       "  73: [5, 5, 5],\n",
       "  75: [5, 5, 5],\n",
       "  77: [[5, 5, 5], [5, 5, 5], [5, 5, 5], [5, 5, 5]],\n",
       "  79: [5, 5, 5],\n",
       "  80: [[5, 5, 5], [5, 5, 5], [5, 5, 5], [5, 5, 5]],\n",
       "  81: 6,\n",
       "  84: 6},\n",
       " '_dh': [WindowsPath('D:/ai/source/07_python')],\n",
       " 'In': ['',\n",
       "  \"members = [{'name':'홍길동', 'birth':'2000-01-01'}, {'name':'신길동', 'birth':'1995-12-18'},]\\ndef split_date(date) :\\n    split_data = date.split('-')\\n    return {'year':split_data[0], 'month':split_data[1],'day':split_data[2]}\",\n",
       "  \"split_date('2000-01-01')\",\n",
       "  \"def split_birth(member) : # 'name', 'birth'\\n    return {'name':member.get('name'),\\n           'year':int(member.get('birth').split('-')[0]),\\n           'month':int(member.get('birth').split('-')[1]),\\n           'day':int(member.get('birth').split('-')[2])}\",\n",
       "  \"split_birth({'name':'홍길동', 'birth':'2000-01-01'})\",\n",
       "  \"split_birth = lambda member : { 'name':member['name'],\\n                               'year':int(member['birth'].split('-')[0]),\\n                              'month':int(member['birth'].split('-')[1]),\\n                              'day':int(member['birth'].split('-')[2])}\",\n",
       "  \"split_birth({'name':'홍길동', 'birth':'2000-01-01'})\",\n",
       "  \"members = list(map(lambda member : {'name':member['name'],\\n                                    'year':int(member['birth'].split('-')[0]),\\n                                    'month':int(member['birth'].split('-')[1]),\\n                                    'day':int(member['birth'].split('-')[2]),},\\n                  members\\n                  ))\\nmembers\",\n",
       "  'def join_date(date): # {\\'year\\': 1995, \\'month\\': 12, \\'day\\': 18} > \"1955-12-18\"\\n    return \\'{}-{:2}-{:2}\\'.format(date[\\'year\\'], date[\\'month\\'], date[\\'day\\'])',\n",
       "  \"join_date({'year': 1995, 'month': 12, 'day': 18})\",\n",
       "  \"join_date({'year': 1995, 'month': 1, 'day': 1})\",\n",
       "  'def join_date(date): # {\\'year\\': 1995, \\'month\\': 12, \\'day\\': 18} > \"1955-12-18\"\\n    return \\'{}-{:02}-{:02}\\'.format(date[\\'year\\'], date[\\'month\\'], date[\\'day\\'])',\n",
       "  'def join_date(date): # {\\'year\\': 1995, \\'month\\': 12, \\'day\\': 18} > \"1955-12-18\"\\n    return \\'{year}-{month:02}-{day:02}\\'.format(date[\\'year\\'], date[\\'month\\'], date[\\'day\\'])',\n",
       "  \"join_date({'year': 1995, 'month': 1, 'day': 1})\",\n",
       "  'def join_date(date): # {\\'year\\': 1995, \\'month\\': 12, \\'day\\': 18} > \"1955-12-18\"\\n    return \\'{year}-{month:02}-{day:02}\\'.format( year=date[\\'year\\'], month=date[\\'month\\'], day=date[\\'day\\'])',\n",
       "  \"join_date({'year': 1995, 'month': 1, 'day': 1})\",\n",
       "  'def join_date(date): # {\\'year\\': 1995, \\'month\\': 12, \\'day\\': 18} > \"1955-12-18\"\\n    return \\'{year}-{month:02}-{day:02}\\'.format(**date)',\n",
       "  \"join_date({'year': 1995, 'month': 1, 'day': 1})\",\n",
       "  \"def join_birth(member) :\\n    name = member['name']\\n    del member['name']\\n    print(member)\",\n",
       "  \"join_birth({'name':'kim','year':1955, 'month':1, 'day':2})\",\n",
       "  \"def join_birth(member) :\\n    name = member['name']\\n    del member['name']\\n    print(member)\\n    join_date = '{year}-{month:02}-{day:02}'.format(**member)\",\n",
       "  \"join_birth({'name':'kim','year':1955, 'month':1, 'day':2})\",\n",
       "  \"join_birth({'name':'kim','year':1955, 'month':1, 'day':2})\",\n",
       "  \"def join_birth(member) :\\n    name = member['name']\\n    del member['name']\\n#     print(member)\\n    join_date = '{year}-{month:02}-{day:02}'.format(**member)\\n    return{'name':name,\\n          'birth':join_date}\",\n",
       "  \"def join_birth(member) :\\n    name = member['name']\\n    del member['name']\\n#     print(member)\\n    join_date = '{year}-{month:02}-{day:02}'.format(**member)\\n    return{'name':name,\\n           'birth':join_date}\",\n",
       "  \"join_birth({'name':'kim','year':1955, 'month':1, 'day':2})\",\n",
       "  'members = list(map(join_birth, members))\\nmembers',\n",
       "  \"members1 = [{'name':'홍길동', 'birth':'2000-01-01'}, {'name':'신길동', 'birth':'1995-12-18'},]\\ndef split_date(date) :\\n    split_data = date.split('-')\\n    return {'year':split_data[0], 'month':split_data[1], 'day':split_data[2]}\",\n",
       "  \"split_date('2000-01-01')\",\n",
       "  \"def split_birth(member) : # 'name', 'birth'\\n    return {'name':member.get('name'),\\n           'year':int(member.get('birth').split('-')[0]),\\n           'month':int(member.get('birth').split('-')[1]),\\n           'day':int(member.get('birth').split('-')[2])}\",\n",
       "  \"split_birth({'name':'홍길동', 'birth':'2000-01-01'})\",\n",
       "  \"split_birth = lambda member : { 'name':member['name'],\\n                               'year':int(member['birth'].split('-')[0]),\\n                              'month':int(member['birth'].split('-')[1]),\\n                              'day':int(member['birth'].split('-')[2])}\",\n",
       "  \"split_birth({'name':'홍길동', 'birth':'2000-01-01'})\",\n",
       "  \"members2 = list(map(lambda member : {'name':member['name'],\\n                                    'year':int(member['birth'].split('-')[0]),\\n                                    'month':int(member['birth'].split('-')[1]),\\n                                    'day':int(member['birth'].split('-')[2]),},\\n                  members\\n                  ))\\nmembers\",\n",
       "  'def join_date(date): # {\\'year\\': 1995, \\'month\\': 12, \\'day\\': 18} > \"1955-12-18\"\\n    return \\'{year}-{month:02}-{day:02}\\'.format(**date) ## 딕셔너리데이터 언패킹',\n",
       "  \"join_date({'year': 1995, 'month': 1, 'day': 1})\",\n",
       "  \"def join_birth(member) :\\n    name = member['name']\\n    del member['name']\\n#     print(member)\\n    join_date = '{year}-{month:02}-{day:02}'.format(**member)\\n    return{'name':name,\\n           'birth':join_date}\",\n",
       "  \"join_birth({'name':'kim','year':1955, 'month':1, 'day':2})\",\n",
       "  'members = list(map(join_birth, members))\\nmembers',\n",
       "  'members1 = list(map(join_birth, members))\\nmembers1',\n",
       "  \"members2 = list(map(lambda member : {'name':member['name'],\\n                                    'year':int(member['birth'].split('-')[0]),\\n                                    'month':int(member['birth'].split('-')[1]),\\n                                    'day':int(member['birth'].split('-')[2]),},\\n                  members1\\n                  ))\\nmembers2\",\n",
       "  'def join_date(date): # {\\'year\\': 1995, \\'month\\': 12, \\'day\\': 18} > \"1955-12-18\"\\n    return \\'{year}-{month:02}-{day:02}\\'.format(**date) ## 딕셔너리데이터 언패킹',\n",
       "  \"join_date({'year': 1995, 'month': 1, 'day': 1})\",\n",
       "  \"def join_birth(member) :\\n    name = member['name']\\n    del member['name']\\n#     print(member)\\n    join_date = '{year}-{month:02}-{day:02}'.format(**member)\\n    return{'name':name,\\n           'birth':join_date}\",\n",
       "  \"join_birth({'name':'kim','year':1955, 'month':1, 'day':2})\",\n",
       "  'members1 = list(map(join_birth, members))\\nmembers1',\n",
       "  'members1 = list(map(join_birth, members2))\\nmembers1',\n",
       "  \"def apply(data, func=None):\\n    if func is None:\\n        print(func)\\n    else:\\n        print('func가 None아님')\",\n",
       "  \"def apply(data, func=None):\\n    if func is None:\\n        print('func가 None')\\n    else:\\n        print('func가 None아님')\",\n",
       "  'apply(1)',\n",
       "  \"def apply(data, func=None):\\n    if func == None:\\n    if func is None:\\n        print('func가 None')\\n    else:\\n        print('func가 None아님')\",\n",
       "  \"def apply(data, func=None):\\n    #if func == None:\\n    if func is None:\\n        print('func가 None')\\n    else:\\n        print('func가 None아님')\",\n",
       "  'apply(1)',\n",
       "  \"def apply(data, func=None):\\n    #if func == None:\\n    if func is None:\\n        return data\\n    else:\\n        print('func가 None아님')\",\n",
       "  'apply(1)',\n",
       "  'def apply(data, func=None):\\n    #if func == None:\\n    if func is None:\\n        return data\\n    else:\\n        return func(data)',\n",
       "  'apply(1)',\n",
       "  'def apply(data, func=None):\\n    #if func == None:\\n    if func is None:\\n        return data\\n    else:\\n        return func(data)',\n",
       "  'apply(1)',\n",
       "  'apply(1,2)',\n",
       "  'print(apply(2))\\nprint(apply(2, lambda x:x**3))',\n",
       "  'def apply(data, func=None):\\n    #if func == None:\\n    if func is None:\\n        return data\\n    else:\\n        return func(data)',\n",
       "  \"# 함수를 return\\n'''\\nmake_box([2,3]) => 2차원 2행 3열짜리 list를 만드는 함수를 return\\n    fun = make_box([2,3])\\n    fun(5) => [[5,5,5],\\n               [5,5,5]]\\nmake_box((2,)) => 1차원 2열짜리 list 만드는 함수를 return\\n    fun = make_box([2])\\n    fun(7) => [7,7]\\n'''\\ndef make_box(shape) : # [x] , [x,y]\\n    def box(init_value): \\n        if len(shape)==1:\\n            return [init_value]*shape[0] # 1차원 list\\n        elif len(shape)==2:\\n            return [[init_value]*shape[1]]*shape[0]\\n        return box\",\n",
       "  'line_fun = make_box( (3,) )',\n",
       "  'line_fun = make_box( (3,) )\\nline_fun',\n",
       "  'line_fun = make_box( (3,) )\\nline_fun',\n",
       "  \"# 함수를 return\\n'''\\nmake_box([2,3]) => 2차원 2행 3열짜리 list를 만드는 함수를 return\\n    fun = make_box([2,3])\\n    fun(5) => [[5,5,5],\\n               [5,5,5]]\\nmake_box((2,)) => 1차원 2열짜리 list 만드는 함수를 return\\n    fun = make_box([2])\\n    fun(7) => [7,7]\\n'''\\ndef make_box(shape) : # [x] , [x,y]\\n    def box(init_value): \\n        if len(shape)==1:\\n            return [init_value]*shape[0] # 1차원 list\\n        elif len(shape)==2:\\n            return [[init_value]*shape[1]]*shape[0]\\n        return box\",\n",
       "  'line_fun = make_box( (3,) )\\nline_fun',\n",
       "  'line_fun = make_box( (3,))\\nline_fun',\n",
       "  \"# 함수를 return\\n'''\\nmake_box([2,3]) => 2차원 2행 3열짜리 list를 만드는 함수를 return\\n    fun = make_box([2,3])\\n    fun(5) => [[5,5,5],\\n               [5,5,5]]\\nmake_box((2,)) => 1차원 2열짜리 list 만드는 함수를 return\\n    fun = make_box([2])\\n    fun(7) => [7,7]\\n'''\\ndef make_box(shape) : # [x] , [x,y]\\n    def box(init_value): \\n        if len(shape)==1:\\n            return [init_value]*shape[0] # 1차원 list\\n        elif len(shape)==2:\\n            return [[init_value]*shape[1]]*shape[0]\\n        return box\",\n",
       "  'line_fun = make_box( (3,))\\nline_fun',\n",
       "  \"# 함수를 return\\n'''\\nmake_box([2,3]) => 2차원 2행 3열짜리 list를 만드는 함수를 return\\n    fun = make_box([2,3])\\n    fun(5) => [[5,5,5],\\n               [5,5,5]]\\nmake_box((2,)) => 1차원 2열짜리 list 만드는 함수를 return\\n    fun = make_box([2])\\n    fun(7) => [7,7]\\n'''\\ndef make_box(shape) : # [x] , [x,y]\\n    def box(init_value): \\n        if len(shape)==1:\\n            return [init_value]*shape[0] # 1차원 list\\n        elif len(shape)==2:\\n            return [[init_value]*shape[1]]*shape[0]\\n    return box\",\n",
       "  'line_fun = make_box( (3,))\\nline_fun',\n",
       "  'line_fun = make_box( (3,))\\nline_fun(5)',\n",
       "  'line_fun = make_box( (3,))\\nline_fun(5, 2)',\n",
       "  'line_fun = make_box( (3,))\\nline_fun(5)',\n",
       "  'box2d_fun = make_box( (4,3))',\n",
       "  'box2d_fun = make_box( (4,3))\\nbox2d_fun(5)',\n",
       "  '# 람다식 return\\ndef make_box(shape):\\n    if len(shape)==1:\\n        return lambda init_value : [init_value]*shape[0]\\n    elif len(shape)==2:\\n        return lambda init_value : [[init_value]*shape[1]]*shape[0]',\n",
       "  'line_fun = make_box( (3,))\\nline_fun(5)',\n",
       "  'box2d_fun = make_box( (4,3))\\nbox2d_fun(5)',\n",
       "  \"int('6')\",\n",
       "  \"int('6.3')\",\n",
       "  \"float(int('6.3'))\",\n",
       "  \"int('6')\",\n",
       "  'globals() # 전역변수 리스트'],\n",
       " 'Out': {2: {'year': '2000', 'month': '01', 'day': '01'},\n",
       "  4: {'name': '홍길동', 'year': 2000, 'month': 1, 'day': 1},\n",
       "  6: {'name': '홍길동', 'year': 2000, 'month': 1, 'day': 1},\n",
       "  7: [{'year': 2000, 'month': 1, 'day': 1},\n",
       "   {'year': 1995, 'month': 12, 'day': 18}],\n",
       "  9: '1995-12-18',\n",
       "  10: '1995- 1- 1',\n",
       "  15: '1995-01-01',\n",
       "  17: '1995-01-01',\n",
       "  25: {'name': 'kim', 'birth': '1955-01-02'},\n",
       "  26: [{'birth': '2000-01-01'}, {'name': '신길동', 'birth': '1995-12-18'}],\n",
       "  28: {'year': '2000', 'month': '01', 'day': '01'},\n",
       "  30: {'name': '홍길동', 'year': 2000, 'month': 1, 'day': 1},\n",
       "  32: {'name': '홍길동', 'year': 2000, 'month': 1, 'day': 1},\n",
       "  33: [{'birth': '2000-01-01'}, {'name': '신길동', 'birth': '1995-12-18'}],\n",
       "  35: '1995-01-01',\n",
       "  37: {'name': 'kim', 'birth': '1955-01-02'},\n",
       "  40: [{'year': 2000, 'month': 1, 'day': 1},\n",
       "   {'year': 1995, 'month': 12, 'day': 18}],\n",
       "  42: '1995-01-01',\n",
       "  44: {'name': 'kim', 'birth': '1955-01-02'},\n",
       "  46: [{'name': '홍길동', 'birth': '2000-01-01'},\n",
       "   {'name': '신길동', 'birth': '1995-12-18'}],\n",
       "  54: 1,\n",
       "  56: 1,\n",
       "  58: 1,\n",
       "  72: <function __main__.make_box.<locals>.box(init_value)>,\n",
       "  73: [5, 5, 5],\n",
       "  75: [5, 5, 5],\n",
       "  77: [[5, 5, 5], [5, 5, 5], [5, 5, 5], [5, 5, 5]],\n",
       "  79: [5, 5, 5],\n",
       "  80: [[5, 5, 5], [5, 5, 5], [5, 5, 5], [5, 5, 5]],\n",
       "  81: 6,\n",
       "  84: 6},\n",
       " 'get_ipython': <bound method InteractiveShell.get_ipython of <ipykernel.zmqshell.ZMQInteractiveShell object at 0x0000016540540760>>,\n",
       " 'exit': <IPython.core.autocall.ZMQExitAutocall at 0x16540540250>,\n",
       " 'quit': <IPython.core.autocall.ZMQExitAutocall at 0x16540540250>,\n",
       " 'open': <function io.open(file, mode='r', buffering=-1, encoding=None, errors=None, newline=None, closefd=True, opener=None)>,\n",
       " '_': 6,\n",
       " '__': 6,\n",
       " '___': [[5, 5, 5], [5, 5, 5], [5, 5, 5], [5, 5, 5]],\n",
       " 'json': <module 'json' from 'C:\\\\Users\\\\201-23\\\\anaconda3\\\\lib\\\\json\\\\__init__.py'>,\n",
       " 'autopep8': <module 'autopep8' from 'C:\\\\Users\\\\201-23\\\\anaconda3\\\\lib\\\\site-packages\\\\autopep8.py'>,\n",
       " 'yapf_reformat': <function __main__.yapf_reformat(cell_text)>,\n",
       " '_i': \"int('6')\",\n",
       " '_ii': \"float(int('6.3'))\",\n",
       " '_iii': \"int('6.3')\",\n",
       " '_i1': \"members = [{'name':'홍길동', 'birth':'2000-01-01'}, {'name':'신길동', 'birth':'1995-12-18'},]\\ndef split_date(date) :\\n    split_data = date.split('-')\\n    return {'year':split_data[0], 'month':split_data[1],'day':split_data[2]}\",\n",
       " 'members': [{'birth': '2000-01-01'}, {'name': '신길동', 'birth': '1995-12-18'}],\n",
       " 'split_date': <function __main__.split_date(date)>,\n",
       " '_i2': \"split_date('2000-01-01')\",\n",
       " '_2': {'year': '2000', 'month': '01', 'day': '01'},\n",
       " '_i3': \"def split_birth(member) : # 'name', 'birth'\\n    return {'name':member.get('name'),\\n           'year':int(member.get('birth').split('-')[0]),\\n           'month':int(member.get('birth').split('-')[1]),\\n           'day':int(member.get('birth').split('-')[2])}\",\n",
       " 'split_birth': <function __main__.<lambda>(member)>,\n",
       " '_i4': \"split_birth({'name':'홍길동', 'birth':'2000-01-01'})\",\n",
       " '_4': {'name': '홍길동', 'year': 2000, 'month': 1, 'day': 1},\n",
       " '_i5': \"split_birth = lambda member : { 'name':member['name'],\\n                               'year':int(member['birth'].split('-')[0]),\\n                              'month':int(member['birth'].split('-')[1]),\\n                              'day':int(member['birth'].split('-')[2])}\",\n",
       " '_i6': \"split_birth({'name':'홍길동', 'birth':'2000-01-01'})\",\n",
       " '_6': {'name': '홍길동', 'year': 2000, 'month': 1, 'day': 1},\n",
       " '_i7': \"members = list(map(lambda member : {'name':member['name'],\\n                                    'year':int(member['birth'].split('-')[0]),\\n                                    'month':int(member['birth'].split('-')[1]),\\n                                    'day':int(member['birth'].split('-')[2]),},\\n                  members\\n                  ))\\nmembers\",\n",
       " '_7': [{'year': 2000, 'month': 1, 'day': 1},\n",
       "  {'year': 1995, 'month': 12, 'day': 18}],\n",
       " '_i8': 'def join_date(date): # {\\'year\\': 1995, \\'month\\': 12, \\'day\\': 18} > \"1955-12-18\"\\n    return \\'{}-{:2}-{:2}\\'.format(date[\\'year\\'], date[\\'month\\'], date[\\'day\\'])',\n",
       " 'join_date': <function __main__.join_date(date)>,\n",
       " '_i9': \"join_date({'year': 1995, 'month': 12, 'day': 18})\",\n",
       " '_9': '1995-12-18',\n",
       " '_i10': \"join_date({'year': 1995, 'month': 1, 'day': 1})\",\n",
       " '_10': '1995- 1- 1',\n",
       " '_i11': 'def join_date(date): # {\\'year\\': 1995, \\'month\\': 12, \\'day\\': 18} > \"1955-12-18\"\\n    return \\'{}-{:02}-{:02}\\'.format(date[\\'year\\'], date[\\'month\\'], date[\\'day\\'])',\n",
       " '_i12': 'def join_date(date): # {\\'year\\': 1995, \\'month\\': 12, \\'day\\': 18} > \"1955-12-18\"\\n    return \\'{year}-{month:02}-{day:02}\\'.format(date[\\'year\\'], date[\\'month\\'], date[\\'day\\'])',\n",
       " '_i13': \"join_date({'year': 1995, 'month': 1, 'day': 1})\",\n",
       " '_i14': 'def join_date(date): # {\\'year\\': 1995, \\'month\\': 12, \\'day\\': 18} > \"1955-12-18\"\\n    return \\'{year}-{month:02}-{day:02}\\'.format( year=date[\\'year\\'], month=date[\\'month\\'], day=date[\\'day\\'])',\n",
       " '_i15': \"join_date({'year': 1995, 'month': 1, 'day': 1})\",\n",
       " '_15': '1995-01-01',\n",
       " '_i16': 'def join_date(date): # {\\'year\\': 1995, \\'month\\': 12, \\'day\\': 18} > \"1955-12-18\"\\n    return \\'{year}-{month:02}-{day:02}\\'.format(**date)',\n",
       " '_i17': \"join_date({'year': 1995, 'month': 1, 'day': 1})\",\n",
       " '_17': '1995-01-01',\n",
       " '_i18': \"def join_birth(member) :\\n    name = member['name']\\n    del member['name']\\n    print(member)\",\n",
       " 'join_birth': <function __main__.join_birth(member)>,\n",
       " '_i19': \"join_birth({'name':'kim','year':1955, 'month':1, 'day':2})\",\n",
       " '_i20': \"def join_birth(member) :\\n    name = member['name']\\n    del member['name']\\n    print(member)\\n    join_date = '{year}-{month:02}-{day:02}'.format(**member)\",\n",
       " '_i21': \"join_birth({'name':'kim','year':1955, 'month':1, 'day':2})\",\n",
       " '_i22': \"join_birth({'name':'kim','year':1955, 'month':1, 'day':2})\",\n",
       " '_i23': \"def join_birth(member) :\\n    name = member['name']\\n    del member['name']\\n#     print(member)\\n    join_date = '{year}-{month:02}-{day:02}'.format(**member)\\n    return{'name':name,\\n          'birth':join_date}\",\n",
       " '_i24': \"def join_birth(member) :\\n    name = member['name']\\n    del member['name']\\n#     print(member)\\n    join_date = '{year}-{month:02}-{day:02}'.format(**member)\\n    return{'name':name,\\n           'birth':join_date}\",\n",
       " '_i25': \"join_birth({'name':'kim','year':1955, 'month':1, 'day':2})\",\n",
       " '_25': {'name': 'kim', 'birth': '1955-01-02'},\n",
       " '_i26': 'members = list(map(join_birth, members))\\nmembers',\n",
       " '_26': [{'birth': '2000-01-01'}, {'name': '신길동', 'birth': '1995-12-18'}],\n",
       " '_i27': \"members1 = [{'name':'홍길동', 'birth':'2000-01-01'}, {'name':'신길동', 'birth':'1995-12-18'},]\\ndef split_date(date) :\\n    split_data = date.split('-')\\n    return {'year':split_data[0], 'month':split_data[1], 'day':split_data[2]}\",\n",
       " 'members1': [{'name': '홍길동', 'birth': '2000-01-01'},\n",
       "  {'name': '신길동', 'birth': '1995-12-18'}],\n",
       " '_i28': \"split_date('2000-01-01')\",\n",
       " '_28': {'year': '2000', 'month': '01', 'day': '01'},\n",
       " '_i29': \"def split_birth(member) : # 'name', 'birth'\\n    return {'name':member.get('name'),\\n           'year':int(member.get('birth').split('-')[0]),\\n           'month':int(member.get('birth').split('-')[1]),\\n           'day':int(member.get('birth').split('-')[2])}\",\n",
       " '_i30': \"split_birth({'name':'홍길동', 'birth':'2000-01-01'})\",\n",
       " '_30': {'name': '홍길동', 'year': 2000, 'month': 1, 'day': 1},\n",
       " '_i31': \"split_birth = lambda member : { 'name':member['name'],\\n                               'year':int(member['birth'].split('-')[0]),\\n                              'month':int(member['birth'].split('-')[1]),\\n                              'day':int(member['birth'].split('-')[2])}\",\n",
       " '_i32': \"split_birth({'name':'홍길동', 'birth':'2000-01-01'})\",\n",
       " '_32': {'name': '홍길동', 'year': 2000, 'month': 1, 'day': 1},\n",
       " '_i33': \"members2 = list(map(lambda member : {'name':member['name'],\\n                                    'year':int(member['birth'].split('-')[0]),\\n                                    'month':int(member['birth'].split('-')[1]),\\n                                    'day':int(member['birth'].split('-')[2]),},\\n                  members\\n                  ))\\nmembers\",\n",
       " 'members2': [{'year': 2000, 'month': 1, 'day': 1},\n",
       "  {'year': 1995, 'month': 12, 'day': 18}],\n",
       " '_33': [{'birth': '2000-01-01'}, {'name': '신길동', 'birth': '1995-12-18'}],\n",
       " '_i34': 'def join_date(date): # {\\'year\\': 1995, \\'month\\': 12, \\'day\\': 18} > \"1955-12-18\"\\n    return \\'{year}-{month:02}-{day:02}\\'.format(**date) ## 딕셔너리데이터 언패킹',\n",
       " '_i35': \"join_date({'year': 1995, 'month': 1, 'day': 1})\",\n",
       " '_35': '1995-01-01',\n",
       " '_i36': \"def join_birth(member) :\\n    name = member['name']\\n    del member['name']\\n#     print(member)\\n    join_date = '{year}-{month:02}-{day:02}'.format(**member)\\n    return{'name':name,\\n           'birth':join_date}\",\n",
       " '_i37': \"join_birth({'name':'kim','year':1955, 'month':1, 'day':2})\",\n",
       " '_37': {'name': 'kim', 'birth': '1955-01-02'},\n",
       " '_i38': 'members = list(map(join_birth, members))\\nmembers',\n",
       " '_i39': 'members1 = list(map(join_birth, members))\\nmembers1',\n",
       " '_i40': \"members2 = list(map(lambda member : {'name':member['name'],\\n                                    'year':int(member['birth'].split('-')[0]),\\n                                    'month':int(member['birth'].split('-')[1]),\\n                                    'day':int(member['birth'].split('-')[2]),},\\n                  members1\\n                  ))\\nmembers2\",\n",
       " '_40': [{'year': 2000, 'month': 1, 'day': 1},\n",
       "  {'year': 1995, 'month': 12, 'day': 18}],\n",
       " '_i41': 'def join_date(date): # {\\'year\\': 1995, \\'month\\': 12, \\'day\\': 18} > \"1955-12-18\"\\n    return \\'{year}-{month:02}-{day:02}\\'.format(**date) ## 딕셔너리데이터 언패킹',\n",
       " '_i42': \"join_date({'year': 1995, 'month': 1, 'day': 1})\",\n",
       " '_42': '1995-01-01',\n",
       " '_i43': \"def join_birth(member) :\\n    name = member['name']\\n    del member['name']\\n#     print(member)\\n    join_date = '{year}-{month:02}-{day:02}'.format(**member)\\n    return{'name':name,\\n           'birth':join_date}\",\n",
       " '_i44': \"join_birth({'name':'kim','year':1955, 'month':1, 'day':2})\",\n",
       " '_44': {'name': 'kim', 'birth': '1955-01-02'},\n",
       " '_i45': 'members1 = list(map(join_birth, members))\\nmembers1',\n",
       " '_i46': 'members1 = list(map(join_birth, members2))\\nmembers1',\n",
       " '_46': [{'name': '홍길동', 'birth': '2000-01-01'},\n",
       "  {'name': '신길동', 'birth': '1995-12-18'}],\n",
       " '_i47': \"def apply(data, func=None):\\n    if func is None:\\n        print(func)\\n    else:\\n        print('func가 None아님')\",\n",
       " 'apply': <function __main__.apply(data, func=None)>,\n",
       " '_i48': \"def apply(data, func=None):\\n    if func is None:\\n        print('func가 None')\\n    else:\\n        print('func가 None아님')\",\n",
       " '_i49': 'apply(1)',\n",
       " '_i50': \"def apply(data, func=None):\\n    if func == None:\\n    if func is None:\\n        print('func가 None')\\n    else:\\n        print('func가 None아님')\",\n",
       " '_i51': \"def apply(data, func=None):\\n    #if func == None:\\n    if func is None:\\n        print('func가 None')\\n    else:\\n        print('func가 None아님')\",\n",
       " '_i52': 'apply(1)',\n",
       " '_i53': \"def apply(data, func=None):\\n    #if func == None:\\n    if func is None:\\n        return data\\n    else:\\n        print('func가 None아님')\",\n",
       " '_i54': 'apply(1)',\n",
       " '_54': 1,\n",
       " '_i55': 'def apply(data, func=None):\\n    #if func == None:\\n    if func is None:\\n        return data\\n    else:\\n        return func(data)',\n",
       " '_i56': 'apply(1)',\n",
       " '_56': 1,\n",
       " '_i57': 'def apply(data, func=None):\\n    #if func == None:\\n    if func is None:\\n        return data\\n    else:\\n        return func(data)',\n",
       " '_i58': 'apply(1)',\n",
       " '_58': 1,\n",
       " '_i59': 'apply(1,2)',\n",
       " '_i60': 'print(apply(2))\\nprint(apply(2, lambda x:x**3))',\n",
       " '_i61': 'def apply(data, func=None):\\n    #if func == None:\\n    if func is None:\\n        return data\\n    else:\\n        return func(data)',\n",
       " '_i62': \"# 함수를 return\\n'''\\nmake_box([2,3]) => 2차원 2행 3열짜리 list를 만드는 함수를 return\\n    fun = make_box([2,3])\\n    fun(5) => [[5,5,5],\\n               [5,5,5]]\\nmake_box((2,)) => 1차원 2열짜리 list 만드는 함수를 return\\n    fun = make_box([2])\\n    fun(7) => [7,7]\\n'''\\ndef make_box(shape) : # [x] , [x,y]\\n    def box(init_value): \\n        if len(shape)==1:\\n            return [init_value]*shape[0] # 1차원 list\\n        elif len(shape)==2:\\n            return [[init_value]*shape[1]]*shape[0]\\n        return box\",\n",
       " 'make_box': <function __main__.make_box(shape)>,\n",
       " '_i63': 'line_fun = make_box( (3,) )',\n",
       " 'line_fun': <function __main__.make_box.<locals>.<lambda>(init_value)>,\n",
       " '_i64': 'line_fun = make_box( (3,) )\\nline_fun',\n",
       " '_i65': 'line_fun = make_box( (3,) )\\nline_fun',\n",
       " '_i66': \"# 함수를 return\\n'''\\nmake_box([2,3]) => 2차원 2행 3열짜리 list를 만드는 함수를 return\\n    fun = make_box([2,3])\\n    fun(5) => [[5,5,5],\\n               [5,5,5]]\\nmake_box((2,)) => 1차원 2열짜리 list 만드는 함수를 return\\n    fun = make_box([2])\\n    fun(7) => [7,7]\\n'''\\ndef make_box(shape) : # [x] , [x,y]\\n    def box(init_value): \\n        if len(shape)==1:\\n            return [init_value]*shape[0] # 1차원 list\\n        elif len(shape)==2:\\n            return [[init_value]*shape[1]]*shape[0]\\n        return box\",\n",
       " '_i67': 'line_fun = make_box( (3,) )\\nline_fun',\n",
       " '_i68': 'line_fun = make_box( (3,))\\nline_fun',\n",
       " '_i69': \"# 함수를 return\\n'''\\nmake_box([2,3]) => 2차원 2행 3열짜리 list를 만드는 함수를 return\\n    fun = make_box([2,3])\\n    fun(5) => [[5,5,5],\\n               [5,5,5]]\\nmake_box((2,)) => 1차원 2열짜리 list 만드는 함수를 return\\n    fun = make_box([2])\\n    fun(7) => [7,7]\\n'''\\ndef make_box(shape) : # [x] , [x,y]\\n    def box(init_value): \\n        if len(shape)==1:\\n            return [init_value]*shape[0] # 1차원 list\\n        elif len(shape)==2:\\n            return [[init_value]*shape[1]]*shape[0]\\n        return box\",\n",
       " '_i70': 'line_fun = make_box( (3,))\\nline_fun',\n",
       " '_i71': \"# 함수를 return\\n'''\\nmake_box([2,3]) => 2차원 2행 3열짜리 list를 만드는 함수를 return\\n    fun = make_box([2,3])\\n    fun(5) => [[5,5,5],\\n               [5,5,5]]\\nmake_box((2,)) => 1차원 2열짜리 list 만드는 함수를 return\\n    fun = make_box([2])\\n    fun(7) => [7,7]\\n'''\\ndef make_box(shape) : # [x] , [x,y]\\n    def box(init_value): \\n        if len(shape)==1:\\n            return [init_value]*shape[0] # 1차원 list\\n        elif len(shape)==2:\\n            return [[init_value]*shape[1]]*shape[0]\\n    return box\",\n",
       " '_i72': 'line_fun = make_box( (3,))\\nline_fun',\n",
       " '_72': <function __main__.make_box.<locals>.box(init_value)>,\n",
       " '_i73': 'line_fun = make_box( (3,))\\nline_fun(5)',\n",
       " '_73': [5, 5, 5],\n",
       " '_i74': 'line_fun = make_box( (3,))\\nline_fun(5, 2)',\n",
       " '_i75': 'line_fun = make_box( (3,))\\nline_fun(5)',\n",
       " '_75': [5, 5, 5],\n",
       " '_i76': 'box2d_fun = make_box( (4,3))',\n",
       " 'box2d_fun': <function __main__.make_box.<locals>.<lambda>(init_value)>,\n",
       " '_i77': 'box2d_fun = make_box( (4,3))\\nbox2d_fun(5)',\n",
       " '_77': [[5, 5, 5], [5, 5, 5], [5, 5, 5], [5, 5, 5]],\n",
       " '_i78': '# 람다식 return\\ndef make_box(shape):\\n    if len(shape)==1:\\n        return lambda init_value : [init_value]*shape[0]\\n    elif len(shape)==2:\\n        return lambda init_value : [[init_value]*shape[1]]*shape[0]',\n",
       " '_i79': 'line_fun = make_box( (3,))\\nline_fun(5)',\n",
       " '_79': [5, 5, 5],\n",
       " '_i80': 'box2d_fun = make_box( (4,3))\\nbox2d_fun(5)',\n",
       " '_80': [[5, 5, 5], [5, 5, 5], [5, 5, 5], [5, 5, 5]],\n",
       " '_i81': \"int('6')\",\n",
       " '_81': 6,\n",
       " '_i82': \"int('6.3')\",\n",
       " '_i83': \"float(int('6.3'))\",\n",
       " '_i84': \"int('6')\",\n",
       " '_84': 6,\n",
       " '_i85': 'globals() # 전역변수 리스트'}"
      ]
     },
     "execution_count": 85,
     "metadata": {},
     "output_type": "execute_result"
    }
   ],
   "source": [
    "globals() # 전역변수 리스트"
   ]
  },
  {
   "cell_type": "code",
   "execution_count": 87,
   "id": "72a4733a",
   "metadata": {},
   "outputs": [],
   "source": [
    "# abc(7) => [0, 1, 2, 3, 4, 5, 6]\n",
    "def abc(n):\n",
    "    L = []\n",
    "    for i in range(n):\n",
    "        L.append(i)\n",
    "    print(locals()) # 내 함수안 지역변수들을 출력 n, i, L\n",
    "    return L"
   ]
  },
  {
   "cell_type": "code",
   "execution_count": 88,
   "id": "dc7d13ac",
   "metadata": {},
   "outputs": [
    {
     "name": "stdout",
     "output_type": "stream",
     "text": [
      "{'n': 7, 'L': [0, 1, 2, 3, 4, 5, 6], 'i': 6}\n"
     ]
    },
    {
     "data": {
      "text/plain": [
       "[0, 1, 2, 3, 4, 5, 6]"
      ]
     },
     "execution_count": 88,
     "metadata": {},
     "output_type": "execute_result"
    }
   ],
   "source": [
    "abc(7)"
   ]
  },
  {
   "cell_type": "code",
   "execution_count": 89,
   "id": "54201c3e",
   "metadata": {},
   "outputs": [
    {
     "data": {
      "text/plain": [
       "True"
      ]
     },
     "execution_count": 89,
     "metadata": {},
     "output_type": "execute_result"
    }
   ],
   "source": [
    "isinstance(3.5, float)"
   ]
  },
  {
   "cell_type": "code",
   "execution_count": 92,
   "id": "233619e4",
   "metadata": {},
   "outputs": [],
   "source": [
    "class Person : \n",
    "    def __init__(self, name, age): # self == this \n",
    "        self.name = name\n",
    "        self.age = age\n",
    "    def print_info(self):\n",
    "        # 객체의 정보를 출력\n",
    "        print(\"이름은 {}, 나이는 {}살\".format(self.name, self.age))"
   ]
  },
  {
   "cell_type": "code",
   "execution_count": 95,
   "id": "60a3368e",
   "metadata": {},
   "outputs": [
    {
     "name": "stdout",
     "output_type": "stream",
     "text": [
      "이름은 홍길동, 나이는 30살\n"
     ]
    }
   ],
   "source": [
    "p = Person('홍길동', 30)\n",
    "p.print_info()"
   ]
  },
  {
   "cell_type": "code",
   "execution_count": 96,
   "id": "e10411bb",
   "metadata": {},
   "outputs": [
    {
     "data": {
      "text/plain": [
       "('홍길동', 30)"
      ]
     },
     "execution_count": 96,
     "metadata": {},
     "output_type": "execute_result"
    }
   ],
   "source": [
    "p.name, p.age"
   ]
  },
  {
   "cell_type": "code",
   "execution_count": 97,
   "id": "19c9db66",
   "metadata": {},
   "outputs": [
    {
     "data": {
      "text/plain": [
       "True"
      ]
     },
     "execution_count": 97,
     "metadata": {},
     "output_type": "execute_result"
    }
   ],
   "source": [
    "isinstance(p, Person)"
   ]
  },
  {
   "cell_type": "code",
   "execution_count": 98,
   "id": "1db50f51",
   "metadata": {},
   "outputs": [
    {
     "data": {
      "text/plain": [
       "['__class__',\n",
       " '__delattr__',\n",
       " '__dict__',\n",
       " '__dir__',\n",
       " '__doc__',\n",
       " '__eq__',\n",
       " '__format__',\n",
       " '__ge__',\n",
       " '__getattribute__',\n",
       " '__gt__',\n",
       " '__hash__',\n",
       " '__init__',\n",
       " '__init_subclass__',\n",
       " '__le__',\n",
       " '__lt__',\n",
       " '__module__',\n",
       " '__ne__',\n",
       " '__new__',\n",
       " '__reduce__',\n",
       " '__reduce_ex__',\n",
       " '__repr__',\n",
       " '__setattr__',\n",
       " '__sizeof__',\n",
       " '__str__',\n",
       " '__subclasshook__',\n",
       " '__weakref__',\n",
       " 'print_info']"
      ]
     },
     "execution_count": 98,
     "metadata": {},
     "output_type": "execute_result"
    }
   ],
   "source": [
    "dir(Person)"
   ]
  },
  {
   "cell_type": "code",
   "execution_count": 99,
   "id": "0c918feb",
   "metadata": {},
   "outputs": [
    {
     "data": {
      "text/plain": [
       "['__add__',\n",
       " '__class__',\n",
       " '__contains__',\n",
       " '__delattr__',\n",
       " '__dir__',\n",
       " '__doc__',\n",
       " '__eq__',\n",
       " '__format__',\n",
       " '__ge__',\n",
       " '__getattribute__',\n",
       " '__getitem__',\n",
       " '__getnewargs__',\n",
       " '__gt__',\n",
       " '__hash__',\n",
       " '__init__',\n",
       " '__init_subclass__',\n",
       " '__iter__',\n",
       " '__le__',\n",
       " '__len__',\n",
       " '__lt__',\n",
       " '__mod__',\n",
       " '__mul__',\n",
       " '__ne__',\n",
       " '__new__',\n",
       " '__reduce__',\n",
       " '__reduce_ex__',\n",
       " '__repr__',\n",
       " '__rmod__',\n",
       " '__rmul__',\n",
       " '__setattr__',\n",
       " '__sizeof__',\n",
       " '__str__',\n",
       " '__subclasshook__',\n",
       " 'capitalize',\n",
       " 'casefold',\n",
       " 'center',\n",
       " 'count',\n",
       " 'encode',\n",
       " 'endswith',\n",
       " 'expandtabs',\n",
       " 'find',\n",
       " 'format',\n",
       " 'format_map',\n",
       " 'index',\n",
       " 'isalnum',\n",
       " 'isalpha',\n",
       " 'isascii',\n",
       " 'isdecimal',\n",
       " 'isdigit',\n",
       " 'isidentifier',\n",
       " 'islower',\n",
       " 'isnumeric',\n",
       " 'isprintable',\n",
       " 'isspace',\n",
       " 'istitle',\n",
       " 'isupper',\n",
       " 'join',\n",
       " 'ljust',\n",
       " 'lower',\n",
       " 'lstrip',\n",
       " 'maketrans',\n",
       " 'partition',\n",
       " 'removeprefix',\n",
       " 'removesuffix',\n",
       " 'replace',\n",
       " 'rfind',\n",
       " 'rindex',\n",
       " 'rjust',\n",
       " 'rpartition',\n",
       " 'rsplit',\n",
       " 'rstrip',\n",
       " 'split',\n",
       " 'splitlines',\n",
       " 'startswith',\n",
       " 'strip',\n",
       " 'swapcase',\n",
       " 'title',\n",
       " 'translate',\n",
       " 'upper',\n",
       " 'zfill']"
      ]
     },
     "execution_count": 99,
     "metadata": {},
     "output_type": "execute_result"
    }
   ],
   "source": [
    "dir(str)"
   ]
  },
  {
   "cell_type": "code",
   "execution_count": 101,
   "id": "b5ed2089",
   "metadata": {},
   "outputs": [
    {
     "data": {
      "text/plain": [
       "False"
      ]
     },
     "execution_count": 101,
     "metadata": {},
     "output_type": "execute_result"
    }
   ],
   "source": [
    "all([True, True, True, False]) # all : 모든 요소가 True인지 여부"
   ]
  },
  {
   "cell_type": "code",
   "execution_count": 102,
   "id": "18d70937",
   "metadata": {},
   "outputs": [
    {
     "data": {
      "text/plain": [
       "4"
      ]
     },
     "execution_count": 102,
     "metadata": {},
     "output_type": "execute_result"
    }
   ],
   "source": [
    "round(3.5) # 반올림"
   ]
  },
  {
   "cell_type": "code",
   "execution_count": 104,
   "id": "7a5cd312",
   "metadata": {},
   "outputs": [
    {
     "data": {
      "text/plain": [
       "(4.0, 4.0, 3.0)"
      ]
     },
     "execution_count": 104,
     "metadata": {},
     "output_type": "execute_result"
    }
   ],
   "source": [
    "import numpy\n",
    "numpy.round(3.5), numpy.ceil(3.1), numpy.floor(3.5)"
   ]
  },
  {
   "cell_type": "code",
   "execution_count": null,
   "id": "dbde3a01",
   "metadata": {},
   "outputs": [],
   "source": []
  }
 ],
 "metadata": {
  "kernelspec": {
   "display_name": "Python 3 (ipykernel)",
   "language": "python",
   "name": "python3"
  },
  "language_info": {
   "codemirror_mode": {
    "name": "ipython",
    "version": 3
   },
   "file_extension": ".py",
   "mimetype": "text/x-python",
   "name": "python",
   "nbconvert_exporter": "python",
   "pygments_lexer": "ipython3",
   "version": "3.10.9"
  },
  "toc": {
   "base_numbering": 1,
   "nav_menu": {},
   "number_sections": true,
   "sideBar": true,
   "skip_h1_title": false,
   "title_cell": "Table of Contents",
   "title_sidebar": "Contents",
   "toc_cell": false,
   "toc_position": {
    "height": "calc(100% - 180px)",
    "left": "10px",
    "top": "150px",
    "width": "237px"
   },
   "toc_section_display": true,
   "toc_window_display": true
  }
 },
 "nbformat": 4,
 "nbformat_minor": 5
}
