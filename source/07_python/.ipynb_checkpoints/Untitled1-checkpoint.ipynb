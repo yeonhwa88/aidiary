{
 "cells": [
  {
   "cell_type": "markdown",
   "id": "51b5eeef",
   "metadata": {},
   "source": [
    "# 문제"
   ]
  },
  {
   "cell_type": "code",
   "execution_count": 1,
   "id": "eb7615f4",
   "metadata": {},
   "outputs": [
    {
     "name": "stdout",
     "output_type": "stream",
     "text": [
      "홍길동님의 나이는 23살입니다\n"
     ]
    }
   ],
   "source": [
    "## 이름과나이변수를다음형식으로출력하도록format() 함수를이용해형식화하세요\n",
    "## [출력형식: 홍길동님의나이는23살입니다]\n",
    "name = \"홍길동\"\n",
    "age = 23\n",
    "print(\"{}님의 나이는 {}살입니다\".format(name, age))"
   ]
  },
  {
   "cell_type": "code",
   "execution_count": 18,
   "id": "243ebbcd",
   "metadata": {},
   "outputs": [
    {
     "name": "stdout",
     "output_type": "stream",
     "text": [
      "첫번째 수를 입력해주세요1\n",
      "두번쨰 수를 입력해주세요1\n",
      "두수의 합은 : 2\n",
      "0\n",
      "1.0\n",
      "1\n",
      "1\n",
      "0\n"
     ]
    }
   ],
   "source": [
    "# 두정수를입력받아두수의덧셈, 뺄셈, 곱셈, 나눗셈, 몫, 나머지를출력하세요\n",
    "num1 = int(input(\"첫번째 수를 입력해주세요\"))\n",
    "num2 = int(input(\"두번쨰 수를 입력해주세요\"))\n",
    "print(\"두수의 합은 : {}\".format(num1+num2))\n",
    "print(num1-num2)\n",
    "print(num1/num2)\n",
    "print(num1*num2)\n",
    "print(num1//num2)\n",
    "print(num1%num2)"
   ]
  },
  {
   "cell_type": "code",
   "execution_count": 19,
   "id": "f0f3cb5b",
   "metadata": {},
   "outputs": [
    {
     "name": "stdout",
     "output_type": "stream",
     "text": [
      "World Hello\n"
     ]
    }
   ],
   "source": [
    "## 문자열의분리하기와합치기기능을이용하여‘Hello World’가할당된변수를이용하여\n",
    "## ‘World Hello’로 출력하세요\n",
    "a = 'Hello World'\n",
    "date = a.split(' ')\n",
    "print(date[1],date[0])"
   ]
  },
  {
   "cell_type": "code",
   "execution_count": 27,
   "id": "be8c2ea5",
   "metadata": {},
   "outputs": [
    {
     "name": "stdout",
     "output_type": "stream",
     "text": [
      "bcdefa\n"
     ]
    }
   ],
   "source": [
    "x = 'abcdef'\n",
    "print(x[1:]+x[0])"
   ]
  },
  {
   "cell_type": "code",
   "execution_count": 29,
   "id": "296349bb",
   "metadata": {},
   "outputs": [
    {
     "name": "stdout",
     "output_type": "stream",
     "text": [
      "fedcba\n"
     ]
    }
   ],
   "source": [
    "# x = ‘abcdef’를 이용하여 ‘fedcba’로 출력하세요\n",
    "x = 'abcdef'\n",
    "print(x[::-1])"
   ]
  },
  {
   "cell_type": "code",
   "execution_count": 42,
   "id": "477edf5b",
   "metadata": {},
   "outputs": [
    {
     "name": "stdout",
     "output_type": "stream",
     "text": [
      "섭씨를 입력하세요27\n",
      "섭씨 27.0도는 화씨온도로 변경하면 80.60도 입니다\n"
     ]
    }
   ],
   "source": [
    "'''\n",
    "오늘의온도를섭씨온도로입력받아화씨온도로변환하는프로그램을작성하세요. 화\n",
    "씨온도는소수점이있을경우만 두번째자리까지출력되고, 소수점이하값이없는경\n",
    "우소수점을출력하지않도록합니다.(다음은섭씨와화씨의변환공식입니다. C는섭씨, \n",
    "F는화씨)\n",
    " C = (F-32) / 1.8\n",
    " 56\n",
    " F = (C*1.8) + 32\n",
    "'''\n",
    "c = float(input('섭씨를 입력하세요'))\n",
    "f = (c*1.8) + 32\n",
    "print('섭씨 {}도는 화씨온도로 변경하면 {:.2f}도 입니다'.format(c,f))"
   ]
  },
  {
   "cell_type": "code",
   "execution_count": 45,
   "id": "0307f4f7",
   "metadata": {},
   "outputs": [
    {
     "name": "stdout",
     "output_type": "stream",
     "text": [
      "SeounSeoul\n",
      "Seou n Seoul\n"
     ]
    }
   ],
   "source": [
    "text = \"Seoul A001 - programming with python\"\n",
    "print(text[:4]+text[-1]+text.split()[0]) #SeounSeoul\n",
    "print(text[:4], text[-1], text.split()[0]) #Seou n Seoul\n"
   ]
  },
  {
   "cell_type": "code",
   "execution_count": 50,
   "id": "9c584db1",
   "metadata": {
    "scrolled": true
   },
   "outputs": [
    {
     "data": {
      "text/plain": [
       "64"
      ]
     },
     "execution_count": 50,
     "metadata": {},
     "output_type": "execute_result"
    }
   ],
   "source": [
    "8**2"
   ]
  },
  {
   "cell_type": "code",
   "execution_count": null,
   "id": "d17f2389",
   "metadata": {},
   "outputs": [],
   "source": [
    "def safe_index(vector, item) : \n",
    "    if item in vector :\n",
    "        return vector.index\n",
    "    else :\n",
    "        return -1\n",
    "safe_index(v, 1), safe_index(v, 4)"
   ]
  },
  {
   "cell_type": "code",
   "execution_count": 1,
   "id": "a58d8b7e",
   "metadata": {},
   "outputs": [],
   "source": [
    "safe_index = lambda vector, item : vector.index(item) if item in vector else -1"
   ]
  },
  {
   "cell_type": "code",
   "execution_count": 2,
   "id": "8bd4d263",
   "metadata": {},
   "outputs": [
    {
     "data": {
      "text/plain": [
       "(0, -1)"
      ]
     },
     "execution_count": 2,
     "metadata": {},
     "output_type": "execute_result"
    }
   ],
   "source": [
    "\n",
    "safe_index([1, 2, 3, 4], 1), safe_index((1, 2, 3), 5)"
   ]
  },
  {
   "cell_type": "code",
   "execution_count": 3,
   "id": "a54bc4a1",
   "metadata": {},
   "outputs": [],
   "source": [
    "# 매개변수로 들어온 값이 짝수면 '짝수', 홀수면 '홀수' return\n",
    "num = lambda num : '짝수' if num%2==0 else '홀수'"
   ]
  },
  {
   "cell_type": "code",
   "execution_count": 6,
   "id": "5e0f7766",
   "metadata": {},
   "outputs": [
    {
     "data": {
      "text/plain": [
       "'홀수'"
      ]
     },
     "execution_count": 6,
     "metadata": {},
     "output_type": "execute_result"
    }
   ],
   "source": [
    "num(5)"
   ]
  },
  {
   "cell_type": "code",
   "execution_count": null,
   "id": "43c5ad99",
   "metadata": {},
   "outputs": [],
   "source": [
    "def levelChk(score):\n",
    "    if score >= 80:\n",
    "        return 'A'\n",
    "    elif score >= 60:\n",
    "        return 'B'\n",
    "    else :\n",
    "        return '재시험'\n",
    "levelChk(-65), levelChk(85)"
   ]
  },
  {
   "cell_type": "code",
   "execution_count": 12,
   "id": "0cec96b6",
   "metadata": {},
   "outputs": [
    {
     "data": {
      "text/plain": [
       "'유효하지않은 점수'"
      ]
     },
     "execution_count": 12,
     "metadata": {},
     "output_type": "execute_result"
    }
   ],
   "source": [
    "levelChk = lambda score : 'A' if 90 <= score <=100 else\\\n",
    "                          'B' if 80 <= score < 90 else \\\n",
    "                          'C' if 70 <= score < 80 else \\\n",
    "                          'D' if 60 <= score < 70 else \\\n",
    "                          'F' if 0 <= score < 60 else '유효하지않은 점수'\n",
    "levelChk(-50)"
   ]
  },
  {
   "cell_type": "code",
   "execution_count": 17,
   "id": "d381fe76",
   "metadata": {},
   "outputs": [
    {
     "name": "stdout",
     "output_type": "stream",
     "text": [
      "[100, 102]\n"
     ]
    }
   ],
   "source": [
    "add = lambda a, b : a+b\n",
    "sub = lambda a, b : a-b\n",
    "mul = lambda a, b : a*b\n",
    "div = lambda a, b : a/b if b!=0 else '두번째 인자가 0으로는 못 나눠요'\n",
    "add(3, 0), div(3, 0)\n",
    "\n",
    "operations = [add, sub, mul, div]\n",
    "# 매개변수로 함수 list가 옴\n",
    "def act_operations(a, b, operations=operations):\n",
    "    result=[]\n",
    "    for op in operations:\n",
    "        result.append(op(a, b))\n",
    "    return result\n",
    "operations.append(lambda a,b : a**b)\n",
    "print(act_operations(10, 2, [lambda a, b : a**b, lambda a, b : a*10+b]))"
   ]
  },
  {
   "cell_type": "code",
   "execution_count": 18,
   "id": "d913830e",
   "metadata": {},
   "outputs": [],
   "source": [
    "# act_operations의 함수를 리스트컴프리헨션을 이용하여 람다식으로 구현\n",
    "operations = [add, sub, mul, div]\n",
    "def act_operations(a, b, operations=operations):\n",
    "    return [op(A, b) for op in operation]"
   ]
  },
  {
   "cell_type": "code",
   "execution_count": 20,
   "id": "1c543a96",
   "metadata": {},
   "outputs": [
    {
     "name": "stdout",
     "output_type": "stream",
     "text": [
      "[7, 25]\n",
      "[7, 3, 10, 2.5, 25]\n"
     ]
    }
   ],
   "source": [
    "# 람다식과 리스트컴프리헨션으로 변경\n",
    "act_operations = lambda a, b, operations=operations : [op(a, b) for op in operations] \n",
    "# [op(a, b) for op in operations] 리스트컴프리헨션\n",
    "print(act_operations(5, 2, [lambda a, b : a+b, lambda a, b : a**b]))\n",
    "operations.append(lambda a, b : a**b)\n",
    "print(act_operations(5, 2))\n"
   ]
  },
  {
   "cell_type": "code",
   "execution_count": 21,
   "id": "1115094b",
   "metadata": {},
   "outputs": [],
   "source": [
    "## 4.2 함수의 매개변수(인수)에 람다식 사용\n",
    "# map 함수 만들어서 사용해보기\n",
    "def map_template(func, L=[]):\n",
    "    result = []\n",
    "    for item in L :\n",
    "        result.append(func(item))\n",
    "    return result"
   ]
  },
  {
   "cell_type": "code",
   "execution_count": 22,
   "id": "20c4fbf0",
   "metadata": {},
   "outputs": [
    {
     "data": {
      "text/plain": [
       "[2, 4, 6, 8, 10, 12, 14, 16]"
      ]
     },
     "execution_count": 22,
     "metadata": {},
     "output_type": "execute_result"
    }
   ],
   "source": [
    "list_data = [1, 2, 3, 4, 5, 6, 7, 8]\n",
    "map_template(lambda x : x*2, list_data)"
   ]
  },
  {
   "cell_type": "code",
   "execution_count": 24,
   "id": "1ef01efa",
   "metadata": {},
   "outputs": [
    {
     "name": "stdout",
     "output_type": "stream",
     "text": [
      "2 4 6 8 10 12 14 16 "
     ]
    }
   ],
   "source": [
    "# 리스트컴프리헨션\n",
    "[x*2 for x in list_data]\n",
    "# map map객체를 리턴 위에서 만든 map_template 이랑 같은용도\n",
    "# map 함수는 매개변수로 lambda식을 사용\n",
    "list(map(lambda x : x*2, list_data))\n",
    "for x in map(lambda x : x*2, list_data):\n",
    "    print (x, end=' ')"
   ]
  },
  {
   "cell_type": "code",
   "execution_count": 31,
   "id": "2ec1de33",
   "metadata": {},
   "outputs": [],
   "source": [
    "# filter는 만족하는 조건만 \n",
    "def filter_template(func, L=[]):\n",
    "    result = []\n",
    "    for item in L:\n",
    "        if func(item):\n",
    "            result.append(item)\n",
    "    return result"
   ]
  },
  {
   "cell_type": "code",
   "execution_count": 32,
   "id": "8f9d082d",
   "metadata": {},
   "outputs": [
    {
     "data": {
      "text/plain": [
       "[2, 4, 6, 8]"
      ]
     },
     "execution_count": 32,
     "metadata": {},
     "output_type": "execute_result"
    }
   ],
   "source": [
    "def evenChk(value):\n",
    "    return value%2==0\n",
    "list_data = [1, 2, 3, 4, 5, 6, 7, 8]\n",
    "filter_template(lambda x : x%2==0, L=list_data)"
   ]
  },
  {
   "cell_type": "code",
   "execution_count": 35,
   "id": "61107111",
   "metadata": {},
   "outputs": [
    {
     "name": "stdout",
     "output_type": "stream",
     "text": [
      "2 4 6 8 "
     ]
    }
   ],
   "source": [
    "# filter 함수이용\n",
    "for item in filter(lambda x : x%2==0, list_data):\n",
    "    print(item, end = ' ')"
   ]
  },
  {
   "cell_type": "code",
   "execution_count": 36,
   "id": "ec6ea4b8",
   "metadata": {},
   "outputs": [
    {
     "data": {
      "text/plain": [
       "[2, 4, 6, 8]"
      ]
     },
     "execution_count": 36,
     "metadata": {},
     "output_type": "execute_result"
    }
   ],
   "source": [
    "# 리스트컴프리헨션\n",
    "[x for x in list_data if x%2==0]"
   ]
  },
  {
   "cell_type": "code",
   "execution_count": 49,
   "id": "f577c2de",
   "metadata": {},
   "outputs": [
    {
     "name": "stdout",
     "output_type": "stream",
     "text": [
      "[1, 2, 3.0, 100]\n",
      "[1, 2, 3.0, 100]\n"
     ]
    }
   ],
   "source": [
    "# quiz : 다음 리스트에서 소숫점이하가 0인 수만 추출하시오 \n",
    "# filter함수, 람다식이용 / filter_template / 리스트컴프리헨션 \n",
    "L = [1, 1.2, 1.5, 2, 3.0, 10.5, 100]\n",
    "x=2\n",
    "print(list(filter(lambda x : x%1.0 == 0, L)))\n",
    "print(list(filter(lambda x: x == round(x), L)))"
   ]
  },
  {
   "cell_type": "code",
   "execution_count": 64,
   "id": "4d82f217",
   "metadata": {},
   "outputs": [],
   "source": [
    "members1 = [{'name':'홍길동', 'birth':'2000-01-01'}, {'name':'신길동', 'birth':'1995-12-18'},]"
   ]
  },
  {
   "cell_type": "code",
   "execution_count": 65,
   "id": "28960b1c",
   "metadata": {},
   "outputs": [],
   "source": [
    "def split_birth(member) : \n",
    "    return {'name':member.get('name'),\n",
    "           'year':int(member.get('birth').split('-')[0]),\n",
    "           'month':int(member.get('birth').split('-')[1]),\n",
    "           'day':int(member.get('birth').split('-')[2])}"
   ]
  },
  {
   "cell_type": "code",
   "execution_count": 66,
   "id": "d0016953",
   "metadata": {},
   "outputs": [
    {
     "data": {
      "text/plain": [
       "{'name': '홍길동', 'year': 2000, 'month': 1, 'day': 1}"
      ]
     },
     "execution_count": 66,
     "metadata": {},
     "output_type": "execute_result"
    }
   ],
   "source": [
    "split_birth({'name':'홍길동', 'birth':'2000-01-01'})"
   ]
  },
  {
   "cell_type": "code",
   "execution_count": 67,
   "id": "12972651",
   "metadata": {},
   "outputs": [],
   "source": [
    "split_birth = lambda member : {'name':member['name'],\n",
    "                               'year':member['birth'].split('-')[0],\n",
    "                               'month':member['birth'].split('-')[1],\n",
    "                               'day':member['birth'].split('-')[2],}"
   ]
  },
  {
   "cell_type": "code",
   "execution_count": 68,
   "id": "67ca6734",
   "metadata": {},
   "outputs": [
    {
     "data": {
      "text/plain": [
       "{'name': '홍길동', 'year': '2000', 'month': '01', 'day': '01'}"
      ]
     },
     "execution_count": 68,
     "metadata": {},
     "output_type": "execute_result"
    }
   ],
   "source": [
    "split_birth({'name':'홍길동', 'birth':'2000-01-01'})"
   ]
  },
  {
   "cell_type": "code",
   "execution_count": 71,
   "id": "435adddd",
   "metadata": {},
   "outputs": [
    {
     "data": {
      "text/plain": [
       "[{'name': '홍길동', 'year': '2000', 'month': '01', 'day': '01'},\n",
       " {'name': '신길동', 'year': '1995', 'month': '12', 'day': '18'}]"
      ]
     },
     "execution_count": 71,
     "metadata": {},
     "output_type": "execute_result"
    }
   ],
   "source": [
    "members2 = list(map(lambda member : {'name':member['name'],\n",
    "                               'year':member['birth'].split('-')[0],\n",
    "                               'month':member['birth'].split('-')[1],\n",
    "                               'day':member['birth'].split('-')[2],},\n",
    "                      members1\n",
    "                      ))\n",
    "members2"
   ]
  },
  {
   "cell_type": "code",
   "execution_count": 75,
   "id": "3b01db39",
   "metadata": {},
   "outputs": [],
   "source": [
    "def join_data(data):\n",
    "    return '{year}-{month:02}-{day:02}'.format(**data)"
   ]
  },
  {
   "cell_type": "code",
   "execution_count": 76,
   "id": "a3a60180",
   "metadata": {},
   "outputs": [
    {
     "data": {
      "text/plain": [
       "'1955-01-01'"
      ]
     },
     "execution_count": 76,
     "metadata": {},
     "output_type": "execute_result"
    }
   ],
   "source": [
    "join_data({'name':'kim', 'year': 1955, 'month':1, 'day':1})"
   ]
  },
  {
   "cell_type": "code",
   "execution_count": 81,
   "id": "92edd7e4",
   "metadata": {},
   "outputs": [],
   "source": [
    "def join_birth(member) :\n",
    "    name = member['name']\n",
    "    join_date = '{year}-{month:02}-{day:02}'.format(**member)\n",
    "    return{'name':name,\n",
    "           'birth':join_date}"
   ]
  },
  {
   "cell_type": "code",
   "execution_count": 82,
   "id": "590b5710",
   "metadata": {},
   "outputs": [
    {
     "data": {
      "text/plain": [
       "{'name': 'kim', 'birth': '1955-01-02'}"
      ]
     },
     "execution_count": 82,
     "metadata": {},
     "output_type": "execute_result"
    }
   ],
   "source": [
    "join_birth({'name':'kim','year':1955, 'month':1, 'day':2})"
   ]
  },
  {
   "cell_type": "code",
   "execution_count": null,
   "id": "37e69084",
   "metadata": {},
   "outputs": [],
   "source": []
  }
 ],
 "metadata": {
  "kernelspec": {
   "display_name": "Python 3 (ipykernel)",
   "language": "python",
   "name": "python3"
  },
  "language_info": {
   "codemirror_mode": {
    "name": "ipython",
    "version": 3
   },
   "file_extension": ".py",
   "mimetype": "text/x-python",
   "name": "python",
   "nbconvert_exporter": "python",
   "pygments_lexer": "ipython3",
   "version": "3.10.9"
  },
  "toc": {
   "base_numbering": 1,
   "nav_menu": {},
   "number_sections": true,
   "sideBar": true,
   "skip_h1_title": false,
   "title_cell": "Table of Contents",
   "title_sidebar": "Contents",
   "toc_cell": false,
   "toc_position": {},
   "toc_section_display": true,
   "toc_window_display": false
  }
 },
 "nbformat": 4,
 "nbformat_minor": 5
}
