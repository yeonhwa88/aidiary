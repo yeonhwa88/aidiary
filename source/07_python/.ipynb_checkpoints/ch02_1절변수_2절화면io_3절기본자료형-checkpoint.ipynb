{
 "cells": [
  {
   "cell_type": "code",
   "execution_count": 1,
   "id": "d48b2e91",
   "metadata": {
    "ExecuteTime": {
     "end_time": "2024-11-04T07:54:10.220958Z",
     "start_time": "2024-11-04T07:54:10.209032Z"
    }
   },
   "outputs": [
    {
     "data": {
      "text/html": [
       "\n",
       "<style>\n",
       "div.container{width:88% !important;}\n",
       "div.CodeMirror {font-family:Consolas; font-size:15pt;}\n",
       "div.output {font-size:15pt; font-weight:bold;}\n",
       "div.input {font-family:Consolas; font-size:15pt;}\n",
       "div.prompt {min-width:70px;}\n",
       "div#toc-header{margin-top:150px;}\n",
       "</style>\n",
       "<style>\n",
       "span.toc-item-num{\n",
       "display:none;\n",
       "}\n",
       "</style>\n"
      ],
      "text/plain": [
       "<IPython.core.display.HTML object>"
      ]
     },
     "metadata": {},
     "output_type": "display_data"
    }
   ],
   "source": [
    "from IPython.display import display, HTML\n",
    "display(HTML(\"\"\"\n",
    "<style>\n",
    "div.container{width:88% !important;}\n",
    "div.CodeMirror {font-family:Consolas; font-size:15pt;}\n",
    "div.output {font-size:15pt; font-weight:bold;}\n",
    "div.input {font-family:Consolas; font-size:15pt;}\n",
    "div.prompt {min-width:70px;}\n",
    "div#toc-header{margin-top:150px;}\n",
    "</style>\n",
    "<style>\n",
    "span.toc-item-num{\n",
    "display:none;\n",
    "}\n",
    "</style>\n",
    "\"\"\"))"
   ]
  },
  {
   "cell_type": "markdown",
   "id": "091ec9ae",
   "metadata": {},
   "source": [
    "   <b><font size=\"4\" color=\"red\">ch02. 자료형과 연산자</font></b>"
   ]
  },
  {
   "cell_type": "markdown",
   "id": "cc9633ec",
   "metadata": {},
   "source": [
    "# 1절. 변수"
   ]
  },
  {
   "cell_type": "markdown",
   "id": "28f5f521",
   "metadata": {},
   "source": [
    "## 1.1 변수 선언\n",
    "- 파이썬은 변수 선언을 위한 타입이 없고, 별도의 선언 과정도 없음\n"
   ]
  },
  {
   "cell_type": "markdown",
   "id": "9000fdfc",
   "metadata": {},
   "source": [
    "## 1.2 변수할당\n",
    "- 할당연산자를 이용해서 변수값을 할당하면 타입이 셋팅\n",
    "- 파이썬에서의 모든 변수는 객체"
   ]
  },
  {
   "cell_type": "code",
   "execution_count": 2,
   "id": "b56d4969",
   "metadata": {
    "ExecuteTime": {
     "end_time": "2024-11-04T07:54:12.320134Z",
     "start_time": "2024-11-04T07:54:12.312701Z"
    }
   },
   "outputs": [
    {
     "name": "stdout",
     "output_type": "stream",
     "text": [
      "계산된 넓이는 78.5\n"
     ]
    }
   ],
   "source": [
    "r = 5\n",
    "area = 3.14 * r * r\n",
    "print('계산된 넓이는', area) # ,를 쓰게되면 출력사이에 스페이스가 붙음"
   ]
  },
  {
   "cell_type": "code",
   "execution_count": 3,
   "id": "0de7a066",
   "metadata": {
    "ExecuteTime": {
     "end_time": "2024-11-04T07:54:13.946736Z",
     "start_time": "2024-11-04T07:54:13.808516Z"
    }
   },
   "outputs": [],
   "source": [
    "import numpy as np # numpy라는 패키지(폴더)를 np라는 이름으로 사용"
   ]
  },
  {
   "cell_type": "code",
   "execution_count": 4,
   "id": "73055adc",
   "metadata": {
    "ExecuteTime": {
     "end_time": "2024-11-04T07:54:14.974806Z",
     "start_time": "2024-11-04T07:54:14.968810Z"
    }
   },
   "outputs": [
    {
     "data": {
      "text/plain": [
       "78.53981633974483"
      ]
     },
     "execution_count": 4,
     "metadata": {},
     "output_type": "execute_result"
    }
   ],
   "source": [
    "area = np.pi * r * r\n",
    "area # 한줄만 출력할땐 print 사용하지않아도 출력가능 여러줄 사용할땐 전부 print 작성"
   ]
  },
  {
   "cell_type": "code",
   "execution_count": null,
   "id": "cd9ac9b2",
   "metadata": {
    "ExecuteTime": {
     "end_time": "2024-11-04T07:42:37.830548Z",
     "start_time": "2024-11-04T07:42:37.824554Z"
    }
   },
   "outputs": [],
   "source": [
    "print('area의 주소', id(area)) # id(area) : area변수(객체)의 주소값 \n",
    "print('area의 타입', type(area))"
   ]
  },
  {
   "cell_type": "code",
   "execution_count": 5,
   "id": "44484325",
   "metadata": {
    "ExecuteTime": {
     "end_time": "2024-11-04T07:54:16.991633Z",
     "start_time": "2024-11-04T07:54:16.984637Z"
    }
   },
   "outputs": [
    {
     "data": {
      "text/plain": [
       "False"
      ]
     },
     "execution_count": 5,
     "metadata": {},
     "output_type": "execute_result"
    }
   ],
   "source": [
    "area.is_integer()"
   ]
  },
  {
   "cell_type": "code",
   "execution_count": 6,
   "id": "c182db95",
   "metadata": {
    "ExecuteTime": {
     "end_time": "2024-11-04T07:54:18.029480Z",
     "start_time": "2024-11-04T07:54:18.024481Z"
    }
   },
   "outputs": [],
   "source": [
    "area = 10;"
   ]
  },
  {
   "cell_type": "code",
   "execution_count": 7,
   "id": "86ef545f",
   "metadata": {
    "ExecuteTime": {
     "end_time": "2024-11-04T07:54:18.981373Z",
     "start_time": "2024-11-04T07:54:18.976373Z"
    }
   },
   "outputs": [
    {
     "name": "stdout",
     "output_type": "stream",
     "text": [
      "area의 주소 2854805963280\n",
      "area의 타입 <class 'int'>\n"
     ]
    }
   ],
   "source": [
    "print('area의 주소', id(area)) \n",
    "print('area의 타입', type(area))"
   ]
  },
  {
   "cell_type": "code",
   "execution_count": 8,
   "id": "17666646",
   "metadata": {
    "ExecuteTime": {
     "end_time": "2024-11-04T07:54:21.334478Z",
     "start_time": "2024-11-04T07:54:21.328972Z"
    }
   },
   "outputs": [
    {
     "name": "stdout",
     "output_type": "stream",
     "text": [
      "area의 주소 2854881469872\n",
      "area의 타입 <class 'str'>\n"
     ]
    }
   ],
   "source": [
    "area = '파이썬'\n",
    "print('area의 주소', id(area)) \n",
    "print('area의 타입', type(area)) "
   ]
  },
  {
   "cell_type": "markdown",
   "id": "47570638",
   "metadata": {},
   "source": [
    "## 1.3 변수 이름 규칙\n",
    "- 문자로 시작\n",
    "- 문자(특수문자는 _제외 전부 불가), 숫자, _로 변수명 작성\n",
    "- 함수명은 변수이름으로 가능하나 피한다. 사용해야 하면 int_식으로 _를 붙여서 사용\n",
    "- 파이썬 예약어(if, while,...)는 변수이름 사용 불가.\n",
    "- 한글 변수는 꼭 필요시만 사용"
   ]
  },
  {
   "cell_type": "code",
   "execution_count": 9,
   "id": "b5ede456",
   "metadata": {
    "ExecuteTime": {
     "end_time": "2024-11-04T07:54:22.526470Z",
     "start_time": "2024-11-04T07:54:22.520473Z"
    }
   },
   "outputs": [
    {
     "data": {
      "text/plain": [
       "'홍길동'"
      ]
     },
     "execution_count": 9,
     "metadata": {},
     "output_type": "execute_result"
    }
   ],
   "source": [
    "이름 = \"홍길동\"\n",
    "이름"
   ]
  },
  {
   "cell_type": "code",
   "execution_count": 10,
   "id": "100a41c8",
   "metadata": {
    "ExecuteTime": {
     "end_time": "2024-11-04T07:54:24.630505Z",
     "start_time": "2024-11-04T07:54:24.624511Z"
    }
   },
   "outputs": [
    {
     "name": "stdout",
     "output_type": "stream",
     "text": [
      "홍길동\n"
     ]
    }
   ],
   "source": [
    "print(이름)"
   ]
  },
  {
   "cell_type": "code",
   "execution_count": 11,
   "id": "5933f1f3",
   "metadata": {
    "ExecuteTime": {
     "end_time": "2024-11-04T07:54:25.622622Z",
     "start_time": "2024-11-04T07:54:25.616626Z"
    },
    "collapsed": true
   },
   "outputs": [
    {
     "ename": "SyntaxError",
     "evalue": "invalid syntax (675644739.py, line 1)",
     "output_type": "error",
     "traceback": [
      "\u001b[1;36m  Cell \u001b[1;32mIn[11], line 1\u001b[1;36m\u001b[0m\n\u001b[1;33m    if = 6\u001b[0m\n\u001b[1;37m       ^\u001b[0m\n\u001b[1;31mSyntaxError\u001b[0m\u001b[1;31m:\u001b[0m invalid syntax\n"
     ]
    }
   ],
   "source": [
    "if = 6"
   ]
  },
  {
   "cell_type": "code",
   "execution_count": 12,
   "id": "fd4d685f",
   "metadata": {
    "ExecuteTime": {
     "end_time": "2024-11-04T07:54:27.683222Z",
     "start_time": "2024-11-04T07:54:27.000331Z"
    },
    "collapsed": true
   },
   "outputs": [
    {
     "ename": "NameError",
     "evalue": "name 'member' is not defined",
     "output_type": "error",
     "traceback": [
      "\u001b[1;31m---------------------------------------------------------------------------\u001b[0m",
      "\u001b[1;31mNameError\u001b[0m                                 Traceback (most recent call last)",
      "Cell \u001b[1;32mIn[12], line 1\u001b[0m\n\u001b[1;32m----> 1\u001b[0m \u001b[43mmember\u001b[49m\u001b[38;5;241m.\u001b[39mname \u001b[38;5;241m=\u001b[39m \u001b[38;5;241m5\u001b[39m\n",
      "\u001b[1;31mNameError\u001b[0m: name 'member' is not defined"
     ]
    }
   ],
   "source": [
    "member.name = 5 #변수에 .사용불가 (R에서는  .을 변수명에 사용 가능)"
   ]
  },
  {
   "cell_type": "code",
   "execution_count": 17,
   "id": "ca8891ed",
   "metadata": {
    "ExecuteTime": {
     "end_time": "2024-11-04T07:55:12.068975Z",
     "start_time": "2024-11-04T07:55:12.063978Z"
    }
   },
   "outputs": [],
   "source": [
    "member_name = 5 # 파이썬에서 많이 사용 \n",
    "memberName = 5 # 카멜표기법 객체 지향 언어에서 많이 사용"
   ]
  },
  {
   "cell_type": "code",
   "execution_count": 13,
   "id": "a5e05a69",
   "metadata": {
    "ExecuteTime": {
     "end_time": "2024-11-04T07:54:31.197244Z",
     "start_time": "2024-11-04T07:54:31.192248Z"
    }
   },
   "outputs": [],
   "source": [
    "print = 5"
   ]
  },
  {
   "cell_type": "code",
   "execution_count": 14,
   "id": "c3e13051",
   "metadata": {
    "ExecuteTime": {
     "end_time": "2024-11-04T07:54:32.464928Z",
     "start_time": "2024-11-04T07:54:32.440457Z"
    },
    "collapsed": true
   },
   "outputs": [
    {
     "ename": "TypeError",
     "evalue": "'int' object is not callable",
     "output_type": "error",
     "traceback": [
      "\u001b[1;31m---------------------------------------------------------------------------\u001b[0m",
      "\u001b[1;31mTypeError\u001b[0m                                 Traceback (most recent call last)",
      "Cell \u001b[1;32mIn[14], line 1\u001b[0m\n\u001b[1;32m----> 1\u001b[0m \u001b[38;5;28;43mprint\u001b[39;49m\u001b[43m(\u001b[49m\u001b[43m이름\u001b[49m\u001b[43m)\u001b[49m\n",
      "\u001b[1;31mTypeError\u001b[0m: 'int' object is not callable"
     ]
    }
   ],
   "source": [
    "print(이름)"
   ]
  },
  {
   "cell_type": "code",
   "execution_count": 15,
   "id": "dcdef490",
   "metadata": {
    "ExecuteTime": {
     "end_time": "2024-11-04T07:54:35.478268Z",
     "start_time": "2024-11-04T07:54:35.473271Z"
    }
   },
   "outputs": [
    {
     "name": "stdout",
     "output_type": "stream",
     "text": [
      "홍길동\n"
     ]
    }
   ],
   "source": [
    "del print # print 변수 삭제\n",
    "print_ = 5\n",
    "print(이름)"
   ]
  },
  {
   "cell_type": "code",
   "execution_count": 18,
   "id": "adde063d",
   "metadata": {
    "ExecuteTime": {
     "end_time": "2024-11-04T07:56:53.295791Z",
     "start_time": "2024-11-04T07:56:53.288659Z"
    }
   },
   "outputs": [
    {
     "data": {
      "text/plain": [
       "complex"
      ]
     },
     "execution_count": 18,
     "metadata": {},
     "output_type": "execute_result"
    }
   ],
   "source": [
    "# 숫자 : 정수, 실수, 복소수\n",
    "i = 3 + 3j\n",
    "type(i)"
   ]
  },
  {
   "cell_type": "code",
   "execution_count": 19,
   "id": "5f3f0b11",
   "metadata": {
    "ExecuteTime": {
     "end_time": "2024-11-04T07:57:47.742802Z",
     "start_time": "2024-11-04T07:57:47.734774Z"
    }
   },
   "outputs": [
    {
     "data": {
      "text/plain": [
       "True"
      ]
     },
     "execution_count": 19,
     "metadata": {},
     "output_type": "execute_result"
    }
   ],
   "source": [
    "isinstance(i, complex) # i변수(객체)가 complex(복소수) 타입인지 여부"
   ]
  },
  {
   "cell_type": "markdown",
   "id": "3859165d",
   "metadata": {},
   "source": [
    "## 1.4 도움말"
   ]
  },
  {
   "cell_type": "code",
   "execution_count": 20,
   "id": "2d2b7854",
   "metadata": {
    "ExecuteTime": {
     "end_time": "2024-11-04T07:58:57.061573Z",
     "start_time": "2024-11-04T07:58:57.055578Z"
    }
   },
   "outputs": [
    {
     "name": "stdout",
     "output_type": "stream",
     "text": [
      "Help on built-in function print in module builtins:\n",
      "\n",
      "print(...)\n",
      "    print(value, ..., sep=' ', end='\\n', file=sys.stdout, flush=False)\n",
      "    \n",
      "    Prints the values to a stream, or to sys.stdout by default.\n",
      "    Optional keyword arguments:\n",
      "    file:  a file-like object (stream); defaults to the current sys.stdout.\n",
      "    sep:   string inserted between values, default a space.\n",
      "    end:   string appended after the last value, default a newline.\n",
      "    flush: whether to forcibly flush the stream.\n",
      "\n"
     ]
    }
   ],
   "source": [
    "help(print)"
   ]
  },
  {
   "cell_type": "code",
   "execution_count": 21,
   "id": "14135685",
   "metadata": {
    "ExecuteTime": {
     "end_time": "2024-11-04T07:59:52.952429Z",
     "start_time": "2024-11-04T07:59:30.398865Z"
    }
   },
   "outputs": [
    {
     "name": "stdout",
     "output_type": "stream",
     "text": [
      "\n",
      "Welcome to Python 3.10's help utility!\n",
      "\n",
      "If this is your first time using Python, you should definitely check out\n",
      "the tutorial on the internet at https://docs.python.org/3.10/tutorial/.\n",
      "\n",
      "Enter the name of any module, keyword, or topic to get help on writing\n",
      "Python programs and using Python modules.  To quit this help utility and\n",
      "return to the interpreter, just type \"quit\".\n",
      "\n",
      "To get a list of available modules, keywords, symbols, or topics, type\n",
      "\"modules\", \"keywords\", \"symbols\", or \"topics\".  Each module also comes\n",
      "with a one-line summary of what it does; to list the modules whose name\n",
      "or summary contain a given string such as \"spam\", type \"modules spam\".\n",
      "\n",
      "help> print\n",
      "Help on built-in function print in module builtins:\n",
      "\n",
      "print(...)\n",
      "    print(value, ..., sep=' ', end='\\n', file=sys.stdout, flush=False)\n",
      "    \n",
      "    Prints the values to a stream, or to sys.stdout by default.\n",
      "    Optional keyword arguments:\n",
      "    file:  a file-like object (stream); defaults to the current sys.stdout.\n",
      "    sep:   string inserted between values, default a space.\n",
      "    end:   string appended after the last value, default a newline.\n",
      "    flush: whether to forcibly flush the stream.\n",
      "\n",
      "help> q\n",
      "\n",
      "You are now leaving help and returning to the Python interpreter.\n",
      "If you want to ask for help on a particular object directly from the\n",
      "interpreter, you can type \"help(object)\".  Executing \"help('string')\"\n",
      "has the same effect as typing a particular string at the help> prompt.\n"
     ]
    }
   ],
   "source": [
    "help()"
   ]
  },
  {
   "cell_type": "code",
   "execution_count": 22,
   "id": "8b970a42",
   "metadata": {
    "ExecuteTime": {
     "end_time": "2024-11-04T08:10:51.669433Z",
     "start_time": "2024-11-04T08:10:51.665435Z"
    }
   },
   "outputs": [
    {
     "name": "stdout",
     "output_type": "stream",
     "text": [
      "\n"
     ]
    }
   ],
   "source": [
    "# 도움말 기능 : shift+tap 키 \n",
    "print()"
   ]
  },
  {
   "cell_type": "code",
   "execution_count": 30,
   "id": "da8d6194",
   "metadata": {
    "ExecuteTime": {
     "end_time": "2024-11-04T08:15:12.434100Z",
     "start_time": "2024-11-04T08:15:12.428758Z"
    }
   },
   "outputs": [],
   "source": [
    "def add(x, y=0): #함수, 도움말 생성\n",
    "    '''\n",
    "    매개변수 2개를 받아 두자리 숫자로 만들어요\n",
    "    x = 10의 자리수가 됨\n",
    "    y = 1의 자리수가 됨(default값 0)\n",
    "    사용법 : add(2, 3) > 23\n",
    "    '''\n",
    "    return x*10+y"
   ]
  },
  {
   "cell_type": "code",
   "execution_count": 34,
   "id": "aa08ab4f",
   "metadata": {
    "ExecuteTime": {
     "end_time": "2024-11-04T08:15:30.594183Z",
     "start_time": "2024-11-04T08:15:30.588185Z"
    }
   },
   "outputs": [
    {
     "data": {
      "text/plain": [
       "54"
      ]
     },
     "execution_count": 34,
     "metadata": {},
     "output_type": "execute_result"
    }
   ],
   "source": [
    "add(5, 4)"
   ]
  },
  {
   "cell_type": "code",
   "execution_count": 33,
   "id": "ea1e5cc1",
   "metadata": {
    "ExecuteTime": {
     "end_time": "2024-11-04T08:15:29.011835Z",
     "start_time": "2024-11-04T08:15:29.004840Z"
    }
   },
   "outputs": [
    {
     "data": {
      "text/plain": [
       "50"
      ]
     },
     "execution_count": 33,
     "metadata": {},
     "output_type": "execute_result"
    }
   ],
   "source": [
    "add(5)"
   ]
  },
  {
   "cell_type": "code",
   "execution_count": 35,
   "id": "1fe74675",
   "metadata": {
    "ExecuteTime": {
     "end_time": "2024-11-04T08:15:54.827400Z",
     "start_time": "2024-11-04T08:15:54.823402Z"
    }
   },
   "outputs": [],
   "source": [
    "a = add  # 함수형 언어는 변수에 함수 할당 가능 a랑 add는 같은 함수"
   ]
  },
  {
   "cell_type": "code",
   "execution_count": 37,
   "id": "e74982fb",
   "metadata": {
    "ExecuteTime": {
     "end_time": "2024-11-04T08:16:57.163743Z",
     "start_time": "2024-11-04T08:16:57.157027Z"
    }
   },
   "outputs": [
    {
     "data": {
      "text/plain": [
       "54"
      ]
     },
     "execution_count": 37,
     "metadata": {},
     "output_type": "execute_result"
    }
   ],
   "source": [
    "a(5, 4)"
   ]
  },
  {
   "cell_type": "code",
   "execution_count": 38,
   "id": "ab8fe7fb",
   "metadata": {
    "ExecuteTime": {
     "end_time": "2024-11-04T08:17:01.786102Z",
     "start_time": "2024-11-04T08:17:01.780107Z"
    }
   },
   "outputs": [
    {
     "data": {
      "text/plain": [
       "50"
      ]
     },
     "execution_count": 38,
     "metadata": {},
     "output_type": "execute_result"
    }
   ],
   "source": [
    "a(5)"
   ]
  },
  {
   "cell_type": "markdown",
   "id": "0127d154",
   "metadata": {
    "ExecuteTime": {
     "end_time": "2024-11-04T08:17:51.168543Z",
     "start_time": "2024-11-04T08:17:51.164546Z"
    }
   },
   "source": [
    "## 1.5 다중 변수 선언 "
   ]
  },
  {
   "cell_type": "code",
   "execution_count": 40,
   "id": "b541a9b0",
   "metadata": {
    "ExecuteTime": {
     "end_time": "2024-11-04T08:18:11.392030Z",
     "start_time": "2024-11-04T08:18:11.388031Z"
    }
   },
   "outputs": [],
   "source": [
    "a = 10\n",
    "b = 20"
   ]
  },
  {
   "cell_type": "code",
   "execution_count": 42,
   "id": "a8fc94df",
   "metadata": {
    "ExecuteTime": {
     "end_time": "2024-11-04T08:18:54.871959Z",
     "start_time": "2024-11-04T08:18:54.867736Z"
    }
   },
   "outputs": [],
   "source": [
    "a, b = 10, 20 # 동시에 다중 변수 선언"
   ]
  },
  {
   "cell_type": "code",
   "execution_count": 43,
   "id": "7706604f",
   "metadata": {
    "ExecuteTime": {
     "end_time": "2024-11-04T08:18:59.944685Z",
     "start_time": "2024-11-04T08:18:59.938689Z"
    }
   },
   "outputs": [
    {
     "data": {
      "text/plain": [
       "(10, 20)"
      ]
     },
     "execution_count": 43,
     "metadata": {},
     "output_type": "execute_result"
    }
   ],
   "source": [
    "a, b"
   ]
  },
  {
   "cell_type": "code",
   "execution_count": 44,
   "id": "ced45c03",
   "metadata": {
    "ExecuteTime": {
     "end_time": "2024-11-04T08:19:32.951353Z",
     "start_time": "2024-11-04T08:19:32.946454Z"
    }
   },
   "outputs": [],
   "source": [
    "a, b = b, a+b # 다중 변수 할당시 순차적 할당이 아니고 일괄 동시 할당"
   ]
  },
  {
   "cell_type": "code",
   "execution_count": 45,
   "id": "c8cb1242",
   "metadata": {
    "ExecuteTime": {
     "end_time": "2024-11-04T08:19:36.168930Z",
     "start_time": "2024-11-04T08:19:36.162671Z"
    }
   },
   "outputs": [
    {
     "data": {
      "text/plain": [
       "(20, 30)"
      ]
     },
     "execution_count": 45,
     "metadata": {},
     "output_type": "execute_result"
    }
   ],
   "source": [
    "a, b"
   ]
  },
  {
   "cell_type": "markdown",
   "id": "96f1d241",
   "metadata": {},
   "source": [
    "# 2절. 화면i/o"
   ]
  },
  {
   "cell_type": "code",
   "execution_count": 47,
   "id": "1bdc5173",
   "metadata": {
    "ExecuteTime": {
     "end_time": "2024-11-04T08:22:55.855756Z",
     "start_time": "2024-11-04T08:22:19.161479Z"
    }
   },
   "outputs": [
    {
     "name": "stdout",
     "output_type": "stream",
     "text": [
      "01\n"
     ]
    },
    {
     "data": {
      "text/plain": [
       "'01'"
      ]
     },
     "execution_count": 47,
     "metadata": {},
     "output_type": "execute_result"
    }
   ],
   "source": [
    "# input() : 사용자로부터 값을 입력받기 위한 함수. 입력값은 문자열\n",
    "first = input()\n",
    "first"
   ]
  },
  {
   "cell_type": "code",
   "execution_count": 52,
   "id": "377aef4a",
   "metadata": {
    "ExecuteTime": {
     "end_time": "2024-11-04T08:25:03.736603Z",
     "start_time": "2024-11-04T08:25:01.697575Z"
    }
   },
   "outputs": [
    {
     "name": "stdout",
     "output_type": "stream",
     "text": [
      "첫번째 숫자는?10\n",
      "두번째 숫자는?60\n"
     ]
    }
   ],
   "source": [
    "first = input('첫번째 숫자는?')\n",
    "second = input('두번째 숫자는?')"
   ]
  },
  {
   "cell_type": "code",
   "execution_count": 53,
   "id": "e5679390",
   "metadata": {
    "ExecuteTime": {
     "end_time": "2024-11-04T08:25:06.132462Z",
     "start_time": "2024-11-04T08:25:06.128305Z"
    }
   },
   "outputs": [
    {
     "name": "stdout",
     "output_type": "stream",
     "text": [
      "두수의 합은 1060\n"
     ]
    }
   ],
   "source": [
    "print('두수의 합은', first+second)"
   ]
  },
  {
   "cell_type": "code",
   "execution_count": 56,
   "id": "0ebd9e82",
   "metadata": {
    "ExecuteTime": {
     "end_time": "2024-11-04T08:26:48.371242Z",
     "start_time": "2024-11-04T08:26:48.366246Z"
    }
   },
   "outputs": [],
   "source": [
    "sum = int(first) + int(second)"
   ]
  },
  {
   "cell_type": "code",
   "execution_count": 57,
   "id": "22660221",
   "metadata": {
    "ExecuteTime": {
     "end_time": "2024-11-04T08:26:49.826478Z",
     "start_time": "2024-11-04T08:26:49.822693Z"
    }
   },
   "outputs": [
    {
     "name": "stdout",
     "output_type": "stream",
     "text": [
      "합 70\n"
     ]
    }
   ],
   "source": [
    "print('합', sum)"
   ]
  },
  {
   "cell_type": "code",
   "execution_count": 68,
   "id": "5c876081",
   "metadata": {
    "ExecuteTime": {
     "end_time": "2024-11-04T08:31:30.185692Z",
     "start_time": "2024-11-04T08:31:30.180696Z"
    }
   },
   "outputs": [
    {
     "name": "stdout",
     "output_type": "stream",
     "text": [
      "합 / 70 / Hello / World\t\tHello ~ python\n"
     ]
    }
   ],
   "source": [
    "print('합', sum, 'Hello', 'World', sep=' / ', end='\\t\\t')\n",
    "print('Hello', 'python', sep=' ~ ')"
   ]
  },
  {
   "cell_type": "code",
   "execution_count": 70,
   "id": "aeba0352",
   "metadata": {
    "ExecuteTime": {
     "end_time": "2024-11-04T08:34:41.088269Z",
     "start_time": "2024-11-04T08:34:41.082781Z"
    }
   },
   "outputs": [
    {
     "name": "stdout",
     "output_type": "stream",
     "text": [
      "Hello World Hello python\n"
     ]
    }
   ],
   "source": [
    "import sys\n",
    "print('Hello', 'World', 'Hello', 'python', file=sys.stdout)"
   ]
  },
  {
   "cell_type": "markdown",
   "id": "e44c5d20",
   "metadata": {},
   "source": [
    "# 3절. 기본 자료형\n",
    "- 프로그래밍 언어들은 변수가 가져야 할 값의 형식, 범위에 따라 값의 유형을 정해 놓고 사용.\n",
    "- 자료형에 따라 값의 크기와 저장방식이 달라짐.\n",
    "- 자료형에 따라 수행할 수 있는 명령어들이 달라짐.\n",
    "\n",
    "    * `숫자` - int, float, complex\n",
    "    * `문자` - str\n",
    "    * `논리` - bool"
   ]
  },
  {
   "cell_type": "markdown",
   "id": "941d1d3e",
   "metadata": {},
   "source": [
    "## 3.1숫자형"
   ]
  },
  {
   "cell_type": "code",
   "execution_count": 71,
   "id": "50fb4708",
   "metadata": {
    "ExecuteTime": {
     "end_time": "2024-11-04T08:43:25.451920Z",
     "start_time": "2024-11-04T08:43:25.445926Z"
    }
   },
   "outputs": [
    {
     "name": "stdout",
     "output_type": "stream",
     "text": [
      "9223372036854775807\n"
     ]
    }
   ],
   "source": [
    "import sys\n",
    "print(sys.maxsize) # system 저장할수 있는 정수의 최대값 : 2^63-1 "
   ]
  },
  {
   "cell_type": "code",
   "execution_count": 73,
   "id": "16c70058",
   "metadata": {
    "ExecuteTime": {
     "end_time": "2024-11-04T08:45:37.603619Z",
     "start_time": "2024-11-04T08:45:37.598621Z"
    }
   },
   "outputs": [
    {
     "name": "stdout",
     "output_type": "stream",
     "text": [
      "i값 9223372036854775907\n",
      "<class 'int'>\n"
     ]
    }
   ],
   "source": [
    "i = sys.maxsize + 100 # 최대값이 넘어가도 저장이 가능함 (수에 제한이 없음)\n",
    "print('i값', i)\n",
    "print(type(i))"
   ]
  },
  {
   "cell_type": "code",
   "execution_count": 75,
   "id": "9cca7ace",
   "metadata": {
    "ExecuteTime": {
     "end_time": "2024-11-04T08:46:16.689330Z",
     "start_time": "2024-11-04T08:46:16.683333Z"
    }
   },
   "outputs": [
    {
     "data": {
      "text/plain": [
       "1.5"
      ]
     },
     "execution_count": 75,
     "metadata": {},
     "output_type": "execute_result"
    }
   ],
   "source": [
    "f = 3/2 # 정수/정수는 무조건 실수\n",
    "f"
   ]
  },
  {
   "cell_type": "code",
   "execution_count": 76,
   "id": "649729b4",
   "metadata": {
    "ExecuteTime": {
     "end_time": "2024-11-04T08:46:35.666971Z",
     "start_time": "2024-11-04T08:46:35.658927Z"
    }
   },
   "outputs": [
    {
     "data": {
      "text/plain": [
       "1.0"
      ]
     },
     "execution_count": 76,
     "metadata": {},
     "output_type": "execute_result"
    }
   ],
   "source": [
    "f = 3/3\n",
    "f"
   ]
  },
  {
   "cell_type": "code",
   "execution_count": 79,
   "id": "92af6241",
   "metadata": {
    "ExecuteTime": {
     "end_time": "2024-11-04T08:48:25.232215Z",
     "start_time": "2024-11-04T08:48:25.227217Z"
    }
   },
   "outputs": [
    {
     "name": "stdout",
     "output_type": "stream",
     "text": [
      "1\n",
      "1\n"
     ]
    }
   ],
   "source": [
    "## 자바처럼 정수/정수의 결과를 정수로\n",
    "f = int(3/2) # int() : int로 형변환\n",
    "print(f)\n",
    "f = 3//2 # 몫 연산자\n",
    "print(f)"
   ]
  },
  {
   "cell_type": "code",
   "execution_count": 80,
   "id": "ae955cdf",
   "metadata": {
    "ExecuteTime": {
     "end_time": "2024-11-04T08:49:50.431192Z",
     "start_time": "2024-11-04T08:49:50.426195Z"
    }
   },
   "outputs": [
    {
     "name": "stdout",
     "output_type": "stream",
     "text": [
      "(-1+0j)\n"
     ]
    }
   ],
   "source": [
    "c = 1j # 수학시간 1i\n",
    "print(c**2) # c의 제곱"
   ]
  },
  {
   "cell_type": "code",
   "execution_count": 83,
   "id": "ace57b07",
   "metadata": {
    "ExecuteTime": {
     "end_time": "2024-11-04T08:52:34.862254Z",
     "start_time": "2024-11-04T08:52:34.856609Z"
    }
   },
   "outputs": [
    {
     "name": "stdout",
     "output_type": "stream",
     "text": [
      "지수형은 실수형으로 저장 1120000000000.0\n",
      "지수형표현은 할당시 실수형으로 저장: 1.12e-12\n"
     ]
    }
   ],
   "source": [
    "f = 1.12e12 # 1.12*10의 12승 (1120000000000)\n",
    "print('지수형은 실수형으로 저장', f)\n",
    "f = 1.12e-12 # 1.12*10의 -12승\n",
    "print('지수형표현은 할당시 실수형으로 저장:', f)"
   ]
  },
  {
   "cell_type": "markdown",
   "id": "e2a49dff",
   "metadata": {},
   "source": [
    "## 3.2 문자형"
   ]
  },
  {
   "cell_type": "code",
   "execution_count": 88,
   "id": "7ceda648",
   "metadata": {
    "ExecuteTime": {
     "end_time": "2024-11-04T08:55:24.436416Z",
     "start_time": "2024-11-04T08:55:24.431083Z"
    }
   },
   "outputs": [
    {
     "name": "stdout",
     "output_type": "stream",
     "text": [
      "홍길동'짱' 서울시 관악구 '신림'동\n"
     ]
    }
   ],
   "source": [
    "name = '홍길동\\'짱\\'' # 홍길동'짱'\n",
    "address = \"서울시 관악구 '신림'동\"\n",
    "print(name, address)"
   ]
  },
  {
   "cell_type": "code",
   "execution_count": 91,
   "id": "a9aa4082",
   "metadata": {
    "ExecuteTime": {
     "end_time": "2024-11-04T08:56:48.643122Z",
     "start_time": "2024-11-04T08:56:48.637126Z"
    }
   },
   "outputs": [
    {
     "name": "stdout",
     "output_type": "stream",
     "text": [
      "여러줄짜리 내용을 저장\n",
      "줄바꿈 문자를 쓰면 여러줄\n",
      "줄바꿈은 가독성 떨어져\n"
     ]
    }
   ],
   "source": [
    "text = '여러줄짜리 내용을 저장\\n줄바꿈 문자를 쓰면 여러줄\\n줄바꿈은 가독성 떨어져'\n",
    "print(text)"
   ]
  },
  {
   "cell_type": "code",
   "execution_count": 93,
   "id": "f0957740",
   "metadata": {
    "ExecuteTime": {
     "end_time": "2024-11-04T08:57:44.746467Z",
     "start_time": "2024-11-04T08:57:44.740905Z"
    }
   },
   "outputs": [
    {
     "name": "stdout",
     "output_type": "stream",
     "text": [
      "여러줄 짜리 내용을 저장\n",
      "줄바꿈 문자 쓰지않고 따옴표 3개로 처리\n",
      "이처럼 쓰는 경우가 더 많아요\n",
      "\n"
     ]
    }
   ],
   "source": [
    "text = '''여러줄 짜리 내용을 저장\n",
    "줄바꿈 문자 쓰지않고 따옴표 3개로 처리\n",
    "이처럼 쓰는 경우가 더 많아요\n",
    "'''\n",
    "print(text) #'''이거나''' \"\"\"이거나\"\"\" 여러줄 작성하고 Enter사용시 \\n이 자동으로 가능"
   ]
  },
  {
   "cell_type": "code",
   "execution_count": null,
   "id": "98f63e2d",
   "metadata": {},
   "outputs": [],
   "source": []
  }
 ],
 "metadata": {
  "kernelspec": {
   "display_name": "Python 3 (ipykernel)",
   "language": "python",
   "name": "python3"
  },
  "language_info": {
   "codemirror_mode": {
    "name": "ipython",
    "version": 3
   },
   "file_extension": ".py",
   "mimetype": "text/x-python",
   "name": "python",
   "nbconvert_exporter": "python",
   "pygments_lexer": "ipython3",
   "version": "3.10.9"
  },
  "toc": {
   "base_numbering": 1,
   "nav_menu": {},
   "number_sections": true,
   "sideBar": true,
   "skip_h1_title": false,
   "title_cell": "Table of Contents",
   "title_sidebar": "Contents",
   "toc_cell": false,
   "toc_position": {
    "height": "calc(100% - 180px)",
    "left": "10px",
    "top": "150px",
    "width": "165px"
   },
   "toc_section_display": true,
   "toc_window_display": true
  }
 },
 "nbformat": 4,
 "nbformat_minor": 5
}
