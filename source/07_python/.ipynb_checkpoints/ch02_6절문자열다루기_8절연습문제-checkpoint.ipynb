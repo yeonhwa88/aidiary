{
 "cells": [
  {
   "cell_type": "markdown",
   "id": "56471f2f",
   "metadata": {},
   "source": [
    "   <b><font size=\"6\" color=\"red\">ch02. 자료형과 연산자</font></b>"
   ]
  },
  {
   "cell_type": "markdown",
   "id": "b7aff224",
   "metadata": {},
   "source": [
    "# 6절. 문자열 다루기\n",
    "- 문자열슬라이싱변수[from:to:by]\n",
    "- len(문자열변수)\n",
    "- 문자변수.upper() : 대문자\n",
    "- 문자변수.lower() : 소문자\n",
    "- title() : 각 어절의 앞글자만 대문자\n",
    "- capitalize() : 첫문자만 대문자 \n",
    "- count('찾을문자열') : '찾을문자열'이 몇개 들어있는지 갯수 반환\n",
    "- find('찾을문자열') : '찾을문자열'이 왼쪽부터 시작하여  몇번째에 있는지 index를 반환 (자바 : indexOf)\n",
    "- rfind('찾을문자열') : '찾을문자열'이 오른쪽부터 시작하여 몇번째에 있는지 index를 반환 ('찾을문자열이 없으면 -1을 반환)\n",
    "- index('찾을문자열') : '찾을문자열'이 왼쪽부터 시작하여 몇번째 있는지 index를 반환 ('찾을문자열이 없으면 오류 반환)\n",
    "- startswith('특정문자열') : '특정문자열'로 시작하는지 여부 반환\n",
    "- endswith('특정문자열') : '특정문자열로'로 끝나는지 여부 반환\n",
    "- strip() : 좌우 공백제거(trim)\n",
    "- rstrip() : 오른쪽 공백제거 (rtrim)\n",
    "- lstrip() : 왼쪽 공백제거 (ltrim)\n",
    "- split() : 문자열을 공백이나 다른 문자 기준으로 나누어 리스트로 반환\n",
    "- isdigit() : 문자열이 숫자 문자열인지 여부 반환\n",
    "- islower() : 문자열이 소문자인지 여부 반환\n",
    "- isupper() : 문자열이 대문자인지 여부 반환\n",
    "- replace(oldStr, newStr) : oldStr을 newStr로 변경"
   ]
  },
  {
   "cell_type": "code",
   "execution_count": 5,
   "id": "3bf1a5af",
   "metadata": {},
   "outputs": [
    {
     "data": {
      "text/plain": [
       "('python is easy. python is smart. python', 39)"
      ]
     },
     "execution_count": 5,
     "metadata": {},
     "output_type": "execute_result"
    }
   ],
   "source": [
    "temp = \"python is easy. python is smart. python\"\n",
    "temp, len(temp)"
   ]
  },
  {
   "cell_type": "code",
   "execution_count": 6,
   "id": "1e8ea8af",
   "metadata": {},
   "outputs": [
    {
     "name": "stdout",
     "output_type": "stream",
     "text": [
      "첫번째 글자는p이고, 마지막 글자는n입니다\n"
     ]
    }
   ],
   "source": [
    "print('첫번째 글자는{}이고, 마지막 글자는{}입니다'.format(temp[0],temp[-1]))"
   ]
  },
  {
   "cell_type": "code",
   "execution_count": 7,
   "id": "183e7487",
   "metadata": {},
   "outputs": [
    {
     "name": "stdout",
     "output_type": "stream",
     "text": [
      "전화번호 끝자리 :  2132\n"
     ]
    }
   ],
   "source": [
    "tel = \"010-7894-2132\"\n",
    "print('전화번호 끝자리 : ', tel[-4:])"
   ]
  },
  {
   "cell_type": "code",
   "execution_count": 40,
   "id": "4a00c679",
   "metadata": {},
   "outputs": [
    {
     "name": "stdout",
     "output_type": "stream",
     "text": [
      "대문자로 :  PYTHON IS EASY. PYTHON IS SMART. PYTHON\n",
      "소문자로 :  python is easy. python is smart. python\n",
      "title() :  Python Is Easy. Python Is Smart. Python\n",
      "capitalize() :  Python is easy. python is smart. python\n",
      "python이 몇번 나오는지 : 2 번\n",
      "대소문자 구분없이 python이 몇번 나오는지 : 3 번\n",
      "대소문자 구분없이 python이 몇번 나오는지 : 3 번\n",
      "대소문자 구분없이 python이 몇번 나오는지 : 3 번\n",
      "python이 나오는 첫index 위치:  0 인덱스\n",
      "python이 나오는 마지막index 위치 : 33 인덱스\n",
      "Java가 나오는 첫 index 위치 : -1\n",
      "python이 나오는 첫 index 위치 : 0\n",
      "python으로 시작하는 문자열인지 여부 : True\n",
      "python으로 끝나는 문자열인지 여부 : True\n",
      "python대신 R로 변경 : R is easy. R is SMART. R\n"
     ]
    }
   ],
   "source": [
    "temp = \"python is easy. pyTHon is SMART. python\"\n",
    "#       012345678901234567890123456789012345678\n",
    "print('대문자로 : ', temp.upper())\n",
    "print('소문자로 : ', temp.lower())\n",
    "print('title() : ', temp.title())\n",
    "print('capitalize() : ', temp.capitalize())\n",
    "print('python이 몇번 나오는지 :', temp.count('python'),'번')\n",
    "print('대소문자 구분없이 python이 몇번 나오는지 :', temp.upper().count('PYTHON'),'번')\n",
    "print('대소문자 구분없이 python이 몇번 나오는지 :', temp.lower().count('python'),'번')\n",
    "print('대소문자 구분없이 python이 몇번 나오는지 :', temp.title().count('Python'),'번')\n",
    "print('python이 나오는 첫index 위치: ', temp.find('python'),'인덱스')\n",
    "print('python이 나오는 마지막index 위치 :', temp.rfind('python'),'인덱스')\n",
    "print('Java가 나오는 첫 index 위치 :', temp.find('Java')) # Java 내용이 없어서 -1\n",
    "print('python이 나오는 첫 index 위치 :', temp.index('python'))\n",
    "# print('Java가 나오는 첫 index 위치 :', temp.index('Java')) # Java 내용이 없어서 오류\n",
    "print('python으로 시작하는 문자열인지 여부 :', temp.startswith('python'))\n",
    "print('python으로 끝나는 문자열인지 여부 :', temp.endswith('python'))\n",
    "print('python대신 R로 변경 :', temp.replace('python', 'R').replace('pyTHon', 'R')) # *****"
   ]
  },
  {
   "cell_type": "code",
   "execution_count": 54,
   "id": "1147fd2e",
   "metadata": {},
   "outputs": [
    {
     "name": "stdout",
     "output_type": "stream",
     "text": [
      "strip() [python is easy]:\n",
      "lstrip() [python is easy     ] : \n",
      "rstrip() [     python is easy] : \n",
      "isdigit() : True\n",
      "대문자인지 : False\n",
      "소문자인지 : True\n"
     ]
    }
   ],
   "source": [
    "temp = '     python is easy     '\n",
    "notdisit = '1,234'\n",
    "print('strip() [{}]:'.format(temp.strip()))\n",
    "print(\"lstrip() [{}] : \".format(temp.lstrip()))\n",
    "print(\"rstrip() [{}] : \".format(temp.rstrip()))\n",
    "print(\"isdigit() : {}\".format(notdisit.replace(',','').isdigit())) # ,가 있어서 숫자로 안보임 replace로 ,를 ''변경후 비교\n",
    "print('대문자인지 : {}'.format(temp.isupper()))\n",
    "print('소문자인지 : {}'.format(temp.islower()))"
   ]
  },
  {
   "cell_type": "code",
   "execution_count": 56,
   "id": "e2009f30",
   "metadata": {},
   "outputs": [
    {
     "name": "stdout",
     "output_type": "stream",
     "text": [
      "space 단위로 temp를 분리(list로 반환) : ['홍길동', '김길동', '신길동', '유길둥']\n"
     ]
    }
   ],
   "source": [
    "temp = '    홍길동     김길동 신길동 유길둥'\n",
    "print('space 단위로 temp를 분리(list로 반환) :', temp.split()) # 스페이스가 여러개라도 스페이스 하나로 생각"
   ]
  },
  {
   "cell_type": "code",
   "execution_count": 61,
   "id": "44814a4f",
   "metadata": {},
   "outputs": [
    {
     "name": "stdout",
     "output_type": "stream",
     "text": [
      "- 단위로 date를 분리(list로 반환)합니다\n",
      "년 : 2024\n",
      "월 : 11\n",
      "일 : 05\n"
     ]
    }
   ],
   "source": [
    "data = \"2024-11-05\"\n",
    "print('- 단위로 date를 분리(list로 반환)합니다')\n",
    "date_list = data.split('-')\n",
    "date_list\n",
    "print('년 :', date_list[0])\n",
    "print('월 :', date_list[1])\n",
    "print('일 :', date_list[2])"
   ]
  },
  {
   "cell_type": "code",
   "execution_count": 70,
   "id": "aac7df2c",
   "metadata": {},
   "outputs": [
    {
     "name": "stdout",
     "output_type": "stream",
     "text": [
      "분리된 temp ['Java', 'Oracle', '웹표준', 'JSP', 'PYTHON']\n",
      "joined_temp : Java/Oracle/웹표준/JSP/PYTHON\n"
     ]
    }
   ],
   "source": [
    "# ' - ' 을 '/'로 바꾸기\n",
    "temp = 'Java - Oracle - 웹표준 - JSP - PYTHON'\n",
    "splited_temp = temp.split(' - ') # 앞뒤에 띄어쓰기 있는것까지 적어줘야 함\n",
    "print('분리된 temp', splited_temp)\n",
    "joined_temp = '/'.join(splited_temp) # 분리된 temp를 연결 시킬수 있는 join (리스트로 받은 내용을 연결시킬때)\n",
    "print('joined_temp :', joined_temp)"
   ]
  },
  {
   "cell_type": "code",
   "execution_count": 72,
   "id": "5a782136",
   "metadata": {},
   "outputs": [
    {
     "name": "stdout",
     "output_type": "stream",
     "text": [
      "A\n",
      "B\n",
      "C\n"
     ]
    }
   ],
   "source": [
    "str_ = 'ABC' # ['A', 'B', 'C'] 내부적으로는 list처럼 봐도된다 \n",
    "for s in str_ :\n",
    "    print(s)"
   ]
  },
  {
   "cell_type": "code",
   "execution_count": 73,
   "id": "026f7a63",
   "metadata": {},
   "outputs": [
    {
     "name": "stdout",
     "output_type": "stream",
     "text": [
      "A\n",
      "B\n",
      "C\n"
     ]
    }
   ],
   "source": [
    "str_list = ['A', 'B', 'C']\n",
    "for s in str_list :\n",
    "    print(s)"
   ]
  },
  {
   "cell_type": "code",
   "execution_count": 74,
   "id": "eb6530b1",
   "metadata": {},
   "outputs": [
    {
     "data": {
      "text/plain": [
       "['__add__',\n",
       " '__class__',\n",
       " '__contains__',\n",
       " '__delattr__',\n",
       " '__dir__',\n",
       " '__doc__',\n",
       " '__eq__',\n",
       " '__format__',\n",
       " '__ge__',\n",
       " '__getattribute__',\n",
       " '__getitem__',\n",
       " '__getnewargs__',\n",
       " '__gt__',\n",
       " '__hash__',\n",
       " '__init__',\n",
       " '__init_subclass__',\n",
       " '__iter__',\n",
       " '__le__',\n",
       " '__len__',\n",
       " '__lt__',\n",
       " '__mod__',\n",
       " '__mul__',\n",
       " '__ne__',\n",
       " '__new__',\n",
       " '__reduce__',\n",
       " '__reduce_ex__',\n",
       " '__repr__',\n",
       " '__rmod__',\n",
       " '__rmul__',\n",
       " '__setattr__',\n",
       " '__sizeof__',\n",
       " '__str__',\n",
       " '__subclasshook__',\n",
       " 'capitalize',\n",
       " 'casefold',\n",
       " 'center',\n",
       " 'count',\n",
       " 'encode',\n",
       " 'endswith',\n",
       " 'expandtabs',\n",
       " 'find',\n",
       " 'format',\n",
       " 'format_map',\n",
       " 'index',\n",
       " 'isalnum',\n",
       " 'isalpha',\n",
       " 'isascii',\n",
       " 'isdecimal',\n",
       " 'isdigit',\n",
       " 'isidentifier',\n",
       " 'islower',\n",
       " 'isnumeric',\n",
       " 'isprintable',\n",
       " 'isspace',\n",
       " 'istitle',\n",
       " 'isupper',\n",
       " 'join',\n",
       " 'ljust',\n",
       " 'lower',\n",
       " 'lstrip',\n",
       " 'maketrans',\n",
       " 'partition',\n",
       " 'removeprefix',\n",
       " 'removesuffix',\n",
       " 'replace',\n",
       " 'rfind',\n",
       " 'rindex',\n",
       " 'rjust',\n",
       " 'rpartition',\n",
       " 'rsplit',\n",
       " 'rstrip',\n",
       " 'split',\n",
       " 'splitlines',\n",
       " 'startswith',\n",
       " 'strip',\n",
       " 'swapcase',\n",
       " 'title',\n",
       " 'translate',\n",
       " 'upper',\n",
       " 'zfill']"
      ]
     },
     "execution_count": 74,
     "metadata": {},
     "output_type": "execute_result"
    }
   ],
   "source": [
    "# 문자열을 다룰 수 있는 함수들 목록\n",
    "dir(str)"
   ]
  },
  {
   "cell_type": "code",
   "execution_count": null,
   "id": "8f7b56ac",
   "metadata": {},
   "outputs": [],
   "source": []
  }
 ],
 "metadata": {
  "kernelspec": {
   "display_name": "Python 3 (ipykernel)",
   "language": "python",
   "name": "python3"
  },
  "language_info": {
   "codemirror_mode": {
    "name": "ipython",
    "version": 3
   },
   "file_extension": ".py",
   "mimetype": "text/x-python",
   "name": "python",
   "nbconvert_exporter": "python",
   "pygments_lexer": "ipython3",
   "version": "3.10.9"
  },
  "toc": {
   "base_numbering": 1,
   "nav_menu": {},
   "number_sections": true,
   "sideBar": true,
   "skip_h1_title": false,
   "title_cell": "Table of Contents",
   "title_sidebar": "Contents",
   "toc_cell": false,
   "toc_position": {},
   "toc_section_display": true,
   "toc_window_display": false
  }
 },
 "nbformat": 4,
 "nbformat_minor": 5
}
