{
 "cells": [
  {
   "cell_type": "markdown",
   "id": "8596a8b6",
   "metadata": {},
   "source": [
    "<b><font color='red' size='6'>ch14. 웹데이터 수집</font></b>\n",
    "# 1절. BeautifulSoip과 parser\n",
    "` pip install bs4` 아나콘다 설치하면 자동 설치되는 패키지 7500개에 포함\n",
    "\n",
    "[공식 사이트](https://www.crummy.com/software/BeautifulSoup/)\n",
    "\n",
    "[Documentation](https://www.crummy.com/software/BeautifulSoup/bs4/doc/)"
   ]
  },
  {
   "cell_type": "code",
   "execution_count": 5,
   "id": "e709d52d",
   "metadata": {},
   "outputs": [],
   "source": [
    "import requests \n",
    "from requests_file import FileAdapter"
   ]
  },
  {
   "cell_type": "code",
   "execution_count": 7,
   "id": "4dcaca80",
   "metadata": {},
   "outputs": [
    {
     "data": {
      "text/plain": [
       "<Response [200]>"
      ]
     },
     "execution_count": 7,
     "metadata": {},
     "output_type": "execute_result"
    }
   ],
   "source": [
    "s = requests.Session() # HTTP 요청관리를 위한 세셧 객체 생성\n",
    "s.mount('file://', FileAdapter())\n",
    "respanse = s.get('file:///ai/source/07_python/ch14_sample.html')\n",
    "respanse"
   ]
  },
  {
   "cell_type": "code",
   "execution_count": 8,
   "id": "b9cb748b",
   "metadata": {},
   "outputs": [
    {
     "data": {
      "text/plain": [
       "b'<!DOCTYPE html>\\r\\n<html lang=\"en\">\\r\\n<head>\\r\\n    <meta charset=\"UTF-8\">\\r\\n</head>\\r\\n<body>\\r\\n    <h1 class=\"greeting css\" id=\"text\">Hello, CSS</h1>\\r\\n    <h1 class=\"css\">Hi, css</h1>\\r\\n    <div id=\"subject\">subject \\xec\\x84\\xa0\\xed\\x83\\x9d\\xec\\x9e\\x90 \\xec\\x95\\x88\\xec\\x9d\\x98 \\xeb\\x82\\xb4\\xec\\x9a\\xa9</div>\\r\\n    <p> CSS \\xec\\x84\\xa0\\xed\\x83\\x9d\\xec\\x9e\\x90\\xeb\\x8a\\x94 \\xeb\\x8b\\xa4\\xec\\x96\\x91\\xed\\x95\\x9c \\xea\\xb3\\xb3\\xec\\x97\\x90\\xec\\x84\\x9c \\xed\\x99\\x9c\\xec\\x9a\\xa9\\xeb\\x90\\xa9\\xeb\\x8b\\x88\\xeb\\x8b\\xa4</p>\\r\\n    <div class=\"\\'contents\">\\r\\n        \\xec\\x84\\xa0\\xed\\x83\\x9d\\xec\\x9e\\x90\\xeb\\xa5\\xbc \\xec\\x96\\xb4\\xeb\\x96\\xbb\\xea\\xb2\\x8c \\xec\\x9e\\x91\\xec\\x84\\xb1\\xed\\x95\\x98\\xeb\\x8a\\x90\\xeb\\x83\\x90\\xec\\x97\\x90 \\xeb\\x94\\xb0\\xeb\\x9d\\xbc\\r\\n        <span>\\xeb\\x8b\\xa4\\xeb\\xa5\\xb8<b>\\xec\\x9a\\x94\\xec\\x86\\x8c\\xea\\xb0\\x80 \\xeb\\xb0\\x98\\xed\\x99\\x98</b></span>\\xeb\\x90\\xa9\\xeb\\x8b\\x88\\xeb\\x8b\\xa4\\r\\n    </div>\\r\\n    <div>CSS \\xec\\x84\\xa0\\xed\\x83\\x9d\\xec\\x9e\\x90\\xeb\\x8a\\x94 \\xeb\\x8b\\xa4\\xec\\x96\\x91\\xed\\x95\\x9c \\xea\\xb3\\xb3\\xec\\x97\\x90 <b>\\xed\\x99\\x9c\\xec\\x9a\\xa9</b>\\xeb\\x90\\xa9\\xeb\\x8b\\x88\\xeb\\x8b\\xa4</div>\\r\\n    \\r\\n</body>\\r\\n</html>'"
      ]
     },
     "execution_count": 8,
     "metadata": {},
     "output_type": "execute_result"
    }
   ],
   "source": [
    "ex = respanse.content\n",
    "ex"
   ]
  },
  {
   "cell_type": "code",
   "execution_count": 9,
   "id": "c74bf673",
   "metadata": {},
   "outputs": [
    {
     "data": {
      "text/plain": [
       "'<!DOCTYPE html>\\r\\n<html lang=\"en\">\\r\\n<head>\\r\\n    <meta charset=\"UTF-8\">\\r\\n</head>\\r\\n<body>\\r\\n    <h1 class=\"greeting css\" id=\"text\">Hello, CSS</h1>\\r\\n    <h1 class=\"css\">Hi, css</h1>\\r\\n    <div id=\"subject\">subject 선택자 안의 내용</div>\\r\\n    <p> CSS 선택자는 다양한 곳에서 활용됩니다</p>\\r\\n    <div class=\"\\'contents\">\\r\\n        선택자를 어떻게 작성하느냐에 따라\\r\\n        <span>다른<b>요소가 반환</b></span>됩니다\\r\\n    </div>\\r\\n    <div>CSS 선택자는 다양한 곳에 <b>활용</b>됩니다</div>\\r\\n    \\r\\n</body>\\r\\n</html>'"
      ]
     },
     "execution_count": 9,
     "metadata": {},
     "output_type": "execute_result"
    }
   ],
   "source": [
    "respanse.content.decode('utf-8')"
   ]
  },
  {
   "cell_type": "code",
   "execution_count": 10,
   "id": "e4231b0d",
   "metadata": {},
   "outputs": [
    {
     "data": {
      "text/plain": [
       "'<!DOCTYPE html>\\r\\n<html lang=\"en\">\\r\\n<head>\\r\\n    <meta charset=\"UTF-8\">\\r\\n</head>\\r\\n<body>\\r\\n    <h1 class=\"greeting css\" id=\"text\">Hello, CSS</h1>\\r\\n    <h1 class=\"css\">Hi, css</h1>\\r\\n    <div id=\"subject\">subject 선택자 안의 내용</div>\\r\\n    <p> CSS 선택자는 다양한 곳에서 활용됩니다</p>\\r\\n    <div class=\"\\'contents\">\\r\\n        선택자를 어떻게 작성하느냐에 따라\\r\\n        <span>다른<b>요소가 반환</b></span>됩니다\\r\\n    </div>\\r\\n    <div>CSS 선택자는 다양한 곳에 <b>활용</b>됩니다</div>\\r\\n    \\r\\n</body>\\r\\n</html>'"
      ]
     },
     "execution_count": 10,
     "metadata": {},
     "output_type": "execute_result"
    }
   ],
   "source": [
    "respanse.text"
   ]
  },
  {
   "cell_type": "code",
   "execution_count": 13,
   "id": "92cebf89",
   "metadata": {},
   "outputs": [
    {
     "data": {
      "text/plain": [
       "<!DOCTYPE html>\n",
       "\n",
       "<html lang=\"en\">\n",
       "<head>\n",
       "<meta charset=\"utf-8\"/>\n",
       "</head>\n",
       "<body>\n",
       "<h1 class=\"greeting css\" id=\"text\">Hello, CSS</h1>\n",
       "<h1 class=\"css\">Hi, css</h1>\n",
       "<div id=\"subject\">subject 선택자 안의 내용</div>\n",
       "<p> CSS 선택자는 다양한 곳에서 활용됩니다</p>\n",
       "<div class=\"'contents\">\n",
       "        선택자를 어떻게 작성하느냐에 따라\n",
       "        <span>다른<b>요소가 반환</b></span>됩니다\n",
       "    </div>\n",
       "<div>CSS 선택자는 다양한 곳에 <b>활용</b>됩니다</div>\n",
       "</body>\n",
       "</html>"
      ]
     },
     "execution_count": 13,
     "metadata": {},
     "output_type": "execute_result"
    }
   ],
   "source": [
    "# html 파싱\n",
    "from bs4 import BeautifulSoup\n",
    "soup = BeautifulSoup(respanse.content, # response.text\n",
    "                    \"html.parser\")\n",
    "# soup"
   ]
  },
  {
   "cell_type": "code",
   "execution_count": 19,
   "id": "3012d623",
   "metadata": {},
   "outputs": [
    {
     "name": "stdout",
     "output_type": "stream",
     "text": [
      "el : <h1 class=\"greeting css\" id=\"text\">Hello, CSS</h1>\n",
      "el.text Hello, CSS\n",
      "el.string Hello, CSS\n",
      "el의 속성들 : {'class': ['greeting', 'css'], 'id': 'text'}\n",
      "el의 class 속성 : ['greeting', 'css']\n",
      "el의 name : h1\n"
     ]
    }
   ],
   "source": [
    "# soup.select_one('선택자') : 해당 선택자 처음 하나만\n",
    "el = soup.select_one('h1') # 처음 나오는 h1태그 하나만 \n",
    "print('el :',el)\n",
    "print('el.text', el.text)\n",
    "print('el.string', el.string)\n",
    "print('el의 속성들 :', el.attrs)\n",
    "print('el의 class 속성 :', el.attrs['class']) # class속성은 하나라도 list로 생성\n",
    "print('el의 name :' , el.name)"
   ]
  },
  {
   "cell_type": "code",
   "execution_count": 30,
   "id": "b04d63ec",
   "metadata": {},
   "outputs": [
    {
     "name": "stdout",
     "output_type": "stream",
     "text": [
      "el : [<h1 class=\"greeting css\" id=\"text\">Hello, CSS</h1>, <h1 class=\"css\">Hi, css</h1>]\n",
      "el들의 text : ['Hello, CSS', 'Hi, css']\n",
      "el들의 string : ['Hello, CSS', 'Hi, css']\n",
      "el들의 속성들 : [{'class': ['greeting', 'css'], 'id': 'text'}, {'class': ['css']}]\n",
      "el들의 class속성들 : [['greeting', 'css'], ['css']]\n"
     ]
    }
   ],
   "source": [
    "# soup.select('선택자') : 해당 선택자 모든 엘리먼트를 리스트로\n",
    "el = soup.select('h1')\n",
    "print('el :', el)\n",
    "print('el들의 text :', [e.text for e in el])\n",
    "print('el들의 string :', [e.string for e in el])\n",
    "print('el들의 속성들 :', [e.attrs for e in el])\n",
    "print('el들의 class속성들 :', [e.attrs['class'] for e in el])"
   ]
  },
  {
   "cell_type": "code",
   "execution_count": 39,
   "id": "82aaa5b0",
   "metadata": {},
   "outputs": [
    {
     "name": "stdout",
     "output_type": "stream",
     "text": [
      "모든 h1, span태그(select) :\n",
      "[<h1 class=\"greeting css\" id=\"text\">Hello, CSS</h1>, <h1 class=\"css\">Hi, css</h1>, <span>다른<b>요소가 반환</b></span>]\n",
      "모든 h1, span태그(find_all) : [<h1 class=\"greeting css\" id=\"text\">Hello, CSS</h1>, <h1 class=\"css\">Hi, css</h1>]\n",
      "select_one :\n",
      "<h1 class=\"greeting css\" id=\"text\">Hello, CSS</h1>\n",
      "find :\n",
      "<h1 class=\"greeting css\" id=\"text\">Hello, CSS</h1>\n",
      "find :\n",
      "[]\n",
      "find :\n",
      "None\n"
     ]
    }
   ],
   "source": [
    "# select('선택자')와 find_all(태그)\n",
    "print('모든 h1, span태그(select) :', soup.select('h1, span'), sep='\\n')\n",
    "print('모든 h1, span태그(find_all) :', soup.find_all(['h1','span'],\n",
    "                                                class_=['css']))\n",
    "\n",
    "# select('선택자')와 find(태그, 속성)\n",
    "print('select_one :', soup.select_one('h1.css'), sep='\\n') # h1.css, span 선택중 먼저 위에있는걸 가져옴\n",
    "print('find :', soup.find('h1',class_='css'), sep='\\n')\n",
    "\n",
    "print('find_all :', soup.find_all('a',class_='css'), sep='\\n') # 반환을 빈리스트로 \n",
    "print('find :', soup.find('a',class_='css'), sep='\\n') # 없는거 대신 None"
   ]
  },
  {
   "cell_type": "markdown",
   "id": "d2fa498e",
   "metadata": {},
   "source": [
    "# 2절. 정적 웹 데이터 수집(정적 웹크롤링)\n",
    "## 2.1 JSON파일 - request모듈(GET 요청)/ urllib.request 모듈(urlopen)"
   ]
  },
  {
   "cell_type": "code",
   "execution_count": null,
   "id": "049abcd4",
   "metadata": {},
   "outputs": [],
   "source": [
    "# 크롤리 허용범위는 사이트마다 ~ / robots.txt에서 확인할 수 있습니다\n",
    "#     User-agent: 모든 크롤링을 허용(*), 지침을 적용할 크롤러를 지정\n",
    "#     Allow, Disallow: 크롤링을 제한할 경로 / 허용할 경우(/)"
   ]
  },
  {
   "cell_type": "code",
   "execution_count": 42,
   "id": "6daedc8a",
   "metadata": {},
   "outputs": [
    {
     "data": {
      "text/plain": [
       "(<Response [200]>, 200)"
      ]
     },
     "execution_count": 42,
     "metadata": {},
     "output_type": "execute_result"
    }
   ],
   "source": [
    "# 방법1\n",
    "import requests\n",
    "response = requests.get('http://api.github.com')\n",
    "response, response.status_code"
   ]
  },
  {
   "cell_type": "code",
   "execution_count": 43,
   "id": "73a11163",
   "metadata": {},
   "outputs": [
    {
     "data": {
      "text/plain": [
       "b'{\"current_user_url\":\"https://api.github.com/user\",\"current_user_authorizations_html_url\":\"https://github.com/settings/connections/applications{/client_id}\",\"authorizations_url\":\"https://api.github.com/authorizations\",\"code_search_url\":\"https://api.github.com/search/code?q={query}{&page,per_page,sort,order}\",\"commit_search_url\":\"https://api.github.com/search/commits?q={query}{&page,per_page,sort,order}\",\"emails_url\":\"https://api.github.com/user/emails\",\"emojis_url\":\"https://api.github.com/emojis\",\"events_url\":\"https://api.github.com/events\",\"feeds_url\":\"https://api.github.com/feeds\",\"followers_url\":\"https://api.github.com/user/followers\",\"following_url\":\"https://api.github.com/user/following{/target}\",\"gists_url\":\"https://api.github.com/gists{/gist_id}\",\"hub_url\":\"https://api.github.com/hub\",\"issue_search_url\":\"https://api.github.com/search/issues?q={query}{&page,per_page,sort,order}\",\"issues_url\":\"https://api.github.com/issues\",\"keys_url\":\"https://api.github.com/user/keys\",\"label_search_url\":\"https://api.github.com/search/labels?q={query}&repository_id={repository_id}{&page,per_page}\",\"notifications_url\":\"https://api.github.com/notifications\",\"organization_url\":\"https://api.github.com/orgs/{org}\",\"organization_repositories_url\":\"https://api.github.com/orgs/{org}/repos{?type,page,per_page,sort}\",\"organization_teams_url\":\"https://api.github.com/orgs/{org}/teams\",\"public_gists_url\":\"https://api.github.com/gists/public\",\"rate_limit_url\":\"https://api.github.com/rate_limit\",\"repository_url\":\"https://api.github.com/repos/{owner}/{repo}\",\"repository_search_url\":\"https://api.github.com/search/repositories?q={query}{&page,per_page,sort,order}\",\"current_user_repositories_url\":\"https://api.github.com/user/repos{?type,page,per_page,sort}\",\"starred_url\":\"https://api.github.com/user/starred{/owner}{/repo}\",\"starred_gists_url\":\"https://api.github.com/gists/starred\",\"topic_search_url\":\"https://api.github.com/search/topics?q={query}{&page,per_page}\",\"user_url\":\"https://api.github.com/users/{user}\",\"user_organizations_url\":\"https://api.github.com/user/orgs\",\"user_repositories_url\":\"https://api.github.com/users/{user}/repos{?type,page,per_page,sort}\",\"user_search_url\":\"https://api.github.com/search/users?q={query}{&page,per_page,sort,order}\"}'"
      ]
     },
     "execution_count": 43,
     "metadata": {},
     "output_type": "execute_result"
    }
   ],
   "source": [
    "response.content # response.text"
   ]
  },
  {
   "cell_type": "code",
   "execution_count": 45,
   "id": "8f26132c",
   "metadata": {},
   "outputs": [
    {
     "data": {
      "text/plain": [
       "dict"
      ]
     },
     "execution_count": 45,
     "metadata": {},
     "output_type": "execute_result"
    }
   ],
   "source": [
    "jsondata = response.json()\n",
    "type(jsondata)"
   ]
  },
  {
   "cell_type": "code",
   "execution_count": 46,
   "id": "eaa03710",
   "metadata": {},
   "outputs": [
    {
     "data": {
      "text/plain": [
       "200"
      ]
     },
     "execution_count": 46,
     "metadata": {},
     "output_type": "execute_result"
    }
   ],
   "source": [
    "# 방법2\n",
    "from urllib.request import urlopen\n",
    "response = urlopen('http://api.github.com')\n",
    "response.status"
   ]
  },
  {
   "cell_type": "markdown",
   "id": "0cea76cd",
   "metadata": {},
   "source": [
    "## 2.2 BeautifulSoul 모듈을 활용 html 웹 데이터 수입\n",
    "### 1) 환율정보 가져오기 (네이버증권 > 시장지표\n",
    "- https://finance.naver.com/marketindex/"
   ]
  },
  {
   "cell_type": "code",
   "execution_count": 61,
   "id": "b4c5050b",
   "metadata": {},
   "outputs": [],
   "source": [
    "# 방법1\n",
    "import requests \n",
    "from bs4 import BeautifulSoup\n",
    "url = 'https://finance.naver.com/marketindex/'\n",
    "response = requests.get(url)\n",
    "soup = BeautifulSoup(response.text, 'html.parser')"
   ]
  },
  {
   "cell_type": "code",
   "execution_count": 65,
   "id": "0c2632b8",
   "metadata": {},
   "outputs": [],
   "source": [
    "# 방법2 \n",
    "from urllib.request import urlopen\n",
    "# from bs4 import BeautifulSoup\n",
    "url = 'https://finance.naver.com/marketindex/'\n",
    "response = urlopen(url)\n",
    "soup = BeautifulSoup(response, 'html.parser')"
   ]
  },
  {
   "cell_type": "code",
   "execution_count": 66,
   "id": "c0222e80",
   "metadata": {},
   "outputs": [
    {
     "data": {
      "text/plain": [
       "[1418.6,\n",
       " 946.05,\n",
       " 1499.74,\n",
       " 195.31,\n",
       " 150.44,\n",
       " 1.06,\n",
       " 1.28,\n",
       " 105.7,\n",
       " 68.3,\n",
       " 1644.05,\n",
       " 2648.4,\n",
       " 120342.83]"
      ]
     },
     "execution_count": 66,
     "metadata": {},
     "output_type": "execute_result"
    }
   ],
   "source": [
    "price = soup.select('div.head_info > span.value')\n",
    "# [round(float(''.join(p.text.split(','))),2) for p in price]\n",
    "# [round(float(p.text.replace(',','')),2) for p in price]"
   ]
  },
  {
   "cell_type": "code",
   "execution_count": 67,
   "id": "3e8fa87d",
   "metadata": {},
   "outputs": [
    {
     "name": "stdout",
     "output_type": "stream",
     "text": [
      "미국 USD\t일본 JPY(100엔)\t유럽연합 EUR\t중국 CNY\t달러/일본 엔\t유로/달러\t영국 파운드/달러\t달러인덱스\tWTI\t휘발유\t국제 금\t국내 금\t"
     ]
    }
   ],
   "source": [
    "title = soup.select('h3.h_lst > span.blind')\n",
    "for t in title:\n",
    "    print(t.text, end='\\t')"
   ]
  },
  {
   "cell_type": "code",
   "execution_count": 71,
   "id": "b46ee971",
   "metadata": {},
   "outputs": [
    {
     "data": {
      "text/plain": [
       "['원', '원', '원', '원', '엔', '달러', '달러', '', '달러', '원', '달러', '원']"
      ]
     },
     "execution_count": 71,
     "metadata": {},
     "output_type": "execute_result"
    }
   ],
   "source": [
    "unit = soup.select('div.head_info > span > span.blind')\n",
    "unit = [u.text for u in unit]\n",
    "unit.insert(7, '')\n",
    "unit"
   ]
  },
  {
   "cell_type": "code",
   "execution_count": 74,
   "id": "961949c7",
   "metadata": {},
   "outputs": [
    {
     "name": "stdout",
     "output_type": "stream",
     "text": [
      "상승\t상승\t상승\t상승\t하락\t상승\t상승\t하락\t하락\t상승\t하락\t상승\t"
     ]
    }
   ],
   "source": [
    "status = soup.select('div.head_info > span.blind')\n",
    "for idx in range(len(status)):\n",
    "    print(status[idx].text, end='\\t')"
   ]
  },
  {
   "cell_type": "code",
   "execution_count": 75,
   "id": "f89e5a78",
   "metadata": {},
   "outputs": [
    {
     "data": {
      "text/plain": [
       "(12, 12, 12, 12)"
      ]
     },
     "execution_count": 75,
     "metadata": {},
     "output_type": "execute_result"
    }
   ],
   "source": [
    "len(title), len(price), len(unit), len(status)"
   ]
  },
  {
   "cell_type": "code",
   "execution_count": 76,
   "id": "55dfff83",
   "metadata": {},
   "outputs": [
    {
     "name": "stdout",
     "output_type": "stream",
     "text": [
      "미국 USD : 1,418.60 원 - 상승\n",
      "일본 JPY(100엔) : 946.05 원 - 상승\n",
      "유럽연합 EUR : 1,499.74 원 - 상승\n",
      "중국 CNY : 195.31 원 - 상승\n",
      "달러/일본 엔 : 150.4400 엔 - 하락\n",
      "유로/달러 : 1.0575 달러 - 상승\n",
      "영국 파운드/달러 : 1.2758 달러 - 상승\n",
      "달러인덱스 : 105.7000  - 하락\n",
      "WTI : 68.3 달러 - 하락\n",
      "휘발유 : 1644.05 원 - 상승\n",
      "국제 금 : 2648.4 달러 - 하락\n",
      "국내 금 : 120342.83 원 - 상승\n"
     ]
    }
   ],
   "source": [
    "for idx in range(len(title)):\n",
    "    print(\"{} : {} {} - {}\".format(title[idx].text, \n",
    "                                   price[idx].text, \n",
    "                                  unit[idx],\n",
    "                                  status[idx].text))"
   ]
  },
  {
   "cell_type": "code",
   "execution_count": 79,
   "id": "681e355a",
   "metadata": {},
   "outputs": [
    {
     "name": "stdout",
     "output_type": "stream",
     "text": [
      "미국 USD : 1,418.60 원 - 상승\n",
      "일본 JPY(100엔) : 946.05 원 - 상승\n",
      "유럽연합 EUR : 1,499.74 원 - 상승\n",
      "중국 CNY : 195.31 원 - 상승\n",
      "달러/일본 엔 : 150.4400 엔 - 하락\n",
      "유로/달러 : 1.0575 달러 - 상승\n",
      "영국 파운드/달러 : 1.2758 달러 - 상승\n",
      "달러인덱스 : 105.7000  - 하락\n",
      "WTI : 68.3 달러 - 하락\n",
      "휘발유 : 1644.05 원 - 상승\n",
      "국제 금 : 2648.4 달러 - 하락\n",
      "국내 금 : 120342.83 원 - 상승\n"
     ]
    }
   ],
   "source": [
    "for t, p, u, s in zip(title, price, unit, status):\n",
    "    print(\"{} : {} {} - {}\".format(t.text, p.text, u, s.text))"
   ]
  },
  {
   "cell_type": "markdown",
   "id": "eb5e70e1",
   "metadata": {},
   "source": [
    "### 2) 이번주 로또 번호 출력\n",
    "- https://dhlottery.co.kr/gameResult.do?method=byWin\n",
    "```\n",
    "1148회 (2024년 11월 30일 추첨)\n",
    "당첨번호 : [3, 6 ,13, 15, 16, 22]\n",
    "보너스번호 : 32\n",
    "```"
   ]
  },
  {
   "cell_type": "code",
   "execution_count": 81,
   "id": "e17a7d08",
   "metadata": {},
   "outputs": [],
   "source": [
    "from urllib.request import urlopen\n",
    "from bs4 import BeautifulSoup\n",
    "url = 'https://dhlottery.co.kr/gameResult.do?method=byWin'\n",
    "response = urlopen(url)\n",
    "soup = BeautifulSoup(response, 'html.parser')"
   ]
  },
  {
   "cell_type": "code",
   "execution_count": 130,
   "id": "3ba96203",
   "metadata": {},
   "outputs": [
    {
     "name": "stdout",
     "output_type": "stream",
     "text": [
      "1148회 (2024년 11월 30일 추첨)\n",
      "로또 번호 : [3, 6, 13, 15, 16, 22]\n",
      "보너스 번호 : 32\n"
     ]
    }
   ],
   "source": [
    "times = soup.select_one('div.win_result strong').text # '1148회'\n",
    "date  = soup.select_one('div.win_result p.desc').text # '(2024년 11월 30일 추첨)'\n",
    "print(times, date)\n",
    "lotto_numbers = soup.select('div.num.win p > span')\n",
    "print('로또 번호 :', [int(lotto.text) for lotto in lotto_numbers])\n",
    "bonus_number = soup.select_one('div.num.bonus p > span').text\n",
    "print('보너스 번호 :', bonus_number)"
   ]
  },
  {
   "cell_type": "code",
   "execution_count": 147,
   "id": "dfaec3fa",
   "metadata": {},
   "outputs": [
    {
     "name": "stdout",
     "output_type": "stream",
     "text": [
      "1148회 (2024년 11월 30일 추첨)\n",
      "로또 번호 : [3, 6, 13, 15, 16, 22]\n",
      "보너스 번호 : 32\n"
     ]
    }
   ],
   "source": [
    "# times = soup.select_one('div.win_result strong').text # '1148회'\n",
    "# date  = soup.select_one('div.win_result p..\n",
    "desc').text # '(2024년 11월 30일 추첨)'\n",
    "winresult = soup.find('div', class_='win_result')\n",
    "times     = winresult.find('strong').text\n",
    "date      = winresult.find('p',class_='desc').text\n",
    "print(times, date)\n",
    "# lotto_numbers = soup.select('div.num.win p > span')\n",
    "win = soup.find('div', class_=['win'])\n",
    "lotto_number = win.find_all('span')\n",
    "print('로또 번호 :', [int(lotto.text) for lotto in lotto_numbers])\n",
    "# bonus_number = soup.select_one('div.num.bonus p > span').text\n",
    "bonus = soup.find('div', class_='bonus')\n",
    "bonus_number = bonus.find('span').text\n",
    "print('보너스 번호 :', bonus_number)"
   ]
  },
  {
   "cell_type": "markdown",
   "id": "33a5572a",
   "metadata": {},
   "source": [
    "### 3) 다음 검색 리스트\n",
    "```\n",
    "no title                                                      href\n",
    "0 \"비트코인 8800만원에 주운 사람이 승자\"…한밤 불태운 코인 투자자들 https://v.daum.net/v/20241204113454203\n",
    "1 [속보] 비트코인 '쇼크'…30% 급락 http://v.daum.net/v/20241203231205730\n",
    "2 비트코인 갑론을박...\"20만달러 vs 단기조정\" https://v.daum.net/v/20241206151520972\n",
    "```"
   ]
  },
  {
   "cell_type": "code",
   "execution_count": 5,
   "id": "4b84e1c1",
   "metadata": {},
   "outputs": [
    {
     "data": {
      "text/html": [
       "<div>\n",
       "<style scoped>\n",
       "    .dataframe tbody tr th:only-of-type {\n",
       "        vertical-align: middle;\n",
       "    }\n",
       "\n",
       "    .dataframe tbody tr th {\n",
       "        vertical-align: top;\n",
       "    }\n",
       "\n",
       "    .dataframe thead th {\n",
       "        text-align: right;\n",
       "    }\n",
       "</style>\n",
       "<table border=\"1\" class=\"dataframe\">\n",
       "  <thead>\n",
       "    <tr style=\"text-align: right;\">\n",
       "      <th></th>\n",
       "      <th>no</th>\n",
       "      <th>title</th>\n",
       "      <th>link</th>\n",
       "    </tr>\n",
       "  </thead>\n",
       "  <tbody>\n",
       "    <tr>\n",
       "      <th>0</th>\n",
       "      <td>0</td>\n",
       "      <td>10만 달러 찍은 비트코인 '금' 대체할까···\"내년 20만 달러 가능\"</td>\n",
       "      <td>http://v.daum.net/v/20241209060905864</td>\n",
       "    </tr>\n",
       "    <tr>\n",
       "      <th>1</th>\n",
       "      <td>1</td>\n",
       "      <td>10만달러 돌파한 비트코인 내년 말까지 20만달러 돌파한다</td>\n",
       "      <td>http://v.daum.net/v/20241209071337645</td>\n",
       "    </tr>\n",
       "    <tr>\n",
       "      <th>2</th>\n",
       "      <td>2</td>\n",
       "      <td>[탄핵 부결] 2차 탄핵 가능성에 놀란 투심… \"비트코인 15만 달러 전망\"</td>\n",
       "      <td>http://v.daum.net/v/20241208112020269</td>\n",
       "    </tr>\n",
       "    <tr>\n",
       "      <th>3</th>\n",
       "      <td>3</td>\n",
       "      <td>[굿모닝 마켓] 비트코인, 새 수장 지명에 탄력…다시 10만 달러로</td>\n",
       "      <td>http://v.daum.net/v/20241209081212491</td>\n",
       "    </tr>\n",
       "    <tr>\n",
       "      <th>4</th>\n",
       "      <td>4</td>\n",
       "      <td>20만 달러까지 상승? 비트코인 10만 달러 재돌파</td>\n",
       "      <td>http://v.daum.net/v/20241209080336301</td>\n",
       "    </tr>\n",
       "    <tr>\n",
       "      <th>5</th>\n",
       "      <td>5</td>\n",
       "      <td>비트코인, 채굴자 매도세에도 1억4100만원대 회복</td>\n",
       "      <td>http://v.daum.net/v/20241209094130683</td>\n",
       "    </tr>\n",
       "    <tr>\n",
       "      <th>6</th>\n",
       "      <td>6</td>\n",
       "      <td>10만달러 돌파→재돌파…'트럼프 효과'에 고래도 춤췄다[비트코인 지금]</td>\n",
       "      <td>http://v.daum.net/v/20241209004217086</td>\n",
       "    </tr>\n",
       "    <tr>\n",
       "      <th>7</th>\n",
       "      <td>7</td>\n",
       "      <td>엘살바도르 \"비트코인 목표가 3억에서 31억원으로 상향\"[코인브리핑]</td>\n",
       "      <td>http://v.daum.net/v/20241209094403801</td>\n",
       "    </tr>\n",
       "    <tr>\n",
       "      <th>8</th>\n",
       "      <td>8</td>\n",
       "      <td>\"이번엔 비트코인이다\"…미·러 패권 전쟁의 시작</td>\n",
       "      <td>http://v.daum.net/v/20241208171901266</td>\n",
       "    </tr>\n",
       "    <tr>\n",
       "      <th>9</th>\n",
       "      <td>9</td>\n",
       "      <td>파월 “비트코인은 금의 경쟁자” 비트코인 9.9만달러 돌파(종합)</td>\n",
       "      <td>http://v.daum.net/v/20241205083815879</td>\n",
       "    </tr>\n",
       "  </tbody>\n",
       "</table>\n",
       "</div>"
      ],
      "text/plain": [
       "   no                                         title  \\\n",
       "0   0     10만 달러 찍은 비트코인 '금' 대체할까···\"내년 20만 달러 가능\"    \n",
       "1   1             10만달러 돌파한 비트코인 내년 말까지 20만달러 돌파한다    \n",
       "2   2   [탄핵 부결] 2차 탄핵 가능성에 놀란 투심… \"비트코인 15만 달러 전망\"    \n",
       "3   3        [굿모닝 마켓] 비트코인, 새 수장 지명에 탄력…다시 10만 달러로    \n",
       "4   4                 20만 달러까지 상승? 비트코인 10만 달러 재돌파    \n",
       "5   5                 비트코인, 채굴자 매도세에도 1억4100만원대 회복    \n",
       "6   6      10만달러 돌파→재돌파…'트럼프 효과'에 고래도 춤췄다[비트코인 지금]    \n",
       "7   7       엘살바도르 \"비트코인 목표가 3억에서 31억원으로 상향\"[코인브리핑]    \n",
       "8   8                   \"이번엔 비트코인이다\"…미·러 패권 전쟁의 시작    \n",
       "9   9         파월 “비트코인은 금의 경쟁자” 비트코인 9.9만달러 돌파(종합)    \n",
       "\n",
       "                                    link  \n",
       "0  http://v.daum.net/v/20241209060905864  \n",
       "1  http://v.daum.net/v/20241209071337645  \n",
       "2  http://v.daum.net/v/20241208112020269  \n",
       "3  http://v.daum.net/v/20241209081212491  \n",
       "4  http://v.daum.net/v/20241209080336301  \n",
       "5  http://v.daum.net/v/20241209094130683  \n",
       "6  http://v.daum.net/v/20241209004217086  \n",
       "7  http://v.daum.net/v/20241209094403801  \n",
       "8  http://v.daum.net/v/20241208171901266  \n",
       "9  http://v.daum.net/v/20241205083815879  "
      ]
     },
     "execution_count": 5,
     "metadata": {},
     "output_type": "execute_result"
    }
   ],
   "source": [
    "import requests\n",
    "from bs4 import BeautifulSoup\n",
    "url = 'https://search.daum.net/search?w=news&nil_search=btn&DA=NTB&enc=utf8&cluster=y&cluster_page=1&q=%EB%B9%84%ED%8A%B8%EC%BD%94%EC%9D%B8'\n",
    "response = requests.get(url) \n",
    "soup = BeautifulSoup(response.text, 'html.parser')\n",
    "items_find_list = [] # 검색한 결과를 담을 dict 리스트\n",
    "items_el = soup.select('div.item-title > strong.tit-g > a')\n",
    "for idx, item in enumerate(items_el):\n",
    "    items_find_list.append({'no':idx,\n",
    "                          'title':item.text,\n",
    "                          'link':item.attrs['href']\n",
    "                          })\n",
    "import pandas as pd\n",
    "pd.DataFrame(items_find_list)"
   ]
  },
  {
   "cell_type": "code",
   "execution_count": 160,
   "id": "6095745b",
   "metadata": {},
   "outputs": [
    {
     "data": {
      "text/html": [
       "<div>\n",
       "<style scoped>\n",
       "    .dataframe tbody tr th:only-of-type {\n",
       "        vertical-align: middle;\n",
       "    }\n",
       "\n",
       "    .dataframe tbody tr th {\n",
       "        vertical-align: top;\n",
       "    }\n",
       "\n",
       "    .dataframe thead th {\n",
       "        text-align: right;\n",
       "    }\n",
       "</style>\n",
       "<table border=\"1\" class=\"dataframe\">\n",
       "  <thead>\n",
       "    <tr style=\"text-align: right;\">\n",
       "      <th></th>\n",
       "      <th>no</th>\n",
       "      <th>title</th>\n",
       "      <th>link</th>\n",
       "    </tr>\n",
       "  </thead>\n",
       "  <tbody>\n",
       "    <tr>\n",
       "      <th>0</th>\n",
       "      <td>0</td>\n",
       "      <td>'10만 달러' 넘어선 비트코인...\"고점 아직\"vs\"과열\"</td>\n",
       "      <td>http://v.daum.net/v/20241206135550190</td>\n",
       "    </tr>\n",
       "    <tr>\n",
       "      <th>1</th>\n",
       "      <td>1</td>\n",
       "      <td>트럼프 “비트코인 10만 달러, 천만에요”</td>\n",
       "      <td>http://v.daum.net/v/20241205230018960</td>\n",
       "    </tr>\n",
       "    <tr>\n",
       "      <th>2</th>\n",
       "      <td>2</td>\n",
       "      <td>비트코인, 차익 실현 매물에 5% 급락…1억3700만원대</td>\n",
       "      <td>http://v.daum.net/v/20241206092917378</td>\n",
       "    </tr>\n",
       "    <tr>\n",
       "      <th>3</th>\n",
       "      <td>3</td>\n",
       "      <td>비트코인 5%↑ 10만달러 돌파…급등 이유 2가지(종합2)</td>\n",
       "      <td>http://v.daum.net/v/20241205122727799</td>\n",
       "    </tr>\n",
       "    <tr>\n",
       "      <th>4</th>\n",
       "      <td>4</td>\n",
       "      <td>10만 달러 찍은 비트코인… 더 오를까, 내릴까</td>\n",
       "      <td>http://v.daum.net/v/20241206151520972</td>\n",
       "    </tr>\n",
       "    <tr>\n",
       "      <th>5</th>\n",
       "      <td>5</td>\n",
       "      <td>비트코인 갑론을박...\"20만달러 vs 단기조정\"</td>\n",
       "      <td>http://v.daum.net/v/20241206103251287</td>\n",
       "    </tr>\n",
       "    <tr>\n",
       "      <th>6</th>\n",
       "      <td>6</td>\n",
       "      <td>비트코인, 다시 10만 달러 붕괴…향후 전망은?</td>\n",
       "      <td>http://v.daum.net/v/20241206090709632</td>\n",
       "    </tr>\n",
       "    <tr>\n",
       "      <th>7</th>\n",
       "      <td>7</td>\n",
       "      <td>'10만 달러' 넘은 비트코인, 어디까지 갈까 [글로벌 뉴스픽]</td>\n",
       "      <td>http://v.daum.net/v/20241206062101852</td>\n",
       "    </tr>\n",
       "    <tr>\n",
       "      <th>8</th>\n",
       "      <td>8</td>\n",
       "      <td>‘10만 돌파’ 비트코인, 금 대체한다...번스타인 주장</td>\n",
       "      <td>http://v.daum.net/v/20241206163907954</td>\n",
       "    </tr>\n",
       "    <tr>\n",
       "      <th>9</th>\n",
       "      <td>9</td>\n",
       "      <td>비트코인, 세계 7위 자산 등극[엠블록레터]</td>\n",
       "      <td>http://v.daum.net/v/20241206161800233</td>\n",
       "    </tr>\n",
       "  </tbody>\n",
       "</table>\n",
       "</div>"
      ],
      "text/plain": [
       "   no                                  title  \\\n",
       "0   0     '10만 달러' 넘어선 비트코인...\"고점 아직\"vs\"과열\"    \n",
       "1   1               트럼프 “비트코인 10만 달러, 천만에요”    \n",
       "2   2       비트코인, 차익 실현 매물에 5% 급락…1억3700만원대    \n",
       "3   3      비트코인 5%↑ 10만달러 돌파…급등 이유 2가지(종합2)    \n",
       "4   4            10만 달러 찍은 비트코인… 더 오를까, 내릴까    \n",
       "5   5           비트코인 갑론을박...\"20만달러 vs 단기조정\"    \n",
       "6   6            비트코인, 다시 10만 달러 붕괴…향후 전망은?    \n",
       "7   7   '10만 달러' 넘은 비트코인, 어디까지 갈까 [글로벌 뉴스픽]    \n",
       "8   8       ‘10만 돌파’ 비트코인, 금 대체한다...번스타인 주장    \n",
       "9   9              비트코인, 세계 7위 자산 등극[엠블록레터]    \n",
       "\n",
       "                                    link  \n",
       "0  http://v.daum.net/v/20241206135550190  \n",
       "1  http://v.daum.net/v/20241205230018960  \n",
       "2  http://v.daum.net/v/20241206092917378  \n",
       "3  http://v.daum.net/v/20241205122727799  \n",
       "4  http://v.daum.net/v/20241206151520972  \n",
       "5  http://v.daum.net/v/20241206103251287  \n",
       "6  http://v.daum.net/v/20241206090709632  \n",
       "7  http://v.daum.net/v/20241206062101852  \n",
       "8  http://v.daum.net/v/20241206163907954  \n",
       "9  http://v.daum.net/v/20241206161800233  "
      ]
     },
     "execution_count": 160,
     "metadata": {},
     "output_type": "execute_result"
    }
   ],
   "source": [
    "import requests\n",
    "from bs4 import BeautifulSoup\n",
    "url = 'https://search.daum.net/search?nil_suggest=btn&w=news&DA=SBC&cluster=y&q=%EB%B9%84%ED%8A%B8%EC%BD%94%EC%9D%B8'\n",
    "response = requests.get(url) \n",
    "soup = BeautifulSoup(response.text, 'html.parser')\n",
    "items_find_list = [] # 검색한 결과를 담을 2차원 리스트\n",
    "items_el = soup.select('div.item-title > strong.tit-g > a')\n",
    "for idx, item in enumerate(items_el):\n",
    "    items_find_list.append([idx, item.text, item.attrs['href']])\n",
    "# print(items_find_list)\n",
    "import pandas as pd\n",
    "pd.DataFrame(items_find_list, columns=['no','title','link'])"
   ]
  },
  {
   "cell_type": "code",
   "execution_count": 176,
   "id": "e6a3cc31",
   "metadata": {},
   "outputs": [
    {
     "data": {
      "text/html": [
       "<div>\n",
       "<style scoped>\n",
       "    .dataframe tbody tr th:only-of-type {\n",
       "        vertical-align: middle;\n",
       "    }\n",
       "\n",
       "    .dataframe tbody tr th {\n",
       "        vertical-align: top;\n",
       "    }\n",
       "\n",
       "    .dataframe thead th {\n",
       "        text-align: right;\n",
       "    }\n",
       "</style>\n",
       "<table border=\"1\" class=\"dataframe\">\n",
       "  <thead>\n",
       "    <tr style=\"text-align: right;\">\n",
       "      <th></th>\n",
       "      <th>no</th>\n",
       "      <th>title</th>\n",
       "      <th>link</th>\n",
       "    </tr>\n",
       "  </thead>\n",
       "  <tbody>\n",
       "    <tr>\n",
       "      <th>0</th>\n",
       "      <td>0</td>\n",
       "      <td>'10만 달러' 넘어선 비트코인...\"고점 아직\"vs\"과열\"</td>\n",
       "      <td>http://v.daum.net/v/20241206135550190</td>\n",
       "    </tr>\n",
       "    <tr>\n",
       "      <th>1</th>\n",
       "      <td>1</td>\n",
       "      <td>트럼프 “비트코인 10만 달러, 천만에요”</td>\n",
       "      <td>http://v.daum.net/v/20241205230018960</td>\n",
       "    </tr>\n",
       "    <tr>\n",
       "      <th>2</th>\n",
       "      <td>2</td>\n",
       "      <td>비트코인, 차익 실현 매물에 5% 급락…1억3700만원대</td>\n",
       "      <td>http://v.daum.net/v/20241206092917378</td>\n",
       "    </tr>\n",
       "    <tr>\n",
       "      <th>3</th>\n",
       "      <td>3</td>\n",
       "      <td>비트코인 5%↑ 10만달러 돌파…급등 이유 2가지(종합2)</td>\n",
       "      <td>http://v.daum.net/v/20241205122727799</td>\n",
       "    </tr>\n",
       "    <tr>\n",
       "      <th>4</th>\n",
       "      <td>4</td>\n",
       "      <td>10만 달러 찍은 비트코인… 더 오를까, 내릴까</td>\n",
       "      <td>http://v.daum.net/v/20241206151520972</td>\n",
       "    </tr>\n",
       "    <tr>\n",
       "      <th>5</th>\n",
       "      <td>5</td>\n",
       "      <td>비트코인 갑론을박...\"20만달러 vs 단기조정\"</td>\n",
       "      <td>http://v.daum.net/v/20241206103251287</td>\n",
       "    </tr>\n",
       "    <tr>\n",
       "      <th>6</th>\n",
       "      <td>6</td>\n",
       "      <td>비트코인, 다시 10만 달러 붕괴…향후 전망은?</td>\n",
       "      <td>http://v.daum.net/v/20241206090709632</td>\n",
       "    </tr>\n",
       "    <tr>\n",
       "      <th>7</th>\n",
       "      <td>7</td>\n",
       "      <td>'10만 달러' 넘은 비트코인, 어디까지 갈까 [글로벌 뉴스픽]</td>\n",
       "      <td>http://v.daum.net/v/20241206062101852</td>\n",
       "    </tr>\n",
       "    <tr>\n",
       "      <th>8</th>\n",
       "      <td>8</td>\n",
       "      <td>‘10만 돌파’ 비트코인, 금 대체한다...번스타인 주장</td>\n",
       "      <td>http://v.daum.net/v/20241206163907954</td>\n",
       "    </tr>\n",
       "    <tr>\n",
       "      <th>9</th>\n",
       "      <td>9</td>\n",
       "      <td>비트코인, 세계 7위 자산 등극[엠블록레터]</td>\n",
       "      <td>http://v.daum.net/v/20241206161800233</td>\n",
       "    </tr>\n",
       "  </tbody>\n",
       "</table>\n",
       "</div>"
      ],
      "text/plain": [
       "   no                                  title  \\\n",
       "0   0     '10만 달러' 넘어선 비트코인...\"고점 아직\"vs\"과열\"    \n",
       "1   1               트럼프 “비트코인 10만 달러, 천만에요”    \n",
       "2   2       비트코인, 차익 실현 매물에 5% 급락…1억3700만원대    \n",
       "3   3      비트코인 5%↑ 10만달러 돌파…급등 이유 2가지(종합2)    \n",
       "4   4            10만 달러 찍은 비트코인… 더 오를까, 내릴까    \n",
       "5   5           비트코인 갑론을박...\"20만달러 vs 단기조정\"    \n",
       "6   6            비트코인, 다시 10만 달러 붕괴…향후 전망은?    \n",
       "7   7   '10만 달러' 넘은 비트코인, 어디까지 갈까 [글로벌 뉴스픽]    \n",
       "8   8       ‘10만 돌파’ 비트코인, 금 대체한다...번스타인 주장    \n",
       "9   9              비트코인, 세계 7위 자산 등극[엠블록레터]    \n",
       "\n",
       "                                    link  \n",
       "0  http://v.daum.net/v/20241206135550190  \n",
       "1  http://v.daum.net/v/20241205230018960  \n",
       "2  http://v.daum.net/v/20241206092917378  \n",
       "3  http://v.daum.net/v/20241205122727799  \n",
       "4  http://v.daum.net/v/20241206151520972  \n",
       "5  http://v.daum.net/v/20241206103251287  \n",
       "6  http://v.daum.net/v/20241206090709632  \n",
       "7  http://v.daum.net/v/20241206062101852  \n",
       "8  http://v.daum.net/v/20241206163907954  \n",
       "9  http://v.daum.net/v/20241206161800233  "
      ]
     },
     "execution_count": 176,
     "metadata": {},
     "output_type": "execute_result"
    }
   ],
   "source": [
    "items_find_list = [] # 검색한 결과를 담을 2차원 리스트 ('div.item-title > strong.tit-g > a')\n",
    "item_titles = soup.find_all('div', class_='item-title')\n",
    "for idx, item in enumerate(item_titles):\n",
    "    strong = item.find('strong')\n",
    "    if strong :\n",
    "        a = strong.find('a')\n",
    "        items_find_list.append([idx, a.text, a.attrs['href']])\n",
    "pd.DataFrame(items_find_list, columns=['no','title','link'])"
   ]
  },
  {
   "cell_type": "code",
   "execution_count": 17,
   "id": "a20a43bc",
   "metadata": {},
   "outputs": [],
   "source": [
    "# 다음검색(원하는 키워드를 원하는 페이지 수 만큼)\n",
    "import requests\n",
    "from bs4 import BeautifulSoup\n",
    "import time\n",
    "import pandas as pd\n",
    "# print하는 함수\n",
    "def collect_list(keyword, page):\n",
    "    'keyword로 page에 다음검색한 결과를 출력'\n",
    "#     url = 'https://search.daum.net/search?nil_suggest=btn&w=news&DA=PGD&cluster=y&q={}&p={}'.format(keyword, page)\n",
    "#     response = request.get(url)\n",
    "    url = 'https://search.daum.net/search?w=news&nil_search=btn&DA=PGD&enc=utf8&cluster=y&cluster_page=1'\n",
    "    params= {'q':keyword, 'p':page}\n",
    "    response = requests.get(url, params=params)\n",
    "    soup = BeautifulSoup(response.text, 'html.parser')\n",
    "    items_find_list = [] # 검색한 결과를 담을 2차원 리스트 ('div.item-title > strong.tit-g > a')\n",
    "    item_titles = soup.find_all('div', class_='item-title')\n",
    "    \n",
    "    for idx, item in enumerate(item_titles):\n",
    "        strong = item.find('strong')\n",
    "        if strong :\n",
    "            a = strong.find('a')\n",
    "            items_find_list.append([(page-1)*10+idx, a.text, a.attrs['href']])\n",
    "            print((page-1)*10+idx, a.text, a['href'])\n",
    "#     return items_find_list"
   ]
  },
  {
   "cell_type": "code",
   "execution_count": 23,
   "id": "6a95890c",
   "metadata": {},
   "outputs": [
    {
     "name": "stdout",
     "output_type": "stream",
     "text": [
      "0  10만 달러 찍은 비트코인 '금' 대체할까···\"내년 20만 달러 가능\"  http://v.daum.net/v/20241209060905864\n",
      "1  10만달러 돌파한 비트코인 내년 말까지 20만달러 돌파한다  http://v.daum.net/v/20241209071337645\n",
      "2  [탄핵 부결] 2차 탄핵 가능성에 놀란 투심… \"비트코인 15만 달러 전망\"  http://v.daum.net/v/20241208112020269\n",
      "3  [굿모닝 마켓] 비트코인, 새 수장 지명에 탄력…다시 10만 달러로  http://v.daum.net/v/20241209081212491\n",
      "4  20만 달러까지 상승? 비트코인 10만 달러 재돌파  http://v.daum.net/v/20241209080336301\n",
      "5  비트코인, 채굴자 매도세에도 1억4100만원대 회복  http://v.daum.net/v/20241209094130683\n",
      "6  10만달러 돌파→재돌파…'트럼프 효과'에 고래도 춤췄다[비트코인 지금]  http://v.daum.net/v/20241209004217086\n",
      "7  엘살바도르 \"비트코인 목표가 3억에서 31억원으로 상향\"[코인브리핑]  http://v.daum.net/v/20241209094403801\n",
      "8  \"이번엔 비트코인이다\"…미·러 패권 전쟁의 시작  http://v.daum.net/v/20241208171901266\n",
      "9  파월 “비트코인은 금의 경쟁자” 비트코인 9.9만달러 돌파(종합)  http://v.daum.net/v/20241205083815879\n"
     ]
    }
   ],
   "source": [
    "collect_list('비트코인',1)"
   ]
  },
  {
   "cell_type": "code",
   "execution_count": 26,
   "id": "d734c62f",
   "metadata": {},
   "outputs": [
    {
     "name": "stdout",
     "output_type": "stream",
     "text": [
      "\n",
      "▒▒▒▒▒▒▒▒▒▒▒▒▒▒▒▒▒▒▒▒▒▒ 청바지검색 결과 입니다 ▒▒▒▒▒▒▒▒▒▒▒▒▒▒▒▒▒▒▒▒▒▒ \n",
      "\n",
      "0  에스파 닝닝, 워너비 청바지 핏..연일 리즈 찍는 비주얼 [스타IN★]  http://v.daum.net/v/20241208001414598\n",
      "1  56세 채시라, 흰티+청바지핏 20대 뺨쳐‥평생이 예쁘네  http://v.daum.net/v/20241205102113139\n",
      "2  힙라인 美쳤다...'골프 여신' 유현주, 청바지 입고 뽐낸 '공격적 뒤태'  http://v.daum.net/v/20241208200005828\n",
      "3  이시영, 얼어죽어도 美! 폭설 속 찢어진 청바지에 돼지코 신발로 시선 강탈!  http://v.daum.net/v/20241127170304793\n",
      "4  56세 채시라, 흰 티에 청바지만 입어도 완벽… '데님 여신' 귀환  http://v.daum.net/v/20241206205810264\n",
      "5  ‘미스쓰리랑’ 김소연, 박상민과 ‘청바지 아가씨’ 즉석 화음  http://v.daum.net/v/20241129012015847\n",
      "6  50대의 흰티·청바지, 채시라 걸그룹 몸매 인증  http://v.daum.net/v/20241206020014186\n",
      "7  서주경, 전성기 파격 패션 “몸매 예뻐 청바지 오픈” (퍼펙트)[결정적장면]  http://v.daum.net/v/20241128060836398\n",
      "8  채시라, 흰티+청바지 완벽 소화…50대 나이 안 믿기는 몸매 [MD★스타]  http://v.daum.net/v/20241206162024306\n",
      "9  크리스탈 ‘청바지에 가디건만 툭 걸쳐도 예쁨 완성’[포토엔HD]  http://v.daum.net/v/20241203100807187\n",
      "10  집에 굴러다니는 청바지 하나로 리사처럼 멋 내는 법  http://v.daum.net/v/20241127172605719\n",
      "11  서주경, 원조 섹시스타? 청바지 골반에 걸치고 당돌했던 패션(퍼펙트 라이프)  http://v.daum.net/v/20241127153650717\n",
      "12  고우리 ‘청바지가 잘 어울려’ [MK포토]  http://v.daum.net/v/20241205164814052\n",
      "13  [ET포토] 베이비몬스터 아현, '셔츠에 청바지면 완벽'  http://v.daum.net/v/20241204153708872\n",
      "14  제주서 청바지에 오리발 낀 시신 발견돼…실종 모터보트 선장 추정 \"확인 중\"  http://v.daum.net/v/20241124142017794\n",
      "15  대구시행복진흥원, 2024 청바지(청년이 바라는 지금 가족) 아카데미 발대식 개최  http://v.daum.net/v/20241109214942252\n",
      "16  미스전남 진 이하정 '청바지가 잘 어울리는 여자' [포토]  http://v.daum.net/v/20241205173202831\n",
      "17  ‘美 언더아머’ 가방에 청바지 입은 北학생… 러시아 유튜버가 포착한 평양의 모습  http://v.daum.net/v/20241129115100297\n",
      "18  김태리, 흰티+청바지 입은 정년이‥시크해도 예쁘네  http://v.daum.net/v/20241106084401512\n",
      "19  [美대선 D-1] 청바지 입은 해리스, 미화원 조끼 걸친 트럼프…패션 필살기는  http://v.daum.net/v/20241104162858090\n",
      "20  해리스는 청바지·트럼프는 미화원 조끼…패션으로 읽는 美 대선  http://v.daum.net/v/20241105233634359\n",
      "21  트럼프의 앞치마 vs 해리스의 청바지…‘서민 소통 상징’으로 패션정치 대결 [박영실의 이미지 브랜딩]  http://v.daum.net/v/20241103060502246\n",
      "22  김지원, 청바지에 숏패딩만 입어도 청순‥입술 쭉 애교는 덤  http://v.daum.net/v/20241120155408078\n",
      "23  가죽재킷·청바지 입은 '힙한' 비올레타가 온다…'라 트라비아타'  http://v.daum.net/v/20241111092157682\n",
      "24  ‘마이큐♥’ 김나영, 애들 없이 청바지만? ‘수영복 벗고 드러난 완벽 핏’  http://v.daum.net/v/20241105104509753\n",
      "25  홍주연 아나 슬리퍼+청바지 출근룩에 엄지인 경악 “업무 방해 돼”(당나귀 귀)  http://v.daum.net/v/20241110175438302\n",
      "26  강지영 ‘청바지 위에 청치마, 유일무이한 청청패션으로 극장 나들이’ [틀린그림찾기]  http://v.daum.net/v/20241115055701333\n",
      "27  ‘청바지 입은 내가 주인공’···순천시 해룡면 청바지 축제 개최  http://v.daum.net/v/20241016164702070\n",
      "28  수영강습 갔던 화성 여대생 주검으로…'정액 묻은 청바지'가 사라졌다  http://v.daum.net/v/20241027053149482\n",
      "29  효민의 패션은 거꾸로 간다! 코트는 ‘이불’, 청바지는 ‘방석’… 빈티지의 반란  http://v.daum.net/v/20241031081804118\n",
      "\n",
      "▒▒▒▒▒▒▒▒▒▒▒▒▒▒▒▒▒▒▒▒▒▒ 닭가슴살검색 결과 입니다 ▒▒▒▒▒▒▒▒▒▒▒▒▒▒▒▒▒▒▒▒▒▒ \n",
      "\n",
      "0  닭가슴살 전문 굽네몰, '연말결산' 프로모션…최대 72% 할인  http://v.daum.net/v/20241209081510567\n",
      "1  ‘대장이 반찬’ 김대호, 이장우 닭가슴살 반찬에 “천재”  http://v.daum.net/v/20241201144503186\n",
      "2  \"닭가슴살 '단백질' 믿고 주문했는데…\" 배신 당한 다이어터들  http://v.daum.net/v/20240926092302756\n",
      "3  허경환, 27억 사기 피해…\"닭가슴살 사업 때, 이후로 사람 안 믿어\"  http://v.daum.net/v/20241126055714368\n",
      "4  허닭, 프로야구 전준우 선수 닭가슴살 협찬  http://v.daum.net/v/20241118114700286\n",
      "5  아들조차 외면한 정지선 셰프의 닭가슴살 요리…백종원 “엄마가 정지선인데!” 경악  http://v.daum.net/v/20241108222401781\n",
      "6  사조대림, 촉촉한 양념 닭가슴살 ‘소스에 퐁닭’ 3종 출시  http://v.daum.net/v/20241129091231041\n",
      "7  굽네몰, ‘2024년 연말결산 특가’ 통해 최대 72% 할인  http://v.daum.net/v/20241209090017767\n",
      "8  고소영, 직접 만든 '이 음식' 공개… 살 뺄 땐 먹지 말아야?  http://v.daum.net/v/20241208070329929\n",
      "9  동원홈푸드, 저당 닭가슴살 브리또·쌈장소스 등 4종 출시  http://v.daum.net/v/20241101160017021\n",
      "10  배다해, '이 시술'로 체중 많이 늘어...\"4kg 살 빼야 한다\", 왜?  http://v.daum.net/v/20241208161854863\n",
      "11  “이번엔 닭가슴살 레시피?” 최화정, 고기쌈에 ‘이것’ 곁들인다… 뭐길래?  http://v.daum.net/v/20241015000329588\n",
      "12  닭 가슴살에 매운 ‘이것’ 곁들이면, 다이어트 효과 상승!  http://v.daum.net/v/20241012220729064\n",
      "13  국내 최초 `꼬기다` 스틱 닭가슴살, 출시 두 달 만에 200만 개 완판! 건강한 간편식 시장의 새로운 강자  http://v.daum.net/v/20241025111217129\n",
      "14  “다이어트 위해” 혜리, 시상식 앞두고 ‘이 음식’만 먹어… 뭔가 보니?  http://v.daum.net/v/20241209101611345\n",
      "15  한소희, 42kg 가녀린 몸 비결?…닭가슴살 ‘이렇게’ 먹는다  http://v.daum.net/v/20241001200057813\n",
      "16  소유 “살 찐 내 몸 더럽다 느껴”→화사 “약 먹고 허벅지살 빼”..걸그룹 고충[Oh!쎈 이슈]  http://v.daum.net/v/20241130151717861\n",
      "17  “‘이렇게’ 먹으면 살 빠진다” 전효성, 다이어트 식단 대공개… 뭐 먹나 보니?  http://v.daum.net/v/20241122000130881\n",
      "18  “닭도 부위별로 즐긴다” 홈플러스,닭고기 부분육 매출 최대30% 껑충  http://v.daum.net/v/20241126082933710\n",
      "19  \"많이 먹어서 살쪘다\"…제이제이, 속옷 입고 62㎏ 몸매 인증  http://v.daum.net/v/20241203040018342\n",
      "20  \"닭가슴살보다 높은 단백질 함량\" 빙그레, '프로틴 치즈' 신제품 공개  http://v.daum.net/v/20241017091812646\n",
      "21  달걀, 삶은 닭고기 꾸준히 먹었더니... 뇌 신경-인지 기능에 변화가?  http://v.daum.net/v/20241119190128434\n",
      "22  다시 살찐 스윙스, \"다이어트 시작\" 밝혀… 직접 공개한 식단 보니?  http://v.daum.net/v/20241120141048522\n",
      "23  미 육류회사, 리스테리아균 발견 닭가슴살 등 무려 5천톤 리콜(종합)  http://v.daum.net/v/20241011065535513\n",
      "24  닭가슴살 들기름 메밀김밥 1위... 편의점 식재료 활용한 건강 레시피  http://v.daum.net/v/20241015085320023\n",
      "25  닭고기 부분육 수요↑…홈플러스, '순살 닭다리살' 구이 제품 출시  http://v.daum.net/v/20241126090420693\n",
      "26  ‘실내 공기 오염 최소’ 조리 기구, 실험으로 찾아보니… [건강한겨레]  http://v.daum.net/v/20241206090519564\n",
      "27  [Y터뷰] 배현성 \"'조립식 가족' 위해 사투리·농구 연습…여운 많이 남아요\"  http://v.daum.net/v/20241207080421527\n",
      "28  ‘대장이 반찬’ 김대호X이장우, 도파민 터지는 반찬기행  http://v.daum.net/v/20241202091502205\n",
      "29  “한 달에 평균 3kg 감량… 혈당만 관리해도 살은 저절로 빠져”[허진석의 톡톡 스타트업]  http://v.daum.net/v/20241207030403803\n"
     ]
    }
   ],
   "source": [
    "import time\n",
    "keywords=['청바지','닭가슴살']\n",
    "pages = 3\n",
    "for keyword in keywords:\n",
    "    print(f'\\n▒▒▒▒▒▒▒▒▒▒▒▒▒▒▒▒▒▒▒▒▒▒ {keyword}검색 결과 입니다 ▒▒▒▒▒▒▒▒▒▒▒▒▒▒▒▒▒▒▒▒▒▒ \\n') # 앞에 f를 쓰고 {안에 변수} 그럼 format하고 같은 결과\n",
    "    for page in range(1, pages+1):\n",
    "        collect_list(keyword, page)\n",
    "        time.sleep(2) # 2초 잠시 쉼 (락이 걸릴수 있기 때문에 쉬는 시간 텀을 만듬)"
   ]
  },
  {
   "cell_type": "code",
   "execution_count": 78,
   "id": "a828a6c7",
   "metadata": {},
   "outputs": [],
   "source": [
    "# 다음검색(원하는 키워드를 원하는 페이지 수)\n",
    "import requests\n",
    "from bs4 import BeautifulSoup\n",
    "import time\n",
    "import pandas as pd\n",
    "\n",
    "# 검색한 결과를 list로 받아 return하는 함수\n",
    "def collect_list_return(keyword, page):\n",
    "    'keyword로 page에 다음검색한 결과를 출력 '\n",
    "    # url = 'https://search.daum.net/search?w=news&nil_search=btn&DA=PGD&enc=utf8&cluster=y&q={}&p={}'.format(keyword, page)\n",
    "    # response = requests.get(url)\n",
    "    url = 'https://search.daum.net/search?w=news&nil_search=btn&DA=PGD&enc=utf8&cluster=y'\n",
    "    params = {'q':keyword, 'p':page}\n",
    "    response = requests.get(url, params=params)\n",
    "    soup = BeautifulSoup(response.text, \"html.parser\")\n",
    "    items_find_list = []  # 검색한 결과를 담을 2차원 리스트(div.item-title > strong.tit-g > a)\n",
    "    item_titles = soup.find_all('div', class_='item-title')\n",
    "\n",
    "    for idx, item in enumerate(item_titles):\n",
    "        strong = item.find('strong')\n",
    "        if strong:  # None이 아니면\n",
    "            a = strong.find('a')\n",
    "            items_find_list.append([(page-1)*10+idx, a.text, a.attrs['href']])  # 방법1 리스트\n",
    "            # items_find_list.append({'no' : (page-1)*10+idx,'title' : a.text,'link' : a['href']})  # 방법2 딕셔너리\n",
    "            #                      페이지 수가 0부터 시작하므로 0~9, 다음은 10~ 순으로 나오기 위해\n",
    "            # print((page-1)*10+idx, a.text, a.attrs['href'])\n",
    "            # if idx == 9:\n",
    "            #     print(page, '페이지 완료')\n",
    "    return items_find_list"
   ]
  },
  {
   "cell_type": "code",
   "execution_count": 79,
   "id": "29201879",
   "metadata": {},
   "outputs": [
    {
     "data": {
      "text/html": [
       "<div>\n",
       "<style scoped>\n",
       "    .dataframe tbody tr th:only-of-type {\n",
       "        vertical-align: middle;\n",
       "    }\n",
       "\n",
       "    .dataframe tbody tr th {\n",
       "        vertical-align: top;\n",
       "    }\n",
       "\n",
       "    .dataframe thead th {\n",
       "        text-align: right;\n",
       "    }\n",
       "</style>\n",
       "<table border=\"1\" class=\"dataframe\">\n",
       "  <thead>\n",
       "    <tr style=\"text-align: right;\">\n",
       "      <th></th>\n",
       "      <th>no</th>\n",
       "      <th>title</th>\n",
       "      <th>link</th>\n",
       "    </tr>\n",
       "  </thead>\n",
       "  <tbody>\n",
       "    <tr>\n",
       "      <th>0</th>\n",
       "      <td>60</td>\n",
       "      <td>누구나홀딱반한닭, 간편한 한 끼 '그릴드 현미 주먹밥' 8종 출시</td>\n",
       "      <td>http://v.daum.net/v/20241118085808933</td>\n",
       "    </tr>\n",
       "    <tr>\n",
       "      <th>1</th>\n",
       "      <td>61</td>\n",
       "      <td>'우울증' 김승수·'27억 사기' 허경환, 결국 정신 상담..母 충격 [미우새] ...</td>\n",
       "      <td>http://v.daum.net/v/20241201220515299</td>\n",
       "    </tr>\n",
       "    <tr>\n",
       "      <th>2</th>\n",
       "      <td>62</td>\n",
       "      <td>하지원, '대장이 반찬' 최종회서 '하간귀' 등극! \"오랜만에 요리열정 불태워\"</td>\n",
       "      <td>http://v.daum.net/v/20241202110743362</td>\n",
       "    </tr>\n",
       "    <tr>\n",
       "      <th>3</th>\n",
       "      <td>63</td>\n",
       "      <td>[신상잇슈] 대상, '호밍스 갈비탕'·배스킨라빈스 크리스마스 케이크</td>\n",
       "      <td>http://v.daum.net/v/20241130070033615</td>\n",
       "    </tr>\n",
       "    <tr>\n",
       "      <th>4</th>\n",
       "      <td>64</td>\n",
       "      <td>푸드나무 랭킹닭컴, 반려견 전용 냉동 닭가슴살 ‘너혼자멍냥’ 출시</td>\n",
       "      <td>http://v.daum.net/v/20240909162048278</td>\n",
       "    </tr>\n",
       "    <tr>\n",
       "      <th>5</th>\n",
       "      <td>65</td>\n",
       "      <td>\"구독자 10~20kg 감량 도왔다\"… 운동 크리에이터 심으뜸, 절대 '이건' 하...</td>\n",
       "      <td>http://v.daum.net/v/20241128230030841</td>\n",
       "    </tr>\n",
       "    <tr>\n",
       "      <th>6</th>\n",
       "      <td>66</td>\n",
       "      <td>“재혼한 줄” 120kg→70kg…영양사 남편의 다이어트 비결</td>\n",
       "      <td>http://v.daum.net/v/20241130060102210</td>\n",
       "    </tr>\n",
       "    <tr>\n",
       "      <th>7</th>\n",
       "      <td>67</td>\n",
       "      <td>\"다이어트에 좋아\"… 소율, 상큼한 '이 음식' 만드는 법 소개</td>\n",
       "      <td>http://v.daum.net/v/20241125132117311</td>\n",
       "    </tr>\n",
       "    <tr>\n",
       "      <th>8</th>\n",
       "      <td>68</td>\n",
       "      <td>하지원 ‘대장이 반찬’ 피날레 장식···‘하간귀’ 등극</td>\n",
       "      <td>http://v.daum.net/v/20241202080816547</td>\n",
       "    </tr>\n",
       "    <tr>\n",
       "      <th>9</th>\n",
       "      <td>69</td>\n",
       "      <td>\"한 달에 많게는 7kg 뺀다\" 오마이걸 승희… 다이어트할 땐 '이 음식'만 먹는다?</td>\n",
       "      <td>http://v.daum.net/v/20241129134046160</td>\n",
       "    </tr>\n",
       "  </tbody>\n",
       "</table>\n",
       "</div>"
      ],
      "text/plain": [
       "   no                                              title  \\\n",
       "0  60              누구나홀딱반한닭, 간편한 한 끼 '그릴드 현미 주먹밥' 8종 출시    \n",
       "1  61   '우울증' 김승수·'27억 사기' 허경환, 결국 정신 상담..母 충격 [미우새] ...   \n",
       "2  62      하지원, '대장이 반찬' 최종회서 '하간귀' 등극! \"오랜만에 요리열정 불태워\"    \n",
       "3  63             [신상잇슈] 대상, '호밍스 갈비탕'·배스킨라빈스 크리스마스 케이크    \n",
       "4  64              푸드나무 랭킹닭컴, 반려견 전용 냉동 닭가슴살 ‘너혼자멍냥’ 출시    \n",
       "5  65   \"구독자 10~20kg 감량 도왔다\"… 운동 크리에이터 심으뜸, 절대 '이건' 하...   \n",
       "6  66                “재혼한 줄” 120kg→70kg…영양사 남편의 다이어트 비결    \n",
       "7  67               \"다이어트에 좋아\"… 소율, 상큼한 '이 음식' 만드는 법 소개    \n",
       "8  68                    하지원 ‘대장이 반찬’ 피날레 장식···‘하간귀’ 등극    \n",
       "9  69   \"한 달에 많게는 7kg 뺀다\" 오마이걸 승희… 다이어트할 땐 '이 음식'만 먹는다?    \n",
       "\n",
       "                                    link  \n",
       "0  http://v.daum.net/v/20241118085808933  \n",
       "1  http://v.daum.net/v/20241201220515299  \n",
       "2  http://v.daum.net/v/20241202110743362  \n",
       "3  http://v.daum.net/v/20241130070033615  \n",
       "4  http://v.daum.net/v/20240909162048278  \n",
       "5  http://v.daum.net/v/20241128230030841  \n",
       "6  http://v.daum.net/v/20241130060102210  \n",
       "7  http://v.daum.net/v/20241125132117311  \n",
       "8  http://v.daum.net/v/20241202080816547  \n",
       "9  http://v.daum.net/v/20241129134046160  "
      ]
     },
     "execution_count": 79,
     "metadata": {},
     "output_type": "execute_result"
    }
   ],
   "source": [
    "import pandas as pd\n",
    "pd.DataFrame(collect_list_return('닭가슴살',7), \n",
    "            columns = ['no', 'title', 'link']\n",
    "            )"
   ]
  },
  {
   "cell_type": "code",
   "execution_count": 80,
   "id": "5042cfa0",
   "metadata": {},
   "outputs": [
    {
     "name": "stdout",
     "output_type": "stream",
     "text": [
      "========== 1번째 검색어 청바지 검색 결과 수집 중 입니다 ==========\n",
      "========== 2번째 검색어 닭가슴살 검색 결과 수집 중 입니다 ==========\n"
     ]
    }
   ],
   "source": [
    "keywords = ['청바지', '닭가슴살']\n",
    "result0 = []  # 청바지 1~pages 페이지까지 검색 결과를 담을 list\n",
    "result1 = []  # 닭가슴살 1~pages 페이지까지 검색 결과를 담을 list\n",
    "pages = 3\n",
    "for i, keyword in enumerate(keywords):\n",
    "    print(f'========== {i+1}번째 검색어 {keyword} 검색 결과 수집 중 입니다 ==========')\n",
    "    for page in range(1, pages+1):\n",
    "        # print(page)\n",
    "        if i == 0:  # 청바지이면(i의 0번째 키워드가 '청바지')\n",
    "            result0.extend(collect_list_return(keyword, page))\n",
    "        elif i == 1:\n",
    "            result1.extend(collect_list_return(keyword, page))"
   ]
  },
  {
   "cell_type": "code",
   "execution_count": 81,
   "id": "5bab2a41",
   "metadata": {},
   "outputs": [
    {
     "data": {
      "text/html": [
       "<div>\n",
       "<style scoped>\n",
       "    .dataframe tbody tr th:only-of-type {\n",
       "        vertical-align: middle;\n",
       "    }\n",
       "\n",
       "    .dataframe tbody tr th {\n",
       "        vertical-align: top;\n",
       "    }\n",
       "\n",
       "    .dataframe thead th {\n",
       "        text-align: right;\n",
       "    }\n",
       "</style>\n",
       "<table border=\"1\" class=\"dataframe\">\n",
       "  <thead>\n",
       "    <tr style=\"text-align: right;\">\n",
       "      <th></th>\n",
       "      <th>번호</th>\n",
       "      <th>제목</th>\n",
       "      <th>링크</th>\n",
       "    </tr>\n",
       "  </thead>\n",
       "  <tbody>\n",
       "    <tr>\n",
       "      <th>0</th>\n",
       "      <td>0</td>\n",
       "      <td>닭가슴살 전문 굽네몰, '연말결산' 프로모션…최대 72% 할인</td>\n",
       "      <td>http://v.daum.net/v/20241209081510567</td>\n",
       "    </tr>\n",
       "    <tr>\n",
       "      <th>1</th>\n",
       "      <td>1</td>\n",
       "      <td>‘대장이 반찬’ 김대호, 이장우 닭가슴살 반찬에 “천재”</td>\n",
       "      <td>http://v.daum.net/v/20241201144503186</td>\n",
       "    </tr>\n",
       "    <tr>\n",
       "      <th>2</th>\n",
       "      <td>2</td>\n",
       "      <td>\"닭가슴살 '단백질' 믿고 주문했는데…\" 배신 당한 다이어터들</td>\n",
       "      <td>http://v.daum.net/v/20240926092302756</td>\n",
       "    </tr>\n",
       "    <tr>\n",
       "      <th>3</th>\n",
       "      <td>3</td>\n",
       "      <td>허경환, 27억 사기 피해…\"닭가슴살 사업 때, 이후로 사람 안 믿어\"</td>\n",
       "      <td>http://v.daum.net/v/20241126055714368</td>\n",
       "    </tr>\n",
       "    <tr>\n",
       "      <th>4</th>\n",
       "      <td>4</td>\n",
       "      <td>허닭, 프로야구 전준우 선수 닭가슴살 협찬</td>\n",
       "      <td>http://v.daum.net/v/20241118114700286</td>\n",
       "    </tr>\n",
       "  </tbody>\n",
       "</table>\n",
       "</div>"
      ],
      "text/plain": [
       "   번호                                         제목  \\\n",
       "0   0        닭가슴살 전문 굽네몰, '연말결산' 프로모션…최대 72% 할인    \n",
       "1   1           ‘대장이 반찬’ 김대호, 이장우 닭가슴살 반찬에 “천재”    \n",
       "2   2        \"닭가슴살 '단백질' 믿고 주문했는데…\" 배신 당한 다이어터들    \n",
       "3   3   허경환, 27억 사기 피해…\"닭가슴살 사업 때, 이후로 사람 안 믿어\"    \n",
       "4   4                   허닭, 프로야구 전준우 선수 닭가슴살 협찬    \n",
       "\n",
       "                                      링크  \n",
       "0  http://v.daum.net/v/20241209081510567  \n",
       "1  http://v.daum.net/v/20241201144503186  \n",
       "2  http://v.daum.net/v/20240926092302756  \n",
       "3  http://v.daum.net/v/20241126055714368  \n",
       "4  http://v.daum.net/v/20241118114700286  "
      ]
     },
     "execution_count": 81,
     "metadata": {},
     "output_type": "execute_result"
    }
   ],
   "source": [
    "result0_df = pd.DataFrame(result0, columns=['no', 'title', 'link'])\n",
    "result1_df = pd.DataFrame(result1, columns=['번호', '제목', '링크'])\n",
    "result1_df.head()"
   ]
  },
  {
   "cell_type": "code",
   "execution_count": 82,
   "id": "e3ec4227",
   "metadata": {},
   "outputs": [],
   "source": [
    "result0_df.to_csv('data/ch14_' + keywords[0] + '.csv', index=False) # data폴더안에 ch14_ keywords이름으로 저장됨\n",
    "result1_df.to_csv('data/ch14_' + keywords[1] + '.csv', index=False)"
   ]
  },
  {
   "cell_type": "markdown",
   "id": "a829dcd9",
   "metadata": {},
   "source": [
    "### 4) User-Agent를 추가하여 크롤링\n",
    "- 크롤링을 막는 사이트\n",
    "- https://www.melon.com/robots.txt에서 일부 경로에서 User-Agent에 봇이 지정"
   ]
  },
  {
   "cell_type": "code",
   "execution_count": 85,
   "id": "dc253ca8",
   "metadata": {
    "collapsed": true
   },
   "outputs": [
    {
     "ename": "HTTPError",
     "evalue": "HTTP Error 406: Not Acceptable",
     "output_type": "error",
     "traceback": [
      "\u001b[1;31m---------------------------------------------------------------------------\u001b[0m",
      "\u001b[1;31mHTTPError\u001b[0m                                 Traceback (most recent call last)",
      "Cell \u001b[1;32mIn[85], line 5\u001b[0m\n\u001b[0;32m      3\u001b[0m \u001b[38;5;28;01mfrom\u001b[39;00m \u001b[38;5;21;01mbs4\u001b[39;00m \u001b[38;5;28;01mimport\u001b[39;00m BeautifulSoup\n\u001b[0;32m      4\u001b[0m url \u001b[38;5;241m=\u001b[39m \u001b[38;5;124m'\u001b[39m\u001b[38;5;124mhttps://www.melon.com/chart/\u001b[39m\u001b[38;5;124m'\u001b[39m\n\u001b[1;32m----> 5\u001b[0m melonpage \u001b[38;5;241m=\u001b[39m \u001b[43murlopen\u001b[49m\u001b[43m(\u001b[49m\u001b[43murl\u001b[49m\u001b[43m)\u001b[49m\n",
      "File \u001b[1;32m~\\anaconda3\\lib\\urllib\\request.py:216\u001b[0m, in \u001b[0;36murlopen\u001b[1;34m(url, data, timeout, cafile, capath, cadefault, context)\u001b[0m\n\u001b[0;32m    214\u001b[0m \u001b[38;5;28;01melse\u001b[39;00m:\n\u001b[0;32m    215\u001b[0m     opener \u001b[38;5;241m=\u001b[39m _opener\n\u001b[1;32m--> 216\u001b[0m \u001b[38;5;28;01mreturn\u001b[39;00m \u001b[43mopener\u001b[49m\u001b[38;5;241;43m.\u001b[39;49m\u001b[43mopen\u001b[49m\u001b[43m(\u001b[49m\u001b[43murl\u001b[49m\u001b[43m,\u001b[49m\u001b[43m \u001b[49m\u001b[43mdata\u001b[49m\u001b[43m,\u001b[49m\u001b[43m \u001b[49m\u001b[43mtimeout\u001b[49m\u001b[43m)\u001b[49m\n",
      "File \u001b[1;32m~\\anaconda3\\lib\\urllib\\request.py:525\u001b[0m, in \u001b[0;36mOpenerDirector.open\u001b[1;34m(self, fullurl, data, timeout)\u001b[0m\n\u001b[0;32m    523\u001b[0m \u001b[38;5;28;01mfor\u001b[39;00m processor \u001b[38;5;129;01min\u001b[39;00m \u001b[38;5;28mself\u001b[39m\u001b[38;5;241m.\u001b[39mprocess_response\u001b[38;5;241m.\u001b[39mget(protocol, []):\n\u001b[0;32m    524\u001b[0m     meth \u001b[38;5;241m=\u001b[39m \u001b[38;5;28mgetattr\u001b[39m(processor, meth_name)\n\u001b[1;32m--> 525\u001b[0m     response \u001b[38;5;241m=\u001b[39m \u001b[43mmeth\u001b[49m\u001b[43m(\u001b[49m\u001b[43mreq\u001b[49m\u001b[43m,\u001b[49m\u001b[43m \u001b[49m\u001b[43mresponse\u001b[49m\u001b[43m)\u001b[49m\n\u001b[0;32m    527\u001b[0m \u001b[38;5;28;01mreturn\u001b[39;00m response\n",
      "File \u001b[1;32m~\\anaconda3\\lib\\urllib\\request.py:634\u001b[0m, in \u001b[0;36mHTTPErrorProcessor.http_response\u001b[1;34m(self, request, response)\u001b[0m\n\u001b[0;32m    631\u001b[0m \u001b[38;5;66;03m# According to RFC 2616, \"2xx\" code indicates that the client's\u001b[39;00m\n\u001b[0;32m    632\u001b[0m \u001b[38;5;66;03m# request was successfully received, understood, and accepted.\u001b[39;00m\n\u001b[0;32m    633\u001b[0m \u001b[38;5;28;01mif\u001b[39;00m \u001b[38;5;129;01mnot\u001b[39;00m (\u001b[38;5;241m200\u001b[39m \u001b[38;5;241m<\u001b[39m\u001b[38;5;241m=\u001b[39m code \u001b[38;5;241m<\u001b[39m \u001b[38;5;241m300\u001b[39m):\n\u001b[1;32m--> 634\u001b[0m     response \u001b[38;5;241m=\u001b[39m \u001b[38;5;28;43mself\u001b[39;49m\u001b[38;5;241;43m.\u001b[39;49m\u001b[43mparent\u001b[49m\u001b[38;5;241;43m.\u001b[39;49m\u001b[43merror\u001b[49m\u001b[43m(\u001b[49m\n\u001b[0;32m    635\u001b[0m \u001b[43m        \u001b[49m\u001b[38;5;124;43m'\u001b[39;49m\u001b[38;5;124;43mhttp\u001b[39;49m\u001b[38;5;124;43m'\u001b[39;49m\u001b[43m,\u001b[49m\u001b[43m \u001b[49m\u001b[43mrequest\u001b[49m\u001b[43m,\u001b[49m\u001b[43m \u001b[49m\u001b[43mresponse\u001b[49m\u001b[43m,\u001b[49m\u001b[43m \u001b[49m\u001b[43mcode\u001b[49m\u001b[43m,\u001b[49m\u001b[43m \u001b[49m\u001b[43mmsg\u001b[49m\u001b[43m,\u001b[49m\u001b[43m \u001b[49m\u001b[43mhdrs\u001b[49m\u001b[43m)\u001b[49m\n\u001b[0;32m    637\u001b[0m \u001b[38;5;28;01mreturn\u001b[39;00m response\n",
      "File \u001b[1;32m~\\anaconda3\\lib\\urllib\\request.py:563\u001b[0m, in \u001b[0;36mOpenerDirector.error\u001b[1;34m(self, proto, *args)\u001b[0m\n\u001b[0;32m    561\u001b[0m \u001b[38;5;28;01mif\u001b[39;00m http_err:\n\u001b[0;32m    562\u001b[0m     args \u001b[38;5;241m=\u001b[39m (\u001b[38;5;28mdict\u001b[39m, \u001b[38;5;124m'\u001b[39m\u001b[38;5;124mdefault\u001b[39m\u001b[38;5;124m'\u001b[39m, \u001b[38;5;124m'\u001b[39m\u001b[38;5;124mhttp_error_default\u001b[39m\u001b[38;5;124m'\u001b[39m) \u001b[38;5;241m+\u001b[39m orig_args\n\u001b[1;32m--> 563\u001b[0m     \u001b[38;5;28;01mreturn\u001b[39;00m \u001b[38;5;28;43mself\u001b[39;49m\u001b[38;5;241;43m.\u001b[39;49m\u001b[43m_call_chain\u001b[49m\u001b[43m(\u001b[49m\u001b[38;5;241;43m*\u001b[39;49m\u001b[43margs\u001b[49m\u001b[43m)\u001b[49m\n",
      "File \u001b[1;32m~\\anaconda3\\lib\\urllib\\request.py:496\u001b[0m, in \u001b[0;36mOpenerDirector._call_chain\u001b[1;34m(self, chain, kind, meth_name, *args)\u001b[0m\n\u001b[0;32m    494\u001b[0m \u001b[38;5;28;01mfor\u001b[39;00m handler \u001b[38;5;129;01min\u001b[39;00m handlers:\n\u001b[0;32m    495\u001b[0m     func \u001b[38;5;241m=\u001b[39m \u001b[38;5;28mgetattr\u001b[39m(handler, meth_name)\n\u001b[1;32m--> 496\u001b[0m     result \u001b[38;5;241m=\u001b[39m \u001b[43mfunc\u001b[49m\u001b[43m(\u001b[49m\u001b[38;5;241;43m*\u001b[39;49m\u001b[43margs\u001b[49m\u001b[43m)\u001b[49m\n\u001b[0;32m    497\u001b[0m     \u001b[38;5;28;01mif\u001b[39;00m result \u001b[38;5;129;01mis\u001b[39;00m \u001b[38;5;129;01mnot\u001b[39;00m \u001b[38;5;28;01mNone\u001b[39;00m:\n\u001b[0;32m    498\u001b[0m         \u001b[38;5;28;01mreturn\u001b[39;00m result\n",
      "File \u001b[1;32m~\\anaconda3\\lib\\urllib\\request.py:643\u001b[0m, in \u001b[0;36mHTTPDefaultErrorHandler.http_error_default\u001b[1;34m(self, req, fp, code, msg, hdrs)\u001b[0m\n\u001b[0;32m    642\u001b[0m \u001b[38;5;28;01mdef\u001b[39;00m \u001b[38;5;21mhttp_error_default\u001b[39m(\u001b[38;5;28mself\u001b[39m, req, fp, code, msg, hdrs):\n\u001b[1;32m--> 643\u001b[0m     \u001b[38;5;28;01mraise\u001b[39;00m HTTPError(req\u001b[38;5;241m.\u001b[39mfull_url, code, msg, hdrs, fp)\n",
      "\u001b[1;31mHTTPError\u001b[0m: HTTP Error 406: Not Acceptable"
     ]
    }
   ],
   "source": [
    "# 방법1\n",
    "from urllib.request import urlopen\n",
    "from bs4 import BeautifulSoup\n",
    "url = 'https://www.melon.com/chart/'\n",
    "# melonpage = urlopen(url) 에러남"
   ]
  },
  {
   "cell_type": "code",
   "execution_count": 89,
   "id": "6d1f68bd",
   "metadata": {},
   "outputs": [
    {
     "data": {
      "text/plain": [
       "<Response [406]>"
      ]
     },
     "execution_count": 89,
     "metadata": {},
     "output_type": "execute_result"
    }
   ],
   "source": [
    "# 방법2\n",
    "import requests\n",
    "from bs4 import BeautifulSoup\n",
    "url = 'https://www.melon.com/chart/'\n",
    "melonpage = requests.get(url)\n",
    "melonpage\n",
    "# soup = BeautifulSoup(melonpage.text, \"html.parser\")\n",
    "# soup"
   ]
  },
  {
   "cell_type": "code",
   "execution_count": 105,
   "id": "e003b64e",
   "metadata": {},
   "outputs": [
    {
     "name": "stdout",
     "output_type": "stream",
     "text": [
      "1위 | HOME SWEET HOME (feat. 태양, 대성)-G-DRAGON\n",
      "2위 | APT.-로제 (ROSÉ), Bruno Mars\n",
      "3위 | Whiplash-aespa\n",
      "4위 | POWER-G-DRAGON\n",
      "5위 | 나는 반딧불-황가람\n",
      "6위 | HAPPY-DAY6 (데이식스)\n",
      "7위 | 첫 눈-EXO\n",
      "8위 | UP (KARINA Solo)-aespa\n",
      "9위 | 내 이름 맑음-QWER\n",
      "10위 | 내게 사랑이 뭐냐고 물어본다면-로이킴\n",
      "11위 | toxic till the end-로제 (ROSÉ)\n",
      "12위 | Welcome to the Show-DAY6 (데이식스)\n",
      "13위 | Mantra-제니 (JENNIE)\n",
      "14위 | 사랑은 늘 도망가-임영웅\n",
      "15위 | Supernova-aespa\n",
      "16위 | 소나기-이클립스 (ECLIPSE)\n",
      "17위 | Pump Up The Volume!-PLAVE\n",
      "18위 | WAY 4 LUV-PLAVE\n",
      "19위 | 너와의 모든 지금-재쓰비 (JAESSBEE)\n",
      "20위 | 한 페이지가 될 수 있게-DAY6 (데이식스)\n",
      "21위 | 우리들의 블루스-임영웅\n",
      "22위 | 어떻게 이별까지 사랑하겠어, 널 사랑하는 거지-AKMU (악뮤)\n",
      "23위 | 온기-임영웅\n",
      "24위 | 천상연-이창섭\n",
      "25위 | Home-임영웅\n",
      "26위 | 슬픈 초대장-순순희(지환)\n",
      "27위 | Drowning-WOODZ\n",
      "28위 | 모래 알갱이-임영웅\n",
      "29위 | 고민중독-QWER\n",
      "30위 | 우리 영화-PLAVE\n",
      "31위 | 예뻤어-DAY6 (데이식스)\n",
      "32위 | 다시 만날 수 있을까-임영웅\n",
      "33위 | number one girl-로제 (ROSÉ)\n",
      "34위 | From-PLAVE\n",
      "35위 | Supersonic-프로미스나인\n",
      "36위 | Love wins all-아이유\n",
      "37위 | How Sweet-NewJeans\n",
      "38위 | 이제 나만 믿어요-임영웅\n",
      "39위 | Do or Die-임영웅\n",
      "40위 | Small girl (feat. 도경수(D.O.))-이영지\n",
      "41위 | All I Want for Christmas Is You-Mariah Carey\n",
      "42위 | 무지개-임영웅\n",
      "43위 | 첫 만남은 계획대로 되지 않아-TWS (투어스)\n",
      "44위 | London Boy-임영웅\n",
      "45위 | Watch Me Woo!-PLAVE\n",
      "46위 | Polaroid-임영웅\n",
      "47위 | 나는 아픈 건 딱 질색이니까-(여자)아이들\n",
      "48위 | 녹아내려요-DAY6 (데이식스)\n",
      "49위 | 인생찬가-임영웅\n",
      "50위 | 버추얼 아이돌-PLAVE\n",
      "51위 | Merry PLLIstmas-PLAVE\n",
      "52위 | 너의 모든 순간-성시경\n",
      "53위 | 그대만 있다면 (여름날 우리 X 너드커넥션 (Nerd Connection))-너드커넥션 (Nerd Connection)\n",
      "54위 | 연애편지-임영웅\n",
      "55위 | Ditto-NewJeans\n",
      "56위 | Igloo-KISS OF LIFE\n",
      "57위 | 에피소드-이무진\n",
      "58위 | 클락션 (Klaxon)-(여자)아이들\n",
      "59위 | Santa Tell Me-Ariana Grande\n",
      "60위 | 비의 랩소디-임재현\n",
      "61위 | Magnetic-아일릿(ILLIT)\n",
      "62위 | 눈이 오잖아(Feat.헤이즈)-이무진\n",
      "63위 | 헤어지자 말해요-박재정\n",
      "64위 | Armageddon-aespa\n",
      "65위 | 보금자리-임영웅\n",
      "66위 | 미안해 미워해 사랑해-Crush\n",
      "67위 | 주저하는 연인들을 위해-잔나비\n",
      "68위 | Seven (feat. Latto) - Clean Ver.-정국\n",
      "69위 | Supernatural-NewJeans\n",
      "70위 | 청춘만화-이무진\n",
      "71위 | 무제(無題) (Untitled, 2014)-G-DRAGON\n",
      "72위 | Sticky-KISS OF LIFE\n",
      "73위 | Love 119-RIIZE\n",
      "74위 | 모든 날, 모든 순간 (Every day, Every Moment)-폴킴\n",
      "75위 | 미리 메리 크리스마스 (Feat. 천둥 Of MBLAQ)-아이유\n",
      "76위 | 인사-범진\n",
      "77위 | 다정히 내 이름을 부르면-경서예지, 전건호\n",
      "78위 | DRIP-BABYMONSTER\n",
      "79위 | Snowman-Sia\n",
      "80위 | 청혼하지 않을 이유를 못 찾았어-이무진\n",
      "81위 | Hype Boy-NewJeans\n",
      "82위 | SPOT! (feat. JENNIE)-지코 (ZICO)\n",
      "83위 | I AM-IVE (아이브)\n",
      "84위 | 해야 (HEYA)-IVE (아이브)\n",
      "85위 | 네모네모-YENA (최예나)\n",
      "86위 | 사랑인가 봐-멜로망스\n",
      "87위 | Cherish (My Love)-아일릿(ILLIT)\n",
      "88위 | Congratulations-DAY6 (데이식스)\n",
      "89위 | To. X-태연 (TAEYEON)\n",
      "90위 | 봄날-방탄소년단\n",
      "91위 | Bubble Gum-NewJeans\n",
      "92위 | 취중고백-김민석\n",
      "93위 | Dynamite-방탄소년단\n",
      "94위 | 사건의 지평선-윤하 (YOUNHA)\n",
      "95위 | Boom Boom Bass-RIIZE\n",
      "96위 | 크리스마스니까-성시경, 박효신, 이석훈, 서인국, VIXX (빅스)\n",
      "97위 | 사막에서 꽃을 피우듯-우디 (Woody)\n",
      "98위 | Drama-aespa\n",
      "99위 | Letter To Myself-태연 (TAEYEON)\n",
      "100위 | LOVE, MONEY, FAME (feat. DJ Khaled)-세븐틴 (SEVENTEEN)\n"
     ]
    }
   ],
   "source": [
    "# User-Agent를 추가\n",
    "import requests\n",
    "from bs4 import BeautifulSoup\n",
    "url = 'https://www.melon.com/chart/'\n",
    "headers = {'user-agent':'Mozilla/5.0 (Windows NT 10.0; Win64; x64) AppleWebKit/537.36 (KHTML, like Gecko) Chrome/131.0.0.0 Safari/537.36'}\n",
    "melonpage = requests.get(url, headers=headers)\n",
    "# melonpage\n",
    "soup = BeautifulSoup(melonpage.text, #melonpage.content,\n",
    "                    \"html.parser\")\n",
    "title_els = soup.select('div.ellipsis.rank01 > span')\n",
    "# divels = soup.find('div', class_='rank01')\n",
    "singer_els = soup.select('div.ellipsis.rank02 > span.checkEllipsis')\n",
    "# [s.text for s in singer_els]\n",
    "# [t.text.strip() for t in title_els]\n",
    "# 1위 : HOME SWEET HOME (feat. 태양, 대성) | 지드레곤\n",
    "# for idx in range(len(title_els)):\n",
    "#     print(f\"{idx+1}위 | {title_els[idx].text.strip()} - {singer_els[idx].text}\")\n",
    "for idx, (title_el, singer_el) in enumerate(zip(title_els, singer_els)):\n",
    "    print('{}위 | {}-{}'.format(idx+1, title_el.text.strip(), singer_el.text))"
   ]
  },
  {
   "cell_type": "markdown",
   "id": "c9ccc790",
   "metadata": {},
   "source": [
    "### 5) 네이버 지식인으로 검색(open API사용 x)\n",
    "- 특정 keyword를 특정페이지 수(3)만큼"
   ]
  },
  {
   "cell_type": "code",
   "execution_count": 122,
   "id": "23e1f8cf",
   "metadata": {},
   "outputs": [
    {
     "name": "stdout",
     "output_type": "stream",
     "text": [
      "https://kin.naver.com/search/list.naver?query=%EC%B3%87%EC%A7%80%ED%94%BC%ED%8B%B0\n",
      "200\n"
     ]
    }
   ],
   "source": [
    "# 방법1 (한글이아닐때 두방법 전부 사용가능)\n",
    "# 한글로 사용시 quote를 사용하여 한글을 변환하여 사용\n",
    "from urllib.request import urlopen\n",
    "from urllib.parse import quote\n",
    "# import urllib.request.urlopen as urlopen\n",
    "keyword = quote('쳇지피티')\n",
    "# 쳇지피티 => %EC%B3%87%EC%A7%80%ED%94%BC%ED%8B%B0 (url 인코딩 방식으로 전환)\n",
    "url = 'https://kin.naver.com/search/list.naver?query={}'.format(keyword)\n",
    "print(url)\n",
    "response = urlopen(url)\n",
    "print(response.status)"
   ]
  },
  {
   "cell_type": "code",
   "execution_count": 123,
   "id": "ddeca8e8",
   "metadata": {},
   "outputs": [
    {
     "name": "stdout",
     "output_type": "stream",
     "text": [
      "https://kin.naver.com/search/list.naver?query=쳇지피티\n",
      "200\n"
     ]
    }
   ],
   "source": [
    "# 방법2\n",
    "# 한글로 사용시 자동 변환으로 사용\n",
    "import requests\n",
    "keyword = '쳇지피티'\n",
    "url = f'https://kin.naver.com/search/list.naver?query={keyword}'\n",
    "print(url)\n",
    "response = requests.get(url)\n",
    "print(response.status_code)"
   ]
  },
  {
   "cell_type": "code",
   "execution_count": 142,
   "id": "a6768d9a",
   "metadata": {},
   "outputs": [
    {
     "data": {
      "text/html": [
       "<div>\n",
       "<style scoped>\n",
       "    .dataframe tbody tr th:only-of-type {\n",
       "        vertical-align: middle;\n",
       "    }\n",
       "\n",
       "    .dataframe tbody tr th {\n",
       "        vertical-align: top;\n",
       "    }\n",
       "\n",
       "    .dataframe thead th {\n",
       "        text-align: right;\n",
       "    }\n",
       "</style>\n",
       "<table border=\"1\" class=\"dataframe\">\n",
       "  <thead>\n",
       "    <tr style=\"text-align: right;\">\n",
       "      <th></th>\n",
       "      <th>title</th>\n",
       "      <th>link</th>\n",
       "    </tr>\n",
       "  </thead>\n",
       "  <tbody>\n",
       "    <tr>\n",
       "      <th>0</th>\n",
       "      <td>쳇지피티 이거 뭐예요?해킹 뭐그런거...</td>\n",
       "      <td>https://kin.naver.com/qna/detail.naver?d1id=1&amp;...</td>\n",
       "    </tr>\n",
       "    <tr>\n",
       "      <th>1</th>\n",
       "      <td>제가 직접 쓴 자소서 쳇지피티</td>\n",
       "      <td>https://kin.naver.com/qna/detail.naver?d1id=4&amp;...</td>\n",
       "    </tr>\n",
       "    <tr>\n",
       "      <th>2</th>\n",
       "      <td>쳇지피티 수식답변 오류</td>\n",
       "      <td>https://kin.naver.com/qna/detail.naver?d1id=1&amp;...</td>\n",
       "    </tr>\n",
       "    <tr>\n",
       "      <th>3</th>\n",
       "      <td>쳇지피티 화면 이상</td>\n",
       "      <td>https://kin.naver.com/qna/detail.naver?d1id=1&amp;...</td>\n",
       "    </tr>\n",
       "    <tr>\n",
       "      <th>4</th>\n",
       "      <td>쳇지피티 뤼튼</td>\n",
       "      <td>https://kin.naver.com/qna/detail.naver?d1id=8&amp;...</td>\n",
       "    </tr>\n",
       "    <tr>\n",
       "      <th>5</th>\n",
       "      <td>휴대폰 앱으로 쳇지피티 4.0버전...</td>\n",
       "      <td>https://kin.naver.com/qna/detail.naver?d1id=11...</td>\n",
       "    </tr>\n",
       "    <tr>\n",
       "      <th>6</th>\n",
       "      <td>쳇지피티 댓글</td>\n",
       "      <td>https://kin.naver.com/qna/detail.naver?d1id=8&amp;...</td>\n",
       "    </tr>\n",
       "    <tr>\n",
       "      <th>7</th>\n",
       "      <td>솔직히 과제 쳇지피티 모르죠?</td>\n",
       "      <td>https://kin.naver.com/qna/detail.naver?d1id=11...</td>\n",
       "    </tr>\n",
       "    <tr>\n",
       "      <th>8</th>\n",
       "      <td>쳇지피티 회원가입</td>\n",
       "      <td>https://kin.naver.com/qna/detail.naver?d1id=1&amp;...</td>\n",
       "    </tr>\n",
       "    <tr>\n",
       "      <th>9</th>\n",
       "      <td>쳇지피티 스마트폰에서 사용 방법을...</td>\n",
       "      <td>https://kin.naver.com/qna/detail.naver?d1id=1&amp;...</td>\n",
       "    </tr>\n",
       "    <tr>\n",
       "      <th>10</th>\n",
       "      <td>쳇지피티 이거 뭐예요?해킹 뭐그런거...</td>\n",
       "      <td>https://kin.naver.com/qna/detail.naver?d1id=1&amp;...</td>\n",
       "    </tr>\n",
       "    <tr>\n",
       "      <th>11</th>\n",
       "      <td>제가 직접 쓴 자소서 쳇지피티</td>\n",
       "      <td>https://kin.naver.com/qna/detail.naver?d1id=4&amp;...</td>\n",
       "    </tr>\n",
       "    <tr>\n",
       "      <th>12</th>\n",
       "      <td>쳇지피티 수식답변 오류</td>\n",
       "      <td>https://kin.naver.com/qna/detail.naver?d1id=1&amp;...</td>\n",
       "    </tr>\n",
       "    <tr>\n",
       "      <th>13</th>\n",
       "      <td>쳇지피티 화면 이상</td>\n",
       "      <td>https://kin.naver.com/qna/detail.naver?d1id=1&amp;...</td>\n",
       "    </tr>\n",
       "    <tr>\n",
       "      <th>14</th>\n",
       "      <td>쳇지피티 뤼튼</td>\n",
       "      <td>https://kin.naver.com/qna/detail.naver?d1id=8&amp;...</td>\n",
       "    </tr>\n",
       "    <tr>\n",
       "      <th>15</th>\n",
       "      <td>휴대폰 앱으로 쳇지피티 4.0버전...</td>\n",
       "      <td>https://kin.naver.com/qna/detail.naver?d1id=11...</td>\n",
       "    </tr>\n",
       "    <tr>\n",
       "      <th>16</th>\n",
       "      <td>쳇지피티 댓글</td>\n",
       "      <td>https://kin.naver.com/qna/detail.naver?d1id=8&amp;...</td>\n",
       "    </tr>\n",
       "    <tr>\n",
       "      <th>17</th>\n",
       "      <td>솔직히 과제 쳇지피티 모르죠?</td>\n",
       "      <td>https://kin.naver.com/qna/detail.naver?d1id=11...</td>\n",
       "    </tr>\n",
       "    <tr>\n",
       "      <th>18</th>\n",
       "      <td>쳇지피티 회원가입</td>\n",
       "      <td>https://kin.naver.com/qna/detail.naver?d1id=1&amp;...</td>\n",
       "    </tr>\n",
       "    <tr>\n",
       "      <th>19</th>\n",
       "      <td>쳇지피티 스마트폰에서 사용 방법을...</td>\n",
       "      <td>https://kin.naver.com/qna/detail.naver?d1id=1&amp;...</td>\n",
       "    </tr>\n",
       "    <tr>\n",
       "      <th>20</th>\n",
       "      <td>쳇지피티 이거 뭐예요?해킹 뭐그런거...</td>\n",
       "      <td>https://kin.naver.com/qna/detail.naver?d1id=1&amp;...</td>\n",
       "    </tr>\n",
       "    <tr>\n",
       "      <th>21</th>\n",
       "      <td>제가 직접 쓴 자소서 쳇지피티</td>\n",
       "      <td>https://kin.naver.com/qna/detail.naver?d1id=4&amp;...</td>\n",
       "    </tr>\n",
       "    <tr>\n",
       "      <th>22</th>\n",
       "      <td>쳇지피티 수식답변 오류</td>\n",
       "      <td>https://kin.naver.com/qna/detail.naver?d1id=1&amp;...</td>\n",
       "    </tr>\n",
       "    <tr>\n",
       "      <th>23</th>\n",
       "      <td>쳇지피티 화면 이상</td>\n",
       "      <td>https://kin.naver.com/qna/detail.naver?d1id=1&amp;...</td>\n",
       "    </tr>\n",
       "    <tr>\n",
       "      <th>24</th>\n",
       "      <td>쳇지피티 뤼튼</td>\n",
       "      <td>https://kin.naver.com/qna/detail.naver?d1id=8&amp;...</td>\n",
       "    </tr>\n",
       "    <tr>\n",
       "      <th>25</th>\n",
       "      <td>휴대폰 앱으로 쳇지피티 4.0버전...</td>\n",
       "      <td>https://kin.naver.com/qna/detail.naver?d1id=11...</td>\n",
       "    </tr>\n",
       "    <tr>\n",
       "      <th>26</th>\n",
       "      <td>쳇지피티 댓글</td>\n",
       "      <td>https://kin.naver.com/qna/detail.naver?d1id=8&amp;...</td>\n",
       "    </tr>\n",
       "    <tr>\n",
       "      <th>27</th>\n",
       "      <td>솔직히 과제 쳇지피티 모르죠?</td>\n",
       "      <td>https://kin.naver.com/qna/detail.naver?d1id=11...</td>\n",
       "    </tr>\n",
       "    <tr>\n",
       "      <th>28</th>\n",
       "      <td>쳇지피티 회원가입</td>\n",
       "      <td>https://kin.naver.com/qna/detail.naver?d1id=1&amp;...</td>\n",
       "    </tr>\n",
       "    <tr>\n",
       "      <th>29</th>\n",
       "      <td>쳇지피티 스마트폰에서 사용 방법을...</td>\n",
       "      <td>https://kin.naver.com/qna/detail.naver?d1id=1&amp;...</td>\n",
       "    </tr>\n",
       "  </tbody>\n",
       "</table>\n",
       "</div>"
      ],
      "text/plain": [
       "                      title                                               link\n",
       "0   쳇지피티 이거 뭐예요?해킹 뭐그런거...   https://kin.naver.com/qna/detail.naver?d1id=1&...\n",
       "1          제가 직접 쓴 자소서 쳇지피티  https://kin.naver.com/qna/detail.naver?d1id=4&...\n",
       "2              쳇지피티 수식답변 오류  https://kin.naver.com/qna/detail.naver?d1id=1&...\n",
       "3                쳇지피티 화면 이상  https://kin.naver.com/qna/detail.naver?d1id=1&...\n",
       "4                   쳇지피티 뤼튼  https://kin.naver.com/qna/detail.naver?d1id=8&...\n",
       "5    휴대폰 앱으로 쳇지피티 4.0버전...   https://kin.naver.com/qna/detail.naver?d1id=11...\n",
       "6                   쳇지피티 댓글  https://kin.naver.com/qna/detail.naver?d1id=8&...\n",
       "7          솔직히 과제 쳇지피티 모르죠?  https://kin.naver.com/qna/detail.naver?d1id=11...\n",
       "8                 쳇지피티 회원가입  https://kin.naver.com/qna/detail.naver?d1id=1&...\n",
       "9    쳇지피티 스마트폰에서 사용 방법을...   https://kin.naver.com/qna/detail.naver?d1id=1&...\n",
       "10  쳇지피티 이거 뭐예요?해킹 뭐그런거...   https://kin.naver.com/qna/detail.naver?d1id=1&...\n",
       "11         제가 직접 쓴 자소서 쳇지피티  https://kin.naver.com/qna/detail.naver?d1id=4&...\n",
       "12             쳇지피티 수식답변 오류  https://kin.naver.com/qna/detail.naver?d1id=1&...\n",
       "13               쳇지피티 화면 이상  https://kin.naver.com/qna/detail.naver?d1id=1&...\n",
       "14                  쳇지피티 뤼튼  https://kin.naver.com/qna/detail.naver?d1id=8&...\n",
       "15   휴대폰 앱으로 쳇지피티 4.0버전...   https://kin.naver.com/qna/detail.naver?d1id=11...\n",
       "16                  쳇지피티 댓글  https://kin.naver.com/qna/detail.naver?d1id=8&...\n",
       "17         솔직히 과제 쳇지피티 모르죠?  https://kin.naver.com/qna/detail.naver?d1id=11...\n",
       "18                쳇지피티 회원가입  https://kin.naver.com/qna/detail.naver?d1id=1&...\n",
       "19   쳇지피티 스마트폰에서 사용 방법을...   https://kin.naver.com/qna/detail.naver?d1id=1&...\n",
       "20  쳇지피티 이거 뭐예요?해킹 뭐그런거...   https://kin.naver.com/qna/detail.naver?d1id=1&...\n",
       "21         제가 직접 쓴 자소서 쳇지피티  https://kin.naver.com/qna/detail.naver?d1id=4&...\n",
       "22             쳇지피티 수식답변 오류  https://kin.naver.com/qna/detail.naver?d1id=1&...\n",
       "23               쳇지피티 화면 이상  https://kin.naver.com/qna/detail.naver?d1id=1&...\n",
       "24                  쳇지피티 뤼튼  https://kin.naver.com/qna/detail.naver?d1id=8&...\n",
       "25   휴대폰 앱으로 쳇지피티 4.0버전...   https://kin.naver.com/qna/detail.naver?d1id=11...\n",
       "26                  쳇지피티 댓글  https://kin.naver.com/qna/detail.naver?d1id=8&...\n",
       "27         솔직히 과제 쳇지피티 모르죠?  https://kin.naver.com/qna/detail.naver?d1id=11...\n",
       "28                쳇지피티 회원가입  https://kin.naver.com/qna/detail.naver?d1id=1&...\n",
       "29   쳇지피티 스마트폰에서 사용 방법을...   https://kin.naver.com/qna/detail.naver?d1id=1&..."
      ]
     },
     "execution_count": 142,
     "metadata": {},
     "output_type": "execute_result"
    }
   ],
   "source": [
    "# 페이징 포함\n",
    "keyword = '쳇지피티'\n",
    "pages = 3\n",
    "items_list = [] # 크롤링한 데이터를 담을 list\n",
    "for page in range(1, page+1):\n",
    "    url = f'https://kin.naver.com/search/list.naver?query={keyword}&page={page}'\n",
    "# 글 제목과 link를 가져와서 items_list에 append\n",
    "    soup = BeautifulSoup(response.text, 'html.parser')\n",
    "    items = soup.select('ul.basic1>li dt> a')\n",
    "    for item in items:\n",
    "        items_list.append([item.text, item['href']])\n",
    "pd.DataFrame(items_list, columns=['title', 'link'])"
   ]
  },
  {
   "cell_type": "code",
   "execution_count": 143,
   "id": "7e3fc199",
   "metadata": {},
   "outputs": [
    {
     "data": {
      "text/html": [
       "<div>\n",
       "<style scoped>\n",
       "    .dataframe tbody tr th:only-of-type {\n",
       "        vertical-align: middle;\n",
       "    }\n",
       "\n",
       "    .dataframe tbody tr th {\n",
       "        vertical-align: top;\n",
       "    }\n",
       "\n",
       "    .dataframe thead th {\n",
       "        text-align: right;\n",
       "    }\n",
       "</style>\n",
       "<table border=\"1\" class=\"dataframe\">\n",
       "  <thead>\n",
       "    <tr style=\"text-align: right;\">\n",
       "      <th></th>\n",
       "      <th>title</th>\n",
       "      <th>link</th>\n",
       "    </tr>\n",
       "  </thead>\n",
       "  <tbody>\n",
       "    <tr>\n",
       "      <th>0</th>\n",
       "      <td>쳇지피티 이거 뭐예요?해킹 뭐그런거...</td>\n",
       "      <td>https://kin.naver.com/qna/detail.naver?d1id=1&amp;...</td>\n",
       "    </tr>\n",
       "    <tr>\n",
       "      <th>1</th>\n",
       "      <td>제가 직접 쓴 자소서 쳇지피티</td>\n",
       "      <td>https://kin.naver.com/qna/detail.naver?d1id=4&amp;...</td>\n",
       "    </tr>\n",
       "    <tr>\n",
       "      <th>2</th>\n",
       "      <td>쳇지피티 수식답변 오류</td>\n",
       "      <td>https://kin.naver.com/qna/detail.naver?d1id=1&amp;...</td>\n",
       "    </tr>\n",
       "    <tr>\n",
       "      <th>3</th>\n",
       "      <td>쳇지피티 화면 이상</td>\n",
       "      <td>https://kin.naver.com/qna/detail.naver?d1id=1&amp;...</td>\n",
       "    </tr>\n",
       "    <tr>\n",
       "      <th>4</th>\n",
       "      <td>쳇지피티 뤼튼</td>\n",
       "      <td>https://kin.naver.com/qna/detail.naver?d1id=8&amp;...</td>\n",
       "    </tr>\n",
       "    <tr>\n",
       "      <th>5</th>\n",
       "      <td>휴대폰 앱으로 쳇지피티 4.0버전...</td>\n",
       "      <td>https://kin.naver.com/qna/detail.naver?d1id=11...</td>\n",
       "    </tr>\n",
       "    <tr>\n",
       "      <th>6</th>\n",
       "      <td>쳇지피티 댓글</td>\n",
       "      <td>https://kin.naver.com/qna/detail.naver?d1id=8&amp;...</td>\n",
       "    </tr>\n",
       "    <tr>\n",
       "      <th>7</th>\n",
       "      <td>솔직히 과제 쳇지피티 모르죠?</td>\n",
       "      <td>https://kin.naver.com/qna/detail.naver?d1id=11...</td>\n",
       "    </tr>\n",
       "    <tr>\n",
       "      <th>8</th>\n",
       "      <td>쳇지피티 회원가입</td>\n",
       "      <td>https://kin.naver.com/qna/detail.naver?d1id=1&amp;...</td>\n",
       "    </tr>\n",
       "    <tr>\n",
       "      <th>9</th>\n",
       "      <td>쳇지피티 스마트폰에서 사용 방법을...</td>\n",
       "      <td>https://kin.naver.com/qna/detail.naver?d1id=1&amp;...</td>\n",
       "    </tr>\n",
       "    <tr>\n",
       "      <th>10</th>\n",
       "      <td>쳇지피티 이거 뭐예요?해킹 뭐그런거...</td>\n",
       "      <td>https://kin.naver.com/qna/detail.naver?d1id=1&amp;...</td>\n",
       "    </tr>\n",
       "    <tr>\n",
       "      <th>11</th>\n",
       "      <td>제가 직접 쓴 자소서 쳇지피티</td>\n",
       "      <td>https://kin.naver.com/qna/detail.naver?d1id=4&amp;...</td>\n",
       "    </tr>\n",
       "    <tr>\n",
       "      <th>12</th>\n",
       "      <td>쳇지피티 수식답변 오류</td>\n",
       "      <td>https://kin.naver.com/qna/detail.naver?d1id=1&amp;...</td>\n",
       "    </tr>\n",
       "    <tr>\n",
       "      <th>13</th>\n",
       "      <td>쳇지피티 화면 이상</td>\n",
       "      <td>https://kin.naver.com/qna/detail.naver?d1id=1&amp;...</td>\n",
       "    </tr>\n",
       "    <tr>\n",
       "      <th>14</th>\n",
       "      <td>쳇지피티 뤼튼</td>\n",
       "      <td>https://kin.naver.com/qna/detail.naver?d1id=8&amp;...</td>\n",
       "    </tr>\n",
       "    <tr>\n",
       "      <th>15</th>\n",
       "      <td>휴대폰 앱으로 쳇지피티 4.0버전...</td>\n",
       "      <td>https://kin.naver.com/qna/detail.naver?d1id=11...</td>\n",
       "    </tr>\n",
       "    <tr>\n",
       "      <th>16</th>\n",
       "      <td>쳇지피티 댓글</td>\n",
       "      <td>https://kin.naver.com/qna/detail.naver?d1id=8&amp;...</td>\n",
       "    </tr>\n",
       "    <tr>\n",
       "      <th>17</th>\n",
       "      <td>솔직히 과제 쳇지피티 모르죠?</td>\n",
       "      <td>https://kin.naver.com/qna/detail.naver?d1id=11...</td>\n",
       "    </tr>\n",
       "    <tr>\n",
       "      <th>18</th>\n",
       "      <td>쳇지피티 회원가입</td>\n",
       "      <td>https://kin.naver.com/qna/detail.naver?d1id=1&amp;...</td>\n",
       "    </tr>\n",
       "    <tr>\n",
       "      <th>19</th>\n",
       "      <td>쳇지피티 스마트폰에서 사용 방법을...</td>\n",
       "      <td>https://kin.naver.com/qna/detail.naver?d1id=1&amp;...</td>\n",
       "    </tr>\n",
       "    <tr>\n",
       "      <th>20</th>\n",
       "      <td>쳇지피티 이거 뭐예요?해킹 뭐그런거...</td>\n",
       "      <td>https://kin.naver.com/qna/detail.naver?d1id=1&amp;...</td>\n",
       "    </tr>\n",
       "    <tr>\n",
       "      <th>21</th>\n",
       "      <td>제가 직접 쓴 자소서 쳇지피티</td>\n",
       "      <td>https://kin.naver.com/qna/detail.naver?d1id=4&amp;...</td>\n",
       "    </tr>\n",
       "    <tr>\n",
       "      <th>22</th>\n",
       "      <td>쳇지피티 수식답변 오류</td>\n",
       "      <td>https://kin.naver.com/qna/detail.naver?d1id=1&amp;...</td>\n",
       "    </tr>\n",
       "    <tr>\n",
       "      <th>23</th>\n",
       "      <td>쳇지피티 화면 이상</td>\n",
       "      <td>https://kin.naver.com/qna/detail.naver?d1id=1&amp;...</td>\n",
       "    </tr>\n",
       "    <tr>\n",
       "      <th>24</th>\n",
       "      <td>쳇지피티 뤼튼</td>\n",
       "      <td>https://kin.naver.com/qna/detail.naver?d1id=8&amp;...</td>\n",
       "    </tr>\n",
       "    <tr>\n",
       "      <th>25</th>\n",
       "      <td>휴대폰 앱으로 쳇지피티 4.0버전...</td>\n",
       "      <td>https://kin.naver.com/qna/detail.naver?d1id=11...</td>\n",
       "    </tr>\n",
       "    <tr>\n",
       "      <th>26</th>\n",
       "      <td>쳇지피티 댓글</td>\n",
       "      <td>https://kin.naver.com/qna/detail.naver?d1id=8&amp;...</td>\n",
       "    </tr>\n",
       "    <tr>\n",
       "      <th>27</th>\n",
       "      <td>솔직히 과제 쳇지피티 모르죠?</td>\n",
       "      <td>https://kin.naver.com/qna/detail.naver?d1id=11...</td>\n",
       "    </tr>\n",
       "    <tr>\n",
       "      <th>28</th>\n",
       "      <td>쳇지피티 회원가입</td>\n",
       "      <td>https://kin.naver.com/qna/detail.naver?d1id=1&amp;...</td>\n",
       "    </tr>\n",
       "    <tr>\n",
       "      <th>29</th>\n",
       "      <td>쳇지피티 스마트폰에서 사용 방법을...</td>\n",
       "      <td>https://kin.naver.com/qna/detail.naver?d1id=1&amp;...</td>\n",
       "    </tr>\n",
       "  </tbody>\n",
       "</table>\n",
       "</div>"
      ],
      "text/plain": [
       "                      title                                               link\n",
       "0   쳇지피티 이거 뭐예요?해킹 뭐그런거...   https://kin.naver.com/qna/detail.naver?d1id=1&...\n",
       "1          제가 직접 쓴 자소서 쳇지피티  https://kin.naver.com/qna/detail.naver?d1id=4&...\n",
       "2              쳇지피티 수식답변 오류  https://kin.naver.com/qna/detail.naver?d1id=1&...\n",
       "3                쳇지피티 화면 이상  https://kin.naver.com/qna/detail.naver?d1id=1&...\n",
       "4                   쳇지피티 뤼튼  https://kin.naver.com/qna/detail.naver?d1id=8&...\n",
       "5    휴대폰 앱으로 쳇지피티 4.0버전...   https://kin.naver.com/qna/detail.naver?d1id=11...\n",
       "6                   쳇지피티 댓글  https://kin.naver.com/qna/detail.naver?d1id=8&...\n",
       "7          솔직히 과제 쳇지피티 모르죠?  https://kin.naver.com/qna/detail.naver?d1id=11...\n",
       "8                 쳇지피티 회원가입  https://kin.naver.com/qna/detail.naver?d1id=1&...\n",
       "9    쳇지피티 스마트폰에서 사용 방법을...   https://kin.naver.com/qna/detail.naver?d1id=1&...\n",
       "10  쳇지피티 이거 뭐예요?해킹 뭐그런거...   https://kin.naver.com/qna/detail.naver?d1id=1&...\n",
       "11         제가 직접 쓴 자소서 쳇지피티  https://kin.naver.com/qna/detail.naver?d1id=4&...\n",
       "12             쳇지피티 수식답변 오류  https://kin.naver.com/qna/detail.naver?d1id=1&...\n",
       "13               쳇지피티 화면 이상  https://kin.naver.com/qna/detail.naver?d1id=1&...\n",
       "14                  쳇지피티 뤼튼  https://kin.naver.com/qna/detail.naver?d1id=8&...\n",
       "15   휴대폰 앱으로 쳇지피티 4.0버전...   https://kin.naver.com/qna/detail.naver?d1id=11...\n",
       "16                  쳇지피티 댓글  https://kin.naver.com/qna/detail.naver?d1id=8&...\n",
       "17         솔직히 과제 쳇지피티 모르죠?  https://kin.naver.com/qna/detail.naver?d1id=11...\n",
       "18                쳇지피티 회원가입  https://kin.naver.com/qna/detail.naver?d1id=1&...\n",
       "19   쳇지피티 스마트폰에서 사용 방법을...   https://kin.naver.com/qna/detail.naver?d1id=1&...\n",
       "20  쳇지피티 이거 뭐예요?해킹 뭐그런거...   https://kin.naver.com/qna/detail.naver?d1id=1&...\n",
       "21         제가 직접 쓴 자소서 쳇지피티  https://kin.naver.com/qna/detail.naver?d1id=4&...\n",
       "22             쳇지피티 수식답변 오류  https://kin.naver.com/qna/detail.naver?d1id=1&...\n",
       "23               쳇지피티 화면 이상  https://kin.naver.com/qna/detail.naver?d1id=1&...\n",
       "24                  쳇지피티 뤼튼  https://kin.naver.com/qna/detail.naver?d1id=8&...\n",
       "25   휴대폰 앱으로 쳇지피티 4.0버전...   https://kin.naver.com/qna/detail.naver?d1id=11...\n",
       "26                  쳇지피티 댓글  https://kin.naver.com/qna/detail.naver?d1id=8&...\n",
       "27         솔직히 과제 쳇지피티 모르죠?  https://kin.naver.com/qna/detail.naver?d1id=11...\n",
       "28                쳇지피티 회원가입  https://kin.naver.com/qna/detail.naver?d1id=1&...\n",
       "29   쳇지피티 스마트폰에서 사용 방법을...   https://kin.naver.com/qna/detail.naver?d1id=1&..."
      ]
     },
     "execution_count": 143,
     "metadata": {},
     "output_type": "execute_result"
    }
   ],
   "source": [
    "# 페이징 포함\n",
    "keyword = '쳇지피티'\n",
    "pages = 3\n",
    "items_list = [] # 크롤링한 데이터를 담을 list\n",
    "for page in range(1, page+1):\n",
    "    url = f'https://kin.naver.com/search/list.naver?query={keyword}&page={page}'\n",
    "# 글 제목과 link를 가져와서 items_list에 append\n",
    "    soup = BeautifulSoup(response.text, 'html.parser')\n",
    "    dt_els = soup.find_all('dt')\n",
    "    for dt_el in dt_els:\n",
    "        item = dt_el.find('a')\n",
    "        items_list.append({'title':item.text,\n",
    "                          'link' : item.attrs['href']})\n",
    "df = pd.DataFrame(items_list)\n",
    "df"
   ]
  },
  {
   "cell_type": "markdown",
   "id": "a4108702",
   "metadata": {},
   "source": [
    "### 6) 네이버 지식인으로 검색 (open API사용 o)\n",
    "- 특정 keyword를 특정여러 데이터(30)만큼"
   ]
  },
  {
   "cell_type": "code",
   "execution_count": 145,
   "id": "59b21d46",
   "metadata": {},
   "outputs": [
    {
     "name": "stdout",
     "output_type": "stream",
     "text": [
      "{\n",
      "\t\"lastBuildDate\":\"Mon, 09 Dec 2024 15:14:05 +090\n"
     ]
    }
   ],
   "source": [
    "import os\n",
    "import sys\n",
    "import urllib.request\n",
    "client_id = \"lCl5wdVFNY5CDZLC_OFT\"\n",
    "client_secret = \"QCFpUZzi6G\"\n",
    "encText = urllib.parse.quote(\"쳇지피티\")\n",
    "url = \"https://openapi.naver.com/v1/search/kin.json?query=\" + encText # JSON 결과\n",
    "# url = \"https://openapi.naver.com/v1/search/kin.xml?query=\" + encText # XML 결과\n",
    "request = urllib.request.Request(url)\n",
    "request.add_header(\"X-Naver-Client-Id\",client_id)\n",
    "request.add_header(\"X-Naver-Client-Secret\",client_secret)\n",
    "response = urllib.request.urlopen(request)\n",
    "rescode = response.getcode()\n",
    "if(rescode==200):\n",
    "    response_body = response.read()\n",
    "    print(response_body.decode('utf-8')[:50])\n",
    "else:\n",
    "    print(\"Error Code:\" + rescode)"
   ]
  },
  {
   "cell_type": "code",
   "execution_count": 166,
   "id": "b42c7b6b",
   "metadata": {},
   "outputs": [
    {
     "data": {
      "text/html": [
       "<div>\n",
       "<style scoped>\n",
       "    .dataframe tbody tr th:only-of-type {\n",
       "        vertical-align: middle;\n",
       "    }\n",
       "\n",
       "    .dataframe tbody tr th {\n",
       "        vertical-align: top;\n",
       "    }\n",
       "\n",
       "    .dataframe thead th {\n",
       "        text-align: right;\n",
       "    }\n",
       "</style>\n",
       "<table border=\"1\" class=\"dataframe\">\n",
       "  <thead>\n",
       "    <tr style=\"text-align: right;\">\n",
       "      <th></th>\n",
       "      <th>title</th>\n",
       "      <th>link</th>\n",
       "      <th>description</th>\n",
       "    </tr>\n",
       "  </thead>\n",
       "  <tbody>\n",
       "    <tr>\n",
       "      <th>0</th>\n",
       "      <td>쳇지피티 이거 뭐예요?해킹 뭐그런거 당하는거 아니죠?</td>\n",
       "      <td>https://kin.naver.com/qna/detail.naver?d1id=1&amp;...</td>\n",
       "      <td>아니 제가 크롬을 쓰는데 자꾸 쳇지피</td>\n",
       "    </tr>\n",
       "    <tr>\n",
       "      <th>1</th>\n",
       "      <td>제가 직접 쓴 자소서 쳇지피티</td>\n",
       "      <td>https://kin.naver.com/qna/detail.naver?d1id=4&amp;...</td>\n",
       "      <td>제가 직접 제 이야기로 자소서를 쓰고</td>\n",
       "    </tr>\n",
       "    <tr>\n",
       "      <th>2</th>\n",
       "      <td>쳇지피티 수식답변 오류</td>\n",
       "      <td>https://kin.naver.com/qna/detail.naver?d1id=1&amp;...</td>\n",
       "      <td>쳇지피티 4o사용 중인데 원래는 수식</td>\n",
       "    </tr>\n",
       "    <tr>\n",
       "      <th>3</th>\n",
       "      <td>쳇지피티 화면 이상</td>\n",
       "      <td>https://kin.naver.com/qna/detail.naver?d1id=1&amp;...</td>\n",
       "      <td>어느 날 부터 쳇지피티 화면이 아래와</td>\n",
       "    </tr>\n",
       "    <tr>\n",
       "      <th>4</th>\n",
       "      <td>쳇지피티 뤼튼</td>\n",
       "      <td>https://kin.naver.com/qna/detail.naver?d1id=8&amp;...</td>\n",
       "      <td>뤼튼이 쳇지피티 인가요? 아니면 유사</td>\n",
       "    </tr>\n",
       "    <tr>\n",
       "      <th>5</th>\n",
       "      <td>휴대폰 앱으로 쳇지피티 4.0버전 사용할수 있나요?</td>\n",
       "      <td>https://kin.naver.com/qna/detail.naver?d1id=11...</td>\n",
       "      <td>쳇지피티 4.0한국어버전을 폰 앱에서</td>\n",
       "    </tr>\n",
       "    <tr>\n",
       "      <th>6</th>\n",
       "      <td>쳇지피티 댓글</td>\n",
       "      <td>https://kin.naver.com/qna/detail.naver?d1id=8&amp;...</td>\n",
       "      <td>이거 이런 식으로 댓글 달리는거 쳇지</td>\n",
       "    </tr>\n",
       "    <tr>\n",
       "      <th>7</th>\n",
       "      <td>솔직히 과제 쳇지피티 모르죠?</td>\n",
       "      <td>https://kin.naver.com/qna/detail.naver?d1id=11...</td>\n",
       "      <td>쌤들이 자꾸 쳇지피티 쓰면 다잡아서</td>\n",
       "    </tr>\n",
       "    <tr>\n",
       "      <th>8</th>\n",
       "      <td>쳇지피티 회원가입</td>\n",
       "      <td>https://kin.naver.com/qna/detail.naver?d1id=1&amp;...</td>\n",
       "      <td>쳇 지피티 회원가입을 할려는데 이렇게</td>\n",
       "    </tr>\n",
       "    <tr>\n",
       "      <th>9</th>\n",
       "      <td>쳇지피티 스마트폰에서 사용 방법을 알려주세요?</td>\n",
       "      <td>https://kin.naver.com/qna/detail.naver?d1id=1&amp;...</td>\n",
       "      <td>스마트폰에서 쳇지피티 어떻게 사용해요</td>\n",
       "    </tr>\n",
       "    <tr>\n",
       "      <th>10</th>\n",
       "      <td>쳇지피티 이용해서 생기부</td>\n",
       "      <td>https://kin.naver.com/qna/detail.naver?d1id=11...</td>\n",
       "      <td>제가 교과 세특에 써질 보고서를 작성</td>\n",
       "    </tr>\n",
       "    <tr>\n",
       "      <th>11</th>\n",
       "      <td>쳇지피티(쳇gpt)를 규제해야한다</td>\n",
       "      <td>https://kin.naver.com/qna/detail.naver?d1id=7&amp;...</td>\n",
       "      <td>쳇지피티(쳇gpt)를 규제해야한다 찬</td>\n",
       "    </tr>\n",
       "    <tr>\n",
       "      <th>12</th>\n",
       "      <td>쳇지피티 계정 삭제하면 구독 끝나요?</td>\n",
       "      <td>https://kin.naver.com/qna/detail.naver?d1id=4&amp;...</td>\n",
       "      <td>안녕하세요 제가 아는 분 쳇지피티를</td>\n",
       "    </tr>\n",
       "    <tr>\n",
       "      <th>13</th>\n",
       "      <td>쳇지피티 영수증</td>\n",
       "      <td>https://kin.naver.com/qna/detail.naver?d1id=4&amp;...</td>\n",
       "      <td>법카로 쳇지피티 결제햇는데 결제영수증</td>\n",
       "    </tr>\n",
       "    <tr>\n",
       "      <th>14</th>\n",
       "      <td>쳇지피티 말 바꿈</td>\n",
       "      <td>https://kin.naver.com/qna/detail.naver?d1id=1&amp;...</td>\n",
       "      <td>너무 답답하고 저 같은 현상 겪으신</td>\n",
       "    </tr>\n",
       "    <tr>\n",
       "      <th>15</th>\n",
       "      <td>쳇지피티 사용량 상한</td>\n",
       "      <td>https://kin.naver.com/qna/detail.naver?d1id=6&amp;...</td>\n",
       "      <td>쳇 지피티를 4버전을 결제하여 사용하</td>\n",
       "    </tr>\n",
       "    <tr>\n",
       "      <th>16</th>\n",
       "      <td>쳇지피티 무슨앱</td>\n",
       "      <td>https://kin.naver.com/qna/detail.naver?d1id=1&amp;...</td>\n",
       "      <td>쳇지피티로 다들 숙제하던데 무슴앱 깔</td>\n",
       "    </tr>\n",
       "    <tr>\n",
       "      <th>17</th>\n",
       "      <td>스마트폰에서 쳇지피티 한국어로 사용하기 좋은 앱...</td>\n",
       "      <td>https://kin.naver.com/qna/detail.naver?d1id=1&amp;...</td>\n",
       "      <td>한국어로 사용하기 좋은 쳇지피티 앱을</td>\n",
       "    </tr>\n",
       "    <tr>\n",
       "      <th>18</th>\n",
       "      <td>쳇지피티 논문 출처</td>\n",
       "      <td>https://kin.naver.com/qna/detail.naver?d1id=4&amp;...</td>\n",
       "      <td>쳇지피티한테 어떤 내용에 관한 논문을</td>\n",
       "    </tr>\n",
       "    <tr>\n",
       "      <th>19</th>\n",
       "      <td>쳇지피티 사용 느낌을 알려주세요 얼마나 정확하다고...</td>\n",
       "      <td>https://kin.naver.com/qna/detail.naver?d1id=1&amp;...</td>\n",
       "      <td>쳇지피티 답변 어느정도 만족들 하세요</td>\n",
       "    </tr>\n",
       "    <tr>\n",
       "      <th>20</th>\n",
       "      <td>유튜브 채널 이름 추천 (쳇지피티 제외)</td>\n",
       "      <td>https://kin.naver.com/qna/detail.naver?d1id=1&amp;...</td>\n",
       "      <td>유튜브 채널을 가입하려고 하는데 이름</td>\n",
       "    </tr>\n",
       "    <tr>\n",
       "      <th>21</th>\n",
       "      <td>대학 과제 쳇지피티 저작권</td>\n",
       "      <td>https://kin.naver.com/qna/detail.naver?d1id=6&amp;...</td>\n",
       "      <td>대학 과제 인터넷 같은거 좀 많이 보</td>\n",
       "    </tr>\n",
       "    <tr>\n",
       "      <th>22</th>\n",
       "      <td>쳇지피티 이거 왜이래요</td>\n",
       "      <td>https://kin.naver.com/qna/detail.naver?d1id=8&amp;...</td>\n",
       "      <td>고치는 방법좀 알려주세요 다시하기누르</td>\n",
       "    </tr>\n",
       "    <tr>\n",
       "      <th>23</th>\n",
       "      <td>쳇지피티 는 일반적 원론적 답변만 할수 있도록...</td>\n",
       "      <td>https://kin.naver.com/qna/detail.naver?d1id=1&amp;...</td>\n",
       "      <td>쳇지피티 아주 원론적 일반론적 답변만</td>\n",
       "    </tr>\n",
       "    <tr>\n",
       "      <th>24</th>\n",
       "      <td>쳇지피티가 안됩니다 쳇지피티 사이트</td>\n",
       "      <td>https://kin.naver.com/qna/detail.naver?d1id=1&amp;...</td>\n",
       "      <td>쳇지피티가 안됩니다 쳇지피티 사이트</td>\n",
       "    </tr>\n",
       "    <tr>\n",
       "      <th>25</th>\n",
       "      <td>쳇지피티 개발자모드 키는법</td>\n",
       "      <td>https://kin.naver.com/qna/detail.naver?d1id=1&amp;...</td>\n",
       "      <td>인터넷에 있는거 다 해봤는데 혹시 막</td>\n",
       "    </tr>\n",
       "    <tr>\n",
       "      <th>26</th>\n",
       "      <td>구글 쳇지피티</td>\n",
       "      <td>https://kin.naver.com/qna/detail.naver?d1id=1&amp;...</td>\n",
       "      <td>이름이 뭐죠 한국 이름이였는데 [질문</td>\n",
       "    </tr>\n",
       "    <tr>\n",
       "      <th>27</th>\n",
       "      <td>쳇지피티 2021년 9월까지 정보로만 응답하나요? 최근...</td>\n",
       "      <td>https://kin.naver.com/qna/detail.naver?d1id=1&amp;...</td>\n",
       "      <td>쳇지피티 2년지난 정보로 학습해 응답</td>\n",
       "    </tr>\n",
       "    <tr>\n",
       "      <th>28</th>\n",
       "      <td>쳇지피티 정확도는 얼마나 될까요?</td>\n",
       "      <td>https://kin.naver.com/qna/detail.naver?d1id=8&amp;...</td>\n",
       "      <td>... 쳇지피티의 정확도는 사용자의</td>\n",
       "    </tr>\n",
       "    <tr>\n",
       "      <th>29</th>\n",
       "      <td>요즘 지식인들 왜 90%는 쳇지피티 쓰나요?</td>\n",
       "      <td>https://kin.naver.com/qna/detail.naver?d1id=8&amp;...</td>\n",
       "      <td>이 답변도 쳇지피티로 쓰면 신고함 챗</td>\n",
       "    </tr>\n",
       "  </tbody>\n",
       "</table>\n",
       "</div>"
      ],
      "text/plain": [
       "                                 title  \\\n",
       "0        쳇지피티 이거 뭐예요?해킹 뭐그런거 당하는거 아니죠?   \n",
       "1                     제가 직접 쓴 자소서 쳇지피티   \n",
       "2                         쳇지피티 수식답변 오류   \n",
       "3                           쳇지피티 화면 이상   \n",
       "4                              쳇지피티 뤼튼   \n",
       "5         휴대폰 앱으로 쳇지피티 4.0버전 사용할수 있나요?   \n",
       "6                              쳇지피티 댓글   \n",
       "7                     솔직히 과제 쳇지피티 모르죠?   \n",
       "8                            쳇지피티 회원가입   \n",
       "9            쳇지피티 스마트폰에서 사용 방법을 알려주세요?   \n",
       "10                       쳇지피티 이용해서 생기부   \n",
       "11                  쳇지피티(쳇gpt)를 규제해야한다   \n",
       "12                쳇지피티 계정 삭제하면 구독 끝나요?   \n",
       "13                            쳇지피티 영수증   \n",
       "14                           쳇지피티 말 바꿈   \n",
       "15                         쳇지피티 사용량 상한   \n",
       "16                            쳇지피티 무슨앱   \n",
       "17      스마트폰에서 쳇지피티 한국어로 사용하기 좋은 앱...    \n",
       "18                          쳇지피티 논문 출처   \n",
       "19     쳇지피티 사용 느낌을 알려주세요 얼마나 정확하다고...    \n",
       "20              유튜브 채널 이름 추천 (쳇지피티 제외)   \n",
       "21                      대학 과제 쳇지피티 저작권   \n",
       "22                        쳇지피티 이거 왜이래요   \n",
       "23       쳇지피티 는 일반적 원론적 답변만 할수 있도록...    \n",
       "24                 쳇지피티가 안됩니다 쳇지피티 사이트   \n",
       "25                      쳇지피티 개발자모드 키는법   \n",
       "26                             구글 쳇지피티   \n",
       "27  쳇지피티 2021년 9월까지 정보로만 응답하나요? 최근...    \n",
       "28                  쳇지피티 정확도는 얼마나 될까요?   \n",
       "29            요즘 지식인들 왜 90%는 쳇지피티 쓰나요?   \n",
       "\n",
       "                                                 link           description  \n",
       "0   https://kin.naver.com/qna/detail.naver?d1id=1&...  아니 제가 크롬을 쓰는데 자꾸 쳇지피  \n",
       "1   https://kin.naver.com/qna/detail.naver?d1id=4&...  제가 직접 제 이야기로 자소서를 쓰고  \n",
       "2   https://kin.naver.com/qna/detail.naver?d1id=1&...  쳇지피티 4o사용 중인데 원래는 수식  \n",
       "3   https://kin.naver.com/qna/detail.naver?d1id=1&...  어느 날 부터 쳇지피티 화면이 아래와  \n",
       "4   https://kin.naver.com/qna/detail.naver?d1id=8&...  뤼튼이 쳇지피티 인가요? 아니면 유사  \n",
       "5   https://kin.naver.com/qna/detail.naver?d1id=11...  쳇지피티 4.0한국어버전을 폰 앱에서  \n",
       "6   https://kin.naver.com/qna/detail.naver?d1id=8&...  이거 이런 식으로 댓글 달리는거 쳇지  \n",
       "7   https://kin.naver.com/qna/detail.naver?d1id=11...  쌤들이 자꾸 쳇지피티 쓰면 다잡아서   \n",
       "8   https://kin.naver.com/qna/detail.naver?d1id=1&...  쳇 지피티 회원가입을 할려는데 이렇게  \n",
       "9   https://kin.naver.com/qna/detail.naver?d1id=1&...  스마트폰에서 쳇지피티 어떻게 사용해요  \n",
       "10  https://kin.naver.com/qna/detail.naver?d1id=11...  제가 교과 세특에 써질 보고서를 작성  \n",
       "11  https://kin.naver.com/qna/detail.naver?d1id=7&...  쳇지피티(쳇gpt)를 규제해야한다 찬  \n",
       "12  https://kin.naver.com/qna/detail.naver?d1id=4&...  안녕하세요 제가 아는 분 쳇지피티를   \n",
       "13  https://kin.naver.com/qna/detail.naver?d1id=4&...  법카로 쳇지피티 결제햇는데 결제영수증  \n",
       "14  https://kin.naver.com/qna/detail.naver?d1id=1&...  너무 답답하고 저 같은 현상 겪으신   \n",
       "15  https://kin.naver.com/qna/detail.naver?d1id=6&...  쳇 지피티를 4버전을 결제하여 사용하  \n",
       "16  https://kin.naver.com/qna/detail.naver?d1id=1&...  쳇지피티로 다들 숙제하던데 무슴앱 깔  \n",
       "17  https://kin.naver.com/qna/detail.naver?d1id=1&...  한국어로 사용하기 좋은 쳇지피티 앱을  \n",
       "18  https://kin.naver.com/qna/detail.naver?d1id=4&...  쳇지피티한테 어떤 내용에 관한 논문을  \n",
       "19  https://kin.naver.com/qna/detail.naver?d1id=1&...  쳇지피티 답변 어느정도 만족들 하세요  \n",
       "20  https://kin.naver.com/qna/detail.naver?d1id=1&...  유튜브 채널을 가입하려고 하는데 이름  \n",
       "21  https://kin.naver.com/qna/detail.naver?d1id=6&...  대학 과제 인터넷 같은거 좀 많이 보  \n",
       "22  https://kin.naver.com/qna/detail.naver?d1id=8&...  고치는 방법좀 알려주세요 다시하기누르  \n",
       "23  https://kin.naver.com/qna/detail.naver?d1id=1&...  쳇지피티 아주 원론적 일반론적 답변만  \n",
       "24  https://kin.naver.com/qna/detail.naver?d1id=1&...  쳇지피티가 안됩니다 쳇지피티 사이트   \n",
       "25  https://kin.naver.com/qna/detail.naver?d1id=1&...  인터넷에 있는거 다 해봤는데 혹시 막  \n",
       "26  https://kin.naver.com/qna/detail.naver?d1id=1&...  이름이 뭐죠 한국 이름이였는데 [질문  \n",
       "27  https://kin.naver.com/qna/detail.naver?d1id=1&...  쳇지피티 2년지난 정보로 학습해 응답  \n",
       "28  https://kin.naver.com/qna/detail.naver?d1id=8&...  ... 쳇지피티의 정확도는 사용자의   \n",
       "29  https://kin.naver.com/qna/detail.naver?d1id=8&...  이 답변도 쳇지피티로 쓰면 신고함 챗  "
      ]
     },
     "execution_count": 166,
     "metadata": {},
     "output_type": "execute_result"
    }
   ],
   "source": [
    "import requests\n",
    "import pandas as pd\n",
    "import json # response 텍스트를 json 딕셔너리로\n",
    "client_id = \"lCl5wdVFNY5CDZLC_OFT\"\n",
    "client_secret = \"QCFpUZzi6G\"\n",
    "query = '쳇지피티'\n",
    "items_list = []\n",
    "url = f'https://openapi.naver.com/v1/search/kin.json?query={query}&display=30'\n",
    "headers = {\"X-Naver-Client-Id\" : client_id,\n",
    "          \"X-Naver-Client-Secret\" : client_secret}\n",
    "response = requests.get(url, headers=headers)\n",
    "# print(response.text[:500])\n",
    "items = json.loads(response.text)['items']\n",
    "len(items)\n",
    "for item in items:\n",
    "#     print(item)\n",
    "    title = item['title'].replace('<b>','').replace('</b>','')\n",
    "    link = item['link']\n",
    "    description = item['description'].replace('<b>','').replace('</b>','')[:20]\n",
    "    items_list.append([title, link, description])\n",
    "pd.DataFrame(items_list, columns=['title', 'link', 'description'])"
   ]
  },
  {
   "cell_type": "markdown",
   "id": "50390c3d",
   "metadata": {},
   "source": [
    "### quiz) 네이버 open API를 이용해서 청바지 이미지 100건의 데이터를  img_list.csv파일로 출력 "
   ]
  },
  {
   "cell_type": "code",
   "execution_count": 206,
   "id": "52340093",
   "metadata": {},
   "outputs": [],
   "source": [
    "def get_image_list(query):    \n",
    "    import requests\n",
    "    import json # response 텍스트를 json 딕셔너리로\n",
    "    client_id = \"lCl5wdVFNY5CDZLC_OFT\"\n",
    "    client_secret = \"QCFpUZzi6G\"\n",
    "    items_list = []\n",
    "    url = f'https://openapi.naver.com/v1/search/image?query={query}&display=100'\n",
    "    headers = {\"X-Naver-Client-Id\" : client_id,\n",
    "             \"X-Naver-Client-Secret\" : client_secret}\n",
    "    response = requests.get(url, headers=headers)\n",
    "    items = json.loads(response.text)['items']\n",
    "    for idx,item in enumerate(items) :\n",
    "        title = item['title']\n",
    "        link = item['link']\n",
    "        thumbnail = item['thumbnail']\n",
    "        sizeheight = item['sizeheight']\n",
    "        sizewidth = item['sizewidth']\n",
    "        items_list.append({'제목' : title, \n",
    "                           '링크' : link, \n",
    "                           '썸네일' : thumbnail, \n",
    "                           '사진높이' : sizeheight, \n",
    "                           '사진넓이' : sizewidth})\n",
    "#         link 파일(http://~~~~~~~.jpg)을 1.jpg로 저장\n",
    "        if idx==79 :\n",
    "            print('▒▒▒▒ 80%진행완료 ▒▒▒▒')\n",
    "    return items_list"
   ]
  },
  {
   "cell_type": "code",
   "execution_count": 207,
   "id": "173983e5",
   "metadata": {},
   "outputs": [
    {
     "name": "stdout",
     "output_type": "stream",
     "text": [
      "▒▒▒▒ 80%진행완료 ▒▒▒▒\n"
     ]
    },
    {
     "data": {
      "text/html": [
       "<div>\n",
       "<style scoped>\n",
       "    .dataframe tbody tr th:only-of-type {\n",
       "        vertical-align: middle;\n",
       "    }\n",
       "\n",
       "    .dataframe tbody tr th {\n",
       "        vertical-align: top;\n",
       "    }\n",
       "\n",
       "    .dataframe thead th {\n",
       "        text-align: right;\n",
       "    }\n",
       "</style>\n",
       "<table border=\"1\" class=\"dataframe\">\n",
       "  <thead>\n",
       "    <tr style=\"text-align: right;\">\n",
       "      <th></th>\n",
       "      <th>제목</th>\n",
       "      <th>링크</th>\n",
       "      <th>썸네일</th>\n",
       "      <th>사진높이</th>\n",
       "      <th>사진넓이</th>\n",
       "    </tr>\n",
       "  </thead>\n",
       "  <tbody>\n",
       "    <tr>\n",
       "      <th>0</th>\n",
       "      <td>남성 밴딩 블루 워싱데님팬츠 청바지 레귤러 (8010) : 원 무드</td>\n",
       "      <td>http://shop1.phinf.naver.net/20220516_44/16526...</td>\n",
       "      <td>https://search.pstatic.net/common/?type=b150&amp;s...</td>\n",
       "      <td>1000</td>\n",
       "      <td>1000</td>\n",
       "    </tr>\n",
       "  </tbody>\n",
       "</table>\n",
       "</div>"
      ],
      "text/plain": [
       "                                      제목  \\\n",
       "0  남성 밴딩 블루 워싱데님팬츠 청바지 레귤러 (8010) : 원 무드   \n",
       "\n",
       "                                                  링크  \\\n",
       "0  http://shop1.phinf.naver.net/20220516_44/16526...   \n",
       "\n",
       "                                                 썸네일  사진높이  사진넓이  \n",
       "0  https://search.pstatic.net/common/?type=b150&s...  1000  1000  "
      ]
     },
     "execution_count": 207,
     "metadata": {},
     "output_type": "execute_result"
    }
   ],
   "source": [
    "img_list = get_image_list('청바지')\n",
    "import pandas as pd\n",
    "df = pd.DataFrame(img_list)\n",
    "df.head(1)"
   ]
  },
  {
   "cell_type": "code",
   "execution_count": 208,
   "id": "dec1dc11",
   "metadata": {},
   "outputs": [
    {
     "name": "stdout",
     "output_type": "stream",
     "text": [
      "http://shop1.phinf.naver.net/20220516_44/1652689238513FOA0G_JPEG/53825073347106185_1473252156.jpg\n"
     ]
    }
   ],
   "source": [
    "print(df.loc[0, '링크'])"
   ]
  },
  {
   "cell_type": "code",
   "execution_count": 222,
   "id": "add8c95c",
   "metadata": {},
   "outputs": [],
   "source": [
    "def save_img(i, url):\n",
    "    file_extension = url.split('.')[-1]\n",
    "    quote_index = file_extension.find('?')\n",
    "    if quote_index != -1:\n",
    "        file_extension = file_extension[:quote_index]\n",
    "    img = requests.get(url).content\n",
    "    open('image/'+str(i+1)+'.'+file_extension, 'wb').write(img)"
   ]
  },
  {
   "cell_type": "code",
   "execution_count": 223,
   "id": "d4291467",
   "metadata": {},
   "outputs": [],
   "source": [
    "save_img(0, df.loc[0, '링크'])"
   ]
  },
  {
   "cell_type": "code",
   "execution_count": 224,
   "id": "a63f8cfd",
   "metadata": {},
   "outputs": [],
   "source": [
    "def get_image_list_save_img(query):    \n",
    "    import requests\n",
    "    import json # response 텍스트를 json 딕셔너리로\n",
    "    import pandas as pd\n",
    "    client_id = \"lCl5wdVFNY5CDZLC_OFT\"\n",
    "    client_secret = \"QCFpUZzi6G\"\n",
    "    items_list = []\n",
    "    url = f'https://openapi.naver.com/v1/search/image?query={query}&display=100'\n",
    "    headers = {\"X-Naver-Client-Id\" : client_id,\n",
    "             \"X-Naver-Client-Secret\" : client_secret}\n",
    "    response = requests.get(url, headers=headers)\n",
    "    items = json.loads(response.text)['items']\n",
    "    for idx,item in enumerate(items) :\n",
    "        title = item['title']\n",
    "        link = item['link']\n",
    "        thumbnail = item['thumbnail']\n",
    "        sizeheight = item['sizeheight']\n",
    "        sizewidth = item['sizewidth']\n",
    "        items_list.append({'제목' : title, \n",
    "                           '링크' : link, \n",
    "                           '썸네일' : thumbnail, \n",
    "                           '사진높이' : sizeheight, \n",
    "                           '사진넓이' : sizewidth})\n",
    "#         link 파일(http://~~~~~~~.jpg)을 1.jpg로 저장\n",
    "        save_img(idx, link)\n",
    "        save_img(idx+1000, thumbnail)\n",
    "    result = pd.DataFrame(items_list)\n",
    "    result.to_csv('image/img_list.csv', index=False)\n",
    "    print('▒▒▒▒ 저장완료 ▒▒▒▒')\n",
    "    return result"
   ]
  },
  {
   "cell_type": "code",
   "execution_count": 229,
   "id": "d52f32ce",
   "metadata": {},
   "outputs": [
    {
     "name": "stdout",
     "output_type": "stream",
     "text": [
      "▒▒▒▒ 저장완료 ▒▒▒▒\n"
     ]
    },
    {
     "data": {
      "text/html": [
       "<div>\n",
       "<style scoped>\n",
       "    .dataframe tbody tr th:only-of-type {\n",
       "        vertical-align: middle;\n",
       "    }\n",
       "\n",
       "    .dataframe tbody tr th {\n",
       "        vertical-align: top;\n",
       "    }\n",
       "\n",
       "    .dataframe thead th {\n",
       "        text-align: right;\n",
       "    }\n",
       "</style>\n",
       "<table border=\"1\" class=\"dataframe\">\n",
       "  <thead>\n",
       "    <tr style=\"text-align: right;\">\n",
       "      <th></th>\n",
       "      <th>제목</th>\n",
       "      <th>링크</th>\n",
       "      <th>썸네일</th>\n",
       "      <th>사진높이</th>\n",
       "      <th>사진넓이</th>\n",
       "    </tr>\n",
       "  </thead>\n",
       "  <tbody>\n",
       "    <tr>\n",
       "      <th>0</th>\n",
       "      <td>남성 밴딩 블루 워싱데님팬츠 청바지 레귤러 (8010) : 원 무드</td>\n",
       "      <td>http://shop1.phinf.naver.net/20220516_44/16526...</td>\n",
       "      <td>https://search.pstatic.net/common/?type=b150&amp;s...</td>\n",
       "      <td>1000</td>\n",
       "      <td>1000</td>\n",
       "    </tr>\n",
       "    <tr>\n",
       "      <th>1</th>\n",
       "      <td>아저씨청바지 50대 중년 남성 청바지 얇은 일자 K16</td>\n",
       "      <td>http://shopping.phinf.naver.net/main_4973253/4...</td>\n",
       "      <td>https://search.pstatic.net/common/?type=b150&amp;s...</td>\n",
       "      <td>300</td>\n",
       "      <td>300</td>\n",
       "    </tr>\n",
       "    <tr>\n",
       "      <th>2</th>\n",
       "      <td>데님 청바지 딜링미 워싱 포인트 베이직</td>\n",
       "      <td>http://shopping.phinf.naver.net/main_4603799/4...</td>\n",
       "      <td>https://search.pstatic.net/common/?type=b150&amp;s...</td>\n",
       "      <td>1200</td>\n",
       "      <td>1200</td>\n",
       "    </tr>\n",
       "    <tr>\n",
       "      <th>3</th>\n",
       "      <td>남성기모청바지 남자세미와이드청바지 밴딩 데님청바지 : 우모르</td>\n",
       "      <td>http://shop1.phinf.naver.net/20241115_109/1731...</td>\n",
       "      <td>https://search.pstatic.net/common/?type=b150&amp;s...</td>\n",
       "      <td>1000</td>\n",
       "      <td>1000</td>\n",
       "    </tr>\n",
       "    <tr>\n",
       "      <th>4</th>\n",
       "      <td>예스라인 프런트 포켓 스판 청바지 남자청바지 일자청바지 작업복 바지 남자청바지</td>\n",
       "      <td>http://shopping.phinf.naver.net/main_5009862/5...</td>\n",
       "      <td>https://search.pstatic.net/common/?type=b150&amp;s...</td>\n",
       "      <td>1000</td>\n",
       "      <td>1000</td>\n",
       "    </tr>\n",
       "  </tbody>\n",
       "</table>\n",
       "</div>"
      ],
      "text/plain": [
       "                                            제목  \\\n",
       "0        남성 밴딩 블루 워싱데님팬츠 청바지 레귤러 (8010) : 원 무드   \n",
       "1               아저씨청바지 50대 중년 남성 청바지 얇은 일자 K16   \n",
       "2                        데님 청바지 딜링미 워싱 포인트 베이직   \n",
       "3            남성기모청바지 남자세미와이드청바지 밴딩 데님청바지 : 우모르   \n",
       "4  예스라인 프런트 포켓 스판 청바지 남자청바지 일자청바지 작업복 바지 남자청바지   \n",
       "\n",
       "                                                  링크  \\\n",
       "0  http://shop1.phinf.naver.net/20220516_44/16526...   \n",
       "1  http://shopping.phinf.naver.net/main_4973253/4...   \n",
       "2  http://shopping.phinf.naver.net/main_4603799/4...   \n",
       "3  http://shop1.phinf.naver.net/20241115_109/1731...   \n",
       "4  http://shopping.phinf.naver.net/main_5009862/5...   \n",
       "\n",
       "                                                 썸네일  사진높이  사진넓이  \n",
       "0  https://search.pstatic.net/common/?type=b150&s...  1000  1000  \n",
       "1  https://search.pstatic.net/common/?type=b150&s...   300   300  \n",
       "2  https://search.pstatic.net/common/?type=b150&s...  1200  1200  \n",
       "3  https://search.pstatic.net/common/?type=b150&s...  1000  1000  \n",
       "4  https://search.pstatic.net/common/?type=b150&s...  1000  1000  "
      ]
     },
     "execution_count": 229,
     "metadata": {},
     "output_type": "execute_result"
    }
   ],
   "source": [
    "get_image_list_save_img('청바지').head()"
   ]
  },
  {
   "cell_type": "markdown",
   "id": "215ec253",
   "metadata": {},
   "source": [
    "## 2.3 정규표현식을 활용한 데이터 수집\n",
    "- RSS에서 search(해당 패턴 처음 내용중 일부), findall(해당 패턴 다 찾기)"
   ]
  },
  {
   "cell_type": "code",
   "execution_count": 231,
   "id": "0b8eae6d",
   "metadata": {},
   "outputs": [],
   "source": [
    "import re\n",
    "parsing_str = ''' 010-9999-9999  02-888-1234\n",
    "02-777-1212 <city>서울</city>  <city>\n",
    "용인</city>\n",
    "<province> 서울, 인천, 경기 </province>\n",
    "981212-1052009\n",
    "'''"
   ]
  },
  {
   "cell_type": "code",
   "execution_count": 236,
   "id": "c96d9cde",
   "metadata": {},
   "outputs": [
    {
     "data": {
      "text/plain": [
       "['010-9999-9999', '02-888-1234', '02-777-1212']"
      ]
     },
     "execution_count": 236,
     "metadata": {},
     "output_type": "execute_result"
    }
   ],
   "source": [
    "phone = re.findall(r'\\d{2,3}-\\d{3,4}-\\d{4}', parsing_str) \n",
    "phone"
   ]
  },
  {
   "cell_type": "code",
   "execution_count": 240,
   "id": "836c8180",
   "metadata": {},
   "outputs": [
    {
     "data": {
      "text/plain": [
       "['<city>서울</city>', '<city>\\n용인</city>']"
      ]
     },
     "execution_count": 240,
     "metadata": {},
     "output_type": "execute_result"
    }
   ],
   "source": [
    "city = re.findall(r'<city>.+?</city>', parsing_str, re.DOTALL)\n",
    "city"
   ]
  },
  {
   "cell_type": "code",
   "execution_count": 243,
   "id": "83e07518",
   "metadata": {},
   "outputs": [
    {
     "data": {
      "text/plain": [
       "<re.Match object; span=(1, 14), match='010-9999-9999'>"
      ]
     },
     "execution_count": 243,
     "metadata": {},
     "output_type": "execute_result"
    }
   ],
   "source": [
    "phone = re.search(r'\\d{2,3}-\\d{3,4}-\\d{4}', parsing_str) # 해당 정규표현식의 첫번째\n",
    "phone "
   ]
  },
  {
   "cell_type": "code",
   "execution_count": 244,
   "id": "cec7585d",
   "metadata": {},
   "outputs": [
    {
     "data": {
      "text/plain": [
       "'010-9999-9999'"
      ]
     },
     "execution_count": 244,
     "metadata": {},
     "output_type": "execute_result"
    }
   ],
   "source": [
    "phone.group(0)"
   ]
  },
  {
   "cell_type": "code",
   "execution_count": 252,
   "id": "5e8b8baf",
   "metadata": {},
   "outputs": [
    {
     "name": "stdout",
     "output_type": "stream",
     "text": [
      "정규표현식 내용 전체 : <province> 서울, 인천, 경기 </province>\n",
      "정규표현식 내 괄호 안 추출 :  서울, 인천, 경기 \n"
     ]
    }
   ],
   "source": [
    "province = re.search(r'<province>(.+)</province>', parsing_str)\n",
    "print('정규표현식 내용 전체 :', province.group(0))\n",
    "print('정규표현식 내 괄호 안 추출 :', province.group(1))"
   ]
  },
  {
   "cell_type": "code",
   "execution_count": 257,
   "id": "47b4af23",
   "metadata": {},
   "outputs": [
    {
     "name": "stdout",
     "output_type": "stream",
     "text": [
      "981212-1052009\n",
      "981212\n",
      "1052009\n"
     ]
    }
   ],
   "source": [
    "juminno = re.search(r'(\\d{6})-(\\d{7})', parsing_str)\n",
    "print(juminno.group(0))\n",
    "print(juminno.group(1))\n",
    "print(juminno.group(2))"
   ]
  },
  {
   "cell_type": "code",
   "execution_count": 260,
   "id": "9d13af6a",
   "metadata": {},
   "outputs": [
    {
     "name": "stdout",
     "output_type": "stream",
     "text": [
      "이 영화는 좋아요  이 영화 추천합니다  강추  진짜 강추  진심입니다 \n"
     ]
    }
   ],
   "source": [
    "# 특정 한두가지 문자 빼기 => replace('뺄문자', '')\n",
    "# 특수문자들 빼기 = findall\n",
    "text = '이 영화는 좋아요 ★ 이 영화 추천합니다 ^ 강추 * 진짜 강추 $ 진심입니다 ~'\n",
    "temp = re.findall(r'[가-힣a-zA-Z0-9 ]', text)\n",
    "print(''.join(temp))"
   ]
  },
  {
   "cell_type": "markdown",
   "id": "b438e7e1",
   "metadata": {},
   "source": [
    "### 1) 전국 날씨 RSS를 정규표현식 이용해서 가져오기"
   ]
  },
  {
   "cell_type": "code",
   "execution_count": 273,
   "id": "f48b280d",
   "metadata": {},
   "outputs": [
    {
     "name": "stdout",
     "output_type": "stream",
     "text": [
      "<location wl_ver=\"3\">\r\n",
      "\t\t\t\t<province>서울ㆍ인천ㆍ경기도</province>\r\n",
      "\t\t\t\t<city>서울</city>\r\n",
      "\t\t\t\t\r\n",
      "\t\t\t\t<data>\r\n",
      "\t\t\t\t\t<mode>A02</mode>\r\n",
      "\t\t\t\t\t<tmEf>2024-12-13 00:00</tmEf>\r\n",
      "\t\t\t\t\t<wf>구름많음</wf>\r\n",
      "\t\t\t\t\t<tmn>-2</tmn>\r\n",
      "\t\t\t\t\t<tmx>3</tmx>\r\n",
      "\t\t\t\t\t<reliability></reliability>\r\n",
      "\t\t\t\t\t<rnSt>30</rnSt>\r\n",
      "\t\t\t\t</data>\r\n",
      "\r\n",
      "\t\t\t\t\r\n",
      "\t\t\t\t<data>\r\n",
      "\t\t\t\t\t<mode>A02</mode>\r\n",
      "\t\t\t\t\t<tmEf>2024-12-13 12:00</tmEf>\r\n",
      "\t\t\t\t\t<wf>구름많음</wf>\r\n",
      "\t\t\t\t\t<tmn>-2</tmn>\r\n",
      "\t\t\t\t\t<tmx>3</tmx>\r\n",
      "\t\t\t\t\t<reliability></reliability>\r\n",
      "\t\t\t\t\t<rnSt>40</rnSt>\r\n",
      "\t\t\t\t</data>\r\n",
      "\r\n",
      "\t\t\t\t\r\n",
      "\t\t\t\t<data>\r\n",
      "\t\t\t\t\t<mode>A02</mode>\r\n",
      "\t\t\t\t\t<tmEf>2024-12-14 00:00</tmEf>\r\n",
      "\t\t\t\t\t<wf>맑음</wf>\r\n",
      "\t\t\t\t\t<tmn>-4</tmn>\r\n",
      "\t\t\t\t\t<tmx>2</tmx>\r\n",
      "\t\t\t\t\t<reliability></reliability>\r\n",
      "\t\t\t\t\t<rnSt>10</rnSt>\r\n",
      "\t\t\t\t</data>\r\n",
      "\r\n",
      "\t\t\t\t\r\n",
      "\t\t\t\t<data>\r\n",
      "\t\t\t\t\t<mode>A02</mode>\r\n",
      "\t\t\t\t\t<tmEf>2024-12-14 12:00</tmEf>\r\n",
      "\t\t\t\t\t<wf>맑음</wf>\r\n",
      "\t\t\t\t\t<tmn>-4</tmn>\r\n",
      "\t\t\t\t\t<tmx>2</tmx>\r\n",
      "\t\t\t\t\t<reliability></reliability>\r\n",
      "\t\t\t\t\t<rnSt>10</rnSt>\r\n",
      "\t\t\t\t</data>\r\n",
      "\r\n",
      "\t\t\t\t\r\n",
      "\t\t\t\t<data>\r\n",
      "\t\t\t\t\t<mode>A02</mode>\r\n",
      "\t\t\t\t\t<tmEf>2024-12-15 00:00</tmEf>\r\n",
      "\t\t\t\t\t<wf>맑음</wf>\r\n",
      "\t\t\t\t\t<tmn>-4</tmn>\r\n",
      "\t\t\t\t\t<tmx>2</tmx>\r\n",
      "\t\t\t\t\t<reliability></reliability>\r\n",
      "\t\t\t\t\t<rnSt>10</rnSt>\r\n",
      "\t\t\t\t</data>\r\n",
      "\r\n",
      "\t\t\t\t\r\n",
      "\t\t\t\t<data>\r\n",
      "\t\t\t\t\t<mode>A02</mode>\r\n",
      "\t\t\t\t\t<tmEf>2024-12-15 12:00</tmEf>\r\n",
      "\t\t\t\t\t<wf>맑음</wf>\r\n",
      "\t\t\t\t\t<tmn>-4</tmn>\r\n",
      "\t\t\t\t\t<tmx>2</tmx>\r\n",
      "\t\t\t\t\t<reliability></reliability>\r\n",
      "\t\t\t\t\t<rnSt>10</rnSt>\r\n",
      "\t\t\t\t</data>\r\n",
      "\r\n",
      "\t\t\t\t\r\n",
      "\t\t\t\t<data>\r\n",
      "\t\t\t\t\t<mode>A02</mode>\r\n",
      "\t\t\t\t\t<tmEf>2024-12-16 00:00</tmEf>\r\n",
      "\t\t\t\t\t<wf>맑음</wf>\r\n",
      "\t\t\t\t\t<tmn>-5</tmn>\r\n",
      "\t\t\t\t\t<tmx>2</tmx>\r\n",
      "\t\t\t\t\t<reliability></reliability>\r\n",
      "\t\t\t\t\t<rnSt>10</rnSt>\r\n",
      "\t\t\t\t</data>\r\n",
      "\r\n",
      "\t\t\t\t\r\n",
      "\t\t\t\t<data>\r\n",
      "\t\t\t\t\t<mode>A02</mode>\r\n",
      "\t\t\t\t\t<tmEf>2024-12-16 12:00</tmEf>\r\n",
      "\t\t\t\t\t<wf>맑음</wf>\r\n",
      "\t\t\t\t\t<tmn>-5</tmn>\r\n",
      "\t\t\t\t\t<tmx>2</tmx>\r\n",
      "\t\t\t\t\t<reliability></reliability>\r\n",
      "\t\t\t\t\t<rnSt>10</rnSt>\r\n",
      "\t\t\t\t</data>\r\n",
      "\r\n",
      "\t\t\t\t\r\n",
      "\t\t\t\t<data>\r\n",
      "\t\t\t\t\t<mode>A01</mode>\r\n",
      "\t\t\t\t\t<tmEf>2024-12-17 00:00</tmEf>\r\n",
      "\t\t\t\t\t<wf>맑음</wf>\r\n",
      "\t\t\t\t\t<tmn>-3</tmn>\r\n",
      "\t\t\t\t\t<tmx>4</tmx>\r\n",
      "\t\t\t\t\t<reliability></reliability>\r\n",
      "\t\t\t\t\t<rnSt>10</rnSt>\r\n",
      "\t\t\t\t</data>\r\n",
      "\r\n",
      "\t\t\t\t\r\n",
      "\t\t\t\t<data>\r\n",
      "\t\t\t\t\t<mode>A01</mode>\r\n",
      "\t\t\t\t\t<tmEf>2024-12-18 00:00</tmEf>\r\n",
      "\t\t\t\t\t<wf>맑음</wf>\r\n",
      "\t\t\t\t\t<tmn>-3</tmn>\r\n",
      "\t\t\t\t\t<tmx>4</tmx>\r\n",
      "\t\t\t\t\t<reliability></reliability>\r\n",
      "\t\t\t\t\t<rnSt>10</rnSt>\r\n",
      "\t\t\t\t</data>\r\n",
      "\r\n",
      "\t\t\t\t\r\n",
      "\t\t\t\t<data>\r\n",
      "\t\t\t\t\t<mode>A01</mode>\r\n",
      "\t\t\t\t\t<tmEf>2024-12-19 00:00</tmEf>\r\n",
      "\t\t\t\t\t<wf>맑음</wf>\r\n",
      "\t\t\t\t\t<tmn>-3</tmn>\r\n",
      "\t\t\t\t\t<tmx>4</tmx>\r\n",
      "\t\t\t\t\t<reliability></reliability>\r\n",
      "\t\t\t\t\t<rnSt>20</rnSt>\r\n",
      "\t\t\t\t</data>\r\n",
      "\r\n",
      "\r\n",
      "\t\t</location>\n",
      "서울ㆍ인천ㆍ경기도 지역의 서울 도시의 날씨입니다\n",
      "서울ㆍ인천ㆍ경기도 지역의 인천 도시의 날씨입니다\n",
      "서울ㆍ인천ㆍ경기도 지역의 수원 도시의 날씨입니다\n",
      "서울ㆍ인천ㆍ경기도 지역의 파주 도시의 날씨입니다\n",
      "서울ㆍ인천ㆍ경기도 지역의 이천 도시의 날씨입니다\n",
      "서울ㆍ인천ㆍ경기도 지역의 평택 도시의 날씨입니다\n",
      "강원도영서 지역의 춘천 도시의 날씨입니다\n",
      "강원도영서 지역의 원주 도시의 날씨입니다\n",
      "강원도영동 지역의 강릉 도시의 날씨입니다\n",
      "대전ㆍ세종ㆍ충청남도 지역의 대전 도시의 날씨입니다\n",
      "대전ㆍ세종ㆍ충청남도 지역의 세종 도시의 날씨입니다\n",
      "대전ㆍ세종ㆍ충청남도 지역의 홍성 도시의 날씨입니다\n",
      "충청북도 지역의 청주 도시의 날씨입니다\n",
      "충청북도 지역의 충주 도시의 날씨입니다\n",
      "충청북도 지역의 영동 도시의 날씨입니다\n",
      "광주ㆍ전라남도 지역의 광주 도시의 날씨입니다\n",
      "광주ㆍ전라남도 지역의 목포 도시의 날씨입니다\n",
      "광주ㆍ전라남도 지역의 여수 도시의 날씨입니다\n",
      "광주ㆍ전라남도 지역의 순천 도시의 날씨입니다\n",
      "광주ㆍ전라남도 지역의 광양 도시의 날씨입니다\n",
      "광주ㆍ전라남도 지역의 나주 도시의 날씨입니다\n",
      "전라북도 지역의 전주 도시의 날씨입니다\n",
      "전라북도 지역의 군산 도시의 날씨입니다\n",
      "전라북도 지역의 정읍 도시의 날씨입니다\n",
      "전라북도 지역의 남원 도시의 날씨입니다\n",
      "전라북도 지역의 고창 도시의 날씨입니다\n",
      "전라북도 지역의 무주 도시의 날씨입니다\n",
      "부산ㆍ울산ㆍ경상남도 지역의 부산 도시의 날씨입니다\n",
      "부산ㆍ울산ㆍ경상남도 지역의 울산 도시의 날씨입니다\n",
      "부산ㆍ울산ㆍ경상남도 지역의 창원 도시의 날씨입니다\n",
      "부산ㆍ울산ㆍ경상남도 지역의 진주 도시의 날씨입니다\n",
      "부산ㆍ울산ㆍ경상남도 지역의 거창 도시의 날씨입니다\n",
      "부산ㆍ울산ㆍ경상남도 지역의 통영 도시의 날씨입니다\n",
      "대구ㆍ경상북도 지역의 대구 도시의 날씨입니다\n",
      "대구ㆍ경상북도 지역의 안동 도시의 날씨입니다\n",
      "대구ㆍ경상북도 지역의 포항 도시의 날씨입니다\n",
      "대구ㆍ경상북도 지역의 경주 도시의 날씨입니다\n",
      "대구ㆍ경상북도 지역의 울진 도시의 날씨입니다\n",
      "대구ㆍ경상북도 지역의 울릉도 도시의 날씨입니다\n",
      "제주도 지역의 제주 도시의 날씨입니다\n",
      "제주도 지역의 서귀포 도시의 날씨입니다\n"
     ]
    }
   ],
   "source": [
    "import re\n",
    "from urllib.request import urlopen\n",
    "url = 'http://www.kma.go.kr/weather/forecast/mid-term-rss3.jsp?stnId=108'\n",
    "target = urlopen(url) # url에 한글이없으면 urlopen사용 \n",
    "contents = target.read().decode('utf-8')\n",
    "# print(contents)\n",
    "locations = re.findall(r'<location wl_ver=\"3\">.+?</location>', contents, re.DOTALL) # re.DOTALL 엔터까지 포함한다\n",
    "print(locations[0])\n",
    "for loc in locations:\n",
    "    province = re.search(r'<province>(.+)</province>', loc)\n",
    "    city = re.search(r'<city>(.+)</city>', loc)\n",
    "    print(province.group(1), '지역의', city.group(1), '도시의 날씨입니다')"
   ]
  },
  {
   "cell_type": "code",
   "execution_count": null,
   "id": "f3e79119",
   "metadata": {},
   "outputs": [],
   "source": []
  },
  {
   "cell_type": "markdown",
   "id": "5f8a9bec",
   "metadata": {},
   "source": [
    "### 2) 전국 날씨 RSS를 BeautifulSoup을 이용한 xml크롤링"
   ]
  },
  {
   "cell_type": "code",
   "execution_count": null,
   "id": "b44e3f61",
   "metadata": {},
   "outputs": [],
   "source": []
  }
 ],
 "metadata": {
  "kernelspec": {
   "display_name": "Python 3 (ipykernel)",
   "language": "python",
   "name": "python3"
  },
  "language_info": {
   "codemirror_mode": {
    "name": "ipython",
    "version": 3
   },
   "file_extension": ".py",
   "mimetype": "text/x-python",
   "name": "python",
   "nbconvert_exporter": "python",
   "pygments_lexer": "ipython3",
   "version": "3.10.9"
  },
  "toc": {
   "base_numbering": 1,
   "nav_menu": {},
   "number_sections": true,
   "sideBar": true,
   "skip_h1_title": false,
   "title_cell": "Table of Contents",
   "title_sidebar": "Contents",
   "toc_cell": false,
   "toc_position": {
    "height": "calc(100% - 180px)",
    "left": "10px",
    "top": "150px",
    "width": "211px"
   },
   "toc_section_display": true,
   "toc_window_display": true
  }
 },
 "nbformat": 4,
 "nbformat_minor": 5
}
