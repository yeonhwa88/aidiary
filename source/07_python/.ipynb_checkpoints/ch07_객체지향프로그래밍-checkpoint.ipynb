{
 "cells": [
  {
   "cell_type": "markdown",
   "id": "6eb7076f",
   "metadata": {},
   "source": [
    "<b><font size=\"6\" color=\"red\">ch07. 객체지향 프로그래밍</font></b>"
   ]
  },
  {
   "cell_type": "markdown",
   "id": "cc8f7cee",
   "metadata": {},
   "source": [
    "# 1절. 객체와 클래스\n",
    "```\n",
    "class 클래스명(상속받을 클래스명):\n",
    "    변수나 함수들\n",
    "```"
   ]
  },
  {
   "cell_type": "code",
   "execution_count": 8,
   "id": "79e962fb",
   "metadata": {},
   "outputs": [],
   "source": [
    "class Person: # 상속안받으려면 괄호 사용안해도된다\n",
    "    '''\n",
    "    Person 설명하는 독스트링\n",
    "    class Person{\n",
    "        public String totring(){}\n",
    "    }\n",
    "    p = new Person()\n",
    "    sysout(p)\n",
    "    '''\n",
    "    pass # 아무것도 안하는 함수를 만들땐 꼭 pass써야됨\n",
    "p = Person() # p는 객체 또는 인스턴스변수"
   ]
  },
  {
   "cell_type": "code",
   "execution_count": 4,
   "id": "1b48e508",
   "metadata": {},
   "outputs": [
    {
     "data": {
      "text/plain": [
       "__main__.Person"
      ]
     },
     "execution_count": 4,
     "metadata": {},
     "output_type": "execute_result"
    }
   ],
   "source": [
    "type(p)"
   ]
  },
  {
   "cell_type": "code",
   "execution_count": 5,
   "id": "ef6ffbe6",
   "metadata": {},
   "outputs": [
    {
     "name": "stdout",
     "output_type": "stream",
     "text": [
      "<__main__.Person object at 0x000002B2645D1060>\n"
     ]
    }
   ],
   "source": [
    "print(p)"
   ]
  },
  {
   "cell_type": "code",
   "execution_count": 6,
   "id": "d9dc346a",
   "metadata": {},
   "outputs": [
    {
     "data": {
      "text/plain": [
       "True"
      ]
     },
     "execution_count": 6,
     "metadata": {},
     "output_type": "execute_result"
    }
   ],
   "source": [
    "isinstance(p, Person) # 특정클래스가 인스턴스 변수인지 확인하는 방법 bool타입으로 반환"
   ]
  },
  {
   "cell_type": "code",
   "execution_count": 7,
   "id": "f4716425",
   "metadata": {},
   "outputs": [
    {
     "name": "stdout",
     "output_type": "stream",
     "text": [
      "\n",
      "    Person 설명하는 독스트링\n",
      "    class Person{}\n",
      "    \n"
     ]
    }
   ],
   "source": [
    "print(p.__doc__)"
   ]
  },
  {
   "cell_type": "markdown",
   "id": "e32f3cf2",
   "metadata": {},
   "source": [
    "# 2절. 변수와 메소드\n",
    "- 클래스변수 vs 인스턴스변수 vs static변수\n",
    "- 인스턴스메소드 vs static메소드 vs 클래스메소드"
   ]
  },
  {
   "cell_type": "code",
   "execution_count": 10,
   "id": "08102554",
   "metadata": {},
   "outputs": [
    {
     "name": "stdout",
     "output_type": "stream",
     "text": [
      "홍길동 남자\n",
      "<class '__main__.Person'>\n"
     ]
    }
   ],
   "source": [
    "# 클래스 변수 추가 : 클래스 내부에 선언되며, \n",
    "# 생성된 모든 인스턴스에서 동일한 값 가진다.\n",
    "# 클래스명. 클래스변수를 수정하면 모든 인스턴스에 반영될 수 있음\n",
    "# 인스턴스.클래스변수로 수정하면 해당 인스턴스에만 반영\n",
    "class Person: # 클래스변수\n",
    "    name = '홍길동'\n",
    "    gender = '남자'\n",
    "print(Person.name, Person.gender)\n",
    "print(Person)"
   ]
  },
  {
   "cell_type": "code",
   "execution_count": 11,
   "id": "ac339a9f",
   "metadata": {},
   "outputs": [
    {
     "name": "stdout",
     "output_type": "stream",
     "text": [
      "클래스 영역 변수 :  홍길동 남자\n",
      "p1객체의 변수 :  홍길동 남자\n",
      "p2객체의 변수 :  홍길동 남자\n"
     ]
    }
   ],
   "source": [
    "p1 = Person()\n",
    "p2 = Person()\n",
    "print('클래스 영역 변수 : ', Person.name, Person.gender)\n",
    "print('p1객체의 변수 : ', p1.name, p1.gender)\n",
    "print('p2객체의 변수 : ', p2.name, p2.gender)"
   ]
  },
  {
   "cell_type": "code",
   "execution_count": 15,
   "id": "ac0822fe",
   "metadata": {},
   "outputs": [
    {
     "name": "stdout",
     "output_type": "stream",
     "text": [
      "클래스 영역 변수 :  유관순 여자\n",
      "p1객체의 변수 :  이순신 여자\n",
      "p2객체의 변수 :  유관순 여자\n"
     ]
    }
   ],
   "source": [
    "p1.name = '이순신'\n",
    "print('클래스 영역 변수 : ', Person.name, Person.gender)\n",
    "print('p1객체의 변수 : ', p1.name, p1.gender)\n",
    "print('p2객체의 변수 : ', p2.name, p2.gender)"
   ]
  },
  {
   "cell_type": "code",
   "execution_count": 16,
   "id": "7e422d30",
   "metadata": {},
   "outputs": [
    {
     "name": "stdout",
     "output_type": "stream",
     "text": [
      "클래스 영역 변수 :  유관순 여자\n",
      "p1객체의 변수 :  이순신 여자\n",
      "p2객체의 변수 :  유관순 여자\n"
     ]
    }
   ],
   "source": [
    "Person.name = '유관순'\n",
    "Person.gender = '여자'\n",
    "print('클래스 영역 변수 : ', Person.name, Person.gender)\n",
    "print('p1객체의 변수 : ', p1.name, p1.gender)\n",
    "print('p2객체의 변수 : ', p2.name, p2.gender)"
   ]
  },
  {
   "cell_type": "code",
   "execution_count": 17,
   "id": "44013cbb",
   "metadata": {},
   "outputs": [],
   "source": [
    "# 메소드 추가\n",
    "class Person :\n",
    "    name = '홍길동'\n",
    "    gender = '남자'\n",
    "    def print_info():\n",
    "        print('Person 메소드')\n",
    "        print('{}는 {}입니다'.format(Person.name, Person.gender))"
   ]
  },
  {
   "cell_type": "code",
   "execution_count": 18,
   "id": "9b9480f0",
   "metadata": {},
   "outputs": [
    {
     "name": "stdout",
     "output_type": "stream",
     "text": [
      "홍길동 남자\n",
      "Person 메소드\n",
      "홍길동는 남자입니다\n"
     ]
    }
   ],
   "source": [
    "print(Person.name, Person.gender)\n",
    "Person.print_info()"
   ]
  },
  {
   "cell_type": "code",
   "execution_count": 21,
   "id": "a124d152",
   "metadata": {},
   "outputs": [
    {
     "name": "stdout",
     "output_type": "stream",
     "text": [
      "클래스 변수 영역 : 홍길동 남자\n",
      "객체 영역 : 유관순 여자\n"
     ]
    },
    {
     "ename": "TypeError",
     "evalue": "Person.print_info() takes 0 positional arguments but 1 was given",
     "output_type": "error",
     "traceback": [
      "\u001b[1;31m---------------------------------------------------------------------------\u001b[0m",
      "\u001b[1;31mTypeError\u001b[0m                                 Traceback (most recent call last)",
      "Cell \u001b[1;32mIn[21], line 6\u001b[0m\n\u001b[0;32m      4\u001b[0m \u001b[38;5;28mprint\u001b[39m(\u001b[38;5;124m'\u001b[39m\u001b[38;5;124m클래스 변수 영역 :\u001b[39m\u001b[38;5;124m'\u001b[39m,Person\u001b[38;5;241m.\u001b[39mname, Person\u001b[38;5;241m.\u001b[39mgender)\n\u001b[0;32m      5\u001b[0m \u001b[38;5;28mprint\u001b[39m(\u001b[38;5;124m'\u001b[39m\u001b[38;5;124m객체 영역 :\u001b[39m\u001b[38;5;124m'\u001b[39m,p1\u001b[38;5;241m.\u001b[39mname, p1\u001b[38;5;241m.\u001b[39mgender)\n\u001b[1;32m----> 6\u001b[0m \u001b[43mp1\u001b[49m\u001b[38;5;241;43m.\u001b[39;49m\u001b[43mprint_info\u001b[49m\u001b[43m(\u001b[49m\u001b[43m)\u001b[49m\n",
      "\u001b[1;31mTypeError\u001b[0m: Person.print_info() takes 0 positional arguments but 1 was given"
     ]
    }
   ],
   "source": [
    "p1 = Person()\n",
    "p1.name = '유관순'\n",
    "p1.gender = '여자'\n",
    "print('클래스 변수 영역 :',Person.name, Person.gender)\n",
    "print('객체 영역 :',p1.name, p1.gender)\n",
    "p1.print_info()"
   ]
  },
  {
   "cell_type": "code",
   "execution_count": 22,
   "id": "564ba46b",
   "metadata": {},
   "outputs": [],
   "source": [
    "# 에러나는 이유는 인스턴스 메소드도 아니고, 클래스 메소드도 아니고 staticmethod도 아님\n",
    "# staticmethod처럼 실행은 가능"
   ]
  },
  {
   "cell_type": "markdown",
   "id": "52ed7fb3",
   "metadata": {},
   "source": [
    "※ 인스턴스 메소드 & 클래스 메소드 & static 메소드\n",
    "- 인스턴스 메소드 : 첫번째 인자에 self를 꼭 명시. 객체를 통해서만 호출할 메소드\n",
    "- 클래스 메소드 : 메소드 위에 @classmethod 선언한 메소드. 첫번째 인자에 cls(clz) (클레스를 명시하는 단어) 꼭 명시\n",
    "- static 메소드 : 메소드 위에 @staticmethod 선언한 메소드 . 디폴트 인자를 넣지 않음"
   ]
  },
  {
   "cell_type": "code",
   "execution_count": 23,
   "id": "1e7a45a8",
   "metadata": {},
   "outputs": [],
   "source": [
    "# 인스턴스 메소드(객체가 호출할 수 있는 함수)\n",
    "class Person : \n",
    "    name = '홍길동'\n",
    "    gender = '남자'\n",
    "    age = 30\n",
    "    # 인스턴스 메소드 선언시 첫번째 인자에 self 넣고 선언.\n",
    "    # 실제 호출시에는 매개변수에 self 이용 안함. slef의 의미는 자바에서 this 내 객체를 의미\n",
    "    def print_info(self):\n",
    "        print('인스턴스 변수 정보 : {}는 {}살이고, {} 입니다'.format(self.name, self.age, self.gender))\n",
    "        print('클래스 정보 : {}는 {}살이고, {}입니다'.format(Person.name, Person.age, Person.gender))"
   ]
  },
  {
   "cell_type": "code",
   "execution_count": 27,
   "id": "7824bdef",
   "metadata": {},
   "outputs": [
    {
     "name": "stdout",
     "output_type": "stream",
     "text": [
      "홍길동 남자 30\n",
      "인스턴스 변수 정보 : 신사임당는 30살이고, 남자 입니다\n",
      "클래스 정보 : 홍길동는 30살이고, 남자입니다\n"
     ]
    }
   ],
   "source": [
    "print(Person.name, Person.gender, Person.age)\n",
    "p1 = Person()\n",
    "p2 = Person()\n",
    "p1.name = '신사임당'\n",
    "p1.print_info()"
   ]
  },
  {
   "cell_type": "code",
   "execution_count": 28,
   "id": "9451ce04",
   "metadata": {},
   "outputs": [
    {
     "name": "stdout",
     "output_type": "stream",
     "text": [
      "인스턴스 변수 정보 : 신사임당는 30살이고, 남자 입니다\n",
      "클래스 정보 : 홍길동는 30살이고, 남자입니다\n"
     ]
    }
   ],
   "source": [
    "Person.print_info(p1) # 이렇게는 거의 사용 안함"
   ]
  },
  {
   "cell_type": "code",
   "execution_count": 31,
   "id": "34886cf1",
   "metadata": {},
   "outputs": [
    {
     "name": "stdout",
     "output_type": "stream",
     "text": [
      "인스턴스 변수 정보 : 홍길동는 30살이고, 남자 입니다\n",
      "클래스 정보 : 홍길동는 30살이고, 남자입니다\n"
     ]
    }
   ],
   "source": [
    "p2.print_info()"
   ]
  },
  {
   "cell_type": "code",
   "execution_count": 32,
   "id": "b0bf1d77",
   "metadata": {},
   "outputs": [],
   "source": [
    "# 객체의 변수를 추가 가능 \n",
    "p1.address = '서울시'\n",
    "p1.nickname = '곰돌이 푸'"
   ]
  },
  {
   "cell_type": "code",
   "execution_count": 33,
   "id": "30438f0b",
   "metadata": {},
   "outputs": [
    {
     "name": "stdout",
     "output_type": "stream",
     "text": [
      "신사임당 남자 30 서울시 곰돌이 푸\n",
      "홍길동 남자 30\n"
     ]
    }
   ],
   "source": [
    "print(p1.name, p1.gender, p1.age, p1.address, p1.nickname)\n",
    "print(p2.name, p2.gender, p2.age)"
   ]
  },
  {
   "cell_type": "code",
   "execution_count": 34,
   "id": "70eb246a",
   "metadata": {},
   "outputs": [
    {
     "name": "stdout",
     "output_type": "stream",
     "text": [
      "인스턴스 변수 정보 : 신사임당는 30살이고, 남자 입니다\n",
      "클래스 정보 : 홍길동는 30살이고, 남자입니다\n"
     ]
    }
   ],
   "source": [
    "p1.print_info()"
   ]
  },
  {
   "cell_type": "code",
   "execution_count": 54,
   "id": "f11b1bdf",
   "metadata": {},
   "outputs": [],
   "source": [
    "# 3가지 메소드를 다 사용\n",
    "class Person :\n",
    "    name = '홍길동'\n",
    "    gender = '남자'\n",
    "    def print_info(self): # 변수.print_info()로 호출\n",
    "        print('일반(인스턴스=객체) 메소드 - {}는 {}입니다'.format(self.name, self.gender))\n",
    "    def change_info(self, name, gender='남자'): # 변수.change_info('신길숙','여자')로 호출\n",
    "        self.name = name\n",
    "        self.gender = gender # name만 변경하려면  name만 사용해도 가능\n",
    "        print('일반(인스턴스) 메소드를 통해 {}로 이름 변경 완료'.format(self.name))\n",
    "    @classmethod\n",
    "    def do_(clz): # clz == Person 클래스 변수를 이용한 로직\n",
    "        clz.name = '신사임당' # 클래스영역의 클래스 변수 수정\n",
    "        clz.gender = '여자' \n",
    "        print('클래스 메소드 - {}는 {}로 클래스 변수 변경'.format(clz.name, clz.gender))\n",
    "    @staticmethod\n",
    "    def that_(): # 클래스 변수를 이용하는 경우보다는 로직이 우선일 경우로 사용\n",
    "        Person.name = '신길동' # static변수에서도 변수 수정 가능하지만 사용하진않음\n",
    "        Person.gender = '남자'\n",
    "        print('static 메소드 - {}는 {}입니다'.format(Person.name, Person.gender))"
   ]
  },
  {
   "cell_type": "code",
   "execution_count": 56,
   "id": "2e11e35a",
   "metadata": {},
   "outputs": [
    {
     "name": "stdout",
     "output_type": "stream",
     "text": [
      "일반(인스턴스=객체) 메소드 - 홍길동는 남자입니다\n",
      "일반(인스턴스) 메소드를 통해 이순신로 이름 변경 완료\n",
      "일반(인스턴스=객체) 메소드 - 이순신는 남자입니다\n"
     ]
    }
   ],
   "source": [
    "p1 = Person()\n",
    "p1.print_info()\n",
    "p1.change_info('이순신', '남자')\n",
    "p1.print_info()"
   ]
  },
  {
   "cell_type": "code",
   "execution_count": 57,
   "id": "e5a0a585",
   "metadata": {},
   "outputs": [
    {
     "name": "stdout",
     "output_type": "stream",
     "text": [
      "일반(인스턴스=객체) 메소드 - 이순신는 남자입니다\n"
     ]
    }
   ],
   "source": [
    "p1.name = '이순신'\n",
    "p1.print_info()"
   ]
  },
  {
   "cell_type": "code",
   "execution_count": 59,
   "id": "f82240e5",
   "metadata": {},
   "outputs": [
    {
     "name": "stdout",
     "output_type": "stream",
     "text": [
      "클래스 메소드 - 신사임당는 여자로 클래스 변수 변경\n",
      "일반(인스턴스=객체) 메소드 - 이순신는 남자입니다\n"
     ]
    }
   ],
   "source": [
    "Person.do_() # 클레스 변수 수정\n",
    "p1.print_info()"
   ]
  },
  {
   "cell_type": "code",
   "execution_count": 60,
   "id": "e94ccb4c",
   "metadata": {},
   "outputs": [
    {
     "name": "stdout",
     "output_type": "stream",
     "text": [
      "일반(인스턴스=객체) 메소드 - 신사임당는 여자입니다\n"
     ]
    }
   ],
   "source": [
    "p2 = Person()\n",
    "p2.print_info()"
   ]
  },
  {
   "cell_type": "code",
   "execution_count": 61,
   "id": "df9fb0ac",
   "metadata": {},
   "outputs": [
    {
     "name": "stdout",
     "output_type": "stream",
     "text": [
      "static 메소드 - 신길동는 남자입니다\n"
     ]
    }
   ],
   "source": [
    "Person.that_() # 클래스 변수 수정"
   ]
  },
  {
   "cell_type": "code",
   "execution_count": 62,
   "id": "ee789c51",
   "metadata": {},
   "outputs": [
    {
     "name": "stdout",
     "output_type": "stream",
     "text": [
      "일반(인스턴스=객체) 메소드 - 신길동는 남자입니다\n"
     ]
    }
   ],
   "source": [
    "p2.print_info()"
   ]
  },
  {
   "cell_type": "code",
   "execution_count": 63,
   "id": "b347f192",
   "metadata": {},
   "outputs": [
    {
     "name": "stdout",
     "output_type": "stream",
     "text": [
      "클래스 메소드 - 신사임당는 여자로 클래스 변수 변경\n",
      "일반(인스턴스=객체) 메소드 - 신사임당는 여자입니다\n"
     ]
    }
   ],
   "source": [
    "Person.do_()\n",
    "p2.print_info()"
   ]
  },
  {
   "cell_type": "code",
   "execution_count": 64,
   "id": "74f10146",
   "metadata": {},
   "outputs": [],
   "source": [
    "p2.age = 30"
   ]
  },
  {
   "cell_type": "code",
   "execution_count": 66,
   "id": "4b1ecf98",
   "metadata": {},
   "outputs": [
    {
     "name": "stdout",
     "output_type": "stream",
     "text": [
      "일반(인스턴스=객체) 메소드 - 이순신는 남자입니다\n",
      "일반(인스턴스=객체) 메소드 - 신사임당는 여자입니다\n"
     ]
    }
   ],
   "source": [
    "p1.print_info()\n",
    "p2.print_info()"
   ]
  },
  {
   "cell_type": "markdown",
   "id": "ec0ddeb9",
   "metadata": {},
   "source": [
    "# 3절. 생성자(__init__)와 소멸자(__del__)\n",
    "```\n",
    "생성자 : __init__(self, 매개변수....) 객체가 생성될 때 자동 실행\n",
    "        생성시 필요한 코드(인스턴스 변수 초기화)를 포함\n",
    "소멸자 : __del__(self) : 객체가 소멸될 때 자동 실행\n",
    "        소멸시 필요한 코드를 포함\n",
    "        인스턴스 객체의 레퍼런스 카운트가 0이 될 때 실행\n",
    "```"
   ]
  },
  {
   "cell_type": "code",
   "execution_count": 14,
   "id": "264146df",
   "metadata": {},
   "outputs": [],
   "source": [
    "class Person:\n",
    "    # 생성자를 이용한 인스턴스 변수 초기화\n",
    "    def __init__(self, name='홍길동', gender='남자'):\n",
    "        self.name = name # 인스턴스변수\n",
    "        self.gender = gender\n",
    "        print('Person 객체를 생성합니다')\n",
    "        \n",
    "    def __del__(self):\n",
    "        print('Person 객체를 소멸합니다')\n",
    "        \n",
    "    def print_info(self):\n",
    "        print('{}는 {}입니다'.format(self.name, self.gender))\n",
    "        \n",
    "    def __str__(self):\n",
    "        return \"%s은 %s\" % (self.name, self.gender)"
   ]
  },
  {
   "cell_type": "code",
   "execution_count": 15,
   "id": "f3f7f4d7",
   "metadata": {},
   "outputs": [
    {
     "name": "stdout",
     "output_type": "stream",
     "text": [
      "Person 객체를 생성합니다\n",
      "Person 객체를 생성합니다\n",
      "Person 객체를 생성합니다\n",
      "Person 객체를 생성합니다\n",
      "Person 객체를 생성합니다\n"
     ]
    }
   ],
   "source": [
    "p1 = Person('홍길동','남자')\n",
    "p2 = Person(gender='여자', name='홍길숙')\n",
    "p3 = Person(\"신길동\") # 성별은 기본값 '남자'로 생성\n",
    "p4 = Person(gender='여자') # 이름은 기본값 '홍길동'으로 생성\n",
    "p5 = Person() # 이름 , 성별 기본값으로 '홍길동' '남자'로 생성"
   ]
  },
  {
   "cell_type": "code",
   "execution_count": 16,
   "id": "2770a97f",
   "metadata": {},
   "outputs": [
    {
     "data": {
      "text/plain": [
       "(2083744468272, 2083744480800, 2083720239840, 2083744470672, 2083744470384)"
      ]
     },
     "execution_count": 16,
     "metadata": {},
     "output_type": "execute_result"
    }
   ],
   "source": [
    "id(p1),id(p2),id(p3),id(p4),id(p5)"
   ]
  },
  {
   "cell_type": "code",
   "execution_count": 17,
   "id": "b45fdd63",
   "metadata": {},
   "outputs": [
    {
     "name": "stdout",
     "output_type": "stream",
     "text": [
      "홍길동는 남자입니다\n",
      "홍길숙는 여자입니다\n",
      "신길동는 남자입니다\n",
      "홍길동는 여자입니다\n",
      "홍길동는 남자입니다\n"
     ]
    }
   ],
   "source": [
    "p1.print_info()\n",
    "p2.print_info()\n",
    "p3.print_info()\n",
    "p4.print_info()\n",
    "p5.print_info()"
   ]
  },
  {
   "cell_type": "code",
   "execution_count": 18,
   "id": "3f68d73a",
   "metadata": {},
   "outputs": [
    {
     "name": "stdout",
     "output_type": "stream",
     "text": [
      "p1 = 홍길동은 남자\n",
      "p2 = 홍길숙은 여자\n",
      "p3 = 신길동은 남자\n",
      "p4 = 홍길동은 여자\n",
      "p5 = 홍길동은 남자\n"
     ]
    }
   ],
   "source": [
    "print('p1 =', p1) # p1.__str__()자동호출\n",
    "print('p2 =', p2)\n",
    "print('p3 =', p3)\n",
    "print('p4 =', p4)\n",
    "print('p5 =', p5)"
   ]
  },
  {
   "cell_type": "code",
   "execution_count": 19,
   "id": "e760d732",
   "metadata": {},
   "outputs": [
    {
     "name": "stdout",
     "output_type": "stream",
     "text": [
      "Person 객체를 소멸합니다\n"
     ]
    }
   ],
   "source": [
    "del p5 "
   ]
  },
  {
   "cell_type": "code",
   "execution_count": 20,
   "id": "7c32b341",
   "metadata": {},
   "outputs": [
    {
     "name": "stdout",
     "output_type": "stream",
     "text": [
      "Person 객체를 소멸합니다\n",
      "Person 객체를 소멸합니다\n",
      "Person 객체를 소멸합니다\n"
     ]
    }
   ],
   "source": [
    "del p2, p3, p4"
   ]
  },
  {
   "cell_type": "code",
   "execution_count": 21,
   "id": "5d79359f",
   "metadata": {},
   "outputs": [
    {
     "name": "stdout",
     "output_type": "stream",
     "text": [
      "홍길동은 남자\n"
     ]
    }
   ],
   "source": [
    "print(p1)"
   ]
  },
  {
   "cell_type": "code",
   "execution_count": 22,
   "id": "b7e4d135",
   "metadata": {},
   "outputs": [],
   "source": [
    "p2 = p1"
   ]
  },
  {
   "cell_type": "code",
   "execution_count": 23,
   "id": "16b0b54e",
   "metadata": {},
   "outputs": [
    {
     "data": {
      "text/plain": [
       "(2083744468272, 2083744468272)"
      ]
     },
     "execution_count": 23,
     "metadata": {},
     "output_type": "execute_result"
    }
   ],
   "source": [
    "id(p1), id(p2) # 한객체를 두 인스턴스 변수가 참조(객체의 레퍼런스 카운트가 2)"
   ]
  },
  {
   "cell_type": "code",
   "execution_count": 24,
   "id": "a57084e5",
   "metadata": {},
   "outputs": [],
   "source": [
    "del p1 # 객체 레퍼런스 카운트가 1이여서 소멸자 생성 안 함"
   ]
  },
  {
   "cell_type": "code",
   "execution_count": 25,
   "id": "d0f51604",
   "metadata": {},
   "outputs": [
    {
     "name": "stdout",
     "output_type": "stream",
     "text": [
      "Person 객체를 소멸합니다\n"
     ]
    }
   ],
   "source": [
    "del p2 # p1을 실행하고 p2를 실행해서 레퍼런스카운트가 0으로 실행"
   ]
  },
  {
   "cell_type": "markdown",
   "id": "64ef8d66",
   "metadata": {},
   "source": [
    "# 4절. static 변수\n",
    "- 인스턴스변수 : 생성자를 통함\n",
    "- 클래스변수 : 클래스내선언\n",
    "- static변수 : 클래스 내에 선언한 변수 중 변수명앞에 __(under score 2개)를 붙임\n",
    "    ```\n",
    "    변수명앞에 __을 붙이면, 클래스명._클래스명__static변수명으로 참조\n",
    "    클래스 변수는 클래스나 인스턴스에서 바로 접근 가능\n",
    "    반면, __로 시작하는 변수는 바로 접근 불가하고 클래스명._클래스명__static변수명으로 \n",
    "    접근해야 하므로 외부에서 실수로 접근하거나 변경하는것을 방지\n",
    "    static 변수는 클래스 내부에서만 접근하도록 하려는 의도를 전달하는 용도로 사용\n",
    "    ```"
   ]
  },
  {
   "cell_type": "code",
   "execution_count": 26,
   "id": "b3501286",
   "metadata": {},
   "outputs": [
    {
     "data": {
      "text/plain": [
       "'홍길동'"
      ]
     },
     "execution_count": 26,
     "metadata": {},
     "output_type": "execute_result"
    }
   ],
   "source": [
    "class Person:\n",
    "    name = '홍길동'\n",
    "    __count = 0\n",
    "p = Person()\n",
    "p.name"
   ]
  },
  {
   "cell_type": "code",
   "execution_count": 29,
   "id": "d576fc5e",
   "metadata": {},
   "outputs": [
    {
     "data": {
      "text/plain": [
       "0"
      ]
     },
     "execution_count": 29,
     "metadata": {},
     "output_type": "execute_result"
    }
   ],
   "source": [
    "Person._Person__count"
   ]
  },
  {
   "cell_type": "markdown",
   "id": "faf62211",
   "metadata": {},
   "source": [
    "# 5절. 상속과 재정의"
   ]
  },
  {
   "cell_type": "code",
   "execution_count": 31,
   "id": "1a7ed446",
   "metadata": {},
   "outputs": [
    {
     "name": "stdout",
     "output_type": "stream",
     "text": [
      "두수를 초기화\n",
      "num1은 2, num2는 2\n"
     ]
    }
   ],
   "source": [
    "class Cal:\n",
    "    def __init__(self, num1=1, num2=2):\n",
    "        print('두수를 초기화')\n",
    "        self.num1 = num1\n",
    "        self.num2 = num2\n",
    "        \n",
    "    def add(self):\n",
    "        return self.num1+self.num2\n",
    "    \n",
    "    def sub(self):\n",
    "        return self.num1-self.num2 if self.num1>self.num2 else self.num2-self.num1 # 조건식\n",
    "\n",
    "#         if self.num1>self.num2:\n",
    "#             return self.num1-self.num2\n",
    "#         else :\n",
    "#             return self.num2-self.num1\n",
    "\n",
    "    def __str__(self):\n",
    "        return 'num1은 %d, num2는 %d' % (self.num1, self.num2)\n",
    "    \n",
    "class Cal_inherit(Cal): # 상속받는법\n",
    "    def mul(self):\n",
    "        return self.num1*self.num2\n",
    "obj = Cal_inherit(2, 2)\n",
    "print(obj)"
   ]
  },
  {
   "cell_type": "code",
   "execution_count": 32,
   "id": "a4a544b1",
   "metadata": {},
   "outputs": [
    {
     "name": "stdout",
     "output_type": "stream",
     "text": [
      "4\n",
      "0\n",
      "4\n"
     ]
    }
   ],
   "source": [
    "print(obj.add())\n",
    "print(obj.sub())\n",
    "print(obj.mul())"
   ]
  },
  {
   "cell_type": "code",
   "execution_count": 34,
   "id": "dcb80894",
   "metadata": {},
   "outputs": [],
   "source": [
    "class Person:\n",
    "    'Person은 이름과 성별 멤버변수가 있고, 설명중~~~~ ...'\n",
    "    def __init__(self, name, gender):\n",
    "        print('Person 객체 생성합니다')\n",
    "        self.name = name\n",
    "        self.gender = gender\n",
    "    def __del__(self):\n",
    "        print('Person 객체 소멸됩니다')\n",
    "    def print_info(self):\n",
    "        '객체 이름과 성별을 출력합니다'\n",
    "        print('{}님은 {}입니다'.format(self.name, self.gender))\n",
    "    def __str__(self):\n",
    "        return '{}님은 {}입니다'.format(self.name, self.gender)"
   ]
  },
  {
   "cell_type": "markdown",
   "id": "adf9994f",
   "metadata": {},
   "source": [
    "## super()이용"
   ]
  },
  {
   "cell_type": "code",
   "execution_count": 45,
   "id": "bc0d979c",
   "metadata": {},
   "outputs": [],
   "source": [
    "class Student(Person):\n",
    "    'name과 gender(상속받음)에 major변수를 갖는 Student 타입'\n",
    "    def __init__(self, name, gender, major):\n",
    "        # 부모클래스의 생성자를 호출해서 name과 gender초기화\n",
    "        # Person.__init__(self, name, gender)\n",
    "        super().__init__(name, gender)\n",
    "        self.major = major \n",
    "    def __del__(self): # 상속받은 del을 사용하고 싶지 않을 때 pass로 보냄\n",
    "        pass\n",
    "    def print_info(self): # 재정의 (override)\n",
    "        # print(\"{}는 {}입니다\\n, 전공은 {}입니다\".format((self.name, self.gender, self.major)))\n",
    "        super().print_info() # 상위 클래스 Person의 print_info()를 실행하고 전공만 출력\n",
    "        print(\"전공은 {}입니다\".format(self.major))\n",
    "    def __str__(self):\n",
    "        return super().__str__() + ' 그리고 전공은 {}입니다'.format(self.major)        \n",
    "        # return Person.__str__(self) + '전공은 {}입니다'.format(self.major)  "
   ]
  },
  {
   "cell_type": "code",
   "execution_count": 46,
   "id": "420c3091",
   "metadata": {},
   "outputs": [
    {
     "name": "stdout",
     "output_type": "stream",
     "text": [
      "Person 객체 생성합니다\n",
      "홍길동님은 남자입니다 그리고 전공은 AI 빅데이터입니다\n"
     ]
    }
   ],
   "source": [
    "s1 = Student('홍길동', '남자', 'AI 빅데이터')\n",
    "print(s1)"
   ]
  },
  {
   "cell_type": "code",
   "execution_count": 47,
   "id": "5ec7faa1",
   "metadata": {},
   "outputs": [
    {
     "name": "stdout",
     "output_type": "stream",
     "text": [
      "홍길동님은 남자입니다\n",
      "전공은 AI 빅데이터입니다\n"
     ]
    }
   ],
   "source": [
    "s1.print_info()"
   ]
  },
  {
   "cell_type": "code",
   "execution_count": 49,
   "id": "ec0d91a3",
   "metadata": {},
   "outputs": [
    {
     "name": "stdout",
     "output_type": "stream",
     "text": [
      "True\n",
      "True\n"
     ]
    }
   ],
   "source": [
    "print(isinstance(s1, Student))\n",
    "print(isinstance(s1, Person))"
   ]
  },
  {
   "cell_type": "markdown",
   "id": "f827ff1f",
   "metadata": {},
   "source": [
    "## 상속과 static 변수 활용"
   ]
  },
  {
   "cell_type": "code",
   "execution_count": 1,
   "id": "89930a3b",
   "metadata": {},
   "outputs": [],
   "source": [
    "class Person:\n",
    "    'Person = name, gender'\n",
    "    def __init__(self, name, gender):\n",
    "        self.name = name\n",
    "        self.gender = gender\n",
    "    def print_info(self): # 추상메소드 흉내\n",
    "        raise Exception('이 메소드는 반드시 구현되어야 합니다') # 반드시 오버라이드해야 함\n",
    "    def __str__(self):\n",
    "        return '{}님은 {}'.format(self.name, self.gender)\n",
    "class Student(Person):\n",
    "    '''\n",
    "    name과 gender(상속)에 major변수를 갖는 Student 타입 \n",
    "    객체 생성마다 몇번째 객체인지 저장(static 변수)\n",
    "    '''\n",
    "    __count = 0 # static변수(객체 갯수가 저장될 변수)\n",
    "    # 변수명앞에 __붙으면, \"클래스명._클래스명__static변수\"로 사용\n",
    "    def __init__(self, name, gender, major):\n",
    "        Student._Student__count += 1 # __count += 1은 불가\n",
    "        # Person.__init__(self, name, gender)\n",
    "        super().__init__(name, gender)\n",
    "        self.major = major\n",
    "    def __del__(self):\n",
    "        Student._Student__count -= 1\n",
    "        # 객체가 생성될 때 마다 __count 1증가\n",
    "        # 객체가 소멸될 때 마다 __count 1감소\n",
    "    def print_info(self):\n",
    "        print('{}님은 {}, 전공은 {}입니다 - 이상 {}번째 인스턴스입니다'.format(self.name, self.gender, \n",
    "                                                            self.major, Student._Student__count))\n",
    "    def __str__(self):\n",
    "    # return Person.__str__(self)\n",
    "        return super().__str__() + ', 전공은 {}입니다'.format(self.major) \n",
    "    @classmethod\n",
    "    def get_count(cls):\n",
    "        return Student._Student__count"
   ]
  },
  {
   "cell_type": "code",
   "execution_count": 2,
   "id": "01dbe23a",
   "metadata": {},
   "outputs": [
    {
     "name": "stdout",
     "output_type": "stream",
     "text": [
      "홍길동님은 남자\n"
     ]
    }
   ],
   "source": [
    "p = Person(\"홍길동\",\"남자\")\n",
    "print(p)"
   ]
  },
  {
   "cell_type": "code",
   "execution_count": 3,
   "id": "6267d94b",
   "metadata": {},
   "outputs": [
    {
     "name": "stdout",
     "output_type": "stream",
     "text": [
      "홍학생님은 남자, 전공은 AI 빅데이터입니다\n",
      "객체의 갯수 : 1\n",
      "객체의 갯수 : 1\n"
     ]
    }
   ],
   "source": [
    "s1 = Student(\"홍학생\",\"남자\",\"AI 빅데이터\")\n",
    "print(s1)\n",
    "print('객체의 갯수 :', Student.get_count())\n",
    "print('객체의 갯수 :', Student._Student__count)"
   ]
  },
  {
   "cell_type": "code",
   "execution_count": 4,
   "id": "a6e3cfde",
   "metadata": {},
   "outputs": [
    {
     "name": "stdout",
     "output_type": "stream",
     "text": [
      "홍학생님은 남자, 전공은 AI 빅데이터입니다 - 이상 1번째 인스턴스입니다\n"
     ]
    }
   ],
   "source": [
    "s1.print_info()"
   ]
  },
  {
   "cell_type": "code",
   "execution_count": 5,
   "id": "13cf0a85",
   "metadata": {},
   "outputs": [
    {
     "name": "stdout",
     "output_type": "stream",
     "text": [
      "신길숙님은 여자, 전공은 통계학입니다 - 이상 2번째 인스턴스입니다\n",
      "객체 갯수 : 2\n"
     ]
    }
   ],
   "source": [
    "s2 = Student(\"신길숙\",\"여자\",\"통계학\")\n",
    "s2.print_info()\n",
    "print('객체 갯수 :', Student.get_count())"
   ]
  },
  {
   "cell_type": "code",
   "execution_count": 6,
   "id": "3d3fef4f",
   "metadata": {},
   "outputs": [
    {
     "data": {
      "text/plain": [
       "{'name': '신길숙', 'gender': '여자', 'major': '통계학'}"
      ]
     },
     "execution_count": 6,
     "metadata": {},
     "output_type": "execute_result"
    }
   ],
   "source": [
    "s2.__dict__ # 클래스의 멤버 변수들을 딕셔너리 형태로 출력"
   ]
  },
  {
   "cell_type": "code",
   "execution_count": 7,
   "id": "0cd19d03",
   "metadata": {},
   "outputs": [
    {
     "name": "stdout",
     "output_type": "stream",
     "text": [
      "객체갯수 : 1\n"
     ]
    }
   ],
   "source": [
    "del s1\n",
    "print('객체갯수 :', Student.get_count())"
   ]
  },
  {
   "cell_type": "code",
   "execution_count": 12,
   "id": "c52bf5cc",
   "metadata": {},
   "outputs": [
    {
     "data": {
      "text/plain": [
       "(True, True)"
      ]
     },
     "execution_count": 12,
     "metadata": {},
     "output_type": "execute_result"
    }
   ],
   "source": [
    "isinstance(s2, Student), isinstance(s2, Person)"
   ]
  },
  {
   "cell_type": "code",
   "execution_count": 8,
   "id": "38f82cf4",
   "metadata": {},
   "outputs": [],
   "source": [
    "class Product:\n",
    "    __count = 100\n",
    "    def __init__(self, name, price):\n",
    "        Product._Product__count += 1\n",
    "        self.serialno = Product._Product__count\n",
    "        self.name = name\n",
    "        self.price = price\n",
    "    def __str__(self):\n",
    "        return 'serialno : {}\\n상품명 : {}\\n가격 : {}'.format(self.serialno, self.name, self.price)"
   ]
  },
  {
   "cell_type": "code",
   "execution_count": 9,
   "id": "3a37037c",
   "metadata": {},
   "outputs": [],
   "source": [
    "p1 = Product('새우깡', 1600)\n",
    "p2 = Product('양파깡', 1800)\n",
    "p3 = Product('페르로쉐', 10000)"
   ]
  },
  {
   "cell_type": "code",
   "execution_count": 10,
   "id": "2075d48a",
   "metadata": {},
   "outputs": [
    {
     "name": "stdout",
     "output_type": "stream",
     "text": [
      "serialno : 101\n",
      "상품명 : 새우깡\n",
      "가격 : 1600\n",
      "serialno : 102\n",
      "상품명 : 양파깡\n",
      "가격 : 1800\n",
      "serialno : 103\n",
      "상품명 : 페르로쉐\n",
      "가격 : 10000\n"
     ]
    }
   ],
   "source": [
    "print(p1)\n",
    "print(p2)\n",
    "print(p3)"
   ]
  },
  {
   "cell_type": "code",
   "execution_count": 11,
   "id": "2ad169c2",
   "metadata": {},
   "outputs": [
    {
     "name": "stdout",
     "output_type": "stream",
     "text": [
      "생성된 최종 시리얼 번호 :  103\n"
     ]
    }
   ],
   "source": [
    "print('생성된 최종 시리얼 번호 : ', Product._Product__count)"
   ]
  },
  {
   "cell_type": "markdown",
   "id": "73fec6c6",
   "metadata": {},
   "source": [
    "# 6절. 연습문제"
   ]
  },
  {
   "cell_type": "code",
   "execution_count": 55,
   "id": "fcb2df6f",
   "metadata": {},
   "outputs": [],
   "source": [
    "'''\n",
    "1.  도형(Shape)클래스와 삼각형(Triangle) 클래스를 만들어야 합니다.\n",
    "도형(Shape)클래스\n",
    "• 생성자를 통해 x, y좌표를 초기화할 수 있습니다. x, y좌표의 기본값은 0, 0입니다.\n",
    "• x, y좌표를 이동시킬 수 있는 move 함수가 있습니다.\n",
    "• x, y좌표값 정보를 문자열로 리턴하는 __str__ 함수가 있습니다\n",
    "• 도형의 면적을 구하는 함수(calc_area)가 있습니다. 다만 도형 클래스의 calc_area()는\n",
    "구현되어 있지 않아 호출하면 오류가 발생합니다(파이썬은 추상메소드가 없음. 추상메소\n",
    "드 역할을 구현)\n",
    "• 정적메소드(staticmethod)를 하나 이상 구현합니다.\n",
    " ‘삼각형(Triangle)클래스는 도형(Shape)클래스이다’관계가 성립해야 합니다\n",
    " 생성자를 통해, width, height, x, y좌표를 초기화하고 x, y 좌표의 기본값은 0, 0입니다\n",
    " 삼각형의 면적을 구하는 메소드 calc_area를 재정의합니다\n",
    " 삼각형의 정보를 문자열로 반환하는 __str__() 함수가 있습니다.\n",
    " 삼각형 객체가 몇 개가 만들어져 있는지 정보를 저장하는 클래스 변수를 추가하고 생성자\n",
    "에서 객체를 만들 때마다 증가시키고 소멸자에서 객체를 소멸시킬 때마다 감소합니다\n",
    "'''\n",
    "class Shape:\n",
    "    def __init__(self, x=0, y=0):\n",
    "        self.x = x\n",
    "        self.y = y\n",
    "    def move(self, x, y):\n",
    "        self.x += x\n",
    "        self.y += y\n",
    "    def __str__(self):\n",
    "        return 'x의 좌표값={} y의 좌표값={} '.format(self.x, self.y)\n",
    "    def calc_area(self):\n",
    "        raise Exception ('반드시 구현하세요')\n",
    "    @staticmethod\n",
    "    def stat_():\n",
    "        print('test')"
   ]
  },
  {
   "cell_type": "code",
   "execution_count": 56,
   "id": "6f22193e",
   "metadata": {},
   "outputs": [
    {
     "name": "stdout",
     "output_type": "stream",
     "text": [
      "x의 좌표값=2 y의 좌표값=2 \n",
      "x의 좌표값=12 y의 좌표값=7 \n",
      "test\n"
     ]
    }
   ],
   "source": [
    "s = Shape(2, 2)\n",
    "print(s)\n",
    "s.move(10, 5)\n",
    "print(s)\n",
    "Shape.stat_()"
   ]
  },
  {
   "cell_type": "code",
   "execution_count": 57,
   "id": "7113349a",
   "metadata": {},
   "outputs": [],
   "source": [
    "class Triangle(Shape):\n",
    "    __count = 0\n",
    "    def __init__(self, width, height, x=0, y=0):\n",
    "        Triangle._Triangle__count += 1\n",
    "        super().__init__(x, y)\n",
    "        self.width = width\n",
    "        self.height = height\n",
    "    def __del__(self):\n",
    "        Triangle._Triangle__count -= 1\n",
    "    def calc_area(self):\n",
    "        return (self.width*self.height)/2\n",
    "    def __str__(self):\n",
    "        return super().__str__() + 'width={} height={} 둘레는 {} 입니다 '.format(self.width, self.height, self.calc_area())\n",
    "    @classmethod\n",
    "    def get_count(cls):\n",
    "        return Triangle._Triangle__count"
   ]
  },
  {
   "cell_type": "code",
   "execution_count": 60,
   "id": "312cbc77",
   "metadata": {},
   "outputs": [
    {
     "name": "stdout",
     "output_type": "stream",
     "text": [
      "x의 좌표값=0 y의 좌표값=10 width=2 height=10 둘레는 10.0 입니다 \n",
      "x의 좌표값=0 y의 좌표값=0 width=5 height=10 둘레는 25.0 입니다 \n",
      "x의 좌표값=1 y의 좌표값=2 width=4 height=10 둘레는 20.0 입니다 \n",
      "x의 좌표값=5 y의 좌표값=10 width=3 height=10 둘레는 15.0 입니다 \n",
      "x의 좌표값=5 y의 좌표값=0 width=6 height=10 둘레는 30.0 입니다 \n"
     ]
    }
   ],
   "source": [
    "t1 = Triangle(2, 10, y=10)\n",
    "t2 = Triangle(5, 10)\n",
    "t3 = Triangle(4, 10, 1, 2)\n",
    "t4 = Triangle(3, 10, x=5, y=10)\n",
    "t5 = Triangle(6, 10, 5) # x에 값을 할당\n",
    "print(t1)\n",
    "print(t2)\n",
    "print(t3)\n",
    "print(t4)\n",
    "print(t5)"
   ]
  },
  {
   "cell_type": "code",
   "execution_count": 59,
   "id": "bc885d06",
   "metadata": {},
   "outputs": [],
   "source": [
    "# 1. 다음중 올바른 클래스 정의는? 1\n",
    "# 2. 다음중 Person클래스의 객체를 생성하는 올바른 방법은 ? 2\n",
    "# 3. 다음중 인스턴스 메소드를 선언하는 가장 올바른 방법은? 4\n",
    "# 4. 다음중 생성자와 소멸자에 대해 잘못 설명한 것은 ? 1\n",
    "# 5. 다음중 \"Student is a Person\"을 클래스 상속으로 바르게 표현한 것은? 2\n",
    "# 6. 다음중 상속과 재정의에 대해 잘못 설명한 것은? 3\n",
    "# 7. 다음 클래스의 메소드를 호출하는 방법중 잘못된것은? 2\n",
    "# 8. 두 클래스와 코드의 실행결과 다음과 같이 출력되도록 해야한다면 빈 칸에 넣을 수 없는 것을 고르세요? 3\n",
    "# 9. 다음중 파이썬의 특별한 용도로 정의되어 있는 속성과 메소드에 대한 설명 중 잘못된 것은? 2"
   ]
  },
  {
   "cell_type": "code",
   "execution_count": null,
   "id": "89b60037",
   "metadata": {},
   "outputs": [],
   "source": []
  }
 ],
 "metadata": {
  "kernelspec": {
   "display_name": "Python 3 (ipykernel)",
   "language": "python",
   "name": "python3"
  },
  "language_info": {
   "codemirror_mode": {
    "name": "ipython",
    "version": 3
   },
   "file_extension": ".py",
   "mimetype": "text/x-python",
   "name": "python",
   "nbconvert_exporter": "python",
   "pygments_lexer": "ipython3",
   "version": "3.10.9"
  },
  "toc": {
   "base_numbering": 1,
   "nav_menu": {},
   "number_sections": true,
   "sideBar": true,
   "skip_h1_title": false,
   "title_cell": "Table of Contents",
   "title_sidebar": "Contents",
   "toc_cell": false,
   "toc_position": {
    "height": "calc(100% - 180px)",
    "left": "10px",
    "top": "150px",
    "width": "186px"
   },
   "toc_section_display": true,
   "toc_window_display": true
  }
 },
 "nbformat": 4,
 "nbformat_minor": 5
}
