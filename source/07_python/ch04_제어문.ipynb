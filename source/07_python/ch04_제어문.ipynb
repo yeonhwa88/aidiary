{
 "cells": [
  {
   "cell_type": "markdown",
   "id": "69b8522b",
   "metadata": {},
   "source": [
    "<b><font color=\"red\" size=\"6\"> ch04. 제어문 </font></b>\n",
    "- if문, for-in문, while문, 중첩가능, 중첩루프탈출"
   ]
  },
  {
   "cell_type": "markdown",
   "id": "3f618511",
   "metadata": {},
   "source": [
    "# 1절. 조건문(if)"
   ]
  },
  {
   "cell_type": "code",
   "execution_count": null,
   "id": "295a01aa",
   "metadata": {},
   "outputs": [],
   "source": [
    "score = int(input('Enter your score > '))\n",
    "if score>=90 :\n",
    "    print('참 잘했어요')\n",
    "    print('다음에도 기대할께요')\n",
    "elif score>=60 :\n",
    "    print('분발하실거죠?')\n",
    "    print('뭐 그래도 고생하셨어요')\n",
    "else :\n",
    "    print('재시험 응시하셔야 합니다')"
   ]
  },
  {
   "cell_type": "code",
   "execution_count": null,
   "id": "b3e24d15",
   "metadata": {},
   "outputs": [],
   "source": [
    "# 점수를 입력받아 학점을 출력(A, B, C, D, F, 유효하지않은 점수)\n",
    "score = int(input('Enter your score > '))\n",
    "if 90 <= score <= 100 : # if (90<=score) & (score<=100) 할 필요가 없음\n",
    "    grade = 'A'\n",
    "elif 80 <= score < 90 :\n",
    "    grade = 'B'\n",
    "elif 70 <= score < 80 :\n",
    "    grade = 'C'\n",
    "elif 60 <= score < 70 :\n",
    "    grade = 'D'\n",
    "elif 0 <= score < 60 :\n",
    "    grade = 'F'\n",
    "else : \n",
    "    grede = '유효하지 않은 점수'\n",
    "print('입력하신 점수는 {}점이고 {}입니다'.format(score, grade))"
   ]
  },
  {
   "cell_type": "markdown",
   "id": "89615655",
   "metadata": {},
   "source": [
    "# 2절. 반복문(for-in, while)\n",
    "## 2.1 for-in문\n",
    "```\n",
    "for 임시변수 in 나열가능한자료 :\n",
    "    반복할 문장1\n",
    "    반복할 문장2\n",
    "else :\n",
    "    나열가능한자료를 다 소요하여 for 블록을 다 수행한 후, 최종 한번만 실행할 문장(else 선택사항)\n",
    "    for문안에 break가 있을 경우, else블럭은 수행되지 않음\n",
    "```"
   ]
  },
  {
   "cell_type": "code",
   "execution_count": null,
   "id": "c7c7d0a1",
   "metadata": {},
   "outputs": [],
   "source": [
    "for i in range(1, 10, 2) :\n",
    "    print(i, end='\\t')\n",
    "else :\n",
    "    print('\\nDONE')\n",
    "print('END')"
   ]
  },
  {
   "cell_type": "code",
   "execution_count": null,
   "id": "3a4a7c0d",
   "metadata": {},
   "outputs": [],
   "source": [
    "for i in range(1, 10, 2) :\n",
    "    if i == 5 :\n",
    "        break\n",
    "    print(i, end='\\t')\n",
    "else :\n",
    "    print('\\nDONE')\n",
    "print('END')"
   ]
  },
  {
   "cell_type": "code",
   "execution_count": null,
   "id": "838dcbd4",
   "metadata": {},
   "outputs": [],
   "source": [
    "# 1 ~ 100까지 짝수의 합을 계산하고 출력하시오(for문)\n",
    "sum = 0 # 누적변수\n",
    "for i in range(1, 101):\n",
    "    if i%2==0:\n",
    "        sum += i\n",
    "else:\n",
    "    pass\n",
    "print(\"1~100까지 짝수의 합은 :\", sum)"
   ]
  },
  {
   "cell_type": "markdown",
   "id": "82faa761",
   "metadata": {},
   "source": [
    "## 2.2 while문\n",
    "```\n",
    "while문 조건 :\n",
    "    조건이 참일 경우 반복할 문장1\n",
    "    조건이 참일 경우 반복할 문장2..\n",
    "else :\n",
    "    조건이 거짓일 경우 한번 실행할 문장(else구문 선택사항)\n",
    "```"
   ]
  },
  {
   "cell_type": "code",
   "execution_count": null,
   "id": "83812c13",
   "metadata": {},
   "outputs": [],
   "source": [
    "# 1~ 100까지 짝수의 합을 계산하고 출력하시오\n",
    "i = 1\n",
    "sum = 0 # 누적변수\n",
    "while i <=100 :\n",
    "    if i%2==0:\n",
    "        sum += i\n",
    "    i += 1 # ++, -- 증감연산자가 파이썬에서는 없음 증감연산자 대신 작성\n",
    "else :\n",
    "    pass\n",
    "print('1 ~ 100 까지 누적 짝수의 합은 :', sum)"
   ]
  },
  {
   "cell_type": "code",
   "execution_count": null,
   "id": "4ce8a91f",
   "metadata": {},
   "outputs": [],
   "source": [
    "# ex1. 사용자에게 두 정수 입력받아, 작은수부터 큰수까지 홀수의 합을 누적해서 출력 for문\n",
    "first = int(input('첫번째 수를 입력해주세요'))\n",
    "second = int(input('두번쨰 수를 입력해주세요'))\n",
    "sum = 0 # 누적변수\n",
    "if first >= second:\n",
    "    max = first\n",
    "    min = second\n",
    "else :\n",
    "    max = second\n",
    "    min = first\n",
    "for i in range(min, max+1):\n",
    "    if i%2 != 0: # if (i%2==1) | (i%2==1)\n",
    "        sum += i\n",
    "print('{}~{} 홀수들의 합은 : {}'.format(min,max,sum))"
   ]
  },
  {
   "cell_type": "code",
   "execution_count": null,
   "id": "12452501",
   "metadata": {},
   "outputs": [],
   "source": [
    "# ex1. 사용자에게 두 정수 입력받아, 작은수부터 큰수까지 홀수의 합을 누적해서 출력 while문\n",
    "first = int(input('첫번째 수를 입력해주세요'))\n",
    "second = int(input('두번쨰 수를 입력해주세요'))\n",
    "sum = 0 # 누적변수\n",
    "if first >= second:\n",
    "    max = first\n",
    "    min = second\n",
    "else :\n",
    "    max = second\n",
    "    min = first\n",
    "i = min\n",
    "while i<=max:\n",
    "    if i%2 != 0:\n",
    "        sum +=i\n",
    "    i += 1\n",
    "print('{}~{} 홀수들의 합은 : {}'.format(min,max,sum))"
   ]
  },
  {
   "cell_type": "code",
   "execution_count": null,
   "id": "d4e311b3",
   "metadata": {},
   "outputs": [],
   "source": [
    "# ex2. 로또 번호 6개를 추출, 정렬하여 출력하시오\n",
    "import random \n",
    "# random.seed(7) # seed값이 같으면 랜덤수가 같아짐\n",
    "lotto_lst = []\n",
    "cnt = 0  # 로또번호 추출 횟수\n",
    "while len(lotto_lst) < 6:\n",
    "    temp = random.randint(1, 45) # 임의 수를 temp변수 에 할당\n",
    "    cnt += 1\n",
    "    if temp in lotto_lst:\n",
    "            pass\n",
    "    else:\n",
    "        lotto_lst.append(temp)\n",
    "print('6개 로또 번호를 {}번 추출함'.format(cnt))\n",
    "print('정렬전 :', lotto_lst)\n",
    "# for i in range(6): # for문은 중복이 있으면 6개보다 적게나올수 있기 때문에 while문 사용\n",
    "#     lotto_set.add(random.randint(1, 45))\n",
    "# 정렬 알고리즘\n",
    "for i in range(len(lotto_lst) -1) :\n",
    "    for j in range(i+1, len(lotto_lst)):\n",
    "        if lotto_lst[i] > lotto_lst[j]:\n",
    "            lotto_lst[i], lotto_lst[j] = lotto_lst[j], lotto_lst[i]\n",
    "    print('{}번째까지 : {}'.format(i, lotto_lst[:i+1]))\n",
    "print(\"정렬후 :\", lotto_lst)"
   ]
  },
  {
   "cell_type": "code",
   "execution_count": null,
   "id": "8efc8269",
   "metadata": {},
   "outputs": [],
   "source": [
    "# ex2. 로또 번호 6개를 추출, 정렬하여 출력하시오\n",
    "import random \n",
    "# random.seed(7) # seed값이 같으면 랜덤수가 같아짐\n",
    "lotto_set = set()\n",
    "cnt = 0  # 로또번호 추출 횟수\n",
    "while len(lotto_set) < 6:\n",
    "    lotto_set.add(random.randint(1, 45))\n",
    "    cnt += 1\n",
    "print('6개 로또 번호를 {}번 추출함'.format(cnt))\n",
    "print('정렬전 :', lotto_set)\n",
    "print(\"정렬후 :\", sorted(list(lotto_set))) # sorted(리스트) 는 본체 리스트는 내버려두고, 정렬한 새로운 리스트를 반환"
   ]
  },
  {
   "cell_type": "code",
   "execution_count": null,
   "id": "98421c63",
   "metadata": {},
   "outputs": [],
   "source": [
    "# ex2. 1~ 45중에 6개 뽑기\n",
    "sorted(random.sample(range(1, 46), 6)) #중복이 일어나지않음"
   ]
  },
  {
   "cell_type": "markdown",
   "id": "bc5888f0",
   "metadata": {},
   "source": [
    "## 2.3 break, continue"
   ]
  },
  {
   "cell_type": "code",
   "execution_count": null,
   "id": "d3b3f1fc",
   "metadata": {},
   "outputs": [],
   "source": [
    "num = 0\n",
    "while num<10:\n",
    "    num += 1\n",
    "    if num==5:\n",
    "        #break\n",
    "        continue\n",
    "    print(num, end =\"\\t\")\n",
    "print('DONE')"
   ]
  },
  {
   "cell_type": "code",
   "execution_count": null,
   "id": "f5df3420",
   "metadata": {},
   "outputs": [],
   "source": [
    "# 숫자 찾기 게임\n",
    "'''\n",
    "1 ~ 100 사이의 정수를 맞추기 프로그램\n",
    "(프로그램 안에서 random수가 만들어지고 그 random수 맞추기)\n",
    "1단계 : 숫자를 못 맞추면 Up/Down 출력하고 , 맞추면 끝남\n",
    "2단계 : 숫자를 못 맞추면 min~ max를 조정, 맞추면 축하메세지 뿌리고 끝남\n",
    "3단계 : 2단계의 기회를 5회로 제한. 5회의 기회가 지나면 실패 메세지 뿌리고 끝남\n",
    "(2단계와 3단계 연습문제)\n",
    "'''\n",
    "randomNum = random.randint(1, 100)\n",
    "print('컴퓨터가 발생한 임의의 수', randomNum)\n",
    "inputNum = 0 # 사용자가 맞출 수가 저장될 변수\n",
    "while True :\n",
    "    inputNum = int(input('1~ 100사이의 수를 맞춰 보세요 :'))\n",
    "    if (inputNum < 1) | (inputNum>100) :\n",
    "        print('수의 범위를 벗어났습니다')\n",
    "    elif randomNum < inputNum :\n",
    "        print('Down↓')\n",
    "    elif randomNum > inputNum :\n",
    "        print('Up↑')\n",
    "    elif randomNum == inputNum :\n",
    "        print('맞추셨습니다')\n",
    "        break\n",
    "print('DONE')\n",
    "# while randomNum != inputNum :\n",
    "#     inputNum = int(input('1~100사이의 수를 맞춰 보세요 :'))\n",
    "#     if (inputNum < 1) | (inputNum>100) :\n",
    "#         print('수의 범위를 벗어났습니다')\n",
    "#     elif randomNum < inputNum :\n",
    "#         print('Down↓')\n",
    "#     elif randomNum > inputNum :\n",
    "#         print('Up↑')\n",
    "#     elif randomNum == inputNum :\n",
    "#         print('맞추셨습니다')\n",
    "# print('DONE')"
   ]
  },
  {
   "cell_type": "markdown",
   "id": "0d1a7783",
   "metadata": {},
   "source": [
    "# 3절. 중첩루프\n",
    "(반복문 안 반복문)"
   ]
  },
  {
   "cell_type": "code",
   "execution_count": null,
   "id": "16c40a56",
   "metadata": {},
   "outputs": [],
   "source": [
    "# 2~9단 구구단 출력\n",
    "for i in range(2, 10):\n",
    "    print('{:^6}'.format(str(i)+'단'), end='\\t')\n",
    "print() #개행\n",
    "for i in range(1, 10):\n",
    "    for j in range(2, 10):\n",
    "          print('{}*{}:{:2}'.format(j, i, i*j), end='\\t')\n",
    "    print()"
   ]
  },
  {
   "cell_type": "code",
   "execution_count": null,
   "id": "86fdea34",
   "metadata": {},
   "outputs": [],
   "source": [
    "lst = [1, 2, 3]\n",
    "for i in range(len(lst)):\n",
    "    print('{}:{}'.format(i, lst[i]),end='\\t')\n",
    "print('\\n데이터만 출력')\n",
    "for l in lst:\n",
    "    print(l, end='\\t')"
   ]
  },
  {
   "cell_type": "code",
   "execution_count": null,
   "id": "0c74c6ea",
   "metadata": {},
   "outputs": [],
   "source": [
    "lst_2d = [[1, 2, 3, 4],\n",
    "          [5, 6, 7, 8],\n",
    "          [1, 2, 3, 4],] # 논리적으로 3행 4열\n",
    "for i in range(len(lst_2d)):\n",
    "    for j in range(len(lst_2d[i])):\n",
    "        print('{}행{}열:{}'.format(i, j,lst_2d[i][j]),end='\\t')\n",
    "    print() # 개행\n",
    "for row in lst_2d:\n",
    "    for data in row:\n",
    "        print(data, end='\\t')\n",
    "    print()"
   ]
  },
  {
   "cell_type": "code",
   "execution_count": null,
   "id": "bc2bb5b0",
   "metadata": {},
   "outputs": [],
   "source": [
    "lst_3d = [\n",
    "   [[1, 2, 3, 4.0],\n",
    "    [5, 6, 7, 8],\n",
    "    [1, 2, 3, 4],],\n",
    "   [[1, 2, 3, 4],\n",
    "    [5, 6, 7, 8],\n",
    "    [1, 2, 3, 4],] # 논리적으로 2면 3행 4열\n",
    "]\n",
    "for i in range(len(lst_3d)):\n",
    "    for j in range(len(lst_3d[i])):\n",
    "        for k in range(len(lst_3d[i][j])):\n",
    "            print('{}면{}행{}열:{}'.format(i, j, k, lst_3d[i][j][k]), end='\\t')\n",
    "        print()\n",
    "    print('-----------------------')\n",
    "for face in lst_3d:\n",
    "    for row in face :\n",
    "        for data in row:\n",
    "            print(data, end='\\t')\n",
    "        print() # 개행\n",
    "    print('-----------------------')    "
   ]
  },
  {
   "cell_type": "markdown",
   "id": "9ae1817e",
   "metadata": {},
   "source": [
    "# 4절. 중첩루프 탈출"
   ]
  },
  {
   "cell_type": "code",
   "execution_count": null,
   "id": "c9dabbd2",
   "metadata": {},
   "outputs": [],
   "source": [
    "for a in range(0, 3): # a <= 0, 1, 2\n",
    "    for b in range(1, 3): # b <= 1, 2\n",
    "        if a == b :\n",
    "            break # break를 만나면 안쪽 반목문만 탈출\n",
    "        print(a, b)\n",
    "    # break를 만나면 오는곳\n",
    "print('DONE')"
   ]
  },
  {
   "cell_type": "code",
   "execution_count": null,
   "id": "1f318530",
   "metadata": {
    "scrolled": true
   },
   "outputs": [],
   "source": [
    "# 중첩루프를 탈출하는 방법 1 : 플래그 변수 이용 \n",
    "flag = False # break를 만나면 True\n",
    "for a in range(0, 3): # a <= 0, 1, 2\n",
    "    for b in range(1, 3): # b <= 1, 2\n",
    "        if a == b :\n",
    "            flag = True\n",
    "            break # break를 만나면 안쪽 반목문만 탈출\n",
    "        print(a, b)\n",
    "    if flag :\n",
    "        break\n",
    "print('DONE')"
   ]
  },
  {
   "cell_type": "code",
   "execution_count": null,
   "id": "1ddaf248",
   "metadata": {},
   "outputs": [],
   "source": [
    "# 중첩루프를 탈출하는 방법 2 : Exception 이용\n",
    "# Exception을 상속받은 BreakOutLoopException 클래스 생성\n",
    "class BreakOutLoopException(Exception):\n",
    "    pass "
   ]
  },
  {
   "cell_type": "code",
   "execution_count": null,
   "id": "59b820d0",
   "metadata": {},
   "outputs": [],
   "source": [
    "try :\n",
    "    for a in range(0, 3): # a <= 0, 1, 2\n",
    "        for b in range(1, 3): # b <= 1, 2\n",
    "            if a == b :\n",
    "                raise BreakOutLoopException #강제 예외 발생 시스템 중단\n",
    "            print(a, b)\n",
    "except BreakOutLoopException :\n",
    "        # break를 만나면 오는곳\n",
    "    print('DONE')"
   ]
  },
  {
   "cell_type": "markdown",
   "id": "0aca20d7",
   "metadata": {},
   "source": [
    "# 연습문제"
   ]
  },
  {
   "cell_type": "code",
   "execution_count": 68,
   "id": "9db146bd",
   "metadata": {},
   "outputs": [
    {
     "name": "stdout",
     "output_type": "stream",
     "text": [
      "정수를 입력해주세요30\n",
      "짝수를 입력했습니다\n"
     ]
    }
   ],
   "source": [
    "#1. 양의 정수를 입력 받아 홀수인지 짝수인지를 판별하는 프로그램을 작성하세요. 양의 정수가 아니면 숫자를 다시 입력 받아야 합니다.\n",
    "num = 0\n",
    "while num<=0:\n",
    "    num = int(input('정수를 입력해주세요'))\n",
    "    if num%2 == 0:\n",
    "        print('짝수를 입력했습니다')        \n",
    "    else :\n",
    "        print('홀수를 입력했습니다')    "
   ]
  },
  {
   "cell_type": "code",
   "execution_count": 72,
   "id": "cc85ce63",
   "metadata": {},
   "outputs": [
    {
     "name": "stdout",
     "output_type": "stream",
     "text": [
      "★★★★★\n",
      "★★★★★\n",
      "★★★★★\n",
      "★★★★★\n",
      "★★★★★\n",
      "---------\n",
      "★\n",
      "★★\n",
      "★★★\n",
      "★★★★\n",
      "★★★★★\n"
     ]
    }
   ],
   "source": [
    "# 2. 중첩for문을 이용하여 아래 패턴의 별을 출력하는 프로그램을 작성하세요.\n",
    "for i in range(1,6):\n",
    "    for j in range(1,6):\n",
    "        print('{}'.format('★'), end='')\n",
    "    print()\n",
    "print('---------')\n",
    "for i in range (1, 6):\n",
    "    for j in range (1, i+1):\n",
    "        print('{}'.format('★'), end='' )\n",
    "    print()\n"
   ]
  },
  {
   "cell_type": "code",
   "execution_count": 27,
   "id": "55097e91",
   "metadata": {},
   "outputs": [
    {
     "name": "stdout",
     "output_type": "stream",
     "text": [
      "165\n"
     ]
    }
   ],
   "source": [
    "# 3. 다음 코드는 1부터 30까지(30포함) 자연수 중에서 3의 배수의 총 합을 출력하는 프로그램입니다. 빈칸의 코드를 완성하시오.\n",
    "sum = 0\n",
    "for i in range(1,31) :\n",
    "    if i%3==0 :\n",
    "        sum = sum + i\n",
    "else:\n",
    "    pass\n",
    "print(sum)"
   ]
  },
  {
   "cell_type": "code",
   "execution_count": 1,
   "id": "281fda88",
   "metadata": {},
   "outputs": [
    {
     "name": "stdout",
     "output_type": "stream",
     "text": [
      "13579"
     ]
    }
   ],
   "source": [
    "# 4. 다음 코드의 실행결과가 “1 3 5 7 9”가 되도록 빈칸을 완성하시오\n",
    "num = 0\n",
    "while num <= 10:\n",
    "    if num%2 == 1:\n",
    "        print(num, end='')\n",
    "    num += 1"
   ]
  },
  {
   "cell_type": "code",
   "execution_count": 8,
   "id": "940fd4e7",
   "metadata": {},
   "outputs": [
    {
     "name": "stdout",
     "output_type": "stream",
     "text": [
      "123\n",
      "4567\n",
      "89\n"
     ]
    }
   ],
   "source": [
    "# 5. 다음 2차원 리스트의 모든 값을 출력하는 코드입니다. 빈칸을 완성하시오.\n",
    "list2d = [ [1,2,3],[4,5,6,7],[8,9]]\n",
    "for row in list2d:\n",
    "    for data in row:\n",
    "        print(data, end='')\n",
    "    print()"
   ]
  },
  {
   "cell_type": "code",
   "execution_count": 5,
   "id": "b75270a3",
   "metadata": {},
   "outputs": [
    {
     "name": "stdout",
     "output_type": "stream",
     "text": [
      "0 apple\n",
      "1 banana\n"
     ]
    }
   ],
   "source": [
    "# 6. 다음 빈칸에 들어갈 함수 이름은?\n",
    "colors = {\"red\":'apple', \"yellow\":'banana'}\n",
    "for i, v in enumerate(colors.values()):\n",
    "    print(i, v)"
   ]
  },
  {
   "cell_type": "code",
   "execution_count": 8,
   "id": "6c1ae3a1",
   "metadata": {},
   "outputs": [
    {
     "name": "stdout",
     "output_type": "stream",
     "text": [
      "0 0\n",
      "1 1\n"
     ]
    }
   ],
   "source": [
    "# 7. . 다음 코드의 실행결과는? 0 0 , 1 1\n",
    "for i in range(0, 2):\n",
    "    for j in range(0, 2):\n",
    "        if i==j:\n",
    "            break\n",
    "    print(i, j)"
   ]
  },
  {
   "cell_type": "code",
   "execution_count": 10,
   "id": "612e1bd6",
   "metadata": {},
   "outputs": [
    {
     "name": "stdout",
     "output_type": "stream",
     "text": [
      "0 0\n",
      "1 0\n",
      "1 1\n"
     ]
    }
   ],
   "source": [
    "# 8. 다음 코드의 실행 결과로 출력될 수 없는 것은? 2\n",
    "for i in range(0, 2): \n",
    "    for j in range(0,2):\n",
    "        print(i, j)\n",
    "        if i==j:\n",
    "            break"
   ]
  },
  {
   "cell_type": "code",
   "execution_count": 11,
   "id": "bfd7f0f8",
   "metadata": {},
   "outputs": [
    {
     "name": "stdout",
     "output_type": "stream",
     "text": [
      "3579"
     ]
    }
   ],
   "source": [
    "# 9. 다음 코드의 실행결과는? 3 5 7 9 \n",
    "L = [3, 4, 5, 6, 7, 8, 9, 10]\n",
    "for i, data in enumerate(L):\n",
    "    if (i%2 == 0):\n",
    "        print(data, end='')"
   ]
  },
  {
   "cell_type": "code",
   "execution_count": 19,
   "id": "6edcfad5",
   "metadata": {},
   "outputs": [
    {
     "name": "stdout",
     "output_type": "stream",
     "text": [
      "컴퓨터가 발생한 임의의 수67\n",
      "수를 입력해주세요 : 67\n",
      "맞추셨습니다\n"
     ]
    }
   ],
   "source": [
    "# 10. 1~100사이의 정수를 맞추는 프로그램을 구현하시오\n",
    "'''(프로그램안에 임의의 숫자가 만들어지고 그 숫자를 맞추도록 합니다)\n",
    "1단계. 입력된 숫자가 틀리면 UP/DOWN 메시지를 출력하고 숫자를 맞추면 축하메\n",
    "세지와 함꼐 종료합니다(맞출 때까지 반복)\n",
    "'''\n",
    "import random\n",
    "com = random.randint (1, 101)\n",
    "print('컴퓨터가 발생한 임의의 수{}'.format(com))\n",
    "while True :\n",
    "    you = int(input('수를 입력해주세요 : '))\n",
    "    if (0 > you) | (100 < you):\n",
    "        print('수를 잘못 입력 하셨습니다')\n",
    "    elif com > you :\n",
    "        print('Up↑')\n",
    "    elif com < you :\n",
    "        print('Down↓')\n",
    "    elif com == you :\n",
    "        print('맞추셨습니다')\n",
    "        break"
   ]
  },
  {
   "cell_type": "code",
   "execution_count": 73,
   "id": "6825a9d7",
   "metadata": {},
   "outputs": [
    {
     "name": "stdout",
     "output_type": "stream",
     "text": [
      "컴퓨터가 발생한 임의의 수23\n",
      "1~100수를 입력해주세요 : 23\n",
      "맞추셨습니다\n"
     ]
    }
   ],
   "source": [
    "# 2.입력된 숫자가 틀리면 min~max 사이의 수라고 알려주고 숫자를 맞추면 축하 메시지와 함께 종료합니다.(맞출 때까지 반복)\n",
    "import random\n",
    "com = random.randint (1, 101)\n",
    "min = 1\n",
    "max = 100\n",
    "print('컴퓨터가 발생한 임의의 수{}'.format(com))\n",
    "while True :\n",
    "    you = int(input('{}~{}수를 입력해주세요 : '.format(min, max)))\n",
    "    if (min > you) | (max < you):\n",
    "        print('{} ~ {}를 잘못 입력 하셨습니다 : 입력한 수는 {}'.format(min, max, you))\n",
    "    elif com > you :\n",
    "        print('Up↑')\n",
    "        min = you+1\n",
    "    elif com < you :\n",
    "        print('Down↓')\n",
    "        max = you-1\n",
    "    elif com == you :\n",
    "        print('맞추셨습니다')\n",
    "        break"
   ]
  },
  {
   "cell_type": "code",
   "execution_count": 55,
   "id": "6b285d1a",
   "metadata": {},
   "outputs": [
    {
     "name": "stdout",
     "output_type": "stream",
     "text": [
      "컴퓨터가 발생한 임의의 수29\n",
      "1~100수를 입력해주세요 남은기회 5 : 150\n",
      "1~100수를 입력해주세요 남은기회 4 : 150\n",
      "1~100수를 입력해주세요 남은기회 3 : 150\n",
      "1~100수를 입력해주세요 남은기회 2 : 150\n",
      "1~100수를 입력해주세요 남은기회 1 : 015\n",
      "기회를 소진하셨습니다\n"
     ]
    }
   ],
   "source": [
    "import random\n",
    "com = random.randint (1, 101)\n",
    "min = 1\n",
    "max = 100\n",
    "print('컴퓨터가 발생한 임의의 수{}'.format(com))\n",
    "for i in range(5, 0, -1) :\n",
    "    you = int(input('{}~{}수를 입력해주세요 남은기회 {} : '.format(min, max, i)))\n",
    "    if (min > you) | (max < you):\n",
    "        print('{} ~ {}를 잘못 입력 하셨습니다 : 입력한 수는 {}'.format(min, max, you))\n",
    "    elif com > you :\n",
    "        print('Up↑')\n",
    "        min = you\n",
    "    elif com < you :\n",
    "        print('Down↓')\n",
    "        max = you\n",
    "    elif com == you :\n",
    "        print('맞추셨습니다')\n",
    "        break\n",
    "else :\n",
    "    print('기회를 소진하셨습니다')"
   ]
  },
  {
   "cell_type": "code",
   "execution_count": null,
   "id": "c505d873",
   "metadata": {},
   "outputs": [],
   "source": []
  }
 ],
 "metadata": {
  "kernelspec": {
   "display_name": "Python 3 (ipykernel)",
   "language": "python",
   "name": "python3"
  },
  "language_info": {
   "codemirror_mode": {
    "name": "ipython",
    "version": 3
   },
   "file_extension": ".py",
   "mimetype": "text/x-python",
   "name": "python",
   "nbconvert_exporter": "python",
   "pygments_lexer": "ipython3",
   "version": "3.10.9"
  },
  "toc": {
   "base_numbering": 1,
   "nav_menu": {},
   "number_sections": true,
   "sideBar": true,
   "skip_h1_title": false,
   "title_cell": "Table of Contents",
   "title_sidebar": "Contents",
   "toc_cell": false,
   "toc_position": {
    "height": "calc(100% - 180px)",
    "left": "10px",
    "top": "150px",
    "width": "184px"
   },
   "toc_section_display": true,
   "toc_window_display": true
  }
 },
 "nbformat": 4,
 "nbformat_minor": 5
}
