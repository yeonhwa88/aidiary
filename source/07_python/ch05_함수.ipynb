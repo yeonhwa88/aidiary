{
 "cells": [
  {
   "cell_type": "markdown",
   "id": "1ce7a6b7",
   "metadata": {},
   "source": [
    "<b><font color='red' size=6> ch05. 함수 </font></b>\n",
    "- 반복해서 사용할 코드를 묶어 놓고 그것에 이름을 붙인 것.\n",
    "- 오버로딩 불가\n",
    "- 함수의 정의\n",
    "```\n",
    "def 함수명([매개변수1, 매개변수2, ...]):\n",
    "    명령어1\n",
    "    명령어2\n",
    "    return 리턴 할 값\n",
    "```"
   ]
  },
  {
   "cell_type": "markdown",
   "id": "34668899",
   "metadata": {},
   "source": [
    "# 1절. 함수의 정의 및 사용"
   ]
  },
  {
   "cell_type": "markdown",
   "id": "4e2fc3c7",
   "metadata": {},
   "source": [
    "## 1.1 함수정의하기"
   ]
  },
  {
   "cell_type": "code",
   "execution_count": 13,
   "id": "876a8db4",
   "metadata": {},
   "outputs": [],
   "source": [
    "def my_hello(x, msg): # 함수정의 x반복할 숫자 , msg내용\n",
    "    for i in range(x): # x번 반복\n",
    "        print(i, msg)"
   ]
  },
  {
   "cell_type": "code",
   "execution_count": 12,
   "id": "90e40b05",
   "metadata": {},
   "outputs": [
    {
     "name": "stdout",
     "output_type": "stream",
     "text": [
      "0 to\n",
      "1 to\n",
      "2 to\n",
      "3 to\n",
      "4 to\n"
     ]
    }
   ],
   "source": [
    "my_hello(5, 'hello python')"
   ]
  },
  {
   "cell_type": "code",
   "execution_count": 7,
   "id": "8380faa5",
   "metadata": {},
   "outputs": [
    {
     "data": {
      "text/plain": [
       "function"
      ]
     },
     "execution_count": 7,
     "metadata": {},
     "output_type": "execute_result"
    }
   ],
   "source": [
    "type(my_hello)"
   ]
  },
  {
   "cell_type": "code",
   "execution_count": 8,
   "id": "7eb78876",
   "metadata": {},
   "outputs": [
    {
     "data": {
      "text/plain": [
       "int"
      ]
     },
     "execution_count": 8,
     "metadata": {},
     "output_type": "execute_result"
    }
   ],
   "source": [
    "my_hello = 10\n",
    "type(my_hello)"
   ]
  },
  {
   "cell_type": "code",
   "execution_count": 10,
   "id": "a76599cb",
   "metadata": {},
   "outputs": [
    {
     "ename": "TypeError",
     "evalue": "'int' object is not callable",
     "output_type": "error",
     "traceback": [
      "\u001b[1;31m---------------------------------------------------------------------------\u001b[0m",
      "\u001b[1;31mTypeError\u001b[0m                                 Traceback (most recent call last)",
      "Cell \u001b[1;32mIn[10], line 1\u001b[0m\n\u001b[1;32m----> 1\u001b[0m \u001b[43mmy_hello\u001b[49m\u001b[43m(\u001b[49m\u001b[38;5;241;43m5\u001b[39;49m\u001b[43m,\u001b[49m\u001b[43m \u001b[49m\u001b[38;5;124;43m'\u001b[39;49m\u001b[38;5;124;43mto\u001b[39;49m\u001b[38;5;124;43m'\u001b[39;49m\u001b[43m)\u001b[49m\n",
      "\u001b[1;31mTypeError\u001b[0m: 'int' object is not callable"
     ]
    }
   ],
   "source": [
    "my_hello(5, 'hello python') # 오류"
   ]
  },
  {
   "cell_type": "code",
   "execution_count": null,
   "id": "e0f11e24",
   "metadata": {},
   "outputs": [],
   "source": [
    "del my_hello\n",
    "# 변수를 삭제해도 함수는 사용불가(파이썬 내장함수만 사용 가능)"
   ]
  },
  {
   "cell_type": "code",
   "execution_count": 15,
   "id": "a8df1789",
   "metadata": {},
   "outputs": [],
   "source": [
    "def my_hello(x, msg): # 함수정의 x반복할 숫자 , msg내용\n",
    "    for i in range(x): # x번 반복\n",
    "        print(i, msg)"
   ]
  },
  {
   "cell_type": "code",
   "execution_count": 16,
   "id": "d615ac18",
   "metadata": {},
   "outputs": [],
   "source": [
    "def my_hello():\n",
    "    print('Hello, python')\n",
    "    print('Hello, World')"
   ]
  },
  {
   "cell_type": "code",
   "execution_count": 18,
   "id": "a356e153",
   "metadata": {},
   "outputs": [
    {
     "name": "stdout",
     "output_type": "stream",
     "text": [
      "Hello, python\n",
      "Hello, World\n"
     ]
    }
   ],
   "source": [
    "my_hello() "
   ]
  },
  {
   "cell_type": "code",
   "execution_count": 19,
   "id": "4c6c3b72",
   "metadata": {},
   "outputs": [
    {
     "data": {
      "text/plain": [
       "<function __main__.my_hello()>"
      ]
     },
     "execution_count": 19,
     "metadata": {},
     "output_type": "execute_result"
    }
   ],
   "source": [
    "my_hello # 내가 실행하고 있는 파일 main 파일"
   ]
  },
  {
   "cell_type": "code",
   "execution_count": 21,
   "id": "1d3a662f",
   "metadata": {},
   "outputs": [
    {
     "data": {
      "text/plain": [
       "'__main__'"
      ]
     },
     "execution_count": 21,
     "metadata": {},
     "output_type": "execute_result"
    }
   ],
   "source": [
    "__name__"
   ]
  },
  {
   "cell_type": "code",
   "execution_count": 23,
   "id": "2352d7b5",
   "metadata": {},
   "outputs": [
    {
     "name": "stdout",
     "output_type": "stream",
     "text": [
      "Hello, python\n",
      "Hello, World\n"
     ]
    }
   ],
   "source": [
    "if __name__ == \"__main__\":\n",
    "    my_hello()"
   ]
  },
  {
   "cell_type": "code",
   "execution_count": 1,
   "id": "0db24e60",
   "metadata": {},
   "outputs": [],
   "source": [
    "import a # a.py(모듈 파일) 가 해석되서 메모리에 로드"
   ]
  },
  {
   "cell_type": "code",
   "execution_count": 5,
   "id": "fd7ff85f",
   "metadata": {},
   "outputs": [
    {
     "name": "stdout",
     "output_type": "stream",
     "text": [
      "모듈(*.py파일) 테스트입니다\n",
      "주말 잘 보내세요\n"
     ]
    }
   ],
   "source": [
    "a.test()"
   ]
  },
  {
   "cell_type": "code",
   "execution_count": 1,
   "id": "5f62cd0c",
   "metadata": {},
   "outputs": [],
   "source": [
    "from a import test # a 모듈파일안에 test 로드"
   ]
  },
  {
   "cell_type": "code",
   "execution_count": 2,
   "id": "3662b831",
   "metadata": {},
   "outputs": [
    {
     "name": "stdout",
     "output_type": "stream",
     "text": [
      "모듈(*.py파일) 테스트입니다\n",
      "주말 잘 보내세요\n"
     ]
    }
   ],
   "source": [
    "test()"
   ]
  },
  {
   "cell_type": "markdown",
   "id": "7317e154",
   "metadata": {},
   "source": [
    "## 1.2 docstring"
   ]
  },
  {
   "cell_type": "code",
   "execution_count": 11,
   "id": "0223d9e1",
   "metadata": {},
   "outputs": [],
   "source": [
    "def my_funtion():\n",
    "    '''\n",
    "    함수의 첫 라인에 독스트링을 포함할 수 있습니다.\n",
    "    독스트링은 함수의 설명서를 달아주는 역할.\n",
    "    주석보다 많이 기능을 포함(Shift + Tab으로 독스트링을 볼수 있음)\n",
    "    '''\n",
    "    pass # 아무것도 안함"
   ]
  },
  {
   "cell_type": "code",
   "execution_count": 10,
   "id": "e2e29286",
   "metadata": {},
   "outputs": [
    {
     "name": "stdout",
     "output_type": "stream",
     "text": [
      "\n",
      "    함수의 첫 라인에 독스트링을 포함할 수 있습니다.\n",
      "    독스트링은 함수의 설명서를 달아주는 역할.\n",
      "    주석보다 많이 기능을 포함(Shift + Tab으로 독스트링을 볼수 있음)\n",
      "    \n"
     ]
    }
   ],
   "source": [
    "print(my_funtion.__doc__)"
   ]
  },
  {
   "cell_type": "code",
   "execution_count": 13,
   "id": "e87cab14",
   "metadata": {},
   "outputs": [],
   "source": [
    "def fibonacci(n):\n",
    "    '''\n",
    "    매개변수로 들어온 n값 미만의 피보나치 수열(각항이 이전 두항의 합)을 출력합니다\n",
    "    ex. n=10 : 0, 1, 1, 2, 3, 5, 8\n",
    "    '''\n",
    "    a, b = 0, 1\n",
    "    while a < n :\n",
    "        print(a, end=\" \") # end는 키워드인수 \n",
    "        a, b = b, a+b\n",
    "    print()"
   ]
  },
  {
   "cell_type": "code",
   "execution_count": 3,
   "id": "0dd20f47",
   "metadata": {},
   "outputs": [
    {
     "name": "stdout",
     "output_type": "stream",
     "text": [
      "0 1 1 2 3 5 8 \n"
     ]
    }
   ],
   "source": [
    "fibonacci(10)"
   ]
  },
  {
   "cell_type": "markdown",
   "id": "1cf3cdb0",
   "metadata": {},
   "source": [
    "## 1.3 지역변수(local var)와 전역변수(global var)\n",
    "- 함수안에서 선언한 변수는 지역변수(실행되고 나면 사라짐)\n",
    "- 전역변수는 함수안에서도 사용가능"
   ]
  },
  {
   "cell_type": "code",
   "execution_count": 9,
   "id": "a5ff55d5",
   "metadata": {},
   "outputs": [
    {
     "name": "stdout",
     "output_type": "stream",
     "text": [
      "함수 안 100\n",
      "함수 밖 100\n"
     ]
    }
   ],
   "source": [
    "global_var = 100 # 전역변수\n",
    "def func1():\n",
    "    print('함수 안',global_var)\n",
    "func1()\n",
    "print('함수 밖',global_var)"
   ]
  },
  {
   "cell_type": "code",
   "execution_count": 13,
   "id": "92e81d18",
   "metadata": {},
   "outputs": [
    {
     "name": "stdout",
     "output_type": "stream",
     "text": [
      "함수 안 200\n"
     ]
    },
    {
     "ename": "NameError",
     "evalue": "name 'local_var' is not defined",
     "output_type": "error",
     "traceback": [
      "\u001b[1;31m---------------------------------------------------------------------------\u001b[0m",
      "\u001b[1;31mNameError\u001b[0m                                 Traceback (most recent call last)",
      "Cell \u001b[1;32mIn[13], line 5\u001b[0m\n\u001b[0;32m      3\u001b[0m     \u001b[38;5;28mprint\u001b[39m(\u001b[38;5;124m'\u001b[39m\u001b[38;5;124m함수 안\u001b[39m\u001b[38;5;124m'\u001b[39m, local_var)\n\u001b[0;32m      4\u001b[0m func2()\n\u001b[1;32m----> 5\u001b[0m \u001b[38;5;28mprint\u001b[39m(\u001b[38;5;124m'\u001b[39m\u001b[38;5;124m함수 밖\u001b[39m\u001b[38;5;124m'\u001b[39m, \u001b[43mlocal_var\u001b[49m)\n",
      "\u001b[1;31mNameError\u001b[0m: name 'local_var' is not defined"
     ]
    }
   ],
   "source": [
    "def func2():\n",
    "    local_var = 200 # 지역변수\n",
    "    print('함수 안', local_var)\n",
    "func2()\n",
    "print('함수 밖', local_var) # 오류"
   ]
  },
  {
   "cell_type": "code",
   "execution_count": 16,
   "id": "c3c01f2d",
   "metadata": {},
   "outputs": [
    {
     "name": "stdout",
     "output_type": "stream",
     "text": [
      "지역변수 g_Var= 200\n",
      "전역변수 g_var= 100\n",
      "지역변수 g_Var= 200\n"
     ]
    }
   ],
   "source": [
    "g_var = 100 # 전역변수(변수 선언과 할당)\n",
    "def func3():\n",
    "    g_var = 200 # 지역변수(변수 선언과 할당)\n",
    "    print('지역변수 g_Var=', g_var)\n",
    "func3()\n",
    "print('전역변수 g_var=', g_var)"
   ]
  },
  {
   "cell_type": "code",
   "execution_count": 20,
   "id": "57c09e10",
   "metadata": {},
   "outputs": [
    {
     "ename": "UnboundLocalError",
     "evalue": "local variable 'g_var' referenced before assignment",
     "output_type": "error",
     "traceback": [
      "\u001b[1;31m---------------------------------------------------------------------------\u001b[0m",
      "\u001b[1;31mUnboundLocalError\u001b[0m                         Traceback (most recent call last)",
      "Cell \u001b[1;32mIn[20], line 6\u001b[0m\n\u001b[0;32m      4\u001b[0m     \u001b[38;5;28mprint\u001b[39m(\u001b[38;5;124m'\u001b[39m\u001b[38;5;124m함수 안 g_var :\u001b[39m\u001b[38;5;124m'\u001b[39m,g_var)\n\u001b[0;32m      5\u001b[0m     g_var \u001b[38;5;241m=\u001b[39m \u001b[38;5;241m200\u001b[39m \u001b[38;5;66;03m# 지역변수\u001b[39;00m\n\u001b[1;32m----> 6\u001b[0m \u001b[43mfunc3\u001b[49m\u001b[43m(\u001b[49m\u001b[43m)\u001b[49m\n",
      "Cell \u001b[1;32mIn[20], line 4\u001b[0m, in \u001b[0;36mfunc3\u001b[1;34m()\u001b[0m\n\u001b[0;32m      3\u001b[0m \u001b[38;5;28;01mdef\u001b[39;00m \u001b[38;5;21mfunc3\u001b[39m():\n\u001b[1;32m----> 4\u001b[0m     \u001b[38;5;28mprint\u001b[39m(\u001b[38;5;124m'\u001b[39m\u001b[38;5;124m함수 안 g_var :\u001b[39m\u001b[38;5;124m'\u001b[39m,\u001b[43mg_var\u001b[49m)\n\u001b[0;32m      5\u001b[0m     g_var \u001b[38;5;241m=\u001b[39m \u001b[38;5;241m200\u001b[39m\n",
      "\u001b[1;31mUnboundLocalError\u001b[0m: local variable 'g_var' referenced before assignment"
     ]
    }
   ],
   "source": [
    "# 렉시컬 특성\n",
    "g_var = 100 # 전역변수\n",
    "def func3():\n",
    "    print('함수 안 g_var :',g_var)\n",
    "    g_var = 200 # 지역변수\n",
    "func3() # 에러"
   ]
  },
  {
   "cell_type": "code",
   "execution_count": 22,
   "id": "cd74b2dc",
   "metadata": {},
   "outputs": [
    {
     "name": "stdout",
     "output_type": "stream",
     "text": [
      "함수 안 g_var : 100\n",
      "함수 밖 g_var: 200\n"
     ]
    }
   ],
   "source": [
    "# 렉시컬 특성\n",
    "g_var = 100 # 전역변수\n",
    "def func3():\n",
    "    global g_var # func3 함수내에서는 g_var는 전역변수를 쓴다\n",
    "    print('함수 안 g_var :',g_var)\n",
    "    g_var = 200 \n",
    "func3() \n",
    "print('함수 밖 g_var :', g_var)"
   ]
  },
  {
   "cell_type": "markdown",
   "id": "32ad71be",
   "metadata": {},
   "source": [
    "## 1.4 값에 의한 호출\n",
    "- 함수에 인수로 전달되는 변수가 스칼라변수(문자, 숫자, 논리형)일 때"
   ]
  },
  {
   "cell_type": "code",
   "execution_count": 3,
   "id": "facc5129",
   "metadata": {},
   "outputs": [
    {
     "data": {
      "text/plain": [
       "1850480420848"
      ]
     },
     "execution_count": 3,
     "metadata": {},
     "output_type": "execute_result"
    }
   ],
   "source": [
    "foo = 'a' # 전역변수\n",
    "id(foo)"
   ]
  },
  {
   "cell_type": "code",
   "execution_count": 4,
   "id": "7d6a4f0c",
   "metadata": {},
   "outputs": [
    {
     "name": "stdout",
     "output_type": "stream",
     "text": [
      "Before : a 의주소는 1850480420848\n",
      "After : aaa 의 주소는 1850552378160\n"
     ]
    }
   ],
   "source": [
    "def func1(f): # 매개변수는 지역변수\n",
    "    print('Before :', f, '의주소는', id(f))\n",
    "    f = f*3 # aaa\n",
    "    print('After :', f, '의 주소는', id(f))\n",
    "func1(foo)"
   ]
  },
  {
   "cell_type": "code",
   "execution_count": 7,
   "id": "f43cf928",
   "metadata": {},
   "outputs": [
    {
     "name": "stdout",
     "output_type": "stream",
     "text": [
      "foo =  a 의주소는 1850480420848\n"
     ]
    }
   ],
   "source": [
    "print('foo = ', foo, '의주소는', id(foo))"
   ]
  },
  {
   "cell_type": "markdown",
   "id": "b817f919",
   "metadata": {},
   "source": [
    "## 1.5 참조에 의한 호출\n",
    "- 함수에 인수로 전달되는 변수가 리스트, 튜플, 셋, 딕셔너리, 객체일 경우"
   ]
  },
  {
   "cell_type": "code",
   "execution_count": 8,
   "id": "ac68b748",
   "metadata": {},
   "outputs": [
    {
     "data": {
      "text/plain": [
       "1850587295936"
      ]
     },
     "execution_count": 8,
     "metadata": {},
     "output_type": "execute_result"
    }
   ],
   "source": [
    "L = [1 ,2 ,3 ,4 ,5]\n",
    "id(L)"
   ]
  },
  {
   "cell_type": "code",
   "execution_count": 9,
   "id": "81147dba",
   "metadata": {},
   "outputs": [
    {
     "name": "stdout",
     "output_type": "stream",
     "text": [
      "Before : [1, 2, 3, 4, 5] 의 주소 1850587295936\n",
      "After : [1, 2, 3, 4, 5, 6] 의 주소 1850587295936\n"
     ]
    }
   ],
   "source": [
    "def func2(f): #매개변수는 지역변수\n",
    "    print('Before :', f, '의 주소', id(f))\n",
    "    f.append(6)\n",
    "    print('After :', f, '의 주소', id(f))\n",
    "func2(L)"
   ]
  },
  {
   "cell_type": "code",
   "execution_count": 10,
   "id": "99d496ef",
   "metadata": {},
   "outputs": [
    {
     "name": "stdout",
     "output_type": "stream",
     "text": [
      "L : [1, 2, 3, 4, 5, 6] 의주소는 1850587295936\n"
     ]
    }
   ],
   "source": [
    "print('L :', L, '의주소는', id(L))"
   ]
  },
  {
   "cell_type": "markdown",
   "id": "aca3f6bf",
   "metadata": {},
   "source": [
    "## 1.6 함수의 이름 변경\n",
    "- Python : 함수형언어, 객체지향언어"
   ]
  },
  {
   "cell_type": "code",
   "execution_count": 14,
   "id": "bc79caa6",
   "metadata": {},
   "outputs": [
    {
     "name": "stdout",
     "output_type": "stream",
     "text": [
      "0 1 1 2 3 5 8 13 \n"
     ]
    }
   ],
   "source": [
    "fibonacci(20)"
   ]
  },
  {
   "cell_type": "code",
   "execution_count": 15,
   "id": "632d9131",
   "metadata": {},
   "outputs": [],
   "source": [
    "fibo = fibonacci # fibonacci 함수이름을 fibo로도 사용가능"
   ]
  },
  {
   "cell_type": "code",
   "execution_count": 16,
   "id": "2c7ce756",
   "metadata": {},
   "outputs": [
    {
     "name": "stdout",
     "output_type": "stream",
     "text": [
      "0 1 1 2 3 5 8 13 \n"
     ]
    }
   ],
   "source": [
    "fibo(20)"
   ]
  },
  {
   "cell_type": "markdown",
   "id": "7358350a",
   "metadata": {},
   "source": [
    "# 2절. 함수의 실행결과 반환하는 return"
   ]
  },
  {
   "cell_type": "code",
   "execution_count": 18,
   "id": "efc9e556",
   "metadata": {},
   "outputs": [],
   "source": [
    "def fibonacci_print(n):\n",
    "    '''\n",
    "    매개변수로 들어온 n값 미만의 피보나치 수열(각항이 이전 두항의 합)을 출력합니다\n",
    "    ex. n=10 : 0, 1, 1, 2, 3, 5, 8\n",
    "    '''\n",
    "    a, b = 0, 1\n",
    "    while a < n :\n",
    "        print(a, end=\" \") # end는 키워드인수 \n",
    "        a, b = b, a+b\n",
    "    print()\n",
    "def fibonacci(n):\n",
    "    '''\n",
    "    매개변수로 들어온 n값 미만의 피보나치 수열을 리스트로 return\n",
    "    '''\n",
    "    result = []\n",
    "    a, b = 0, 1\n",
    "    while a<n :\n",
    "        result.append(a)\n",
    "        a, b = b, a+b\n",
    "    return result"
   ]
  },
  {
   "cell_type": "code",
   "execution_count": 21,
   "id": "00e75e9e",
   "metadata": {},
   "outputs": [
    {
     "name": "stdout",
     "output_type": "stream",
     "text": [
      "0 1 1 2 3 5 8 \n",
      "None\n",
      "<class 'NoneType'>\n"
     ]
    }
   ],
   "source": [
    "x = fibonacci_print(10)\n",
    "print(x) # return이 없는 함수를 할당받으면 None(결측치)\n",
    "print(type(x))"
   ]
  },
  {
   "cell_type": "code",
   "execution_count": 22,
   "id": "c90145bb",
   "metadata": {},
   "outputs": [
    {
     "name": "stdout",
     "output_type": "stream",
     "text": [
      "[0, 1, 1, 2, 3, 5, 8]\n"
     ]
    }
   ],
   "source": [
    "x = fibonacci(10)\n",
    "print(x)"
   ]
  },
  {
   "cell_type": "markdown",
   "id": "baec50f0",
   "metadata": {},
   "source": [
    "# 여러개 값 return"
   ]
  },
  {
   "cell_type": "code",
   "execution_count": 23,
   "id": "6c88bac7",
   "metadata": {},
   "outputs": [],
   "source": [
    "def swap(a, b):\n",
    "    '''\n",
    "    매개변수의 순서를 바꿔서 return\n",
    "    '''\n",
    "    return b, a #튜플로 리턴"
   ]
  },
  {
   "cell_type": "code",
   "execution_count": 25,
   "id": "15d2b0a7",
   "metadata": {},
   "outputs": [
    {
     "name": "stdout",
     "output_type": "stream",
     "text": [
      "함수 실행 전 x, y =  5 10\n",
      "함수 실행 후 x, y = 10 5\n"
     ]
    }
   ],
   "source": [
    "x, y = 5, 10\n",
    "print('함수 실행 전 x, y = ', x, y)\n",
    "x, y = swap(x, y)\n",
    "print('함수 실행 후 x, y =', x, y)"
   ]
  },
  {
   "cell_type": "code",
   "execution_count": 4,
   "id": "fcda3b91",
   "metadata": {},
   "outputs": [
    {
     "ename": "NameError",
     "evalue": "name 'swap' is not defined",
     "output_type": "error",
     "traceback": [
      "\u001b[1;31m---------------------------------------------------------------------------\u001b[0m",
      "\u001b[1;31mNameError\u001b[0m                                 Traceback (most recent call last)",
      "Cell \u001b[1;32mIn[4], line 1\u001b[0m\n\u001b[1;32m----> 1\u001b[0m a \u001b[38;5;241m=\u001b[39m \u001b[43mswap\u001b[49m(\u001b[38;5;241m10\u001b[39m, \u001b[38;5;241m20\u001b[39m)\n\u001b[0;32m      2\u001b[0m \u001b[38;5;28mprint\u001b[39m(\u001b[38;5;28mtype\u001b[39m(a))\n\u001b[0;32m      3\u001b[0m \u001b[38;5;28mprint\u001b[39m(a)\n",
      "\u001b[1;31mNameError\u001b[0m: name 'swap' is not defined"
     ]
    }
   ],
   "source": [
    "a = swap(10, 20)\n",
    "print(type(a))\n",
    "print(a)"
   ]
  },
  {
   "cell_type": "markdown",
   "id": "4e865148",
   "metadata": {},
   "source": [
    "# 3절. 함수의 매개변수 ★\n",
    "## 3.1 기본값을 갖는 매개변수"
   ]
  },
  {
   "cell_type": "code",
   "execution_count": 8,
   "id": "02c5750c",
   "metadata": {},
   "outputs": [],
   "source": [
    "def make_url(ip, port=80): # 순서인수가 > 기본값을 갖는 매개변수\n",
    "    return \"http://{}:{}\".format(ip, port)"
   ]
  },
  {
   "cell_type": "code",
   "execution_count": 9,
   "id": "7d4820ff",
   "metadata": {},
   "outputs": [
    {
     "name": "stdout",
     "output_type": "stream",
     "text": [
      "http://localhost:8090\n",
      "http://localhost:80\n",
      "http://www.naver.com:9090\n"
     ]
    }
   ],
   "source": [
    "print(make_url('localhost',8090)) # 8090은 안넣어도됨 안넣으면 기본값으로 한다\n",
    "print(make_url('localhost'))\n",
    "print(make_url(port=9090, ip='www.naver.com'))"
   ]
  },
  {
   "cell_type": "markdown",
   "id": "7994f318",
   "metadata": {},
   "source": [
    "## 3.2 기본 변수 갖는 매개변수\n",
    "- 기본변수가 스칼라 변수(문자, 숫자, 논리형) 일 때\n",
    "- 기본변수가 리스트, 셋, 딕셔너리 또는 객체일 때"
   ]
  },
  {
   "cell_type": "code",
   "execution_count": 10,
   "id": "cf2381e6",
   "metadata": {},
   "outputs": [],
   "source": [
    "i = 5\n",
    "# 기본변수가 스칼라변수일 때 : arg의 기본값은 함수가 정의되는 시점으로 셋팅\n",
    "def func2(arg=i):\n",
    "    print('arg=', arg)"
   ]
  },
  {
   "cell_type": "code",
   "execution_count": 11,
   "id": "13483d10",
   "metadata": {},
   "outputs": [
    {
     "name": "stdout",
     "output_type": "stream",
     "text": [
      "arg= 5\n"
     ]
    }
   ],
   "source": [
    "i = 10\n",
    "func2()"
   ]
  },
  {
   "cell_type": "code",
   "execution_count": 15,
   "id": "f338bd30",
   "metadata": {},
   "outputs": [
    {
     "name": "stdout",
     "output_type": "stream",
     "text": [
      "[10]\n",
      "list_ : [10]\n"
     ]
    }
   ],
   "source": [
    "# 기본변수가 리스트, 셋, 딕셔너리, 객체일 때 : 실행되는 시점\n",
    "list_ = [] \n",
    "def func3(a, L=list_): # 기본값을 변수로 두면 전부 공유\n",
    "    L.append(a)\n",
    "    return L\n",
    "print(func3(10))\n",
    "print('list_ :',list_)"
   ]
  },
  {
   "cell_type": "code",
   "execution_count": 16,
   "id": "2ffe0daf",
   "metadata": {},
   "outputs": [
    {
     "name": "stdout",
     "output_type": "stream",
     "text": [
      "[10, 20]\n",
      "list_ :  [10, 20]\n"
     ]
    }
   ],
   "source": [
    "print(func3(20))\n",
    "print('list_ : ',list_)"
   ]
  },
  {
   "cell_type": "code",
   "execution_count": 17,
   "id": "e9fed78d",
   "metadata": {},
   "outputs": [
    {
     "name": "stdout",
     "output_type": "stream",
     "text": [
      "[10, 20, 30]\n",
      "list_: [10, 20, 30]\n"
     ]
    }
   ],
   "source": [
    "print(func3(30))\n",
    "print('list_:', list_)"
   ]
  },
  {
   "cell_type": "code",
   "execution_count": 22,
   "id": "379d6ff4",
   "metadata": {},
   "outputs": [
    {
     "name": "stdout",
     "output_type": "stream",
     "text": [
      "[10]\n",
      "[1, 2, 3, 10]\n"
     ]
    }
   ],
   "source": [
    "def func3(a, L=[]): # 기본값이 변수로 두지않으면 공유 하지 않음 \n",
    "    L.append(a)\n",
    "    return L\n",
    "print(func3(10))\n",
    "print(func3(10, [1, 2, 3]))"
   ]
  },
  {
   "cell_type": "markdown",
   "id": "8d332b05",
   "metadata": {},
   "source": [
    "## 3.3 순서인수, 키워드인수\n",
    "- 순서인수 : 함수에 정의된 순서대로 전달방식  호출할때 방식\n",
    "- 키워드인수 : 인수의 이름을 명시적으로 전달방식 호출할때 방식\n",
    "- 함수정의(선언)시 순서인수와 키워드인수가 같이 올 때는 : 순서는 (순서인수 > 키워드인수) \n",
    "```\n",
    "    def function명(변수명1, 변수명2, .... 변수명n = 기본값):\n",
    "```"
   ]
  },
  {
   "cell_type": "code",
   "execution_count": 31,
   "id": "12e75b35",
   "metadata": {},
   "outputs": [],
   "source": [
    "def func4(a, L=None):\n",
    "    if L is None : # None을 비교할땐 is None\n",
    "        L = []\n",
    "    L.append(a)\n",
    "    return L"
   ]
  },
  {
   "cell_type": "code",
   "execution_count": 35,
   "id": "89ddf409",
   "metadata": {},
   "outputs": [
    {
     "name": "stdout",
     "output_type": "stream",
     "text": [
      "[10]\n",
      "[10, 10]\n",
      "[20]\n",
      "[20]\n"
     ]
    }
   ],
   "source": [
    "lst = []\n",
    "print(func4(10, lst))\n",
    "print(func4(L=lst, a= 10)) # 호출할때는 순서가 바뀌어도 상관없음\n",
    "print(func4(20))\n",
    "print(func4(20, None))"
   ]
  },
  {
   "cell_type": "markdown",
   "id": "132b80d2",
   "metadata": {},
   "source": [
    "## 3.4 튜플 매개변수를 이용한 가변인수 설정"
   ]
  },
  {
   "cell_type": "code",
   "execution_count": 36,
   "id": "2851f02d",
   "metadata": {},
   "outputs": [],
   "source": [
    "def add(a, b):\n",
    "    return a+b\n",
    "def add(a, b, c): # 재 함수 선언시 매개변수 2개는 덮어씌워져서 매개변수 3개만 가능\n",
    "    return a+b+c"
   ]
  },
  {
   "cell_type": "code",
   "execution_count": 39,
   "id": "12c57b97",
   "metadata": {},
   "outputs": [
    {
     "ename": "TypeError",
     "evalue": "add() missing 1 required positional argument: 'c'",
     "output_type": "error",
     "traceback": [
      "\u001b[1;31m---------------------------------------------------------------------------\u001b[0m",
      "\u001b[1;31mTypeError\u001b[0m                                 Traceback (most recent call last)",
      "Cell \u001b[1;32mIn[39], line 1\u001b[0m\n\u001b[1;32m----> 1\u001b[0m \u001b[43madd\u001b[49m\u001b[43m(\u001b[49m\u001b[38;5;241;43m1\u001b[39;49m\u001b[43m,\u001b[49m\u001b[38;5;241;43m2\u001b[39;49m\u001b[43m)\u001b[49m\n",
      "\u001b[1;31mTypeError\u001b[0m: add() missing 1 required positional argument: 'c'"
     ]
    }
   ],
   "source": [
    "add(1,2) # 에러"
   ]
  },
  {
   "cell_type": "code",
   "execution_count": 50,
   "id": "e65356db",
   "metadata": {},
   "outputs": [],
   "source": [
    "# 가변인자 함수 add\n",
    "# args 앞의 * : args가 튜플로 전달 (매개변수명은 아무거나상관없음)\n",
    "def add(*args):\n",
    "    '전달받은 매개변수들의 합을 return, 매개변수가 없는 경우 -1을 return'\n",
    "    # print(args)\n",
    "    sum = 0 # 누적변수\n",
    "    if len(args) == 0:\n",
    "        return -1\n",
    "    for num in args:\n",
    "        sum += num\n",
    "    return sum"
   ]
  },
  {
   "cell_type": "code",
   "execution_count": 51,
   "id": "36d11f11",
   "metadata": {},
   "outputs": [
    {
     "name": "stdout",
     "output_type": "stream",
     "text": [
      "1\n",
      "10\n",
      "36\n",
      "-1\n"
     ]
    }
   ],
   "source": [
    "print(add(1))\n",
    "print(add(1,2,3,4))\n",
    "print(add(1,2,3,4,5,6,7,8))\n",
    "print(add())"
   ]
  },
  {
   "cell_type": "code",
   "execution_count": 54,
   "id": "215a51ee",
   "metadata": {},
   "outputs": [
    {
     "data": {
      "text/plain": [
       "'Java-Oracle-Web-Python'"
      ]
     },
     "execution_count": 54,
     "metadata": {},
     "output_type": "execute_result"
    }
   ],
   "source": [
    "subject = ('Java', 'Oracle', 'Web', 'Python')\n",
    "'-'.join(subject)"
   ]
  },
  {
   "cell_type": "code",
   "execution_count": 61,
   "id": "b5281253",
   "metadata": {},
   "outputs": [],
   "source": [
    "def concat(*subject, sep):\n",
    "    return sep.join(subject)"
   ]
  },
  {
   "cell_type": "code",
   "execution_count": 63,
   "id": "b3574748",
   "metadata": {},
   "outputs": [
    {
     "ename": "TypeError",
     "evalue": "concat() missing 1 required keyword-only argument: 'sep'",
     "output_type": "error",
     "traceback": [
      "\u001b[1;31m---------------------------------------------------------------------------\u001b[0m",
      "\u001b[1;31mTypeError\u001b[0m                                 Traceback (most recent call last)",
      "Cell \u001b[1;32mIn[63], line 1\u001b[0m\n\u001b[1;32m----> 1\u001b[0m \u001b[43mconcat\u001b[49m\u001b[43m(\u001b[49m\u001b[38;5;124;43m'\u001b[39;49m\u001b[38;5;124;43mJava\u001b[39;49m\u001b[38;5;124;43m'\u001b[39;49m\u001b[43m,\u001b[49m\u001b[43m \u001b[49m\u001b[38;5;124;43m'\u001b[39;49m\u001b[38;5;124;43mOracle\u001b[39;49m\u001b[38;5;124;43m'\u001b[39;49m\u001b[43m,\u001b[49m\u001b[43m \u001b[49m\u001b[38;5;124;43m'\u001b[39;49m\u001b[38;5;124;43mWeb\u001b[39;49m\u001b[38;5;124;43m'\u001b[39;49m\u001b[43m,\u001b[49m\u001b[43m \u001b[49m\u001b[38;5;124;43m'\u001b[39;49m\u001b[38;5;124;43mPython\u001b[39;49m\u001b[38;5;124;43m'\u001b[39;49m\u001b[43m,\u001b[49m\u001b[43m \u001b[49m\u001b[38;5;124;43m'\u001b[39;49m\u001b[38;5;124;43m ~ \u001b[39;49m\u001b[38;5;124;43m'\u001b[39;49m\u001b[43m)\u001b[49m\n",
      "\u001b[1;31mTypeError\u001b[0m: concat() missing 1 required keyword-only argument: 'sep'"
     ]
    }
   ],
   "source": [
    "concat('Java', 'Oracle', 'Web', 'Python', ' ~ ')"
   ]
  },
  {
   "cell_type": "code",
   "execution_count": 64,
   "id": "8c9f637f",
   "metadata": {},
   "outputs": [
    {
     "data": {
      "text/plain": [
       "'Java ~ Oracle ~ Web ~ Python'"
      ]
     },
     "execution_count": 64,
     "metadata": {},
     "output_type": "execute_result"
    }
   ],
   "source": [
    "# 해결책 1 : 파라미터이름을 지정해서 호출\n",
    "concat('Java', 'Oracle', 'Web', 'Python', sep=' ~ ')"
   ]
  },
  {
   "cell_type": "code",
   "execution_count": 65,
   "id": "804757ca",
   "metadata": {},
   "outputs": [],
   "source": [
    "# 해결책 2 : 기본값을 갖는 키워드인수 사용\n",
    "def concat(*subject, sep=' '): # 튜플인수 > 키워드인수\n",
    "    return sep.join(subject)"
   ]
  },
  {
   "cell_type": "code",
   "execution_count": 70,
   "id": "e9f94caa",
   "metadata": {},
   "outputs": [
    {
     "data": {
      "text/plain": [
       "'Java Oracle Web Python'"
      ]
     },
     "execution_count": 70,
     "metadata": {},
     "output_type": "execute_result"
    }
   ],
   "source": [
    "concat('Java', 'Oracle', 'Web', 'Python')"
   ]
  },
  {
   "cell_type": "code",
   "execution_count": 71,
   "id": "f238ac41",
   "metadata": {},
   "outputs": [],
   "source": [
    "# 해결책 3 : sep을 순서인수로 앞으로 선언\n",
    "def concat(sep, *subject):\n",
    "    return sep.join(subject)"
   ]
  },
  {
   "cell_type": "code",
   "execution_count": 72,
   "id": "fa12dbcc",
   "metadata": {},
   "outputs": [
    {
     "data": {
      "text/plain": [
       "'Java~Oracle~Web~Python'"
      ]
     },
     "execution_count": 72,
     "metadata": {},
     "output_type": "execute_result"
    }
   ],
   "source": [
    "concat('~', 'Java', 'Oracle', 'Web', 'Python')"
   ]
  },
  {
   "cell_type": "markdown",
   "id": "0c0290aa",
   "metadata": {},
   "source": [
    "## 3.5 딕셔너리 매개변수\n",
    "- 딕셔너리인수 : 여러개의 키워드인수를 딕셔너리 형태로 받아서 가변 키워드 인수로 처리"
   ]
  },
  {
   "cell_type": "code",
   "execution_count": 82,
   "id": "19c836a0",
   "metadata": {},
   "outputs": [],
   "source": [
    "def func5(**args): # * 하나면 튜플 ** 딕셔너리\n",
    "    print(args)\n",
    "    print(type(args))\n",
    "    for key, value in args.items():\n",
    "        print('{}:{}'.format(key, value))"
   ]
  },
  {
   "cell_type": "code",
   "execution_count": 83,
   "id": "25d210e6",
   "metadata": {},
   "outputs": [
    {
     "name": "stdout",
     "output_type": "stream",
     "text": [
      "{'name': '홍길동', 'age': 33}\n",
      "<class 'dict'>\n",
      "name:홍길동\n",
      "age:33\n"
     ]
    }
   ],
   "source": [
    "func5(name = '홍길동', age = 33)"
   ]
  },
  {
   "cell_type": "code",
   "execution_count": 84,
   "id": "c47a7d21",
   "metadata": {},
   "outputs": [
    {
     "name": "stdout",
     "output_type": "stream",
     "text": [
      "{'name': '김길동', 'address': '서울', 'tel': '010-9999-9999'}\n",
      "<class 'dict'>\n",
      "name:김길동\n",
      "address:서울\n",
      "tel:010-9999-9999\n"
     ]
    }
   ],
   "source": [
    "func5(name='김길동', address='서울', tel = '010-9999-9999')"
   ]
  },
  {
   "cell_type": "markdown",
   "id": "6d161421",
   "metadata": {},
   "source": [
    "## 3.6 함수 정의시 매개변수의 순서\n",
    "순서인수 > 튜플인수(*) > 키워드인수(기본값을갖는) > 딕셔너리인수(**)"
   ]
  },
  {
   "cell_type": "code",
   "execution_count": 85,
   "id": "56e5f6d5",
   "metadata": {},
   "outputs": [],
   "source": [
    "# 순서인수 > 튜플인수 > 딕셔너리인수\n",
    "def func6(a, b, *c , **d) :\n",
    "    print('순서인수 a= ',a)\n",
    "    print('순서인수 b= ',b)\n",
    "    print('튜플인수 c= ',c)\n",
    "    print('딕셔너리인수 d= ',d)"
   ]
  },
  {
   "cell_type": "code",
   "execution_count": 86,
   "id": "4859e7a1",
   "metadata": {},
   "outputs": [
    {
     "name": "stdout",
     "output_type": "stream",
     "text": [
      "순서인수 a=  10\n",
      "순서인수 b=  20\n",
      "튜플인수 c=  (1, 2, 3, 4, 5, 7)\n",
      "딕셔너리인수 d=  {'name': 'kim', 'age': 30}\n"
     ]
    }
   ],
   "source": [
    "func6(10,20, 1,2,3,4,5,7, name='kim', age=30)"
   ]
  },
  {
   "cell_type": "code",
   "execution_count": 1,
   "id": "9f749cf7",
   "metadata": {},
   "outputs": [],
   "source": [
    "# 순서인수 > 튜플인수 > 키워드인수 > 딕셔너리인수\n",
    "def func7(a, b, c, *d, e=10, **f) :\n",
    "    print('순서인수 a= ',a)\n",
    "    print('순서인수 b= ',b)\n",
    "    print('순서인수 c= ',c)\n",
    "    print('튜플인수 d= ',d) # 안넣으면 빈 튜플\n",
    "    print('키워드인수 e= ',e)\n",
    "    print('딕셔너리인수 f= ',f)# 안넣으면 빈 딕셔너리"
   ]
  },
  {
   "cell_type": "code",
   "execution_count": 2,
   "id": "61c9f2dd",
   "metadata": {},
   "outputs": [
    {
     "name": "stdout",
     "output_type": "stream",
     "text": [
      "순서인수 a=  10\n",
      "순서인수 b=  20\n",
      "순서인수 c=  30\n",
      "튜플인수 d=  ()\n",
      "키워드인수 e=  10\n",
      "딕셔너리인수 f=  {}\n"
     ]
    }
   ],
   "source": [
    "func7(10,20,30)"
   ]
  },
  {
   "cell_type": "code",
   "execution_count": 3,
   "id": "771d7cec",
   "metadata": {},
   "outputs": [
    {
     "name": "stdout",
     "output_type": "stream",
     "text": [
      "순서인수 a=  10\n",
      "순서인수 b=  20\n",
      "순서인수 c=  30\n",
      "튜플인수 d=  ()\n",
      "키워드인수 e=  100\n",
      "딕셔너리인수 f=  {}\n"
     ]
    }
   ],
   "source": [
    "func7(10,20,30, e=100)"
   ]
  },
  {
   "cell_type": "code",
   "execution_count": 4,
   "id": "c1bde23e",
   "metadata": {},
   "outputs": [
    {
     "name": "stdout",
     "output_type": "stream",
     "text": [
      "순서인수 a=  10\n",
      "순서인수 b=  20\n",
      "순서인수 c=  30\n",
      "튜플인수 d=  (1, 2, 3, 4, 5)\n",
      "키워드인수 e=  100\n",
      "딕셔너리인수 f=  {'shape': 'rect', 'width': 20, 'height': 30}\n"
     ]
    }
   ],
   "source": [
    "func7(10,20,30, 1,2,3,4,5, e=100, shape='rect', width=20, height=30)"
   ]
  },
  {
   "cell_type": "markdown",
   "id": "b26b4ee2",
   "metadata": {},
   "source": [
    "## 3.7 인수의 언패킹\n",
    "### 튜플인수 언패킹"
   ]
  },
  {
   "cell_type": "code",
   "execution_count": 12,
   "id": "0293f3ce",
   "metadata": {},
   "outputs": [],
   "source": [
    "def add(*args): # ((1, 2, 3, 4, 5, 6, 7, 8),)\n",
    "    sum = 0\n",
    "    for num in args:\n",
    "        sum += num\n",
    "    return sum"
   ]
  },
  {
   "cell_type": "code",
   "execution_count": 13,
   "id": "79966381",
   "metadata": {},
   "outputs": [
    {
     "data": {
      "text/plain": [
       "15"
      ]
     },
     "execution_count": 13,
     "metadata": {},
     "output_type": "execute_result"
    }
   ],
   "source": [
    "add(1, 2, 3, 4, 5)"
   ]
  },
  {
   "cell_type": "code",
   "execution_count": 15,
   "id": "2fa38e78",
   "metadata": {},
   "outputs": [
    {
     "data": {
      "text/plain": [
       "15"
      ]
     },
     "execution_count": 15,
     "metadata": {},
     "output_type": "execute_result"
    }
   ],
   "source": [
    "numbers = (1, 2, 3, 4, 5)\n",
    "add(*numbers) # 튜플 언패킹 "
   ]
  },
  {
   "cell_type": "code",
   "execution_count": 16,
   "id": "004136c7",
   "metadata": {},
   "outputs": [
    {
     "data": {
      "text/plain": [
       "6"
      ]
     },
     "execution_count": 16,
     "metadata": {},
     "output_type": "execute_result"
    }
   ],
   "source": [
    "num_lst = [1, 2, 3]\n",
    "add(*num_lst) # 리스트도 가능"
   ]
  },
  {
   "cell_type": "markdown",
   "id": "34dc96d4",
   "metadata": {},
   "source": [
    "### 딕셔너리 인수 언패킹"
   ]
  },
  {
   "cell_type": "code",
   "execution_count": 17,
   "id": "e9a2bea7",
   "metadata": {},
   "outputs": [
    {
     "name": "stdout",
     "output_type": "stream",
     "text": [
      "('shape', 'rect')\n",
      "('height', 30)\n",
      "('width', 40)\n"
     ]
    }
   ],
   "source": [
    "def func8(**data):\n",
    "    for item in data.items():\n",
    "        print(item)\n",
    "func8(shape='rect', height=30, width=40)"
   ]
  },
  {
   "cell_type": "code",
   "execution_count": 18,
   "id": "3d7bee8d",
   "metadata": {},
   "outputs": [
    {
     "data": {
      "text/plain": [
       "{'shape': 'triangle', 'height': 40, 'width': 30}"
      ]
     },
     "execution_count": 18,
     "metadata": {},
     "output_type": "execute_result"
    }
   ],
   "source": [
    "info = {'shape':'triangle', 'height':40, 'width':30}\n",
    "info"
   ]
  },
  {
   "cell_type": "code",
   "execution_count": 19,
   "id": "0d5bd077",
   "metadata": {},
   "outputs": [
    {
     "name": "stdout",
     "output_type": "stream",
     "text": [
      "('shape', 'triangle')\n",
      "('height', 40)\n",
      "('width', 30)\n"
     ]
    }
   ],
   "source": [
    "func8(**info) # 딕셔너리 언패킹"
   ]
  },
  {
   "cell_type": "code",
   "execution_count": null,
   "id": "dea9d438",
   "metadata": {},
   "outputs": [],
   "source": []
  }
 ],
 "metadata": {
  "kernelspec": {
   "display_name": "Python 3 (ipykernel)",
   "language": "python",
   "name": "python3"
  },
  "language_info": {
   "codemirror_mode": {
    "name": "ipython",
    "version": 3
   },
   "file_extension": ".py",
   "mimetype": "text/x-python",
   "name": "python",
   "nbconvert_exporter": "python",
   "pygments_lexer": "ipython3",
   "version": "3.10.9"
  },
  "toc": {
   "base_numbering": 1,
   "nav_menu": {},
   "number_sections": true,
   "sideBar": true,
   "skip_h1_title": false,
   "title_cell": "Table of Contents",
   "title_sidebar": "Contents",
   "toc_cell": false,
   "toc_position": {
    "height": "calc(100% - 180px)",
    "left": "10px",
    "top": "150px",
    "width": "237px"
   },
   "toc_section_display": true,
   "toc_window_display": true
  }
 },
 "nbformat": 4,
 "nbformat_minor": 5
}
