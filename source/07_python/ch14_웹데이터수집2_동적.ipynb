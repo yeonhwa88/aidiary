{
 "cells": [
  {
   "cell_type": "code",
   "execution_count": 1,
<<<<<<< HEAD
   "id": "4dad2182",
   "metadata": {
    "ExecuteTime": {
     "end_time": "2024-12-11T00:29:41.590115Z",
     "start_time": "2024-12-11T00:29:41.578470Z"
    }
   },
=======
   "id": "2eadd61d",
   "metadata": {},
>>>>>>> 5d353715c8550595b5ccc0791d5b5c7559012ee8
   "outputs": [
    {
     "data": {
      "text/html": [
       "\n",
       "<style>\n",
<<<<<<< HEAD
       "div.container{width:80% !important;}\n",
       "div.prompt {min-width:70px;}\n",
       "div#toc-header{margin-top:150px;}\n",
       "span.toc-item-num{display:none;}\n",
       "div.CodeMirror {font-family:Consolas}\n",
       "div.input {font-family:Consolas}\n",
=======
       "div.container{width:99% !important;}\n",
       "div.cell.code_cell.rendered{width:99%;}\n",
       "div.CodeMirror {font-family:Consolas; font-size:18pt;}\n",
       "div.output {font-size:19pt; font-weight:bold;}\n",
       "div.input {font-family:Consolas; font-size:19pt;}\n",
       "div.prompt {min-width:70px;}\n",
       "div#toc-wrapper{padding-top:120px;}\n",
       "span.toc-item-num{display:none;}\n",
       "div.text_cell_render ul li{font-size:16pt;padding:5px;}\n",
       "div.CodeMirror-lines > div {padding-left:10px;}\n",
       "table.dataframe{font-size:18px;}\n",
>>>>>>> 5d353715c8550595b5ccc0791d5b5c7559012ee8
       "</style>\n"
      ],
      "text/plain": [
       "<IPython.core.display.HTML object>"
      ]
     },
     "metadata": {},
     "output_type": "display_data"
    }
   ],
   "source": [
    "from IPython.display import display, HTML\n",
<<<<<<< HEAD
    "display(\n",
    "    HTML(\"\"\"\n",
    "<style>\n",
    "div.container{width:80% !important;}\n",
    "div.prompt {min-width:70px;}\n",
    "div#toc-header{margin-top:150px;}\n",
    "span.toc-item-num{display:none;}\n",
    "div.CodeMirror {font-family:Consolas}\n",
    "div.input {font-family:Consolas}\n",
=======
    "display(HTML(\"\"\"\n",
    "<style>\n",
    "div.container{width:99% !important;}\n",
    "div.cell.code_cell.rendered{width:99%;}\n",
    "div.CodeMirror {font-family:Consolas; font-size:18pt;}\n",
    "div.output {font-size:19pt; font-weight:bold;}\n",
    "div.input {font-family:Consolas; font-size:19pt;}\n",
    "div.prompt {min-width:70px;}\n",
    "div#toc-wrapper{padding-top:120px;}\n",
    "span.toc-item-num{display:none;}\n",
    "div.text_cell_render ul li{font-size:16pt;padding:5px;}\n",
    "div.CodeMirror-lines > div {padding-left:10px;}\n",
    "table.dataframe{font-size:18px;}\n",
>>>>>>> 5d353715c8550595b5ccc0791d5b5c7559012ee8
    "</style>\n",
    "\"\"\"))"
   ]
  },
  {
   "cell_type": "markdown",
<<<<<<< HEAD
   "id": "cb2d6620",
   "metadata": {},
   "source": [
    "<b><font color=\"red\" size=\"6\">ch14. 웹데이터 수집</font></b>"
   ]
  },
  {
   "cell_type": "markdown",
   "id": "67f2f587",
   "metadata": {},
   "source": [
    "# 1절. Selenium을 이용한 동적 웹크롤링 문법\n",
    " - https://selenium-python.readthedocs.io/index.html\n",
    " \n",
    " `pip install selenium`"
=======
   "id": "2ee9b5c3",
   "metadata": {},
   "source": [
    "<b><font color=\"red\" size=\"6\">ch14. 웹데이터 수집</font></b>\n",
    "# 1절. Selenium을 이용한 동적 웹크롤링 문법\n",
    "- https://selenium-python.readthedocs.io/index.html\n",
    "\n",
    "`pip install selenium`"
>>>>>>> 5d353715c8550595b5ccc0791d5b5c7559012ee8
   ]
  },
  {
   "cell_type": "code",
<<<<<<< HEAD
   "execution_count": 1,
   "id": "475e65ea",
   "metadata": {
    "ExecuteTime": {
     "end_time": "2024-12-10T08:59:44.886815Z",
     "start_time": "2024-12-10T08:59:44.656410Z"
    }
   },
=======
   "execution_count": 2,
   "id": "600a7f37",
   "metadata": {},
>>>>>>> 5d353715c8550595b5ccc0791d5b5c7559012ee8
   "outputs": [],
   "source": [
    "from selenium import webdriver\n",
    "from selenium.webdriver.common.by import By\n",
    "import time"
   ]
  },
  {
   "cell_type": "code",
<<<<<<< HEAD
   "execution_count": 23,
   "id": "e5ace7b4",
   "metadata": {
    "ExecuteTime": {
     "end_time": "2024-12-10T08:59:46.703291Z",
     "start_time": "2024-12-10T08:59:44.886815Z"
    }
   },
=======
   "execution_count": 11,
   "id": "4c6d7832",
   "metadata": {},
>>>>>>> 5d353715c8550595b5ccc0791d5b5c7559012ee8
   "outputs": [],
   "source": [
    "dv = webdriver.Chrome()\n",
    "dv.get('http://python.org')\n",
    "elem = dv.find_element(By.NAME, 'q')\n",
    "elem.clear()\n",
    "elem.send_keys('pycon')"
   ]
  },
  {
   "cell_type": "code",
<<<<<<< HEAD
   "execution_count": 24,
   "id": "79e13589",
   "metadata": {
    "ExecuteTime": {
     "end_time": "2024-12-10T08:59:47.487856Z",
     "start_time": "2024-12-10T08:59:47.421272Z"
    }
   },
   "outputs": [],
   "source": [
    "from selenium.webdriver.common.keys import Keys\n",
    "elem.send_keys(Keys.RETURN) # enter키 효과 방법1"
   ]
  },
  {
   "cell_type": "code",
   "execution_count": 25,
   "id": "31ed4811",
   "metadata": {
    "ExecuteTime": {
     "end_time": "2024-12-10T08:59:47.562289Z",
     "start_time": "2024-12-10T08:59:47.490453Z"
    }
   },
   "outputs": [],
   "source": [
    "btn_elem = dv.find_element(By.CSS_SELECTOR, 'button#submit')\n",
    "btn_elem.click() # 클릭 효과 방법2"
   ]
  },
  {
   "cell_type": "code",
   "execution_count": 26,
   "id": "312c3417",
   "metadata": {},
   "outputs": [
    {
     "name": "stdout",
     "output_type": "stream",
     "text": [
      "PSF PyCon Trademark Usage Policy - https://www.python.org/psf/trademarks/pycon\n",
      "PyCon Italia 2016 (PyCon Sette) - https://www.python.org/events/python-events/378/\n",
      "PyCon Australia 2013 - https://www.python.org/events/python-events/57/\n",
      "PyCon AU 2019 - https://www.python.org/events/python-events/776/\n",
      "PyCon Australia 2014 - https://www.python.org/events/python-events/10/\n",
      "PyCon Ireland 2012 - https://www.python.org/events/python-events/76/\n",
      "PyCon Ireland 2016 - https://www.python.org/events/python-events/429/\n",
      "PyCon Ireland 2022 - https://www.python.org/events/python-events/1320/\n",
      "PyCon Australia 2014 - https://www.python.org/events/python-events/1447/\n",
      "PyCon Ireland 2024 - https://www.python.org/events/python-events/1862/\n",
      "PyCon APAC 2025 - https://www.python.org/events/python-events/1879/\n",
      "PyCon AU 2018 - https://www.python.org/events/python-events/696/\n",
      "PyCon APAC 2022 - https://www.python.org/events/python-events/1216/\n",
      "PyCon PH 2024 - https://www.python.org/events/python-events/1661/\n",
      "PyCon Ireland 2023 - https://www.python.org/events/python-events/1568/\n",
      "PyCon PL 2014 - https://www.python.org/events/python-events/191/\n",
      "PyCon MY 2015 - https://www.python.org/events/python-events/313/\n",
      "PyCon Ireland 2015 - https://www.python.org/events/python-events/333/\n",
      "PyCon AU 2015 - https://www.python.org/events/python-events/273/\n",
      "PyCon Australia 2016 - https://www.python.org/events/python-events/357/\n"
     ]
    }
   ],
   "source": [
    "result_list = dv.find_elements(By.CSS_SELECTOR, 'li > h3 > a') # 선택자로 가져오려면 CSS_SELECTOR\n",
    "for result in result_list:\n",
    "    print('%s - %s'% (result.text, result.get_attribute('href')))"
   ]
  },
  {
   "cell_type": "code",
   "execution_count": 27,
   "id": "aefe5da3",
   "metadata": {},
   "outputs": [
    {
     "name": "stdout",
     "output_type": "stream",
     "text": [
      "PSF PyCon Trademark Usage Policy - /psf/trademarks/pycon\n",
      "PyCon Italia 2016 (PyCon Sette) - /events/python-events/378/\n",
      "PyCon Australia 2013 - /events/python-events/57/\n",
      "PyCon AU 2019 - /events/python-events/776/\n",
      "PyCon Australia 2014 - /events/python-events/10/\n",
      "PyCon Ireland 2012 - /events/python-events/76/\n",
      "PyCon Ireland 2016 - /events/python-events/429/\n",
      "PyCon Ireland 2022 - /events/python-events/1320/\n",
      "PyCon Australia 2014 - /events/python-events/1447/\n",
      "PyCon Ireland 2024 - /events/python-events/1862/\n",
      "PyCon APAC 2025 - /events/python-events/1879/\n",
      "PyCon AU 2018 - /events/python-events/696/\n",
      "PyCon APAC 2022 - /events/python-events/1216/\n",
      "PyCon PH 2024 - /events/python-events/1661/\n",
      "PyCon Ireland 2023 - /events/python-events/1568/\n",
      "PyCon PL 2014 - /events/python-events/191/\n",
      "PyCon MY 2015 - /events/python-events/313/\n",
      "PyCon Ireland 2015 - /events/python-events/333/\n",
      "PyCon AU 2015 - /events/python-events/273/\n",
      "PyCon Australia 2016 - /events/python-events/357/\n"
     ]
    }
   ],
   "source": [
    "from bs4 import BeautifulSoup\n",
    "soup = BeautifulSoup(dv.page_source, 'html.parser')\n",
    "result_list = soup.select('li > h3 > a') \n",
    "for result in result_list:\n",
    "    print('%s - %s' % (result.text, result['href']))\n",
    "# soup객체로 생성하니 도메인이 생성이 안됨"
   ]
  },
  {
   "cell_type": "code",
   "execution_count": 28,
   "id": "9880c2cd",
   "metadata": {},
   "outputs": [
    {
     "name": "stdout",
     "output_type": "stream",
     "text": [
      "현재주소 : https://www.python.org/search/?q=pycon&submit=\n",
      "https www.python.org\n",
      "도메인 : https://www.python.org\n"
     ]
    }
   ],
   "source": [
    "from urllib.parse import urlparse\n",
    "current_url = dv.current_url # 셀레니윰을 통해 접근한 현재 url\n",
    "print('현재주소 :', current_url)\n",
    "parse_url = urlparse(current_url)\n",
    "print(parse_url.scheme, parse_url.netloc)\n",
    "# domain = f'{parse_url.scheme}://{parse_url.netloc}'\n",
    "domain = '{}://{}'.format(parse_url.scheme,parse_url.netloc)\n",
    "print('도메인 :', domain)"
   ]
  },
  {
   "cell_type": "code",
   "execution_count": 29,
   "id": "1a5544ea",
   "metadata": {},
   "outputs": [
    {
     "name": "stdout",
     "output_type": "stream",
     "text": [
      "PSF PyCon Trademark Usage Policy - https://www.python.org/psf/trademarks/pycon\n",
      "PyCon Italia 2016 (PyCon Sette) - https://www.python.org/events/python-events/378/\n",
      "PyCon Australia 2013 - https://www.python.org/events/python-events/57/\n",
      "PyCon AU 2019 - https://www.python.org/events/python-events/776/\n",
      "PyCon Australia 2014 - https://www.python.org/events/python-events/10/\n",
      "PyCon Ireland 2012 - https://www.python.org/events/python-events/76/\n",
      "PyCon Ireland 2016 - https://www.python.org/events/python-events/429/\n",
      "PyCon Ireland 2022 - https://www.python.org/events/python-events/1320/\n",
      "PyCon Australia 2014 - https://www.python.org/events/python-events/1447/\n",
      "PyCon Ireland 2024 - https://www.python.org/events/python-events/1862/\n",
      "PyCon APAC 2025 - https://www.python.org/events/python-events/1879/\n",
      "PyCon AU 2018 - https://www.python.org/events/python-events/696/\n",
      "PyCon APAC 2022 - https://www.python.org/events/python-events/1216/\n",
      "PyCon PH 2024 - https://www.python.org/events/python-events/1661/\n",
      "PyCon Ireland 2023 - https://www.python.org/events/python-events/1568/\n",
      "PyCon PL 2014 - https://www.python.org/events/python-events/191/\n",
      "PyCon MY 2015 - https://www.python.org/events/python-events/313/\n",
      "PyCon Ireland 2015 - https://www.python.org/events/python-events/333/\n",
      "PyCon AU 2015 - https://www.python.org/events/python-events/273/\n",
      "PyCon Australia 2016 - https://www.python.org/events/python-events/357/\n"
     ]
    }
   ],
   "source": [
    "from bs4 import BeautifulSoup\n",
    "soup = BeautifulSoup(dv.page_source, 'html.parser')\n",
    "result_list = soup.select('li > h3 > a') \n",
    "for result in result_list:\n",
    "    print('%s - %s' % (result.text, domain + result['href']))\n",
    "# 도메인 생성해서 뒤에 나오는 href랑 붙여 출력"
   ]
  },
  {
   "cell_type": "code",
   "execution_count": 30,
   "id": "bb9d74ef",
   "metadata": {},
   "outputs": [],
   "source": [
    "dv.close() # 브라우저 종료"
   ]
  },
  {
   "cell_type": "markdown",
   "id": "0fcdccc4",
   "metadata": {},
   "source": [
    "# 2절. 동적웹크롤링 예제\n",
    "## 2-1 다음 뉴스 검색"
   ]
  },
  {
   "cell_type": "code",
   "execution_count": 1,
   "id": "b5d09c36",
   "metadata": {},
   "outputs": [
    {
     "name": "stdout",
     "output_type": "stream",
     "text": [
      "검색할 단어는 ?비트코인\n"
     ]
    }
   ],
   "source": [
    "from selenium import webdriver\n",
    "from selenium.webdriver.common.by import By\n",
    "from selenium.webdriver.common.keys import Keys\n",
    "import time\n",
    "driver = webdriver.Chrome()\n",
    "time.sleep(2)\n",
    "url = 'https://www.daum.net/'\n",
    "driver.get(url)\n",
    "# driver.implicitly_wait(0.5) # 0.5초 요소를 찾을 때까지 대기시간\n",
    "time.sleep(0.5) # 0.5초 대기\n",
    "driver.find_element(By.CLASS_NAME, 'tf_keyword').click()\n",
    "query = input('검색할 단어는 ?')\n",
    "driver.find_element(By.CSS_SELECTOR, 'input[type=\"text\"]').send_keys(query)\n",
    "# driver.find_element(By.CSS_SELECTOR, 'input[type=\"text\"]').clear() # 검색한걸 지울때 사용\n",
    "driver.find_element(By.CLASS_NAME, 'btn_ksearch').click()"
   ]
  },
  {
   "cell_type": "code",
   "execution_count": 61,
   "id": "3ea37ecb",
   "metadata": {},
   "outputs": [],
   "source": [
    "# 뉴스 탭 클릭\n",
    "driver.find_elements(By.CSS_SELECTOR, 'ul.list_tab > li')[1].click()"
   ]
  },
  {
   "cell_type": "code",
   "execution_count": 73,
   "id": "060fe6a3",
   "metadata": {},
   "outputs": [
    {
     "data": {
      "text/html": [
       "<div>\n",
       "<style scoped>\n",
       "    .dataframe tbody tr th:only-of-type {\n",
       "        vertical-align: middle;\n",
       "    }\n",
       "\n",
       "    .dataframe tbody tr th {\n",
       "        vertical-align: top;\n",
       "    }\n",
       "\n",
       "    .dataframe thead th {\n",
       "        text-align: right;\n",
       "    }\n",
       "</style>\n",
       "<table border=\"1\" class=\"dataframe\">\n",
       "  <thead>\n",
       "    <tr style=\"text-align: right;\">\n",
       "      <th></th>\n",
       "      <th>제목</th>\n",
       "      <th>링크</th>\n",
       "    </tr>\n",
       "  </thead>\n",
       "  <tbody>\n",
       "    <tr>\n",
       "      <th>0</th>\n",
       "      <td>\"미국만 코인 보유하나\"…중러도 '비트코인 비축' 카드 만지작</td>\n",
       "      <td>http://v.daum.net/v/20241210194912818</td>\n",
       "    </tr>\n",
       "    <tr>\n",
       "      <th>1</th>\n",
       "      <td>[블룸버그 칼럼]美 비트코인 비축, 나쁜 결과 가져올 것</td>\n",
       "      <td>http://v.daum.net/v/20241210095949338</td>\n",
       "    </tr>\n",
       "    <tr>\n",
       "      <th>2</th>\n",
       "      <td>[김대호 박사의 오늘의 키워드] 양자컴퓨팅·비트코인 빨간불·화웨이 금지법·트럼프 당근</td>\n",
       "      <td>http://v.daum.net/v/20241211071025706</td>\n",
       "    </tr>\n",
       "    <tr>\n",
       "      <th>3</th>\n",
       "      <td>[코인뉴스] \"죄다 파란불이네\"...비트코인 조정 국면에 알트코인도 일제히 하락</td>\n",
       "      <td>http://v.daum.net/v/20241211105754759</td>\n",
       "    </tr>\n",
       "    <tr>\n",
       "      <th>4</th>\n",
       "      <td>비트코인, 1억3600만원선까지 ‘폭락’…고점대비 10%↓</td>\n",
       "      <td>http://v.daum.net/v/20241211110153040</td>\n",
       "    </tr>\n",
       "    <tr>\n",
       "      <th>5</th>\n",
       "      <td>‘트럼프 효과’...美 비트코인 ETF에 100억불 유입</td>\n",
       "      <td>http://v.daum.net/v/20241209161507983</td>\n",
       "    </tr>\n",
       "    <tr>\n",
       "      <th>6</th>\n",
       "      <td>마이크로스트래티지, 비트코인 2만1,550개 추가 매입…\"21억 달러 규모\"</td>\n",
       "      <td>http://v.daum.net/v/20241210104806727</td>\n",
       "    </tr>\n",
       "    <tr>\n",
       "      <th>7</th>\n",
       "      <td>알트코인, 한때 20% 이상 폭락… 비트코인도 다시 10만 달러 밑으로</td>\n",
       "      <td>http://v.daum.net/v/20241210084214520</td>\n",
       "    </tr>\n",
       "    <tr>\n",
       "      <th>8</th>\n",
       "      <td>유재석 “비트코인! 비트코인!” 2011년 아닌 올초라도 말 들었어야 했나…‘$10...</td>\n",
       "      <td>http://v.daum.net/v/20241207060020551</td>\n",
       "    </tr>\n",
       "    <tr>\n",
       "      <th>9</th>\n",
       "      <td>'꿈의 10만달러' 찍은 비트코인…\"내년 20만달러 간다\"</td>\n",
       "      <td>http://v.daum.net/v/20241209173805996</td>\n",
       "    </tr>\n",
       "  </tbody>\n",
       "</table>\n",
       "</div>"
      ],
      "text/plain": [
       "                                                  제목  \\\n",
       "0                 \"미국만 코인 보유하나\"…중러도 '비트코인 비축' 카드 만지작   \n",
       "1                    [블룸버그 칼럼]美 비트코인 비축, 나쁜 결과 가져올 것   \n",
       "2    [김대호 박사의 오늘의 키워드] 양자컴퓨팅·비트코인 빨간불·화웨이 금지법·트럼프 당근   \n",
       "3       [코인뉴스] \"죄다 파란불이네\"...비트코인 조정 국면에 알트코인도 일제히 하락   \n",
       "4                   비트코인, 1억3600만원선까지 ‘폭락’…고점대비 10%↓   \n",
       "5                    ‘트럼프 효과’...美 비트코인 ETF에 100억불 유입   \n",
       "6         마이크로스트래티지, 비트코인 2만1,550개 추가 매입…\"21억 달러 규모\"   \n",
       "7            알트코인, 한때 20% 이상 폭락… 비트코인도 다시 10만 달러 밑으로   \n",
       "8  유재석 “비트코인! 비트코인!” 2011년 아닌 올초라도 말 들었어야 했나…‘$10...   \n",
       "9                   '꿈의 10만달러' 찍은 비트코인…\"내년 20만달러 간다\"   \n",
       "\n",
       "                                      링크  \n",
       "0  http://v.daum.net/v/20241210194912818  \n",
       "1  http://v.daum.net/v/20241210095949338  \n",
       "2  http://v.daum.net/v/20241211071025706  \n",
       "3  http://v.daum.net/v/20241211105754759  \n",
       "4  http://v.daum.net/v/20241211110153040  \n",
       "5  http://v.daum.net/v/20241209161507983  \n",
       "6  http://v.daum.net/v/20241210104806727  \n",
       "7  http://v.daum.net/v/20241210084214520  \n",
       "8  http://v.daum.net/v/20241207060020551  \n",
       "9  http://v.daum.net/v/20241209173805996  "
      ]
     },
     "execution_count": 73,
     "metadata": {},
     "output_type": "execute_result"
    }
   ],
   "source": [
    "news_list = []\n",
    "bodies = driver.find_elements(By.CSS_SELECTOR, 'div.item-title > strong.tit-g')\n",
    "# bodies = driver.find_elements(By.CSS_SELECTOR, 'div[class=\"item-title\"] > strong.tit-g > a')\n",
    "# print(len(bodies))\n",
    "\n",
    "for body in bodies:\n",
    "    a = body.find_element(By.TAG_NAME, 'a')\n",
    "    title = a.text\n",
    "    link = a.get_attribute('href')\n",
    "    news_list.append([title, link])\n",
    "#     print(title, link)\n",
    "\n",
    "import pandas as pd\n",
    "df = pd.DataFrame(news_list, columns={\n",
    "    '제목':title,\n",
    "    '링크':link\n",
    "})\n",
    "df"
   ]
  },
  {
   "cell_type": "code",
   "execution_count": 67,
   "id": "0f324ed8",
   "metadata": {},
   "outputs": [],
   "source": [
    "page_nav = driver.find_element(By.CSS_SELECTOR, 'div.inner_paging')\n",
    "next_page = page_nav.find_element(By.LINK_TEXT, '2')\n",
    "next_page.click()"
   ]
  },
  {
   "cell_type": "markdown",
   "id": "0e38bf16",
   "metadata": {},
   "source": [
    "## 2-2 페이징 처리\n",
    "- 다음 뉴스 페이징 처리"
   ]
  },
  {
   "cell_type": "code",
   "execution_count": 5,
   "id": "869f57bb",
   "metadata": {},
   "outputs": [
    {
     "name": "stdout",
     "output_type": "stream",
     "text": [
      "몇 페이지 크롤링 할까요 ?2\n",
      "['비트코인 조정 구간 돌입…MS 주주들, 비트코인 매입 반대[코인브리핑]', '‘초미의 관심’ MS의 비트코인 투자 여부…주주들은 “반대” 이유는', '비트코인 10만달러 시대…\"비트코인 가격 추가 상승할 것\"-메리츠', '비트코인, 조정 이어져…1억3800만원대', '숨고르기 들어간 비트코인…부탄 정부, 비트코인 매도 시작[코인브리핑]', '구글 양자컴퓨터 출시에 비트코인 흔들...\"영향없다\" 반론도', '월가 차트분석 달인 \"비트코인 85K 추락 가능성\"', \"'트럼프 효과 다했나' 가상화폐 급락…비트코인 9만5천달러 하회\", '\"비트코인 투자하면 주가 올라\" 설득했지만…MS 주주들은 \\'반대\\'', '[김대호 박사의 오늘 기업·사람] 구글·아이온큐·엔비디아·비트코인·이더리움·리플']\n",
      "['\"800만 코인러 환호\" 가상자산 과세 2년 유예… 비트코인 2억원 가나', '마이크로소프트 주주들 비트코인 투자에 반대', \"비트코인 전략 제안 거부한 마이크로소프트…주주 선택은 '안정'\", '\"미국만 코인 보유하나\"…중러도 \\'비트코인 비축\\' 카드 만지작', '[블룸버그 칼럼]美 비트코인 비축, 나쁜 결과 가져올 것', '[김대호 박사의 오늘의 키워드] 양자컴퓨팅·비트코인 빨간불·화웨이 금지법·트럼프 당근', '[코인뉴스] \"죄다 파란불이네\"...비트코인 조정 국면에 알트코인도 일제히 하락', '\"첫 조정인가\" 비트코인, 10만달러 돌파 후 3%↓', '비트코인, 1억3600만원선까지 ‘폭락’…고점대비 10%↓', '비트코인 조정국면···다시 10만 달러 밑으로']\n"
     ]
    },
    {
     "data": {
      "text/html": [
       "<div>\n",
       "<style scoped>\n",
       "    .dataframe tbody tr th:only-of-type {\n",
       "        vertical-align: middle;\n",
       "    }\n",
       "\n",
       "    .dataframe tbody tr th {\n",
       "        vertical-align: top;\n",
       "    }\n",
       "\n",
       "    .dataframe thead th {\n",
       "        text-align: right;\n",
       "    }\n",
       "</style>\n",
       "<table border=\"1\" class=\"dataframe\">\n",
       "  <thead>\n",
       "    <tr style=\"text-align: right;\">\n",
       "      <th></th>\n",
       "      <th>title</th>\n",
       "      <th>link</th>\n",
       "    </tr>\n",
       "  </thead>\n",
       "  <tbody>\n",
       "    <tr>\n",
       "      <th>0</th>\n",
       "      <td>비트코인 조정 구간 돌입…MS 주주들, 비트코인 매입 반대[코인브리핑]</td>\n",
       "      <td>http://v.daum.net/v/20241211110145033</td>\n",
       "    </tr>\n",
       "    <tr>\n",
       "      <th>1</th>\n",
       "      <td>‘초미의 관심’ MS의 비트코인 투자 여부…주주들은 “반대” 이유는</td>\n",
       "      <td>http://v.daum.net/v/20241211091115348</td>\n",
       "    </tr>\n",
       "    <tr>\n",
       "      <th>2</th>\n",
       "      <td>비트코인 10만달러 시대…\"비트코인 가격 추가 상승할 것\"-메리츠</td>\n",
       "      <td>http://v.daum.net/v/20241211084759570</td>\n",
       "    </tr>\n",
       "    <tr>\n",
       "      <th>3</th>\n",
       "      <td>비트코인, 조정 이어져…1억3800만원대</td>\n",
       "      <td>http://v.daum.net/v/20241211093550195</td>\n",
       "    </tr>\n",
       "    <tr>\n",
       "      <th>4</th>\n",
       "      <td>숨고르기 들어간 비트코인…부탄 정부, 비트코인 매도 시작[코인브리핑]</td>\n",
       "      <td>http://v.daum.net/v/20241210110343588</td>\n",
       "    </tr>\n",
       "  </tbody>\n",
       "</table>\n",
       "</div>"
      ],
      "text/plain": [
       "                                     title  \\\n",
       "0  비트코인 조정 구간 돌입…MS 주주들, 비트코인 매입 반대[코인브리핑]   \n",
       "1    ‘초미의 관심’ MS의 비트코인 투자 여부…주주들은 “반대” 이유는   \n",
       "2     비트코인 10만달러 시대…\"비트코인 가격 추가 상승할 것\"-메리츠   \n",
       "3                   비트코인, 조정 이어져…1억3800만원대   \n",
       "4   숨고르기 들어간 비트코인…부탄 정부, 비트코인 매도 시작[코인브리핑]   \n",
       "\n",
       "                                    link  \n",
       "0  http://v.daum.net/v/20241211110145033  \n",
       "1  http://v.daum.net/v/20241211091115348  \n",
       "2  http://v.daum.net/v/20241211084759570  \n",
       "3  http://v.daum.net/v/20241211093550195  \n",
       "4  http://v.daum.net/v/20241210110343588  "
      ]
     },
     "metadata": {},
     "output_type": "display_data"
    }
   ],
   "source": [
    "# 원하는 페이지 만큼 검색하여 검색 결과를 데이터프레임으로 출력 (위에 따로 작업해둔것 총괄)\n",
    "from selenium import webdriver\n",
    "from selenium.webdriver.common.by import By\n",
    "from selenium.webdriver.common.keys import Keys\n",
    "import time\n",
    "\n",
    "driver = webdriver.Chrome()\n",
    "time.sleep(1) # 1초 대기\n",
    "url = 'https://www.daum.net/'\n",
    "driver.get(url)\n",
    "# driver.implicitly_wait(0.5) # 0.5초 요소를 찾을 때까지 대기시간\n",
    "time.sleep(0.5) # 0.5초 대기\n",
    "\n",
    "driver.find_element(By.CLASS_NAME, 'tf_keyword').click()\n",
    "# query = input('검색할 단어는 ?')\n",
    "driver.find_element(By.CSS_SELECTOR, 'input[type=\"text\"]').send_keys('비트코인')\n",
    "driver.find_element(By.CLASS_NAME, 'btn_ksearch').click()\n",
    "time.sleep(1)\n",
    "\n",
    "#뉴스 탭 클릭\n",
    "driver.find_elements(By.CSS_SELECTOR, 'ul.list_tab > li')[1].click()\n",
    "\n",
    "news_list = []\n",
    "\n",
    "page_numbers = int(input('몇 페이지 크롤링 할까요 ?'))\n",
    "\n",
    "for page_number in range(1, page_numbers+1):\n",
    "    bodies = driver.find_elements(By.CSS_SELECTOR, 'div.item-title > strong.tit-g')\n",
    "#     bodies = driver.find_elements(By.CSS_SELECTOR, 'div[class=\"item-title\"] > strong.tit-g ')\n",
    "    # print(len(bodies))  # 뉴스 기사 10개\n",
    "\n",
    "    for body in bodies:\n",
    "        a = body.find_element(By.TAG_NAME, 'a')\n",
    "        title = a.text\n",
    "        link = a.get_attribute('href')\n",
    "        news_list.append([title, link])\n",
    "    #     print(title, link)\n",
    "    \n",
    "    page_nav = driver.find_element(By.CSS_SELECTOR, 'div.inner_paging')\n",
    "    next_page = page_nav.find_element(By.LINK_TEXT, str(page_number+1))\n",
    "    next_page.click()\n",
    "    time.sleep(1)\n",
    "driver.close()\n",
    "import pandas as pd \n",
    "display(pd.DataFrame(news_list, columns=['title', 'link']).head())"
   ]
  },
  {
   "cell_type": "markdown",
   "id": "b28bf939",
   "metadata": {},
   "source": [
    "## 2-3 맞춤법 검사기\n",
    "- 네이버 맞춤법 검사기 이용"
   ]
  },
  {
   "cell_type": "code",
   "execution_count": 6,
   "id": "86aaf8ca",
   "metadata": {},
   "outputs": [],
   "source": [
    "# 동적 웹 크롤링 기본 임폴트 \n",
    "from selenium import webdriver\n",
    "from selenium.webdriver.common.keys import Keys\n",
    "from selenium.webdriver.common.by import By\n",
    "from bs4 import BeautifulSoup\n",
    "import time"
   ]
  },
  {
   "cell_type": "code",
   "execution_count": 16,
   "id": "1f9410ce",
   "metadata": {},
   "outputs": [
    {
     "data": {
      "text/plain": [
       "'안녕하세요, 수고하세요'"
      ]
     },
     "execution_count": 16,
     "metadata": {},
     "output_type": "execute_result"
    }
   ],
   "source": [
    "driver = webdriver.Chrome()\n",
    "time.sleep(1)\n",
    "driver.get('https://www.naver.com/')\n",
    "elem = driver.find_element(By.CSS_SELECTOR, 'input#query')\n",
    "elem.send_keys('맞춤법 검사기')\n",
    "elem.send_keys(Keys.RETURN) # enter 키\n",
    "\n",
    "textarea = driver.find_element(By.CLASS_NAME, 'txt_gray')\n",
    "textarea.send_keys('안뇽하세요, 수고하세요')\n",
    "\n",
    "button = driver.find_element(By.CLASS_NAME, 'btn_check')\n",
    "button.click()\n",
    "time.sleep(1)\n",
    "\n",
    "soup = BeautifulSoup(driver.page_source, 'html.parser')\n",
    "result = soup.select_one('p._result_text.stand_txt').text\n",
    "result"
   ]
  },
  {
   "cell_type": "markdown",
   "id": "59313395",
   "metadata": {},
   "source": [
    "### 맞춤법 검사 전 text파일을 맞춤법 검사 완료된 text파일로 output"
   ]
  },
  {
   "cell_type": "code",
   "execution_count": null,
   "id": "12d65244",
   "metadata": {},
   "outputs": [],
   "source": [
    "# f = open('data/ch14_맞춤법검사전.txt', 'r', encoding='utf-8')\n",
    "# text = f.read()\n",
    "# f.close()"
   ]
  },
  {
   "cell_type": "code",
   "execution_count": 28,
   "id": "5a5dde30",
   "metadata": {},
   "outputs": [
    {
     "name": "stdout",
     "output_type": "stream",
     "text": [
      "210\n",
      "198\n",
      "221\n"
     ]
    }
   ],
   "source": [
    "with open('data/ch14_맞춤법검사전.txt', 'r', encoding='utf-8') as f:\n",
    "    text = f.read()\n",
    "ready_list = []\n",
    "while(len(text) > 300):\n",
    "    temp = text[:300]\n",
    "    last_dot_index = temp.rfind('\\n') # 뒤에서부터 . 찾는\n",
    "    ready_list.append(text[:last_dot_index+1]) # last_dot_index 이 앞까지 출력이 되서 +1을 해서 .까지 같이 나올수있도록\n",
    "    print(last_dot_index)\n",
    "    text = text[last_dot_index : ]\n",
    "ready_list.append(text)"
   ]
  },
  {
   "cell_type": "code",
   "execution_count": 29,
   "id": "548000f8",
   "metadata": {},
   "outputs": [
    {
     "data": {
      "text/plain": [
       "[211, 199, 222, 297]"
      ]
     },
     "execution_count": 29,
     "metadata": {},
     "output_type": "execute_result"
    }
   ],
   "source": [
    "# ready_list 확인\n",
    "[len(ready) for ready in ready_list]"
   ]
  },
  {
   "cell_type": "code",
   "execution_count": 36,
   "id": "6d1ecd7b",
   "metadata": {},
   "outputs": [
    {
     "name": "stdout",
     "output_type": "stream",
     "text": [
      "안녕하세요. 반갑습니다노벨문학상은 매년 세계에서 뛰어난 문학적 업적을 이룬 작가에게 수여되는 상으로, 스웨덴의 발명가 알프레드 노벨의 유언에 따라 1901년부터 제정되었습니다. 노벨은 자신의 재산을 사용하여 인류에 공헌한 분야에 상을 주기로 하였고, 그중 하나가 바로 문학이었습니다. 매년 수상자는 스웨덴 왕이 공식 발표하며, 시상식은 이듬해 12월 스톡홀름에서 열립니다.\n",
      "이 상은 특정 장르에 제한을 두지 않고, 다양한 분야에서 뛰어난 업적을 이룬 작가들에게 주어집니다. 주로 소설가, 시인, 극작가 등이 수상자로 선정되며, 문학적 기여를 인정받은 작가에게 수여됩니다. 노벨문학상은 그저 문학적 성취를 인정하는 것에 그치지 않고, 작가의 작품이 인류에 미친 영향, 사회적 메시지, 그리고 문화적 기여 등을 평가하는 상입니다.\n",
      "노벨문학상의 수상자들은 종종 사회적 문제를 다룬 작품을 통해 큰 영향을 미칩니다. 예를 들어, 알베르 카뮈는 실존주의와 부조리 문제를 다룬 작품으로, 토니 모리슨은 아프리카계 미국인의 역사와 문화를 탐구하는 작품으로 수상했습니다. 이처럼 노벨문학상은 단순히 뛰어난 문학 작품을 인정하는 것 이상으로, 작가가 창조한 작품을 통해 세계의 문제를 성찰하고 해결책을 제시하는 데 중요한 역할을 합니다.\n",
      "최근에는 현대 사회의 다양한 이슈들이 문학작품의 주제로 등장하면서, 노벨문학상도 그 방향에 영향을 받고 있습니다. 환경 문제, 인종 문제, 디지털 문학 등 새로운 시대적 흐름을 반영하는 작품들이 수상작으로 선정되는 추세입니다. 예를 들어, 2023년에는 일본의 소설가 오카자키 아미가 수상했으며, 그녀는 인간관계의 복잡성과 심리적 깊이를 탐구하는 작품으로 인정받았습니다.노벨문학상은 전 세계 문학계에서 가장 권위 있는 상으로, 작가들에게 큰 명예를 안겨주며, 그들의 작품이 전 세계에 더 널리 퍼질 수 있는 기회를 제공합니다.\n",
      "\n"
     ]
    }
   ],
   "source": [
    "driver = webdriver.Chrome() # 브라우저 열기\n",
    "time.sleep(1)\n",
    "driver.get('https://www.naver.com')\n",
    "elem = driver.find_element(By.NAME, 'query')\n",
    "elem.send_keys('맞춤법검사기')\n",
    "elem.send_keys(Keys.RETURN)\n",
    "time.sleep(1) # 1초 대기\n",
    "# driver.implicitly_wait(1) # 1초대기\n",
    "\n",
    "results = '' # 맞춤법 검사 완료된 text\n",
    "textarea = driver.find_element(By.CLASS_NAME, 'txt_gray')\n",
    "\n",
    "for ready in ready_list:\n",
    "    textarea.send_keys(Keys.CONTROL, 'a') # ctrl + a\n",
    "    textarea.send_keys(ready)\n",
    "    button = driver.find_element(By.CLASS_NAME, 'btn_check')\n",
    "    button.click()\n",
    "    time.sleep(1) # 1초대기\n",
    "    soup = BeautifulSoup(driver.page_source, 'html.parser')\n",
    "    result = soup.select_one('p._result_text').text\n",
    "    results += result + '\\n'\n",
    "driver.close()\n",
    "print(results[:20])"
   ]
  },
  {
   "cell_type": "code",
   "execution_count": 37,
   "id": "e136711b",
   "metadata": {},
   "outputs": [],
   "source": [
    "# 맞춤법 결과 results를 'data/ch14_맞춤법검사후.txt' 로 출력\n",
    "with open('data/ch14_맞춤법검사후.txt', 'w', encoding='utf-8') as f:\n",
    "    f.write(results)"
   ]
  },
  {
   "cell_type": "markdown",
   "id": "1d8c546b",
   "metadata": {},
   "source": [
    "### 로그인이 될 수도 있게 우회하는 코드"
   ]
  },
  {
   "cell_type": "code",
   "execution_count": null,
   "id": "2d6010f1",
   "metadata": {},
   "outputs": [],
   "source": [
    "# 로그인이 될 수도 있게 우회하는 코드\n",
    "from selenium import webdriver\n",
    "from selenium.webdriver.common.by import By\n",
    "from selenium.webdriver.common.keys import Keys\n",
    "import time\n",
    "\n",
    "chrome_driver_path = 'chromedriver'\n",
    "driver = webdriver.Chrome()\n",
    "\n",
    "driver.get(\"https://nid.naver.com/nidlogin.login\")\n",
    "\n",
    "\n",
    "driver.execute_script(\"document.getElementById('id').value = '아이디';\")\n",
    "time.sleep(1)\n",
    "driver.execute_script(\"document.getElementById('pw').value = '비밀번호';\")\n",
    "time.sleep(1)\n",
    "\n",
    "driver.find_element(By.CLASS_NAME, \"btn_login\").click()\n"
   ]
  },
  {
   "cell_type": "markdown",
   "id": "f2789fa0",
   "metadata": {},
   "source": [
    "# 연습문제"
   ]
  },
  {
   "cell_type": "code",
   "execution_count": null,
   "id": "d91a0207",
   "metadata": {},
   "outputs": [],
   "source": [
    "# 영어번역 자동화 프로그램을 구현하시오. 네이버 맞춤법 검사를 마친 텍스트를 \n",
    "# https://translate.kakao.com/를 통해 영어로 번역된 텍스트를 파일로 출력하는 동적 웹크롤링 프로그램을 구현하시오.\n",
    "# data/ch14_영문번역"
   ]
  },
  {
   "cell_type": "code",
   "execution_count": null,
   "id": "9021f19e",
   "metadata": {},
   "outputs": [],
   "source": [
    "from selenium import webdriver\n",
    "from selenium.webdriver.common.keys import Keys\n",
    "from selenium.webdriver.common.by import By\n",
    "from bs4 import BeautifulSoup\n",
    "import time"
   ]
  },
  {
   "cell_type": "code",
   "execution_count": 46,
   "id": "e9e747f1",
   "metadata": {},
   "outputs": [],
   "source": [
    "with open('data/ch14_맞춤법검사후.txt', 'r', encoding='utf-8') as f:\n",
    "    text = f.read()\n",
    "ready_list = []\n",
    "while(len(text)>1000):\n",
    "    temp = text[:1000]\n",
    "    last_index = temp.rfind('\\n')\n",
    "    ready_list.append(text[:last_index+1])\n",
    "    text = text[last_index :]\n",
    "ready_list.append(text)\n",
    "\n",
    "driver = webdriver.Chrome()\n",
    "time.sleep(1)\n",
    "driver.get('https://www.daum.net/')\n",
    "elem = driver.find_element(By.CSS_SELECTOR, 'input#q')\n",
    "elem.send_keys('다음 번역기')\n",
    "elem.send_keys(Keys.RETURN) # enter 키\n",
    "\n",
    "results = ''\n",
    "textarea = driver.find_element(By.CLASS_NAME, 'translate_area')\n",
    "\n",
    "for r in ready_list:\n",
    "    textarea.send_keys(Keys.CONTROL, 'a')\n",
    "    textarea.send_keys(r)\n",
    "    button = driver.find_element(By.CLASS_NAME, 'btn_translate')\n",
    "    button.click()\n",
    "    time.sleep(1)\n",
    "    soup = BeautifulSoup(driver.page_source, 'html.parser')\n",
    "    result = soup.select_one('div.result_area').text\n",
    "    results += result +'\\n'\n",
    "driver.close()\n",
    "with open('data/ch14_오시윤소스.txt', 'w', encoding='utf-8') as f:\n",
    "    f.write(results)"
   ]
  },
  {
   "cell_type": "code",
   "execution_count": 44,
   "id": "9bf672cf",
=======
   "execution_count": 12,
   "id": "bc286daf",
   "metadata": {},
   "outputs": [],
   "source": []
  },
  {
   "cell_type": "code",
   "execution_count": 7,
   "id": "68989b0b",
   "metadata": {},
   "outputs": [],
   "source": []
  },
  {
   "cell_type": "code",
   "execution_count": 8,
   "id": "b2d78715",
>>>>>>> 5d353715c8550595b5ccc0791d5b5c7559012ee8
   "metadata": {},
   "outputs": [],
   "source": []
  },
  {
   "cell_type": "code",
   "execution_count": null,
<<<<<<< HEAD
   "id": "61a9c4b7",
=======
   "id": "fff03086",
>>>>>>> 5d353715c8550595b5ccc0791d5b5c7559012ee8
   "metadata": {},
   "outputs": [],
   "source": []
  },
  {
   "cell_type": "code",
   "execution_count": null,
<<<<<<< HEAD
   "id": "027fcdae",
=======
   "id": "3d6b3a64",
>>>>>>> 5d353715c8550595b5ccc0791d5b5c7559012ee8
   "metadata": {},
   "outputs": [],
   "source": []
  },
  {
   "cell_type": "code",
   "execution_count": null,
<<<<<<< HEAD
   "id": "21bb37d6",
   "metadata": {},
   "outputs": [],
   "source": []
  },
  {
   "cell_type": "code",
   "execution_count": null,
   "id": "884f5d6a",
   "metadata": {},
   "outputs": [],
   "source": []
  },
  {
   "cell_type": "code",
   "execution_count": null,
   "id": "20ac15ed",
   "metadata": {},
   "outputs": [],
   "source": []
  },
  {
   "cell_type": "code",
   "execution_count": null,
   "id": "516b8f21",
   "metadata": {},
   "outputs": [],
   "source": []
  },
  {
   "cell_type": "code",
   "execution_count": null,
   "id": "4fe13667",
   "metadata": {},
   "outputs": [],
   "source": []
  },
  {
   "cell_type": "code",
   "execution_count": null,
   "id": "f4bed226",
   "metadata": {},
   "outputs": [],
   "source": []
  },
  {
   "cell_type": "code",
   "execution_count": null,
   "id": "49296763",
   "metadata": {},
   "outputs": [],
   "source": []
  },
  {
   "cell_type": "code",
   "execution_count": null,
   "id": "34b15e2a",
   "metadata": {},
   "outputs": [],
   "source": []
  },
  {
   "cell_type": "code",
   "execution_count": null,
   "id": "10ef32d6",
   "metadata": {},
   "outputs": [],
   "source": []
  },
  {
   "cell_type": "code",
   "execution_count": null,
   "id": "cd6bdf79",
   "metadata": {},
   "outputs": [],
   "source": []
  },
  {
   "cell_type": "code",
   "execution_count": null,
   "id": "2456367a",
   "metadata": {},
   "outputs": [],
   "source": []
  },
  {
   "cell_type": "code",
   "execution_count": null,
   "id": "5c977dd4",
   "metadata": {},
   "outputs": [],
   "source": []
  },
  {
   "cell_type": "code",
   "execution_count": null,
   "id": "482c0fad",
   "metadata": {},
   "outputs": [],
   "source": []
  },
  {
   "cell_type": "code",
   "execution_count": null,
   "id": "da55234d",
   "metadata": {},
   "outputs": [],
   "source": []
  },
  {
   "cell_type": "code",
   "execution_count": null,
   "id": "4c8861da",
   "metadata": {},
   "outputs": [],
   "source": []
  },
  {
   "cell_type": "code",
   "execution_count": null,
   "id": "a1128e65",
   "metadata": {},
   "outputs": [],
   "source": []
  },
  {
   "cell_type": "code",
   "execution_count": null,
   "id": "b441f405",
   "metadata": {},
   "outputs": [],
   "source": []
  },
  {
   "cell_type": "code",
   "execution_count": null,
   "id": "5fe2f543",
   "metadata": {},
   "outputs": [],
   "source": []
  },
  {
   "cell_type": "code",
   "execution_count": null,
   "id": "474de48e",
   "metadata": {},
   "outputs": [],
   "source": []
  },
  {
   "cell_type": "code",
   "execution_count": null,
   "id": "accedde4",
   "metadata": {},
   "outputs": [],
   "source": []
  },
  {
   "cell_type": "code",
   "execution_count": null,
   "id": "2e2e8e92",
   "metadata": {},
   "outputs": [],
   "source": []
  },
  {
   "cell_type": "code",
   "execution_count": null,
   "id": "6118bde2",
   "metadata": {},
   "outputs": [],
   "source": []
  },
  {
   "cell_type": "code",
   "execution_count": null,
   "id": "1ef2f025",
   "metadata": {},
   "outputs": [],
   "source": []
  },
  {
   "cell_type": "code",
   "execution_count": null,
   "id": "125d8e66",
   "metadata": {},
   "outputs": [],
   "source": []
  },
  {
   "cell_type": "code",
   "execution_count": null,
   "id": "c45447e9",
   "metadata": {},
   "outputs": [],
   "source": []
  },
  {
   "cell_type": "code",
   "execution_count": null,
   "id": "6fe85b10",
   "metadata": {},
   "outputs": [],
   "source": []
  },
  {
   "cell_type": "code",
   "execution_count": null,
   "id": "59a4431b",
   "metadata": {},
   "outputs": [],
   "source": []
  },
  {
   "cell_type": "code",
   "execution_count": null,
   "id": "85503edc",
   "metadata": {},
   "outputs": [],
   "source": []
  },
  {
   "cell_type": "code",
   "execution_count": null,
   "id": "d613b399",
   "metadata": {},
   "outputs": [],
   "source": []
  },
  {
   "cell_type": "code",
   "execution_count": null,
   "id": "b34a2aa9",
   "metadata": {},
   "outputs": [],
   "source": []
  },
  {
   "cell_type": "code",
   "execution_count": null,
   "id": "88f0f2d8",
   "metadata": {},
   "outputs": [],
   "source": []
  },
  {
   "cell_type": "code",
   "execution_count": null,
   "id": "2943b136",
   "metadata": {},
   "outputs": [],
   "source": []
  },
  {
   "cell_type": "code",
   "execution_count": null,
   "id": "6dad92d7",
   "metadata": {},
   "outputs": [],
   "source": []
  },
  {
   "cell_type": "code",
   "execution_count": null,
   "id": "f2721378",
   "metadata": {},
   "outputs": [],
   "source": []
  },
  {
   "cell_type": "code",
   "execution_count": null,
   "id": "f0fe6eaa",
   "metadata": {},
   "outputs": [],
   "source": []
  },
  {
   "cell_type": "code",
   "execution_count": null,
   "id": "be0d1a04",
   "metadata": {},
   "outputs": [],
   "source": []
  },
  {
   "cell_type": "code",
   "execution_count": null,
   "id": "5fb30202",
   "metadata": {},
   "outputs": [],
   "source": []
  },
  {
   "cell_type": "code",
   "execution_count": null,
   "id": "6ad58b42",
=======
   "id": "4f5a0df9",
>>>>>>> 5d353715c8550595b5ccc0791d5b5c7559012ee8
   "metadata": {},
   "outputs": [],
   "source": []
  }
 ],
 "metadata": {
  "kernelspec": {
   "display_name": "Python 3 (ipykernel)",
   "language": "python",
   "name": "python3"
  },
  "language_info": {
   "codemirror_mode": {
    "name": "ipython",
    "version": 3
   },
   "file_extension": ".py",
   "mimetype": "text/x-python",
   "name": "python",
   "nbconvert_exporter": "python",
   "pygments_lexer": "ipython3",
   "version": "3.10.9"
  },
  "toc": {
   "base_numbering": 1,
   "nav_menu": {},
<<<<<<< HEAD
   "number_sections": true,
=======
   "number_sections": false,
>>>>>>> 5d353715c8550595b5ccc0791d5b5c7559012ee8
   "sideBar": true,
   "skip_h1_title": false,
   "title_cell": "Table of Contents",
   "title_sidebar": "Contents",
   "toc_cell": false,
   "toc_position": {
    "height": "calc(100% - 180px)",
    "left": "10px",
    "top": "150px",
    "width": "165px"
   },
   "toc_section_display": true,
<<<<<<< HEAD
   "toc_window_display": true
=======
   "toc_window_display": false
>>>>>>> 5d353715c8550595b5ccc0791d5b5c7559012ee8
  }
 },
 "nbformat": 4,
 "nbformat_minor": 5
}
