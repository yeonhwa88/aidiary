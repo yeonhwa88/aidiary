{
 "cells": [
  {
   "cell_type": "code",
   "execution_count": 53,
   "id": "d48b2e91",
   "metadata": {
    "ExecuteTime": {
     "end_time": "2024-11-04T07:54:10.220958Z",
     "start_time": "2024-11-04T07:54:10.209032Z"
    }
   },
   "outputs": [
    {
     "data": {
      "text/html": [
       "\n",
       "<style>\n",
       "div.container{width:88% !important;}\n",
       "div.CodeMirror {font-family:Consolas; font-size:15pt;}\n",
       "div.output {font-size:15pt; font-weight:bold;}\n",
       "div.input {font-family:Consolas; font-size:15pt;}\n",
       "div.prompt {min-width:70px;}\n",
       "div#toc-header{margin-top:150px;}\n",
       "span.toc-item-num{\n",
       "display:none;\n",
       "}\n",
       ".comment, .cm-comment {\n",
       "    color: #FF00FF !important;\n",
       "}\n",
       "</style>\n"
      ],
      "text/plain": [
       "<IPython.core.display.HTML object>"
      ]
     },
     "metadata": {},
     "output_type": "display_data"
    }
   ],
   "source": [
    "from IPython.display import display, HTML\n",
    "display(HTML(\"\"\"\n",
    "<style>\n",
    "div.container{width:88% !important;}\n",
    "div.CodeMirror {font-family:Consolas; font-size:15pt;}\n",
    "div.output {font-size:15pt; font-weight:bold;}\n",
    "div.input {font-family:Consolas; font-size:15pt;}\n",
    "div.prompt {min-width:70px;}\n",
    "div#toc-header{margin-top:150px;}\n",
    "span.toc-item-num{\n",
    "display:none;\n",
    "}\n",
    ".comment, .cm-comment {\n",
    "    color: #FF00FF !important;\n",
    "}\n",
    "</style>\n",
    "\"\"\"))"
   ]
  },
  {
   "cell_type": "markdown",
   "id": "091ec9ae",
   "metadata": {},
   "source": [
    "   <b><font size=\"6\" color=\"red\">ch02. 자료형과 연산자</font></b>"
   ]
  },
  {
   "cell_type": "markdown",
   "id": "cc9633ec",
   "metadata": {},
   "source": [
    "# 1절. 변수"
   ]
  },
  {
   "cell_type": "markdown",
   "id": "28f5f521",
   "metadata": {},
   "source": [
    "## 1.1 변수 선언\n",
    "- 파이썬은 변수 선언을 위한 타입이 없고, 별도의 선언 과정도 없음\n"
   ]
  },
  {
   "cell_type": "markdown",
   "id": "9000fdfc",
   "metadata": {},
   "source": [
    "## 1.2 변수할당\n",
    "- 할당연산자를 이용해서 변수값을 할당하면 타입이 셋팅\n",
    "- 파이썬에서의 모든 변수는 객체"
   ]
  },
  {
   "cell_type": "code",
   "execution_count": 2,
   "id": "b56d4969",
   "metadata": {
    "ExecuteTime": {
     "end_time": "2024-11-04T07:54:12.320134Z",
     "start_time": "2024-11-04T07:54:12.312701Z"
    }
   },
   "outputs": [
    {
     "name": "stdout",
     "output_type": "stream",
     "text": [
      "계산된 넓이는 78.5\n"
     ]
    }
   ],
   "source": [
    "r = 5\n",
    "area = 3.14 * r * r\n",
    "print('계산된 넓이는', area) # ,를 쓰게되면 출력사이에 스페이스가 붙음"
   ]
  },
  {
   "cell_type": "code",
   "execution_count": 3,
   "id": "0de7a066",
   "metadata": {
    "ExecuteTime": {
     "end_time": "2024-11-04T07:54:13.946736Z",
     "start_time": "2024-11-04T07:54:13.808516Z"
    }
   },
   "outputs": [],
   "source": [
    "import numpy as np # numpy라는 패키지(폴더)를 np라는 이름으로 사용"
   ]
  },
  {
   "cell_type": "code",
   "execution_count": 4,
   "id": "73055adc",
   "metadata": {
    "ExecuteTime": {
     "end_time": "2024-11-04T07:54:14.974806Z",
     "start_time": "2024-11-04T07:54:14.968810Z"
    }
   },
   "outputs": [
    {
     "data": {
      "text/plain": [
       "78.53981633974483"
      ]
     },
     "execution_count": 4,
     "metadata": {},
     "output_type": "execute_result"
    }
   ],
   "source": [
    "area = np.pi * r * r\n",
    "area # 한줄만 출력할땐 print 사용하지않아도 출력가능 여러줄 사용할땐 전부 print 작성"
   ]
  },
  {
   "cell_type": "code",
   "execution_count": null,
   "id": "cd9ac9b2",
   "metadata": {
    "ExecuteTime": {
     "end_time": "2024-11-04T07:42:37.830548Z",
     "start_time": "2024-11-04T07:42:37.824554Z"
    }
   },
   "outputs": [],
   "source": [
    "print('area의 주소', id(area)) # id(area) : area변수(객체)의 주소값 \n",
    "print('area의 타입', type(area))"
   ]
  },
  {
   "cell_type": "code",
   "execution_count": 5,
   "id": "44484325",
   "metadata": {
    "ExecuteTime": {
     "end_time": "2024-11-04T07:54:16.991633Z",
     "start_time": "2024-11-04T07:54:16.984637Z"
    }
   },
   "outputs": [
    {
     "data": {
      "text/plain": [
       "False"
      ]
     },
     "execution_count": 5,
     "metadata": {},
     "output_type": "execute_result"
    }
   ],
   "source": [
    "area.is_integer()"
   ]
  },
  {
   "cell_type": "code",
   "execution_count": 6,
   "id": "c182db95",
   "metadata": {
    "ExecuteTime": {
     "end_time": "2024-11-04T07:54:18.029480Z",
     "start_time": "2024-11-04T07:54:18.024481Z"
    }
   },
   "outputs": [],
   "source": [
    "area = 10;"
   ]
  },
  {
   "cell_type": "code",
   "execution_count": 7,
   "id": "86ef545f",
   "metadata": {
    "ExecuteTime": {
     "end_time": "2024-11-04T07:54:18.981373Z",
     "start_time": "2024-11-04T07:54:18.976373Z"
    }
   },
   "outputs": [
    {
     "name": "stdout",
     "output_type": "stream",
     "text": [
      "area의 주소 2854805963280\n",
      "area의 타입 <class 'int'>\n"
     ]
    }
   ],
   "source": [
    "print('area의 주소', id(area)) \n",
    "print('area의 타입', type(area))"
   ]
  },
  {
   "cell_type": "code",
   "execution_count": 8,
   "id": "17666646",
   "metadata": {
    "ExecuteTime": {
     "end_time": "2024-11-04T07:54:21.334478Z",
     "start_time": "2024-11-04T07:54:21.328972Z"
    }
   },
   "outputs": [
    {
     "name": "stdout",
     "output_type": "stream",
     "text": [
      "area의 주소 2854881469872\n",
      "area의 타입 <class 'str'>\n"
     ]
    }
   ],
   "source": [
    "area = '파이썬'\n",
    "print('area의 주소', id(area)) \n",
    "print('area의 타입', type(area)) "
   ]
  },
  {
   "cell_type": "markdown",
   "id": "47570638",
   "metadata": {},
   "source": [
    "## 1.3 변수 이름 규칙\n",
    "- 문자로 시작\n",
    "- 문자(특수문자는 _제외 전부 불가), 숫자, _로 변수명 작성\n",
    "- 함수명은 변수이름으로 가능하나 피한다. 사용해야 하면 int_식으로 _를 붙여서 사용\n",
    "- 파이썬 예약어(if, while,...)는 변수이름 사용 불가.\n",
    "- 한글 변수는 꼭 필요시만 사용"
   ]
  },
  {
   "cell_type": "code",
   "execution_count": 9,
   "id": "b5ede456",
   "metadata": {
    "ExecuteTime": {
     "end_time": "2024-11-04T07:54:22.526470Z",
     "start_time": "2024-11-04T07:54:22.520473Z"
    }
   },
   "outputs": [
    {
     "data": {
      "text/plain": [
       "'홍길동'"
      ]
     },
     "execution_count": 9,
     "metadata": {},
     "output_type": "execute_result"
    }
   ],
   "source": [
    "이름 = \"홍길동\"\n",
    "이름"
   ]
  },
  {
   "cell_type": "code",
   "execution_count": 10,
   "id": "100a41c8",
   "metadata": {
    "ExecuteTime": {
     "end_time": "2024-11-04T07:54:24.630505Z",
     "start_time": "2024-11-04T07:54:24.624511Z"
    }
   },
   "outputs": [
    {
     "name": "stdout",
     "output_type": "stream",
     "text": [
      "홍길동\n"
     ]
    }
   ],
   "source": [
    "print(이름)"
   ]
  },
  {
   "cell_type": "code",
   "execution_count": 11,
   "id": "5933f1f3",
   "metadata": {
    "ExecuteTime": {
     "end_time": "2024-11-04T07:54:25.622622Z",
     "start_time": "2024-11-04T07:54:25.616626Z"
    },
    "collapsed": true
   },
   "outputs": [
    {
     "ename": "SyntaxError",
     "evalue": "invalid syntax (675644739.py, line 1)",
     "output_type": "error",
     "traceback": [
      "\u001b[1;36m  Cell \u001b[1;32mIn[11], line 1\u001b[1;36m\u001b[0m\n\u001b[1;33m    if = 6\u001b[0m\n\u001b[1;37m       ^\u001b[0m\n\u001b[1;31mSyntaxError\u001b[0m\u001b[1;31m:\u001b[0m invalid syntax\n"
     ]
    }
   ],
   "source": [
    "if = 6"
   ]
  },
  {
   "cell_type": "code",
   "execution_count": 12,
   "id": "fd4d685f",
   "metadata": {
    "ExecuteTime": {
     "end_time": "2024-11-04T07:54:27.683222Z",
     "start_time": "2024-11-04T07:54:27.000331Z"
    },
    "collapsed": true
   },
   "outputs": [
    {
     "ename": "NameError",
     "evalue": "name 'member' is not defined",
     "output_type": "error",
     "traceback": [
      "\u001b[1;31m---------------------------------------------------------------------------\u001b[0m",
      "\u001b[1;31mNameError\u001b[0m                                 Traceback (most recent call last)",
      "Cell \u001b[1;32mIn[12], line 1\u001b[0m\n\u001b[1;32m----> 1\u001b[0m \u001b[43mmember\u001b[49m\u001b[38;5;241m.\u001b[39mname \u001b[38;5;241m=\u001b[39m \u001b[38;5;241m5\u001b[39m\n",
      "\u001b[1;31mNameError\u001b[0m: name 'member' is not defined"
     ]
    }
   ],
   "source": [
    "member.name = 5 #변수에 .사용불가 (R에서는  .을 변수명에 사용 가능)"
   ]
  },
  {
   "cell_type": "code",
   "execution_count": 17,
   "id": "ca8891ed",
   "metadata": {
    "ExecuteTime": {
     "end_time": "2024-11-04T07:55:12.068975Z",
     "start_time": "2024-11-04T07:55:12.063978Z"
    }
   },
   "outputs": [],
   "source": [
    "member_name = 5 # 파이썬에서 많이 사용 \n",
    "memberName = 5 # 카멜표기법 객체 지향 언어에서 많이 사용"
   ]
  },
  {
   "cell_type": "code",
   "execution_count": 13,
   "id": "a5e05a69",
   "metadata": {
    "ExecuteTime": {
     "end_time": "2024-11-04T07:54:31.197244Z",
     "start_time": "2024-11-04T07:54:31.192248Z"
    }
   },
   "outputs": [],
   "source": [
    "print = 5"
   ]
  },
  {
   "cell_type": "code",
   "execution_count": 14,
   "id": "c3e13051",
   "metadata": {
    "ExecuteTime": {
     "end_time": "2024-11-04T07:54:32.464928Z",
     "start_time": "2024-11-04T07:54:32.440457Z"
    },
    "collapsed": true
   },
   "outputs": [
    {
     "ename": "TypeError",
     "evalue": "'int' object is not callable",
     "output_type": "error",
     "traceback": [
      "\u001b[1;31m---------------------------------------------------------------------------\u001b[0m",
      "\u001b[1;31mTypeError\u001b[0m                                 Traceback (most recent call last)",
      "Cell \u001b[1;32mIn[14], line 1\u001b[0m\n\u001b[1;32m----> 1\u001b[0m \u001b[38;5;28;43mprint\u001b[39;49m\u001b[43m(\u001b[49m\u001b[43m이름\u001b[49m\u001b[43m)\u001b[49m\n",
      "\u001b[1;31mTypeError\u001b[0m: 'int' object is not callable"
     ]
    }
   ],
   "source": [
    "print(이름)"
   ]
  },
  {
   "cell_type": "code",
   "execution_count": 15,
   "id": "dcdef490",
   "metadata": {
    "ExecuteTime": {
     "end_time": "2024-11-04T07:54:35.478268Z",
     "start_time": "2024-11-04T07:54:35.473271Z"
    }
   },
   "outputs": [
    {
     "name": "stdout",
     "output_type": "stream",
     "text": [
      "홍길동\n"
     ]
    }
   ],
   "source": [
    "del print # print 변수 삭제\n",
    "print_ = 5\n",
    "print(이름)"
   ]
  },
  {
   "cell_type": "code",
   "execution_count": 18,
   "id": "adde063d",
   "metadata": {
    "ExecuteTime": {
     "end_time": "2024-11-04T07:56:53.295791Z",
     "start_time": "2024-11-04T07:56:53.288659Z"
    }
   },
   "outputs": [
    {
     "data": {
      "text/plain": [
       "complex"
      ]
     },
     "execution_count": 18,
     "metadata": {},
     "output_type": "execute_result"
    }
   ],
   "source": [
    "# 숫자 : 정수, 실수, 복소수\n",
    "i = 3 + 3j\n",
    "type(i)"
   ]
  },
  {
   "cell_type": "code",
   "execution_count": 19,
   "id": "5f3f0b11",
   "metadata": {
    "ExecuteTime": {
     "end_time": "2024-11-04T07:57:47.742802Z",
     "start_time": "2024-11-04T07:57:47.734774Z"
    }
   },
   "outputs": [
    {
     "data": {
      "text/plain": [
       "True"
      ]
     },
     "execution_count": 19,
     "metadata": {},
     "output_type": "execute_result"
    }
   ],
   "source": [
    "isinstance(i, complex) # i변수(객체)가 complex(복소수) 타입인지 여부"
   ]
  },
  {
   "cell_type": "markdown",
   "id": "3859165d",
   "metadata": {},
   "source": [
    "## 1.4 도움말"
   ]
  },
  {
   "cell_type": "code",
   "execution_count": 20,
   "id": "2d2b7854",
   "metadata": {
    "ExecuteTime": {
     "end_time": "2024-11-04T07:58:57.061573Z",
     "start_time": "2024-11-04T07:58:57.055578Z"
    }
   },
   "outputs": [
    {
     "name": "stdout",
     "output_type": "stream",
     "text": [
      "Help on built-in function print in module builtins:\n",
      "\n",
      "print(...)\n",
      "    print(value, ..., sep=' ', end='\\n', file=sys.stdout, flush=False)\n",
      "    \n",
      "    Prints the values to a stream, or to sys.stdout by default.\n",
      "    Optional keyword arguments:\n",
      "    file:  a file-like object (stream); defaults to the current sys.stdout.\n",
      "    sep:   string inserted between values, default a space.\n",
      "    end:   string appended after the last value, default a newline.\n",
      "    flush: whether to forcibly flush the stream.\n",
      "\n"
     ]
    }
   ],
   "source": [
    "help(print)"
   ]
  },
  {
   "cell_type": "code",
   "execution_count": 21,
   "id": "14135685",
   "metadata": {
    "ExecuteTime": {
     "end_time": "2024-11-04T07:59:52.952429Z",
     "start_time": "2024-11-04T07:59:30.398865Z"
    }
   },
   "outputs": [
    {
     "name": "stdout",
     "output_type": "stream",
     "text": [
      "\n",
      "Welcome to Python 3.10's help utility!\n",
      "\n",
      "If this is your first time using Python, you should definitely check out\n",
      "the tutorial on the internet at https://docs.python.org/3.10/tutorial/.\n",
      "\n",
      "Enter the name of any module, keyword, or topic to get help on writing\n",
      "Python programs and using Python modules.  To quit this help utility and\n",
      "return to the interpreter, just type \"quit\".\n",
      "\n",
      "To get a list of available modules, keywords, symbols, or topics, type\n",
      "\"modules\", \"keywords\", \"symbols\", or \"topics\".  Each module also comes\n",
      "with a one-line summary of what it does; to list the modules whose name\n",
      "or summary contain a given string such as \"spam\", type \"modules spam\".\n",
      "\n",
      "help> print\n",
      "Help on built-in function print in module builtins:\n",
      "\n",
      "print(...)\n",
      "    print(value, ..., sep=' ', end='\\n', file=sys.stdout, flush=False)\n",
      "    \n",
      "    Prints the values to a stream, or to sys.stdout by default.\n",
      "    Optional keyword arguments:\n",
      "    file:  a file-like object (stream); defaults to the current sys.stdout.\n",
      "    sep:   string inserted between values, default a space.\n",
      "    end:   string appended after the last value, default a newline.\n",
      "    flush: whether to forcibly flush the stream.\n",
      "\n",
      "help> q\n",
      "\n",
      "You are now leaving help and returning to the Python interpreter.\n",
      "If you want to ask for help on a particular object directly from the\n",
      "interpreter, you can type \"help(object)\".  Executing \"help('string')\"\n",
      "has the same effect as typing a particular string at the help> prompt.\n"
     ]
    }
   ],
   "source": [
    "help()"
   ]
  },
  {
   "cell_type": "code",
   "execution_count": 22,
   "id": "8b970a42",
   "metadata": {
    "ExecuteTime": {
     "end_time": "2024-11-04T08:10:51.669433Z",
     "start_time": "2024-11-04T08:10:51.665435Z"
    }
   },
   "outputs": [
    {
     "name": "stdout",
     "output_type": "stream",
     "text": [
      "\n"
     ]
    }
   ],
   "source": [
    "# 도움말 기능 : shift+tap 키 \n",
    "print()"
   ]
  },
  {
   "cell_type": "code",
   "execution_count": 30,
   "id": "da8d6194",
   "metadata": {
    "ExecuteTime": {
     "end_time": "2024-11-04T08:15:12.434100Z",
     "start_time": "2024-11-04T08:15:12.428758Z"
    }
   },
   "outputs": [],
   "source": [
    "def add(x, y=0): #함수, 도움말 생성\n",
    "    '''\n",
    "    매개변수 2개를 받아 두자리 숫자로 만들어요\n",
    "    x = 10의 자리수가 됨\n",
    "    y = 1의 자리수가 됨(default값 0)\n",
    "    사용법 : add(2, 3) > 23\n",
    "    '''\n",
    "    return x*10+y"
   ]
  },
  {
   "cell_type": "code",
   "execution_count": 34,
   "id": "aa08ab4f",
   "metadata": {
    "ExecuteTime": {
     "end_time": "2024-11-04T08:15:30.594183Z",
     "start_time": "2024-11-04T08:15:30.588185Z"
    }
   },
   "outputs": [
    {
     "data": {
      "text/plain": [
       "54"
      ]
     },
     "execution_count": 34,
     "metadata": {},
     "output_type": "execute_result"
    }
   ],
   "source": [
    "add(5, 4)"
   ]
  },
  {
   "cell_type": "code",
   "execution_count": 33,
   "id": "ea1e5cc1",
   "metadata": {
    "ExecuteTime": {
     "end_time": "2024-11-04T08:15:29.011835Z",
     "start_time": "2024-11-04T08:15:29.004840Z"
    }
   },
   "outputs": [
    {
     "data": {
      "text/plain": [
       "50"
      ]
     },
     "execution_count": 33,
     "metadata": {},
     "output_type": "execute_result"
    }
   ],
   "source": [
    "add(5)"
   ]
  },
  {
   "cell_type": "code",
   "execution_count": 35,
   "id": "1fe74675",
   "metadata": {
    "ExecuteTime": {
     "end_time": "2024-11-04T08:15:54.827400Z",
     "start_time": "2024-11-04T08:15:54.823402Z"
    }
   },
   "outputs": [],
   "source": [
    "a = add  # 함수형 언어는 변수에 함수 할당 가능 a랑 add는 같은 함수"
   ]
  },
  {
   "cell_type": "code",
   "execution_count": 37,
   "id": "e74982fb",
   "metadata": {
    "ExecuteTime": {
     "end_time": "2024-11-04T08:16:57.163743Z",
     "start_time": "2024-11-04T08:16:57.157027Z"
    }
   },
   "outputs": [
    {
     "data": {
      "text/plain": [
       "54"
      ]
     },
     "execution_count": 37,
     "metadata": {},
     "output_type": "execute_result"
    }
   ],
   "source": [
    "a(5, 4)"
   ]
  },
  {
   "cell_type": "code",
   "execution_count": 38,
   "id": "ab8fe7fb",
   "metadata": {
    "ExecuteTime": {
     "end_time": "2024-11-04T08:17:01.786102Z",
     "start_time": "2024-11-04T08:17:01.780107Z"
    }
   },
   "outputs": [
    {
     "data": {
      "text/plain": [
       "50"
      ]
     },
     "execution_count": 38,
     "metadata": {},
     "output_type": "execute_result"
    }
   ],
   "source": [
    "a(5)"
   ]
  },
  {
   "cell_type": "markdown",
   "id": "0127d154",
   "metadata": {
    "ExecuteTime": {
     "end_time": "2024-11-04T08:17:51.168543Z",
     "start_time": "2024-11-04T08:17:51.164546Z"
    }
   },
   "source": [
    "## 1.5 다중 변수 선언 "
   ]
  },
  {
   "cell_type": "code",
   "execution_count": 40,
   "id": "b541a9b0",
   "metadata": {
    "ExecuteTime": {
     "end_time": "2024-11-04T08:18:11.392030Z",
     "start_time": "2024-11-04T08:18:11.388031Z"
    }
   },
   "outputs": [],
   "source": [
    "a = 10\n",
    "b = 20"
   ]
  },
  {
   "cell_type": "code",
   "execution_count": 42,
   "id": "a8fc94df",
   "metadata": {
    "ExecuteTime": {
     "end_time": "2024-11-04T08:18:54.871959Z",
     "start_time": "2024-11-04T08:18:54.867736Z"
    }
   },
   "outputs": [],
   "source": [
    "a, b = 10, 20 # 동시에 다중 변수 선언"
   ]
  },
  {
   "cell_type": "code",
   "execution_count": 43,
   "id": "7706604f",
   "metadata": {
    "ExecuteTime": {
     "end_time": "2024-11-04T08:18:59.944685Z",
     "start_time": "2024-11-04T08:18:59.938689Z"
    }
   },
   "outputs": [
    {
     "data": {
      "text/plain": [
       "(10, 20)"
      ]
     },
     "execution_count": 43,
     "metadata": {},
     "output_type": "execute_result"
    }
   ],
   "source": [
    "a, b"
   ]
  },
  {
   "cell_type": "code",
   "execution_count": 44,
   "id": "ced45c03",
   "metadata": {
    "ExecuteTime": {
     "end_time": "2024-11-04T08:19:32.951353Z",
     "start_time": "2024-11-04T08:19:32.946454Z"
    }
   },
   "outputs": [],
   "source": [
    "a, b = b, a+b # 다중 변수 할당시 순차적 할당이 아니고 일괄 동시 할당"
   ]
  },
  {
   "cell_type": "code",
   "execution_count": 45,
   "id": "c8cb1242",
   "metadata": {
    "ExecuteTime": {
     "end_time": "2024-11-04T08:19:36.168930Z",
     "start_time": "2024-11-04T08:19:36.162671Z"
    }
   },
   "outputs": [
    {
     "data": {
      "text/plain": [
       "(20, 30)"
      ]
     },
     "execution_count": 45,
     "metadata": {},
     "output_type": "execute_result"
    }
   ],
   "source": [
    "a, b"
   ]
  },
  {
   "cell_type": "markdown",
   "id": "96f1d241",
   "metadata": {},
   "source": [
    "# 2절. 화면i/o"
   ]
  },
  {
   "cell_type": "code",
   "execution_count": 47,
   "id": "1bdc5173",
   "metadata": {
    "ExecuteTime": {
     "end_time": "2024-11-04T08:22:55.855756Z",
     "start_time": "2024-11-04T08:22:19.161479Z"
    }
   },
   "outputs": [
    {
     "name": "stdout",
     "output_type": "stream",
     "text": [
      "01\n"
     ]
    },
    {
     "data": {
      "text/plain": [
       "'01'"
      ]
     },
     "execution_count": 47,
     "metadata": {},
     "output_type": "execute_result"
    }
   ],
   "source": [
    "# input() : 사용자로부터 값을 입력받기 위한 함수. 입력값은 문자열\n",
    "first = input()\n",
    "first"
   ]
  },
  {
   "cell_type": "code",
   "execution_count": 52,
   "id": "377aef4a",
   "metadata": {
    "ExecuteTime": {
     "end_time": "2024-11-04T08:25:03.736603Z",
     "start_time": "2024-11-04T08:25:01.697575Z"
    }
   },
   "outputs": [
    {
     "name": "stdout",
     "output_type": "stream",
     "text": [
      "첫번째 숫자는?10\n",
      "두번째 숫자는?60\n"
     ]
    }
   ],
   "source": [
    "first = input('첫번째 숫자는?')\n",
    "second = input('두번째 숫자는?')"
   ]
  },
  {
   "cell_type": "code",
   "execution_count": 53,
   "id": "e5679390",
   "metadata": {
    "ExecuteTime": {
     "end_time": "2024-11-04T08:25:06.132462Z",
     "start_time": "2024-11-04T08:25:06.128305Z"
    }
   },
   "outputs": [
    {
     "name": "stdout",
     "output_type": "stream",
     "text": [
      "두수의 합은 1060\n"
     ]
    }
   ],
   "source": [
    "print('두수의 합은', first+second)"
   ]
  },
  {
   "cell_type": "code",
   "execution_count": 56,
   "id": "0ebd9e82",
   "metadata": {
    "ExecuteTime": {
     "end_time": "2024-11-04T08:26:48.371242Z",
     "start_time": "2024-11-04T08:26:48.366246Z"
    }
   },
   "outputs": [],
   "source": [
    "sum = int(first) + int(second)"
   ]
  },
  {
   "cell_type": "code",
   "execution_count": 57,
   "id": "22660221",
   "metadata": {
    "ExecuteTime": {
     "end_time": "2024-11-04T08:26:49.826478Z",
     "start_time": "2024-11-04T08:26:49.822693Z"
    }
   },
   "outputs": [
    {
     "name": "stdout",
     "output_type": "stream",
     "text": [
      "합 70\n"
     ]
    }
   ],
   "source": [
    "print('합', sum)"
   ]
  },
  {
   "cell_type": "code",
   "execution_count": 68,
   "id": "5c876081",
   "metadata": {
    "ExecuteTime": {
     "end_time": "2024-11-04T08:31:30.185692Z",
     "start_time": "2024-11-04T08:31:30.180696Z"
    }
   },
   "outputs": [
    {
     "name": "stdout",
     "output_type": "stream",
     "text": [
      "합 / 70 / Hello / World\t\tHello ~ python\n"
     ]
    }
   ],
   "source": [
    "print('합', sum, 'Hello', 'World', sep=' / ', end='\\t\\t')\n",
    "print('Hello', 'python', sep=' ~ ')"
   ]
  },
  {
   "cell_type": "code",
   "execution_count": 70,
   "id": "aeba0352",
   "metadata": {
    "ExecuteTime": {
     "end_time": "2024-11-04T08:34:41.088269Z",
     "start_time": "2024-11-04T08:34:41.082781Z"
    }
   },
   "outputs": [
    {
     "name": "stdout",
     "output_type": "stream",
     "text": [
      "Hello World Hello python\n"
     ]
    }
   ],
   "source": [
    "import sys\n",
    "print('Hello', 'World', 'Hello', 'python', file=sys.stdout)"
   ]
  },
  {
   "cell_type": "markdown",
   "id": "e44c5d20",
   "metadata": {},
   "source": [
    "# 3절. 기본 자료형\n",
    "- 프로그래밍 언어들은 변수가 가져야 할 값의 형식, 범위에 따라 값의 유형을 정해 놓고 사용.\n",
    "- 자료형에 따라 값의 크기와 저장방식이 달라짐.\n",
    "- 자료형에 따라 수행할 수 있는 명령어들이 달라짐.\n",
    "\n",
    "    * `숫자` - int, float, complex\n",
    "    * `문자` - str\n",
    "    * `논리` - bool"
   ]
  },
  {
   "cell_type": "markdown",
   "id": "941d1d3e",
   "metadata": {},
   "source": [
    "## 3.1숫자형"
   ]
  },
  {
   "cell_type": "code",
   "execution_count": 71,
   "id": "50fb4708",
   "metadata": {
    "ExecuteTime": {
     "end_time": "2024-11-04T08:43:25.451920Z",
     "start_time": "2024-11-04T08:43:25.445926Z"
    }
   },
   "outputs": [
    {
     "name": "stdout",
     "output_type": "stream",
     "text": [
      "9223372036854775807\n"
     ]
    }
   ],
   "source": [
    "import sys\n",
    "print(sys.maxsize) # system 저장할수 있는 정수의 최대값 : 2^63-1 "
   ]
  },
  {
   "cell_type": "code",
   "execution_count": 73,
   "id": "16c70058",
   "metadata": {
    "ExecuteTime": {
     "end_time": "2024-11-04T08:45:37.603619Z",
     "start_time": "2024-11-04T08:45:37.598621Z"
    }
   },
   "outputs": [
    {
     "name": "stdout",
     "output_type": "stream",
     "text": [
      "i값 9223372036854775907\n",
      "<class 'int'>\n"
     ]
    }
   ],
   "source": [
    "i = sys.maxsize + 100 # 최대값이 넘어가도 저장이 가능함 (수에 제한이 없음)\n",
    "print('i값', i)\n",
    "print(type(i))"
   ]
  },
  {
   "cell_type": "code",
   "execution_count": 75,
   "id": "9cca7ace",
   "metadata": {
    "ExecuteTime": {
     "end_time": "2024-11-04T08:46:16.689330Z",
     "start_time": "2024-11-04T08:46:16.683333Z"
    }
   },
   "outputs": [
    {
     "data": {
      "text/plain": [
       "1.5"
      ]
     },
     "execution_count": 75,
     "metadata": {},
     "output_type": "execute_result"
    }
   ],
   "source": [
    "f = 3/2 # 정수/정수는 무조건 실수\n",
    "f"
   ]
  },
  {
   "cell_type": "code",
   "execution_count": 76,
   "id": "649729b4",
   "metadata": {
    "ExecuteTime": {
     "end_time": "2024-11-04T08:46:35.666971Z",
     "start_time": "2024-11-04T08:46:35.658927Z"
    }
   },
   "outputs": [
    {
     "data": {
      "text/plain": [
       "1.0"
      ]
     },
     "execution_count": 76,
     "metadata": {},
     "output_type": "execute_result"
    }
   ],
   "source": [
    "f = 3/3\n",
    "f"
   ]
  },
  {
   "cell_type": "code",
   "execution_count": 79,
   "id": "92af6241",
   "metadata": {
    "ExecuteTime": {
     "end_time": "2024-11-04T08:48:25.232215Z",
     "start_time": "2024-11-04T08:48:25.227217Z"
    }
   },
   "outputs": [
    {
     "name": "stdout",
     "output_type": "stream",
     "text": [
      "1\n",
      "1\n"
     ]
    }
   ],
   "source": [
    "## 자바처럼 정수/정수의 결과를 정수로\n",
    "f = int(3/2) # int() : int로 형변환\n",
    "print(f)\n",
    "f = 3//2 # 몫 연산자\n",
    "print(f)"
   ]
  },
  {
   "cell_type": "code",
   "execution_count": 80,
   "id": "ae955cdf",
   "metadata": {
    "ExecuteTime": {
     "end_time": "2024-11-04T08:49:50.431192Z",
     "start_time": "2024-11-04T08:49:50.426195Z"
    }
   },
   "outputs": [
    {
     "name": "stdout",
     "output_type": "stream",
     "text": [
      "(-1+0j)\n"
     ]
    }
   ],
   "source": [
    "c = 1j # 수학시간 1i\n",
    "print(c**2) # c의 제곱"
   ]
  },
  {
   "cell_type": "code",
   "execution_count": 83,
   "id": "ace57b07",
   "metadata": {
    "ExecuteTime": {
     "end_time": "2024-11-04T08:52:34.862254Z",
     "start_time": "2024-11-04T08:52:34.856609Z"
    }
   },
   "outputs": [
    {
     "name": "stdout",
     "output_type": "stream",
     "text": [
      "지수형은 실수형으로 저장 1120000000000.0\n",
      "지수형표현은 할당시 실수형으로 저장: 1.12e-12\n"
     ]
    }
   ],
   "source": [
    "f = 1.12e12 # 1.12*10의 12승 (1120000000000)\n",
    "print('지수형은 실수형으로 저장', f)\n",
    "f = 1.12e-12 # 1.12*10의 -12승\n",
    "print('지수형표현은 할당시 실수형으로 저장:', f)"
   ]
  },
  {
   "cell_type": "markdown",
   "id": "e2a49dff",
   "metadata": {},
   "source": [
    "## 3.2 문자형"
   ]
  },
  {
   "cell_type": "code",
   "execution_count": 88,
   "id": "7ceda648",
   "metadata": {
    "ExecuteTime": {
     "end_time": "2024-11-04T08:55:24.436416Z",
     "start_time": "2024-11-04T08:55:24.431083Z"
    }
   },
   "outputs": [
    {
     "name": "stdout",
     "output_type": "stream",
     "text": [
      "홍길동'짱' 서울시 관악구 '신림'동\n"
     ]
    }
   ],
   "source": [
    "name = '홍길동\\'짱\\'' # 홍길동'짱'\n",
    "address = \"서울시 관악구 '신림'동\"\n",
    "print(name, address)"
   ]
  },
  {
   "cell_type": "code",
   "execution_count": 91,
   "id": "a9aa4082",
   "metadata": {
    "ExecuteTime": {
     "end_time": "2024-11-04T08:56:48.643122Z",
     "start_time": "2024-11-04T08:56:48.637126Z"
    }
   },
   "outputs": [
    {
     "name": "stdout",
     "output_type": "stream",
     "text": [
      "여러줄짜리 내용을 저장\n",
      "줄바꿈 문자를 쓰면 여러줄\n",
      "줄바꿈은 가독성 떨어져\n"
     ]
    }
   ],
   "source": [
    "text = '여러줄짜리 내용을 저장\\n줄바꿈 문자를 쓰면 여러줄\\n줄바꿈은 가독성 떨어져'\n",
    "print(text)"
   ]
  },
  {
   "cell_type": "code",
   "execution_count": 93,
   "id": "f0957740",
   "metadata": {
    "ExecuteTime": {
     "end_time": "2024-11-04T08:57:44.746467Z",
     "start_time": "2024-11-04T08:57:44.740905Z"
    }
   },
   "outputs": [
    {
     "name": "stdout",
     "output_type": "stream",
     "text": [
      "여러줄 짜리 내용을 저장\n",
      "줄바꿈 문자 쓰지않고 따옴표 3개로 처리\n",
      "이처럼 쓰는 경우가 더 많아요\n",
      "\n"
     ]
    }
   ],
   "source": [
    "text = '''여러줄 짜리 내용을 저장\n",
    "줄바꿈 문자 쓰지않고 따옴표 3개로 처리\n",
    "이처럼 쓰는 경우가 더 많아요\n",
    "'''\n",
    "print(text) #'''이거나''' \"\"\"이거나\"\"\" 여러줄 작성하고 Enter사용시 \\n이 자동으로 가능"
   ]
  },
  {
   "cell_type": "markdown",
   "id": "c35db9cd",
   "metadata": {},
   "source": [
    "### ※ 문자열 연산"
   ]
  },
  {
   "cell_type": "code",
   "execution_count": 3,
   "id": "eb1a3e06",
   "metadata": {},
   "outputs": [
    {
     "name": "stdout",
     "output_type": "stream",
     "text": [
      "홍길동동해번쩍\n"
     ]
    }
   ],
   "source": [
    "'''\n",
    "    여러줄 주석 용도\n",
    "    2024.11.05 문자열 연산 by 아무개\n",
    "'''\n",
    "name1 = \"홍길동\"\n",
    "name2 = \"동해번쩍\"\n",
    "print(name1 + name2)"
   ]
  },
  {
   "cell_type": "code",
   "execution_count": 4,
   "id": "a4a67acf",
   "metadata": {},
   "outputs": [
    {
     "name": "stdout",
     "output_type": "stream",
     "text": [
      "홍길동홍길동홍길동\n"
     ]
    }
   ],
   "source": [
    "print(name1 * 3) #문자열을 곱하면 반복연산"
   ]
  },
  {
   "cell_type": "markdown",
   "id": "bcf4e4ec",
   "metadata": {},
   "source": [
    "### ※ raw 데이터\n",
    "        - 용도1 : 정규표현식 이용 \n",
    "        - 용도2 : 디렉토리 경로를 표현시 이용"
   ]
  },
  {
   "cell_type": "code",
   "execution_count": 6,
   "id": "a471ada9",
   "metadata": {},
   "outputs": [
    {
     "name": "stdout",
     "output_type": "stream",
     "text": [
      "Hello\\nWorld\n"
     ]
    }
   ],
   "source": [
    "# raw 데이터 처리시 이스케이프 문자가 그대로 출력(\\n, \\t, \\r, \\', \\\") 이스케이프 문자가 들어간 자체를 저장하고 싶을때 raw데이터 처리\n",
    "print(r'Hello\\nWorld') "
   ]
  },
  {
   "cell_type": "code",
   "execution_count": 39,
   "id": "3e9d9e8e",
   "metadata": {},
   "outputs": [
    {
     "name": "stdout",
     "output_type": "stream",
     "text": [
      "이름:홍길동, 주소:서울, 전화:02-888-8888, 핸드폰:010-9999-9999, 특징:동해번쩍 서해번쩍 혈액형:B\n"
     ]
    }
   ],
   "source": [
    "# 정규표현식 이용\n",
    "import re # re라는 패키지를 가져와야함\n",
    "data = \"이름:홍길동, 주소:서울, 전화:02-888-8888, 핸드폰:010-9999-9999, 특징:동해번쩍 서해번쩍 \\\n",
    "혈액형:B\"\n",
    "print(data)"
   ]
  },
  {
   "cell_type": "code",
   "execution_count": 40,
   "id": "4c4c3150",
   "metadata": {},
   "outputs": [
    {
     "name": "stdout",
     "output_type": "stream",
     "text": [
      "['02-888-8888', '010-9999-9999']\n"
     ]
    }
   ],
   "source": [
    "#정규표현식 처리에서는 raw 데이터 처리를 하지 않아도 실행은 되나 \n",
    "#실수를 줄이고 가독성을 높이는 용도로 raw 데이터 처리를 사용\n",
    "tel_pattern = r\"\\d{2,3}-\\d{3,4}-\\d{4}\"\n",
    "tels = re.findall(tel_pattern, data) #특정한 데이터를 해당 패턴을 찾아오는 함수(re.findall)\n",
    "print(tels)"
   ]
  },
  {
   "cell_type": "code",
   "execution_count": 41,
   "id": "f2a2ab98",
   "metadata": {},
   "outputs": [
    {
     "data": {
      "text/plain": [
       "<re.Match object; span=(18, 29), match='02-888-8888'>"
      ]
     },
     "execution_count": 41,
     "metadata": {},
     "output_type": "execute_result"
    }
   ],
   "source": [
    "# 정규표현식 패턴과 처음 match 되는 것 찾아줘\n",
    "firstTel = re.search(tel_pattern, data)\n",
    "firstTel"
   ]
  },
  {
   "cell_type": "code",
   "execution_count": 45,
   "id": "1f35b11f",
   "metadata": {},
   "outputs": [
    {
     "name": "stdout",
     "output_type": "stream",
     "text": [
      "02-888-8888\n",
      "02-888-8888\n"
     ]
    }
   ],
   "source": [
    "print(data[18:29]) #전화번호 위치 []문자형슬라이싱\n",
    "print(firstTel.group(0))"
   ]
  },
  {
   "cell_type": "code",
   "execution_count": 43,
   "id": "cde0bdb7",
   "metadata": {},
   "outputs": [
    {
     "name": "stdout",
     "output_type": "stream",
     "text": [
      "<re.Match object; span=(18, 29), match='02-888-8888'>\n"
     ]
    }
   ],
   "source": [
    "phone_pattern = r'(\\d{2,3})-(\\d{3,4})-(\\d{4})' # ()로 그룹화를 시켜서 group을 따로따로 지정해서 불러올수있음. group(1)...\n",
    "first_phone = re.search(phone_pattern, data)\n",
    "print(first_phone)"
   ]
  },
  {
   "cell_type": "code",
   "execution_count": 44,
   "id": "3f1e5b01",
   "metadata": {},
   "outputs": [
    {
     "name": "stdout",
     "output_type": "stream",
     "text": [
      "전체 전화번호 : 02-888-8888\n",
      "국번 : 02\n",
      "중간번호 : 888\n",
      "끝번호 :  8888\n"
     ]
    }
   ],
   "source": [
    "print('전체 전화번호 :', first_phone.group(0))\n",
    "print('국번 :', first_phone.group(1))\n",
    "print('중간번호 :', first_phone.group(2))\n",
    "print('끝번호 : ', first_phone.group(3))"
   ]
  },
  {
   "cell_type": "code",
   "execution_count": 48,
   "id": "7554a642",
   "metadata": {},
   "outputs": [],
   "source": [
    "# 파일경로에는 반드시 r을 사용하거나 \\\\로 이용하거나 /를 사용\n",
    "# file_path = 'D:\\\\ai\\\\source\\\\07_python\\\\test.txt'\n",
    "# file_path = 'D:/ai/source/07_python/test.txt'\n",
    "file_path = r'D:\\ai\\source\\07_python\\test.txt'"
   ]
  },
  {
   "cell_type": "code",
   "execution_count": 54,
   "id": "19e774c2",
   "metadata": {},
   "outputs": [
    {
     "name": "stdout",
     "output_type": "stream",
     "text": [
      "Hello, Wolrd\n",
      "Hello, Python\n"
     ]
    }
   ],
   "source": [
    "file_stream = open(file_path, 'w')\n",
    "print('Hello, Wolrd', 'Hello, Python', sep='\\n') # 콘솔 출력\n",
    "print('Hello, Wolrd', 'Hello, Python', sep='\\n', file=file_stream) #파일출력\n",
    "file_stream.close() #close하지 않으면 저장 안 됨"
   ]
  },
  {
   "cell_type": "markdown",
   "id": "ca2fdc4e",
   "metadata": {},
   "source": [
    "### ※ 문자열 슬라이싱"
   ]
  },
  {
   "cell_type": "code",
   "execution_count": 2,
   "id": "f06eee6c",
   "metadata": {},
   "outputs": [
    {
     "data": {
      "text/plain": [
       "'0123456789'"
      ]
     },
     "execution_count": 2,
     "metadata": {},
     "output_type": "execute_result"
    }
   ],
   "source": [
    "str_ = '0123456789'\n",
    "str_ "
   ]
  },
  {
   "cell_type": "code",
   "execution_count": 7,
   "id": "d52e4c53",
   "metadata": {},
   "outputs": [
    {
     "data": {
      "text/plain": [
       "('0', '2', '9')"
      ]
     },
     "execution_count": 7,
     "metadata": {},
     "output_type": "execute_result"
    }
   ],
   "source": [
    "str_[0], str_[2], str_[-1] #음수인덱싱은 맨 마지막이 -1"
   ]
  },
  {
   "cell_type": "code",
   "execution_count": 8,
   "id": "759c4645",
   "metadata": {},
   "outputs": [
    {
     "ename": "TypeError",
     "evalue": "'str' object is not callable",
     "output_type": "error",
     "traceback": [
      "\u001b[1;31m---------------------------------------------------------------------------\u001b[0m",
      "\u001b[1;31mTypeError\u001b[0m                                 Traceback (most recent call last)",
      "Cell \u001b[1;32mIn[8], line 1\u001b[0m\n\u001b[1;32m----> 1\u001b[0m \u001b[43mstr_\u001b[49m\u001b[43m(\u001b[49m\u001b[38;5;241;43m10\u001b[39;49m\u001b[43m)\u001b[49m\n",
      "\u001b[1;31mTypeError\u001b[0m: 'str' object is not callable"
     ]
    }
   ],
   "source": [
    "str_(10)"
   ]
  },
  {
   "cell_type": "code",
   "execution_count": 4,
   "id": "82013732",
   "metadata": {},
   "outputs": [
    {
     "data": {
      "text/plain": [
       "'012'"
      ]
     },
     "execution_count": 4,
     "metadata": {},
     "output_type": "execute_result"
    }
   ],
   "source": [
    "'''\n",
    " 문자열변수[from:stop] : from부터 stop 앞까지 추출\n",
    " 문자열변수[from:stop:step] : from부터 stop 앞까지 step씩 전진하면서 추출\n",
    "     from 생략시 처음부터\n",
    "     stop 생략시 끝까지\n",
    "     step 생략시 1\n",
    "'''\n",
    "str_[0:3] # 0번째부터 3번째 앞까지 "
   ]
  },
  {
   "cell_type": "code",
   "execution_count": 9,
   "id": "3a355b12",
   "metadata": {},
   "outputs": [
    {
     "data": {
      "text/plain": [
       "'5678'"
      ]
     },
     "execution_count": 9,
     "metadata": {},
     "output_type": "execute_result"
    }
   ],
   "source": [
    "str_[-5:-1] # -5번번째 부터 -1번째 앞까지"
   ]
  },
  {
   "cell_type": "code",
   "execution_count": 10,
   "id": "09df9073",
   "metadata": {},
   "outputs": [
    {
     "data": {
      "text/plain": [
       "'56789'"
      ]
     },
     "execution_count": 10,
     "metadata": {},
     "output_type": "execute_result"
    }
   ],
   "source": [
    "# 인덱싱시 없는 인덱스 번호를 사용하면 에러\n",
    "# 슬라이싱시 인덱스 범위를 벗어나면 끝까지를 의미\n",
    "str_[5:19] "
   ]
  },
  {
   "cell_type": "code",
   "execution_count": 11,
   "id": "c992877d",
   "metadata": {},
   "outputs": [
    {
     "name": "stdout",
     "output_type": "stream",
     "text": [
      "0123456789\n",
      "02468\n"
     ]
    }
   ],
   "source": [
    "print(str_[0:10])\n",
    "print(str_[0:10:2])"
   ]
  },
  {
   "cell_type": "code",
   "execution_count": 14,
   "id": "2d8814d2",
   "metadata": {},
   "outputs": [
    {
     "name": "stdout",
     "output_type": "stream",
     "text": [
      "012345\n",
      "56789\n"
     ]
    }
   ],
   "source": [
    "print(str_[:6]) # 처음부터 6번째 앞까지\n",
    "print(str_[5:]) # 5번째부터 끝까지"
   ]
  },
  {
   "cell_type": "code",
   "execution_count": 15,
   "id": "f8087e37",
   "metadata": {},
   "outputs": [
    {
     "name": "stdout",
     "output_type": "stream",
     "text": [
      "987654321\n"
     ]
    }
   ],
   "source": [
    "print(str_[9:0:-1]) # 9번째부터 0번째전까지 -1씩 전진"
   ]
  },
  {
   "cell_type": "code",
   "execution_count": 5,
   "id": "77ed16bc",
   "metadata": {},
   "outputs": [
    {
     "name": "stdout",
     "output_type": "stream",
     "text": [
      "9876543210\n",
      "9876543210\n",
      "9876543210\n"
     ]
    }
   ],
   "source": [
    "# 마지막부터 처음까지 꺼꾸로 출력\n",
    "print(str_[9::-1])\n",
    "print(str_[::-1])\n",
    "print(str_[-1::-1])"
   ]
  },
  {
   "cell_type": "markdown",
   "id": "64e8fa56",
   "metadata": {},
   "source": [
    "## 3.3 논리형(True, False)"
   ]
  },
  {
   "cell_type": "code",
   "execution_count": 10,
   "id": "d363d366",
   "metadata": {},
   "outputs": [
    {
     "name": "stdout",
     "output_type": "stream",
     "text": [
      "True\n",
      "<class 'bool'>\n",
      "True\n"
     ]
    }
   ],
   "source": [
    "a = True\n",
    "print(a)\n",
    "print(type(a)) # 타입\n",
    "print(isinstance(a, bool)) # bool 타입인지 여부"
   ]
  },
  {
   "cell_type": "code",
   "execution_count": 12,
   "id": "9dedde85",
   "metadata": {},
   "outputs": [
    {
     "data": {
      "text/plain": [
       "(1, 0)"
      ]
     },
     "execution_count": 12,
     "metadata": {},
     "output_type": "execute_result"
    }
   ],
   "source": [
    "int(True), int(False)"
   ]
  },
  {
   "cell_type": "code",
   "execution_count": 13,
   "id": "aea173bd",
   "metadata": {},
   "outputs": [],
   "source": [
    "# False로 간주되는 것 : 0, ''-(빈스트링), None(결측치), []-(빈리스트), ()-빈튜플, {}-빈딕셔너리"
   ]
  },
  {
   "cell_type": "code",
   "execution_count": 18,
   "id": "77542422",
   "metadata": {},
   "outputs": [
    {
     "name": "stdout",
     "output_type": "stream",
     "text": [
      "False다\n"
     ]
    }
   ],
   "source": [
    "if '':\n",
    "    print('True다')\n",
    "else :\n",
    "    print('False다')"
   ]
  },
  {
   "cell_type": "markdown",
   "id": "bd2a302a",
   "metadata": {},
   "source": [
    "## 3.4 자료형 확인 및 형변환 함수\n",
    "    - type()\n",
    "    - int() : 정수형 변환\n",
    "    - float() : 실수형 변환\n",
    "    - str() : 문자형 변환\n",
    "    - bool() : 논리형 변환"
   ]
  },
  {
   "cell_type": "code",
   "execution_count": 26,
   "id": "658cd453",
   "metadata": {},
   "outputs": [
    {
     "data": {
      "text/plain": [
       "(123, 123, 1)"
      ]
     },
     "execution_count": 26,
     "metadata": {},
     "output_type": "execute_result"
    }
   ],
   "source": [
    "int('123'), int(123.45), int(True) # 소숫점 이하는 버림"
   ]
  },
  {
   "cell_type": "code",
   "execution_count": 28,
   "id": "6a29863b",
   "metadata": {},
   "outputs": [
    {
     "ename": "ValueError",
     "evalue": "invalid literal for int() with base 10: ' '",
     "output_type": "error",
     "traceback": [
      "\u001b[1;31m---------------------------------------------------------------------------\u001b[0m",
      "\u001b[1;31mValueError\u001b[0m                                Traceback (most recent call last)",
      "Cell \u001b[1;32mIn[28], line 2\u001b[0m\n\u001b[0;32m      1\u001b[0m \u001b[38;5;66;03m# 에러나는 것들\u001b[39;00m\n\u001b[1;32m----> 2\u001b[0m \u001b[38;5;28mint\u001b[39m(\u001b[38;5;241m1\u001b[39m), \u001b[38;5;28;43mint\u001b[39;49m\u001b[43m(\u001b[49m\u001b[38;5;124;43m'\u001b[39;49m\u001b[38;5;124;43m \u001b[39;49m\u001b[38;5;124;43m'\u001b[39;49m\u001b[43m)\u001b[49m, \u001b[38;5;28mint\u001b[39m(\u001b[38;5;28;01mNone\u001b[39;00m), \u001b[38;5;28mint\u001b[39m(\u001b[38;5;124m'\u001b[39m\u001b[38;5;124m123.45\u001b[39m\u001b[38;5;124m'\u001b[39m), \u001b[38;5;28mint\u001b[39m(\u001b[38;5;124m'\u001b[39m\u001b[38;5;124m1,456\u001b[39m\u001b[38;5;124m'\u001b[39m)\n",
      "\u001b[1;31mValueError\u001b[0m: invalid literal for int() with base 10: ' '"
     ]
    }
   ],
   "source": [
    "# 에러나는 것들\n",
    "int(''), int(' '), int(None), int('123.45'), int('1,456')"
   ]
  },
  {
   "cell_type": "code",
   "execution_count": 29,
   "id": "975513a7",
   "metadata": {},
   "outputs": [
    {
     "data": {
      "text/plain": [
       "(123.45, 123.0, 0.0)"
      ]
     },
     "execution_count": 29,
     "metadata": {},
     "output_type": "execute_result"
    }
   ],
   "source": [
    "float('123.45'), float(123), float(False), float('123')"
   ]
  },
  {
   "cell_type": "code",
   "execution_count": 30,
   "id": "4e5c870d",
   "metadata": {},
   "outputs": [
    {
     "ename": "ValueError",
     "evalue": "could not convert string to float: ''",
     "output_type": "error",
     "traceback": [
      "\u001b[1;31m---------------------------------------------------------------------------\u001b[0m",
      "\u001b[1;31mValueError\u001b[0m                                Traceback (most recent call last)",
      "Cell \u001b[1;32mIn[30], line 2\u001b[0m\n\u001b[0;32m      1\u001b[0m \u001b[38;5;66;03m#에러나는 것들\u001b[39;00m\n\u001b[1;32m----> 2\u001b[0m \u001b[38;5;28;43mfloat\u001b[39;49m\u001b[43m(\u001b[49m\u001b[38;5;124;43m'\u001b[39;49m\u001b[38;5;124;43m'\u001b[39;49m\u001b[43m)\u001b[49m, \u001b[38;5;28mfloat\u001b[39m(\u001b[38;5;124m'\u001b[39m\u001b[38;5;124m \u001b[39m\u001b[38;5;124m'\u001b[39m), \u001b[38;5;28mfloat\u001b[39m(\u001b[38;5;28;01mNone\u001b[39;00m), \u001b[38;5;28mfloat\u001b[39m(\u001b[38;5;124m'\u001b[39m\u001b[38;5;124m1,234\u001b[39m\u001b[38;5;124m'\u001b[39m)\n",
      "\u001b[1;31mValueError\u001b[0m: could not convert string to float: ''"
     ]
    }
   ],
   "source": [
    "#에러나는 것들\n",
    "float(''), float(' '), float(None), float('1,234')"
   ]
  },
  {
   "cell_type": "code",
   "execution_count": 33,
   "id": "0d95eb3f",
   "metadata": {},
   "outputs": [
    {
     "data": {
      "text/plain": [
       "('10', '10.9', '11200000000.0')"
      ]
     },
     "execution_count": 33,
     "metadata": {},
     "output_type": "execute_result"
    }
   ],
   "source": [
    "str(10), str(10.9), str(1.12e10) #지수형으로 들어가도 출력 실수형"
   ]
  },
  {
   "cell_type": "code",
   "execution_count": null,
   "id": "a14e80b0",
   "metadata": {},
   "outputs": [],
   "source": []
  },
  {
   "cell_type": "code",
   "execution_count": null,
   "id": "1debeec3",
   "metadata": {},
   "outputs": [],
   "source": []
  },
  {
   "cell_type": "markdown",
   "id": "1ca9302b",
   "metadata": {},
   "source": [
    "파이썬 기본 자료형(정리)\n",
    "1. 숫자 - int, float, complex\n",
    "2. 문자 - str, 문자슬라이싱, raw데이터처리시 이스케이프문자(\\n,\\t,\\\\,\\')를 그대로 저장\n",
    "3. 논리 - False로 판별되는 경우 0, '', None, [], (), {}"
   ]
  }
 ],
 "metadata": {
  "kernelspec": {
   "display_name": "Python 3 (ipykernel)",
   "language": "python",
   "name": "python3"
  },
  "language_info": {
   "codemirror_mode": {
    "name": "ipython",
    "version": 3
   },
   "file_extension": ".py",
   "mimetype": "text/x-python",
   "name": "python",
   "nbconvert_exporter": "python",
   "pygments_lexer": "ipython3",
   "version": "3.10.9"
  },
  "toc": {
   "base_numbering": 1,
   "nav_menu": {},
   "number_sections": true,
   "sideBar": true,
   "skip_h1_title": false,
   "title_cell": "Table of Contents",
   "title_sidebar": "Contents",
   "toc_cell": false,
   "toc_position": {
    "height": "calc(100% - 180px)",
    "left": "10px",
    "top": "150px",
    "width": "237px"
   },
   "toc_section_display": true,
   "toc_window_display": true
  }
 },
 "nbformat": 4,
 "nbformat_minor": 5
}
