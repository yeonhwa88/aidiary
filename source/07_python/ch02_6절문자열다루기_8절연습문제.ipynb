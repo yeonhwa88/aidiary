{
 "cells": [
  {
   "cell_type": "markdown",
   "id": "56471f2f",
   "metadata": {},
   "source": [
    "   <b><font size=\"6\" color=\"red\">ch02. 자료형과 연산자</font></b>"
   ]
  },
  {
   "cell_type": "markdown",
   "id": "b7aff224",
   "metadata": {},
   "source": [
    "# 6절. 문자열 다루기\n",
    "- 문자열슬라이싱변수[from:to:by]\n",
    "- len(문자열변수)\n",
    "- 문자변수.upper() : 대문자\n",
    "- 문자변수.lower() : 소문자\n",
    "- title() : 각 어절의 앞글자만 대문자\n",
    "- capitalize() : 첫문자만 대문자 \n",
    "- count('찾을문자열') : '찾을문자열'이 몇개 들어있는지 갯수 반환\n",
    "- find('찾을문자열') : '찾을문자열'이 왼쪽부터 시작하여  몇번째에 있는지 index를 반환 (자바 : indexOf)\n",
    "- rfind('찾을문자열') : '찾을문자열'이 오른쪽부터 시작하여 몇번째에 있는지 index를 반환 ('찾을문자열이 없으면 -1을 반환)\n",
    "- index('찾을문자열') : '찾을문자열'이 왼쪽부터 시작하여 몇번째 있는지 index를 반환 ('찾을문자열이 없으면 오류 반환)\n",
    "- startswith('특정문자열') : '특정문자열'로 시작하는지 여부 반환\n",
    "- endswith('특정문자열') : '특정문자열로'로 끝나는지 여부 반환\n",
    "- strip() : 좌우 공백제거(trim)\n",
    "- rstrip() : 오른쪽 공백제거 (rtrim)\n",
    "- lstrip() : 왼쪽 공백제거 (ltrim)\n",
    "- split() : 문자열을 공백이나 다른 문자 기준으로 나누어 리스트로 반환\n",
    "- isdigit() : 문자열이 숫자 문자열인지 여부 반환\n",
    "- islower() : 문자열이 소문자인지 여부 반환\n",
    "- isupper() : 문자열이 대문자인지 여부 반환\n",
    "- replace(oldStr, newStr) : oldStr을 newStr로 변경"
   ]
  },
  {
   "cell_type": "code",
   "execution_count": 5,
   "id": "3bf1a5af",
   "metadata": {},
   "outputs": [
    {
     "data": {
      "text/plain": [
       "('python is easy. python is smart. python', 39)"
      ]
     },
     "execution_count": 5,
     "metadata": {},
     "output_type": "execute_result"
    }
   ],
   "source": [
    "temp = \"python is easy. python is smart. python\"\n",
    "temp, len(temp)"
   ]
  },
  {
   "cell_type": "code",
   "execution_count": 6,
   "id": "1e8ea8af",
   "metadata": {},
   "outputs": [
    {
     "name": "stdout",
     "output_type": "stream",
     "text": [
      "첫번째 글자는p이고, 마지막 글자는n입니다\n"
     ]
    }
   ],
   "source": [
    "print('첫번째 글자는{}이고, 마지막 글자는{}입니다'.format(temp[0],temp[-1]))"
   ]
  },
  {
   "cell_type": "code",
   "execution_count": 7,
   "id": "183e7487",
   "metadata": {},
   "outputs": [
    {
     "name": "stdout",
     "output_type": "stream",
     "text": [
      "전화번호 끝자리 :  2132\n"
     ]
    }
   ],
   "source": [
    "tel = \"010-7894-2132\"\n",
    "print('전화번호 끝자리 : ', tel[-4:])"
   ]
  },
  {
   "cell_type": "code",
   "execution_count": 40,
   "id": "4a00c679",
   "metadata": {},
   "outputs": [
    {
     "name": "stdout",
     "output_type": "stream",
     "text": [
      "대문자로 :  PYTHON IS EASY. PYTHON IS SMART. PYTHON\n",
      "소문자로 :  python is easy. python is smart. python\n",
      "title() :  Python Is Easy. Python Is Smart. Python\n",
      "capitalize() :  Python is easy. python is smart. python\n",
      "python이 몇번 나오는지 : 2 번\n",
      "대소문자 구분없이 python이 몇번 나오는지 : 3 번\n",
      "대소문자 구분없이 python이 몇번 나오는지 : 3 번\n",
      "대소문자 구분없이 python이 몇번 나오는지 : 3 번\n",
      "python이 나오는 첫index 위치:  0 인덱스\n",
      "python이 나오는 마지막index 위치 : 33 인덱스\n",
      "Java가 나오는 첫 index 위치 : -1\n",
      "python이 나오는 첫 index 위치 : 0\n",
      "python으로 시작하는 문자열인지 여부 : True\n",
      "python으로 끝나는 문자열인지 여부 : True\n",
      "python대신 R로 변경 : R is easy. R is SMART. R\n"
     ]
    }
   ],
   "source": [
    "temp = \"python is easy. pyTHon is SMART. python\"\n",
    "#       012345678901234567890123456789012345678\n",
    "print('대문자로 : ', temp.upper())\n",
    "print('소문자로 : ', temp.lower())\n",
    "print('title() : ', temp.title())\n",
    "print('capitalize() : ', temp.capitalize())\n",
    "print('python이 몇번 나오는지 :', temp.count('python'),'번')\n",
    "print('대소문자 구분없이 python이 몇번 나오는지 :', temp.upper().count('PYTHON'),'번')\n",
    "print('대소문자 구분없이 python이 몇번 나오는지 :', temp.lower().count('python'),'번')\n",
    "print('대소문자 구분없이 python이 몇번 나오는지 :', temp.title().count('Python'),'번')\n",
    "print('python이 나오는 첫index 위치: ', temp.find('python'),'인덱스')\n",
    "print('python이 나오는 마지막index 위치 :', temp.rfind('python'),'인덱스')\n",
    "print('Java가 나오는 첫 index 위치 :', temp.find('Java')) # Java 내용이 없어서 -1\n",
    "print('python이 나오는 첫 index 위치 :', temp.index('python'))\n",
    "# print('Java가 나오는 첫 index 위치 :', temp.index('Java')) # Java 내용이 없어서 오류\n",
    "print('python으로 시작하는 문자열인지 여부 :', temp.startswith('python'))\n",
    "print('python으로 끝나는 문자열인지 여부 :', temp.endswith('python'))\n",
    "print('python대신 R로 변경 :', temp.replace('python', 'R').replace('pyTHon', 'R')) # *****"
   ]
  },
  {
   "cell_type": "code",
   "execution_count": 54,
   "id": "1147fd2e",
   "metadata": {},
   "outputs": [
    {
     "name": "stdout",
     "output_type": "stream",
     "text": [
      "strip() [python is easy]:\n",
      "lstrip() [python is easy     ] : \n",
      "rstrip() [     python is easy] : \n",
      "isdigit() : True\n",
      "대문자인지 : False\n",
      "소문자인지 : True\n"
     ]
    }
   ],
   "source": [
    "temp = '     python is easy     '\n",
    "notdisit = '1,234'\n",
    "print('strip() [{}]:'.format(temp.strip()))\n",
    "print(\"lstrip() [{}] : \".format(temp.lstrip()))\n",
    "print(\"rstrip() [{}] : \".format(temp.rstrip()))\n",
    "print(\"isdigit() : {}\".format(notdisit.replace(',','').isdigit())) # ,가 있어서 숫자로 안보임 replace로 ,를 ''변경후 비교\n",
    "print('대문자인지 : {}'.format(temp.isupper()))\n",
    "print('소문자인지 : {}'.format(temp.islower()))"
   ]
  },
  {
   "cell_type": "code",
   "execution_count": 56,
   "id": "e2009f30",
   "metadata": {},
   "outputs": [
    {
     "name": "stdout",
     "output_type": "stream",
     "text": [
      "space 단위로 temp를 분리(list로 반환) : ['홍길동', '김길동', '신길동', '유길둥']\n"
     ]
    }
   ],
   "source": [
    "temp = '    홍길동     김길동 신길동 유길둥'\n",
    "print('space 단위로 temp를 분리(list로 반환) :', temp.split()) # 스페이스가 여러개라도 스페이스 하나로 생각"
   ]
  },
  {
   "cell_type": "code",
   "execution_count": 61,
   "id": "44814a4f",
   "metadata": {},
   "outputs": [
    {
     "name": "stdout",
     "output_type": "stream",
     "text": [
      "- 단위로 date를 분리(list로 반환)합니다\n",
      "년 : 2024\n",
      "월 : 11\n",
      "일 : 05\n"
     ]
    }
   ],
   "source": [
    "data = \"2024-11-05\"\n",
    "print('- 단위로 date를 분리(list로 반환)합니다')\n",
    "date_list = data.split('-')\n",
    "date_list\n",
    "print('년 :', date_list[0])\n",
    "print('월 :', date_list[1])\n",
    "print('일 :', date_list[2])"
   ]
  },
  {
   "cell_type": "code",
   "execution_count": 70,
   "id": "aac7df2c",
   "metadata": {},
   "outputs": [
    {
     "name": "stdout",
     "output_type": "stream",
     "text": [
      "분리된 temp ['Java', 'Oracle', '웹표준', 'JSP', 'PYTHON']\n",
      "joined_temp : Java/Oracle/웹표준/JSP/PYTHON\n"
     ]
    }
   ],
   "source": [
    "# ' - ' 을 '/'로 바꾸기\n",
    "temp = 'Java - Oracle - 웹표준 - JSP - PYTHON'\n",
    "splited_temp = temp.split(' - ') # 앞뒤에 띄어쓰기 있는것까지 적어줘야 함\n",
    "print('분리된 temp', splited_temp)\n",
    "joined_temp = '/'.join(splited_temp) # 분리된 temp를 연결 시킬수 있는 join (리스트로 받은 내용을 연결시킬때)\n",
    "print('joined_temp :', joined_temp)"
   ]
  },
  {
   "cell_type": "code",
   "execution_count": 72,
   "id": "5a782136",
   "metadata": {},
   "outputs": [
    {
     "name": "stdout",
     "output_type": "stream",
     "text": [
      "A\n",
      "B\n",
      "C\n"
     ]
    }
   ],
   "source": [
    "str_ = 'ABC' # ['A', 'B', 'C'] 내부적으로는 list처럼 봐도된다 \n",
    "for s in str_ :\n",
    "    print(s)"
   ]
  },
  {
   "cell_type": "code",
   "execution_count": 73,
   "id": "026f7a63",
   "metadata": {},
   "outputs": [
    {
     "name": "stdout",
     "output_type": "stream",
     "text": [
      "A\n",
      "B\n",
      "C\n"
     ]
    }
   ],
   "source": [
    "str_list = ['A', 'B', 'C']\n",
    "for s in str_list :\n",
    "    print(s)"
   ]
  },
  {
   "cell_type": "code",
   "execution_count": 74,
   "id": "eb6530b1",
   "metadata": {
    "collapsed": true
   },
   "outputs": [
    {
     "data": {
      "text/plain": [
       "['__add__',\n",
       " '__class__',\n",
       " '__contains__',\n",
       " '__delattr__',\n",
       " '__dir__',\n",
       " '__doc__',\n",
       " '__eq__',\n",
       " '__format__',\n",
       " '__ge__',\n",
       " '__getattribute__',\n",
       " '__getitem__',\n",
       " '__getnewargs__',\n",
       " '__gt__',\n",
       " '__hash__',\n",
       " '__init__',\n",
       " '__init_subclass__',\n",
       " '__iter__',\n",
       " '__le__',\n",
       " '__len__',\n",
       " '__lt__',\n",
       " '__mod__',\n",
       " '__mul__',\n",
       " '__ne__',\n",
       " '__new__',\n",
       " '__reduce__',\n",
       " '__reduce_ex__',\n",
       " '__repr__',\n",
       " '__rmod__',\n",
       " '__rmul__',\n",
       " '__setattr__',\n",
       " '__sizeof__',\n",
       " '__str__',\n",
       " '__subclasshook__',\n",
       " 'capitalize',\n",
       " 'casefold',\n",
       " 'center',\n",
       " 'count',\n",
       " 'encode',\n",
       " 'endswith',\n",
       " 'expandtabs',\n",
       " 'find',\n",
       " 'format',\n",
       " 'format_map',\n",
       " 'index',\n",
       " 'isalnum',\n",
       " 'isalpha',\n",
       " 'isascii',\n",
       " 'isdecimal',\n",
       " 'isdigit',\n",
       " 'isidentifier',\n",
       " 'islower',\n",
       " 'isnumeric',\n",
       " 'isprintable',\n",
       " 'isspace',\n",
       " 'istitle',\n",
       " 'isupper',\n",
       " 'join',\n",
       " 'ljust',\n",
       " 'lower',\n",
       " 'lstrip',\n",
       " 'maketrans',\n",
       " 'partition',\n",
       " 'removeprefix',\n",
       " 'removesuffix',\n",
       " 'replace',\n",
       " 'rfind',\n",
       " 'rindex',\n",
       " 'rjust',\n",
       " 'rpartition',\n",
       " 'rsplit',\n",
       " 'rstrip',\n",
       " 'split',\n",
       " 'splitlines',\n",
       " 'startswith',\n",
       " 'strip',\n",
       " 'swapcase',\n",
       " 'title',\n",
       " 'translate',\n",
       " 'upper',\n",
       " 'zfill']"
      ]
     },
     "execution_count": 74,
     "metadata": {},
     "output_type": "execute_result"
    }
   ],
   "source": [
    "# 문자열을 다룰 수 있는 함수들 목록\n",
    "dir(str)"
   ]
  },
  {
   "cell_type": "markdown",
   "id": "68bad726",
   "metadata": {},
   "source": [
    "# 7절. 시간, 날짜 다루기"
   ]
  },
  {
   "cell_type": "code",
   "execution_count": 26,
   "id": "a38bce8e",
   "metadata": {},
   "outputs": [],
   "source": [
    "# datetime모듈 (datetime.py)안의 datetime, date, time을 import\n",
    "from datetime import datetime, date, time # import 한번에 작성"
   ]
  },
  {
   "cell_type": "markdown",
   "id": "8dc012bc",
   "metadata": {},
   "source": [
    "## 7.1 시간과 날짜"
   ]
  },
  {
   "cell_type": "code",
   "execution_count": 15,
   "id": "9754f5a1",
   "metadata": {},
   "outputs": [
    {
     "data": {
      "text/plain": [
       "datetime.datetime(2025, 3, 7, 18, 0)"
      ]
     },
     "execution_count": 15,
     "metadata": {},
     "output_type": "execute_result"
    }
   ],
   "source": [
    "# 특정 시점을 갖는 datetime 객체 생성\n",
    "thatday = datetime(2025, 3, 7, 18, 0)\n",
    "thatday"
   ]
  },
  {
   "cell_type": "code",
   "execution_count": 21,
   "id": "6122c504",
   "metadata": {},
   "outputs": [
    {
     "name": "stdout",
     "output_type": "stream",
     "text": [
      "2025-03-07 18:00:00\n",
      "2025년 03월 07일 PM 06시 00분\n",
      "25년03월07일 18시00분00초\n"
     ]
    }
   ],
   "source": [
    "print(thatday)\n",
    "print(thatday.strftime(\"%Y년 %m월 %d일 %p %I시 %M분\"))\n",
    "print(\"{:%y년%m월%d일 %H시%M분%S초}\".format(thatday))"
   ]
  },
  {
   "cell_type": "code",
   "execution_count": 23,
   "id": "71a6bd58",
   "metadata": {},
   "outputs": [
    {
     "name": "stdout",
     "output_type": "stream",
     "text": [
      "Wed Nov  6 09:54:19 2024\n",
      "24년11월06일 09시54분19초\n"
     ]
    }
   ],
   "source": [
    "# 지금을 저장하는 datetime 객체 생성\n",
    "now = datetime.now()\n",
    "print(now.ctime()) # 사람이 읽기 쉬운 형태로 보여줌\n",
    "print(\"{:%y년%m월%d일 %H시%M분%S초}\".format(now))"
   ]
  },
  {
   "cell_type": "markdown",
   "id": "c86f8bc8",
   "metadata": {},
   "source": [
    "## 7.2 날짜"
   ]
  },
  {
   "cell_type": "code",
   "execution_count": 27,
   "id": "0a8d45e3",
   "metadata": {},
   "outputs": [
    {
     "data": {
      "text/plain": [
       "datetime.date(2025, 3, 7)"
      ]
     },
     "execution_count": 27,
     "metadata": {},
     "output_type": "execute_result"
    }
   ],
   "source": [
    "# 특정한 날짜를 갖는 date 객체 생성\n",
    "someday = date(2025, 3, 7)\n",
    "someday"
   ]
  },
  {
   "cell_type": "code",
   "execution_count": 36,
   "id": "fdf86830",
   "metadata": {},
   "outputs": [
    {
     "name": "stdout",
     "output_type": "stream",
     "text": [
      "2025-03-07\n",
      "2025년03월07일 00시00분\n",
      "25년03월07일 00시00분\n"
     ]
    }
   ],
   "source": [
    "print(someday)\n",
    "print(someday.strftime(\"%Y년%m월%d일 %H시%M분\"))\n",
    "print(\"{:%y년%m월%d일 %H시%M분}\".format(someday))"
   ]
  },
  {
   "cell_type": "code",
   "execution_count": 37,
   "id": "d72893d2",
   "metadata": {},
   "outputs": [
    {
     "data": {
      "text/plain": [
       "datetime.date(2024, 11, 6)"
      ]
     },
     "execution_count": 37,
     "metadata": {},
     "output_type": "execute_result"
    }
   ],
   "source": [
    "# 오늘을 갖는 date 객체 생성\n",
    "today = date.today()\n",
    "today"
   ]
  },
  {
   "cell_type": "code",
   "execution_count": 38,
   "id": "87cf113c",
   "metadata": {},
   "outputs": [
    {
     "name": "stdout",
     "output_type": "stream",
     "text": [
      "2024-11-06\n",
      "2024년11월06일 00시00분\n",
      "24년11월06일 00시00분\n"
     ]
    }
   ],
   "source": [
    "print(today)\n",
    "print(today.strftime(\"%Y년%m월%d일 %H시%M분\"))\n",
    "print(\"{:%y년%m월%d일 %H시%M분}\".format(today))"
   ]
  },
  {
   "cell_type": "markdown",
   "id": "24d2ecbd",
   "metadata": {},
   "source": [
    "## 7.3 시간"
   ]
  },
  {
   "cell_type": "code",
   "execution_count": 41,
   "id": "1cc6a46b",
   "metadata": {},
   "outputs": [
    {
     "data": {
      "text/plain": [
       "datetime.time(13, 12)"
      ]
     },
     "execution_count": 41,
     "metadata": {},
     "output_type": "execute_result"
    }
   ],
   "source": [
    "# 특정한 시간을 저장하는 time 객체 생성\n",
    "t = time(13, 12)\n",
    "t"
   ]
  },
  {
   "cell_type": "code",
   "execution_count": 48,
   "id": "a91809ef",
   "metadata": {},
   "outputs": [
    {
     "name": "stdout",
     "output_type": "stream",
     "text": [
      "13:12:00\n",
      "13시 12분\n",
      "PM 01시 12분\n"
     ]
    }
   ],
   "source": [
    "print(t)\n",
    "print(t.strftime(\"%H시 %M분\"))\n",
    "print(\"{:%p %I시 %M분}\".format(t))"
   ]
  },
  {
   "cell_type": "code",
   "execution_count": 49,
   "id": "7de14824",
   "metadata": {},
   "outputs": [
    {
     "data": {
      "text/plain": [
       "(2024, 11, 6, 10, 9, 33, 419661)"
      ]
     },
     "execution_count": 49,
     "metadata": {},
     "output_type": "execute_result"
    }
   ],
   "source": [
    "# 현재 시간을 저장하는 time 객체 생성\n",
    "now = datetime.now() # 현재 날짜와 현재 시간이 저장\n",
    "now.year, now.month, now.day, now.hour, now.minute, now.second, now.microsecond"
   ]
  },
  {
   "cell_type": "code",
   "execution_count": 55,
   "id": "046b687d",
   "metadata": {},
   "outputs": [
    {
     "name": "stdout",
     "output_type": "stream",
     "text": [
      "10:11:50.378000\n",
      "10시 11분\n",
      "AM 10시 11분\n"
     ]
    }
   ],
   "source": [
    "now = datetime.now()\n",
    "now_time = time(now.hour, now.minute, now.second, now.microsecond)\n",
    "print(now_time)\n",
    "print(now_time.strftime(\"%H시 %M분\"))\n",
    "print(\"{:%p %I시 %M분}\".format(now_time))"
   ]
  },
  {
   "cell_type": "markdown",
   "id": "695bef14",
   "metadata": {},
   "source": [
    "# 8절. 연습문제 "
   ]
  },
  {
   "cell_type": "code",
   "execution_count": 56,
   "id": "e22c4f32",
   "metadata": {
    "code_folding": []
   },
   "outputs": [
    {
     "name": "stdout",
     "output_type": "stream",
     "text": [
      "이름을 입력하세요홍길동\n",
      "나이를 입력하세요23\n",
      "홍길동님의 나이는 23살입니다\n"
     ]
    }
   ],
   "source": [
    "# 1. 이름과 나이 변수를 다음 형식으로 출력하도록 format() 함수를 이용해 형식화하세요\n",
    "# [출력형식 : 홍길동님의 나이는 23살입니다]\n",
    "name = input(\"이름을 입력하세요\")\n",
    "age = input(\"나이를 입력하세요\")\n",
    "print(\"{}님의 나이는 {}살입니다\".format(name, age))"
   ]
  },
  {
   "cell_type": "code",
   "execution_count": 2,
   "id": "15f56c32",
   "metadata": {
    "code_folding": []
   },
   "outputs": [
    {
     "name": "stdout",
     "output_type": "stream",
     "text": [
      "첫번째 수를 입력하세요30\n",
      "두번째 수를 입력하세요2\n",
      "30 + 2 : 32\n",
      "30 - 2 : 28\n",
      "30 * 2 : 60\n",
      "30 / 2 : 15.0\n",
      "30 // 2 : 15\n",
      "30 % 2 : 0\n"
     ]
    }
   ],
   "source": [
    "# 2. 두 정수를 입력받아 두 수의 덧셈, 뺄셈, 곱셈, 나눗셈, 몫, 나머지를 출력하세요\n",
    "num1 = int(input(\"첫번째 수를 입력하세요\"))\n",
    "num2 = int(input(\"두번째 수를 입력하세요\"))\n",
    "print(\"{} + {} : {}\".format(num1, num2, num1+num2))\n",
    "print(\"{} - {} : {}\".format(num1, num2, num1-num2))\n",
    "print(\"{} * {} : {}\".format(num1, num2, num1*num2))\n",
    "print(\"{} / {} : {}\".format(num1, num2, num1/num2))\n",
    "print(\"{} // {} : {}\".format(num1, num2, num1//num2))\n",
    "print(\"{} % {} : {}\".format(num1, num2, num1%num2))"
   ]
  },
  {
   "cell_type": "code",
   "execution_count": 35,
   "id": "a3e94970",
   "metadata": {},
   "outputs": [
    {
     "name": "stdout",
     "output_type": "stream",
     "text": [
      "World Hello\n"
     ]
    }
   ],
   "source": [
    "# 3. 문자열의 분리하기와 합치기 기능을 이용하여 ‘Hello World’가 할당된 변수를 이용하여\n",
    "# ‘World Hello’로 출력하세요\n",
    "str_ = 'Hello World'\n",
    "str1 = str_.split()\n",
    "print(str1[1],str1[0])"
   ]
  },
  {
   "cell_type": "code",
   "execution_count": 14,
   "id": "3d612ffa",
   "metadata": {},
   "outputs": [
    {
     "data": {
      "text/plain": [
       "'bcdefa'"
      ]
     },
     "execution_count": 14,
     "metadata": {},
     "output_type": "execute_result"
    }
   ],
   "source": [
    "# 4. x = 'abcdef＇를 이용하여 ‘bcdefa’로 출력하세요(문자 슬라이싱이용)\n",
    "x = 'abcdef'\n",
    "x[1:]+x[:1]"
   ]
  },
  {
   "cell_type": "code",
   "execution_count": 15,
   "id": "a0e47275",
   "metadata": {},
   "outputs": [
    {
     "data": {
      "text/plain": [
       "'fedcba'"
      ]
     },
     "execution_count": 15,
     "metadata": {},
     "output_type": "execute_result"
    }
   ],
   "source": [
    "# 5. x = ‘abcdef’를 이용하여 ‘fedcba’로 출력하세요\n",
    "x = 'abcdef'\n",
    "x[::-1]"
   ]
  },
  {
   "cell_type": "code",
   "execution_count": 1,
   "id": "974fab4d",
   "metadata": {},
   "outputs": [
    {
     "name": "stdout",
     "output_type": "stream",
     "text": [
      "섭씨 온도를 입력하세요30\n",
      "계산된 화씨 온도는 86.00 입니다\n"
     ]
    }
   ],
   "source": [
    "# 6. 오늘의 온도를 섭씨온도로 입력받아 화씨 온도로 변환하는 프로그램을 작성하세요. 화 씨 온도는 소수점이 있을 경우만 \n",
    "# 두번째 자리까지 출력되고, 소수점이하 값이 없는 경우 소수점을 출력하지 않도록 합니다.(다음은 섭씨와 화씨의 변환 공식입니다. \n",
    "# C는 섭씨, F는 화씨)\n",
    "# C = (F-32) / 1.8\n",
    "# F = (C*1.8) + 32\n",
    "c = int(input('섭씨 온도를 입력하세요'))\n",
    "f = (c*1.8) + 32\n",
    "print(\"계산된 화씨 온도는 {:.2f} 입니다\".format(f))"
   ]
  },
  {
   "cell_type": "code",
   "execution_count": 31,
   "id": "09bdace3",
   "metadata": {},
   "outputs": [
    {
     "name": "stdout",
     "output_type": "stream",
     "text": [
      "섭씨 32.0도는 화씨온도로 바꾸면 89.60도 입니다\n"
     ]
    }
   ],
   "source": [
    "if f == round(f) : \n",
    "    print(\"섭씨 {}도는 화씨온도로 바꾸면 {:.0f}도 입니다\".format(c, f))\n",
    "else : \n",
    "    print(\"섭씨 {}도는 화씨온도로 바꾸면 {:.2f}도 입니다\".format(c, f))"
   ]
  },
  {
   "cell_type": "code",
   "execution_count": 29,
   "id": "bae452b8",
   "metadata": {},
   "outputs": [
    {
     "name": "stdout",
     "output_type": "stream",
     "text": [
      "섭씨 32.0도는 화씨온도로 바꾸면 89.60도 입니다\n"
     ]
    }
   ],
   "source": [
    "if f.is_integer(): # is_integer : 정수인지 확인\n",
    "    print(\"섭씨 {}도는 화씨온도로 바꾸면 {:.0f}도 입니다\".format(c, f))\n",
    "else : \n",
    "    print(\"섭씨 {}도는 화씨온도로 바꾸면 {:.2f}도 입니다\".format(c, f))"
   ]
  },
  {
   "cell_type": "code",
   "execution_count": null,
   "id": "bc88d6f7",
   "metadata": {},
   "outputs": [],
   "source": [
    "# 7. 다음 중 변수 선언으로 잘못된 것을 모두 고르시오? 1,2,3\n",
    "# ① for\n",
    "# ② 10th\n",
    "# ③ Student.name\n",
    "# ④ _1234"
   ]
  },
  {
   "cell_type": "code",
   "execution_count": 19,
   "id": "930017e7",
   "metadata": {},
   "outputs": [
    {
     "name": "stdout",
     "output_type": "stream",
     "text": [
      "SeounSeoul\n",
      "Seou n Seoul\n"
     ]
    }
   ],
   "source": [
    "# 8. 다음의 코드의 실행결과는?\n",
    "text = \"Seoul A001 - programming with python\"\n",
    "print(text[:4]+text[-1]+text.split()[0])\n",
    "print(text[:4], text[-1], text.split()[0])"
   ]
  },
  {
   "cell_type": "code",
   "execution_count": null,
   "id": "4d301d02",
   "metadata": {},
   "outputs": [],
   "source": [
    "# 9. 다음 중 파이썬 3.x 버전에서 연산식과 그 결과의 출력이 잘못된 것은? 2\n",
    "# ① 수식 8//2 결과 4\n",
    "# ② 수식 8/2 결과 4\n",
    "# ③ 수식 8 **2 결과 64"
   ]
  },
  {
   "cell_type": "code",
   "execution_count": 32,
   "id": "6dcf910c",
   "metadata": {},
   "outputs": [
    {
     "name": "stdout",
     "output_type": "stream",
     "text": [
      "5john\n"
     ]
    }
   ],
   "source": [
    "# 10. 아래 프로그램의 결과는? 에러남\n",
    "x = 5\n",
    "y = \"john\"\n",
    "print(str(x) + y)"
   ]
  },
  {
   "cell_type": "code",
   "execution_count": 33,
   "id": "fef0a750",
   "metadata": {},
   "outputs": [
    {
     "name": "stdout",
     "output_type": "stream",
     "text": [
      "나라\n"
     ]
    }
   ],
   "source": [
    "# 11. split()함수를 이용하여 str_의 값 중 ＂나라＂를 출력하는 프로그램을 완성하시오\n",
    "str_ = \"우리 나라 대한 민국\"\n",
    "str1= str_.split()\n",
    "print(str1[1])"
   ]
  },
  {
   "cell_type": "code",
   "execution_count": null,
   "id": "b916a21e",
   "metadata": {},
   "outputs": [],
   "source": []
  }
 ],
 "metadata": {
  "kernelspec": {
   "display_name": "Python 3 (ipykernel)",
   "language": "python",
   "name": "python3"
  },
  "language_info": {
   "codemirror_mode": {
    "name": "ipython",
    "version": 3
   },
   "file_extension": ".py",
   "mimetype": "text/x-python",
   "name": "python",
   "nbconvert_exporter": "python",
   "pygments_lexer": "ipython3",
   "version": "3.10.9"
  },
  "toc": {
   "base_numbering": 1,
   "nav_menu": {},
   "number_sections": true,
   "sideBar": true,
   "skip_h1_title": false,
   "title_cell": "Table of Contents",
   "title_sidebar": "Contents",
   "toc_cell": false,
   "toc_position": {},
   "toc_section_display": true,
   "toc_window_display": true
  }
 },
 "nbformat": 4,
 "nbformat_minor": 5
}
