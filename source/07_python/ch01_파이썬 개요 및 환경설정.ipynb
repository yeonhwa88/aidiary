{
 "cells": [
  {
   "cell_type": "code",
   "execution_count": 2,
   "id": "d896f124",
   "metadata": {
    "ExecuteTime": {
     "end_time": "2024-11-04T07:30:10.431371Z",
     "start_time": "2024-11-04T07:30:10.424374Z"
    }
   },
   "outputs": [
    {
     "data": {
      "text/html": [
       "\n",
       "<style>\n",
       "div.container{width:88% !important;}\n",
       "div.CodeMirror {font-family:Consolas; font-size:15pt;}\n",
       "div.output {font-size:15pt; font-weight:bold;}\n",
       "div.input {font-family:Consolas; font-size:15pt;}\n",
       "div.prompt {min-width:70px;}\n",
       "div#toc-header{margin-top:150px;}\n",
       "</style>\n",
       "<style>\n",
       "span.toc-item-num{\n",
       "display:none;\n",
       "}\n",
       "</style>\n"
      ],
      "text/plain": [
       "<IPython.core.display.HTML object>"
      ]
     },
     "metadata": {},
     "output_type": "display_data"
    }
   ],
   "source": [
    "from IPython.display import display, HTML\n",
    "display(HTML(\"\"\"\n",
    "<style>\n",
    "div.container{width:88% !important;}\n",
    "div.CodeMirror {font-family:Consolas; font-size:15pt;}\n",
    "div.output {font-size:15pt; font-weight:bold;}\n",
    "div.input {font-family:Consolas; font-size:15pt;}\n",
    "div.prompt {min-width:70px;}\n",
    "div#toc-header{margin-top:150px;}\n",
    "</style>\n",
    "<style>\n",
    "span.toc-item-num{\n",
    "display:none;\n",
    "}\n",
    "</style>\n",
    "\"\"\"))"
   ]
  },
  {
   "cell_type": "markdown",
   "id": "32de0036",
   "metadata": {},
   "source": [
    "   <b><font size=\"4\" color=\"red\">ch01. 파이썬 개요 및 환경 설정</font></b>"
   ]
  },
  {
   "cell_type": "markdown",
   "id": "fa8acc28",
   "metadata": {},
   "source": [
    "# 1. 주피터 노트북 사용법(큰제목)\n",
    "- shift+Enter : 포커스된 셀이 실행되고, 커서가 다음셀로 이동\n",
    "- alt+Enter : 포커스된 셀이 실행되고 다음셀이 생성된 후 다음셀로 이동\n",
    "- ctrl+Enter : 포커스된 셀이 실행되고 포커스 이동이 없음"
   ]
  },
  {
   "cell_type": "code",
   "execution_count": null,
   "id": "5cf722d9",
   "metadata": {},
   "outputs": [],
   "source": [
    "# 셀 하나하나에 파이썬 실행 소스 입력 -> 실행"
   ]
  },
  {
   "cell_type": "code",
   "execution_count": null,
   "id": "0c76f173",
   "metadata": {
    "ExecuteTime": {
     "end_time": "2024-11-04T06:48:03.955799Z",
     "start_time": "2024-11-04T06:48:03.949804Z"
    }
   },
   "outputs": [],
   "source": [
    "print (\"Hello World\")"
   ]
  },
  {
   "cell_type": "code",
   "execution_count": null,
   "id": "c578e010",
   "metadata": {},
   "outputs": [],
   "source": [
    "a = 1\n",
    "b = \"2\"\n",
    "print(str(a) + b)\n",
    "print(a + int(b))\n",
    "# view 메뉴 > Toggle line Numbers 선택 "
   ]
  },
  {
   "cell_type": "code",
   "execution_count": null,
   "id": "4434958c",
   "metadata": {},
   "outputs": [],
   "source": [
    "# for i in range(1000000000000000000000000000):\n",
    "#     print(i)\n",
    "# stop기능\n",
    "# kernel메뉴의 다양한 restart 기능"
   ]
  },
  {
   "cell_type": "code",
   "execution_count": null,
   "id": "3edafd27",
   "metadata": {},
   "outputs": [],
   "source": [
    "print = 10 \n",
    "print"
   ]
  },
  {
   "cell_type": "code",
   "execution_count": null,
   "id": "60e75d1a",
   "metadata": {},
   "outputs": [],
   "source": [
    "# 실수로 할당된 priont 변수 삭제\n",
    "del print # (1) 변수삭제\n",
    "# (2) kernel restart 재시작"
   ]
  },
  {
   "cell_type": "code",
   "execution_count": null,
   "id": "61d27067",
   "metadata": {},
   "outputs": [],
   "source": [
    "print('Hello, World')"
   ]
  },
  {
   "cell_type": "markdown",
   "id": "7400e922",
   "metadata": {},
   "source": [
    "# 2. ESC키 누르고 (핫키)\n",
    "- dd: 셀삭제\n",
    "- a : 윗셀 추가\n",
    "- b : 아랫셀 추가\n",
    "- m : 마크다운셀(문서셀)로 변경\n",
    "- y : 코드셀(소스셀)로 변경\n",
    "- o : 실행결과 접기"
   ]
  },
  {
   "cell_type": "markdown",
   "id": "6a061876",
   "metadata": {},
   "source": [
    "# 3 . 마크다운이란 ?\n",
    "- 코드와 함께 `문서화`를 할 수 있습니다\n",
    "- 다양한 문서화 문법이 있습니다"
   ]
  },
  {
   "cell_type": "code",
   "execution_count": 4,
   "id": "8531b5f0",
   "metadata": {
    "ExecuteTime": {
     "end_time": "2024-11-04T06:58:13.649775Z",
     "start_time": "2024-11-04T06:58:13.585710Z"
    }
   },
   "outputs": [
    {
     "name": "stdout",
     "output_type": "stream",
     "text": [
      " D 드라이브의 볼륨에는 이름이 없습니다.\n",
      " 볼륨 일련 번호: A48E-7CC1\n",
      "\n",
      " D:\\ai\\source\\07_python 디렉터리\n",
      "\n",
      "2024-11-04  오후 03:57    <DIR>          .\n",
      "2024-11-04  오후 03:57    <DIR>          ..\n",
      "2024-11-04  오후 02:58    <DIR>          .ipynb_checkpoints\n",
      "2024-11-04  오후 03:57             5,378 ch01_파이썬 개요 및 환경설정.ipynb\n",
      "               1개 파일               5,378 바이트\n",
      "               3개 디렉터리  163,853,508,608 바이트 남음\n"
     ]
    }
   ],
   "source": [
    "# 주피터 노트북에서 cmd(프롬프트 창에서 실행할 명령어)를 실행\n",
    "! dir"
   ]
  }
 ],
 "metadata": {
  "kernelspec": {
   "display_name": "Python 3 (ipykernel)",
   "language": "python",
   "name": "python3"
  },
  "language_info": {
   "codemirror_mode": {
    "name": "ipython",
    "version": 3
   },
   "file_extension": ".py",
   "mimetype": "text/x-python",
   "name": "python",
   "nbconvert_exporter": "python",
   "pygments_lexer": "ipython3",
   "version": "3.10.9"
  },
  "toc": {
   "base_numbering": 1,
   "nav_menu": {},
   "number_sections": false,
   "sideBar": true,
   "skip_h1_title": false,
   "title_cell": "Table of Contents",
   "title_sidebar": "Contents",
   "toc_cell": false,
   "toc_position": {
    "height": "calc(100% - 180px)",
    "left": "10px",
    "top": "150px",
    "width": "234px"
   },
   "toc_section_display": true,
   "toc_window_display": true
  }
 },
 "nbformat": 4,
 "nbformat_minor": 5
}
