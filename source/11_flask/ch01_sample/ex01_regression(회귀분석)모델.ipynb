{
 "cells": [
  {
   "cell_type": "markdown",
   "id": "8f3b46c7",
   "metadata": {},
   "source": [
    "- 데이터 소스 : 국토교통부 실거래가 공개시스템\n",
    "https://rtmobile.molit.go.kr/pt/xls/xls.do?mobileAt="
   ]
  },
  {
   "cell_type": "code",
   "execution_count": 1,
   "id": "b4984030",
   "metadata": {},
   "outputs": [],
   "source": [
    "import pandas as pd # csv파일 read\n",
    "import statsmodels.api as sm # 회귀분석 모델 생성\n",
    "import joblib # pkl 모델 저장하거나 load"
   ]
  },
  {
   "cell_type": "code",
   "execution_count": 3,
   "id": "a9a6f437",
   "metadata": {},
   "outputs": [
    {
     "name": "stdout",
     "output_type": "stream",
     "text": [
      "<class 'pandas.core.frame.DataFrame'>\n",
      "RangeIndex: 318 entries, 0 to 317\n",
      "Data columns (total 13 columns):\n",
      " #   Column   Non-Null Count  Dtype  \n",
      "---  ------   --------------  -----  \n",
      " 0   거래금액     318 non-null    int64  \n",
      " 1   건축년도     318 non-null    int64  \n",
      " 2   년        318 non-null    int64  \n",
      " 3   법정동      318 non-null    object \n",
      " 4   아파트      318 non-null    object \n",
      " 5   월        318 non-null    int64  \n",
      " 6   일        318 non-null    int64  \n",
      " 7   전용면적     318 non-null    float64\n",
      " 8   지번       318 non-null    object \n",
      " 9   지역코드     318 non-null    int64  \n",
      " 10  층        318 non-null    int64  \n",
      " 11  해제사유발생일  318 non-null    object \n",
      " 12  해제여부     318 non-null    object \n",
      "dtypes: float64(1), int64(7), object(5)\n",
      "memory usage: 32.4+ KB\n"
     ]
    }
   ],
   "source": [
    "df = pd.read_csv('../data/trade_apt_api.csv', encoding=\"cp949\")\n",
    "df.info()"
   ]
  },
  {
   "cell_type": "code",
   "execution_count": 9,
   "id": "c627d7af",
   "metadata": {},
   "outputs": [
    {
     "name": "stdout",
     "output_type": "stream",
     "text": [
      "독립변수  x와 타겟변수 y의 shape : (318, 4) (318,)\n"
     ]
    }
   ],
   "source": [
    "x = df[['건축년도','전용면적','층']]\n",
    "X = sm.add_constant(x) # 상수항(1) 추가하기 위한 add_constant함수\n",
    "y = df['거래금액']\n",
    "print('독립변수  x와 타겟변수 y의 shape :', X.shape, y.shape)"
   ]
  },
  {
   "cell_type": "code",
   "execution_count": 11,
   "id": "918cbb15",
   "metadata": {},
   "outputs": [
    {
     "data": {
      "text/html": [
       "<table class=\"simpletable\">\n",
       "<caption>OLS Regression Results</caption>\n",
       "<tr>\n",
       "  <th>Dep. Variable:</th>          <td>거래금액</td>       <th>  R-squared:         </th> <td>   0.648</td>\n",
       "</tr>\n",
       "<tr>\n",
       "  <th>Model:</th>                   <td>OLS</td>       <th>  Adj. R-squared:    </th> <td>   0.644</td>\n",
       "</tr>\n",
       "<tr>\n",
       "  <th>Method:</th>             <td>Least Squares</td>  <th>  F-statistic:       </th> <td>   192.4</td>\n",
       "</tr>\n",
       "<tr>\n",
       "  <th>Date:</th>             <td>Mon, 06 Jan 2025</td> <th>  Prob (F-statistic):</th> <td>8.54e-71</td>\n",
       "</tr>\n",
       "<tr>\n",
       "  <th>Time:</th>                 <td>10:20:16</td>     <th>  Log-Likelihood:    </th> <td> -3777.5</td>\n",
       "</tr>\n",
       "<tr>\n",
       "  <th>No. Observations:</th>      <td>   318</td>      <th>  AIC:               </th> <td>   7563.</td>\n",
       "</tr>\n",
       "<tr>\n",
       "  <th>Df Residuals:</th>          <td>   314</td>      <th>  BIC:               </th> <td>   7578.</td>\n",
       "</tr>\n",
       "<tr>\n",
       "  <th>Df Model:</th>              <td>     3</td>      <th>                     </th>     <td> </td>   \n",
       "</tr>\n",
       "<tr>\n",
       "  <th>Covariance Type:</th>      <td>nonrobust</td>    <th>                     </th>     <td> </td>   \n",
       "</tr>\n",
       "</table>\n",
       "<table class=\"simpletable\">\n",
       "<tr>\n",
       "    <td></td>       <th>coef</th>     <th>std err</th>      <th>t</th>      <th>P>|t|</th>  <th>[0.025</th>    <th>0.975]</th>  \n",
       "</tr>\n",
       "<tr>\n",
       "  <th>const</th> <td>-3.855e+06</td> <td> 4.25e+05</td> <td>   -9.069</td> <td> 0.000</td> <td>-4.69e+06</td> <td>-3.02e+06</td>\n",
       "</tr>\n",
       "<tr>\n",
       "  <th>건축년도</th>  <td> 1925.6916</td> <td>  212.616</td> <td>    9.057</td> <td> 0.000</td> <td> 1507.360</td> <td> 2344.023</td>\n",
       "</tr>\n",
       "<tr>\n",
       "  <th>전용면적</th>  <td>  962.1507</td> <td>   47.367</td> <td>   20.313</td> <td> 0.000</td> <td>  868.955</td> <td> 1055.347</td>\n",
       "</tr>\n",
       "<tr>\n",
       "  <th>층</th>     <td> 2058.1524</td> <td>  417.716</td> <td>    4.927</td> <td> 0.000</td> <td> 1236.276</td> <td> 2880.028</td>\n",
       "</tr>\n",
       "</table>\n",
       "<table class=\"simpletable\">\n",
       "<tr>\n",
       "  <th>Omnibus:</th>       <td>20.985</td> <th>  Durbin-Watson:     </th> <td>   1.352</td>\n",
       "</tr>\n",
       "<tr>\n",
       "  <th>Prob(Omnibus):</th> <td> 0.000</td> <th>  Jarque-Bera (JB):  </th> <td>  42.734</td>\n",
       "</tr>\n",
       "<tr>\n",
       "  <th>Skew:</th>          <td> 0.345</td> <th>  Prob(JB):          </th> <td>5.25e-10</td>\n",
       "</tr>\n",
       "<tr>\n",
       "  <th>Kurtosis:</th>      <td> 4.658</td> <th>  Cond. No.          </th> <td>4.33e+05</td>\n",
       "</tr>\n",
       "</table><br/><br/>Notes:<br/>[1] Standard Errors assume that the covariance matrix of the errors is correctly specified.<br/>[2] The condition number is large, 4.33e+05. This might indicate that there are<br/>strong multicollinearity or other numerical problems."
      ],
      "text/plain": [
       "<class 'statsmodels.iolib.summary.Summary'>\n",
       "\"\"\"\n",
       "                            OLS Regression Results                            \n",
       "==============================================================================\n",
       "Dep. Variable:                   거래금액   R-squared:                       0.648\n",
       "Model:                            OLS   Adj. R-squared:                  0.644\n",
       "Method:                 Least Squares   F-statistic:                     192.4\n",
       "Date:                Mon, 06 Jan 2025   Prob (F-statistic):           8.54e-71\n",
       "Time:                        10:20:16   Log-Likelihood:                -3777.5\n",
       "No. Observations:                 318   AIC:                             7563.\n",
       "Df Residuals:                     314   BIC:                             7578.\n",
       "Df Model:                           3                                         \n",
       "Covariance Type:            nonrobust                                         \n",
       "==============================================================================\n",
       "                 coef    std err          t      P>|t|      [0.025      0.975]\n",
       "------------------------------------------------------------------------------\n",
       "const      -3.855e+06   4.25e+05     -9.069      0.000   -4.69e+06   -3.02e+06\n",
       "건축년도        1925.6916    212.616      9.057      0.000    1507.360    2344.023\n",
       "전용면적         962.1507     47.367     20.313      0.000     868.955    1055.347\n",
       "층           2058.1524    417.716      4.927      0.000    1236.276    2880.028\n",
       "==============================================================================\n",
       "Omnibus:                       20.985   Durbin-Watson:                   1.352\n",
       "Prob(Omnibus):                  0.000   Jarque-Bera (JB):               42.734\n",
       "Skew:                           0.345   Prob(JB):                     5.25e-10\n",
       "Kurtosis:                       4.658   Cond. No.                     4.33e+05\n",
       "==============================================================================\n",
       "\n",
       "Notes:\n",
       "[1] Standard Errors assume that the covariance matrix of the errors is correctly specified.\n",
       "[2] The condition number is large, 4.33e+05. This might indicate that there are\n",
       "strong multicollinearity or other numerical problems.\n",
       "\"\"\""
      ]
     },
     "execution_count": 11,
     "metadata": {},
     "output_type": "execute_result"
    }
   ],
   "source": [
    "model = sm.OLS(y, X).fit()\n",
    "model.summary()\n",
    "# R-squared : r제곱(설명도) : 독립변수가 종속변수를 설명해주는 수치\n",
    "# Adj. R-squared : 0.644 : 수정된 r제곱\n",
    "# Prob (F-statistic): 8.54e-71 f통계량은 0.05보다 작으면 유의미\n",
    "# Durbin-Watson : 1.352 : 2에 가까울 수록 상관없음"
   ]
  },
  {
   "cell_type": "code",
   "execution_count": 13,
   "id": "8e7a11e6",
   "metadata": {},
   "outputs": [
    {
     "data": {
      "text/plain": [
       "(const       1.00\n",
       " 건축년도     2002.00\n",
       " 전용면적       84.82\n",
       " 층           1.00\n",
       " Name: 0, dtype: float64,\n",
       " 80000)"
      ]
     },
     "execution_count": 13,
     "metadata": {},
     "output_type": "execute_result"
    }
   ],
   "source": [
    "X.iloc[0], y[0]"
   ]
  },
  {
   "cell_type": "code",
   "execution_count": 15,
   "id": "a8b81944",
   "metadata": {},
   "outputs": [
    {
     "data": {
      "text/plain": [
       "array([83789.14484516])"
      ]
     },
     "execution_count": 15,
     "metadata": {},
     "output_type": "execute_result"
    }
   ],
   "source": [
    "model.predict([[1, 2002, 84.82, 1]])"
   ]
  },
  {
   "cell_type": "code",
   "execution_count": 16,
   "id": "551eb79d",
   "metadata": {},
   "outputs": [
    {
     "data": {
      "text/plain": [
       "['../model/ex1_apt_price_regression.pkl']"
      ]
     },
     "execution_count": 16,
     "metadata": {},
     "output_type": "execute_result"
    }
   ],
   "source": [
    "# 모델 저장 \n",
    "joblib.dump(model,'../model/ex1_apt_price_regression.pkl')"
   ]
  },
  {
   "cell_type": "code",
   "execution_count": 19,
   "id": "fc9fb989",
   "metadata": {},
   "outputs": [
    {
     "data": {
      "text/plain": [
       "'1,212'"
      ]
     },
     "execution_count": 19,
     "metadata": {},
     "output_type": "execute_result"
    }
   ],
   "source": [
    "format(1212, ',')"
   ]
  },
  {
   "cell_type": "code",
   "execution_count": 25,
   "id": "45b102f1",
   "metadata": {},
   "outputs": [],
   "source": [
    "def predict_apt_price(year, square, floor):\n",
    "    loaded_model = joblib.load('../model/ex1_apt_price_regression.pkl')\n",
    "    input_data = [[1, year, square, floor]]\n",
    "    results = loaded_model.predict(input_data)\n",
    "    result = round(results[0]*10000)\n",
    "    return format(result, ',') + '원입니다'"
   ]
  },
  {
   "cell_type": "code",
   "execution_count": 26,
   "id": "54498dfb",
   "metadata": {},
   "outputs": [
    {
     "name": "stdout",
     "output_type": "stream",
     "text": [
      "몇년 건축 ?2024\n",
      "몇 제곱미터 ?105\n",
      "몇 층 ?2\n"
     ]
    },
    {
     "data": {
      "text/plain": [
       "'1,476,287,136원입니다'"
      ]
     },
     "execution_count": 26,
     "metadata": {},
     "output_type": "execute_result"
    }
   ],
   "source": [
    "year = int(input('몇년 건축 ?'))\n",
    "square = int(input('몇 제곱미터 ?'))\n",
    "floor = int(input('몇 층 ?'))\n",
    "predict_apt_price(year, square, floor)"
   ]
  },
  {
   "cell_type": "code",
   "execution_count": null,
   "id": "6ade1e4e",
   "metadata": {},
   "outputs": [],
   "source": []
  }
 ],
 "metadata": {
  "kernelspec": {
   "display_name": "Python 3 (ipykernel)",
   "language": "python",
   "name": "python3"
  },
  "language_info": {
   "codemirror_mode": {
    "name": "ipython",
    "version": 3
   },
   "file_extension": ".py",
   "mimetype": "text/x-python",
   "name": "python",
   "nbconvert_exporter": "python",
   "pygments_lexer": "ipython3",
   "version": "3.10.9"
  },
  "toc": {
   "base_numbering": 1,
   "nav_menu": {},
   "number_sections": true,
   "sideBar": true,
   "skip_h1_title": false,
   "title_cell": "Table of Contents",
   "title_sidebar": "Contents",
   "toc_cell": false,
   "toc_position": {},
   "toc_section_display": true,
   "toc_window_display": false
  }
 },
 "nbformat": 4,
 "nbformat_minor": 5
}
