{
 "cells": [
  {
   "cell_type": "markdown",
   "id": "9acf52d0",
   "metadata": {},
   "source": [
    "- 모델 load하여, 입력된 값으로 예측한 집값 출력(GUI창에서)"
   ]
  },
  {
   "cell_type": "code",
   "execution_count": 1,
   "id": "42b97c49",
   "metadata": {},
   "outputs": [],
   "source": [
    "import joblib # 모델 load\n",
    "import tkinter as tk # GUI (그래픽 사용자 인터페이스 창 띄우기 위함)"
   ]
  },
  {
   "cell_type": "code",
   "execution_count": 4,
   "id": "8ca16411",
   "metadata": {},
   "outputs": [],
   "source": [
    "loaded_model = joblib.load('../model/ex1_apt_price_regression.pkl')\n",
    "# loaded_model.summary()"
   ]
  },
  {
   "cell_type": "code",
   "execution_count": 30,
   "id": "3e99547a",
   "metadata": {},
   "outputs": [
    {
     "data": {
      "text/plain": [
       "'2390914539648on_submit'"
      ]
     },
     "execution_count": 30,
     "metadata": {},
     "output_type": "execute_result"
    }
   ],
   "source": [
    "def on_submit(event=None):\n",
    "    '입력된 건축년도, 전용면적, 층을 받아 -> 예측값을 pred_label 출력'\n",
    "    year = int(year_entry.get())\n",
    "    square = int(square_entry.get())\n",
    "    floor = int(floor_entry.get())\n",
    "    pred = loaded_model.predict([1, year, square, floor]) # 결과 [109247.34307577]\n",
    "    print('예상금액 : {}만원 입니다'.format(\n",
    "                                            format(round(pred[0]), ',')\n",
    "    ))\n",
    "    pred_label.configure(text='예상금액 : {}만원 입니다'.format(\n",
    "                                                                format(round(pred[0]), ',')\n",
    "    ))\n",
    "    \n",
    "root = tk.Tk()\n",
    "\n",
    "root.geometry('300x250')\n",
    "\n",
    "year_label = tk.Label(root, text='건축년도 :')\n",
    "year_label.pack()\n",
    "year_entry = tk.Entry(root)\n",
    "year_entry.pack(pady=5) # pady, padx: 위아래 여백\n",
    "\n",
    "square_label = tk.Label(root, text='전용면적(제곱미터) :')\n",
    "square_label.pack()\n",
    "square_entry = tk.Entry(root)\n",
    "square_entry.pack(pady=5) # pady, padx: 위아래 여백\n",
    "\n",
    "floor_label = tk.Label(root, text='몇층 :')\n",
    "floor_label.pack()\n",
    "floor_entry = tk.Entry(root)\n",
    "floor_entry.pack(pady=5) # pady, padx: 위아래 여백\n",
    "\n",
    "submit_button = tk.Button(root, text='예측', command=on_submit)\n",
    "submit_button.pack(pady=15)\n",
    "\n",
    "pred_label = tk.Label(root, text='예측 금액 출력 예정')\n",
    "pred_label.pack(pady=10)\n",
    "\n",
    "year_entry.focus_set() # GUI창이 포커싱되면 자동 year_enrty에 포커싱\n",
    "root.bind('<Return>', on_submit)"
   ]
  },
  {
   "cell_type": "code",
   "execution_count": 31,
   "id": "2070c550",
   "metadata": {},
   "outputs": [
    {
     "name": "stderr",
     "output_type": "stream",
     "text": [
      "Exception in Tkinter callback\n",
      "Traceback (most recent call last):\n",
      "  File \"C:\\Users\\201-23\\anaconda3\\lib\\tkinter\\__init__.py\", line 1921, in __call__\n",
      "    return self.func(*args)\n",
      "  File \"C:\\Users\\201-23\\AppData\\Local\\Temp\\ipykernel_3648\\3744142761.py\", line 5, in on_submit\n",
      "    floor = int(floor_entry.get())\n",
      "ValueError: invalid literal for int() with base 10: ''\n"
     ]
    },
    {
     "name": "stdout",
     "output_type": "stream",
     "text": [
      "예상금액 : 143,889만원 입니다\n"
     ]
    }
   ],
   "source": [
    "root.mainloop()"
   ]
  },
  {
   "cell_type": "code",
   "execution_count": null,
   "id": "444fc5d1",
   "metadata": {},
   "outputs": [],
   "source": []
  }
 ],
 "metadata": {
  "kernelspec": {
   "display_name": "Python 3 (ipykernel)",
   "language": "python",
   "name": "python3"
  },
  "language_info": {
   "codemirror_mode": {
    "name": "ipython",
    "version": 3
   },
   "file_extension": ".py",
   "mimetype": "text/x-python",
   "name": "python",
   "nbconvert_exporter": "python",
   "pygments_lexer": "ipython3",
   "version": "3.10.9"
  },
  "toc": {
   "base_numbering": 1,
   "nav_menu": {},
   "number_sections": true,
   "sideBar": true,
   "skip_h1_title": false,
   "title_cell": "Table of Contents",
   "title_sidebar": "Contents",
   "toc_cell": false,
   "toc_position": {},
   "toc_section_display": true,
   "toc_window_display": false
  }
 },
 "nbformat": 4,
 "nbformat_minor": 5
}
