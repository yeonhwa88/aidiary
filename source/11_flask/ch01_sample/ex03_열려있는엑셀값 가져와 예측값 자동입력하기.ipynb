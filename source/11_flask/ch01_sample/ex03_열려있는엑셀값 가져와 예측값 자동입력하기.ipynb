{
 "cells": [
  {
   "cell_type": "code",
   "execution_count": 1,
   "id": "2c93c084",
   "metadata": {},
   "outputs": [],
   "source": [
    "import joblib \n",
    "import xlwings as xw # 열려있는 엑셀을 가져옴"
   ]
  },
  {
   "cell_type": "code",
   "execution_count": 2,
   "id": "7792784c",
   "metadata": {},
   "outputs": [],
   "source": [
    "wb = xw.books.active\n",
    "ws = wb.sheets.active\n",
    "\n",
    "loaded_model = joblib.load('../model/ex1_apt_price_regression.pkl')"
   ]
  },
  {
   "cell_type": "code",
   "execution_count": 4,
   "id": "0e1aebbf",
   "metadata": {},
   "outputs": [
    {
     "data": {
      "text/plain": [
       "2010.0"
      ]
     },
     "execution_count": 4,
     "metadata": {},
     "output_type": "execute_result"
    }
   ],
   "source": [
    "ws.range('B2').value"
   ]
  },
  {
   "cell_type": "code",
   "execution_count": 12,
   "id": "ecd77e85",
   "metadata": {
    "code_folding": []
   },
   "outputs": [],
   "source": [
    "def pred_price(line):\n",
    "    year = ws.range('B'+str(line)).value\n",
    "    square = ws.range('C'+str(line)).value\n",
    "    floor = ws.range('D'+str(line)).value\n",
    "    pred = loaded_model.predict([1, year, square, floor])[0]\n",
    "#     print(year, square, floor, pred)\n",
    "    ws.range('E'+str(line)).value = pred"
   ]
  },
  {
   "cell_type": "code",
   "execution_count": 13,
   "id": "1de17d85",
   "metadata": {},
   "outputs": [],
   "source": [
    "for i in range(2, 5):\n",
    "    pred_price(i)"
   ]
  }
 ],
 "metadata": {
  "kernelspec": {
   "display_name": "Python 3 (ipykernel)",
   "language": "python",
   "name": "python3"
  },
  "language_info": {
   "codemirror_mode": {
    "name": "ipython",
    "version": 3
   },
   "file_extension": ".py",
   "mimetype": "text/x-python",
   "name": "python",
   "nbconvert_exporter": "python",
   "pygments_lexer": "ipython3",
   "version": "3.10.9"
  },
  "toc": {
   "base_numbering": 1,
   "nav_menu": {},
   "number_sections": true,
   "sideBar": true,
   "skip_h1_title": false,
   "title_cell": "Table of Contents",
   "title_sidebar": "Contents",
   "toc_cell": false,
   "toc_position": {},
   "toc_section_display": true,
   "toc_window_display": false
  }
 },
 "nbformat": 4,
 "nbformat_minor": 5
}
