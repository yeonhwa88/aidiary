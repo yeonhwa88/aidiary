{
 "cells": [
  {
   "cell_type": "code",
   "execution_count": 1,
   "id": "24923dfb",
   "metadata": {
    "ExecuteTime": {
     "end_time": "2024-12-24T05:31:31.458154Z",
     "start_time": "2024-12-24T05:31:31.448113Z"
    }
   },
   "outputs": [
    {
     "data": {
      "text/html": [
       "\n",
       "<style>\n",
       "div.container{width:80% !important;}\n",
       "div.prompt {min-width:70px;}\n",
       "div#toc-header{margin-top:150px;}\n",
       "span.toc-item-num{display:none;}\n",
       "div.CodeMirror {font-family:Consolas}\n",
       "div.input {font-family:Consolas}\n",
       "</style>\n"
      ],
      "text/plain": [
       "<IPython.core.display.HTML object>"
      ]
     },
     "metadata": {},
     "output_type": "display_data"
    }
   ],
   "source": [
    "from IPython.display import display, HTML\n",
    "\n",
    "display(\n",
    "    HTML(\"\"\"\n",
    "<style>\n",
    "div.container{width:80% !important;}\n",
    "div.prompt {min-width:70px;}\n",
    "div#toc-header{margin-top:150px;}\n",
    "span.toc-item-num{display:none;}\n",
    "div.CodeMirror {font-family:Consolas}\n",
    "div.input {font-family:Consolas}\n",
    "</style>\n",
    "\"\"\"))"
   ]
  },
  {
   "cell_type": "code",
   "execution_count": 4,
   "id": "d97af442",
   "metadata": {
    "ExecuteTime": {
     "end_time": "2024-12-24T05:40:27.390297Z",
     "start_time": "2024-12-24T05:40:27.379301Z"
    }
   },
   "outputs": [
    {
     "data": {
      "image/png": "[encoded data removed]",
      "text/plain": [
       "<PIL.PngImagePlugin.PngImageFile image mode=RGBA size=28x28>"
      ]
     },
     "metadata": {},
     "output_type": "display_data"
    },
    {
     "data": {
      "text/plain": [
       "((28, 28, 4), numpy.ndarray)"
      ]
     },
     "execution_count": 4,
     "metadata": {},
     "output_type": "execute_result"
    }
   ],
   "source": [
    "from PIL import Image\n",
    "import numpy as np\n",
    "c0 = Image.open('data/test/0/1.png')\n",
    "display(c0)\n",
    "c0_numpy = np.array(c0)\n",
    "# c0_numpy.shape, type(c0_numpy)"
   ]
  },
  {
   "cell_type": "code",
   "execution_count": 6,
   "id": "7f3fa4ef",
   "metadata": {
    "ExecuteTime": {
     "end_time": "2024-12-24T05:41:42.808155Z",
     "start_time": "2024-12-24T05:41:42.802156Z"
    }
   },
   "outputs": [
    {
     "data": {
      "text/plain": [
       "(28, 28, 3)"
      ]
     },
     "execution_count": 6,
     "metadata": {},
     "output_type": "execute_result"
    }
   ],
   "source": [
    "c0_numpy[:, :, :-1].shape  # 채널3개 투명도 제외"
   ]
  },
  {
   "cell_type": "markdown",
   "id": "d8b5d777",
   "metadata": {},
   "source": [
    "# 1. CNN"
   ]
  },
  {
   "cell_type": "code",
   "execution_count": 7,
   "id": "680cd65e",
   "metadata": {
    "ExecuteTime": {
     "end_time": "2024-12-24T05:47:26.556973Z",
     "start_time": "2024-12-24T05:47:26.550974Z"
    }
   },
   "outputs": [],
   "source": [
    "import numpy as np\n",
    "from tensorflow.keras.preprocessing.image import ImageDataGenerator\n",
    "from tensorflow.keras.models import Sequential\n",
    "from tensorflow.keras.layers import Conv2D, MaxPooling2D, Flatten, Dense, Dropout\n",
    "from PIL import Image\n",
    "np.random.seed(3)"
   ]
  },
  {
   "cell_type": "code",
   "execution_count": 8,
   "id": "95b73086",
   "metadata": {
    "ExecuteTime": {
     "end_time": "2024-12-24T05:49:36.782122Z",
     "start_time": "2024-12-24T05:49:36.774125Z"
    }
   },
   "outputs": [
    {
     "data": {
      "text/plain": [
       "(24, 24, 4)"
      ]
     },
     "execution_count": 8,
     "metadata": {},
     "output_type": "execute_result"
    }
   ],
   "source": [
    "circle = Image.open('data/handwriting/handwriting_shape/train/circle/circle001.png')\n",
    "np.array(circle).shape\n",
    "# 모든 이미지의 shape가 같을 필요는 없음"
   ]
  },
  {
   "cell_type": "code",
   "execution_count": 12,
   "id": "fb4140af",
   "metadata": {
    "ExecuteTime": {
     "end_time": "2024-12-24T06:18:35.516232Z",
     "start_time": "2024-12-24T06:18:35.487238Z"
    }
   },
   "outputs": [
    {
     "name": "stdout",
     "output_type": "stream",
     "text": [
      "Found 45 images belonging to 3 classes.\n",
      "Found 15 images belonging to 3 classes.\n"
     ]
    }
   ],
   "source": [
    "# 1. 데이터 생성하기 학습훈련셋 : data/handwriting/handwriting_shape/train/*\n",
    "#                   테스트셋 : data/handwriting/handwriting_shape/test/*\n",
    "train_datagen = ImageDataGenerator(rescale=1./255)  # 0부터 1사이의 값으로 스케일 조정\n",
    "train_data = train_datagen.flow_from_directory(\n",
    "    'data/handwriting/handwriting_shape/train',  # train 아래 폴더명이 라벨이 됨\n",
    "    target_size=(24, 24),      # 넘파이 배열의 이미지 크기 조정(형변환 시 자체 타켓사이즈 설정)\n",
    "    class_mode='categorical',  # 원핫인코딩 형식으로 종속변수 반환\n",
    "    batch_size=3               # 한 번에 반환할 이미지와 라벨 수\n",
    ")\n",
    "test_datagen = ImageDataGenerator(rescale=1./255)\n",
    "test_data = test_datagen.flow_from_directory(\n",
    "    'data/handwriting/handwriting_shape/test',\n",
    "    target_size=(24, 24),\n",
    "    class_mode='categorical',\n",
    "    batch_size=3,\n",
    "    shuffle=False  # 이미지와 라벨 순서 고정\n",
    ")"
   ]
  },
  {
   "cell_type": "code",
   "execution_count": 11,
   "id": "c904ef15",
   "metadata": {
    "ExecuteTime": {
     "end_time": "2024-12-24T06:15:08.710578Z",
     "start_time": "2024-12-24T06:15:08.704579Z"
    }
   },
   "outputs": [
    {
     "data": {
      "text/plain": [
       "<keras.preprocessing.image.DirectoryIterator at 0x165d1b6b910>"
      ]
     },
     "execution_count": 11,
     "metadata": {},
     "output_type": "execute_result"
    }
   ],
   "source": [
    "test_data"
   ]
  },
  {
   "cell_type": "code",
   "execution_count": 14,
   "id": "14676a55",
   "metadata": {
    "ExecuteTime": {
     "end_time": "2024-12-24T06:20:41.352551Z",
     "start_time": "2024-12-24T06:20:41.340412Z"
    }
   },
   "outputs": [
    {
     "data": {
      "text/plain": [
       "array([[1., 0., 0.],\n",
       "       [1., 0., 0.],\n",
       "       [0., 1., 0.]], dtype=float32)"
      ]
     },
     "execution_count": 14,
     "metadata": {},
     "output_type": "execute_result"
    }
   ],
   "source": [
    "X_images, Y_labels = next(test_data)  # 한 배치사이즈만큼만 데이터 가져오기\n",
    "Y_labels  # 원핫인코딩 됨 "
   ]
  },
  {
   "cell_type": "code",
   "execution_count": 16,
   "id": "48dad218",
   "metadata": {
    "ExecuteTime": {
     "end_time": "2024-12-24T06:21:53.681679Z",
     "start_time": "2024-12-24T06:21:53.675681Z"
    }
   },
   "outputs": [
    {
     "name": "stdout",
     "output_type": "stream",
     "text": [
      "데이터 전체 갯수 :  15\n",
      "배치 사이즈 :  3\n"
     ]
    }
   ],
   "source": [
    "print('데이터 전체 갯수 : ', test_data.n)\n",
    "print('배치 사이즈 : ', test_data.batch_size)"
   ]
  },
  {
   "cell_type": "code",
   "execution_count": 19,
   "id": "46c18e9a",
   "metadata": {
    "ExecuteTime": {
     "end_time": "2024-12-24T06:29:21.003422Z",
     "start_time": "2024-12-24T06:29:20.975844Z"
    }
   },
   "outputs": [
    {
     "data": {
      "text/plain": [
       "((15, 24, 24, 3), (15, 3))"
      ]
     },
     "execution_count": 19,
     "metadata": {},
     "output_type": "execute_result"
    }
   ],
   "source": [
    "# 전체 가져오기\n",
    "all_images = []  # 독립변수\n",
    "all_labels = []  # 종속변수\n",
    "\n",
    "for images, labels in test_data:\n",
    "    all_images.append(images)\n",
    "    all_labels.append(labels)\n",
    "    \n",
    "    if len(all_images) * test_data.batch_size >= test_data.n:\n",
    "        break\n",
    "X_test_images = np.concatenate(all_images)\n",
    "Y_test_labels = np.concatenate(all_labels)\n",
    "\n",
    "X_test_images.shape, Y_test_labels.shape"
   ]
  },
  {
   "cell_type": "code",
   "execution_count": 27,
   "id": "a1945d01",
   "metadata": {
    "ExecuteTime": {
     "end_time": "2024-12-24T06:44:17.791068Z",
     "start_time": "2024-12-24T06:44:17.682737Z"
    }
   },
   "outputs": [
    {
     "name": "stdout",
     "output_type": "stream",
     "text": [
      "Model: \"sequential_4\"\n",
      "_________________________________________________________________\n",
      " Layer (type)                Output Shape              Param #   \n",
      "=================================================================\n",
      " conv2d_7 (Conv2D)           (None, 22, 22, 32)        896       \n",
      "                                                                 \n",
      " conv2d_8 (Conv2D)           (None, 20, 20, 64)        18496     \n",
      "                                                                 \n",
      " max_pooling2d_3 (MaxPooling  (None, 10, 10, 64)       0         \n",
      " 2D)                                                             \n",
      "                                                                 \n",
      " flatten_3 (Flatten)         (None, 6400)              0         \n",
      "                                                                 \n",
      " dense_6 (Dense)             (None, 128)               819328    \n",
      "                                                                 \n",
      " dense_7 (Dense)             (None, 3)                 387       \n",
      "                                                                 \n",
      "=================================================================\n",
      "Total params: 839,107\n",
      "Trainable params: 839,107\n",
      "Non-trainable params: 0\n",
      "_________________________________________________________________\n"
     ]
    }
   ],
   "source": [
    "# 2. 모델 구성하기\n",
    "model = Sequential()\n",
    "model.add(Conv2D(32, kernel_size=(3, 3), activation='relu', input_shape=(24, 24, 3)))\n",
    "model.add(Conv2D(64, kernel_size=(3, 3), activation='relu'))\n",
    "model.add(MaxPooling2D(pool_size=(2, 2)))\n",
    "model.add(Flatten())  # 3차원 데이터 -> 1차원 데이터\n",
    "model.add(Dense(units=128, activation='relu'))\n",
    "model.add(Dense(units=3,   activation='softmax'))\n",
    "model.summary()"
   ]
  },
  {
   "cell_type": "code",
   "execution_count": 28,
   "id": "375194a3",
   "metadata": {
    "ExecuteTime": {
     "end_time": "2024-12-24T06:44:30.966067Z",
     "start_time": "2024-12-24T06:44:17.814333Z"
    },
    "scrolled": true
   },
   "outputs": [
    {
     "name": "stdout",
     "output_type": "stream",
     "text": [
      "Epoch 1/50\n",
      "15/15 [==============================] - 1s 30ms/step - loss: 0.8934 - accuracy: 0.6889 - val_loss: 0.4127 - val_accuracy: 0.9333\n",
      "Epoch 2/50\n",
      "15/15 [==============================] - 0s 15ms/step - loss: 0.1455 - accuracy: 0.9556 - val_loss: 0.0310 - val_accuracy: 1.0000\n",
      "Epoch 3/50\n",
      "15/15 [==============================] - 0s 14ms/step - loss: 0.0067 - accuracy: 1.0000 - val_loss: 0.0081 - val_accuracy: 1.0000\n",
      "Epoch 4/50\n",
      "15/15 [==============================] - 0s 14ms/step - loss: 0.0013 - accuracy: 1.0000 - val_loss: 0.0055 - val_accuracy: 1.0000\n",
      "Epoch 5/50\n",
      "15/15 [==============================] - 0s 14ms/step - loss: 6.0775e-04 - accuracy: 1.0000 - val_loss: 0.0055 - val_accuracy: 1.0000\n",
      "Epoch 6/50\n",
      "15/15 [==============================] - 0s 13ms/step - loss: 3.9572e-04 - accuracy: 1.0000 - val_loss: 0.0034 - val_accuracy: 1.0000\n",
      "Epoch 7/50\n",
      "15/15 [==============================] - 0s 14ms/step - loss: 2.6237e-04 - accuracy: 1.0000 - val_loss: 0.0039 - val_accuracy: 1.0000\n",
      "Epoch 8/50\n",
      "15/15 [==============================] - 0s 13ms/step - loss: 2.1662e-04 - accuracy: 1.0000 - val_loss: 0.0043 - val_accuracy: 1.0000\n",
      "Epoch 9/50\n",
      "15/15 [==============================] - 0s 13ms/step - loss: 1.8121e-04 - accuracy: 1.0000 - val_loss: 0.0038 - val_accuracy: 1.0000\n",
      "Epoch 10/50\n",
      "15/15 [==============================] - 0s 22ms/step - loss: 1.4746e-04 - accuracy: 1.0000 - val_loss: 0.0033 - val_accuracy: 1.0000\n",
      "Epoch 11/50\n",
      "15/15 [==============================] - 0s 16ms/step - loss: 1.3256e-04 - accuracy: 1.0000 - val_loss: 0.0035 - val_accuracy: 1.0000\n",
      "Epoch 12/50\n",
      "15/15 [==============================] - 0s 15ms/step - loss: 1.1146e-04 - accuracy: 1.0000 - val_loss: 0.0031 - val_accuracy: 1.0000\n",
      "Epoch 13/50\n",
      "15/15 [==============================] - 0s 15ms/step - loss: 9.5474e-05 - accuracy: 1.0000 - val_loss: 0.0033 - val_accuracy: 1.0000\n",
      "Epoch 14/50\n",
      "15/15 [==============================] - 0s 15ms/step - loss: 8.7943e-05 - accuracy: 1.0000 - val_loss: 0.0028 - val_accuracy: 1.0000\n",
      "Epoch 15/50\n",
      "15/15 [==============================] - 0s 18ms/step - loss: 7.3223e-05 - accuracy: 1.0000 - val_loss: 0.0032 - val_accuracy: 1.0000\n",
      "Epoch 16/50\n",
      "15/15 [==============================] - 0s 15ms/step - loss: 6.4562e-05 - accuracy: 1.0000 - val_loss: 0.0029 - val_accuracy: 1.0000\n",
      "Epoch 17/50\n",
      "15/15 [==============================] - 0s 16ms/step - loss: 5.7560e-05 - accuracy: 1.0000 - val_loss: 0.0027 - val_accuracy: 1.0000\n",
      "Epoch 18/50\n",
      "15/15 [==============================] - 0s 14ms/step - loss: 5.0719e-05 - accuracy: 1.0000 - val_loss: 0.0027 - val_accuracy: 1.0000\n",
      "Epoch 19/50\n",
      "15/15 [==============================] - 0s 14ms/step - loss: 4.5562e-05 - accuracy: 1.0000 - val_loss: 0.0028 - val_accuracy: 1.0000\n",
      "Epoch 20/50\n",
      "15/15 [==============================] - 0s 15ms/step - loss: 4.1801e-05 - accuracy: 1.0000 - val_loss: 0.0026 - val_accuracy: 1.0000\n",
      "Epoch 21/50\n",
      "15/15 [==============================] - 0s 14ms/step - loss: 3.7320e-05 - accuracy: 1.0000 - val_loss: 0.0026 - val_accuracy: 1.0000\n",
      "Epoch 22/50\n",
      "15/15 [==============================] - 0s 14ms/step - loss: 3.3339e-05 - accuracy: 1.0000 - val_loss: 0.0027 - val_accuracy: 1.0000\n",
      "Epoch 23/50\n",
      "15/15 [==============================] - 0s 14ms/step - loss: 3.1458e-05 - accuracy: 1.0000 - val_loss: 0.0027 - val_accuracy: 1.0000\n",
      "Epoch 24/50\n",
      "15/15 [==============================] - 0s 14ms/step - loss: 2.7867e-05 - accuracy: 1.0000 - val_loss: 0.0024 - val_accuracy: 1.0000\n",
      "Epoch 25/50\n",
      "15/15 [==============================] - 0s 14ms/step - loss: 2.5716e-05 - accuracy: 1.0000 - val_loss: 0.0024 - val_accuracy: 1.0000\n",
      "Epoch 26/50\n",
      "15/15 [==============================] - 0s 14ms/step - loss: 2.3830e-05 - accuracy: 1.0000 - val_loss: 0.0023 - val_accuracy: 1.0000\n",
      "Epoch 27/50\n",
      "15/15 [==============================] - 0s 14ms/step - loss: 2.1804e-05 - accuracy: 1.0000 - val_loss: 0.0023 - val_accuracy: 1.0000\n",
      "Epoch 28/50\n",
      "15/15 [==============================] - 0s 14ms/step - loss: 2.0135e-05 - accuracy: 1.0000 - val_loss: 0.0023 - val_accuracy: 1.0000\n",
      "Epoch 29/50\n",
      "15/15 [==============================] - 0s 14ms/step - loss: 1.8882e-05 - accuracy: 1.0000 - val_loss: 0.0023 - val_accuracy: 1.0000\n",
      "Epoch 30/50\n",
      "15/15 [==============================] - 0s 14ms/step - loss: 1.7417e-05 - accuracy: 1.0000 - val_loss: 0.0024 - val_accuracy: 1.0000\n",
      "Epoch 31/50\n",
      "15/15 [==============================] - 0s 14ms/step - loss: 1.6177e-05 - accuracy: 1.0000 - val_loss: 0.0023 - val_accuracy: 1.0000\n",
      "Epoch 32/50\n",
      "15/15 [==============================] - 0s 14ms/step - loss: 1.5211e-05 - accuracy: 1.0000 - val_loss: 0.0022 - val_accuracy: 1.0000\n",
      "Epoch 33/50\n",
      "15/15 [==============================] - 0s 14ms/step - loss: 1.4175e-05 - accuracy: 1.0000 - val_loss: 0.0022 - val_accuracy: 1.0000\n",
      "Epoch 34/50\n",
      "15/15 [==============================] - 0s 14ms/step - loss: 1.3325e-05 - accuracy: 1.0000 - val_loss: 0.0021 - val_accuracy: 1.0000\n",
      "Epoch 35/50\n",
      "15/15 [==============================] - 0s 14ms/step - loss: 1.2506e-05 - accuracy: 1.0000 - val_loss: 0.0022 - val_accuracy: 1.0000\n",
      "Epoch 36/50\n",
      "15/15 [==============================] - 0s 14ms/step - loss: 1.1817e-05 - accuracy: 1.0000 - val_loss: 0.0022 - val_accuracy: 1.0000\n",
      "Epoch 37/50\n",
      "15/15 [==============================] - 0s 14ms/step - loss: 1.1036e-05 - accuracy: 1.0000 - val_loss: 0.0021 - val_accuracy: 1.0000\n",
      "Epoch 38/50\n",
      "15/15 [==============================] - 0s 14ms/step - loss: 1.0559e-05 - accuracy: 1.0000 - val_loss: 0.0020 - val_accuracy: 1.0000\n",
      "Epoch 39/50\n",
      "15/15 [==============================] - 0s 14ms/step - loss: 9.9074e-06 - accuracy: 1.0000 - val_loss: 0.0021 - val_accuracy: 1.0000\n",
      "Epoch 40/50\n",
      "15/15 [==============================] - 0s 16ms/step - loss: 9.3803e-06 - accuracy: 1.0000 - val_loss: 0.0021 - val_accuracy: 1.0000\n",
      "Epoch 41/50\n",
      "15/15 [==============================] - 0s 14ms/step - loss: 8.8823e-06 - accuracy: 1.0000 - val_loss: 0.0021 - val_accuracy: 1.0000\n",
      "Epoch 42/50\n",
      "15/15 [==============================] - 0s 14ms/step - loss: 8.4293e-06 - accuracy: 1.0000 - val_loss: 0.0020 - val_accuracy: 1.0000\n",
      "Epoch 43/50\n",
      "15/15 [==============================] - 0s 14ms/step - loss: 8.0478e-06 - accuracy: 1.0000 - val_loss: 0.0020 - val_accuracy: 1.0000\n",
      "Epoch 44/50\n",
      "15/15 [==============================] - 0s 14ms/step - loss: 7.6346e-06 - accuracy: 1.0000 - val_loss: 0.0020 - val_accuracy: 1.0000\n",
      "Epoch 45/50\n",
      "15/15 [==============================] - 0s 14ms/step - loss: 7.3167e-06 - accuracy: 1.0000 - val_loss: 0.0021 - val_accuracy: 1.0000\n",
      "Epoch 46/50\n",
      "15/15 [==============================] - 0s 14ms/step - loss: 6.9644e-06 - accuracy: 1.0000 - val_loss: 0.0020 - val_accuracy: 1.0000\n",
      "Epoch 47/50\n",
      "15/15 [==============================] - 0s 14ms/step - loss: 6.6147e-06 - accuracy: 1.0000 - val_loss: 0.0019 - val_accuracy: 1.0000\n",
      "Epoch 48/50\n",
      "15/15 [==============================] - 0s 14ms/step - loss: 6.3445e-06 - accuracy: 1.0000 - val_loss: 0.0020 - val_accuracy: 1.0000\n",
      "Epoch 49/50\n",
      "15/15 [==============================] - 0s 14ms/step - loss: 6.0558e-06 - accuracy: 1.0000 - val_loss: 0.0020 - val_accuracy: 1.0000\n",
      "Epoch 50/50\n",
      "15/15 [==============================] - 0s 14ms/step - loss: 5.7909e-06 - accuracy: 1.0000 - val_loss: 0.0020 - val_accuracy: 1.0000\n"
     ]
    },
    {
     "data": {
      "text/plain": [
       "<keras.callbacks.History at 0x165dfb750c0>"
      ]
     },
     "execution_count": 28,
     "metadata": {},
     "output_type": "execute_result"
    }
   ],
   "source": [
    "# 3. 학습설정\n",
    "model.compile(loss='categorical_crossentropy', optimizer='adam', metrics=['accuracy'])\n",
    "\n",
    "# 4. 학습시키기\n",
    "model.fit(train_data, epochs=50, validation_data=test_data)"
   ]
  },
  {
   "cell_type": "code",
   "execution_count": 29,
   "id": "5e6ce021",
   "metadata": {
    "ExecuteTime": {
     "end_time": "2024-12-24T06:45:33.467352Z",
     "start_time": "2024-12-24T06:45:33.360616Z"
    }
   },
   "outputs": [
    {
     "name": "stdout",
     "output_type": "stream",
     "text": [
      "5/5 [==============================] - 0s 471us/step - loss: 0.0020 - accuracy: 1.0000\n",
      "0.0019602144602686167\n",
      "1.0\n"
     ]
    }
   ],
   "source": [
    "# 5. 모델평가\n",
    "loss, accuracy = model.evaluate(test_data)\n",
    "print(loss)\n",
    "print(accuracy)"
   ]
  },
  {
   "cell_type": "code",
   "execution_count": 31,
   "id": "38ead393",
   "metadata": {
    "ExecuteTime": {
     "end_time": "2024-12-24T06:47:32.956680Z",
     "start_time": "2024-12-24T06:47:32.847190Z"
    }
   },
   "outputs": [
    {
     "name": "stdout",
     "output_type": "stream",
     "text": [
      "5/5 [==============================] - 0s 4ms/step\n"
     ]
    },
    {
     "data": {
      "text/plain": [
       "array([0, 0, 0, 0, 0, 1, 1, 1, 1, 1, 2, 2, 2, 2, 2], dtype=int64)"
      ]
     },
     "execution_count": 31,
     "metadata": {},
     "output_type": "execute_result"
    }
   ],
   "source": [
    "# 예측하기\n",
    "yhat = model.predict(test_data)\n",
    "yhat.argmax(axis=1)"
   ]
  },
  {
   "cell_type": "code",
   "execution_count": 35,
   "id": "7c780ccf",
   "metadata": {
    "ExecuteTime": {
     "end_time": "2024-12-24T06:50:20.012825Z",
     "start_time": "2024-12-24T06:50:20.005734Z"
    }
   },
   "outputs": [
    {
     "data": {
      "text/plain": [
       "array([[1.00, 0.00, 0.00],\n",
       "       [1.00, 0.00, 0.00],\n",
       "       [1.00, 0.00, 0.00],\n",
       "       [1.00, 0.00, 0.00],\n",
       "       [1.00, 0.00, 0.00],\n",
       "       [0.00, 1.00, 0.00],\n",
       "       [0.00, 1.00, 0.00],\n",
       "       [0.00, 1.00, 0.00],\n",
       "       [0.00, 1.00, 0.00],\n",
       "       [0.02, 0.97, 0.01],\n",
       "       [0.00, 0.00, 1.00],\n",
       "       [0.00, 0.00, 1.00],\n",
       "       [0.00, 0.00, 1.00],\n",
       "       [0.00, 0.00, 1.00],\n",
       "       [0.00, 0.00, 1.00]], dtype=float32)"
      ]
     },
     "execution_count": 35,
     "metadata": {},
     "output_type": "execute_result"
    }
   ],
   "source": [
    "np.set_printoptions(formatter={'float' : lambda x:\"{:0.2f}\".format(x)})\n",
    "yhat"
   ]
  },
  {
   "cell_type": "code",
   "execution_count": 33,
   "id": "b24875aa",
   "metadata": {
    "ExecuteTime": {
     "end_time": "2024-12-24T06:47:52.036947Z",
     "start_time": "2024-12-24T06:47:52.030948Z"
    }
   },
   "outputs": [
    {
     "data": {
      "text/plain": [
       "array([0, 0, 0, 0, 0, 1, 1, 1, 1, 1, 2, 2, 2, 2, 2])"
      ]
     },
     "execution_count": 33,
     "metadata": {},
     "output_type": "execute_result"
    }
   ],
   "source": [
    "# 실제데이터\n",
    "test_data.labels"
   ]
  },
  {
   "cell_type": "markdown",
   "id": "29f71ff1",
   "metadata": {},
   "source": [
    "# 2. 데이터 증강을 통한 CNN  accuracy 올리기\n",
    " - 데이터 추가 확보\n",
    " - 이미지 데이터를 증강(데이터 부풀리기) : train set에서만\n",
    " - 레이어층(Conv2D, MaxPooling, 배치정규화, Dense)\n",
    " - 활성화함수, 옵티마이저, Dropout(과적합 다소 해결)"
   ]
  },
  {
   "cell_type": "code",
   "execution_count": 43,
   "id": "c5fa098f",
   "metadata": {
    "ExecuteTime": {
     "end_time": "2024-12-24T07:23:55.752452Z",
     "start_time": "2024-12-24T07:23:55.723607Z"
    }
   },
   "outputs": [
    {
     "name": "stdout",
     "output_type": "stream",
     "text": [
      "Found 45 images belonging to 3 classes.\n",
      "Found 15 images belonging to 3 classes.\n"
     ]
    }
   ],
   "source": [
    "# 1. 데이터 생성\n",
    "train_datagen = ImageDataGenerator(rescale=1.0/255,         # 스케일조정\n",
    "                                   rotation_range=10,       # 이미지를 최대 ±10도 회전\n",
    "                                   width_shift_range=0.2,   # 가로방향으로 최대 20% 이동\n",
    "                                   height_shift_range=0.2,  # 세로방향으로 최대 20% 이동\n",
    "                                   shear_range=0.7,         # 최대 0.7라디안(40도)으로 이미지 밀림(교얀 p.73)\n",
    "                                   zoom_range=[0.9, 1.5],   # 90% ~ 150% 크기로 확대/축소\n",
    "                                   fill_mode='nearest',     # 이미지 확대 시 채우는 방식\n",
    "                                   horizontal_flip=True,    # 좌우반전(수평방향 뒤집기)\n",
    "                                   vertical_flip=True       # 상하반전(수직방향 뒤집기)\n",
    "                                  )\n",
    "train_data = train_datagen.flow_from_directory(\n",
    "    'data/handwriting/handwriting_shape/train',\n",
    "    target_size=(24, 24),\n",
    "    class_mode='categorical',\n",
    "    batch_size=3\n",
    ")\n",
    "test_datagen = ImageDataGenerator(rescale=1./255)\n",
    "test_data = test_datagen.flow_from_directory(\n",
    "    'data/handwriting/handwriting_shape/test',\n",
    "    target_size=(24, 24),\n",
    "    class_mode='categorical',\n",
    "    batch_size=3,\n",
    "    # shuffle=True 기본값\n",
    ")"
   ]
  },
  {
   "cell_type": "code",
   "execution_count": 44,
   "id": "81b7e83d",
   "metadata": {
    "ExecuteTime": {
     "end_time": "2024-12-24T07:24:10.411166Z",
     "start_time": "2024-12-24T07:23:56.019226Z"
    },
    "scrolled": true
   },
   "outputs": [
    {
     "name": "stdout",
     "output_type": "stream",
     "text": [
      "Epoch 1/50\n",
      "15/15 [==============================] - 1s 31ms/step - loss: 1.1482 - accuracy: 0.3556 - val_loss: 1.1042 - val_accuracy: 0.3333\n",
      "Epoch 2/50\n",
      "15/15 [==============================] - 0s 17ms/step - loss: 1.1194 - accuracy: 0.3333 - val_loss: 1.0928 - val_accuracy: 0.3333\n",
      "Epoch 3/50\n",
      "15/15 [==============================] - 0s 15ms/step - loss: 1.1124 - accuracy: 0.2889 - val_loss: 1.0947 - val_accuracy: 0.3333\n",
      "Epoch 4/50\n",
      "15/15 [==============================] - 0s 16ms/step - loss: 1.0976 - accuracy: 0.4000 - val_loss: 1.0800 - val_accuracy: 0.3333\n",
      "Epoch 5/50\n",
      "15/15 [==============================] - 0s 14ms/step - loss: 1.0841 - accuracy: 0.4000 - val_loss: 1.0576 - val_accuracy: 0.4000\n",
      "Epoch 6/50\n",
      "15/15 [==============================] - 0s 16ms/step - loss: 1.0205 - accuracy: 0.4667 - val_loss: 0.9776 - val_accuracy: 0.4000\n",
      "Epoch 7/50\n",
      "15/15 [==============================] - 0s 15ms/step - loss: 0.9726 - accuracy: 0.4444 - val_loss: 0.6112 - val_accuracy: 0.8667\n",
      "Epoch 8/50\n",
      "15/15 [==============================] - 0s 15ms/step - loss: 1.0000 - accuracy: 0.4667 - val_loss: 0.9875 - val_accuracy: 0.4667\n",
      "Epoch 9/50\n",
      "15/15 [==============================] - 0s 15ms/step - loss: 0.6666 - accuracy: 0.7556 - val_loss: 0.9507 - val_accuracy: 0.7333\n",
      "Epoch 10/50\n",
      "15/15 [==============================] - 0s 15ms/step - loss: 0.8217 - accuracy: 0.6222 - val_loss: 0.3788 - val_accuracy: 0.8667\n",
      "Epoch 11/50\n",
      "15/15 [==============================] - 0s 16ms/step - loss: 0.5128 - accuracy: 0.8222 - val_loss: 0.3971 - val_accuracy: 0.9333\n",
      "Epoch 12/50\n",
      "15/15 [==============================] - 0s 16ms/step - loss: 0.6429 - accuracy: 0.6889 - val_loss: 0.7948 - val_accuracy: 0.6000\n",
      "Epoch 13/50\n",
      "15/15 [==============================] - 0s 16ms/step - loss: 0.6911 - accuracy: 0.7111 - val_loss: 0.2420 - val_accuracy: 0.9333\n",
      "Epoch 14/50\n",
      "15/15 [==============================] - 0s 15ms/step - loss: 0.6452 - accuracy: 0.7556 - val_loss: 0.4940 - val_accuracy: 0.8667\n",
      "Epoch 15/50\n",
      "15/15 [==============================] - 0s 17ms/step - loss: 0.3757 - accuracy: 0.8889 - val_loss: 0.4191 - val_accuracy: 0.8667\n",
      "Epoch 16/50\n",
      "15/15 [==============================] - 0s 15ms/step - loss: 0.4322 - accuracy: 0.8222 - val_loss: 0.1517 - val_accuracy: 0.9333\n",
      "Epoch 17/50\n",
      "15/15 [==============================] - 0s 15ms/step - loss: 0.4039 - accuracy: 0.8667 - val_loss: 0.0391 - val_accuracy: 1.0000\n",
      "Epoch 18/50\n",
      "15/15 [==============================] - 0s 17ms/step - loss: 0.2564 - accuracy: 0.8889 - val_loss: 0.0417 - val_accuracy: 1.0000\n",
      "Epoch 19/50\n",
      "15/15 [==============================] - 0s 15ms/step - loss: 0.1391 - accuracy: 0.9778 - val_loss: 0.0401 - val_accuracy: 1.0000\n",
      "Epoch 20/50\n",
      "15/15 [==============================] - 0s 14ms/step - loss: 0.0841 - accuracy: 0.9778 - val_loss: 0.0276 - val_accuracy: 1.0000\n",
      "Epoch 21/50\n",
      "15/15 [==============================] - 0s 16ms/step - loss: 0.3167 - accuracy: 0.9111 - val_loss: 0.0259 - val_accuracy: 1.0000\n",
      "Epoch 22/50\n",
      "15/15 [==============================] - 0s 15ms/step - loss: 0.3822 - accuracy: 0.8444 - val_loss: 0.1492 - val_accuracy: 1.0000\n",
      "Epoch 23/50\n",
      "15/15 [==============================] - 0s 15ms/step - loss: 0.9038 - accuracy: 0.7333 - val_loss: 0.2857 - val_accuracy: 0.8667\n",
      "Epoch 24/50\n",
      "15/15 [==============================] - 0s 16ms/step - loss: 0.2803 - accuracy: 0.9111 - val_loss: 0.1451 - val_accuracy: 0.9333\n",
      "Epoch 25/50\n",
      "15/15 [==============================] - 0s 16ms/step - loss: 0.3037 - accuracy: 0.9111 - val_loss: 0.0787 - val_accuracy: 1.0000\n",
      "Epoch 26/50\n",
      "15/15 [==============================] - 0s 17ms/step - loss: 0.1531 - accuracy: 0.9333 - val_loss: 0.0277 - val_accuracy: 1.0000\n",
      "Epoch 27/50\n",
      "15/15 [==============================] - 0s 16ms/step - loss: 0.1813 - accuracy: 0.9333 - val_loss: 0.0053 - val_accuracy: 1.0000\n",
      "Epoch 28/50\n",
      "15/15 [==============================] - 0s 15ms/step - loss: 0.2199 - accuracy: 0.8667 - val_loss: 0.0123 - val_accuracy: 1.0000\n",
      "Epoch 29/50\n",
      "15/15 [==============================] - 0s 16ms/step - loss: 0.0757 - accuracy: 0.9778 - val_loss: 0.0055 - val_accuracy: 1.0000\n",
      "Epoch 30/50\n",
      "15/15 [==============================] - 0s 16ms/step - loss: 0.0976 - accuracy: 0.9556 - val_loss: 0.0025 - val_accuracy: 1.0000\n",
      "Epoch 31/50\n",
      "15/15 [==============================] - 0s 16ms/step - loss: 0.1437 - accuracy: 0.9556 - val_loss: 0.0139 - val_accuracy: 1.0000\n",
      "Epoch 32/50\n",
      "15/15 [==============================] - 0s 17ms/step - loss: 0.1691 - accuracy: 0.9333 - val_loss: 0.0735 - val_accuracy: 1.0000\n",
      "Epoch 33/50\n",
      "15/15 [==============================] - 0s 16ms/step - loss: 0.0449 - accuracy: 1.0000 - val_loss: 0.5524 - val_accuracy: 0.6667\n",
      "Epoch 34/50\n",
      "15/15 [==============================] - 0s 16ms/step - loss: 0.1423 - accuracy: 0.9556 - val_loss: 0.0026 - val_accuracy: 1.0000\n",
      "Epoch 35/50\n",
      "15/15 [==============================] - 0s 15ms/step - loss: 0.3365 - accuracy: 0.9333 - val_loss: 0.1145 - val_accuracy: 0.9333\n",
      "Epoch 36/50\n",
      "15/15 [==============================] - 0s 18ms/step - loss: 0.3923 - accuracy: 0.8889 - val_loss: 0.1467 - val_accuracy: 0.9333\n",
      "Epoch 37/50\n",
      "15/15 [==============================] - 0s 16ms/step - loss: 0.1391 - accuracy: 0.9556 - val_loss: 0.0410 - val_accuracy: 1.0000\n",
      "Epoch 38/50\n",
      "15/15 [==============================] - 0s 17ms/step - loss: 0.1247 - accuracy: 0.9778 - val_loss: 0.0258 - val_accuracy: 1.0000\n",
      "Epoch 39/50\n",
      "15/15 [==============================] - 0s 15ms/step - loss: 0.0838 - accuracy: 0.9556 - val_loss: 0.0854 - val_accuracy: 0.9333\n",
      "Epoch 40/50\n",
      "15/15 [==============================] - 0s 16ms/step - loss: 0.1125 - accuracy: 0.9556 - val_loss: 0.0608 - val_accuracy: 1.0000\n",
      "Epoch 41/50\n",
      "15/15 [==============================] - 0s 16ms/step - loss: 0.2215 - accuracy: 0.9111 - val_loss: 0.0163 - val_accuracy: 1.0000\n",
      "Epoch 42/50\n",
      "15/15 [==============================] - 0s 16ms/step - loss: 0.1462 - accuracy: 0.9778 - val_loss: 0.0054 - val_accuracy: 1.0000\n",
      "Epoch 43/50\n",
      "15/15 [==============================] - 0s 16ms/step - loss: 0.0825 - accuracy: 0.9778 - val_loss: 0.0045 - val_accuracy: 1.0000\n",
      "Epoch 44/50\n",
      "15/15 [==============================] - 0s 16ms/step - loss: 0.1571 - accuracy: 0.9778 - val_loss: 0.0139 - val_accuracy: 1.0000\n",
      "Epoch 45/50\n",
      "15/15 [==============================] - 0s 17ms/step - loss: 0.0541 - accuracy: 0.9556 - val_loss: 6.0528e-04 - val_accuracy: 1.0000\n",
      "Epoch 46/50\n",
      "15/15 [==============================] - 0s 16ms/step - loss: 0.1087 - accuracy: 0.9778 - val_loss: 0.0013 - val_accuracy: 1.0000\n",
      "Epoch 47/50\n",
      "15/15 [==============================] - 0s 17ms/step - loss: 0.0190 - accuracy: 1.0000 - val_loss: 0.0215 - val_accuracy: 1.0000\n",
      "Epoch 48/50\n",
      "15/15 [==============================] - 0s 16ms/step - loss: 0.2317 - accuracy: 0.9333 - val_loss: 0.0767 - val_accuracy: 1.0000\n",
      "Epoch 49/50\n",
      "15/15 [==============================] - 0s 16ms/step - loss: 0.5347 - accuracy: 0.8889 - val_loss: 0.0166 - val_accuracy: 1.0000\n",
      "Epoch 50/50\n",
      "15/15 [==============================] - 0s 16ms/step - loss: 0.2463 - accuracy: 0.9333 - val_loss: 0.0105 - val_accuracy: 1.0000\n"
     ]
    },
    {
     "data": {
      "text/plain": [
       "<keras.callbacks.History at 0x165e0ed82e0>"
      ]
     },
     "execution_count": 44,
     "metadata": {},
     "output_type": "execute_result"
    }
   ],
   "source": [
    "# 2. 모델 구성하기\n",
    "model = Sequential()\n",
    "model.add(Conv2D(64, kernel_size=(3, 3), activation='relu', input_shape=(24, 24, 3)))\n",
    "model.add(Conv2D(64, kernel_size=(3, 3), activation='relu'))\n",
    "model.add(MaxPooling2D(pool_size=(2, 2)))\n",
    "model.add(Dropout(0.2))\n",
    "\n",
    "model.add(Conv2D(64, kernel_size=(3, 3), activation='relu', input_shape=(24, 24, 3)))\n",
    "model.add(Conv2D(64, kernel_size=(3, 3), activation='relu'))\n",
    "model.add(MaxPooling2D(pool_size=(2, 2)))\n",
    "model.add(Dropout(0.2))\n",
    "\n",
    "model.add(Flatten())  # 3차원 데이터 -> 1차원 데이터\n",
    "model.add(Dense(units=128, activation='relu'))\n",
    "model.add(Dense(units=3,   activation='softmax'))\n",
    "# model.summary()\n",
    "\n",
    "# 3. 학습설정\n",
    "model.compile(loss='categorical_crossentropy', optimizer='adam', metrics=['accuracy'])\n",
    "\n",
    "# 4. 학습시키기\n",
    "model.fit(train_data, epochs=50, validation_data=test_data)"
   ]
  },
  {
   "cell_type": "code",
   "execution_count": 42,
   "id": "f7ffc15f",
   "metadata": {
    "ExecuteTime": {
     "end_time": "2024-12-24T07:23:23.116167Z",
     "start_time": "2024-12-24T07:23:23.003277Z"
    }
   },
   "outputs": [
    {
     "name": "stdout",
     "output_type": "stream",
     "text": [
      "5/5 [==============================] - 0s 6ms/step - loss: 0.4554 - accuracy: 0.8667\n",
      "정확도(accuracy) :  0.8666666746139526\n"
     ]
    }
   ],
   "source": [
    "# 5. 모델 평가하기\n",
    "score = model.evaluate(test_data)\n",
    "print('정확도(accuracy) : ', score[1])"
   ]
  },
  {
   "cell_type": "code",
   "execution_count": 45,
   "id": "60401ca6",
   "metadata": {
    "ExecuteTime": {
     "end_time": "2024-12-24T07:25:48.837050Z",
     "start_time": "2024-12-24T07:25:48.649765Z"
    }
   },
   "outputs": [
    {
     "name": "stdout",
     "output_type": "stream",
     "text": [
      "5/5 [==============================] - 0s 4ms/step\n",
      "[[1.00 0.00 0.00]\n",
      " [0.01 0.99 0.00]\n",
      " [0.00 0.00 1.00]\n",
      " [0.02 0.00 0.98]\n",
      " [1.00 0.00 0.00]\n",
      " [1.00 0.00 0.00]\n",
      " [0.02 0.98 0.00]\n",
      " [0.01 0.00 0.99]\n",
      " [0.02 0.00 0.98]\n",
      " [0.02 0.98 0.00]\n",
      " [0.03 0.97 0.00]\n",
      " [1.00 0.00 0.00]\n",
      " [0.01 0.00 0.99]\n",
      " [1.00 0.00 0.00]\n",
      " [0.02 0.98 0.00]]\n"
     ]
    }
   ],
   "source": [
    "# 예측하기\n",
    "pred = model.predict(test_data)\n",
    "print(pred)"
   ]
  },
  {
   "cell_type": "code",
   "execution_count": 46,
   "id": "ad317a2d",
   "metadata": {
    "ExecuteTime": {
     "end_time": "2024-12-24T07:26:19.815270Z",
     "start_time": "2024-12-24T07:26:19.809076Z"
    }
   },
   "outputs": [
    {
     "data": {
      "text/plain": [
       "array([0, 1, 2, 2, 0, 0, 1, 2, 2, 1, 1, 0, 2, 0, 1], dtype=int64)"
      ]
     },
     "execution_count": 46,
     "metadata": {},
     "output_type": "execute_result"
    }
   ],
   "source": [
    "pred.argmax(axis=1)"
   ]
  },
  {
   "cell_type": "code",
   "execution_count": null,
   "id": "6ce54900",
   "metadata": {},
   "outputs": [],
   "source": []
  }
 ],
 "metadata": {
  "kernelspec": {
   "display_name": "Python 3 (ipykernel)",
   "language": "python",
   "name": "python3"
  },
  "language_info": {
   "codemirror_mode": {
    "name": "ipython",
    "version": 3
   },
   "file_extension": ".py",
   "mimetype": "text/x-python",
   "name": "python",
   "nbconvert_exporter": "python",
   "pygments_lexer": "ipython3",
   "version": "3.10.9"
  },
  "toc": {
   "base_numbering": 1,
   "nav_menu": {},
   "number_sections": true,
   "sideBar": true,
   "skip_h1_title": false,
   "title_cell": "Table of Contents",
   "title_sidebar": "Contents",
   "toc_cell": false,
   "toc_position": {
    "height": "calc(100% - 180px)",
    "left": "10px",
    "top": "150px",
    "width": "274.323px"
   },
   "toc_section_display": true,
   "toc_window_display": true
  }
 },
 "nbformat": 4,
 "nbformat_minor": 5
}
