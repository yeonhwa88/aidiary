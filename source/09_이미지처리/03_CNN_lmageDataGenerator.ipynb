{
 "cells": [
  {
   "cell_type": "code",
   "execution_count": 1,
   "id": "ad322134",
   "metadata": {},
   "outputs": [
    {
     "data": {
      "image/png": "iVBORw0KGgoAAAANSUhEUgAAABwAAAAcCAYAAAByDd+UAAACxElEQVR4nL3WT6hVVRTH8c++9/0xe2JIfxTKyCz8MwqClAgUa5ATyUGINpLSWaBDHdTQiSMHQg0LMQmLJkGBFpgTqUGIIiH+QZQMffXM9/Bd790O9r7P4/Gcc5/4cMPiwj53r+9ae6392zvEGD3J0ZrtH0MIYS6AoSnDEMIwRrEAI+hgApMxxt6cAUMILSzCaqzJv2P4BydxAtfQRQ/d2QbwEDCE0MZyfIQP8QqG8ueIm/gRf+IObuM8zuFGjLHTSIwxzphU0xX4Ev9lQJV1C9bBdXyFdzC/6LNsRVjI2RzEZAOszu7id2zB82gPAj6HfQ2w3iygXVzFfryJkUog5uETqQPrHE3hf0wPgPZybX/BegyXyqaFlfijxsG01CQ78TGO5JpND8i6g++xDK0icBRba7ayg6N4QzqHI1iCt7ENX2R4HXQcm4tZks7Xnrxt5a05kWsxVGqugDYW41OcrVjfb6S9GOuvb+XFYx4ePfyA0zHGu/3JeH90c3ZfYxd+rfDRklRquDjRy5FUaWXIkVaOrC7jGfZz9lUe3eJ8Hzhe4biN9/F6lro6aMR8vFYRdMS/OaEZYAeXpaYpj7ewAy/VQbMULpNUpgycwiWpo2eAXZzBXxX+5kmauh0v1FxRT+E9vFzx7Yqks/e3OnfeGHbjlur2voHP8KIHO3YU63LA5TPZk2Ty2Sql6evoIfVKMolvsDFnsxjv4ifVR+ImNhUDLGvpkFSzY1KR6yTu7wz5DhdqYD18i6W14p2hI3mLfqtxNFu7iA8w2ggs1GVDhtZl2mQT+Fy6fcJAYOH2WCsJ9dQjwG7hQO6HVqXv2ps5ydFSSbbOar4dutJZ3pvXVMJijANfbSFnu0rquA14FQslJepfuMdxGKcwERucNgIL4Daelp4OS/BMDuSO9Hq7gPEs6M2+HuXlnTN+QNCbsnls4FyMe921bvvDKtJtAAAAAElFTkSuQmCC\n",
      "text/plain": [
       "<PIL.PngImagePlugin.PngImageFile image mode=RGBA size=28x28>"
      ]
     },
     "metadata": {},
     "output_type": "display_data"
    },
    {
     "data": {
      "text/plain": [
       "(28, 28, 4)"
      ]
     },
     "execution_count": 1,
     "metadata": {},
     "output_type": "execute_result"
    }
   ],
   "source": [
    "from PIL import Image\n",
    "import numpy as np\n",
    "c0 = Image.open('data/test/0/1.png')\n",
    "display(c0)\n",
    "c0_numpy = np.array(c0)\n",
    "c0_numpy.shape"
   ]
  },
  {
   "cell_type": "code",
   "execution_count": 3,
   "id": "da9a29a7",
   "metadata": {},
   "outputs": [
    {
     "data": {
      "text/plain": [
       "(28, 28, 3)"
      ]
     },
     "execution_count": 3,
     "metadata": {},
     "output_type": "execute_result"
    }
   ],
   "source": [
    "c0_numpy[:, :, :-1].shape"
   ]
  },
  {
   "cell_type": "markdown",
   "id": "3786cba4",
   "metadata": {},
   "source": [
    "# 1. CNN"
   ]
  },
  {
   "cell_type": "code",
   "execution_count": 5,
   "id": "8a564515",
   "metadata": {},
   "outputs": [],
   "source": [
    "import numpy as np\n",
    "from tensorflow.keras.preprocessing.image import ImageDataGenerator\n",
    "from tensorflow.keras.models import Sequential\n",
    "from tensorflow.keras.layers import Conv2D, MaxPooling2D, Flatten, Dense, Dropout\n",
    "from PIL import Image\n",
    "np.random.seed(3)"
   ]
  },
  {
   "cell_type": "code",
   "execution_count": null,
   "id": "7477c11c",
   "metadata": {},
   "outputs": [],
   "source": [
    "circle = Image.open('data/handwriting/handwriting_shape/train/circle/circle003.png')\n",
    "np.array(circle).shape\n",
    "# 모든 이미지의 shape이 같을 필요없음"
   ]
  },
  {
   "cell_type": "code",
   "execution_count": 7,
   "id": "f0a845c1",
   "metadata": {},
   "outputs": [
    {
     "name": "stdout",
     "output_type": "stream",
     "text": [
      "Found 45 images belonging to 3 classes.\n",
      "Found 15 images belonging to 3 classes.\n"
     ]
    }
   ],
   "source": [
    "# 1. 데이터 생성하기 학습훈련셋 : data/handwriting/handwriting_shape/train/*\n",
    "#                   테스트셋 : data/handwriting/handwriting_shape/test/*\n",
    "train_datagen = ImageDataGenerator(rescale=1./255)  # 0부터 1사이의 값으로 스케일 조정\n",
    "train_data = train_datagen.flow_from_directory(\n",
    "    'data/handwriting/handwriting_shape/train',  # train 아래 폴더명이 라벨이 됨\n",
    "    target_size=(24, 24),      # 넘파이 배열의 이미지 크기 조정(형변환 시 자체 타켓사이즈 설정)\n",
    "    class_mode='categorical',  # 원핫인코딩 형식으로 종속변수 반환\n",
    "    batch_size=3               # 한 번에 반환할 이미지와 라벨 수\n",
    ")\n",
    "test_datagen = ImageDataGenerator(rescale=1./255)\n",
    "test_data = test_datagen.flow_from_directory(\n",
    "    'data/handwriting/handwriting_shape/test',\n",
    "    target_size=(24,24),\n",
    "    class_mode='categorical',\n",
    "    batch_size=3,\n",
    "    shuffle=False # 이미지와 라벨 순서가 고정\n",
    ")"
   ]
  },
  {
   "cell_type": "code",
   "execution_count": 8,
   "id": "d00238c0",
   "metadata": {},
   "outputs": [
    {
     "data": {
      "text/plain": [
       "<keras.preprocessing.image.DirectoryIterator at 0x1a49a29b3a0>"
      ]
     },
     "execution_count": 8,
     "metadata": {},
     "output_type": "execute_result"
    }
   ],
   "source": [
    "test_data"
   ]
  },
  {
   "cell_type": "code",
   "execution_count": 12,
   "id": "d355574e",
   "metadata": {},
   "outputs": [
    {
     "data": {
      "text/plain": [
       "array([[0., 1., 0.],\n",
       "       [0., 1., 0.],\n",
       "       [0., 1., 0.]], dtype=float32)"
      ]
     },
     "execution_count": 12,
     "metadata": {},
     "output_type": "execute_result"
    }
   ],
   "source": [
    "X_images, Y_labels = next(test_data) # 한 배치사이즈만큼만 데이터 가져오기\n",
    "Y_labels"
   ]
  },
  {
   "cell_type": "code",
   "execution_count": 13,
   "id": "3db574b2",
   "metadata": {},
   "outputs": [
    {
     "name": "stdout",
     "output_type": "stream",
     "text": [
      "데이터 전체 갯수 : 15\n",
      "배치 사이즈 : 3\n"
     ]
    }
   ],
   "source": [
    "print('데이터 전체 갯수 :', test_data.n)\n",
    "print('배치 사이즈 :', test_data.batch_size)"
   ]
  },
  {
   "cell_type": "code",
   "execution_count": 17,
   "id": "50d3e0c2",
   "metadata": {},
   "outputs": [
    {
     "data": {
      "text/plain": [
       "((15, 24, 24, 3), (15, 3))"
      ]
     },
     "execution_count": 17,
     "metadata": {},
     "output_type": "execute_result"
    }
   ],
   "source": [
    "# 전체 가져오기\n",
    "all_images = [] # 독립변수\n",
    "all_lables = [] # 종속변수\n",
    "\n",
    "for images, lables in test_data :\n",
    "    all_images.append(images)\n",
    "    all_lables.append(lables)\n",
    "    \n",
    "    if len(all_images) * test_data.batch_size >= test_data.n:\n",
    "        break\n",
    "X_test_images = np.concatenate(all_images)\n",
    "Y_test_labels = np.concatenate(all_lables)\n",
    "\n",
    "X_test_images.shape, Y_test_labels.shape"
   ]
  },
  {
   "cell_type": "code",
   "execution_count": 22,
   "id": "c881ccda",
   "metadata": {},
   "outputs": [
    {
     "name": "stdout",
     "output_type": "stream",
     "text": [
      "Model: \"sequential_2\"\n",
      "_________________________________________________________________\n",
      " Layer (type)                Output Shape              Param #   \n",
      "=================================================================\n",
      " conv2d_4 (Conv2D)           (None, 22, 22, 32)        896       \n",
      "                                                                 \n",
      " conv2d_5 (Conv2D)           (None, 20, 20, 64)        18496     \n",
      "                                                                 \n",
      " max_pooling2d_2 (MaxPooling  (None, 10, 10, 64)       0         \n",
      " 2D)                                                             \n",
      "                                                                 \n",
      " flatten_2 (Flatten)         (None, 6400)              0         \n",
      "                                                                 \n",
      " dense_4 (Dense)             (None, 128)               819328    \n",
      "                                                                 \n",
      " dense_5 (Dense)             (None, 3)                 387       \n",
      "                                                                 \n",
      "=================================================================\n",
      "Total params: 839,107\n",
      "Trainable params: 839,107\n",
      "Non-trainable params: 0\n",
      "_________________________________________________________________\n"
     ]
    }
   ],
   "source": [
    "# 2. 모델 구성\n",
    "model = Sequential()\n",
    "model.add(Conv2D(32, kernel_size=(3,3), activation='relu', input_shape=(24,24,3)))\n",
    "model.add(Conv2D(64, kernel_size=(3,3), activation='relu'))\n",
    "model.add(MaxPooling2D(pool_size=(2,2)))\n",
    "model.add(Flatten()) # 3차원 데이터를 1차원으로\n",
    "model.add(Dense(units=128, activation='relu'))\n",
    "model.add(Dense(units=3, activation='softmax'))\n",
    "model.summary()"
   ]
  },
  {
   "cell_type": "code",
   "execution_count": 23,
   "id": "6a2fa079",
   "metadata": {},
   "outputs": [
    {
     "name": "stdout",
     "output_type": "stream",
     "text": [
      "Epoch 1/50\n",
      "15/15 [==============================] - 1s 27ms/step - loss: 1.5070 - accuracy: 0.4889 - val_loss: 0.8630 - val_accuracy: 0.6667\n",
      "Epoch 2/50\n",
      "15/15 [==============================] - 0s 15ms/step - loss: 0.5069 - accuracy: 0.8889 - val_loss: 0.2851 - val_accuracy: 1.0000\n",
      "Epoch 3/50\n",
      "15/15 [==============================] - 0s 10ms/step - loss: 0.1286 - accuracy: 1.0000 - val_loss: 0.0935 - val_accuracy: 1.0000\n",
      "Epoch 4/50\n",
      "15/15 [==============================] - 0s 10ms/step - loss: 0.0190 - accuracy: 1.0000 - val_loss: 0.1302 - val_accuracy: 0.9333\n",
      "Epoch 5/50\n",
      "15/15 [==============================] - 0s 10ms/step - loss: 0.0017 - accuracy: 1.0000 - val_loss: 0.1103 - val_accuracy: 0.9333\n",
      "Epoch 6/50\n",
      "15/15 [==============================] - 0s 10ms/step - loss: 6.5481e-04 - accuracy: 1.0000 - val_loss: 0.0646 - val_accuracy: 0.9333\n",
      "Epoch 7/50\n",
      "15/15 [==============================] - 0s 9ms/step - loss: 4.3482e-04 - accuracy: 1.0000 - val_loss: 0.0715 - val_accuracy: 0.9333\n",
      "Epoch 8/50\n",
      "15/15 [==============================] - 0s 11ms/step - loss: 3.3760e-04 - accuracy: 1.0000 - val_loss: 0.0797 - val_accuracy: 0.9333\n",
      "Epoch 9/50\n",
      "15/15 [==============================] - 0s 10ms/step - loss: 2.8727e-04 - accuracy: 1.0000 - val_loss: 0.0853 - val_accuracy: 0.9333\n",
      "Epoch 10/50\n",
      "15/15 [==============================] - 0s 10ms/step - loss: 2.5188e-04 - accuracy: 1.0000 - val_loss: 0.0888 - val_accuracy: 0.9333\n",
      "Epoch 11/50\n",
      "15/15 [==============================] - 0s 10ms/step - loss: 2.1911e-04 - accuracy: 1.0000 - val_loss: 0.0857 - val_accuracy: 0.9333\n",
      "Epoch 12/50\n",
      "15/15 [==============================] - 0s 11ms/step - loss: 1.9749e-04 - accuracy: 1.0000 - val_loss: 0.0773 - val_accuracy: 0.9333\n",
      "Epoch 13/50\n",
      "15/15 [==============================] - 0s 10ms/step - loss: 1.7105e-04 - accuracy: 1.0000 - val_loss: 0.0803 - val_accuracy: 0.9333\n",
      "Epoch 14/50\n",
      "15/15 [==============================] - 0s 9ms/step - loss: 1.5284e-04 - accuracy: 1.0000 - val_loss: 0.0822 - val_accuracy: 0.9333\n",
      "Epoch 15/50\n",
      "15/15 [==============================] - 0s 9ms/step - loss: 1.3631e-04 - accuracy: 1.0000 - val_loss: 0.0766 - val_accuracy: 0.9333\n",
      "Epoch 16/50\n",
      "15/15 [==============================] - 0s 9ms/step - loss: 1.2037e-04 - accuracy: 1.0000 - val_loss: 0.0820 - val_accuracy: 0.9333\n",
      "Epoch 17/50\n",
      "15/15 [==============================] - 0s 10ms/step - loss: 1.0927e-04 - accuracy: 1.0000 - val_loss: 0.0765 - val_accuracy: 0.9333\n",
      "Epoch 18/50\n",
      "15/15 [==============================] - 0s 10ms/step - loss: 9.0798e-05 - accuracy: 1.0000 - val_loss: 0.0811 - val_accuracy: 0.9333\n",
      "Epoch 19/50\n",
      "15/15 [==============================] - 0s 10ms/step - loss: 7.7223e-05 - accuracy: 1.0000 - val_loss: 0.0764 - val_accuracy: 0.9333\n",
      "Epoch 20/50\n",
      "15/15 [==============================] - 0s 9ms/step - loss: 6.6470e-05 - accuracy: 1.0000 - val_loss: 0.0741 - val_accuracy: 0.9333\n",
      "Epoch 21/50\n",
      "15/15 [==============================] - 0s 10ms/step - loss: 5.4994e-05 - accuracy: 1.0000 - val_loss: 0.0725 - val_accuracy: 0.9333\n",
      "Epoch 22/50\n",
      "15/15 [==============================] - 0s 10ms/step - loss: 4.6903e-05 - accuracy: 1.0000 - val_loss: 0.0738 - val_accuracy: 0.9333\n",
      "Epoch 23/50\n",
      "15/15 [==============================] - 0s 9ms/step - loss: 3.8880e-05 - accuracy: 1.0000 - val_loss: 0.0697 - val_accuracy: 0.9333\n",
      "Epoch 24/50\n",
      "15/15 [==============================] - 0s 9ms/step - loss: 3.3159e-05 - accuracy: 1.0000 - val_loss: 0.0646 - val_accuracy: 0.9333\n",
      "Epoch 25/50\n",
      "15/15 [==============================] - 0s 9ms/step - loss: 2.8004e-05 - accuracy: 1.0000 - val_loss: 0.0693 - val_accuracy: 0.9333\n",
      "Epoch 26/50\n",
      "15/15 [==============================] - 0s 10ms/step - loss: 2.4013e-05 - accuracy: 1.0000 - val_loss: 0.0657 - val_accuracy: 0.9333\n",
      "Epoch 27/50\n",
      "15/15 [==============================] - 0s 9ms/step - loss: 2.0739e-05 - accuracy: 1.0000 - val_loss: 0.0666 - val_accuracy: 0.9333\n",
      "Epoch 28/50\n",
      "15/15 [==============================] - 0s 10ms/step - loss: 1.8130e-05 - accuracy: 1.0000 - val_loss: 0.0672 - val_accuracy: 0.9333\n",
      "Epoch 29/50\n",
      "15/15 [==============================] - 0s 10ms/step - loss: 1.6169e-05 - accuracy: 1.0000 - val_loss: 0.0629 - val_accuracy: 0.9333\n",
      "Epoch 30/50\n",
      "15/15 [==============================] - 0s 10ms/step - loss: 1.4411e-05 - accuracy: 1.0000 - val_loss: 0.0598 - val_accuracy: 0.9333\n",
      "Epoch 31/50\n",
      "15/15 [==============================] - 0s 10ms/step - loss: 1.2686e-05 - accuracy: 1.0000 - val_loss: 0.0608 - val_accuracy: 0.9333\n",
      "Epoch 32/50\n",
      "15/15 [==============================] - 0s 9ms/step - loss: 1.1579e-05 - accuracy: 1.0000 - val_loss: 0.0673 - val_accuracy: 0.9333\n",
      "Epoch 33/50\n",
      "15/15 [==============================] - 0s 10ms/step - loss: 1.0363e-05 - accuracy: 1.0000 - val_loss: 0.0627 - val_accuracy: 0.9333\n",
      "Epoch 34/50\n",
      "15/15 [==============================] - 0s 10ms/step - loss: 9.3723e-06 - accuracy: 1.0000 - val_loss: 0.0637 - val_accuracy: 0.9333\n",
      "Epoch 35/50\n",
      "15/15 [==============================] - 0s 9ms/step - loss: 8.3975e-06 - accuracy: 1.0000 - val_loss: 0.0600 - val_accuracy: 0.9333\n",
      "Epoch 36/50\n",
      "15/15 [==============================] - 0s 10ms/step - loss: 7.6452e-06 - accuracy: 1.0000 - val_loss: 0.0595 - val_accuracy: 0.9333\n",
      "Epoch 37/50\n",
      "15/15 [==============================] - 0s 9ms/step - loss: 6.9591e-06 - accuracy: 1.0000 - val_loss: 0.0593 - val_accuracy: 0.9333\n",
      "Epoch 38/50\n",
      "15/15 [==============================] - 0s 9ms/step - loss: 6.3604e-06 - accuracy: 1.0000 - val_loss: 0.0604 - val_accuracy: 0.9333\n",
      "Epoch 39/50\n",
      "15/15 [==============================] - 0s 10ms/step - loss: 5.9498e-06 - accuracy: 1.0000 - val_loss: 0.0671 - val_accuracy: 0.9333\n",
      "Epoch 40/50\n",
      "15/15 [==============================] - 0s 10ms/step - loss: 5.4438e-06 - accuracy: 1.0000 - val_loss: 0.0623 - val_accuracy: 0.9333\n",
      "Epoch 41/50\n",
      "15/15 [==============================] - 0s 9ms/step - loss: 4.8849e-06 - accuracy: 1.0000 - val_loss: 0.0622 - val_accuracy: 0.9333\n",
      "Epoch 42/50\n",
      "15/15 [==============================] - 0s 10ms/step - loss: 4.6014e-06 - accuracy: 1.0000 - val_loss: 0.0651 - val_accuracy: 0.9333\n",
      "Epoch 43/50\n",
      "15/15 [==============================] - 0s 10ms/step - loss: 4.1988e-06 - accuracy: 1.0000 - val_loss: 0.0605 - val_accuracy: 0.9333\n",
      "Epoch 44/50\n",
      "15/15 [==============================] - 0s 9ms/step - loss: 3.9418e-06 - accuracy: 1.0000 - val_loss: 0.0604 - val_accuracy: 0.9333\n",
      "Epoch 45/50\n",
      "15/15 [==============================] - 0s 9ms/step - loss: 3.6372e-06 - accuracy: 1.0000 - val_loss: 0.0624 - val_accuracy: 0.9333\n",
      "Epoch 46/50\n",
      "15/15 [==============================] - 0s 9ms/step - loss: 3.3696e-06 - accuracy: 1.0000 - val_loss: 0.0639 - val_accuracy: 0.9333\n",
      "Epoch 47/50\n",
      "15/15 [==============================] - 0s 10ms/step - loss: 3.1921e-06 - accuracy: 1.0000 - val_loss: 0.0614 - val_accuracy: 0.9333\n",
      "Epoch 48/50\n",
      "15/15 [==============================] - 0s 10ms/step - loss: 2.9855e-06 - accuracy: 1.0000 - val_loss: 0.0624 - val_accuracy: 0.9333\n",
      "Epoch 49/50\n",
      "15/15 [==============================] - 0s 9ms/step - loss: 2.7630e-06 - accuracy: 1.0000 - val_loss: 0.0619 - val_accuracy: 0.9333\n",
      "Epoch 50/50\n",
      "15/15 [==============================] - 0s 10ms/step - loss: 2.6146e-06 - accuracy: 1.0000 - val_loss: 0.0624 - val_accuracy: 0.9333\n"
     ]
    },
    {
     "data": {
      "text/plain": [
       "<keras.callbacks.History at 0x1a55a278d90>"
      ]
     },
     "execution_count": 23,
     "metadata": {},
     "output_type": "execute_result"
    }
   ],
   "source": [
    "# 3. 학습설정\n",
    "model.compile(loss='categorical_crossentropy', optimizer='adam', metrics=['accuracy'])\n",
    "# 4. 학습시키기\n",
    "model.fit(train_data, epochs=50, validation_data=test_data)"
   ]
  },
  {
   "cell_type": "code",
   "execution_count": 24,
   "id": "69833ce5",
   "metadata": {},
   "outputs": [
    {
     "name": "stdout",
     "output_type": "stream",
     "text": [
      "5/5 [==============================] - 0s 6ms/step - loss: 0.0624 - accuracy: 0.9333\n",
      "0.06236761063337326\n",
      "0.9333333373069763\n"
     ]
    }
   ],
   "source": [
    "# 모델평가\n",
    "loss, accuracy = model.evaluate(test_data)\n",
    "print(loss)\n",
    "print(accuracy)"
   ]
  },
  {
   "cell_type": "code",
   "execution_count": 32,
   "id": "d3742f15",
   "metadata": {},
   "outputs": [
    {
     "name": "stdout",
     "output_type": "stream",
     "text": [
      "5/5 [==============================] - 0s 4ms/step\n"
     ]
    },
    {
     "data": {
      "text/plain": [
       "array([0, 0, 0, 0, 0, 1, 1, 1, 1, 0, 2, 2, 2, 2, 2], dtype=int64)"
      ]
     },
     "execution_count": 32,
     "metadata": {},
     "output_type": "execute_result"
    }
   ],
   "source": [
    "# 예측하기\n",
    "yhat = model.predict(test_data)\n",
    "yhat.argmax(axis=1)"
   ]
  },
  {
   "cell_type": "code",
   "execution_count": 33,
   "id": "53fd6b70",
   "metadata": {},
   "outputs": [
    {
     "data": {
      "text/plain": [
       "array([[1.00, 0.00, 0.00],\n",
       "       [1.00, 0.00, 0.00],\n",
       "       [1.00, 0.00, 0.00],\n",
       "       [1.00, 0.00, 0.00],\n",
       "       [1.00, 0.00, 0.00],\n",
       "       [0.00, 1.00, 0.00],\n",
       "       [0.00, 1.00, 0.00],\n",
       "       [0.00, 1.00, 0.00],\n",
       "       [0.00, 1.00, 0.00],\n",
       "       [0.55, 0.41, 0.04],\n",
       "       [0.00, 0.00, 1.00],\n",
       "       [0.00, 0.00, 1.00],\n",
       "       [0.00, 0.04, 0.96],\n",
       "       [0.00, 0.00, 1.00],\n",
       "       [0.00, 0.01, 0.99]], dtype=float32)"
      ]
     },
     "execution_count": 33,
     "metadata": {},
     "output_type": "execute_result"
    }
   ],
   "source": [
    "np.set_printoptions(formatter={'float':lambda x: '{:0.2f}'.format(x)})\n",
    "yhat"
   ]
  },
  {
   "cell_type": "code",
   "execution_count": 34,
   "id": "fdee80f7",
   "metadata": {},
   "outputs": [
    {
     "data": {
      "text/plain": [
       "array([0, 0, 0, 0, 0, 1, 1, 1, 1, 1, 2, 2, 2, 2, 2])"
      ]
     },
     "execution_count": 34,
     "metadata": {},
     "output_type": "execute_result"
    }
   ],
   "source": [
    "# 실제 데이터\n",
    "test_data.labels"
   ]
  },
  {
   "cell_type": "markdown",
   "id": "9eb12e34",
   "metadata": {},
   "source": [
    "# 2. 데이터 증강을 통한 CNN accuracy 올리기\n",
    "- 데이터 추가 확보\n",
    "- 이미지 데이터를 증강(데이터 부풀리기) : train set에서만\n",
    "- 레이어층 (Conv2D, Maxpooling, 배치정규화, Dense)\n",
    "- 활성화함수, 옵티마이저, Dropdout(과적합 다소 해결)"
   ]
  },
  {
   "cell_type": "code",
   "execution_count": 45,
   "id": "76d3e22c",
   "metadata": {},
   "outputs": [
    {
     "name": "stdout",
     "output_type": "stream",
     "text": [
      "Found 45 images belonging to 3 classes.\n",
      "Found 15 images belonging to 3 classes.\n"
     ]
    }
   ],
   "source": [
    "# 1. 데이터 생성\n",
    "train_datagen = ImageDataGenerator(rescale=1.0/255,         # 스케일조정\n",
    "                                   rotation_range=10,       # 이미지를 최대 ±10도 회전\n",
    "                                   width_shift_range=0.2,   # 가로방향으로 최대 20% 이동\n",
    "                                   height_shift_range=0.2,  # 세로방향으로 최대 20% 이동\n",
    "                                   shear_range=0.7,         # 최대 0.7라디안(40도)으로 이미지 밀림(교얀 p.73)\n",
    "                                   zoom_range=[0.9, 1.5],   # 90% ~ 150% 크기로 확대/축소\n",
    "                                   fill_mode='nearest',     # 이미지 확대 시 채우는 방식\n",
    "                                   horizontal_flip=True,    # 좌우반전(수평방향 뒤집기)\n",
    "                                   vertical_flip=True       # 상하반전(수직방향 뒤집기)\n",
    "                                  )\n",
    "train_data = train_datagen.flow_from_directory(\n",
    "    'data/handwriting/handwriting_shape/train',\n",
    "    target_size=(24, 24),\n",
    "    class_mode='categorical',\n",
    "    batch_size=3\n",
    ")\n",
    "test_datagen = ImageDataGenerator(rescale=1./255)\n",
    "test_data = test_datagen.flow_from_directory(\n",
    "    'data/handwriting/handwriting_shape/test',\n",
    "    target_size=(24, 24),\n",
    "    class_mode='categorical',\n",
    "    batch_size=3,\n",
    "    # shuffle=True 기본값\n",
    ")"
   ]
  },
  {
   "cell_type": "code",
   "execution_count": 46,
   "id": "e0ab5e54",
   "metadata": {},
   "outputs": [
    {
     "name": "stdout",
     "output_type": "stream",
     "text": [
      "Model: \"sequential_6\"\n",
      "_________________________________________________________________\n",
      " Layer (type)                Output Shape              Param #   \n",
      "=================================================================\n",
      " conv2d_16 (Conv2D)          (None, 22, 22, 64)        1792      \n",
      "                                                                 \n",
      " conv2d_17 (Conv2D)          (None, 20, 20, 64)        36928     \n",
      "                                                                 \n",
      " max_pooling2d_8 (MaxPooling  (None, 10, 10, 64)       0         \n",
      " 2D)                                                             \n",
      "                                                                 \n",
      " dropout_2 (Dropout)         (None, 10, 10, 64)        0         \n",
      "                                                                 \n",
      " conv2d_18 (Conv2D)          (None, 8, 8, 64)          36928     \n",
      "                                                                 \n",
      " conv2d_19 (Conv2D)          (None, 6, 6, 64)          36928     \n",
      "                                                                 \n",
      " max_pooling2d_9 (MaxPooling  (None, 3, 3, 64)         0         \n",
      " 2D)                                                             \n",
      "                                                                 \n",
      " flatten_5 (Flatten)         (None, 576)               0         \n",
      "                                                                 \n",
      " dense_10 (Dense)            (None, 128)               73856     \n",
      "                                                                 \n",
      " dense_11 (Dense)            (None, 3)                 387       \n",
      "                                                                 \n",
      "=================================================================\n",
      "Total params: 186,819\n",
      "Trainable params: 186,819\n",
      "Non-trainable params: 0\n",
      "_________________________________________________________________\n",
      "Epoch 1/50\n",
      "15/15 [==============================] - 1s 26ms/step - loss: 1.1746 - accuracy: 0.2667 - val_loss: 1.0967 - val_accuracy: 0.3333\n",
      "Epoch 2/50\n",
      "15/15 [==============================] - 0s 14ms/step - loss: 1.1188 - accuracy: 0.2889 - val_loss: 1.0962 - val_accuracy: 0.3333\n",
      "Epoch 3/50\n",
      "15/15 [==============================] - 0s 11ms/step - loss: 1.0985 - accuracy: 0.3556 - val_loss: 1.0942 - val_accuracy: 0.3333\n",
      "Epoch 4/50\n",
      "15/15 [==============================] - 0s 11ms/step - loss: 1.0941 - accuracy: 0.5111 - val_loss: 1.0769 - val_accuracy: 0.3333\n",
      "Epoch 5/50\n",
      "15/15 [==============================] - 0s 11ms/step - loss: 1.0947 - accuracy: 0.4000 - val_loss: 1.0492 - val_accuracy: 0.6000\n",
      "Epoch 6/50\n",
      "15/15 [==============================] - 0s 12ms/step - loss: 1.0319 - accuracy: 0.4444 - val_loss: 1.0255 - val_accuracy: 0.6000\n",
      "Epoch 7/50\n",
      "15/15 [==============================] - 0s 12ms/step - loss: 1.0032 - accuracy: 0.4222 - val_loss: 1.0257 - val_accuracy: 0.5333\n",
      "Epoch 8/50\n",
      "15/15 [==============================] - 0s 12ms/step - loss: 0.8346 - accuracy: 0.5778 - val_loss: 0.5387 - val_accuracy: 0.8667\n",
      "Epoch 9/50\n",
      "15/15 [==============================] - 0s 12ms/step - loss: 0.7192 - accuracy: 0.6000 - val_loss: 0.4260 - val_accuracy: 0.8667\n",
      "Epoch 10/50\n",
      "15/15 [==============================] - 0s 12ms/step - loss: 0.9472 - accuracy: 0.6000 - val_loss: 0.6198 - val_accuracy: 0.6667\n",
      "Epoch 11/50\n",
      "15/15 [==============================] - 0s 11ms/step - loss: 0.6625 - accuracy: 0.7556 - val_loss: 0.9101 - val_accuracy: 0.6667\n",
      "Epoch 12/50\n",
      "15/15 [==============================] - 0s 12ms/step - loss: 0.8980 - accuracy: 0.6222 - val_loss: 0.8537 - val_accuracy: 0.7333\n",
      "Epoch 13/50\n",
      "15/15 [==============================] - 0s 11ms/step - loss: 0.7352 - accuracy: 0.6889 - val_loss: 0.6046 - val_accuracy: 0.8000\n",
      "Epoch 14/50\n",
      "15/15 [==============================] - 0s 12ms/step - loss: 0.4903 - accuracy: 0.8000 - val_loss: 0.5054 - val_accuracy: 0.8000\n",
      "Epoch 15/50\n",
      "15/15 [==============================] - 0s 12ms/step - loss: 0.8206 - accuracy: 0.6667 - val_loss: 0.7916 - val_accuracy: 0.7333\n",
      "Epoch 16/50\n",
      "15/15 [==============================] - 0s 12ms/step - loss: 0.5095 - accuracy: 0.8444 - val_loss: 0.8482 - val_accuracy: 0.7333\n",
      "Epoch 17/50\n",
      "15/15 [==============================] - 0s 11ms/step - loss: 0.5243 - accuracy: 0.8444 - val_loss: 1.0489 - val_accuracy: 0.6000\n",
      "Epoch 18/50\n",
      "15/15 [==============================] - 0s 11ms/step - loss: 0.5410 - accuracy: 0.7778 - val_loss: 0.2442 - val_accuracy: 0.9333\n",
      "Epoch 19/50\n",
      "15/15 [==============================] - 0s 12ms/step - loss: 0.2971 - accuracy: 0.9111 - val_loss: 0.1048 - val_accuracy: 1.0000\n",
      "Epoch 20/50\n",
      "15/15 [==============================] - 0s 12ms/step - loss: 0.5998 - accuracy: 0.8000 - val_loss: 0.0428 - val_accuracy: 1.0000\n",
      "Epoch 21/50\n",
      "15/15 [==============================] - 0s 13ms/step - loss: 0.4718 - accuracy: 0.7778 - val_loss: 0.0991 - val_accuracy: 0.9333\n",
      "Epoch 22/50\n",
      "15/15 [==============================] - 0s 12ms/step - loss: 0.4551 - accuracy: 0.8444 - val_loss: 0.0433 - val_accuracy: 1.0000\n",
      "Epoch 23/50\n",
      "15/15 [==============================] - 0s 11ms/step - loss: 0.3035 - accuracy: 0.9111 - val_loss: 0.1042 - val_accuracy: 1.0000\n",
      "Epoch 24/50\n",
      "15/15 [==============================] - 0s 11ms/step - loss: 0.2562 - accuracy: 0.9111 - val_loss: 0.0042 - val_accuracy: 1.0000\n",
      "Epoch 25/50\n",
      "15/15 [==============================] - 0s 11ms/step - loss: 0.1755 - accuracy: 0.9556 - val_loss: 8.9733e-04 - val_accuracy: 1.0000\n",
      "Epoch 26/50\n",
      "15/15 [==============================] - 0s 10ms/step - loss: 0.2774 - accuracy: 0.8667 - val_loss: 0.0081 - val_accuracy: 1.0000\n",
      "Epoch 27/50\n",
      "15/15 [==============================] - 0s 10ms/step - loss: 0.2940 - accuracy: 0.9333 - val_loss: 0.0138 - val_accuracy: 1.0000\n",
      "Epoch 28/50\n",
      "15/15 [==============================] - 0s 10ms/step - loss: 0.2529 - accuracy: 0.8889 - val_loss: 0.0025 - val_accuracy: 1.0000\n",
      "Epoch 29/50\n",
      "15/15 [==============================] - 0s 12ms/step - loss: 0.2470 - accuracy: 0.9111 - val_loss: 0.0761 - val_accuracy: 1.0000\n",
      "Epoch 30/50\n",
      "15/15 [==============================] - 0s 10ms/step - loss: 0.3691 - accuracy: 0.8667 - val_loss: 0.0773 - val_accuracy: 1.0000\n",
      "Epoch 31/50\n",
      "15/15 [==============================] - 0s 11ms/step - loss: 0.1758 - accuracy: 0.9333 - val_loss: 0.0133 - val_accuracy: 1.0000\n",
      "Epoch 32/50\n",
      "15/15 [==============================] - 0s 11ms/step - loss: 0.1293 - accuracy: 0.9556 - val_loss: 0.0018 - val_accuracy: 1.0000\n",
      "Epoch 33/50\n",
      "15/15 [==============================] - 0s 13ms/step - loss: 0.1316 - accuracy: 0.9333 - val_loss: 6.8050e-04 - val_accuracy: 1.0000\n",
      "Epoch 34/50\n",
      "15/15 [==============================] - 0s 10ms/step - loss: 0.1453 - accuracy: 0.9556 - val_loss: 0.0089 - val_accuracy: 1.0000\n",
      "Epoch 35/50\n",
      "15/15 [==============================] - 0s 10ms/step - loss: 0.1183 - accuracy: 0.9333 - val_loss: 0.0126 - val_accuracy: 1.0000\n",
      "Epoch 36/50\n",
      "15/15 [==============================] - 0s 11ms/step - loss: 0.1307 - accuracy: 0.9111 - val_loss: 0.0023 - val_accuracy: 1.0000\n",
      "Epoch 37/50\n",
      "15/15 [==============================] - 0s 11ms/step - loss: 0.1690 - accuracy: 0.9111 - val_loss: 0.0094 - val_accuracy: 1.0000\n",
      "Epoch 38/50\n",
      "15/15 [==============================] - 0s 10ms/step - loss: 0.1141 - accuracy: 0.9556 - val_loss: 0.0023 - val_accuracy: 1.0000\n",
      "Epoch 39/50\n",
      "15/15 [==============================] - 0s 10ms/step - loss: 0.2209 - accuracy: 0.9111 - val_loss: 0.0045 - val_accuracy: 1.0000\n",
      "Epoch 40/50\n",
      "15/15 [==============================] - 0s 10ms/step - loss: 0.0226 - accuracy: 1.0000 - val_loss: 0.0044 - val_accuracy: 1.0000\n",
      "Epoch 41/50\n",
      "15/15 [==============================] - 0s 10ms/step - loss: 0.1453 - accuracy: 0.9333 - val_loss: 0.0021 - val_accuracy: 1.0000\n",
      "Epoch 42/50\n",
      "15/15 [==============================] - 0s 10ms/step - loss: 0.0913 - accuracy: 0.9556 - val_loss: 0.0018 - val_accuracy: 1.0000\n",
      "Epoch 43/50\n",
      "15/15 [==============================] - 0s 10ms/step - loss: 0.0956 - accuracy: 0.9556 - val_loss: 4.5523e-05 - val_accuracy: 1.0000\n",
      "Epoch 44/50\n",
      "15/15 [==============================] - 0s 12ms/step - loss: 0.1401 - accuracy: 0.9556 - val_loss: 0.0012 - val_accuracy: 1.0000\n",
<<<<<<< HEAD
      "Epoch 45/50\n"
     ]
    },
    {
     "name": "stdout",
     "output_type": "stream",
     "text": [
=======
      "Epoch 45/50\n",
>>>>>>> 8c7dc6e8c86d15f6b960bf88772f6ab5a71bbbaa
      "15/15 [==============================] - 0s 10ms/step - loss: 0.1431 - accuracy: 0.9556 - val_loss: 0.0030 - val_accuracy: 1.0000\n",
      "Epoch 46/50\n",
      "15/15 [==============================] - 0s 10ms/step - loss: 0.0666 - accuracy: 0.9778 - val_loss: 0.0012 - val_accuracy: 1.0000\n",
      "Epoch 47/50\n",
      "15/15 [==============================] - 0s 10ms/step - loss: 0.1149 - accuracy: 0.9556 - val_loss: 0.0119 - val_accuracy: 1.0000\n",
      "Epoch 48/50\n",
      "15/15 [==============================] - 0s 10ms/step - loss: 0.3359 - accuracy: 0.8667 - val_loss: 0.0435 - val_accuracy: 1.0000\n",
      "Epoch 49/50\n",
      "15/15 [==============================] - 0s 10ms/step - loss: 0.2767 - accuracy: 0.8444 - val_loss: 0.0057 - val_accuracy: 1.0000\n",
      "Epoch 50/50\n",
      "15/15 [==============================] - 0s 10ms/step - loss: 0.1132 - accuracy: 0.9556 - val_loss: 0.0016 - val_accuracy: 1.0000\n"
     ]
    },
    {
     "data": {
      "text/plain": [
       "<keras.callbacks.History at 0x1a55edd9150>"
      ]
     },
     "execution_count": 46,
     "metadata": {},
     "output_type": "execute_result"
    }
   ],
   "source": [
    "# 2. 모델 구성\n",
    "model = Sequential()\n",
    "model.add(Conv2D(64, kernel_size=(3,3), activation='relu', input_shape=(24,24,3)))\n",
    "model.add(Conv2D(64, kernel_size=(3,3), activation='relu'))\n",
    "model.add(MaxPooling2D(pool_size=(2,2)))\n",
    "model.add(Dropout(0.2))\n",
    "\n",
    "model.add(Conv2D(64, kernel_size=(3,3), activation='relu', input_shape=(24,24,3)))\n",
    "model.add(Conv2D(64, kernel_size=(3,3), activation='relu'))\n",
    "model.add(MaxPooling2D(pool_size=(2,2)))\n",
    "\n",
    "model.add(Flatten()) # 3차원 데이터를 1차원으로\n",
    "model.add(Dense(units=128, activation='relu'))\n",
    "model.add(Dense(units=3, activation='softmax'))\n",
    "model.summary()\n",
    "\n",
    "# 3. 학습설정\n",
    "model.compile(loss='categorical_crossentropy', optimizer='adam', metrics=['accuracy'])\n",
    "# 4. 학습시키기\n",
    "model.fit(train_data, epochs=50, validation_data=test_data)"
   ]
  },
  {
   "cell_type": "code",
   "execution_count": 47,
   "id": "2e5b5111",
   "metadata": {},
   "outputs": [
    {
     "name": "stdout",
     "output_type": "stream",
     "text": [
      "5/5 [==============================] - 0s 4ms/step - loss: 0.0016 - accuracy: 1.0000\n",
      "정확도(accuracy) : 1.0\n"
     ]
    }
   ],
   "source": [
    "# 평가하기\n",
    "score = model.evaluate(test_data)\n",
    "print('정확도(accuracy) :', score[1])"
   ]
  },
  {
   "cell_type": "code",
   "execution_count": 48,
   "id": "c0f2019f",
   "metadata": {},
   "outputs": [
    {
     "name": "stdout",
     "output_type": "stream",
     "text": [
      "5/5 [==============================] - 0s 4ms/step\n",
      "[[0.00 0.00 1.00]\n",
      " [0.00 1.00 0.00]\n",
      " [0.00 0.00 1.00]\n",
      " [1.00 0.00 0.00]\n",
      " [1.00 0.00 0.00]\n",
      " [1.00 0.00 0.00]\n",
      " [0.00 1.00 0.00]\n",
      " [0.01 0.01 0.98]\n",
      " [1.00 0.00 0.00]\n",
      " [0.00 0.00 1.00]\n",
      " [0.00 1.00 0.00]\n",
      " [0.00 1.00 0.00]\n",
      " [1.00 0.00 0.00]\n",
      " [0.00 1.00 0.00]\n",
      " [0.00 0.00 1.00]]\n"
     ]
    }
   ],
   "source": [
    "pred = model.predict(test_data)\n",
    "print(pred)"
   ]
  },
  {
   "cell_type": "code",
   "execution_count": 49,
   "id": "acfec750",
   "metadata": {},
   "outputs": [
    {
     "data": {
      "text/plain": [
       "array([2, 1, 2, 0, 0, 0, 1, 2, 0, 2, 1, 1, 0, 1, 2], dtype=int64)"
      ]
     },
     "execution_count": 49,
     "metadata": {},
     "output_type": "execute_result"
    }
   ],
   "source": [
    "pred.argmax(axis=1)"
   ]
  },
  {
   "cell_type": "code",
   "execution_count": null,
   "id": "b3b7a548",
   "metadata": {},
   "outputs": [],
   "source": []
  },
  {
   "cell_type": "code",
   "execution_count": null,
   "id": "b35ea7b9",
   "metadata": {},
   "outputs": [],
   "source": []
  },
  {
   "cell_type": "code",
   "execution_count": null,
   "id": "dd7f900b",
   "metadata": {},
   "outputs": [],
   "source": []
  },
  {
   "cell_type": "code",
   "execution_count": null,
   "id": "fe88f799",
   "metadata": {},
   "outputs": [],
   "source": []
  },
  {
   "cell_type": "code",
   "execution_count": null,
   "id": "c296d75b",
   "metadata": {},
   "outputs": [],
   "source": []
  },
  {
   "cell_type": "code",
   "execution_count": null,
   "id": "30d41a25",
   "metadata": {},
   "outputs": [],
   "source": []
  },
  {
   "cell_type": "code",
   "execution_count": null,
   "id": "793240ae",
   "metadata": {},
   "outputs": [],
   "source": []
  },
  {
   "cell_type": "code",
   "execution_count": null,
   "id": "9354f4aa",
   "metadata": {},
   "outputs": [],
   "source": []
  }
 ],
 "metadata": {
  "kernelspec": {
   "display_name": "Python 3 (ipykernel)",
   "language": "python",
   "name": "python3"
  },
  "language_info": {
   "codemirror_mode": {
    "name": "ipython",
    "version": 3
   },
   "file_extension": ".py",
   "mimetype": "text/x-python",
   "name": "python",
   "nbconvert_exporter": "python",
   "pygments_lexer": "ipython3",
   "version": "3.10.9"
  },
  "toc": {
   "base_numbering": 1,
   "nav_menu": {},
   "number_sections": true,
   "sideBar": true,
   "skip_h1_title": false,
   "title_cell": "Table of Contents",
   "title_sidebar": "Contents",
   "toc_cell": false,
   "toc_position": {},
   "toc_section_display": true,
   "toc_window_display": false
  }
 },
 "nbformat": 4,
 "nbformat_minor": 5
}
