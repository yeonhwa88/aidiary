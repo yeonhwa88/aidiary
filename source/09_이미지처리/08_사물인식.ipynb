{
 "cells": [
  {
   "cell_type": "markdown",
   "id": "c4692c5d",
   "metadata": {},
   "source": [
    "YoloV8\n",
    "- https://docs.ultralytics.com/ko"
   ]
  },
  {
   "cell_type": "markdown",
   "id": "7996aef6",
   "metadata": {},
   "source": [
    "# 1. Yolov8을 위한 패키지 설치 및 import"
   ]
  },
  {
   "cell_type": "code",
   "execution_count": null,
   "id": "cef63697",
   "metadata": {},
   "outputs": [],
   "source": [
    "# ! pip install ultralytics"
   ]
  },
  {
   "cell_type": "code",
   "execution_count": 5,
   "id": "7573215c",
   "metadata": {},
   "outputs": [],
   "source": [
    "from ultralytics import YOLO\n",
    "import cv2\n",
    "import matplotlib.pyplot as plt"
   ]
  },
  {
   "cell_type": "markdown",
   "id": "ce6ea070",
   "metadata": {},
   "source": [
    "# 2. YOLO인스턴스 생성하여 사물인식 처리"
   ]
  },
  {
   "cell_type": "code",
   "execution_count": 6,
   "id": "59090593",
   "metadata": {
    "scrolled": true
   },
   "outputs": [],
   "source": [
    "model = YOLO('yolov8n.pt')"
   ]
  },
  {
   "cell_type": "code",
   "execution_count": 7,
   "id": "e2d89ff7",
   "metadata": {},
   "outputs": [
    {
     "name": "stdout",
     "output_type": "stream",
     "text": [
      "\n",
      "image 1/1 D:\\ai\\source\\09_\\data\\mission_impossible_yolo.jpg: 352x640 1 person, 2 cars, 2 motorcycles, 1 bus, 1 truck, 66.4ms\n",
      "Speed: 0.0ms preprocess, 66.4ms inference, 0.0ms postprocess per image at shape (1, 3, 352, 640)\n"
     ]
    },
    {
     "data": {
      "text/plain": [
       "[ultralytics.engine.results.Results object with attributes:\n",
       " \n",
       " boxes: ultralytics.engine.results.Boxes object\n",
       " keypoints: None\n",
       " masks: None\n",
       " names: {0: 'person', 1: 'bicycle', 2: 'car', 3: 'motorcycle', 4: 'airplane', 5: 'bus', 6: 'train', 7: 'truck', 8: 'boat', 9: 'traffic light', 10: 'fire hydrant', 11: 'stop sign', 12: 'parking meter', 13: 'bench', 14: 'bird', 15: 'cat', 16: 'dog', 17: 'horse', 18: 'sheep', 19: 'cow', 20: 'elephant', 21: 'bear', 22: 'zebra', 23: 'giraffe', 24: 'backpack', 25: 'umbrella', 26: 'handbag', 27: 'tie', 28: 'suitcase', 29: 'frisbee', 30: 'skis', 31: 'snowboard', 32: 'sports ball', 33: 'kite', 34: 'baseball bat', 35: 'baseball glove', 36: 'skateboard', 37: 'surfboard', 38: 'tennis racket', 39: 'bottle', 40: 'wine glass', 41: 'cup', 42: 'fork', 43: 'knife', 44: 'spoon', 45: 'bowl', 46: 'banana', 47: 'apple', 48: 'sandwich', 49: 'orange', 50: 'broccoli', 51: 'carrot', 52: 'hot dog', 53: 'pizza', 54: 'donut', 55: 'cake', 56: 'chair', 57: 'couch', 58: 'potted plant', 59: 'bed', 60: 'dining table', 61: 'toilet', 62: 'tv', 63: 'laptop', 64: 'mouse', 65: 'remote', 66: 'keyboard', 67: 'cell phone', 68: 'microwave', 69: 'oven', 70: 'toaster', 71: 'sink', 72: 'refrigerator', 73: 'book', 74: 'clock', 75: 'vase', 76: 'scissors', 77: 'teddy bear', 78: 'hair drier', 79: 'toothbrush'}\n",
       " obb: None\n",
       " orig_img: array([[[107, 133, 147],\n",
       "         [107, 133, 147],\n",
       "         [107, 133, 147],\n",
       "         ...,\n",
       "         [ 65,  98,  77],\n",
       "         [ 67, 100,  79],\n",
       "         [ 64,  95,  74]],\n",
       " \n",
       "        [[113, 139, 153],\n",
       "         [113, 139, 153],\n",
       "         [113, 139, 153],\n",
       "         ...,\n",
       "         [ 64,  97,  76],\n",
       "         [ 66,  99,  78],\n",
       "         [ 64,  95,  74]],\n",
       " \n",
       "        [[124, 150, 164],\n",
       "         [125, 151, 165],\n",
       "         [125, 151, 165],\n",
       "         ...,\n",
       "         [ 66,  97,  76],\n",
       "         [ 67,  98,  77],\n",
       "         [ 69,  97,  77]],\n",
       " \n",
       "        ...,\n",
       " \n",
       "        [[180, 171, 161],\n",
       "         [180, 171, 161],\n",
       "         [180, 171, 161],\n",
       "         ...,\n",
       "         [162, 153, 143],\n",
       "         [163, 154, 144],\n",
       "         [161, 152, 142]],\n",
       " \n",
       "        [[180, 171, 161],\n",
       "         [180, 171, 161],\n",
       "         [180, 171, 161],\n",
       "         ...,\n",
       "         [164, 156, 143],\n",
       "         [165, 157, 144],\n",
       "         [165, 157, 144]],\n",
       " \n",
       "        [[180, 171, 161],\n",
       "         [180, 171, 161],\n",
       "         [180, 171, 161],\n",
       "         ...,\n",
       "         [167, 159, 146],\n",
       "         [169, 161, 148],\n",
       "         [169, 161, 148]]], dtype=uint8)\n",
       " orig_shape: (480, 873)\n",
       " path: 'D:\\\\ai\\\\source\\\\09_이미지처리\\\\data\\\\mission_impossible_yolo.jpg'\n",
       " probs: None\n",
       " save_dir: 'runs\\\\detect\\\\predict'\n",
       " speed: {'preprocess': 0.0, 'inference': 66.38479232788086, 'postprocess': 0.0}]"
      ]
     },
     "execution_count": 7,
     "metadata": {},
     "output_type": "execute_result"
    }
   ],
   "source": [
    "result = model.predict('data/mission_impossible_yolo.jpg')\n",
    "result"
   ]
  },
  {
   "cell_type": "markdown",
   "id": "95b63f74",
   "metadata": {},
   "source": [
    "# 3. 결과 시각화"
   ]
  },
  {
   "cell_type": "code",
   "execution_count": 8,
   "id": "2fe0766d",
   "metadata": {},
   "outputs": [],
   "source": [
    "result_image = result[0].plot() # BGR포멧"
   ]
  },
  {
   "cell_type": "code",
   "execution_count": 9,
   "id": "1a79077e",
   "metadata": {},
   "outputs": [
    {
     "data": {
      "text/plain": [
       "True"
      ]
     },
     "execution_count": 9,
     "metadata": {},
     "output_type": "execute_result"
    }
   ],
   "source": [
    "cv2.imwrite('data/mission_impossible_yolo.jpg', result_image)"
   ]
  },
  {
   "cell_type": "code",
   "execution_count": 2,
   "id": "fb6471e9",
   "metadata": {},
   "outputs": [
    {
     "ename": "NameError",
     "evalue": "name 'plt' is not defined",
     "output_type": "error",
     "traceback": [
      "\u001b[1;31m---------------------------------------------------------------------------\u001b[0m",
      "\u001b[1;31mNameError\u001b[0m                                 Traceback (most recent call last)",
      "Cell \u001b[1;32mIn[2], line 1\u001b[0m\n\u001b[1;32m----> 1\u001b[0m \u001b[43mplt\u001b[49m\u001b[38;5;241m.\u001b[39mimshow(cv2\u001b[38;5;241m.\u001b[39mcvtColor(result_image, cv2\u001b[38;5;241m.\u001b[39mCOLOR_BGR2RGB))\n\u001b[0;32m      2\u001b[0m plt\u001b[38;5;241m.\u001b[39mshow()\n",
      "\u001b[1;31mNameError\u001b[0m: name 'plt' is not defined"
     ]
    }
   ],
   "source": [
    "plt.imshow(cv2.cvtColor(result_image, cv2.COLOR_BGR2RGB))\n",
    "plt.show()"
   ]
  },
  {
   "cell_type": "code",
   "execution_count": null,
   "id": "f445228d",
   "metadata": {},
   "outputs": [],
   "source": []
  }
 ],
 "metadata": {
  "kernelspec": {
   "display_name": "Python 3 (ipykernel)",
   "language": "python",
   "name": "python3"
  },
  "language_info": {
   "codemirror_mode": {
    "name": "ipython",
    "version": 3
   },
   "file_extension": ".py",
   "mimetype": "text/x-python",
   "name": "python",
   "nbconvert_exporter": "python",
   "pygments_lexer": "ipython3",
   "version": "3.10.9"
  },
  "toc": {
   "base_numbering": 1,
   "nav_menu": {},
   "number_sections": true,
   "sideBar": true,
   "skip_h1_title": false,
   "title_cell": "Table of Contents",
   "title_sidebar": "Contents",
   "toc_cell": false,
   "toc_position": {},
   "toc_section_display": true,
   "toc_window_display": false
  }
 },
 "nbformat": 4,
 "nbformat_minor": 5
}
