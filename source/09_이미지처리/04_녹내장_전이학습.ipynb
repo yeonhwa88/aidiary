{
 "cells": [
  {
   "cell_type": "code",
   "execution_count": 1,
   "id": "047f3a82",
   "metadata": {},
   "outputs": [],
   "source": [
    "# 1. 데이터 확보\n",
    "import zipfile\n",
    "filepath = 'data/glaucoma.zip'\n",
    "with zipfile.ZipFile(filepath, 'r') as f:\n",
    "    f.extractall('data/') # data밑에 압축 파일 풀림"
   ]
  },
  {
   "cell_type": "code",
   "execution_count": 3,
   "id": "3b08b7e8",
   "metadata": {},
   "outputs": [
    {
     "name": "stdout",
     "output_type": "stream",
     "text": [
      "Found 828 images belonging to 3 classes.\n",
      "Found 320 images belonging to 3 classes.\n"
     ]
    }
   ],
   "source": [
    "from tensorflow.keras.preprocessing.image import ImageDataGenerator\n",
    "train_generator = ImageDataGenerator(\n",
    "    rotation_range=20,       # 최대 회전 각도\n",
    "    width_shift_range=0.2,   # 가로 방향 ±20% 이동 정도\n",
    "    height_shift_range=0.2,  # 상하 방향 ±20% 이동 정도\n",
    "    horizontal_flip=True,    # 수평 뒤집기\n",
    "    vertical_flip=True)      # 수직 뒤집기\n",
    "train_data = train_generator.flow_from_directory(\n",
    "    'data/glaucoma/train/',\n",
    "    target_size=(224, 224),\n",
    "    batch_size=4,\n",
    "    class_mode='sparse')  # 종속변수에 원핫인코딩 하지 않음\n",
    "test_generator = ImageDataGenerator()\n",
    "test_data = test_generator.flow_from_directory(\n",
    "    'data/glaucoma/test/',\n",
    "    target_size=(224, 224),\n",
    "    batch_size=4,\n",
    "    class_mode='sparse')"
   ]
  },
  {
   "cell_type": "code",
   "execution_count": null,
   "id": "fa2efd35",
   "metadata": {},
   "outputs": [],
   "source": [
    "# 2. 모델 구성\n",
    "from tensorflow.keras.applications import ResNet50\n",
    "from tensorflow.keras.applications.resnet50 import decode_predictions\n",
    "import numpy as np\n",
    "from tensorflow.keras.models import Sequential    # ResNet50의 Dense 층을 사용자 추가\n",
    "from tensorflow.keras.layers import Flatten, Dense\n",
    "from tensorflow.keras.preprocessing import image  # 이미지 읽어오기\n",
    "\n",
    "resnet_model = ResNet50(\n",
    "    # input_shape=(224, 224, 3),  # 생략 가능\n",
    "    include_top=False)  # 컨볼루션과 폴링 레이어만 받아옴(최상위 Dense층 제외)"
   ]
  },
  {
   "cell_type": "code",
   "execution_count": null,
   "id": "828d44ad",
   "metadata": {},
   "outputs": [],
   "source": []
  }
 ],
 "metadata": {
  "kernelspec": {
   "display_name": "Python 3 (ipykernel)",
   "language": "python",
   "name": "python3"
  },
  "language_info": {
   "codemirror_mode": {
    "name": "ipython",
    "version": 3
   },
   "file_extension": ".py",
   "mimetype": "text/x-python",
   "name": "python",
   "nbconvert_exporter": "python",
   "pygments_lexer": "ipython3",
   "version": "3.10.9"
  },
  "toc": {
   "base_numbering": 1,
   "nav_menu": {},
   "number_sections": true,
   "sideBar": true,
   "skip_h1_title": false,
   "title_cell": "Table of Contents",
   "title_sidebar": "Contents",
   "toc_cell": false,
   "toc_position": {},
   "toc_section_display": true,
   "toc_window_display": false
  }
 },
 "nbformat": 4,
 "nbformat_minor": 5
}
