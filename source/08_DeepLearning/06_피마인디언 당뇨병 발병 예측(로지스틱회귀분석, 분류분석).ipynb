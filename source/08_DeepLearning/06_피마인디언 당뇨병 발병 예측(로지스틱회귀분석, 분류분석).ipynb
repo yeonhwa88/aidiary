{
 "cells": [
  {
   "cell_type": "code",
   "execution_count": 1,
   "id": "4b8ddd17",
   "metadata": {
    "ExecuteTime": {
     "end_time": "2024-12-17T07:37:20.179582Z",
     "start_time": "2024-12-17T07:37:20.168139Z"
    }
   },
   "outputs": [
    {
     "data": {
      "text/html": [
       "\n",
       "<style>\n",
       "div.container{width:80% !important;}\n",
       "div.prompt {min-width:70px;}\n",
       "div#toc-header{margin-top:150px;}\n",
       "span.toc-item-num{display:none;}\n",
       "div.CodeMirror {font-family:Consolas}\n",
       "div.input {font-family:Consolas}\n",
       "</style>\n"
      ],
      "text/plain": [
       "<IPython.core.display.HTML object>"
      ]
     },
     "metadata": {},
     "output_type": "display_data"
    }
   ],
   "source": [
    "from IPython.display import display, HTML\n",
    "\n",
    "display(\n",
    "    HTML(\"\"\"\n",
    "<style>\n",
    "div.container{width:80% !important;}\n",
    "div.prompt {min-width:70px;}\n",
    "div#toc-header{margin-top:150px;}\n",
    "span.toc-item-num{display:none;}\n",
    "div.CodeMirror {font-family:Consolas}\n",
    "div.input {font-family:Consolas}\n",
    "</style>\n",
    "\"\"\"))"
   ]
  },
  {
   "cell_type": "code",
   "execution_count": 50,
   "id": "a19261f4",
   "metadata": {
    "ExecuteTime": {
     "end_time": "2024-12-17T07:37:26.315349Z",
     "start_time": "2024-12-17T07:37:20.182582Z"
    }
   },
   "outputs": [],
   "source": [
    "import numpy as np\n",
    "import pandas as pd\n",
    "import sys\n",
    "from tensorflow.keras import utils  # utils.to_categorical\n",
    "from tensorflow.keras.models import Sequential    # 모델 생성\n",
    "from tensorflow.keras.layers import Dense, Input  # 모델에 layer 쌓기\n",
    "import matplotlib.pyplot as plt"
   ]
  },
  {
   "cell_type": "markdown",
   "id": "8fff056e",
   "metadata": {},
   "source": [
    "# 로지스틱회귀분석(이진분류)\n",
    "## 1. 데이터셋 생성 & 전처리"
   ]
  },
  {
   "cell_type": "code",
   "execution_count": 51,
   "id": "3864487c",
   "metadata": {
    "ExecuteTime": {
     "end_time": "2024-12-17T07:37:26.344203Z",
     "start_time": "2024-12-17T07:37:26.315349Z"
    }
   },
   "outputs": [
    {
     "name": "stdout",
     "output_type": "stream",
     "text": [
      "<class 'pandas.core.frame.DataFrame'>\n",
      "RangeIndex: 768 entries, 0 to 767\n",
      "Data columns (total 9 columns):\n",
      " #   Column  Non-Null Count  Dtype  \n",
      "---  ------  --------------  -----  \n",
      " 0   0       768 non-null    int64  \n",
      " 1   1       768 non-null    int64  \n",
      " 2   2       768 non-null    int64  \n",
      " 3   3       768 non-null    int64  \n",
      " 4   4       768 non-null    int64  \n",
      " 5   5       768 non-null    float64\n",
      " 6   6       768 non-null    float64\n",
      " 7   7       768 non-null    int64  \n",
      " 8   8       768 non-null    int64  \n",
      "dtypes: float64(2), int64(7)\n",
      "memory usage: 54.1 KB\n"
     ]
    },
    {
     "data": {
      "text/plain": [
       "(None,\n",
       " array([[  6.   , 148.   ,  72.   ,  35.   ,   0.   ,  33.6  ,   0.627,\n",
       "          50.   ,   1.   ],\n",
       "        [  1.   ,  85.   ,  66.   ,  29.   ,   0.   ,  26.6  ,   0.351,\n",
       "          31.   ,   0.   ]]))"
      ]
     },
     "execution_count": 51,
     "metadata": {},
     "output_type": "execute_result"
    }
   ],
   "source": [
    "df = pd.read_csv('data/pima-indians-diabetes.csv', comment='#', header=None)\n",
    "df.info(), df.values[:2]\n",
    "# 결측치가 없으므로, csv 파일을 바로 넘파이 배열로 읽어들일 예정"
   ]
  },
  {
   "cell_type": "code",
   "execution_count": 52,
   "id": "a8c2764d",
   "metadata": {
    "ExecuteTime": {
     "end_time": "2024-12-17T07:37:26.352201Z",
     "start_time": "2024-12-17T07:37:26.347202Z"
    }
   },
   "outputs": [],
   "source": [
    "# np.set_printoptions(threshold=sys.maxsize)"
   ]
  },
  {
   "cell_type": "code",
   "execution_count": 53,
   "id": "69940220",
   "metadata": {
    "ExecuteTime": {
     "end_time": "2024-12-17T07:37:26.366027Z",
     "start_time": "2024-12-17T07:37:26.360030Z"
    }
   },
   "outputs": [],
   "source": [
    "# 1. 임신횟수\n",
    "# 2. 2시간내 포도당 농도\n",
    "# 3. 혈압\n",
    "# 4. 피부접힘 두께\n",
    "# 5. 인슐린수치\n",
    "# 6. BMI체질량지수\n",
    "# 7. 가족력\n",
    "# 8. 나이\n",
    "# 9. 당뇨병발병여부"
   ]
  },
  {
   "cell_type": "code",
   "execution_count": 54,
   "id": "7c35cafc",
   "metadata": {
    "ExecuteTime": {
     "end_time": "2024-12-17T07:37:26.389650Z",
     "start_time": "2024-12-17T07:37:26.374368Z"
    }
   },
   "outputs": [
    {
     "data": {
      "text/plain": [
       "(768, 9)"
      ]
     },
     "execution_count": 54,
     "metadata": {},
     "output_type": "execute_result"
    }
   ],
   "source": [
    "# csv파일을 numpy배열로 읽어오기 np.loadtxt(), np.genfromtxt()  '#'이 있는 행은 제외하여 읽어옴\n",
    "dataset = np.loadtxt('data/pima-indians-diabetes.csv', delimiter=',',  # ','를 기준으로 분리\n",
    "                     )\n",
    "dataset.shape"
   ]
  },
  {
   "cell_type": "code",
   "execution_count": 55,
   "id": "8b3ab5f2",
   "metadata": {
    "ExecuteTime": {
     "end_time": "2024-12-17T07:37:26.403855Z",
     "start_time": "2024-12-17T07:37:26.393647Z"
    }
   },
   "outputs": [
    {
     "data": {
      "text/plain": [
       "((700, 8), (700,), (68, 8), (68,))"
      ]
     },
     "execution_count": 55,
     "metadata": {},
     "output_type": "execute_result"
    }
   ],
   "source": [
    "# 학습데이터셋(학습용 데이터:train dataset) : 모델 학습 시 사용\n",
    "X_train = dataset[:700, :-1]  # 독립변수\n",
    "y_train = dataset[:700,  -1]  # 종속변수\n",
    "# 테스트데이터셋(시험용 데이터:test dataset) : 모델 평가 시 사용\n",
    "X_test = dataset[700:, :-1]\n",
    "y_test = dataset[700:,  -1]\n",
    "X_train.shape, y_train.shape, X_test.shape, y_test.shape"
   ]
  },
  {
   "cell_type": "markdown",
   "id": "7a580606",
   "metadata": {},
   "source": [
    "## 2. 모델 구성"
   ]
  },
  {
   "cell_type": "code",
   "execution_count": 56,
   "id": "146e3e4c",
   "metadata": {
    "ExecuteTime": {
     "end_time": "2024-12-17T07:37:26.621558Z",
     "start_time": "2024-12-17T07:37:26.406853Z"
    }
   },
   "outputs": [
    {
     "name": "stdout",
     "output_type": "stream",
     "text": [
      "Model: \"sequential_6\"\n",
      "_________________________________________________________________\n",
      " Layer (type)                Output Shape              Param #   \n",
      "=================================================================\n",
      " dense_19 (Dense)            (None, 12)                108       \n",
      "                                                                 \n",
      " dense_20 (Dense)            (None, 8)                 104       \n",
      "                                                                 \n",
      " dense_21 (Dense)            (None, 1)                 9         \n",
      "                                                                 \n",
      "=================================================================\n",
      "Total params: 221\n",
      "Trainable params: 221\n",
      "Non-trainable params: 0\n",
      "_________________________________________________________________\n"
     ]
    }
   ],
   "source": [
    "model = Sequential()\n",
    "model.add(Input(shape=(8, )))                    # 독립변수 8개 : 입력, 종속변수 1개 : 출력 \n",
    "model.add(Dense(units=12, activation='relu'))    # hidden layer  # units : 출력갯수\n",
    "model.add(Dense(units=8, activation='relu'))     # hidden layer  # units : 출력갯수\n",
    "model.add(Dense(units=1,  activation='sigmoid')) # 최종 출력층\n",
    "model.summary()"
   ]
  },
  {
   "cell_type": "markdown",
   "id": "e1efb336",
   "metadata": {},
   "source": [
    "## 3. 학습과정 설정"
   ]
  },
  {
   "cell_type": "code",
   "execution_count": 57,
   "id": "7a0dcd29",
   "metadata": {
    "ExecuteTime": {
     "end_time": "2024-12-17T07:37:26.644204Z",
     "start_time": "2024-12-17T07:37:26.624556Z"
    }
   },
   "outputs": [],
   "source": [
    "# model.compile(loss='binary_crossentropy', optimizer='adam', metrics=['accuracy'])\n",
    "model.compile(loss='binary_crossentropy', optimizer='adam', metrics=['binary_accuracy'])"
   ]
  },
  {
   "cell_type": "markdown",
   "id": "e0456c42",
   "metadata": {},
   "source": [
    "## 4. 학습"
   ]
  },
  {
   "cell_type": "code",
   "execution_count": 58,
   "id": "2159d7ce",
   "metadata": {
    "ExecuteTime": {
     "end_time": "2024-12-17T07:37:33.290255Z",
     "start_time": "2024-12-17T07:37:26.646204Z"
    }
   },
   "outputs": [
    {
     "name": "stdout",
     "output_type": "stream",
     "text": [
      "Epoch 1/200\n",
      "22/22 - 0s - loss: 12.3233 - binary_accuracy: 0.4571 - 466ms/epoch - 21ms/step\n",
      "Epoch 2/200\n",
      "22/22 - 0s - loss: 4.8239 - binary_accuracy: 0.6014 - 75ms/epoch - 3ms/step\n",
      "Epoch 3/200\n",
      "22/22 - 0s - loss: 2.2784 - binary_accuracy: 0.6286 - 83ms/epoch - 4ms/step\n",
      "Epoch 4/200\n",
      "22/22 - 0s - loss: 1.2577 - binary_accuracy: 0.6100 - 101ms/epoch - 5ms/step\n",
      "Epoch 5/200\n",
      "22/22 - 0s - loss: 1.1112 - binary_accuracy: 0.6200 - 82ms/epoch - 4ms/step\n",
      "Epoch 6/200\n",
      "22/22 - 0s - loss: 0.9812 - binary_accuracy: 0.6543 - 103ms/epoch - 5ms/step\n",
      "Epoch 7/200\n",
      "22/22 - 0s - loss: 0.9257 - binary_accuracy: 0.6557 - 97ms/epoch - 4ms/step\n",
      "Epoch 8/200\n",
      "22/22 - 0s - loss: 0.8572 - binary_accuracy: 0.6571 - 100ms/epoch - 5ms/step\n",
      "Epoch 9/200\n",
      "22/22 - 0s - loss: 0.8023 - binary_accuracy: 0.6614 - 102ms/epoch - 5ms/step\n",
      "Epoch 10/200\n",
      "22/22 - 0s - loss: 0.7950 - binary_accuracy: 0.6543 - 81ms/epoch - 4ms/step\n",
      "Epoch 11/200\n",
      "22/22 - 0s - loss: 0.7367 - binary_accuracy: 0.6743 - 100ms/epoch - 5ms/step\n",
      "Epoch 12/200\n",
      "22/22 - 0s - loss: 0.7493 - binary_accuracy: 0.6600 - 83ms/epoch - 4ms/step\n",
      "Epoch 13/200\n",
      "22/22 - 0s - loss: 0.7014 - binary_accuracy: 0.6671 - 83ms/epoch - 4ms/step\n",
      "Epoch 14/200\n",
      "22/22 - 0s - loss: 0.7057 - binary_accuracy: 0.6686 - 86ms/epoch - 4ms/step\n",
      "Epoch 15/200\n",
      "22/22 - 0s - loss: 0.6730 - binary_accuracy: 0.6771 - 82ms/epoch - 4ms/step\n",
      "Epoch 16/200\n",
      "22/22 - 0s - loss: 0.6651 - binary_accuracy: 0.6800 - 87ms/epoch - 4ms/step\n",
      "Epoch 17/200\n",
      "22/22 - 0s - loss: 0.6738 - binary_accuracy: 0.6871 - 82ms/epoch - 4ms/step\n",
      "Epoch 18/200\n",
      "22/22 - 0s - loss: 0.6537 - binary_accuracy: 0.6800 - 68ms/epoch - 3ms/step\n",
      "Epoch 19/200\n",
      "22/22 - 0s - loss: 0.6337 - binary_accuracy: 0.7000 - 99ms/epoch - 4ms/step\n",
      "Epoch 20/200\n",
      "22/22 - 0s - loss: 0.6652 - binary_accuracy: 0.6814 - 85ms/epoch - 4ms/step\n",
      "Epoch 21/200\n",
      "22/22 - 0s - loss: 0.6333 - binary_accuracy: 0.6929 - 100ms/epoch - 5ms/step\n",
      "Epoch 22/200\n",
      "22/22 - 0s - loss: 0.6997 - binary_accuracy: 0.6629 - 100ms/epoch - 5ms/step\n",
      "Epoch 23/200\n",
      "22/22 - 0s - loss: 0.6296 - binary_accuracy: 0.6943 - 78ms/epoch - 4ms/step\n",
      "Epoch 24/200\n",
      "22/22 - 0s - loss: 0.6191 - binary_accuracy: 0.7043 - 83ms/epoch - 4ms/step\n",
      "Epoch 25/200\n",
      "22/22 - 0s - loss: 0.6245 - binary_accuracy: 0.6871 - 84ms/epoch - 4ms/step\n",
      "Epoch 26/200\n",
      "22/22 - 0s - loss: 0.6337 - binary_accuracy: 0.6829 - 98ms/epoch - 4ms/step\n",
      "Epoch 27/200\n",
      "22/22 - 0s - loss: 0.6112 - binary_accuracy: 0.7214 - 83ms/epoch - 4ms/step\n",
      "Epoch 28/200\n",
      "22/22 - 0s - loss: 0.6442 - binary_accuracy: 0.6814 - 100ms/epoch - 5ms/step\n",
      "Epoch 29/200\n",
      "22/22 - 0s - loss: 0.6005 - binary_accuracy: 0.6986 - 84ms/epoch - 4ms/step\n",
      "Epoch 30/200\n",
      "22/22 - 0s - loss: 0.5932 - binary_accuracy: 0.7186 - 100ms/epoch - 5ms/step\n",
      "Epoch 31/200\n",
      "22/22 - 0s - loss: 0.6031 - binary_accuracy: 0.7057 - 99ms/epoch - 5ms/step\n",
      "Epoch 32/200\n",
      "22/22 - 0s - loss: 0.5865 - binary_accuracy: 0.7129 - 83ms/epoch - 4ms/step\n",
      "Epoch 33/200\n",
      "22/22 - 0s - loss: 0.6092 - binary_accuracy: 0.6943 - 99ms/epoch - 5ms/step\n",
      "Epoch 34/200\n",
      "22/22 - 0s - loss: 0.5926 - binary_accuracy: 0.7171 - 91ms/epoch - 4ms/step\n",
      "Epoch 35/200\n",
      "22/22 - 0s - loss: 0.5946 - binary_accuracy: 0.7129 - 74ms/epoch - 3ms/step\n",
      "Epoch 36/200\n",
      "22/22 - 0s - loss: 0.6238 - binary_accuracy: 0.6914 - 88ms/epoch - 4ms/step\n",
      "Epoch 37/200\n",
      "22/22 - 0s - loss: 0.6095 - binary_accuracy: 0.7057 - 100ms/epoch - 5ms/step\n",
      "Epoch 38/200\n",
      "22/22 - 0s - loss: 0.5886 - binary_accuracy: 0.7343 - 92ms/epoch - 4ms/step\n",
      "Epoch 39/200\n",
      "22/22 - 0s - loss: 0.6298 - binary_accuracy: 0.6971 - 71ms/epoch - 3ms/step\n",
      "Epoch 40/200\n",
      "22/22 - 0s - loss: 0.6119 - binary_accuracy: 0.7043 - 85ms/epoch - 4ms/step\n",
      "Epoch 41/200\n",
      "22/22 - 0s - loss: 0.6189 - binary_accuracy: 0.7214 - 77ms/epoch - 4ms/step\n",
      "Epoch 42/200\n",
      "22/22 - 0s - loss: 0.6061 - binary_accuracy: 0.7071 - 84ms/epoch - 4ms/step\n",
      "Epoch 43/200\n",
      "22/22 - 0s - loss: 0.5856 - binary_accuracy: 0.7314 - 67ms/epoch - 3ms/step\n",
      "Epoch 44/200\n",
      "22/22 - 0s - loss: 0.5756 - binary_accuracy: 0.7271 - 83ms/epoch - 4ms/step\n",
      "Epoch 45/200\n",
      "22/22 - 0s - loss: 0.5671 - binary_accuracy: 0.7143 - 83ms/epoch - 4ms/step\n",
      "Epoch 46/200\n",
      "22/22 - 0s - loss: 0.5844 - binary_accuracy: 0.7400 - 83ms/epoch - 4ms/step\n",
      "Epoch 47/200\n",
      "22/22 - 0s - loss: 0.5643 - binary_accuracy: 0.7271 - 83ms/epoch - 4ms/step\n",
      "Epoch 48/200\n",
      "22/22 - 0s - loss: 0.5738 - binary_accuracy: 0.7143 - 83ms/epoch - 4ms/step\n",
      "Epoch 49/200\n",
      "22/22 - 0s - loss: 0.5860 - binary_accuracy: 0.7257 - 81ms/epoch - 4ms/step\n",
      "Epoch 50/200\n",
      "22/22 - 0s - loss: 0.5589 - binary_accuracy: 0.7257 - 85ms/epoch - 4ms/step\n",
      "Epoch 51/200\n",
      "22/22 - 0s - loss: 0.5563 - binary_accuracy: 0.7257 - 67ms/epoch - 3ms/step\n",
      "Epoch 52/200\n",
      "22/22 - 0s - loss: 0.5522 - binary_accuracy: 0.7357 - 82ms/epoch - 4ms/step\n",
      "Epoch 53/200\n",
      "22/22 - 0s - loss: 0.5624 - binary_accuracy: 0.7286 - 85ms/epoch - 4ms/step\n",
      "Epoch 54/200\n",
      "22/22 - 0s - loss: 0.5889 - binary_accuracy: 0.7071 - 81ms/epoch - 4ms/step\n",
      "Epoch 55/200\n",
      "22/22 - 0s - loss: 0.5909 - binary_accuracy: 0.7157 - 82ms/epoch - 4ms/step\n",
      "Epoch 56/200\n",
      "22/22 - 0s - loss: 0.5899 - binary_accuracy: 0.7086 - 66ms/epoch - 3ms/step\n",
      "Epoch 57/200\n",
      "22/22 - 0s - loss: 0.5467 - binary_accuracy: 0.7414 - 67ms/epoch - 3ms/step\n",
      "Epoch 58/200\n",
      "22/22 - 0s - loss: 0.5493 - binary_accuracy: 0.7371 - 83ms/epoch - 4ms/step\n",
      "Epoch 59/200\n",
      "22/22 - 0s - loss: 0.5584 - binary_accuracy: 0.7257 - 84ms/epoch - 4ms/step\n",
      "Epoch 60/200\n",
      "22/22 - 0s - loss: 0.5585 - binary_accuracy: 0.7343 - 96ms/epoch - 4ms/step\n",
      "Epoch 61/200\n",
      "22/22 - 0s - loss: 0.6038 - binary_accuracy: 0.7086 - 86ms/epoch - 4ms/step\n",
      "Epoch 62/200\n",
      "22/22 - 0s - loss: 0.5892 - binary_accuracy: 0.7271 - 85ms/epoch - 4ms/step\n",
      "Epoch 63/200\n",
      "22/22 - 0s - loss: 0.5862 - binary_accuracy: 0.7157 - 60ms/epoch - 3ms/step\n",
      "Epoch 64/200\n",
      "22/22 - 0s - loss: 0.5650 - binary_accuracy: 0.7443 - 66ms/epoch - 3ms/step\n",
      "Epoch 65/200\n",
      "22/22 - 0s - loss: 0.5443 - binary_accuracy: 0.7357 - 84ms/epoch - 4ms/step\n",
      "Epoch 66/200\n",
      "22/22 - 0s - loss: 0.5631 - binary_accuracy: 0.7400 - 69ms/epoch - 3ms/step\n",
      "Epoch 67/200\n",
      "22/22 - 0s - loss: 0.5407 - binary_accuracy: 0.7486 - 83ms/epoch - 4ms/step\n",
      "Epoch 68/200\n",
      "22/22 - 0s - loss: 0.5493 - binary_accuracy: 0.7300 - 83ms/epoch - 4ms/step\n",
      "Epoch 69/200\n",
      "22/22 - 0s - loss: 0.5414 - binary_accuracy: 0.7500 - 83ms/epoch - 4ms/step\n",
      "Epoch 70/200\n",
      "22/22 - 0s - loss: 0.5423 - binary_accuracy: 0.7386 - 84ms/epoch - 4ms/step\n",
      "Epoch 71/200\n",
      "22/22 - 0s - loss: 0.5374 - binary_accuracy: 0.7386 - 83ms/epoch - 4ms/step\n",
      "Epoch 72/200\n",
      "22/22 - 0s - loss: 0.5433 - binary_accuracy: 0.7400 - 83ms/epoch - 4ms/step\n",
      "Epoch 73/200\n",
      "22/22 - 0s - loss: 0.5677 - binary_accuracy: 0.7186 - 83ms/epoch - 4ms/step\n",
      "Epoch 74/200\n",
      "22/22 - 0s - loss: 0.5446 - binary_accuracy: 0.7271 - 83ms/epoch - 4ms/step\n",
      "Epoch 75/200\n",
      "22/22 - 0s - loss: 0.5418 - binary_accuracy: 0.7457 - 83ms/epoch - 4ms/step\n",
      "Epoch 76/200\n",
      "22/22 - 0s - loss: 0.5275 - binary_accuracy: 0.7543 - 84ms/epoch - 4ms/step\n",
      "Epoch 77/200\n",
      "22/22 - 0s - loss: 0.5471 - binary_accuracy: 0.7257 - 67ms/epoch - 3ms/step\n",
      "Epoch 78/200\n",
      "22/22 - 0s - loss: 0.5810 - binary_accuracy: 0.7157 - 68ms/epoch - 3ms/step\n",
      "Epoch 79/200\n",
      "22/22 - 0s - loss: 0.5307 - binary_accuracy: 0.7400 - 84ms/epoch - 4ms/step\n",
      "Epoch 80/200\n",
      "22/22 - 0s - loss: 0.5610 - binary_accuracy: 0.7257 - 83ms/epoch - 4ms/step\n",
      "Epoch 81/200\n",
      "22/22 - 0s - loss: 0.5443 - binary_accuracy: 0.7300 - 87ms/epoch - 4ms/step\n",
      "Epoch 82/200\n",
      "22/22 - 0s - loss: 0.5675 - binary_accuracy: 0.7171 - 93ms/epoch - 4ms/step\n",
      "Epoch 83/200\n",
      "22/22 - 0s - loss: 0.5458 - binary_accuracy: 0.7386 - 83ms/epoch - 4ms/step\n",
      "Epoch 84/200\n",
      "22/22 - 0s - loss: 0.5330 - binary_accuracy: 0.7400 - 84ms/epoch - 4ms/step\n",
      "Epoch 85/200\n",
      "22/22 - 0s - loss: 0.5283 - binary_accuracy: 0.7400 - 83ms/epoch - 4ms/step\n",
      "Epoch 86/200\n",
      "22/22 - 0s - loss: 0.5306 - binary_accuracy: 0.7400 - 89ms/epoch - 4ms/step\n",
      "Epoch 87/200\n",
      "22/22 - 0s - loss: 0.5323 - binary_accuracy: 0.7471 - 72ms/epoch - 3ms/step\n",
      "Epoch 88/200\n",
      "22/22 - 0s - loss: 0.5473 - binary_accuracy: 0.7314 - 69ms/epoch - 3ms/step\n",
      "Epoch 89/200\n",
      "22/22 - 0s - loss: 0.5396 - binary_accuracy: 0.7471 - 92ms/epoch - 4ms/step\n",
      "Epoch 90/200\n",
      "22/22 - 0s - loss: 0.5218 - binary_accuracy: 0.7457 - 73ms/epoch - 3ms/step\n",
      "Epoch 91/200\n",
      "22/22 - 0s - loss: 0.5422 - binary_accuracy: 0.7443 - 83ms/epoch - 4ms/step\n",
      "Epoch 92/200\n",
      "22/22 - 0s - loss: 0.5882 - binary_accuracy: 0.6929 - 83ms/epoch - 4ms/step\n",
      "Epoch 93/200\n"
     ]
    },
    {
     "name": "stdout",
     "output_type": "stream",
     "text": [
      "22/22 - 0s - loss: 0.5189 - binary_accuracy: 0.7543 - 83ms/epoch - 4ms/step\n",
      "Epoch 94/200\n",
      "22/22 - 0s - loss: 0.5347 - binary_accuracy: 0.7314 - 83ms/epoch - 4ms/step\n",
      "Epoch 95/200\n",
      "22/22 - 0s - loss: 0.5357 - binary_accuracy: 0.7543 - 67ms/epoch - 3ms/step\n",
      "Epoch 96/200\n",
      "22/22 - 0s - loss: 0.5263 - binary_accuracy: 0.7486 - 91ms/epoch - 4ms/step\n",
      "Epoch 97/200\n",
      "22/22 - 0s - loss: 0.5198 - binary_accuracy: 0.7443 - 67ms/epoch - 3ms/step\n",
      "Epoch 98/200\n",
      "22/22 - 0s - loss: 0.5363 - binary_accuracy: 0.7429 - 83ms/epoch - 4ms/step\n",
      "Epoch 99/200\n",
      "22/22 - 0s - loss: 0.5173 - binary_accuracy: 0.7514 - 83ms/epoch - 4ms/step\n",
      "Epoch 100/200\n",
      "22/22 - 0s - loss: 0.5305 - binary_accuracy: 0.7300 - 83ms/epoch - 4ms/step\n",
      "Epoch 101/200\n",
      "22/22 - 0s - loss: 0.5183 - binary_accuracy: 0.7600 - 83ms/epoch - 4ms/step\n",
      "Epoch 102/200\n",
      "22/22 - 0s - loss: 0.5182 - binary_accuracy: 0.7543 - 84ms/epoch - 4ms/step\n",
      "Epoch 103/200\n",
      "22/22 - 0s - loss: 0.5355 - binary_accuracy: 0.7486 - 83ms/epoch - 4ms/step\n",
      "Epoch 104/200\n",
      "22/22 - 0s - loss: 0.5279 - binary_accuracy: 0.7500 - 83ms/epoch - 4ms/step\n",
      "Epoch 105/200\n",
      "22/22 - 0s - loss: 0.5172 - binary_accuracy: 0.7471 - 67ms/epoch - 3ms/step\n",
      "Epoch 106/200\n",
      "22/22 - 0s - loss: 0.5072 - binary_accuracy: 0.7457 - 67ms/epoch - 3ms/step\n",
      "Epoch 107/200\n",
      "22/22 - 0s - loss: 0.5194 - binary_accuracy: 0.7543 - 84ms/epoch - 4ms/step\n",
      "Epoch 108/200\n",
      "22/22 - 0s - loss: 0.5299 - binary_accuracy: 0.7486 - 100ms/epoch - 5ms/step\n",
      "Epoch 109/200\n",
      "22/22 - 0s - loss: 0.5980 - binary_accuracy: 0.7143 - 83ms/epoch - 4ms/step\n",
      "Epoch 110/200\n",
      "22/22 - 0s - loss: 0.5342 - binary_accuracy: 0.7443 - 97ms/epoch - 4ms/step\n",
      "Epoch 111/200\n",
      "22/22 - 0s - loss: 0.5241 - binary_accuracy: 0.7514 - 80ms/epoch - 4ms/step\n",
      "Epoch 112/200\n",
      "22/22 - 0s - loss: 0.5073 - binary_accuracy: 0.7629 - 69ms/epoch - 3ms/step\n",
      "Epoch 113/200\n",
      "22/22 - 0s - loss: 0.5293 - binary_accuracy: 0.7543 - 84ms/epoch - 4ms/step\n",
      "Epoch 114/200\n",
      "22/22 - 0s - loss: 0.5154 - binary_accuracy: 0.7671 - 84ms/epoch - 4ms/step\n",
      "Epoch 115/200\n",
      "22/22 - 0s - loss: 0.5211 - binary_accuracy: 0.7486 - 83ms/epoch - 4ms/step\n",
      "Epoch 116/200\n",
      "22/22 - 0s - loss: 0.5315 - binary_accuracy: 0.7471 - 88ms/epoch - 4ms/step\n",
      "Epoch 117/200\n",
      "22/22 - 0s - loss: 0.5243 - binary_accuracy: 0.7571 - 92ms/epoch - 4ms/step\n",
      "Epoch 118/200\n",
      "22/22 - 0s - loss: 0.5336 - binary_accuracy: 0.7514 - 84ms/epoch - 4ms/step\n",
      "Epoch 119/200\n",
      "22/22 - 0s - loss: 0.5062 - binary_accuracy: 0.7671 - 84ms/epoch - 4ms/step\n",
      "Epoch 120/200\n",
      "22/22 - 0s - loss: 0.5203 - binary_accuracy: 0.7657 - 85ms/epoch - 4ms/step\n",
      "Epoch 121/200\n",
      "22/22 - 0s - loss: 0.5408 - binary_accuracy: 0.7371 - 82ms/epoch - 4ms/step\n",
      "Epoch 122/200\n",
      "22/22 - 0s - loss: 0.5123 - binary_accuracy: 0.7586 - 83ms/epoch - 4ms/step\n",
      "Epoch 123/200\n",
      "22/22 - 0s - loss: 0.5245 - binary_accuracy: 0.7600 - 102ms/epoch - 5ms/step\n",
      "Epoch 124/200\n",
      "22/22 - 0s - loss: 0.5021 - binary_accuracy: 0.7600 - 81ms/epoch - 4ms/step\n",
      "Epoch 125/200\n",
      "22/22 - 0s - loss: 0.5165 - binary_accuracy: 0.7543 - 84ms/epoch - 4ms/step\n",
      "Epoch 126/200\n",
      "22/22 - 0s - loss: 0.5092 - binary_accuracy: 0.7614 - 84ms/epoch - 4ms/step\n",
      "Epoch 127/200\n",
      "22/22 - 0s - loss: 0.5204 - binary_accuracy: 0.7471 - 84ms/epoch - 4ms/step\n",
      "Epoch 128/200\n",
      "22/22 - 0s - loss: 0.5513 - binary_accuracy: 0.7271 - 85ms/epoch - 4ms/step\n",
      "Epoch 129/200\n",
      "22/22 - 0s - loss: 0.5355 - binary_accuracy: 0.7657 - 84ms/epoch - 4ms/step\n",
      "Epoch 130/200\n",
      "22/22 - 0s - loss: 0.5064 - binary_accuracy: 0.7529 - 78ms/epoch - 4ms/step\n",
      "Epoch 131/200\n",
      "22/22 - 0s - loss: 0.5240 - binary_accuracy: 0.7471 - 100ms/epoch - 5ms/step\n",
      "Epoch 132/200\n",
      "22/22 - 0s - loss: 0.5817 - binary_accuracy: 0.7229 - 69ms/epoch - 3ms/step\n",
      "Epoch 133/200\n",
      "22/22 - 0s - loss: 0.5831 - binary_accuracy: 0.7157 - 69ms/epoch - 3ms/step\n",
      "Epoch 134/200\n",
      "22/22 - 0s - loss: 0.5179 - binary_accuracy: 0.7614 - 91ms/epoch - 4ms/step\n",
      "Epoch 135/200\n",
      "22/22 - 0s - loss: 0.5225 - binary_accuracy: 0.7500 - 75ms/epoch - 3ms/step\n",
      "Epoch 136/200\n",
      "22/22 - 0s - loss: 0.5175 - binary_accuracy: 0.7443 - 78ms/epoch - 4ms/step\n",
      "Epoch 137/200\n",
      "22/22 - 0s - loss: 0.5278 - binary_accuracy: 0.7571 - 70ms/epoch - 3ms/step\n",
      "Epoch 138/200\n",
      "22/22 - 0s - loss: 0.4979 - binary_accuracy: 0.7600 - 69ms/epoch - 3ms/step\n",
      "Epoch 139/200\n",
      "22/22 - 0s - loss: 0.4903 - binary_accuracy: 0.7600 - 82ms/epoch - 4ms/step\n",
      "Epoch 140/200\n",
      "22/22 - 0s - loss: 0.5413 - binary_accuracy: 0.7300 - 65ms/epoch - 3ms/step\n",
      "Epoch 141/200\n",
      "22/22 - 0s - loss: 0.5035 - binary_accuracy: 0.7643 - 83ms/epoch - 4ms/step\n",
      "Epoch 142/200\n",
      "22/22 - 0s - loss: 0.5058 - binary_accuracy: 0.7529 - 83ms/epoch - 4ms/step\n",
      "Epoch 143/200\n",
      "22/22 - 0s - loss: 0.4962 - binary_accuracy: 0.7571 - 83ms/epoch - 4ms/step\n",
      "Epoch 144/200\n",
      "22/22 - 0s - loss: 0.5156 - binary_accuracy: 0.7586 - 84ms/epoch - 4ms/step\n",
      "Epoch 145/200\n",
      "22/22 - 0s - loss: 0.5527 - binary_accuracy: 0.7500 - 85ms/epoch - 4ms/step\n",
      "Epoch 146/200\n",
      "22/22 - 0s - loss: 0.5128 - binary_accuracy: 0.7686 - 82ms/epoch - 4ms/step\n",
      "Epoch 147/200\n",
      "22/22 - 0s - loss: 0.5185 - binary_accuracy: 0.7443 - 83ms/epoch - 4ms/step\n",
      "Epoch 148/200\n",
      "22/22 - 0s - loss: 0.5062 - binary_accuracy: 0.7486 - 92ms/epoch - 4ms/step\n",
      "Epoch 149/200\n",
      "22/22 - 0s - loss: 0.5023 - binary_accuracy: 0.7457 - 83ms/epoch - 4ms/step\n",
      "Epoch 150/200\n",
      "22/22 - 0s - loss: 0.5073 - binary_accuracy: 0.7500 - 84ms/epoch - 4ms/step\n",
      "Epoch 151/200\n",
      "22/22 - 0s - loss: 0.5798 - binary_accuracy: 0.7186 - 68ms/epoch - 3ms/step\n",
      "Epoch 152/200\n",
      "22/22 - 0s - loss: 0.5013 - binary_accuracy: 0.7543 - 66ms/epoch - 3ms/step\n",
      "Epoch 153/200\n",
      "22/22 - 0s - loss: 0.5466 - binary_accuracy: 0.7414 - 83ms/epoch - 4ms/step\n",
      "Epoch 154/200\n",
      "22/22 - 0s - loss: 0.5840 - binary_accuracy: 0.7257 - 83ms/epoch - 4ms/step\n",
      "Epoch 155/200\n",
      "22/22 - 0s - loss: 0.5315 - binary_accuracy: 0.7614 - 83ms/epoch - 4ms/step\n",
      "Epoch 156/200\n",
      "22/22 - 0s - loss: 0.5058 - binary_accuracy: 0.7429 - 83ms/epoch - 4ms/step\n",
      "Epoch 157/200\n",
      "22/22 - 0s - loss: 0.5064 - binary_accuracy: 0.7614 - 83ms/epoch - 4ms/step\n",
      "Epoch 158/200\n",
      "22/22 - 0s - loss: 0.5150 - binary_accuracy: 0.7500 - 86ms/epoch - 4ms/step\n",
      "Epoch 159/200\n",
      "22/22 - 0s - loss: 0.4958 - binary_accuracy: 0.7586 - 63ms/epoch - 3ms/step\n",
      "Epoch 160/200\n",
      "22/22 - 0s - loss: 0.4833 - binary_accuracy: 0.7600 - 68ms/epoch - 3ms/step\n",
      "Epoch 161/200\n",
      "22/22 - 0s - loss: 0.4865 - binary_accuracy: 0.7614 - 69ms/epoch - 3ms/step\n",
      "Epoch 162/200\n",
      "22/22 - 0s - loss: 0.4998 - binary_accuracy: 0.7429 - 69ms/epoch - 3ms/step\n",
      "Epoch 163/200\n",
      "22/22 - 0s - loss: 0.4876 - binary_accuracy: 0.7543 - 80ms/epoch - 4ms/step\n",
      "Epoch 164/200\n",
      "22/22 - 0s - loss: 0.5008 - binary_accuracy: 0.7629 - 67ms/epoch - 3ms/step\n",
      "Epoch 165/200\n",
      "22/22 - 0s - loss: 0.5110 - binary_accuracy: 0.7629 - 67ms/epoch - 3ms/step\n",
      "Epoch 166/200\n",
      "22/22 - 0s - loss: 0.4905 - binary_accuracy: 0.7686 - 68ms/epoch - 3ms/step\n",
      "Epoch 167/200\n",
      "22/22 - 0s - loss: 0.5110 - binary_accuracy: 0.7614 - 83ms/epoch - 4ms/step\n",
      "Epoch 168/200\n",
      "22/22 - 0s - loss: 0.4908 - binary_accuracy: 0.7571 - 71ms/epoch - 3ms/step\n",
      "Epoch 169/200\n",
      "22/22 - 0s - loss: 0.4900 - binary_accuracy: 0.7600 - 79ms/epoch - 4ms/step\n",
      "Epoch 170/200\n",
      "22/22 - 0s - loss: 0.5147 - binary_accuracy: 0.7586 - 84ms/epoch - 4ms/step\n",
      "Epoch 171/200\n",
      "22/22 - 0s - loss: 0.5409 - binary_accuracy: 0.7457 - 83ms/epoch - 4ms/step\n",
      "Epoch 172/200\n",
      "22/22 - 0s - loss: 0.4920 - binary_accuracy: 0.7643 - 84ms/epoch - 4ms/step\n",
      "Epoch 173/200\n",
      "22/22 - 0s - loss: 0.4978 - binary_accuracy: 0.7671 - 100ms/epoch - 5ms/step\n",
      "Epoch 174/200\n",
      "22/22 - 0s - loss: 0.4986 - binary_accuracy: 0.7757 - 83ms/epoch - 4ms/step\n",
      "Epoch 175/200\n",
      "22/22 - 0s - loss: 0.5150 - binary_accuracy: 0.7586 - 88ms/epoch - 4ms/step\n",
      "Epoch 176/200\n",
      "22/22 - 0s - loss: 0.4880 - binary_accuracy: 0.7643 - 78ms/epoch - 4ms/step\n",
      "Epoch 177/200\n",
      "22/22 - 0s - loss: 0.4857 - binary_accuracy: 0.7643 - 83ms/epoch - 4ms/step\n",
      "Epoch 178/200\n",
      "22/22 - 0s - loss: 0.4935 - binary_accuracy: 0.7686 - 68ms/epoch - 3ms/step\n",
      "Epoch 179/200\n",
      "22/22 - 0s - loss: 0.5096 - binary_accuracy: 0.7457 - 82ms/epoch - 4ms/step\n",
      "Epoch 180/200\n",
      "22/22 - 0s - loss: 0.5209 - binary_accuracy: 0.7486 - 84ms/epoch - 4ms/step\n",
      "Epoch 181/200\n",
      "22/22 - 0s - loss: 0.5212 - binary_accuracy: 0.7457 - 83ms/epoch - 4ms/step\n",
      "Epoch 182/200\n",
      "22/22 - 0s - loss: 0.4951 - binary_accuracy: 0.7643 - 88ms/epoch - 4ms/step\n",
      "Epoch 183/200\n",
      "22/22 - 0s - loss: 0.4792 - binary_accuracy: 0.7757 - 77ms/epoch - 4ms/step\n",
      "Epoch 184/200\n",
      "22/22 - 0s - loss: 0.4917 - binary_accuracy: 0.7629 - 85ms/epoch - 4ms/step\n"
     ]
    },
    {
     "name": "stdout",
     "output_type": "stream",
     "text": [
      "Epoch 185/200\n",
      "22/22 - 0s - loss: 0.4840 - binary_accuracy: 0.7586 - 83ms/epoch - 4ms/step\n",
      "Epoch 186/200\n",
      "22/22 - 0s - loss: 0.4921 - binary_accuracy: 0.7671 - 83ms/epoch - 4ms/step\n",
      "Epoch 187/200\n",
      "22/22 - 0s - loss: 0.4891 - binary_accuracy: 0.7629 - 99ms/epoch - 4ms/step\n",
      "Epoch 188/200\n",
      "22/22 - 0s - loss: 0.4935 - binary_accuracy: 0.7557 - 83ms/epoch - 4ms/step\n",
      "Epoch 189/200\n",
      "22/22 - 0s - loss: 0.4882 - binary_accuracy: 0.7829 - 98ms/epoch - 4ms/step\n",
      "Epoch 190/200\n",
      "22/22 - 0s - loss: 0.4851 - binary_accuracy: 0.7686 - 68ms/epoch - 3ms/step\n",
      "Epoch 191/200\n",
      "22/22 - 0s - loss: 0.4919 - binary_accuracy: 0.7529 - 78ms/epoch - 4ms/step\n",
      "Epoch 192/200\n",
      "22/22 - 0s - loss: 0.5001 - binary_accuracy: 0.7714 - 78ms/epoch - 4ms/step\n",
      "Epoch 193/200\n",
      "22/22 - 0s - loss: 0.4792 - binary_accuracy: 0.7671 - 77ms/epoch - 4ms/step\n",
      "Epoch 194/200\n",
      "22/22 - 0s - loss: 0.4791 - binary_accuracy: 0.7671 - 78ms/epoch - 4ms/step\n",
      "Epoch 195/200\n",
      "22/22 - 0s - loss: 0.4865 - binary_accuracy: 0.7686 - 67ms/epoch - 3ms/step\n",
      "Epoch 196/200\n",
      "22/22 - 0s - loss: 0.4765 - binary_accuracy: 0.7671 - 89ms/epoch - 4ms/step\n",
      "Epoch 197/200\n",
      "22/22 - 0s - loss: 0.5154 - binary_accuracy: 0.7429 - 86ms/epoch - 4ms/step\n",
      "Epoch 198/200\n",
      "22/22 - 0s - loss: 0.4839 - binary_accuracy: 0.7743 - 86ms/epoch - 4ms/step\n",
      "Epoch 199/200\n",
      "22/22 - 0s - loss: 0.5020 - binary_accuracy: 0.7614 - 62ms/epoch - 3ms/step\n",
      "Epoch 200/200\n",
      "22/22 - 0s - loss: 0.5048 - binary_accuracy: 0.7457 - 69ms/epoch - 3ms/step\n"
     ]
    }
   ],
   "source": [
    "hist = model.fit(X_train, y_train,  # 훈련(학습)데이터\n",
    "                 epochs=200,        # 300번 학습\n",
    "                 # batch_size=350,  # 350개씩 나눠서\n",
    "                 # validation_split=0.2,  # 검증데이터 비율(훈련데이터셋 중 20%를 검증용 데이터로)\n",
    "                 verbose=2\n",
    "                )"
   ]
  },
  {
   "cell_type": "markdown",
   "id": "13f23945",
   "metadata": {},
   "source": [
    "## 5. 모델 평가하기(학습과정 보기 및 평가)"
   ]
  },
  {
   "cell_type": "code",
   "execution_count": 59,
   "id": "5167cd26",
   "metadata": {
    "ExecuteTime": {
     "end_time": "2024-12-17T07:37:33.305174Z",
     "start_time": "2024-12-17T07:37:33.292252Z"
    }
   },
   "outputs": [
    {
     "data": {
      "text/plain": [
       "dict_keys(['loss', 'binary_accuracy'])"
      ]
     },
     "execution_count": 59,
     "metadata": {},
     "output_type": "execute_result"
    }
   ],
   "source": [
    "hist.history.keys()"
   ]
  },
  {
   "cell_type": "code",
   "execution_count": 60,
   "id": "78240bd0",
   "metadata": {
    "ExecuteTime": {
     "end_time": "2024-12-17T07:37:33.754120Z",
     "start_time": "2024-12-17T07:37:33.308172Z"
    }
   },
   "outputs": [
    {
     "data": {
      "image/png": "[encoded data removed]",
      "text/plain": [
       "<Figure size 1000x500 with 2 Axes>"
      ]
     },
     "metadata": {},
     "output_type": "display_data"
    }
   ],
   "source": [
    "# 학습과정 보기(validation dataset 없는 경우)\n",
    "fig, loss_ax = plt.subplots(figsize=(10, 5))\n",
    "loss_ax.plot(hist.history['loss'], 'r', label='train loss')\n",
    "loss_ax.set_xlabel('epochs')\n",
    "loss_ax.set_ylabel('loss')\n",
    "acc_ax = loss_ax.twinx()\n",
    "acc_ax.plot(hist.history['binary_accuracy'], 'b', label='train accuracy')\n",
    "acc_ax.set_ylabel('accuracy')\n",
    "loss_ax.legend(loc='center right')\n",
    "acc_ax.legend(bbox_to_anchor=(0.999, 0.65))\n",
    "plt.show()"
   ]
  },
  {
   "cell_type": "code",
   "execution_count": 61,
   "id": "894e3f04",
   "metadata": {
    "ExecuteTime": {
     "end_time": "2024-12-17T07:37:34.026802Z",
     "start_time": "2024-12-17T07:37:33.757119Z"
    }
   },
   "outputs": [
    {
     "name": "stdout",
     "output_type": "stream",
     "text": [
      "22/22 [==============================] - 0s 3ms/step - loss: 0.4680 - binary_accuracy: 0.7671\n"
     ]
    },
    {
     "data": {
      "text/plain": [
       "[0.46804285049438477, 0.7671428322792053]"
      ]
     },
     "execution_count": 61,
     "metadata": {},
     "output_type": "execute_result"
    }
   ],
   "source": [
    "# 모델 평가하기(X)\n",
    "model.evaluate(X_train, y_train)"
   ]
  },
  {
   "cell_type": "code",
   "execution_count": 62,
   "id": "5c7d15ea",
   "metadata": {
    "ExecuteTime": {
     "end_time": "2024-12-17T07:37:34.112092Z",
     "start_time": "2024-12-17T07:37:34.028801Z"
    }
   },
   "outputs": [
    {
     "name": "stdout",
     "output_type": "stream",
     "text": [
      "3/3 [==============================] - 0s 4ms/step - loss: 0.5846 - binary_accuracy: 0.7353\n",
      "loss : 0.5846109390258789, accuracy : 73.52941036224365%\n"
     ]
    }
   ],
   "source": [
    "# 모델 평가하기(O)\n",
    "score = model.evaluate(X_test, y_test)\n",
    "print('loss : {}, accuracy : {}%'.format(score[0], score[1]*100))"
   ]
  },
  {
   "cell_type": "markdown",
   "id": "5629cadb",
   "metadata": {},
   "source": [
    "## 6. 모델 사용하기"
   ]
  },
  {
   "cell_type": "code",
   "execution_count": 63,
   "id": "0af7557a",
   "metadata": {
    "ExecuteTime": {
     "end_time": "2024-12-17T07:45:54.376486Z",
     "start_time": "2024-12-17T07:45:54.370774Z"
    }
   },
   "outputs": [
    {
     "data": {
      "text/plain": [
       "(array([  6.   , 148.   ,  72.   ,  35.   ,   0.   ,  33.6  ,   0.627,\n",
       "         50.   ]),\n",
       " 0.0)"
      ]
     },
     "execution_count": 63,
     "metadata": {},
     "output_type": "execute_result"
    }
   ],
   "source": [
    "X_train[0], y_train[10]"
   ]
  },
  {
   "cell_type": "code",
   "execution_count": 64,
   "id": "45988d6c",
   "metadata": {
    "ExecuteTime": {
     "end_time": "2024-12-17T07:41:33.033523Z",
     "start_time": "2024-12-17T07:41:32.941201Z"
    }
   },
   "outputs": [
    {
     "name": "stdout",
     "output_type": "stream",
     "text": [
      "1/1 [==============================] - 0s 52ms/step\n"
     ]
    },
    {
     "data": {
      "text/plain": [
       "array([[0.60932773]], dtype=float32)"
      ]
     },
     "execution_count": 64,
     "metadata": {},
     "output_type": "execute_result"
    }
   ],
   "source": [
    "model.predict([[6, 148, 72, 35, 0, 33.6, 0.6, 50]])"
   ]
  },
  {
   "cell_type": "code",
   "execution_count": 65,
   "id": "9d8f4228",
   "metadata": {
    "ExecuteTime": {
     "end_time": "2024-12-17T07:42:31.207722Z",
     "start_time": "2024-12-17T07:42:31.108460Z"
    }
   },
   "outputs": [
    {
     "name": "stdout",
     "output_type": "stream",
     "text": [
      "1/1 [==============================] - 0s 31ms/step\n"
     ]
    },
    {
     "data": {
      "text/plain": [
       "array([[ True]])"
      ]
     },
     "execution_count": 65,
     "metadata": {},
     "output_type": "execute_result"
    }
   ],
   "source": [
    "model.predict([[6, 148, 72, 35, 0, 33.6, 0.6, 50]]) >= 0.5"
   ]
  },
  {
   "cell_type": "code",
   "execution_count": 66,
   "id": "716f0f17",
   "metadata": {
    "ExecuteTime": {
     "end_time": "2024-12-17T07:43:18.351976Z",
     "start_time": "2024-12-17T07:43:18.260006Z"
    }
   },
   "outputs": [
    {
     "name": "stdout",
     "output_type": "stream",
     "text": [
      "1/1 [==============================] - 0s 46ms/step\n"
     ]
    },
    {
     "data": {
      "text/plain": [
       "array([[1],\n",
       "       [1]])"
      ]
     },
     "execution_count": 66,
     "metadata": {},
     "output_type": "execute_result"
    }
   ],
   "source": [
    "(model.predict([[6, 148, 72, 35, 0, 33.6, 0.6, 50],\n",
    "               [6, 148, 72, 35, 0, 33.6, 0.6, 45]]) >= 0.5).astype(int)"
   ]
  },
  {
   "cell_type": "code",
   "execution_count": 67,
   "id": "7a1eb7f4",
   "metadata": {
    "ExecuteTime": {
     "end_time": "2024-12-17T07:42:07.693116Z",
     "start_time": "2024-12-17T07:42:07.596092Z"
    }
   },
   "outputs": [
    {
     "name": "stdout",
     "output_type": "stream",
     "text": [
      "1/1 [==============================] - 0s 31ms/step\n"
     ]
    },
    {
     "data": {
      "text/plain": [
       "array([[1.]], dtype=float32)"
      ]
     },
     "execution_count": 67,
     "metadata": {},
     "output_type": "execute_result"
    }
   ],
   "source": [
    "model.predict([[6, 148, 72, 35, 0, 33.6, 0.6, 50]]).round()"
   ]
  },
  {
   "cell_type": "markdown",
   "id": "93fdeed0",
   "metadata": {},
   "source": [
    "## 7. 교차표\n",
    " - 테스트 데이터셋의 실제값(y_test)과 예측값"
   ]
  },
  {
   "cell_type": "code",
   "execution_count": 68,
   "id": "91d92ea9",
   "metadata": {
    "ExecuteTime": {
     "end_time": "2024-12-17T07:50:45.534778Z",
     "start_time": "2024-12-17T07:50:45.527778Z"
    }
   },
   "outputs": [
    {
     "data": {
      "text/plain": [
       "array([0., 1., 1., 0., 0., 0., 1., 0., 1., 1., 0., 0., 1., 0., 0., 1., 1.,\n",
       "       0., 0., 1., 0., 0., 1., 0., 0., 0., 0., 0., 0., 0., 1., 1., 1., 0.,\n",
       "       0., 0., 0., 0., 0., 1., 1., 0., 0., 1., 0., 0., 1., 0., 1., 1., 1.,\n",
       "       0., 0., 1., 1., 1., 0., 1., 0., 1., 0., 1., 0., 0., 0., 0., 1., 0.])"
      ]
     },
     "execution_count": 68,
     "metadata": {},
     "output_type": "execute_result"
    }
   ],
   "source": [
    "y_test"
   ]
  },
  {
   "cell_type": "code",
   "execution_count": 69,
   "id": "589357d1",
   "metadata": {
    "ExecuteTime": {
     "end_time": "2024-12-17T07:57:46.926455Z",
     "start_time": "2024-12-17T07:57:46.843480Z"
    },
    "scrolled": true
   },
   "outputs": [
    {
     "name": "stdout",
     "output_type": "stream",
     "text": [
      "3/3 [==============================] - 0s 0s/step\n",
      "13 14\n",
      "4 37\n"
     ]
    }
   ],
   "source": [
    "y_hat = (model.predict(X_test) >= 0.5).astype(float)  # X_test : 2차원 배열\n",
    "cnt1 = 0\n",
    "cnt2 = 0\n",
    "cnt3 = 0\n",
    "cnt4 = 0\n",
    "# y_hat.shape : 2차원, y_test.shape : 1차원\n",
    "y_hat.reshape(-1)   # 1차원으로\n",
    "y_test.reshape(-1)  # 1차원으로\n",
    "for h, y in zip(y_hat.reshape(-1), y_test.reshape(-1)):\n",
    "    # print(h, y)\n",
    "    if h == 1.0 and y == 1.0:\n",
    "        cnt1 += 1\n",
    "    elif y == 1.0 and h == 0.0:\n",
    "        cnt2 += 1\n",
    "    elif y == 0.0 and h == 1.0:\n",
    "        cnt3 += 1\n",
    "    else:\n",
    "        cnt4 += 1\n",
    "print(cnt1, cnt2)\n",
    "print(cnt3, cnt4)"
   ]
  },
  {
   "cell_type": "code",
   "execution_count": 70,
   "id": "6c1879d8",
   "metadata": {
    "ExecuteTime": {
     "end_time": "2024-12-17T08:01:58.733709Z",
     "start_time": "2024-12-17T08:01:58.713304Z"
    }
   },
   "outputs": [
    {
     "data": {
      "text/html": [
       "<div>\n",
       "<style scoped>\n",
       "    .dataframe tbody tr th:only-of-type {\n",
       "        vertical-align: middle;\n",
       "    }\n",
       "\n",
       "    .dataframe tbody tr th {\n",
       "        vertical-align: top;\n",
       "    }\n",
       "\n",
       "    .dataframe thead th {\n",
       "        text-align: right;\n",
       "    }\n",
       "</style>\n",
       "<table border=\"1\" class=\"dataframe\">\n",
       "  <thead>\n",
       "    <tr style=\"text-align: right;\">\n",
       "      <th>예측값</th>\n",
       "      <th>0.0</th>\n",
       "      <th>1.0</th>\n",
       "    </tr>\n",
       "    <tr>\n",
       "      <th>실제값</th>\n",
       "      <th></th>\n",
       "      <th></th>\n",
       "    </tr>\n",
       "  </thead>\n",
       "  <tbody>\n",
       "    <tr>\n",
       "      <th>0.0</th>\n",
       "      <td>37</td>\n",
       "      <td>4</td>\n",
       "    </tr>\n",
       "    <tr>\n",
       "      <th>1.0</th>\n",
       "      <td>14</td>\n",
       "      <td>13</td>\n",
       "    </tr>\n",
       "  </tbody>\n",
       "</table>\n",
       "</div>"
      ],
      "text/plain": [
       "예측값  0.0  1.0\n",
       "실제값          \n",
       "0.0   37    4\n",
       "1.0   14   13"
      ]
     },
     "execution_count": 70,
     "metadata": {},
     "output_type": "execute_result"
    }
   ],
   "source": [
    "# 교차표를 만드는 함수\n",
    "#                  ┌ 1차원 실제값\n",
    "ctab = pd.crosstab(y_test, y_hat.reshape(-1))\n",
    "#                          └ 2차원->1차원 예측값\n",
    "ctab.index.name = '실제값'\n",
    "ctab.columns.name = '예측값'\n",
    "ctab"
   ]
  },
  {
   "cell_type": "markdown",
   "id": "89578f87",
   "metadata": {},
   "source": [
    "# 분류분석\n",
    "```\n",
    "1. 데이터셋 생성 및 전처리 : 훈련셋600, 검증셋100, 테스트셋68으로 분리, 종속변수의 원핫인코딩\n",
    "2. 모델생성(input 8, target 2) : 출력층에서의 활성화함수 'softmax'\n",
    "3. 모델학습과정 설정 (loss ='categorical_crossentropy' metrics=['accuracy']\n",
    "4. 학습 : validation_data=[X_val, y_val] 추가해서 학습\n",
    "5. 학습평가 : 그래프(hist.history.kes()를 확인후 4가지)\n",
    "               평가(X_test, Y_test)\n",
    "               교차표(pd.crosstab 이용\n",
    "6. 모델 사용하기 - 예측\n",
    "            0        1\n",
    "         0.9912   0.001234\n",
    "````"
   ]
  },
  {
   "cell_type": "code",
   "execution_count": 71,
   "id": "1200a36e",
   "metadata": {},
   "outputs": [],
   "source": [
    "import numpy as np\n",
    "import pandas as pd\n",
    "import sys\n",
    "from tensorflow.keras import utils  # utils.to_categorical\n",
    "from tensorflow.keras.models import Sequential    # 모델 생성\n",
    "from tensorflow.keras.layers import Dense, Input  # 모델에 layer 쌓기\n",
    "import matplotlib.pyplot as plt"
   ]
  },
  {
   "cell_type": "code",
   "execution_count": 73,
   "id": "21ebf241",
   "metadata": {},
   "outputs": [],
   "source": [
    "dataset = np.loadtxt('data/pima-indians-diabetes.csv', delimiter=',')"
   ]
  },
  {
   "cell_type": "markdown",
   "id": "0700b16f",
   "metadata": {},
   "source": [
    "## 1. 데이터셋 생성 및 전처리 : 훈련셋600, 검증셋100, 테스트셋68으로 분리, 종속변수의 원핫인코딩"
   ]
  },
  {
   "cell_type": "code",
   "execution_count": 90,
   "id": "601c4ec9",
   "metadata": {},
   "outputs": [
    {
     "data": {
      "text/plain": [
       "((600, 8), (600,), (100, 8), (100,), (700, 8), (700,))"
      ]
     },
     "execution_count": 90,
     "metadata": {},
     "output_type": "execute_result"
    }
   ],
   "source": [
    "X_train = dataset[:600, :-1]\n",
    "y_train = dataset[:600, -1]\n",
    "X_val = dataset[600:700, :-1]\n",
    "y_val = dataset[600:700, -1]\n",
    "X_test = dataset[:700, :-1]\n",
    "y_test = dataset[:700, -1]\n",
    "X_train.shape, y_train.shape, X_val.shape, y_val.shape, X_test.shape, y_test.shape"
   ]
  },
  {
   "cell_type": "code",
   "execution_count": 93,
   "id": "87ef33ba",
   "metadata": {},
   "outputs": [
    {
     "data": {
      "text/plain": [
       "((600, 2), (100, 2), (700, 2))"
      ]
     },
     "execution_count": 93,
     "metadata": {},
     "output_type": "execute_result"
    }
   ],
   "source": [
    "# 원핫인코딩\n",
    "Y_train = utils.to_categorical(y_train, 2)\n",
    "Y_val = utils.to_categorical(y_val, 2)\n",
    "Y_test = utils.to_categorical(y_test, 2)\n",
    "Y_train.shape, Y_val.shape, Y_test.shape"
   ]
  },
  {
   "cell_type": "markdown",
   "id": "875fc718",
   "metadata": {},
   "source": [
    "## 2. 모델생성(input 8, target 2) : 출력층에서의 활성화함수 'softmax'"
   ]
  },
  {
   "cell_type": "code",
   "execution_count": 94,
   "id": "1b359417",
   "metadata": {},
   "outputs": [
    {
     "name": "stdout",
     "output_type": "stream",
     "text": [
      "Model: \"sequential_10\"\n",
      "_________________________________________________________________\n",
      " Layer (type)                Output Shape              Param #   \n",
      "=================================================================\n",
      " dense_31 (Dense)            (None, 20)                180       \n",
      "                                                                 \n",
      " dense_32 (Dense)            (None, 10)                210       \n",
      "                                                                 \n",
      " dense_33 (Dense)            (None, 2)                 22        \n",
      "                                                                 \n",
      "=================================================================\n",
      "Total params: 412\n",
      "Trainable params: 412\n",
      "Non-trainable params: 0\n",
      "_________________________________________________________________\n"
     ]
    }
   ],
   "source": [
    "model = Sequential()\n",
    "model.add(Input(shape=(8,)))\n",
    "model.add(Dense(units=20, activation='relu'))\n",
    "model.add(Dense(units=10, activation='relu'))\n",
    "model.add(Dense(units=2, activation='softmax'))\n",
    "model.summary()"
   ]
  },
  {
   "cell_type": "markdown",
   "id": "df35d22a",
   "metadata": {},
   "source": [
    "## 3. 모델학습과정 설정 (loss ='categorical_crossentropy' metrics=['accuracy']"
   ]
  },
  {
   "cell_type": "code",
   "execution_count": 95,
   "id": "00dee2ed",
   "metadata": {},
   "outputs": [],
   "source": [
    "model.compile(loss='categorical_crossentropy', optimizer='adam', metrics=['accuracy'])"
   ]
  },
  {
   "cell_type": "markdown",
   "id": "359843a6",
   "metadata": {},
   "source": [
    "## 4. 학습 : validation_data=[X_val, y_val] 추가해서 학습"
   ]
  },
  {
   "cell_type": "code",
   "execution_count": 96,
   "id": "4200e9c8",
   "metadata": {},
   "outputs": [
    {
     "name": "stdout",
     "output_type": "stream",
     "text": [
      "Epoch 1/200\n",
      "19/19 [==============================] - 1s 13ms/step - loss: 19.4305 - accuracy: 0.6533 - val_loss: 11.7879 - val_accuracy: 0.6700\n",
      "Epoch 2/200\n",
      "19/19 [==============================] - 0s 5ms/step - loss: 8.0147 - accuracy: 0.6517 - val_loss: 2.3345 - val_accuracy: 0.6700\n",
      "Epoch 3/200\n",
      "19/19 [==============================] - 0s 5ms/step - loss: 2.5518 - accuracy: 0.4817 - val_loss: 1.5000 - val_accuracy: 0.7100\n",
      "Epoch 4/200\n",
      "19/19 [==============================] - 0s 6ms/step - loss: 1.7533 - accuracy: 0.5800 - val_loss: 1.2498 - val_accuracy: 0.6800\n",
      "Epoch 5/200\n",
      "19/19 [==============================] - 0s 6ms/step - loss: 1.3625 - accuracy: 0.5983 - val_loss: 1.0117 - val_accuracy: 0.6600\n",
      "Epoch 6/200\n",
      "19/19 [==============================] - 0s 5ms/step - loss: 1.1412 - accuracy: 0.6067 - val_loss: 0.8203 - val_accuracy: 0.7000\n",
      "Epoch 7/200\n",
      "19/19 [==============================] - 0s 5ms/step - loss: 0.9939 - accuracy: 0.6067 - val_loss: 0.7003 - val_accuracy: 0.7200\n",
      "Epoch 8/200\n",
      "19/19 [==============================] - 0s 6ms/step - loss: 0.8669 - accuracy: 0.6300 - val_loss: 0.6023 - val_accuracy: 0.7500\n",
      "Epoch 9/200\n",
      "19/19 [==============================] - 0s 5ms/step - loss: 0.7836 - accuracy: 0.6350 - val_loss: 0.5417 - val_accuracy: 0.7400\n",
      "Epoch 10/200\n",
      "19/19 [==============================] - 0s 6ms/step - loss: 0.7326 - accuracy: 0.6450 - val_loss: 0.5302 - val_accuracy: 0.7600\n",
      "Epoch 11/200\n",
      "19/19 [==============================] - 0s 6ms/step - loss: 0.7313 - accuracy: 0.6567 - val_loss: 0.6204 - val_accuracy: 0.7200\n",
      "Epoch 12/200\n",
      "19/19 [==============================] - 0s 6ms/step - loss: 0.7170 - accuracy: 0.6517 - val_loss: 0.5620 - val_accuracy: 0.7300\n",
      "Epoch 13/200\n",
      "19/19 [==============================] - 0s 6ms/step - loss: 0.6769 - accuracy: 0.6467 - val_loss: 0.5436 - val_accuracy: 0.7100\n",
      "Epoch 14/200\n",
      "19/19 [==============================] - 0s 5ms/step - loss: 0.6658 - accuracy: 0.6583 - val_loss: 0.5381 - val_accuracy: 0.7200\n",
      "Epoch 15/200\n",
      "19/19 [==============================] - 0s 6ms/step - loss: 0.6565 - accuracy: 0.6633 - val_loss: 0.6140 - val_accuracy: 0.7400\n",
      "Epoch 16/200\n",
      "19/19 [==============================] - 0s 6ms/step - loss: 0.6689 - accuracy: 0.6733 - val_loss: 0.5462 - val_accuracy: 0.7100\n",
      "Epoch 17/200\n",
      "19/19 [==============================] - 0s 6ms/step - loss: 0.6471 - accuracy: 0.6750 - val_loss: 0.5603 - val_accuracy: 0.7500\n",
      "Epoch 18/200\n",
      "19/19 [==============================] - 0s 5ms/step - loss: 0.6494 - accuracy: 0.6900 - val_loss: 0.5993 - val_accuracy: 0.7100\n",
      "Epoch 19/200\n",
      "19/19 [==============================] - 0s 5ms/step - loss: 0.6536 - accuracy: 0.6717 - val_loss: 0.5605 - val_accuracy: 0.7500\n",
      "Epoch 20/200\n",
      "19/19 [==============================] - 0s 9ms/step - loss: 0.6215 - accuracy: 0.6783 - val_loss: 0.5591 - val_accuracy: 0.6900\n",
      "Epoch 21/200\n",
      "19/19 [==============================] - 0s 6ms/step - loss: 0.6209 - accuracy: 0.6867 - val_loss: 0.5535 - val_accuracy: 0.7100\n",
      "Epoch 22/200\n",
      "19/19 [==============================] - 0s 6ms/step - loss: 0.6313 - accuracy: 0.6850 - val_loss: 0.5689 - val_accuracy: 0.6600\n",
      "Epoch 23/200\n",
      "19/19 [==============================] - 0s 6ms/step - loss: 0.6058 - accuracy: 0.7067 - val_loss: 0.5773 - val_accuracy: 0.6600\n",
      "Epoch 24/200\n",
      "19/19 [==============================] - 0s 6ms/step - loss: 0.6035 - accuracy: 0.7100 - val_loss: 0.5654 - val_accuracy: 0.6800\n",
      "Epoch 25/200\n",
      "19/19 [==============================] - 0s 5ms/step - loss: 0.5957 - accuracy: 0.7000 - val_loss: 0.5889 - val_accuracy: 0.6500\n",
      "Epoch 26/200\n",
      "19/19 [==============================] - 0s 6ms/step - loss: 0.6019 - accuracy: 0.6850 - val_loss: 0.5696 - val_accuracy: 0.6500\n",
      "Epoch 27/200\n",
      "19/19 [==============================] - 0s 6ms/step - loss: 0.5996 - accuracy: 0.7017 - val_loss: 0.5738 - val_accuracy: 0.6700\n",
      "Epoch 28/200\n",
      "19/19 [==============================] - 0s 6ms/step - loss: 0.5974 - accuracy: 0.7017 - val_loss: 0.6122 - val_accuracy: 0.7000\n",
      "Epoch 29/200\n",
      "19/19 [==============================] - 0s 5ms/step - loss: 0.5812 - accuracy: 0.7033 - val_loss: 0.5716 - val_accuracy: 0.6900\n",
      "Epoch 30/200\n",
      "19/19 [==============================] - 0s 5ms/step - loss: 0.5852 - accuracy: 0.6983 - val_loss: 0.5723 - val_accuracy: 0.6500\n",
      "Epoch 31/200\n",
      "19/19 [==============================] - 0s 5ms/step - loss: 0.5884 - accuracy: 0.7000 - val_loss: 0.5714 - val_accuracy: 0.7100\n",
      "Epoch 32/200\n",
      "19/19 [==============================] - 0s 5ms/step - loss: 0.5914 - accuracy: 0.7067 - val_loss: 0.5688 - val_accuracy: 0.6400\n",
      "Epoch 33/200\n",
      "19/19 [==============================] - 0s 5ms/step - loss: 0.6518 - accuracy: 0.6983 - val_loss: 0.7382 - val_accuracy: 0.6100\n",
      "Epoch 34/200\n",
      "19/19 [==============================] - 0s 6ms/step - loss: 0.6151 - accuracy: 0.7067 - val_loss: 0.5917 - val_accuracy: 0.7100\n",
      "Epoch 35/200\n",
      "19/19 [==============================] - 0s 6ms/step - loss: 0.5800 - accuracy: 0.7233 - val_loss: 0.5755 - val_accuracy: 0.6600\n",
      "Epoch 36/200\n",
      "19/19 [==============================] - 0s 6ms/step - loss: 0.6040 - accuracy: 0.6850 - val_loss: 0.6263 - val_accuracy: 0.7000\n",
      "Epoch 37/200\n",
      "19/19 [==============================] - 0s 6ms/step - loss: 0.6646 - accuracy: 0.6900 - val_loss: 0.5701 - val_accuracy: 0.6700\n",
      "Epoch 38/200\n",
      "19/19 [==============================] - 0s 6ms/step - loss: 0.5771 - accuracy: 0.7183 - val_loss: 0.5845 - val_accuracy: 0.7100\n",
      "Epoch 39/200\n",
      "19/19 [==============================] - 0s 4ms/step - loss: 0.5836 - accuracy: 0.7133 - val_loss: 0.5628 - val_accuracy: 0.6700\n",
      "Epoch 40/200\n",
      "19/19 [==============================] - 0s 6ms/step - loss: 0.5733 - accuracy: 0.7100 - val_loss: 0.5684 - val_accuracy: 0.6800\n",
      "Epoch 41/200\n",
      "19/19 [==============================] - 0s 5ms/step - loss: 0.5764 - accuracy: 0.7150 - val_loss: 0.5695 - val_accuracy: 0.7000\n",
      "Epoch 42/200\n",
      "19/19 [==============================] - 0s 6ms/step - loss: 0.5735 - accuracy: 0.7117 - val_loss: 0.5595 - val_accuracy: 0.6600\n",
      "Epoch 43/200\n",
      "19/19 [==============================] - 0s 6ms/step - loss: 0.5603 - accuracy: 0.7233 - val_loss: 0.5671 - val_accuracy: 0.6700\n",
      "Epoch 44/200\n",
      "19/19 [==============================] - 0s 6ms/step - loss: 0.5719 - accuracy: 0.7150 - val_loss: 0.5660 - val_accuracy: 0.6900\n",
      "Epoch 45/200\n",
      "19/19 [==============================] - 0s 6ms/step - loss: 0.5828 - accuracy: 0.7117 - val_loss: 0.5962 - val_accuracy: 0.6800\n",
      "Epoch 46/200\n",
      "19/19 [==============================] - 0s 6ms/step - loss: 0.5503 - accuracy: 0.7150 - val_loss: 0.5602 - val_accuracy: 0.6500\n",
      "Epoch 47/200\n",
      "19/19 [==============================] - 0s 6ms/step - loss: 0.5712 - accuracy: 0.7133 - val_loss: 0.6143 - val_accuracy: 0.7200\n",
      "Epoch 48/200\n",
      "19/19 [==============================] - 0s 6ms/step - loss: 0.5638 - accuracy: 0.7117 - val_loss: 0.5615 - val_accuracy: 0.6800\n",
      "Epoch 49/200\n",
      "19/19 [==============================] - 0s 6ms/step - loss: 0.5591 - accuracy: 0.7100 - val_loss: 0.5769 - val_accuracy: 0.6700\n",
      "Epoch 50/200\n",
      "19/19 [==============================] - 0s 5ms/step - loss: 0.5739 - accuracy: 0.7033 - val_loss: 0.5789 - val_accuracy: 0.7000\n",
      "Epoch 51/200\n",
      "19/19 [==============================] - 0s 5ms/step - loss: 0.5781 - accuracy: 0.7150 - val_loss: 0.5658 - val_accuracy: 0.6400\n",
      "Epoch 52/200\n",
      "19/19 [==============================] - 0s 5ms/step - loss: 0.5575 - accuracy: 0.7150 - val_loss: 0.5594 - val_accuracy: 0.7100\n",
      "Epoch 53/200\n",
      "19/19 [==============================] - 0s 6ms/step - loss: 0.5533 - accuracy: 0.7333 - val_loss: 0.5594 - val_accuracy: 0.6600\n",
      "Epoch 54/200\n",
      "19/19 [==============================] - 0s 5ms/step - loss: 0.5585 - accuracy: 0.7067 - val_loss: 0.5561 - val_accuracy: 0.6500\n",
      "Epoch 55/200\n",
      "19/19 [==============================] - 0s 6ms/step - loss: 0.5625 - accuracy: 0.7067 - val_loss: 0.5715 - val_accuracy: 0.7100\n",
      "Epoch 56/200\n",
      "19/19 [==============================] - 0s 6ms/step - loss: 0.5524 - accuracy: 0.7300 - val_loss: 0.5621 - val_accuracy: 0.7000\n",
      "Epoch 57/200\n",
      "19/19 [==============================] - 0s 6ms/step - loss: 0.5405 - accuracy: 0.7300 - val_loss: 0.5553 - val_accuracy: 0.6400\n",
      "Epoch 58/200\n",
      "19/19 [==============================] - 0s 6ms/step - loss: 0.5411 - accuracy: 0.7300 - val_loss: 0.5836 - val_accuracy: 0.6400\n"
     ]
    },
    {
     "name": "stdout",
     "output_type": "stream",
     "text": [
      "Epoch 59/200\n",
      "19/19 [==============================] - 0s 6ms/step - loss: 0.5511 - accuracy: 0.7317 - val_loss: 0.5597 - val_accuracy: 0.6700\n",
      "Epoch 60/200\n",
      "19/19 [==============================] - 0s 6ms/step - loss: 0.5412 - accuracy: 0.7267 - val_loss: 0.5546 - val_accuracy: 0.6600\n",
      "Epoch 61/200\n",
      "19/19 [==============================] - 0s 5ms/step - loss: 0.5642 - accuracy: 0.7200 - val_loss: 0.6149 - val_accuracy: 0.7200\n",
      "Epoch 62/200\n",
      "19/19 [==============================] - 0s 4ms/step - loss: 0.6145 - accuracy: 0.7100 - val_loss: 0.7571 - val_accuracy: 0.7200\n",
      "Epoch 63/200\n",
      "19/19 [==============================] - 0s 5ms/step - loss: 0.5947 - accuracy: 0.7050 - val_loss: 0.5618 - val_accuracy: 0.6400\n",
      "Epoch 64/200\n",
      "19/19 [==============================] - 0s 5ms/step - loss: 0.5400 - accuracy: 0.7317 - val_loss: 0.5662 - val_accuracy: 0.6900\n",
      "Epoch 65/200\n",
      "19/19 [==============================] - 0s 4ms/step - loss: 0.5762 - accuracy: 0.7067 - val_loss: 0.6274 - val_accuracy: 0.7200\n",
      "Epoch 66/200\n",
      "19/19 [==============================] - 0s 4ms/step - loss: 0.5554 - accuracy: 0.7283 - val_loss: 0.5728 - val_accuracy: 0.7200\n",
      "Epoch 67/200\n",
      "19/19 [==============================] - 0s 5ms/step - loss: 0.5480 - accuracy: 0.7217 - val_loss: 0.5547 - val_accuracy: 0.6600\n",
      "Epoch 68/200\n",
      "19/19 [==============================] - 0s 5ms/step - loss: 0.5331 - accuracy: 0.7333 - val_loss: 0.5610 - val_accuracy: 0.7000\n",
      "Epoch 69/200\n",
      "19/19 [==============================] - 0s 4ms/step - loss: 0.5431 - accuracy: 0.7367 - val_loss: 0.5842 - val_accuracy: 0.6900\n",
      "Epoch 70/200\n",
      "19/19 [==============================] - 0s 5ms/step - loss: 0.5727 - accuracy: 0.7083 - val_loss: 0.5778 - val_accuracy: 0.6600\n",
      "Epoch 71/200\n",
      "19/19 [==============================] - 0s 5ms/step - loss: 0.5473 - accuracy: 0.7267 - val_loss: 0.5494 - val_accuracy: 0.6800\n",
      "Epoch 72/200\n",
      "19/19 [==============================] - 0s 5ms/step - loss: 0.5318 - accuracy: 0.7417 - val_loss: 0.5630 - val_accuracy: 0.6500\n",
      "Epoch 73/200\n",
      "19/19 [==============================] - 0s 5ms/step - loss: 0.5505 - accuracy: 0.7250 - val_loss: 0.5733 - val_accuracy: 0.7000\n",
      "Epoch 74/200\n",
      "19/19 [==============================] - 0s 5ms/step - loss: 0.5543 - accuracy: 0.7183 - val_loss: 0.5512 - val_accuracy: 0.7000\n",
      "Epoch 75/200\n",
      "19/19 [==============================] - 0s 5ms/step - loss: 0.5320 - accuracy: 0.7417 - val_loss: 0.5814 - val_accuracy: 0.7200\n",
      "Epoch 76/200\n",
      "19/19 [==============================] - 0s 4ms/step - loss: 0.5271 - accuracy: 0.7367 - val_loss: 0.5579 - val_accuracy: 0.6500\n",
      "Epoch 77/200\n",
      "19/19 [==============================] - 0s 5ms/step - loss: 0.5573 - accuracy: 0.7233 - val_loss: 0.5602 - val_accuracy: 0.7100\n",
      "Epoch 78/200\n",
      "19/19 [==============================] - 0s 6ms/step - loss: 0.5401 - accuracy: 0.7400 - val_loss: 0.5691 - val_accuracy: 0.7000\n",
      "Epoch 79/200\n",
      "19/19 [==============================] - 0s 6ms/step - loss: 0.5359 - accuracy: 0.7333 - val_loss: 0.5496 - val_accuracy: 0.7000\n",
      "Epoch 80/200\n",
      "19/19 [==============================] - 0s 6ms/step - loss: 0.5214 - accuracy: 0.7483 - val_loss: 0.5553 - val_accuracy: 0.7000\n",
      "Epoch 81/200\n",
      "19/19 [==============================] - 0s 6ms/step - loss: 0.5475 - accuracy: 0.7317 - val_loss: 0.5457 - val_accuracy: 0.6500\n",
      "Epoch 82/200\n",
      "19/19 [==============================] - 0s 6ms/step - loss: 0.5574 - accuracy: 0.7333 - val_loss: 0.6274 - val_accuracy: 0.6600\n",
      "Epoch 83/200\n",
      "19/19 [==============================] - 0s 5ms/step - loss: 0.5816 - accuracy: 0.7150 - val_loss: 0.6216 - val_accuracy: 0.6400\n",
      "Epoch 84/200\n",
      "19/19 [==============================] - 0s 6ms/step - loss: 0.5452 - accuracy: 0.7233 - val_loss: 0.5642 - val_accuracy: 0.7100\n",
      "Epoch 85/200\n",
      "19/19 [==============================] - 0s 4ms/step - loss: 0.5311 - accuracy: 0.7433 - val_loss: 0.5629 - val_accuracy: 0.7000\n",
      "Epoch 86/200\n",
      "19/19 [==============================] - 0s 5ms/step - loss: 0.5325 - accuracy: 0.7317 - val_loss: 0.5529 - val_accuracy: 0.7200\n",
      "Epoch 87/200\n",
      "19/19 [==============================] - 0s 5ms/step - loss: 0.5273 - accuracy: 0.7533 - val_loss: 0.5441 - val_accuracy: 0.6800\n",
      "Epoch 88/200\n",
      "19/19 [==============================] - 0s 5ms/step - loss: 0.5198 - accuracy: 0.7500 - val_loss: 0.5435 - val_accuracy: 0.7000\n",
      "Epoch 89/200\n",
      "19/19 [==============================] - 0s 4ms/step - loss: 0.5375 - accuracy: 0.7250 - val_loss: 0.5820 - val_accuracy: 0.6600\n",
      "Epoch 90/200\n",
      "19/19 [==============================] - 0s 5ms/step - loss: 0.5161 - accuracy: 0.7567 - val_loss: 0.6240 - val_accuracy: 0.6500\n",
      "Epoch 91/200\n",
      "19/19 [==============================] - 0s 5ms/step - loss: 0.5218 - accuracy: 0.7483 - val_loss: 0.5402 - val_accuracy: 0.7000\n",
      "Epoch 92/200\n",
      "19/19 [==============================] - 0s 5ms/step - loss: 0.5150 - accuracy: 0.7417 - val_loss: 0.5416 - val_accuracy: 0.7000\n",
      "Epoch 93/200\n",
      "19/19 [==============================] - 0s 6ms/step - loss: 0.5189 - accuracy: 0.7500 - val_loss: 0.5456 - val_accuracy: 0.6800\n",
      "Epoch 94/200\n",
      "19/19 [==============================] - 0s 6ms/step - loss: 0.5108 - accuracy: 0.7400 - val_loss: 0.5376 - val_accuracy: 0.7000\n",
      "Epoch 95/200\n",
      "19/19 [==============================] - 0s 6ms/step - loss: 0.5163 - accuracy: 0.7433 - val_loss: 0.5575 - val_accuracy: 0.6700\n",
      "Epoch 96/200\n",
      "19/19 [==============================] - 0s 6ms/step - loss: 0.5049 - accuracy: 0.7517 - val_loss: 0.5605 - val_accuracy: 0.6400\n",
      "Epoch 97/200\n",
      "19/19 [==============================] - 0s 5ms/step - loss: 0.5277 - accuracy: 0.7483 - val_loss: 0.5430 - val_accuracy: 0.6700\n",
      "Epoch 98/200\n",
      "19/19 [==============================] - 0s 6ms/step - loss: 0.5166 - accuracy: 0.7350 - val_loss: 0.5431 - val_accuracy: 0.6800\n",
      "Epoch 99/200\n",
      "19/19 [==============================] - 0s 5ms/step - loss: 0.5119 - accuracy: 0.7483 - val_loss: 0.5372 - val_accuracy: 0.7100\n",
      "Epoch 100/200\n",
      "19/19 [==============================] - 0s 6ms/step - loss: 0.5212 - accuracy: 0.7217 - val_loss: 0.5552 - val_accuracy: 0.6600\n",
      "Epoch 101/200\n",
      "19/19 [==============================] - 0s 5ms/step - loss: 0.5258 - accuracy: 0.7433 - val_loss: 0.5522 - val_accuracy: 0.7200\n",
      "Epoch 102/200\n",
      "19/19 [==============================] - 0s 6ms/step - loss: 0.5073 - accuracy: 0.7583 - val_loss: 0.5404 - val_accuracy: 0.6600\n",
      "Epoch 103/200\n",
      "19/19 [==============================] - 0s 5ms/step - loss: 0.5241 - accuracy: 0.7433 - val_loss: 0.6056 - val_accuracy: 0.6400\n",
      "Epoch 104/200\n",
      "19/19 [==============================] - 0s 6ms/step - loss: 0.5608 - accuracy: 0.7450 - val_loss: 0.5590 - val_accuracy: 0.7000\n",
      "Epoch 105/200\n",
      "19/19 [==============================] - 0s 6ms/step - loss: 0.5295 - accuracy: 0.7450 - val_loss: 0.5358 - val_accuracy: 0.7100\n",
      "Epoch 106/200\n",
      "19/19 [==============================] - 0s 6ms/step - loss: 0.5108 - accuracy: 0.7517 - val_loss: 0.5434 - val_accuracy: 0.7200\n",
      "Epoch 107/200\n",
      "19/19 [==============================] - 0s 6ms/step - loss: 0.5159 - accuracy: 0.7400 - val_loss: 0.5597 - val_accuracy: 0.6900\n",
      "Epoch 108/200\n",
      "19/19 [==============================] - 0s 6ms/step - loss: 0.5052 - accuracy: 0.7533 - val_loss: 0.5342 - val_accuracy: 0.7000\n",
      "Epoch 109/200\n",
      "19/19 [==============================] - 0s 5ms/step - loss: 0.5148 - accuracy: 0.7617 - val_loss: 0.5463 - val_accuracy: 0.7200\n",
      "Epoch 110/200\n",
      "19/19 [==============================] - 0s 5ms/step - loss: 0.5040 - accuracy: 0.7650 - val_loss: 0.5334 - val_accuracy: 0.6800\n",
      "Epoch 111/200\n",
      "19/19 [==============================] - 0s 5ms/step - loss: 0.5034 - accuracy: 0.7500 - val_loss: 0.5296 - val_accuracy: 0.7100\n",
      "Epoch 112/200\n",
      "19/19 [==============================] - 0s 5ms/step - loss: 0.5103 - accuracy: 0.7567 - val_loss: 0.5480 - val_accuracy: 0.7000\n",
      "Epoch 113/200\n",
      "19/19 [==============================] - 0s 5ms/step - loss: 0.4991 - accuracy: 0.7583 - val_loss: 0.5428 - val_accuracy: 0.7200\n",
      "Epoch 114/200\n",
      "19/19 [==============================] - 0s 5ms/step - loss: 0.5102 - accuracy: 0.7483 - val_loss: 0.5423 - val_accuracy: 0.7100\n",
      "Epoch 115/200\n",
      "19/19 [==============================] - 0s 5ms/step - loss: 0.5097 - accuracy: 0.7383 - val_loss: 0.5296 - val_accuracy: 0.7100\n",
      "Epoch 116/200\n"
     ]
    },
    {
     "name": "stdout",
     "output_type": "stream",
     "text": [
      "19/19 [==============================] - 0s 6ms/step - loss: 0.4971 - accuracy: 0.7500 - val_loss: 0.5354 - val_accuracy: 0.6900\n",
      "Epoch 117/200\n",
      "19/19 [==============================] - 0s 5ms/step - loss: 0.4996 - accuracy: 0.7333 - val_loss: 0.5486 - val_accuracy: 0.6600\n",
      "Epoch 118/200\n",
      "19/19 [==============================] - 0s 5ms/step - loss: 0.5032 - accuracy: 0.7500 - val_loss: 0.5462 - val_accuracy: 0.7100\n",
      "Epoch 119/200\n",
      "19/19 [==============================] - 0s 5ms/step - loss: 0.5275 - accuracy: 0.7467 - val_loss: 0.5938 - val_accuracy: 0.6700\n",
      "Epoch 120/200\n",
      "19/19 [==============================] - 0s 5ms/step - loss: 0.5599 - accuracy: 0.7350 - val_loss: 0.5597 - val_accuracy: 0.6800\n",
      "Epoch 121/200\n",
      "19/19 [==============================] - 0s 5ms/step - loss: 0.5071 - accuracy: 0.7567 - val_loss: 0.6000 - val_accuracy: 0.7100\n",
      "Epoch 122/200\n",
      "19/19 [==============================] - 0s 6ms/step - loss: 0.5226 - accuracy: 0.7417 - val_loss: 0.5426 - val_accuracy: 0.7000\n",
      "Epoch 123/200\n",
      "19/19 [==============================] - 0s 5ms/step - loss: 0.5028 - accuracy: 0.7617 - val_loss: 0.5364 - val_accuracy: 0.7000\n",
      "Epoch 124/200\n",
      "19/19 [==============================] - 0s 5ms/step - loss: 0.4991 - accuracy: 0.7533 - val_loss: 0.5305 - val_accuracy: 0.6800\n",
      "Epoch 125/200\n",
      "19/19 [==============================] - 0s 5ms/step - loss: 0.5484 - accuracy: 0.7333 - val_loss: 0.5706 - val_accuracy: 0.7300\n",
      "Epoch 126/200\n",
      "19/19 [==============================] - 0s 5ms/step - loss: 0.5138 - accuracy: 0.7467 - val_loss: 0.5261 - val_accuracy: 0.7100\n",
      "Epoch 127/200\n",
      "19/19 [==============================] - 0s 5ms/step - loss: 0.5102 - accuracy: 0.7417 - val_loss: 0.5271 - val_accuracy: 0.7200\n",
      "Epoch 128/200\n",
      "19/19 [==============================] - 0s 5ms/step - loss: 0.5327 - accuracy: 0.7383 - val_loss: 0.5538 - val_accuracy: 0.7100\n",
      "Epoch 129/200\n",
      "19/19 [==============================] - 0s 4ms/step - loss: 0.5115 - accuracy: 0.7550 - val_loss: 0.5283 - val_accuracy: 0.7200\n",
      "Epoch 130/200\n",
      "19/19 [==============================] - 0s 5ms/step - loss: 0.4993 - accuracy: 0.7633 - val_loss: 0.5273 - val_accuracy: 0.7300\n",
      "Epoch 131/200\n",
      "19/19 [==============================] - 0s 6ms/step - loss: 0.5053 - accuracy: 0.7650 - val_loss: 0.5223 - val_accuracy: 0.7000\n",
      "Epoch 132/200\n",
      "19/19 [==============================] - 0s 5ms/step - loss: 0.5300 - accuracy: 0.7417 - val_loss: 0.5416 - val_accuracy: 0.7200\n",
      "Epoch 133/200\n",
      "19/19 [==============================] - 0s 5ms/step - loss: 0.5168 - accuracy: 0.7417 - val_loss: 0.5379 - val_accuracy: 0.7200\n",
      "Epoch 134/200\n",
      "19/19 [==============================] - 0s 5ms/step - loss: 0.4950 - accuracy: 0.7650 - val_loss: 0.5518 - val_accuracy: 0.6800\n",
      "Epoch 135/200\n",
      "19/19 [==============================] - 0s 5ms/step - loss: 0.5182 - accuracy: 0.7500 - val_loss: 0.5266 - val_accuracy: 0.7300\n",
      "Epoch 136/200\n",
      "19/19 [==============================] - 0s 5ms/step - loss: 0.5120 - accuracy: 0.7517 - val_loss: 0.5834 - val_accuracy: 0.7300\n",
      "Epoch 137/200\n",
      "19/19 [==============================] - 0s 5ms/step - loss: 0.5190 - accuracy: 0.7383 - val_loss: 0.5293 - val_accuracy: 0.7100\n",
      "Epoch 138/200\n",
      "19/19 [==============================] - 0s 5ms/step - loss: 0.4979 - accuracy: 0.7533 - val_loss: 0.5402 - val_accuracy: 0.7100\n",
      "Epoch 139/200\n",
      "19/19 [==============================] - 0s 5ms/step - loss: 0.4936 - accuracy: 0.7750 - val_loss: 0.5216 - val_accuracy: 0.7300\n",
      "Epoch 140/200\n",
      "19/19 [==============================] - 0s 5ms/step - loss: 0.5182 - accuracy: 0.7333 - val_loss: 0.5436 - val_accuracy: 0.7300\n",
      "Epoch 141/200\n",
      "19/19 [==============================] - 0s 5ms/step - loss: 0.5075 - accuracy: 0.7450 - val_loss: 0.5186 - val_accuracy: 0.7100\n",
      "Epoch 142/200\n",
      "19/19 [==============================] - 0s 6ms/step - loss: 0.4968 - accuracy: 0.7633 - val_loss: 0.5421 - val_accuracy: 0.7500\n",
      "Epoch 143/200\n",
      "19/19 [==============================] - 0s 5ms/step - loss: 0.4996 - accuracy: 0.7567 - val_loss: 0.5277 - val_accuracy: 0.7000\n",
      "Epoch 144/200\n",
      "19/19 [==============================] - 0s 6ms/step - loss: 0.4944 - accuracy: 0.7600 - val_loss: 0.5288 - val_accuracy: 0.7200\n",
      "Epoch 145/200\n",
      "19/19 [==============================] - 0s 5ms/step - loss: 0.4977 - accuracy: 0.7483 - val_loss: 0.5389 - val_accuracy: 0.7000\n",
      "Epoch 146/200\n",
      "19/19 [==============================] - 0s 6ms/step - loss: 0.4990 - accuracy: 0.7600 - val_loss: 0.5146 - val_accuracy: 0.7400\n",
      "Epoch 147/200\n",
      "19/19 [==============================] - 0s 5ms/step - loss: 0.4969 - accuracy: 0.7550 - val_loss: 0.5216 - val_accuracy: 0.7200\n",
      "Epoch 148/200\n",
      "19/19 [==============================] - 0s 4ms/step - loss: 0.4899 - accuracy: 0.7567 - val_loss: 0.5178 - val_accuracy: 0.7000\n",
      "Epoch 149/200\n",
      "19/19 [==============================] - 0s 5ms/step - loss: 0.5016 - accuracy: 0.7567 - val_loss: 0.5538 - val_accuracy: 0.7200\n",
      "Epoch 150/200\n",
      "19/19 [==============================] - 0s 5ms/step - loss: 0.5006 - accuracy: 0.7450 - val_loss: 0.5290 - val_accuracy: 0.6900\n",
      "Epoch 151/200\n",
      "19/19 [==============================] - 0s 5ms/step - loss: 0.5003 - accuracy: 0.7533 - val_loss: 0.5340 - val_accuracy: 0.7200\n",
      "Epoch 152/200\n",
      "19/19 [==============================] - 0s 5ms/step - loss: 0.5017 - accuracy: 0.7583 - val_loss: 0.5712 - val_accuracy: 0.7300\n",
      "Epoch 153/200\n",
      "19/19 [==============================] - 0s 5ms/step - loss: 0.4999 - accuracy: 0.7567 - val_loss: 0.5269 - val_accuracy: 0.7100\n",
      "Epoch 154/200\n",
      "19/19 [==============================] - 0s 6ms/step - loss: 0.4914 - accuracy: 0.7583 - val_loss: 0.5202 - val_accuracy: 0.7000\n",
      "Epoch 155/200\n",
      "19/19 [==============================] - 0s 5ms/step - loss: 0.5069 - accuracy: 0.7417 - val_loss: 0.5681 - val_accuracy: 0.7200\n",
      "Epoch 156/200\n",
      "19/19 [==============================] - 0s 6ms/step - loss: 0.4908 - accuracy: 0.7583 - val_loss: 0.5249 - val_accuracy: 0.7200\n",
      "Epoch 157/200\n",
      "19/19 [==============================] - 0s 5ms/step - loss: 0.4951 - accuracy: 0.7633 - val_loss: 0.5276 - val_accuracy: 0.6900\n",
      "Epoch 158/200\n",
      "19/19 [==============================] - 0s 5ms/step - loss: 0.4883 - accuracy: 0.7650 - val_loss: 0.5709 - val_accuracy: 0.6800\n",
      "Epoch 159/200\n",
      "19/19 [==============================] - 0s 5ms/step - loss: 0.4857 - accuracy: 0.7650 - val_loss: 0.5166 - val_accuracy: 0.7000\n",
      "Epoch 160/200\n",
      "19/19 [==============================] - 0s 5ms/step - loss: 0.4877 - accuracy: 0.7517 - val_loss: 0.5268 - val_accuracy: 0.7000\n",
      "Epoch 161/200\n",
      "19/19 [==============================] - 0s 5ms/step - loss: 0.4865 - accuracy: 0.7717 - val_loss: 0.5222 - val_accuracy: 0.7400\n",
      "Epoch 162/200\n",
      "19/19 [==============================] - 0s 6ms/step - loss: 0.4880 - accuracy: 0.7733 - val_loss: 0.5619 - val_accuracy: 0.7200\n",
      "Epoch 163/200\n",
      "19/19 [==============================] - 0s 5ms/step - loss: 0.4851 - accuracy: 0.7900 - val_loss: 0.5321 - val_accuracy: 0.7100\n",
      "Epoch 164/200\n",
      "19/19 [==============================] - 0s 5ms/step - loss: 0.4904 - accuracy: 0.7533 - val_loss: 0.5193 - val_accuracy: 0.7100\n",
      "Epoch 165/200\n",
      "19/19 [==============================] - 0s 4ms/step - loss: 0.4993 - accuracy: 0.7567 - val_loss: 0.5468 - val_accuracy: 0.7100\n",
      "Epoch 166/200\n",
      "19/19 [==============================] - 0s 5ms/step - loss: 0.4938 - accuracy: 0.7550 - val_loss: 0.5376 - val_accuracy: 0.6900\n",
      "Epoch 167/200\n",
      "19/19 [==============================] - 0s 5ms/step - loss: 0.4859 - accuracy: 0.7650 - val_loss: 0.5250 - val_accuracy: 0.7200\n",
      "Epoch 168/200\n",
      "19/19 [==============================] - 0s 5ms/step - loss: 0.4765 - accuracy: 0.7767 - val_loss: 0.6139 - val_accuracy: 0.6800\n",
      "Epoch 169/200\n",
      "19/19 [==============================] - 0s 5ms/step - loss: 0.4932 - accuracy: 0.7683 - val_loss: 0.5396 - val_accuracy: 0.7000\n",
      "Epoch 170/200\n",
      "19/19 [==============================] - 0s 5ms/step - loss: 0.4919 - accuracy: 0.7633 - val_loss: 0.5368 - val_accuracy: 0.7100\n",
      "Epoch 171/200\n",
      "19/19 [==============================] - 0s 5ms/step - loss: 0.4933 - accuracy: 0.7650 - val_loss: 0.6314 - val_accuracy: 0.7200\n",
      "Epoch 172/200\n",
      "19/19 [==============================] - 0s 6ms/step - loss: 0.5764 - accuracy: 0.7400 - val_loss: 0.5675 - val_accuracy: 0.7400\n",
      "Epoch 173/200\n"
     ]
    },
    {
     "name": "stdout",
     "output_type": "stream",
     "text": [
      "19/19 [==============================] - 0s 6ms/step - loss: 0.4917 - accuracy: 0.7533 - val_loss: 0.5315 - val_accuracy: 0.7200\n",
      "Epoch 174/200\n",
      "19/19 [==============================] - 0s 4ms/step - loss: 0.4822 - accuracy: 0.7667 - val_loss: 0.5232 - val_accuracy: 0.7200\n",
      "Epoch 175/200\n",
      "19/19 [==============================] - 0s 5ms/step - loss: 0.4851 - accuracy: 0.7550 - val_loss: 0.5425 - val_accuracy: 0.7100\n",
      "Epoch 176/200\n",
      "19/19 [==============================] - 0s 5ms/step - loss: 0.4951 - accuracy: 0.7567 - val_loss: 0.5195 - val_accuracy: 0.7100\n",
      "Epoch 177/200\n",
      "19/19 [==============================] - 0s 4ms/step - loss: 0.4768 - accuracy: 0.7750 - val_loss: 0.5211 - val_accuracy: 0.7100\n",
      "Epoch 178/200\n",
      "19/19 [==============================] - 0s 5ms/step - loss: 0.4821 - accuracy: 0.7667 - val_loss: 0.5085 - val_accuracy: 0.7300\n",
      "Epoch 179/200\n",
      "19/19 [==============================] - 0s 6ms/step - loss: 0.5021 - accuracy: 0.7467 - val_loss: 0.5477 - val_accuracy: 0.7000\n",
      "Epoch 180/200\n",
      "19/19 [==============================] - 0s 6ms/step - loss: 0.5194 - accuracy: 0.7517 - val_loss: 0.5225 - val_accuracy: 0.7000\n",
      "Epoch 181/200\n",
      "19/19 [==============================] - 0s 6ms/step - loss: 0.4763 - accuracy: 0.7667 - val_loss: 0.5265 - val_accuracy: 0.7200\n",
      "Epoch 182/200\n",
      "19/19 [==============================] - 0s 5ms/step - loss: 0.4728 - accuracy: 0.7700 - val_loss: 0.5148 - val_accuracy: 0.7400\n",
      "Epoch 183/200\n",
      "19/19 [==============================] - 0s 6ms/step - loss: 0.4798 - accuracy: 0.7583 - val_loss: 0.5128 - val_accuracy: 0.7300\n",
      "Epoch 184/200\n",
      "19/19 [==============================] - 0s 6ms/step - loss: 0.4856 - accuracy: 0.7583 - val_loss: 0.5356 - val_accuracy: 0.6900\n",
      "Epoch 185/200\n",
      "19/19 [==============================] - 0s 6ms/step - loss: 0.4909 - accuracy: 0.7700 - val_loss: 0.5774 - val_accuracy: 0.6800\n",
      "Epoch 186/200\n",
      "19/19 [==============================] - 0s 6ms/step - loss: 0.4792 - accuracy: 0.7683 - val_loss: 0.5187 - val_accuracy: 0.7400\n",
      "Epoch 187/200\n",
      "19/19 [==============================] - 0s 6ms/step - loss: 0.4819 - accuracy: 0.7750 - val_loss: 0.5490 - val_accuracy: 0.7000\n",
      "Epoch 188/200\n",
      "19/19 [==============================] - 0s 4ms/step - loss: 0.4751 - accuracy: 0.7667 - val_loss: 0.5204 - val_accuracy: 0.7200\n",
      "Epoch 189/200\n",
      "19/19 [==============================] - 0s 5ms/step - loss: 0.4794 - accuracy: 0.7567 - val_loss: 0.5559 - val_accuracy: 0.7300\n",
      "Epoch 190/200\n",
      "19/19 [==============================] - 0s 5ms/step - loss: 0.4890 - accuracy: 0.7683 - val_loss: 0.5152 - val_accuracy: 0.7100\n",
      "Epoch 191/200\n",
      "19/19 [==============================] - 0s 5ms/step - loss: 0.4767 - accuracy: 0.7667 - val_loss: 0.5089 - val_accuracy: 0.7500\n",
      "Epoch 192/200\n",
      "19/19 [==============================] - 0s 6ms/step - loss: 0.4708 - accuracy: 0.7650 - val_loss: 0.5084 - val_accuracy: 0.7500\n",
      "Epoch 193/200\n",
      "19/19 [==============================] - 0s 6ms/step - loss: 0.4696 - accuracy: 0.7483 - val_loss: 0.4998 - val_accuracy: 0.7500\n",
      "Epoch 194/200\n",
      "19/19 [==============================] - 0s 6ms/step - loss: 0.4821 - accuracy: 0.7667 - val_loss: 0.5294 - val_accuracy: 0.7100\n",
      "Epoch 195/200\n",
      "19/19 [==============================] - 0s 6ms/step - loss: 0.4689 - accuracy: 0.7800 - val_loss: 0.5152 - val_accuracy: 0.7400\n",
      "Epoch 196/200\n",
      "19/19 [==============================] - 0s 5ms/step - loss: 0.4670 - accuracy: 0.7783 - val_loss: 0.5156 - val_accuracy: 0.7400\n",
      "Epoch 197/200\n",
      "19/19 [==============================] - 0s 5ms/step - loss: 0.4700 - accuracy: 0.7667 - val_loss: 0.5230 - val_accuracy: 0.7200\n",
      "Epoch 198/200\n",
      "19/19 [==============================] - 0s 6ms/step - loss: 0.4998 - accuracy: 0.7533 - val_loss: 0.5107 - val_accuracy: 0.6900\n",
      "Epoch 199/200\n",
      "19/19 [==============================] - 0s 5ms/step - loss: 0.4804 - accuracy: 0.7650 - val_loss: 0.5677 - val_accuracy: 0.7000\n",
      "Epoch 200/200\n",
      "19/19 [==============================] - 0s 5ms/step - loss: 0.5083 - accuracy: 0.7450 - val_loss: 0.5155 - val_accuracy: 0.7600\n"
     ]
    }
   ],
   "source": [
    "hist = model.fit(X_train, Y_train, \n",
    "                 epochs=200,        \n",
    "                 validation_data=[X_val, Y_val],\n",
    "                 verbose=1\n",
    "                )"
   ]
  },
  {
   "cell_type": "markdown",
   "id": "b298f26b",
   "metadata": {},
   "source": [
    "## 5. 학습평가 : 그래프(hist.history.kes()를 확인후 4가지) 평가(X_test, Y_test) 교차표(pd.crosstab) 이용"
   ]
  },
  {
   "cell_type": "code",
   "execution_count": null,
   "id": "63e7f19f",
   "metadata": {},
   "outputs": [],
   "source": []
  },
  {
   "cell_type": "code",
   "execution_count": null,
   "id": "17483276",
   "metadata": {},
   "outputs": [],
   "source": []
  },
  {
   "cell_type": "code",
   "execution_count": null,
   "id": "4b3d7862",
   "metadata": {},
   "outputs": [],
   "source": []
  },
  {
   "cell_type": "code",
   "execution_count": null,
   "id": "8d67c4c5",
   "metadata": {},
   "outputs": [],
   "source": []
  },
  {
   "cell_type": "code",
   "execution_count": null,
   "id": "b219881a",
   "metadata": {},
   "outputs": [],
   "source": []
  },
  {
   "cell_type": "code",
   "execution_count": null,
   "id": "7ab8203f",
   "metadata": {},
   "outputs": [],
   "source": []
  },
  {
   "cell_type": "code",
   "execution_count": null,
   "id": "082ebd4e",
   "metadata": {},
   "outputs": [],
   "source": []
  },
  {
   "cell_type": "code",
   "execution_count": null,
   "id": "6f1591a4",
   "metadata": {},
   "outputs": [],
   "source": []
  },
  {
   "cell_type": "code",
   "execution_count": null,
   "id": "20c815b6",
   "metadata": {},
   "outputs": [],
   "source": []
  }
 ],
 "metadata": {
  "kernelspec": {
   "display_name": "Python 3 (ipykernel)",
   "language": "python",
   "name": "python3"
  },
  "language_info": {
   "codemirror_mode": {
    "name": "ipython",
    "version": 3
   },
   "file_extension": ".py",
   "mimetype": "text/x-python",
   "name": "python",
   "nbconvert_exporter": "python",
   "pygments_lexer": "ipython3",
   "version": "3.10.9"
  },
  "toc": {
   "base_numbering": 1,
   "nav_menu": {},
   "number_sections": true,
   "sideBar": true,
   "skip_h1_title": false,
   "title_cell": "Table of Contents",
   "title_sidebar": "Contents",
   "toc_cell": false,
   "toc_position": {
    "height": "calc(100% - 180px)",
    "left": "10px",
    "top": "150px",
    "width": "258.965px"
   },
   "toc_section_display": true,
   "toc_window_display": true
  }
 },
 "nbformat": 4,
 "nbformat_minor": 5
}
