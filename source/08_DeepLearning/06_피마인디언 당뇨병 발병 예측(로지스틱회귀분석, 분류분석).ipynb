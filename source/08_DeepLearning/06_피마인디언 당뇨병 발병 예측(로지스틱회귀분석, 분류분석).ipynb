{
 "cells": [
  {
   "cell_type": "code",
   "execution_count": 1,
   "id": "f779ed95",
   "metadata": {
    "ExecuteTime": {
     "end_time": "2024-12-18T00:22:40.444407Z",
     "start_time": "2024-12-18T00:22:40.431765Z"
    }
   },
   "outputs": [
    {
     "data": {
      "text/html": [
       "\n",
       "<style>\n",
       "div.container{width:80% !important;}\n",
       "div.prompt {min-width:70px;}\n",
       "div#toc-header{margin-top:150px;}\n",
       "span.toc-item-num{display:none;}\n",
       "div.CodeMirror {font-family:Consolas}\n",
       "div.input {font-family:Consolas}\n",
       "</style>\n"
      ],
      "text/plain": [
       "<IPython.core.display.HTML object>"
      ]
     },
     "metadata": {},
     "output_type": "display_data"
    }
   ],
   "source": [
    "from IPython.display import display, HTML\n",
    "\n",
    "display(\n",
    "    HTML(\"\"\"\n",
    "<style>\n",
    "div.container{width:80% !important;}\n",
    "div.prompt {min-width:70px;}\n",
    "div#toc-header{margin-top:150px;}\n",
    "span.toc-item-num{display:none;}\n",
    "div.CodeMirror {font-family:Consolas}\n",
    "div.input {font-family:Consolas}\n",
    "</style>\n",
    "\"\"\"))"
   ]
  },
  {
   "cell_type": "code",
   "execution_count": 2,
   "id": "df521b18",
   "metadata": {
    "ExecuteTime": {
     "end_time": "2024-12-18T00:22:59.260350Z",
     "start_time": "2024-12-18T00:22:40.447406Z"
    }
   },
   "outputs": [],
   "source": [
    "import numpy as np\n",
    "import pandas as pd\n",
    "import sys\n",
    "from tensorflow.keras import utils  # utils.to_categorical\n",
    "from tensorflow.keras.models import Sequential    # 모델 생성\n",
    "from tensorflow.keras.layers import Dense, Input  # 모델에 layer 쌓기\n",
    "import matplotlib.pyplot as plt"
   ]
  },
  {
   "cell_type": "markdown",
   "id": "6cee842a",
   "metadata": {},
   "source": [
    "# 로지스틱회귀분석(이진분류)\n",
    "## 1. 데이터셋 생성 & 전처리"
   ]
  },
  {
   "cell_type": "code",
   "execution_count": 3,
   "id": "94b2d0c4",
   "metadata": {
    "ExecuteTime": {
     "end_time": "2024-12-18T00:22:59.320612Z",
     "start_time": "2024-12-18T00:22:59.265189Z"
    }
   },
   "outputs": [
    {
     "name": "stdout",
     "output_type": "stream",
     "text": [
      "<class 'pandas.core.frame.DataFrame'>\n",
      "RangeIndex: 768 entries, 0 to 767\n",
      "Data columns (total 9 columns):\n",
      " #   Column  Non-Null Count  Dtype  \n",
      "---  ------  --------------  -----  \n",
      " 0   0       768 non-null    int64  \n",
      " 1   1       768 non-null    int64  \n",
      " 2   2       768 non-null    int64  \n",
      " 3   3       768 non-null    int64  \n",
      " 4   4       768 non-null    int64  \n",
      " 5   5       768 non-null    float64\n",
      " 6   6       768 non-null    float64\n",
      " 7   7       768 non-null    int64  \n",
      " 8   8       768 non-null    int64  \n",
      "dtypes: float64(2), int64(7)\n",
      "memory usage: 54.1 KB\n"
     ]
    },
    {
     "data": {
      "text/plain": [
       "(None,\n",
       " array([[  6.   , 148.   ,  72.   ,  35.   ,   0.   ,  33.6  ,   0.627,\n",
       "          50.   ,   1.   ],\n",
       "        [  1.   ,  85.   ,  66.   ,  29.   ,   0.   ,  26.6  ,   0.351,\n",
       "          31.   ,   0.   ]]))"
      ]
     },
     "execution_count": 3,
     "metadata": {},
     "output_type": "execute_result"
    }
   ],
   "source": [
    "df = pd.read_csv('data/pima-indians-diabetes.csv', comment='#', header=None)\n",
    "df.info(), df.values[:2]\n",
    "# 결측치가 없으므로, csv 파일을 바로 넘파이 배열로 읽어들일 예정"
   ]
  },
  {
   "cell_type": "code",
   "execution_count": 4,
   "id": "57440ec2",
   "metadata": {
    "ExecuteTime": {
     "end_time": "2024-12-18T00:22:59.336494Z",
     "start_time": "2024-12-18T00:22:59.320629Z"
    }
   },
   "outputs": [],
   "source": [
    "# np.set_printoptions(threshold=sys.maxsize)"
   ]
  },
  {
   "cell_type": "code",
   "execution_count": 5,
   "id": "af8982cc",
   "metadata": {
    "ExecuteTime": {
     "end_time": "2024-12-18T00:22:59.352435Z",
     "start_time": "2024-12-18T00:22:59.336807Z"
    }
   },
   "outputs": [],
   "source": [
    "# 1. 임신횟수\n",
    "# 2. 2시간내 포도당 농도\n",
    "# 3. 혈압\n",
    "# 4. 피부접힘 두께\n",
    "# 5. 인슐린수치\n",
    "# 6. BMI체질량지수\n",
    "# 7. 가족력\n",
    "# 8. 나이\n",
    "# 9. 당뇨병발병여부"
   ]
  },
  {
   "cell_type": "code",
   "execution_count": 6,
   "id": "031fcedf",
   "metadata": {
    "ExecuteTime": {
     "end_time": "2024-12-18T00:22:59.371865Z",
     "start_time": "2024-12-18T00:22:59.352435Z"
    }
   },
   "outputs": [
    {
     "data": {
      "text/plain": [
       "(768, 9)"
      ]
     },
     "execution_count": 6,
     "metadata": {},
     "output_type": "execute_result"
    }
   ],
   "source": [
    "# csv파일을 numpy배열로 읽어오기 np.loadtxt(), np.genfromtxt()  '#'이 있는 행은 제외하여 읽어옴\n",
    "dataset = np.loadtxt('data/pima-indians-diabetes.csv', delimiter=',',  # ','를 기준으로 분리\n",
    "                     )\n",
    "dataset.shape"
   ]
  },
  {
   "cell_type": "code",
   "execution_count": 7,
   "id": "ba16853c",
   "metadata": {
    "ExecuteTime": {
     "end_time": "2024-12-18T00:22:59.387257Z",
     "start_time": "2024-12-18T00:22:59.371990Z"
    }
   },
   "outputs": [
    {
     "data": {
      "text/plain": [
       "((700, 8), (700,), (68, 8), (68,))"
      ]
     },
     "execution_count": 7,
     "metadata": {},
     "output_type": "execute_result"
    }
   ],
   "source": [
    "# 학습데이터셋(학습용 데이터:train dataset) : 모델 학습 시 사용\n",
    "X_train = dataset[:700, :-1]  # 독립변수\n",
    "y_train = dataset[:700,  -1]  # 종속변수\n",
    "# 테스트데이터셋(시험용 데이터:test dataset) : 모델 평가 시 사용\n",
    "X_test = dataset[700:, :-1]\n",
    "y_test = dataset[700:,  -1]\n",
    "X_train.shape, y_train.shape, X_test.shape, y_test.shape"
   ]
  },
  {
   "cell_type": "markdown",
   "id": "8f569a45",
   "metadata": {},
   "source": [
    "## 2. 모델 구성"
   ]
  },
  {
   "cell_type": "code",
   "execution_count": 8,
   "id": "f2e0680d",
   "metadata": {
    "ExecuteTime": {
     "end_time": "2024-12-18T00:23:00.330554Z",
     "start_time": "2024-12-18T00:22:59.387257Z"
    }
   },
   "outputs": [
    {
     "name": "stdout",
     "output_type": "stream",
     "text": [
      "Model: \"sequential\"\n",
      "_________________________________________________________________\n",
      " Layer (type)                Output Shape              Param #   \n",
      "=================================================================\n",
      " dense (Dense)               (None, 12)                108       \n",
      "                                                                 \n",
      " dense_1 (Dense)             (None, 8)                 104       \n",
      "                                                                 \n",
      " dense_2 (Dense)             (None, 1)                 9         \n",
      "                                                                 \n",
      "=================================================================\n",
      "Total params: 221\n",
      "Trainable params: 221\n",
      "Non-trainable params: 0\n",
      "_________________________________________________________________\n"
     ]
    }
   ],
   "source": [
    "model = Sequential()\n",
    "model.add(Input(shape=(8, )))                    # 독립변수 8개 : 입력, 종속변수 1개 : 출력 \n",
    "model.add(Dense(units=12, activation='relu'))    # hidden layer  # units : 출력갯수\n",
    "model.add(Dense(units=8, activation='relu'))     # hidden layer  # units : 출력갯수\n",
    "model.add(Dense(units=1,  activation='sigmoid')) # 최종 출력층\n",
    "model.summary()"
   ]
  },
  {
   "cell_type": "markdown",
   "id": "f9da75c8",
   "metadata": {},
   "source": [
    "## 3. 학습과정 설정"
   ]
  },
  {
   "cell_type": "code",
   "execution_count": 9,
   "id": "15bfbd86",
   "metadata": {
    "ExecuteTime": {
     "end_time": "2024-12-18T00:23:00.369269Z",
     "start_time": "2024-12-18T00:23:00.333551Z"
    }
   },
   "outputs": [],
   "source": [
    "# model.compile(loss='binary_crossentropy', optimizer='adam', metrics=['accuracy'])\n",
    "model.compile(loss='binary_crossentropy', optimizer='adam', metrics=['binary_accuracy'])"
   ]
  },
  {
   "cell_type": "markdown",
   "id": "a71b9574",
   "metadata": {},
   "source": [
    "## 4. 학습"
   ]
  },
  {
   "cell_type": "code",
   "execution_count": 10,
   "id": "7fc41faa",
   "metadata": {
    "ExecuteTime": {
     "end_time": "2024-12-18T00:23:07.194605Z",
     "start_time": "2024-12-18T00:23:00.372834Z"
    }
   },
   "outputs": [
    {
     "name": "stdout",
     "output_type": "stream",
     "text": [
      "Epoch 1/200\n",
      "22/22 - 1s - loss: 7.5646 - binary_accuracy: 0.4429 - 800ms/epoch - 36ms/step\n",
      "Epoch 2/200\n",
      "22/22 - 0s - loss: 4.6644 - binary_accuracy: 0.4314 - 48ms/epoch - 2ms/step\n",
      "Epoch 3/200\n",
      "22/22 - 0s - loss: 2.9515 - binary_accuracy: 0.4457 - 30ms/epoch - 1ms/step\n",
      "Epoch 4/200\n",
      "22/22 - 0s - loss: 2.0034 - binary_accuracy: 0.4414 - 27ms/epoch - 1ms/step\n",
      "Epoch 5/200\n",
      "22/22 - 0s - loss: 1.4612 - binary_accuracy: 0.4557 - 27ms/epoch - 1ms/step\n",
      "Epoch 6/200\n",
      "22/22 - 0s - loss: 1.1295 - binary_accuracy: 0.4500 - 30ms/epoch - 1ms/step\n",
      "Epoch 7/200\n",
      "22/22 - 0s - loss: 0.9146 - binary_accuracy: 0.4429 - 29ms/epoch - 1ms/step\n",
      "Epoch 8/200\n",
      "22/22 - 0s - loss: 0.7941 - binary_accuracy: 0.4386 - 28ms/epoch - 1ms/step\n",
      "Epoch 9/200\n",
      "22/22 - 0s - loss: 0.7452 - binary_accuracy: 0.4429 - 28ms/epoch - 1ms/step\n",
      "Epoch 10/200\n",
      "22/22 - 0s - loss: 0.7076 - binary_accuracy: 0.4914 - 26ms/epoch - 1ms/step\n",
      "Epoch 11/200\n",
      "22/22 - 0s - loss: 0.6877 - binary_accuracy: 0.5686 - 27ms/epoch - 1ms/step\n",
      "Epoch 12/200\n",
      "22/22 - 0s - loss: 0.6746 - binary_accuracy: 0.6314 - 27ms/epoch - 1ms/step\n",
      "Epoch 13/200\n",
      "22/22 - 0s - loss: 0.6676 - binary_accuracy: 0.6529 - 27ms/epoch - 1ms/step\n",
      "Epoch 14/200\n",
      "22/22 - 0s - loss: 0.6587 - binary_accuracy: 0.6543 - 26ms/epoch - 1ms/step\n",
      "Epoch 15/200\n",
      "22/22 - 0s - loss: 0.6539 - binary_accuracy: 0.6614 - 27ms/epoch - 1ms/step\n",
      "Epoch 16/200\n",
      "22/22 - 0s - loss: 0.6502 - binary_accuracy: 0.6671 - 27ms/epoch - 1ms/step\n",
      "Epoch 17/200\n",
      "22/22 - 0s - loss: 0.6481 - binary_accuracy: 0.6586 - 27ms/epoch - 1ms/step\n",
      "Epoch 18/200\n",
      "22/22 - 0s - loss: 0.6446 - binary_accuracy: 0.6557 - 26ms/epoch - 1ms/step\n",
      "Epoch 19/200\n",
      "22/22 - 0s - loss: 0.6432 - binary_accuracy: 0.6586 - 28ms/epoch - 1ms/step\n",
      "Epoch 20/200\n",
      "22/22 - 0s - loss: 0.6439 - binary_accuracy: 0.6529 - 28ms/epoch - 1ms/step\n",
      "Epoch 21/200\n",
      "22/22 - 0s - loss: 0.6395 - binary_accuracy: 0.6571 - 16ms/epoch - 716us/step\n",
      "Epoch 22/200\n",
      "22/22 - 0s - loss: 0.6397 - binary_accuracy: 0.6500 - 25ms/epoch - 1ms/step\n",
      "Epoch 23/200\n",
      "22/22 - 0s - loss: 0.6377 - binary_accuracy: 0.6543 - 45ms/epoch - 2ms/step\n",
      "Epoch 24/200\n",
      "22/22 - 0s - loss: 0.6352 - binary_accuracy: 0.6514 - 29ms/epoch - 1ms/step\n",
      "Epoch 25/200\n",
      "22/22 - 0s - loss: 0.6343 - binary_accuracy: 0.6486 - 30ms/epoch - 1ms/step\n",
      "Epoch 26/200\n",
      "22/22 - 0s - loss: 0.6325 - binary_accuracy: 0.6529 - 15ms/epoch - 677us/step\n",
      "Epoch 27/200\n",
      "22/22 - 0s - loss: 0.6304 - binary_accuracy: 0.6514 - 26ms/epoch - 1ms/step\n",
      "Epoch 28/200\n",
      "22/22 - 0s - loss: 0.6288 - binary_accuracy: 0.6543 - 27ms/epoch - 1ms/step\n",
      "Epoch 29/200\n",
      "22/22 - 0s - loss: 0.6269 - binary_accuracy: 0.6529 - 27ms/epoch - 1ms/step\n",
      "Epoch 30/200\n",
      "22/22 - 0s - loss: 0.6252 - binary_accuracy: 0.6500 - 27ms/epoch - 1ms/step\n",
      "Epoch 31/200\n",
      "22/22 - 0s - loss: 0.6236 - binary_accuracy: 0.6557 - 29ms/epoch - 1ms/step\n",
      "Epoch 32/200\n",
      "22/22 - 0s - loss: 0.6233 - binary_accuracy: 0.6529 - 27ms/epoch - 1ms/step\n",
      "Epoch 33/200\n",
      "22/22 - 0s - loss: 0.6197 - binary_accuracy: 0.6529 - 15ms/epoch - 667us/step\n",
      "Epoch 34/200\n",
      "22/22 - 0s - loss: 0.6206 - binary_accuracy: 0.6586 - 28ms/epoch - 1ms/step\n",
      "Epoch 35/200\n",
      "22/22 - 0s - loss: 0.6183 - binary_accuracy: 0.6571 - 29ms/epoch - 1ms/step\n",
      "Epoch 36/200\n",
      "22/22 - 0s - loss: 0.6157 - binary_accuracy: 0.6571 - 26ms/epoch - 1ms/step\n",
      "Epoch 37/200\n",
      "22/22 - 0s - loss: 0.6151 - binary_accuracy: 0.6614 - 27ms/epoch - 1ms/step\n",
      "Epoch 38/200\n",
      "22/22 - 0s - loss: 0.6138 - binary_accuracy: 0.6586 - 27ms/epoch - 1ms/step\n",
      "Epoch 39/200\n",
      "22/22 - 0s - loss: 0.6126 - binary_accuracy: 0.6614 - 27ms/epoch - 1ms/step\n",
      "Epoch 40/200\n",
      "22/22 - 0s - loss: 0.6121 - binary_accuracy: 0.6571 - 27ms/epoch - 1ms/step\n",
      "Epoch 41/200\n",
      "22/22 - 0s - loss: 0.6121 - binary_accuracy: 0.6629 - 25ms/epoch - 1ms/step\n",
      "Epoch 42/200\n",
      "22/22 - 0s - loss: 0.6100 - binary_accuracy: 0.6614 - 30ms/epoch - 1ms/step\n",
      "Epoch 43/200\n",
      "22/22 - 0s - loss: 0.6120 - binary_accuracy: 0.6643 - 40ms/epoch - 2ms/step\n",
      "Epoch 44/200\n",
      "22/22 - 0s - loss: 0.6072 - binary_accuracy: 0.6671 - 28ms/epoch - 1ms/step\n",
      "Epoch 45/200\n",
      "22/22 - 0s - loss: 0.6070 - binary_accuracy: 0.6671 - 27ms/epoch - 1ms/step\n",
      "Epoch 46/200\n",
      "22/22 - 0s - loss: 0.6055 - binary_accuracy: 0.6671 - 27ms/epoch - 1ms/step\n",
      "Epoch 47/200\n",
      "22/22 - 0s - loss: 0.6024 - binary_accuracy: 0.6729 - 27ms/epoch - 1ms/step\n",
      "Epoch 48/200\n",
      "22/22 - 0s - loss: 0.6020 - binary_accuracy: 0.6700 - 31ms/epoch - 1ms/step\n",
      "Epoch 49/200\n",
      "22/22 - 0s - loss: 0.5994 - binary_accuracy: 0.6771 - 27ms/epoch - 1ms/step\n",
      "Epoch 50/200\n",
      "22/22 - 0s - loss: 0.5956 - binary_accuracy: 0.6786 - 27ms/epoch - 1ms/step\n",
      "Epoch 51/200\n",
      "22/22 - 0s - loss: 0.5979 - binary_accuracy: 0.6771 - 26ms/epoch - 1ms/step\n",
      "Epoch 52/200\n",
      "22/22 - 0s - loss: 0.5954 - binary_accuracy: 0.6814 - 27ms/epoch - 1ms/step\n",
      "Epoch 53/200\n",
      "22/22 - 0s - loss: 0.5942 - binary_accuracy: 0.6729 - 27ms/epoch - 1ms/step\n",
      "Epoch 54/200\n",
      "22/22 - 0s - loss: 0.5937 - binary_accuracy: 0.6786 - 26ms/epoch - 1ms/step\n",
      "Epoch 55/200\n",
      "22/22 - 0s - loss: 0.5916 - binary_accuracy: 0.6843 - 43ms/epoch - 2ms/step\n",
      "Epoch 56/200\n",
      "22/22 - 0s - loss: 0.5904 - binary_accuracy: 0.6843 - 15ms/epoch - 681us/step\n",
      "Epoch 57/200\n",
      "22/22 - 0s - loss: 0.5897 - binary_accuracy: 0.6843 - 23ms/epoch - 1ms/step\n",
      "Epoch 58/200\n",
      "22/22 - 0s - loss: 0.5886 - binary_accuracy: 0.6886 - 30ms/epoch - 1ms/step\n",
      "Epoch 59/200\n",
      "22/22 - 0s - loss: 0.5881 - binary_accuracy: 0.6914 - 19ms/epoch - 841us/step\n",
      "Epoch 60/200\n",
      "22/22 - 0s - loss: 0.5883 - binary_accuracy: 0.6886 - 33ms/epoch - 2ms/step\n",
      "Epoch 61/200\n",
      "22/22 - 0s - loss: 0.5862 - binary_accuracy: 0.6957 - 28ms/epoch - 1ms/step\n",
      "Epoch 62/200\n",
      "22/22 - 0s - loss: 0.5831 - binary_accuracy: 0.6786 - 20ms/epoch - 919us/step\n",
      "Epoch 63/200\n",
      "22/22 - 0s - loss: 0.5813 - binary_accuracy: 0.6829 - 33ms/epoch - 2ms/step\n",
      "Epoch 64/200\n",
      "22/22 - 0s - loss: 0.5794 - binary_accuracy: 0.6943 - 26ms/epoch - 1ms/step\n",
      "Epoch 65/200\n",
      "22/22 - 0s - loss: 0.5770 - binary_accuracy: 0.6900 - 19ms/epoch - 861us/step\n",
      "Epoch 66/200\n",
      "22/22 - 0s - loss: 0.5732 - binary_accuracy: 0.7071 - 34ms/epoch - 2ms/step\n",
      "Epoch 67/200\n",
      "22/22 - 0s - loss: 0.5753 - binary_accuracy: 0.6986 - 24ms/epoch - 1ms/step\n",
      "Epoch 68/200\n",
      "22/22 - 0s - loss: 0.5698 - binary_accuracy: 0.7057 - 24ms/epoch - 1ms/step\n",
      "Epoch 69/200\n",
      "22/22 - 0s - loss: 0.5698 - binary_accuracy: 0.7086 - 33ms/epoch - 2ms/step\n",
      "Epoch 70/200\n",
      "22/22 - 0s - loss: 0.5717 - binary_accuracy: 0.7157 - 29ms/epoch - 1ms/step\n",
      "Epoch 71/200\n",
      "22/22 - 0s - loss: 0.5681 - binary_accuracy: 0.7100 - 19ms/epoch - 868us/step\n",
      "Epoch 72/200\n",
      "22/22 - 0s - loss: 0.5689 - binary_accuracy: 0.7100 - 33ms/epoch - 2ms/step\n",
      "Epoch 73/200\n",
      "22/22 - 0s - loss: 0.5662 - binary_accuracy: 0.7043 - 28ms/epoch - 1ms/step\n",
      "Epoch 74/200\n",
      "22/22 - 0s - loss: 0.5664 - binary_accuracy: 0.7143 - 19ms/epoch - 884us/step\n",
      "Epoch 75/200\n",
      "22/22 - 0s - loss: 0.5636 - binary_accuracy: 0.7200 - 33ms/epoch - 2ms/step\n",
      "Epoch 76/200\n",
      "22/22 - 0s - loss: 0.5680 - binary_accuracy: 0.7029 - 30ms/epoch - 1ms/step\n",
      "Epoch 77/200\n",
      "22/22 - 0s - loss: 0.5622 - binary_accuracy: 0.7186 - 19ms/epoch - 853us/step\n",
      "Epoch 78/200\n",
      "22/22 - 0s - loss: 0.5628 - binary_accuracy: 0.7100 - 33ms/epoch - 2ms/step\n",
      "Epoch 79/200\n",
      "22/22 - 0s - loss: 0.5591 - binary_accuracy: 0.7186 - 29ms/epoch - 1ms/step\n",
      "Epoch 80/200\n",
      "22/22 - 0s - loss: 0.5609 - binary_accuracy: 0.7257 - 19ms/epoch - 884us/step\n",
      "Epoch 81/200\n",
      "22/22 - 0s - loss: 0.5595 - binary_accuracy: 0.7100 - 33ms/epoch - 2ms/step\n",
      "Epoch 82/200\n",
      "22/22 - 0s - loss: 0.5574 - binary_accuracy: 0.7243 - 29ms/epoch - 1ms/step\n",
      "Epoch 83/200\n",
      "22/22 - 0s - loss: 0.5648 - binary_accuracy: 0.7086 - 20ms/epoch - 887us/step\n",
      "Epoch 84/200\n",
      "22/22 - 0s - loss: 0.5593 - binary_accuracy: 0.7343 - 33ms/epoch - 2ms/step\n",
      "Epoch 85/200\n",
      "22/22 - 0s - loss: 0.5580 - binary_accuracy: 0.7100 - 28ms/epoch - 1ms/step\n",
      "Epoch 86/200\n",
      "22/22 - 0s - loss: 0.5584 - binary_accuracy: 0.7129 - 19ms/epoch - 886us/step\n",
      "Epoch 87/200\n",
      "22/22 - 0s - loss: 0.5565 - binary_accuracy: 0.7200 - 49ms/epoch - 2ms/step\n",
      "Epoch 88/200\n",
      "22/22 - 0s - loss: 0.5628 - binary_accuracy: 0.7114 - 26ms/epoch - 1ms/step\n",
      "Epoch 89/200\n",
      "22/22 - 0s - loss: 0.5592 - binary_accuracy: 0.7171 - 20ms/epoch - 931us/step\n",
      "Epoch 90/200\n",
      "22/22 - 0s - loss: 0.5543 - binary_accuracy: 0.7243 - 33ms/epoch - 1ms/step\n",
      "Epoch 91/200\n",
      "22/22 - 0s - loss: 0.5527 - binary_accuracy: 0.7200 - 26ms/epoch - 1ms/step\n",
      "Epoch 92/200\n",
      "22/22 - 0s - loss: 0.5494 - binary_accuracy: 0.7314 - 23ms/epoch - 1ms/step\n"
     ]
    },
    {
     "name": "stdout",
     "output_type": "stream",
     "text": [
      "Epoch 93/200\n",
      "22/22 - 0s - loss: 0.5480 - binary_accuracy: 0.7314 - 31ms/epoch - 1ms/step\n",
      "Epoch 94/200\n",
      "22/22 - 0s - loss: 0.5485 - binary_accuracy: 0.7271 - 15ms/epoch - 699us/step\n",
      "Epoch 95/200\n",
      "22/22 - 0s - loss: 0.5468 - binary_accuracy: 0.7343 - 33ms/epoch - 2ms/step\n",
      "Epoch 96/200\n",
      "22/22 - 0s - loss: 0.5535 - binary_accuracy: 0.7129 - 31ms/epoch - 1ms/step\n",
      "Epoch 97/200\n",
      "22/22 - 0s - loss: 0.5492 - binary_accuracy: 0.7300 - 17ms/epoch - 792us/step\n",
      "Epoch 98/200\n",
      "22/22 - 0s - loss: 0.5477 - binary_accuracy: 0.7371 - 35ms/epoch - 2ms/step\n",
      "Epoch 99/200\n",
      "22/22 - 0s - loss: 0.5469 - binary_accuracy: 0.7257 - 25ms/epoch - 1ms/step\n",
      "Epoch 100/200\n",
      "22/22 - 0s - loss: 0.5476 - binary_accuracy: 0.7214 - 18ms/epoch - 839us/step\n",
      "Epoch 101/200\n",
      "22/22 - 0s - loss: 0.5418 - binary_accuracy: 0.7314 - 33ms/epoch - 2ms/step\n",
      "Epoch 102/200\n",
      "22/22 - 0s - loss: 0.5445 - binary_accuracy: 0.7257 - 15ms/epoch - 679us/step\n",
      "Epoch 103/200\n",
      "22/22 - 0s - loss: 0.5444 - binary_accuracy: 0.7257 - 20ms/epoch - 914us/step\n",
      "Epoch 104/200\n",
      "22/22 - 0s - loss: 0.5454 - binary_accuracy: 0.7300 - 33ms/epoch - 2ms/step\n",
      "Epoch 105/200\n",
      "22/22 - 0s - loss: 0.5449 - binary_accuracy: 0.7329 - 29ms/epoch - 1ms/step\n",
      "Epoch 106/200\n",
      "22/22 - 0s - loss: 0.5465 - binary_accuracy: 0.7300 - 19ms/epoch - 859us/step\n",
      "Epoch 107/200\n",
      "22/22 - 0s - loss: 0.5417 - binary_accuracy: 0.7386 - 33ms/epoch - 2ms/step\n",
      "Epoch 108/200\n",
      "22/22 - 0s - loss: 0.5423 - binary_accuracy: 0.7400 - 15ms/epoch - 672us/step\n",
      "Epoch 109/200\n",
      "22/22 - 0s - loss: 0.5441 - binary_accuracy: 0.7271 - 21ms/epoch - 970us/step\n",
      "Epoch 110/200\n",
      "22/22 - 0s - loss: 0.5412 - binary_accuracy: 0.7243 - 32ms/epoch - 1ms/step\n",
      "Epoch 111/200\n",
      "22/22 - 0s - loss: 0.5363 - binary_accuracy: 0.7314 - 16ms/epoch - 714us/step\n",
      "Epoch 112/200\n",
      "22/22 - 0s - loss: 0.5407 - binary_accuracy: 0.7343 - 21ms/epoch - 943us/step\n",
      "Epoch 113/200\n",
      "22/22 - 0s - loss: 0.5355 - binary_accuracy: 0.7329 - 31ms/epoch - 1ms/step\n",
      "Epoch 114/200\n",
      "22/22 - 0s - loss: 0.5362 - binary_accuracy: 0.7386 - 18ms/epoch - 796us/step\n",
      "Epoch 115/200\n",
      "22/22 - 0s - loss: 0.5337 - binary_accuracy: 0.7429 - 33ms/epoch - 2ms/step\n",
      "Epoch 116/200\n",
      "22/22 - 0s - loss: 0.5323 - binary_accuracy: 0.7286 - 29ms/epoch - 1ms/step\n",
      "Epoch 117/200\n",
      "22/22 - 0s - loss: 0.5356 - binary_accuracy: 0.7329 - 19ms/epoch - 857us/step\n",
      "Epoch 118/200\n",
      "22/22 - 0s - loss: 0.5366 - binary_accuracy: 0.7329 - 32ms/epoch - 1ms/step\n",
      "Epoch 119/200\n",
      "22/22 - 0s - loss: 0.5357 - binary_accuracy: 0.7329 - 16ms/epoch - 706us/step\n",
      "Epoch 120/200\n",
      "22/22 - 0s - loss: 0.5322 - binary_accuracy: 0.7343 - 21ms/epoch - 932us/step\n",
      "Epoch 121/200\n",
      "22/22 - 0s - loss: 0.5304 - binary_accuracy: 0.7371 - 32ms/epoch - 1ms/step\n",
      "Epoch 122/200\n",
      "22/22 - 0s - loss: 0.5296 - binary_accuracy: 0.7400 - 17ms/epoch - 752us/step\n",
      "Epoch 123/200\n",
      "22/22 - 0s - loss: 0.5340 - binary_accuracy: 0.7371 - 21ms/epoch - 958us/step\n",
      "Epoch 124/200\n",
      "22/22 - 0s - loss: 0.5279 - binary_accuracy: 0.7386 - 29ms/epoch - 1ms/step\n",
      "Epoch 125/200\n",
      "22/22 - 0s - loss: 0.5268 - binary_accuracy: 0.7400 - 19ms/epoch - 843us/step\n",
      "Epoch 126/200\n",
      "22/22 - 0s - loss: 0.5284 - binary_accuracy: 0.7357 - 33ms/epoch - 2ms/step\n",
      "Epoch 127/200\n",
      "22/22 - 0s - loss: 0.5287 - binary_accuracy: 0.7371 - 29ms/epoch - 1ms/step\n",
      "Epoch 128/200\n",
      "22/22 - 0s - loss: 0.5264 - binary_accuracy: 0.7371 - 19ms/epoch - 878us/step\n",
      "Epoch 129/200\n",
      "22/22 - 0s - loss: 0.5307 - binary_accuracy: 0.7257 - 33ms/epoch - 2ms/step\n",
      "Epoch 130/200\n",
      "22/22 - 0s - loss: 0.5259 - binary_accuracy: 0.7329 - 32ms/epoch - 1ms/step\n",
      "Epoch 131/200\n",
      "22/22 - 0s - loss: 0.5300 - binary_accuracy: 0.7357 - 26ms/epoch - 1ms/step\n",
      "Epoch 132/200\n",
      "22/22 - 0s - loss: 0.5286 - binary_accuracy: 0.7286 - 34ms/epoch - 2ms/step\n",
      "Epoch 133/200\n",
      "22/22 - 0s - loss: 0.5262 - binary_accuracy: 0.7500 - 17ms/epoch - 792us/step\n",
      "Epoch 134/200\n",
      "22/22 - 0s - loss: 0.5319 - binary_accuracy: 0.7329 - 34ms/epoch - 2ms/step\n",
      "Epoch 135/200\n",
      "22/22 - 0s - loss: 0.5242 - binary_accuracy: 0.7529 - 30ms/epoch - 1ms/step\n",
      "Epoch 136/200\n",
      "22/22 - 0s - loss: 0.5249 - binary_accuracy: 0.7457 - 18ms/epoch - 802us/step\n",
      "Epoch 137/200\n",
      "22/22 - 0s - loss: 0.5259 - binary_accuracy: 0.7343 - 33ms/epoch - 2ms/step\n",
      "Epoch 138/200\n",
      "22/22 - 0s - loss: 0.5269 - binary_accuracy: 0.7314 - 29ms/epoch - 1ms/step\n",
      "Epoch 139/200\n",
      "22/22 - 0s - loss: 0.5217 - binary_accuracy: 0.7400 - 19ms/epoch - 870us/step\n",
      "Epoch 140/200\n",
      "22/22 - 0s - loss: 0.5271 - binary_accuracy: 0.7286 - 33ms/epoch - 1ms/step\n",
      "Epoch 141/200\n",
      "22/22 - 0s - loss: 0.5207 - binary_accuracy: 0.7371 - 30ms/epoch - 1ms/step\n",
      "Epoch 142/200\n",
      "22/22 - 0s - loss: 0.5225 - binary_accuracy: 0.7357 - 17ms/epoch - 762us/step\n",
      "Epoch 143/200\n",
      "22/22 - 0s - loss: 0.5163 - binary_accuracy: 0.7457 - 33ms/epoch - 2ms/step\n",
      "Epoch 144/200\n",
      "22/22 - 0s - loss: 0.5220 - binary_accuracy: 0.7429 - 29ms/epoch - 1ms/step\n",
      "Epoch 145/200\n",
      "22/22 - 0s - loss: 0.5305 - binary_accuracy: 0.7414 - 39ms/epoch - 2ms/step\n",
      "Epoch 146/200\n",
      "22/22 - 0s - loss: 0.5236 - binary_accuracy: 0.7371 - 24ms/epoch - 1ms/step\n",
      "Epoch 147/200\n",
      "22/22 - 0s - loss: 0.5186 - binary_accuracy: 0.7443 - 17ms/epoch - 756us/step\n",
      "Epoch 148/200\n",
      "22/22 - 0s - loss: 0.5164 - binary_accuracy: 0.7486 - 22ms/epoch - 982us/step\n",
      "Epoch 149/200\n",
      "22/22 - 0s - loss: 0.5166 - binary_accuracy: 0.7529 - 33ms/epoch - 2ms/step\n",
      "Epoch 150/200\n",
      "22/22 - 0s - loss: 0.5221 - binary_accuracy: 0.7371 - 25ms/epoch - 1ms/step\n",
      "Epoch 151/200\n",
      "22/22 - 0s - loss: 0.5176 - binary_accuracy: 0.7557 - 21ms/epoch - 950us/step\n",
      "Epoch 152/200\n",
      "22/22 - 0s - loss: 0.5151 - binary_accuracy: 0.7514 - 32ms/epoch - 1ms/step\n",
      "Epoch 153/200\n",
      "22/22 - 0s - loss: 0.5217 - binary_accuracy: 0.7343 - 16ms/epoch - 724us/step\n",
      "Epoch 154/200\n",
      "22/22 - 0s - loss: 0.5192 - binary_accuracy: 0.7414 - 22ms/epoch - 991us/step\n",
      "Epoch 155/200\n",
      "22/22 - 0s - loss: 0.5157 - binary_accuracy: 0.7486 - 30ms/epoch - 1ms/step\n",
      "Epoch 156/200\n",
      "22/22 - 0s - loss: 0.5184 - binary_accuracy: 0.7357 - 18ms/epoch - 816us/step\n",
      "Epoch 157/200\n",
      "22/22 - 0s - loss: 0.5202 - binary_accuracy: 0.7486 - 33ms/epoch - 2ms/step\n",
      "Epoch 158/200\n",
      "22/22 - 0s - loss: 0.5224 - binary_accuracy: 0.7414 - 29ms/epoch - 1ms/step\n",
      "Epoch 159/200\n",
      "22/22 - 0s - loss: 0.5193 - binary_accuracy: 0.7414 - 19ms/epoch - 869us/step\n",
      "Epoch 160/200\n",
      "22/22 - 0s - loss: 0.5249 - binary_accuracy: 0.7343 - 33ms/epoch - 2ms/step\n",
      "Epoch 161/200\n",
      "22/22 - 0s - loss: 0.5266 - binary_accuracy: 0.7386 - 28ms/epoch - 1ms/step\n",
      "Epoch 162/200\n",
      "22/22 - 0s - loss: 0.5203 - binary_accuracy: 0.7486 - 20ms/epoch - 912us/step\n",
      "Epoch 163/200\n",
      "22/22 - 0s - loss: 0.5212 - binary_accuracy: 0.7386 - 33ms/epoch - 1ms/step\n",
      "Epoch 164/200\n",
      "22/22 - 0s - loss: 0.5186 - binary_accuracy: 0.7371 - 25ms/epoch - 1ms/step\n",
      "Epoch 165/200\n",
      "22/22 - 0s - loss: 0.5180 - binary_accuracy: 0.7500 - 21ms/epoch - 964us/step\n",
      "Epoch 166/200\n",
      "22/22 - 0s - loss: 0.5188 - binary_accuracy: 0.7386 - 30ms/epoch - 1ms/step\n",
      "Epoch 167/200\n",
      "22/22 - 0s - loss: 0.5122 - binary_accuracy: 0.7371 - 17ms/epoch - 777us/step\n",
      "Epoch 168/200\n",
      "22/22 - 0s - loss: 0.5129 - binary_accuracy: 0.7486 - 23ms/epoch - 1ms/step\n",
      "Epoch 169/200\n",
      "22/22 - 0s - loss: 0.5161 - binary_accuracy: 0.7486 - 31ms/epoch - 1ms/step\n",
      "Epoch 170/200\n",
      "22/22 - 0s - loss: 0.5119 - binary_accuracy: 0.7514 - 17ms/epoch - 791us/step\n",
      "Epoch 171/200\n",
      "22/22 - 0s - loss: 0.5163 - binary_accuracy: 0.7500 - 23ms/epoch - 1ms/step\n",
      "Epoch 172/200\n",
      "22/22 - 0s - loss: 0.5164 - binary_accuracy: 0.7400 - 29ms/epoch - 1ms/step\n",
      "Epoch 173/200\n",
      "22/22 - 0s - loss: 0.5117 - binary_accuracy: 0.7386 - 19ms/epoch - 857us/step\n",
      "Epoch 174/200\n",
      "22/22 - 0s - loss: 0.5199 - binary_accuracy: 0.7386 - 45ms/epoch - 2ms/step\n",
      "Epoch 175/200\n",
      "22/22 - 0s - loss: 0.5097 - binary_accuracy: 0.7471 - 25ms/epoch - 1ms/step\n",
      "Epoch 176/200\n",
      "22/22 - 0s - loss: 0.5197 - binary_accuracy: 0.7443 - 21ms/epoch - 973us/step\n",
      "Epoch 177/200\n",
      "22/22 - 0s - loss: 0.5152 - binary_accuracy: 0.7429 - 32ms/epoch - 1ms/step\n",
      "Epoch 178/200\n",
      "22/22 - 0s - loss: 0.5091 - binary_accuracy: 0.7471 - 16ms/epoch - 743us/step\n",
      "Epoch 179/200\n",
      "22/22 - 0s - loss: 0.5087 - binary_accuracy: 0.7529 - 22ms/epoch - 1ms/step\n",
      "Epoch 180/200\n",
      "22/22 - 0s - loss: 0.5107 - binary_accuracy: 0.7486 - 30ms/epoch - 1ms/step\n",
      "Epoch 181/200\n",
      "22/22 - 0s - loss: 0.5144 - binary_accuracy: 0.7471 - 31ms/epoch - 1ms/step\n",
      "Epoch 182/200\n",
      "22/22 - 0s - loss: 0.5080 - binary_accuracy: 0.7457 - 35ms/epoch - 2ms/step\n",
      "Epoch 183/200\n",
      "22/22 - 0s - loss: 0.5141 - binary_accuracy: 0.7414 - 31ms/epoch - 1ms/step\n"
     ]
    },
    {
     "name": "stdout",
     "output_type": "stream",
     "text": [
      "Epoch 184/200\n",
      "22/22 - 0s - loss: 0.5099 - binary_accuracy: 0.7471 - 32ms/epoch - 1ms/step\n",
      "Epoch 185/200\n",
      "22/22 - 0s - loss: 0.5058 - binary_accuracy: 0.7500 - 33ms/epoch - 1ms/step\n",
      "Epoch 186/200\n",
      "22/22 - 0s - loss: 0.5078 - binary_accuracy: 0.7471 - 24ms/epoch - 1ms/step\n",
      "Epoch 187/200\n",
      "22/22 - 0s - loss: 0.5078 - binary_accuracy: 0.7500 - 21ms/epoch - 942us/step\n",
      "Epoch 188/200\n",
      "22/22 - 0s - loss: 0.5107 - binary_accuracy: 0.7414 - 33ms/epoch - 2ms/step\n",
      "Epoch 189/200\n",
      "22/22 - 0s - loss: 0.5073 - binary_accuracy: 0.7500 - 30ms/epoch - 1ms/step\n",
      "Epoch 190/200\n",
      "22/22 - 0s - loss: 0.5060 - binary_accuracy: 0.7429 - 18ms/epoch - 839us/step\n",
      "Epoch 191/200\n",
      "22/22 - 0s - loss: 0.5082 - binary_accuracy: 0.7486 - 34ms/epoch - 2ms/step\n",
      "Epoch 192/200\n",
      "22/22 - 0s - loss: 0.5082 - binary_accuracy: 0.7486 - 28ms/epoch - 1ms/step\n",
      "Epoch 193/200\n",
      "22/22 - 0s - loss: 0.5110 - binary_accuracy: 0.7529 - 20ms/epoch - 888us/step\n",
      "Epoch 194/200\n",
      "22/22 - 0s - loss: 0.5068 - binary_accuracy: 0.7429 - 32ms/epoch - 1ms/step\n",
      "Epoch 195/200\n",
      "22/22 - 0s - loss: 0.5072 - binary_accuracy: 0.7500 - 16ms/epoch - 711us/step\n",
      "Epoch 196/200\n",
      "22/22 - 0s - loss: 0.5040 - binary_accuracy: 0.7529 - 20ms/epoch - 913us/step\n",
      "Epoch 197/200\n",
      "22/22 - 0s - loss: 0.5113 - binary_accuracy: 0.7400 - 31ms/epoch - 1ms/step\n",
      "Epoch 198/200\n",
      "22/22 - 0s - loss: 0.5101 - binary_accuracy: 0.7500 - 17ms/epoch - 764us/step\n",
      "Epoch 199/200\n",
      "22/22 - 0s - loss: 0.5083 - binary_accuracy: 0.7486 - 33ms/epoch - 2ms/step\n",
      "Epoch 200/200\n",
      "22/22 - 0s - loss: 0.5040 - binary_accuracy: 0.7557 - 30ms/epoch - 1ms/step\n"
     ]
    }
   ],
   "source": [
    "hist = model.fit(X_train, y_train,  # 훈련(학습)데이터\n",
    "                 epochs=200,        # 300번 학습\n",
    "                 # batch_size=350,  # 350개씩 나눠서\n",
    "                 # validation_split=0.2,  # 검증데이터 비율(훈련데이터셋 중 20%를 검증용 데이터로)\n",
    "                 verbose=2\n",
    "                )"
   ]
  },
  {
   "cell_type": "markdown",
   "id": "eb5d4cc5",
   "metadata": {},
   "source": [
    "## 5. 모델 평가하기(학습과정 보기 및 평가)"
   ]
  },
  {
   "cell_type": "code",
   "execution_count": 11,
   "id": "d5daf12e",
   "metadata": {
    "ExecuteTime": {
     "end_time": "2024-12-18T00:23:07.206907Z",
     "start_time": "2024-12-18T00:23:07.197228Z"
    }
   },
   "outputs": [
    {
     "data": {
      "text/plain": [
       "dict_keys(['loss', 'binary_accuracy'])"
      ]
     },
     "execution_count": 11,
     "metadata": {},
     "output_type": "execute_result"
    }
   ],
   "source": [
    "hist.history.keys()"
   ]
  },
  {
   "cell_type": "code",
   "execution_count": 12,
   "id": "e02edd44",
   "metadata": {
    "ExecuteTime": {
     "end_time": "2024-12-18T00:23:07.733377Z",
     "start_time": "2024-12-18T00:23:07.215096Z"
    }
   },
   "outputs": [
    {
     "data": {
      "image/png": "[encoded data removed]",
      "text/plain": [
       "<Figure size 1000x500 with 2 Axes>"
      ]
     },
     "metadata": {},
     "output_type": "display_data"
    }
   ],
   "source": [
    "# 학습과정 보기(validation dataset 없는 경우)\n",
    "fig, loss_ax = plt.subplots(figsize=(10, 5))\n",
    "loss_ax.plot(hist.history['loss'], 'r', label='train loss')\n",
    "loss_ax.set_xlabel('epochs')\n",
    "loss_ax.set_ylabel('loss')\n",
    "acc_ax = loss_ax.twinx()\n",
    "acc_ax.plot(hist.history['binary_accuracy'], 'b', label='train accuracy')\n",
    "acc_ax.set_ylabel('accuracy')\n",
    "loss_ax.legend(loc='center right')\n",
    "acc_ax.legend(bbox_to_anchor=(0.999, 0.65))\n",
    "plt.show()"
   ]
  },
  {
   "cell_type": "code",
   "execution_count": 13,
   "id": "c22c90e3",
   "metadata": {
    "ExecuteTime": {
     "end_time": "2024-12-18T00:23:08.010176Z",
     "start_time": "2024-12-18T00:23:07.736591Z"
    }
   },
   "outputs": [
    {
     "name": "stdout",
     "output_type": "stream",
     "text": [
      "22/22 [==============================] - 0s 1ms/step - loss: 0.5059 - binary_accuracy: 0.7543\n"
     ]
    },
    {
     "data": {
      "text/plain": [
       "[0.5058916807174683, 0.7542856931686401]"
      ]
     },
     "execution_count": 13,
     "metadata": {},
     "output_type": "execute_result"
    }
   ],
   "source": [
    "# 모델 평가하기(X)\n",
    "model.evaluate(X_train, y_train)"
   ]
  },
  {
   "cell_type": "code",
   "execution_count": 14,
   "id": "bc703e22",
   "metadata": {
    "ExecuteTime": {
     "end_time": "2024-12-18T00:23:08.094612Z",
     "start_time": "2024-12-18T00:23:08.013175Z"
    }
   },
   "outputs": [
    {
     "name": "stdout",
     "output_type": "stream",
     "text": [
      "3/3 [==============================] - 0s 2ms/step - loss: 0.6702 - binary_accuracy: 0.6765\n",
      "loss : 0.6701579093933105, accuracy : 67.64705777168274%\n"
     ]
    }
   ],
   "source": [
    "# 모델 평가하기(O)\n",
    "score = model.evaluate(X_test, y_test)\n",
    "print('loss : {}, accuracy : {}%'.format(score[0], score[1]*100))"
   ]
  },
  {
   "cell_type": "markdown",
   "id": "7e55d5e9",
   "metadata": {},
   "source": [
    "## 6. 모델 사용하기"
   ]
  },
  {
   "cell_type": "code",
   "execution_count": 15,
   "id": "3ceebf8e",
   "metadata": {
    "ExecuteTime": {
     "end_time": "2024-12-18T00:23:08.104248Z",
     "start_time": "2024-12-18T00:23:08.096611Z"
    }
   },
   "outputs": [
    {
     "data": {
      "text/plain": [
       "(array([  6.   , 148.   ,  72.   ,  35.   ,   0.   ,  33.6  ,   0.627,\n",
       "         50.   ]),\n",
       " 0.0)"
      ]
     },
     "execution_count": 15,
     "metadata": {},
     "output_type": "execute_result"
    }
   ],
   "source": [
    "X_train[0], y_train[10]"
   ]
  },
  {
   "cell_type": "code",
   "execution_count": 16,
   "id": "949f5782",
   "metadata": {
    "ExecuteTime": {
     "end_time": "2024-12-18T00:23:08.291831Z",
     "start_time": "2024-12-18T00:23:08.107246Z"
    }
   },
   "outputs": [
    {
     "name": "stdout",
     "output_type": "stream",
     "text": [
      "1/1 [==============================] - 0s 127ms/step\n"
     ]
    },
    {
     "data": {
      "text/plain": [
       "array([[0.58471495]], dtype=float32)"
      ]
     },
     "execution_count": 16,
     "metadata": {},
     "output_type": "execute_result"
    }
   ],
   "source": [
    "model.predict([[6, 148, 72, 35, 0, 33.6, 0.6, 50]])"
   ]
  },
  {
   "cell_type": "code",
   "execution_count": 17,
   "id": "aac48249",
   "metadata": {
    "ExecuteTime": {
     "end_time": "2024-12-18T00:23:08.382207Z",
     "start_time": "2024-12-18T00:23:08.293830Z"
    }
   },
   "outputs": [
    {
     "name": "stdout",
     "output_type": "stream",
     "text": [
      "1/1 [==============================] - 0s 41ms/step\n"
     ]
    },
    {
     "data": {
      "text/plain": [
       "array([[ True]])"
      ]
     },
     "execution_count": 17,
     "metadata": {},
     "output_type": "execute_result"
    }
   ],
   "source": [
    "model.predict([[6, 148, 72, 35, 0, 33.6, 0.6, 50]]) >= 0.5"
   ]
  },
  {
   "cell_type": "code",
   "execution_count": 18,
   "id": "9b958785",
   "metadata": {
    "ExecuteTime": {
     "end_time": "2024-12-18T00:23:08.484486Z",
     "start_time": "2024-12-18T00:23:08.384206Z"
    }
   },
   "outputs": [
    {
     "name": "stdout",
     "output_type": "stream",
     "text": [
      "1/1 [==============================] - 0s 44ms/step\n"
     ]
    },
    {
     "data": {
      "text/plain": [
       "array([[1],\n",
       "       [1]])"
      ]
     },
     "execution_count": 18,
     "metadata": {},
     "output_type": "execute_result"
    }
   ],
   "source": [
    "(model.predict([[6, 148, 72, 35, 0, 33.6, 0.6, 50],\n",
    "               [6, 148, 72, 35, 0, 33.6, 0.6, 45]]) >= 0.5).astype(int)"
   ]
  },
  {
   "cell_type": "code",
   "execution_count": 19,
   "id": "3fd8783e",
   "metadata": {
    "ExecuteTime": {
     "end_time": "2024-12-18T00:23:08.581154Z",
     "start_time": "2024-12-18T00:23:08.486624Z"
    }
   },
   "outputs": [
    {
     "name": "stdout",
     "output_type": "stream",
     "text": [
      "1/1 [==============================] - 0s 40ms/step\n"
     ]
    },
    {
     "data": {
      "text/plain": [
       "array([[1.]], dtype=float32)"
      ]
     },
     "execution_count": 19,
     "metadata": {},
     "output_type": "execute_result"
    }
   ],
   "source": [
    "model.predict([[6, 148, 72, 35, 0, 33.6, 0.6, 50]]).round()"
   ]
  },
  {
   "cell_type": "markdown",
   "id": "b42a7c25",
   "metadata": {},
   "source": [
    "## 7. 교차표\n",
    " - 테스트 데이터셋의 실제값(y_test)과 예측값"
   ]
  },
  {
   "cell_type": "code",
   "execution_count": 20,
   "id": "20e38a9a",
   "metadata": {
    "ExecuteTime": {
     "end_time": "2024-12-18T00:23:08.591651Z",
     "start_time": "2024-12-18T00:23:08.583154Z"
    }
   },
   "outputs": [
    {
     "data": {
      "text/plain": [
       "array([0., 1., 1., 0., 0., 0., 1., 0., 1., 1., 0., 0., 1., 0., 0., 1., 1.,\n",
       "       0., 0., 1., 0., 0., 1., 0., 0., 0., 0., 0., 0., 0., 1., 1., 1., 0.,\n",
       "       0., 0., 0., 0., 0., 1., 1., 0., 0., 1., 0., 0., 1., 0., 1., 1., 1.,\n",
       "       0., 0., 1., 1., 1., 0., 1., 0., 1., 0., 1., 0., 0., 0., 0., 1., 0.])"
      ]
     },
     "execution_count": 20,
     "metadata": {},
     "output_type": "execute_result"
    }
   ],
   "source": [
    "y_test"
   ]
  },
  {
   "cell_type": "code",
   "execution_count": 21,
   "id": "96903699",
   "metadata": {
    "ExecuteTime": {
     "end_time": "2024-12-18T00:23:08.703234Z",
     "start_time": "2024-12-18T00:23:08.593282Z"
    },
    "scrolled": true
   },
   "outputs": [
    {
     "name": "stdout",
     "output_type": "stream",
     "text": [
      "3/3 [==============================] - 0s 2ms/step\n",
      "8 19\n",
      "3 38\n"
     ]
    }
   ],
   "source": [
    "y_hat = (model.predict(X_test) >= 0.5).astype(float)  # X_test : 2차원 배열\n",
    "cnt1 = 0\n",
    "cnt2 = 0\n",
    "cnt3 = 0\n",
    "cnt4 = 0\n",
    "# y_hat.shape : 2차원, y_test.shape : 1차원\n",
    "y_hat.reshape(-1)   # 1차원으로\n",
    "y_test.reshape(-1)  # 1차원으로\n",
    "for h, y in zip(y_hat.reshape(-1), y_test.reshape(-1)):\n",
    "    # print(h, y)\n",
    "    if h == 1.0 and y == 1.0:\n",
    "        cnt1 += 1\n",
    "    elif y == 1.0 and h == 0.0:\n",
    "        cnt2 += 1\n",
    "    elif y == 0.0 and h == 1.0:\n",
    "        cnt3 += 1\n",
    "    else:\n",
    "        cnt4 += 1\n",
    "print(cnt1, cnt2)\n",
    "print(cnt3, cnt4)"
   ]
  },
  {
   "cell_type": "code",
   "execution_count": 22,
   "id": "dbce25f5",
   "metadata": {
    "ExecuteTime": {
     "end_time": "2024-12-18T00:23:08.750575Z",
     "start_time": "2024-12-18T00:23:08.706232Z"
    }
   },
   "outputs": [
    {
     "data": {
      "text/html": [
       "<div>\n",
       "<style scoped>\n",
       "    .dataframe tbody tr th:only-of-type {\n",
       "        vertical-align: middle;\n",
       "    }\n",
       "\n",
       "    .dataframe tbody tr th {\n",
       "        vertical-align: top;\n",
       "    }\n",
       "\n",
       "    .dataframe thead th {\n",
       "        text-align: right;\n",
       "    }\n",
       "</style>\n",
       "<table border=\"1\" class=\"dataframe\">\n",
       "  <thead>\n",
       "    <tr style=\"text-align: right;\">\n",
       "      <th>예측값</th>\n",
       "      <th>0.0</th>\n",
       "      <th>1.0</th>\n",
       "    </tr>\n",
       "    <tr>\n",
       "      <th>실제값</th>\n",
       "      <th></th>\n",
       "      <th></th>\n",
       "    </tr>\n",
       "  </thead>\n",
       "  <tbody>\n",
       "    <tr>\n",
       "      <th>0.0</th>\n",
       "      <td>38</td>\n",
       "      <td>3</td>\n",
       "    </tr>\n",
       "    <tr>\n",
       "      <th>1.0</th>\n",
       "      <td>19</td>\n",
       "      <td>8</td>\n",
       "    </tr>\n",
       "  </tbody>\n",
       "</table>\n",
       "</div>"
      ],
      "text/plain": [
       "예측값  0.0  1.0\n",
       "실제값          \n",
       "0.0   38    3\n",
       "1.0   19    8"
      ]
     },
     "execution_count": 22,
     "metadata": {},
     "output_type": "execute_result"
    }
   ],
   "source": [
    "# 교차표를 만드는 함수\n",
    "#                  ┌ 1차원 실제값\n",
    "ctab = pd.crosstab(y_test, y_hat.reshape(-1))\n",
    "#                          └ 2차원->1차원 예측값\n",
    "ctab.index.name   = '실제값'\n",
    "ctab.columns.name = '예측값'\n",
    "ctab"
   ]
  },
  {
   "cell_type": "markdown",
   "id": "118c33e8",
   "metadata": {},
   "source": [
    "# 분류분석\n",
    "1. 데이터셋 생성 및 전처리 : 훈련셋600, 검증셋100, 테스트셋68으로 분리, 종속변수의 원핫인코딩\n",
    "2. 모델 생성(input 8, target 2(0, 1)) : 출력층에서의 활성화함수 'softmax' <br>\n",
    " model.summary()에서 파라미터 수 확인\n",
    "3. 모델 학습과정 설정 : loss='categorical_crossentropy', metrics=['accuracy'] (다중분류)\n",
    "4. 모델 학습 : validation_data=[X_val, Y_val] 추가해서 학습\n",
    "5. 모델 학습평가 <br>\n",
    " 5-1 그래프(hist.history.keys()를 확인 후 4가지) <br>\n",
    " 5-2 평가(X_test, Y_test) <br>\n",
    " 5-3 교차표(pd.crosstab 이용)\n",
    "6. 모델 사용하기 - 예측 <br>\n",
    "    0      1         <br>\n",
    "    0.9912 0.00124"
   ]
  },
  {
   "cell_type": "code",
   "execution_count": 23,
   "id": "6b096c46",
   "metadata": {
    "ExecuteTime": {
     "end_time": "2024-12-18T00:23:08.759570Z",
     "start_time": "2024-12-18T00:23:08.753572Z"
    }
   },
   "outputs": [],
   "source": [
    "import numpy as np\n",
    "import sys\n",
    "from tensorflow.keras import utils  # utils.to_categorical\n",
    "from tensorflow.keras.models import Sequential    # 모델 생성\n",
    "from tensorflow.keras.layers import Dense, Input  # 모델에 layer 쌓기\n",
    "import matplotlib.pyplot as plt"
   ]
  },
  {
   "cell_type": "markdown",
   "id": "c65e92b5",
   "metadata": {},
   "source": [
    "## 1.  데이터셋 생성 및 전처리"
   ]
  },
  {
   "cell_type": "code",
   "execution_count": 24,
   "id": "2f813f81",
   "metadata": {
    "ExecuteTime": {
     "end_time": "2024-12-18T00:23:08.772865Z",
     "start_time": "2024-12-18T00:23:08.762570Z"
    }
   },
   "outputs": [
    {
     "data": {
      "text/plain": [
       "(768, 9)"
      ]
     },
     "execution_count": 24,
     "metadata": {},
     "output_type": "execute_result"
    }
   ],
   "source": [
    "# 1. 데이터셋 생성 및 전처리 : 훈련셋600, 검증셋100, 테스트셋68으로 분리, 종속변수의 원핫인코딩\n",
    "dataset = np.loadtxt('data/pima-indians-diabetes.csv', delimiter=',')\n",
    "dataset.shape"
   ]
  },
  {
   "cell_type": "code",
   "execution_count": 25,
   "id": "7a0f5d9c",
   "metadata": {
    "ExecuteTime": {
     "end_time": "2024-12-18T00:23:08.786514Z",
     "start_time": "2024-12-18T00:23:08.774863Z"
    }
   },
   "outputs": [
    {
     "data": {
      "text/plain": [
       "((600, 8), (600,), (100, 8), (100,), (68, 8), (68,))"
      ]
     },
     "execution_count": 25,
     "metadata": {},
     "output_type": "execute_result"
    }
   ],
   "source": [
    "X_train = dataset[:600, :-1]\n",
    "Y_train = dataset[:600, -1]\n",
    "X_val   = dataset[600:700, :-1]\n",
    "Y_val   = dataset[600:700, -1]\n",
    "X_test  = dataset[700:, :-1]\n",
    "Y_test  = dataset[700:, -1]\n",
    "X_train.shape, Y_train.shape, X_val.shape, Y_val.shape, X_test.shape, Y_test.shape"
   ]
  },
  {
   "cell_type": "code",
   "execution_count": 26,
   "id": "f3cb98c5",
   "metadata": {
    "ExecuteTime": {
     "end_time": "2024-12-18T00:23:08.797511Z",
     "start_time": "2024-12-18T00:23:08.789513Z"
    }
   },
   "outputs": [
    {
     "data": {
      "text/plain": [
       "((600, 8), (600, 2), (100, 8), (100, 2), (68, 8), (68, 2))"
      ]
     },
     "execution_count": 26,
     "metadata": {},
     "output_type": "execute_result"
    }
   ],
   "source": [
    "# Y_train = pd.get_dummies(Y_train).values\n",
    "Y_train = utils.to_categorical(Y_train)  # Y가 숫자라서 바로 to_categorical 사용 가능(문자 시 라벨인코딩 -> 원핫인코딩)\n",
    "Y_val   = utils.to_categorical(Y_val)\n",
    "Y_test  = utils.to_categorical(Y_test)\n",
    "X_train.shape, Y_train.shape, X_val.shape, Y_val.shape, X_test.shape, Y_test.shape"
   ]
  },
  {
   "cell_type": "markdown",
   "id": "34dad689",
   "metadata": {},
   "source": [
    "## 2. 모델생성(input 8, target 2)"
   ]
  },
  {
   "cell_type": "code",
   "execution_count": 27,
   "id": "04b15304",
   "metadata": {
    "ExecuteTime": {
     "end_time": "2024-12-18T00:23:08.869820Z",
     "start_time": "2024-12-18T00:23:08.798949Z"
    }
   },
   "outputs": [
    {
     "name": "stdout",
     "output_type": "stream",
     "text": [
      "Model: \"sequential_1\"\n",
      "_________________________________________________________________\n",
      " Layer (type)                Output Shape              Param #   \n",
      "=================================================================\n",
      " dense_3 (Dense)             (None, 12)                108       \n",
      "                                                                 \n",
      " dense_4 (Dense)             (None, 8)                 104       \n",
      "                                                                 \n",
      " dense_5 (Dense)             (None, 2)                 18        \n",
      "                                                                 \n",
      "=================================================================\n",
      "Total params: 230\n",
      "Trainable params: 230\n",
      "Non-trainable params: 0\n",
      "_________________________________________________________________\n",
      "None\n"
     ]
    }
   ],
   "source": [
    "# 2. 모델 생성(input 8, target 2(0, 1)) : 출력층에서의 활성화함수 'softmax'\n",
    "model = Sequential()\n",
    "model.add(Input(shape=(8, )))\n",
    "model.add(Dense(units=12, activation='relu'))\n",
    "model.add(Dense(units=8,  activation='relu'))\n",
    "model.add(Dense(units=2,  activation='softmax'))\n",
    "print(model.summary())"
   ]
  },
  {
   "cell_type": "markdown",
   "id": "7b171bf7",
   "metadata": {},
   "source": [
    "## 3. 학습과정 설정"
   ]
  },
  {
   "cell_type": "code",
   "execution_count": 28,
   "id": "79754390",
   "metadata": {
    "ExecuteTime": {
     "end_time": "2024-12-18T00:23:08.886480Z",
     "start_time": "2024-12-18T00:23:08.872817Z"
    }
   },
   "outputs": [],
   "source": [
    "# 3. 모델 학습과정 설정 : loss='categorical_crossentropy', metrics=['accuracy'] (다중분류)\n",
    "model.compile(loss='categorical_crossentropy', optimizer='adam', metrics=['accuracy'])"
   ]
  },
  {
   "cell_type": "markdown",
   "id": "a821577d",
   "metadata": {},
   "source": [
    "## 4. 모델 학습"
   ]
  },
  {
   "cell_type": "code",
   "execution_count": 29,
   "id": "c5269a2b",
   "metadata": {
    "ExecuteTime": {
     "end_time": "2024-12-18T00:23:27.208382Z",
     "start_time": "2024-12-18T00:23:08.899476Z"
    }
   },
   "outputs": [
    {
     "name": "stdout",
     "output_type": "stream",
     "text": [
      "Epoch 1/300\n",
      "19/19 [==============================] - 1s 12ms/step - loss: 6.4955 - accuracy: 0.3400 - val_loss: 4.5440 - val_accuracy: 0.3300\n",
      "Epoch 2/300\n",
      "19/19 [==============================] - 0s 3ms/step - loss: 2.8224 - accuracy: 0.3900 - val_loss: 1.5198 - val_accuracy: 0.4400\n",
      "Epoch 3/300\n",
      "19/19 [==============================] - 0s 3ms/step - loss: 1.3736 - accuracy: 0.5300 - val_loss: 1.3484 - val_accuracy: 0.5600\n",
      "Epoch 4/300\n",
      "19/19 [==============================] - 0s 3ms/step - loss: 1.2014 - accuracy: 0.5517 - val_loss: 1.1921 - val_accuracy: 0.4600\n",
      "Epoch 5/300\n",
      "19/19 [==============================] - 0s 3ms/step - loss: 1.0970 - accuracy: 0.5550 - val_loss: 1.1075 - val_accuracy: 0.4800\n",
      "Epoch 6/300\n",
      "19/19 [==============================] - 0s 3ms/step - loss: 1.0079 - accuracy: 0.5333 - val_loss: 1.0362 - val_accuracy: 0.4800\n",
      "Epoch 7/300\n",
      "19/19 [==============================] - 0s 3ms/step - loss: 0.9400 - accuracy: 0.5483 - val_loss: 0.9795 - val_accuracy: 0.5500\n",
      "Epoch 8/300\n",
      "19/19 [==============================] - 0s 3ms/step - loss: 0.8968 - accuracy: 0.5767 - val_loss: 0.9222 - val_accuracy: 0.5800\n",
      "Epoch 9/300\n",
      "19/19 [==============================] - 0s 3ms/step - loss: 0.8563 - accuracy: 0.5567 - val_loss: 0.8859 - val_accuracy: 0.5900\n",
      "Epoch 10/300\n",
      "19/19 [==============================] - 0s 3ms/step - loss: 0.8222 - accuracy: 0.5633 - val_loss: 0.8560 - val_accuracy: 0.5700\n",
      "Epoch 11/300\n",
      "19/19 [==============================] - 0s 3ms/step - loss: 0.7955 - accuracy: 0.5500 - val_loss: 0.8385 - val_accuracy: 0.5900\n",
      "Epoch 12/300\n",
      "19/19 [==============================] - 0s 3ms/step - loss: 0.7718 - accuracy: 0.5583 - val_loss: 0.8233 - val_accuracy: 0.5600\n",
      "Epoch 13/300\n",
      "19/19 [==============================] - 0s 3ms/step - loss: 0.7509 - accuracy: 0.5800 - val_loss: 0.8121 - val_accuracy: 0.5600\n",
      "Epoch 14/300\n",
      "19/19 [==============================] - 0s 3ms/step - loss: 0.7313 - accuracy: 0.6133 - val_loss: 0.8055 - val_accuracy: 0.5800\n",
      "Epoch 15/300\n",
      "19/19 [==============================] - 0s 3ms/step - loss: 0.7238 - accuracy: 0.6050 - val_loss: 0.7910 - val_accuracy: 0.6200\n",
      "Epoch 16/300\n",
      "19/19 [==============================] - 0s 3ms/step - loss: 0.7117 - accuracy: 0.6183 - val_loss: 0.7701 - val_accuracy: 0.6100\n",
      "Epoch 17/300\n",
      "19/19 [==============================] - 0s 3ms/step - loss: 0.6966 - accuracy: 0.6200 - val_loss: 0.7595 - val_accuracy: 0.5900\n",
      "Epoch 18/300\n",
      "19/19 [==============================] - 0s 3ms/step - loss: 0.6942 - accuracy: 0.6267 - val_loss: 0.7731 - val_accuracy: 0.5900\n",
      "Epoch 19/300\n",
      "19/19 [==============================] - 0s 3ms/step - loss: 0.6856 - accuracy: 0.6250 - val_loss: 0.7505 - val_accuracy: 0.6300\n",
      "Epoch 20/300\n",
      "19/19 [==============================] - 0s 3ms/step - loss: 0.6794 - accuracy: 0.6317 - val_loss: 0.7370 - val_accuracy: 0.6300\n",
      "Epoch 21/300\n",
      "19/19 [==============================] - 0s 3ms/step - loss: 0.6667 - accuracy: 0.6500 - val_loss: 0.7210 - val_accuracy: 0.6200\n",
      "Epoch 22/300\n",
      "19/19 [==============================] - 0s 3ms/step - loss: 0.6618 - accuracy: 0.6517 - val_loss: 0.7127 - val_accuracy: 0.6300\n",
      "Epoch 23/300\n",
      "19/19 [==============================] - 0s 3ms/step - loss: 0.6514 - accuracy: 0.6500 - val_loss: 0.7072 - val_accuracy: 0.6400\n",
      "Epoch 24/300\n",
      "19/19 [==============================] - 0s 3ms/step - loss: 0.6458 - accuracy: 0.6567 - val_loss: 0.7018 - val_accuracy: 0.6400\n",
      "Epoch 25/300\n",
      "19/19 [==============================] - 0s 3ms/step - loss: 0.6411 - accuracy: 0.6467 - val_loss: 0.6902 - val_accuracy: 0.6400\n",
      "Epoch 26/300\n",
      "19/19 [==============================] - 0s 3ms/step - loss: 0.6378 - accuracy: 0.6533 - val_loss: 0.6841 - val_accuracy: 0.6300\n",
      "Epoch 27/300\n",
      "19/19 [==============================] - 0s 3ms/step - loss: 0.6356 - accuracy: 0.6550 - val_loss: 0.6790 - val_accuracy: 0.6100\n",
      "Epoch 28/300\n",
      "19/19 [==============================] - 0s 3ms/step - loss: 0.6345 - accuracy: 0.6533 - val_loss: 0.7053 - val_accuracy: 0.6100\n",
      "Epoch 29/300\n",
      "19/19 [==============================] - 0s 3ms/step - loss: 0.6278 - accuracy: 0.6633 - val_loss: 0.6926 - val_accuracy: 0.6600\n",
      "Epoch 30/300\n",
      "19/19 [==============================] - 0s 3ms/step - loss: 0.6220 - accuracy: 0.6600 - val_loss: 0.6668 - val_accuracy: 0.6300\n",
      "Epoch 31/300\n",
      "19/19 [==============================] - 0s 3ms/step - loss: 0.6236 - accuracy: 0.6617 - val_loss: 0.6603 - val_accuracy: 0.6400\n",
      "Epoch 32/300\n",
      "19/19 [==============================] - 0s 3ms/step - loss: 0.6147 - accuracy: 0.6650 - val_loss: 0.6576 - val_accuracy: 0.6400\n",
      "Epoch 33/300\n",
      "19/19 [==============================] - 0s 3ms/step - loss: 0.6123 - accuracy: 0.6600 - val_loss: 0.6540 - val_accuracy: 0.6700\n",
      "Epoch 34/300\n",
      "19/19 [==============================] - 0s 3ms/step - loss: 0.6167 - accuracy: 0.6567 - val_loss: 0.6494 - val_accuracy: 0.6900\n",
      "Epoch 35/300\n",
      "19/19 [==============================] - 0s 3ms/step - loss: 0.6070 - accuracy: 0.6667 - val_loss: 0.6495 - val_accuracy: 0.6500\n",
      "Epoch 36/300\n",
      "19/19 [==============================] - 0s 3ms/step - loss: 0.6055 - accuracy: 0.6700 - val_loss: 0.6603 - val_accuracy: 0.6500\n",
      "Epoch 37/300\n",
      "19/19 [==============================] - 0s 3ms/step - loss: 0.6212 - accuracy: 0.6583 - val_loss: 0.6401 - val_accuracy: 0.6600\n",
      "Epoch 38/300\n",
      "19/19 [==============================] - 0s 3ms/step - loss: 0.6043 - accuracy: 0.6633 - val_loss: 0.6447 - val_accuracy: 0.7100\n",
      "Epoch 39/300\n",
      "19/19 [==============================] - 0s 3ms/step - loss: 0.6042 - accuracy: 0.6733 - val_loss: 0.6574 - val_accuracy: 0.7000\n",
      "Epoch 40/300\n",
      "19/19 [==============================] - 0s 4ms/step - loss: 0.5967 - accuracy: 0.6817 - val_loss: 0.6389 - val_accuracy: 0.6400\n",
      "Epoch 41/300\n",
      "19/19 [==============================] - 0s 3ms/step - loss: 0.6012 - accuracy: 0.6850 - val_loss: 0.6308 - val_accuracy: 0.6500\n",
      "Epoch 42/300\n",
      "19/19 [==============================] - 0s 3ms/step - loss: 0.5936 - accuracy: 0.6767 - val_loss: 0.6298 - val_accuracy: 0.6700\n",
      "Epoch 43/300\n",
      "19/19 [==============================] - 0s 3ms/step - loss: 0.5929 - accuracy: 0.6783 - val_loss: 0.6289 - val_accuracy: 0.6800\n",
      "Epoch 44/300\n",
      "19/19 [==============================] - 0s 3ms/step - loss: 0.5911 - accuracy: 0.6900 - val_loss: 0.6516 - val_accuracy: 0.6700\n",
      "Epoch 45/300\n",
      "19/19 [==============================] - 0s 3ms/step - loss: 0.5892 - accuracy: 0.6917 - val_loss: 0.6316 - val_accuracy: 0.7000\n",
      "Epoch 46/300\n",
      "19/19 [==============================] - 0s 3ms/step - loss: 0.5958 - accuracy: 0.6700 - val_loss: 0.6332 - val_accuracy: 0.7100\n",
      "Epoch 47/300\n",
      "19/19 [==============================] - 0s 3ms/step - loss: 0.6041 - accuracy: 0.6683 - val_loss: 0.6286 - val_accuracy: 0.6900\n",
      "Epoch 48/300\n",
      "19/19 [==============================] - 0s 3ms/step - loss: 0.5856 - accuracy: 0.6867 - val_loss: 0.6253 - val_accuracy: 0.6500\n",
      "Epoch 49/300\n",
      "19/19 [==============================] - 0s 3ms/step - loss: 0.5843 - accuracy: 0.6783 - val_loss: 0.6211 - val_accuracy: 0.6700\n",
      "Epoch 50/300\n",
      "19/19 [==============================] - 0s 3ms/step - loss: 0.5841 - accuracy: 0.6850 - val_loss: 0.6197 - val_accuracy: 0.6800\n",
      "Epoch 51/300\n",
      "19/19 [==============================] - 0s 3ms/step - loss: 0.5886 - accuracy: 0.6700 - val_loss: 0.6216 - val_accuracy: 0.6800\n",
      "Epoch 52/300\n",
      "19/19 [==============================] - 0s 3ms/step - loss: 0.5814 - accuracy: 0.6767 - val_loss: 0.6196 - val_accuracy: 0.6900\n",
      "Epoch 53/300\n",
      "19/19 [==============================] - 0s 3ms/step - loss: 0.5781 - accuracy: 0.6883 - val_loss: 0.6202 - val_accuracy: 0.6800\n",
      "Epoch 54/300\n",
      "19/19 [==============================] - 0s 3ms/step - loss: 0.5834 - accuracy: 0.6767 - val_loss: 0.6184 - val_accuracy: 0.6900\n",
      "Epoch 55/300\n",
      "19/19 [==============================] - 0s 3ms/step - loss: 0.5760 - accuracy: 0.7033 - val_loss: 0.6220 - val_accuracy: 0.6800\n",
      "Epoch 56/300\n",
      "19/19 [==============================] - 0s 3ms/step - loss: 0.5724 - accuracy: 0.6883 - val_loss: 0.6137 - val_accuracy: 0.6800\n",
      "Epoch 57/300\n",
      "19/19 [==============================] - 0s 3ms/step - loss: 0.5692 - accuracy: 0.6983 - val_loss: 0.6199 - val_accuracy: 0.7100\n",
      "Epoch 58/300\n",
      "19/19 [==============================] - 0s 3ms/step - loss: 0.5815 - accuracy: 0.6850 - val_loss: 0.6208 - val_accuracy: 0.7000\n"
     ]
    },
    {
     "name": "stdout",
     "output_type": "stream",
     "text": [
      "Epoch 59/300\n",
      "19/19 [==============================] - 0s 3ms/step - loss: 0.5725 - accuracy: 0.6933 - val_loss: 0.6093 - val_accuracy: 0.7000\n",
      "Epoch 60/300\n",
      "19/19 [==============================] - 0s 3ms/step - loss: 0.5740 - accuracy: 0.6900 - val_loss: 0.6144 - val_accuracy: 0.6900\n",
      "Epoch 61/300\n",
      "19/19 [==============================] - 0s 3ms/step - loss: 0.5734 - accuracy: 0.6900 - val_loss: 0.6113 - val_accuracy: 0.7000\n",
      "Epoch 62/300\n",
      "19/19 [==============================] - 0s 3ms/step - loss: 0.5702 - accuracy: 0.6933 - val_loss: 0.6190 - val_accuracy: 0.6900\n",
      "Epoch 63/300\n",
      "19/19 [==============================] - 0s 3ms/step - loss: 0.5731 - accuracy: 0.6800 - val_loss: 0.6167 - val_accuracy: 0.6700\n",
      "Epoch 64/300\n",
      "19/19 [==============================] - 0s 3ms/step - loss: 0.5733 - accuracy: 0.6800 - val_loss: 0.6027 - val_accuracy: 0.7000\n",
      "Epoch 65/300\n",
      "19/19 [==============================] - 0s 3ms/step - loss: 0.5701 - accuracy: 0.6867 - val_loss: 0.6029 - val_accuracy: 0.7100\n",
      "Epoch 66/300\n",
      "19/19 [==============================] - 0s 3ms/step - loss: 0.5684 - accuracy: 0.6967 - val_loss: 0.6091 - val_accuracy: 0.7100\n",
      "Epoch 67/300\n",
      "19/19 [==============================] - 0s 3ms/step - loss: 0.5619 - accuracy: 0.7067 - val_loss: 0.6008 - val_accuracy: 0.7100\n",
      "Epoch 68/300\n",
      "19/19 [==============================] - 0s 3ms/step - loss: 0.5645 - accuracy: 0.7000 - val_loss: 0.6090 - val_accuracy: 0.6700\n",
      "Epoch 69/300\n",
      "19/19 [==============================] - 0s 3ms/step - loss: 0.5677 - accuracy: 0.6933 - val_loss: 0.6018 - val_accuracy: 0.7100\n",
      "Epoch 70/300\n",
      "19/19 [==============================] - 0s 3ms/step - loss: 0.5616 - accuracy: 0.6983 - val_loss: 0.6032 - val_accuracy: 0.7100\n",
      "Epoch 71/300\n",
      "19/19 [==============================] - 0s 3ms/step - loss: 0.5627 - accuracy: 0.7000 - val_loss: 0.5994 - val_accuracy: 0.7000\n",
      "Epoch 72/300\n",
      "19/19 [==============================] - 0s 3ms/step - loss: 0.5615 - accuracy: 0.7083 - val_loss: 0.6036 - val_accuracy: 0.7200\n",
      "Epoch 73/300\n",
      "19/19 [==============================] - 0s 3ms/step - loss: 0.5638 - accuracy: 0.6950 - val_loss: 0.6082 - val_accuracy: 0.6900\n",
      "Epoch 74/300\n",
      "19/19 [==============================] - 0s 3ms/step - loss: 0.5644 - accuracy: 0.6983 - val_loss: 0.6011 - val_accuracy: 0.7100\n",
      "Epoch 75/300\n",
      "19/19 [==============================] - 0s 3ms/step - loss: 0.5662 - accuracy: 0.6850 - val_loss: 0.5953 - val_accuracy: 0.7200\n",
      "Epoch 76/300\n",
      "19/19 [==============================] - 0s 3ms/step - loss: 0.5697 - accuracy: 0.6950 - val_loss: 0.6013 - val_accuracy: 0.7400\n",
      "Epoch 77/300\n",
      "19/19 [==============================] - 0s 3ms/step - loss: 0.5638 - accuracy: 0.7050 - val_loss: 0.5968 - val_accuracy: 0.7200\n",
      "Epoch 78/300\n",
      "19/19 [==============================] - 0s 3ms/step - loss: 0.5582 - accuracy: 0.6983 - val_loss: 0.5975 - val_accuracy: 0.7300\n",
      "Epoch 79/300\n",
      "19/19 [==============================] - 0s 3ms/step - loss: 0.5613 - accuracy: 0.6967 - val_loss: 0.6004 - val_accuracy: 0.7200\n",
      "Epoch 80/300\n",
      "19/19 [==============================] - 0s 3ms/step - loss: 0.5620 - accuracy: 0.7017 - val_loss: 0.6018 - val_accuracy: 0.7300\n",
      "Epoch 81/300\n",
      "19/19 [==============================] - 0s 3ms/step - loss: 0.5607 - accuracy: 0.7050 - val_loss: 0.5989 - val_accuracy: 0.7300\n",
      "Epoch 82/300\n",
      "19/19 [==============================] - 0s 3ms/step - loss: 0.5623 - accuracy: 0.6917 - val_loss: 0.5948 - val_accuracy: 0.7100\n",
      "Epoch 83/300\n",
      "19/19 [==============================] - 0s 3ms/step - loss: 0.5655 - accuracy: 0.6817 - val_loss: 0.5964 - val_accuracy: 0.7400\n",
      "Epoch 84/300\n",
      "19/19 [==============================] - 0s 3ms/step - loss: 0.5731 - accuracy: 0.6883 - val_loss: 0.5948 - val_accuracy: 0.7200\n",
      "Epoch 85/300\n",
      "19/19 [==============================] - 0s 3ms/step - loss: 0.5637 - accuracy: 0.6983 - val_loss: 0.5971 - val_accuracy: 0.7100\n",
      "Epoch 86/300\n",
      "19/19 [==============================] - 0s 3ms/step - loss: 0.5601 - accuracy: 0.7050 - val_loss: 0.5968 - val_accuracy: 0.7300\n",
      "Epoch 87/300\n",
      "19/19 [==============================] - 0s 3ms/step - loss: 0.5564 - accuracy: 0.6983 - val_loss: 0.6005 - val_accuracy: 0.7200\n",
      "Epoch 88/300\n",
      "19/19 [==============================] - 0s 3ms/step - loss: 0.5564 - accuracy: 0.7017 - val_loss: 0.5950 - val_accuracy: 0.7100\n",
      "Epoch 89/300\n",
      "19/19 [==============================] - 0s 3ms/step - loss: 0.5560 - accuracy: 0.7017 - val_loss: 0.5995 - val_accuracy: 0.7000\n",
      "Epoch 90/300\n",
      "19/19 [==============================] - 0s 3ms/step - loss: 0.5552 - accuracy: 0.7067 - val_loss: 0.5943 - val_accuracy: 0.7300\n",
      "Epoch 91/300\n",
      "19/19 [==============================] - 0s 3ms/step - loss: 0.5531 - accuracy: 0.7067 - val_loss: 0.5983 - val_accuracy: 0.7100\n",
      "Epoch 92/300\n",
      "19/19 [==============================] - 0s 3ms/step - loss: 0.5548 - accuracy: 0.7000 - val_loss: 0.6025 - val_accuracy: 0.7300\n",
      "Epoch 93/300\n",
      "19/19 [==============================] - 0s 3ms/step - loss: 0.5630 - accuracy: 0.6783 - val_loss: 0.5894 - val_accuracy: 0.7400\n",
      "Epoch 94/300\n",
      "19/19 [==============================] - 0s 3ms/step - loss: 0.5554 - accuracy: 0.7000 - val_loss: 0.6001 - val_accuracy: 0.7000\n",
      "Epoch 95/300\n",
      "19/19 [==============================] - 0s 3ms/step - loss: 0.5577 - accuracy: 0.7017 - val_loss: 0.6138 - val_accuracy: 0.6900\n",
      "Epoch 96/300\n",
      "19/19 [==============================] - 0s 3ms/step - loss: 0.5644 - accuracy: 0.6983 - val_loss: 0.5969 - val_accuracy: 0.7100\n",
      "Epoch 97/300\n",
      "19/19 [==============================] - 0s 3ms/step - loss: 0.5656 - accuracy: 0.6933 - val_loss: 0.5997 - val_accuracy: 0.7000\n",
      "Epoch 98/300\n",
      "19/19 [==============================] - 0s 3ms/step - loss: 0.5611 - accuracy: 0.6933 - val_loss: 0.5957 - val_accuracy: 0.7100\n",
      "Epoch 99/300\n",
      "19/19 [==============================] - 0s 3ms/step - loss: 0.5551 - accuracy: 0.7067 - val_loss: 0.5877 - val_accuracy: 0.7300\n",
      "Epoch 100/300\n",
      "19/19 [==============================] - 0s 3ms/step - loss: 0.5538 - accuracy: 0.7067 - val_loss: 0.6063 - val_accuracy: 0.7100\n",
      "Epoch 101/300\n",
      "19/19 [==============================] - 0s 3ms/step - loss: 0.5570 - accuracy: 0.6983 - val_loss: 0.5957 - val_accuracy: 0.7100\n",
      "Epoch 102/300\n",
      "19/19 [==============================] - 0s 3ms/step - loss: 0.5514 - accuracy: 0.7000 - val_loss: 0.6059 - val_accuracy: 0.7300\n",
      "Epoch 103/300\n",
      "19/19 [==============================] - 0s 3ms/step - loss: 0.5576 - accuracy: 0.6950 - val_loss: 0.5927 - val_accuracy: 0.7500\n",
      "Epoch 104/300\n",
      "19/19 [==============================] - 0s 3ms/step - loss: 0.5524 - accuracy: 0.6933 - val_loss: 0.5886 - val_accuracy: 0.7500\n",
      "Epoch 105/300\n",
      "19/19 [==============================] - 0s 3ms/step - loss: 0.5576 - accuracy: 0.6933 - val_loss: 0.6189 - val_accuracy: 0.7000\n",
      "Epoch 106/300\n",
      "19/19 [==============================] - 0s 3ms/step - loss: 0.5560 - accuracy: 0.6933 - val_loss: 0.5944 - val_accuracy: 0.7000\n",
      "Epoch 107/300\n",
      "19/19 [==============================] - 0s 3ms/step - loss: 0.5509 - accuracy: 0.7000 - val_loss: 0.5912 - val_accuracy: 0.7100\n",
      "Epoch 108/300\n",
      "19/19 [==============================] - 0s 3ms/step - loss: 0.5524 - accuracy: 0.6983 - val_loss: 0.5994 - val_accuracy: 0.7100\n",
      "Epoch 109/300\n",
      "19/19 [==============================] - 0s 3ms/step - loss: 0.5546 - accuracy: 0.7000 - val_loss: 0.6012 - val_accuracy: 0.7100\n",
      "Epoch 110/300\n",
      "19/19 [==============================] - 0s 3ms/step - loss: 0.5565 - accuracy: 0.6983 - val_loss: 0.6009 - val_accuracy: 0.7000\n",
      "Epoch 111/300\n",
      "19/19 [==============================] - 0s 3ms/step - loss: 0.5568 - accuracy: 0.6900 - val_loss: 0.5892 - val_accuracy: 0.7400\n",
      "Epoch 112/300\n",
      "19/19 [==============================] - 0s 3ms/step - loss: 0.5574 - accuracy: 0.6833 - val_loss: 0.6041 - val_accuracy: 0.7200\n",
      "Epoch 113/300\n",
      "19/19 [==============================] - 0s 3ms/step - loss: 0.5612 - accuracy: 0.6800 - val_loss: 0.6108 - val_accuracy: 0.7000\n",
      "Epoch 114/300\n",
      "19/19 [==============================] - 0s 3ms/step - loss: 0.5622 - accuracy: 0.6967 - val_loss: 0.5903 - val_accuracy: 0.7100\n",
      "Epoch 115/300\n",
      "19/19 [==============================] - 0s 3ms/step - loss: 0.5496 - accuracy: 0.7017 - val_loss: 0.5911 - val_accuracy: 0.7300\n",
      "Epoch 116/300\n"
     ]
    },
    {
     "name": "stdout",
     "output_type": "stream",
     "text": [
      "19/19 [==============================] - 0s 3ms/step - loss: 0.5471 - accuracy: 0.7033 - val_loss: 0.5904 - val_accuracy: 0.7300\n",
      "Epoch 117/300\n",
      "19/19 [==============================] - 0s 3ms/step - loss: 0.5439 - accuracy: 0.7000 - val_loss: 0.6156 - val_accuracy: 0.6900\n",
      "Epoch 118/300\n",
      "19/19 [==============================] - 0s 3ms/step - loss: 0.5579 - accuracy: 0.6967 - val_loss: 0.5920 - val_accuracy: 0.7200\n",
      "Epoch 119/300\n",
      "19/19 [==============================] - 0s 3ms/step - loss: 0.5475 - accuracy: 0.7067 - val_loss: 0.5917 - val_accuracy: 0.7100\n",
      "Epoch 120/300\n",
      "19/19 [==============================] - 0s 3ms/step - loss: 0.5497 - accuracy: 0.7100 - val_loss: 0.6069 - val_accuracy: 0.7200\n",
      "Epoch 121/300\n",
      "19/19 [==============================] - 0s 3ms/step - loss: 0.5530 - accuracy: 0.6933 - val_loss: 0.5857 - val_accuracy: 0.7300\n",
      "Epoch 122/300\n",
      "19/19 [==============================] - 0s 3ms/step - loss: 0.5456 - accuracy: 0.7083 - val_loss: 0.5911 - val_accuracy: 0.7300\n",
      "Epoch 123/300\n",
      "19/19 [==============================] - 0s 3ms/step - loss: 0.5497 - accuracy: 0.7000 - val_loss: 0.5943 - val_accuracy: 0.7100\n",
      "Epoch 124/300\n",
      "19/19 [==============================] - 0s 3ms/step - loss: 0.5471 - accuracy: 0.6983 - val_loss: 0.5862 - val_accuracy: 0.7400\n",
      "Epoch 125/300\n",
      "19/19 [==============================] - 0s 3ms/step - loss: 0.5483 - accuracy: 0.7017 - val_loss: 0.6042 - val_accuracy: 0.7100\n",
      "Epoch 126/300\n",
      "19/19 [==============================] - 0s 3ms/step - loss: 0.5492 - accuracy: 0.7067 - val_loss: 0.5940 - val_accuracy: 0.7100\n",
      "Epoch 127/300\n",
      "19/19 [==============================] - 0s 3ms/step - loss: 0.5513 - accuracy: 0.6933 - val_loss: 0.5916 - val_accuracy: 0.7400\n",
      "Epoch 128/300\n",
      "19/19 [==============================] - 0s 3ms/step - loss: 0.5490 - accuracy: 0.6983 - val_loss: 0.5951 - val_accuracy: 0.7100\n",
      "Epoch 129/300\n",
      "19/19 [==============================] - 0s 3ms/step - loss: 0.5501 - accuracy: 0.7017 - val_loss: 0.5936 - val_accuracy: 0.7200\n",
      "Epoch 130/300\n",
      "19/19 [==============================] - 0s 3ms/step - loss: 0.5462 - accuracy: 0.7083 - val_loss: 0.6001 - val_accuracy: 0.7000\n",
      "Epoch 131/300\n",
      "19/19 [==============================] - 0s 3ms/step - loss: 0.5592 - accuracy: 0.6950 - val_loss: 0.6011 - val_accuracy: 0.7000\n",
      "Epoch 132/300\n",
      "19/19 [==============================] - 0s 3ms/step - loss: 0.5724 - accuracy: 0.6883 - val_loss: 0.6254 - val_accuracy: 0.6800\n",
      "Epoch 133/300\n",
      "19/19 [==============================] - 0s 3ms/step - loss: 0.5457 - accuracy: 0.7067 - val_loss: 0.5969 - val_accuracy: 0.7400\n",
      "Epoch 134/300\n",
      "19/19 [==============================] - 0s 3ms/step - loss: 0.5558 - accuracy: 0.7017 - val_loss: 0.5800 - val_accuracy: 0.7200\n",
      "Epoch 135/300\n",
      "19/19 [==============================] - 0s 3ms/step - loss: 0.5536 - accuracy: 0.7067 - val_loss: 0.5919 - val_accuracy: 0.7200\n",
      "Epoch 136/300\n",
      "19/19 [==============================] - 0s 3ms/step - loss: 0.5630 - accuracy: 0.6917 - val_loss: 0.6087 - val_accuracy: 0.7200\n",
      "Epoch 137/300\n",
      "19/19 [==============================] - 0s 3ms/step - loss: 0.5393 - accuracy: 0.7200 - val_loss: 0.5916 - val_accuracy: 0.7100\n",
      "Epoch 138/300\n",
      "19/19 [==============================] - 0s 3ms/step - loss: 0.5447 - accuracy: 0.7150 - val_loss: 0.5942 - val_accuracy: 0.7100\n",
      "Epoch 139/300\n",
      "19/19 [==============================] - 0s 3ms/step - loss: 0.5562 - accuracy: 0.6933 - val_loss: 0.5836 - val_accuracy: 0.7200\n",
      "Epoch 140/300\n",
      "19/19 [==============================] - 0s 3ms/step - loss: 0.5524 - accuracy: 0.7000 - val_loss: 0.6046 - val_accuracy: 0.7100\n",
      "Epoch 141/300\n",
      "19/19 [==============================] - 0s 3ms/step - loss: 0.5493 - accuracy: 0.7067 - val_loss: 0.5933 - val_accuracy: 0.7200\n",
      "Epoch 142/300\n",
      "19/19 [==============================] - 0s 3ms/step - loss: 0.5465 - accuracy: 0.7033 - val_loss: 0.5897 - val_accuracy: 0.7200\n",
      "Epoch 143/300\n",
      "19/19 [==============================] - 0s 3ms/step - loss: 0.5446 - accuracy: 0.7067 - val_loss: 0.5955 - val_accuracy: 0.7400\n",
      "Epoch 144/300\n",
      "19/19 [==============================] - 0s 3ms/step - loss: 0.5512 - accuracy: 0.6900 - val_loss: 0.5866 - val_accuracy: 0.7500\n",
      "Epoch 145/300\n",
      "19/19 [==============================] - 0s 3ms/step - loss: 0.5433 - accuracy: 0.7000 - val_loss: 0.6071 - val_accuracy: 0.7000\n",
      "Epoch 146/300\n",
      "19/19 [==============================] - 0s 3ms/step - loss: 0.5523 - accuracy: 0.7033 - val_loss: 0.6088 - val_accuracy: 0.7000\n",
      "Epoch 147/300\n",
      "19/19 [==============================] - 0s 3ms/step - loss: 0.5522 - accuracy: 0.6900 - val_loss: 0.5876 - val_accuracy: 0.7300\n",
      "Epoch 148/300\n",
      "19/19 [==============================] - 0s 3ms/step - loss: 0.5480 - accuracy: 0.6967 - val_loss: 0.5971 - val_accuracy: 0.7400\n",
      "Epoch 149/300\n",
      "19/19 [==============================] - 0s 3ms/step - loss: 0.5402 - accuracy: 0.7050 - val_loss: 0.5987 - val_accuracy: 0.7200\n",
      "Epoch 150/300\n",
      "19/19 [==============================] - 0s 3ms/step - loss: 0.5514 - accuracy: 0.6983 - val_loss: 0.5948 - val_accuracy: 0.7100\n",
      "Epoch 151/300\n",
      "19/19 [==============================] - 0s 3ms/step - loss: 0.5465 - accuracy: 0.7150 - val_loss: 0.5918 - val_accuracy: 0.7100\n",
      "Epoch 152/300\n",
      "19/19 [==============================] - 0s 3ms/step - loss: 0.5443 - accuracy: 0.7050 - val_loss: 0.5895 - val_accuracy: 0.7100\n",
      "Epoch 153/300\n",
      "19/19 [==============================] - 0s 3ms/step - loss: 0.5388 - accuracy: 0.7117 - val_loss: 0.5962 - val_accuracy: 0.7300\n",
      "Epoch 154/300\n",
      "19/19 [==============================] - 0s 3ms/step - loss: 0.5405 - accuracy: 0.7050 - val_loss: 0.5951 - val_accuracy: 0.7200\n",
      "Epoch 155/300\n",
      "19/19 [==============================] - 0s 3ms/step - loss: 0.5440 - accuracy: 0.7067 - val_loss: 0.5914 - val_accuracy: 0.7100\n",
      "Epoch 156/300\n",
      "19/19 [==============================] - 0s 3ms/step - loss: 0.5407 - accuracy: 0.7033 - val_loss: 0.5881 - val_accuracy: 0.7100\n",
      "Epoch 157/300\n",
      "19/19 [==============================] - 0s 3ms/step - loss: 0.5415 - accuracy: 0.7067 - val_loss: 0.5866 - val_accuracy: 0.7400\n",
      "Epoch 158/300\n",
      "19/19 [==============================] - 0s 3ms/step - loss: 0.5457 - accuracy: 0.7017 - val_loss: 0.5898 - val_accuracy: 0.7100\n",
      "Epoch 159/300\n",
      "19/19 [==============================] - 0s 3ms/step - loss: 0.5434 - accuracy: 0.6983 - val_loss: 0.5922 - val_accuracy: 0.7100\n",
      "Epoch 160/300\n",
      "19/19 [==============================] - 0s 3ms/step - loss: 0.5429 - accuracy: 0.7067 - val_loss: 0.5896 - val_accuracy: 0.7200\n",
      "Epoch 161/300\n",
      "19/19 [==============================] - 0s 3ms/step - loss: 0.5482 - accuracy: 0.7083 - val_loss: 0.5877 - val_accuracy: 0.7500\n",
      "Epoch 162/300\n",
      "19/19 [==============================] - 0s 3ms/step - loss: 0.5500 - accuracy: 0.6950 - val_loss: 0.5873 - val_accuracy: 0.7200\n",
      "Epoch 163/300\n",
      "19/19 [==============================] - 0s 3ms/step - loss: 0.5472 - accuracy: 0.6933 - val_loss: 0.6015 - val_accuracy: 0.7100\n",
      "Epoch 164/300\n",
      "19/19 [==============================] - 0s 3ms/step - loss: 0.5625 - accuracy: 0.6850 - val_loss: 0.6161 - val_accuracy: 0.6900\n",
      "Epoch 165/300\n",
      "19/19 [==============================] - 0s 3ms/step - loss: 0.5787 - accuracy: 0.6833 - val_loss: 0.6330 - val_accuracy: 0.6800\n",
      "Epoch 166/300\n",
      "19/19 [==============================] - 0s 3ms/step - loss: 0.5712 - accuracy: 0.6783 - val_loss: 0.6116 - val_accuracy: 0.7200\n",
      "Epoch 167/300\n",
      "19/19 [==============================] - 0s 3ms/step - loss: 0.5500 - accuracy: 0.7000 - val_loss: 0.5902 - val_accuracy: 0.7200\n",
      "Epoch 168/300\n",
      "19/19 [==============================] - 0s 3ms/step - loss: 0.5516 - accuracy: 0.6833 - val_loss: 0.5910 - val_accuracy: 0.7200\n",
      "Epoch 169/300\n",
      "19/19 [==============================] - 0s 3ms/step - loss: 0.5397 - accuracy: 0.7083 - val_loss: 0.5875 - val_accuracy: 0.7200\n",
      "Epoch 170/300\n",
      "19/19 [==============================] - 0s 3ms/step - loss: 0.5392 - accuracy: 0.7050 - val_loss: 0.5811 - val_accuracy: 0.7400\n",
      "Epoch 171/300\n",
      "19/19 [==============================] - 0s 3ms/step - loss: 0.5403 - accuracy: 0.7117 - val_loss: 0.5926 - val_accuracy: 0.7100\n",
      "Epoch 172/300\n",
      "19/19 [==============================] - 0s 3ms/step - loss: 0.5408 - accuracy: 0.7033 - val_loss: 0.5815 - val_accuracy: 0.7400\n",
      "Epoch 173/300\n"
     ]
    },
    {
     "name": "stdout",
     "output_type": "stream",
     "text": [
      "19/19 [==============================] - 0s 3ms/step - loss: 0.5603 - accuracy: 0.6933 - val_loss: 0.5938 - val_accuracy: 0.7500\n",
      "Epoch 174/300\n",
      "19/19 [==============================] - 0s 3ms/step - loss: 0.5530 - accuracy: 0.7000 - val_loss: 0.6064 - val_accuracy: 0.7200\n",
      "Epoch 175/300\n",
      "19/19 [==============================] - 0s 3ms/step - loss: 0.5611 - accuracy: 0.6983 - val_loss: 0.6048 - val_accuracy: 0.7200\n",
      "Epoch 176/300\n",
      "19/19 [==============================] - 0s 3ms/step - loss: 0.5484 - accuracy: 0.7067 - val_loss: 0.5985 - val_accuracy: 0.7100\n",
      "Epoch 177/300\n",
      "19/19 [==============================] - 0s 3ms/step - loss: 0.5443 - accuracy: 0.6967 - val_loss: 0.5807 - val_accuracy: 0.7200\n",
      "Epoch 178/300\n",
      "19/19 [==============================] - 0s 3ms/step - loss: 0.5435 - accuracy: 0.6983 - val_loss: 0.5901 - val_accuracy: 0.7100\n",
      "Epoch 179/300\n",
      "19/19 [==============================] - 0s 3ms/step - loss: 0.5398 - accuracy: 0.7050 - val_loss: 0.5889 - val_accuracy: 0.7200\n",
      "Epoch 180/300\n",
      "19/19 [==============================] - 0s 3ms/step - loss: 0.5430 - accuracy: 0.7000 - val_loss: 0.5889 - val_accuracy: 0.7300\n",
      "Epoch 181/300\n",
      "19/19 [==============================] - 0s 3ms/step - loss: 0.5518 - accuracy: 0.6917 - val_loss: 0.6127 - val_accuracy: 0.7000\n",
      "Epoch 182/300\n",
      "19/19 [==============================] - 0s 3ms/step - loss: 0.5503 - accuracy: 0.6883 - val_loss: 0.5871 - val_accuracy: 0.7300\n",
      "Epoch 183/300\n",
      "19/19 [==============================] - 0s 3ms/step - loss: 0.5402 - accuracy: 0.7067 - val_loss: 0.5908 - val_accuracy: 0.7300\n",
      "Epoch 184/300\n",
      "19/19 [==============================] - 0s 3ms/step - loss: 0.5410 - accuracy: 0.6983 - val_loss: 0.5902 - val_accuracy: 0.7200\n",
      "Epoch 185/300\n",
      "19/19 [==============================] - 0s 3ms/step - loss: 0.5378 - accuracy: 0.7050 - val_loss: 0.5842 - val_accuracy: 0.7500\n",
      "Epoch 186/300\n",
      "19/19 [==============================] - 0s 3ms/step - loss: 0.5382 - accuracy: 0.7017 - val_loss: 0.5937 - val_accuracy: 0.7100\n",
      "Epoch 187/300\n",
      "19/19 [==============================] - 0s 3ms/step - loss: 0.5434 - accuracy: 0.6950 - val_loss: 0.5905 - val_accuracy: 0.7100\n",
      "Epoch 188/300\n",
      "19/19 [==============================] - 0s 3ms/step - loss: 0.5432 - accuracy: 0.7050 - val_loss: 0.5875 - val_accuracy: 0.7500\n",
      "Epoch 189/300\n",
      "19/19 [==============================] - 0s 3ms/step - loss: 0.5383 - accuracy: 0.7033 - val_loss: 0.5846 - val_accuracy: 0.7300\n",
      "Epoch 190/300\n",
      "19/19 [==============================] - 0s 3ms/step - loss: 0.5387 - accuracy: 0.7083 - val_loss: 0.5856 - val_accuracy: 0.7200\n",
      "Epoch 191/300\n",
      "19/19 [==============================] - 0s 3ms/step - loss: 0.5377 - accuracy: 0.7083 - val_loss: 0.5875 - val_accuracy: 0.7300\n",
      "Epoch 192/300\n",
      "19/19 [==============================] - 0s 4ms/step - loss: 0.5380 - accuracy: 0.7083 - val_loss: 0.5910 - val_accuracy: 0.7300\n",
      "Epoch 193/300\n",
      "19/19 [==============================] - 0s 3ms/step - loss: 0.5422 - accuracy: 0.7100 - val_loss: 0.5881 - val_accuracy: 0.7300\n",
      "Epoch 194/300\n",
      "19/19 [==============================] - 0s 3ms/step - loss: 0.5375 - accuracy: 0.7083 - val_loss: 0.5941 - val_accuracy: 0.7100\n",
      "Epoch 195/300\n",
      "19/19 [==============================] - 0s 3ms/step - loss: 0.5360 - accuracy: 0.7067 - val_loss: 0.5833 - val_accuracy: 0.7500\n",
      "Epoch 196/300\n",
      "19/19 [==============================] - 0s 3ms/step - loss: 0.5392 - accuracy: 0.7050 - val_loss: 0.5931 - val_accuracy: 0.7300\n",
      "Epoch 197/300\n",
      "19/19 [==============================] - 0s 3ms/step - loss: 0.5448 - accuracy: 0.7067 - val_loss: 0.5931 - val_accuracy: 0.7100\n",
      "Epoch 198/300\n",
      "19/19 [==============================] - 0s 3ms/step - loss: 0.5382 - accuracy: 0.7267 - val_loss: 0.5908 - val_accuracy: 0.7100\n",
      "Epoch 199/300\n",
      "19/19 [==============================] - 0s 3ms/step - loss: 0.5369 - accuracy: 0.7017 - val_loss: 0.5904 - val_accuracy: 0.7400\n",
      "Epoch 200/300\n",
      "19/19 [==============================] - 0s 3ms/step - loss: 0.5390 - accuracy: 0.7117 - val_loss: 0.5862 - val_accuracy: 0.7400\n",
      "Epoch 201/300\n",
      "19/19 [==============================] - 0s 3ms/step - loss: 0.5357 - accuracy: 0.7067 - val_loss: 0.5904 - val_accuracy: 0.7100\n",
      "Epoch 202/300\n",
      "19/19 [==============================] - 0s 3ms/step - loss: 0.5392 - accuracy: 0.7133 - val_loss: 0.5916 - val_accuracy: 0.7400\n",
      "Epoch 203/300\n",
      "19/19 [==============================] - 0s 3ms/step - loss: 0.5427 - accuracy: 0.6967 - val_loss: 0.5946 - val_accuracy: 0.7500\n",
      "Epoch 204/300\n",
      "19/19 [==============================] - 0s 3ms/step - loss: 0.5410 - accuracy: 0.7083 - val_loss: 0.5986 - val_accuracy: 0.7300\n",
      "Epoch 205/300\n",
      "19/19 [==============================] - 0s 3ms/step - loss: 0.5537 - accuracy: 0.6950 - val_loss: 0.5872 - val_accuracy: 0.7100\n",
      "Epoch 206/300\n",
      "19/19 [==============================] - 0s 3ms/step - loss: 0.5364 - accuracy: 0.7017 - val_loss: 0.5893 - val_accuracy: 0.7200\n",
      "Epoch 207/300\n",
      "19/19 [==============================] - 0s 3ms/step - loss: 0.5415 - accuracy: 0.6883 - val_loss: 0.5956 - val_accuracy: 0.7300\n",
      "Epoch 208/300\n",
      "19/19 [==============================] - 0s 3ms/step - loss: 0.5304 - accuracy: 0.7200 - val_loss: 0.5963 - val_accuracy: 0.7100\n",
      "Epoch 209/300\n",
      "19/19 [==============================] - 0s 3ms/step - loss: 0.5379 - accuracy: 0.7100 - val_loss: 0.5879 - val_accuracy: 0.7200\n",
      "Epoch 210/300\n",
      "19/19 [==============================] - 0s 3ms/step - loss: 0.5611 - accuracy: 0.6950 - val_loss: 0.6079 - val_accuracy: 0.7200\n",
      "Epoch 211/300\n",
      "19/19 [==============================] - 0s 3ms/step - loss: 0.5370 - accuracy: 0.7017 - val_loss: 0.6122 - val_accuracy: 0.7000\n",
      "Epoch 212/300\n",
      "19/19 [==============================] - 0s 3ms/step - loss: 0.5588 - accuracy: 0.6850 - val_loss: 0.5828 - val_accuracy: 0.7300\n",
      "Epoch 213/300\n",
      "19/19 [==============================] - 0s 3ms/step - loss: 0.5383 - accuracy: 0.7050 - val_loss: 0.5769 - val_accuracy: 0.7300\n",
      "Epoch 214/300\n",
      "19/19 [==============================] - 0s 3ms/step - loss: 0.5354 - accuracy: 0.7100 - val_loss: 0.5881 - val_accuracy: 0.7100\n",
      "Epoch 215/300\n",
      "19/19 [==============================] - 0s 3ms/step - loss: 0.5411 - accuracy: 0.7100 - val_loss: 0.6208 - val_accuracy: 0.7000\n",
      "Epoch 216/300\n",
      "19/19 [==============================] - 0s 3ms/step - loss: 0.5426 - accuracy: 0.6967 - val_loss: 0.5801 - val_accuracy: 0.7100\n",
      "Epoch 217/300\n",
      "19/19 [==============================] - 0s 3ms/step - loss: 0.5362 - accuracy: 0.7100 - val_loss: 0.5823 - val_accuracy: 0.7500\n",
      "Epoch 218/300\n",
      "19/19 [==============================] - 0s 3ms/step - loss: 0.5291 - accuracy: 0.7200 - val_loss: 0.5957 - val_accuracy: 0.7000\n",
      "Epoch 219/300\n",
      "19/19 [==============================] - 0s 3ms/step - loss: 0.5358 - accuracy: 0.7067 - val_loss: 0.5787 - val_accuracy: 0.7200\n",
      "Epoch 220/300\n",
      "19/19 [==============================] - 0s 3ms/step - loss: 0.5331 - accuracy: 0.7100 - val_loss: 0.5834 - val_accuracy: 0.7100\n",
      "Epoch 221/300\n",
      "19/19 [==============================] - 0s 3ms/step - loss: 0.5310 - accuracy: 0.7083 - val_loss: 0.5803 - val_accuracy: 0.7400\n",
      "Epoch 222/300\n",
      "19/19 [==============================] - 0s 3ms/step - loss: 0.5344 - accuracy: 0.7100 - val_loss: 0.5837 - val_accuracy: 0.7400\n",
      "Epoch 223/300\n",
      "19/19 [==============================] - 0s 3ms/step - loss: 0.5432 - accuracy: 0.7000 - val_loss: 0.6034 - val_accuracy: 0.7000\n",
      "Epoch 224/300\n",
      "19/19 [==============================] - 0s 3ms/step - loss: 0.5336 - accuracy: 0.7150 - val_loss: 0.5943 - val_accuracy: 0.7100\n",
      "Epoch 225/300\n",
      "19/19 [==============================] - 0s 3ms/step - loss: 0.5427 - accuracy: 0.6950 - val_loss: 0.5838 - val_accuracy: 0.7500\n",
      "Epoch 226/300\n",
      "19/19 [==============================] - 0s 3ms/step - loss: 0.5367 - accuracy: 0.7050 - val_loss: 0.5845 - val_accuracy: 0.7200\n",
      "Epoch 227/300\n",
      "19/19 [==============================] - 0s 3ms/step - loss: 0.5374 - accuracy: 0.7067 - val_loss: 0.5779 - val_accuracy: 0.7300\n",
      "Epoch 228/300\n",
      "19/19 [==============================] - 0s 4ms/step - loss: 0.5300 - accuracy: 0.7133 - val_loss: 0.5816 - val_accuracy: 0.7100\n",
      "Epoch 229/300\n",
      "19/19 [==============================] - 0s 3ms/step - loss: 0.5323 - accuracy: 0.7033 - val_loss: 0.5860 - val_accuracy: 0.7100\n",
      "Epoch 230/300\n"
     ]
    },
    {
     "name": "stdout",
     "output_type": "stream",
     "text": [
      "19/19 [==============================] - 0s 3ms/step - loss: 0.5314 - accuracy: 0.7067 - val_loss: 0.5755 - val_accuracy: 0.7400\n",
      "Epoch 231/300\n",
      "19/19 [==============================] - 0s 3ms/step - loss: 0.5284 - accuracy: 0.7150 - val_loss: 0.5827 - val_accuracy: 0.7600\n",
      "Epoch 232/300\n",
      "19/19 [==============================] - 0s 3ms/step - loss: 0.5327 - accuracy: 0.7167 - val_loss: 0.5819 - val_accuracy: 0.7100\n",
      "Epoch 233/300\n",
      "19/19 [==============================] - 0s 3ms/step - loss: 0.5275 - accuracy: 0.7217 - val_loss: 0.5816 - val_accuracy: 0.7300\n",
      "Epoch 234/300\n",
      "19/19 [==============================] - 0s 3ms/step - loss: 0.5333 - accuracy: 0.7033 - val_loss: 0.5997 - val_accuracy: 0.7000\n",
      "Epoch 235/300\n",
      "19/19 [==============================] - 0s 3ms/step - loss: 0.5436 - accuracy: 0.7017 - val_loss: 0.5845 - val_accuracy: 0.7100\n",
      "Epoch 236/300\n",
      "19/19 [==============================] - 0s 3ms/step - loss: 0.5338 - accuracy: 0.7150 - val_loss: 0.5912 - val_accuracy: 0.7400\n",
      "Epoch 237/300\n",
      "19/19 [==============================] - 0s 3ms/step - loss: 0.5275 - accuracy: 0.7117 - val_loss: 0.5909 - val_accuracy: 0.7200\n",
      "Epoch 238/300\n",
      "19/19 [==============================] - 0s 3ms/step - loss: 0.5324 - accuracy: 0.7100 - val_loss: 0.5844 - val_accuracy: 0.7600\n",
      "Epoch 239/300\n",
      "19/19 [==============================] - 0s 3ms/step - loss: 0.5311 - accuracy: 0.7083 - val_loss: 0.5833 - val_accuracy: 0.7500\n",
      "Epoch 240/300\n",
      "19/19 [==============================] - 0s 4ms/step - loss: 0.5353 - accuracy: 0.7100 - val_loss: 0.5989 - val_accuracy: 0.7400\n",
      "Epoch 241/300\n",
      "19/19 [==============================] - 0s 3ms/step - loss: 0.5437 - accuracy: 0.6900 - val_loss: 0.5975 - val_accuracy: 0.7300\n",
      "Epoch 242/300\n",
      "19/19 [==============================] - 0s 3ms/step - loss: 0.5308 - accuracy: 0.7183 - val_loss: 0.5927 - val_accuracy: 0.7100\n",
      "Epoch 243/300\n",
      "19/19 [==============================] - 0s 3ms/step - loss: 0.5313 - accuracy: 0.7167 - val_loss: 0.5830 - val_accuracy: 0.7500\n",
      "Epoch 244/300\n",
      "19/19 [==============================] - 0s 3ms/step - loss: 0.5329 - accuracy: 0.7067 - val_loss: 0.5888 - val_accuracy: 0.7400\n",
      "Epoch 245/300\n",
      "19/19 [==============================] - 0s 3ms/step - loss: 0.5355 - accuracy: 0.7067 - val_loss: 0.5806 - val_accuracy: 0.7100\n",
      "Epoch 246/300\n",
      "19/19 [==============================] - 0s 3ms/step - loss: 0.5372 - accuracy: 0.7017 - val_loss: 0.5833 - val_accuracy: 0.7200\n",
      "Epoch 247/300\n",
      "19/19 [==============================] - 0s 3ms/step - loss: 0.5313 - accuracy: 0.7150 - val_loss: 0.5820 - val_accuracy: 0.7100\n",
      "Epoch 248/300\n",
      "19/19 [==============================] - 0s 3ms/step - loss: 0.5280 - accuracy: 0.7067 - val_loss: 0.5845 - val_accuracy: 0.7100\n",
      "Epoch 249/300\n",
      "19/19 [==============================] - 0s 3ms/step - loss: 0.5285 - accuracy: 0.7100 - val_loss: 0.5836 - val_accuracy: 0.7300\n",
      "Epoch 250/300\n",
      "19/19 [==============================] - 0s 3ms/step - loss: 0.5285 - accuracy: 0.7017 - val_loss: 0.6067 - val_accuracy: 0.7000\n",
      "Epoch 251/300\n",
      "19/19 [==============================] - 0s 3ms/step - loss: 0.5280 - accuracy: 0.7083 - val_loss: 0.5788 - val_accuracy: 0.7200\n",
      "Epoch 252/300\n",
      "19/19 [==============================] - 0s 3ms/step - loss: 0.5387 - accuracy: 0.7033 - val_loss: 0.6103 - val_accuracy: 0.7100\n",
      "Epoch 253/300\n",
      "19/19 [==============================] - 0s 3ms/step - loss: 0.5467 - accuracy: 0.7017 - val_loss: 0.5886 - val_accuracy: 0.7200\n",
      "Epoch 254/300\n",
      "19/19 [==============================] - 0s 3ms/step - loss: 0.5282 - accuracy: 0.7083 - val_loss: 0.5816 - val_accuracy: 0.7300\n",
      "Epoch 255/300\n",
      "19/19 [==============================] - 0s 3ms/step - loss: 0.5286 - accuracy: 0.7183 - val_loss: 0.5833 - val_accuracy: 0.7100\n",
      "Epoch 256/300\n",
      "19/19 [==============================] - 0s 3ms/step - loss: 0.5311 - accuracy: 0.7067 - val_loss: 0.5758 - val_accuracy: 0.7300\n",
      "Epoch 257/300\n",
      "19/19 [==============================] - 0s 3ms/step - loss: 0.5349 - accuracy: 0.7100 - val_loss: 0.5822 - val_accuracy: 0.7500\n",
      "Epoch 258/300\n",
      "19/19 [==============================] - 0s 3ms/step - loss: 0.5329 - accuracy: 0.7050 - val_loss: 0.6116 - val_accuracy: 0.7100\n",
      "Epoch 259/300\n",
      "19/19 [==============================] - 0s 3ms/step - loss: 0.5307 - accuracy: 0.7167 - val_loss: 0.5809 - val_accuracy: 0.7400\n",
      "Epoch 260/300\n",
      "19/19 [==============================] - 0s 3ms/step - loss: 0.5258 - accuracy: 0.7117 - val_loss: 0.5818 - val_accuracy: 0.7300\n",
      "Epoch 261/300\n",
      "19/19 [==============================] - 0s 3ms/step - loss: 0.5273 - accuracy: 0.7100 - val_loss: 0.5837 - val_accuracy: 0.7200\n",
      "Epoch 262/300\n",
      "19/19 [==============================] - 0s 3ms/step - loss: 0.5283 - accuracy: 0.7233 - val_loss: 0.5813 - val_accuracy: 0.7400\n",
      "Epoch 263/300\n",
      "19/19 [==============================] - 0s 3ms/step - loss: 0.5243 - accuracy: 0.7167 - val_loss: 0.5786 - val_accuracy: 0.7500\n",
      "Epoch 264/300\n",
      "19/19 [==============================] - 0s 3ms/step - loss: 0.5308 - accuracy: 0.7017 - val_loss: 0.5850 - val_accuracy: 0.7400\n",
      "Epoch 265/300\n",
      "19/19 [==============================] - 0s 3ms/step - loss: 0.5302 - accuracy: 0.7150 - val_loss: 0.5861 - val_accuracy: 0.7500\n",
      "Epoch 266/300\n",
      "19/19 [==============================] - 0s 3ms/step - loss: 0.5254 - accuracy: 0.7100 - val_loss: 0.5812 - val_accuracy: 0.7100\n",
      "Epoch 267/300\n",
      "19/19 [==============================] - 0s 3ms/step - loss: 0.5239 - accuracy: 0.7083 - val_loss: 0.5928 - val_accuracy: 0.7400\n",
      "Epoch 268/300\n",
      "19/19 [==============================] - 0s 3ms/step - loss: 0.5306 - accuracy: 0.7033 - val_loss: 0.6076 - val_accuracy: 0.7100\n",
      "Epoch 269/300\n",
      "19/19 [==============================] - 0s 3ms/step - loss: 0.5377 - accuracy: 0.7017 - val_loss: 0.6130 - val_accuracy: 0.7200\n",
      "Epoch 270/300\n",
      "19/19 [==============================] - 0s 3ms/step - loss: 0.5346 - accuracy: 0.7067 - val_loss: 0.5863 - val_accuracy: 0.7400\n",
      "Epoch 271/300\n",
      "19/19 [==============================] - 0s 3ms/step - loss: 0.5271 - accuracy: 0.7117 - val_loss: 0.5763 - val_accuracy: 0.7400\n",
      "Epoch 272/300\n",
      "19/19 [==============================] - 0s 3ms/step - loss: 0.5285 - accuracy: 0.7050 - val_loss: 0.5782 - val_accuracy: 0.7300\n",
      "Epoch 273/300\n",
      "19/19 [==============================] - 0s 3ms/step - loss: 0.5211 - accuracy: 0.7117 - val_loss: 0.5986 - val_accuracy: 0.7300\n",
      "Epoch 274/300\n",
      "19/19 [==============================] - 0s 3ms/step - loss: 0.5374 - accuracy: 0.7000 - val_loss: 0.5843 - val_accuracy: 0.7400\n",
      "Epoch 275/300\n",
      "19/19 [==============================] - 0s 3ms/step - loss: 0.5281 - accuracy: 0.7117 - val_loss: 0.5838 - val_accuracy: 0.7500\n",
      "Epoch 276/300\n",
      "19/19 [==============================] - 0s 3ms/step - loss: 0.5239 - accuracy: 0.7183 - val_loss: 0.5817 - val_accuracy: 0.7400\n",
      "Epoch 277/300\n",
      "19/19 [==============================] - 0s 3ms/step - loss: 0.5446 - accuracy: 0.6867 - val_loss: 0.5981 - val_accuracy: 0.7400\n",
      "Epoch 278/300\n",
      "19/19 [==============================] - 0s 3ms/step - loss: 0.5447 - accuracy: 0.7000 - val_loss: 0.5858 - val_accuracy: 0.7400\n",
      "Epoch 279/300\n",
      "19/19 [==============================] - 0s 3ms/step - loss: 0.5288 - accuracy: 0.7033 - val_loss: 0.5999 - val_accuracy: 0.7300\n",
      "Epoch 280/300\n",
      "19/19 [==============================] - 0s 3ms/step - loss: 0.5351 - accuracy: 0.7033 - val_loss: 0.6081 - val_accuracy: 0.7300\n",
      "Epoch 281/300\n",
      "19/19 [==============================] - 0s 3ms/step - loss: 0.5468 - accuracy: 0.6900 - val_loss: 0.5853 - val_accuracy: 0.7600\n",
      "Epoch 282/300\n",
      "19/19 [==============================] - 0s 3ms/step - loss: 0.5298 - accuracy: 0.7083 - val_loss: 0.5802 - val_accuracy: 0.7400\n",
      "Epoch 283/300\n",
      "19/19 [==============================] - 0s 3ms/step - loss: 0.5217 - accuracy: 0.7150 - val_loss: 0.5974 - val_accuracy: 0.7200\n",
      "Epoch 284/300\n",
      "19/19 [==============================] - 0s 3ms/step - loss: 0.5405 - accuracy: 0.6917 - val_loss: 0.6187 - val_accuracy: 0.6800\n",
      "Epoch 285/300\n",
      "19/19 [==============================] - 0s 3ms/step - loss: 0.5368 - accuracy: 0.7100 - val_loss: 0.5886 - val_accuracy: 0.7100\n",
      "Epoch 286/300\n",
      "19/19 [==============================] - 0s 3ms/step - loss: 0.5248 - accuracy: 0.7100 - val_loss: 0.5768 - val_accuracy: 0.7400\n",
      "Epoch 287/300\n"
     ]
    },
    {
     "name": "stdout",
     "output_type": "stream",
     "text": [
      "19/19 [==============================] - 0s 3ms/step - loss: 0.5279 - accuracy: 0.7133 - val_loss: 0.5860 - val_accuracy: 0.7400\n",
      "Epoch 288/300\n",
      "19/19 [==============================] - 0s 3ms/step - loss: 0.5195 - accuracy: 0.7117 - val_loss: 0.5936 - val_accuracy: 0.7100\n",
      "Epoch 289/300\n",
      "19/19 [==============================] - 0s 3ms/step - loss: 0.5260 - accuracy: 0.7083 - val_loss: 0.6129 - val_accuracy: 0.7000\n",
      "Epoch 290/300\n",
      "19/19 [==============================] - 0s 3ms/step - loss: 0.5385 - accuracy: 0.6950 - val_loss: 0.5724 - val_accuracy: 0.7300\n",
      "Epoch 291/300\n",
      "19/19 [==============================] - 0s 3ms/step - loss: 0.5314 - accuracy: 0.7100 - val_loss: 0.5904 - val_accuracy: 0.7100\n",
      "Epoch 292/300\n",
      "19/19 [==============================] - 0s 3ms/step - loss: 0.5307 - accuracy: 0.7100 - val_loss: 0.5792 - val_accuracy: 0.7300\n",
      "Epoch 293/300\n",
      "19/19 [==============================] - 0s 3ms/step - loss: 0.5202 - accuracy: 0.7200 - val_loss: 0.5822 - val_accuracy: 0.7400\n",
      "Epoch 294/300\n",
      "19/19 [==============================] - 0s 3ms/step - loss: 0.5242 - accuracy: 0.7067 - val_loss: 0.6196 - val_accuracy: 0.7000\n",
      "Epoch 295/300\n",
      "19/19 [==============================] - 0s 3ms/step - loss: 0.5371 - accuracy: 0.7017 - val_loss: 0.5833 - val_accuracy: 0.7200\n",
      "Epoch 296/300\n",
      "19/19 [==============================] - 0s 4ms/step - loss: 0.5273 - accuracy: 0.7067 - val_loss: 0.5834 - val_accuracy: 0.7100\n",
      "Epoch 297/300\n",
      "19/19 [==============================] - 0s 3ms/step - loss: 0.5238 - accuracy: 0.7067 - val_loss: 0.5819 - val_accuracy: 0.7100\n",
      "Epoch 298/300\n",
      "19/19 [==============================] - 0s 3ms/step - loss: 0.5232 - accuracy: 0.7083 - val_loss: 0.5821 - val_accuracy: 0.7300\n",
      "Epoch 299/300\n",
      "19/19 [==============================] - 0s 3ms/step - loss: 0.5274 - accuracy: 0.7050 - val_loss: 0.6098 - val_accuracy: 0.7000\n",
      "Epoch 300/300\n",
      "19/19 [==============================] - 0s 3ms/step - loss: 0.5216 - accuracy: 0.7017 - val_loss: 0.5845 - val_accuracy: 0.7500\n"
     ]
    }
   ],
   "source": [
    "# 4. 모델 학습 : validation_data=[X_val, Y_val] 추가해서 학습\n",
    "hist = model.fit(X_train, Y_train,\n",
    "                 epochs=300,\n",
    "                 # batch_size=300,\n",
    "                 verbose=1,\n",
    "                 validation_data=[X_val, Y_val])"
   ]
  },
  {
   "cell_type": "markdown",
   "id": "2f13a48a",
   "metadata": {},
   "source": [
    "## 5. 모델 학습 평가"
   ]
  },
  {
   "cell_type": "code",
   "execution_count": 30,
   "id": "5f172394",
   "metadata": {
    "ExecuteTime": {
     "end_time": "2024-12-18T00:23:27.701392Z",
     "start_time": "2024-12-18T00:23:27.210348Z"
    }
   },
   "outputs": [
    {
     "data": {
      "image/png": "[encoded data removed]",
      "text/plain": [
       "<Figure size 1000x300 with 2 Axes>"
      ]
     },
     "metadata": {},
     "output_type": "display_data"
    }
   ],
   "source": [
    "# 5. 모델 학습평가\n",
    "# 5-1 그래프(hist.history.keys()를 확인 후 4가지)\n",
    "# 학습과정 표시하기(validation dataset 있는 경우)\n",
    "hist.history.keys()\n",
    "\n",
    "fig, loss_ax = plt.subplots(figsize=(10, 3))\n",
    "loss_ax.plot(hist.history['loss'], 'r', label='train loss')\n",
    "loss_ax.plot(hist.history['val_loss'], 'y', label= 'validation loss')\n",
    "loss_ax.set_xlabel('epoch')\n",
    "loss_ax.set_ylabel('loss')\n",
    "\n",
    "\n",
    "acc_ax = loss_ax.twinx() # loss_ax와 x축을 공유하는 acc_ax 생성\n",
    "acc_ax.plot(hist.history['accuracy'], 'g', label='train accuracy')\n",
    "acc_ax.plot(hist.history['val_accuracy'], 'b', label='validation accuracy')\n",
    "acc_ax.set_ylabel('accuracy')\n",
    "\n",
    "loss_ax.legend(loc='center right')\n",
    "acc_ax.legend(loc='center right')\n",
    "acc_ax.legend(bbox_to_anchor=(0.999, 0.7))\n",
    "\n",
    "plt.show()"
   ]
  },
  {
   "cell_type": "code",
   "execution_count": 34,
   "id": "8d284af3",
   "metadata": {
    "ExecuteTime": {
     "end_time": "2024-12-18T00:50:42.830187Z",
     "start_time": "2024-12-18T00:50:42.738658Z"
    }
   },
   "outputs": [
    {
     "name": "stdout",
     "output_type": "stream",
     "text": [
      "3/3 [==============================] - 0s 3ms/step - loss: 0.6847 - accuracy: 0.6176\n",
      "Test Dataset loss : 0.6846604347229004, accuracy(정확도) : 0.6176470518112183\n"
     ]
    }
   ],
   "source": [
    "# 5-2 모델 평가하기(X_test, Y_test)\n",
    "score = model.evaluate(X_test, Y_test)\n",
    "print('Test Dataset loss : {}, accuracy(정확도) : {}'.format(score[0], score[1]))"
   ]
  },
  {
   "cell_type": "code",
   "execution_count": 35,
   "id": "8262c14b",
   "metadata": {
    "ExecuteTime": {
     "end_time": "2024-12-18T00:51:22.536378Z",
     "start_time": "2024-12-18T00:51:22.529485Z"
    }
   },
   "outputs": [
    {
     "data": {
      "text/plain": [
       "[0.6846604347229004, 0.6176470518112183]"
      ]
     },
     "execution_count": 35,
     "metadata": {},
     "output_type": "execute_result"
    }
   ],
   "source": [
    "score  # loss와 compile에서 metrics=['accuracy']지정으로 accuracy가 저장됨"
   ]
  },
  {
   "cell_type": "code",
   "execution_count": 50,
   "id": "9519fa1e",
   "metadata": {
    "ExecuteTime": {
     "end_time": "2024-12-18T01:16:04.700602Z",
     "start_time": "2024-12-18T01:16:04.692904Z"
    }
   },
   "outputs": [
    {
     "data": {
      "text/plain": [
       "True"
      ]
     },
     "execution_count": 50,
     "metadata": {},
     "output_type": "execute_result"
    }
   ],
   "source": [
    "# 5-3 교차표(pd.crosstab 이용)(원핫인코딩을 이용한 분류분석, 이진분류)\n",
    "# pd.crosstab(실제값을1차원으로, 예측값을1차원으로)\n",
    "\n",
    "# crosstab에 들어갈 실제값\n",
    "all(Y_test.argmax(axis=1) == y_test)"
   ]
  },
  {
   "cell_type": "code",
   "execution_count": 47,
   "id": "d12a9237",
   "metadata": {
    "ExecuteTime": {
     "end_time": "2024-12-18T01:10:11.897801Z",
     "start_time": "2024-12-18T01:10:11.816182Z"
    },
    "scrolled": true
   },
   "outputs": [
    {
     "name": "stdout",
     "output_type": "stream",
     "text": [
      "3/3 [==============================] - 0s 2ms/step\n"
     ]
    },
    {
     "data": {
      "text/plain": [
       "array([0, 0, 0, 0, 0, 0, 0, 1, 0, 0, 1, 0, 0, 0, 0, 1, 1, 0, 1, 0, 0, 0,\n",
       "       1, 0, 0, 0, 0, 0, 0, 0, 0, 0, 0, 0, 0, 0, 0, 0, 0, 0, 1, 0, 0, 0,\n",
       "       1, 0, 0, 0, 1, 0, 0, 0, 0, 1, 0, 0, 0, 0, 0, 0, 0, 0, 0, 1, 0, 0,\n",
       "       0, 0], dtype=int64)"
      ]
     },
     "execution_count": 47,
     "metadata": {},
     "output_type": "execute_result"
    }
   ],
   "source": [
    "# crosstab에 들어갈 예측값\n",
    "Y_hat = model.predict(X_test)  # predict(2차원배열)\n",
    "y_hat = Y_hat.argmax(axis=1)\n",
    "y_hat = np.argmax(Y_hat, axis=1)\n",
    "y_hat\n",
    "# a = np.array([1, 2, 3])\n",
    "# a.mean()\n",
    "# np.mean(a)"
   ]
  },
  {
   "cell_type": "code",
   "execution_count": 49,
   "id": "4cf11acc",
   "metadata": {
    "ExecuteTime": {
     "end_time": "2024-12-18T01:11:14.019432Z",
     "start_time": "2024-12-18T01:11:13.999897Z"
    }
   },
   "outputs": [
    {
     "data": {
      "text/html": [
       "<div>\n",
       "<style scoped>\n",
       "    .dataframe tbody tr th:only-of-type {\n",
       "        vertical-align: middle;\n",
       "    }\n",
       "\n",
       "    .dataframe tbody tr th {\n",
       "        vertical-align: top;\n",
       "    }\n",
       "\n",
       "    .dataframe thead th {\n",
       "        text-align: right;\n",
       "    }\n",
       "</style>\n",
       "<table border=\"1\" class=\"dataframe\">\n",
       "  <thead>\n",
       "    <tr style=\"text-align: right;\">\n",
       "      <th>예측</th>\n",
       "      <th>0</th>\n",
       "      <th>1</th>\n",
       "    </tr>\n",
       "    <tr>\n",
       "      <th>실제</th>\n",
       "      <th></th>\n",
       "      <th></th>\n",
       "    </tr>\n",
       "  </thead>\n",
       "  <tbody>\n",
       "    <tr>\n",
       "      <th>0.0</th>\n",
       "      <td>36</td>\n",
       "      <td>5</td>\n",
       "    </tr>\n",
       "    <tr>\n",
       "      <th>1.0</th>\n",
       "      <td>21</td>\n",
       "      <td>6</td>\n",
       "    </tr>\n",
       "  </tbody>\n",
       "</table>\n",
       "</div>"
      ],
      "text/plain": [
       "예측    0  1\n",
       "실제        \n",
       "0.0  36  5\n",
       "1.0  21  6"
      ]
     },
     "execution_count": 49,
     "metadata": {},
     "output_type": "execute_result"
    }
   ],
   "source": [
    "ctab = pd.crosstab(y_test, y_hat)\n",
    "ctab.index.name = '실제'\n",
    "ctab.columns.name = '예측'\n",
    "ctab"
   ]
  },
  {
   "cell_type": "markdown",
   "id": "53c1d7f3",
   "metadata": {},
   "source": [
    "## 6. 모델 사용하기"
   ]
  },
  {
   "cell_type": "code",
   "execution_count": 53,
   "id": "9541336a",
   "metadata": {
    "ExecuteTime": {
     "end_time": "2024-12-18T01:17:20.394129Z",
     "start_time": "2024-12-18T01:17:20.379210Z"
    }
   },
   "outputs": [
    {
     "data": {
      "text/plain": [
       "array([  2.   , 122.   ,  76.   ,  27.   , 200.   ,  35.9  ,   0.483,\n",
       "        26.   ])"
      ]
     },
     "execution_count": 53,
     "metadata": {},
     "output_type": "execute_result"
    }
   ],
   "source": [
    "X_test[0]"
   ]
  },
  {
   "cell_type": "code",
   "execution_count": 57,
   "id": "458c3b04",
   "metadata": {
    "ExecuteTime": {
     "end_time": "2024-12-18T01:21:18.581874Z",
     "start_time": "2024-12-18T01:21:18.425774Z"
    }
   },
   "outputs": [
    {
     "name": "stdout",
     "output_type": "stream",
     "text": [
      "1/1 [==============================] - 0s 28ms/step\n",
      "1/1 [==============================] - 0s 31ms/step\n"
     ]
    },
    {
     "data": {
      "text/plain": [
       "array([[0.7004728, 0.2995272],\n",
       "       [0.7004728, 0.2995272]], dtype=float32)"
      ]
     },
     "execution_count": 57,
     "metadata": {},
     "output_type": "execute_result"
    }
   ],
   "source": [
    "# 6. 모델 사용하기 - 예측\n",
    "pred = model.predict(np.array([[2., 122.,  76.,  27., 200., 35.9, 0.483, 26.]]))\n",
    "pred = model.predict([[2., 122.,  76.,  27., 200., 35.9, 0.483, 26.],\n",
    "                      [2., 122.,  76.,  27., 200., 35.9, 0.483, 26.]])  # predict에는 2차원 배열 데이터로\n",
    "pred"
   ]
  },
  {
   "cell_type": "code",
   "execution_count": 58,
   "id": "9dbb103d",
   "metadata": {
    "ExecuteTime": {
     "end_time": "2024-12-18T01:32:19.915456Z",
     "start_time": "2024-12-18T01:32:19.907461Z"
    }
   },
   "outputs": [
    {
     "data": {
      "text/plain": [
       "array([0, 0], dtype=int64)"
      ]
     },
     "execution_count": 58,
     "metadata": {},
     "output_type": "execute_result"
    }
   ],
   "source": [
    "pred.argmax(axis=1)\n",
    "np.argmax(pred, axis=1)"
   ]
  },
  {
   "cell_type": "code",
   "execution_count": null,
   "id": "0f4b8c53",
   "metadata": {},
   "outputs": [],
   "source": []
  }
 ],
 "metadata": {
  "kernelspec": {
   "display_name": "Python 3 (ipykernel)",
   "language": "python",
   "name": "python3"
  },
  "language_info": {
   "codemirror_mode": {
    "name": "ipython",
    "version": 3
   },
   "file_extension": ".py",
   "mimetype": "text/x-python",
   "name": "python",
   "nbconvert_exporter": "python",
   "pygments_lexer": "ipython3",
   "version": "3.10.9"
  },
  "toc": {
   "base_numbering": 1,
   "nav_menu": {},
   "number_sections": true,
   "sideBar": true,
   "skip_h1_title": false,
   "title_cell": "Table of Contents",
   "title_sidebar": "Contents",
   "toc_cell": false,
   "toc_position": {
    "height": "calc(100% - 180px)",
    "left": "10px",
    "top": "150px",
    "width": "336.465px"
   },
   "toc_section_display": true,
   "toc_window_display": true
  }
 },
 "nbformat": 4,
 "nbformat_minor": 5
}
