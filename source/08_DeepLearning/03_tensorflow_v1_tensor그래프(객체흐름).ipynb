{
 "cells": [
  {
   "cell_type": "code",
   "execution_count": 1,
   "id": "48eb20c1",
   "metadata": {
    "ExecuteTime": {
     "end_time": "2024-12-13T00:51:04.992086Z",
     "start_time": "2024-12-13T00:51:04.981134Z"
    }
   },
   "outputs": [
    {
     "data": {
      "text/html": [
       "\n",
       "<style>\n",
       "div.container{width:80% !important;}\n",
       "div.prompt {min-width:70px;}\n",
       "div#toc-header{margin-top:150px;}\n",
       "span.toc-item-num{display:none;}\n",
       "div.CodeMirror {font-family:Consolas}\n",
       "div.input {font-family:Consolas}\n",
       "</style>\n"
      ],
      "text/plain": [
       "<IPython.core.display.HTML object>"
      ]
     },
     "metadata": {},
     "output_type": "display_data"
    }
   ],
   "source": [
    "from IPython.display import display, HTML\n",
    "\n",
    "display(\n",
    "    HTML(\"\"\"\n",
    "<style>\n",
    "div.container{width:80% !important;}\n",
    "div.prompt {min-width:70px;}\n",
    "div#toc-header{margin-top:150px;}\n",
    "span.toc-item-num{display:none;}\n",
    "div.CodeMirror {font-family:Consolas}\n",
    "div.input {font-family:Consolas}\n",
    "</style>\n",
    "\"\"\"))"
   ]
  },
  {
   "cell_type": "markdown",
   "id": "be1f9896",
   "metadata": {},
   "source": [
    "# 1. tensorflow v2.xx에서 v1 사용하기"
   ]
  },
  {
   "cell_type": "code",
   "execution_count": 4,
   "id": "39d346f0",
   "metadata": {
    "ExecuteTime": {
     "end_time": "2024-12-13T00:55:41.671933Z",
     "start_time": "2024-12-13T00:55:41.666935Z"
    }
   },
   "outputs": [],
   "source": [
    "import tensorflow.compat.v1 as tf\n",
    "tf.disable_v2_behavior()  # v2를 비활성화 하고 v1을 활성화\n",
    "# 두 번 실행 시 경고메세지 사라짐"
   ]
  },
  {
   "cell_type": "markdown",
   "id": "0043a110",
   "metadata": {},
   "source": [
    "## Tensorflow\n",
    " - 그래프 정의 (tensor객체의 흐름)\n",
    " - sess = tf.Session()을 실행\n",
    " - sess.run()을 통해 변수값을 확인할 수 있음"
   ]
  },
  {
   "cell_type": "code",
   "execution_count": 8,
   "id": "779234bd",
   "metadata": {
    "ExecuteTime": {
     "end_time": "2024-12-13T01:03:03.741637Z",
     "start_time": "2024-12-13T01:03:03.654561Z"
    }
   },
   "outputs": [
    {
     "name": "stdout",
     "output_type": "stream",
     "text": [
      "b'Hello, Tensorflow'\n",
      "Hello, Tensorflow\n"
     ]
    }
   ],
   "source": [
    "# tensor = data(상수, 변수)와 연산\n",
    "node1 = tf.constant('Hello, Tensorflow')  # tensor객체 정의(tf.constant():상수)\n",
    "sess  = tf.Session()                      # tensor객체 활성화(값이 들어감)\n",
    "print(sess.run(node1))\n",
    "print(sess.run(node1).decode())  # b'' 제거"
   ]
  },
  {
   "cell_type": "code",
   "execution_count": 20,
   "id": "b7097cee",
   "metadata": {
    "ExecuteTime": {
     "end_time": "2024-12-13T01:11:13.688859Z",
     "start_time": "2024-12-13T01:11:13.673191Z"
    }
   },
   "outputs": [
    {
     "name": "stdout",
     "output_type": "stream",
     "text": [
      "[10.0, 20.0, 30.0]\n",
      "Tensor(\"Const_26:0\", shape=(), dtype=float16)\n",
      "Tensor(\"Const_27:0\", shape=(), dtype=float16)\n",
      "Tensor(\"Add_11:0\", shape=(), dtype=float16)\n"
     ]
    }
   ],
   "source": [
    "# 간단한 수학 연산 tensor 그래프\n",
    "node1 = tf.constant(10, dtype=tf.float16)\n",
    "node2 = tf.constant(20, dtype=tf.float16)\n",
    "node3 = tf.add(node1, node2)\n",
    "sess  = tf.Session()\n",
    "print(sess.run([node1, node2, node3]))\n",
    "print(node1, node2, node3, sep='\\n')"
   ]
  },
  {
   "cell_type": "code",
   "execution_count": 21,
   "id": "981f8c37",
   "metadata": {
    "ExecuteTime": {
     "end_time": "2024-12-13T01:14:28.669675Z",
     "start_time": "2024-12-13T01:14:28.647480Z"
    }
   },
   "outputs": [
    {
     "data": {
      "text/plain": [
       "[array([1, 2, 3], dtype=int16), array([1., 2., 3.], dtype=float32)]"
      ]
     },
     "execution_count": 21,
     "metadata": {},
     "output_type": "execute_result"
    }
   ],
   "source": [
    "# 타입 변경\n",
    "import numpy as np\n",
    "node1 = tf.constant(np.array([1, 2, 3]),  # 기본적으로 np.array로 들어감\n",
    "                    dtype=tf.int16)\n",
    "node2 = tf.cast(node1, dtype=tf.float32)  # tf.cast() : 형변환\n",
    "sess  = tf.Session()\n",
    "sess.run([node1, node2])"
   ]
  },
  {
   "cell_type": "code",
   "execution_count": 22,
   "id": "ded2c3f6",
   "metadata": {
    "ExecuteTime": {
     "end_time": "2024-12-13T01:18:54.622349Z",
     "start_time": "2024-12-13T01:18:54.590128Z"
    }
   },
   "outputs": [
    {
     "data": {
      "text/plain": [
       "2"
      ]
     },
     "execution_count": 22,
     "metadata": {},
     "output_type": "execute_result"
    }
   ],
   "source": [
    "# 평균값 계산 : tf.reduce_mean()\n",
    "data = np.array([1, 2, 3, 4])\n",
    "m    = tf.reduce_mean(data)\n",
    "sess = tf.Session()\n",
    "sess.run(m)  # data가 정수이므로 결과값도 정수로 출력됨"
   ]
  },
  {
   "cell_type": "code",
   "execution_count": 23,
   "id": "72cd719c",
   "metadata": {
    "ExecuteTime": {
     "end_time": "2024-12-13T01:19:53.806680Z",
     "start_time": "2024-12-13T01:19:53.788902Z"
    }
   },
   "outputs": [
    {
     "data": {
      "text/plain": [
       "2.5"
      ]
     },
     "execution_count": 23,
     "metadata": {},
     "output_type": "execute_result"
    }
   ],
   "source": [
    "data = np.array([1., 2., 3., 4.])\n",
    "m    = tf.reduce_mean(data)\n",
    "sess = tf.Session()\n",
    "sess.run(m)  # data가 실수이므로 결과값도 실수로 출력됨"
   ]
  },
  {
   "cell_type": "code",
   "execution_count": 28,
   "id": "87834922",
   "metadata": {
    "ExecuteTime": {
     "end_time": "2024-12-13T01:44:51.698062Z",
     "start_time": "2024-12-13T01:44:50.344183Z"
    }
   },
   "outputs": [
    {
     "data": {
      "image/png": "[encoded data removed]",
      "text/plain": [
       "<Figure size 640x480 with 1 Axes>"
      ]
     },
     "metadata": {},
     "output_type": "display_data"
    }
   ],
   "source": [
    "# tf.random_normal([size]) : 평균이 0이고, 표준편차가 1인 난수 size개 발생. 난수 갯수 : 독립변수 갯수\n",
    "import matplotlib.pyplot as plt\n",
    "tensor = tf.random_normal([1000])  # np.random.normal()과 같음  # 정규분포 난수\n",
    "sess   = tf.Session()\n",
    "plt.hist(sess.run(tensor))\n",
    "plt.show()"
   ]
  },
  {
   "cell_type": "markdown",
   "id": "aa76eb62",
   "metadata": {},
   "source": [
    "# 2. tensorflow v1을 이용한 linear regression을 구현\n",
    "## 2.1 독립변수 x가 1개, 종속변수 y가 1개"
   ]
  },
  {
   "cell_type": "code",
   "execution_count": 58,
   "id": "4d259b4b",
   "metadata": {
    "ExecuteTime": {
     "end_time": "2024-12-13T03:21:10.236196Z",
     "start_time": "2024-12-13T03:21:08.164181Z"
    }
   },
   "outputs": [
    {
     "name": "stdout",
     "output_type": "stream",
     "text": [
      "0번째 cost : 0.15800689160823822, W : [0.7898491], b : [0.752326]\n",
      "300번째 cost : 0.017040040343999863, W : [0.8487533], b : [0.34381947]\n",
      "600번째 cost : 0.004020766355097294, W : [0.9265308], b : [0.16701272]\n",
      "900번째 cost : 0.0009487375500611961, W : [0.96431184], b : [0.08112752]\n",
      "1200번째 cost : 0.00022386225464288145, W : [0.98266435], b : [0.03940806]\n",
      "1500번째 cost : 5.282170241116546e-05, W : [0.9915792], b : [0.01914254]\n",
      "1800번째 cost : 1.246370084118098e-05, W : [0.9959095], b : [0.00929863]\n",
      "2100번째 cost : 2.941155116786831e-06, W : [0.99801296], b : [0.004517]\n",
      "2400번째 cost : 6.940542789379833e-07, W : [0.99903464], b : [0.0021943]\n",
      "2700번째 cost : 1.6391470580856549e-07, W : [0.9995308], b : [0.00106637]\n",
      "3000번째 cost : 3.877282495068357e-08, W : [0.9997717], b : [0.00051863]\n",
      "3300번째 cost : 9.194106809218283e-09, W : [0.9998889], b : [0.00025256]\n",
      "3600번째 cost : 2.1932911042910064e-09, W : [0.99994564], b : [0.00012321]\n",
      "3900번째 cost : 5.282664861105957e-10, W : [0.9999732], b : [6.050364e-05]\n",
      "4200번째 cost : 1.210056915779134e-10, W : [0.99998724], b : [2.9009378e-05]\n",
      "4500번째 cost : 3.140370255505509e-11, W : [0.9999934], b : [1.4756858e-05]\n",
      "4800번째 cost : 1.0935302142967007e-11, W : [0.999996], b : [8.632625e-06]\n",
      "5100번째 cost : 5.5382608221687946e-12, W : [0.99999714], b : [6.0014613e-06]\n",
      "5400번째 cost : 3.8035286725746076e-12, W : [0.9999976], b : [4.8841925e-06]\n",
      "5700번째 cost : 3.243310351189188e-12, W : [0.99999774], b : [4.498843e-06]\n",
      "6000번째 cost : 3.243232722313638e-12, W : [0.99999774], b : [4.490238e-06]\n"
     ]
    }
   ],
   "source": [
    "# tensor 그래프(객체 흐름) 정의\n",
    "# data set(x, y)\n",
    "x = np.array([1, 2, 3])  # 독립변수  #     ┌(W:weight)\n",
    "y = np.array([1, 2, 3])  # 종속변수  # y = 1*x + 0\n",
    "                         #                      └(b:bias)\n",
    "\n",
    "# weight와 bias 변수 설정 (처음에는 랜덤값으로 셋팅 후, 학습과정에서 변경)\n",
    "# tf.Variable() : 변수\n",
    "W = tf.Variable(tf.random.normal([1]), name='weight')  # 출력  # W라는 node  # 독립변수가 1개 이므로 W값도 1개가 필요함\n",
    "b = tf.Variable(tf.random.normal([1]), name='bias')    # 입력  # b라는 node  # layer가 하나씩 지나갈 때마다\n",
    "\n",
    "# Hypothesis : 결과는 넘파이 배열(array)\n",
    "H = W*x + b  # H라는 node\n",
    "\n",
    "# cost function (손실함수 = mse : 최소제곱법)\n",
    "cost = tf.reduce_mean(tf.square(H - y))  # 예측치-실측값의 제곱  # 값이 작아지는 방향으로 학습시키기  # W와 b값에 따라서 cost값이 달라짐\n",
    "\n",
    "'''\n",
    "학습 목적 : cost가 최소가 되는 W, b를 찾는 것\n",
    "cost 함수는 2차 함수이므로 곡선그래프. 곡선위 미분값이 줄어드는 방향으로 학습(경사하강법)\n",
    "'''\n",
    "optimizer = tf.train.GradientDescentOptimizer(learning_rate=0.01)  # 미분값에 대해 음수와 양수인지를 판단하고 ±0.01만큼 W와 b값을 조정\n",
    "train     = optimizer.minimize(cost)  # train을 구동하면 cost값과 H값이 계산됨\n",
    "\n",
    "# Session 생성 : 그래프 활성화\n",
    "sess = tf.Session()\n",
    "# tf.Variable 변수 노드(W, b) 초기화\n",
    "sess.run(tf.global_variables_initializer())  # 임의의 W, b값\n",
    "# sess.run([W, b])\n",
    "\n",
    "# 6000번 학습 (v2에서의 fit함수)\n",
    "for step in range(6001):\n",
    "    _, cost_val, W_val, b_val = sess.run([train, cost, W, b])  # train은 출력하지 않음\n",
    "    if step%300 == 0:  # 300번에 1번\n",
    "        print('{}번째 cost : {}, W : {}, b : {}'.format(step, cost_val, W_val, b_val))"
   ]
  },
  {
   "cell_type": "code",
   "execution_count": 40,
   "id": "dda158c1",
   "metadata": {
    "ExecuteTime": {
     "end_time": "2024-12-13T02:46:49.318560Z",
     "start_time": "2024-12-13T02:46:49.310560Z"
    }
   },
   "outputs": [
    {
     "data": {
      "text/plain": [
       "[array([0.99999774], dtype=float32), array([4.4902276e-06], dtype=float32)]"
      ]
     },
     "execution_count": 40,
     "metadata": {},
     "output_type": "execute_result"
    }
   ],
   "source": [
    "# 최종적으로 나온 회귀식 도출 :  H = W*x + b\n",
    "sess.run([W, b])"
   ]
  },
  {
   "cell_type": "code",
   "execution_count": 41,
   "id": "b3082e83",
   "metadata": {
    "ExecuteTime": {
     "end_time": "2024-12-13T02:46:49.743719Z",
     "start_time": "2024-12-13T02:46:49.727994Z"
    }
   },
   "outputs": [
    {
     "data": {
      "text/plain": [
       "(array([0.99999774], dtype=float32), array([4.4902276e-06], dtype=float32))"
      ]
     },
     "execution_count": 41,
     "metadata": {},
     "output_type": "execute_result"
    }
   ],
   "source": [
    "W_, b_ = sess.run([W, b])\n",
    "W_, b_"
   ]
  },
  {
   "cell_type": "code",
   "execution_count": 42,
   "id": "8f45b727",
   "metadata": {
    "ExecuteTime": {
     "end_time": "2024-12-13T02:46:50.127046Z",
     "start_time": "2024-12-13T02:46:50.111249Z"
    }
   },
   "outputs": [
    {
     "name": "stdout",
     "output_type": "stream",
     "text": [
      "최종 회귀식 : H = 0.9999977350234985*x + 4.490227638598299e-06\n"
     ]
    }
   ],
   "source": [
    "print('최종 회귀식 : H = {}*x + {}'.format(W_[0], b_[0]))"
   ]
  },
  {
   "cell_type": "code",
   "execution_count": 45,
   "id": "a34c7f5e",
   "metadata": {
    "ExecuteTime": {
     "end_time": "2024-12-13T02:48:46.203822Z",
     "start_time": "2024-12-13T02:48:46.196826Z"
    }
   },
   "outputs": [
    {
     "data": {
      "text/plain": [
       "2.999997695298134"
      ]
     },
     "execution_count": 45,
     "metadata": {},
     "output_type": "execute_result"
    }
   ],
   "source": [
    "# 예측값 \n",
    "def to_predict(x):\n",
    "    return W_[0]*x + b_[0]\n",
    "to_predict(3)"
   ]
  },
  {
   "cell_type": "markdown",
   "id": "dccac61f",
   "metadata": {},
   "source": [
    "## 2.2 predict을 하기 위한 placeholder 이용\n",
    " - placeholder : 외부에서 데이터를 입력받을 수 있는 노드"
   ]
  },
  {
   "cell_type": "code",
   "execution_count": 59,
   "id": "32ddd737",
   "metadata": {
    "ExecuteTime": {
     "end_time": "2024-12-13T03:21:14.375781Z",
     "start_time": "2024-12-13T03:21:14.324212Z"
    }
   },
   "outputs": [
    {
     "data": {
      "text/plain": [
       "[array(10., dtype=float16), array(20., dtype=float16), 30.0]"
      ]
     },
     "execution_count": 59,
     "metadata": {},
     "output_type": "execute_result"
    }
   ],
   "source": [
    "a    = tf.placeholder(tf.float16)  # 할당받을 데이터의 타입 지정(값 없음)\n",
    "b    = tf.placeholder(tf.float16)\n",
    "ab   = tf.add(a, b)\n",
    "sess = tf.Session()\n",
    "# sess.run(a)  # a에 값이 없으므로 에러 발생\n",
    "sess.run([a, b, ab], feed_dict={a : 10, b : 20})"
   ]
  },
  {
   "cell_type": "code",
   "execution_count": 60,
   "id": "85b3bb8b",
   "metadata": {
    "ExecuteTime": {
     "end_time": "2024-12-13T03:21:14.587736Z",
     "start_time": "2024-12-13T03:21:14.579738Z"
    }
   },
   "outputs": [
    {
     "data": {
      "text/plain": [
       "array([2., 4., 6.], dtype=float16)"
      ]
     },
     "execution_count": 60,
     "metadata": {},
     "output_type": "execute_result"
    }
   ],
   "source": [
    "sess.run(ab, feed_dict={a : np.array([1, 2, 3]), b : np.array([1, 2, 3])})"
   ]
  },
  {
   "cell_type": "code",
   "execution_count": 61,
   "id": "eb243536",
   "metadata": {
    "ExecuteTime": {
     "end_time": "2024-12-13T03:21:19.852543Z",
     "start_time": "2024-12-13T03:21:14.836055Z"
    }
   },
   "outputs": [
    {
     "name": "stdout",
     "output_type": "stream",
     "text": [
      "1/6000번째 cost : 122.65675354003906, W : [-0.2131424], b : [0.3405667]\n",
      "301/6000번째 cost : 0.011898989789187908, W : [2.0372853], b : [0.8006818]\n",
      "601/6000번째 cost : 0.008410715498030186, W : [2.031352], b : [0.83242637]\n",
      "901/6000번째 cost : 0.005945051088929176, W : [2.026359], b : [0.8591145]\n",
      "1201/6000번째 cost : 0.004202197305858135, W : [2.0221612], b : [0.88155204]\n",
      "1501/6000번째 cost : 0.0029703343752771616, W : [2.0186322], b : [0.9004156]\n",
      "1801/6000번째 cost : 0.002099590376019478, W : [2.0156655], b : [0.91627455]\n",
      "2101/6000번째 cost : 0.0014841599622741342, W : [2.0131712], b : [0.9296074]\n",
      "2401/6000번째 cost : 0.001049137907102704, W : [2.011074], b : [0.94081634]\n",
      "2701/6000번째 cost : 0.0007416105945594609, W : [2.0093098], b : [0.9502402]\n",
      "3001/6000번째 cost : 0.0005242752376943827, W : [2.0078292], b : [0.95816284]\n",
      "3301/6000번째 cost : 0.00037061795592308044, W : [2.0065832], b : [0.9648238]\n",
      "3601/6000번째 cost : 0.00026200147112831473, W : [2.0055337], b : [0.9704242]\n",
      "3901/6000번째 cost : 0.0001852240675361827, W : [2.0046537], b : [0.9751325]\n",
      "4201/6000번째 cost : 0.00013094343012198806, W : [2.003912], b : [0.97909087]\n",
      "4501/6000번째 cost : 9.258578211301938e-05, W : [2.0032916], b : [0.98241854]\n",
      "4801/6000번째 cost : 6.546013173647225e-05, W : [2.0027654], b : [0.9852165]\n",
      "5101/6000번째 cost : 4.628362148650922e-05, W : [2.0023248], b : [0.9875691]\n",
      "5401/6000번째 cost : 3.272773392382078e-05, W : [2.0019553], b : [0.98954666]\n",
      "5701/6000번째 cost : 2.314871017006226e-05, W : [2.001647], b : [0.99120957]\n",
      "6001/6000번째 cost : 1.636215347389225e-05, W : [2.0013835], b : [0.9926092]\n",
      "6301/6000번째 cost : 1.1576457836781628e-05, W : [2.0011632], b : [0.99378264]\n",
      "6601/6000번째 cost : 8.181374141713604e-06, W : [2.0009785], b : [0.9947737]\n",
      "6901/6000번째 cost : 5.794035132566933e-06, W : [2.0008252], b : [0.99560225]\n",
      "7201/6000번째 cost : 4.093474672117736e-06, W : [2.0006907], b : [0.9963027]\n",
      "7501/6000번째 cost : 2.8942445169377606e-06, W : [2.000582], b : [0.9968919]\n",
      "7801/6000번째 cost : 2.049425347649958e-06, W : [2.0004911], b : [0.9973845]\n",
      "8101/6000번째 cost : 1.4555416782968678e-06, W : [2.0004148], b : [0.9977961]\n",
      "8401/6000번째 cost : 1.0292476417816943e-06, W : [2.000345], b : [0.9981464]\n",
      "8701/6000번째 cost : 7.244016160257161e-07, W : [2.00029], b : [0.9984447]\n",
      "9001/6000번째 cost : 5.107549441163428e-07, W : [2.000244], b : [0.998694]\n",
      "9301/6000번째 cost : 3.606608913742093e-07, W : [2.0002053], b : [0.9989026]\n",
      "9601/6000번째 cost : 2.5546222559569287e-07, W : [2.0001733], b : [0.99907625]\n",
      "9901/6000번째 cost : 1.807993754709969e-07, W : [2.0001462], b : [0.99922293]\n"
     ]
    }
   ],
   "source": [
    "# data set : (H = 2x + 1)이 되도록 세팅\n",
    "x_data = np.array([1, 2, 3, 5, 8])\n",
    "y_data = np.array([3, 5, 7, 11, 17])\n",
    "\n",
    "# placeholder 설정(x:독립변수, y:종속변수)\n",
    "x = tf.placeholder(dtype=tf.float32)  # cost를 실수로 받기 위해 입력받을 값도 실수로 받아옴\n",
    "y = tf.placeholder(dtype=tf.float32)\n",
    "\n",
    "# weight & bias 변수 설정\n",
    "# tf.random_normal([size]) : 평균이 0이고, 표준편차가 1인 난수 size개 발생. 난수 갯수 : 독립변수 갯수\n",
    "W = tf.Variable(tf.random.normal([1]), name='weight')  # x_data에 따라 2에 수렴해야 함\n",
    "b = tf.Variable(tf.random.normal([1]), name='bias')    # y_data에 따라 1에 수렴해야 함\n",
    "\n",
    "# Hypothesis (가설:예측값)\n",
    "H = W*x + b\n",
    "\n",
    "# cost function == loss function\n",
    "cost = tf.reduce_mean(tf.square(H - y))\n",
    "\n",
    "# 경사하강법\n",
    "# optimizer = tf.train.GradientDescentOptimizer(learning_rate=0.001)\n",
    "# train     = optimizer.minimize(cost)\n",
    "train     = tf.train.GradientDescentOptimizer(learning_rate=0.001).minimize(cost)\n",
    "\n",
    "# session 생성 & 변수 초기화\n",
    "sess = tf.Session()\n",
    "sess.run(tf.global_variables_initializer())\n",
    "\n",
    "# 학습 6000번\n",
    "for step in range(10000):  # 0부터 5999번\n",
    "    _, cost_val, W_val, b_val = sess.run([train, cost, W, b], feed_dict={x : x_data, y : y_data})\n",
    "    if step%300 == 0:\n",
    "        print('{}/6000번째 cost : {}, W : {}, b : {}'.format(step+1, cost_val, W_val, b_val))"
   ]
  },
  {
   "cell_type": "code",
   "execution_count": 62,
   "id": "68ebf0cd",
   "metadata": {
    "ExecuteTime": {
     "end_time": "2024-12-13T03:34:36.632881Z",
     "start_time": "2024-12-13T03:34:36.612631Z"
    }
   },
   "outputs": [
    {
     "data": {
      "text/plain": [
       "[array([2.0001385], dtype=float32), array([0.99926424], dtype=float32)]"
      ]
     },
     "execution_count": 62,
     "metadata": {},
     "output_type": "execute_result"
    }
   ],
   "source": [
    "# 최종 W, b 값\n",
    "sess.run([W, b])"
   ]
  },
  {
   "cell_type": "code",
   "execution_count": 64,
   "id": "7f7a260e",
   "metadata": {
    "ExecuteTime": {
     "end_time": "2024-12-13T03:36:31.996411Z",
     "start_time": "2024-12-13T03:36:31.988413Z"
    }
   },
   "outputs": [
    {
     "data": {
      "text/plain": [
       "array([10.999956], dtype=float32)"
      ]
     },
     "execution_count": 64,
     "metadata": {},
     "output_type": "execute_result"
    }
   ],
   "source": [
    "# 예측하기\n",
    "sess.run(H, feed_dict={x : 5})  # x가 5일때 예측값은 11에 가까움"
   ]
  },
  {
   "cell_type": "code",
   "execution_count": 65,
   "id": "b19de49d",
   "metadata": {
    "ExecuteTime": {
     "end_time": "2024-12-13T03:36:45.474088Z",
     "start_time": "2024-12-13T03:36:45.467087Z"
    }
   },
   "outputs": [
    {
     "data": {
      "text/plain": [
       "array([10.999956, 13.000095, 15.000235], dtype=float32)"
      ]
     },
     "execution_count": 65,
     "metadata": {},
     "output_type": "execute_result"
    }
   ],
   "source": [
    "sess.run(H, feed_dict={x : np.array([5, 6, 7])})"
   ]
  },
  {
   "cell_type": "markdown",
   "id": "677fb4cc",
   "metadata": {},
   "source": [
    "## 2.3 scale이 다른 데이터들의 linear regression 구현(scale 조정 X)"
   ]
  },
  {
   "cell_type": "code",
   "execution_count": 66,
   "id": "a620a7b1",
   "metadata": {
    "ExecuteTime": {
     "end_time": "2024-12-13T04:03:08.177861Z",
     "start_time": "2024-12-13T04:03:05.173298Z"
    }
   },
   "outputs": [
    {
     "name": "stdout",
     "output_type": "stream",
     "text": [
      "1/6000번째 cost : 3946.303955078125, W : [7.9065847], b : [0.93297255]\n",
      "301/6000번째 cost : 79.15718841552734, W : [10.127393], b : [0.00913462]\n",
      "601/6000번째 cost : 79.13996887207031, W : [10.154451], b : [-0.19121347]\n",
      "901/6000번째 cost : 79.13946533203125, W : [10.158961], b : [-0.22461106]\n",
      "1201/6000번째 cost : 79.13945007324219, W : [10.159713], b : [-0.23017856]\n",
      "1501/6000번째 cost : 79.13946533203125, W : [10.159839], b : [-0.23110607]\n",
      "1801/6000번째 cost : 79.13944244384766, W : [10.15986], b : [-0.2312603]\n",
      "2101/6000번째 cost : 79.13945007324219, W : [10.1598625], b : [-0.23128164]\n",
      "2401/6000번째 cost : 79.13946533203125, W : [10.1598625], b : [-0.23128368]\n",
      "2701/6000번째 cost : 79.13946533203125, W : [10.1598625], b : [-0.23128368]\n",
      "3001/6000번째 cost : 79.13946533203125, W : [10.1598625], b : [-0.23128368]\n",
      "3301/6000번째 cost : 79.13946533203125, W : [10.1598625], b : [-0.23128368]\n",
      "3601/6000번째 cost : 79.13946533203125, W : [10.1598625], b : [-0.23128368]\n",
      "3901/6000번째 cost : 79.13946533203125, W : [10.1598625], b : [-0.23128368]\n",
      "4201/6000번째 cost : 79.13946533203125, W : [10.1598625], b : [-0.23128368]\n",
      "4501/6000번째 cost : 79.13946533203125, W : [10.1598625], b : [-0.23128368]\n",
      "4801/6000번째 cost : 79.13946533203125, W : [10.1598625], b : [-0.23128368]\n",
      "5101/6000번째 cost : 79.13946533203125, W : [10.1598625], b : [-0.23128368]\n",
      "5401/6000번째 cost : 79.13946533203125, W : [10.1598625], b : [-0.23128368]\n",
      "5701/6000번째 cost : 79.13946533203125, W : [10.1598625], b : [-0.23128368]\n"
     ]
    }
   ],
   "source": [
    "x_data = np.array([1, 2, 5, 8, 10])     # 독립변수\n",
    "y_data = np.array([5, 15, 68, 80, 95])  # 종속변수\n",
    "\n",
    "# placeholder 설정 : predict 가능하도록 하기 위함\n",
    "x = tf.placeholder(dtype=tf.float32)\n",
    "y = tf.placeholder(dtype=tf.float32)\n",
    "\n",
    "# weight & bias 변수 설정\n",
    "W = tf.Variable(tf.random.normal([1]), name='weight')\n",
    "b = tf.Variable(tf.random.normal([1]), name='bias')\n",
    "\n",
    "# Hypothesis 가설\n",
    "H = W*x + b\n",
    "\n",
    "# cost function(loss function) : 손실함수\n",
    "cost = tf.reduce_mean(tf.square(H - y))\n",
    "\n",
    "# 경사하강법\n",
    "optimizer = tf.train.GradientDescentOptimizer(learning_rate=0.01)\n",
    "train     = optimizer.minimize(cost)\n",
    "\n",
    "# Session & Variable 초기화\n",
    "sess = tf.Session()\n",
    "sess.run(tf.global_variables_initializer())\n",
    "\n",
    "# 학습\n",
    "for step in range(1, 6001):\n",
    "    _, cost_val, W_val, b_val = sess.run([train, cost, W, b], feed_dict={x : x_data, y : y_data})\n",
    "    if step%300 == 1:\n",
    "        print('{}/6000번째 cost : {}, W : {}, b : {}'.format(step, cost_val, W_val, b_val))"
   ]
  },
  {
   "cell_type": "code",
   "execution_count": 67,
   "id": "f701f639",
   "metadata": {
    "ExecuteTime": {
     "end_time": "2024-12-13T04:07:58.532119Z",
     "start_time": "2024-12-13T04:07:58.505968Z"
    }
   },
   "outputs": [
    {
     "data": {
      "text/plain": [
       "array([50.568027], dtype=float32)"
      ]
     },
     "execution_count": 67,
     "metadata": {},
     "output_type": "execute_result"
    }
   ],
   "source": [
    "# 예측\n",
    "sess.run(H, feed_dict={x : 5})  # cost값이 크므로 신뢰도 저하"
   ]
  },
  {
   "cell_type": "code",
   "execution_count": 68,
   "id": "ee0604dd",
   "metadata": {
    "ExecuteTime": {
     "end_time": "2024-12-13T04:10:12.910785Z",
     "start_time": "2024-12-13T04:10:12.905789Z"
    }
   },
   "outputs": [],
   "source": [
    "# cost값이 멈춤 : local 최소값"
   ]
  },
  {
   "cell_type": "markdown",
   "id": "f93ea42a",
   "metadata": {},
   "source": [
    "## 2.4 scale이 다른 데이터들의 linear regression 구현(scale 조정 O)"
   ]
  },
  {
   "cell_type": "markdown",
   "id": "2fe5cb96",
   "metadata": {},
   "source": [
    "### scale을 맞추는 방법 : 모든 데이터를 일정 범위 내로 조정\n",
    " - normalization(정규화) : 데이터의 최대값을 1, 최소값을 0으로 조정\n",
    "                         x - Xmin\n",
    "     normalization = ────────────────\n",
    "                        Xmax - Xmin\n",
    "            * 위의 식을 써도 되지만 라이브러리를 주로 씀(sklearn.preprocessing.MinMaxScale 이용)\n",
    " \n",
    " - standardization(표준화) : 데이터의 평균을 0, 표준편차를 1로 조정\n",
    "                        x - Xmean(평균)\n",
    "     standardization = ────────────────\n",
    "                         Xstd(표준편차\n",
    "            * 위의 식을 써도 되지만 라이브러리를 주로 씀(sklearn.preprocessing.StandardScaler 이용)"
   ]
  },
  {
   "cell_type": "code",
   "execution_count": 71,
   "id": "c431face",
   "metadata": {
    "ExecuteTime": {
     "end_time": "2024-12-13T05:33:21.291870Z",
     "start_time": "2024-12-13T05:33:21.284687Z"
    }
   },
   "outputs": [
    {
     "name": "stdout",
     "output_type": "stream",
     "text": [
      "[0.         0.11111111 0.44444444 0.77777778 1.        ]\n",
      "[0.         0.11111111 0.7        0.83333333 1.        ]\n"
     ]
    }
   ],
   "source": [
    "# 라이브러리를 사용하지 않고 정규화 : 예측할 경우 x데이터를 스케일 변환을 하고, 스케일된 예측값을 변환하기 번거로움\n",
    "x_data = np.array([1, 2, 5, 8, 10])     # 독립변수(1차원)\n",
    "y_data = np.array([5, 15, 68, 80, 95])  # 종속변수(1차원)\n",
    "\n",
    "scaled_x_data = (x_data - x_data.min()) / (x_data.max() - x_data.min())\n",
    "scaled_y_data = (y_data - y_data.min()) / (y_data.max() - y_data.min())\n",
    "print(scaled_x_data)\n",
    "print(scaled_y_data)"
   ]
  },
  {
   "cell_type": "code",
   "execution_count": 72,
   "id": "690293f2",
   "metadata": {
    "ExecuteTime": {
     "end_time": "2024-12-13T05:35:54.930118Z",
     "start_time": "2024-12-13T05:35:54.922121Z"
    }
   },
   "outputs": [
    {
     "data": {
      "text/plain": [
       "0.4444444444444444"
      ]
     },
     "execution_count": 72,
     "metadata": {},
     "output_type": "execute_result"
    }
   ],
   "source": [
    "x = (5 - x_data.min()) / (x_data.max() - x_data.min())\n",
    "x"
   ]
  },
  {
   "cell_type": "code",
   "execution_count": 73,
   "id": "d83f26d7",
   "metadata": {
    "ExecuteTime": {
     "end_time": "2024-12-13T05:37:05.137470Z",
     "start_time": "2024-12-13T05:37:05.130836Z"
    }
   },
   "outputs": [
    {
     "data": {
      "text/plain": [
       "68.0"
      ]
     },
     "execution_count": 73,
     "metadata": {},
     "output_type": "execute_result"
    }
   ],
   "source": [
    "0.7 * (y_data.max() - y_data.min()) + y_data.min()"
   ]
  },
  {
   "cell_type": "code",
   "execution_count": 78,
   "id": "b0986af1",
   "metadata": {
    "ExecuteTime": {
     "end_time": "2024-12-13T05:49:26.345015Z",
     "start_time": "2024-12-13T05:49:26.331887Z"
    }
   },
   "outputs": [
    {
     "name": "stdout",
     "output_type": "stream",
     "text": [
      "위의 x데이터 :  [ 1  2  5  8 10]\n",
      "위의 y데이터 :  [ 5 15 68 80 95]\n"
     ]
    },
    {
     "data": {
      "text/plain": [
       "array([[ 1.        ,  0.        ,  5.        ,  0.        ],\n",
       "       [ 2.        ,  0.11111111, 15.        ,  0.11111111],\n",
       "       [ 5.        ,  0.44444444, 68.        ,  0.7       ],\n",
       "       [ 8.        ,  0.77777778, 80.        ,  0.83333333],\n",
       "       [10.        ,  1.        , 95.        ,  1.        ]])"
      ]
     },
     "execution_count": 78,
     "metadata": {},
     "output_type": "execute_result"
    }
   ],
   "source": [
    "# 라이브러리를 사용해서 정규화\n",
    "x_data = np.array([1, 2, 5, 8, 10])     # 독립변수(1차원)\n",
    "print('위의 x데이터 : ', x_data)\n",
    "y_data = np.array([5, 15, 68, 80, 95])\n",
    "print('위의 y데이터 : ', y_data)\n",
    "\n",
    "x_data = np.array([1, 2, 5, 8, 10]).reshape(-1, 1)     # 독립변수(2차원)\n",
    "y_data = np.array([5, 15, 68, 80, 95]).reshape(-1, 1)  # 종속변수\n",
    "\n",
    "from sklearn.preprocessing import MinMaxScaler\n",
    "scaler_x = MinMaxScaler()  # x_data를 표준화시킬 객체\n",
    "scaler_x.fit(x_data)\n",
    "scaled_x_data = scaler_x.transform(x_data)\n",
    "scaler_y = MinMaxScaler()  # y_data를 표준화시킬 객체\n",
    "scaler_y.fit(y_data)\n",
    "scaled_y_data = scaler_y.transform(y_data)\n",
    "np.column_stack([x_data, scaled_x_data, y_data, scaled_y_data])"
   ]
  },
  {
   "cell_type": "code",
   "execution_count": 81,
   "id": "0e84a8dd",
   "metadata": {
    "ExecuteTime": {
     "end_time": "2024-12-13T05:52:50.863815Z",
     "start_time": "2024-12-13T05:52:45.818115Z"
    }
   },
   "outputs": [
    {
     "name": "stdout",
     "output_type": "stream",
     "text": [
      "1/10000번째 cost : 7.95151424407959, W : [-1.6136013], b : [-1.3448346]\n",
      "301/10000번째 cost : 1.9962623119354248, W : [-0.9068494], b : [-0.24836671]\n",
      "601/10000번째 cost : 0.6369106769561768, W : [-0.5267581], b : [0.2459569]\n",
      "901/10000번째 cost : 0.30903124809265137, W : [-0.30424634], b : [0.45714867]\n",
      "1201/10000번째 cost : 0.21495716273784637, W : [-0.15914391], b : [0.535966]\n",
      "1501/10000번째 cost : 0.17588075995445251, W : [-0.05334158], b : [0.55360264]\n",
      "1801/10000번째 cost : 0.1514577716588974, W : [0.0313649], b : [0.54363054]\n",
      "2101/10000번째 cost : 0.13235804438591003, W : [0.10375432], b : [0.52183807]\n",
      "2401/10000번째 cost : 0.11622796207666397, W : [0.1681363], b : [0.49560833]\n",
      "2701/10000번째 cost : 0.10230908542871475, W : [0.22669612], b : [0.46835527]\n",
      "3001/10000번째 cost : 0.09022991359233856, W : [0.2806048], b : [0.4416206]\n",
      "3301/10000번째 cost : 0.07973188161849976, W : [0.33054432], b : [0.41606563]\n",
      "3601/10000번째 cost : 0.0706045925617218, W : [0.37695646], b : [0.39194047]\n",
      "3901/10000번째 cost : 0.06266827881336212, W : [0.42016166], b : [0.369304]\n",
      "4201/10000번째 cost : 0.05576737970113754, W : [0.46041515], b : [0.34812954]\n",
      "4501/10000번째 cost : 0.049766749143600464, W : [0.49793473], b : [0.3283529]\n",
      "4801/10000번째 cost : 0.04454894736409187, W : [0.5329139], b : [0.30989712]\n",
      "5101/10000번째 cost : 0.04001185670495033, W : [0.56552786], b : [0.29268005]\n",
      "5401/10000번째 cost : 0.03606666624546051, W : [0.5959383], b : [0.27662203]\n",
      "5701/10000번째 cost : 0.0326361283659935, W : [0.6242953], b : [0.26164645]\n",
      "6001/10000번째 cost : 0.029653126373887062, W : [0.6507376], b : [0.24768096]\n",
      "6301/10000번째 cost : 0.027059247717261314, W : [0.6753948], b : [0.23465773]\n",
      "6601/10000번째 cost : 0.02480379119515419, W : [0.6983872], b : [0.22251366]\n",
      "6901/10000번째 cost : 0.022842582315206528, W : [0.7198273], b : [0.21118937]\n",
      "7201/10000번째 cost : 0.02113722451031208, W : [0.73982], b : [0.20062952]\n",
      "7501/10000번째 cost : 0.01965433731675148, W : [0.7584632], b : [0.19078259]\n",
      "7801/10000번째 cost : 0.01836489513516426, W : [0.7758478], b : [0.18160018]\n",
      "8101/10000번째 cost : 0.01724366657435894, W : [0.7920588], b : [0.17303772]\n",
      "8401/10000번째 cost : 0.01626873016357422, W : [0.8071753], b : [0.16505331]\n",
      "8701/10000번째 cost : 0.015420970506966114, W : [0.8212714], b : [0.1576079]\n",
      "9001/10000번째 cost : 0.014683812856674194, W : [0.83441585], b : [0.15066512]\n",
      "9301/10000번째 cost : 0.014042815193533897, W : [0.8466731], b : [0.14419107]\n",
      "9601/10000번째 cost : 0.013485437259078026, W : [0.85810286], b : [0.138154]\n",
      "9901/10000번째 cost : 0.01300077885389328, W : [0.868761], b : [0.13252452]\n"
     ]
    }
   ],
   "source": [
    "# placeholder 설정 : predict 가능하도록 하기 위함\n",
    "x = tf.placeholder(dtype=tf.float32)\n",
    "y = tf.placeholder(dtype=tf.float32)\n",
    "\n",
    "# weight & bias 변수 설정\n",
    "W = tf.Variable(tf.random.normal([1]), name='weight')\n",
    "b = tf.Variable(tf.random.normal([1]), name='bias')\n",
    "\n",
    "# Hypothesis 가설\n",
    "H = W*x + b\n",
    "\n",
    "# cost function(loss function) : 손실함수\n",
    "cost = tf.reduce_mean(tf.square(H - y))\n",
    "\n",
    "# 경사하강법\n",
    "optimizer = tf.train.GradientDescentOptimizer(learning_rate=0.001)\n",
    "train     = optimizer.minimize(cost)\n",
    "\n",
    "# Session & Variable 초기화\n",
    "sess = tf.Session()\n",
    "sess.run(tf.global_variables_initializer())\n",
    "\n",
    "# 학습\n",
    "for step in range(1, 10001):\n",
    "    _, cost_val, W_val, b_val = sess.run([train, cost, W, b], feed_dict={x : scaled_x_data, y : scaled_y_data})\n",
    "    if step%300 == 1:\n",
    "        print('{}/10000번째 cost : {}, W : {}, b : {}'.format(step, cost_val, W_val, b_val))"
   ]
  },
  {
   "cell_type": "code",
   "execution_count": 84,
   "id": "655c62a4",
   "metadata": {
    "ExecuteTime": {
     "end_time": "2024-12-13T05:58:19.858493Z",
     "start_time": "2024-12-13T05:58:19.850496Z"
    }
   },
   "outputs": [
    {
     "name": "stdout",
     "output_type": "stream",
     "text": [
      "2를 스케일 조정된 값 :  [[0.11111111]]\n",
      "예측값 :  [[25.48881]]\n"
     ]
    }
   ],
   "source": [
    "# 예측\n",
    "scaled_input = scaler_x.transform(np.array([[2]]))  # 2차원\n",
    "print('2를 스케일 조정된 값 : ', scaled_input)\n",
    "scaled_output = sess.run(H, feed_dict={x : scaled_input})\n",
    "print('예측값 : ', scaler_y.inverse_transform(scaled_output))"
   ]
  },
  {
   "cell_type": "code",
   "execution_count": 86,
   "id": "5525e7f8",
   "metadata": {
    "ExecuteTime": {
     "end_time": "2024-12-13T06:00:13.990835Z",
     "start_time": "2024-12-13T06:00:13.983837Z"
    }
   },
   "outputs": [
    {
     "data": {
      "text/plain": [
       "(array([ 1,  2,  5,  8, 10]), array([ 5, 15, 68, 80, 95]))"
      ]
     },
     "execution_count": 86,
     "metadata": {},
     "output_type": "execute_result"
    }
   ],
   "source": [
    "x_data[:, 0], y_data[:, 0]  # 1차원"
   ]
  },
  {
   "cell_type": "code",
   "execution_count": 89,
   "id": "bc2b7f58",
   "metadata": {
    "ExecuteTime": {
     "end_time": "2024-12-13T06:16:18.366980Z",
     "start_time": "2024-12-13T06:16:18.356986Z"
    }
   },
   "outputs": [
    {
     "data": {
      "text/plain": [
       "array([[ 5.        , 16.76763153],\n",
       "       [15.        , 25.48880959],\n",
       "       [68.        , 51.65235138],\n",
       "       [80.        , 77.81587982],\n",
       "       [95.        , 95.25824738]])"
      ]
     },
     "execution_count": 89,
     "metadata": {},
     "output_type": "execute_result"
    }
   ],
   "source": [
    "# x_data들의 예측값\n",
    "scaled_y_hat = sess.run(H, feed_dict={x : scaled_x_data})\n",
    "y_hat = scaler_y.inverse_transform(scaled_y_hat)\n",
    "np.column_stack([y_data, y_hat])"
   ]
  },
  {
   "cell_type": "code",
   "execution_count": 101,
   "id": "adfb2b51",
   "metadata": {
    "ExecuteTime": {
     "end_time": "2024-12-13T06:22:06.145342Z",
     "start_time": "2024-12-13T06:22:05.985978Z"
    }
   },
   "outputs": [
    {
     "data": {
      "image/png": "[encoded data removed]",
      "text/plain": [
       "<Figure size 640x480 with 1 Axes>"
      ]
     },
     "metadata": {},
     "output_type": "display_data"
    }
   ],
   "source": [
    "import matplotlib.pyplot as plt\n",
    "plt.plot(x_data, y_data)  # 2차원데이터를 1차원으로\n",
    "plt.plot(x_data, y_hat)\n",
    "plt.show()"
   ]
  },
  {
   "cell_type": "code",
   "execution_count": 105,
   "id": "a92c513e",
   "metadata": {
    "ExecuteTime": {
     "end_time": "2024-12-13T06:22:41.817236Z",
     "start_time": "2024-12-13T06:22:41.809240Z"
    }
   },
   "outputs": [
    {
     "data": {
      "text/plain": [
       "(array([[ 1],\n",
       "        [ 2],\n",
       "        [ 5],\n",
       "        [ 8],\n",
       "        [10]]),\n",
       " array([ 1,  2,  5,  8, 10]),\n",
       " array([ 1,  2,  5,  8, 10]))"
      ]
     },
     "execution_count": 105,
     "metadata": {},
     "output_type": "execute_result"
    }
   ],
   "source": [
    "x_data, x_data[:, 0], x_data.ravel(),   # 2차원, 1차원"
   ]
  },
  {
   "cell_type": "code",
   "execution_count": 106,
   "id": "12f8e0a3",
   "metadata": {
    "ExecuteTime": {
     "end_time": "2024-12-13T06:23:59.186408Z",
     "start_time": "2024-12-13T06:23:58.777364Z"
    }
   },
   "outputs": [
    {
     "data": {
      "image/png": "[encoded data removed]",
      "text/plain": [
       "<Figure size 640x480 with 1 Axes>"
      ]
     },
     "metadata": {},
     "output_type": "display_data"
    }
   ],
   "source": [
    "import seaborn as sns\n",
    "import pandas as pd\n",
    "df = pd.DataFrame({'x' : x_data[:, 0], 'y' : y_data[:, 0]})\n",
    "sns.regplot(data=df, x='x', y='y')\n",
    "# 신뢰구간이 많은 곳은 넓게 그려짐\n",
    "plt.show()"
   ]
  },
  {
   "cell_type": "code",
   "execution_count": 109,
   "id": "b5e05cce",
   "metadata": {
    "ExecuteTime": {
     "end_time": "2024-12-13T06:36:19.618302Z",
     "start_time": "2024-12-13T06:36:19.609706Z"
    }
   },
   "outputs": [
    {
     "name": "stdout",
     "output_type": "stream",
     "text": [
      "[-1.22474487 -0.93313895 -0.05832118  0.81649658  1.39970842]\n",
      "[-1.32373476 -1.04563922  0.42826713  0.76198177  1.17912508]\n"
     ]
    }
   ],
   "source": [
    "# 라이브러리를 사용하지 않고 표준화\n",
    "x_data = np.array([1, 2, 5, 8, 10])     # 독립변수(1차원)\n",
    "y_data = np.array([5, 15, 68, 80, 95])  # 종속변수(1차원)\n",
    "scaled_x_data = (x_data - x_data.mean()) / x_data.std()\n",
    "print(scaled_x_data)\n",
    "scaled_y_data = (y_data - y_data.mean()) / y_data.std()\n",
    "print(scaled_y_data)"
   ]
  },
  {
   "cell_type": "code",
   "execution_count": 122,
   "id": "88501c31",
   "metadata": {
    "ExecuteTime": {
     "end_time": "2024-12-13T06:46:10.824609Z",
     "start_time": "2024-12-13T06:46:10.813144Z"
    }
   },
   "outputs": [
    {
     "name": "stdout",
     "output_type": "stream",
     "text": [
      "[[ 1.         -1.22474487]\n",
      " [ 2.         -0.93313895]\n",
      " [ 5.         -0.05832118]\n",
      " [ 8.          0.81649658]\n",
      " [10.          1.39970842]]\n",
      "[[ 5.         -1.32373476]\n",
      " [15.         -1.04563922]\n",
      " [68.          0.42826713]\n",
      " [80.          0.76198177]\n",
      " [95.          1.17912508]]\n"
     ]
    }
   ],
   "source": [
    "# 라이브러리를 사용해서 표준화\n",
    "x_data = np.array([1, 2, 5, 8, 10]).reshape(-1, 1)     # 독립변수(1차원)  # reshape(-1, 1) - 행:-1개만큼 열:고정\n",
    "y_data = np.array([5, 15, 68, 80, 95]).reshape(-1, 1)  # 종속변수(1차원)\n",
    "\n",
    "from sklearn.preprocessing import StandardScaler\n",
    "scaler_x = StandardScaler()  # x_data를 표준화할 객체\n",
    "scaler_x.fit(x_data)\n",
    "scaled_x_data = scaler_x.transform(x_data)\n",
    "scaler_y = StandardScaler()  # y_data를 표준화할 객체\n",
    "scaler_y.fit(y_data)\n",
    "scaler_y_data = scaler_y.transform(y_data)\n",
    "print(np.column_stack([x_data, scaled_x_data]))\n",
    "print(np.column_stack([y_data, scaled_y_data]))"
   ]
  },
  {
   "cell_type": "code",
   "execution_count": 124,
   "id": "bef2e39d",
   "metadata": {
    "ExecuteTime": {
     "end_time": "2024-12-13T06:49:15.433118Z",
     "start_time": "2024-12-13T06:49:10.053041Z"
    }
   },
   "outputs": [
    {
     "name": "stdout",
     "output_type": "stream",
     "text": [
      "1/10000번째 cost : 3.28338623046875, W : [-1.5043446], b : [-0.10587346]\n",
      "1001/10000번째 cost : 1.0416545867919922, W : [-0.20318353], b : [-0.01429979]\n",
      "2001/10000번째 cost : 1.0007599592208862, W : [-0.02744286], b : [-0.0019314]\n",
      "3001/10000번째 cost : 1.000013828277588, W : [-0.00370656], b : [-0.00026088]\n",
      "4001/10000번째 cost : 1.0000001192092896, W : [-0.00050063], b : [-3.5247987e-05]\n",
      "5001/10000번째 cost : 1.0, W : [-6.7616435e-05], b : [-4.7730587e-06]\n",
      "6001/10000번째 cost : 1.0000001192092896, W : [-9.132666e-06], b : [-6.5826725e-07]\n",
      "7001/10000번째 cost : 1.0000001192092896, W : [-1.2332349e-06], b : [-1.0193162e-07]\n",
      "8001/10000번째 cost : 1.0, W : [-1.6385336e-07], b : [-2.8714556e-08]\n",
      "9001/10000번째 cost : 1.0, W : [-3.4044277e-08], b : [-7.167437e-09]\n"
     ]
    }
   ],
   "source": [
    "# placeholder 설정 : predict 가능하도록 하기 위함\n",
    "x = tf.placeholder(dtype=tf.float32)\n",
    "y = tf.placeholder(dtype=tf.float32)\n",
    "\n",
    "# weight & bias 변수 설정\n",
    "W = tf.Variable(tf.random.normal([1]), name='weight')\n",
    "b = tf.Variable(tf.random.normal([1]), name='bias')\n",
    "\n",
    "# Hypothesis 가설\n",
    "H = W*x + b\n",
    "\n",
    "# cost function(loss function) : 손실함수\n",
    "cost = tf.reduce_mean(tf.square(H - y))\n",
    "\n",
    "# 경사하강법\n",
    "optimizer = tf.train.GradientDescentOptimizer(learning_rate=0.001)\n",
    "train     = optimizer.minimize(cost)\n",
    "\n",
    "# Session & Variable 초기화\n",
    "sess = tf.Session()\n",
    "sess.run(tf.global_variables_initializer())\n",
    "\n",
    "# 학습\n",
    "for step in range(1, 10001):\n",
    "    _, cost_val, W_val, b_val = sess.run([train, cost, W, b], feed_dict={x : scaled_x_data, y : scaled_y_data})\n",
    "    if step%1000 == 1:\n",
    "        print('{}/10000번째 cost : {}, W : {}, b : {}'.format(step, cost_val, W_val, b_val))"
   ]
  },
  {
   "cell_type": "markdown",
   "id": "8b3e164f",
   "metadata": {},
   "source": [
    "## 2.5 독립변수 x가 여러개인 linear Regression"
   ]
  },
  {
   "cell_type": "code",
   "execution_count": 70,
   "id": "f8e7d2a3",
   "metadata": {},
   "outputs": [],
   "source": [
    "import statsmodels.api as sm\n",
    "airquality = sm.datasets.get_rdataset('airquality').data\n",
    "airquality.to_csv('XXX.csv', index=False)"
   ]
  },
  {
   "cell_type": "code",
   "execution_count": null,
   "id": "c661eb3f",
   "metadata": {},
   "outputs": [],
   "source": []
  },
  {
   "cell_type": "code",
   "execution_count": null,
   "id": "6c63438f",
   "metadata": {},
   "outputs": [],
   "source": []
  },
  {
   "cell_type": "code",
   "execution_count": null,
   "id": "112c13ac",
   "metadata": {},
   "outputs": [],
   "source": []
  },
  {
   "cell_type": "code",
   "execution_count": null,
   "id": "61dcbee5",
   "metadata": {},
   "outputs": [],
   "source": []
  },
  {
   "cell_type": "code",
   "execution_count": null,
   "id": "0a4ae1f8",
   "metadata": {},
   "outputs": [],
   "source": []
  },
  {
   "cell_type": "code",
   "execution_count": null,
   "id": "4700d973",
   "metadata": {},
   "outputs": [],
   "source": []
  },
  {
   "cell_type": "markdown",
   "id": "bd3ec576",
   "metadata": {},
   "source": [
    "## csv를 array로 읽어오기"
   ]
  },
  {
   "cell_type": "code",
   "execution_count": 79,
   "id": "dc3745b7",
   "metadata": {},
   "outputs": [
    {
     "data": {
      "text/plain": [
       "((111, 3), (111,))"
      ]
     },
     "execution_count": 79,
     "metadata": {},
     "output_type": "execute_result"
    }
   ],
   "source": [
    "# 방법1\n",
    "# 1. csv를 dataFrame 읽어와\n",
    "data = pd.read_csv('data/ozone.csv')\n",
    "# 2. 결측치 대체 or 삭제\n",
    "# data.fillna(value=data.mean(), inplace=True) # 결측치 대체\n",
    "data.dropna(how='any', axis=0, inplace=True)\n",
    "x = data[['Solar.R', 'Wind', 'Temp']].values\n",
    "y = data['Ozone'].values\n",
    "x.shape, y.shape"
   ]
  },
  {
   "cell_type": "code",
   "execution_count": 81,
   "id": "5c84a883",
   "metadata": {},
   "outputs": [
    {
     "data": {
      "text/plain": [
       "array([[ 41. , 190. ,   7.4,  67. ,   5. ,   1. ],\n",
       "       [ 36. , 118. ,   8. ,  72. ,   5. ,   2. ],\n",
       "       [ 12. , 149. ,  12.6,  74. ,   5. ,   3. ],\n",
       "       [ 18. , 313. ,  11.5,  62. ,   5. ,   4. ],\n",
       "       [  nan,   nan,  14.3,  56. ,   5. ,   5. ],\n",
       "       [ 28. ,   nan,  14.9,  66. ,   5. ,   6. ],\n",
       "       [ 23. , 299. ,   8.6,  65. ,   5. ,   7. ],\n",
       "       [ 19. ,  99. ,  13.8,  59. ,   5. ,   8. ],\n",
       "       [  8. ,  19. ,  20.1,  61. ,   5. ,   9. ],\n",
       "       [  nan, 194. ,   8.6,  69. ,   5. ,  10. ],\n",
       "       [  7. ,   nan,   6.9,  74. ,   5. ,  11. ],\n",
       "       [ 16. , 256. ,   9.7,  69. ,   5. ,  12. ],\n",
       "       [ 11. , 290. ,   9.2,  66. ,   5. ,  13. ],\n",
       "       [ 14. , 274. ,  10.9,  68. ,   5. ,  14. ],\n",
       "       [ 18. ,  65. ,  13.2,  58. ,   5. ,  15. ],\n",
       "       [ 14. , 334. ,  11.5,  64. ,   5. ,  16. ],\n",
       "       [ 34. , 307. ,  12. ,  66. ,   5. ,  17. ],\n",
       "       [  6. ,  78. ,  18.4,  57. ,   5. ,  18. ],\n",
       "       [ 30. , 322. ,  11.5,  68. ,   5. ,  19. ],\n",
       "       [ 11. ,  44. ,   9.7,  62. ,   5. ,  20. ],\n",
       "       [  1. ,   8. ,   9.7,  59. ,   5. ,  21. ],\n",
       "       [ 11. , 320. ,  16.6,  73. ,   5. ,  22. ],\n",
       "       [  4. ,  25. ,   9.7,  61. ,   5. ,  23. ],\n",
       "       [ 32. ,  92. ,  12. ,  61. ,   5. ,  24. ],\n",
       "       [  nan,  66. ,  16.6,  57. ,   5. ,  25. ],\n",
       "       [  nan, 266. ,  14.9,  58. ,   5. ,  26. ],\n",
       "       [  nan,   nan,   8. ,  57. ,   5. ,  27. ],\n",
       "       [ 23. ,  13. ,  12. ,  67. ,   5. ,  28. ],\n",
       "       [ 45. , 252. ,  14.9,  81. ,   5. ,  29. ],\n",
       "       [115. , 223. ,   5.7,  79. ,   5. ,  30. ],\n",
       "       [ 37. , 279. ,   7.4,  76. ,   5. ,  31. ],\n",
       "       [  nan, 286. ,   8.6,  78. ,   6. ,   1. ],\n",
       "       [  nan, 287. ,   9.7,  74. ,   6. ,   2. ],\n",
       "       [  nan, 242. ,  16.1,  67. ,   6. ,   3. ],\n",
       "       [  nan, 186. ,   9.2,  84. ,   6. ,   4. ],\n",
       "       [  nan, 220. ,   8.6,  85. ,   6. ,   5. ],\n",
       "       [  nan, 264. ,  14.3,  79. ,   6. ,   6. ],\n",
       "       [ 29. , 127. ,   9.7,  82. ,   6. ,   7. ],\n",
       "       [  nan, 273. ,   6.9,  87. ,   6. ,   8. ],\n",
       "       [ 71. , 291. ,  13.8,  90. ,   6. ,   9. ],\n",
       "       [ 39. , 323. ,  11.5,  87. ,   6. ,  10. ],\n",
       "       [  nan, 259. ,  10.9,  93. ,   6. ,  11. ],\n",
       "       [  nan, 250. ,   9.2,  92. ,   6. ,  12. ],\n",
       "       [ 23. , 148. ,   8. ,  82. ,   6. ,  13. ],\n",
       "       [  nan, 332. ,  13.8,  80. ,   6. ,  14. ],\n",
       "       [  nan, 322. ,  11.5,  79. ,   6. ,  15. ],\n",
       "       [ 21. , 191. ,  14.9,  77. ,   6. ,  16. ],\n",
       "       [ 37. , 284. ,  20.7,  72. ,   6. ,  17. ],\n",
       "       [ 20. ,  37. ,   9.2,  65. ,   6. ,  18. ],\n",
       "       [ 12. , 120. ,  11.5,  73. ,   6. ,  19. ],\n",
       "       [ 13. , 137. ,  10.3,  76. ,   6. ,  20. ],\n",
       "       [  nan, 150. ,   6.3,  77. ,   6. ,  21. ],\n",
       "       [  nan,  59. ,   1.7,  76. ,   6. ,  22. ],\n",
       "       [  nan,  91. ,   4.6,  76. ,   6. ,  23. ],\n",
       "       [  nan, 250. ,   6.3,  76. ,   6. ,  24. ],\n",
       "       [  nan, 135. ,   8. ,  75. ,   6. ,  25. ],\n",
       "       [  nan, 127. ,   8. ,  78. ,   6. ,  26. ],\n",
       "       [  nan,  47. ,  10.3,  73. ,   6. ,  27. ],\n",
       "       [  nan,  98. ,  11.5,  80. ,   6. ,  28. ],\n",
       "       [  nan,  31. ,  14.9,  77. ,   6. ,  29. ],\n",
       "       [  nan, 138. ,   8. ,  83. ,   6. ,  30. ],\n",
       "       [135. , 269. ,   4.1,  84. ,   7. ,   1. ],\n",
       "       [ 49. , 248. ,   9.2,  85. ,   7. ,   2. ],\n",
       "       [ 32. , 236. ,   9.2,  81. ,   7. ,   3. ],\n",
       "       [  nan, 101. ,  10.9,  84. ,   7. ,   4. ],\n",
       "       [ 64. , 175. ,   4.6,  83. ,   7. ,   5. ],\n",
       "       [ 40. , 314. ,  10.9,  83. ,   7. ,   6. ],\n",
       "       [ 77. , 276. ,   5.1,  88. ,   7. ,   7. ],\n",
       "       [ 97. , 267. ,   6.3,  92. ,   7. ,   8. ],\n",
       "       [ 97. , 272. ,   5.7,  92. ,   7. ,   9. ],\n",
       "       [ 85. , 175. ,   7.4,  89. ,   7. ,  10. ],\n",
       "       [  nan, 139. ,   8.6,  82. ,   7. ,  11. ],\n",
       "       [ 10. , 264. ,  14.3,  73. ,   7. ,  12. ],\n",
       "       [ 27. , 175. ,  14.9,  81. ,   7. ,  13. ],\n",
       "       [  nan, 291. ,  14.9,  91. ,   7. ,  14. ],\n",
       "       [  7. ,  48. ,  14.3,  80. ,   7. ,  15. ],\n",
       "       [ 48. , 260. ,   6.9,  81. ,   7. ,  16. ],\n",
       "       [ 35. , 274. ,  10.3,  82. ,   7. ,  17. ],\n",
       "       [ 61. , 285. ,   6.3,  84. ,   7. ,  18. ],\n",
       "       [ 79. , 187. ,   5.1,  87. ,   7. ,  19. ],\n",
       "       [ 63. , 220. ,  11.5,  85. ,   7. ,  20. ],\n",
       "       [ 16. ,   7. ,   6.9,  74. ,   7. ,  21. ],\n",
       "       [  nan, 258. ,   9.7,  81. ,   7. ,  22. ],\n",
       "       [  nan, 295. ,  11.5,  82. ,   7. ,  23. ],\n",
       "       [ 80. , 294. ,   8.6,  86. ,   7. ,  24. ],\n",
       "       [108. , 223. ,   8. ,  85. ,   7. ,  25. ],\n",
       "       [ 20. ,  81. ,   8.6,  82. ,   7. ,  26. ],\n",
       "       [ 52. ,  82. ,  12. ,  86. ,   7. ,  27. ],\n",
       "       [ 82. , 213. ,   7.4,  88. ,   7. ,  28. ],\n",
       "       [ 50. , 275. ,   7.4,  86. ,   7. ,  29. ],\n",
       "       [ 64. , 253. ,   7.4,  83. ,   7. ,  30. ],\n",
       "       [ 59. , 254. ,   9.2,  81. ,   7. ,  31. ],\n",
       "       [ 39. ,  83. ,   6.9,  81. ,   8. ,   1. ],\n",
       "       [  9. ,  24. ,  13.8,  81. ,   8. ,   2. ],\n",
       "       [ 16. ,  77. ,   7.4,  82. ,   8. ,   3. ],\n",
       "       [ 78. ,   nan,   6.9,  86. ,   8. ,   4. ],\n",
       "       [ 35. ,   nan,   7.4,  85. ,   8. ,   5. ],\n",
       "       [ 66. ,   nan,   4.6,  87. ,   8. ,   6. ],\n",
       "       [122. , 255. ,   4. ,  89. ,   8. ,   7. ],\n",
       "       [ 89. , 229. ,  10.3,  90. ,   8. ,   8. ],\n",
       "       [110. , 207. ,   8. ,  90. ,   8. ,   9. ],\n",
       "       [  nan, 222. ,   8.6,  92. ,   8. ,  10. ],\n",
       "       [  nan, 137. ,  11.5,  86. ,   8. ,  11. ],\n",
       "       [ 44. , 192. ,  11.5,  86. ,   8. ,  12. ],\n",
       "       [ 28. , 273. ,  11.5,  82. ,   8. ,  13. ],\n",
       "       [ 65. , 157. ,   9.7,  80. ,   8. ,  14. ],\n",
       "       [  nan,  64. ,  11.5,  79. ,   8. ,  15. ],\n",
       "       [ 22. ,  71. ,  10.3,  77. ,   8. ,  16. ],\n",
       "       [ 59. ,  51. ,   6.3,  79. ,   8. ,  17. ],\n",
       "       [ 23. , 115. ,   7.4,  76. ,   8. ,  18. ],\n",
       "       [ 31. , 244. ,  10.9,  78. ,   8. ,  19. ],\n",
       "       [ 44. , 190. ,  10.3,  78. ,   8. ,  20. ],\n",
       "       [ 21. , 259. ,  15.5,  77. ,   8. ,  21. ],\n",
       "       [  9. ,  36. ,  14.3,  72. ,   8. ,  22. ],\n",
       "       [  nan, 255. ,  12.6,  75. ,   8. ,  23. ],\n",
       "       [ 45. , 212. ,   9.7,  79. ,   8. ,  24. ],\n",
       "       [168. , 238. ,   3.4,  81. ,   8. ,  25. ],\n",
       "       [ 73. , 215. ,   8. ,  86. ,   8. ,  26. ],\n",
       "       [  nan, 153. ,   5.7,  88. ,   8. ,  27. ],\n",
       "       [ 76. , 203. ,   9.7,  97. ,   8. ,  28. ],\n",
       "       [118. , 225. ,   2.3,  94. ,   8. ,  29. ],\n",
       "       [ 84. , 237. ,   6.3,  96. ,   8. ,  30. ],\n",
       "       [ 85. , 188. ,   6.3,  94. ,   8. ,  31. ],\n",
       "       [ 96. , 167. ,   6.9,  91. ,   9. ,   1. ],\n",
       "       [ 78. , 197. ,   5.1,  92. ,   9. ,   2. ],\n",
       "       [ 73. , 183. ,   2.8,  93. ,   9. ,   3. ],\n",
       "       [ 91. , 189. ,   4.6,  93. ,   9. ,   4. ],\n",
       "       [ 47. ,  95. ,   7.4,  87. ,   9. ,   5. ],\n",
       "       [ 32. ,  92. ,  15.5,  84. ,   9. ,   6. ],\n",
       "       [ 20. , 252. ,  10.9,  80. ,   9. ,   7. ],\n",
       "       [ 23. , 220. ,  10.3,  78. ,   9. ,   8. ],\n",
       "       [ 21. , 230. ,  10.9,  75. ,   9. ,   9. ],\n",
       "       [ 24. , 259. ,   9.7,  73. ,   9. ,  10. ],\n",
       "       [ 44. , 236. ,  14.9,  81. ,   9. ,  11. ],\n",
       "       [ 21. , 259. ,  15.5,  76. ,   9. ,  12. ],\n",
       "       [ 28. , 238. ,   6.3,  77. ,   9. ,  13. ],\n",
       "       [  9. ,  24. ,  10.9,  71. ,   9. ,  14. ],\n",
       "       [ 13. , 112. ,  11.5,  71. ,   9. ,  15. ],\n",
       "       [ 46. , 237. ,   6.9,  78. ,   9. ,  16. ],\n",
       "       [ 18. , 224. ,  13.8,  67. ,   9. ,  17. ],\n",
       "       [ 13. ,  27. ,  10.3,  76. ,   9. ,  18. ],\n",
       "       [ 24. , 238. ,  10.3,  68. ,   9. ,  19. ],\n",
       "       [ 16. , 201. ,   8. ,  82. ,   9. ,  20. ],\n",
       "       [ 13. , 238. ,  12.6,  64. ,   9. ,  21. ],\n",
       "       [ 23. ,  14. ,   9.2,  71. ,   9. ,  22. ],\n",
       "       [ 36. , 139. ,  10.3,  81. ,   9. ,  23. ],\n",
       "       [  7. ,  49. ,  10.3,  69. ,   9. ,  24. ],\n",
       "       [ 14. ,  20. ,  16.6,  63. ,   9. ,  25. ],\n",
       "       [ 30. , 193. ,   6.9,  70. ,   9. ,  26. ],\n",
       "       [  nan, 145. ,  13.2,  77. ,   9. ,  27. ],\n",
       "       [ 14. , 191. ,  14.3,  75. ,   9. ,  28. ],\n",
       "       [ 18. , 131. ,   8. ,  76. ,   9. ,  29. ],\n",
       "       [ 20. , 223. ,  11.5,  68. ,   9. ,  30. ]])"
      ]
     },
     "execution_count": 81,
     "metadata": {},
     "output_type": "execute_result"
    }
   ],
   "source": [
    "# 방법2 : csv -> 넘파일배열\n",
    "# data = np.loadtxt('data/ozone_nonan.csv', delimiter=',') NAN과 header가 없어야 함\n",
    "data = np.genfromtxt('data/ozone.csv', delimiter=',', skip_header=1,\n",
    "                    missing_values='NA', filling_values=np.nan)\n",
    "data"
   ]
  },
  {
   "cell_type": "code",
   "execution_count": null,
   "id": "ad800650",
   "metadata": {},
   "outputs": [],
   "source": []
  }
 ],
 "metadata": {
  "kernelspec": {
   "display_name": "Python 3 (ipykernel)",
   "language": "python",
   "name": "python3"
  },
  "language_info": {
   "codemirror_mode": {
    "name": "ipython",
    "version": 3
   },
   "file_extension": ".py",
   "mimetype": "text/x-python",
   "name": "python",
   "nbconvert_exporter": "python",
   "pygments_lexer": "ipython3",
   "version": "3.10.9"
  },
  "toc": {
   "base_numbering": 1,
   "nav_menu": {},
   "number_sections": true,
   "sideBar": true,
   "skip_h1_title": false,
   "title_cell": "Table of Contents",
   "title_sidebar": "Contents",
   "toc_cell": false,
   "toc_position": {
    "height": "calc(100% - 180px)",
    "left": "10px",
    "top": "150px",
    "width": "291.179px"
   },
   "toc_section_display": true,
   "toc_window_display": true
  }
 },
 "nbformat": 4,
 "nbformat_minor": 5
}
