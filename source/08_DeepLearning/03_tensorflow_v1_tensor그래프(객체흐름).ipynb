{
 "cells": [
  {
   "cell_type": "code",
   "execution_count": 1,
   "id": "48eb20c1",
   "metadata": {
    "ExecuteTime": {
     "end_time": "2024-12-13T00:51:04.992086Z",
     "start_time": "2024-12-13T00:51:04.981134Z"
    }
   },
   "outputs": [
    {
     "data": {
      "text/html": [
       "\n",
       "<style>\n",
       "div.container{width:80% !important;}\n",
       "div.prompt {min-width:70px;}\n",
       "div#toc-header{margin-top:150px;}\n",
       "span.toc-item-num{display:none;}\n",
       "div.CodeMirror {font-family:Consolas}\n",
       "div.input {font-family:Consolas}\n",
       "</style>\n"
      ],
      "text/plain": [
       "<IPython.core.display.HTML object>"
      ]
     },
     "metadata": {},
     "output_type": "display_data"
    }
   ],
   "source": [
    "from IPython.display import display, HTML\n",
    "\n",
    "display(\n",
    "    HTML(\"\"\"\n",
    "<style>\n",
    "div.container{width:80% !important;}\n",
    "div.prompt {min-width:70px;}\n",
    "div#toc-header{margin-top:150px;}\n",
    "span.toc-item-num{display:none;}\n",
    "div.CodeMirror {font-family:Consolas}\n",
    "div.input {font-family:Consolas}\n",
    "</style>\n",
    "\"\"\"))"
   ]
  },
  {
   "cell_type": "markdown",
   "id": "be1f9896",
   "metadata": {},
   "source": [
    "# 1. tensorflow v2.xx에서 v1 사용하기"
   ]
  },
  {
   "cell_type": "code",
   "execution_count": 3,
   "id": "39d346f0",
   "metadata": {
    "ExecuteTime": {
     "end_time": "2024-12-13T00:55:41.671933Z",
     "start_time": "2024-12-13T00:55:41.666935Z"
    }
   },
   "outputs": [],
   "source": [
    "import tensorflow.compat.v1 as tf\n",
    "tf.disable_v2_behavior()  # v2를 비활성화 하고 v1을 활성화\n",
    "# 두 번 실행 시 경고메세지 사라짐\n",
    "import numpy as np\n",
    "import pandas as pd"
   ]
  },
  {
   "cell_type": "markdown",
   "id": "0043a110",
   "metadata": {},
   "source": [
    "## Tensorflow\n",
    " - 그래프 정의 (tensor객체의 흐름)\n",
    " - sess = tf.Session()을 실행\n",
    " - sess.run()을 통해 변수값을 확인할 수 있음"
   ]
  },
  {
   "cell_type": "code",
   "execution_count": 8,
   "id": "779234bd",
   "metadata": {
    "ExecuteTime": {
     "end_time": "2024-12-13T01:03:03.741637Z",
     "start_time": "2024-12-13T01:03:03.654561Z"
    }
   },
   "outputs": [
    {
     "name": "stdout",
     "output_type": "stream",
     "text": [
      "b'Hello, Tensorflow'\n",
      "Hello, Tensorflow\n"
     ]
    }
   ],
   "source": [
    "# tensor = data(상수, 변수)와 연산\n",
    "node1 = tf.constant('Hello, Tensorflow')  # tensor객체 정의(tf.constant():상수)\n",
    "sess  = tf.Session()                      # tensor객체 활성화(값이 들어감)\n",
    "print(sess.run(node1))\n",
    "print(sess.run(node1).decode())  # b'' 제거"
   ]
  },
  {
   "cell_type": "code",
   "execution_count": 20,
   "id": "b7097cee",
   "metadata": {
    "ExecuteTime": {
     "end_time": "2024-12-13T01:11:13.688859Z",
     "start_time": "2024-12-13T01:11:13.673191Z"
    }
   },
   "outputs": [
    {
     "name": "stdout",
     "output_type": "stream",
     "text": [
      "[10.0, 20.0, 30.0]\n",
      "Tensor(\"Const_26:0\", shape=(), dtype=float16)\n",
      "Tensor(\"Const_27:0\", shape=(), dtype=float16)\n",
      "Tensor(\"Add_11:0\", shape=(), dtype=float16)\n"
     ]
    }
   ],
   "source": [
    "# 간단한 수학 연산 tensor 그래프\n",
    "node1 = tf.constant(10, dtype=tf.float16)\n",
    "node2 = tf.constant(20, dtype=tf.float16)\n",
    "node3 = tf.add(node1, node2)\n",
    "sess  = tf.Session()\n",
    "print(sess.run([node1, node2, node3]))\n",
    "print(node1, node2, node3, sep='\\n')"
   ]
  },
  {
   "cell_type": "code",
   "execution_count": 21,
   "id": "981f8c37",
   "metadata": {
    "ExecuteTime": {
     "end_time": "2024-12-13T01:14:28.669675Z",
     "start_time": "2024-12-13T01:14:28.647480Z"
    }
   },
   "outputs": [
    {
     "data": {
      "text/plain": [
       "[array([1, 2, 3], dtype=int16), array([1., 2., 3.], dtype=float32)]"
      ]
     },
     "execution_count": 21,
     "metadata": {},
     "output_type": "execute_result"
    }
   ],
   "source": [
    "# 타입 변경\n",
    "import numpy as np\n",
    "node1 = tf.constant(np.array([1, 2, 3]),  # 기본적으로 np.array로 들어감\n",
    "                    dtype=tf.int16)\n",
    "node2 = tf.cast(node1, dtype=tf.float32)  # tf.cast() : 형변환\n",
    "sess  = tf.Session()\n",
    "sess.run([node1, node2])"
   ]
  },
  {
   "cell_type": "code",
   "execution_count": 22,
   "id": "ded2c3f6",
   "metadata": {
    "ExecuteTime": {
     "end_time": "2024-12-13T01:18:54.622349Z",
     "start_time": "2024-12-13T01:18:54.590128Z"
    }
   },
   "outputs": [
    {
     "data": {
      "text/plain": [
       "2"
      ]
     },
     "execution_count": 22,
     "metadata": {},
     "output_type": "execute_result"
    }
   ],
   "source": [
    "# 평균값 계산 : tf.reduce_mean()\n",
    "data = np.array([1, 2, 3, 4])\n",
    "m    = tf.reduce_mean(data)\n",
    "sess = tf.Session()\n",
    "sess.run(m)  # data가 정수이므로 결과값도 정수로 출력됨"
   ]
  },
  {
   "cell_type": "code",
   "execution_count": 23,
   "id": "72cd719c",
   "metadata": {
    "ExecuteTime": {
     "end_time": "2024-12-13T01:19:53.806680Z",
     "start_time": "2024-12-13T01:19:53.788902Z"
    }
   },
   "outputs": [
    {
     "data": {
      "text/plain": [
       "2.5"
      ]
     },
     "execution_count": 23,
     "metadata": {},
     "output_type": "execute_result"
    }
   ],
   "source": [
    "data = np.array([1., 2., 3., 4.])\n",
    "m    = tf.reduce_mean(data)\n",
    "sess = tf.Session()\n",
    "sess.run(m)  # data가 실수이므로 결과값도 실수로 출력됨"
   ]
  },
  {
   "cell_type": "code",
   "execution_count": 28,
   "id": "87834922",
   "metadata": {
    "ExecuteTime": {
     "end_time": "2024-12-13T01:44:51.698062Z",
     "start_time": "2024-12-13T01:44:50.344183Z"
    }
   },
   "outputs": [
    {
     "data": {
      "image/png": "[encoded data removed]",
      "text/plain": [
       "<Figure size 640x480 with 1 Axes>"
      ]
     },
     "metadata": {},
     "output_type": "display_data"
    }
   ],
   "source": [
    "# tf.random_normal([size]) : 평균이 0이고, 표준편차가 1인 난수 size개 발생. 난수 갯수 : 독립변수 갯수\n",
    "import matplotlib.pyplot as plt\n",
    "tensor = tf.random_normal([1000])  # np.random.normal()과 같음  # 정규분포 난수\n",
    "sess   = tf.Session()\n",
    "plt.hist(sess.run(tensor))\n",
    "plt.show()"
   ]
  },
  {
   "cell_type": "markdown",
   "id": "aa76eb62",
   "metadata": {},
   "source": [
    "# 2. tensorflow v1을 이용한 linear regression을 구현\n",
    "## 2.1 독립변수 x가 1개, 종속변수 y가 1개"
   ]
  },
  {
   "cell_type": "code",
   "execution_count": 58,
   "id": "4d259b4b",
   "metadata": {
    "ExecuteTime": {
     "end_time": "2024-12-13T03:21:10.236196Z",
     "start_time": "2024-12-13T03:21:08.164181Z"
    }
   },
   "outputs": [
    {
     "name": "stdout",
     "output_type": "stream",
     "text": [
      "0번째 cost : 0.15800689160823822, W : [0.7898491], b : [0.752326]\n",
      "300번째 cost : 0.017040040343999863, W : [0.8487533], b : [0.34381947]\n",
      "600번째 cost : 0.004020766355097294, W : [0.9265308], b : [0.16701272]\n",
      "900번째 cost : 0.0009487375500611961, W : [0.96431184], b : [0.08112752]\n",
      "1200번째 cost : 0.00022386225464288145, W : [0.98266435], b : [0.03940806]\n",
      "1500번째 cost : 5.282170241116546e-05, W : [0.9915792], b : [0.01914254]\n",
      "1800번째 cost : 1.246370084118098e-05, W : [0.9959095], b : [0.00929863]\n",
      "2100번째 cost : 2.941155116786831e-06, W : [0.99801296], b : [0.004517]\n",
      "2400번째 cost : 6.940542789379833e-07, W : [0.99903464], b : [0.0021943]\n",
      "2700번째 cost : 1.6391470580856549e-07, W : [0.9995308], b : [0.00106637]\n",
      "3000번째 cost : 3.877282495068357e-08, W : [0.9997717], b : [0.00051863]\n",
      "3300번째 cost : 9.194106809218283e-09, W : [0.9998889], b : [0.00025256]\n",
      "3600번째 cost : 2.1932911042910064e-09, W : [0.99994564], b : [0.00012321]\n",
      "3900번째 cost : 5.282664861105957e-10, W : [0.9999732], b : [6.050364e-05]\n",
      "4200번째 cost : 1.210056915779134e-10, W : [0.99998724], b : [2.9009378e-05]\n",
      "4500번째 cost : 3.140370255505509e-11, W : [0.9999934], b : [1.4756858e-05]\n",
      "4800번째 cost : 1.0935302142967007e-11, W : [0.999996], b : [8.632625e-06]\n",
      "5100번째 cost : 5.5382608221687946e-12, W : [0.99999714], b : [6.0014613e-06]\n",
      "5400번째 cost : 3.8035286725746076e-12, W : [0.9999976], b : [4.8841925e-06]\n",
      "5700번째 cost : 3.243310351189188e-12, W : [0.99999774], b : [4.498843e-06]\n",
      "6000번째 cost : 3.243232722313638e-12, W : [0.99999774], b : [4.490238e-06]\n"
     ]
    }
   ],
   "source": [
    "# tensor 그래프(객체 흐름) 정의\n",
    "# data set(x, y)\n",
    "x = np.array([1, 2, 3])  # 독립변수  #     ┌(W:weight)\n",
    "y = np.array([1, 2, 3])  # 종속변수  # y = 1*x + 0\n",
    "                         #                      └(b:bias)\n",
    "\n",
    "# weight와 bias 변수 설정 (처음에는 랜덤값으로 셋팅 후, 학습과정에서 변경)\n",
    "# tf.Variable() : 변수\n",
    "W = tf.Variable(tf.random.normal([1]), name='weight')  # 출력  # W라는 node  # 독립변수가 1개 이므로 W값도 1개가 필요함\n",
    "b = tf.Variable(tf.random.normal([1]), name='bias')    # 입력  # b라는 node  # layer가 하나씩 지나갈 때마다\n",
    "\n",
    "# Hypothesis : 결과는 넘파이 배열(array)\n",
    "H = W*x + b  # H라는 node\n",
    "\n",
    "# cost function (손실함수 = mse : 최소제곱법)\n",
    "cost = tf.reduce_mean(tf.square(H - y))  # 예측치-실측값의 제곱  # 값이 작아지는 방향으로 학습시키기  # W와 b값에 따라서 cost값이 달라짐\n",
    "\n",
    "'''\n",
    "학습 목적 : cost가 최소가 되는 W, b를 찾는 것\n",
    "cost 함수는 2차 함수이므로 곡선그래프. 곡선위 미분값이 줄어드는 방향으로 학습(경사하강법)\n",
    "'''\n",
    "optimizer = tf.train.GradientDescentOptimizer(learning_rate=0.01)  # 미분값에 대해 음수와 양수인지를 판단하고 ±0.01만큼 W와 b값을 조정\n",
    "train     = optimizer.minimize(cost)  # train을 구동하면 cost값과 H값이 계산됨\n",
    "\n",
    "# Session 생성 : 그래프 활성화\n",
    "sess = tf.Session()\n",
    "# tf.Variable 변수 노드(W, b) 초기화\n",
    "sess.run(tf.global_variables_initializer())  # 임의의 W, b값\n",
    "# sess.run([W, b])\n",
    "\n",
    "# 6000번 학습 (v2에서의 fit함수)\n",
    "for step in range(6001):\n",
    "    _, cost_val, W_val, b_val = sess.run([train, cost, W, b])  # train은 출력하지 않음\n",
    "    if step%300 == 0:  # 300번에 1번\n",
    "        print('{}번째 cost : {}, W : {}, b : {}'.format(step, cost_val, W_val, b_val))"
   ]
  },
  {
   "cell_type": "code",
   "execution_count": 40,
   "id": "dda158c1",
   "metadata": {
    "ExecuteTime": {
     "end_time": "2024-12-13T02:46:49.318560Z",
     "start_time": "2024-12-13T02:46:49.310560Z"
    }
   },
   "outputs": [
    {
     "data": {
      "text/plain": [
       "[array([0.99999774], dtype=float32), array([4.4902276e-06], dtype=float32)]"
      ]
     },
     "execution_count": 40,
     "metadata": {},
     "output_type": "execute_result"
    }
   ],
   "source": [
    "# 최종적으로 나온 회귀식 도출 :  H = W*x + b\n",
    "sess.run([W, b])"
   ]
  },
  {
   "cell_type": "code",
   "execution_count": 41,
   "id": "b3082e83",
   "metadata": {
    "ExecuteTime": {
     "end_time": "2024-12-13T02:46:49.743719Z",
     "start_time": "2024-12-13T02:46:49.727994Z"
    }
   },
   "outputs": [
    {
     "data": {
      "text/plain": [
       "(array([0.99999774], dtype=float32), array([4.4902276e-06], dtype=float32))"
      ]
     },
     "execution_count": 41,
     "metadata": {},
     "output_type": "execute_result"
    }
   ],
   "source": [
    "W_, b_ = sess.run([W, b])\n",
    "W_, b_"
   ]
  },
  {
   "cell_type": "code",
   "execution_count": 42,
   "id": "8f45b727",
   "metadata": {
    "ExecuteTime": {
     "end_time": "2024-12-13T02:46:50.127046Z",
     "start_time": "2024-12-13T02:46:50.111249Z"
    }
   },
   "outputs": [
    {
     "name": "stdout",
     "output_type": "stream",
     "text": [
      "최종 회귀식 : H = 0.9999977350234985*x + 4.490227638598299e-06\n"
     ]
    }
   ],
   "source": [
    "print('최종 회귀식 : H = {}*x + {}'.format(W_[0], b_[0]))"
   ]
  },
  {
   "cell_type": "code",
   "execution_count": 45,
   "id": "a34c7f5e",
   "metadata": {
    "ExecuteTime": {
     "end_time": "2024-12-13T02:48:46.203822Z",
     "start_time": "2024-12-13T02:48:46.196826Z"
    }
   },
   "outputs": [
    {
     "data": {
      "text/plain": [
       "2.999997695298134"
      ]
     },
     "execution_count": 45,
     "metadata": {},
     "output_type": "execute_result"
    }
   ],
   "source": [
    "# 예측값 \n",
    "def to_predict(x):\n",
    "    return W_[0]*x + b_[0]\n",
    "to_predict(3)"
   ]
  },
  {
   "cell_type": "markdown",
   "id": "dccac61f",
   "metadata": {},
   "source": [
    "## 2.2 predict을 하기 위한 placeholder 이용\n",
    " - placeholder : 외부에서 데이터를 입력받을 수 있는 노드"
   ]
  },
  {
   "cell_type": "code",
   "execution_count": 59,
   "id": "32ddd737",
   "metadata": {
    "ExecuteTime": {
     "end_time": "2024-12-13T03:21:14.375781Z",
     "start_time": "2024-12-13T03:21:14.324212Z"
    }
   },
   "outputs": [
    {
     "data": {
      "text/plain": [
       "[array(10., dtype=float16), array(20., dtype=float16), 30.0]"
      ]
     },
     "execution_count": 59,
     "metadata": {},
     "output_type": "execute_result"
    }
   ],
   "source": [
    "a    = tf.placeholder(tf.float16)  # 할당받을 데이터의 타입 지정(값 없음)\n",
    "b    = tf.placeholder(tf.float16)\n",
    "ab   = tf.add(a, b)\n",
    "sess = tf.Session()\n",
    "# sess.run(a)  # a에 값이 없으므로 에러 발생\n",
    "sess.run([a, b, ab], feed_dict={a : 10, b : 20})"
   ]
  },
  {
   "cell_type": "code",
   "execution_count": 60,
   "id": "85b3bb8b",
   "metadata": {
    "ExecuteTime": {
     "end_time": "2024-12-13T03:21:14.587736Z",
     "start_time": "2024-12-13T03:21:14.579738Z"
    }
   },
   "outputs": [
    {
     "data": {
      "text/plain": [
       "array([2., 4., 6.], dtype=float16)"
      ]
     },
     "execution_count": 60,
     "metadata": {},
     "output_type": "execute_result"
    }
   ],
   "source": [
    "sess.run(ab, feed_dict={a : np.array([1, 2, 3]), b : np.array([1, 2, 3])})"
   ]
  },
  {
   "cell_type": "code",
   "execution_count": 61,
   "id": "eb243536",
   "metadata": {
    "ExecuteTime": {
     "end_time": "2024-12-13T03:21:19.852543Z",
     "start_time": "2024-12-13T03:21:14.836055Z"
    }
   },
   "outputs": [
    {
     "name": "stdout",
     "output_type": "stream",
     "text": [
      "1/6000번째 cost : 122.65675354003906, W : [-0.2131424], b : [0.3405667]\n",
      "301/6000번째 cost : 0.011898989789187908, W : [2.0372853], b : [0.8006818]\n",
      "601/6000번째 cost : 0.008410715498030186, W : [2.031352], b : [0.83242637]\n",
      "901/6000번째 cost : 0.005945051088929176, W : [2.026359], b : [0.8591145]\n",
      "1201/6000번째 cost : 0.004202197305858135, W : [2.0221612], b : [0.88155204]\n",
      "1501/6000번째 cost : 0.0029703343752771616, W : [2.0186322], b : [0.9004156]\n",
      "1801/6000번째 cost : 0.002099590376019478, W : [2.0156655], b : [0.91627455]\n",
      "2101/6000번째 cost : 0.0014841599622741342, W : [2.0131712], b : [0.9296074]\n",
      "2401/6000번째 cost : 0.001049137907102704, W : [2.011074], b : [0.94081634]\n",
      "2701/6000번째 cost : 0.0007416105945594609, W : [2.0093098], b : [0.9502402]\n",
      "3001/6000번째 cost : 0.0005242752376943827, W : [2.0078292], b : [0.95816284]\n",
      "3301/6000번째 cost : 0.00037061795592308044, W : [2.0065832], b : [0.9648238]\n",
      "3601/6000번째 cost : 0.00026200147112831473, W : [2.0055337], b : [0.9704242]\n",
      "3901/6000번째 cost : 0.0001852240675361827, W : [2.0046537], b : [0.9751325]\n",
      "4201/6000번째 cost : 0.00013094343012198806, W : [2.003912], b : [0.97909087]\n",
      "4501/6000번째 cost : 9.258578211301938e-05, W : [2.0032916], b : [0.98241854]\n",
      "4801/6000번째 cost : 6.546013173647225e-05, W : [2.0027654], b : [0.9852165]\n",
      "5101/6000번째 cost : 4.628362148650922e-05, W : [2.0023248], b : [0.9875691]\n",
      "5401/6000번째 cost : 3.272773392382078e-05, W : [2.0019553], b : [0.98954666]\n",
      "5701/6000번째 cost : 2.314871017006226e-05, W : [2.001647], b : [0.99120957]\n",
      "6001/6000번째 cost : 1.636215347389225e-05, W : [2.0013835], b : [0.9926092]\n",
      "6301/6000번째 cost : 1.1576457836781628e-05, W : [2.0011632], b : [0.99378264]\n",
      "6601/6000번째 cost : 8.181374141713604e-06, W : [2.0009785], b : [0.9947737]\n",
      "6901/6000번째 cost : 5.794035132566933e-06, W : [2.0008252], b : [0.99560225]\n",
      "7201/6000번째 cost : 4.093474672117736e-06, W : [2.0006907], b : [0.9963027]\n",
      "7501/6000번째 cost : 2.8942445169377606e-06, W : [2.000582], b : [0.9968919]\n",
      "7801/6000번째 cost : 2.049425347649958e-06, W : [2.0004911], b : [0.9973845]\n",
      "8101/6000번째 cost : 1.4555416782968678e-06, W : [2.0004148], b : [0.9977961]\n",
      "8401/6000번째 cost : 1.0292476417816943e-06, W : [2.000345], b : [0.9981464]\n",
      "8701/6000번째 cost : 7.244016160257161e-07, W : [2.00029], b : [0.9984447]\n",
      "9001/6000번째 cost : 5.107549441163428e-07, W : [2.000244], b : [0.998694]\n",
      "9301/6000번째 cost : 3.606608913742093e-07, W : [2.0002053], b : [0.9989026]\n",
      "9601/6000번째 cost : 2.5546222559569287e-07, W : [2.0001733], b : [0.99907625]\n",
      "9901/6000번째 cost : 1.807993754709969e-07, W : [2.0001462], b : [0.99922293]\n"
     ]
    }
   ],
   "source": [
    "# data set : (H = 2x + 1)이 되도록 세팅\n",
    "x_data = np.array([1, 2, 3, 5, 8])\n",
    "y_data = np.array([3, 5, 7, 11, 17])\n",
    "\n",
    "# placeholder 설정(x:독립변수, y:종속변수)\n",
    "x = tf.placeholder(dtype=tf.float32)  # cost를 실수로 받기 위해 입력받을 값도 실수로 받아옴\n",
    "y = tf.placeholder(dtype=tf.float32)\n",
    "\n",
    "# weight & bias 변수 설정\n",
    "# tf.random_normal([size]) : 평균이 0이고, 표준편차가 1인 난수 size개 발생. 난수 갯수 : 독립변수 갯수\n",
    "W = tf.Variable(tf.random.normal([1]), name='weight')  # x_data에 따라 2에 수렴해야 함\n",
    "b = tf.Variable(tf.random.normal([1]), name='bias')    # y_data에 따라 1에 수렴해야 함\n",
    "\n",
    "# Hypothesis (가설:예측값)\n",
    "H = W*x + b\n",
    "\n",
    "# cost function == loss function\n",
    "cost = tf.reduce_mean(tf.square(H - y))\n",
    "\n",
    "# 경사하강법\n",
    "# optimizer = tf.train.GradientDescentOptimizer(learning_rate=0.001)\n",
    "# train     = optimizer.minimize(cost)\n",
    "train     = tf.train.GradientDescentOptimizer(learning_rate=0.001).minimize(cost)\n",
    "\n",
    "# session 생성 & 변수 초기화\n",
    "sess = tf.Session()\n",
    "sess.run(tf.global_variables_initializer())\n",
    "\n",
    "# 학습 6000번\n",
    "for step in range(10000):  # 0부터 5999번\n",
    "    _, cost_val, W_val, b_val = sess.run([train, cost, W, b], feed_dict={x : x_data, y : y_data})\n",
    "    if step%300 == 0:\n",
    "        print('{}/6000번째 cost : {}, W : {}, b : {}'.format(step+1, cost_val, W_val, b_val))"
   ]
  },
  {
   "cell_type": "code",
   "execution_count": 62,
   "id": "68ebf0cd",
   "metadata": {
    "ExecuteTime": {
     "end_time": "2024-12-13T03:34:36.632881Z",
     "start_time": "2024-12-13T03:34:36.612631Z"
    }
   },
   "outputs": [
    {
     "data": {
      "text/plain": [
       "[array([2.0001385], dtype=float32), array([0.99926424], dtype=float32)]"
      ]
     },
     "execution_count": 62,
     "metadata": {},
     "output_type": "execute_result"
    }
   ],
   "source": [
    "# 최종 W, b 값\n",
    "sess.run([W, b])"
   ]
  },
  {
   "cell_type": "code",
   "execution_count": 64,
   "id": "7f7a260e",
   "metadata": {
    "ExecuteTime": {
     "end_time": "2024-12-13T03:36:31.996411Z",
     "start_time": "2024-12-13T03:36:31.988413Z"
    }
   },
   "outputs": [
    {
     "data": {
      "text/plain": [
       "array([10.999956], dtype=float32)"
      ]
     },
     "execution_count": 64,
     "metadata": {},
     "output_type": "execute_result"
    }
   ],
   "source": [
    "# 예측하기\n",
    "sess.run(H, feed_dict={x : 5})  # x가 5일때 예측값은 11에 가까움"
   ]
  },
  {
   "cell_type": "code",
   "execution_count": 65,
   "id": "b19de49d",
   "metadata": {
    "ExecuteTime": {
     "end_time": "2024-12-13T03:36:45.474088Z",
     "start_time": "2024-12-13T03:36:45.467087Z"
    }
   },
   "outputs": [
    {
     "data": {
      "text/plain": [
       "array([10.999956, 13.000095, 15.000235], dtype=float32)"
      ]
     },
     "execution_count": 65,
     "metadata": {},
     "output_type": "execute_result"
    }
   ],
   "source": [
    "sess.run(H, feed_dict={x : np.array([5, 6, 7])})"
   ]
  },
  {
   "cell_type": "markdown",
   "id": "677fb4cc",
   "metadata": {},
   "source": [
    "## 2.3 scale이 다른 데이터들의 linear regression 구현(scale 조정 X)"
   ]
  },
  {
   "cell_type": "code",
   "execution_count": 66,
   "id": "a620a7b1",
   "metadata": {
    "ExecuteTime": {
     "end_time": "2024-12-13T04:03:08.177861Z",
     "start_time": "2024-12-13T04:03:05.173298Z"
    }
   },
   "outputs": [
    {
     "name": "stdout",
     "output_type": "stream",
     "text": [
      "1/6000번째 cost : 3946.303955078125, W : [7.9065847], b : [0.93297255]\n",
      "301/6000번째 cost : 79.15718841552734, W : [10.127393], b : [0.00913462]\n",
      "601/6000번째 cost : 79.13996887207031, W : [10.154451], b : [-0.19121347]\n",
      "901/6000번째 cost : 79.13946533203125, W : [10.158961], b : [-0.22461106]\n",
      "1201/6000번째 cost : 79.13945007324219, W : [10.159713], b : [-0.23017856]\n",
      "1501/6000번째 cost : 79.13946533203125, W : [10.159839], b : [-0.23110607]\n",
      "1801/6000번째 cost : 79.13944244384766, W : [10.15986], b : [-0.2312603]\n",
      "2101/6000번째 cost : 79.13945007324219, W : [10.1598625], b : [-0.23128164]\n",
      "2401/6000번째 cost : 79.13946533203125, W : [10.1598625], b : [-0.23128368]\n",
      "2701/6000번째 cost : 79.13946533203125, W : [10.1598625], b : [-0.23128368]\n",
      "3001/6000번째 cost : 79.13946533203125, W : [10.1598625], b : [-0.23128368]\n",
      "3301/6000번째 cost : 79.13946533203125, W : [10.1598625], b : [-0.23128368]\n",
      "3601/6000번째 cost : 79.13946533203125, W : [10.1598625], b : [-0.23128368]\n",
      "3901/6000번째 cost : 79.13946533203125, W : [10.1598625], b : [-0.23128368]\n",
      "4201/6000번째 cost : 79.13946533203125, W : [10.1598625], b : [-0.23128368]\n",
      "4501/6000번째 cost : 79.13946533203125, W : [10.1598625], b : [-0.23128368]\n",
      "4801/6000번째 cost : 79.13946533203125, W : [10.1598625], b : [-0.23128368]\n",
      "5101/6000번째 cost : 79.13946533203125, W : [10.1598625], b : [-0.23128368]\n",
      "5401/6000번째 cost : 79.13946533203125, W : [10.1598625], b : [-0.23128368]\n",
      "5701/6000번째 cost : 79.13946533203125, W : [10.1598625], b : [-0.23128368]\n"
     ]
    }
   ],
   "source": [
    "x_data = np.array([1, 2, 5, 8, 10])     # 독립변수\n",
    "y_data = np.array([5, 15, 68, 80, 95])  # 종속변수\n",
    "\n",
    "# placeholder 설정 : predict 가능하도록 하기 위함\n",
    "x = tf.placeholder(dtype=tf.float32)\n",
    "y = tf.placeholder(dtype=tf.float32)\n",
    "\n",
    "# weight & bias 변수 설정\n",
    "W = tf.Variable(tf.random.normal([1]), name='weight')\n",
    "b = tf.Variable(tf.random.normal([1]), name='bias')\n",
    "\n",
    "# Hypothesis 가설\n",
    "H = W*x + b\n",
    "\n",
    "# cost function(loss function) : 손실함수\n",
    "cost = tf.reduce_mean(tf.square(H - y))\n",
    "\n",
    "# 경사하강법\n",
    "optimizer = tf.train.GradientDescentOptimizer(learning_rate=0.01)\n",
    "train     = optimizer.minimize(cost)\n",
    "\n",
    "# Session & Variable 초기화\n",
    "sess = tf.Session()\n",
    "sess.run(tf.global_variables_initializer())\n",
    "\n",
    "# 학습\n",
    "for step in range(1, 6001):\n",
    "    _, cost_val, W_val, b_val = sess.run([train, cost, W, b], feed_dict={x : x_data, y : y_data})\n",
    "    if step%300 == 1:\n",
    "        print('{}/6000번째 cost : {}, W : {}, b : {}'.format(step, cost_val, W_val, b_val))"
   ]
  },
  {
   "cell_type": "code",
   "execution_count": 67,
   "id": "f701f639",
   "metadata": {
    "ExecuteTime": {
     "end_time": "2024-12-13T04:07:58.532119Z",
     "start_time": "2024-12-13T04:07:58.505968Z"
    }
   },
   "outputs": [
    {
     "data": {
      "text/plain": [
       "array([50.568027], dtype=float32)"
      ]
     },
     "execution_count": 67,
     "metadata": {},
     "output_type": "execute_result"
    }
   ],
   "source": [
    "# 예측\n",
    "sess.run(H, feed_dict={x : 5})  # cost값이 크므로 신뢰도 저하"
   ]
  },
  {
   "cell_type": "code",
   "execution_count": 68,
   "id": "ee0604dd",
   "metadata": {
    "ExecuteTime": {
     "end_time": "2024-12-13T04:10:12.910785Z",
     "start_time": "2024-12-13T04:10:12.905789Z"
    }
   },
   "outputs": [],
   "source": [
    "# cost값이 멈춤 : local 최소값"
   ]
  },
  {
   "cell_type": "markdown",
   "id": "f93ea42a",
   "metadata": {},
   "source": [
    "## 2.4 scale이 다른 데이터들의 linear regression 구현(scale 조정 O)"
   ]
  },
  {
   "cell_type": "markdown",
   "id": "2fe5cb96",
   "metadata": {},
   "source": [
    "### scale을 맞추는 방법 : 모든 데이터를 일정 범위 내로 조정\n",
    " - normalization(정규화) : 데이터의 최대값을 1, 최소값을 0으로 조정\n",
    "                         x - Xmin\n",
    "     normalization = ────────────────\n",
    "                        Xmax - Xmin\n",
    "            * 위의 식을 써도 되지만 라이브러리를 주로 씀(sklearn.preprocessing.MinMaxScale 이용)\n",
    " \n",
    " - standardization(표준화) : 데이터의 평균을 0, 표준편차를 1로 조정\n",
    "                        x - Xmean(평균)\n",
    "     standardization = ────────────────\n",
    "                         Xstd(표준편차\n",
    "            * 위의 식을 써도 되지만 라이브러리를 주로 씀(sklearn.preprocessing.StandardScaler 이용)"
   ]
  },
  {
   "cell_type": "code",
   "execution_count": 71,
   "id": "c431face",
   "metadata": {
    "ExecuteTime": {
     "end_time": "2024-12-13T05:33:21.291870Z",
     "start_time": "2024-12-13T05:33:21.284687Z"
    }
   },
   "outputs": [
    {
     "name": "stdout",
     "output_type": "stream",
     "text": [
      "[0.         0.11111111 0.44444444 0.77777778 1.        ]\n",
      "[0.         0.11111111 0.7        0.83333333 1.        ]\n"
     ]
    }
   ],
   "source": [
    "# 라이브러리를 사용하지 않고 정규화 : 예측할 경우 x데이터를 스케일 변환을 하고, 스케일된 예측값을 변환하기 번거로움\n",
    "x_data = np.array([1, 2, 5, 8, 10])     # 독립변수(1차원)\n",
    "y_data = np.array([5, 15, 68, 80, 95])  # 종속변수(1차원)\n",
    "\n",
    "scaled_x_data = (x_data - x_data.min()) / (x_data.max() - x_data.min())\n",
    "scaled_y_data = (y_data - y_data.min()) / (y_data.max() - y_data.min())\n",
    "print(scaled_x_data)\n",
    "print(scaled_y_data)"
   ]
  },
  {
   "cell_type": "code",
   "execution_count": 72,
   "id": "690293f2",
   "metadata": {
    "ExecuteTime": {
     "end_time": "2024-12-13T05:35:54.930118Z",
     "start_time": "2024-12-13T05:35:54.922121Z"
    }
   },
   "outputs": [
    {
     "data": {
      "text/plain": [
       "0.4444444444444444"
      ]
     },
     "execution_count": 72,
     "metadata": {},
     "output_type": "execute_result"
    }
   ],
   "source": [
    "x = (5 - x_data.min()) / (x_data.max() - x_data.min())\n",
    "x"
   ]
  },
  {
   "cell_type": "code",
   "execution_count": 73,
   "id": "d83f26d7",
   "metadata": {
    "ExecuteTime": {
     "end_time": "2024-12-13T05:37:05.137470Z",
     "start_time": "2024-12-13T05:37:05.130836Z"
    }
   },
   "outputs": [
    {
     "data": {
      "text/plain": [
       "68.0"
      ]
     },
     "execution_count": 73,
     "metadata": {},
     "output_type": "execute_result"
    }
   ],
   "source": [
    "0.7 * (y_data.max() - y_data.min()) + y_data.min()"
   ]
  },
  {
   "cell_type": "code",
   "execution_count": 78,
   "id": "b0986af1",
   "metadata": {
    "ExecuteTime": {
     "end_time": "2024-12-13T05:49:26.345015Z",
     "start_time": "2024-12-13T05:49:26.331887Z"
    }
   },
   "outputs": [
    {
     "name": "stdout",
     "output_type": "stream",
     "text": [
      "위의 x데이터 :  [ 1  2  5  8 10]\n",
      "위의 y데이터 :  [ 5 15 68 80 95]\n"
     ]
    },
    {
     "data": {
      "text/plain": [
       "array([[ 1.        ,  0.        ,  5.        ,  0.        ],\n",
       "       [ 2.        ,  0.11111111, 15.        ,  0.11111111],\n",
       "       [ 5.        ,  0.44444444, 68.        ,  0.7       ],\n",
       "       [ 8.        ,  0.77777778, 80.        ,  0.83333333],\n",
       "       [10.        ,  1.        , 95.        ,  1.        ]])"
      ]
     },
     "execution_count": 78,
     "metadata": {},
     "output_type": "execute_result"
    }
   ],
   "source": [
    "# 라이브러리를 사용해서 정규화\n",
    "x_data = np.array([1, 2, 5, 8, 10])     # 독립변수(1차원)\n",
    "print('위의 x데이터 : ', x_data)\n",
    "y_data = np.array([5, 15, 68, 80, 95])\n",
    "print('위의 y데이터 : ', y_data)\n",
    "\n",
    "x_data = np.array([1, 2, 5, 8, 10]).reshape(-1, 1)     # 독립변수(2차원)\n",
    "y_data = np.array([5, 15, 68, 80, 95]).reshape(-1, 1)  # 종속변수\n",
    "\n",
    "from sklearn.preprocessing import MinMaxScaler\n",
    "scaler_x = MinMaxScaler()  # x_data를 표준화시킬 객체\n",
    "scaler_x.fit(x_data)\n",
    "scaled_x_data = scaler_x.transform(x_data)\n",
    "scaler_y = MinMaxScaler()  # y_data를 표준화시킬 객체\n",
    "scaler_y.fit(y_data)\n",
    "scaled_y_data = scaler_y.transform(y_data)\n",
    "np.column_stack([x_data, scaled_x_data, y_data, scaled_y_data])"
   ]
  },
  {
   "cell_type": "code",
   "execution_count": 81,
   "id": "0e84a8dd",
   "metadata": {
    "ExecuteTime": {
     "end_time": "2024-12-13T05:52:50.863815Z",
     "start_time": "2024-12-13T05:52:45.818115Z"
    }
   },
   "outputs": [
    {
     "name": "stdout",
     "output_type": "stream",
     "text": [
      "1/10000번째 cost : 7.95151424407959, W : [-1.6136013], b : [-1.3448346]\n",
      "301/10000번째 cost : 1.9962623119354248, W : [-0.9068494], b : [-0.24836671]\n",
      "601/10000번째 cost : 0.6369106769561768, W : [-0.5267581], b : [0.2459569]\n",
      "901/10000번째 cost : 0.30903124809265137, W : [-0.30424634], b : [0.45714867]\n",
      "1201/10000번째 cost : 0.21495716273784637, W : [-0.15914391], b : [0.535966]\n",
      "1501/10000번째 cost : 0.17588075995445251, W : [-0.05334158], b : [0.55360264]\n",
      "1801/10000번째 cost : 0.1514577716588974, W : [0.0313649], b : [0.54363054]\n",
      "2101/10000번째 cost : 0.13235804438591003, W : [0.10375432], b : [0.52183807]\n",
      "2401/10000번째 cost : 0.11622796207666397, W : [0.1681363], b : [0.49560833]\n",
      "2701/10000번째 cost : 0.10230908542871475, W : [0.22669612], b : [0.46835527]\n",
      "3001/10000번째 cost : 0.09022991359233856, W : [0.2806048], b : [0.4416206]\n",
      "3301/10000번째 cost : 0.07973188161849976, W : [0.33054432], b : [0.41606563]\n",
      "3601/10000번째 cost : 0.0706045925617218, W : [0.37695646], b : [0.39194047]\n",
      "3901/10000번째 cost : 0.06266827881336212, W : [0.42016166], b : [0.369304]\n",
      "4201/10000번째 cost : 0.05576737970113754, W : [0.46041515], b : [0.34812954]\n",
      "4501/10000번째 cost : 0.049766749143600464, W : [0.49793473], b : [0.3283529]\n",
      "4801/10000번째 cost : 0.04454894736409187, W : [0.5329139], b : [0.30989712]\n",
      "5101/10000번째 cost : 0.04001185670495033, W : [0.56552786], b : [0.29268005]\n",
      "5401/10000번째 cost : 0.03606666624546051, W : [0.5959383], b : [0.27662203]\n",
      "5701/10000번째 cost : 0.0326361283659935, W : [0.6242953], b : [0.26164645]\n",
      "6001/10000번째 cost : 0.029653126373887062, W : [0.6507376], b : [0.24768096]\n",
      "6301/10000번째 cost : 0.027059247717261314, W : [0.6753948], b : [0.23465773]\n",
      "6601/10000번째 cost : 0.02480379119515419, W : [0.6983872], b : [0.22251366]\n",
      "6901/10000번째 cost : 0.022842582315206528, W : [0.7198273], b : [0.21118937]\n",
      "7201/10000번째 cost : 0.02113722451031208, W : [0.73982], b : [0.20062952]\n",
      "7501/10000번째 cost : 0.01965433731675148, W : [0.7584632], b : [0.19078259]\n",
      "7801/10000번째 cost : 0.01836489513516426, W : [0.7758478], b : [0.18160018]\n",
      "8101/10000번째 cost : 0.01724366657435894, W : [0.7920588], b : [0.17303772]\n",
      "8401/10000번째 cost : 0.01626873016357422, W : [0.8071753], b : [0.16505331]\n",
      "8701/10000번째 cost : 0.015420970506966114, W : [0.8212714], b : [0.1576079]\n",
      "9001/10000번째 cost : 0.014683812856674194, W : [0.83441585], b : [0.15066512]\n",
      "9301/10000번째 cost : 0.014042815193533897, W : [0.8466731], b : [0.14419107]\n",
      "9601/10000번째 cost : 0.013485437259078026, W : [0.85810286], b : [0.138154]\n",
      "9901/10000번째 cost : 0.01300077885389328, W : [0.868761], b : [0.13252452]\n"
     ]
    }
   ],
   "source": [
    "# placeholder 설정 : predict 가능하도록 하기 위함\n",
    "x = tf.placeholder(dtype=tf.float32)\n",
    "y = tf.placeholder(dtype=tf.float32)\n",
    "\n",
    "# weight & bias 변수 설정\n",
    "W = tf.Variable(tf.random.normal([1]), name='weight')\n",
    "b = tf.Variable(tf.random.normal([1]), name='bias')\n",
    "\n",
    "# Hypothesis 가설\n",
    "H = W*x + b\n",
    "\n",
    "# cost function(loss function) : 손실함수\n",
    "cost = tf.reduce_mean(tf.square(H - y))\n",
    "\n",
    "# 경사하강법\n",
    "optimizer = tf.train.GradientDescentOptimizer(learning_rate=0.001)\n",
    "train     = optimizer.minimize(cost)\n",
    "\n",
    "# Session & Variable 초기화\n",
    "sess = tf.Session()\n",
    "sess.run(tf.global_variables_initializer())\n",
    "\n",
    "# 학습\n",
    "for step in range(1, 10001):\n",
    "    _, cost_val, W_val, b_val = sess.run([train, cost, W, b], feed_dict={x : scaled_x_data, y : scaled_y_data})\n",
    "    if step%300 == 1:\n",
    "        print('{}/10000번째 cost : {}, W : {}, b : {}'.format(step, cost_val, W_val, b_val))"
   ]
  },
  {
   "cell_type": "code",
   "execution_count": 84,
   "id": "655c62a4",
   "metadata": {
    "ExecuteTime": {
     "end_time": "2024-12-13T05:58:19.858493Z",
     "start_time": "2024-12-13T05:58:19.850496Z"
    }
   },
   "outputs": [
    {
     "name": "stdout",
     "output_type": "stream",
     "text": [
      "2를 스케일 조정된 값 :  [[0.11111111]]\n",
      "예측값 :  [[25.48881]]\n"
     ]
    }
   ],
   "source": [
    "# 예측\n",
    "scaled_input = scaler_x.transform(np.array([[2]]))  # 2차원\n",
    "print('2를 스케일 조정된 값 : ', scaled_input)\n",
    "scaled_output = sess.run(H, feed_dict={x : scaled_input})\n",
    "print('예측값 : ', scaler_y.inverse_transform(scaled_output))"
   ]
  },
  {
   "cell_type": "code",
   "execution_count": 86,
   "id": "5525e7f8",
   "metadata": {
    "ExecuteTime": {
     "end_time": "2024-12-13T06:00:13.990835Z",
     "start_time": "2024-12-13T06:00:13.983837Z"
    }
   },
   "outputs": [
    {
     "data": {
      "text/plain": [
       "(array([ 1,  2,  5,  8, 10]), array([ 5, 15, 68, 80, 95]))"
      ]
     },
     "execution_count": 86,
     "metadata": {},
     "output_type": "execute_result"
    }
   ],
   "source": [
    "x_data[:, 0], y_data[:, 0]  # 1차원"
   ]
  },
  {
   "cell_type": "code",
   "execution_count": 89,
   "id": "bc2b7f58",
   "metadata": {
    "ExecuteTime": {
     "end_time": "2024-12-13T06:16:18.366980Z",
     "start_time": "2024-12-13T06:16:18.356986Z"
    }
   },
   "outputs": [
    {
     "data": {
      "text/plain": [
       "array([[ 5.        , 16.76763153],\n",
       "       [15.        , 25.48880959],\n",
       "       [68.        , 51.65235138],\n",
       "       [80.        , 77.81587982],\n",
       "       [95.        , 95.25824738]])"
      ]
     },
     "execution_count": 89,
     "metadata": {},
     "output_type": "execute_result"
    }
   ],
   "source": [
    "# x_data들의 예측값\n",
    "scaled_y_hat = sess.run(H, feed_dict={x : scaled_x_data})\n",
    "y_hat = scaler_y.inverse_transform(scaled_y_hat)\n",
    "np.column_stack([y_data, y_hat])"
   ]
  },
  {
   "cell_type": "code",
   "execution_count": 101,
   "id": "adfb2b51",
   "metadata": {
    "ExecuteTime": {
     "end_time": "2024-12-13T06:22:06.145342Z",
     "start_time": "2024-12-13T06:22:05.985978Z"
    }
   },
   "outputs": [
    {
     "data": {
      "image/png": "[encoded data removed]",
      "text/plain": [
       "<Figure size 640x480 with 1 Axes>"
      ]
     },
     "metadata": {},
     "output_type": "display_data"
    }
   ],
   "source": [
    "import matplotlib.pyplot as plt\n",
    "plt.plot(x_data, y_data)  # 2차원데이터를 1차원으로\n",
    "plt.plot(x_data, y_hat)\n",
    "plt.show()"
   ]
  },
  {
   "cell_type": "code",
   "execution_count": 105,
   "id": "a92c513e",
   "metadata": {
    "ExecuteTime": {
     "end_time": "2024-12-13T06:22:41.817236Z",
     "start_time": "2024-12-13T06:22:41.809240Z"
    }
   },
   "outputs": [
    {
     "data": {
      "text/plain": [
       "(array([[ 1],\n",
       "        [ 2],\n",
       "        [ 5],\n",
       "        [ 8],\n",
       "        [10]]),\n",
       " array([ 1,  2,  5,  8, 10]),\n",
       " array([ 1,  2,  5,  8, 10]))"
      ]
     },
     "execution_count": 105,
     "metadata": {},
     "output_type": "execute_result"
    }
   ],
   "source": [
    "x_data, x_data[:, 0], x_data.ravel(),   # 2차원, 1차원"
   ]
  },
  {
   "cell_type": "code",
   "execution_count": 106,
   "id": "12f8e0a3",
   "metadata": {
    "ExecuteTime": {
     "end_time": "2024-12-13T06:23:59.186408Z",
     "start_time": "2024-12-13T06:23:58.777364Z"
    }
   },
   "outputs": [
    {
     "data": {
      "image/png": "[encoded data removed]",
      "text/plain": [
       "<Figure size 640x480 with 1 Axes>"
      ]
     },
     "metadata": {},
     "output_type": "display_data"
    }
   ],
   "source": [
    "import seaborn as sns\n",
    "import pandas as pd\n",
    "df = pd.DataFrame({'x' : x_data[:, 0], 'y' : y_data[:, 0]})\n",
    "sns.regplot(data=df, x='x', y='y')\n",
    "# 신뢰구간이 많은 곳은 넓게 그려짐\n",
    "plt.show()"
   ]
  },
  {
   "cell_type": "code",
   "execution_count": 109,
   "id": "b5e05cce",
   "metadata": {
    "ExecuteTime": {
     "end_time": "2024-12-13T06:36:19.618302Z",
     "start_time": "2024-12-13T06:36:19.609706Z"
    }
   },
   "outputs": [
    {
     "name": "stdout",
     "output_type": "stream",
     "text": [
      "[-1.22474487 -0.93313895 -0.05832118  0.81649658  1.39970842]\n",
      "[-1.32373476 -1.04563922  0.42826713  0.76198177  1.17912508]\n"
     ]
    }
   ],
   "source": [
    "# 라이브러리를 사용하지 않고 표준화\n",
    "x_data = np.array([1, 2, 5, 8, 10])     # 독립변수(1차원)\n",
    "y_data = np.array([5, 15, 68, 80, 95])  # 종속변수(1차원)\n",
    "scaled_x_data = (x_data - x_data.mean()) / x_data.std()\n",
    "print(scaled_x_data)\n",
    "scaled_y_data = (y_data - y_data.mean()) / y_data.std()\n",
    "print(scaled_y_data)"
   ]
  },
  {
   "cell_type": "code",
   "execution_count": 122,
   "id": "88501c31",
   "metadata": {
    "ExecuteTime": {
     "end_time": "2024-12-13T06:46:10.824609Z",
     "start_time": "2024-12-13T06:46:10.813144Z"
    }
   },
   "outputs": [
    {
     "name": "stdout",
     "output_type": "stream",
     "text": [
      "[[ 1.         -1.22474487]\n",
      " [ 2.         -0.93313895]\n",
      " [ 5.         -0.05832118]\n",
      " [ 8.          0.81649658]\n",
      " [10.          1.39970842]]\n",
      "[[ 5.         -1.32373476]\n",
      " [15.         -1.04563922]\n",
      " [68.          0.42826713]\n",
      " [80.          0.76198177]\n",
      " [95.          1.17912508]]\n"
     ]
    }
   ],
   "source": [
    "# 라이브러리를 사용해서 표준화\n",
    "x_data = np.array([1, 2, 5, 8, 10]).reshape(-1, 1)     # 독립변수(1차원)  # reshape(-1, 1) - 행:-1개만큼 열:고정\n",
    "y_data = np.array([5, 15, 68, 80, 95]).reshape(-1, 1)  # 종속변수(1차원)\n",
    "\n",
    "from sklearn.preprocessing import StandardScaler\n",
    "scaler_x = StandardScaler()  # x_data를 표준화할 객체\n",
    "scaler_x.fit(x_data)\n",
    "scaled_x_data = scaler_x.transform(x_data)\n",
    "scaler_y = StandardScaler()  # y_data를 표준화할 객체\n",
    "scaler_y.fit(y_data)\n",
    "scaler_y_data = scaler_y.transform(y_data)\n",
    "print(np.column_stack([x_data, scaled_x_data]))\n",
    "print(np.column_stack([y_data, scaled_y_data]))"
   ]
  },
  {
   "cell_type": "code",
   "execution_count": 124,
   "id": "bef2e39d",
   "metadata": {
    "ExecuteTime": {
     "end_time": "2024-12-13T06:49:15.433118Z",
     "start_time": "2024-12-13T06:49:10.053041Z"
    }
   },
   "outputs": [
    {
     "name": "stdout",
     "output_type": "stream",
     "text": [
      "1/10000번째 cost : 3.28338623046875, W : [-1.5043446], b : [-0.10587346]\n",
      "1001/10000번째 cost : 1.0416545867919922, W : [-0.20318353], b : [-0.01429979]\n",
      "2001/10000번째 cost : 1.0007599592208862, W : [-0.02744286], b : [-0.0019314]\n",
      "3001/10000번째 cost : 1.000013828277588, W : [-0.00370656], b : [-0.00026088]\n",
      "4001/10000번째 cost : 1.0000001192092896, W : [-0.00050063], b : [-3.5247987e-05]\n",
      "5001/10000번째 cost : 1.0, W : [-6.7616435e-05], b : [-4.7730587e-06]\n",
      "6001/10000번째 cost : 1.0000001192092896, W : [-9.132666e-06], b : [-6.5826725e-07]\n",
      "7001/10000번째 cost : 1.0000001192092896, W : [-1.2332349e-06], b : [-1.0193162e-07]\n",
      "8001/10000번째 cost : 1.0, W : [-1.6385336e-07], b : [-2.8714556e-08]\n",
      "9001/10000번째 cost : 1.0, W : [-3.4044277e-08], b : [-7.167437e-09]\n"
     ]
    }
   ],
   "source": [
    "# placeholder 설정 : predict 가능하도록 하기 위함\n",
    "x = tf.placeholder(dtype=tf.float32)\n",
    "y = tf.placeholder(dtype=tf.float32)\n",
    "\n",
    "# weight & bias 변수 설정\n",
    "W = tf.Variable(tf.random.normal([1]), name='weight')\n",
    "b = tf.Variable(tf.random.normal([1]), name='bias')\n",
    "\n",
    "# Hypothesis 가설\n",
    "H = W*x + b\n",
    "\n",
    "# cost function(loss function) : 손실함수\n",
    "cost = tf.reduce_mean(tf.square(H - y))\n",
    "\n",
    "# 경사하강법\n",
    "optimizer = tf.train.GradientDescentOptimizer(learning_rate=0.001)\n",
    "train     = optimizer.minimize(cost)\n",
    "\n",
    "# Session & Variable 초기화\n",
    "sess = tf.Session()\n",
    "sess.run(tf.global_variables_initializer())\n",
    "\n",
    "# 학습\n",
    "for step in range(1, 10001):\n",
    "    _, cost_val, W_val, b_val = sess.run([train, cost, W, b], feed_dict={x : scaled_x_data, y : scaled_y_data})\n",
    "    if step%1000 == 1:\n",
    "        print('{}/10000번째 cost : {}, W : {}, b : {}'.format(step, cost_val, W_val, b_val))"
   ]
  },
  {
   "cell_type": "markdown",
   "id": "8b3e164f",
   "metadata": {},
   "source": [
    "## 2.5 독립변수 x가 여러개인 linear Regression"
   ]
  },
  {
   "cell_type": "code",
   "execution_count": 11,
   "id": "aa9011a2",
   "metadata": {},
   "outputs": [
    {
     "name": "stdout",
     "output_type": "stream",
     "text": [
      "1번째 cost:66505.3125\n",
      "5001번째 cost:0.9417966604232788\n",
      "10001번째 cost:0.20492061972618103\n",
      "15001번째 cost:0.15395542979240417\n",
      "20001번째 cost:0.1490488052368164\n",
      "25001번째 cost:0.14753912389278412\n",
      "30001번째 cost:0.14650200307369232\n",
      "35001번째 cost:0.14568360149860382\n",
      "최종 cost:0.14503918588161469\n"
     ]
    }
   ],
   "source": [
    "# data set\n",
    "x_data = np.array([[73,80,75],\n",
    "                   [93,88,93],\n",
    "                   [89,91,90],\n",
    "                   [96,98,100],\n",
    "                   [73,66,70]])\n",
    "y_data = np.array([[152],[185],[180],[196],[142]])\n",
    "\n",
    "# tensor groph 정의 placeholder : 공간을만들어줌\n",
    "# shape=[None, 3] : x_data[5, 3] 도 받고, 예측할때는 [1, 3] 3열만 고정\n",
    "# dtype=tf.float32 : 타입지정\n",
    "X = tf.placeholder(shape=[None, 3], dtype=tf.float32)  \n",
    "Y = tf.placeholder(shape=[None, 1], dtype=tf.float32)\n",
    "\n",
    "# weight & bias (weight(독립변수) 3개, bias(종속변수) 1개)\n",
    "W = tf.Variable(tf.random_normal([3, 1]), name='weight') # name='weight' 이름지정 사용하지않아도 구동이된다\n",
    "b = tf.Variable(tf.random.normal([1]), name='bias')\n",
    "\n",
    "# Hypothesis : 가설을 만듦\n",
    "# H = X@W + b : tf.matmul(X, W) = 행렬의 곱\n",
    "H = tf.matmul(X, W) + b\n",
    "\n",
    "# cost\n",
    "# tf.reduce_mean 평균\n",
    "# tf.square 제곱\n",
    "cost = tf.reduce_mean(tf.square(H-Y))\n",
    "\n",
    "# train\n",
    "train = tf.train.GradientDescentOptimizer(learning_rate=0.00001).minimize(cost)\n",
    "\n",
    "# session 생성과 variable(변수) 초기화 \n",
    "# (tf.global_variables_initializer() : 초기화\n",
    "sess = tf.Session()\n",
    "sess.run(tf.global_variables_initializer())\n",
    "\n",
    "# 학습\n",
    "# feed_dict 빈공간에 값을 지정\n",
    "for step in range(1, 40001):\n",
    "    _, cost_val = sess.run([train, cost],\n",
    "                          feed_dict={X : x_data,\n",
    "                                    Y : y_data})\n",
    "    if step%5000==1:\n",
    "        print(f'{step}번째 cost:{cost_val}')\n",
    "print(f'최종 cost:{cost_val}')"
   ]
  },
  {
   "cell_type": "code",
   "execution_count": 15,
   "id": "c661eb3f",
   "metadata": {},
   "outputs": [
    {
     "data": {
      "text/plain": [
       "array([[152.60231],\n",
       "       [149.92883]], dtype=float32)"
      ]
     },
     "execution_count": 15,
     "metadata": {},
     "output_type": "execute_result"
    }
   ],
   "source": [
    "# 예측\n",
    "sess.run(H, feed_dict={X : np.array([[73,80,77],\n",
    "                                    [73,80,72]])}) # 2차원 넘파이배열"
   ]
  },
  {
   "cell_type": "markdown",
   "id": "bd3ec576",
   "metadata": {},
   "source": [
    "## csv를 array로 읽어오기"
   ]
  },
  {
   "cell_type": "code",
   "execution_count": 79,
   "id": "dc3745b7",
   "metadata": {},
   "outputs": [
    {
     "data": {
      "text/plain": [
       "((111, 3), (111,))"
      ]
     },
     "execution_count": 79,
     "metadata": {},
     "output_type": "execute_result"
    }
   ],
   "source": [
    "# 방법1 : csv -> 데이터프레임 -> 넘파이배열\n",
    "# 1. csv를 dataFrame 읽어와\n",
    "data = pd.read_csv('data/ozone.csv')\n",
    "# 2. 결측치 대체 or 삭제\n",
    "# data.fillna(value=data.mean(), inplace=True) # 결측치 대체\n",
    "data.dropna(how='any', axis=0, inplace=True)\n",
    "x = data[['Solar.R', 'Wind', 'Temp']].values\n",
    "y = data['Ozone'].values\n",
    "x.shape, y.shape"
   ]
  },
  {
   "cell_type": "code",
   "execution_count": 16,
   "id": "5c84a883",
   "metadata": {},
   "outputs": [
    {
     "data": {
      "text/plain": [
       "array([[ 41. , 190. ,   7.4,  67. ,   5. ,   1. ],\n",
       "       [ 36. , 118. ,   8. ,  72. ,   5. ,   2. ],\n",
       "       [ 12. , 149. ,  12.6,  74. ,   5. ,   3. ],\n",
       "       [ 18. , 313. ,  11.5,  62. ,   5. ,   4. ],\n",
       "       [  nan,   nan,  14.3,  56. ,   5. ,   5. ]])"
      ]
     },
     "execution_count": 16,
     "metadata": {},
     "output_type": "execute_result"
    }
   ],
   "source": [
    "# 방법2 : csv -> 넘파일배열\n",
    "# data = np.loadtxt('data/ozone_nonan.csv', delimiter=',') NAN과 header가 없어야 함\n",
    "data = np.genfromtxt('data/ozone.csv', delimiter=',', skip_header=1,\n",
    "                    missing_values='NA', filling_values=np.nan)\n",
    "data[:5]"
   ]
  },
  {
   "cell_type": "code",
   "execution_count": 59,
   "id": "ad800650",
   "metadata": {},
   "outputs": [
    {
     "name": "stdout",
     "output_type": "stream",
     "text": [
      "<class 'pandas.core.frame.DataFrame'>\n",
      "RangeIndex: 153 entries, 0 to 152\n",
      "Data columns (total 6 columns):\n",
      " #   Column   Non-Null Count  Dtype  \n",
      "---  ------   --------------  -----  \n",
      " 0   Ozone    116 non-null    float64\n",
      " 1   Solar.R  146 non-null    float64\n",
      " 2   Wind     153 non-null    float64\n",
      " 3   Temp     153 non-null    int64  \n",
      " 4   Month    153 non-null    int64  \n",
      " 5   Day      153 non-null    int64  \n",
      "dtypes: float64(3), int64(3)\n",
      "memory usage: 7.3 KB\n"
     ]
    }
   ],
   "source": [
    "# csv파일 -> 데이터프레임 -> 결측치처리 -> 넘파이 배열 -> 머신러닝 \n",
    "# import statsmodels.api as sm\n",
    "# sm.datasets.get_rdataset('airquality').data 와 동일\n",
    "data = pd.read_csv('data/ozone.csv')\n",
    "data.info()"
   ]
  },
  {
   "cell_type": "code",
   "execution_count": 25,
   "id": "c7c4720f",
   "metadata": {},
   "outputs": [
    {
     "data": {
      "text/html": [
       "<div>\n",
       "<style scoped>\n",
       "    .dataframe tbody tr th:only-of-type {\n",
       "        vertical-align: middle;\n",
       "    }\n",
       "\n",
       "    .dataframe tbody tr th {\n",
       "        vertical-align: top;\n",
       "    }\n",
       "\n",
       "    .dataframe thead th {\n",
       "        text-align: right;\n",
       "    }\n",
       "</style>\n",
       "<table border=\"1\" class=\"dataframe\">\n",
       "  <thead>\n",
       "    <tr style=\"text-align: right;\">\n",
       "      <th></th>\n",
       "      <th>Ozone</th>\n",
       "      <th>Solar.R</th>\n",
       "      <th>Wind</th>\n",
       "      <th>Temp</th>\n",
       "      <th>Month</th>\n",
       "      <th>Day</th>\n",
       "    </tr>\n",
       "  </thead>\n",
       "  <tbody>\n",
       "    <tr>\n",
       "      <th>0</th>\n",
       "      <td>41.0</td>\n",
       "      <td>190.0</td>\n",
       "      <td>7.4</td>\n",
       "      <td>67</td>\n",
       "      <td>5</td>\n",
       "      <td>1</td>\n",
       "    </tr>\n",
       "    <tr>\n",
       "      <th>1</th>\n",
       "      <td>36.0</td>\n",
       "      <td>118.0</td>\n",
       "      <td>8.0</td>\n",
       "      <td>72</td>\n",
       "      <td>5</td>\n",
       "      <td>2</td>\n",
       "    </tr>\n",
       "    <tr>\n",
       "      <th>2</th>\n",
       "      <td>12.0</td>\n",
       "      <td>149.0</td>\n",
       "      <td>12.6</td>\n",
       "      <td>74</td>\n",
       "      <td>5</td>\n",
       "      <td>3</td>\n",
       "    </tr>\n",
       "    <tr>\n",
       "      <th>3</th>\n",
       "      <td>18.0</td>\n",
       "      <td>313.0</td>\n",
       "      <td>11.5</td>\n",
       "      <td>62</td>\n",
       "      <td>5</td>\n",
       "      <td>4</td>\n",
       "    </tr>\n",
       "    <tr>\n",
       "      <th>6</th>\n",
       "      <td>23.0</td>\n",
       "      <td>299.0</td>\n",
       "      <td>8.6</td>\n",
       "      <td>65</td>\n",
       "      <td>5</td>\n",
       "      <td>7</td>\n",
       "    </tr>\n",
       "    <tr>\n",
       "      <th>...</th>\n",
       "      <td>...</td>\n",
       "      <td>...</td>\n",
       "      <td>...</td>\n",
       "      <td>...</td>\n",
       "      <td>...</td>\n",
       "      <td>...</td>\n",
       "    </tr>\n",
       "    <tr>\n",
       "      <th>147</th>\n",
       "      <td>14.0</td>\n",
       "      <td>20.0</td>\n",
       "      <td>16.6</td>\n",
       "      <td>63</td>\n",
       "      <td>9</td>\n",
       "      <td>25</td>\n",
       "    </tr>\n",
       "    <tr>\n",
       "      <th>148</th>\n",
       "      <td>30.0</td>\n",
       "      <td>193.0</td>\n",
       "      <td>6.9</td>\n",
       "      <td>70</td>\n",
       "      <td>9</td>\n",
       "      <td>26</td>\n",
       "    </tr>\n",
       "    <tr>\n",
       "      <th>150</th>\n",
       "      <td>14.0</td>\n",
       "      <td>191.0</td>\n",
       "      <td>14.3</td>\n",
       "      <td>75</td>\n",
       "      <td>9</td>\n",
       "      <td>28</td>\n",
       "    </tr>\n",
       "    <tr>\n",
       "      <th>151</th>\n",
       "      <td>18.0</td>\n",
       "      <td>131.0</td>\n",
       "      <td>8.0</td>\n",
       "      <td>76</td>\n",
       "      <td>9</td>\n",
       "      <td>29</td>\n",
       "    </tr>\n",
       "    <tr>\n",
       "      <th>152</th>\n",
       "      <td>20.0</td>\n",
       "      <td>223.0</td>\n",
       "      <td>11.5</td>\n",
       "      <td>68</td>\n",
       "      <td>9</td>\n",
       "      <td>30</td>\n",
       "    </tr>\n",
       "  </tbody>\n",
       "</table>\n",
       "<p>111 rows × 6 columns</p>\n",
       "</div>"
      ],
      "text/plain": [
       "     Ozone  Solar.R  Wind  Temp  Month  Day\n",
       "0     41.0    190.0   7.4    67      5    1\n",
       "1     36.0    118.0   8.0    72      5    2\n",
       "2     12.0    149.0  12.6    74      5    3\n",
       "3     18.0    313.0  11.5    62      5    4\n",
       "6     23.0    299.0   8.6    65      5    7\n",
       "..     ...      ...   ...   ...    ...  ...\n",
       "147   14.0     20.0  16.6    63      9   25\n",
       "148   30.0    193.0   6.9    70      9   26\n",
       "150   14.0    191.0  14.3    75      9   28\n",
       "151   18.0    131.0   8.0    76      9   29\n",
       "152   20.0    223.0  11.5    68      9   30\n",
       "\n",
       "[111 rows x 6 columns]"
      ]
     },
     "execution_count": 25,
     "metadata": {},
     "output_type": "execute_result"
    }
   ],
   "source": [
    "# 결측치 처리 방법 1 : 결측치 행을 제거\n",
    "# how='any' : 열에 결측치가있으면 지움\n",
    "data.dropna(how='any') # axis=0 : 기본값 생략가능. 결측치가 한열이라도 있는 행 삭제"
   ]
  },
  {
   "cell_type": "code",
   "execution_count": 27,
   "id": "fc23c025",
   "metadata": {},
   "outputs": [
    {
     "data": {
      "text/html": [
       "<div>\n",
       "<style scoped>\n",
       "    .dataframe tbody tr th:only-of-type {\n",
       "        vertical-align: middle;\n",
       "    }\n",
       "\n",
       "    .dataframe tbody tr th {\n",
       "        vertical-align: top;\n",
       "    }\n",
       "\n",
       "    .dataframe thead th {\n",
       "        text-align: right;\n",
       "    }\n",
       "</style>\n",
       "<table border=\"1\" class=\"dataframe\">\n",
       "  <thead>\n",
       "    <tr style=\"text-align: right;\">\n",
       "      <th></th>\n",
       "      <th>Ozone</th>\n",
       "      <th>Solar.R</th>\n",
       "      <th>Wind</th>\n",
       "      <th>Temp</th>\n",
       "      <th>Month</th>\n",
       "      <th>Day</th>\n",
       "    </tr>\n",
       "  </thead>\n",
       "  <tbody>\n",
       "    <tr>\n",
       "      <th>0</th>\n",
       "      <td>41.00000</td>\n",
       "      <td>190.000000</td>\n",
       "      <td>7.4</td>\n",
       "      <td>67</td>\n",
       "      <td>5</td>\n",
       "      <td>1</td>\n",
       "    </tr>\n",
       "    <tr>\n",
       "      <th>1</th>\n",
       "      <td>36.00000</td>\n",
       "      <td>118.000000</td>\n",
       "      <td>8.0</td>\n",
       "      <td>72</td>\n",
       "      <td>5</td>\n",
       "      <td>2</td>\n",
       "    </tr>\n",
       "    <tr>\n",
       "      <th>2</th>\n",
       "      <td>12.00000</td>\n",
       "      <td>149.000000</td>\n",
       "      <td>12.6</td>\n",
       "      <td>74</td>\n",
       "      <td>5</td>\n",
       "      <td>3</td>\n",
       "    </tr>\n",
       "    <tr>\n",
       "      <th>3</th>\n",
       "      <td>18.00000</td>\n",
       "      <td>313.000000</td>\n",
       "      <td>11.5</td>\n",
       "      <td>62</td>\n",
       "      <td>5</td>\n",
       "      <td>4</td>\n",
       "    </tr>\n",
       "    <tr>\n",
       "      <th>4</th>\n",
       "      <td>42.12931</td>\n",
       "      <td>185.931507</td>\n",
       "      <td>14.3</td>\n",
       "      <td>56</td>\n",
       "      <td>5</td>\n",
       "      <td>5</td>\n",
       "    </tr>\n",
       "    <tr>\n",
       "      <th>...</th>\n",
       "      <td>...</td>\n",
       "      <td>...</td>\n",
       "      <td>...</td>\n",
       "      <td>...</td>\n",
       "      <td>...</td>\n",
       "      <td>...</td>\n",
       "    </tr>\n",
       "    <tr>\n",
       "      <th>148</th>\n",
       "      <td>30.00000</td>\n",
       "      <td>193.000000</td>\n",
       "      <td>6.9</td>\n",
       "      <td>70</td>\n",
       "      <td>9</td>\n",
       "      <td>26</td>\n",
       "    </tr>\n",
       "    <tr>\n",
       "      <th>149</th>\n",
       "      <td>42.12931</td>\n",
       "      <td>145.000000</td>\n",
       "      <td>13.2</td>\n",
       "      <td>77</td>\n",
       "      <td>9</td>\n",
       "      <td>27</td>\n",
       "    </tr>\n",
       "    <tr>\n",
       "      <th>150</th>\n",
       "      <td>14.00000</td>\n",
       "      <td>191.000000</td>\n",
       "      <td>14.3</td>\n",
       "      <td>75</td>\n",
       "      <td>9</td>\n",
       "      <td>28</td>\n",
       "    </tr>\n",
       "    <tr>\n",
       "      <th>151</th>\n",
       "      <td>18.00000</td>\n",
       "      <td>131.000000</td>\n",
       "      <td>8.0</td>\n",
       "      <td>76</td>\n",
       "      <td>9</td>\n",
       "      <td>29</td>\n",
       "    </tr>\n",
       "    <tr>\n",
       "      <th>152</th>\n",
       "      <td>20.00000</td>\n",
       "      <td>223.000000</td>\n",
       "      <td>11.5</td>\n",
       "      <td>68</td>\n",
       "      <td>9</td>\n",
       "      <td>30</td>\n",
       "    </tr>\n",
       "  </tbody>\n",
       "</table>\n",
       "<p>153 rows × 6 columns</p>\n",
       "</div>"
      ],
      "text/plain": [
       "        Ozone     Solar.R  Wind  Temp  Month  Day\n",
       "0    41.00000  190.000000   7.4    67      5    1\n",
       "1    36.00000  118.000000   8.0    72      5    2\n",
       "2    12.00000  149.000000  12.6    74      5    3\n",
       "3    18.00000  313.000000  11.5    62      5    4\n",
       "4    42.12931  185.931507  14.3    56      5    5\n",
       "..        ...         ...   ...   ...    ...  ...\n",
       "148  30.00000  193.000000   6.9    70      9   26\n",
       "149  42.12931  145.000000  13.2    77      9   27\n",
       "150  14.00000  191.000000  14.3    75      9   28\n",
       "151  18.00000  131.000000   8.0    76      9   29\n",
       "152  20.00000  223.000000  11.5    68      9   30\n",
       "\n",
       "[153 rows x 6 columns]"
      ]
     },
     "execution_count": 27,
     "metadata": {},
     "output_type": "execute_result"
    }
   ],
   "source": [
    "# 결측치 처리 방법 2 : 열별 평균 값으로 대체\n",
    "data.fillna(value=data.mean())"
   ]
  },
  {
   "cell_type": "code",
   "execution_count": 31,
   "id": "4a6e1cbd",
   "metadata": {},
   "outputs": [
    {
     "data": {
      "text/plain": [
       "23.615384615384617"
      ]
     },
     "execution_count": 31,
     "metadata": {},
     "output_type": "execute_result"
    }
   ],
   "source": [
    "# 결측치 처리 방법 3 : 열별 월별 평균 값으로 대체\n",
    "mean_data = data.groupby('Month')[['Ozone','Solar.R']].mean()\n",
    "mean_data.loc[5, 'Ozone']"
   ]
  },
  {
   "cell_type": "code",
   "execution_count": 60,
   "id": "844ea895",
   "metadata": {},
   "outputs": [
    {
     "data": {
      "text/html": [
       "<div>\n",
       "<style scoped>\n",
       "    .dataframe tbody tr th:only-of-type {\n",
       "        vertical-align: middle;\n",
       "    }\n",
       "\n",
       "    .dataframe tbody tr th {\n",
       "        vertical-align: top;\n",
       "    }\n",
       "\n",
       "    .dataframe thead th {\n",
       "        text-align: right;\n",
       "    }\n",
       "</style>\n",
       "<table border=\"1\" class=\"dataframe\">\n",
       "  <thead>\n",
       "    <tr style=\"text-align: right;\">\n",
       "      <th></th>\n",
       "      <th>Ozone</th>\n",
       "      <th>Solar.R</th>\n",
       "      <th>Wind</th>\n",
       "      <th>Temp</th>\n",
       "    </tr>\n",
       "  </thead>\n",
       "  <tbody>\n",
       "    <tr>\n",
       "      <th>0</th>\n",
       "      <td>41.000000</td>\n",
       "      <td>190.000000</td>\n",
       "      <td>7.4</td>\n",
       "      <td>67.0</td>\n",
       "    </tr>\n",
       "    <tr>\n",
       "      <th>1</th>\n",
       "      <td>36.000000</td>\n",
       "      <td>118.000000</td>\n",
       "      <td>8.0</td>\n",
       "      <td>72.0</td>\n",
       "    </tr>\n",
       "    <tr>\n",
       "      <th>2</th>\n",
       "      <td>12.000000</td>\n",
       "      <td>149.000000</td>\n",
       "      <td>12.6</td>\n",
       "      <td>74.0</td>\n",
       "    </tr>\n",
       "    <tr>\n",
       "      <th>3</th>\n",
       "      <td>18.000000</td>\n",
       "      <td>313.000000</td>\n",
       "      <td>11.5</td>\n",
       "      <td>62.0</td>\n",
       "    </tr>\n",
       "    <tr>\n",
       "      <th>4</th>\n",
       "      <td>23.615385</td>\n",
       "      <td>181.296296</td>\n",
       "      <td>14.3</td>\n",
       "      <td>56.0</td>\n",
       "    </tr>\n",
       "  </tbody>\n",
       "</table>\n",
       "</div>"
      ],
      "text/plain": [
       "       Ozone     Solar.R  Wind  Temp\n",
       "0  41.000000  190.000000   7.4  67.0\n",
       "1  36.000000  118.000000   8.0  72.0\n",
       "2  12.000000  149.000000  12.6  74.0\n",
       "3  18.000000  313.000000  11.5  62.0\n",
       "4  23.615385  181.296296  14.3  56.0"
      ]
     },
     "execution_count": 60,
     "metadata": {},
     "output_type": "execute_result"
    }
   ],
   "source": [
    "def fill_nan(row):\n",
    "    'row[\"Ozone\"]과 row[\"Solar.R\"]값이 결측치면 mean_data.loc[월, 열이름] 평균값으로 대체'\n",
    "    row = row.copy()\n",
    "    # pd.options.mode.copy_on_write = True\n",
    "    if row.isna()['Ozone'] :\n",
    "        row['Ozone'] = mean_data.loc[row.Month, 'Ozone']\n",
    "    if row.isna()['Solar.R'] :\n",
    "        row['Solar.R'] = mean_data.loc[row.Month, 'Solar.R']\n",
    "    return row\n",
    "# data.loc[4], fill_nan(data.loc[4])\n",
    "data = data.apply(fill_nan, axis=1)\n",
    "data = data[['Ozone', 'Solar.R', 'Wind', 'Temp']]\n",
    "data.head()"
   ]
  },
  {
   "cell_type": "code",
   "execution_count": 74,
   "id": "d300192e",
   "metadata": {},
   "outputs": [
    {
     "name": "stdout",
     "output_type": "stream",
     "text": [
      "1번째 cost : 24871.310546875\n",
      "2001번째 cost : 711.0797119140625\n",
      "4001번째 cost : 678.5676879882812\n",
      "6001번째 cost : 650.6194458007812\n",
      "8001번째 cost : 626.2763061523438\n",
      "10001번째 cost : 605.0730590820312\n",
      "12001번째 cost : 586.6046142578125\n",
      "14001번째 cost : 570.518310546875\n",
      "16001번째 cost : 556.5066528320312\n",
      "18001번째 cost : 544.3021850585938\n",
      "20001번째 cost : 533.6717529296875\n",
      "22001번째 cost : 524.412353515625\n",
      "24001번째 cost : 516.3470458984375\n",
      "26001번째 cost : 509.3218994140625\n",
      "28001번째 cost : 503.2027587890625\n",
      "30001번째 cost : 497.8726501464844\n",
      "32001번째 cost : 493.22991943359375\n",
      "34001번째 cost : 489.18585205078125\n",
      "36001번째 cost : 485.66314697265625\n",
      "38001번째 cost : 482.5945739746094\n",
      "최종 cost : 479.9230041503906, W : [[ 0.05329285]\n",
      " [-2.5698807 ]\n",
      " [ 0.7423933 ]], b : [-0.48333976]\n"
     ]
    }
   ],
   "source": [
    "# 독립변수 & 종속변수 (values : 판다스 데이터를 넘파이 배열로 )\n",
    "x_data = data[['Solar.R', 'Wind', 'Temp']].values\n",
    "x_data = data.iloc[:, 1:].values\n",
    "y_data = data['Ozone'].values.reshape(-1, 1)\n",
    "y_data = data[['Ozone']].values\n",
    "x_data.shape, y_data.shape\n",
    "\n",
    "# tensorflow 구현\n",
    "# 1. X, y\n",
    "X = tf.placeholder(shape=[None, 3], dtype=tf.float32)\n",
    "y = tf.placeholder(shape=[None, 1], dtype=tf.float32)\n",
    "\n",
    "# 2. 독립변수 3개, 종속변수 1개인 모델의 weight, bias\n",
    "W = tf.Variable(tf.random_normal([3, 1]))\n",
    "b = tf.Variable(tf.random_normal([1]))\n",
    "\n",
    "# 3. Hypothesis 예측\n",
    "H = tf.matmul(X, W) + b\n",
    "\n",
    "# 4. cost함수 = loss함수 = 손실함수\n",
    "cost = tf.reduce_mean(tf.square(H-y))\n",
    "\n",
    "# 5. train\n",
    "train = tf.train.GradientDescentOptimizer(learning_rate=1e-6).minimize(cost)\n",
    "\n",
    "# 6. sess객체 생성 & W,b 변수 초기화\n",
    "sess = tf.Session()\n",
    "sess.run(tf.global_variables_initializer())\n",
    "\n",
    "# 7. 학습\n",
    "for step in range(1, 40001):\n",
    "    _, cost_val = sess.run([train, cost], feed_dict={X : x_data, y : y_data})\n",
    "    \n",
    "    if step%2000 == 1:\n",
    "        print('{}번째 cost : {}'.format(step, cost_val))\n",
    "print('최종 cost : {}, W : {}, b : {}'.format(cost_val, sess.run(W), sess.run(b)))     "
   ]
  },
  {
   "cell_type": "code",
   "execution_count": 75,
   "id": "a708732f",
   "metadata": {},
   "outputs": [
    {
     "data": {
      "text/plain": [
       "array([[38.69849]], dtype=float32)"
      ]
     },
     "execution_count": 75,
     "metadata": {},
     "output_type": "execute_result"
    }
   ],
   "source": [
    "# 예측하기 (독립변수 118, 8, 72면 종속변수는 얼마 ?)\n",
    "input_data = np.array([[118,8,72]])\n",
    "sess.run(H, feed_dict={X:input_data})"
   ]
  },
  {
   "cell_type": "code",
   "execution_count": 88,
   "id": "3669e77e",
   "metadata": {},
   "outputs": [
    {
     "name": "stdout",
     "output_type": "stream",
     "text": [
      "1번째 cost : 6.0487260818481445\n",
      "10001번째 cost : 3.599811315536499\n",
      "20001번째 cost : 2.2455999851226807\n",
      "30001번째 cost : 1.4920316934585571\n",
      "40001번째 cost : 1.069584608078003\n",
      "50001번째 cost : 0.8307232856750488\n",
      "60001번째 cost : 0.6943413019180298\n",
      "70001번째 cost : 0.6156104803085327\n",
      "80001번째 cost : 0.5696148872375488\n",
      "90001번째 cost : 0.5423953533172607\n",
      "최종 cost : 0.5260714888572693\n"
     ]
    }
   ],
   "source": [
    "# MinMaxScaler 나 StandardScaler를 이용하여 스케일 조정 후 tensorflow 수행\n",
    "# 주로 0~1 사이     주로 0근처\n",
    "data = pd.read_csv('data/ozone.csv')\n",
    "\n",
    "# 결측치 처리\n",
    "mean_data = data.groupby('Month')[['Ozone','Solar.R']].mean()\n",
    "def fill_nan(row):\n",
    "    'row[\"Ozone\"]과 row[\"Solar.R\"]값이 결측치면 mean_data.loc[월, 열이름] 평균값으로 대체'\n",
    "    row = row.copy()\n",
    "    # pd.options.mode.copy_on_write = True\n",
    "    if row.isna()['Ozone'] :\n",
    "        row['Ozone'] = mean_data.loc[row.Month, 'Ozone']\n",
    "    if row.isna()['Solar.R'] :\n",
    "        row['Solar.R'] = mean_data.loc[row.Month, 'Solar.R']\n",
    "    return row\n",
    "# data.loc[4], fill_nan(data.loc[4])\n",
    "data = data.apply(fill_nan, axis=1)\n",
    "data = data[['Ozone', 'Solar.R', 'Wind', 'Temp']]\n",
    "\n",
    "# 독립변수 & 종속변수 (values: 판다스 데이터를 넘파이 배열로)\n",
    "x_data = data.iloc[:, 1:].values\n",
    "y_data = data[['Ozone']].values\n",
    "x_data.shape, y_data.shape\n",
    "\n",
    "# 독립변수와 종속변수의 scale 조정\n",
    "from sklearn.preprocessing import StandardScaler\n",
    "scaler_x = StandardScaler()\n",
    "scaled_x_data =scaler_x.fit_transform(x_data)\n",
    "scaler_y = StandardScaler()\n",
    "scaled_y_data = scaler_y.fit_transform(y_data)\n",
    "scaled_x_data.shape, scaled_y_data.shape\n",
    "\n",
    "# tensorflow 구현\n",
    "# 1. X, y\n",
    "X = tf.placeholder(shape=[None, 3], dtype=tf.float32)\n",
    "y = tf.placeholder(shape=[None, 1], dtype=tf.float32)\n",
    "\n",
    "# 2. 독립변수 3개, 종속변수 1개인 모델의 weight, bias\n",
    "W = tf.Variable(tf.random_normal([3, 1]))\n",
    "b = tf.Variable(tf.random_normal([1]))\n",
    "\n",
    "# 3. Hypothesis 예측\n",
    "H = tf.matmul(X, W) + b\n",
    "\n",
    "# 4. cost함수 = loss함수 = 손실함수\n",
    "cost = tf.reduce_mean(tf.square(H-y))\n",
    "\n",
    "# 5. train\n",
    "train = tf.train.GradientDescentOptimizer(learning_rate=1e-5).minimize(cost)\n",
    "\n",
    "# 6. sess객체 생성 & W,b 변수 초기화\n",
    "sess = tf.Session()\n",
    "sess.run(tf.global_variables_initializer())\n",
    "\n",
    "# 7. 학습\n",
    "for step in range(1, 100001):\n",
    "    _, cost_val = sess.run([train, cost], feed_dict={X : scaled_x_data, y : scaled_y_data})\n",
    "    \n",
    "    if step%10000 == 1:\n",
    "        print('{}번째 cost : {}'.format(step, cost_val))\n",
    "print('최종 cost : {}'.format(cost_val))   "
   ]
  },
  {
   "cell_type": "code",
   "execution_count": 89,
   "id": "b345b923",
   "metadata": {},
   "outputs": [
    {
     "data": {
      "text/plain": [
       "array([[37.84676]], dtype=float32)"
      ]
     },
     "execution_count": 89,
     "metadata": {},
     "output_type": "execute_result"
    }
   ],
   "source": [
    "# 예측하기 (독립변수 118, 8, 72면 종속변수는 얼마 ?)\n",
    "input_data = np.array([[118,8,72]])\n",
    "predict_data = sess.run(H, feed_dict={X: scaler_x.transform(input_data)})\n",
    "scaler_y.inverse_transform(predict_data)"
   ]
  },
  {
   "cell_type": "markdown",
   "id": "66cf2fb6",
   "metadata": {},
   "source": [
    "# 3. logistic Regression = Binary classification(Binary 분류분석)\n",
    "- logistic 회귀분석 : 기존의 회귀분석과는 다른 처리가 필요"
   ]
  },
  {
   "cell_type": "code",
   "execution_count": 97,
   "id": "bf1dc847",
   "metadata": {},
   "outputs": [
    {
     "data": {
      "image/png": "[encoded data removed]",
      "text/plain": [
       "<Figure size 500x200 with 1 Axes>"
      ]
     },
     "metadata": {},
     "output_type": "display_data"
    }
   ],
   "source": [
    "from scipy import stats\n",
    "import matplotlib.pyplot as plt\n",
    "plt.figure(figsize=(5, 2))\n",
    "x = np.array([1, 2, 5, 8, 10])\n",
    "y = np.array([0, 0, 0, 1, 1])\n",
    "lm = stats.linregress(x, y)\n",
    "H = lm[0]*x + lm[1] # 예측값\n",
    "plt.scatter(x, y)\n",
    "plt.plot(x, H,'r')\n",
    "plt.show()"
   ]
  },
  {
   "cell_type": "code",
   "execution_count": 98,
   "id": "6cfd1845",
   "metadata": {},
   "outputs": [
    {
     "data": {
      "image/png": "[encoded data removed]",
      "text/plain": [
       "<Figure size 500x200 with 1 Axes>"
      ]
     },
     "metadata": {},
     "output_type": "display_data"
    }
   ],
   "source": [
    "plt.figure(figsize=(5, 2))\n",
    "x = np.array([1, 2, 5, 8, 10, 40])\n",
    "y = np.array([0, 0, 0, 1, 1, 1])\n",
    "lm = stats.linregress(x, y)\n",
    "H = lm[0]*x + lm[1] # 예측값\n",
    "plt.scatter(x, y)\n",
    "plt.plot(x, H,'r')\n",
    "plt.show()"
   ]
  },
  {
   "cell_type": "code",
   "execution_count": 117,
   "id": "f5d1f37b",
   "metadata": {},
   "outputs": [
    {
     "name": "stdout",
     "output_type": "stream",
     "text": [
      "1번째 cost : 1.2789642810821533\n",
      "601번째 cost : 0.3902711868286133\n",
      "1201번째 cost : 0.3379004895687103\n",
      "1801번째 cost : 0.30717772245407104\n",
      "2401번째 cost : 0.2853761911392212\n",
      "3001번째 cost : 0.2689181864261627\n",
      "3601번째 cost : 0.25592419505119324\n",
      "4201번째 cost : 0.24529896676540375\n",
      "4801번째 cost : 0.2363652139902115\n",
      "5401번째 cost : 0.2286834716796875\n",
      "6001번째 cost : 0.22195637226104736\n",
      "6601번째 cost : 0.21597589552402496\n",
      "7201번째 cost : 0.21059219539165497\n",
      "7801번째 cost : 0.2056943029165268\n",
      "8401번째 cost : 0.20119835436344147\n",
      "9001번째 cost : 0.19703984260559082\n",
      "9601번째 cost : 0.19316808879375458\n",
      "최종 cost : 0.1907319575548172\n"
     ]
    }
   ],
   "source": [
    "# 교안 50pt\n",
    "x_data = np.array([[10, 0],\n",
    "                   [8, 1],\n",
    "                   [3, 3],\n",
    "                   [2, 3],\n",
    "                   [5, 1],\n",
    "                   [2, 0],\n",
    "                   [1, 0]])\n",
    "y_data = np.array([[1],\n",
    "                   [1],\n",
    "                   [1],\n",
    "                   [1],\n",
    "                   [0],\n",
    "                   [0],\n",
    "                   [0]])\n",
    "\n",
    "# X, y\n",
    "X = tf.placeholder(shape=[None, 2], dtype=tf.float32)\n",
    "y = tf.placeholder(shape=[None, 1], dtype=tf.float32)\n",
    "\n",
    "# 독립변수가 2개, 종속변수가 1개인 weight & bias\n",
    "W = tf.Variable(tf.random_normal([2,1]))\n",
    "b = tf.Variable(tf.random.normal([1]))\n",
    "\n",
    "# Hypothesis\n",
    "logits = tf.matmul(X, W) + b\n",
    "H = tf.sigmoid(logits)\n",
    "\n",
    "# cost 함수\n",
    "# cost = tf.reduce_mean(tf.square(H - y))\n",
    "cost = tf.reduce_mean(tf.nn.sigmoid_cross_entropy_with_logits(logits=logits, labels=y))\n",
    "\n",
    "# train\n",
    "train = tf.train.GradientDescentOptimizer(learning_rate=0.01).minimize(cost)\n",
    "\n",
    "# sess & 초기화\n",
    "sess = tf.Session()\n",
    "sess.run(tf.global_variables_initializer())\n",
    "\n",
    "# 학습\n",
    "for step in range(1, 10001):\n",
    "    _, cost_val = sess.run([train, cost], feed_dict={X : x_data,\n",
    "                                                    y : y_data})\n",
    "    if step%600 == 1:\n",
    "        print('{}번째 cost : {}'.format(step, cost_val))\n",
    "print('최종 cost : {}'.format(cost_val))"
   ]
  },
  {
   "cell_type": "code",
   "execution_count": 123,
   "id": "56a03c8f",
   "metadata": {},
   "outputs": [
    {
     "name": "stdout",
     "output_type": "stream",
     "text": [
      "모델의 정확도 : 85.71428656578064 %\n"
     ]
    }
   ],
   "source": [
    "# accuracy\n",
    "predict = tf.cast(H >= 0.5, dtype=tf.float32)\n",
    "# sess.run(predict, feed_dict={X : x_data})\n",
    "correct = tf.equal(predict, y)\n",
    "# sess.run(correct, feed_dict={X : x_data, y :y_data})\n",
    "accuracy = tf.reduce_mean(tf.cast(correct, dtype=tf.float32))\n",
    "print('모델의 정확도 :', sess.run(accuracy, feed_dict={X:x_data, y:y_data})*100, '%')"
   ]
  },
  {
   "cell_type": "code",
   "execution_count": 124,
   "id": "30069abb",
   "metadata": {},
   "outputs": [
    {
     "data": {
      "text/plain": [
       "array([[1.]], dtype=float32)"
      ]
     },
     "execution_count": 124,
     "metadata": {},
     "output_type": "execute_result"
    }
   ],
   "source": [
    "# 모델 사용하기 == 예측하기\n",
    "input_data = np.array([[10, 3]])\n",
    "sess.run(predict, feed_dict={X:input_data})"
   ]
  },
  {
   "cell_type": "markdown",
   "id": "313a9087",
   "metadata": {},
   "source": [
    "# 4. 분류분석\n",
    "- 종속변수가 2개 이상\n",
    "- 교안 54pt"
   ]
  },
  {
   "cell_type": "code",
   "execution_count": 135,
   "id": "08514624",
   "metadata": {},
   "outputs": [
    {
     "data": {
      "text/plain": [
       "((7, 4), (7, 3))"
      ]
     },
     "execution_count": 135,
     "metadata": {},
     "output_type": "execute_result"
    }
   ],
   "source": [
    "x_data = np.array([[10,7, 8, 5],\n",
    "                   [8, 8, 9, 4],\n",
    "                   [7, 8, 2, 3],\n",
    "                   [6, 3, 9, 3],\n",
    "                   [7, 5, 7, 4],\n",
    "                   [3, 5, 6, 2],\n",
    "                   [2, 4, 3, 1]])\n",
    "y_data = np.array([[\"A\"],\n",
    "                   [\"A\"],\n",
    "                   [\"B\"],\n",
    "                   [\"B\"],\n",
    "                   [\"B\"],\n",
    "                   [\"C\"],\n",
    "                   [\"C\"]])\n",
    "\n",
    "# 종속변수가 다중분류면 원핫인코딩(교안 58pt)\n",
    "# 원핫인코딩 방법 1\n",
    "from sklearn.preprocessing import LabelEncoder\n",
    "from tensorflow.keras.utils import to_categorical\n",
    "# to_categorical(y_data)\n",
    "encoder = LabelEncoder()\n",
    "encoder.fit(y_data.ravel())\n",
    "labeled_y_data = encoder.fit_transform(y_data.ravel())\n",
    "onehot_y_data = to_categorical(labeled_y_data)\n",
    "onehot_y_data\n",
    "    \n",
    "# 원핫인코딩 방법 2\n",
    "from sklearn.preprocessing import LabelEncoder\n",
    "import pandas as pd\n",
    "encoder = LabelEncoder()\n",
    "encoder.fit(y_data.ravel())\n",
    "labeled_y_data = encoder.fit_transform(y_data.ravel())\n",
    "onehot_y_data = pd.get_dummies(labeled_y_data).values # pd.get_dummies의 결과 데이터프레임\n",
    "onehot_y_data\n",
    "\n",
    "# 원핫인코딩 방법 3\n",
    "onehot_y_data = pd.get_dummies(y_data.ravel()).values\n",
    "x_data.shape, onehot_y_data.shape"
   ]
  },
  {
   "cell_type": "code",
   "execution_count": 136,
   "id": "5853f246",
   "metadata": {},
   "outputs": [
    {
     "data": {
      "text/plain": [
       "array([ 1,  2,  5,  8, 10, 40])"
      ]
     },
     "execution_count": 136,
     "metadata": {},
     "output_type": "execute_result"
    }
   ],
   "source": [
    "x_data # 독립변수"
   ]
  },
  {
   "cell_type": "code",
   "execution_count": 137,
   "id": "4d6d91ed",
   "metadata": {},
   "outputs": [
    {
     "data": {
      "text/plain": [
       "array([[1, 0, 0],\n",
       "       [1, 0, 0],\n",
       "       [0, 1, 0],\n",
       "       [0, 1, 0],\n",
       "       [0, 1, 0],\n",
       "       [0, 0, 1],\n",
       "       [0, 0, 1]], dtype=uint8)"
      ]
     },
     "execution_count": 137,
     "metadata": {},
     "output_type": "execute_result"
    }
   ],
   "source": [
    "onehot_y_data # 종속변수"
   ]
  },
  {
   "cell_type": "code",
   "execution_count": 146,
   "id": "9ed8f98e",
   "metadata": {},
   "outputs": [
    {
     "name": "stdout",
     "output_type": "stream",
     "text": [
      "1번째 cost : 10.6384916305542\n",
      "601번째 cost : 1.619059681892395\n",
      "1201번째 cost : 1.0556663274765015\n",
      "1801번째 cost : 0.506774365901947\n",
      "2401번째 cost : 0.04425957426428795\n",
      "3001번째 cost : 0.03881866857409477\n",
      "3601번째 cost : 0.03488437086343765\n",
      "4201번째 cost : 0.031777363270521164\n",
      "4801번째 cost : 0.029218649491667747\n",
      "5401번째 cost : 0.027058351784944534\n",
      "6001번째 cost : 0.02520299330353737\n",
      "6601번째 cost : 0.02358914352953434\n",
      "7201번째 cost : 0.022170865908265114\n",
      "7801번째 cost : 0.020913908258080482\n",
      "8401번째 cost : 0.01979169249534607\n",
      "9001번째 cost : 0.01878361590206623\n",
      "9601번째 cost : 0.017872853204607964\n",
      "최종 cost : 0.017314260825514793\n"
     ]
    }
   ],
   "source": [
    "# X, y\n",
    "X = tf.placeholder(shape=[None, 4], dtype=tf.float32)\n",
    "Y = tf.placeholder(shape=[None, 3], dtype=tf.float32)\n",
    "\n",
    "# 독립변수가 4개, 종속변수가 3개인 weight & bias\n",
    "W = tf.Variable(tf.random_normal([4,3]))\n",
    "b = tf.Variable(tf.random.normal([3]))\n",
    "\n",
    "# Hypothesis\n",
    "logits = tf.matmul(X, W) + b\n",
    "# H = tf.sigmoid(logits) binary classfication(이진분류) 일 경우\n",
    "H = tf.nn.softmax(logits) # softmax : 종속변수들의 합이 1\n",
    "\n",
    "# cost 함수\n",
    "# cost = tf.reduce_mean(tf.square(H - y))\n",
    "cost = tf.reduce_mean(tf.nn.softmax_cross_entropy_with_logits_v2(logits=logits, labels=Y))\n",
    "\n",
    "# train\n",
    "train = tf.train.GradientDescentOptimizer(learning_rate=0.1).minimize(cost)\n",
    "\n",
    "# sess & 초기화\n",
    "sess = tf.Session()\n",
    "sess.run(tf.global_variables_initializer())\n",
    "\n",
    "# 학습\n",
    "for step in range(1, 10001):\n",
    "    _, cost_val = sess.run([train, cost], feed_dict={X : x_data,\n",
    "                                                    Y : onehot_y_data})\n",
    "    if step%600 == 1:\n",
    "        print('{}번째 cost : {}'.format(step, cost_val))\n",
    "print('최종 cost : {}'.format(cost_val))"
   ]
  },
  {
   "cell_type": "code",
   "execution_count": 147,
   "id": "d4a70bf5",
   "metadata": {},
   "outputs": [
    {
     "name": "stdout",
     "output_type": "stream",
     "text": [
      "[[9.6782780e-01 3.2172166e-02 1.4778205e-11]]\n",
      "[0]\n"
     ]
    }
   ],
   "source": [
    "# 예측하기\n",
    "input_data = np.array([[10, 7, 8, 5]])\n",
    "y_hat = sess.run(H, feed_dict={X : input_data})\n",
    "print(y_hat)\n",
    "print(y_hat.argmax(axis=1)) # argmax(axis=1) : 행별 최대값이 있는 index"
   ]
  },
  {
   "cell_type": "code",
   "execution_count": 152,
   "id": "b7d77ee8",
   "metadata": {},
   "outputs": [
    {
     "name": "stdout",
     "output_type": "stream",
     "text": [
      "100.0 %\n"
     ]
    }
   ],
   "source": [
    "# accuracy 측정\n",
    "# H(예측값) : 0.99 0.005 0.005 -> H.argmax -> 0\n",
    "# Y(실제값) :  1     0     0   -> Y.argmax -> 0\n",
    "predict = tf.argmax(H, axis=1)\n",
    "# sess.run(predict, feed_dict={X:x_data})\n",
    "correct = tf.equal(predict, tf.argmax(Y, axis=1))\n",
    "# sess.run(correct, feed_dict={X:x_data, Y:onehot_y_data})\n",
    "accuracy = tf.reduce_mean(tf.cast(correct, dtype=tf.float32))\n",
    "print(sess.run(accuracy, feed_dict={X:x_data,\n",
    "                             Y:onehot_y_data})*100, '%')"
   ]
  },
  {
   "cell_type": "markdown",
   "id": "9ec703f8",
   "metadata": {},
   "source": [
    "# 5. XOR(교안 77pt)"
   ]
  },
  {
   "cell_type": "code",
   "execution_count": 157,
   "id": "687ec47e",
   "metadata": {},
   "outputs": [
    {
     "name": "stdout",
     "output_type": "stream",
     "text": [
      "1번째 cost : 0.7215084433555603\n",
      "601번째 cost : 0.7093347311019897\n",
      "1201번째 cost : 0.703235387802124\n",
      "1801번째 cost : 0.6994356513023376\n",
      "2401번째 cost : 0.6970652341842651\n",
      "3001번째 cost : 0.6955881714820862\n",
      "3601번째 cost : 0.694668173789978\n",
      "4201번째 cost : 0.6940951943397522\n",
      "4801번째 cost : 0.6937382221221924\n",
      "5401번째 cost : 0.6935157775878906\n",
      "6001번째 cost : 0.6933771371841431\n",
      "6601번째 cost : 0.693290650844574\n",
      "7201번째 cost : 0.6932367086410522\n",
      "7801번째 cost : 0.6932030916213989\n",
      "8401번째 cost : 0.693182110786438\n",
      "9001번째 cost : 0.6931689977645874\n",
      "9601번째 cost : 0.6931607723236084\n",
      "최종 cost : 0.6931571364402771\n"
     ]
    }
   ],
   "source": [
    "# dataset\n",
    "x_data = np.array([[0,0],\n",
    "                 [0,1],\n",
    "                 [1,0],\n",
    "                 [1,1]])\n",
    "y_data = np.array([[0], \n",
    "                   [1],\n",
    "                   [1], \n",
    "                   [0]])\n",
    "\n",
    "# X, y\n",
    "X = tf.placeholder(shape=[None, 2], dtype=tf.float32)\n",
    "y = tf.placeholder(shape=[None, 1], dtype=tf.float32)\n",
    "\n",
    "# 독립변수가 2개, 종속변수가 1개인 weight & bias\n",
    "W = tf.Variable(tf.random_normal([2,1]))\n",
    "b = tf.Variable(tf.random.normal([1]))\n",
    "\n",
    "# Hypothesis\n",
    "logits = tf.matmul(X, W) + b\n",
    "H = tf.sigmoid(logits)\n",
    "\n",
    "# cost 함수\n",
    "# cost = tf.reduce_mean(tf.square(H - y))\n",
    "cost = tf.reduce_mean(tf.nn.sigmoid_cross_entropy_with_logits(logits=logits, labels=y))\n",
    "\n",
    "# train\n",
    "train = tf.train.GradientDescentOptimizer(learning_rate=0.01).minimize(cost)\n",
    "\n",
    "# sess & 초기화\n",
    "sess = tf.Session()\n",
    "sess.run(tf.global_variables_initializer())\n",
    "\n",
    "# 학습\n",
    "for step in range(1, 10001):\n",
    "    _, cost_val = sess.run([train, cost], feed_dict={X : x_data,\n",
    "                                                    y : y_data})\n",
    "    if step%600 == 1:\n",
    "        print('{}번째 cost : {}'.format(step, cost_val))\n",
    "print('최종 cost : {}'.format(cost_val))"
   ]
  },
  {
   "cell_type": "code",
   "execution_count": 160,
   "id": "67d45816",
   "metadata": {},
   "outputs": [
    {
     "data": {
      "text/plain": [
       "0.75"
      ]
     },
     "execution_count": 160,
     "metadata": {},
     "output_type": "execute_result"
    }
   ],
   "source": [
    "# accaccuracy \n",
    "predict = tf.cast(H>=0.5, dtype=tf.float32)\n",
    "# sess.run(predict, feed_dict={X:x_data})\n",
    "correct = tf.equal(predict, y)\n",
    "sess.run(correct, feed_dict={X:x_data, y:y_data})\n",
    "accuracy = tf.reduce_mean(tf.cast(correct, dtype=tf.float32))\n",
    "sess.run(accuracy, feed_dict={X:x_data,\n",
    "                             y:y_data})"
   ]
  },
  {
   "cell_type": "markdown",
   "id": "b4dfefb3",
   "metadata": {},
   "source": [
    "# 6. Deep Learning XOR 예제"
   ]
  },
  {
   "cell_type": "code",
   "execution_count": 167,
   "id": "06128c00",
   "metadata": {},
   "outputs": [
    {
     "name": "stdout",
     "output_type": "stream",
     "text": [
      "1번째 cost : 1.2850582599639893\n",
      "601번째 cost : 0.5730627179145813\n",
      "1201번째 cost : 0.44972801208496094\n",
      "1801번째 cost : 0.4006842076778412\n",
      "2401번째 cost : 0.3802121877670288\n",
      "3001번째 cost : 0.37132731080055237\n",
      "3601번째 cost : 0.36570292711257935\n",
      "4201번째 cost : 0.3619510233402252\n",
      "4801번째 cost : 0.35929885506629944\n",
      "5401번째 cost : 0.3573051691055298\n",
      "6001번째 cost : 0.35578110814094543\n",
      "6601번째 cost : 0.3546251654624939\n",
      "7201번째 cost : 0.3537081480026245\n",
      "7801번째 cost : 0.3529855012893677\n",
      "8401번째 cost : 0.3523433804512024\n",
      "9001번째 cost : 0.35181790590286255\n",
      "9601번째 cost : 0.3513742685317993\n",
      "최종 cost : 0.35111743211746216\n"
     ]
    }
   ],
   "source": [
    "# dataset\n",
    "x_data = np.array([[0,0],\n",
    "                 [0,1],\n",
    "                 [1,0],\n",
    "                 [1,1]])\n",
    "y_data = np.array([[0], \n",
    "                   [1], \n",
    "                   [1], \n",
    "                   [0]])\n",
    "\n",
    "# X ,y\n",
    "X = tf.placeholder(shape=[None, 2], dtype=tf.float32)\n",
    "y = tf.placeholder(shape=[None, 1], dtype=tf.float32)\n",
    "\n",
    "# layer1의 weight & bias (layer1 = 입력2, 출력4)\n",
    "W1 = tf.Variable(tf.random.normal([2, 4]), name='weight1')\n",
    "b1 = tf.Variable(tf.random.normal([4]), name='bias1')\n",
    "# logits = tf.matmul(X, W1)+b1\n",
    "# H1 = tf.sigmoid(logits)\n",
    "layer1 = tf.nn.relu(tf.matmul(X, W1) + b1)  # H1 == layer1\n",
    "\n",
    "# layer2의 weight & bias (layer2 = 입력4, 출력1) : 마지막 출력층\n",
    "W2 = tf.Variable(tf.random.normal([4, 1]))\n",
    "b2 = tf.Variable(tf.random.normal([1]))\n",
    "# hypothesis\n",
    "logits = tf.matmul(layer1, W2) + b2\n",
    "H = tf.sigmoid(logits)\n",
    "\n",
    "# cost 함수\n",
    "# cost = tf.reduce_mean(tf.square(H - y))\n",
    "cost = tf.reduce_mean(tf.nn.sigmoid_cross_entropy_with_logits(logits=logits, labels=y))\n",
    "\n",
    "# train\n",
    "train = tf.train.GradientDescentOptimizer(learning_rate=0.01).minimize(cost)\n",
    "\n",
    "# sess & 초기화\n",
    "sess = tf.Session()\n",
    "sess.run(tf.global_variables_initializer())\n",
    "\n",
    "# 학습\n",
    "for step in range(1, 10001):\n",
    "    _, cost_val = sess.run([train, cost], feed_dict={X : x_data,\n",
    "                                                    y : y_data})\n",
    "    if step%600 == 1:\n",
    "        print('{}번째 cost : {}'.format(step, cost_val))\n",
    "print('최종 cost : {}'.format(cost_val))"
   ]
  },
  {
   "cell_type": "code",
   "execution_count": 168,
   "id": "b6e7a9ff",
   "metadata": {},
   "outputs": [
    {
     "data": {
      "text/plain": [
       "0.75"
      ]
     },
     "execution_count": 168,
     "metadata": {},
     "output_type": "execute_result"
    }
   ],
   "source": [
    "# accaccuracy \n",
    "predict = tf.cast(H>=0.5, dtype=tf.float32)\n",
    "# sess.run(predict, feed_dict={X:x_data})\n",
    "correct = tf.equal(predict, y)\n",
    "sess.run(correct, feed_dict={X:x_data, y:y_data})\n",
    "accuracy = tf.reduce_mean(tf.cast(correct, dtype=tf.float32))\n",
    "sess.run(accuracy, feed_dict={X:x_data,\n",
    "                             y:y_data})"
   ]
  },
  {
   "cell_type": "markdown",
   "id": "1d3f16f3",
   "metadata": {},
   "source": [
    "## layer 층을 x2 -> 10 -> 20 -> 10 -> y1\n",
    "                    입력층        hidden layer           출력층 "
   ]
  },
  {
   "cell_type": "code",
   "execution_count": 170,
   "id": "e8f88377",
   "metadata": {},
   "outputs": [
    {
     "name": "stdout",
     "output_type": "stream",
     "text": [
      "1번째 cost : 4.8697967529296875\n",
      "601번째 cost : 0.008765868842601776\n",
      "1201번째 cost : 0.0038934124168008566\n",
      "1801번째 cost : 0.0024554019328206778\n",
      "2401번째 cost : 0.0017855062615126371\n",
      "3001번째 cost : 0.0013901344500482082\n",
      "3601번째 cost : 0.0011301117483526468\n",
      "4201번째 cost : 0.0009471392259001732\n",
      "4801번째 cost : 0.0008127662586048245\n",
      "5401번째 cost : 0.0007097889902070165\n",
      "6001번째 cost : 0.0006283958209678531\n",
      "6601번째 cost : 0.0005624956102110445\n",
      "7201번째 cost : 0.0005083518335595727\n",
      "7801번째 cost : 0.00046304240822792053\n",
      "8401번째 cost : 0.00042468574247322977\n",
      "9001번째 cost : 0.00039170176023617387\n",
      "9601번째 cost : 0.0003632149309851229\n",
      "최종 cost : 0.00034627720015123487\n"
     ]
    }
   ],
   "source": [
    "# dataset\n",
    "x_data = np.array([[0,0],\n",
    "                 [0,1],\n",
    "                 [1,0],\n",
    "                 [1,1]])\n",
    "y_data = np.array([[0], \n",
    "                   [1], \n",
    "                   [1], \n",
    "                   [0]])\n",
    "\n",
    "# X ,y\n",
    "X = tf.placeholder(shape=[None, 2], dtype=tf.float32)\n",
    "y = tf.placeholder(shape=[None, 1], dtype=tf.float32)\n",
    "\n",
    "# layer1의 weight & bias (layer1 = 입력2, 출력10)\n",
    "W1 = tf.Variable(tf.random.normal([2, 10]), name='weight1')\n",
    "b1 = tf.Variable(tf.random.normal([10]), name='bias1')\n",
    "# logits = tf.matmul(X, W1)+b1\n",
    "# H1 = tf.sigmoid(logits)\n",
    "layer1 = tf.nn.relu(tf.matmul(X, W1) + b1)  # H1 == layer1\n",
    "\n",
    "# layer2의 weight & bias (layer2 = 입력10, 출력20) : 마지막 출력층\n",
    "W2 = tf.Variable(tf.random.normal([10, 20]))\n",
    "b2 = tf.Variable(tf.random.normal([20]))\n",
    "layer2 = tf.nn.relu(tf.matmul(layer1, W2) + b2)\n",
    "\n",
    "#layer3 weight & bias (layer3 = 입력 20, 출력 10)\n",
    "W3 = tf.Variable(tf.random.normal([20, 10]))\n",
    "b3 = tf.Variable(tf.random.normal([10]))\n",
    "layer3 = tf.nn.relu(tf.matmul(layer2, W3) + b3)\n",
    "\n",
    "#layer34 weight & bias (최종출력층 layer4 = 입력 10, 출력 1)\n",
    "W4 = tf.Variable(tf.random.normal([10, 1]))\n",
    "b4 = tf.Variable(tf.random.normal([1]))\n",
    "logits = tf.matmul(layer3, W4) + b4\n",
    "H = tf.sigmoid(logits)\n",
    "\n",
    "# cost 함수\n",
    "# cost = tf.reduce_mean(tf.square(H - y))\n",
    "cost = tf.reduce_mean(tf.nn.sigmoid_cross_entropy_with_logits(logits=logits, labels=y))\n",
    "\n",
    "# train\n",
    "train = tf.train.GradientDescentOptimizer(learning_rate=0.01).minimize(cost)\n",
    "\n",
    "# sess & 초기화\n",
    "sess = tf.Session()\n",
    "sess.run(tf.global_variables_initializer())\n",
    "\n",
    "# 학습\n",
    "for step in range(1, 10001):\n",
    "    _, cost_val = sess.run([train, cost], feed_dict={X : x_data,\n",
    "                                                    y : y_data})\n",
    "    if step%600 == 1:\n",
    "        print('{}번째 cost : {}'.format(step, cost_val))\n",
    "print('최종 cost : {}'.format(cost_val))"
   ]
  },
  {
   "cell_type": "code",
   "execution_count": 171,
   "id": "840593c7",
   "metadata": {},
   "outputs": [
    {
     "data": {
      "text/plain": [
       "1.0"
      ]
     },
     "execution_count": 171,
     "metadata": {},
     "output_type": "execute_result"
    }
   ],
   "source": [
    "# accaccuracy \n",
    "predict = tf.cast(H>=0.5, dtype=tf.float32)\n",
    "# sess.run(predict, feed_dict={X:x_data})\n",
    "correct = tf.equal(predict, y)\n",
    "sess.run(correct, feed_dict={X:x_data, y:y_data})\n",
    "accuracy = tf.reduce_mean(tf.cast(correct, dtype=tf.float32))\n",
    "sess.run(accuracy, feed_dict={X:x_data,\n",
    "                             y:y_data})"
   ]
  },
  {
   "cell_type": "code",
   "execution_count": null,
   "id": "196a8ea9",
   "metadata": {},
   "outputs": [],
   "source": []
  }
 ],
 "metadata": {
  "kernelspec": {
   "display_name": "Python 3 (ipykernel)",
   "language": "python",
   "name": "python3"
  },
  "language_info": {
   "codemirror_mode": {
    "name": "ipython",
    "version": 3
   },
   "file_extension": ".py",
   "mimetype": "text/x-python",
   "name": "python",
   "nbconvert_exporter": "python",
   "pygments_lexer": "ipython3",
   "version": "3.10.9"
  },
  "toc": {
   "base_numbering": 1,
   "nav_menu": {},
   "number_sections": true,
   "sideBar": true,
   "skip_h1_title": false,
   "title_cell": "Table of Contents",
   "title_sidebar": "Contents",
   "toc_cell": false,
   "toc_position": {
    "height": "calc(100% - 180px)",
    "left": "10px",
    "top": "150px",
    "width": "291.172px"
   },
   "toc_section_display": true,
   "toc_window_display": true
  }
 },
 "nbformat": 4,
 "nbformat_minor": 5
}
