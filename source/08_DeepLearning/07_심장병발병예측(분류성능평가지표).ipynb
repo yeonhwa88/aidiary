{
 "cells": [
  {
   "cell_type": "code",
   "execution_count": 1,
   "id": "88a59edc",
   "metadata": {
    "ExecuteTime": {
     "end_time": "2024-12-18T01:34:19.107181Z",
     "start_time": "2024-12-18T01:34:19.095185Z"
    }
   },
   "outputs": [
    {
     "data": {
      "text/html": [
       "\n",
       "<style>\n",
       "div.container{width:80% !important;}\n",
       "div.prompt {min-width:70px;}\n",
       "div#toc-header{margin-top:150px;}\n",
       "span.toc-item-num{display:none;}\n",
       "div.CodeMirror {font-family:Consolas}\n",
       "div.input {font-family:Consolas}\n",
       "</style>\n"
      ],
      "text/plain": [
       "<IPython.core.display.HTML object>"
      ]
     },
     "metadata": {},
     "output_type": "display_data"
    }
   ],
   "source": [
    "from IPython.display import display, HTML\n",
    "\n",
    "display(\n",
    "    HTML(\"\"\"\n",
    "<style>\n",
    "div.container{width:80% !important;}\n",
    "div.prompt {min-width:70px;}\n",
    "div#toc-header{margin-top:150px;}\n",
    "span.toc-item-num{display:none;}\n",
    "div.CodeMirror {font-family:Consolas}\n",
    "div.input {font-family:Consolas}\n",
    "</style>\n",
    "\"\"\"))"
   ]
  },
  {
   "cell_type": "code",
   "execution_count": 2,
   "id": "41b31b0b",
   "metadata": {
    "ExecuteTime": {
     "end_time": "2024-12-18T01:46:57.868503Z",
     "start_time": "2024-12-18T01:46:57.430204Z"
    }
   },
   "outputs": [],
   "source": [
    "import numpy as np\n",
    "import pandas as pd\n",
    "from sklearn.preprocessing import MinMaxScaler\n",
    "from sklearn.model_selection import train_test_split  # 훈련데이터셋과 테스트데이터셋을 분리\n",
    "from tensorflow.keras.models import Sequential        # 모델 생성\n",
    "from tensorflow.keras.layers import Dense, Dropout    # Dense : 모델 레이어 쌓기, Dropout : 과적합 줄이기\n",
    "from tensorflow.keras import metrics                  # 성능지표들\n",
    "import matplotlib.pyplot as plt"
   ]
  },
  {
   "cell_type": "markdown",
   "id": "22008573",
   "metadata": {},
   "source": [
    "- 심장병 발병 예측\n",
    "1. 데이터 셋 생성 & 전처리 <br>\n",
    "    엑셀데이터 -> '?'를 nan -> nan 처리 -> X, y로 분리 -> X 스케일조정 -> 훈련셋과 테스트셋으로 분리(api 이용)\n",
    "2. 모델 생성 & 구성(과적합 줄이기 단계 추가)\n",
    "3. 학습 과정 설정 (accuracy, precision, recall)\n",
    "4. 모델 학습시키기 (훈련셋의 일부를 검증셋으로 학습)\n",
    "5. 모델 평가 - 과정 살펴보기(그래프), evaluate, pd.crosstab / confusion_matrix(혼동행렬)\n",
    "6. 모델 사용하기"
   ]
  },
  {
   "cell_type": "code",
   "execution_count": 3,
   "id": "3fc34aa1",
   "metadata": {
    "ExecuteTime": {
     "end_time": "2024-12-18T01:52:14.949351Z",
     "start_time": "2024-12-18T01:52:14.945351Z"
    }
   },
   "outputs": [],
   "source": [
    "#age - 나이\n",
    "#sex - (1 = 남성; 0 = 여성)\n",
    "#cp - 가슴 통증 유형(0, 1, 2, 3, 4)\n",
    "#trestbps - 안정 혈압(병원 입원시 mm Hg)\n",
    "#chol - 혈청 콜레스테롤(mg/dl)\n",
    "#fbs - (공복 혈당 > 120 mg/dl)(1 = true; 0 = false)\n",
    "#restecg - 안정 심전도 결과(0, 1, 2)\n",
    "#thalach - 최대 심박동수\n",
    "#exang - 협심증 유발 운동(1 = yes; 0 = no)\n",
    "#oldpeak - 비교적 안정되기까지 운동으로 유발되는 ST depression\n",
    "#slope - 최대 운동 ST segment의 기울기\n",
    "#ca - 형광 투시된 주요 혈관의 수(0-3)\n",
    "#thal - (3 = 보통; 6 = 해결된 결함; 7 = 해결가능한 결함)\n",
    "#target - 심장병 진단(1 = true; 0 = false)"
   ]
  },
  {
   "cell_type": "markdown",
   "id": "2c22d631",
   "metadata": {},
   "source": [
    "# 1. 데이터 셋 생성 & 전처리\n",
    " - 엑셀데이터 -> '?'를 nan -> nan 처리 -> X, y로 분리 -> X 스케일조정 -> 훈련셋과 테스트셋으로 분리(api 이용)"
   ]
  },
  {
   "cell_type": "code",
   "execution_count": 4,
   "id": "4092b938",
   "metadata": {
    "ExecuteTime": {
     "end_time": "2024-12-18T02:07:28.948729Z",
     "start_time": "2024-12-18T02:07:28.809690Z"
    }
   },
   "outputs": [
    {
     "data": {
      "text/html": [
       "<div>\n",
       "<style scoped>\n",
       "    .dataframe tbody tr th:only-of-type {\n",
       "        vertical-align: middle;\n",
       "    }\n",
       "\n",
       "    .dataframe tbody tr th {\n",
       "        vertical-align: top;\n",
       "    }\n",
       "\n",
       "    .dataframe thead th {\n",
       "        text-align: right;\n",
       "    }\n",
       "</style>\n",
       "<table border=\"1\" class=\"dataframe\">\n",
       "  <thead>\n",
       "    <tr style=\"text-align: right;\">\n",
       "      <th></th>\n",
       "      <th>age</th>\n",
       "      <th>sex</th>\n",
       "      <th>cp</th>\n",
       "      <th>treshtbps</th>\n",
       "      <th>chol</th>\n",
       "      <th>fbs</th>\n",
       "      <th>restecg</th>\n",
       "      <th>thalach</th>\n",
       "      <th>exang</th>\n",
       "      <th>oldpeak</th>\n",
       "      <th>slope</th>\n",
       "      <th>ca</th>\n",
       "      <th>hsl</th>\n",
       "      <th>heartDisease</th>\n",
       "    </tr>\n",
       "  </thead>\n",
       "  <tbody>\n",
       "    <tr>\n",
       "      <th>0</th>\n",
       "      <td>63</td>\n",
       "      <td>1</td>\n",
       "      <td>1</td>\n",
       "      <td>145</td>\n",
       "      <td>233</td>\n",
       "      <td>1</td>\n",
       "      <td>2</td>\n",
       "      <td>150</td>\n",
       "      <td>0</td>\n",
       "      <td>2.3</td>\n",
       "      <td>3</td>\n",
       "      <td>0</td>\n",
       "      <td>6</td>\n",
       "      <td>0</td>\n",
       "    </tr>\n",
       "    <tr>\n",
       "      <th>1</th>\n",
       "      <td>67</td>\n",
       "      <td>1</td>\n",
       "      <td>4</td>\n",
       "      <td>160</td>\n",
       "      <td>286</td>\n",
       "      <td>0</td>\n",
       "      <td>0</td>\n",
       "      <td>108</td>\n",
       "      <td>1</td>\n",
       "      <td>1.5</td>\n",
       "      <td>2</td>\n",
       "      <td>3</td>\n",
       "      <td>3</td>\n",
       "      <td>1</td>\n",
       "    </tr>\n",
       "    <tr>\n",
       "      <th>2</th>\n",
       "      <td>67</td>\n",
       "      <td>1</td>\n",
       "      <td>4</td>\n",
       "      <td>120</td>\n",
       "      <td>?</td>\n",
       "      <td>0</td>\n",
       "      <td>2</td>\n",
       "      <td>129</td>\n",
       "      <td>1</td>\n",
       "      <td>2.6</td>\n",
       "      <td>2</td>\n",
       "      <td>2</td>\n",
       "      <td>7</td>\n",
       "      <td>1</td>\n",
       "    </tr>\n",
       "  </tbody>\n",
       "</table>\n",
       "</div>"
      ],
      "text/plain": [
       "   age  sex  cp  treshtbps chol  fbs  restecg  thalach  exang  oldpeak  slope  \\\n",
       "0   63    1   1        145  233    1        2      150      0      2.3      3   \n",
       "1   67    1   4        160  286    0        0      108      1      1.5      2   \n",
       "2   67    1   4        120    ?    0        2      129      1      2.6      2   \n",
       "\n",
       "  ca hsl  heartDisease  \n",
       "0  0   6             0  \n",
       "1  3   3             1  \n",
       "2  2   7             1  "
      ]
     },
     "execution_count": 4,
     "metadata": {},
     "output_type": "execute_result"
    }
   ],
   "source": [
    "raw_data = pd.read_excel('./data/heart-disease.xlsx')\n",
    "raw_data.head(3)"
   ]
  },
  {
   "cell_type": "code",
   "execution_count": 5,
   "id": "00af2f28",
   "metadata": {
    "ExecuteTime": {
     "end_time": "2024-12-18T02:07:32.586584Z",
     "start_time": "2024-12-18T02:07:32.567835Z"
    }
   },
   "outputs": [
    {
     "name": "stdout",
     "output_type": "stream",
     "text": [
      "<class 'pandas.core.frame.DataFrame'>\n",
      "RangeIndex: 303 entries, 0 to 302\n",
      "Data columns (total 14 columns):\n",
      " #   Column        Non-Null Count  Dtype  \n",
      "---  ------        --------------  -----  \n",
      " 0   age           303 non-null    int64  \n",
      " 1   sex           303 non-null    int64  \n",
      " 2   cp            303 non-null    int64  \n",
      " 3   treshtbps     303 non-null    int64  \n",
      " 4   chol          303 non-null    object \n",
      " 5   fbs           303 non-null    int64  \n",
      " 6   restecg       303 non-null    int64  \n",
      " 7   thalach       303 non-null    int64  \n",
      " 8   exang         303 non-null    int64  \n",
      " 9   oldpeak       303 non-null    float64\n",
      " 10  slope         303 non-null    int64  \n",
      " 11  ca            303 non-null    object \n",
      " 12  hsl           303 non-null    object \n",
      " 13  heartDisease  303 non-null    int64  \n",
      "dtypes: float64(1), int64(10), object(3)\n",
      "memory usage: 33.3+ KB\n"
     ]
    }
   ],
   "source": [
    "raw_data.info()"
   ]
  },
  {
   "cell_type": "code",
   "execution_count": 6,
   "id": "36334b98",
   "metadata": {
    "ExecuteTime": {
     "end_time": "2024-12-18T02:13:50.620792Z",
     "start_time": "2024-12-18T02:13:50.590438Z"
    }
   },
   "outputs": [
    {
     "data": {
      "text/html": [
       "<div>\n",
       "<style scoped>\n",
       "    .dataframe tbody tr th:only-of-type {\n",
       "        vertical-align: middle;\n",
       "    }\n",
       "\n",
       "    .dataframe tbody tr th {\n",
       "        vertical-align: top;\n",
       "    }\n",
       "\n",
       "    .dataframe thead th {\n",
       "        text-align: right;\n",
       "    }\n",
       "</style>\n",
       "<table border=\"1\" class=\"dataframe\">\n",
       "  <thead>\n",
       "    <tr style=\"text-align: right;\">\n",
       "      <th></th>\n",
       "      <th>age</th>\n",
       "      <th>sex</th>\n",
       "      <th>cp</th>\n",
       "      <th>treshtbps</th>\n",
       "      <th>chol</th>\n",
       "      <th>fbs</th>\n",
       "      <th>restecg</th>\n",
       "      <th>thalach</th>\n",
       "      <th>exang</th>\n",
       "      <th>oldpeak</th>\n",
       "      <th>slope</th>\n",
       "      <th>ca</th>\n",
       "      <th>hsl</th>\n",
       "      <th>heartDisease</th>\n",
       "    </tr>\n",
       "  </thead>\n",
       "  <tbody>\n",
       "    <tr>\n",
       "      <th>2</th>\n",
       "      <td>67</td>\n",
       "      <td>1</td>\n",
       "      <td>4</td>\n",
       "      <td>120</td>\n",
       "      <td>?</td>\n",
       "      <td>0</td>\n",
       "      <td>2</td>\n",
       "      <td>129</td>\n",
       "      <td>1</td>\n",
       "      <td>2.6</td>\n",
       "      <td>2</td>\n",
       "      <td>2</td>\n",
       "      <td>7</td>\n",
       "      <td>1</td>\n",
       "    </tr>\n",
       "    <tr>\n",
       "      <th>87</th>\n",
       "      <td>53</td>\n",
       "      <td>0</td>\n",
       "      <td>3</td>\n",
       "      <td>128</td>\n",
       "      <td>216</td>\n",
       "      <td>0</td>\n",
       "      <td>2</td>\n",
       "      <td>115</td>\n",
       "      <td>0</td>\n",
       "      <td>0.0</td>\n",
       "      <td>1</td>\n",
       "      <td>0</td>\n",
       "      <td>?</td>\n",
       "      <td>0</td>\n",
       "    </tr>\n",
       "    <tr>\n",
       "      <th>166</th>\n",
       "      <td>52</td>\n",
       "      <td>1</td>\n",
       "      <td>3</td>\n",
       "      <td>138</td>\n",
       "      <td>223</td>\n",
       "      <td>0</td>\n",
       "      <td>0</td>\n",
       "      <td>169</td>\n",
       "      <td>0</td>\n",
       "      <td>0.0</td>\n",
       "      <td>1</td>\n",
       "      <td>?</td>\n",
       "      <td>3</td>\n",
       "      <td>0</td>\n",
       "    </tr>\n",
       "    <tr>\n",
       "      <th>192</th>\n",
       "      <td>43</td>\n",
       "      <td>1</td>\n",
       "      <td>4</td>\n",
       "      <td>132</td>\n",
       "      <td>247</td>\n",
       "      <td>1</td>\n",
       "      <td>2</td>\n",
       "      <td>143</td>\n",
       "      <td>1</td>\n",
       "      <td>0.1</td>\n",
       "      <td>2</td>\n",
       "      <td>?</td>\n",
       "      <td>7</td>\n",
       "      <td>1</td>\n",
       "    </tr>\n",
       "    <tr>\n",
       "      <th>266</th>\n",
       "      <td>52</td>\n",
       "      <td>1</td>\n",
       "      <td>4</td>\n",
       "      <td>128</td>\n",
       "      <td>204</td>\n",
       "      <td>1</td>\n",
       "      <td>0</td>\n",
       "      <td>156</td>\n",
       "      <td>1</td>\n",
       "      <td>1.0</td>\n",
       "      <td>2</td>\n",
       "      <td>0</td>\n",
       "      <td>?</td>\n",
       "      <td>1</td>\n",
       "    </tr>\n",
       "    <tr>\n",
       "      <th>287</th>\n",
       "      <td>58</td>\n",
       "      <td>1</td>\n",
       "      <td>2</td>\n",
       "      <td>125</td>\n",
       "      <td>220</td>\n",
       "      <td>0</td>\n",
       "      <td>0</td>\n",
       "      <td>144</td>\n",
       "      <td>0</td>\n",
       "      <td>0.4</td>\n",
       "      <td>2</td>\n",
       "      <td>?</td>\n",
       "      <td>7</td>\n",
       "      <td>0</td>\n",
       "    </tr>\n",
       "    <tr>\n",
       "      <th>302</th>\n",
       "      <td>38</td>\n",
       "      <td>1</td>\n",
       "      <td>3</td>\n",
       "      <td>138</td>\n",
       "      <td>175</td>\n",
       "      <td>0</td>\n",
       "      <td>0</td>\n",
       "      <td>173</td>\n",
       "      <td>0</td>\n",
       "      <td>0.0</td>\n",
       "      <td>1</td>\n",
       "      <td>?</td>\n",
       "      <td>3</td>\n",
       "      <td>0</td>\n",
       "    </tr>\n",
       "  </tbody>\n",
       "</table>\n",
       "</div>"
      ],
      "text/plain": [
       "     age  sex  cp  treshtbps chol  fbs  restecg  thalach  exang  oldpeak  \\\n",
       "2     67    1   4        120    ?    0        2      129      1      2.6   \n",
       "87    53    0   3        128  216    0        2      115      0      0.0   \n",
       "166   52    1   3        138  223    0        0      169      0      0.0   \n",
       "192   43    1   4        132  247    1        2      143      1      0.1   \n",
       "266   52    1   4        128  204    1        0      156      1      1.0   \n",
       "287   58    1   2        125  220    0        0      144      0      0.4   \n",
       "302   38    1   3        138  175    0        0      173      0      0.0   \n",
       "\n",
       "     slope ca hsl  heartDisease  \n",
       "2        2  2   7             1  \n",
       "87       1  0   ?             0  \n",
       "166      1  ?   3             0  \n",
       "192      2  ?   7             1  \n",
       "266      2  0   ?             1  \n",
       "287      2  ?   7             0  \n",
       "302      1  ?   3             0  "
      ]
     },
     "execution_count": 6,
     "metadata": {},
     "output_type": "execute_result"
    }
   ],
   "source": [
    "# raw_data의 타입이 object인 열에 '?'가 있는 데이터만 추출\n",
    "raw_data[(raw_data['chol'] == '?') | (raw_data['ca'] == '?') | (raw_data['hsl'] == '?')]"
   ]
  },
  {
   "cell_type": "code",
   "execution_count": 7,
   "id": "422c3415",
   "metadata": {
    "ExecuteTime": {
     "end_time": "2024-12-18T02:16:54.675234Z",
     "start_time": "2024-12-18T02:16:54.660842Z"
    }
   },
   "outputs": [
    {
     "name": "stdout",
     "output_type": "stream",
     "text": [
      "<class 'pandas.core.frame.DataFrame'>\n",
      "RangeIndex: 303 entries, 0 to 302\n",
      "Data columns (total 14 columns):\n",
      " #   Column        Non-Null Count  Dtype  \n",
      "---  ------        --------------  -----  \n",
      " 0   age           303 non-null    int64  \n",
      " 1   sex           303 non-null    int64  \n",
      " 2   cp            303 non-null    int64  \n",
      " 3   treshtbps     303 non-null    int64  \n",
      " 4   chol          302 non-null    float64\n",
      " 5   fbs           303 non-null    int64  \n",
      " 6   restecg       303 non-null    int64  \n",
      " 7   thalach       303 non-null    int64  \n",
      " 8   exang         303 non-null    int64  \n",
      " 9   oldpeak       303 non-null    float64\n",
      " 10  slope         303 non-null    int64  \n",
      " 11  ca            299 non-null    float64\n",
      " 12  hsl           301 non-null    float64\n",
      " 13  heartDisease  303 non-null    int64  \n",
      "dtypes: float64(4), int64(10)\n",
      "memory usage: 33.3 KB\n"
     ]
    }
   ],
   "source": [
    "# '?'를 결측치(np.nan)로 대체\n",
    "clean_data = raw_data.replace('?', np.nan)\n",
    "clean_data.info()"
   ]
  },
  {
   "cell_type": "code",
   "execution_count": 8,
   "id": "550e9fd8",
   "metadata": {
    "ExecuteTime": {
     "end_time": "2024-12-18T02:40:14.674012Z",
     "start_time": "2024-12-18T02:40:14.639652Z"
    }
   },
   "outputs": [
    {
     "data": {
      "text/html": [
       "<div>\n",
       "<style scoped>\n",
       "    .dataframe tbody tr th:only-of-type {\n",
       "        vertical-align: middle;\n",
       "    }\n",
       "\n",
       "    .dataframe tbody tr th {\n",
       "        vertical-align: top;\n",
       "    }\n",
       "\n",
       "    .dataframe thead th {\n",
       "        text-align: right;\n",
       "    }\n",
       "</style>\n",
       "<table border=\"1\" class=\"dataframe\">\n",
       "  <thead>\n",
       "    <tr style=\"text-align: right;\">\n",
       "      <th></th>\n",
       "      <th>age</th>\n",
       "      <th>sex</th>\n",
       "      <th>cp</th>\n",
       "      <th>treshtbps</th>\n",
       "      <th>chol</th>\n",
       "      <th>fbs</th>\n",
       "      <th>restecg</th>\n",
       "      <th>thalach</th>\n",
       "      <th>exang</th>\n",
       "      <th>oldpeak</th>\n",
       "      <th>slope</th>\n",
       "      <th>ca</th>\n",
       "      <th>hsl</th>\n",
       "      <th>heartDisease</th>\n",
       "    </tr>\n",
       "  </thead>\n",
       "  <tbody>\n",
       "    <tr>\n",
       "      <th>2</th>\n",
       "      <td>67</td>\n",
       "      <td>1</td>\n",
       "      <td>4</td>\n",
       "      <td>120</td>\n",
       "      <td>NaN</td>\n",
       "      <td>0</td>\n",
       "      <td>2</td>\n",
       "      <td>129</td>\n",
       "      <td>1</td>\n",
       "      <td>2.6</td>\n",
       "      <td>2</td>\n",
       "      <td>2.0</td>\n",
       "      <td>7.0</td>\n",
       "      <td>1</td>\n",
       "    </tr>\n",
       "    <tr>\n",
       "      <th>87</th>\n",
       "      <td>53</td>\n",
       "      <td>0</td>\n",
       "      <td>3</td>\n",
       "      <td>128</td>\n",
       "      <td>216.0</td>\n",
       "      <td>0</td>\n",
       "      <td>2</td>\n",
       "      <td>115</td>\n",
       "      <td>0</td>\n",
       "      <td>0.0</td>\n",
       "      <td>1</td>\n",
       "      <td>0.0</td>\n",
       "      <td>NaN</td>\n",
       "      <td>0</td>\n",
       "    </tr>\n",
       "    <tr>\n",
       "      <th>166</th>\n",
       "      <td>52</td>\n",
       "      <td>1</td>\n",
       "      <td>3</td>\n",
       "      <td>138</td>\n",
       "      <td>223.0</td>\n",
       "      <td>0</td>\n",
       "      <td>0</td>\n",
       "      <td>169</td>\n",
       "      <td>0</td>\n",
       "      <td>0.0</td>\n",
       "      <td>1</td>\n",
       "      <td>NaN</td>\n",
       "      <td>3.0</td>\n",
       "      <td>0</td>\n",
       "    </tr>\n",
       "    <tr>\n",
       "      <th>192</th>\n",
       "      <td>43</td>\n",
       "      <td>1</td>\n",
       "      <td>4</td>\n",
       "      <td>132</td>\n",
       "      <td>247.0</td>\n",
       "      <td>1</td>\n",
       "      <td>2</td>\n",
       "      <td>143</td>\n",
       "      <td>1</td>\n",
       "      <td>0.1</td>\n",
       "      <td>2</td>\n",
       "      <td>NaN</td>\n",
       "      <td>7.0</td>\n",
       "      <td>1</td>\n",
       "    </tr>\n",
       "    <tr>\n",
       "      <th>266</th>\n",
       "      <td>52</td>\n",
       "      <td>1</td>\n",
       "      <td>4</td>\n",
       "      <td>128</td>\n",
       "      <td>204.0</td>\n",
       "      <td>1</td>\n",
       "      <td>0</td>\n",
       "      <td>156</td>\n",
       "      <td>1</td>\n",
       "      <td>1.0</td>\n",
       "      <td>2</td>\n",
       "      <td>0.0</td>\n",
       "      <td>NaN</td>\n",
       "      <td>1</td>\n",
       "    </tr>\n",
       "    <tr>\n",
       "      <th>287</th>\n",
       "      <td>58</td>\n",
       "      <td>1</td>\n",
       "      <td>2</td>\n",
       "      <td>125</td>\n",
       "      <td>220.0</td>\n",
       "      <td>0</td>\n",
       "      <td>0</td>\n",
       "      <td>144</td>\n",
       "      <td>0</td>\n",
       "      <td>0.4</td>\n",
       "      <td>2</td>\n",
       "      <td>NaN</td>\n",
       "      <td>7.0</td>\n",
       "      <td>0</td>\n",
       "    </tr>\n",
       "    <tr>\n",
       "      <th>302</th>\n",
       "      <td>38</td>\n",
       "      <td>1</td>\n",
       "      <td>3</td>\n",
       "      <td>138</td>\n",
       "      <td>175.0</td>\n",
       "      <td>0</td>\n",
       "      <td>0</td>\n",
       "      <td>173</td>\n",
       "      <td>0</td>\n",
       "      <td>0.0</td>\n",
       "      <td>1</td>\n",
       "      <td>NaN</td>\n",
       "      <td>3.0</td>\n",
       "      <td>0</td>\n",
       "    </tr>\n",
       "  </tbody>\n",
       "</table>\n",
       "</div>"
      ],
      "text/plain": [
       "     age  sex  cp  treshtbps   chol  fbs  restecg  thalach  exang  oldpeak  \\\n",
       "2     67    1   4        120    NaN    0        2      129      1      2.6   \n",
       "87    53    0   3        128  216.0    0        2      115      0      0.0   \n",
       "166   52    1   3        138  223.0    0        0      169      0      0.0   \n",
       "192   43    1   4        132  247.0    1        2      143      1      0.1   \n",
       "266   52    1   4        128  204.0    1        0      156      1      1.0   \n",
       "287   58    1   2        125  220.0    0        0      144      0      0.4   \n",
       "302   38    1   3        138  175.0    0        0      173      0      0.0   \n",
       "\n",
       "     slope   ca  hsl  heartDisease  \n",
       "2        2  2.0  7.0             1  \n",
       "87       1  0.0  NaN             0  \n",
       "166      1  NaN  3.0             0  \n",
       "192      2  NaN  7.0             1  \n",
       "266      2  0.0  NaN             1  \n",
       "287      2  NaN  7.0             0  \n",
       "302      1  NaN  3.0             0  "
      ]
     },
     "execution_count": 8,
     "metadata": {},
     "output_type": "execute_result"
    }
   ],
   "source": [
    "# clean_data에 결측치가 포함된 데이터만 추출\n",
    "clean_data[clean_data.isna().any(axis=1)]"
   ]
  },
  {
   "cell_type": "code",
   "execution_count": 9,
   "id": "ede6e94c",
   "metadata": {
    "ExecuteTime": {
     "end_time": "2024-12-18T02:43:16.786056Z",
     "start_time": "2024-12-18T02:43:16.717749Z"
    }
   },
   "outputs": [
    {
     "data": {
      "text/html": [
       "<div>\n",
       "<style scoped>\n",
       "    .dataframe tbody tr th:only-of-type {\n",
       "        vertical-align: middle;\n",
       "    }\n",
       "\n",
       "    .dataframe tbody tr th {\n",
       "        vertical-align: top;\n",
       "    }\n",
       "\n",
       "    .dataframe thead th {\n",
       "        text-align: right;\n",
       "    }\n",
       "</style>\n",
       "<table border=\"1\" class=\"dataframe\">\n",
       "  <thead>\n",
       "    <tr style=\"text-align: right;\">\n",
       "      <th></th>\n",
       "      <th>age</th>\n",
       "      <th>sex</th>\n",
       "      <th>cp</th>\n",
       "      <th>treshtbps</th>\n",
       "      <th>chol</th>\n",
       "      <th>fbs</th>\n",
       "      <th>restecg</th>\n",
       "      <th>thalach</th>\n",
       "      <th>exang</th>\n",
       "      <th>oldpeak</th>\n",
       "      <th>slope</th>\n",
       "      <th>ca</th>\n",
       "      <th>hsl</th>\n",
       "      <th>heartDisease</th>\n",
       "    </tr>\n",
       "  </thead>\n",
       "  <tbody>\n",
       "    <tr>\n",
       "      <th>0</th>\n",
       "      <td>63</td>\n",
       "      <td>1</td>\n",
       "      <td>1</td>\n",
       "      <td>145</td>\n",
       "      <td>233.0</td>\n",
       "      <td>1</td>\n",
       "      <td>2</td>\n",
       "      <td>150</td>\n",
       "      <td>0</td>\n",
       "      <td>2.3</td>\n",
       "      <td>3</td>\n",
       "      <td>0.0</td>\n",
       "      <td>6.0</td>\n",
       "      <td>0</td>\n",
       "    </tr>\n",
       "    <tr>\n",
       "      <th>1</th>\n",
       "      <td>67</td>\n",
       "      <td>1</td>\n",
       "      <td>4</td>\n",
       "      <td>160</td>\n",
       "      <td>286.0</td>\n",
       "      <td>0</td>\n",
       "      <td>0</td>\n",
       "      <td>108</td>\n",
       "      <td>1</td>\n",
       "      <td>1.5</td>\n",
       "      <td>2</td>\n",
       "      <td>3.0</td>\n",
       "      <td>3.0</td>\n",
       "      <td>1</td>\n",
       "    </tr>\n",
       "    <tr>\n",
       "      <th>2</th>\n",
       "      <td>67</td>\n",
       "      <td>1</td>\n",
       "      <td>4</td>\n",
       "      <td>120</td>\n",
       "      <td>241.5</td>\n",
       "      <td>0</td>\n",
       "      <td>2</td>\n",
       "      <td>129</td>\n",
       "      <td>1</td>\n",
       "      <td>2.6</td>\n",
       "      <td>2</td>\n",
       "      <td>2.0</td>\n",
       "      <td>7.0</td>\n",
       "      <td>1</td>\n",
       "    </tr>\n",
       "    <tr>\n",
       "      <th>3</th>\n",
       "      <td>37</td>\n",
       "      <td>1</td>\n",
       "      <td>3</td>\n",
       "      <td>130</td>\n",
       "      <td>250.0</td>\n",
       "      <td>0</td>\n",
       "      <td>0</td>\n",
       "      <td>187</td>\n",
       "      <td>0</td>\n",
       "      <td>3.5</td>\n",
       "      <td>3</td>\n",
       "      <td>0.0</td>\n",
       "      <td>3.0</td>\n",
       "      <td>0</td>\n",
       "    </tr>\n",
       "    <tr>\n",
       "      <th>4</th>\n",
       "      <td>41</td>\n",
       "      <td>0</td>\n",
       "      <td>2</td>\n",
       "      <td>130</td>\n",
       "      <td>204.0</td>\n",
       "      <td>0</td>\n",
       "      <td>2</td>\n",
       "      <td>172</td>\n",
       "      <td>0</td>\n",
       "      <td>1.4</td>\n",
       "      <td>1</td>\n",
       "      <td>0.0</td>\n",
       "      <td>3.0</td>\n",
       "      <td>0</td>\n",
       "    </tr>\n",
       "    <tr>\n",
       "      <th>...</th>\n",
       "      <td>...</td>\n",
       "      <td>...</td>\n",
       "      <td>...</td>\n",
       "      <td>...</td>\n",
       "      <td>...</td>\n",
       "      <td>...</td>\n",
       "      <td>...</td>\n",
       "      <td>...</td>\n",
       "      <td>...</td>\n",
       "      <td>...</td>\n",
       "      <td>...</td>\n",
       "      <td>...</td>\n",
       "      <td>...</td>\n",
       "      <td>...</td>\n",
       "    </tr>\n",
       "    <tr>\n",
       "      <th>298</th>\n",
       "      <td>45</td>\n",
       "      <td>1</td>\n",
       "      <td>1</td>\n",
       "      <td>110</td>\n",
       "      <td>264.0</td>\n",
       "      <td>0</td>\n",
       "      <td>0</td>\n",
       "      <td>132</td>\n",
       "      <td>0</td>\n",
       "      <td>1.2</td>\n",
       "      <td>2</td>\n",
       "      <td>0.0</td>\n",
       "      <td>7.0</td>\n",
       "      <td>1</td>\n",
       "    </tr>\n",
       "    <tr>\n",
       "      <th>299</th>\n",
       "      <td>68</td>\n",
       "      <td>1</td>\n",
       "      <td>4</td>\n",
       "      <td>144</td>\n",
       "      <td>193.0</td>\n",
       "      <td>1</td>\n",
       "      <td>0</td>\n",
       "      <td>141</td>\n",
       "      <td>0</td>\n",
       "      <td>3.4</td>\n",
       "      <td>2</td>\n",
       "      <td>2.0</td>\n",
       "      <td>7.0</td>\n",
       "      <td>1</td>\n",
       "    </tr>\n",
       "    <tr>\n",
       "      <th>300</th>\n",
       "      <td>57</td>\n",
       "      <td>1</td>\n",
       "      <td>4</td>\n",
       "      <td>130</td>\n",
       "      <td>131.0</td>\n",
       "      <td>0</td>\n",
       "      <td>0</td>\n",
       "      <td>115</td>\n",
       "      <td>1</td>\n",
       "      <td>1.2</td>\n",
       "      <td>2</td>\n",
       "      <td>1.0</td>\n",
       "      <td>7.0</td>\n",
       "      <td>1</td>\n",
       "    </tr>\n",
       "    <tr>\n",
       "      <th>301</th>\n",
       "      <td>57</td>\n",
       "      <td>0</td>\n",
       "      <td>2</td>\n",
       "      <td>130</td>\n",
       "      <td>236.0</td>\n",
       "      <td>0</td>\n",
       "      <td>2</td>\n",
       "      <td>174</td>\n",
       "      <td>0</td>\n",
       "      <td>0.0</td>\n",
       "      <td>2</td>\n",
       "      <td>1.0</td>\n",
       "      <td>3.0</td>\n",
       "      <td>1</td>\n",
       "    </tr>\n",
       "    <tr>\n",
       "      <th>302</th>\n",
       "      <td>38</td>\n",
       "      <td>1</td>\n",
       "      <td>3</td>\n",
       "      <td>138</td>\n",
       "      <td>175.0</td>\n",
       "      <td>0</td>\n",
       "      <td>0</td>\n",
       "      <td>173</td>\n",
       "      <td>0</td>\n",
       "      <td>0.0</td>\n",
       "      <td>1</td>\n",
       "      <td>0.0</td>\n",
       "      <td>3.0</td>\n",
       "      <td>0</td>\n",
       "    </tr>\n",
       "  </tbody>\n",
       "</table>\n",
       "<p>303 rows × 14 columns</p>\n",
       "</div>"
      ],
      "text/plain": [
       "     age  sex  cp  treshtbps   chol  fbs  restecg  thalach  exang  oldpeak  \\\n",
       "0     63    1   1        145  233.0    1        2      150      0      2.3   \n",
       "1     67    1   4        160  286.0    0        0      108      1      1.5   \n",
       "2     67    1   4        120  241.5    0        2      129      1      2.6   \n",
       "3     37    1   3        130  250.0    0        0      187      0      3.5   \n",
       "4     41    0   2        130  204.0    0        2      172      0      1.4   \n",
       "..   ...  ...  ..        ...    ...  ...      ...      ...    ...      ...   \n",
       "298   45    1   1        110  264.0    0        0      132      0      1.2   \n",
       "299   68    1   4        144  193.0    1        0      141      0      3.4   \n",
       "300   57    1   4        130  131.0    0        0      115      1      1.2   \n",
       "301   57    0   2        130  236.0    0        2      174      0      0.0   \n",
       "302   38    1   3        138  175.0    0        0      173      0      0.0   \n",
       "\n",
       "     slope   ca  hsl  heartDisease  \n",
       "0        3  0.0  6.0             0  \n",
       "1        2  3.0  3.0             1  \n",
       "2        2  2.0  7.0             1  \n",
       "3        3  0.0  3.0             0  \n",
       "4        1  0.0  3.0             0  \n",
       "..     ...  ...  ...           ...  \n",
       "298      2  0.0  7.0             1  \n",
       "299      2  2.0  7.0             1  \n",
       "300      2  1.0  7.0             1  \n",
       "301      2  1.0  3.0             1  \n",
       "302      1  0.0  3.0             0  \n",
       "\n",
       "[303 rows x 14 columns]"
      ]
     },
     "execution_count": 9,
     "metadata": {},
     "output_type": "execute_result"
    }
   ],
   "source": [
    "# 결측치를 중위수로 대체\n",
    "# 열별 중앙값 : clean_data.median()  # axis=0 생략\n",
    "clean_data.fillna(value=clean_data.median())"
   ]
  },
  {
   "cell_type": "code",
   "execution_count": 10,
   "id": "13db02e7",
   "metadata": {
    "ExecuteTime": {
     "end_time": "2024-12-18T02:47:13.318313Z",
     "start_time": "2024-12-18T02:47:13.308714Z"
    }
   },
   "outputs": [
    {
     "data": {
      "text/plain": [
       "age             0\n",
       "sex             0\n",
       "cp              0\n",
       "treshtbps       0\n",
       "chol            0\n",
       "fbs             0\n",
       "restecg         0\n",
       "thalach         0\n",
       "exang           0\n",
       "oldpeak         0\n",
       "slope           0\n",
       "ca              0\n",
       "hsl             0\n",
       "heartDisease    0\n",
       "dtype: int64"
      ]
     },
     "execution_count": 10,
     "metadata": {},
     "output_type": "execute_result"
    }
   ],
   "source": [
    "# 결측치가 하나라도 있는 행 제거\n",
    "clean_data.dropna(how='any', inplace=True)\n",
    "clean_data.isnull().sum()"
   ]
  },
  {
   "cell_type": "code",
   "execution_count": 11,
   "id": "f8eab83a",
   "metadata": {
    "ExecuteTime": {
     "end_time": "2024-12-18T02:47:33.321514Z",
     "start_time": "2024-12-18T02:47:33.290906Z"
    }
   },
   "outputs": [
    {
     "data": {
      "text/html": [
       "<div>\n",
       "<style scoped>\n",
       "    .dataframe tbody tr th:only-of-type {\n",
       "        vertical-align: middle;\n",
       "    }\n",
       "\n",
       "    .dataframe tbody tr th {\n",
       "        vertical-align: top;\n",
       "    }\n",
       "\n",
       "    .dataframe thead th {\n",
       "        text-align: right;\n",
       "    }\n",
       "</style>\n",
       "<table border=\"1\" class=\"dataframe\">\n",
       "  <thead>\n",
       "    <tr style=\"text-align: right;\">\n",
       "      <th></th>\n",
       "      <th>age</th>\n",
       "      <th>sex</th>\n",
       "      <th>cp</th>\n",
       "      <th>treshtbps</th>\n",
       "      <th>chol</th>\n",
       "      <th>fbs</th>\n",
       "      <th>restecg</th>\n",
       "      <th>thalach</th>\n",
       "      <th>exang</th>\n",
       "      <th>oldpeak</th>\n",
       "      <th>slope</th>\n",
       "      <th>ca</th>\n",
       "      <th>hsl</th>\n",
       "      <th>heartDisease</th>\n",
       "    </tr>\n",
       "  </thead>\n",
       "  <tbody>\n",
       "    <tr>\n",
       "      <th>0</th>\n",
       "      <td>63</td>\n",
       "      <td>1</td>\n",
       "      <td>1</td>\n",
       "      <td>145</td>\n",
       "      <td>233.0</td>\n",
       "      <td>1</td>\n",
       "      <td>2</td>\n",
       "      <td>150</td>\n",
       "      <td>0</td>\n",
       "      <td>2.3</td>\n",
       "      <td>3</td>\n",
       "      <td>0.0</td>\n",
       "      <td>6.0</td>\n",
       "      <td>0</td>\n",
       "    </tr>\n",
       "    <tr>\n",
       "      <th>1</th>\n",
       "      <td>67</td>\n",
       "      <td>1</td>\n",
       "      <td>4</td>\n",
       "      <td>160</td>\n",
       "      <td>286.0</td>\n",
       "      <td>0</td>\n",
       "      <td>0</td>\n",
       "      <td>108</td>\n",
       "      <td>1</td>\n",
       "      <td>1.5</td>\n",
       "      <td>2</td>\n",
       "      <td>3.0</td>\n",
       "      <td>3.0</td>\n",
       "      <td>1</td>\n",
       "    </tr>\n",
       "    <tr>\n",
       "      <th>3</th>\n",
       "      <td>37</td>\n",
       "      <td>1</td>\n",
       "      <td>3</td>\n",
       "      <td>130</td>\n",
       "      <td>250.0</td>\n",
       "      <td>0</td>\n",
       "      <td>0</td>\n",
       "      <td>187</td>\n",
       "      <td>0</td>\n",
       "      <td>3.5</td>\n",
       "      <td>3</td>\n",
       "      <td>0.0</td>\n",
       "      <td>3.0</td>\n",
       "      <td>0</td>\n",
       "    </tr>\n",
       "    <tr>\n",
       "      <th>4</th>\n",
       "      <td>41</td>\n",
       "      <td>0</td>\n",
       "      <td>2</td>\n",
       "      <td>130</td>\n",
       "      <td>204.0</td>\n",
       "      <td>0</td>\n",
       "      <td>2</td>\n",
       "      <td>172</td>\n",
       "      <td>0</td>\n",
       "      <td>1.4</td>\n",
       "      <td>1</td>\n",
       "      <td>0.0</td>\n",
       "      <td>3.0</td>\n",
       "      <td>0</td>\n",
       "    </tr>\n",
       "    <tr>\n",
       "      <th>5</th>\n",
       "      <td>56</td>\n",
       "      <td>1</td>\n",
       "      <td>2</td>\n",
       "      <td>120</td>\n",
       "      <td>236.0</td>\n",
       "      <td>0</td>\n",
       "      <td>0</td>\n",
       "      <td>178</td>\n",
       "      <td>0</td>\n",
       "      <td>0.8</td>\n",
       "      <td>1</td>\n",
       "      <td>0.0</td>\n",
       "      <td>3.0</td>\n",
       "      <td>0</td>\n",
       "    </tr>\n",
       "  </tbody>\n",
       "</table>\n",
       "</div>"
      ],
      "text/plain": [
       "   age  sex  cp  treshtbps   chol  fbs  restecg  thalach  exang  oldpeak  \\\n",
       "0   63    1   1        145  233.0    1        2      150      0      2.3   \n",
       "1   67    1   4        160  286.0    0        0      108      1      1.5   \n",
       "3   37    1   3        130  250.0    0        0      187      0      3.5   \n",
       "4   41    0   2        130  204.0    0        2      172      0      1.4   \n",
       "5   56    1   2        120  236.0    0        0      178      0      0.8   \n",
       "\n",
       "   slope   ca  hsl  heartDisease  \n",
       "0      3  0.0  6.0             0  \n",
       "1      2  3.0  3.0             1  \n",
       "3      3  0.0  3.0             0  \n",
       "4      1  0.0  3.0             0  \n",
       "5      1  0.0  3.0             0  "
      ]
     },
     "execution_count": 11,
     "metadata": {},
     "output_type": "execute_result"
    }
   ],
   "source": [
    "clean_data.head()"
   ]
  },
  {
   "cell_type": "code",
   "execution_count": 12,
   "id": "a3599502",
   "metadata": {
    "ExecuteTime": {
     "end_time": "2024-12-18T02:59:35.853987Z",
     "start_time": "2024-12-18T02:59:35.845989Z"
    }
   },
   "outputs": [
    {
     "data": {
      "text/plain": [
       "((296, 13), (296, 1))"
      ]
     },
     "execution_count": 12,
     "metadata": {},
     "output_type": "execute_result"
    }
   ],
   "source": [
    "# 독립변수(입력변수, X), 종속변수(타겟변수, y) 분리\n",
    "Input  = clean_data.iloc[:, :-1]  # 데이터프레임\n",
    "Target = clean_data.iloc[:, -1:]  # 시리즈이므로 2차원으로 바꾸기\n",
    "Target = clean_data.iloc[:, [-1]]\n",
    "Input.shape, Target.shape"
   ]
  },
  {
   "cell_type": "code",
   "execution_count": 13,
   "id": "f98f33c9",
   "metadata": {
    "ExecuteTime": {
     "end_time": "2024-12-18T03:01:05.669351Z",
     "start_time": "2024-12-18T03:01:05.653730Z"
    }
   },
   "outputs": [
    {
     "data": {
      "text/plain": [
       "136"
      ]
     },
     "execution_count": 13,
     "metadata": {},
     "output_type": "execute_result"
    }
   ],
   "source": [
    "# 전체 296개 데이터 중 심장병이 걸린 데이터 수(1)\n",
    "Target['heartDisease'].sum()"
   ]
  },
  {
   "cell_type": "code",
   "execution_count": 14,
   "id": "dbc214f9",
   "metadata": {
    "ExecuteTime": {
     "end_time": "2024-12-18T03:01:07.283059Z",
     "start_time": "2024-12-18T03:01:07.276061Z"
    }
   },
   "outputs": [
    {
     "data": {
      "text/plain": [
       "0.4594594594594595"
      ]
     },
     "execution_count": 14,
     "metadata": {},
     "output_type": "execute_result"
    }
   ],
   "source": [
    "# 심장병이 걸린 데이터 확률(accuracy)\n",
    "Target['heartDisease'].mean()"
   ]
  },
  {
   "cell_type": "code",
   "execution_count": 15,
   "id": "322a70be",
   "metadata": {
    "ExecuteTime": {
     "end_time": "2024-12-18T03:01:49.117558Z",
     "start_time": "2024-12-18T03:01:49.107323Z"
    }
   },
   "outputs": [
    {
     "data": {
      "text/plain": [
       "0    160\n",
       "1    136\n",
       "Name: heartDisease, dtype: int64"
      ]
     },
     "execution_count": 15,
     "metadata": {},
     "output_type": "execute_result"
    }
   ],
   "source": [
    "# unique 별 데이터 갯수\n",
    "Target['heartDisease'].value_counts()"
   ]
  },
  {
   "cell_type": "code",
   "execution_count": 16,
   "id": "efa76a3f",
   "metadata": {
    "ExecuteTime": {
     "end_time": "2024-12-18T03:06:56.100621Z",
     "start_time": "2024-12-18T03:06:56.065658Z"
    }
   },
   "outputs": [
    {
     "name": "stdout",
     "output_type": "stream",
     "text": [
      "(296, 13) (296, 13)\n"
     ]
    },
    {
     "data": {
      "text/html": [
       "<div>\n",
       "<style scoped>\n",
       "    .dataframe tbody tr th:only-of-type {\n",
       "        vertical-align: middle;\n",
       "    }\n",
       "\n",
       "    .dataframe tbody tr th {\n",
       "        vertical-align: top;\n",
       "    }\n",
       "\n",
       "    .dataframe thead th {\n",
       "        text-align: right;\n",
       "    }\n",
       "</style>\n",
       "<table border=\"1\" class=\"dataframe\">\n",
       "  <thead>\n",
       "    <tr style=\"text-align: right;\">\n",
       "      <th></th>\n",
       "      <th>0</th>\n",
       "      <th>1</th>\n",
       "      <th>2</th>\n",
       "      <th>3</th>\n",
       "      <th>4</th>\n",
       "      <th>5</th>\n",
       "      <th>6</th>\n",
       "      <th>7</th>\n",
       "      <th>8</th>\n",
       "      <th>9</th>\n",
       "      <th>10</th>\n",
       "      <th>11</th>\n",
       "      <th>12</th>\n",
       "    </tr>\n",
       "  </thead>\n",
       "  <tbody>\n",
       "    <tr>\n",
       "      <th>0</th>\n",
       "      <td>0.708333</td>\n",
       "      <td>1.0</td>\n",
       "      <td>0.0</td>\n",
       "      <td>0.481132</td>\n",
       "      <td>0.244292</td>\n",
       "      <td>1.0</td>\n",
       "      <td>1.0</td>\n",
       "      <td>0.603053</td>\n",
       "      <td>0.0</td>\n",
       "      <td>0.370968</td>\n",
       "      <td>1.0</td>\n",
       "      <td>0.0</td>\n",
       "      <td>0.75</td>\n",
       "    </tr>\n",
       "    <tr>\n",
       "      <th>1</th>\n",
       "      <td>0.791667</td>\n",
       "      <td>1.0</td>\n",
       "      <td>1.0</td>\n",
       "      <td>0.622642</td>\n",
       "      <td>0.365297</td>\n",
       "      <td>0.0</td>\n",
       "      <td>0.0</td>\n",
       "      <td>0.282443</td>\n",
       "      <td>1.0</td>\n",
       "      <td>0.241935</td>\n",
       "      <td>0.5</td>\n",
       "      <td>1.0</td>\n",
       "      <td>0.00</td>\n",
       "    </tr>\n",
       "  </tbody>\n",
       "</table>\n",
       "</div>"
      ],
      "text/plain": [
       "         0    1    2         3         4    5    6         7    8         9   \\\n",
       "0  0.708333  1.0  0.0  0.481132  0.244292  1.0  1.0  0.603053  0.0  0.370968   \n",
       "1  0.791667  1.0  1.0  0.622642  0.365297  0.0  0.0  0.282443  1.0  0.241935   \n",
       "\n",
       "    10   11    12  \n",
       "0  1.0  0.0  0.75  \n",
       "1  0.5  1.0  0.00  "
      ]
     },
     "execution_count": 16,
     "metadata": {},
     "output_type": "execute_result"
    }
   ],
   "source": [
    "# scale 조정(Input 데이터만)\n",
    "scaler = MinMaxScaler()\n",
    "scaled_input = pd.DataFrame(scaler.fit_transform(Input))\n",
    "print(Input.shape, scaled_input.shape)\n",
    "scaled_input.head(2)"
   ]
  },
  {
   "cell_type": "code",
   "execution_count": 17,
   "id": "21652008",
   "metadata": {
    "ExecuteTime": {
     "end_time": "2024-12-18T03:19:45.651634Z",
     "start_time": "2024-12-18T03:19:45.642805Z"
    }
   },
   "outputs": [
    {
     "data": {
      "text/plain": [
       "((207, 13), (207, 1), (89, 13), (89, 1))"
      ]
     },
     "execution_count": 17,
     "metadata": {},
     "output_type": "execute_result"
    }
   ],
   "source": [
    "# scaled_input(독립변수)와 Target(종속변수) => 학습셋(훈련셋, train set) : 시험셋(test set) = 7 : 3\n",
    "X_train, X_test, y_train, y_test = train_test_split(scaled_input,    # 입력변수(독립변수)\n",
    "                                                    Target,          # 타겟변수(종속변수)\n",
    "                                                    test_size=0.3,   # 시험셋 사이즈가 지정되면 학습셋은 자동 지정\n",
    "                                                    random_state=42  # random seed 값\n",
    "                                                    )\n",
    "X_train.shape, y_train.shape, X_test.shape, y_test.shape"
   ]
  },
  {
   "cell_type": "markdown",
   "id": "f468371f",
   "metadata": {},
   "source": [
    "# 2. 모델 생성 & 구성(과적합 줄이기 단계 추가)"
   ]
  },
  {
   "cell_type": "code",
   "execution_count": 18,
   "id": "52680414",
   "metadata": {
    "ExecuteTime": {
     "end_time": "2024-12-18T03:59:31.328643Z",
     "start_time": "2024-12-18T03:59:31.069020Z"
    }
   },
   "outputs": [
    {
     "name": "stdout",
     "output_type": "stream",
     "text": [
      "Model: \"sequential\"\n",
      "_________________________________________________________________\n",
      " Layer (type)                Output Shape              Param #   \n",
      "=================================================================\n",
      " dense (Dense)               (None, 500)               7000      \n",
      "                                                                 \n",
      " dropout (Dropout)           (None, 500)               0         \n",
      "                                                                 \n",
      " dense_1 (Dense)             (None, 200)               100200    \n",
      "                                                                 \n",
      " dropout_1 (Dropout)         (None, 200)               0         \n",
      "                                                                 \n",
      " dense_2 (Dense)             (None, 100)               20100     \n",
      "                                                                 \n",
      " dropout_2 (Dropout)         (None, 100)               0         \n",
      "                                                                 \n",
      " dense_3 (Dense)             (None, 1)                 101       \n",
      "                                                                 \n",
      "=================================================================\n",
      "Total params: 127,401\n",
      "Trainable params: 127,401\n",
      "Non-trainable params: 0\n",
      "_________________________________________________________________\n"
     ]
    }
   ],
   "source": [
    "model = Sequential()\n",
    "model.add(Dense(units=500, input_dim=13, activation='tanh'))  # 500*13+500\n",
    "# 과적합을 해결하고자 dropout(파라미터값 500개를 어느 정도 퍼센트만큼 두루뭉실하게 출력) 사용\n",
    "model.add(Dropout(0.1))  # 10퍼센트\n",
    "model.add(Dense(units=200, activation='tanh'))  # hidden layer  # 500*200+200 = 501*200\n",
    "model.add(Dropout(0.1))  # 10퍼센트\n",
    "model.add(Dense(units=100, activation='tanh'))  # hidden layer  # 200*100+100 = 201*100\n",
    "model.add(Dropout(0.1))  # 10퍼센트\n",
    "# 출력층에서의 활성화 함수 : 이진분류(로지스틱회귀분석)에서는 'sigmoid', 원핫인코딩을 한 분류분석에서는 'softmax'\n",
    "model.add(Dense(units=1, activation='sigmoid'))\n",
    "model.summary()"
   ]
  },
  {
   "cell_type": "markdown",
   "id": "27731217",
   "metadata": {},
   "source": [
    "# 3. 학습 과정 설정 (accuracy, precision, recall)"
   ]
  },
  {
   "cell_type": "code",
   "execution_count": 19,
   "id": "8f31eb91",
   "metadata": {
    "ExecuteTime": {
     "end_time": "2024-12-18T04:08:47.536465Z",
     "start_time": "2024-12-18T04:08:47.511063Z"
    }
   },
   "outputs": [],
   "source": [
    "# 분류분석일 때, 성능평가지표\n",
    "# accuracy(정확도) : 예측결과와 실제값이 동일한 건수 / 전체건수\n",
    "# precision(정밀도, 민감도) : 실제가 True인데 예측도 True로 맞춘 건수 / True로 예측한 건수\n",
    "# recall(재현율) : 실제가 True인데 예측도 True로 맞춘 건수 / 실제가 True인 건수\n",
    "model.compile(loss='binary_crossentropy', optimizer='adam', metrics=['accuracy', metrics.Recall(), metrics.Precision()])"
   ]
  },
  {
   "cell_type": "markdown",
   "id": "e8d43519",
   "metadata": {},
   "source": [
    "# 4. 모델 학습시키기 (훈련셋의 일부를 검증셋으로 학습)"
   ]
  },
  {
   "cell_type": "code",
   "execution_count": 20,
   "id": "3e01e00b",
   "metadata": {
    "ExecuteTime": {
     "end_time": "2024-12-18T04:11:46.293855Z",
     "start_time": "2024-12-18T04:11:40.141648Z"
    }
   },
   "outputs": [
    {
     "name": "stdout",
     "output_type": "stream",
     "text": [
      "Epoch 1/100\n",
      "2/2 [==============================] - 2s 267ms/step - loss: 0.6648 - accuracy: 0.6061 - recall: 0.6234 - precision: 0.5714 - val_loss: 0.5465 - val_accuracy: 0.7619 - val_recall: 0.7368 - val_precision: 0.7368\n",
      "Epoch 2/100\n",
      "2/2 [==============================] - 0s 35ms/step - loss: 0.5404 - accuracy: 0.8000 - recall: 0.8442 - precision: 0.7558 - val_loss: 0.4642 - val_accuracy: 0.8333 - val_recall: 0.6842 - val_precision: 0.9286\n",
      "Epoch 3/100\n",
      "2/2 [==============================] - 0s 31ms/step - loss: 0.4901 - accuracy: 0.8182 - recall: 0.7403 - precision: 0.8507 - val_loss: 0.4169 - val_accuracy: 0.8095 - val_recall: 0.6842 - val_precision: 0.8667\n",
      "Epoch 4/100\n",
      "2/2 [==============================] - 0s 34ms/step - loss: 0.4498 - accuracy: 0.8061 - recall: 0.7532 - precision: 0.8169 - val_loss: 0.4038 - val_accuracy: 0.7619 - val_recall: 0.6842 - val_precision: 0.7647\n",
      "Epoch 5/100\n",
      "2/2 [==============================] - 0s 33ms/step - loss: 0.4494 - accuracy: 0.8121 - recall: 0.8442 - precision: 0.7738 - val_loss: 0.3995 - val_accuracy: 0.7857 - val_recall: 0.7895 - val_precision: 0.7500\n",
      "Epoch 6/100\n",
      "2/2 [==============================] - 0s 25ms/step - loss: 0.4486 - accuracy: 0.8121 - recall: 0.8312 - precision: 0.7805 - val_loss: 0.3760 - val_accuracy: 0.8095 - val_recall: 0.6842 - val_precision: 0.8667\n",
      "Epoch 7/100\n",
      "2/2 [==============================] - 0s 33ms/step - loss: 0.4247 - accuracy: 0.8182 - recall: 0.7532 - precision: 0.8406 - val_loss: 0.3738 - val_accuracy: 0.8571 - val_recall: 0.7368 - val_precision: 0.9333\n",
      "Epoch 8/100\n",
      "2/2 [==============================] - 0s 32ms/step - loss: 0.4280 - accuracy: 0.8061 - recall: 0.7013 - precision: 0.8571 - val_loss: 0.3642 - val_accuracy: 0.8333 - val_recall: 0.7368 - val_precision: 0.8750\n",
      "Epoch 9/100\n",
      "2/2 [==============================] - 0s 33ms/step - loss: 0.4145 - accuracy: 0.8303 - recall: 0.7922 - precision: 0.8356 - val_loss: 0.3785 - val_accuracy: 0.7857 - val_recall: 0.7895 - val_precision: 0.7500\n",
      "Epoch 10/100\n",
      "2/2 [==============================] - 0s 30ms/step - loss: 0.4165 - accuracy: 0.8182 - recall: 0.8442 - precision: 0.7831 - val_loss: 0.3731 - val_accuracy: 0.7857 - val_recall: 0.7895 - val_precision: 0.7500\n",
      "Epoch 11/100\n",
      "2/2 [==============================] - 0s 34ms/step - loss: 0.3971 - accuracy: 0.8364 - recall: 0.8312 - precision: 0.8205 - val_loss: 0.3650 - val_accuracy: 0.8333 - val_recall: 0.7895 - val_precision: 0.8333\n",
      "Epoch 12/100\n",
      "2/2 [==============================] - 0s 33ms/step - loss: 0.4022 - accuracy: 0.8182 - recall: 0.7662 - precision: 0.8310 - val_loss: 0.3655 - val_accuracy: 0.8333 - val_recall: 0.7895 - val_precision: 0.8333\n",
      "Epoch 13/100\n",
      "2/2 [==============================] - 0s 31ms/step - loss: 0.3971 - accuracy: 0.8061 - recall: 0.7532 - precision: 0.8169 - val_loss: 0.3718 - val_accuracy: 0.8095 - val_recall: 0.7895 - val_precision: 0.7895\n",
      "Epoch 14/100\n",
      "2/2 [==============================] - 0s 33ms/step - loss: 0.3908 - accuracy: 0.8364 - recall: 0.8182 - precision: 0.8289 - val_loss: 0.3755 - val_accuracy: 0.8095 - val_recall: 0.7895 - val_precision: 0.7895\n",
      "Epoch 15/100\n",
      "2/2 [==============================] - 0s 32ms/step - loss: 0.3827 - accuracy: 0.8485 - recall: 0.8312 - precision: 0.8421 - val_loss: 0.3737 - val_accuracy: 0.8095 - val_recall: 0.7895 - val_precision: 0.7895\n",
      "Epoch 16/100\n",
      "2/2 [==============================] - 0s 49ms/step - loss: 0.3877 - accuracy: 0.8606 - recall: 0.8312 - precision: 0.8649 - val_loss: 0.3735 - val_accuracy: 0.8095 - val_recall: 0.7895 - val_precision: 0.7895\n",
      "Epoch 17/100\n",
      "2/2 [==============================] - 0s 34ms/step - loss: 0.3756 - accuracy: 0.8424 - recall: 0.8052 - precision: 0.8493 - val_loss: 0.3711 - val_accuracy: 0.8333 - val_recall: 0.7895 - val_precision: 0.8333\n",
      "Epoch 18/100\n",
      "2/2 [==============================] - 0s 31ms/step - loss: 0.3743 - accuracy: 0.8485 - recall: 0.8312 - precision: 0.8421 - val_loss: 0.3701 - val_accuracy: 0.8571 - val_recall: 0.7895 - val_precision: 0.8824\n",
      "Epoch 19/100\n",
      "2/2 [==============================] - 0s 33ms/step - loss: 0.3720 - accuracy: 0.8364 - recall: 0.8052 - precision: 0.8378 - val_loss: 0.3703 - val_accuracy: 0.8571 - val_recall: 0.7895 - val_precision: 0.8824\n",
      "Epoch 20/100\n",
      "2/2 [==============================] - 0s 33ms/step - loss: 0.3753 - accuracy: 0.8424 - recall: 0.8312 - precision: 0.8312 - val_loss: 0.3668 - val_accuracy: 0.8571 - val_recall: 0.7895 - val_precision: 0.8824\n",
      "Epoch 21/100\n",
      "2/2 [==============================] - 0s 31ms/step - loss: 0.3797 - accuracy: 0.8545 - recall: 0.7922 - precision: 0.8841 - val_loss: 0.3654 - val_accuracy: 0.8571 - val_recall: 0.7895 - val_precision: 0.8824\n",
      "Epoch 22/100\n",
      "2/2 [==============================] - 0s 33ms/step - loss: 0.3862 - accuracy: 0.8606 - recall: 0.8312 - precision: 0.8649 - val_loss: 0.3691 - val_accuracy: 0.8571 - val_recall: 0.7895 - val_precision: 0.8824\n",
      "Epoch 23/100\n",
      "2/2 [==============================] - 0s 22ms/step - loss: 0.3764 - accuracy: 0.8424 - recall: 0.8052 - precision: 0.8493 - val_loss: 0.3674 - val_accuracy: 0.8571 - val_recall: 0.7895 - val_precision: 0.8824\n",
      "Epoch 24/100\n",
      "2/2 [==============================] - 0s 34ms/step - loss: 0.3677 - accuracy: 0.8606 - recall: 0.8312 - precision: 0.8649 - val_loss: 0.3647 - val_accuracy: 0.8571 - val_recall: 0.7895 - val_precision: 0.8824\n",
      "Epoch 25/100\n",
      "2/2 [==============================] - 0s 23ms/step - loss: 0.3709 - accuracy: 0.8424 - recall: 0.7922 - precision: 0.8592 - val_loss: 0.3652 - val_accuracy: 0.8333 - val_recall: 0.7895 - val_precision: 0.8333\n",
      "Epoch 26/100\n",
      "2/2 [==============================] - 0s 34ms/step - loss: 0.3795 - accuracy: 0.8545 - recall: 0.8312 - precision: 0.8533 - val_loss: 0.3644 - val_accuracy: 0.8333 - val_recall: 0.7895 - val_precision: 0.8333\n",
      "Epoch 27/100\n",
      "2/2 [==============================] - 0s 33ms/step - loss: 0.3741 - accuracy: 0.8242 - recall: 0.7922 - precision: 0.8243 - val_loss: 0.3632 - val_accuracy: 0.8571 - val_recall: 0.7895 - val_precision: 0.8824\n",
      "Epoch 28/100\n",
      "2/2 [==============================] - 0s 19ms/step - loss: 0.3755 - accuracy: 0.8545 - recall: 0.7922 - precision: 0.8841 - val_loss: 0.3649 - val_accuracy: 0.8571 - val_recall: 0.7895 - val_precision: 0.8824\n",
      "Epoch 29/100\n",
      "2/2 [==============================] - 0s 30ms/step - loss: 0.3759 - accuracy: 0.8485 - recall: 0.8052 - precision: 0.8611 - val_loss: 0.3715 - val_accuracy: 0.8571 - val_recall: 0.7895 - val_precision: 0.8824\n",
      "Epoch 30/100\n",
      "2/2 [==============================] - 0s 33ms/step - loss: 0.3628 - accuracy: 0.8606 - recall: 0.8312 - precision: 0.8649 - val_loss: 0.3742 - val_accuracy: 0.8571 - val_recall: 0.7895 - val_precision: 0.8824\n",
      "Epoch 31/100\n",
      "2/2 [==============================] - 0s 32ms/step - loss: 0.3792 - accuracy: 0.8606 - recall: 0.8312 - precision: 0.8649 - val_loss: 0.3787 - val_accuracy: 0.8333 - val_recall: 0.7895 - val_precision: 0.8333\n",
      "Epoch 32/100\n",
      "2/2 [==============================] - 0s 24ms/step - loss: 0.3675 - accuracy: 0.8848 - recall: 0.8442 - precision: 0.9028 - val_loss: 0.3803 - val_accuracy: 0.8571 - val_recall: 0.7895 - val_precision: 0.8824\n",
      "Epoch 33/100\n",
      "2/2 [==============================] - 0s 19ms/step - loss: 0.3801 - accuracy: 0.8424 - recall: 0.7922 - precision: 0.8592 - val_loss: 0.3833 - val_accuracy: 0.8333 - val_recall: 0.7895 - val_precision: 0.8333\n",
      "Epoch 34/100\n",
      "2/2 [==============================] - 0s 33ms/step - loss: 0.3817 - accuracy: 0.8606 - recall: 0.8182 - precision: 0.8750 - val_loss: 0.3802 - val_accuracy: 0.8333 - val_recall: 0.7895 - val_precision: 0.8333\n",
      "Epoch 35/100\n",
      "2/2 [==============================] - 0s 30ms/step - loss: 0.3717 - accuracy: 0.8485 - recall: 0.8052 - precision: 0.8611 - val_loss: 0.3746 - val_accuracy: 0.8571 - val_recall: 0.7895 - val_precision: 0.8824\n",
      "Epoch 36/100\n",
      "2/2 [==============================] - 0s 18ms/step - loss: 0.3660 - accuracy: 0.8545 - recall: 0.8052 - precision: 0.8732 - val_loss: 0.3762 - val_accuracy: 0.8571 - val_recall: 0.7895 - val_precision: 0.8824\n",
      "Epoch 37/100\n",
      "2/2 [==============================] - 0s 34ms/step - loss: 0.3654 - accuracy: 0.8485 - recall: 0.8182 - precision: 0.8514 - val_loss: 0.3833 - val_accuracy: 0.8333 - val_recall: 0.8421 - val_precision: 0.8000\n"
     ]
    },
    {
     "name": "stdout",
     "output_type": "stream",
     "text": [
      "Epoch 38/100\n",
      "2/2 [==============================] - 0s 17ms/step - loss: 0.3696 - accuracy: 0.8364 - recall: 0.8571 - precision: 0.8049 - val_loss: 0.3767 - val_accuracy: 0.8810 - val_recall: 0.8421 - val_precision: 0.8889\n",
      "Epoch 39/100\n",
      "2/2 [==============================] - 0s 32ms/step - loss: 0.3746 - accuracy: 0.8545 - recall: 0.7922 - precision: 0.8841 - val_loss: 0.3743 - val_accuracy: 0.8571 - val_recall: 0.7895 - val_precision: 0.8824\n",
      "Epoch 40/100\n",
      "2/2 [==============================] - 0s 36ms/step - loss: 0.3775 - accuracy: 0.8667 - recall: 0.8182 - precision: 0.8873 - val_loss: 0.3783 - val_accuracy: 0.8810 - val_recall: 0.8421 - val_precision: 0.8889\n",
      "Epoch 41/100\n",
      "2/2 [==============================] - 0s 31ms/step - loss: 0.3740 - accuracy: 0.8424 - recall: 0.8182 - precision: 0.8400 - val_loss: 0.3740 - val_accuracy: 0.8571 - val_recall: 0.7895 - val_precision: 0.8824\n",
      "Epoch 42/100\n",
      "2/2 [==============================] - 0s 33ms/step - loss: 0.3657 - accuracy: 0.8364 - recall: 0.7792 - precision: 0.8571 - val_loss: 0.3771 - val_accuracy: 0.8571 - val_recall: 0.7895 - val_precision: 0.8824\n",
      "Epoch 43/100\n",
      "2/2 [==============================] - 0s 32ms/step - loss: 0.3488 - accuracy: 0.8485 - recall: 0.8052 - precision: 0.8611 - val_loss: 0.3885 - val_accuracy: 0.8333 - val_recall: 0.8421 - val_precision: 0.8000\n",
      "Epoch 44/100\n",
      "2/2 [==============================] - 0s 33ms/step - loss: 0.3763 - accuracy: 0.8545 - recall: 0.8571 - precision: 0.8354 - val_loss: 0.3871 - val_accuracy: 0.8333 - val_recall: 0.8421 - val_precision: 0.8000\n",
      "Epoch 45/100\n",
      "2/2 [==============================] - 0s 34ms/step - loss: 0.3723 - accuracy: 0.8606 - recall: 0.8312 - precision: 0.8649 - val_loss: 0.3727 - val_accuracy: 0.8571 - val_recall: 0.7895 - val_precision: 0.8824\n",
      "Epoch 46/100\n",
      "2/2 [==============================] - 0s 34ms/step - loss: 0.3631 - accuracy: 0.8545 - recall: 0.7792 - precision: 0.8955 - val_loss: 0.3714 - val_accuracy: 0.8571 - val_recall: 0.7895 - val_precision: 0.8824\n",
      "Epoch 47/100\n",
      "2/2 [==============================] - 0s 33ms/step - loss: 0.3609 - accuracy: 0.8485 - recall: 0.7532 - precision: 0.9062 - val_loss: 0.3752 - val_accuracy: 0.8333 - val_recall: 0.7895 - val_precision: 0.8333\n",
      "Epoch 48/100\n",
      "2/2 [==============================] - 0s 34ms/step - loss: 0.3656 - accuracy: 0.8424 - recall: 0.8312 - precision: 0.8312 - val_loss: 0.3819 - val_accuracy: 0.8333 - val_recall: 0.8421 - val_precision: 0.8000\n",
      "Epoch 49/100\n",
      "2/2 [==============================] - 0s 17ms/step - loss: 0.3534 - accuracy: 0.8727 - recall: 0.8831 - precision: 0.8500 - val_loss: 0.3752 - val_accuracy: 0.8571 - val_recall: 0.7895 - val_precision: 0.8824\n",
      "Epoch 50/100\n",
      "2/2 [==============================] - 0s 33ms/step - loss: 0.3514 - accuracy: 0.8242 - recall: 0.7792 - precision: 0.8333 - val_loss: 0.3732 - val_accuracy: 0.8571 - val_recall: 0.7895 - val_precision: 0.8824\n",
      "Epoch 51/100\n",
      "2/2 [==============================] - 0s 36ms/step - loss: 0.3613 - accuracy: 0.8545 - recall: 0.8052 - precision: 0.8732 - val_loss: 0.3720 - val_accuracy: 0.8571 - val_recall: 0.7895 - val_precision: 0.8824\n",
      "Epoch 52/100\n",
      "2/2 [==============================] - 0s 31ms/step - loss: 0.3514 - accuracy: 0.8727 - recall: 0.8052 - precision: 0.9118 - val_loss: 0.3776 - val_accuracy: 0.8810 - val_recall: 0.8421 - val_precision: 0.8889\n",
      "Epoch 53/100\n",
      "2/2 [==============================] - 0s 33ms/step - loss: 0.3663 - accuracy: 0.8485 - recall: 0.8312 - precision: 0.8421 - val_loss: 0.3780 - val_accuracy: 0.8810 - val_recall: 0.8421 - val_precision: 0.8889\n",
      "Epoch 54/100\n",
      "2/2 [==============================] - 0s 20ms/step - loss: 0.3572 - accuracy: 0.8727 - recall: 0.8442 - precision: 0.8784 - val_loss: 0.3729 - val_accuracy: 0.8810 - val_recall: 0.8421 - val_precision: 0.8889\n",
      "Epoch 55/100\n",
      "2/2 [==============================] - 0s 33ms/step - loss: 0.3582 - accuracy: 0.8667 - recall: 0.8052 - precision: 0.8986 - val_loss: 0.3746 - val_accuracy: 0.8810 - val_recall: 0.8421 - val_precision: 0.8889\n",
      "Epoch 56/100\n",
      "2/2 [==============================] - 0s 33ms/step - loss: 0.3475 - accuracy: 0.8545 - recall: 0.7922 - precision: 0.8841 - val_loss: 0.3815 - val_accuracy: 0.8571 - val_recall: 0.8421 - val_precision: 0.8421\n",
      "Epoch 57/100\n",
      "2/2 [==============================] - 0s 31ms/step - loss: 0.3323 - accuracy: 0.8727 - recall: 0.8701 - precision: 0.8590 - val_loss: 0.3872 - val_accuracy: 0.8333 - val_recall: 0.8421 - val_precision: 0.8000\n",
      "Epoch 58/100\n",
      "2/2 [==============================] - 0s 34ms/step - loss: 0.3566 - accuracy: 0.8485 - recall: 0.8442 - precision: 0.8333 - val_loss: 0.3758 - val_accuracy: 0.8810 - val_recall: 0.8421 - val_precision: 0.8889\n",
      "Epoch 59/100\n",
      "2/2 [==============================] - 0s 20ms/step - loss: 0.3450 - accuracy: 0.8848 - recall: 0.8442 - precision: 0.9028 - val_loss: 0.3706 - val_accuracy: 0.8571 - val_recall: 0.7895 - val_precision: 0.8824\n",
      "Epoch 60/100\n",
      "2/2 [==============================] - 0s 31ms/step - loss: 0.3561 - accuracy: 0.8606 - recall: 0.7792 - precision: 0.9091 - val_loss: 0.3675 - val_accuracy: 0.8810 - val_recall: 0.8421 - val_precision: 0.8889\n",
      "Epoch 61/100\n",
      "2/2 [==============================] - 0s 33ms/step - loss: 0.3441 - accuracy: 0.8727 - recall: 0.8571 - precision: 0.8684 - val_loss: 0.3774 - val_accuracy: 0.8571 - val_recall: 0.8421 - val_precision: 0.8421\n",
      "Epoch 62/100\n",
      "2/2 [==============================] - 0s 18ms/step - loss: 0.3587 - accuracy: 0.8485 - recall: 0.8571 - precision: 0.8250 - val_loss: 0.3744 - val_accuracy: 0.8571 - val_recall: 0.8421 - val_precision: 0.8421\n",
      "Epoch 63/100\n",
      "2/2 [==============================] - 0s 33ms/step - loss: 0.3211 - accuracy: 0.8667 - recall: 0.8701 - precision: 0.8481 - val_loss: 0.3628 - val_accuracy: 0.8810 - val_recall: 0.8421 - val_precision: 0.8889\n",
      "Epoch 64/100\n",
      "2/2 [==============================] - 0s 36ms/step - loss: 0.3350 - accuracy: 0.8727 - recall: 0.8182 - precision: 0.9000 - val_loss: 0.3663 - val_accuracy: 0.8571 - val_recall: 0.7895 - val_precision: 0.8824\n",
      "Epoch 65/100\n",
      "2/2 [==============================] - 0s 16ms/step - loss: 0.3667 - accuracy: 0.8667 - recall: 0.7922 - precision: 0.9104 - val_loss: 0.3683 - val_accuracy: 0.8810 - val_recall: 0.8421 - val_precision: 0.8889\n",
      "Epoch 66/100\n",
      "2/2 [==============================] - 0s 33ms/step - loss: 0.3334 - accuracy: 0.8606 - recall: 0.8442 - precision: 0.8553 - val_loss: 0.3800 - val_accuracy: 0.8571 - val_recall: 0.8421 - val_precision: 0.8421\n",
      "Epoch 67/100\n",
      "2/2 [==============================] - 0s 33ms/step - loss: 0.3360 - accuracy: 0.8606 - recall: 0.8701 - precision: 0.8375 - val_loss: 0.3790 - val_accuracy: 0.8571 - val_recall: 0.8421 - val_precision: 0.8421\n",
      "Epoch 68/100\n",
      "2/2 [==============================] - 0s 19ms/step - loss: 0.3266 - accuracy: 0.8727 - recall: 0.8571 - precision: 0.8684 - val_loss: 0.3747 - val_accuracy: 0.8810 - val_recall: 0.8421 - val_precision: 0.8889\n",
      "Epoch 69/100\n",
      "2/2 [==============================] - 0s 33ms/step - loss: 0.3274 - accuracy: 0.8727 - recall: 0.8052 - precision: 0.9118 - val_loss: 0.3756 - val_accuracy: 0.8810 - val_recall: 0.8421 - val_precision: 0.8889\n",
      "Epoch 70/100\n",
      "2/2 [==============================] - 0s 33ms/step - loss: 0.3439 - accuracy: 0.8606 - recall: 0.7922 - precision: 0.8971 - val_loss: 0.3763 - val_accuracy: 0.8810 - val_recall: 0.8421 - val_precision: 0.8889\n",
      "Epoch 71/100\n",
      "2/2 [==============================] - 0s 30ms/step - loss: 0.3337 - accuracy: 0.8606 - recall: 0.8442 - precision: 0.8553 - val_loss: 0.3789 - val_accuracy: 0.8810 - val_recall: 0.8421 - val_precision: 0.8889\n",
      "Epoch 72/100\n",
      "2/2 [==============================] - 0s 34ms/step - loss: 0.3170 - accuracy: 0.8970 - recall: 0.8701 - precision: 0.9054 - val_loss: 0.3782 - val_accuracy: 0.8810 - val_recall: 0.8421 - val_precision: 0.8889\n",
      "Epoch 73/100\n",
      "2/2 [==============================] - 0s 33ms/step - loss: 0.3191 - accuracy: 0.8788 - recall: 0.8571 - precision: 0.8800 - val_loss: 0.3776 - val_accuracy: 0.8810 - val_recall: 0.8421 - val_precision: 0.8889\n",
      "Epoch 74/100\n",
      "2/2 [==============================] - 0s 36ms/step - loss: 0.3024 - accuracy: 0.8970 - recall: 0.8701 - precision: 0.9054 - val_loss: 0.3788 - val_accuracy: 0.8810 - val_recall: 0.8421 - val_precision: 0.8889\n"
     ]
    },
    {
     "name": "stdout",
     "output_type": "stream",
     "text": [
      "Epoch 75/100\n",
      "2/2 [==============================] - 0s 30ms/step - loss: 0.2963 - accuracy: 0.8970 - recall: 0.8701 - precision: 0.9054 - val_loss: 0.3803 - val_accuracy: 0.8810 - val_recall: 0.8421 - val_precision: 0.8889\n",
      "Epoch 76/100\n",
      "2/2 [==============================] - 0s 33ms/step - loss: 0.2966 - accuracy: 0.8788 - recall: 0.8442 - precision: 0.8904 - val_loss: 0.3841 - val_accuracy: 0.8810 - val_recall: 0.8421 - val_precision: 0.8889\n",
      "Epoch 77/100\n",
      "2/2 [==============================] - 0s 19ms/step - loss: 0.3164 - accuracy: 0.8788 - recall: 0.8312 - precision: 0.9014 - val_loss: 0.3816 - val_accuracy: 0.8810 - val_recall: 0.8421 - val_precision: 0.8889\n",
      "Epoch 78/100\n",
      "2/2 [==============================] - 0s 33ms/step - loss: 0.3057 - accuracy: 0.8788 - recall: 0.8312 - precision: 0.9014 - val_loss: 0.3758 - val_accuracy: 0.8810 - val_recall: 0.8421 - val_precision: 0.8889\n",
      "Epoch 79/100\n",
      "2/2 [==============================] - 0s 36ms/step - loss: 0.2991 - accuracy: 0.8848 - recall: 0.8312 - precision: 0.9143 - val_loss: 0.3748 - val_accuracy: 0.8571 - val_recall: 0.8421 - val_precision: 0.8421\n",
      "Epoch 80/100\n",
      "2/2 [==============================] - 0s 30ms/step - loss: 0.2921 - accuracy: 0.8788 - recall: 0.8831 - precision: 0.8608 - val_loss: 0.3788 - val_accuracy: 0.8571 - val_recall: 0.8421 - val_precision: 0.8421\n",
      "Epoch 81/100\n",
      "2/2 [==============================] - 0s 43ms/step - loss: 0.3079 - accuracy: 0.8788 - recall: 0.8571 - precision: 0.8800 - val_loss: 0.3766 - val_accuracy: 0.8571 - val_recall: 0.8421 - val_precision: 0.8421\n",
      "Epoch 82/100\n",
      "2/2 [==============================] - 0s 15ms/step - loss: 0.3068 - accuracy: 0.8788 - recall: 0.8571 - precision: 0.8800 - val_loss: 0.3717 - val_accuracy: 0.8810 - val_recall: 0.8421 - val_precision: 0.8889\n",
      "Epoch 83/100\n",
      "2/2 [==============================] - 0s 33ms/step - loss: 0.2946 - accuracy: 0.8727 - recall: 0.8182 - precision: 0.9000 - val_loss: 0.3751 - val_accuracy: 0.8810 - val_recall: 0.8421 - val_precision: 0.8889\n",
      "Epoch 84/100\n",
      "2/2 [==============================] - 0s 35ms/step - loss: 0.2967 - accuracy: 0.8606 - recall: 0.7792 - precision: 0.9091 - val_loss: 0.3842 - val_accuracy: 0.8810 - val_recall: 0.8421 - val_precision: 0.8889\n",
      "Epoch 85/100\n",
      "2/2 [==============================] - 0s 17ms/step - loss: 0.2998 - accuracy: 0.8788 - recall: 0.8831 - precision: 0.8608 - val_loss: 0.3942 - val_accuracy: 0.8333 - val_recall: 0.8421 - val_precision: 0.8000\n",
      "Epoch 86/100\n",
      "2/2 [==============================] - 0s 34ms/step - loss: 0.2909 - accuracy: 0.8727 - recall: 0.8831 - precision: 0.8500 - val_loss: 0.3922 - val_accuracy: 0.8571 - val_recall: 0.8421 - val_precision: 0.8421\n",
      "Epoch 87/100\n",
      "2/2 [==============================] - 0s 33ms/step - loss: 0.2804 - accuracy: 0.8848 - recall: 0.8701 - precision: 0.8816 - val_loss: 0.3912 - val_accuracy: 0.8571 - val_recall: 0.8421 - val_precision: 0.8421\n",
      "Epoch 88/100\n",
      "2/2 [==============================] - 0s 18ms/step - loss: 0.2848 - accuracy: 0.8970 - recall: 0.8571 - precision: 0.9167 - val_loss: 0.3908 - val_accuracy: 0.8571 - val_recall: 0.8421 - val_precision: 0.8421\n",
      "Epoch 89/100\n",
      "2/2 [==============================] - 0s 32ms/step - loss: 0.2863 - accuracy: 0.8970 - recall: 0.8442 - precision: 0.9286 - val_loss: 0.3897 - val_accuracy: 0.8810 - val_recall: 0.8421 - val_precision: 0.8889\n",
      "Epoch 90/100\n",
      "2/2 [==============================] - 0s 33ms/step - loss: 0.2869 - accuracy: 0.8909 - recall: 0.8701 - precision: 0.8933 - val_loss: 0.3901 - val_accuracy: 0.8810 - val_recall: 0.8421 - val_precision: 0.8889\n",
      "Epoch 91/100\n",
      "2/2 [==============================] - 0s 31ms/step - loss: 0.2862 - accuracy: 0.8788 - recall: 0.8571 - precision: 0.8800 - val_loss: 0.3877 - val_accuracy: 0.8810 - val_recall: 0.8421 - val_precision: 0.8889\n",
      "Epoch 92/100\n",
      "2/2 [==============================] - 0s 36ms/step - loss: 0.2855 - accuracy: 0.8788 - recall: 0.8701 - precision: 0.8701 - val_loss: 0.3835 - val_accuracy: 0.8810 - val_recall: 0.8421 - val_precision: 0.8889\n",
      "Epoch 93/100\n",
      "2/2 [==============================] - 0s 34ms/step - loss: 0.2670 - accuracy: 0.8970 - recall: 0.8571 - precision: 0.9167 - val_loss: 0.3881 - val_accuracy: 0.8810 - val_recall: 0.8421 - val_precision: 0.8889\n",
      "Epoch 94/100\n",
      "2/2 [==============================] - 0s 35ms/step - loss: 0.2739 - accuracy: 0.8788 - recall: 0.8442 - precision: 0.8904 - val_loss: 0.3964 - val_accuracy: 0.8333 - val_recall: 0.8421 - val_precision: 0.8000\n",
      "Epoch 95/100\n",
      "2/2 [==============================] - 0s 34ms/step - loss: 0.2760 - accuracy: 0.8909 - recall: 0.8701 - precision: 0.8933 - val_loss: 0.4003 - val_accuracy: 0.8571 - val_recall: 0.8421 - val_precision: 0.8421\n",
      "Epoch 96/100\n",
      "2/2 [==============================] - 0s 33ms/step - loss: 0.2629 - accuracy: 0.9030 - recall: 0.8312 - precision: 0.9552 - val_loss: 0.4030 - val_accuracy: 0.8571 - val_recall: 0.8421 - val_precision: 0.8421\n",
      "Epoch 97/100\n",
      "2/2 [==============================] - 0s 30ms/step - loss: 0.2481 - accuracy: 0.8970 - recall: 0.8701 - precision: 0.9054 - val_loss: 0.4088 - val_accuracy: 0.8571 - val_recall: 0.8421 - val_precision: 0.8421\n",
      "Epoch 98/100\n",
      "2/2 [==============================] - 0s 33ms/step - loss: 0.2495 - accuracy: 0.8909 - recall: 0.8182 - precision: 0.9403 - val_loss: 0.4190 - val_accuracy: 0.8571 - val_recall: 0.8421 - val_precision: 0.8421\n",
      "Epoch 99/100\n",
      "2/2 [==============================] - 0s 18ms/step - loss: 0.2612 - accuracy: 0.8970 - recall: 0.8571 - precision: 0.9167 - val_loss: 0.4220 - val_accuracy: 0.8571 - val_recall: 0.8421 - val_precision: 0.8421\n",
      "Epoch 100/100\n",
      "2/2 [==============================] - 0s 34ms/step - loss: 0.2567 - accuracy: 0.9091 - recall: 0.9091 - precision: 0.8974 - val_loss: 0.4126 - val_accuracy: 0.8571 - val_recall: 0.8421 - val_precision: 0.8421\n"
     ]
    }
   ],
   "source": [
    "hist = model.fit(X_train, y_train,\n",
    "                 epochs=100,\n",
    "                 batch_size=100,\n",
    "                 verbose=1,\n",
    "                 validation_split=0.2)  # 훈련데이터셋의 20%를 검증데이터셋으로"
   ]
  },
  {
   "cell_type": "markdown",
   "id": "41bd0a46",
   "metadata": {},
   "source": [
    "# 5. 모델 평가 - 과정 살펴보기(그래프), evaluate, pd.crosstab / confusion_matrix(혼동행렬)"
   ]
  },
  {
   "cell_type": "code",
   "execution_count": 21,
   "id": "988e31a4",
   "metadata": {},
   "outputs": [
    {
     "data": {
      "text/plain": [
       "dict_keys(['loss', 'accuracy', 'recall', 'precision', 'val_loss', 'val_accuracy', 'val_recall', 'val_precision'])"
      ]
     },
     "execution_count": 21,
     "metadata": {},
     "output_type": "execute_result"
    }
   ],
   "source": [
    "hist.history.keys()"
   ]
  },
  {
   "cell_type": "code",
   "execution_count": 24,
   "id": "d0c89a13",
   "metadata": {},
   "outputs": [
    {
     "data": {
      "image/png": "[encoded data removed]",
      "text/plain": [
       "<Figure size 1000x500 with 2 Axes>"
      ]
     },
     "metadata": {},
     "output_type": "display_data"
    }
   ],
   "source": [
    "# 학습과정 표시하기(validation dataset 있는 경우)\n",
    "fig, loss_ax = plt.subplots(figsize=(10,5))\n",
    "loss_ax.plot(hist.history['loss'], 'r', label='train loss')\n",
    "loss_ax.plot(hist.history['val_loss'], 'y', label='validation loss')\n",
    "loss_ax.set_xlabel('epoch')\n",
    "loss_ax.set_ylabel('loss')\n",
    "acc_ax = loss_ax.twinx()\n",
    "acc_ax.plot(hist.history['accuracy'], 'b', label='train accuracy')\n",
    "acc_ax.plot(hist.history['val_accuracy'], 'g', label='train accuracy')\n",
    "acc_ax.plot(hist.history['recall'], 'k', label='recall')\n",
    "acc_ax.plot(hist.history['val_recall'], '#cccccc', label='val_recall')\n",
    "acc_ax.set_ylabel('accuracy')\n",
    "loss_ax.legend(loc='center right')\n",
    "acc_ax.legend(bbox_to_anchor=(0.999, 0.7))\n",
    "plt.show()"
   ]
  },
  {
   "cell_type": "code",
   "execution_count": 23,
   "id": "dcc46e1e",
   "metadata": {},
   "outputs": [
    {
     "name": "stdout",
     "output_type": "stream",
     "text": [
      "3/3 [==============================] - 0s 420us/step - loss: 0.4137 - accuracy: 0.8315 - recall: 0.8750 - precision: 0.7778\n"
     ]
    }
   ],
   "source": [
    "# 모델 평가\n",
    "score = model.evaluate(X_test, y_test)\n",
    "print('model loss :', score[0])\n",
    "print('model accuracy :', score[1])\n",
    "print('model recall :', score[2])\n",
    "print('medel precision :', score[3])"
   ]
  },
  {
   "cell_type": "markdown",
   "id": "8c8177eb",
   "metadata": {},
   "source": [
    "# 6. 모델 사용하기"
   ]
  },
  {
   "cell_type": "code",
   "execution_count": 35,
   "id": "6ef5d894",
   "metadata": {},
   "outputs": [
    {
     "name": "stdout",
     "output_type": "stream",
     "text": [
      "3/3 [==============================] - 0s 3ms/step\n",
      "(89, 1)\n",
      "[[39 10]\n",
      " [ 5 35]]\n",
      "f1 score : 0.823529411764706\n"
     ]
    }
   ],
   "source": [
    "# confusion matrix (매개변수에 2차원 데이터)\n",
    "y_hat = (model.predict(X_test) > 0.5).astype(int)\n",
    "print(y_hat.shape)\n",
    "from sklearn.metrics import confusion_matrix\n",
    "from sklearn.metrics import f1_score\n",
    "print(confusion_matrix(y_test,y_hat))\n",
    "print('f1 score :', f1_score(y_test, y_hat))"
   ]
  },
  {
   "cell_type": "code",
   "execution_count": 36,
   "id": "772f6e04",
   "metadata": {},
   "outputs": [
    {
     "data": {
      "text/html": [
       "<div>\n",
       "<style scoped>\n",
       "    .dataframe tbody tr th:only-of-type {\n",
       "        vertical-align: middle;\n",
       "    }\n",
       "\n",
       "    .dataframe tbody tr th {\n",
       "        vertical-align: top;\n",
       "    }\n",
       "\n",
       "    .dataframe thead th {\n",
       "        text-align: right;\n",
       "    }\n",
       "</style>\n",
       "<table border=\"1\" class=\"dataframe\">\n",
       "  <thead>\n",
       "    <tr style=\"text-align: right;\">\n",
       "      <th>col_0</th>\n",
       "      <th>0</th>\n",
       "      <th>1</th>\n",
       "    </tr>\n",
       "    <tr>\n",
       "      <th>row_0</th>\n",
       "      <th></th>\n",
       "      <th></th>\n",
       "    </tr>\n",
       "  </thead>\n",
       "  <tbody>\n",
       "    <tr>\n",
       "      <th>0</th>\n",
       "      <td>39</td>\n",
       "      <td>10</td>\n",
       "    </tr>\n",
       "    <tr>\n",
       "      <th>1</th>\n",
       "      <td>5</td>\n",
       "      <td>35</td>\n",
       "    </tr>\n",
       "  </tbody>\n",
       "</table>\n",
       "</div>"
      ],
      "text/plain": [
       "col_0   0   1\n",
       "row_0        \n",
       "0      39  10\n",
       "1       5  35"
      ]
     },
     "execution_count": 36,
     "metadata": {},
     "output_type": "execute_result"
    }
   ],
   "source": [
    "# crosstab(매개변수에 1차원 데이터)\n",
    "pd.crosstab(y_test.values.reshape(-1), # 실제값(1차원)\n",
    "           y_hat.reshape(-1)) # 예측값(1차원)"
   ]
  },
  {
   "cell_type": "code",
   "execution_count": null,
   "id": "69097ae1",
   "metadata": {},
   "outputs": [],
   "source": []
  },
  {
   "cell_type": "code",
   "execution_count": null,
   "id": "f5da4a20",
   "metadata": {},
   "outputs": [],
   "source": []
  },
  {
   "cell_type": "code",
   "execution_count": null,
   "id": "fb4197d2",
   "metadata": {},
   "outputs": [],
   "source": []
  },
  {
   "cell_type": "code",
   "execution_count": null,
   "id": "30257877",
   "metadata": {},
   "outputs": [],
   "source": []
  },
  {
   "cell_type": "code",
   "execution_count": null,
   "id": "3aa7d6e4",
   "metadata": {},
   "outputs": [],
   "source": []
  },
  {
   "cell_type": "code",
   "execution_count": null,
   "id": "56cbf929",
   "metadata": {},
   "outputs": [],
   "source": []
  },
  {
   "cell_type": "code",
   "execution_count": null,
   "id": "bbae11ac",
   "metadata": {},
   "outputs": [],
   "source": []
  },
  {
   "cell_type": "code",
   "execution_count": null,
   "id": "2ea699a9",
   "metadata": {},
   "outputs": [],
   "source": []
  },
  {
   "cell_type": "code",
   "execution_count": null,
   "id": "46921713",
   "metadata": {},
   "outputs": [],
   "source": []
  },
  {
   "cell_type": "code",
   "execution_count": null,
   "id": "6750bea1",
   "metadata": {},
   "outputs": [],
   "source": []
  },
  {
   "cell_type": "code",
   "execution_count": null,
   "id": "f32bc405",
   "metadata": {},
   "outputs": [],
   "source": []
  },
  {
   "cell_type": "code",
   "execution_count": null,
   "id": "e94a08c4",
   "metadata": {},
   "outputs": [],
   "source": []
  },
  {
   "cell_type": "code",
   "execution_count": null,
   "id": "00713eaf",
   "metadata": {},
   "outputs": [],
   "source": []
  },
  {
   "cell_type": "code",
   "execution_count": null,
   "id": "427fa14e",
   "metadata": {},
   "outputs": [],
   "source": []
  },
  {
   "cell_type": "code",
   "execution_count": null,
   "id": "5a3ab615",
   "metadata": {},
   "outputs": [],
   "source": []
  },
  {
   "cell_type": "code",
   "execution_count": null,
   "id": "1c637a4e",
   "metadata": {},
   "outputs": [],
   "source": []
  },
  {
   "cell_type": "code",
   "execution_count": null,
   "id": "47f2ee87",
   "metadata": {},
   "outputs": [],
   "source": []
  },
  {
   "cell_type": "code",
   "execution_count": null,
   "id": "61a68722",
   "metadata": {},
   "outputs": [],
   "source": []
  },
  {
   "cell_type": "code",
   "execution_count": null,
   "id": "dac5c47b",
   "metadata": {},
   "outputs": [],
   "source": []
  },
  {
   "cell_type": "code",
   "execution_count": null,
   "id": "a26ff472",
   "metadata": {},
   "outputs": [],
   "source": []
  },
  {
   "cell_type": "code",
   "execution_count": null,
   "id": "302c9f0b",
   "metadata": {},
   "outputs": [],
   "source": []
  },
  {
   "cell_type": "code",
   "execution_count": null,
   "id": "af1c2df1",
   "metadata": {},
   "outputs": [],
   "source": []
  },
  {
   "cell_type": "code",
   "execution_count": null,
   "id": "c9aae686",
   "metadata": {},
   "outputs": [],
   "source": []
  },
  {
   "cell_type": "code",
   "execution_count": null,
   "id": "b231b97d",
   "metadata": {},
   "outputs": [],
   "source": []
  },
  {
   "cell_type": "code",
   "execution_count": null,
   "id": "bb7061fd",
   "metadata": {},
   "outputs": [],
   "source": []
  },
  {
   "cell_type": "code",
   "execution_count": null,
   "id": "4a564db8",
   "metadata": {},
   "outputs": [],
   "source": []
  },
  {
   "cell_type": "code",
   "execution_count": null,
   "id": "cec9e30e",
   "metadata": {},
   "outputs": [],
   "source": []
  },
  {
   "cell_type": "code",
   "execution_count": null,
   "id": "41eac114",
   "metadata": {},
   "outputs": [],
   "source": []
  }
 ],
 "metadata": {
  "kernelspec": {
   "display_name": "Python 3 (ipykernel)",
   "language": "python",
   "name": "python3"
  },
  "language_info": {
   "codemirror_mode": {
    "name": "ipython",
    "version": 3
   },
   "file_extension": ".py",
   "mimetype": "text/x-python",
   "name": "python",
   "nbconvert_exporter": "python",
   "pygments_lexer": "ipython3",
   "version": "3.10.9"
  },
  "toc": {
   "base_numbering": 1,
   "nav_menu": {},
   "number_sections": true,
   "sideBar": true,
   "skip_h1_title": false,
   "title_cell": "Table of Contents",
   "title_sidebar": "Contents",
   "toc_cell": false,
   "toc_position": {
    "height": "calc(100% - 180px)",
    "left": "10px",
    "top": "150px",
    "width": "227.734px"
   },
   "toc_section_display": true,
   "toc_window_display": true
  }
 },
 "nbformat": 4,
 "nbformat_minor": 5
}
