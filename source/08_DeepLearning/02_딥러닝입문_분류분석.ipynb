{
 "cells": [
  {
   "cell_type": "markdown",
   "id": "1ce0e4c0",
   "metadata": {},
   "source": [
    "## 머신러닝/딥러닝 : 데이터의 법칙성을 추출\n",
    "     - 다양한 분야에서 응용 : 글씨인식, 문장분류, 질병진단, 얼굴식별, etc....   \n",
    "     - 지도학습(회귀, 분류) vs 비지도학습(군집) vs 강화학습(게임)\n",
    "     \n",
    "- 1. 데이터 확보 및 생성 (inputdata, outputdata)\n",
    "- 2. 데이터 전처리 (결측치, 스케일조정, 훈련데이터셋과 검증데이터셋, 시험데이터셋으로 분류...)\n",
    "- 3. 모델 구성\n",
    "- 4. 모델 학습 과정 설정 (손실함수, 옵티마이저, 평가지표)\n",
    "- 5. 모델 학습시키기\n",
    "- 6. 모델 평가(시험데이터셋으로)\n",
    "- 7. 모델 평가 (모델 저장 후, 저장된 모델을 이용하여, 입력값이 주어지면 예측값 받기)"
   ]
  },
  {
   "cell_type": "markdown",
   "id": "34639293",
   "metadata": {},
   "source": [
    "# 1. 데이터 셋 생성\n",
    "# 2. 데이터 전처리"
   ]
  },
  {
   "cell_type": "code",
   "execution_count": 1,
   "id": "ea6106df",
   "metadata": {},
   "outputs": [],
   "source": [
    "import numpy as np\n",
    "from tensorflow.keras.utils import to_categorical # 분류분석시 원핫인코딩\n",
    "from tensorflow.keras.models import Sequential # 모델생성\n",
    "from tensorflow.keras.layers import Dense, Input # 모델에 레이어 추가시 "
   ]
  },
  {
   "cell_type": "code",
   "execution_count": 3,
   "id": "82a6c97d",
   "metadata": {},
   "outputs": [],
   "source": [
    "# 학습데이터 == 훈련데이터\n",
    "X_train = np.array([1,2,3,4,5,6,7,8,9]*10)\n",
    "Y_train = np.array([2,4,6,8,10,12,14,16,18]*10)\n",
    "# 검증데이터\n",
    "X_val = np.array([1,2,3,4,5,6,7,8,9])\n",
    "Y_val = np.array([2,4,6,8,10,12,14,16,18])"
   ]
  },
  {
   "cell_type": "code",
   "execution_count": 4,
   "id": "ddbfea3f",
   "metadata": {
    "code_folding": [
     0
    ]
   },
   "outputs": [
    {
     "name": "stdout",
     "output_type": "stream",
     "text": [
      "1. 원 데이터 : ['a' 'b' 'b' 'b' 'c']\n",
      "2. 라벨 인코딩 된 데이터 : [0 1 1 1 2]\n",
      "3. 원핫인코딩된 데이터(keras) :\n",
      " [[1. 0. 0.]\n",
      " [0. 1. 0.]\n",
      " [0. 1. 0.]\n",
      " [0. 1. 0.]\n",
      " [0. 0. 1.]]\n"
     ]
    }
   ],
   "source": [
    "# 분류분석을 위한 인코딩 종류\n",
    "data = np.array(['a','b','b','b','c'])\n",
    "print('1. 원 데이터 :', data)\n",
    "from sklearn.preprocessing import LabelEncoder\n",
    "le = LabelEncoder()\n",
    "labeling_data = le.fit_transform(data)\n",
    "print('2. 라벨 인코딩 된 데이터 :', labeling_data)\n",
    "one_hot_encoding_data = to_categorical(labeling_data)\n",
    "print('3. 원핫인코딩된 데이터(keras) :\\n', one_hot_encoding_data)"
   ]
  },
  {
   "cell_type": "code",
   "execution_count": 5,
   "id": "fda55195",
   "metadata": {},
   "outputs": [
    {
     "name": "stdout",
     "output_type": "stream",
     "text": [
      "원 데이터 : [1 2 2 3 9]\n",
      "to_categorical을 이용한 원 핫 인코딩(넘파이배열)\n",
      " [[0. 1. 0. 0. 0. 0. 0. 0. 0. 0.]\n",
      " [0. 0. 1. 0. 0. 0. 0. 0. 0. 0.]\n",
      " [0. 0. 1. 0. 0. 0. 0. 0. 0. 0.]\n",
      " [0. 0. 0. 1. 0. 0. 0. 0. 0. 0.]\n",
      " [0. 0. 0. 0. 0. 0. 0. 0. 0. 1.]]\n"
     ]
    },
    {
     "data": {
      "text/plain": [
       "'get_dummies를 이용한 원핫인코딩(데이터프레임)\\n'"
      ]
     },
     "metadata": {},
     "output_type": "display_data"
    },
    {
     "data": {
      "text/html": [
       "<div>\n",
       "<style scoped>\n",
       "    .dataframe tbody tr th:only-of-type {\n",
       "        vertical-align: middle;\n",
       "    }\n",
       "\n",
       "    .dataframe tbody tr th {\n",
       "        vertical-align: top;\n",
       "    }\n",
       "\n",
       "    .dataframe thead th {\n",
       "        text-align: right;\n",
       "    }\n",
       "</style>\n",
       "<table border=\"1\" class=\"dataframe\">\n",
       "  <thead>\n",
       "    <tr style=\"text-align: right;\">\n",
       "      <th></th>\n",
       "      <th>1</th>\n",
       "      <th>2</th>\n",
       "      <th>3</th>\n",
       "      <th>9</th>\n",
       "    </tr>\n",
       "  </thead>\n",
       "  <tbody>\n",
       "    <tr>\n",
       "      <th>0</th>\n",
       "      <td>1</td>\n",
       "      <td>0</td>\n",
       "      <td>0</td>\n",
       "      <td>0</td>\n",
       "    </tr>\n",
       "    <tr>\n",
       "      <th>1</th>\n",
       "      <td>0</td>\n",
       "      <td>1</td>\n",
       "      <td>0</td>\n",
       "      <td>0</td>\n",
       "    </tr>\n",
       "    <tr>\n",
       "      <th>2</th>\n",
       "      <td>0</td>\n",
       "      <td>1</td>\n",
       "      <td>0</td>\n",
       "      <td>0</td>\n",
       "    </tr>\n",
       "    <tr>\n",
       "      <th>3</th>\n",
       "      <td>0</td>\n",
       "      <td>0</td>\n",
       "      <td>1</td>\n",
       "      <td>0</td>\n",
       "    </tr>\n",
       "    <tr>\n",
       "      <th>4</th>\n",
       "      <td>0</td>\n",
       "      <td>0</td>\n",
       "      <td>0</td>\n",
       "      <td>1</td>\n",
       "    </tr>\n",
       "  </tbody>\n",
       "</table>\n",
       "</div>"
      ],
      "text/plain": [
       "   1  2  3  9\n",
       "0  1  0  0  0\n",
       "1  0  1  0  0\n",
       "2  0  1  0  0\n",
       "3  0  0  1  0\n",
       "4  0  0  0  1"
      ]
     },
     "metadata": {},
     "output_type": "display_data"
    }
   ],
   "source": [
    "# 분류분석을 위한 원핫인코딩 방법\n",
    "data = np.array([1,2,2,3,9])\n",
    "print('원 데이터 :', data)\n",
    "categorical_one_hot = to_categorical(data) # 0이없는데도 0이생성 제일 큰수안에 빈수가있어도 생성\n",
    "print('to_categorical을 이용한 원 핫 인코딩(넘파이배열)\\n', categorical_one_hot)\n",
    "import pandas as pd\n",
    "display('get_dummies를 이용한 원핫인코딩(데이터프레임)\\n', pd.get_dummies(data))"
   ]
  },
  {
   "cell_type": "code",
   "execution_count": 7,
   "id": "8acedc90",
   "metadata": {},
   "outputs": [
    {
     "data": {
      "text/plain": [
       "(array([ 2,  4,  6,  8, 10, 12, 14, 16, 18,  2,  4,  6,  8, 10, 12, 14, 16,\n",
       "        18,  2,  4,  6,  8, 10, 12, 14, 16, 18,  2,  4,  6,  8, 10, 12, 14,\n",
       "        16, 18,  2,  4,  6,  8, 10, 12, 14, 16, 18,  2,  4,  6,  8, 10, 12,\n",
       "        14, 16, 18,  2,  4,  6,  8, 10, 12, 14, 16, 18,  2,  4,  6,  8, 10,\n",
       "        12, 14, 16, 18,  2,  4,  6,  8, 10, 12, 14, 16, 18,  2,  4,  6,  8,\n",
       "        10, 12, 14, 16, 18]),\n",
       " array([ 2,  4,  6,  8, 10, 12, 14, 16, 18]))"
      ]
     },
     "execution_count": 7,
     "metadata": {},
     "output_type": "execute_result"
    }
   ],
   "source": [
    "Y_train, Y_val"
   ]
  },
  {
   "cell_type": "code",
   "execution_count": 8,
   "id": "c8ad4fbc",
   "metadata": {},
   "outputs": [],
   "source": [
    "# 분류분석을 위해 종속변수(target변수)를 원핫인코딩\n",
    "Y_train = to_categorical(Y_train, 19)\n",
    "Y_val = to_categorical(Y_val)"
   ]
  },
  {
   "cell_type": "code",
   "execution_count": 9,
   "id": "fba57708",
   "metadata": {},
   "outputs": [
    {
     "data": {
      "text/plain": [
       "array([[0., 0., 1., 0., 0., 0., 0., 0., 0., 0., 0., 0., 0., 0., 0., 0.,\n",
       "        0., 0., 0.],\n",
       "       [0., 0., 0., 0., 1., 0., 0., 0., 0., 0., 0., 0., 0., 0., 0., 0.,\n",
       "        0., 0., 0.]], dtype=float32)"
      ]
     },
     "execution_count": 9,
     "metadata": {},
     "output_type": "execute_result"
    }
   ],
   "source": [
    "Y_train[:2]"
   ]
  },
  {
   "cell_type": "code",
   "execution_count": 12,
   "id": "a08bf982",
   "metadata": {},
   "outputs": [
    {
     "data": {
      "text/plain": [
       "((90,), (90, 19), (9,), (9, 19))"
      ]
     },
     "execution_count": 12,
     "metadata": {},
     "output_type": "execute_result"
    }
   ],
   "source": [
    "X_train.shape, Y_train.shape, X_val.shape, Y_val.shape"
   ]
  },
  {
   "cell_type": "code",
   "execution_count": 15,
   "id": "925467b9",
   "metadata": {},
   "outputs": [
    {
     "data": {
      "text/plain": [
       "array([1, 2])"
      ]
     },
     "execution_count": 15,
     "metadata": {},
     "output_type": "execute_result"
    }
   ],
   "source": [
    "X_train[:2]"
   ]
  },
  {
   "cell_type": "code",
   "execution_count": 16,
   "id": "98adcb5c",
   "metadata": {},
   "outputs": [
    {
     "data": {
      "text/plain": [
       "array([[0., 0., 1., 0., 0., 0., 0., 0., 0., 0., 0., 0., 0., 0., 0., 0.,\n",
       "        0., 0., 0.],\n",
       "       [0., 0., 0., 0., 1., 0., 0., 0., 0., 0., 0., 0., 0., 0., 0., 0.,\n",
       "        0., 0., 0.]], dtype=float32)"
      ]
     },
     "execution_count": 16,
     "metadata": {},
     "output_type": "execute_result"
    }
   ],
   "source": [
    "Y_train[:2]"
   ]
  },
  {
   "cell_type": "markdown",
   "id": "54604d9a",
   "metadata": {},
   "source": [
    "# 3. 모델 구성"
   ]
  },
  {
   "cell_type": "code",
   "execution_count": 18,
   "id": "d79c2d91",
   "metadata": {},
   "outputs": [
    {
     "name": "stdout",
     "output_type": "stream",
     "text": [
      "Model: \"sequential_1\"\n",
      "_________________________________________________________________\n",
      " Layer (type)                Output Shape              Param #   \n",
      "=================================================================\n",
      " dense (Dense)               (None, 38)                76        \n",
      "                                                                 \n",
      " dense_1 (Dense)             (None, 64)                2496      \n",
      "                                                                 \n",
      " dense_2 (Dense)             (None, 32)                2080      \n",
      "                                                                 \n",
      " dense_3 (Dense)             (None, 19)                627       \n",
      "                                                                 \n",
      "=================================================================\n",
      "Total params: 5,279\n",
      "Trainable params: 5,279\n",
      "Non-trainable params: 0\n",
      "_________________________________________________________________\n",
      "None\n"
     ]
    }
   ],
   "source": [
    "model = Sequential()\n",
    "model.add(Input(shape=(1,)))\n",
    "# Dense(출력, 입력)\n",
    "model.add(Dense(units=38, activation='sigmoid'))   # units : 출력갯수, activation(활성화함수)\n",
    "model.add(Dense(units=64, activation='elu'))       # units : 입력수는 2의n승 수\n",
    "model.add(Dense(units=32, activation='elu'))\n",
    "model.add(Dense(units=19, activation='softmax'))   #  activation='softmax' : 모든 출력의 합이 1\n",
    "# 분류분석의 마지막 layer 에서 activation 함수로 사용\n",
    "print(model.summary()) # 모델 파라미터 갯수 확인"
   ]
  },
  {
   "cell_type": "markdown",
   "id": "0ad1902d",
   "metadata": {},
   "source": [
    "# 4. 모델 학습과정 설정\n",
    "- 손실함수, 옵티마이저, 평가지표\n",
    "    * loss='categorical_crossentropy' : 딥러닝 훈련시 다중분류분석에서의 손실함수\n",
    "        - 모델의 예측 확률분호와 실제값의 확률 분포가 얼마나 다른지 계산\n",
    "    * metrics=['accuracy'] : 정확도"
   ]
  },
  {
   "cell_type": "code",
   "execution_count": 21,
   "id": "7767756c",
   "metadata": {},
   "outputs": [],
   "source": [
    "model.compile(loss='categorical_crossentropy', optimizer='adam', metrics=['accuracy'])"
   ]
  },
  {
   "cell_type": "markdown",
   "id": "a0456386",
   "metadata": {},
   "source": [
    "# 5. 모델 학습시키기"
   ]
  },
  {
   "cell_type": "code",
   "execution_count": 22,
   "id": "2b98c80a",
   "metadata": {},
   "outputs": [
    {
     "name": "stdout",
     "output_type": "stream",
     "text": [
      "Epoch 1/300\n",
      "9/9 - 1s - loss: 2.8416 - accuracy: 0.0889 - val_loss: 2.6672 - val_accuracy: 0.1111 - 1s/epoch - 114ms/step\n",
      "Epoch 2/300\n",
      "9/9 - 0s - loss: 2.5942 - accuracy: 0.2000 - val_loss: 2.4980 - val_accuracy: 0.2222 - 61ms/epoch - 7ms/step\n",
      "Epoch 3/300\n",
      "9/9 - 0s - loss: 2.4584 - accuracy: 0.1889 - val_loss: 2.3799 - val_accuracy: 0.1111 - 63ms/epoch - 7ms/step\n",
      "Epoch 4/300\n",
      "9/9 - 0s - loss: 2.3465 - accuracy: 0.2000 - val_loss: 2.2798 - val_accuracy: 0.2222 - 70ms/epoch - 8ms/step\n",
      "Epoch 5/300\n",
      "9/9 - 0s - loss: 2.2489 - accuracy: 0.2222 - val_loss: 2.1878 - val_accuracy: 0.3333 - 66ms/epoch - 7ms/step\n",
      "Epoch 6/300\n",
      "9/9 - 0s - loss: 2.1594 - accuracy: 0.3333 - val_loss: 2.1032 - val_accuracy: 0.3333 - 60ms/epoch - 7ms/step\n",
      "Epoch 7/300\n",
      "9/9 - 0s - loss: 2.0841 - accuracy: 0.2667 - val_loss: 2.0241 - val_accuracy: 0.2222 - 65ms/epoch - 7ms/step\n",
      "Epoch 8/300\n",
      "9/9 - 0s - loss: 1.9951 - accuracy: 0.2556 - val_loss: 1.9503 - val_accuracy: 0.2222 - 64ms/epoch - 7ms/step\n",
      "Epoch 9/300\n",
      "9/9 - 0s - loss: 1.9229 - accuracy: 0.3000 - val_loss: 1.8782 - val_accuracy: 0.3333 - 61ms/epoch - 7ms/step\n",
      "Epoch 10/300\n",
      "9/9 - 0s - loss: 1.8562 - accuracy: 0.3000 - val_loss: 1.8099 - val_accuracy: 0.3333 - 62ms/epoch - 7ms/step\n",
      "Epoch 11/300\n",
      "9/9 - 0s - loss: 1.7966 - accuracy: 0.3667 - val_loss: 1.7447 - val_accuracy: 0.4444 - 75ms/epoch - 8ms/step\n",
      "Epoch 12/300\n",
      "9/9 - 0s - loss: 1.7288 - accuracy: 0.3000 - val_loss: 1.6848 - val_accuracy: 0.3333 - 102ms/epoch - 11ms/step\n",
      "Epoch 13/300\n",
      "9/9 - 0s - loss: 1.6709 - accuracy: 0.3667 - val_loss: 1.6272 - val_accuracy: 0.3333 - 63ms/epoch - 7ms/step\n",
      "Epoch 14/300\n",
      "9/9 - 0s - loss: 1.6119 - accuracy: 0.3778 - val_loss: 1.5740 - val_accuracy: 0.4444 - 52ms/epoch - 6ms/step\n",
      "Epoch 15/300\n",
      "9/9 - 0s - loss: 1.5635 - accuracy: 0.4889 - val_loss: 1.5231 - val_accuracy: 0.4444 - 54ms/epoch - 6ms/step\n",
      "Epoch 16/300\n",
      "9/9 - 0s - loss: 1.5110 - accuracy: 0.4444 - val_loss: 1.4740 - val_accuracy: 0.4444 - 58ms/epoch - 6ms/step\n",
      "Epoch 17/300\n",
      "9/9 - 0s - loss: 1.4713 - accuracy: 0.4444 - val_loss: 1.4286 - val_accuracy: 0.4444 - 54ms/epoch - 6ms/step\n",
      "Epoch 18/300\n",
      "9/9 - 0s - loss: 1.4266 - accuracy: 0.5111 - val_loss: 1.3897 - val_accuracy: 0.4444 - 60ms/epoch - 7ms/step\n",
      "Epoch 19/300\n",
      "9/9 - 0s - loss: 1.3760 - accuracy: 0.4444 - val_loss: 1.3469 - val_accuracy: 0.5556 - 62ms/epoch - 7ms/step\n",
      "Epoch 20/300\n",
      "9/9 - 0s - loss: 1.3473 - accuracy: 0.5556 - val_loss: 1.3088 - val_accuracy: 0.6667 - 63ms/epoch - 7ms/step\n",
      "Epoch 21/300\n",
      "9/9 - 0s - loss: 1.3104 - accuracy: 0.6667 - val_loss: 1.2754 - val_accuracy: 0.6667 - 58ms/epoch - 6ms/step\n",
      "Epoch 22/300\n",
      "9/9 - 0s - loss: 1.2757 - accuracy: 0.6333 - val_loss: 1.2384 - val_accuracy: 0.5556 - 57ms/epoch - 6ms/step\n",
      "Epoch 23/300\n",
      "9/9 - 0s - loss: 1.2523 - accuracy: 0.5556 - val_loss: 1.2070 - val_accuracy: 0.5556 - 62ms/epoch - 7ms/step\n",
      "Epoch 24/300\n",
      "9/9 - 0s - loss: 1.2089 - accuracy: 0.6333 - val_loss: 1.1747 - val_accuracy: 0.6667 - 62ms/epoch - 7ms/step\n",
      "Epoch 25/300\n",
      "9/9 - 0s - loss: 1.1716 - accuracy: 0.6333 - val_loss: 1.1413 - val_accuracy: 0.7778 - 58ms/epoch - 6ms/step\n",
      "Epoch 26/300\n",
      "9/9 - 0s - loss: 1.1354 - accuracy: 0.7000 - val_loss: 1.1059 - val_accuracy: 0.6667 - 58ms/epoch - 6ms/step\n",
      "Epoch 27/300\n",
      "9/9 - 0s - loss: 1.0999 - accuracy: 0.7444 - val_loss: 1.0737 - val_accuracy: 0.7778 - 64ms/epoch - 7ms/step\n",
      "Epoch 28/300\n",
      "9/9 - 0s - loss: 1.0708 - accuracy: 0.7222 - val_loss: 1.0416 - val_accuracy: 0.7778 - 58ms/epoch - 6ms/step\n",
      "Epoch 29/300\n",
      "9/9 - 0s - loss: 1.0415 - accuracy: 0.8667 - val_loss: 1.0116 - val_accuracy: 0.8889 - 61ms/epoch - 7ms/step\n",
      "Epoch 30/300\n",
      "9/9 - 0s - loss: 1.0056 - accuracy: 0.8889 - val_loss: 0.9817 - val_accuracy: 0.8889 - 109ms/epoch - 12ms/step\n",
      "Epoch 31/300\n",
      "9/9 - 0s - loss: 0.9961 - accuracy: 0.8222 - val_loss: 0.9557 - val_accuracy: 0.8889 - 69ms/epoch - 8ms/step\n",
      "Epoch 32/300\n",
      "9/9 - 0s - loss: 0.9517 - accuracy: 0.8889 - val_loss: 0.9250 - val_accuracy: 0.8889 - 54ms/epoch - 6ms/step\n",
      "Epoch 33/300\n",
      "9/9 - 0s - loss: 0.9302 - accuracy: 0.9000 - val_loss: 0.9035 - val_accuracy: 0.8889 - 57ms/epoch - 6ms/step\n",
      "Epoch 34/300\n",
      "9/9 - 0s - loss: 0.9056 - accuracy: 0.9333 - val_loss: 0.8776 - val_accuracy: 0.8889 - 60ms/epoch - 7ms/step\n",
      "Epoch 35/300\n",
      "9/9 - 0s - loss: 0.8853 - accuracy: 0.8778 - val_loss: 0.8626 - val_accuracy: 0.7778 - 59ms/epoch - 7ms/step\n",
      "Epoch 36/300\n",
      "9/9 - 0s - loss: 0.8659 - accuracy: 0.8333 - val_loss: 0.8295 - val_accuracy: 1.0000 - 59ms/epoch - 7ms/step\n",
      "Epoch 37/300\n",
      "9/9 - 0s - loss: 0.8254 - accuracy: 1.0000 - val_loss: 0.8042 - val_accuracy: 1.0000 - 62ms/epoch - 7ms/step\n",
      "Epoch 38/300\n",
      "9/9 - 0s - loss: 0.8155 - accuracy: 1.0000 - val_loss: 0.7803 - val_accuracy: 1.0000 - 63ms/epoch - 7ms/step\n",
      "Epoch 39/300\n",
      "9/9 - 0s - loss: 0.7848 - accuracy: 0.9111 - val_loss: 0.7590 - val_accuracy: 0.8889 - 72ms/epoch - 8ms/step\n",
      "Epoch 40/300\n",
      "9/9 - 0s - loss: 0.7611 - accuracy: 0.9111 - val_loss: 0.7386 - val_accuracy: 0.8889 - 59ms/epoch - 7ms/step\n",
      "Epoch 41/300\n",
      "9/9 - 0s - loss: 0.7388 - accuracy: 0.9111 - val_loss: 0.7173 - val_accuracy: 1.0000 - 61ms/epoch - 7ms/step\n",
      "Epoch 42/300\n",
      "9/9 - 0s - loss: 0.7280 - accuracy: 0.9000 - val_loss: 0.6953 - val_accuracy: 1.0000 - 63ms/epoch - 7ms/step\n",
      "Epoch 43/300\n",
      "9/9 - 0s - loss: 0.7122 - accuracy: 1.0000 - val_loss: 0.6801 - val_accuracy: 1.0000 - 59ms/epoch - 7ms/step\n",
      "Epoch 44/300\n",
      "9/9 - 0s - loss: 0.6730 - accuracy: 0.9444 - val_loss: 0.6572 - val_accuracy: 1.0000 - 58ms/epoch - 6ms/step\n",
      "Epoch 45/300\n",
      "9/9 - 0s - loss: 0.6628 - accuracy: 0.9444 - val_loss: 0.6432 - val_accuracy: 1.0000 - 55ms/epoch - 6ms/step\n",
      "Epoch 46/300\n",
      "9/9 - 0s - loss: 0.6397 - accuracy: 1.0000 - val_loss: 0.6221 - val_accuracy: 1.0000 - 58ms/epoch - 6ms/step\n",
      "Epoch 47/300\n",
      "9/9 - 0s - loss: 0.6320 - accuracy: 1.0000 - val_loss: 0.6069 - val_accuracy: 1.0000 - 56ms/epoch - 6ms/step\n",
      "Epoch 48/300\n",
      "9/9 - 0s - loss: 0.6069 - accuracy: 1.0000 - val_loss: 0.5919 - val_accuracy: 1.0000 - 56ms/epoch - 6ms/step\n",
      "Epoch 49/300\n",
      "9/9 - 0s - loss: 0.5937 - accuracy: 1.0000 - val_loss: 0.5726 - val_accuracy: 1.0000 - 57ms/epoch - 6ms/step\n",
      "Epoch 50/300\n",
      "9/9 - 0s - loss: 0.5776 - accuracy: 0.9667 - val_loss: 0.5598 - val_accuracy: 0.8889 - 64ms/epoch - 7ms/step\n",
      "Epoch 51/300\n",
      "9/9 - 0s - loss: 0.5629 - accuracy: 0.9667 - val_loss: 0.5359 - val_accuracy: 1.0000 - 57ms/epoch - 6ms/step\n",
      "Epoch 52/300\n",
      "9/9 - 0s - loss: 0.5456 - accuracy: 0.9778 - val_loss: 0.5243 - val_accuracy: 1.0000 - 58ms/epoch - 6ms/step\n",
      "Epoch 53/300\n",
      "9/9 - 0s - loss: 0.5278 - accuracy: 1.0000 - val_loss: 0.5058 - val_accuracy: 1.0000 - 54ms/epoch - 6ms/step\n",
      "Epoch 54/300\n",
      "9/9 - 0s - loss: 0.5060 - accuracy: 1.0000 - val_loss: 0.4902 - val_accuracy: 1.0000 - 59ms/epoch - 7ms/step\n",
      "Epoch 55/300\n",
      "9/9 - 0s - loss: 0.4958 - accuracy: 1.0000 - val_loss: 0.4751 - val_accuracy: 1.0000 - 55ms/epoch - 6ms/step\n",
      "Epoch 56/300\n",
      "9/9 - 0s - loss: 0.4921 - accuracy: 1.0000 - val_loss: 0.4612 - val_accuracy: 1.0000 - 59ms/epoch - 7ms/step\n",
      "Epoch 57/300\n",
      "9/9 - 0s - loss: 0.4617 - accuracy: 1.0000 - val_loss: 0.4477 - val_accuracy: 1.0000 - 56ms/epoch - 6ms/step\n",
      "Epoch 58/300\n",
      "9/9 - 0s - loss: 0.4436 - accuracy: 1.0000 - val_loss: 0.4311 - val_accuracy: 1.0000 - 53ms/epoch - 6ms/step\n",
      "Epoch 59/300\n",
      "9/9 - 0s - loss: 0.4415 - accuracy: 1.0000 - val_loss: 0.4202 - val_accuracy: 1.0000 - 58ms/epoch - 6ms/step\n",
      "Epoch 60/300\n",
      "9/9 - 0s - loss: 0.4138 - accuracy: 1.0000 - val_loss: 0.4058 - val_accuracy: 1.0000 - 52ms/epoch - 6ms/step\n",
      "Epoch 61/300\n",
      "9/9 - 0s - loss: 0.4077 - accuracy: 1.0000 - val_loss: 0.3980 - val_accuracy: 1.0000 - 61ms/epoch - 7ms/step\n",
      "Epoch 62/300\n",
      "9/9 - 0s - loss: 0.3985 - accuracy: 1.0000 - val_loss: 0.3821 - val_accuracy: 1.0000 - 57ms/epoch - 6ms/step\n",
      "Epoch 63/300\n",
      "9/9 - 0s - loss: 0.3871 - accuracy: 1.0000 - val_loss: 0.3679 - val_accuracy: 1.0000 - 62ms/epoch - 7ms/step\n",
      "Epoch 64/300\n",
      "9/9 - 0s - loss: 0.3701 - accuracy: 1.0000 - val_loss: 0.3568 - val_accuracy: 1.0000 - 53ms/epoch - 6ms/step\n",
      "Epoch 65/300\n",
      "9/9 - 0s - loss: 0.3781 - accuracy: 0.9333 - val_loss: 0.3547 - val_accuracy: 1.0000 - 53ms/epoch - 6ms/step\n",
      "Epoch 66/300\n",
      "9/9 - 0s - loss: 0.3668 - accuracy: 1.0000 - val_loss: 0.3394 - val_accuracy: 1.0000 - 57ms/epoch - 6ms/step\n",
      "Epoch 67/300\n",
      "9/9 - 0s - loss: 0.3433 - accuracy: 1.0000 - val_loss: 0.3303 - val_accuracy: 1.0000 - 56ms/epoch - 6ms/step\n",
      "Epoch 68/300\n",
      "9/9 - 0s - loss: 0.3337 - accuracy: 1.0000 - val_loss: 0.3167 - val_accuracy: 1.0000 - 61ms/epoch - 7ms/step\n"
     ]
    },
    {
     "name": "stdout",
     "output_type": "stream",
     "text": [
      "Epoch 69/300\n",
      "9/9 - 0s - loss: 0.3231 - accuracy: 1.0000 - val_loss: 0.3062 - val_accuracy: 1.0000 - 60ms/epoch - 7ms/step\n",
      "Epoch 70/300\n",
      "9/9 - 0s - loss: 0.3024 - accuracy: 1.0000 - val_loss: 0.2938 - val_accuracy: 1.0000 - 56ms/epoch - 6ms/step\n",
      "Epoch 71/300\n",
      "9/9 - 0s - loss: 0.2970 - accuracy: 1.0000 - val_loss: 0.2831 - val_accuracy: 1.0000 - 54ms/epoch - 6ms/step\n",
      "Epoch 72/300\n",
      "9/9 - 0s - loss: 0.2834 - accuracy: 1.0000 - val_loss: 0.2737 - val_accuracy: 1.0000 - 54ms/epoch - 6ms/step\n",
      "Epoch 73/300\n",
      "9/9 - 0s - loss: 0.2950 - accuracy: 1.0000 - val_loss: 0.2696 - val_accuracy: 1.0000 - 55ms/epoch - 6ms/step\n",
      "Epoch 74/300\n",
      "9/9 - 0s - loss: 0.2732 - accuracy: 1.0000 - val_loss: 0.2681 - val_accuracy: 1.0000 - 56ms/epoch - 6ms/step\n",
      "Epoch 75/300\n",
      "9/9 - 0s - loss: 0.2618 - accuracy: 1.0000 - val_loss: 0.2531 - val_accuracy: 1.0000 - 60ms/epoch - 7ms/step\n",
      "Epoch 76/300\n",
      "9/9 - 0s - loss: 0.2507 - accuracy: 1.0000 - val_loss: 0.2363 - val_accuracy: 1.0000 - 56ms/epoch - 6ms/step\n",
      "Epoch 77/300\n",
      "9/9 - 0s - loss: 0.2382 - accuracy: 1.0000 - val_loss: 0.2275 - val_accuracy: 1.0000 - 52ms/epoch - 6ms/step\n",
      "Epoch 78/300\n",
      "9/9 - 0s - loss: 0.2309 - accuracy: 1.0000 - val_loss: 0.2210 - val_accuracy: 1.0000 - 51ms/epoch - 6ms/step\n",
      "Epoch 79/300\n",
      "9/9 - 0s - loss: 0.2233 - accuracy: 1.0000 - val_loss: 0.2115 - val_accuracy: 1.0000 - 56ms/epoch - 6ms/step\n",
      "Epoch 80/300\n",
      "9/9 - 0s - loss: 0.2155 - accuracy: 1.0000 - val_loss: 0.2040 - val_accuracy: 1.0000 - 51ms/epoch - 6ms/step\n",
      "Epoch 81/300\n",
      "9/9 - 0s - loss: 0.2072 - accuracy: 1.0000 - val_loss: 0.1970 - val_accuracy: 1.0000 - 58ms/epoch - 6ms/step\n",
      "Epoch 82/300\n",
      "9/9 - 0s - loss: 0.1995 - accuracy: 1.0000 - val_loss: 0.1913 - val_accuracy: 1.0000 - 58ms/epoch - 6ms/step\n",
      "Epoch 83/300\n",
      "9/9 - 0s - loss: 0.1919 - accuracy: 1.0000 - val_loss: 0.1849 - val_accuracy: 1.0000 - 56ms/epoch - 6ms/step\n",
      "Epoch 84/300\n",
      "9/9 - 0s - loss: 0.1870 - accuracy: 1.0000 - val_loss: 0.1763 - val_accuracy: 1.0000 - 58ms/epoch - 6ms/step\n",
      "Epoch 85/300\n",
      "9/9 - 0s - loss: 0.1807 - accuracy: 1.0000 - val_loss: 0.1721 - val_accuracy: 1.0000 - 55ms/epoch - 6ms/step\n",
      "Epoch 86/300\n",
      "9/9 - 0s - loss: 0.1733 - accuracy: 1.0000 - val_loss: 0.1659 - val_accuracy: 1.0000 - 56ms/epoch - 6ms/step\n",
      "Epoch 87/300\n",
      "9/9 - 0s - loss: 0.1775 - accuracy: 1.0000 - val_loss: 0.1626 - val_accuracy: 1.0000 - 55ms/epoch - 6ms/step\n",
      "Epoch 88/300\n",
      "9/9 - 0s - loss: 0.1703 - accuracy: 1.0000 - val_loss: 0.1591 - val_accuracy: 1.0000 - 115ms/epoch - 13ms/step\n",
      "Epoch 89/300\n",
      "9/9 - 0s - loss: 0.1528 - accuracy: 1.0000 - val_loss: 0.1491 - val_accuracy: 1.0000 - 54ms/epoch - 6ms/step\n",
      "Epoch 90/300\n",
      "9/9 - 0s - loss: 0.1514 - accuracy: 1.0000 - val_loss: 0.1424 - val_accuracy: 1.0000 - 57ms/epoch - 6ms/step\n",
      "Epoch 91/300\n",
      "9/9 - 0s - loss: 0.1434 - accuracy: 1.0000 - val_loss: 0.1361 - val_accuracy: 1.0000 - 55ms/epoch - 6ms/step\n",
      "Epoch 92/300\n",
      "9/9 - 0s - loss: 0.1365 - accuracy: 1.0000 - val_loss: 0.1317 - val_accuracy: 1.0000 - 56ms/epoch - 6ms/step\n",
      "Epoch 93/300\n",
      "9/9 - 0s - loss: 0.1339 - accuracy: 1.0000 - val_loss: 0.1269 - val_accuracy: 1.0000 - 55ms/epoch - 6ms/step\n",
      "Epoch 94/300\n",
      "9/9 - 0s - loss: 0.1279 - accuracy: 1.0000 - val_loss: 0.1224 - val_accuracy: 1.0000 - 54ms/epoch - 6ms/step\n",
      "Epoch 95/300\n",
      "9/9 - 0s - loss: 0.1242 - accuracy: 1.0000 - val_loss: 0.1176 - val_accuracy: 1.0000 - 56ms/epoch - 6ms/step\n",
      "Epoch 96/300\n",
      "9/9 - 0s - loss: 0.1208 - accuracy: 1.0000 - val_loss: 0.1154 - val_accuracy: 1.0000 - 58ms/epoch - 6ms/step\n",
      "Epoch 97/300\n",
      "9/9 - 0s - loss: 0.1120 - accuracy: 1.0000 - val_loss: 0.1109 - val_accuracy: 1.0000 - 56ms/epoch - 6ms/step\n",
      "Epoch 98/300\n",
      "9/9 - 0s - loss: 0.1154 - accuracy: 1.0000 - val_loss: 0.1056 - val_accuracy: 1.0000 - 58ms/epoch - 6ms/step\n",
      "Epoch 99/300\n",
      "9/9 - 0s - loss: 0.1106 - accuracy: 1.0000 - val_loss: 0.1065 - val_accuracy: 1.0000 - 54ms/epoch - 6ms/step\n",
      "Epoch 100/300\n",
      "9/9 - 0s - loss: 0.1061 - accuracy: 1.0000 - val_loss: 0.1008 - val_accuracy: 1.0000 - 59ms/epoch - 7ms/step\n",
      "Epoch 101/300\n",
      "9/9 - 0s - loss: 0.1031 - accuracy: 1.0000 - val_loss: 0.0961 - val_accuracy: 1.0000 - 56ms/epoch - 6ms/step\n",
      "Epoch 102/300\n",
      "9/9 - 0s - loss: 0.0969 - accuracy: 1.0000 - val_loss: 0.0931 - val_accuracy: 1.0000 - 59ms/epoch - 7ms/step\n",
      "Epoch 103/300\n",
      "9/9 - 0s - loss: 0.0933 - accuracy: 1.0000 - val_loss: 0.0881 - val_accuracy: 1.0000 - 56ms/epoch - 6ms/step\n",
      "Epoch 104/300\n",
      "9/9 - 0s - loss: 0.0873 - accuracy: 1.0000 - val_loss: 0.0859 - val_accuracy: 1.0000 - 57ms/epoch - 6ms/step\n",
      "Epoch 105/300\n",
      "9/9 - 0s - loss: 0.0861 - accuracy: 1.0000 - val_loss: 0.0817 - val_accuracy: 1.0000 - 58ms/epoch - 6ms/step\n",
      "Epoch 106/300\n",
      "9/9 - 0s - loss: 0.0823 - accuracy: 1.0000 - val_loss: 0.0797 - val_accuracy: 1.0000 - 57ms/epoch - 6ms/step\n",
      "Epoch 107/300\n",
      "9/9 - 0s - loss: 0.0802 - accuracy: 1.0000 - val_loss: 0.0767 - val_accuracy: 1.0000 - 57ms/epoch - 6ms/step\n",
      "Epoch 108/300\n",
      "9/9 - 0s - loss: 0.0765 - accuracy: 1.0000 - val_loss: 0.0740 - val_accuracy: 1.0000 - 55ms/epoch - 6ms/step\n",
      "Epoch 109/300\n",
      "9/9 - 0s - loss: 0.0738 - accuracy: 1.0000 - val_loss: 0.0717 - val_accuracy: 1.0000 - 56ms/epoch - 6ms/step\n",
      "Epoch 110/300\n",
      "9/9 - 0s - loss: 0.0727 - accuracy: 1.0000 - val_loss: 0.0692 - val_accuracy: 1.0000 - 55ms/epoch - 6ms/step\n",
      "Epoch 111/300\n",
      "9/9 - 0s - loss: 0.0712 - accuracy: 1.0000 - val_loss: 0.0678 - val_accuracy: 1.0000 - 53ms/epoch - 6ms/step\n",
      "Epoch 112/300\n",
      "9/9 - 0s - loss: 0.0670 - accuracy: 1.0000 - val_loss: 0.0650 - val_accuracy: 1.0000 - 65ms/epoch - 7ms/step\n",
      "Epoch 113/300\n",
      "9/9 - 0s - loss: 0.0654 - accuracy: 1.0000 - val_loss: 0.0627 - val_accuracy: 1.0000 - 53ms/epoch - 6ms/step\n",
      "Epoch 114/300\n",
      "9/9 - 0s - loss: 0.0624 - accuracy: 1.0000 - val_loss: 0.0605 - val_accuracy: 1.0000 - 55ms/epoch - 6ms/step\n",
      "Epoch 115/300\n",
      "9/9 - 0s - loss: 0.0612 - accuracy: 1.0000 - val_loss: 0.0585 - val_accuracy: 1.0000 - 54ms/epoch - 6ms/step\n",
      "Epoch 116/300\n",
      "9/9 - 0s - loss: 0.0590 - accuracy: 1.0000 - val_loss: 0.0567 - val_accuracy: 1.0000 - 57ms/epoch - 6ms/step\n",
      "Epoch 117/300\n",
      "9/9 - 0s - loss: 0.0574 - accuracy: 1.0000 - val_loss: 0.0552 - val_accuracy: 1.0000 - 55ms/epoch - 6ms/step\n",
      "Epoch 118/300\n",
      "9/9 - 0s - loss: 0.0548 - accuracy: 1.0000 - val_loss: 0.0532 - val_accuracy: 1.0000 - 57ms/epoch - 6ms/step\n",
      "Epoch 119/300\n",
      "9/9 - 0s - loss: 0.0535 - accuracy: 1.0000 - val_loss: 0.0523 - val_accuracy: 1.0000 - 54ms/epoch - 6ms/step\n",
      "Epoch 120/300\n",
      "9/9 - 0s - loss: 0.0516 - accuracy: 1.0000 - val_loss: 0.0499 - val_accuracy: 1.0000 - 54ms/epoch - 6ms/step\n",
      "Epoch 121/300\n",
      "9/9 - 0s - loss: 0.0502 - accuracy: 1.0000 - val_loss: 0.0483 - val_accuracy: 1.0000 - 56ms/epoch - 6ms/step\n",
      "Epoch 122/300\n",
      "9/9 - 0s - loss: 0.0487 - accuracy: 1.0000 - val_loss: 0.0471 - val_accuracy: 1.0000 - 53ms/epoch - 6ms/step\n",
      "Epoch 123/300\n",
      "9/9 - 0s - loss: 0.0488 - accuracy: 1.0000 - val_loss: 0.0458 - val_accuracy: 1.0000 - 56ms/epoch - 6ms/step\n",
      "Epoch 124/300\n",
      "9/9 - 0s - loss: 0.0458 - accuracy: 1.0000 - val_loss: 0.0444 - val_accuracy: 1.0000 - 55ms/epoch - 6ms/step\n",
      "Epoch 125/300\n",
      "9/9 - 0s - loss: 0.0443 - accuracy: 1.0000 - val_loss: 0.0426 - val_accuracy: 1.0000 - 53ms/epoch - 6ms/step\n",
      "Epoch 126/300\n",
      "9/9 - 0s - loss: 0.0427 - accuracy: 1.0000 - val_loss: 0.0415 - val_accuracy: 1.0000 - 57ms/epoch - 6ms/step\n",
      "Epoch 127/300\n",
      "9/9 - 0s - loss: 0.0414 - accuracy: 1.0000 - val_loss: 0.0401 - val_accuracy: 1.0000 - 52ms/epoch - 6ms/step\n",
      "Epoch 128/300\n",
      "9/9 - 0s - loss: 0.0403 - accuracy: 1.0000 - val_loss: 0.0389 - val_accuracy: 1.0000 - 56ms/epoch - 6ms/step\n",
      "Epoch 129/300\n",
      "9/9 - 0s - loss: 0.0391 - accuracy: 1.0000 - val_loss: 0.0379 - val_accuracy: 1.0000 - 54ms/epoch - 6ms/step\n",
      "Epoch 130/300\n",
      "9/9 - 0s - loss: 0.0383 - accuracy: 1.0000 - val_loss: 0.0369 - val_accuracy: 1.0000 - 56ms/epoch - 6ms/step\n",
      "Epoch 131/300\n",
      "9/9 - 0s - loss: 0.0367 - accuracy: 1.0000 - val_loss: 0.0356 - val_accuracy: 1.0000 - 55ms/epoch - 6ms/step\n",
      "Epoch 132/300\n",
      "9/9 - 0s - loss: 0.0357 - accuracy: 1.0000 - val_loss: 0.0347 - val_accuracy: 1.0000 - 55ms/epoch - 6ms/step\n",
      "Epoch 133/300\n",
      "9/9 - 0s - loss: 0.0347 - accuracy: 1.0000 - val_loss: 0.0338 - val_accuracy: 1.0000 - 55ms/epoch - 6ms/step\n",
      "Epoch 134/300\n",
      "9/9 - 0s - loss: 0.0340 - accuracy: 1.0000 - val_loss: 0.0329 - val_accuracy: 1.0000 - 58ms/epoch - 6ms/step\n",
      "Epoch 135/300\n",
      "9/9 - 0s - loss: 0.0331 - accuracy: 1.0000 - val_loss: 0.0320 - val_accuracy: 1.0000 - 54ms/epoch - 6ms/step\n"
     ]
    },
    {
     "name": "stdout",
     "output_type": "stream",
     "text": [
      "Epoch 136/300\n",
      "9/9 - 0s - loss: 0.0319 - accuracy: 1.0000 - val_loss: 0.0311 - val_accuracy: 1.0000 - 56ms/epoch - 6ms/step\n",
      "Epoch 137/300\n",
      "9/9 - 0s - loss: 0.0314 - accuracy: 1.0000 - val_loss: 0.0304 - val_accuracy: 1.0000 - 54ms/epoch - 6ms/step\n",
      "Epoch 138/300\n",
      "9/9 - 0s - loss: 0.0307 - accuracy: 1.0000 - val_loss: 0.0296 - val_accuracy: 1.0000 - 57ms/epoch - 6ms/step\n",
      "Epoch 139/300\n",
      "9/9 - 0s - loss: 0.0295 - accuracy: 1.0000 - val_loss: 0.0289 - val_accuracy: 1.0000 - 54ms/epoch - 6ms/step\n",
      "Epoch 140/300\n",
      "9/9 - 0s - loss: 0.0288 - accuracy: 1.0000 - val_loss: 0.0282 - val_accuracy: 1.0000 - 59ms/epoch - 7ms/step\n",
      "Epoch 141/300\n",
      "9/9 - 0s - loss: 0.0283 - accuracy: 1.0000 - val_loss: 0.0274 - val_accuracy: 1.0000 - 54ms/epoch - 6ms/step\n",
      "Epoch 142/300\n",
      "9/9 - 0s - loss: 0.0273 - accuracy: 1.0000 - val_loss: 0.0267 - val_accuracy: 1.0000 - 56ms/epoch - 6ms/step\n",
      "Epoch 143/300\n",
      "9/9 - 0s - loss: 0.0265 - accuracy: 1.0000 - val_loss: 0.0261 - val_accuracy: 1.0000 - 58ms/epoch - 6ms/step\n",
      "Epoch 144/300\n",
      "9/9 - 0s - loss: 0.0260 - accuracy: 1.0000 - val_loss: 0.0254 - val_accuracy: 1.0000 - 54ms/epoch - 6ms/step\n",
      "Epoch 145/300\n",
      "9/9 - 0s - loss: 0.0258 - accuracy: 1.0000 - val_loss: 0.0249 - val_accuracy: 1.0000 - 53ms/epoch - 6ms/step\n",
      "Epoch 146/300\n",
      "9/9 - 0s - loss: 0.0249 - accuracy: 1.0000 - val_loss: 0.0242 - val_accuracy: 1.0000 - 54ms/epoch - 6ms/step\n",
      "Epoch 147/300\n",
      "9/9 - 0s - loss: 0.0241 - accuracy: 1.0000 - val_loss: 0.0236 - val_accuracy: 1.0000 - 51ms/epoch - 6ms/step\n",
      "Epoch 148/300\n",
      "9/9 - 0s - loss: 0.0237 - accuracy: 1.0000 - val_loss: 0.0231 - val_accuracy: 1.0000 - 54ms/epoch - 6ms/step\n",
      "Epoch 149/300\n",
      "9/9 - 0s - loss: 0.0229 - accuracy: 1.0000 - val_loss: 0.0226 - val_accuracy: 1.0000 - 54ms/epoch - 6ms/step\n",
      "Epoch 150/300\n",
      "9/9 - 0s - loss: 0.0226 - accuracy: 1.0000 - val_loss: 0.0221 - val_accuracy: 1.0000 - 56ms/epoch - 6ms/step\n",
      "Epoch 151/300\n",
      "9/9 - 0s - loss: 0.0222 - accuracy: 1.0000 - val_loss: 0.0215 - val_accuracy: 1.0000 - 61ms/epoch - 7ms/step\n",
      "Epoch 152/300\n",
      "9/9 - 0s - loss: 0.0215 - accuracy: 1.0000 - val_loss: 0.0210 - val_accuracy: 1.0000 - 55ms/epoch - 6ms/step\n",
      "Epoch 153/300\n",
      "9/9 - 0s - loss: 0.0210 - accuracy: 1.0000 - val_loss: 0.0205 - val_accuracy: 1.0000 - 53ms/epoch - 6ms/step\n",
      "Epoch 154/300\n",
      "9/9 - 0s - loss: 0.0208 - accuracy: 1.0000 - val_loss: 0.0202 - val_accuracy: 1.0000 - 59ms/epoch - 7ms/step\n",
      "Epoch 155/300\n",
      "9/9 - 0s - loss: 0.0205 - accuracy: 1.0000 - val_loss: 0.0197 - val_accuracy: 1.0000 - 57ms/epoch - 6ms/step\n",
      "Epoch 156/300\n",
      "9/9 - 0s - loss: 0.0198 - accuracy: 1.0000 - val_loss: 0.0192 - val_accuracy: 1.0000 - 59ms/epoch - 7ms/step\n",
      "Epoch 157/300\n",
      "9/9 - 0s - loss: 0.0195 - accuracy: 1.0000 - val_loss: 0.0188 - val_accuracy: 1.0000 - 56ms/epoch - 6ms/step\n",
      "Epoch 158/300\n",
      "9/9 - 0s - loss: 0.0188 - accuracy: 1.0000 - val_loss: 0.0184 - val_accuracy: 1.0000 - 55ms/epoch - 6ms/step\n",
      "Epoch 159/300\n",
      "9/9 - 0s - loss: 0.0185 - accuracy: 1.0000 - val_loss: 0.0181 - val_accuracy: 1.0000 - 60ms/epoch - 7ms/step\n",
      "Epoch 160/300\n",
      "9/9 - 0s - loss: 0.0181 - accuracy: 1.0000 - val_loss: 0.0177 - val_accuracy: 1.0000 - 57ms/epoch - 6ms/step\n",
      "Epoch 161/300\n",
      "9/9 - 0s - loss: 0.0179 - accuracy: 1.0000 - val_loss: 0.0172 - val_accuracy: 1.0000 - 54ms/epoch - 6ms/step\n",
      "Epoch 162/300\n",
      "9/9 - 0s - loss: 0.0175 - accuracy: 1.0000 - val_loss: 0.0169 - val_accuracy: 1.0000 - 58ms/epoch - 6ms/step\n",
      "Epoch 163/300\n",
      "9/9 - 0s - loss: 0.0169 - accuracy: 1.0000 - val_loss: 0.0166 - val_accuracy: 1.0000 - 55ms/epoch - 6ms/step\n",
      "Epoch 164/300\n",
      "9/9 - 0s - loss: 0.0168 - accuracy: 1.0000 - val_loss: 0.0163 - val_accuracy: 1.0000 - 57ms/epoch - 6ms/step\n",
      "Epoch 165/300\n",
      "9/9 - 0s - loss: 0.0163 - accuracy: 1.0000 - val_loss: 0.0159 - val_accuracy: 1.0000 - 56ms/epoch - 6ms/step\n",
      "Epoch 166/300\n",
      "9/9 - 0s - loss: 0.0160 - accuracy: 1.0000 - val_loss: 0.0156 - val_accuracy: 1.0000 - 59ms/epoch - 7ms/step\n",
      "Epoch 167/300\n",
      "9/9 - 0s - loss: 0.0156 - accuracy: 1.0000 - val_loss: 0.0152 - val_accuracy: 1.0000 - 56ms/epoch - 6ms/step\n",
      "Epoch 168/300\n",
      "9/9 - 0s - loss: 0.0152 - accuracy: 1.0000 - val_loss: 0.0149 - val_accuracy: 1.0000 - 54ms/epoch - 6ms/step\n",
      "Epoch 169/300\n",
      "9/9 - 0s - loss: 0.0150 - accuracy: 1.0000 - val_loss: 0.0146 - val_accuracy: 1.0000 - 57ms/epoch - 6ms/step\n",
      "Epoch 170/300\n",
      "9/9 - 0s - loss: 0.0146 - accuracy: 1.0000 - val_loss: 0.0143 - val_accuracy: 1.0000 - 54ms/epoch - 6ms/step\n",
      "Epoch 171/300\n",
      "9/9 - 0s - loss: 0.0143 - accuracy: 1.0000 - val_loss: 0.0141 - val_accuracy: 1.0000 - 59ms/epoch - 7ms/step\n",
      "Epoch 172/300\n",
      "9/9 - 0s - loss: 0.0140 - accuracy: 1.0000 - val_loss: 0.0138 - val_accuracy: 1.0000 - 56ms/epoch - 6ms/step\n",
      "Epoch 173/300\n",
      "9/9 - 0s - loss: 0.0138 - accuracy: 1.0000 - val_loss: 0.0135 - val_accuracy: 1.0000 - 54ms/epoch - 6ms/step\n",
      "Epoch 174/300\n",
      "9/9 - 0s - loss: 0.0137 - accuracy: 1.0000 - val_loss: 0.0133 - val_accuracy: 1.0000 - 57ms/epoch - 6ms/step\n",
      "Epoch 175/300\n",
      "9/9 - 0s - loss: 0.0134 - accuracy: 1.0000 - val_loss: 0.0130 - val_accuracy: 1.0000 - 57ms/epoch - 6ms/step\n",
      "Epoch 176/300\n",
      "9/9 - 0s - loss: 0.0130 - accuracy: 1.0000 - val_loss: 0.0128 - val_accuracy: 1.0000 - 54ms/epoch - 6ms/step\n",
      "Epoch 177/300\n",
      "9/9 - 0s - loss: 0.0129 - accuracy: 1.0000 - val_loss: 0.0126 - val_accuracy: 1.0000 - 55ms/epoch - 6ms/step\n",
      "Epoch 178/300\n",
      "9/9 - 0s - loss: 0.0127 - accuracy: 1.0000 - val_loss: 0.0124 - val_accuracy: 1.0000 - 54ms/epoch - 6ms/step\n",
      "Epoch 179/300\n",
      "9/9 - 0s - loss: 0.0126 - accuracy: 1.0000 - val_loss: 0.0121 - val_accuracy: 1.0000 - 54ms/epoch - 6ms/step\n",
      "Epoch 180/300\n",
      "9/9 - 0s - loss: 0.0120 - accuracy: 1.0000 - val_loss: 0.0119 - val_accuracy: 1.0000 - 52ms/epoch - 6ms/step\n",
      "Epoch 181/300\n",
      "9/9 - 0s - loss: 0.0119 - accuracy: 1.0000 - val_loss: 0.0117 - val_accuracy: 1.0000 - 49ms/epoch - 5ms/step\n",
      "Epoch 182/300\n",
      "9/9 - 0s - loss: 0.0116 - accuracy: 1.0000 - val_loss: 0.0115 - val_accuracy: 1.0000 - 54ms/epoch - 6ms/step\n",
      "Epoch 183/300\n",
      "9/9 - 0s - loss: 0.0114 - accuracy: 1.0000 - val_loss: 0.0112 - val_accuracy: 1.0000 - 51ms/epoch - 6ms/step\n",
      "Epoch 184/300\n",
      "9/9 - 0s - loss: 0.0112 - accuracy: 1.0000 - val_loss: 0.0110 - val_accuracy: 1.0000 - 58ms/epoch - 6ms/step\n",
      "Epoch 185/300\n",
      "9/9 - 0s - loss: 0.0111 - accuracy: 1.0000 - val_loss: 0.0109 - val_accuracy: 1.0000 - 58ms/epoch - 6ms/step\n",
      "Epoch 186/300\n",
      "9/9 - 0s - loss: 0.0108 - accuracy: 1.0000 - val_loss: 0.0107 - val_accuracy: 1.0000 - 55ms/epoch - 6ms/step\n",
      "Epoch 187/300\n",
      "9/9 - 0s - loss: 0.0107 - accuracy: 1.0000 - val_loss: 0.0105 - val_accuracy: 1.0000 - 64ms/epoch - 7ms/step\n",
      "Epoch 188/300\n",
      "9/9 - 0s - loss: 0.0104 - accuracy: 1.0000 - val_loss: 0.0103 - val_accuracy: 1.0000 - 80ms/epoch - 9ms/step\n",
      "Epoch 189/300\n",
      "9/9 - 0s - loss: 0.0103 - accuracy: 1.0000 - val_loss: 0.0101 - val_accuracy: 1.0000 - 56ms/epoch - 6ms/step\n",
      "Epoch 190/300\n",
      "9/9 - 0s - loss: 0.0101 - accuracy: 1.0000 - val_loss: 0.0100 - val_accuracy: 1.0000 - 55ms/epoch - 6ms/step\n",
      "Epoch 191/300\n",
      "9/9 - 0s - loss: 0.0100 - accuracy: 1.0000 - val_loss: 0.0098 - val_accuracy: 1.0000 - 54ms/epoch - 6ms/step\n",
      "Epoch 192/300\n",
      "9/9 - 0s - loss: 0.0098 - accuracy: 1.0000 - val_loss: 0.0096 - val_accuracy: 1.0000 - 55ms/epoch - 6ms/step\n",
      "Epoch 193/300\n",
      "9/9 - 0s - loss: 0.0096 - accuracy: 1.0000 - val_loss: 0.0095 - val_accuracy: 1.0000 - 56ms/epoch - 6ms/step\n",
      "Epoch 194/300\n",
      "9/9 - 0s - loss: 0.0095 - accuracy: 1.0000 - val_loss: 0.0093 - val_accuracy: 1.0000 - 55ms/epoch - 6ms/step\n",
      "Epoch 195/300\n",
      "9/9 - 0s - loss: 0.0094 - accuracy: 1.0000 - val_loss: 0.0092 - val_accuracy: 1.0000 - 57ms/epoch - 6ms/step\n",
      "Epoch 196/300\n",
      "9/9 - 0s - loss: 0.0091 - accuracy: 1.0000 - val_loss: 0.0090 - val_accuracy: 1.0000 - 58ms/epoch - 6ms/step\n",
      "Epoch 197/300\n",
      "9/9 - 0s - loss: 0.0090 - accuracy: 1.0000 - val_loss: 0.0089 - val_accuracy: 1.0000 - 53ms/epoch - 6ms/step\n",
      "Epoch 198/300\n",
      "9/9 - 0s - loss: 0.0089 - accuracy: 1.0000 - val_loss: 0.0087 - val_accuracy: 1.0000 - 55ms/epoch - 6ms/step\n",
      "Epoch 199/300\n",
      "9/9 - 0s - loss: 0.0088 - accuracy: 1.0000 - val_loss: 0.0086 - val_accuracy: 1.0000 - 54ms/epoch - 6ms/step\n",
      "Epoch 200/300\n",
      "9/9 - 0s - loss: 0.0086 - accuracy: 1.0000 - val_loss: 0.0085 - val_accuracy: 1.0000 - 58ms/epoch - 6ms/step\n",
      "Epoch 201/300\n",
      "9/9 - 0s - loss: 0.0085 - accuracy: 1.0000 - val_loss: 0.0083 - val_accuracy: 1.0000 - 54ms/epoch - 6ms/step\n",
      "Epoch 202/300\n",
      "9/9 - 0s - loss: 0.0084 - accuracy: 1.0000 - val_loss: 0.0082 - val_accuracy: 1.0000 - 59ms/epoch - 7ms/step\n"
     ]
    },
    {
     "name": "stdout",
     "output_type": "stream",
     "text": [
      "Epoch 203/300\n",
      "9/9 - 0s - loss: 0.0082 - accuracy: 1.0000 - val_loss: 0.0081 - val_accuracy: 1.0000 - 59ms/epoch - 7ms/step\n",
      "Epoch 204/300\n",
      "9/9 - 0s - loss: 0.0081 - accuracy: 1.0000 - val_loss: 0.0079 - val_accuracy: 1.0000 - 61ms/epoch - 7ms/step\n",
      "Epoch 205/300\n",
      "9/9 - 0s - loss: 0.0079 - accuracy: 1.0000 - val_loss: 0.0078 - val_accuracy: 1.0000 - 60ms/epoch - 7ms/step\n",
      "Epoch 206/300\n",
      "9/9 - 0s - loss: 0.0079 - accuracy: 1.0000 - val_loss: 0.0077 - val_accuracy: 1.0000 - 57ms/epoch - 6ms/step\n",
      "Epoch 207/300\n",
      "9/9 - 0s - loss: 0.0077 - accuracy: 1.0000 - val_loss: 0.0076 - val_accuracy: 1.0000 - 58ms/epoch - 6ms/step\n",
      "Epoch 208/300\n",
      "9/9 - 0s - loss: 0.0076 - accuracy: 1.0000 - val_loss: 0.0075 - val_accuracy: 1.0000 - 59ms/epoch - 7ms/step\n",
      "Epoch 209/300\n",
      "9/9 - 0s - loss: 0.0075 - accuracy: 1.0000 - val_loss: 0.0074 - val_accuracy: 1.0000 - 58ms/epoch - 6ms/step\n",
      "Epoch 210/300\n",
      "9/9 - 0s - loss: 0.0073 - accuracy: 1.0000 - val_loss: 0.0072 - val_accuracy: 1.0000 - 55ms/epoch - 6ms/step\n",
      "Epoch 211/300\n",
      "9/9 - 0s - loss: 0.0072 - accuracy: 1.0000 - val_loss: 0.0071 - val_accuracy: 1.0000 - 55ms/epoch - 6ms/step\n",
      "Epoch 212/300\n",
      "9/9 - 0s - loss: 0.0071 - accuracy: 1.0000 - val_loss: 0.0070 - val_accuracy: 1.0000 - 56ms/epoch - 6ms/step\n",
      "Epoch 213/300\n",
      "9/9 - 0s - loss: 0.0070 - accuracy: 1.0000 - val_loss: 0.0069 - val_accuracy: 1.0000 - 54ms/epoch - 6ms/step\n",
      "Epoch 214/300\n",
      "9/9 - 0s - loss: 0.0069 - accuracy: 1.0000 - val_loss: 0.0068 - val_accuracy: 1.0000 - 52ms/epoch - 6ms/step\n",
      "Epoch 215/300\n",
      "9/9 - 0s - loss: 0.0068 - accuracy: 1.0000 - val_loss: 0.0067 - val_accuracy: 1.0000 - 54ms/epoch - 6ms/step\n",
      "Epoch 216/300\n",
      "9/9 - 0s - loss: 0.0067 - accuracy: 1.0000 - val_loss: 0.0066 - val_accuracy: 1.0000 - 52ms/epoch - 6ms/step\n",
      "Epoch 217/300\n",
      "9/9 - 0s - loss: 0.0066 - accuracy: 1.0000 - val_loss: 0.0065 - val_accuracy: 1.0000 - 54ms/epoch - 6ms/step\n",
      "Epoch 218/300\n",
      "9/9 - 0s - loss: 0.0065 - accuracy: 1.0000 - val_loss: 0.0064 - val_accuracy: 1.0000 - 56ms/epoch - 6ms/step\n",
      "Epoch 219/300\n",
      "9/9 - 0s - loss: 0.0065 - accuracy: 1.0000 - val_loss: 0.0064 - val_accuracy: 1.0000 - 54ms/epoch - 6ms/step\n",
      "Epoch 220/300\n",
      "9/9 - 0s - loss: 0.0063 - accuracy: 1.0000 - val_loss: 0.0063 - val_accuracy: 1.0000 - 53ms/epoch - 6ms/step\n",
      "Epoch 221/300\n",
      "9/9 - 0s - loss: 0.0063 - accuracy: 1.0000 - val_loss: 0.0062 - val_accuracy: 1.0000 - 56ms/epoch - 6ms/step\n",
      "Epoch 222/300\n",
      "9/9 - 0s - loss: 0.0062 - accuracy: 1.0000 - val_loss: 0.0061 - val_accuracy: 1.0000 - 54ms/epoch - 6ms/step\n",
      "Epoch 223/300\n",
      "9/9 - 0s - loss: 0.0061 - accuracy: 1.0000 - val_loss: 0.0060 - val_accuracy: 1.0000 - 59ms/epoch - 7ms/step\n",
      "Epoch 224/300\n",
      "9/9 - 0s - loss: 0.0060 - accuracy: 1.0000 - val_loss: 0.0059 - val_accuracy: 1.0000 - 57ms/epoch - 6ms/step\n",
      "Epoch 225/300\n",
      "9/9 - 0s - loss: 0.0059 - accuracy: 1.0000 - val_loss: 0.0058 - val_accuracy: 1.0000 - 56ms/epoch - 6ms/step\n",
      "Epoch 226/300\n",
      "9/9 - 0s - loss: 0.0058 - accuracy: 1.0000 - val_loss: 0.0057 - val_accuracy: 1.0000 - 58ms/epoch - 6ms/step\n",
      "Epoch 227/300\n",
      "9/9 - 0s - loss: 0.0058 - accuracy: 1.0000 - val_loss: 0.0057 - val_accuracy: 1.0000 - 55ms/epoch - 6ms/step\n",
      "Epoch 228/300\n",
      "9/9 - 0s - loss: 0.0056 - accuracy: 1.0000 - val_loss: 0.0056 - val_accuracy: 1.0000 - 56ms/epoch - 6ms/step\n",
      "Epoch 229/300\n",
      "9/9 - 0s - loss: 0.0056 - accuracy: 1.0000 - val_loss: 0.0055 - val_accuracy: 1.0000 - 55ms/epoch - 6ms/step\n",
      "Epoch 230/300\n",
      "9/9 - 0s - loss: 0.0055 - accuracy: 1.0000 - val_loss: 0.0054 - val_accuracy: 1.0000 - 53ms/epoch - 6ms/step\n",
      "Epoch 231/300\n",
      "9/9 - 0s - loss: 0.0054 - accuracy: 1.0000 - val_loss: 0.0054 - val_accuracy: 1.0000 - 55ms/epoch - 6ms/step\n",
      "Epoch 232/300\n",
      "9/9 - 0s - loss: 0.0054 - accuracy: 1.0000 - val_loss: 0.0053 - val_accuracy: 1.0000 - 57ms/epoch - 6ms/step\n",
      "Epoch 233/300\n",
      "9/9 - 0s - loss: 0.0053 - accuracy: 1.0000 - val_loss: 0.0052 - val_accuracy: 1.0000 - 56ms/epoch - 6ms/step\n",
      "Epoch 234/300\n",
      "9/9 - 0s - loss: 0.0052 - accuracy: 1.0000 - val_loss: 0.0051 - val_accuracy: 1.0000 - 54ms/epoch - 6ms/step\n",
      "Epoch 235/300\n",
      "9/9 - 0s - loss: 0.0052 - accuracy: 1.0000 - val_loss: 0.0051 - val_accuracy: 1.0000 - 54ms/epoch - 6ms/step\n",
      "Epoch 236/300\n",
      "9/9 - 0s - loss: 0.0051 - accuracy: 1.0000 - val_loss: 0.0050 - val_accuracy: 1.0000 - 55ms/epoch - 6ms/step\n",
      "Epoch 237/300\n",
      "9/9 - 0s - loss: 0.0050 - accuracy: 1.0000 - val_loss: 0.0050 - val_accuracy: 1.0000 - 56ms/epoch - 6ms/step\n",
      "Epoch 238/300\n",
      "9/9 - 0s - loss: 0.0049 - accuracy: 1.0000 - val_loss: 0.0049 - val_accuracy: 1.0000 - 59ms/epoch - 7ms/step\n",
      "Epoch 239/300\n",
      "9/9 - 0s - loss: 0.0049 - accuracy: 1.0000 - val_loss: 0.0048 - val_accuracy: 1.0000 - 60ms/epoch - 7ms/step\n",
      "Epoch 240/300\n",
      "9/9 - 0s - loss: 0.0048 - accuracy: 1.0000 - val_loss: 0.0048 - val_accuracy: 1.0000 - 56ms/epoch - 6ms/step\n",
      "Epoch 241/300\n",
      "9/9 - 0s - loss: 0.0048 - accuracy: 1.0000 - val_loss: 0.0047 - val_accuracy: 1.0000 - 58ms/epoch - 6ms/step\n",
      "Epoch 242/300\n",
      "9/9 - 0s - loss: 0.0047 - accuracy: 1.0000 - val_loss: 0.0046 - val_accuracy: 1.0000 - 52ms/epoch - 6ms/step\n",
      "Epoch 243/300\n",
      "9/9 - 0s - loss: 0.0046 - accuracy: 1.0000 - val_loss: 0.0046 - val_accuracy: 1.0000 - 58ms/epoch - 6ms/step\n",
      "Epoch 244/300\n",
      "9/9 - 0s - loss: 0.0046 - accuracy: 1.0000 - val_loss: 0.0045 - val_accuracy: 1.0000 - 55ms/epoch - 6ms/step\n",
      "Epoch 245/300\n",
      "9/9 - 0s - loss: 0.0045 - accuracy: 1.0000 - val_loss: 0.0045 - val_accuracy: 1.0000 - 54ms/epoch - 6ms/step\n",
      "Epoch 246/300\n",
      "9/9 - 0s - loss: 0.0045 - accuracy: 1.0000 - val_loss: 0.0044 - val_accuracy: 1.0000 - 54ms/epoch - 6ms/step\n",
      "Epoch 247/300\n",
      "9/9 - 0s - loss: 0.0044 - accuracy: 1.0000 - val_loss: 0.0044 - val_accuracy: 1.0000 - 54ms/epoch - 6ms/step\n",
      "Epoch 248/300\n",
      "9/9 - 0s - loss: 0.0044 - accuracy: 1.0000 - val_loss: 0.0043 - val_accuracy: 1.0000 - 53ms/epoch - 6ms/step\n",
      "Epoch 249/300\n",
      "9/9 - 0s - loss: 0.0043 - accuracy: 1.0000 - val_loss: 0.0042 - val_accuracy: 1.0000 - 53ms/epoch - 6ms/step\n",
      "Epoch 250/300\n",
      "9/9 - 0s - loss: 0.0043 - accuracy: 1.0000 - val_loss: 0.0042 - val_accuracy: 1.0000 - 53ms/epoch - 6ms/step\n",
      "Epoch 251/300\n",
      "9/9 - 0s - loss: 0.0042 - accuracy: 1.0000 - val_loss: 0.0041 - val_accuracy: 1.0000 - 57ms/epoch - 6ms/step\n",
      "Epoch 252/300\n",
      "9/9 - 0s - loss: 0.0042 - accuracy: 1.0000 - val_loss: 0.0041 - val_accuracy: 1.0000 - 82ms/epoch - 9ms/step\n",
      "Epoch 253/300\n",
      "9/9 - 0s - loss: 0.0041 - accuracy: 1.0000 - val_loss: 0.0040 - val_accuracy: 1.0000 - 55ms/epoch - 6ms/step\n",
      "Epoch 254/300\n",
      "9/9 - 0s - loss: 0.0041 - accuracy: 1.0000 - val_loss: 0.0040 - val_accuracy: 1.0000 - 57ms/epoch - 6ms/step\n",
      "Epoch 255/300\n",
      "9/9 - 0s - loss: 0.0040 - accuracy: 1.0000 - val_loss: 0.0039 - val_accuracy: 1.0000 - 55ms/epoch - 6ms/step\n",
      "Epoch 256/300\n",
      "9/9 - 0s - loss: 0.0040 - accuracy: 1.0000 - val_loss: 0.0039 - val_accuracy: 1.0000 - 55ms/epoch - 6ms/step\n",
      "Epoch 257/300\n",
      "9/9 - 0s - loss: 0.0039 - accuracy: 1.0000 - val_loss: 0.0039 - val_accuracy: 1.0000 - 54ms/epoch - 6ms/step\n",
      "Epoch 258/300\n",
      "9/9 - 0s - loss: 0.0039 - accuracy: 1.0000 - val_loss: 0.0038 - val_accuracy: 1.0000 - 56ms/epoch - 6ms/step\n",
      "Epoch 259/300\n",
      "9/9 - 0s - loss: 0.0038 - accuracy: 1.0000 - val_loss: 0.0038 - val_accuracy: 1.0000 - 83ms/epoch - 9ms/step\n",
      "Epoch 260/300\n",
      "9/9 - 0s - loss: 0.0038 - accuracy: 1.0000 - val_loss: 0.0037 - val_accuracy: 1.0000 - 55ms/epoch - 6ms/step\n",
      "Epoch 261/300\n",
      "9/9 - 0s - loss: 0.0037 - accuracy: 1.0000 - val_loss: 0.0037 - val_accuracy: 1.0000 - 53ms/epoch - 6ms/step\n",
      "Epoch 262/300\n",
      "9/9 - 0s - loss: 0.0037 - accuracy: 1.0000 - val_loss: 0.0036 - val_accuracy: 1.0000 - 53ms/epoch - 6ms/step\n",
      "Epoch 263/300\n",
      "9/9 - 0s - loss: 0.0036 - accuracy: 1.0000 - val_loss: 0.0036 - val_accuracy: 1.0000 - 58ms/epoch - 6ms/step\n",
      "Epoch 264/300\n",
      "9/9 - 0s - loss: 0.0036 - accuracy: 1.0000 - val_loss: 0.0035 - val_accuracy: 1.0000 - 56ms/epoch - 6ms/step\n",
      "Epoch 265/300\n",
      "9/9 - 0s - loss: 0.0035 - accuracy: 1.0000 - val_loss: 0.0035 - val_accuracy: 1.0000 - 57ms/epoch - 6ms/step\n",
      "Epoch 266/300\n",
      "9/9 - 0s - loss: 0.0035 - accuracy: 1.0000 - val_loss: 0.0035 - val_accuracy: 1.0000 - 56ms/epoch - 6ms/step\n",
      "Epoch 267/300\n",
      "9/9 - 0s - loss: 0.0035 - accuracy: 1.0000 - val_loss: 0.0034 - val_accuracy: 1.0000 - 57ms/epoch - 6ms/step\n",
      "Epoch 268/300\n",
      "9/9 - 0s - loss: 0.0034 - accuracy: 1.0000 - val_loss: 0.0034 - val_accuracy: 1.0000 - 56ms/epoch - 6ms/step\n",
      "Epoch 269/300\n",
      "9/9 - 0s - loss: 0.0034 - accuracy: 1.0000 - val_loss: 0.0033 - val_accuracy: 1.0000 - 54ms/epoch - 6ms/step\n"
     ]
    },
    {
     "name": "stdout",
     "output_type": "stream",
     "text": [
      "Epoch 270/300\n",
      "9/9 - 0s - loss: 0.0033 - accuracy: 1.0000 - val_loss: 0.0033 - val_accuracy: 1.0000 - 55ms/epoch - 6ms/step\n",
      "Epoch 271/300\n",
      "9/9 - 0s - loss: 0.0033 - accuracy: 1.0000 - val_loss: 0.0033 - val_accuracy: 1.0000 - 52ms/epoch - 6ms/step\n",
      "Epoch 272/300\n",
      "9/9 - 0s - loss: 0.0033 - accuracy: 1.0000 - val_loss: 0.0032 - val_accuracy: 1.0000 - 58ms/epoch - 6ms/step\n",
      "Epoch 273/300\n",
      "9/9 - 0s - loss: 0.0032 - accuracy: 1.0000 - val_loss: 0.0032 - val_accuracy: 1.0000 - 120ms/epoch - 13ms/step\n",
      "Epoch 274/300\n",
      "9/9 - 0s - loss: 0.0032 - accuracy: 1.0000 - val_loss: 0.0032 - val_accuracy: 1.0000 - 57ms/epoch - 6ms/step\n",
      "Epoch 275/300\n",
      "9/9 - 0s - loss: 0.0032 - accuracy: 1.0000 - val_loss: 0.0031 - val_accuracy: 1.0000 - 62ms/epoch - 7ms/step\n",
      "Epoch 276/300\n",
      "9/9 - 0s - loss: 0.0031 - accuracy: 1.0000 - val_loss: 0.0031 - val_accuracy: 1.0000 - 58ms/epoch - 6ms/step\n",
      "Epoch 277/300\n",
      "9/9 - 0s - loss: 0.0031 - accuracy: 1.0000 - val_loss: 0.0031 - val_accuracy: 1.0000 - 61ms/epoch - 7ms/step\n",
      "Epoch 278/300\n",
      "9/9 - 0s - loss: 0.0031 - accuracy: 1.0000 - val_loss: 0.0030 - val_accuracy: 1.0000 - 55ms/epoch - 6ms/step\n",
      "Epoch 279/300\n",
      "9/9 - 0s - loss: 0.0030 - accuracy: 1.0000 - val_loss: 0.0030 - val_accuracy: 1.0000 - 56ms/epoch - 6ms/step\n",
      "Epoch 280/300\n",
      "9/9 - 0s - loss: 0.0030 - accuracy: 1.0000 - val_loss: 0.0030 - val_accuracy: 1.0000 - 53ms/epoch - 6ms/step\n",
      "Epoch 281/300\n",
      "9/9 - 0s - loss: 0.0030 - accuracy: 1.0000 - val_loss: 0.0029 - val_accuracy: 1.0000 - 53ms/epoch - 6ms/step\n",
      "Epoch 282/300\n",
      "9/9 - 0s - loss: 0.0029 - accuracy: 1.0000 - val_loss: 0.0029 - val_accuracy: 1.0000 - 52ms/epoch - 6ms/step\n",
      "Epoch 283/300\n",
      "9/9 - 0s - loss: 0.0029 - accuracy: 1.0000 - val_loss: 0.0029 - val_accuracy: 1.0000 - 56ms/epoch - 6ms/step\n",
      "Epoch 284/300\n",
      "9/9 - 0s - loss: 0.0029 - accuracy: 1.0000 - val_loss: 0.0028 - val_accuracy: 1.0000 - 58ms/epoch - 6ms/step\n",
      "Epoch 285/300\n",
      "9/9 - 0s - loss: 0.0028 - accuracy: 1.0000 - val_loss: 0.0028 - val_accuracy: 1.0000 - 60ms/epoch - 7ms/step\n",
      "Epoch 286/300\n",
      "9/9 - 0s - loss: 0.0028 - accuracy: 1.0000 - val_loss: 0.0028 - val_accuracy: 1.0000 - 59ms/epoch - 7ms/step\n",
      "Epoch 287/300\n",
      "9/9 - 0s - loss: 0.0028 - accuracy: 1.0000 - val_loss: 0.0027 - val_accuracy: 1.0000 - 54ms/epoch - 6ms/step\n",
      "Epoch 288/300\n",
      "9/9 - 0s - loss: 0.0027 - accuracy: 1.0000 - val_loss: 0.0027 - val_accuracy: 1.0000 - 58ms/epoch - 6ms/step\n",
      "Epoch 289/300\n",
      "9/9 - 0s - loss: 0.0027 - accuracy: 1.0000 - val_loss: 0.0027 - val_accuracy: 1.0000 - 58ms/epoch - 6ms/step\n",
      "Epoch 290/300\n",
      "9/9 - 0s - loss: 0.0027 - accuracy: 1.0000 - val_loss: 0.0027 - val_accuracy: 1.0000 - 59ms/epoch - 7ms/step\n",
      "Epoch 291/300\n",
      "9/9 - 0s - loss: 0.0027 - accuracy: 1.0000 - val_loss: 0.0026 - val_accuracy: 1.0000 - 59ms/epoch - 7ms/step\n",
      "Epoch 292/300\n",
      "9/9 - 0s - loss: 0.0026 - accuracy: 1.0000 - val_loss: 0.0026 - val_accuracy: 1.0000 - 59ms/epoch - 7ms/step\n",
      "Epoch 293/300\n",
      "9/9 - 0s - loss: 0.0026 - accuracy: 1.0000 - val_loss: 0.0026 - val_accuracy: 1.0000 - 55ms/epoch - 6ms/step\n",
      "Epoch 294/300\n",
      "9/9 - 0s - loss: 0.0026 - accuracy: 1.0000 - val_loss: 0.0026 - val_accuracy: 1.0000 - 58ms/epoch - 6ms/step\n",
      "Epoch 295/300\n",
      "9/9 - 0s - loss: 0.0026 - accuracy: 1.0000 - val_loss: 0.0025 - val_accuracy: 1.0000 - 56ms/epoch - 6ms/step\n",
      "Epoch 296/300\n",
      "9/9 - 0s - loss: 0.0025 - accuracy: 1.0000 - val_loss: 0.0025 - val_accuracy: 1.0000 - 56ms/epoch - 6ms/step\n",
      "Epoch 297/300\n",
      "9/9 - 0s - loss: 0.0025 - accuracy: 1.0000 - val_loss: 0.0025 - val_accuracy: 1.0000 - 56ms/epoch - 6ms/step\n",
      "Epoch 298/300\n",
      "9/9 - 0s - loss: 0.0025 - accuracy: 1.0000 - val_loss: 0.0024 - val_accuracy: 1.0000 - 57ms/epoch - 6ms/step\n",
      "Epoch 299/300\n",
      "9/9 - 0s - loss: 0.0024 - accuracy: 1.0000 - val_loss: 0.0024 - val_accuracy: 1.0000 - 57ms/epoch - 6ms/step\n",
      "Epoch 300/300\n",
      "9/9 - 0s - loss: 0.0024 - accuracy: 1.0000 - val_loss: 0.0024 - val_accuracy: 1.0000 - 58ms/epoch - 6ms/step\n"
     ]
    }
   ],
   "source": [
    "hist = model.fit(X_train, Y_train, # 훈련(학습)데이터\n",
    "                 epochs=300, # 학습횟수\n",
    "                 batch_size=10, # 가중치를 조정하는 단위\n",
    "                verbose=2, # 0:출력없음, 1:진행상황만출력, 2:에포크별 로그메세지 출력\n",
    "                validation_data=(X_val, Y_val) # 검증 데이터셋\n",
    "                )"
   ]
  },
  {
   "cell_type": "markdown",
   "id": "f29a1098",
   "metadata": {},
   "source": [
    "# 6. 모델과정 평가하기\n",
    "    - 학습과정 중 loss와 평가지표(accuracy)살펴보기, evalate함수"
   ]
  },
  {
   "cell_type": "code",
   "execution_count": 23,
   "id": "e7842f0a",
   "metadata": {},
   "outputs": [
    {
     "data": {
      "text/plain": [
       "dict_keys(['loss', 'accuracy', 'val_loss', 'val_accuracy'])"
      ]
     },
     "execution_count": 23,
     "metadata": {},
     "output_type": "execute_result"
    }
   ],
   "source": [
    "hist.history.keys()"
   ]
  },
  {
   "cell_type": "code",
   "execution_count": 31,
   "id": "e0c00ede",
   "metadata": {},
   "outputs": [
    {
     "data": {
      "image/png": "[encoded data removed]",
      "text/plain": [
       "<Figure size 1000x300 with 2 Axes>"
      ]
     },
     "metadata": {},
     "output_type": "display_data"
    }
   ],
   "source": [
    "# 학습과정 중의 loss와 accuracy\n",
    "import matplotlib.pyplot as plt\n",
    "fig, loss_ax = plt.subplots(figsize=(10, 3))\n",
    "loss_ax.plot(hist.history['loss'],'y', label='train loss')\n",
    "loss_ax.plot(hist.history['val_loss'], 'r', label='val loss')\n",
    "acc_ax = loss_ax.twinx() # loss_ax와 x축을 공유하는 acc_ax 생성\n",
    "acc_ax.plot(hist.history['accuracy'], 'g', label='train accuracy')\n",
    "acc_ax.plot(hist.history['val_accuracy'], 'b', label='val accuracy')\n",
    "loss_ax.set_xlabel('epoch')\n",
    "loss_ax.set_ylabel('loss')\n",
    "acc_ax.set_ylabel('accuracy')\n",
    "loss_ax.legend(loc='center')\n",
    "acc_ax.legend(loc='center right')\n",
    "plt.show()"
   ]
  },
  {
   "cell_type": "code",
   "execution_count": 33,
   "id": "f942a884",
   "metadata": {},
   "outputs": [
    {
     "name": "stdout",
     "output_type": "stream",
     "text": [
      "3/3 [==============================] - 0s 4ms/step - loss: 0.0024 - accuracy: 1.0000\n"
     ]
    }
   ],
   "source": [
    "# 모델 평가하기\n",
    "score = model.evaluate(X_val, Y_val, batch_size=3)"
   ]
  },
  {
   "cell_type": "code",
   "execution_count": 34,
   "id": "fe5348fd",
   "metadata": {},
   "outputs": [
    {
     "data": {
      "text/plain": [
       "[0.0023922021500766277, 1.0]"
      ]
     },
     "execution_count": 34,
     "metadata": {},
     "output_type": "execute_result"
    }
   ],
   "source": [
    "score"
   ]
  },
  {
   "cell_type": "code",
   "execution_count": 36,
   "id": "f534a9da",
   "metadata": {},
   "outputs": [
    {
     "name": "stdout",
     "output_type": "stream",
     "text": [
      "평가된 loss값 : 0.0023922021500766277\n",
      "평가된 accuracy : 100.0 %\n"
     ]
    }
   ],
   "source": [
    "print('평가된 loss값 :', score[0])\n",
    "print('평가된 accuracy :', score[1]*100, '%')"
   ]
  },
  {
   "cell_type": "markdown",
   "id": "5b176bab",
   "metadata": {},
   "source": [
    "# 7. 모델 사용하기(모델을 사용해서 예측하기)"
   ]
  },
  {
   "cell_type": "code",
   "execution_count": 37,
   "id": "e00c0672",
   "metadata": {},
   "outputs": [
    {
     "name": "stdout",
     "output_type": "stream",
     "text": [
      "1/1 [==============================] - 0s 82ms/step\n"
     ]
    },
    {
     "data": {
      "text/plain": [
       "array([[2.9229225e-23, 3.5845818e-19, 5.0603978e-18, 2.5277920e-17,\n",
       "        1.3240271e-11, 1.8854338e-21, 1.0322084e-03, 1.2129570e-20,\n",
       "        9.9780327e-01, 3.2998538e-19, 1.1644477e-03, 6.4687863e-20,\n",
       "        3.3410070e-11, 5.4236364e-24, 8.0345323e-17, 6.2606235e-23,\n",
       "        4.3732048e-38, 4.1346473e-21, 0.0000000e+00]], dtype=float32)"
      ]
     },
     "execution_count": 37,
     "metadata": {},
     "output_type": "execute_result"
    }
   ],
   "source": [
    "H = model.predict(np.array([4]))\n",
    "H"
   ]
  },
  {
   "cell_type": "code",
   "execution_count": 38,
   "id": "466766d8",
   "metadata": {},
   "outputs": [
    {
     "name": "stdout",
     "output_type": "stream",
     "text": [
      "1/1 [==============================] - 0s 18ms/step\n"
     ]
    },
    {
     "data": {
      "text/plain": [
       "8"
      ]
     },
     "execution_count": 38,
     "metadata": {},
     "output_type": "execute_result"
    }
   ],
   "source": [
    "model.predict(np.array([4])).argmax()"
   ]
  },
  {
   "cell_type": "code",
   "execution_count": 39,
   "id": "e238e388",
   "metadata": {},
   "outputs": [
    {
     "data": {
      "text/plain": [
       "0.9978033"
      ]
     },
     "execution_count": 39,
     "metadata": {},
     "output_type": "execute_result"
    }
   ],
   "source": [
    "# 몇%의 확률로 분류되었는지\n",
    "H[0, H.argmax()]"
   ]
  },
  {
   "cell_type": "markdown",
   "id": "6fbae4c7",
   "metadata": {},
   "source": [
    "# 7. 모델 저장하기"
   ]
  },
  {
   "cell_type": "code",
   "execution_count": 40,
   "id": "5103a45c",
   "metadata": {},
   "outputs": [],
   "source": [
    "model.save('model/2_deep_begin.h5')"
   ]
  },
  {
   "cell_type": "code",
   "execution_count": 3,
   "id": "29524efd",
   "metadata": {},
   "outputs": [],
   "source": [
    "from tensorflow.keras.models import load_model\n",
    "import numpy as np\n",
    "model2 = load_model('model/2_deep_begin.h5')"
   ]
  },
  {
   "cell_type": "code",
   "execution_count": 4,
   "id": "907dc8b8",
   "metadata": {},
   "outputs": [
    {
     "name": "stdout",
     "output_type": "stream",
     "text": [
      "1/1 [==============================] - 0s 493ms/step\n"
     ]
    },
    {
     "data": {
      "text/plain": [
       "4"
      ]
     },
     "execution_count": 4,
     "metadata": {},
     "output_type": "execute_result"
    }
   ],
   "source": [
    "H = model2.predict(np.array([2]))\n",
    "H.argmax()"
   ]
  },
  {
   "cell_type": "code",
   "execution_count": 5,
   "id": "488104ab",
   "metadata": {},
   "outputs": [
    {
     "data": {
      "text/plain": [
       "0.99835974"
      ]
     },
     "execution_count": 5,
     "metadata": {},
     "output_type": "execute_result"
    }
   ],
   "source": [
    "# 몇%의 확률로 분류되었는지\n",
    "H[0, H.argmax()]"
   ]
  },
  {
   "cell_type": "code",
   "execution_count": 7,
   "id": "dc3618f1",
   "metadata": {},
   "outputs": [
    {
     "data": {
      "text/plain": [
       "[0.001, 0.998, 0.001]"
      ]
     },
     "execution_count": 7,
     "metadata": {},
     "output_type": "execute_result"
    }
   ],
   "source": [
    "H[0, [2, 4, 6]]\n",
    "# [round(val, 3) for val in H[0, [2,4,6]]] 퍼센트로 보기 쉽게 바꿀때"
   ]
  },
  {
   "cell_type": "code",
   "execution_count": null,
   "id": "79ee5bf5",
   "metadata": {},
   "outputs": [],
   "source": []
  }
 ],
 "metadata": {
  "kernelspec": {
   "display_name": "Python 3 (ipykernel)",
   "language": "python",
   "name": "python3"
  },
  "language_info": {
   "codemirror_mode": {
    "name": "ipython",
    "version": 3
   },
   "file_extension": ".py",
   "mimetype": "text/x-python",
   "name": "python",
   "nbconvert_exporter": "python",
   "pygments_lexer": "ipython3",
   "version": "3.10.9"
  },
  "toc": {
   "base_numbering": 1,
   "nav_menu": {},
   "number_sections": true,
   "sideBar": true,
   "skip_h1_title": false,
   "title_cell": "Table of Contents",
   "title_sidebar": "Contents",
   "toc_cell": false,
   "toc_position": {},
   "toc_section_display": true,
   "toc_window_display": false
  }
 },
 "nbformat": 4,
 "nbformat_minor": 5
}
