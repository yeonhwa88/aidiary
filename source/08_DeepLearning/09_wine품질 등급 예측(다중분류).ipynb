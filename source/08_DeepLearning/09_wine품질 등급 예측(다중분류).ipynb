{
 "cells": [
  {
   "cell_type": "code",
   "execution_count": 1,
   "id": "545fc6d0",
   "metadata": {
    "ExecuteTime": {
     "end_time": "2024-12-19T05:01:47.094940Z",
     "start_time": "2024-12-19T05:01:47.083262Z"
    }
   },
   "outputs": [
    {
     "data": {
      "text/html": [
       "\n",
       "<style>\n",
       "div.container{width:80% !important;}\n",
       "div.prompt {min-width:70px;}\n",
       "div#toc-header{margin-top:150px;}\n",
       "span.toc-item-num{display:none;}\n",
       "div.CodeMirror {font-family:Consolas}\n",
       "div.input {font-family:Consolas}\n",
       "</style>\n"
      ],
      "text/plain": [
       "<IPython.core.display.HTML object>"
      ]
     },
     "metadata": {},
     "output_type": "display_data"
    }
   ],
   "source": [
    "from IPython.display import display, HTML\n",
    "\n",
    "display(\n",
    "    HTML(\"\"\"\n",
    "<style>\n",
    "div.container{width:80% !important;}\n",
    "div.prompt {min-width:70px;}\n",
    "div#toc-header{margin-top:150px;}\n",
    "span.toc-item-num{display:none;}\n",
    "div.CodeMirror {font-family:Consolas}\n",
    "div.input {font-family:Consolas}\n",
    "</style>\n",
    "\"\"\"))"
   ]
  },
  {
   "cell_type": "code",
   "execution_count": 37,
   "id": "7ed0e5cb",
   "metadata": {
    "ExecuteTime": {
     "end_time": "2024-12-19T06:11:46.732803Z",
     "start_time": "2024-12-19T06:11:46.725805Z"
    }
   },
   "outputs": [],
   "source": [
    "import numpy as np\n",
    "import pandas as pd  # read_csv, get_dummies(원핫인코딩)\n",
    "from sklearn.preprocessing import StandardScaler, MinMaxScaler  # 스케일 조정\n",
    "from sklearn.model_selection import train_test_split  # 훈련셋과 시험셋 분리\n",
    "from tensorflow.keras.models import Sequential\n",
    "from tensorflow.keras.layers import Dense, Input, Dropout\n",
    "from tensorflow.keras.callbacks import EarlyStopping, Callback\n",
    "from tensorflow.keras.activations import relu, softmax  # activation='relu' 대신 사용\n",
    "from tensorflow.keras import metrics  # metrics=['accuracy']\n",
    "import matplotlib.pyplot as plt"
   ]
  },
  {
   "cell_type": "markdown",
   "id": "07dec830",
   "metadata": {},
   "source": [
    "- Red Wine 품질 등급 예측\n",
    "\n",
    "1. 데이터셋 확보 & 전처리 <br>\n",
    "    독립변수, 종속변수 분리 -> 독립변수 스케일조정(StandardScaler), 종속변수 원핫인코딩(get_dummies), 훈련셋과 테스트셋 분리(train_test_split)\n",
    "2. 모델 구성하기 (입력11, 출력6) layer층 4개\n",
    "3. 모델 학습 과정 설정 (다중분류에 맞는 설정)\n",
    "4. 모델 학습시키기 (callbacks-EarlyStopping 이용)\n",
    "5. 모델 평가하기 - 그래프, 평가(테스트셋), 교차표(crosstab)\n",
    "6. 모델 저장 및 모델 사용하기"
   ]
  },
  {
   "cell_type": "markdown",
   "id": "01faae88",
   "metadata": {
    "ExecuteTime": {
     "end_time": "2024-12-19T03:49:38.606562Z",
     "start_time": "2024-12-19T03:49:38.601563Z"
    }
   },
   "source": [
    "# 1. 데이터셋 확보 & 전처리\n",
    " - 독립변수, 종속변수 분리 -> 독립변수 스케일조정(StandardScaler), 종속변수 원핫인코딩(get_dummies), 훈련셋과 테스트셋 분리(train_test_split)"
   ]
  },
  {
   "cell_type": "code",
   "execution_count": 3,
   "id": "9692fe16",
   "metadata": {
    "ExecuteTime": {
     "end_time": "2024-12-19T05:01:54.229364Z",
     "start_time": "2024-12-19T05:01:54.209965Z"
    }
   },
   "outputs": [
    {
     "data": {
      "text/plain": [
       "array([5, 6, 7, 4, 8, 3], dtype=int64)"
      ]
     },
     "execution_count": 3,
     "metadata": {},
     "output_type": "execute_result"
    }
   ],
   "source": [
    "# np.loadtxt('data/winequality-red.csv', delimiter=';', skiprows=1)\n",
    "# np.genfromtxt('data/winequality-red.csv', delimiter=';', skip_header=1)\n",
    "\n",
    "redwine = pd.read_csv('data/winequality-red.csv', sep=';')\n",
    "redwine.quality.unique()"
   ]
  },
  {
   "cell_type": "code",
   "execution_count": 4,
   "id": "3f46f4fe",
   "metadata": {
    "ExecuteTime": {
     "end_time": "2024-12-19T05:01:54.262574Z",
     "start_time": "2024-12-19T05:01:54.233630Z"
    }
   },
   "outputs": [
    {
     "data": {
      "text/html": [
       "<div>\n",
       "<style scoped>\n",
       "    .dataframe tbody tr th:only-of-type {\n",
       "        vertical-align: middle;\n",
       "    }\n",
       "\n",
       "    .dataframe tbody tr th {\n",
       "        vertical-align: top;\n",
       "    }\n",
       "\n",
       "    .dataframe thead th {\n",
       "        text-align: right;\n",
       "    }\n",
       "</style>\n",
       "<table border=\"1\" class=\"dataframe\">\n",
       "  <thead>\n",
       "    <tr style=\"text-align: right;\">\n",
       "      <th></th>\n",
       "      <th>fixed acidity</th>\n",
       "      <th>volatile acidity</th>\n",
       "      <th>citric acid</th>\n",
       "      <th>residual sugar</th>\n",
       "      <th>chlorides</th>\n",
       "      <th>free sulfur dioxide</th>\n",
       "      <th>total sulfur dioxide</th>\n",
       "      <th>density</th>\n",
       "      <th>pH</th>\n",
       "      <th>sulphates</th>\n",
       "      <th>alcohol</th>\n",
       "      <th>quality</th>\n",
       "    </tr>\n",
       "  </thead>\n",
       "  <tbody>\n",
       "    <tr>\n",
       "      <th>0</th>\n",
       "      <td>7.4</td>\n",
       "      <td>0.70</td>\n",
       "      <td>0.00</td>\n",
       "      <td>1.9</td>\n",
       "      <td>0.076</td>\n",
       "      <td>11.0</td>\n",
       "      <td>34.0</td>\n",
       "      <td>0.9978</td>\n",
       "      <td>3.51</td>\n",
       "      <td>0.56</td>\n",
       "      <td>9.4</td>\n",
       "      <td>5</td>\n",
       "    </tr>\n",
       "    <tr>\n",
       "      <th>1</th>\n",
       "      <td>7.8</td>\n",
       "      <td>0.88</td>\n",
       "      <td>0.00</td>\n",
       "      <td>2.6</td>\n",
       "      <td>0.098</td>\n",
       "      <td>25.0</td>\n",
       "      <td>67.0</td>\n",
       "      <td>0.9968</td>\n",
       "      <td>3.20</td>\n",
       "      <td>0.68</td>\n",
       "      <td>9.8</td>\n",
       "      <td>5</td>\n",
       "    </tr>\n",
       "    <tr>\n",
       "      <th>2</th>\n",
       "      <td>7.8</td>\n",
       "      <td>0.76</td>\n",
       "      <td>0.04</td>\n",
       "      <td>2.3</td>\n",
       "      <td>0.092</td>\n",
       "      <td>15.0</td>\n",
       "      <td>54.0</td>\n",
       "      <td>0.9970</td>\n",
       "      <td>3.26</td>\n",
       "      <td>0.65</td>\n",
       "      <td>9.8</td>\n",
       "      <td>5</td>\n",
       "    </tr>\n",
       "    <tr>\n",
       "      <th>3</th>\n",
       "      <td>11.2</td>\n",
       "      <td>0.28</td>\n",
       "      <td>0.56</td>\n",
       "      <td>1.9</td>\n",
       "      <td>0.075</td>\n",
       "      <td>17.0</td>\n",
       "      <td>60.0</td>\n",
       "      <td>0.9980</td>\n",
       "      <td>3.16</td>\n",
       "      <td>0.58</td>\n",
       "      <td>9.8</td>\n",
       "      <td>6</td>\n",
       "    </tr>\n",
       "    <tr>\n",
       "      <th>4</th>\n",
       "      <td>7.4</td>\n",
       "      <td>0.70</td>\n",
       "      <td>0.00</td>\n",
       "      <td>1.9</td>\n",
       "      <td>0.076</td>\n",
       "      <td>11.0</td>\n",
       "      <td>34.0</td>\n",
       "      <td>0.9978</td>\n",
       "      <td>3.51</td>\n",
       "      <td>0.56</td>\n",
       "      <td>9.4</td>\n",
       "      <td>5</td>\n",
       "    </tr>\n",
       "  </tbody>\n",
       "</table>\n",
       "</div>"
      ],
      "text/plain": [
       "   fixed acidity  volatile acidity  citric acid  residual sugar  chlorides  \\\n",
       "0            7.4              0.70         0.00             1.9      0.076   \n",
       "1            7.8              0.88         0.00             2.6      0.098   \n",
       "2            7.8              0.76         0.04             2.3      0.092   \n",
       "3           11.2              0.28         0.56             1.9      0.075   \n",
       "4            7.4              0.70         0.00             1.9      0.076   \n",
       "\n",
       "   free sulfur dioxide  total sulfur dioxide  density    pH  sulphates  \\\n",
       "0                 11.0                  34.0   0.9978  3.51       0.56   \n",
       "1                 25.0                  67.0   0.9968  3.20       0.68   \n",
       "2                 15.0                  54.0   0.9970  3.26       0.65   \n",
       "3                 17.0                  60.0   0.9980  3.16       0.58   \n",
       "4                 11.0                  34.0   0.9978  3.51       0.56   \n",
       "\n",
       "   alcohol  quality  \n",
       "0      9.4        5  \n",
       "1      9.8        5  \n",
       "2      9.8        5  \n",
       "3      9.8        6  \n",
       "4      9.4        5  "
      ]
     },
     "execution_count": 4,
     "metadata": {},
     "output_type": "execute_result"
    }
   ],
   "source": [
    "redwine.head()"
   ]
  },
  {
   "cell_type": "code",
   "execution_count": 38,
   "id": "cf8722b9",
   "metadata": {
    "ExecuteTime": {
     "end_time": "2024-12-19T06:14:21.184172Z",
     "start_time": "2024-12-19T06:14:21.180175Z"
    }
   },
   "outputs": [],
   "source": [
    "# fixed acidity : 고정 산도\n",
    "# volatile acidity : 휘발성 산도\n",
    "# citric acid : 시트르산\n",
    "# residual sugar : 잔류 당분\n",
    "# chlorides : 염화물\n",
    "# free sulfur dioxide : 자유 이산화황\n",
    "# total sulfur dioxide : 총 이산화황\n",
    "# density : 밀도\n",
    "# pH\n",
    "# sulphates : 황산염\n",
    "# alcohol\n",
    "# quality : 0 ~ 10(높을 수록 좋은 품질)"
   ]
  },
  {
   "cell_type": "code",
   "execution_count": 5,
   "id": "fade79cf",
   "metadata": {
    "ExecuteTime": {
     "end_time": "2024-12-19T05:01:54.281850Z",
     "start_time": "2024-12-19T05:01:54.264220Z"
    }
   },
   "outputs": [
    {
     "name": "stdout",
     "output_type": "stream",
     "text": [
      "<class 'pandas.core.frame.DataFrame'>\n",
      "RangeIndex: 1599 entries, 0 to 1598\n",
      "Data columns (total 12 columns):\n",
      " #   Column                Non-Null Count  Dtype  \n",
      "---  ------                --------------  -----  \n",
      " 0   fixed acidity         1599 non-null   float64\n",
      " 1   volatile acidity      1599 non-null   float64\n",
      " 2   citric acid           1599 non-null   float64\n",
      " 3   residual sugar        1599 non-null   float64\n",
      " 4   chlorides             1599 non-null   float64\n",
      " 5   free sulfur dioxide   1599 non-null   float64\n",
      " 6   total sulfur dioxide  1599 non-null   float64\n",
      " 7   density               1599 non-null   float64\n",
      " 8   pH                    1599 non-null   float64\n",
      " 9   sulphates             1599 non-null   float64\n",
      " 10  alcohol               1599 non-null   float64\n",
      " 11  quality               1599 non-null   int64  \n",
      "dtypes: float64(11), int64(1)\n",
      "memory usage: 150.0 KB\n"
     ]
    }
   ],
   "source": [
    "redwine.info()\n",
    "# 결측치 없음"
   ]
  },
  {
   "cell_type": "code",
   "execution_count": 6,
   "id": "75e26d70",
   "metadata": {
    "ExecuteTime": {
     "end_time": "2024-12-19T05:01:54.293337Z",
     "start_time": "2024-12-19T05:01:54.284848Z"
    }
   },
   "outputs": [
    {
     "data": {
      "text/plain": [
       "((1599, 11), (1599, 1))"
      ]
     },
     "execution_count": 6,
     "metadata": {},
     "output_type": "execute_result"
    }
   ],
   "source": [
    "# 독립변수, 종속변수 분리\n",
    "X = redwine.iloc[:, :-1]\n",
    "Y = redwine.iloc[:, -1:]\n",
    "X.shape, Y.shape"
   ]
  },
  {
   "cell_type": "code",
   "execution_count": 39,
   "id": "fd7510a7",
   "metadata": {
    "ExecuteTime": {
     "end_time": "2024-12-19T06:14:51.671735Z",
     "start_time": "2024-12-19T06:14:51.666737Z"
    }
   },
   "outputs": [],
   "source": [
    "# X_redwine = redwine.iloc[:,:-1]\n",
    "# y_redwine = redwine.iloc[:,-1]\n",
    "# X_redwine.shape, y_redwine.shape"
   ]
  },
  {
   "cell_type": "code",
   "execution_count": 7,
   "id": "1ec7b1eb",
   "metadata": {
    "ExecuteTime": {
     "end_time": "2024-12-19T05:01:54.326273Z",
     "start_time": "2024-12-19T05:01:54.293337Z"
    }
   },
   "outputs": [
    {
     "name": "stdout",
     "output_type": "stream",
     "text": [
      "(1599, 11) (1599, 11)\n"
     ]
    },
    {
     "data": {
      "text/html": [
       "<div>\n",
       "<style scoped>\n",
       "    .dataframe tbody tr th:only-of-type {\n",
       "        vertical-align: middle;\n",
       "    }\n",
       "\n",
       "    .dataframe tbody tr th {\n",
       "        vertical-align: top;\n",
       "    }\n",
       "\n",
       "    .dataframe thead th {\n",
       "        text-align: right;\n",
       "    }\n",
       "</style>\n",
       "<table border=\"1\" class=\"dataframe\">\n",
       "  <thead>\n",
       "    <tr style=\"text-align: right;\">\n",
       "      <th></th>\n",
       "      <th>0</th>\n",
       "      <th>1</th>\n",
       "      <th>2</th>\n",
       "      <th>3</th>\n",
       "      <th>4</th>\n",
       "      <th>5</th>\n",
       "      <th>6</th>\n",
       "      <th>7</th>\n",
       "      <th>8</th>\n",
       "      <th>9</th>\n",
       "      <th>10</th>\n",
       "    </tr>\n",
       "  </thead>\n",
       "  <tbody>\n",
       "    <tr>\n",
       "      <th>0</th>\n",
       "      <td>0.247788</td>\n",
       "      <td>0.397260</td>\n",
       "      <td>0.00</td>\n",
       "      <td>0.068493</td>\n",
       "      <td>0.106845</td>\n",
       "      <td>0.140845</td>\n",
       "      <td>0.098940</td>\n",
       "      <td>0.567548</td>\n",
       "      <td>0.606299</td>\n",
       "      <td>0.137725</td>\n",
       "      <td>0.153846</td>\n",
       "    </tr>\n",
       "    <tr>\n",
       "      <th>1</th>\n",
       "      <td>0.283186</td>\n",
       "      <td>0.520548</td>\n",
       "      <td>0.00</td>\n",
       "      <td>0.116438</td>\n",
       "      <td>0.143573</td>\n",
       "      <td>0.338028</td>\n",
       "      <td>0.215548</td>\n",
       "      <td>0.494126</td>\n",
       "      <td>0.362205</td>\n",
       "      <td>0.209581</td>\n",
       "      <td>0.215385</td>\n",
       "    </tr>\n",
       "    <tr>\n",
       "      <th>2</th>\n",
       "      <td>0.283186</td>\n",
       "      <td>0.438356</td>\n",
       "      <td>0.04</td>\n",
       "      <td>0.095890</td>\n",
       "      <td>0.133556</td>\n",
       "      <td>0.197183</td>\n",
       "      <td>0.169611</td>\n",
       "      <td>0.508811</td>\n",
       "      <td>0.409449</td>\n",
       "      <td>0.191617</td>\n",
       "      <td>0.215385</td>\n",
       "    </tr>\n",
       "    <tr>\n",
       "      <th>3</th>\n",
       "      <td>0.584071</td>\n",
       "      <td>0.109589</td>\n",
       "      <td>0.56</td>\n",
       "      <td>0.068493</td>\n",
       "      <td>0.105175</td>\n",
       "      <td>0.225352</td>\n",
       "      <td>0.190813</td>\n",
       "      <td>0.582232</td>\n",
       "      <td>0.330709</td>\n",
       "      <td>0.149701</td>\n",
       "      <td>0.215385</td>\n",
       "    </tr>\n",
       "    <tr>\n",
       "      <th>4</th>\n",
       "      <td>0.247788</td>\n",
       "      <td>0.397260</td>\n",
       "      <td>0.00</td>\n",
       "      <td>0.068493</td>\n",
       "      <td>0.106845</td>\n",
       "      <td>0.140845</td>\n",
       "      <td>0.098940</td>\n",
       "      <td>0.567548</td>\n",
       "      <td>0.606299</td>\n",
       "      <td>0.137725</td>\n",
       "      <td>0.153846</td>\n",
       "    </tr>\n",
       "  </tbody>\n",
       "</table>\n",
       "</div>"
      ],
      "text/plain": [
       "         0         1     2         3         4         5         6         7   \\\n",
       "0  0.247788  0.397260  0.00  0.068493  0.106845  0.140845  0.098940  0.567548   \n",
       "1  0.283186  0.520548  0.00  0.116438  0.143573  0.338028  0.215548  0.494126   \n",
       "2  0.283186  0.438356  0.04  0.095890  0.133556  0.197183  0.169611  0.508811   \n",
       "3  0.584071  0.109589  0.56  0.068493  0.105175  0.225352  0.190813  0.582232   \n",
       "4  0.247788  0.397260  0.00  0.068493  0.106845  0.140845  0.098940  0.567548   \n",
       "\n",
       "         8         9         10  \n",
       "0  0.606299  0.137725  0.153846  \n",
       "1  0.362205  0.209581  0.215385  \n",
       "2  0.409449  0.191617  0.215385  \n",
       "3  0.330709  0.149701  0.215385  \n",
       "4  0.606299  0.137725  0.153846  "
      ]
     },
     "execution_count": 7,
     "metadata": {},
     "output_type": "execute_result"
    }
   ],
   "source": [
    "# 독립변수 스케일조정(StandardScaler)\n",
    "scaler = MinMaxScaler()\n",
    "scaled_X = pd.DataFrame(scaler.fit_transform(X))\n",
    "print(X.shape, scaled_X.shape)\n",
    "scaled_X.head()"
   ]
  },
  {
   "cell_type": "code",
   "execution_count": 40,
   "id": "1babeaae",
   "metadata": {
    "ExecuteTime": {
     "end_time": "2024-12-19T06:15:07.902275Z",
     "start_time": "2024-12-19T06:15:07.898275Z"
    }
   },
   "outputs": [],
   "source": [
    "# 독립변수 스케일조정(StandardScaler)\n",
    "# scaler = StandardScaler()\n",
    "# scaler.fit(X_redwine.to_numpy()) # values와 to_numpy() 동일\n",
    "# scaled_X_redwine = scaler.transform(X_redwine.values)\n",
    "# scaled_X_redwine[:2]"
   ]
  },
  {
   "cell_type": "code",
   "execution_count": 8,
   "id": "893cd1dc",
   "metadata": {
    "ExecuteTime": {
     "end_time": "2024-12-19T05:01:54.342261Z",
     "start_time": "2024-12-19T05:01:54.326635Z"
    }
   },
   "outputs": [
    {
     "data": {
      "text/plain": [
       "((1119, 11), (1119, 1), (480, 11), (480, 1))"
      ]
     },
     "execution_count": 8,
     "metadata": {},
     "output_type": "execute_result"
    }
   ],
   "source": [
    "# 훈련셋과 테스트셋 분리(train_test_split)\n",
    "X_train, X_test, Y_train, Y_test = train_test_split(scaled_X,\n",
    "                                                    Y,\n",
    "                                                    test_size=0.3,\n",
    "                                                    random_state=42)\n",
    "X_train.shape, Y_train.shape, X_test.shape, Y_test.shape"
   ]
  },
  {
   "cell_type": "code",
   "execution_count": 42,
   "id": "33a25c27",
   "metadata": {
    "ExecuteTime": {
     "end_time": "2024-12-19T06:15:31.358999Z",
     "start_time": "2024-12-19T06:15:31.355002Z"
    }
   },
   "outputs": [],
   "source": [
    "# 훈련셋과 테스트셋 분리(train_test_split) - 7:3분리\n",
    "# X_train, X_test, Y_train, Y_test = train_test_split(scaled_X_redwine, \n",
    "#                                 Y_redwine,\n",
    "#                                 test_size=0.3, \n",
    "#                                 random_state=1,\n",
    "#                                 stratify=Y_redwine) # 층화추출(등급별 7:3으로 추출)\n",
    "# print(X_train.shape, Y_train.shape, X_test.shape, Y_test.shape)"
   ]
  },
  {
   "cell_type": "code",
   "execution_count": 9,
   "id": "996c3c8a",
   "metadata": {
    "ExecuteTime": {
     "end_time": "2024-12-19T05:01:54.352372Z",
     "start_time": "2024-12-19T05:01:54.344376Z"
    }
   },
   "outputs": [
    {
     "name": "stdout",
     "output_type": "stream",
     "text": [
      "(1119, 6) (480, 6)\n"
     ]
    }
   ],
   "source": [
    "# 종속변수 원핫인코딩(get_dummies)\n",
    "Y_train = pd.get_dummies(Y_train['quality']).values\n",
    "Y_test = pd.get_dummies(Y_test['quality']).values\n",
    "print(Y_train.shape, Y_test.shape)\n"
   ]
  },
  {
   "cell_type": "code",
   "execution_count": 41,
   "id": "5676b0ca",
   "metadata": {
    "ExecuteTime": {
     "end_time": "2024-12-19T06:15:20.199307Z",
     "start_time": "2024-12-19T06:15:20.195310Z"
    }
   },
   "outputs": [],
   "source": [
    "# 종속변수 원핫인코딩(get_dummies)\n",
    "# Y_redwine = pd.get_dummies(y_redwine).to_numpy() \n",
    "# Y_redwine[:2]"
   ]
  },
  {
   "cell_type": "code",
   "execution_count": 10,
   "id": "a49e17dd",
   "metadata": {
    "ExecuteTime": {
     "end_time": "2024-12-19T05:01:54.362635Z",
     "start_time": "2024-12-19T05:01:54.353481Z"
    }
   },
   "outputs": [
    {
     "name": "stdout",
     "output_type": "stream",
     "text": [
      "[0 0 0 1 0 0]\n",
      "6\n"
     ]
    }
   ],
   "source": [
    "print(Y_train[3])\n",
    "print(Y_train[3].argmax() + 3)"
   ]
  },
  {
   "cell_type": "code",
   "execution_count": 43,
   "id": "abf50504",
   "metadata": {
    "ExecuteTime": {
     "end_time": "2024-12-19T06:15:38.629679Z",
     "start_time": "2024-12-19T06:15:38.626679Z"
    }
   },
   "outputs": [],
   "source": [
    "# 층화추출을 하면 등급별 7:3으로  shuffle 되서 추출\n",
    "# np.c_[pd.Series(Y_train.argmax(axis=1)).value_counts(),\n",
    "#       pd.Series(Y_test.argmax(axis=1)).value_counts()]"
   ]
  },
  {
   "cell_type": "markdown",
   "id": "9eb695d0",
   "metadata": {},
   "source": [
    "# 2. 모델 구성하기 (입력11, 출력6) layer층 4개"
   ]
  },
  {
   "cell_type": "code",
   "execution_count": 19,
   "id": "dc46b127",
   "metadata": {
    "ExecuteTime": {
     "end_time": "2024-12-19T05:11:54.099498Z",
     "start_time": "2024-12-19T05:11:53.989892Z"
    }
   },
   "outputs": [
    {
     "name": "stdout",
     "output_type": "stream",
     "text": [
      "Model: \"sequential_1\"\n",
      "_________________________________________________________________\n",
      " Layer (type)                Output Shape              Param #   \n",
      "=================================================================\n",
      " dropout_3 (Dropout)         (None, 11)                0         \n",
      "                                                                 \n",
      " dense_3 (Dense)             (None, 32)                384       \n",
      "                                                                 \n",
      " dropout_4 (Dropout)         (None, 32)                0         \n",
      "                                                                 \n",
      " dense_4 (Dense)             (None, 128)               4224      \n",
      "                                                                 \n",
      " dropout_5 (Dropout)         (None, 128)               0         \n",
      "                                                                 \n",
      " dense_5 (Dense)             (None, 64)                8256      \n",
      "                                                                 \n",
      " dropout_6 (Dropout)         (None, 64)                0         \n",
      "                                                                 \n",
      " dense_6 (Dense)             (None, 6)                 390       \n",
      "                                                                 \n",
      "=================================================================\n",
      "Total params: 13,254\n",
      "Trainable params: 13,254\n",
      "Non-trainable params: 0\n",
      "_________________________________________________________________\n",
      "None\n"
     ]
    }
   ],
   "source": [
    "model = Sequential()\n",
    "model.add(Input(shape=11, ))\n",
    "model.add(Dropout(0.1))\n",
    "model.add(Dense(units=32, activation='relu'))\n",
    "model.add(Dropout(0.1))\n",
    "model.add(Dense(units=128,  activation='relu'))\n",
    "model.add(Dropout(0.1))\n",
    "model.add(Dense(units=64,  activation='relu'))\n",
    "model.add(Dropout(0.1))\n",
    "model.add(Dense(units=6,   activation='softmax'))\n",
    "print(model.summary())"
   ]
  },
  {
   "cell_type": "code",
   "execution_count": 44,
   "id": "e25f22ba",
   "metadata": {
    "ExecuteTime": {
     "end_time": "2024-12-19T06:15:58.326019Z",
     "start_time": "2024-12-19T06:15:58.322015Z"
    }
   },
   "outputs": [],
   "source": [
    "# model = Sequential()\n",
    "# model.add(Input(11)) # 의미있는 레이어가 아니고 input_dim만 지정\n",
    "# model.add(Dense(units=32, activation=relu))\n",
    "# model.add(Dense(units=64, activation=relu))\n",
    "# model.add(Dropout(0.1))\n",
    "# model.add(Dense(units=16, activation=relu))\n",
    "# model.add(Dense(units=6, activation=softmax)) # 3 4 5 6 7 8 등급의 결과 합이 1\n",
    "# model.summary()"
   ]
  },
  {
   "cell_type": "markdown",
   "id": "6a35a938",
   "metadata": {},
   "source": [
    "# 3. 모델 학습 과정 설정 (다중분류에 맞는 설정)"
   ]
  },
  {
   "cell_type": "code",
   "execution_count": 20,
   "id": "214d9c82",
   "metadata": {
    "ExecuteTime": {
     "end_time": "2024-12-19T05:11:56.481726Z",
     "start_time": "2024-12-19T05:11:56.460860Z"
    }
   },
   "outputs": [],
   "source": [
    "model.compile(loss='categorical_crossentropy', optimizer='nadam', metrics=['accuracy'])"
   ]
  },
  {
   "cell_type": "markdown",
   "id": "bf44262d",
   "metadata": {},
   "source": [
    "# 4. 모델 학습시키기 (callbacks-EarlyStopping) 이용"
   ]
  },
  {
   "cell_type": "code",
   "execution_count": 21,
   "id": "3168dd43",
   "metadata": {
    "ExecuteTime": {
     "end_time": "2024-12-19T05:12:04.530973Z",
     "start_time": "2024-12-19T05:11:56.717240Z"
    }
   },
   "outputs": [
    {
     "name": "stdout",
     "output_type": "stream",
     "text": [
      "Epoch 1/1500\n",
      "4/4 [==============================] - 1s 84ms/step - loss: 1.7550 - accuracy: 0.3432 - val_loss: 1.7167 - val_accuracy: 0.4729\n",
      "Epoch 2/1500\n",
      "4/4 [==============================] - 0s 11ms/step - loss: 1.6790 - accuracy: 0.4397 - val_loss: 1.6273 - val_accuracy: 0.4750\n",
      "Epoch 3/1500\n",
      "4/4 [==============================] - 0s 16ms/step - loss: 1.5764 - accuracy: 0.4477 - val_loss: 1.5163 - val_accuracy: 0.4583\n",
      "Epoch 4/1500\n",
      "4/4 [==============================] - 0s 16ms/step - loss: 1.4578 - accuracy: 0.4441 - val_loss: 1.3971 - val_accuracy: 0.4563\n",
      "Epoch 5/1500\n",
      "4/4 [==============================] - 0s 17ms/step - loss: 1.3485 - accuracy: 0.4549 - val_loss: 1.2993 - val_accuracy: 0.4500\n",
      "Epoch 6/1500\n",
      "4/4 [==============================] - 0s 16ms/step - loss: 1.2736 - accuracy: 0.4576 - val_loss: 1.2355 - val_accuracy: 0.4604\n",
      "Epoch 7/1500\n",
      "4/4 [==============================] - 0s 17ms/step - loss: 1.2291 - accuracy: 0.4602 - val_loss: 1.1973 - val_accuracy: 0.4688\n",
      "Epoch 8/1500\n",
      "4/4 [==============================] - 0s 16ms/step - loss: 1.1967 - accuracy: 0.4772 - val_loss: 1.1687 - val_accuracy: 0.4771\n",
      "Epoch 9/1500\n",
      "4/4 [==============================] - 0s 18ms/step - loss: 1.1763 - accuracy: 0.4835 - val_loss: 1.1425 - val_accuracy: 0.5229\n",
      "Epoch 10/1500\n",
      "4/4 [==============================] - 0s 13ms/step - loss: 1.1463 - accuracy: 0.5031 - val_loss: 1.1217 - val_accuracy: 0.5167\n",
      "Epoch 11/1500\n",
      "4/4 [==============================] - 0s 14ms/step - loss: 1.1375 - accuracy: 0.5210 - val_loss: 1.0985 - val_accuracy: 0.5250\n",
      "Epoch 12/1500\n",
      "4/4 [==============================] - 0s 13ms/step - loss: 1.1102 - accuracy: 0.5326 - val_loss: 1.0807 - val_accuracy: 0.5271\n",
      "Epoch 13/1500\n",
      "4/4 [==============================] - 0s 13ms/step - loss: 1.1070 - accuracy: 0.5290 - val_loss: 1.0642 - val_accuracy: 0.5458\n",
      "Epoch 14/1500\n",
      "4/4 [==============================] - 0s 13ms/step - loss: 1.0969 - accuracy: 0.5380 - val_loss: 1.0523 - val_accuracy: 0.5479\n",
      "Epoch 15/1500\n",
      "4/4 [==============================] - 0s 15ms/step - loss: 1.0777 - accuracy: 0.5362 - val_loss: 1.0426 - val_accuracy: 0.5583\n",
      "Epoch 16/1500\n",
      "4/4 [==============================] - 0s 16ms/step - loss: 1.0791 - accuracy: 0.5416 - val_loss: 1.0355 - val_accuracy: 0.5667\n",
      "Epoch 17/1500\n",
      "4/4 [==============================] - 0s 16ms/step - loss: 1.0693 - accuracy: 0.5353 - val_loss: 1.0316 - val_accuracy: 0.5479\n",
      "Epoch 18/1500\n",
      "4/4 [==============================] - 0s 17ms/step - loss: 1.0704 - accuracy: 0.5550 - val_loss: 1.0274 - val_accuracy: 0.5500\n",
      "Epoch 19/1500\n",
      "4/4 [==============================] - 0s 16ms/step - loss: 1.0647 - accuracy: 0.5621 - val_loss: 1.0233 - val_accuracy: 0.5417\n",
      "Epoch 20/1500\n",
      "4/4 [==============================] - 0s 17ms/step - loss: 1.0695 - accuracy: 0.5478 - val_loss: 1.0244 - val_accuracy: 0.5396\n",
      "Epoch 21/1500\n",
      "4/4 [==============================] - 0s 17ms/step - loss: 1.0607 - accuracy: 0.5487 - val_loss: 1.0169 - val_accuracy: 0.5625\n",
      "Epoch 22/1500\n",
      "4/4 [==============================] - 0s 17ms/step - loss: 1.0736 - accuracy: 0.5612 - val_loss: 1.0186 - val_accuracy: 0.5479\n",
      "Epoch 23/1500\n",
      "4/4 [==============================] - 0s 17ms/step - loss: 1.0762 - accuracy: 0.5460 - val_loss: 1.0147 - val_accuracy: 0.5417\n",
      "Epoch 24/1500\n",
      "4/4 [==============================] - 0s 10ms/step - loss: 1.0705 - accuracy: 0.5505 - val_loss: 1.0175 - val_accuracy: 0.5417\n",
      "Epoch 25/1500\n",
      "4/4 [==============================] - 0s 16ms/step - loss: 1.0573 - accuracy: 0.5630 - val_loss: 1.0259 - val_accuracy: 0.5188\n",
      "Epoch 26/1500\n",
      "4/4 [==============================] - 0s 11ms/step - loss: 1.0717 - accuracy: 0.5657 - val_loss: 1.0107 - val_accuracy: 0.5375\n",
      "Epoch 27/1500\n",
      "4/4 [==============================] - 0s 11ms/step - loss: 1.0500 - accuracy: 0.5487 - val_loss: 1.0107 - val_accuracy: 0.5354\n",
      "Epoch 28/1500\n",
      "4/4 [==============================] - 0s 11ms/step - loss: 1.0560 - accuracy: 0.5737 - val_loss: 1.0196 - val_accuracy: 0.5188\n",
      "Epoch 29/1500\n",
      "4/4 [==============================] - 0s 10ms/step - loss: 1.0543 - accuracy: 0.5621 - val_loss: 1.0088 - val_accuracy: 0.5375\n",
      "Epoch 30/1500\n",
      "4/4 [==============================] - 0s 10ms/step - loss: 1.0638 - accuracy: 0.5398 - val_loss: 1.0094 - val_accuracy: 0.5396\n",
      "Epoch 31/1500\n",
      "4/4 [==============================] - 0s 10ms/step - loss: 1.0445 - accuracy: 0.5541 - val_loss: 1.0042 - val_accuracy: 0.5500\n",
      "Epoch 32/1500\n",
      "4/4 [==============================] - 0s 14ms/step - loss: 1.0393 - accuracy: 0.5648 - val_loss: 1.0084 - val_accuracy: 0.5437\n",
      "Epoch 33/1500\n",
      "4/4 [==============================] - 0s 12ms/step - loss: 1.0558 - accuracy: 0.5576 - val_loss: 1.0044 - val_accuracy: 0.5458\n",
      "Epoch 34/1500\n",
      "4/4 [==============================] - 0s 15ms/step - loss: 1.0416 - accuracy: 0.5496 - val_loss: 1.0061 - val_accuracy: 0.5417\n",
      "Epoch 35/1500\n",
      "4/4 [==============================] - 0s 15ms/step - loss: 1.0324 - accuracy: 0.5675 - val_loss: 1.0009 - val_accuracy: 0.5625\n",
      "Epoch 36/1500\n",
      "4/4 [==============================] - 0s 16ms/step - loss: 1.0264 - accuracy: 0.5550 - val_loss: 0.9995 - val_accuracy: 0.5417\n",
      "Epoch 37/1500\n",
      "4/4 [==============================] - 0s 17ms/step - loss: 1.0523 - accuracy: 0.5693 - val_loss: 1.0024 - val_accuracy: 0.5417\n",
      "Epoch 38/1500\n",
      "4/4 [==============================] - 0s 13ms/step - loss: 1.0543 - accuracy: 0.5514 - val_loss: 0.9992 - val_accuracy: 0.5667\n",
      "Epoch 39/1500\n",
      "4/4 [==============================] - 0s 12ms/step - loss: 1.0369 - accuracy: 0.5567 - val_loss: 0.9977 - val_accuracy: 0.5458\n",
      "Epoch 40/1500\n",
      "4/4 [==============================] - 0s 11ms/step - loss: 1.0292 - accuracy: 0.5737 - val_loss: 0.9951 - val_accuracy: 0.5562\n",
      "Epoch 41/1500\n",
      "4/4 [==============================] - 0s 12ms/step - loss: 1.0299 - accuracy: 0.5800 - val_loss: 0.9971 - val_accuracy: 0.5458\n",
      "Epoch 42/1500\n",
      "4/4 [==============================] - 0s 14ms/step - loss: 1.0498 - accuracy: 0.5737 - val_loss: 0.9953 - val_accuracy: 0.5688\n",
      "Epoch 43/1500\n",
      "4/4 [==============================] - 0s 14ms/step - loss: 1.0435 - accuracy: 0.5550 - val_loss: 0.9934 - val_accuracy: 0.5625\n",
      "Epoch 44/1500\n",
      "4/4 [==============================] - 0s 11ms/step - loss: 1.0237 - accuracy: 0.5666 - val_loss: 0.9919 - val_accuracy: 0.5458\n",
      "Epoch 45/1500\n",
      "4/4 [==============================] - 0s 11ms/step - loss: 1.0370 - accuracy: 0.5478 - val_loss: 0.9942 - val_accuracy: 0.5500\n",
      "Epoch 46/1500\n",
      "4/4 [==============================] - 0s 12ms/step - loss: 1.0285 - accuracy: 0.5630 - val_loss: 0.9882 - val_accuracy: 0.5562\n",
      "Epoch 47/1500\n",
      "4/4 [==============================] - 0s 12ms/step - loss: 1.0327 - accuracy: 0.5442 - val_loss: 0.9874 - val_accuracy: 0.5646\n",
      "Epoch 48/1500\n",
      "4/4 [==============================] - 0s 14ms/step - loss: 1.0237 - accuracy: 0.5800 - val_loss: 0.9874 - val_accuracy: 0.5521\n",
      "Epoch 49/1500\n",
      "4/4 [==============================] - 0s 12ms/step - loss: 1.0242 - accuracy: 0.5755 - val_loss: 0.9865 - val_accuracy: 0.5604\n",
      "Epoch 50/1500\n",
      "4/4 [==============================] - 0s 15ms/step - loss: 1.0294 - accuracy: 0.5478 - val_loss: 0.9848 - val_accuracy: 0.5562\n",
      "Epoch 51/1500\n",
      "4/4 [==============================] - 0s 13ms/step - loss: 1.0280 - accuracy: 0.5514 - val_loss: 0.9853 - val_accuracy: 0.5542\n",
      "Epoch 52/1500\n",
      "4/4 [==============================] - 0s 12ms/step - loss: 1.0274 - accuracy: 0.5782 - val_loss: 0.9884 - val_accuracy: 0.5396\n",
      "Epoch 53/1500\n",
      "4/4 [==============================] - 0s 12ms/step - loss: 1.0445 - accuracy: 0.5594 - val_loss: 0.9842 - val_accuracy: 0.5667\n",
      "Epoch 54/1500\n",
      "4/4 [==============================] - 0s 11ms/step - loss: 1.0197 - accuracy: 0.5737 - val_loss: 0.9845 - val_accuracy: 0.5500\n",
      "Epoch 55/1500\n",
      "4/4 [==============================] - 0s 17ms/step - loss: 1.0266 - accuracy: 0.5594 - val_loss: 0.9827 - val_accuracy: 0.5354\n",
      "Epoch 56/1500\n",
      "4/4 [==============================] - 0s 12ms/step - loss: 1.0285 - accuracy: 0.5675 - val_loss: 0.9835 - val_accuracy: 0.5437\n",
      "Epoch 57/1500\n",
      "4/4 [==============================] - 0s 10ms/step - loss: 1.0252 - accuracy: 0.5657 - val_loss: 0.9823 - val_accuracy: 0.5562\n",
      "Epoch 58/1500\n",
      "4/4 [==============================] - 0s 16ms/step - loss: 1.0338 - accuracy: 0.5585 - val_loss: 0.9852 - val_accuracy: 0.5500\n"
     ]
    },
    {
     "name": "stdout",
     "output_type": "stream",
     "text": [
      "Epoch 59/1500\n",
      "4/4 [==============================] - 0s 16ms/step - loss: 1.0076 - accuracy: 0.5809 - val_loss: 0.9829 - val_accuracy: 0.5583\n",
      "Epoch 60/1500\n",
      "4/4 [==============================] - 0s 16ms/step - loss: 1.0136 - accuracy: 0.5585 - val_loss: 0.9800 - val_accuracy: 0.5375\n",
      "Epoch 61/1500\n",
      "4/4 [==============================] - 0s 16ms/step - loss: 1.0017 - accuracy: 0.5845 - val_loss: 0.9781 - val_accuracy: 0.5375\n",
      "Epoch 62/1500\n",
      "4/4 [==============================] - 0s 16ms/step - loss: 1.0173 - accuracy: 0.5603 - val_loss: 0.9827 - val_accuracy: 0.5583\n",
      "Epoch 63/1500\n",
      "4/4 [==============================] - 0s 16ms/step - loss: 1.0159 - accuracy: 0.5728 - val_loss: 0.9803 - val_accuracy: 0.5542\n",
      "Epoch 64/1500\n",
      "4/4 [==============================] - 0s 16ms/step - loss: 1.0118 - accuracy: 0.5684 - val_loss: 0.9787 - val_accuracy: 0.5479\n",
      "Epoch 65/1500\n",
      "4/4 [==============================] - 0s 15ms/step - loss: 1.0050 - accuracy: 0.5684 - val_loss: 0.9787 - val_accuracy: 0.5417\n",
      "Epoch 66/1500\n",
      "4/4 [==============================] - 0s 15ms/step - loss: 1.0015 - accuracy: 0.5871 - val_loss: 0.9767 - val_accuracy: 0.5437\n",
      "Epoch 67/1500\n",
      "4/4 [==============================] - 0s 15ms/step - loss: 1.0048 - accuracy: 0.5666 - val_loss: 0.9743 - val_accuracy: 0.5583\n",
      "Epoch 68/1500\n",
      "4/4 [==============================] - 0s 16ms/step - loss: 1.0103 - accuracy: 0.5684 - val_loss: 0.9733 - val_accuracy: 0.5562\n",
      "Epoch 69/1500\n",
      "4/4 [==============================] - 0s 16ms/step - loss: 1.0056 - accuracy: 0.5809 - val_loss: 0.9750 - val_accuracy: 0.5375\n",
      "Epoch 70/1500\n",
      "4/4 [==============================] - 0s 16ms/step - loss: 1.0035 - accuracy: 0.5934 - val_loss: 0.9777 - val_accuracy: 0.5521\n",
      "Epoch 71/1500\n",
      "4/4 [==============================] - 0s 17ms/step - loss: 0.9966 - accuracy: 0.5943 - val_loss: 0.9738 - val_accuracy: 0.5458\n",
      "Epoch 72/1500\n",
      "4/4 [==============================] - 0s 13ms/step - loss: 0.9904 - accuracy: 0.5907 - val_loss: 0.9733 - val_accuracy: 0.5458\n",
      "Epoch 73/1500\n",
      "4/4 [==============================] - 0s 12ms/step - loss: 1.0129 - accuracy: 0.5746 - val_loss: 0.9805 - val_accuracy: 0.5458\n",
      "Epoch 74/1500\n",
      "4/4 [==============================] - 0s 12ms/step - loss: 0.9957 - accuracy: 0.5684 - val_loss: 0.9730 - val_accuracy: 0.5437\n",
      "Epoch 75/1500\n",
      "4/4 [==============================] - 0s 12ms/step - loss: 0.9950 - accuracy: 0.5737 - val_loss: 0.9734 - val_accuracy: 0.5437\n",
      "Epoch 76/1500\n",
      "4/4 [==============================] - 0s 16ms/step - loss: 1.0090 - accuracy: 0.5666 - val_loss: 0.9734 - val_accuracy: 0.5500\n",
      "Epoch 77/1500\n",
      "4/4 [==============================] - 0s 17ms/step - loss: 1.0028 - accuracy: 0.5800 - val_loss: 0.9728 - val_accuracy: 0.5604\n",
      "Epoch 78/1500\n",
      "4/4 [==============================] - 0s 13ms/step - loss: 1.0100 - accuracy: 0.5639 - val_loss: 0.9764 - val_accuracy: 0.5500\n",
      "Epoch 79/1500\n",
      "4/4 [==============================] - 0s 13ms/step - loss: 1.0202 - accuracy: 0.5505 - val_loss: 0.9727 - val_accuracy: 0.5500\n",
      "Epoch 80/1500\n",
      "4/4 [==============================] - 0s 14ms/step - loss: 0.9988 - accuracy: 0.5818 - val_loss: 0.9702 - val_accuracy: 0.5437\n",
      "Epoch 81/1500\n",
      "4/4 [==============================] - 0s 13ms/step - loss: 1.0064 - accuracy: 0.5791 - val_loss: 0.9725 - val_accuracy: 0.5500\n",
      "Epoch 82/1500\n",
      "4/4 [==============================] - 0s 15ms/step - loss: 1.0047 - accuracy: 0.5603 - val_loss: 0.9674 - val_accuracy: 0.5521\n",
      "Epoch 83/1500\n",
      "4/4 [==============================] - 0s 11ms/step - loss: 0.9847 - accuracy: 0.5791 - val_loss: 0.9700 - val_accuracy: 0.5604\n",
      "Epoch 84/1500\n",
      "4/4 [==============================] - 0s 12ms/step - loss: 1.0025 - accuracy: 0.5594 - val_loss: 0.9654 - val_accuracy: 0.5437\n",
      "Epoch 85/1500\n",
      "4/4 [==============================] - 0s 15ms/step - loss: 0.9969 - accuracy: 0.5755 - val_loss: 0.9671 - val_accuracy: 0.5521\n",
      "Epoch 86/1500\n",
      "4/4 [==============================] - 0s 18ms/step - loss: 0.9971 - accuracy: 0.5746 - val_loss: 0.9663 - val_accuracy: 0.5583\n",
      "Epoch 87/1500\n",
      "4/4 [==============================] - 0s 15ms/step - loss: 1.0077 - accuracy: 0.5764 - val_loss: 0.9691 - val_accuracy: 0.5521\n",
      "Epoch 88/1500\n",
      "4/4 [==============================] - 0s 15ms/step - loss: 0.9708 - accuracy: 0.5791 - val_loss: 0.9624 - val_accuracy: 0.5542\n",
      "Epoch 89/1500\n",
      "4/4 [==============================] - 0s 15ms/step - loss: 0.9931 - accuracy: 0.5773 - val_loss: 0.9705 - val_accuracy: 0.5500\n",
      "Epoch 90/1500\n",
      "4/4 [==============================] - 0s 14ms/step - loss: 1.0129 - accuracy: 0.5648 - val_loss: 0.9659 - val_accuracy: 0.5583\n",
      "Epoch 91/1500\n",
      "4/4 [==============================] - 0s 17ms/step - loss: 1.0072 - accuracy: 0.5880 - val_loss: 0.9641 - val_accuracy: 0.5542\n",
      "Epoch 92/1500\n",
      "4/4 [==============================] - 0s 14ms/step - loss: 0.9868 - accuracy: 0.5925 - val_loss: 0.9640 - val_accuracy: 0.5458\n",
      "Epoch 93/1500\n",
      "4/4 [==============================] - 0s 15ms/step - loss: 0.9960 - accuracy: 0.5773 - val_loss: 0.9628 - val_accuracy: 0.5458\n",
      "Epoch 94/1500\n",
      "4/4 [==============================] - 0s 14ms/step - loss: 1.0093 - accuracy: 0.5693 - val_loss: 0.9676 - val_accuracy: 0.5479\n",
      "Epoch 95/1500\n",
      "4/4 [==============================] - 0s 15ms/step - loss: 0.9975 - accuracy: 0.5871 - val_loss: 0.9626 - val_accuracy: 0.5417\n",
      "Epoch 96/1500\n",
      "4/4 [==============================] - 0s 13ms/step - loss: 0.9860 - accuracy: 0.5755 - val_loss: 0.9686 - val_accuracy: 0.5479\n",
      "Epoch 97/1500\n",
      "4/4 [==============================] - 0s 14ms/step - loss: 0.9835 - accuracy: 0.5880 - val_loss: 0.9610 - val_accuracy: 0.5604\n",
      "Epoch 98/1500\n",
      "4/4 [==============================] - 0s 12ms/step - loss: 0.9895 - accuracy: 0.5943 - val_loss: 0.9625 - val_accuracy: 0.5521\n",
      "Epoch 99/1500\n",
      "4/4 [==============================] - 0s 15ms/step - loss: 1.0033 - accuracy: 0.5702 - val_loss: 0.9597 - val_accuracy: 0.5458\n",
      "Epoch 100/1500\n",
      "4/4 [==============================] - 0s 15ms/step - loss: 0.9833 - accuracy: 0.5764 - val_loss: 0.9615 - val_accuracy: 0.5625\n",
      "Epoch 101/1500\n",
      "4/4 [==============================] - 0s 16ms/step - loss: 0.9946 - accuracy: 0.5737 - val_loss: 0.9587 - val_accuracy: 0.5542\n",
      "Epoch 102/1500\n",
      "4/4 [==============================] - 0s 17ms/step - loss: 0.9872 - accuracy: 0.5737 - val_loss: 0.9572 - val_accuracy: 0.5604\n",
      "Epoch 103/1500\n",
      "4/4 [==============================] - 0s 15ms/step - loss: 0.9828 - accuracy: 0.5827 - val_loss: 0.9580 - val_accuracy: 0.5542\n",
      "Epoch 104/1500\n",
      "4/4 [==============================] - 0s 17ms/step - loss: 0.9806 - accuracy: 0.5889 - val_loss: 0.9617 - val_accuracy: 0.5521\n",
      "Epoch 105/1500\n",
      "4/4 [==============================] - 0s 15ms/step - loss: 0.9930 - accuracy: 0.5684 - val_loss: 0.9578 - val_accuracy: 0.5521\n",
      "Epoch 106/1500\n",
      "4/4 [==============================] - 0s 18ms/step - loss: 0.9958 - accuracy: 0.5594 - val_loss: 0.9627 - val_accuracy: 0.5625\n",
      "Epoch 107/1500\n",
      "4/4 [==============================] - 0s 15ms/step - loss: 1.0041 - accuracy: 0.5648 - val_loss: 0.9583 - val_accuracy: 0.5562\n",
      "Epoch 108/1500\n",
      "4/4 [==============================] - 0s 15ms/step - loss: 0.9889 - accuracy: 0.5889 - val_loss: 0.9578 - val_accuracy: 0.5562\n",
      "Epoch 109/1500\n",
      "4/4 [==============================] - 0s 15ms/step - loss: 0.9758 - accuracy: 0.5746 - val_loss: 0.9531 - val_accuracy: 0.5521\n",
      "Epoch 110/1500\n",
      "4/4 [==============================] - 0s 16ms/step - loss: 0.9693 - accuracy: 0.5845 - val_loss: 0.9567 - val_accuracy: 0.5521\n",
      "Epoch 111/1500\n",
      "4/4 [==============================] - 0s 16ms/step - loss: 0.9955 - accuracy: 0.5737 - val_loss: 0.9535 - val_accuracy: 0.5562\n",
      "Epoch 112/1500\n",
      "4/4 [==============================] - 0s 15ms/step - loss: 0.9823 - accuracy: 0.5773 - val_loss: 0.9522 - val_accuracy: 0.5500\n",
      "Epoch 113/1500\n",
      "4/4 [==============================] - 0s 15ms/step - loss: 0.9792 - accuracy: 0.6005 - val_loss: 0.9518 - val_accuracy: 0.5542\n",
      "Epoch 114/1500\n",
      "4/4 [==============================] - 0s 15ms/step - loss: 0.9733 - accuracy: 0.6023 - val_loss: 0.9507 - val_accuracy: 0.5542\n",
      "Epoch 115/1500\n",
      "4/4 [==============================] - 0s 15ms/step - loss: 0.9895 - accuracy: 0.5880 - val_loss: 0.9545 - val_accuracy: 0.5583\n",
      "Epoch 116/1500\n",
      "4/4 [==============================] - 0s 16ms/step - loss: 0.9896 - accuracy: 0.5818 - val_loss: 0.9559 - val_accuracy: 0.5562\n",
      "Epoch 117/1500\n",
      "4/4 [==============================] - 0s 15ms/step - loss: 0.9851 - accuracy: 0.5719 - val_loss: 0.9559 - val_accuracy: 0.5521\n",
      "Epoch 118/1500\n",
      "4/4 [==============================] - 0s 15ms/step - loss: 0.9982 - accuracy: 0.5773 - val_loss: 0.9571 - val_accuracy: 0.5542\n",
      "Epoch 119/1500\n",
      "4/4 [==============================] - 0s 15ms/step - loss: 0.9700 - accuracy: 0.5800 - val_loss: 0.9542 - val_accuracy: 0.5562\n",
      "Epoch 120/1500\n",
      "4/4 [==============================] - 0s 14ms/step - loss: 0.9861 - accuracy: 0.5800 - val_loss: 0.9569 - val_accuracy: 0.5604\n",
      "Epoch 121/1500\n",
      "4/4 [==============================] - 0s 18ms/step - loss: 0.9667 - accuracy: 0.5889 - val_loss: 0.9570 - val_accuracy: 0.5562\n",
      "Epoch 122/1500\n",
      "4/4 [==============================] - 0s 16ms/step - loss: 0.9983 - accuracy: 0.5800 - val_loss: 0.9624 - val_accuracy: 0.5437\n",
      "Epoch 123/1500\n",
      "4/4 [==============================] - 0s 16ms/step - loss: 0.9838 - accuracy: 0.5710 - val_loss: 0.9574 - val_accuracy: 0.5562\n",
      "Epoch 124/1500\n",
      "4/4 [==============================] - 0s 15ms/step - loss: 0.9941 - accuracy: 0.5853 - val_loss: 0.9555 - val_accuracy: 0.5437\n"
     ]
    }
   ],
   "source": [
    "earlyStopping = EarlyStopping(patience=10)\n",
    "hist = model.fit(X_train, Y_train,\n",
    "                 epochs=1500,\n",
    "                 batch_size=300,\n",
    "                 validation_data=(X_test, Y_test),\n",
    "                 callbacks=[earlyStopping])"
   ]
  },
  {
   "cell_type": "code",
   "execution_count": 45,
   "id": "ceca88c3",
   "metadata": {
    "ExecuteTime": {
     "end_time": "2024-12-19T06:16:09.247549Z",
     "start_time": "2024-12-19T06:16:09.242903Z"
    }
   },
   "outputs": [],
   "source": [
    "# model.compile(loss=\"categorical_crossentropy\", optimizer=\"adam\", metrics=['accuracy'])\n",
    "\n",
    "# class CustomHistory(Callback): # on_epoch_end()는 각 에포크 종료시 자동 호출\n",
    "#     def __init__(self): # 생성자 함수\n",
    "#         self.epoch = 0\n",
    "#     def on_epoch_end(self, batch, logs={}):\n",
    "#         self.epoch += 1\n",
    "#         if self.epoch%5 ==0:\n",
    "#             print('epoch:{}, loss:{}, acc:{}, val_loss:{}, val_acc:{}'.\\\n",
    "#                  format(self.epoch, \n",
    "#                         logs.get('loss'), \n",
    "#                         logs.get('accuracy'),\n",
    "#                         logs.get('val_loss'),\n",
    "#                         logs.get('val_accuracy')\n",
    "#                        ))\n",
    "# customHistory = CustomHistory()\n",
    "# earlyStropping = EarlyStopping(patience=20)\n",
    "# hist = model.fit(X_train, Y_train, epochs=100, batch_size=200, \n",
    "#                  validation_split=0.2, \n",
    "#                  callbacks=[earlyStropping, \n",
    "#                            customHistory\n",
    "#                            ],\n",
    "#                 verbose=0)"
   ]
  },
  {
   "cell_type": "markdown",
   "id": "892c7362",
   "metadata": {},
   "source": [
    "# 5. 모델 평가하기 - 그래프, 평가(테스트셋), 교차표(crosstab)"
   ]
  },
  {
   "cell_type": "code",
   "execution_count": 46,
   "id": "b143f3a0",
   "metadata": {
    "ExecuteTime": {
     "end_time": "2024-12-19T06:16:24.826468Z",
     "start_time": "2024-12-19T06:16:24.442791Z"
    }
   },
   "outputs": [
    {
     "data": {
      "image/png": "[encoded data removed]",
      "text/plain": [
       "<Figure size 1000x500 with 2 Axes>"
      ]
     },
     "metadata": {},
     "output_type": "display_data"
    }
   ],
   "source": [
    "# 학습과정 표시하기(validation dataset 있는 경우)\n",
    "fig, loss_ax = plt.subplots(figsize=(10,5))\n",
    "loss_ax.plot(hist.history['loss'], 'r', label='train loss')\n",
    "loss_ax.plot(hist.history['val_loss'], 'y', label='validation loss')\n",
    "loss_ax.set_xlabel('epoch')\n",
    "loss_ax.set_ylabel('loss')\n",
    "acc_ax = loss_ax.twinx()\n",
    "acc_ax.plot(hist.history['accuracy'], 'b', label='train accuracy')\n",
    "acc_ax.plot(hist.history['val_accuracy'], 'g', label='validation accuracy')\n",
    "acc_ax.set_ylabel('accuracy')\n",
    "loss_ax.legend(loc='center right')\n",
    "acc_ax.legend(bbox_to_anchor=(0.999, 0.7))\n",
    "plt.show()"
   ]
  },
  {
   "cell_type": "code",
   "execution_count": 48,
   "id": "af2e8980",
   "metadata": {
    "ExecuteTime": {
     "end_time": "2024-12-19T06:16:43.086340Z",
     "start_time": "2024-12-19T06:16:43.082341Z"
    }
   },
   "outputs": [],
   "source": [
    "# 모델 평가하기\n",
    "# loss_and_acc = model.evaluate(X_test, Y_test, batch_size=32)\n",
    "# print('loss : ', loss_and_acc[0])\n",
    "# print('accuracy : ', loss_and_acc[1])"
   ]
  },
  {
   "cell_type": "code",
   "execution_count": 49,
   "id": "5142bbe4",
   "metadata": {
    "ExecuteTime": {
     "end_time": "2024-12-19T06:16:51.709457Z",
     "start_time": "2024-12-19T06:16:51.706456Z"
    }
   },
   "outputs": [],
   "source": [
    "# 7. 성능 지표(crosstab)\n",
    "# # pred = model.predict(X_test).argmax(axis=1)+3\n",
    "# pred = np.argmax(model.predict(X_test), axis=1)+3\n",
    "# # real = Y_test.argmax(axis=1) + 3\n",
    "# real = np.argmax(Y_test, axis=1) +3\n",
    "# cross_tab = pd.crosstab(real, pred)\n",
    "# cross_tab.index.name = \"real\"\n",
    "# cross_tab.columns.name = 'predict'\n",
    "# cross_tab"
   ]
  },
  {
   "cell_type": "code",
   "execution_count": 27,
   "id": "437f1f87",
   "metadata": {
    "ExecuteTime": {
     "end_time": "2024-12-19T05:18:16.154591Z",
     "start_time": "2024-12-19T05:18:16.146302Z"
    }
   },
   "outputs": [
    {
     "data": {
      "text/plain": [
       "array([6, 5, 6, 5, 6, 5, 5, 5, 5, 6, 7, 3, 5, 5, 6, 7, 5, 7, 8, 5, 5, 6,\n",
       "       5, 6, 6, 6, 7, 6, 5, 6, 5, 5, 6, 5, 6, 5, 7, 5, 4, 6, 5, 5, 7, 5,\n",
       "       5, 6, 7, 6, 5, 6, 5, 5, 5, 7, 6, 6, 6, 5, 5, 5, 5, 7, 5, 6, 6, 5,\n",
       "       6, 5, 6, 5, 6, 4, 6, 6, 6, 5, 8, 5, 6, 6, 5, 6, 5, 6, 6, 7, 5, 6,\n",
       "       7, 4, 7, 6, 5, 5, 5, 6, 5, 6, 5, 6, 5, 5, 5, 7, 6, 7, 6, 5, 6, 5,\n",
       "       8, 5, 6, 5, 6, 7, 6, 6, 5, 6, 6, 6, 6, 6, 6, 6, 7, 6, 5, 5, 6, 5,\n",
       "       5, 5, 6, 5, 5, 5, 5, 6, 7, 6, 8, 5, 5, 5, 6, 6, 6, 5, 6, 7, 6, 5,\n",
       "       6, 5, 5, 6, 6, 6, 7, 5, 7, 5, 5, 5, 6, 6, 5, 5, 6, 5, 7, 6, 7, 6,\n",
       "       6, 5, 5, 6, 4, 6, 5, 7, 5, 5, 4, 5, 7, 6, 5, 6, 6, 7, 6, 5, 5, 6,\n",
       "       5, 7, 5, 6, 6, 5, 7, 5, 5, 5, 6, 7, 7, 5, 5, 6, 6, 7, 6, 5, 6, 6,\n",
       "       6, 6, 6, 7, 4, 5, 5, 7, 5, 5, 5, 5, 6, 6, 5, 7, 5, 6, 6, 6, 5, 4,\n",
       "       6, 7, 6, 7, 5, 6, 6, 5, 5, 6, 5, 6, 4, 5, 6, 6, 5, 6, 6, 5, 5, 6,\n",
       "       7, 7, 6, 5, 6, 6, 5, 6, 5, 6, 5, 5, 5, 6, 6, 6, 7, 5, 5, 6, 5, 7,\n",
       "       5, 6, 4, 6, 6, 8, 6, 5, 5, 6, 5, 7, 6, 6, 5, 5, 7, 6, 6, 5, 6, 6,\n",
       "       5, 7, 6, 6, 6, 6, 5, 6, 5, 5, 6, 4, 6, 6, 6, 5, 5, 5, 6, 6, 6, 6,\n",
       "       4, 7, 6, 6, 6, 5, 6, 7, 5, 5, 6, 7, 5, 5, 6, 5, 6, 5, 6, 5, 5, 6,\n",
       "       5, 6, 6, 6, 5, 6, 4, 5, 4, 5, 5, 6, 5, 6, 6, 5, 5, 5, 5, 5, 6, 5,\n",
       "       6, 6, 6, 5, 5, 6, 5, 5, 6, 6, 6, 7, 6, 5, 5, 6, 6, 5, 5, 6, 7, 6,\n",
       "       5, 6, 5, 7, 5, 5, 7, 5, 6, 7, 7, 6, 6, 5, 6, 6, 7, 6, 5, 7, 6, 6,\n",
       "       6, 5, 5, 5, 5, 5, 6, 5, 5, 5, 7, 6, 7, 6, 4, 5, 7, 5, 5, 5, 6, 6,\n",
       "       6, 6, 6, 5, 6, 5, 6, 5, 6, 6, 7, 4, 6, 5, 6, 6, 7, 5, 7, 5, 5, 6,\n",
       "       5, 5, 6, 5, 6, 5, 5, 6, 6, 4, 5, 6, 5, 7, 8, 6, 7, 4], dtype=int64)"
      ]
     },
     "execution_count": 27,
     "metadata": {},
     "output_type": "execute_result"
    }
   ],
   "source": [
    "Y_test.argmax(axis=1) + 3"
   ]
  },
  {
   "cell_type": "code",
   "execution_count": 28,
   "id": "97672817",
   "metadata": {
    "ExecuteTime": {
     "end_time": "2024-12-19T05:18:16.416796Z",
     "start_time": "2024-12-19T05:18:16.285146Z"
    }
   },
   "outputs": [
    {
     "name": "stdout",
     "output_type": "stream",
     "text": [
      "15/15 [==============================] - 0s 1ms/step\n"
     ]
    },
    {
     "data": {
      "text/plain": [
       "array([5, 5, 6, 5, 6, 5, 5, 5, 6, 6, 6, 5, 6, 5, 5, 7, 5, 5, 7, 5, 5, 5,\n",
       "       6, 7, 5, 5, 6, 5, 5, 6, 5, 5, 6, 5, 6, 5, 6, 6, 5, 6, 5, 5, 6, 5,\n",
       "       6, 6, 6, 5, 5, 6, 5, 5, 6, 6, 5, 5, 6, 5, 6, 5, 5, 6, 5, 5, 7, 5,\n",
       "       7, 5, 7, 5, 7, 5, 6, 6, 6, 5, 7, 6, 6, 6, 5, 7, 5, 6, 6, 6, 5, 6,\n",
       "       6, 5, 6, 5, 6, 6, 5, 6, 5, 6, 5, 6, 5, 5, 6, 6, 6, 6, 6, 5, 6, 5,\n",
       "       7, 5, 6, 5, 6, 6, 6, 5, 5, 6, 7, 5, 6, 5, 5, 5, 6, 6, 5, 6, 6, 5,\n",
       "       5, 7, 6, 5, 5, 5, 5, 6, 6, 6, 6, 6, 6, 5, 6, 5, 6, 5, 6, 6, 5, 6,\n",
       "       6, 6, 5, 6, 5, 6, 6, 5, 6, 5, 5, 6, 5, 5, 5, 5, 5, 5, 6, 5, 5, 6,\n",
       "       6, 5, 5, 5, 5, 6, 5, 7, 5, 7, 5, 6, 7, 5, 6, 6, 5, 7, 6, 5, 5, 5,\n",
       "       6, 6, 5, 5, 5, 5, 7, 6, 5, 5, 6, 6, 6, 5, 6, 6, 7, 6, 5, 5, 6, 5,\n",
       "       5, 6, 7, 6, 5, 5, 5, 7, 5, 5, 5, 5, 7, 6, 6, 6, 5, 6, 5, 5, 6, 5,\n",
       "       6, 6, 5, 5, 6, 5, 7, 5, 5, 5, 5, 5, 5, 5, 5, 6, 6, 7, 6, 6, 5, 7,\n",
       "       6, 6, 5, 5, 6, 7, 5, 6, 5, 5, 5, 5, 5, 6, 6, 5, 7, 5, 6, 5, 5, 6,\n",
       "       5, 6, 5, 6, 5, 7, 5, 5, 5, 6, 5, 6, 6, 7, 5, 5, 6, 5, 5, 5, 6, 6,\n",
       "       6, 7, 6, 5, 5, 5, 5, 6, 5, 5, 6, 5, 6, 6, 6, 5, 5, 5, 6, 5, 5, 6,\n",
       "       6, 7, 5, 5, 5, 6, 6, 6, 5, 5, 6, 7, 6, 5, 6, 5, 6, 5, 6, 6, 5, 7,\n",
       "       5, 5, 5, 6, 5, 5, 5, 5, 6, 5, 5, 6, 5, 6, 6, 5, 5, 5, 5, 5, 6, 6,\n",
       "       5, 6, 5, 6, 5, 5, 5, 6, 7, 5, 6, 6, 6, 5, 5, 6, 5, 6, 5, 5, 6, 6,\n",
       "       6, 6, 5, 6, 5, 5, 6, 5, 5, 6, 7, 6, 5, 5, 5, 7, 6, 6, 6, 6, 5, 7,\n",
       "       5, 6, 6, 5, 5, 5, 5, 6, 5, 5, 6, 5, 7, 5, 5, 5, 6, 5, 5, 5, 5, 6,\n",
       "       6, 6, 7, 5, 5, 5, 5, 5, 5, 5, 6, 6, 6, 5, 5, 6, 7, 5, 6, 5, 5, 5,\n",
       "       5, 5, 6, 5, 5, 5, 6, 7, 7, 6, 6, 6, 5, 5, 6, 6, 6, 5], dtype=int64)"
      ]
     },
     "execution_count": 28,
     "metadata": {},
     "output_type": "execute_result"
    }
   ],
   "source": [
    "Y_hat = model.predict(X_test).argmax(axis=1) + 3\n",
    "Y_hat"
   ]
  },
  {
   "cell_type": "code",
   "execution_count": 33,
   "id": "09939f5a",
   "metadata": {
    "ExecuteTime": {
     "end_time": "2024-12-19T05:19:03.834425Z",
     "start_time": "2024-12-19T05:19:03.800997Z"
    }
   },
   "outputs": [
    {
     "data": {
      "text/html": [
       "<div>\n",
       "<style scoped>\n",
       "    .dataframe tbody tr th:only-of-type {\n",
       "        vertical-align: middle;\n",
       "    }\n",
       "\n",
       "    .dataframe tbody tr th {\n",
       "        vertical-align: top;\n",
       "    }\n",
       "\n",
       "    .dataframe thead th {\n",
       "        text-align: right;\n",
       "    }\n",
       "</style>\n",
       "<table border=\"1\" class=\"dataframe\">\n",
       "  <thead>\n",
       "    <tr style=\"text-align: right;\">\n",
       "      <th>예측값</th>\n",
       "      <th>5</th>\n",
       "      <th>6</th>\n",
       "      <th>7</th>\n",
       "    </tr>\n",
       "    <tr>\n",
       "      <th>실제값</th>\n",
       "      <th></th>\n",
       "      <th></th>\n",
       "      <th></th>\n",
       "    </tr>\n",
       "  </thead>\n",
       "  <tbody>\n",
       "    <tr>\n",
       "      <th>3</th>\n",
       "      <td>1</td>\n",
       "      <td>0</td>\n",
       "      <td>0</td>\n",
       "    </tr>\n",
       "    <tr>\n",
       "      <th>4</th>\n",
       "      <td>13</td>\n",
       "      <td>4</td>\n",
       "      <td>0</td>\n",
       "    </tr>\n",
       "    <tr>\n",
       "      <th>5</th>\n",
       "      <td>150</td>\n",
       "      <td>43</td>\n",
       "      <td>2</td>\n",
       "    </tr>\n",
       "    <tr>\n",
       "      <th>6</th>\n",
       "      <td>80</td>\n",
       "      <td>98</td>\n",
       "      <td>22</td>\n",
       "    </tr>\n",
       "    <tr>\n",
       "      <th>7</th>\n",
       "      <td>4</td>\n",
       "      <td>44</td>\n",
       "      <td>13</td>\n",
       "    </tr>\n",
       "    <tr>\n",
       "      <th>8</th>\n",
       "      <td>0</td>\n",
       "      <td>2</td>\n",
       "      <td>4</td>\n",
       "    </tr>\n",
       "  </tbody>\n",
       "</table>\n",
       "</div>"
      ],
      "text/plain": [
       "예측값    5   6   7\n",
       "실제값             \n",
       "3      1   0   0\n",
       "4     13   4   0\n",
       "5    150  43   2\n",
       "6     80  98  22\n",
       "7      4  44  13\n",
       "8      0   2   4"
      ]
     },
     "execution_count": 33,
     "metadata": {},
     "output_type": "execute_result"
    }
   ],
   "source": [
    "ctab = pd.crosstab(Y_test.argmax(axis=1) + 3, Y_hat)\n",
    "ctab.index.name = '실제값'\n",
    "ctab.columns.name = '예측값'\n",
    "ctab"
   ]
  },
  {
   "cell_type": "markdown",
   "id": "83b04d86",
   "metadata": {},
   "source": [
    "# 6. 모델 저장 및 모델 사용하기"
   ]
  },
  {
   "cell_type": "code",
   "execution_count": 34,
   "id": "aca223fa",
   "metadata": {
    "ExecuteTime": {
     "end_time": "2024-12-19T05:19:29.367789Z",
     "start_time": "2024-12-19T05:19:29.304941Z"
    }
   },
   "outputs": [],
   "source": [
    "model.save('model/wine_quality_grade_predict.h5')"
   ]
  },
  {
   "cell_type": "code",
   "execution_count": 35,
   "id": "1f8204de",
   "metadata": {
    "ExecuteTime": {
     "end_time": "2024-12-19T05:19:53.959217Z",
     "start_time": "2024-12-19T05:19:53.801302Z"
    }
   },
   "outputs": [
    {
     "name": "stdout",
     "output_type": "stream",
     "text": [
      "Model: \"sequential_1\"\n",
      "_________________________________________________________________\n",
      " Layer (type)                Output Shape              Param #   \n",
      "=================================================================\n",
      " dropout_3 (Dropout)         (None, 11)                0         \n",
      "                                                                 \n",
      " dense_3 (Dense)             (None, 32)                384       \n",
      "                                                                 \n",
      " dropout_4 (Dropout)         (None, 32)                0         \n",
      "                                                                 \n",
      " dense_4 (Dense)             (None, 128)               4224      \n",
      "                                                                 \n",
      " dropout_5 (Dropout)         (None, 128)               0         \n",
      "                                                                 \n",
      " dense_5 (Dense)             (None, 64)                8256      \n",
      "                                                                 \n",
      " dropout_6 (Dropout)         (None, 64)                0         \n",
      "                                                                 \n",
      " dense_6 (Dense)             (None, 6)                 390       \n",
      "                                                                 \n",
      "=================================================================\n",
      "Total params: 13,254\n",
      "Trainable params: 13,254\n",
      "Non-trainable params: 0\n",
      "_________________________________________________________________\n"
     ]
    }
   ],
   "source": [
    "from tensorflow.keras.models import load_model\n",
    "model2 = load_model('model/wine_quality_grade_predict.h5')\n",
    "model2.summary()"
   ]
  },
  {
   "cell_type": "code",
   "execution_count": 36,
   "id": "8895f3c9",
   "metadata": {
    "ExecuteTime": {
     "end_time": "2024-12-19T05:20:00.384547Z",
     "start_time": "2024-12-19T05:20:00.097177Z"
    }
   },
   "outputs": [
    {
     "name": "stdout",
     "output_type": "stream",
     "text": [
      "15/15 [==============================] - 0s 2ms/step - loss: 0.9555 - accuracy: 0.5437\n"
     ]
    },
    {
     "data": {
      "text/plain": [
       "[0.955521285533905, 0.543749988079071]"
      ]
     },
     "execution_count": 36,
     "metadata": {},
     "output_type": "execute_result"
    }
   ],
   "source": [
    "model2.evaluate(X_test, Y_test)"
   ]
  },
  {
   "cell_type": "code",
   "execution_count": 50,
   "id": "8e663b3f",
   "metadata": {
    "ExecuteTime": {
     "end_time": "2024-12-19T06:17:05.311408Z",
     "start_time": "2024-12-19T06:17:05.161012Z"
    }
   },
   "outputs": [
    {
     "name": "stdout",
     "output_type": "stream",
     "text": [
      "1/1 [==============================] - 0s 72ms/step\n"
     ]
    },
    {
     "name": "stderr",
     "output_type": "stream",
     "text": [
      "C:\\Users\\4545\\anaconda3\\lib\\site-packages\\sklearn\\base.py:420: UserWarning: X does not have valid feature names, but MinMaxScaler was fitted with feature names\n",
      "  warnings.warn(\n"
     ]
    },
    {
     "data": {
      "text/plain": [
       "array([6], dtype=int64)"
      ]
     },
     "execution_count": 50,
     "metadata": {},
     "output_type": "execute_result"
    }
   ],
   "source": [
    "input_data = np.array([[10.5, 0.39, 0.46, 2.2, 0.075, 14.0, 27.0, 0.99598, 3.06, 0.84,11.4]])\n",
    "scaled_input_data = scaler.transform(input_data)\n",
    "np.argmax(model.predict(scaled_input_data), axis=1) + 3"
   ]
  }
 ],
 "metadata": {
  "kernelspec": {
   "display_name": "Python 3 (ipykernel)",
   "language": "python",
   "name": "python3"
  },
  "language_info": {
   "codemirror_mode": {
    "name": "ipython",
    "version": 3
   },
   "file_extension": ".py",
   "mimetype": "text/x-python",
   "name": "python",
   "nbconvert_exporter": "python",
   "pygments_lexer": "ipython3",
   "version": "3.10.9"
  },
  "toc": {
   "base_numbering": 1,
   "nav_menu": {},
   "number_sections": true,
   "sideBar": true,
   "skip_h1_title": false,
   "title_cell": "Table of Contents",
   "title_sidebar": "Contents",
   "toc_cell": false,
   "toc_position": {
    "height": "calc(100% - 180px)",
    "left": "10px",
    "top": "150px",
    "width": "277.715px"
   },
   "toc_section_display": true,
   "toc_window_display": true
  }
 },
 "nbformat": 4,
 "nbformat_minor": 5
}
