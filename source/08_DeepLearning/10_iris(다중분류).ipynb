{
 "cells": [
  {
   "cell_type": "markdown",
   "id": "8a63343b",
   "metadata": {},
   "source": [
    "- iris 데이터 종 예측"
   ]
  },
  {
   "cell_type": "code",
   "execution_count": 3,
   "id": "10722e20",
   "metadata": {},
   "outputs": [],
   "source": [
    "import seaborn as sns  # iris 데이터 가져오기\n",
    "import pandas as pd    # 원핫인코딩(문자pd.get_dummies())\n",
    "import numpy as np\n",
    "from sklearn.model_selection import train_test_split\n",
    "from tensorflow.keras.models import Sequential\n",
    "from tensorflow.keras.layers import Dense, Dropout, Input\n",
    "from tensorflow.keras.callbacks import ModelCheckpoint, EarlyStopping\n",
    "import matplotlib.pyplot as plt"
   ]
  },
  {
   "cell_type": "code",
   "execution_count": 4,
   "id": "9a3453c9",
   "metadata": {},
   "outputs": [
    {
     "data": {
      "text/plain": [
       "((120, 4), (120, 3), (30, 4), (30, 3))"
      ]
     },
     "execution_count": 4,
     "metadata": {},
     "output_type": "execute_result"
    }
   ],
   "source": [
    "# 1. 데이터 생성 및 전처리\n",
    "iris = sns.load_dataset('iris')\n",
    "# 독립변수와 종속변수 분리\n",
    "iris_X = iris.iloc[:,:-1].to_numpy()\n",
    "iris_y = iris.iloc[:, -1]\n",
    "iris_Y = pd.get_dummies(iris_y).values\n",
    "# iris_Y[::50]\n",
    "# 훈련셋 : 테스트셋 = 8: 2\n",
    "X_train, X_test, Y_train, Y_test = train_test_split(iris_X, iris_Y,\n",
    "                                                   test_size = 0.2,\n",
    "                                                   stratify = iris_Y,# 층화추출\n",
    "                                                   random_state = 4)\n",
    "X_train.shape, Y_train.shape, X_test.shape, Y_test.shape"
   ]
  },
  {
   "cell_type": "code",
   "execution_count": 5,
   "id": "08d953d6",
   "metadata": {},
   "outputs": [
    {
     "data": {
      "text/plain": [
       "0    40\n",
       "1    40\n",
       "2    40\n",
       "dtype: int64"
      ]
     },
     "execution_count": 5,
     "metadata": {},
     "output_type": "execute_result"
    }
   ],
   "source": [
    "# 층화 추출했는지 확인\n",
    "pd.Series(np.argmax(Y_train, axis=1)).value_counts()"
   ]
  },
  {
   "cell_type": "code",
   "execution_count": 6,
   "id": "378381d7",
   "metadata": {},
   "outputs": [
    {
     "data": {
      "text/plain": [
       "1    10\n",
       "2    10\n",
       "0    10\n",
       "dtype: int64"
      ]
     },
     "execution_count": 6,
     "metadata": {},
     "output_type": "execute_result"
    }
   ],
   "source": [
    "pd.Series(np.argmax(Y_test, axis=1)).value_counts()"
   ]
  },
  {
   "cell_type": "code",
   "execution_count": 7,
   "id": "7959c5bc",
   "metadata": {},
   "outputs": [
    {
     "name": "stdout",
     "output_type": "stream",
     "text": [
      "Model: \"sequential\"\n",
      "_________________________________________________________________\n",
      " Layer (type)                Output Shape              Param #   \n",
      "=================================================================\n",
      " dense (Dense)               (None, 60)                300       \n",
      "                                                                 \n",
      " dense_1 (Dense)             (None, 50)                3050      \n",
      "                                                                 \n",
      " dense_2 (Dense)             (None, 30)                1530      \n",
      "                                                                 \n",
      " dense_3 (Dense)             (None, 3)                 93        \n",
      "                                                                 \n",
      "=================================================================\n",
      "Total params: 4,973\n",
      "Trainable params: 4,973\n",
      "Non-trainable params: 0\n",
      "_________________________________________________________________\n",
      "None\n"
     ]
    }
   ],
   "source": [
    "# 2. 모델 구성 (입력4 - 출력 3) 방법1\n",
    "model = Sequential()\n",
    "model.add(Dense(units=60, input_dim=4, activation='relu'))\n",
    "model.add(Dense(units=50, activation='relu'))\n",
    "model.add(Dense(units=30, activation='relu'))\n",
    "model.add(Dense(units=3, activation='softmax'))\n",
    "print(model.summary())"
   ]
  },
  {
   "cell_type": "code",
   "execution_count": 32,
   "id": "de432106",
   "metadata": {},
   "outputs": [
    {
     "name": "stdout",
     "output_type": "stream",
     "text": [
      "Model: \"sequential_4\"\n",
      "_________________________________________________________________\n",
      " Layer (type)                Output Shape              Param #   \n",
      "=================================================================\n",
      " dense_18 (Dense)            (None, 64)                320       \n",
      "                                                                 \n",
      " dense_19 (Dense)            (None, 128)               8320      \n",
      "                                                                 \n",
      " dropout (Dropout)           (None, 128)               0         \n",
      "                                                                 \n",
      " dense_20 (Dense)            (None, 32)                4128      \n",
      "                                                                 \n",
      " dense_21 (Dense)            (None, 16)                528       \n",
      "                                                                 \n",
      " dropout_1 (Dropout)         (None, 16)                0         \n",
      "                                                                 \n",
      " dense_22 (Dense)            (None, 3)                 51        \n",
      "                                                                 \n",
      "=================================================================\n",
      "Total params: 13,347\n",
      "Trainable params: 13,347\n",
      "Non-trainable params: 0\n",
      "_________________________________________________________________\n"
     ]
    }
   ],
   "source": [
    "# 2. 모델 구성 (입력4 - 출력 3) 방법2\n",
    "model = Sequential([\n",
    "    Input(4),\n",
    "    Dense(units=64, activation='relu'),\n",
    "    Dense(units=128, activation='relu'),\n",
    "    Dropout(0.2),\n",
    "    Dense(units=32, activation='relu'),\n",
    "    Dense(units=16, activation='relu'),\n",
    "    Dropout(0.1),\n",
    "    Dense(units=3, activation='softmax')\n",
    "])\n",
    "model.summary()"
   ]
  },
  {
   "cell_type": "code",
   "execution_count": 33,
   "id": "6b521070",
   "metadata": {},
   "outputs": [],
   "source": [
    "# 3. 모델학습과정\n",
    "model.compile(loss='categorical_crossentropy',\n",
    "             optimizer='adam',\n",
    "             metrics=['accuracy'])"
   ]
  },
  {
   "cell_type": "code",
   "execution_count": 43,
   "id": "d8091d85",
   "metadata": {},
   "outputs": [
    {
     "name": "stdout",
     "output_type": "stream",
     "text": [
      "Epoch 1/500\n",
      "3/3 [==============================] - 0s 49ms/step - loss: 0.0596 - accuracy: 0.9792 - val_loss: 0.0096 - val_accuracy: 1.0000\n",
      "Epoch 2/500\n",
      "3/3 [==============================] - 0s 22ms/step - loss: 0.0946 - accuracy: 0.9688 - val_loss: 0.0062 - val_accuracy: 1.0000\n",
      "Epoch 3/500\n",
      "3/3 [==============================] - 0s 22ms/step - loss: 0.0824 - accuracy: 0.9792 - val_loss: 0.0092 - val_accuracy: 1.0000\n",
      "Epoch 4/500\n",
      "3/3 [==============================] - 0s 22ms/step - loss: 0.0593 - accuracy: 0.9792 - val_loss: 0.0716 - val_accuracy: 0.9583\n",
      "Epoch 5/500\n",
      "3/3 [==============================] - 0s 25ms/step - loss: 0.0894 - accuracy: 0.9583 - val_loss: 0.0432 - val_accuracy: 0.9583\n",
      "Epoch 6/500\n",
      "3/3 [==============================] - 0s 17ms/step - loss: 0.0727 - accuracy: 0.9688 - val_loss: 0.0104 - val_accuracy: 1.0000\n",
      "Epoch 7/500\n",
      "3/3 [==============================] - 0s 14ms/step - loss: 0.0702 - accuracy: 0.9792 - val_loss: 0.0108 - val_accuracy: 1.0000\n",
      "Epoch 8/500\n",
      "3/3 [==============================] - 0s 13ms/step - loss: 0.0775 - accuracy: 0.9792 - val_loss: 0.0259 - val_accuracy: 1.0000\n",
      "Epoch 9/500\n",
      "3/3 [==============================] - 0s 14ms/step - loss: 0.0781 - accuracy: 0.9688 - val_loss: 0.0303 - val_accuracy: 1.0000\n",
      "Epoch 10/500\n",
      "3/3 [==============================] - 0s 15ms/step - loss: 0.0707 - accuracy: 0.9792 - val_loss: 0.0142 - val_accuracy: 1.0000\n",
      "Epoch 11/500\n",
      "3/3 [==============================] - 0s 13ms/step - loss: 0.0701 - accuracy: 0.9792 - val_loss: 0.0194 - val_accuracy: 1.0000\n",
      "Epoch 12/500\n",
      "3/3 [==============================] - 0s 17ms/step - loss: 0.0546 - accuracy: 0.9896 - val_loss: 0.0293 - val_accuracy: 1.0000\n",
      "Epoch 13/500\n",
      "3/3 [==============================] - 0s 14ms/step - loss: 0.0420 - accuracy: 0.9896 - val_loss: 0.0222 - val_accuracy: 1.0000\n",
      "Epoch 14/500\n",
      "3/3 [==============================] - 0s 24ms/step - loss: 0.0453 - accuracy: 0.9896 - val_loss: 0.0148 - val_accuracy: 1.0000\n",
      "Epoch 15/500\n",
      "3/3 [==============================] - 0s 20ms/step - loss: 0.0500 - accuracy: 0.9896 - val_loss: 0.0109 - val_accuracy: 1.0000\n",
      "Epoch 16/500\n",
      "3/3 [==============================] - 0s 15ms/step - loss: 0.0526 - accuracy: 0.9896 - val_loss: 0.0136 - val_accuracy: 1.0000\n",
      "Epoch 17/500\n",
      "3/3 [==============================] - 0s 20ms/step - loss: 0.0410 - accuracy: 0.9896 - val_loss: 0.0374 - val_accuracy: 0.9583\n",
      "Epoch 18/500\n",
      "3/3 [==============================] - 0s 22ms/step - loss: 0.0811 - accuracy: 0.9792 - val_loss: 0.0180 - val_accuracy: 1.0000\n",
      "Epoch 19/500\n",
      "3/3 [==============================] - 0s 22ms/step - loss: 0.0598 - accuracy: 0.9792 - val_loss: 0.0102 - val_accuracy: 1.0000\n",
      "Epoch 20/500\n",
      "3/3 [==============================] - 0s 25ms/step - loss: 0.0511 - accuracy: 0.9792 - val_loss: 0.0133 - val_accuracy: 1.0000\n",
      "Epoch 21/500\n",
      "3/3 [==============================] - 0s 25ms/step - loss: 0.0781 - accuracy: 0.9688 - val_loss: 0.0319 - val_accuracy: 1.0000\n",
      "Epoch 22/500\n",
      "3/3 [==============================] - 0s 28ms/step - loss: 0.0591 - accuracy: 0.9792 - val_loss: 0.0137 - val_accuracy: 1.0000\n",
      "Epoch 23/500\n",
      "3/3 [==============================] - 0s 16ms/step - loss: 0.0484 - accuracy: 0.9896 - val_loss: 0.0154 - val_accuracy: 1.0000\n",
      "Epoch 24/500\n",
      "3/3 [==============================] - 0s 16ms/step - loss: 0.0523 - accuracy: 0.9896 - val_loss: 0.0234 - val_accuracy: 1.0000\n",
      "Epoch 25/500\n",
      "3/3 [==============================] - 0s 20ms/step - loss: 0.0606 - accuracy: 0.9792 - val_loss: 0.0283 - val_accuracy: 1.0000\n",
      "Epoch 26/500\n",
      "3/3 [==============================] - 0s 19ms/step - loss: 0.0464 - accuracy: 0.9896 - val_loss: 0.0184 - val_accuracy: 1.0000\n",
      "Epoch 27/500\n",
      "3/3 [==============================] - 0s 17ms/step - loss: 0.0606 - accuracy: 0.9896 - val_loss: 0.0179 - val_accuracy: 1.0000\n",
      "Epoch 28/500\n",
      "3/3 [==============================] - 0s 19ms/step - loss: 0.0552 - accuracy: 0.9896 - val_loss: 0.0262 - val_accuracy: 1.0000\n",
      "Epoch 29/500\n",
      "3/3 [==============================] - 0s 18ms/step - loss: 0.0474 - accuracy: 0.9896 - val_loss: 0.0434 - val_accuracy: 0.9583\n",
      "Epoch 30/500\n",
      "3/3 [==============================] - 0s 20ms/step - loss: 0.0494 - accuracy: 0.9896 - val_loss: 0.0212 - val_accuracy: 1.0000\n",
      "Epoch 31/500\n",
      "3/3 [==============================] - 0s 23ms/step - loss: 0.0407 - accuracy: 0.9896 - val_loss: 0.0119 - val_accuracy: 1.0000\n",
      "Epoch 32/500\n",
      "3/3 [==============================] - 0s 20ms/step - loss: 0.0448 - accuracy: 0.9896 - val_loss: 0.0141 - val_accuracy: 1.0000\n",
      "Epoch 33/500\n",
      "3/3 [==============================] - 0s 13ms/step - loss: 0.0512 - accuracy: 0.9896 - val_loss: 0.0295 - val_accuracy: 1.0000\n",
      "Epoch 34/500\n",
      "3/3 [==============================] - 0s 17ms/step - loss: 0.0515 - accuracy: 0.9896 - val_loss: 0.0299 - val_accuracy: 1.0000\n",
      "Epoch 35/500\n",
      "3/3 [==============================] - 0s 17ms/step - loss: 0.0655 - accuracy: 0.9792 - val_loss: 0.0127 - val_accuracy: 1.0000\n",
      "Epoch 36/500\n",
      "3/3 [==============================] - 0s 16ms/step - loss: 0.0521 - accuracy: 0.9896 - val_loss: 0.0129 - val_accuracy: 1.0000\n",
      "Epoch 37/500\n",
      "3/3 [==============================] - 0s 18ms/step - loss: 0.0768 - accuracy: 0.9688 - val_loss: 0.0138 - val_accuracy: 1.0000\n",
      "Epoch 38/500\n",
      "3/3 [==============================] - 0s 17ms/step - loss: 0.0511 - accuracy: 0.9896 - val_loss: 0.0297 - val_accuracy: 1.0000\n",
      "Epoch 39/500\n",
      "3/3 [==============================] - 0s 17ms/step - loss: 0.0674 - accuracy: 0.9792 - val_loss: 0.0210 - val_accuracy: 1.0000\n",
      "Epoch 40/500\n",
      "3/3 [==============================] - 0s 18ms/step - loss: 0.0434 - accuracy: 0.9896 - val_loss: 0.0116 - val_accuracy: 1.0000\n",
      "Epoch 41/500\n",
      "3/3 [==============================] - 0s 21ms/step - loss: 0.0471 - accuracy: 0.9792 - val_loss: 0.0211 - val_accuracy: 1.0000\n",
      "Epoch 42/500\n",
      "3/3 [==============================] - 0s 20ms/step - loss: 0.0613 - accuracy: 0.9896 - val_loss: 0.0231 - val_accuracy: 1.0000\n"
     ]
    }
   ],
   "source": [
    "# 4. 모델 학습시키기 : epoch마다 val_accuracy(val_loss, accuracy, loss)값이 좋을 때 모델을 자동 저장하는 콜백 추가\n",
    "# 모델을 저장할 경로 : ./model/iris-100-val0.6521.h5\n",
    "import os\n",
    "model_save_folder = './model/'\n",
    "if not os.path.exists(model_save_folder):\n",
    "    os.mkdir(model_save_folder)  # model_save_folder가 없으면 폴더 생성\n",
    "\n",
    "# 조기 종료 콜백\n",
    "earlystopping = EarlyStopping(patience=40, monitor='val_loss')  # monitor='val_loss' : 기본값\n",
    "# 모델 자동 저장 콜백 객체 생성\n",
    "file = model_save_folder + 'iris-{epoch:03d}-val{val_accuracy:.4f}.h5'\n",
    "checkpoint = ModelCheckpoint(filepath=file,           # 저장경로\n",
    "                             monitor='val_accuracy',  # 모니터링할 지표\n",
    "                             save_best_only=True,     # 모니터링한 지표가 개선된 경우만 저장. False면 매번 저장.\n",
    "                             mode='max',              # 값이 클수록 저장. 'min':값이 작을수록 저장. 'auto':모니터링에 의해 자동 저장.\n",
    "                             verbos=1)                # 저장 여부 로그 출력 (0:출력 안 함)\n",
    "hist = model.fit(X_train, Y_train,\n",
    "                 # batch_size=50,  # 한 배치사이즈마다 w, b값 조정\n",
    "                 epochs=500,\n",
    "                 validation_split=0.2,\n",
    "                 callbacks=[checkpoint, earlystopping]\n",
    "                )"
   ]
  },
  {
   "cell_type": "code",
   "execution_count": 44,
   "id": "ca304c0f",
   "metadata": {},
   "outputs": [
    {
     "data": {
      "image/png": "[encoded data removed]",
      "text/plain": [
       "<Figure size 1000x500 with 2 Axes>"
      ]
     },
     "metadata": {},
     "output_type": "display_data"
    }
   ],
   "source": [
    "# 5. 모델 평가하기\n",
    "# 학습과정 표시하기(validation dataset 있는 경우)\n",
    "fig, loss_ax = plt.subplots(figsize=(10,5))\n",
    "loss_ax.plot(hist.history['loss'], 'r', label='train loss')\n",
    "loss_ax.plot(hist.history['val_loss'], 'y', label='validation loss')\n",
    "loss_ax.set_xlabel('epoch')\n",
    "loss_ax.set_ylabel('loss')\n",
    "acc_ax = loss_ax.twinx()\n",
    "acc_ax.plot(hist.history['accuracy'], 'b', label='train accuracy')\n",
    "acc_ax.plot(hist.history['val_accuracy'], 'g', label='validation accuracy')\n",
    "acc_ax.set_ylabel('accuracy')\n",
    "loss_ax.legend(loc='center right')\n",
    "acc_ax.legend(bbox_to_anchor=(0.999, 0.7))\n",
    "plt.show()"
   ]
  },
  {
   "cell_type": "code",
   "execution_count": 50,
   "id": "4b5cea5a",
   "metadata": {},
   "outputs": [
    {
     "name": "stdout",
     "output_type": "stream",
     "text": [
      "1/1 [==============================] - 0s 24ms/step - loss: 0.1460 - accuracy: 0.9333\n"
     ]
    },
    {
     "data": {
      "text/plain": [
       "[0.14598006010055542, 0.9333333373069763]"
      ]
     },
     "execution_count": 50,
     "metadata": {},
     "output_type": "execute_result"
    }
   ],
   "source": [
    "# 모델 평가\n",
    "model.evaluate(X_test, Y_test)"
   ]
  },
  {
   "cell_type": "code",
   "execution_count": 51,
   "id": "6d73f8c3",
   "metadata": {},
   "outputs": [
    {
     "name": "stdout",
     "output_type": "stream",
     "text": [
      "1/1 [==============================] - 0s 31ms/step\n"
     ]
    },
    {
     "data": {
      "text/html": [
       "<div>\n",
       "<style scoped>\n",
       "    .dataframe tbody tr th:only-of-type {\n",
       "        vertical-align: middle;\n",
       "    }\n",
       "\n",
       "    .dataframe tbody tr th {\n",
       "        vertical-align: top;\n",
       "    }\n",
       "\n",
       "    .dataframe thead th {\n",
       "        text-align: right;\n",
       "    }\n",
       "</style>\n",
       "<table border=\"1\" class=\"dataframe\">\n",
       "  <thead>\n",
       "    <tr style=\"text-align: right;\">\n",
       "      <th>predict</th>\n",
       "      <th>setosa</th>\n",
       "      <th>versicolor</th>\n",
       "      <th>virginica</th>\n",
       "    </tr>\n",
       "    <tr>\n",
       "      <th>real</th>\n",
       "      <th></th>\n",
       "      <th></th>\n",
       "      <th></th>\n",
       "    </tr>\n",
       "  </thead>\n",
       "  <tbody>\n",
       "    <tr>\n",
       "      <th>setosa</th>\n",
       "      <td>10</td>\n",
       "      <td>0</td>\n",
       "      <td>0</td>\n",
       "    </tr>\n",
       "    <tr>\n",
       "      <th>versicolor</th>\n",
       "      <td>0</td>\n",
       "      <td>8</td>\n",
       "      <td>2</td>\n",
       "    </tr>\n",
       "    <tr>\n",
       "      <th>virginica</th>\n",
       "      <td>0</td>\n",
       "      <td>0</td>\n",
       "      <td>10</td>\n",
       "    </tr>\n",
       "  </tbody>\n",
       "</table>\n",
       "</div>"
      ],
      "text/plain": [
       "predict     setosa  versicolor  virginica\n",
       "real                                     \n",
       "setosa          10           0          0\n",
       "versicolor       0           8          2\n",
       "virginica        0           0         10"
      ]
     },
     "execution_count": 51,
     "metadata": {},
     "output_type": "execute_result"
    }
   ],
   "source": [
    "# 교차표\n",
    "real = np.argmax(Y_test, axis=1)\n",
    "pred = np.argmax(model.predict(X_test), axis=1)\n",
    "ctab = pd.crosstab(real, pred)\n",
    "ctab.columns = list(iris['species'][::50]) # ['setosa', 'versicolor', 'virginica']\n",
    "ctab.columns.name = 'predict'\n",
    "ctab.index = iris['species'][::50]\n",
    "ctab.index.name = 'real'\n",
    "ctab"
   ]
  },
  {
   "cell_type": "code",
   "execution_count": 52,
   "id": "8b6892de",
   "metadata": {},
   "outputs": [
    {
     "data": {
      "text/plain": [
       "['setosa', 'versicolor', 'virginica']"
      ]
     },
     "execution_count": 52,
     "metadata": {},
     "output_type": "execute_result"
    }
   ],
   "source": [
    "list(iris['species'][::50])"
   ]
  },
  {
   "cell_type": "code",
   "execution_count": 53,
   "id": "3e68eb57",
   "metadata": {
    "collapsed": true
   },
   "outputs": [
    {
     "ename": "OSError",
     "evalue": "No file or directory found at model/iris-006-val0.9583.h5",
     "output_type": "error",
     "traceback": [
      "\u001b[1;31m---------------------------------------------------------------------------\u001b[0m",
      "\u001b[1;31mOSError\u001b[0m                                   Traceback (most recent call last)",
      "Cell \u001b[1;32mIn[53], line 3\u001b[0m\n\u001b[0;32m      1\u001b[0m \u001b[38;5;66;03m# 저장된 모델 중 성능이 제일 좋아 보이는 것 load\u001b[39;00m\n\u001b[0;32m      2\u001b[0m \u001b[38;5;28;01mfrom\u001b[39;00m \u001b[38;5;21;01mtensorflow\u001b[39;00m\u001b[38;5;21;01m.\u001b[39;00m\u001b[38;5;21;01mkeras\u001b[39;00m\u001b[38;5;21;01m.\u001b[39;00m\u001b[38;5;21;01mmodels\u001b[39;00m \u001b[38;5;28;01mimport\u001b[39;00m load_model\n\u001b[1;32m----> 3\u001b[0m model2 \u001b[38;5;241m=\u001b[39m \u001b[43mload_model\u001b[49m\u001b[43m(\u001b[49m\u001b[38;5;124;43m'\u001b[39;49m\u001b[38;5;124;43mmodel/iris-006-val0.9583.h5\u001b[39;49m\u001b[38;5;124;43m'\u001b[39;49m\u001b[43m)\u001b[49m\n\u001b[0;32m      4\u001b[0m model2\u001b[38;5;241m.\u001b[39mevaluate(X_test, Y_test)\n",
      "File \u001b[1;32m~\\anaconda3\\lib\\site-packages\\keras\\utils\\traceback_utils.py:70\u001b[0m, in \u001b[0;36mfilter_traceback.<locals>.error_handler\u001b[1;34m(*args, **kwargs)\u001b[0m\n\u001b[0;32m     67\u001b[0m     filtered_tb \u001b[38;5;241m=\u001b[39m _process_traceback_frames(e\u001b[38;5;241m.\u001b[39m__traceback__)\n\u001b[0;32m     68\u001b[0m     \u001b[38;5;66;03m# To get the full stack trace, call:\u001b[39;00m\n\u001b[0;32m     69\u001b[0m     \u001b[38;5;66;03m# `tf.debugging.disable_traceback_filtering()`\u001b[39;00m\n\u001b[1;32m---> 70\u001b[0m     \u001b[38;5;28;01mraise\u001b[39;00m e\u001b[38;5;241m.\u001b[39mwith_traceback(filtered_tb) \u001b[38;5;28;01mfrom\u001b[39;00m \u001b[38;5;28mNone\u001b[39m\n\u001b[0;32m     71\u001b[0m \u001b[38;5;28;01mfinally\u001b[39;00m:\n\u001b[0;32m     72\u001b[0m     \u001b[38;5;28;01mdel\u001b[39;00m filtered_tb\n",
      "File \u001b[1;32m~\\anaconda3\\lib\\site-packages\\keras\\saving\\save.py:226\u001b[0m, in \u001b[0;36mload_model\u001b[1;34m(filepath, custom_objects, compile, options)\u001b[0m\n\u001b[0;32m    224\u001b[0m \u001b[38;5;28;01mif\u001b[39;00m \u001b[38;5;28misinstance\u001b[39m(filepath_str, \u001b[38;5;28mstr\u001b[39m):\n\u001b[0;32m    225\u001b[0m     \u001b[38;5;28;01mif\u001b[39;00m \u001b[38;5;129;01mnot\u001b[39;00m tf\u001b[38;5;241m.\u001b[39mio\u001b[38;5;241m.\u001b[39mgfile\u001b[38;5;241m.\u001b[39mexists(filepath_str):\n\u001b[1;32m--> 226\u001b[0m         \u001b[38;5;28;01mraise\u001b[39;00m \u001b[38;5;167;01mIOError\u001b[39;00m(\n\u001b[0;32m    227\u001b[0m             \u001b[38;5;124mf\u001b[39m\u001b[38;5;124m\"\u001b[39m\u001b[38;5;124mNo file or directory found at \u001b[39m\u001b[38;5;132;01m{\u001b[39;00mfilepath_str\u001b[38;5;132;01m}\u001b[39;00m\u001b[38;5;124m\"\u001b[39m\n\u001b[0;32m    228\u001b[0m         )\n\u001b[0;32m    230\u001b[0m     \u001b[38;5;28;01mif\u001b[39;00m tf\u001b[38;5;241m.\u001b[39mio\u001b[38;5;241m.\u001b[39mgfile\u001b[38;5;241m.\u001b[39misdir(filepath_str):\n\u001b[0;32m    231\u001b[0m         \u001b[38;5;28;01mreturn\u001b[39;00m saved_model_load\u001b[38;5;241m.\u001b[39mload(\n\u001b[0;32m    232\u001b[0m             filepath_str, \u001b[38;5;28mcompile\u001b[39m, options\n\u001b[0;32m    233\u001b[0m         )\n",
      "\u001b[1;31mOSError\u001b[0m: No file or directory found at model/iris-006-val0.9583.h5"
     ]
    }
   ],
   "source": [
    "# 저장된 모델 중 성능이 제일 좋아 보이는 것 load\n",
    "from tensorflow.keras.models import load_model\n",
    "model2 = load_model('model/iris-008-val0.9167.h5')\n",
    "model2.evaluate(X_test, Y_test)"
   ]
  },
  {
   "cell_type": "code",
   "execution_count": 54,
   "id": "ab6562fd",
   "metadata": {},
   "outputs": [
    {
     "name": "stdout",
     "output_type": "stream",
     "text": [
      "1/1 [==============================] - 0s 18ms/step\n"
     ]
    },
    {
     "data": {
      "text/html": [
       "<div>\n",
       "<style scoped>\n",
       "    .dataframe tbody tr th:only-of-type {\n",
       "        vertical-align: middle;\n",
       "    }\n",
       "\n",
       "    .dataframe tbody tr th {\n",
       "        vertical-align: top;\n",
       "    }\n",
       "\n",
       "    .dataframe thead th {\n",
       "        text-align: right;\n",
       "    }\n",
       "</style>\n",
       "<table border=\"1\" class=\"dataframe\">\n",
       "  <thead>\n",
       "    <tr style=\"text-align: right;\">\n",
       "      <th>predict</th>\n",
       "      <th>setosa</th>\n",
       "      <th>versicolor</th>\n",
       "      <th>virginica</th>\n",
       "    </tr>\n",
       "    <tr>\n",
       "      <th>real</th>\n",
       "      <th></th>\n",
       "      <th></th>\n",
       "      <th></th>\n",
       "    </tr>\n",
       "  </thead>\n",
       "  <tbody>\n",
       "    <tr>\n",
       "      <th>setosa</th>\n",
       "      <td>10</td>\n",
       "      <td>0</td>\n",
       "      <td>0</td>\n",
       "    </tr>\n",
       "    <tr>\n",
       "      <th>versicolor</th>\n",
       "      <td>0</td>\n",
       "      <td>7</td>\n",
       "      <td>3</td>\n",
       "    </tr>\n",
       "    <tr>\n",
       "      <th>virginica</th>\n",
       "      <td>0</td>\n",
       "      <td>0</td>\n",
       "      <td>10</td>\n",
       "    </tr>\n",
       "  </tbody>\n",
       "</table>\n",
       "</div>"
      ],
      "text/plain": [
       "predict     setosa  versicolor  virginica\n",
       "real                                     \n",
       "setosa          10           0          0\n",
       "versicolor       0           7          3\n",
       "virginica        0           0         10"
      ]
     },
     "execution_count": 54,
     "metadata": {},
     "output_type": "execute_result"
    }
   ],
   "source": [
    "# 저장된 모델의 교차표\n",
    "real = np.argmax(Y_test, axis=1)\n",
    "pred = np.argmax(model2.predict(X_test), axis=1)\n",
    "ctab = pd.crosstab(real, pred)\n",
    "ctab.columns = list(iris['species'][::50]) # ['setosa', 'versicolor', 'virginica']\n",
    "ctab.columns.name = 'predict'\n",
    "ctab.index = iris['species'][::50]\n",
    "ctab.index.name = 'real'\n",
    "ctab"
   ]
  },
  {
   "cell_type": "code",
   "execution_count": 57,
   "id": "c84de56a",
   "metadata": {},
   "outputs": [
    {
     "data": {
      "text/html": [
       "<div>\n",
       "<style scoped>\n",
       "    .dataframe tbody tr th:only-of-type {\n",
       "        vertical-align: middle;\n",
       "    }\n",
       "\n",
       "    .dataframe tbody tr th {\n",
       "        vertical-align: top;\n",
       "    }\n",
       "\n",
       "    .dataframe thead th {\n",
       "        text-align: right;\n",
       "    }\n",
       "</style>\n",
       "<table border=\"1\" class=\"dataframe\">\n",
       "  <thead>\n",
       "    <tr style=\"text-align: right;\">\n",
       "      <th></th>\n",
       "      <th>sepal_length</th>\n",
       "      <th>sepal_width</th>\n",
       "      <th>petal_length</th>\n",
       "      <th>petal_width</th>\n",
       "      <th>species</th>\n",
       "    </tr>\n",
       "  </thead>\n",
       "  <tbody>\n",
       "    <tr>\n",
       "      <th>100</th>\n",
       "      <td>6.3</td>\n",
       "      <td>3.3</td>\n",
       "      <td>6.0</td>\n",
       "      <td>2.5</td>\n",
       "      <td>virginica</td>\n",
       "    </tr>\n",
       "  </tbody>\n",
       "</table>\n",
       "</div>"
      ],
      "text/plain": [
       "     sepal_length  sepal_width  petal_length  petal_width    species\n",
       "100           6.3          3.3           6.0          2.5  virginica"
      ]
     },
     "execution_count": 57,
     "metadata": {},
     "output_type": "execute_result"
    }
   ],
   "source": [
    "# 모델 사용하기(예측하기)\n",
    "iris[100:101]"
   ]
  },
  {
   "cell_type": "code",
   "execution_count": 58,
   "id": "1200c62a",
   "metadata": {},
   "outputs": [
    {
     "name": "stdout",
     "output_type": "stream",
     "text": [
      "1/1 [==============================] - 0s 19ms/step\n"
     ]
    },
    {
     "data": {
      "text/plain": [
       "array([[0.178085  , 0.38629806, 0.4356169 ]], dtype=float32)"
      ]
     },
     "execution_count": 58,
     "metadata": {},
     "output_type": "execute_result"
    }
   ],
   "source": [
    "model2.predict(np.array([[6.3, 3.3, 6.0, 2.5]]))"
   ]
  },
  {
   "cell_type": "code",
   "execution_count": null,
   "id": "4bcae14c",
   "metadata": {},
   "outputs": [],
   "source": []
  },
  {
   "cell_type": "code",
   "execution_count": null,
   "id": "76f36933",
   "metadata": {},
   "outputs": [],
   "source": []
  },
  {
   "cell_type": "code",
   "execution_count": null,
   "id": "6a8051b1",
   "metadata": {},
   "outputs": [],
   "source": []
  },
  {
   "cell_type": "code",
   "execution_count": null,
   "id": "4ce3c0a0",
   "metadata": {},
   "outputs": [],
   "source": []
  },
  {
   "cell_type": "code",
   "execution_count": null,
   "id": "aad81c17",
   "metadata": {},
   "outputs": [],
   "source": []
  }
 ],
 "metadata": {
  "kernelspec": {
   "display_name": "Python 3 (ipykernel)",
   "language": "python",
   "name": "python3"
  },
  "language_info": {
   "codemirror_mode": {
    "name": "ipython",
    "version": 3
   },
   "file_extension": ".py",
   "mimetype": "text/x-python",
   "name": "python",
   "nbconvert_exporter": "python",
   "pygments_lexer": "ipython3",
   "version": "3.10.9"
  },
  "toc": {
   "base_numbering": 1,
   "nav_menu": {},
   "number_sections": true,
   "sideBar": true,
   "skip_h1_title": false,
   "title_cell": "Table of Contents",
   "title_sidebar": "Contents",
   "toc_cell": false,
   "toc_position": {},
   "toc_section_display": true,
   "toc_window_display": false
  }
 },
 "nbformat": 4,
 "nbformat_minor": 5
}
