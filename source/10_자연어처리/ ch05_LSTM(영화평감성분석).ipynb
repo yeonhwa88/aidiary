{
 "cells": [
  {
   "cell_type": "markdown",
   "id": "5219baa7",
   "metadata": {},
   "source": [
    "**<font size='6' color='red'>ch05. RNN으로 영화평 구분하기</font>**\n",
    "- 5만개 영화 감상평 : 타겟변수로 부정/긍정"
   ]
  },
  {
   "cell_type": "code",
   "execution_count": 1,
   "id": "aa14780a",
   "metadata": {},
   "outputs": [],
   "source": [
    "# 1. 패키지 수입\n",
    "import numpy as np\n",
    "from tensorflow.keras.datasets import imdb\n",
    "from tensorflow.keras.preprocessing.sequence import pad_sequences\n",
    "from time import time # 70.1.1 부터 현재까지 몇초지났는지\n",
    "\n",
    "from tensorflow.keras.models import Sequential\n",
    "from tensorflow.keras.layers import Embedding, LSTM, Dense\n",
    "\n",
    "from sklearn.metrics import confusion_matrix, f1_score"
   ]
  },
  {
   "cell_type": "code",
   "execution_count": 2,
   "id": "0e46cf7f",
   "metadata": {},
   "outputs": [],
   "source": [
    "# 2. 하이퍼 파라미터 설정 (이 파라미터를 바꾸면 정확도나 속도에 차이남) \n",
    "MY_WORDS = 10000 # imdb 데이터 안의 단어 수\n",
    "MY_LENGTH = 80 # 영화평 단어 수 80 개만 독립변수로 사용\n",
    "MY_EMBED = 32 # Embedding 결과 차원\n",
    "MY_HIDDEN = 64 # LSTM의 units 차원\n",
    "\n",
    "MY_EPOCH = 10 # 반복 학습수(fit)\n",
    "MY_BATCH = 200 # 배치 사이즈(fit)"
   ]
  },
  {
   "cell_type": "code",
   "execution_count": 3,
   "id": "1e8d95fa",
   "metadata": {},
   "outputs": [],
   "source": [
    "# 3. 데이터 불러오기\n",
    "(X_train, y_train),(X_test, y_test) = imdb.load_data(num_words=MY_WORDS)"
   ]
  },
  {
   "cell_type": "code",
   "execution_count": 4,
   "id": "c5616de5",
   "metadata": {},
   "outputs": [
    {
     "name": "stdout",
     "output_type": "stream",
     "text": [
      "학습용 입력데이터(독립변수) 모양 : (25000,)\n",
      "학습용 출력데이터(종속변수) 모양 : (25000,)\n",
      "학습용 입력데이터 샘플 : 218 - [1, 14, 22, 16, 43, 530, 973, 1622, 1385, 65, 458, 4468, 66, 3941, 4, 173, 36, 256, 5, 25, 100, 43, 838, 112, 50, 670, 2, 9, 35, 480, 284, 5, 150, 4, 172, 112, 167, 2, 336, 385, 39, 4, 172, 4536, 1111, 17, 546, 38, 13, 447, 4, 192, 50, 16, 6, 147, 2025, 19, 14, 22, 4, 1920, 4613, 469, 4, 22, 71, 87, 12, 16, 43, 530, 38, 76, 15, 13, 1247, 4, 22, 17, 515, 17, 12, 16, 626, 18, 2, 5, 62, 386, 12, 8, 316, 8, 106, 5, 4, 2223, 5244, 16, 480, 66, 3785, 33, 4, 130, 12, 16, 38, 619, 5, 25, 124, 51, 36, 135, 48, 25, 1415, 33, 6, 22, 12, 215, 28, 77, 52, 5, 14, 407, 16, 82, 2, 8, 4, 107, 117, 5952, 15, 256, 4, 2, 7, 3766, 5, 723, 36, 71, 43, 530, 476, 26, 400, 317, 46, 7, 4, 2, 1029, 13, 104, 88, 4, 381, 15, 297, 98, 32, 2071, 56, 26, 141, 6, 194, 7486, 18, 4, 226, 22, 21, 134, 476, 26, 480, 5, 144, 30, 5535, 18, 51, 36, 28, 224, 92, 25, 104, 4, 226, 65, 16, 38, 1334, 88, 12, 16, 283, 5, 16, 4472, 113, 103, 32, 15, 16, 5345, 19, 178, 32]\n",
      "학습용 출력데이터 샘플(0:부정/ 1:긍정) : 1\n",
      "테스트용 입력데이터(독립변수) 모양 : (25000,)\n",
      "테스트용 출력데이터(종속변수) 모양 : (25000,)\n",
      "테스트용 입력데이터 샘플 : 68 - [1, 591, 202, 14, 31, 6, 717, 10, 10, 2, 2, 5, 4, 360, 7, 4, 177, 5760, 394, 354, 4, 123, 9, 1035, 1035, 1035, 10, 10, 13, 92, 124, 89, 488, 7944, 100, 28, 1668, 14, 31, 23, 27, 7479, 29, 220, 468, 8, 124, 14, 286, 170, 8, 157, 46, 5, 27, 239, 16, 179, 2, 38, 32, 25, 7944, 451, 202, 14, 6, 717]\n",
      "테스트용 출력데이터 샘플(0:부정/ 1:긍정) : 0\n"
     ]
    }
   ],
   "source": [
    "print('학습용 입력데이터(독립변수) 모양 :', X_train.shape)\n",
    "print('학습용 출력데이터(종속변수) 모양 :', y_train.shape)\n",
    "print('학습용 입력데이터 샘플 :',len(X_train[0]), '-', X_train[0])\n",
    "print('학습용 출력데이터 샘플(0:부정/ 1:긍정) :', y_train[0])\n",
    "\n",
    "print('테스트용 입력데이터(독립변수) 모양 :', X_test.shape)\n",
    "print('테스트용 출력데이터(종속변수) 모양 :', y_test.shape)\n",
    "print('테스트용 입력데이터 샘플 :', len(X_test[0]), '-', X_test[0])\n",
    "print('테스트용 출력데이터 샘플(0:부정/ 1:긍정) :', y_test[0])"
   ]
  },
  {
   "cell_type": "code",
   "execution_count": 5,
   "id": "a3d35bf9",
   "metadata": {},
   "outputs": [
    {
     "name": "stdout",
     "output_type": "stream",
     "text": [
      "학습용 데이터의 긍정 갯수 : 12500\n",
      "테스트용 데이터의 긍정 갯수 : 12500\n"
     ]
    }
   ],
   "source": [
    "# 긍정 갯수\n",
    "print('학습용 데이터의 긍정 갯수 :', y_train.sum())\n",
    "print('테스트용 데이터의 긍정 갯수 :', y_test.sum())"
   ]
  },
  {
   "cell_type": "code",
   "execution_count": 6,
   "id": "4f5d8e45",
   "metadata": {},
   "outputs": [
    {
     "name": "stdout",
     "output_type": "stream",
     "text": [
      "첫 10개 영화평의 길이\n",
      "1번째 218\n",
      "2번째 189\n",
      "3번째 141\n",
      "4번째 550\n",
      "5번째 147\n",
      "6번째 43\n",
      "7번째 123\n",
      "8번째 562\n",
      "9번째 233\n",
      "10번째 130\n"
     ]
    }
   ],
   "source": [
    "# 4. 영화평 학습용 데이터 처음 10개 길이 출력 함수\n",
    "def show_length():\n",
    "    print('첫 10개 영화평의 길이')\n",
    "    for i in range(10):\n",
    "        print(f'{i+1}번째 {len(X_train[i])}')\n",
    "show_length()"
   ]
  },
  {
   "cell_type": "code",
   "execution_count": 7,
   "id": "7c410c5d",
   "metadata": {},
   "outputs": [
    {
     "name": "stdout",
     "output_type": "stream",
     "text": [
      "17\n",
      "19\n",
      "movie\n",
      "film\n"
     ]
    }
   ],
   "source": [
    "# 5. 문자 단어 -> 정수\n",
    "word_to_id = imdb.get_word_index() # dict (문자단어 : 정수 id)\n",
    "print(word_to_id['movie'])\n",
    "print(word_to_id['film'])\n",
    "# 정수 -> 문자 단어\n",
    "id_to_word = {} # dict (정수id : 문자단어)\n",
    "for key, val in word_to_id.items():\n",
    "    id_to_word[val] = key\n",
    "print(id_to_word[17])\n",
    "print(id_to_word[19])"
   ]
  },
  {
   "cell_type": "code",
   "execution_count": 8,
   "id": "b6f6c1e3",
   "metadata": {},
   "outputs": [
    {
     "name": "stdout",
     "output_type": "stream",
     "text": [
      "원 후기 내용 : ['what', 'a', 'wonderful', 'movie']\n",
      "encoded된 data : [1, 51, 6, 389, 20]\n",
      "data 추정 : ??? what a wonderful movie\n"
     ]
    }
   ],
   "source": [
    "msg = 'What a wonderful movie'\n",
    "msg = msg.lower().split()\n",
    "# 1: 리뷰시작을 알리는 숫자, 2: 문자가 짤려서 잘못 읽어옴, 3:\n",
    "data = [1] + [word_to_id.get(m, -1)+3 for m in msg]\n",
    "print('원 후기 내용 :', msg)\n",
    "print('encoded된 data :', data)\n",
    "print('data 추정 :', ' '.join([id_to_word.get(d-3, '???') for d in data]))"
   ]
  },
  {
   "cell_type": "code",
   "execution_count": 9,
   "id": "1dbbb5ab",
   "metadata": {},
   "outputs": [
    {
     "name": "stdout",
     "output_type": "stream",
     "text": [
      "??? this film was just brilliant casting location scenery story direction everyone's really suited the part they played and you could just imagine being there robert ??? is an amazing actor and now the same being director ??? father came from the same scottish island as myself so i loved the fact there was a real connection with this film the witty remarks throughout the film were great it was just brilliant so much that i bought the film as soon as it was released for ??? and would recommend it to everyone to watch and the fly fishing was amazing really cried at the end it was so sad and you know what they say if you cry at a film it must have been good and this definitely was also ??? to the two little boy's that played the ??? of norman and paul they were just brilliant children are often left out of the ??? list i think because the stars that play them all grown up are such a big profile for the whole film but these children are amazing and should be praised for what they have done don't you think the whole story was so lovely because it was true and was someone's life after all that was shared with us all\n"
     ]
    }
   ],
   "source": [
    "# 6. 숫자 영화평 -> 자연어 영화평 함수\n",
    "def decoding(review_num):\n",
    "    decoded = []\n",
    "    for num in review_num:\n",
    "        word = id_to_word.get(num-3, '???')\n",
    "        decoded.append(word)\n",
    "    print(' '.join(decoded))\n",
    "decoding(X_train[0])"
   ]
  },
  {
   "cell_type": "code",
   "execution_count": 10,
   "id": "a8395fd9",
   "metadata": {},
   "outputs": [
    {
     "name": "stdout",
     "output_type": "stream",
     "text": [
      "pad_sequence 작업전\n",
      "첫 10개 영화평의 길이\n",
      "1번째 218\n",
      "2번째 189\n",
      "3번째 141\n",
      "4번째 550\n",
      "5번째 147\n",
      "6번째 43\n",
      "7번째 123\n",
      "8번째 562\n",
      "9번째 233\n",
      "10번째 130\n"
     ]
    }
   ],
   "source": [
    "print('pad_sequence 작업전')\n",
    "show_length()"
   ]
  },
  {
   "cell_type": "code",
   "execution_count": 11,
   "id": "92c7f788",
   "metadata": {},
   "outputs": [
    {
     "name": "stdout",
     "output_type": "stream",
     "text": [
      "첫 10개 영화평의 길이\n",
      "1번째 80\n",
      "2번째 80\n",
      "3번째 80\n",
      "4번째 80\n",
      "5번째 80\n",
      "6번째 80\n",
      "7번째 80\n",
      "8번째 80\n",
      "9번째 80\n",
      "10번째 80\n"
     ]
    }
   ],
   "source": [
    "# 7. 모든 영화평의 길이를 동일하게 만들기\n",
    "X_train = pad_sequences(X_train,  # 2차원\n",
    "                        padding='post',\n",
    "                        truncating='post',  # 뒷부분을 자르고 앞부분을 남김\n",
    "                        maxlen=MY_LENGTH)\n",
    "X_test = pad_sequences(X_test,\n",
    "                       padding='post',\n",
    "                       truncating='post',\n",
    "                       maxlen=MY_LENGTH)\n",
    "show_length()"
   ]
  },
  {
   "cell_type": "code",
   "execution_count": 12,
   "id": "2c602eda",
   "metadata": {},
   "outputs": [
    {
     "data": {
      "text/plain": [
       "((25000, 80), (25000,), (25000, 80), (25000,))"
      ]
     },
     "execution_count": 12,
     "metadata": {},
     "output_type": "execute_result"
    }
   ],
   "source": [
    "# 8. 최종 데이터 shape 확인\n",
    "X_train.shape, y_train.shape, X_test.shape, y_test.shape"
   ]
  },
  {
   "cell_type": "code",
   "execution_count": 13,
   "id": "9eae33f2",
   "metadata": {},
   "outputs": [
    {
     "name": "stdout",
     "output_type": "stream",
     "text": [
      "Model: \"sequential\"\n",
      "_________________________________________________________________\n",
      " Layer (type)                Output Shape              Param #   \n",
      "=================================================================\n",
      " embedding (Embedding)       (None, 80, 32)            320000    \n",
      "                                                                 \n",
      " lstm (LSTM)                 (None, 64)                24832     \n",
      "                                                                 \n",
      " dense (Dense)               (None, 1)                 65        \n",
      "                                                                 \n",
      "=================================================================\n",
      "Total params: 344,897\n",
      "Trainable params: 344,897\n",
      "Non-trainable params: 0\n",
      "_________________________________________________________________\n"
     ]
    }
   ],
   "source": [
    "# 9. 모델 생성 및 구현\n",
    "model = Sequential()\n",
    "model.add(Embedding(input_dim=MY_WORDS,\n",
    "                   output_dim=MY_EMBED,\n",
    "                   input_length=MY_LENGTH))\n",
    "model.add(LSTM(units=MY_HIDDEN,\n",
    "              input_shape=(MY_LENGTH, MY_EMBED)))\n",
    "model.add(Dense(units=1,\n",
    "               activation='sigmoid'))\n",
    "model.summary()"
   ]
  },
  {
   "cell_type": "code",
   "execution_count": 14,
   "id": "95f16da8",
   "metadata": {},
   "outputs": [
    {
     "name": "stdout",
     "output_type": "stream",
     "text": [
      "Epoch 1/10\n",
      "100/100 [==============================] - 4s 15ms/step - loss: 0.5850 - accuracy: 0.6682 - val_loss: 0.4751 - val_accuracy: 0.7992\n",
      "Epoch 2/10\n",
      "100/100 [==============================] - 1s 11ms/step - loss: 0.3586 - accuracy: 0.8472 - val_loss: 0.4054 - val_accuracy: 0.8202\n",
      "Epoch 3/10\n",
      "100/100 [==============================] - 1s 14ms/step - loss: 0.2774 - accuracy: 0.8897 - val_loss: 0.4240 - val_accuracy: 0.8094\n",
      "Epoch 4/10\n",
      "100/100 [==============================] - 2s 22ms/step - loss: 0.2322 - accuracy: 0.9119 - val_loss: 0.4766 - val_accuracy: 0.8020\n",
      "Epoch 5/10\n",
      "100/100 [==============================] - 2s 22ms/step - loss: 0.1980 - accuracy: 0.9269 - val_loss: 0.5042 - val_accuracy: 0.8036\n",
      "Epoch 6/10\n",
      "100/100 [==============================] - 2s 21ms/step - loss: 0.1678 - accuracy: 0.9403 - val_loss: 0.5725 - val_accuracy: 0.7922\n",
      "Epoch 7/10\n",
      "100/100 [==============================] - 2s 21ms/step - loss: 0.1431 - accuracy: 0.9520 - val_loss: 0.6443 - val_accuracy: 0.7920\n",
      "Epoch 8/10\n",
      "100/100 [==============================] - 2s 21ms/step - loss: 0.1255 - accuracy: 0.9565 - val_loss: 0.6868 - val_accuracy: 0.7936\n",
      "Epoch 9/10\n",
      "100/100 [==============================] - 2s 21ms/step - loss: 0.1060 - accuracy: 0.9661 - val_loss: 0.7741 - val_accuracy: 0.7856\n",
      "Epoch 10/10\n",
      "100/100 [==============================] - 2s 23ms/step - loss: 0.0886 - accuracy: 0.9736 - val_loss: 0.8044 - val_accuracy: 0.7852\n",
      "총 학습 시간 : 21.27\n"
     ]
    }
   ],
   "source": [
    "# 10. 학습 환경 설정 및 학습하기\n",
    "model.compile(loss='binary_crossentropy',  # 이중분류 시 손실함수\n",
    "              optimizer='adam', metrics=['accuracy'])\n",
    "begin = time()  # 70.1.1 ~ 현재시점까지의 초\n",
    "model.fit(x=X_train, y=y_train, epochs=MY_EPOCH, batch_size=MY_BATCH, verbose=1, validation_split=0.2)\n",
    "end = time()  # 70.1.1 ~ 현재시점까지의 초\n",
    "print('총 학습 시간 : {:.2f}'.format(end-begin))"
   ]
  },
  {
   "cell_type": "code",
   "execution_count": 15,
   "id": "8f7ab9e7",
   "metadata": {},
   "outputs": [
    {
     "name": "stdout",
     "output_type": "stream",
     "text": [
      "782/782 [==============================] - 6s 7ms/step - loss: 0.9291 - accuracy: 0.7586\n",
      "test데이터 정확도(acc) : 0.7586399912834167\n"
     ]
    }
   ],
   "source": [
    "# 11. 모델 평가\n",
    "loss, acc = model.evaluate(X_test, y_test, verbose=1)\n",
    "print('test데이터 정확도(acc) :', acc)"
   ]
  },
  {
   "cell_type": "code",
   "execution_count": 16,
   "id": "0070051b",
   "metadata": {},
   "outputs": [
    {
     "name": "stdout",
     "output_type": "stream",
     "text": [
      "782/782 [==============================] - 4s 5ms/step\n"
     ]
    },
    {
     "data": {
      "text/plain": [
       "array([0, 1, 1, ..., 0, 0, 1])"
      ]
     },
     "execution_count": 16,
     "metadata": {},
     "output_type": "execute_result"
    }
   ],
   "source": [
    "# 혼돈 행렬\n",
    "pred = model.predict(X_test)\n",
    "y_hat = (pred>0.5).astype(int).reshape(-1)\n",
    "y_hat"
   ]
  },
  {
   "cell_type": "code",
   "execution_count": 17,
   "id": "43ab52ab",
   "metadata": {},
   "outputs": [
    {
     "data": {
      "text/plain": [
       "((25000,), (25000,))"
      ]
     },
     "execution_count": 17,
     "metadata": {},
     "output_type": "execute_result"
    }
   ],
   "source": [
    "y_test.shape, y_hat.shape"
   ]
  },
  {
   "cell_type": "code",
   "execution_count": 18,
   "id": "cff79629",
   "metadata": {},
   "outputs": [
    {
     "data": {
      "text/plain": [
       "array([[9341, 3159],\n",
       "       [2875, 9625]], dtype=int64)"
      ]
     },
     "execution_count": 18,
     "metadata": {},
     "output_type": "execute_result"
    }
   ],
   "source": [
    "confusion_matrix(y_test, y_hat)"
   ]
  },
  {
   "cell_type": "code",
   "execution_count": 19,
   "id": "5eb61486",
   "metadata": {},
   "outputs": [
    {
     "data": {
      "text/html": [
       "<div>\n",
       "<style scoped>\n",
       "    .dataframe tbody tr th:only-of-type {\n",
       "        vertical-align: middle;\n",
       "    }\n",
       "\n",
       "    .dataframe tbody tr th {\n",
       "        vertical-align: top;\n",
       "    }\n",
       "\n",
       "    .dataframe thead th {\n",
       "        text-align: right;\n",
       "    }\n",
       "</style>\n",
       "<table border=\"1\" class=\"dataframe\">\n",
       "  <thead>\n",
       "    <tr style=\"text-align: right;\">\n",
       "      <th>col_0</th>\n",
       "      <th>0</th>\n",
       "      <th>1</th>\n",
       "    </tr>\n",
       "    <tr>\n",
       "      <th>row_0</th>\n",
       "      <th></th>\n",
       "      <th></th>\n",
       "    </tr>\n",
       "  </thead>\n",
       "  <tbody>\n",
       "    <tr>\n",
       "      <th>0</th>\n",
       "      <td>9341</td>\n",
       "      <td>3159</td>\n",
       "    </tr>\n",
       "    <tr>\n",
       "      <th>1</th>\n",
       "      <td>2875</td>\n",
       "      <td>9625</td>\n",
       "    </tr>\n",
       "  </tbody>\n",
       "</table>\n",
       "</div>"
      ],
      "text/plain": [
       "col_0     0     1\n",
       "row_0            \n",
       "0      9341  3159\n",
       "1      2875  9625"
      ]
     },
     "execution_count": 19,
     "metadata": {},
     "output_type": "execute_result"
    }
   ],
   "source": [
    "# accuracy (전체 중 정답을 맞춘 비율) :\n",
    "#          = (TN+TP) / (TN+FP+FN+TP)\n",
    "# precision(정밀도, 민감도 - True로 예측한 것중 맞춘 비율)\n",
    "#          = TP / FP+TP\n",
    "# recall(재현율 - 실제값이 True인 것 중 True로 맞춘 비율)\n",
    "#          = TP / (FN/TP)"
   ]
  },
  {
   "cell_type": "code",
   "execution_count": null,
   "id": "5758f02d",
   "metadata": {},
   "outputs": [],
   "source": []
  }
 ],
 "metadata": {
  "kernelspec": {
   "display_name": "Python 3 (ipykernel)",
   "language": "python",
   "name": "python3"
  },
  "language_info": {
   "codemirror_mode": {
    "name": "ipython",
    "version": 3
   },
   "file_extension": ".py",
   "mimetype": "text/x-python",
   "name": "python",
   "nbconvert_exporter": "python",
   "pygments_lexer": "ipython3",
   "version": "3.10.9"
  },
  "toc": {
   "base_numbering": 1,
   "nav_menu": {},
   "number_sections": true,
   "sideBar": true,
   "skip_h1_title": false,
   "title_cell": "Table of Contents",
   "title_sidebar": "Contents",
   "toc_cell": false,
   "toc_position": {},
   "toc_section_display": true,
   "toc_window_display": false
  }
 },
 "nbformat": 4,
 "nbformat_minor": 5
}
